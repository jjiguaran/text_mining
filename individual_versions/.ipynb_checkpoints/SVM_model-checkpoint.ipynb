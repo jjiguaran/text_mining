{
 "cells": [
  {
   "cell_type": "markdown",
   "metadata": {
    "colab_type": "text",
    "id": "view-in-github"
   },
   "source": [
    "<a href=\"https://colab.research.google.com/github/jjiguaran/text_mining/blob/master/individual_versions/SVM_model.ipynb\" target=\"_parent\"><img src=\"https://colab.research.google.com/assets/colab-badge.svg\" alt=\"Open In Colab\"/></a>"
   ]
  },
  {
   "cell_type": "code",
   "execution_count": 0,
   "metadata": {
    "colab": {},
    "colab_type": "code",
    "id": "g1-GFktFeJM5"
   },
   "outputs": [],
   "source": [
    "# Importar librerias\n",
    "import pandas as pd\n",
    "import numpy as np\n",
    "\n",
    "from sklearn.svm import SVC\n",
    "from sklearn.metrics import roc_auc_score\n",
    "from datetime import date\n"
   ]
  },
  {
   "cell_type": "code",
   "execution_count": 0,
   "metadata": {
    "colab": {},
    "colab_type": "code",
    "id": "1UeNEB6FdahW"
   },
   "outputs": [],
   "source": [
    "#Importar los datasets\n",
    "url_embeddings_average = 'https://raw.githubusercontent.com/jjiguaran/text_mining/master/Data/embeddings_average.csv'\n",
    "url_embeddings_sum = 'https://raw.githubusercontent.com/jjiguaran/text_mining/master/Data/embeddings_sum.csv'\n",
    "\n",
    "embeddings_average = pd.read_csv(url_embeddings_average)\n",
    "embeddings_sum = pd.read_csv(url_embeddings_sum)"
   ]
  },
  {
   "cell_type": "code",
   "execution_count": 3,
   "metadata": {
    "colab": {
     "base_uri": "https://localhost:8080/",
     "height": 34
    },
    "colab_type": "code",
    "id": "q_CB18EcuLTW",
    "outputId": "336eb9da-3cfc-4130-acf4-311a710eb67d"
   },
   "outputs": [
    {
     "data": {
      "text/plain": [
       "1611"
      ]
     },
     "execution_count": 3,
     "metadata": {
      "tags": []
     },
     "output_type": "execute_result"
    }
   ],
   "source": [
    "# Selecciono la fecha para la cual hago el corte de train y test\n",
    "training_end = pd.to_datetime(\"2014-12-31\")\n",
    "num_training = len(embeddings_average[pd.to_datetime(embeddings_average[\"Date\"]) <= training_end])\n",
    "num_training"
   ]
  },
  {
   "cell_type": "markdown",
   "metadata": {
    "colab_type": "text",
    "id": "wiTxjHu33sJi"
   },
   "source": [
    "Usando Embeddings con promedio"
   ]
  },
  {
   "cell_type": "code",
   "execution_count": 0,
   "metadata": {
    "colab": {},
    "colab_type": "code",
    "id": "PGlvS_CUx1cr"
   },
   "outputs": [],
   "source": [
    "# Selecciono el archivo con el que se corre el modelo\n",
    "data = embeddings_average"
   ]
  },
  {
   "cell_type": "code",
   "execution_count": 0,
   "metadata": {
    "colab": {},
    "colab_type": "code",
    "id": "XJx-YIQ52Vaz"
   },
   "outputs": [],
   "source": [
    "# Se separa en train y test\n",
    "x_train = data.drop([data.columns[0],\"Label\", \"Date\"], axis=1)[:num_training]\n",
    "x_test = data.drop([data.columns[0],'Label', 'Date'], axis=1)[num_training:]\n",
    "y_train = data[\"Label\"].values[:num_training]\n",
    "y_test = data[\"Label\"].values[num_training:]"
   ]
  },
  {
   "cell_type": "code",
   "execution_count": 6,
   "metadata": {
    "colab": {
     "base_uri": "https://localhost:8080/",
     "height": 34
    },
    "colab_type": "code",
    "id": "KA5kPk82v78t",
    "outputId": "d3c909c3-353a-406a-accb-95eeb2f934af"
   },
   "outputs": [
    {
     "name": "stdout",
     "output_type": "stream",
     "text": [
      "ROC-AUC yields 0.4424843189964158\n"
     ]
    }
   ],
   "source": [
    "# Clasificador entrenado con train\n",
    "clf = SVC(probability=True, kernel='rbf')\n",
    "clf.fit(x_train, y_train)\n",
    "\n",
    "# Predicciones con test\n",
    "predictions = clf.predict_proba(x_test)\n",
    "print('ROC-AUC yields ' + str(roc_auc_score(y_test, predictions[:,1])))"
   ]
  },
  {
   "cell_type": "markdown",
   "metadata": {
    "colab_type": "text",
    "id": "s9Uew0KW3leE"
   },
   "source": [
    "Usando Embeddings Suma"
   ]
  },
  {
   "cell_type": "code",
   "execution_count": 0,
   "metadata": {
    "colab": {},
    "colab_type": "code",
    "id": "LlQd0Sdg3buA"
   },
   "outputs": [],
   "source": [
    "# Selecciono el archivo con el que se corre el modelo\n",
    "data = embeddings_sum"
   ]
  },
  {
   "cell_type": "code",
   "execution_count": 0,
   "metadata": {
    "colab": {},
    "colab_type": "code",
    "id": "vG7yw-pQ35L4"
   },
   "outputs": [],
   "source": [
    "# Se separa en train y test\n",
    "x_train = data.drop([data.columns[0],\"Label\", \"Date\"], axis=1)[:num_training]\n",
    "x_test = data.drop([data.columns[0],'Label', 'Date'], axis=1)[num_training:]\n",
    "y_train = data[\"Label\"].values[:num_training]\n",
    "y_test = data[\"Label\"].values[num_training:]"
   ]
  },
  {
   "cell_type": "code",
   "execution_count": 11,
   "metadata": {
    "colab": {
     "base_uri": "https://localhost:8080/",
     "height": 34
    },
    "colab_type": "code",
    "id": "ColUMo5B36FP",
    "outputId": "f878e60a-3ca8-4504-95cf-aa4b0fa98e1b"
   },
   "outputs": [
    {
     "name": "stdout",
     "output_type": "stream",
     "text": [
      "ROC-AUC yields 0.5605118727598566\n"
     ]
    }
   ],
   "source": [
    "# Clasificador entrenado con train\n",
    "clf = SVC(probability=True, kernel='rbf')\n",
    "clf.fit(x_train, y_train)\n",
    "\n",
    "# Predicciones con test\n",
    "predictions = clf.predict_proba(x_test)\n",
    "print('ROC-AUC yields ' + str(roc_auc_score(y_test, predictions[:,1])))"
   ]
  },
  {
   "cell_type": "code",
   "execution_count": 0,
   "metadata": {
    "colab": {},
    "colab_type": "code",
    "id": "7ewFKVx1xPAd"
   },
   "outputs": [],
   "source": []
  }
 ],
 "metadata": {
  "colab": {
   "include_colab_link": true,
   "name": "SVM_model",
   "provenance": []
  },
  "kernelspec": {
   "display_name": "Python 3",
   "language": "python",
   "name": "python3"
  },
  "language_info": {
   "codemirror_mode": {
    "name": "ipython",
    "version": 3
   },
   "file_extension": ".py",
   "mimetype": "text/x-python",
   "name": "python",
   "nbconvert_exporter": "python",
   "pygments_lexer": "ipython3",
   "version": "3.7.1"
  }
 },
 "nbformat": 4,
 "nbformat_minor": 1
}
