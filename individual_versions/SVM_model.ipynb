{
  "nbformat": 4,
  "nbformat_minor": 0,
  "metadata": {
    "colab": {
      "name": "SVM_model",
      "provenance": [],
      "include_colab_link": true
    },
    "kernelspec": {
      "display_name": "Python 3",
      "language": "python",
      "name": "python3"
    },
    "language_info": {
      "codemirror_mode": {
        "name": "ipython",
        "version": 3
      },
      "file_extension": ".py",
      "mimetype": "text/x-python",
      "name": "python",
      "nbconvert_exporter": "python",
      "pygments_lexer": "ipython3",
      "version": "3.7.6"
    }
  },
  "cells": [
    {
      "cell_type": "markdown",
      "metadata": {
        "id": "view-in-github",
        "colab_type": "text"
      },
      "source": [
        "<a href=\"https://colab.research.google.com/github/jjiguaran/text_mining/blob/master/individual_versions/SVM_model.ipynb\" target=\"_parent\"><img src=\"https://colab.research.google.com/assets/colab-badge.svg\" alt=\"Open In Colab\"/></a>"
      ]
    },
    {
      "cell_type": "code",
      "metadata": {
        "colab_type": "code",
        "id": "g1-GFktFeJM5",
        "colab": {}
      },
      "source": [
        "# Importar librerias\n",
        "import pandas as pd\n",
        "import numpy as np\n",
        "\n",
        "from sklearn.svm import SVC\n",
        "from sklearn.metrics import roc_auc_score\n",
        "from datetime import date\n"
      ],
      "execution_count": 0,
      "outputs": []
    },
    {
      "cell_type": "code",
      "metadata": {
        "colab_type": "code",
        "id": "1UeNEB6FdahW",
        "colab": {}
      },
      "source": [
        "#Importar los datasets\n",
        "url_embeddings_average = 'https://raw.githubusercontent.com/jjiguaran/text_mining/master/Data/embeddings_average.csv'\n",
        "url_embeddings_sum = 'https://raw.githubusercontent.com/jjiguaran/text_mining/master/Data/embeddings_sum.csv'\n",
        "\n",
        "embeddings_average = pd.read_csv(url_embeddings_average)\n",
        "embeddings_sum = pd.read_csv(url_embeddings_sum)"
      ],
      "execution_count": 0,
      "outputs": []
    },
    {
      "cell_type": "code",
      "metadata": {
        "id": "q_CB18EcuLTW",
        "colab_type": "code",
        "outputId": "336eb9da-3cfc-4130-acf4-311a710eb67d",
        "colab": {
          "base_uri": "https://localhost:8080/",
          "height": 34
        }
      },
      "source": [
        "# Selecciono la fecha para la cual hago el corte de train y test\n",
        "training_end = pd.to_datetime(\"2014-12-31\")\n",
        "num_training = len(embeddings_average[pd.to_datetime(embeddings_average[\"Date\"]) <= training_end])\n",
        "num_training"
      ],
      "execution_count": 3,
      "outputs": [
        {
          "output_type": "execute_result",
          "data": {
            "text/plain": [
              "1611"
            ]
          },
          "metadata": {
            "tags": []
          },
          "execution_count": 3
        }
      ]
    },
    {
      "cell_type": "markdown",
      "metadata": {
        "id": "wiTxjHu33sJi",
        "colab_type": "text"
      },
      "source": [
        "Usando Embeddings con promedio"
      ]
    },
    {
      "cell_type": "code",
      "metadata": {
        "id": "PGlvS_CUx1cr",
        "colab_type": "code",
        "colab": {}
      },
      "source": [
        "# Selecciono el archivo con el que se corre el modelo\n",
        "data = embeddings_average"
      ],
      "execution_count": 0,
      "outputs": []
    },
    {
      "cell_type": "code",
      "metadata": {
        "id": "XJx-YIQ52Vaz",
        "colab_type": "code",
        "colab": {}
      },
      "source": [
        "# Se separa en train y test\n",
        "x_train = data.drop([data.columns[0],\"Label\", \"Date\"], axis=1)[:num_training]\n",
        "x_test = data.drop([data.columns[0],'Label', 'Date'], axis=1)[num_training:]\n",
        "y_train = data[\"Label\"].values[:num_training]\n",
        "y_test = data[\"Label\"].values[num_training:]"
      ],
      "execution_count": 0,
      "outputs": []
    },
    {
      "cell_type": "code",
      "metadata": {
        "id": "KA5kPk82v78t",
        "colab_type": "code",
        "outputId": "d3c909c3-353a-406a-accb-95eeb2f934af",
        "colab": {
          "base_uri": "https://localhost:8080/",
          "height": 34
        }
      },
      "source": [
        "# Clasificador entrenado con train\n",
        "clf = SVC(probability=True, kernel='rbf')\n",
        "clf.fit(x_train, y_train)\n",
        "\n",
        "# Predicciones con test\n",
        "predictions = clf.predict_proba(x_test)\n",
        "print('ROC-AUC yields ' + str(roc_auc_score(y_test, predictions[:,1])))"
      ],
      "execution_count": 6,
      "outputs": [
        {
          "output_type": "stream",
          "text": [
            "ROC-AUC yields 0.4424843189964158\n"
          ],
          "name": "stdout"
        }
      ]
    },
    {
      "cell_type": "markdown",
      "metadata": {
        "id": "s9Uew0KW3leE",
        "colab_type": "text"
      },
      "source": [
        "Usando Embeddings Suma"
      ]
    },
    {
      "cell_type": "code",
      "metadata": {
        "id": "LlQd0Sdg3buA",
        "colab_type": "code",
        "colab": {}
      },
      "source": [
        "# Selecciono el archivo con el que se corre el modelo\n",
        "data = embeddings_sum"
      ],
      "execution_count": 0,
      "outputs": []
    },
    {
      "cell_type": "code",
      "metadata": {
        "id": "vG7yw-pQ35L4",
        "colab_type": "code",
        "colab": {}
      },
      "source": [
        "# Se separa en train y test\n",
        "x_train = data.drop([data.columns[0],\"Label\", \"Date\"], axis=1)[:num_training]\n",
        "x_test = data.drop([data.columns[0],'Label', 'Date'], axis=1)[num_training:]\n",
        "y_train = data[\"Label\"].values[:num_training]\n",
        "y_test = data[\"Label\"].values[num_training:]"
      ],
      "execution_count": 0,
      "outputs": []
    },
    {
      "cell_type": "code",
      "metadata": {
        "id": "ColUMo5B36FP",
        "colab_type": "code",
        "outputId": "f878e60a-3ca8-4504-95cf-aa4b0fa98e1b",
        "colab": {
          "base_uri": "https://localhost:8080/",
          "height": 34
        }
      },
      "source": [
        "# Clasificador entrenado con train\n",
        "clf = SVC(probability=True, kernel='rbf')\n",
        "clf.fit(x_train, y_train)\n",
        "\n",
        "# Predicciones con test\n",
        "predictions = clf.predict_proba(x_test)\n",
        "print('ROC-AUC yields ' + str(roc_auc_score(y_test, predictions[:,1])))"
      ],
      "execution_count": 11,
      "outputs": [
        {
          "output_type": "stream",
          "text": [
            "ROC-AUC yields 0.5605118727598566\n"
          ],
          "name": "stdout"
        }
      ]
    },
    {
      "cell_type": "code",
      "metadata": {
        "id": "7ewFKVx1xPAd",
        "colab_type": "code",
        "colab": {}
      },
      "source": [
        ""
      ],
      "execution_count": 0,
      "outputs": []
    }
  ]
}