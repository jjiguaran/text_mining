{
 "cells": [
  {
   "cell_type": "code",
   "execution_count": 1,
   "metadata": {
    "colab": {},
    "colab_type": "code",
    "id": "4TpJ9odvoOvk"
   },
   "outputs": [
    {
     "name": "stderr",
     "output_type": "stream",
     "text": [
      "[nltk_data] Downloading package movie_reviews to\n",
      "[nltk_data]     C:\\Users\\srossi\\AppData\\Roaming\\nltk_data...\n",
      "[nltk_data]   Unzipping corpora\\movie_reviews.zip.\n",
      "[nltk_data] Downloading package punkt to\n",
      "[nltk_data]     C:\\Users\\srossi\\AppData\\Roaming\\nltk_data...\n",
      "[nltk_data]   Unzipping tokenizers\\punkt.zip.\n"
     ]
    }
   ],
   "source": [
    "import nltk\n",
    "nltk.download('movie_reviews')\n",
    "nltk.download('punkt')\n",
    "\n",
    "import re\n",
    "import pandas as pd\n",
    "\n",
    "import matplotlib.pyplot as plt\n",
    "from nltk.corpus import movie_reviews\n",
    "from nltk import word_tokenize, sent_tokenize\n",
    "\n",
    "from sklearn.model_selection import train_test_split, cross_val_score, GridSearchCV\n",
    "from sklearn.feature_extraction.text import CountVectorizer, TfidfVectorizer\n",
    "from sklearn.naive_bayes import MultinomialNB\n",
    "from sklearn.linear_model import LogisticRegression\n",
    "from sklearn.pipeline import Pipeline\n",
    "from sklearn.feature_selection import SelectKBest, mutual_info_classif\n",
    "from sklearn.metrics import f1_score\n"
   ]
  },
  {
   "cell_type": "code",
   "execution_count": 2,
   "metadata": {
    "colab": {},
    "colab_type": "code",
    "id": "T_Y7jefW1bcj"
   },
   "outputs": [],
   "source": [
    "documents = []\n",
    " \n",
    "for category in movie_reviews.categories():\n",
    "    for fileid in movie_reviews.fileids(category):\n",
    "        documents.append((movie_reviews.raw(fileid), category))\n",
    "\n",
    "df = pd.DataFrame(documents, columns=['review', 'tag'])\n",
    "\n",
    "df = df.sample(frac=1,random_state=0).reset_index(drop=True).copy()\n",
    "# separamos entre train y test sets\n",
    "X = df.review\n",
    "y = df.tag\n",
    "X_train_text, X_test_text, y_train, y_test = train_test_split(X,y,stratify=y, test_size=0.20, random_state=1234)\n",
    "\n",
    "# Limpieza del texto\n",
    "def clean_text(text):\n",
    "  # En este caso particular no hace falta limpiar los textos\n",
    "  return text.strip()\n",
    "\n",
    "def tokenizer(text):\n",
    "    return [w for w in word_tokenize(text) if w.isalpha()] # si solo nos interesan palabras"
   ]
  },
  {
   "cell_type": "markdown",
   "metadata": {
    "colab_type": "text",
    "id": "_anROJS01bco"
   },
   "source": [
    "# Naive Bayes con GridSearch y PreProcesamiento"
   ]
  },
  {
   "cell_type": "code",
   "execution_count": 3,
   "metadata": {
    "colab": {},
    "colab_type": "code",
    "id": "kuaPEovO1bdu"
   },
   "outputs": [
    {
     "data": {
      "text/plain": [
       "GridSearchCV(cv=5, error_score=nan,\n",
       "             estimator=Pipeline(memory=None,\n",
       "                                steps=[('tfidf',\n",
       "                                        TfidfVectorizer(analyzer='word',\n",
       "                                                        binary=False,\n",
       "                                                        decode_error='strict',\n",
       "                                                        dtype=<class 'numpy.float64'>,\n",
       "                                                        encoding='utf-8',\n",
       "                                                        input='content',\n",
       "                                                        lowercase=True,\n",
       "                                                        max_df=1.0,\n",
       "                                                        max_features=None,\n",
       "                                                        min_df=1,\n",
       "                                                        ngram_range=(1, 1),\n",
       "                                                        norm='l2',\n",
       "                                                        preprocessor=<function clean_text at 0x000001DD21251558>,\n",
       "                                                        smoot...\n",
       "                                                        tokenizer=<function tokenizer at 0x000001DD21251318>,\n",
       "                                                        use_idf=True,\n",
       "                                                        vocabulary=None)),\n",
       "                                       ('clf',\n",
       "                                        MultinomialNB(alpha=1.0,\n",
       "                                                      class_prior=None,\n",
       "                                                      fit_prior=True))],\n",
       "                                verbose=False),\n",
       "             iid='deprecated', n_jobs=-1,\n",
       "             param_grid={'clf__alpha': [0.01, 0.1],\n",
       "                         'tfidf__min_df': [0.05, 0.1],\n",
       "                         'tfidf__ngram_range': [(1, 2)]},\n",
       "             pre_dispatch='2*n_jobs', refit=True, return_train_score=True,\n",
       "             scoring='f1_macro', verbose=0)"
      ]
     },
     "execution_count": 3,
     "metadata": {},
     "output_type": "execute_result"
    }
   ],
   "source": [
    "# Defino el pipeline\n",
    "pipeline_NB = Pipeline([('tfidf', TfidfVectorizer(preprocessor=clean_text, tokenizer=tokenizer, stop_words=\"english\")),\n",
    "                     ('clf', MultinomialNB())])\n",
    "\n",
    "parameters_NB = {'tfidf__ngram_range': [(1, 2)],\n",
    "              'tfidf__min_df': [.05, .1],\n",
    "              'clf__alpha': [0.01,0.1]}\n",
    "\n",
    "# Fit and tune model\n",
    "clf_pipe_feature_sel_NB = GridSearchCV(pipeline_NB, parameters_NB,scoring='f1_macro',cv=5,return_train_score=True, n_jobs=-1)\n",
    "clf_pipe_feature_sel_NB.fit(X_train_text, y_train)"
   ]
  },
  {
   "cell_type": "code",
   "execution_count": 0,
   "metadata": {
    "colab": {},
    "colab_type": "code",
    "id": "rel4pctz1bdx"
   },
   "outputs": [],
   "source": [
    "best_pipeline_feature_sel_NB = clf_pipe_feature_sel_NB.best_estimator_\n",
    "print(\"Best Cross-Validation:\",clf_pipe_feature_sel_NB.best_score_)\n",
    "print(\"\\nBest parameters set:\")\n",
    "best_parameters_NB = best_pipeline_feature_sel_NB.get_params()\n",
    "print(\"tfidf__ngram_range:\",best_parameters_NB[\"tfidf__ngram_range\"])\n",
    "print(\"tfidf__min_df:\",best_parameters_NB[\"tfidf__min_df\"])\n",
    "print(\"clf__alpha:\",best_parameters_NB[\"clf__alpha\"])"
   ]
  },
  {
   "cell_type": "markdown",
   "metadata": {
    "colab_type": "text",
    "id": "oog6X-wS1bc4"
   },
   "source": [
    "# Regresión Logística\n",
    "\n",
    "\n",
    "---\n",
    "\n",
    "\n"
   ]
  },
  {
   "cell_type": "code",
   "execution_count": 0,
   "metadata": {
    "colab": {},
    "colab_type": "code",
    "id": "KZbbObaZ1bc5"
   },
   "outputs": [],
   "source": [
    "pipeline_log = Pipeline([('tfidf', TfidfVectorizer(preprocessor=clean_text, tokenizer=tokenizer, stop_words=\"english\")),\n",
    "                     ('clf', LogisticRegression(random_state=0, multi_class='ovr'))])\n",
    "\n",
    "parameters_log = {'tfidf__ngram_range': [(1, 2), (1, 3)],\n",
    "              'tfidf__min_df': [.05, .1],\n",
    "              'clf__penalty': ['l1','l2']}\n",
    "\n",
    "# Fit and tune model\n",
    "clf_pipe_feature_sel_log = GridSearchCV(pipeline_log, parameters_log,scoring='f1_macro',cv=5,return_train_score=True, n_jobs=-1)\n",
    "clf_pipe_feature_sel_log.fit(X_train_text, y_train)\n"
   ]
  },
  {
   "cell_type": "code",
   "execution_count": 0,
   "metadata": {
    "colab": {},
    "colab_type": "code",
    "id": "8gUei-vaAQEQ"
   },
   "outputs": [],
   "source": [
    "best_pipeline_feature_sel_log = clf_pipe_feature_sel_log.best_estimator_\n",
    "print(\"Best Cross-Validation:\",clf_pipe_feature_sel_log.best_score_)\n",
    "print(\"\\nBest parameters set:\")\n",
    "best_parameters_log = best_pipeline_feature_sel_log.get_params()\n",
    "print(\"tfidf__ngram_range:\",best_parameters_log[\"tfidf__ngram_range\"])\n",
    "print(\"tfidf__min_df:\",best_parameters_log[\"tfidf__min_df\"])\n",
    "print(\"clf__penalty:\",best_parameters_log[\"clf__penalty\"])"
   ]
  },
  {
   "cell_type": "markdown",
   "metadata": {
    "colab_type": "text",
    "id": "1AsAfkdnUWY5"
   },
   "source": [
    "# Performance en el TestSet"
   ]
  },
  {
   "cell_type": "code",
   "execution_count": 0,
   "metadata": {
    "colab": {},
    "colab_type": "code",
    "id": "DU4pQFzzSdc7"
   },
   "outputs": [],
   "source": [
    "print(\"Naive Bayes tf-idf = \", f1_score(y_test, best_pipeline_feature_sel_NB.predict(X_test_text), average=\"macro\"))\n",
    "print(\"Regresión Logística tf-idf = \", f1_score(y_test, best_pipeline_feature_sel_log.predict(X_test_text), average=\"macro\"))\n"
   ]
  },
  {
   "cell_type": "markdown",
   "metadata": {
    "colab_type": "text",
    "id": "WRiGJ9lV1bc_"
   },
   "source": [
    "# Feature Importance\n"
   ]
  },
  {
   "cell_type": "code",
   "execution_count": 0,
   "metadata": {
    "colab": {},
    "colab_type": "code",
    "id": "bO4Pu5ITLf7m"
   },
   "outputs": [],
   "source": [
    "pipeline_FI = Pipeline([('tfidf', TfidfVectorizer(preprocessor=clean_text, \n",
    "                                               tokenizer=tokenizer, \n",
    "                                               stop_words=\"english\", \n",
    "                                               ngram_range = (1,1),\n",
    "                                               min_df      = best_parameters_log[\"tfidf__min_df\"])),\n",
    "                     ('clf', LogisticRegression(random_state=0, \n",
    "                                                multi_class='ovr',\n",
    "                                                solver = 'lbfgs',\n",
    "                                                penalty = best_parameters_log[\"clf__penalty\"]))])\n",
    "\n",
    "m = pipeline_FI.fit(X_train_text, y_train)\n",
    "\n",
    "features = m[0].vocabulary_\n",
    "weights  = m[1].coef_[0]\n"
   ]
  },
  {
   "cell_type": "markdown",
   "metadata": {
    "colab_type": "text",
    "id": "GrvsRkCpLr-d"
   },
   "source": [
    "## Palabras importantes para clasificar reviews Postitivos"
   ]
  },
  {
   "cell_type": "code",
   "execution_count": 0,
   "metadata": {
    "colab": {},
    "colab_type": "code",
    "id": "EOh8VmJr1bc8"
   },
   "outputs": [],
   "source": [
    "important_Poswords = pd.Series(weights,index=features).sort_values(ascending=False)[:25]\n",
    "important_Poswords.plot(kind=\"bar\",figsize=(15,5),color=\"darkgreen\")\n",
    "plt.ylabel(\"Feature importance\",size=20);plt.xticks(size = 20);plt.yticks(size = 20)"
   ]
  },
  {
   "cell_type": "markdown",
   "metadata": {
    "colab_type": "text",
    "id": "16ymztdUl5to"
   },
   "source": [
    "## Palabras importantes para clasificar reviews Negativos"
   ]
  },
  {
   "cell_type": "code",
   "execution_count": 0,
   "metadata": {
    "colab": {},
    "colab_type": "code",
    "id": "B2072JVzDrfp"
   },
   "outputs": [],
   "source": [
    "important_Negwords = pd.Series(weights,index=features).sort_values(ascending=False)[-25:]\n",
    "important_Negwords.plot(kind=\"bar\",figsize=(15,5),color=\"darkgreen\")\n",
    "plt.ylabel(\"Feature importance\",size=20);plt.xticks(size = 20);plt.yticks(size = 20)"
   ]
  },
  {
   "cell_type": "markdown",
   "metadata": {
    "colab_type": "text",
    "id": "YHMiVUjV1bdK"
   },
   "source": [
    "# TF-IDF\n",
    "### ejemplo"
   ]
  },
  {
   "cell_type": "code",
   "execution_count": 4,
   "metadata": {
    "colab": {},
    "colab_type": "code",
    "id": "qyMJsb4Q1bdL"
   },
   "outputs": [],
   "source": [
    "vectorizer = TfidfVectorizer(preprocessor=clean_text, tokenizer=tokenizer)"
   ]
  },
  {
   "cell_type": "code",
   "execution_count": 5,
   "metadata": {
    "colab": {},
    "colab_type": "code",
    "id": "1uCXGusJ1bdN"
   },
   "outputs": [],
   "source": [
    "train_text = [\"mono mono cabra\",\n",
    "              \"mono mono elefante\",\n",
    "              \"mono mono\",\n",
    "              \"mono mono mono mono\",\n",
    "              \"mono\",\n",
    "              \"mono\",\n",
    "              \"elefante\"]"
   ]
  },
  {
   "cell_type": "code",
   "execution_count": 6,
   "metadata": {
    "colab": {},
    "colab_type": "code",
    "id": "GUxyNe1N1bdQ"
   },
   "outputs": [],
   "source": [
    "tfidf = vectorizer.fit_transform(train_text)"
   ]
  },
  {
   "cell_type": "code",
   "execution_count": 7,
   "metadata": {
    "colab": {},
    "colab_type": "code",
    "id": "gjR6R1Sj1bdS"
   },
   "outputs": [
    {
     "name": "stdout",
     "output_type": "stream",
     "text": [
      "['cabra', 'elefante', 'mono']\n"
     ]
    }
   ],
   "source": [
    "print(vectorizer.get_feature_names())"
   ]
  },
  {
   "cell_type": "code",
   "execution_count": 8,
   "metadata": {
    "colab": {},
    "colab_type": "code",
    "id": "u6-FRIXT1bdX"
   },
   "outputs": [
    {
     "data": {
      "text/plain": [
       "array([[0.72498682, 0.        , 0.68876274],\n",
       "       [0.        , 0.65796814, 0.75304577],\n",
       "       [0.        , 0.        , 1.        ],\n",
       "       [0.        , 0.        , 1.        ],\n",
       "       [0.        , 0.        , 1.        ],\n",
       "       [0.        , 0.        , 1.        ],\n",
       "       [0.        , 1.        , 0.        ]])"
      ]
     },
     "execution_count": 8,
     "metadata": {},
     "output_type": "execute_result"
    }
   ],
   "source": [
    "tfidf.toarray()"
   ]
  },
  {
   "cell_type": "code",
   "execution_count": 9,
   "metadata": {
    "colab": {},
    "colab_type": "code",
    "id": "i6sSa1cr1bdb"
   },
   "outputs": [
    {
     "data": {
      "text/plain": [
       "array([2.38629436, 1.98082925, 1.13353139])"
      ]
     },
     "execution_count": 9,
     "metadata": {},
     "output_type": "execute_result"
    }
   ],
   "source": [
    "vectorizer.idf_"
   ]
  },
  {
   "cell_type": "code",
   "execution_count": 10,
   "metadata": {
    "colab": {},
    "colab_type": "code",
    "id": "ovJuxEId1bdf"
   },
   "outputs": [
    {
     "data": {
      "text/plain": [
       "array([[0.90327141, 0.        , 0.42906965],\n",
       "       [0.72268898, 0.59989392, 0.34328986],\n",
       "       [0.        , 0.        , 1.        ]])"
      ]
     },
     "execution_count": 10,
     "metadata": {},
     "output_type": "execute_result"
    }
   ],
   "source": [
    "vectorizer.transform([\"mono cabra\",\n",
    "                      \"mono cabra elefante\",\n",
    "                      \"perro mono\"]).toarray()"
   ]
  },
  {
   "cell_type": "code",
   "execution_count": 0,
   "metadata": {
    "colab": {},
    "colab_type": "code",
    "id": "U9IyUqVBaTGr"
   },
   "outputs": [],
   "source": []
  }
 ],
 "metadata": {
  "colab": {
   "name": "4. Clasificacion II.ipynb",
   "provenance": []
  },
  "kernelspec": {
   "display_name": "Python 3",
   "language": "python",
   "name": "python3"
  },
  "language_info": {
   "codemirror_mode": {
    "name": "ipython",
    "version": 3
   },
   "file_extension": ".py",
   "mimetype": "text/x-python",
   "name": "python",
   "nbconvert_exporter": "python",
   "pygments_lexer": "ipython3",
   "version": "3.7.6"
  }
 },
 "nbformat": 4,
 "nbformat_minor": 1
}
