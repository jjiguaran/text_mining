{
 "cells": [
  {
   "cell_type": "markdown",
   "metadata": {
    "colab_type": "text",
    "id": "view-in-github"
   },
   "source": [
    "<a href=\"https://colab.research.google.com/github/jjiguaran/text_mining/blob/master/individual_versions/Topics_noticias_reddit_edgar.ipynb\" target=\"_parent\"><img src=\"https://colab.research.google.com/assets/colab-badge.svg\" alt=\"Open In Colab\"/></a>"
   ]
  },
  {
   "cell_type": "code",
   "execution_count": 1,
   "metadata": {
    "colab": {},
    "colab_type": "code",
    "id": "g1-GFktFeJM5"
   },
   "outputs": [],
   "source": [
    "# Importar librerias\n",
    "import pandas as pd\n"
   ]
  },
  {
   "cell_type": "code",
   "execution_count": 2,
   "metadata": {
    "colab": {},
    "colab_type": "code",
    "id": "1UeNEB6FdahW"
   },
   "outputs": [],
   "source": [
    "#Importar los datasets\n",
    "url_reddit = 'https://raw.githubusercontent.com/jjiguaran/text_mining/master/Data/RedditNews.csv'\n",
    "url_combined = 'https://raw.githubusercontent.com/jjiguaran/text_mining/master/Data/Combined_News_DJIA.csv'\n",
    "RedditNews = pd.read_csv(url_reddit)\n",
    "CombinedNews = pd.read_csv(url_combined)\n",
    "\n",
    "\n",
    "RedditNews['Date'] =  pd.to_datetime(RedditNews['Date'], format='%Y-%m-%d')\n",
    "CombinedNews['Date'] =  pd.to_datetime(CombinedNews['Date'], format='%Y-%m-%d')\n"
   ]
  },
  {
   "cell_type": "code",
   "execution_count": 3,
   "metadata": {
    "colab": {
     "base_uri": "https://localhost:8080/",
     "height": 204
    },
    "colab_type": "code",
    "id": "zPMujle0jjTx",
    "outputId": "c24b2f5f-1af0-48e0-9be7-3ddb3b98d16c"
   },
   "outputs": [
    {
     "data": {
      "text/html": [
       "<div>\n",
       "<style scoped>\n",
       "    .dataframe tbody tr th:only-of-type {\n",
       "        vertical-align: middle;\n",
       "    }\n",
       "\n",
       "    .dataframe tbody tr th {\n",
       "        vertical-align: top;\n",
       "    }\n",
       "\n",
       "    .dataframe thead th {\n",
       "        text-align: right;\n",
       "    }\n",
       "</style>\n",
       "<table border=\"1\" class=\"dataframe\">\n",
       "  <thead>\n",
       "    <tr style=\"text-align: right;\">\n",
       "      <th></th>\n",
       "      <th>Date</th>\n",
       "      <th>News</th>\n",
       "    </tr>\n",
       "  </thead>\n",
       "  <tbody>\n",
       "    <tr>\n",
       "      <th>0</th>\n",
       "      <td>2016-07-01</td>\n",
       "      <td>A 117-year-old woman in Mexico City finally re...</td>\n",
       "    </tr>\n",
       "    <tr>\n",
       "      <th>1</th>\n",
       "      <td>2016-07-01</td>\n",
       "      <td>IMF chief backs Athens as permanent Olympic host</td>\n",
       "    </tr>\n",
       "    <tr>\n",
       "      <th>2</th>\n",
       "      <td>2016-07-01</td>\n",
       "      <td>The president of France says if Brexit won, so...</td>\n",
       "    </tr>\n",
       "    <tr>\n",
       "      <th>3</th>\n",
       "      <td>2016-07-01</td>\n",
       "      <td>British Man Who Must Give Police 24 Hours' Not...</td>\n",
       "    </tr>\n",
       "    <tr>\n",
       "      <th>4</th>\n",
       "      <td>2016-07-01</td>\n",
       "      <td>100+ Nobel laureates urge Greenpeace to stop o...</td>\n",
       "    </tr>\n",
       "  </tbody>\n",
       "</table>\n",
       "</div>"
      ],
      "text/plain": [
       "        Date                                               News\n",
       "0 2016-07-01  A 117-year-old woman in Mexico City finally re...\n",
       "1 2016-07-01   IMF chief backs Athens as permanent Olympic host\n",
       "2 2016-07-01  The president of France says if Brexit won, so...\n",
       "3 2016-07-01  British Man Who Must Give Police 24 Hours' Not...\n",
       "4 2016-07-01  100+ Nobel laureates urge Greenpeace to stop o..."
      ]
     },
     "execution_count": 3,
     "metadata": {},
     "output_type": "execute_result"
    }
   ],
   "source": [
    "# Exploramos redditnews\n",
    "RedditNews.head()"
   ]
  },
  {
   "cell_type": "code",
   "execution_count": 4,
   "metadata": {
    "colab": {
     "base_uri": "https://localhost:8080/",
     "height": 683
    },
    "colab_type": "code",
    "id": "TSDQKqDki7ru",
    "outputId": "e489efaf-906a-4293-82fe-1ff8891730e0"
   },
   "outputs": [
    {
     "data": {
      "text/html": [
       "<div>\n",
       "<style scoped>\n",
       "    .dataframe tbody tr th:only-of-type {\n",
       "        vertical-align: middle;\n",
       "    }\n",
       "\n",
       "    .dataframe tbody tr th {\n",
       "        vertical-align: top;\n",
       "    }\n",
       "\n",
       "    .dataframe thead th {\n",
       "        text-align: right;\n",
       "    }\n",
       "</style>\n",
       "<table border=\"1\" class=\"dataframe\">\n",
       "  <thead>\n",
       "    <tr style=\"text-align: right;\">\n",
       "      <th></th>\n",
       "      <th>Date</th>\n",
       "      <th>Label</th>\n",
       "      <th>Top1</th>\n",
       "      <th>Top2</th>\n",
       "      <th>Top3</th>\n",
       "      <th>Top4</th>\n",
       "      <th>Top5</th>\n",
       "      <th>Top6</th>\n",
       "      <th>Top7</th>\n",
       "      <th>Top8</th>\n",
       "      <th>...</th>\n",
       "      <th>Top16</th>\n",
       "      <th>Top17</th>\n",
       "      <th>Top18</th>\n",
       "      <th>Top19</th>\n",
       "      <th>Top20</th>\n",
       "      <th>Top21</th>\n",
       "      <th>Top22</th>\n",
       "      <th>Top23</th>\n",
       "      <th>Top24</th>\n",
       "      <th>Top25</th>\n",
       "    </tr>\n",
       "  </thead>\n",
       "  <tbody>\n",
       "    <tr>\n",
       "      <th>0</th>\n",
       "      <td>2008-08-08</td>\n",
       "      <td>0</td>\n",
       "      <td>b\"Georgia 'downs two Russian warplanes' as cou...</td>\n",
       "      <td>b'BREAKING: Musharraf to be impeached.'</td>\n",
       "      <td>b'Russia Today: Columns of troops roll into So...</td>\n",
       "      <td>b'Russian tanks are moving towards the capital...</td>\n",
       "      <td>b\"Afghan children raped with 'impunity,' U.N. ...</td>\n",
       "      <td>b'150 Russian tanks have entered South Ossetia...</td>\n",
       "      <td>b\"Breaking: Georgia invades South Ossetia, Rus...</td>\n",
       "      <td>b\"The 'enemy combatent' trials are nothing but...</td>\n",
       "      <td>...</td>\n",
       "      <td>b'Georgia Invades South Ossetia - if Russia ge...</td>\n",
       "      <td>b'Al-Qaeda Faces Islamist Backlash'</td>\n",
       "      <td>b'Condoleezza Rice: \"The US would not act to p...</td>\n",
       "      <td>b'This is a busy day:  The European Union has ...</td>\n",
       "      <td>b\"Georgia will withdraw 1,000 soldiers from Ir...</td>\n",
       "      <td>b'Why the Pentagon Thinks Attacking Iran is a ...</td>\n",
       "      <td>b'Caucasus in crisis: Georgia invades South Os...</td>\n",
       "      <td>b'Indian shoe manufactory  - And again in a se...</td>\n",
       "      <td>b'Visitors Suffering from Mental Illnesses Ban...</td>\n",
       "      <td>b\"No Help for Mexico's Kidnapping Surge\"</td>\n",
       "    </tr>\n",
       "    <tr>\n",
       "      <th>1</th>\n",
       "      <td>2008-08-11</td>\n",
       "      <td>1</td>\n",
       "      <td>b'Why wont America and Nato help us? If they w...</td>\n",
       "      <td>b'Bush puts foot down on Georgian conflict'</td>\n",
       "      <td>b\"Jewish Georgian minister: Thanks to Israeli ...</td>\n",
       "      <td>b'Georgian army flees in disarray as Russians ...</td>\n",
       "      <td>b\"Olympic opening ceremony fireworks 'faked'\"</td>\n",
       "      <td>b'What were the Mossad with fraudulent New Zea...</td>\n",
       "      <td>b'Russia angered by Israeli military sale to G...</td>\n",
       "      <td>b'An American citizen living in S.Ossetia blam...</td>\n",
       "      <td>...</td>\n",
       "      <td>b'Israel and the US behind the Georgian aggres...</td>\n",
       "      <td>b'\"Do not believe TV, neither Russian nor Geor...</td>\n",
       "      <td>b'Riots are still going on in Montreal (Canada...</td>\n",
       "      <td>b'China to overtake US as largest manufacturer'</td>\n",
       "      <td>b'War in South Ossetia [PICS]'</td>\n",
       "      <td>b'Israeli Physicians Group Condemns State Tort...</td>\n",
       "      <td>b' Russia has just beaten the United States ov...</td>\n",
       "      <td>b'Perhaps *the* question about the Georgia - R...</td>\n",
       "      <td>b'Russia is so much better at war'</td>\n",
       "      <td>b\"So this is what it's come to: trading sex fo...</td>\n",
       "    </tr>\n",
       "    <tr>\n",
       "      <th>2</th>\n",
       "      <td>2008-08-12</td>\n",
       "      <td>0</td>\n",
       "      <td>b'Remember that adorable 9-year-old who sang a...</td>\n",
       "      <td>b\"Russia 'ends Georgia operation'\"</td>\n",
       "      <td>b'\"If we had no sexual harassment we would hav...</td>\n",
       "      <td>b\"Al-Qa'eda is losing support in Iraq because ...</td>\n",
       "      <td>b'Ceasefire in Georgia: Putin Outmaneuvers the...</td>\n",
       "      <td>b'Why Microsoft and Intel tried to kill the XO...</td>\n",
       "      <td>b'Stratfor: The Russo-Georgian War and the Bal...</td>\n",
       "      <td>b\"I'm Trying to Get a Sense of This Whole Geor...</td>\n",
       "      <td>...</td>\n",
       "      <td>b'U.S. troops still in Georgia (did you know t...</td>\n",
       "      <td>b'Why Russias response to Georgia was right'</td>\n",
       "      <td>b'Gorbachev accuses U.S. of making a \"serious ...</td>\n",
       "      <td>b'Russia, Georgia, and NATO: Cold War Two'</td>\n",
       "      <td>b'Remember that adorable 62-year-old who led y...</td>\n",
       "      <td>b'War in Georgia: The Israeli connection'</td>\n",
       "      <td>b'All signs point to the US encouraging Georgi...</td>\n",
       "      <td>b'Christopher King argues that the US and NATO...</td>\n",
       "      <td>b'America: The New Mexico?'</td>\n",
       "      <td>b\"BBC NEWS | Asia-Pacific | Extinction 'by man...</td>\n",
       "    </tr>\n",
       "    <tr>\n",
       "      <th>3</th>\n",
       "      <td>2008-08-13</td>\n",
       "      <td>0</td>\n",
       "      <td>b' U.S. refuses Israel weapons to attack Iran:...</td>\n",
       "      <td>b\"When the president ordered to attack Tskhinv...</td>\n",
       "      <td>b' Israel clears troops who killed Reuters cam...</td>\n",
       "      <td>b'Britain\\'s policy of being tough on drugs is...</td>\n",
       "      <td>b'Body of 14 year old found in trunk; Latest (...</td>\n",
       "      <td>b'China has moved 10 *million* quake survivors...</td>\n",
       "      <td>b\"Bush announces Operation Get All Up In Russi...</td>\n",
       "      <td>b'Russian forces sink Georgian ships '</td>\n",
       "      <td>...</td>\n",
       "      <td>b'Elephants extinct by 2020?'</td>\n",
       "      <td>b'US humanitarian missions soon in Georgia - i...</td>\n",
       "      <td>b\"Georgia's DDOS came from US sources\"</td>\n",
       "      <td>b'Russian convoy heads into Georgia, violating...</td>\n",
       "      <td>b'Israeli defence minister: US against strike ...</td>\n",
       "      <td>b'Gorbachev: We Had No Choice'</td>\n",
       "      <td>b'Witness: Russian forces head towards Tbilisi...</td>\n",
       "      <td>b' Quarter of Russians blame U.S. for conflict...</td>\n",
       "      <td>b'Georgian president  says US military will ta...</td>\n",
       "      <td>b'2006: Nobel laureate Aleksander Solzhenitsyn...</td>\n",
       "    </tr>\n",
       "    <tr>\n",
       "      <th>4</th>\n",
       "      <td>2008-08-14</td>\n",
       "      <td>1</td>\n",
       "      <td>b'All the experts admit that we should legalis...</td>\n",
       "      <td>b'War in South Osetia - 89 pictures made by a ...</td>\n",
       "      <td>b'Swedish wrestler Ara Abrahamian throws away ...</td>\n",
       "      <td>b'Russia exaggerated the death toll in South O...</td>\n",
       "      <td>b'Missile That Killed 9 Inside Pakistan May Ha...</td>\n",
       "      <td>b\"Rushdie Condemns Random House's Refusal to P...</td>\n",
       "      <td>b'Poland and US agree to missle defense deal. ...</td>\n",
       "      <td>b'Will the Russians conquer Tblisi? Bet on it,...</td>\n",
       "      <td>...</td>\n",
       "      <td>b'Bank analyst forecast Georgian crisis 2 days...</td>\n",
       "      <td>b\"Georgia confict could set back Russia's US r...</td>\n",
       "      <td>b'War in the Caucasus is as much the product o...</td>\n",
       "      <td>b'\"Non-media\" photos of South Ossetia/Georgia ...</td>\n",
       "      <td>b'Georgian TV reporter shot by Russian sniper ...</td>\n",
       "      <td>b'Saudi Arabia: Mother moves to block child ma...</td>\n",
       "      <td>b'Taliban wages war on humanitarian aid workers'</td>\n",
       "      <td>b'Russia: World  \"can forget about\" Georgia\\'s...</td>\n",
       "      <td>b'Darfur rebels accuse Sudan of mounting major...</td>\n",
       "      <td>b'Philippines : Peace Advocate say Muslims nee...</td>\n",
       "    </tr>\n",
       "  </tbody>\n",
       "</table>\n",
       "<p>5 rows × 27 columns</p>\n",
       "</div>"
      ],
      "text/plain": [
       "        Date  Label                                               Top1  \\\n",
       "0 2008-08-08      0  b\"Georgia 'downs two Russian warplanes' as cou...   \n",
       "1 2008-08-11      1  b'Why wont America and Nato help us? If they w...   \n",
       "2 2008-08-12      0  b'Remember that adorable 9-year-old who sang a...   \n",
       "3 2008-08-13      0  b' U.S. refuses Israel weapons to attack Iran:...   \n",
       "4 2008-08-14      1  b'All the experts admit that we should legalis...   \n",
       "\n",
       "                                                Top2  \\\n",
       "0            b'BREAKING: Musharraf to be impeached.'   \n",
       "1        b'Bush puts foot down on Georgian conflict'   \n",
       "2                 b\"Russia 'ends Georgia operation'\"   \n",
       "3  b\"When the president ordered to attack Tskhinv...   \n",
       "4  b'War in South Osetia - 89 pictures made by a ...   \n",
       "\n",
       "                                                Top3  \\\n",
       "0  b'Russia Today: Columns of troops roll into So...   \n",
       "1  b\"Jewish Georgian minister: Thanks to Israeli ...   \n",
       "2  b'\"If we had no sexual harassment we would hav...   \n",
       "3  b' Israel clears troops who killed Reuters cam...   \n",
       "4  b'Swedish wrestler Ara Abrahamian throws away ...   \n",
       "\n",
       "                                                Top4  \\\n",
       "0  b'Russian tanks are moving towards the capital...   \n",
       "1  b'Georgian army flees in disarray as Russians ...   \n",
       "2  b\"Al-Qa'eda is losing support in Iraq because ...   \n",
       "3  b'Britain\\'s policy of being tough on drugs is...   \n",
       "4  b'Russia exaggerated the death toll in South O...   \n",
       "\n",
       "                                                Top5  \\\n",
       "0  b\"Afghan children raped with 'impunity,' U.N. ...   \n",
       "1      b\"Olympic opening ceremony fireworks 'faked'\"   \n",
       "2  b'Ceasefire in Georgia: Putin Outmaneuvers the...   \n",
       "3  b'Body of 14 year old found in trunk; Latest (...   \n",
       "4  b'Missile That Killed 9 Inside Pakistan May Ha...   \n",
       "\n",
       "                                                Top6  \\\n",
       "0  b'150 Russian tanks have entered South Ossetia...   \n",
       "1  b'What were the Mossad with fraudulent New Zea...   \n",
       "2  b'Why Microsoft and Intel tried to kill the XO...   \n",
       "3  b'China has moved 10 *million* quake survivors...   \n",
       "4  b\"Rushdie Condemns Random House's Refusal to P...   \n",
       "\n",
       "                                                Top7  \\\n",
       "0  b\"Breaking: Georgia invades South Ossetia, Rus...   \n",
       "1  b'Russia angered by Israeli military sale to G...   \n",
       "2  b'Stratfor: The Russo-Georgian War and the Bal...   \n",
       "3  b\"Bush announces Operation Get All Up In Russi...   \n",
       "4  b'Poland and US agree to missle defense deal. ...   \n",
       "\n",
       "                                                Top8  ...  \\\n",
       "0  b\"The 'enemy combatent' trials are nothing but...  ...   \n",
       "1  b'An American citizen living in S.Ossetia blam...  ...   \n",
       "2  b\"I'm Trying to Get a Sense of This Whole Geor...  ...   \n",
       "3             b'Russian forces sink Georgian ships '  ...   \n",
       "4  b'Will the Russians conquer Tblisi? Bet on it,...  ...   \n",
       "\n",
       "                                               Top16  \\\n",
       "0  b'Georgia Invades South Ossetia - if Russia ge...   \n",
       "1  b'Israel and the US behind the Georgian aggres...   \n",
       "2  b'U.S. troops still in Georgia (did you know t...   \n",
       "3                      b'Elephants extinct by 2020?'   \n",
       "4  b'Bank analyst forecast Georgian crisis 2 days...   \n",
       "\n",
       "                                               Top17  \\\n",
       "0                b'Al-Qaeda Faces Islamist Backlash'   \n",
       "1  b'\"Do not believe TV, neither Russian nor Geor...   \n",
       "2       b'Why Russias response to Georgia was right'   \n",
       "3  b'US humanitarian missions soon in Georgia - i...   \n",
       "4  b\"Georgia confict could set back Russia's US r...   \n",
       "\n",
       "                                               Top18  \\\n",
       "0  b'Condoleezza Rice: \"The US would not act to p...   \n",
       "1  b'Riots are still going on in Montreal (Canada...   \n",
       "2  b'Gorbachev accuses U.S. of making a \"serious ...   \n",
       "3             b\"Georgia's DDOS came from US sources\"   \n",
       "4  b'War in the Caucasus is as much the product o...   \n",
       "\n",
       "                                               Top19  \\\n",
       "0  b'This is a busy day:  The European Union has ...   \n",
       "1    b'China to overtake US as largest manufacturer'   \n",
       "2         b'Russia, Georgia, and NATO: Cold War Two'   \n",
       "3  b'Russian convoy heads into Georgia, violating...   \n",
       "4  b'\"Non-media\" photos of South Ossetia/Georgia ...   \n",
       "\n",
       "                                               Top20  \\\n",
       "0  b\"Georgia will withdraw 1,000 soldiers from Ir...   \n",
       "1                     b'War in South Ossetia [PICS]'   \n",
       "2  b'Remember that adorable 62-year-old who led y...   \n",
       "3  b'Israeli defence minister: US against strike ...   \n",
       "4  b'Georgian TV reporter shot by Russian sniper ...   \n",
       "\n",
       "                                               Top21  \\\n",
       "0  b'Why the Pentagon Thinks Attacking Iran is a ...   \n",
       "1  b'Israeli Physicians Group Condemns State Tort...   \n",
       "2          b'War in Georgia: The Israeli connection'   \n",
       "3                     b'Gorbachev: We Had No Choice'   \n",
       "4  b'Saudi Arabia: Mother moves to block child ma...   \n",
       "\n",
       "                                               Top22  \\\n",
       "0  b'Caucasus in crisis: Georgia invades South Os...   \n",
       "1  b' Russia has just beaten the United States ov...   \n",
       "2  b'All signs point to the US encouraging Georgi...   \n",
       "3  b'Witness: Russian forces head towards Tbilisi...   \n",
       "4   b'Taliban wages war on humanitarian aid workers'   \n",
       "\n",
       "                                               Top23  \\\n",
       "0  b'Indian shoe manufactory  - And again in a se...   \n",
       "1  b'Perhaps *the* question about the Georgia - R...   \n",
       "2  b'Christopher King argues that the US and NATO...   \n",
       "3  b' Quarter of Russians blame U.S. for conflict...   \n",
       "4  b'Russia: World  \"can forget about\" Georgia\\'s...   \n",
       "\n",
       "                                               Top24  \\\n",
       "0  b'Visitors Suffering from Mental Illnesses Ban...   \n",
       "1                 b'Russia is so much better at war'   \n",
       "2                        b'America: The New Mexico?'   \n",
       "3  b'Georgian president  says US military will ta...   \n",
       "4  b'Darfur rebels accuse Sudan of mounting major...   \n",
       "\n",
       "                                               Top25  \n",
       "0           b\"No Help for Mexico's Kidnapping Surge\"  \n",
       "1  b\"So this is what it's come to: trading sex fo...  \n",
       "2  b\"BBC NEWS | Asia-Pacific | Extinction 'by man...  \n",
       "3  b'2006: Nobel laureate Aleksander Solzhenitsyn...  \n",
       "4  b'Philippines : Peace Advocate say Muslims nee...  \n",
       "\n",
       "[5 rows x 27 columns]"
      ]
     },
     "execution_count": 4,
     "metadata": {},
     "output_type": "execute_result"
    }
   ],
   "source": [
    "# Exploramos combinedNews\n",
    "CombinedNews.head()"
   ]
  },
  {
   "cell_type": "markdown",
   "metadata": {
    "colab_type": "text",
    "id": "IcNY3hpJwk05"
   },
   "source": [
    "Comparar los días con noticias entre datasets"
   ]
  },
  {
   "cell_type": "code",
   "execution_count": 5,
   "metadata": {
    "colab": {
     "base_uri": "https://localhost:8080/",
     "height": 51
    },
    "colab_type": "code",
    "id": "XuT8xnWHmOuG",
    "outputId": "60a26b23-e1c2-4d29-dd73-1c92762982c8"
   },
   "outputs": [
    {
     "name": "stdout",
     "output_type": "stream",
     "text": [
      "1989 1989\n"
     ]
    }
   ],
   "source": [
    "## Nos quedamos con las fechas del dataset que está etiquetado\n",
    "RedditNews = RedditNews[RedditNews['Date'].isin(CombinedNews['Date'])]\n",
    "\n",
    "print(\n",
    "    CombinedNews['Date'].nunique(),\n",
    "    RedditNews['Date'].nunique() )"
   ]
  },
  {
   "cell_type": "markdown",
   "metadata": {
    "colab_type": "text",
    "id": "jOKnAJ2Mw2ug"
   },
   "source": [
    "Analizar la distribución de clases"
   ]
  },
  {
   "cell_type": "markdown",
   "metadata": {
    "colab_type": "text",
    "id": "bNespKOow8hW"
   },
   "source": [
    "Analizar cantidad de noticias, pueden haber días sin el todo el top 25"
   ]
  },
  {
   "cell_type": "markdown",
   "metadata": {
    "colab_type": "text",
    "id": "xVV84cMXxQNH"
   },
   "source": [
    "Limpieza de los datos"
   ]
  },
  {
   "cell_type": "code",
   "execution_count": 6,
   "metadata": {
    "colab": {
     "base_uri": "https://localhost:8080/",
     "height": 419
    },
    "colab_type": "code",
    "id": "4RzkeJR5trnX",
    "outputId": "1e3fcb7e-f1b8-433e-c780-efd59bb29de3"
   },
   "outputs": [
    {
     "data": {
      "text/html": [
       "<div>\n",
       "<style scoped>\n",
       "    .dataframe tbody tr th:only-of-type {\n",
       "        vertical-align: middle;\n",
       "    }\n",
       "\n",
       "    .dataframe tbody tr th {\n",
       "        vertical-align: top;\n",
       "    }\n",
       "\n",
       "    .dataframe thead th {\n",
       "        text-align: right;\n",
       "    }\n",
       "</style>\n",
       "<table border=\"1\" class=\"dataframe\">\n",
       "  <thead>\n",
       "    <tr style=\"text-align: right;\">\n",
       "      <th></th>\n",
       "      <th>Date</th>\n",
       "      <th>News</th>\n",
       "    </tr>\n",
       "  </thead>\n",
       "  <tbody>\n",
       "    <tr>\n",
       "      <th>24</th>\n",
       "      <td>2016-07-01</td>\n",
       "      <td>Ozone layer hole seems to be healing - US &amp;amp...</td>\n",
       "    </tr>\n",
       "    <tr>\n",
       "      <th>37</th>\n",
       "      <td>2016-06-30</td>\n",
       "      <td>Japan's top court has approved blanket surveil...</td>\n",
       "    </tr>\n",
       "    <tr>\n",
       "      <th>204</th>\n",
       "      <td>2016-06-23</td>\n",
       "      <td>Erdoan: Europe, you dont want us because were ...</td>\n",
       "    </tr>\n",
       "    <tr>\n",
       "      <th>376</th>\n",
       "      <td>2016-06-16</td>\n",
       "      <td>Germany to end unofficial tolerance of polygam...</td>\n",
       "    </tr>\n",
       "    <tr>\n",
       "      <th>1762</th>\n",
       "      <td>2016-04-22</td>\n",
       "      <td>'Kindly send us names and quotes insulting our...</td>\n",
       "    </tr>\n",
       "    <tr>\n",
       "      <th>...</th>\n",
       "      <td>...</td>\n",
       "      <td>...</td>\n",
       "    </tr>\n",
       "    <tr>\n",
       "      <th>70187</th>\n",
       "      <td>2008-10-22</td>\n",
       "      <td>b'Despite intense U.S. pressure, Pakistan refu...</td>\n",
       "    </tr>\n",
       "    <tr>\n",
       "      <th>70379</th>\n",
       "      <td>2008-10-15</td>\n",
       "      <td>b'What does the rehabilitation of Bill Ayers t...</td>\n",
       "    </tr>\n",
       "    <tr>\n",
       "      <th>71185</th>\n",
       "      <td>2008-09-12</td>\n",
       "      <td>b'Putin on Georgia: \"What did you want us to d...</td>\n",
       "    </tr>\n",
       "    <tr>\n",
       "      <th>71830</th>\n",
       "      <td>2008-08-18</td>\n",
       "      <td>b'Putin has given us an order that everyone mu...</td>\n",
       "    </tr>\n",
       "    <tr>\n",
       "      <th>71983</th>\n",
       "      <td>2008-08-11</td>\n",
       "      <td>b'Why wont America and Nato help us? If they w...</td>\n",
       "    </tr>\n",
       "  </tbody>\n",
       "</table>\n",
       "<p>150 rows × 2 columns</p>\n",
       "</div>"
      ],
      "text/plain": [
       "            Date                                               News\n",
       "24    2016-07-01  Ozone layer hole seems to be healing - US &amp...\n",
       "37    2016-06-30  Japan's top court has approved blanket surveil...\n",
       "204   2016-06-23  Erdoan: Europe, you dont want us because were ...\n",
       "376   2016-06-16  Germany to end unofficial tolerance of polygam...\n",
       "1762  2016-04-22  'Kindly send us names and quotes insulting our...\n",
       "...          ...                                                ...\n",
       "70187 2008-10-22  b'Despite intense U.S. pressure, Pakistan refu...\n",
       "70379 2008-10-15  b'What does the rehabilitation of Bill Ayers t...\n",
       "71185 2008-09-12  b'Putin on Georgia: \"What did you want us to d...\n",
       "71830 2008-08-18  b'Putin has given us an order that everyone mu...\n",
       "71983 2008-08-11  b'Why wont America and Nato help us? If they w...\n",
       "\n",
       "[150 rows x 2 columns]"
      ]
     },
     "metadata": {},
     "output_type": "display_data"
    }
   ],
   "source": [
    "## Hay error en la codificación de caracteres especiales, encontré ese, pero hay que ver que otros surgen\n",
    "index_review = RedditNews[RedditNews['News'].str.contains('&amp;')].index\n",
    "display(RedditNews[RedditNews['News'].str.contains(' us ')])\n",
    "RedditNews['News'] = RedditNews['News'].str.replace('&amp;', '&')"
   ]
  },
  {
   "cell_type": "code",
   "execution_count": 323,
   "metadata": {
    "colab": {
     "base_uri": "https://localhost:8080/",
     "height": 419
    },
    "colab_type": "code",
    "id": "ei8HtAfMxt8t",
    "outputId": "e73d87f5-a2d8-4b06-cba9-d1360f1f5e54"
   },
   "outputs": [],
   "source": [
    "## Hay error en la codificación de caracteres especiales, encontré ese, pero hay que ver que otros surgen\n",
    "RedditNews['News'] = RedditNews['News'].str.replace(\"year.old\", \" year old \", regex=True)\n",
    "RedditNews['News'] = RedditNews['News'].str.replace(\"\\d year\", \" year \", regex=True)\n",
    "RedditNews['News'] = RedditNews['News'].str.replace(\"year old\", \"years old\", regex=True)\n",
    "RedditNews['News'] = RedditNews['News'].str.replace(\"years.old\", \" years old \", regex=True)\n",
    "RedditNews['News'] = RedditNews['News'].str.replace(\"\\d years\", \" years \", regex=True)\n",
    "## Hay error en la codificación de caracteres especiales, encontré ese, pero hay que ver que otros surgen\n",
    "import re\n",
    "import nltk\n",
    "# nltk.download('stopwords')\n",
    "from nltk.corpus import stopwords\n",
    "stoplist = stopwords.words(\"english\")\n",
    "# REPLACE_BY_SPACE_RE = re.compile('[(){}\\[\\]\\|@,;-]')\n",
    "BAD_SYMBOLS_RE = re.compile('[^0-9a-z ^#\\+_]')\n",
    "SEP_NUMBER = re.compile('(?<=\\d)\\,')\n",
    "USA_ABREV = re.compile('U\\.S|u\\.s\\|u\\.s\\.a\\.|US')\n",
    "DOT_ABREV = re.compile('\\.(?![a-zA-Z]{2})')\n",
    "STARTING_B = re.compile(\"^\\\"b' |^b \")\n",
    "MONEY = re.compile(\"\\$[0-9]+\")\n",
    "BILLION = re.compile(\"\\$[0-9]+B|[0-9]{10}\")\n",
    "MILLION = re.compile(\"(?i)\\$[0-9]+m|[0-9]{7}|[0-9]+m\")\n",
    "NKOREA = re.compile(\"(?i)north kore[a-z]+\")\n",
    "SKOREA = re.compile(\"(?i)south kore[a-z]+\")\n",
    "\n",
    "STOPWORDS = stopwords.words('english')\n",
    "pd.options.display.max_colwidth = 150\n",
    "def clean_text(text):\n",
    "    \"\"\"\n",
    "        text: a string\n",
    "        return: modified initial string\n",
    "    \"\"\"\n",
    "#     test = re.sub(r'[0-9]+bn',r'\\$[0-9]+_billion',text)\n",
    "    text = text.replace(\"USD\", \"dollars\")\n",
    "    text = text.replace('years old', ' years_old ')\n",
    "\n",
    "    text = text.replace('yrs', ' years ')\n",
    "\n",
    "    text = USA_ABREV.sub(' usa ', text) # replace U.S U.S. u.s US for usa\n",
    "    text = text.lower() # lowercase text\n",
    "    text = text.replace(\"al-qaeda\", \"alqaeda\")\n",
    "    text = text.replace(\"al-qa'eda\", \"alqaeda\")\n",
    "    text = text.replace(\"al-quds\", \"alquds\")\n",
    "    text = text.replace('&amp;', '&')\n",
    "    text = text.replace('&', '')\n",
    "    \n",
    "    text = text.replace(\"dollar \", \" money \")\n",
    "    text = text.replace(\"dollars \", \" money \")\n",
    "    text = text.replace(\"usd\", \" money \")\n",
    "    text = text.replace(\"$\", \" money \")\n",
    "    \n",
    "    text = NKOREA.sub(' north_korea ', text) \n",
    "    text = SKOREA.sub(' south_korea ', text)\n",
    "    text = MONEY.sub(' money ', text) # removes abrevetion dot, ej: L.G.B.T  = LGBT\n",
    "    text = DOT_ABREV.sub('', text) # removes abrevetion dot, ej: L.G.B.T  = LGBT\n",
    "    text = SEP_NUMBER.sub('', text) # removes . and , seprating numbers\n",
    "    text = REPLACE_BY_SPACE_RE.sub(' ', text) # replace REPLACE_BY_SPACE_RE symbols by space in text\n",
    "    text = BAD_SYMBOLS_RE.sub(' ', text) # delete symbols which are in BAD_SYMBOLS_RE from text\n",
    "    text = STARTING_B.sub('', text) # delete symbols which are in BAD_SYMBOLS_RE from text\n",
    "    text = BILLION.sub(' billion ', text) \n",
    "    text = MILLION.sub(' million ', text) \n",
    "#     text = text.replace('years old', 'years_old')\n",
    "#     text = text.replace('years old', 'years_old')\n",
    "    text = text.replace('bln ', ' billion ')\n",
    "\n",
    "    text = text.replace('bn ', ' billion ')\n",
    "    text = text.replace('millions', ' million ')\n",
    "    text = text.replace('billions', ' billion ')\n",
    "\n",
    "#     test = re.sub(r'[0-9]+bn',r'\\$[0-9]+_billion',text) :(\n",
    "\n",
    "    text = ' '.join(word for word in text.split() if word not in STOPWORDS) # delete stopwors from text\n",
    "    text = text.strip()\n",
    "    return text\n",
    "    \n",
    "RedditNews['News_cleaned'] = RedditNews['News'].apply(clean_text)\n"
   ]
  },
  {
   "cell_type": "code",
   "execution_count": null,
   "metadata": {},
   "outputs": [],
   "source": [
    "RedditNews[RedditNews['News'].str.contains(\"\\$\")].sample(n=10,random_state=232)"
   ]
  },
  {
   "cell_type": "code",
   "execution_count": 110,
   "metadata": {},
   "outputs": [
    {
     "data": {
      "text/html": [
       "<div>\n",
       "<style scoped>\n",
       "    .dataframe tbody tr th:only-of-type {\n",
       "        vertical-align: middle;\n",
       "    }\n",
       "\n",
       "    .dataframe tbody tr th {\n",
       "        vertical-align: top;\n",
       "    }\n",
       "\n",
       "    .dataframe thead th {\n",
       "        text-align: right;\n",
       "    }\n",
       "</style>\n",
       "<table border=\"1\" class=\"dataframe\">\n",
       "  <thead>\n",
       "    <tr style=\"text-align: right;\">\n",
       "      <th></th>\n",
       "      <th>Date</th>\n",
       "      <th>News</th>\n",
       "      <th>News_cleaned</th>\n",
       "    </tr>\n",
       "  </thead>\n",
       "  <tbody>\n",
       "    <tr>\n",
       "      <th>5836</th>\n",
       "      <td>2015-11-10</td>\n",
       "      <td>Crimes against the environment  such as illegal deforestation, wildlife trafficking and toxic waste dumping  now bring in as much as $213 billion ...</td>\n",
       "      <td>crimes environment illegal deforestation wildlife trafficking toxic waste dumping bring much 213 billion year interpol officials say problem getti...</td>\n",
       "    </tr>\n",
       "    <tr>\n",
       "      <th>60436</th>\n",
       "      <td>2009-11-16</td>\n",
       "      <td>The European Union has followed the United States in saying it is not ready to recognize Palestinian statehood'</td>\n",
       "      <td>european union followed united states saying ready recognize palestinian statehood</td>\n",
       "    </tr>\n",
       "    <tr>\n",
       "      <th>1596</th>\n",
       "      <td>2016-04-29</td>\n",
       "      <td>Saudi Arabia 'not ready' to let women drive because of culture, not religion - prince</td>\n",
       "      <td>saudi arabia ready let women drive culture religion prince</td>\n",
       "    </tr>\n",
       "    <tr>\n",
       "      <th>54161</th>\n",
       "      <td>2010-07-26</td>\n",
       "      <td>Pakistans military spy service has guided the Afghan insurgency with a hidden hand, even as Pakistan receives more than $1 billion a year from Was...</td>\n",
       "      <td>pakistans military spy service guided afghan insurgency hidden hand even pakistan receives 1 billion year washington help combating militants</td>\n",
       "    </tr>\n",
       "    <tr>\n",
       "      <th>6014</th>\n",
       "      <td>2015-11-03</td>\n",
       "      <td>Shopkeepers revolt has mafia on the run in its Sicilian heartland.</td>\n",
       "      <td>shopkeepers revolt mafia run sicilian heartland</td>\n",
       "    </tr>\n",
       "    <tr>\n",
       "      <th>43756</th>\n",
       "      <td>2011-09-15</td>\n",
       "      <td>Driver refuses to let Australian Prime Minister on bus with other leaders, tells her to get on the spouses' bus instead</td>\n",
       "      <td>driver refuses let australian prime minister bus leaders tells get spouses bus instead</td>\n",
       "    </tr>\n",
       "    <tr>\n",
       "      <th>46428</th>\n",
       "      <td>2011-05-31</td>\n",
       "      <td>Australia Suspends Live Cattle Exports to Indonesia After Cruelty Exposed on Film, Which Shows Them Being Beaten, Whipped &amp; Kicked Prior to Slaugh...</td>\n",
       "      <td>australia suspends live cattle exports indonesia cruelty exposed film shows beaten whipped kicked prior slaughter taking 4 throat cuts kill animal...</td>\n",
       "    </tr>\n",
       "    <tr>\n",
       "      <th>15128</th>\n",
       "      <td>2014-11-03</td>\n",
       "      <td>Portugal Sees Chinese Do 90% of Bids at Property Auction</td>\n",
       "      <td>portugal sees chinese 90 bids property auction</td>\n",
       "    </tr>\n",
       "    <tr>\n",
       "      <th>44086</th>\n",
       "      <td>2011-09-02</td>\n",
       "      <td>Rupert Murdoch receives $12.5m bonus</td>\n",
       "      <td>rupert murdoch receives 125m bonus</td>\n",
       "    </tr>\n",
       "    <tr>\n",
       "      <th>34890</th>\n",
       "      <td>2012-09-04</td>\n",
       "      <td>Africas Elephants Are Being Slaughtered in Ivory \\r\\nPoaching Frenzy</td>\n",
       "      <td>africas elephants slaughtered ivory poaching frenzy</td>\n",
       "    </tr>\n",
       "  </tbody>\n",
       "</table>\n",
       "</div>"
      ],
      "text/plain": [
       "            Date  \\\n",
       "5836  2015-11-10   \n",
       "60436 2009-11-16   \n",
       "1596  2016-04-29   \n",
       "54161 2010-07-26   \n",
       "6014  2015-11-03   \n",
       "43756 2011-09-15   \n",
       "46428 2011-05-31   \n",
       "15128 2014-11-03   \n",
       "44086 2011-09-02   \n",
       "34890 2012-09-04   \n",
       "\n",
       "                                                                                                                                                        News  \\\n",
       "5836   Crimes against the environment  such as illegal deforestation, wildlife trafficking and toxic waste dumping  now bring in as much as $213 billion ...   \n",
       "60436                                        The European Union has followed the United States in saying it is not ready to recognize Palestinian statehood'   \n",
       "1596                                                                   Saudi Arabia 'not ready' to let women drive because of culture, not religion - prince   \n",
       "54161  Pakistans military spy service has guided the Afghan insurgency with a hidden hand, even as Pakistan receives more than $1 billion a year from Was...   \n",
       "6014                                                                                      Shopkeepers revolt has mafia on the run in its Sicilian heartland.   \n",
       "43756                                Driver refuses to let Australian Prime Minister on bus with other leaders, tells her to get on the spouses' bus instead   \n",
       "46428  Australia Suspends Live Cattle Exports to Indonesia After Cruelty Exposed on Film, Which Shows Them Being Beaten, Whipped & Kicked Prior to Slaugh...   \n",
       "15128                                                                                               Portugal Sees Chinese Do 90% of Bids at Property Auction   \n",
       "44086                                                                                                                   Rupert Murdoch receives $12.5m bonus   \n",
       "34890                                                                                   Africas Elephants Are Being Slaughtered in Ivory \\r\\nPoaching Frenzy   \n",
       "\n",
       "                                                                                                                                                News_cleaned  \n",
       "5836   crimes environment illegal deforestation wildlife trafficking toxic waste dumping bring much 213 billion year interpol officials say problem getti...  \n",
       "60436                                                                     european union followed united states saying ready recognize palestinian statehood  \n",
       "1596                                                                                              saudi arabia ready let women drive culture religion prince  \n",
       "54161          pakistans military spy service guided afghan insurgency hidden hand even pakistan receives 1 billion year washington help combating militants  \n",
       "6014                                                                                                         shopkeepers revolt mafia run sicilian heartland  \n",
       "43756                                                                 driver refuses let australian prime minister bus leaders tells get spouses bus instead  \n",
       "46428  australia suspends live cattle exports indonesia cruelty exposed film shows beaten whipped kicked prior slaughter taking 4 throat cuts kill animal...  \n",
       "15128                                                                                                         portugal sees chinese 90 bids property auction  \n",
       "44086                                                                                                                     rupert murdoch receives 125m bonus  \n",
       "34890                                                                                                    africas elephants slaughtered ivory poaching frenzy  "
      ]
     },
     "execution_count": 110,
     "metadata": {},
     "output_type": "execute_result"
    }
   ],
   "source": [
    "RedditNews.sample(n=10)"
   ]
  },
  {
   "cell_type": "code",
   "execution_count": 8,
   "metadata": {},
   "outputs": [],
   "source": [
    "Combinedtest = CombinedNews.copy()\n",
    "Combinedtest.fillna(\"\" , inplace= True)\n",
    "joindocuemnt = \"\"\n",
    "for n,_ in Combinedtest.iloc[:,2:].iteritems():\n",
    "    joindocuemnt = joindocuemnt + \" \" +Combinedtest[n].apply(clean_text)\n",
    "Combinedtest[\"Document\"] = joindocuemnt\n",
    "corpus = Combinedtest[\"Document\"].str.cat(sep=' \\n')"
   ]
  },
  {
   "cell_type": "code",
   "execution_count": 9,
   "metadata": {},
   "outputs": [
    {
     "data": {
      "text/plain": [
       "usa        4503\n",
       "say        3662\n",
       "year       3148\n",
       "kill       2678\n",
       "world      2462\n",
       "new        2425\n",
       "govern     2271\n",
       "china      2222\n",
       "israel     2214\n",
       "polic      1979\n",
       "peopl      1928\n",
       "countri    1863\n",
       "protest    1842\n",
       "state      1772\n",
       "russia     1765\n",
       "dtype: int64"
      ]
     },
     "execution_count": 9,
     "metadata": {},
     "output_type": "execute_result"
    }
   ],
   "source": [
    "from nltk.stem import WordNetLemmatizer \n",
    "from nltk.stem import PorterStemmer\n",
    "from nltk.stem import LancasterStemmer\n",
    "from nltk import word_tokenize\n",
    "from nltk import sent_tokenize\n",
    "# nltk.download('wordnet')\n",
    "# nltk.download('punkt')\n",
    "lemmatizer = WordNetLemmatizer() \n",
    "porter = PorterStemmer() \n",
    "lancaster = LancasterStemmer() \n",
    "\n",
    "lemacorpus = \" \".join([lemmatizer.lemmatize(word) for word in corpus.split(\" \")])\n",
    "\n",
    "stemcorpus = \" \".join([porter.stem(word) for word in lemacorpus.split(\" \")])\n",
    "\n",
    "sent = word_tokenize((stemcorpus))\n",
    "pd.Series(sent).value_counts().head(15)"
   ]
  },
  {
   "cell_type": "code",
   "execution_count": 10,
   "metadata": {},
   "outputs": [],
   "source": [
    "stemcorpus = \" \".join([porter.stem(word) for word in corpus.split(\" \")])\n",
    "sent = word_tokenize((stemcorpus))\n"
   ]
  },
  {
   "cell_type": "code",
   "execution_count": 11,
   "metadata": {},
   "outputs": [
    {
     "data": {
      "text/plain": [
       "<matplotlib.axes._subplots.AxesSubplot at 0x2bf8d755a08>"
      ]
     },
     "execution_count": 11,
     "metadata": {},
     "output_type": "execute_result"
    },
    {
     "data": {
      "image/png": "[encoded data removed]",
      "text/plain": [
       "<Figure size 432x288 with 1 Axes>"
      ]
     },
     "metadata": {
      "needs_background": "light"
     },
     "output_type": "display_data"
    }
   ],
   "source": [
    "pd.Series(sent).value_counts().head(15).plot(kind = \"bar\")"
   ]
  },
  {
   "cell_type": "code",
   "execution_count": 12,
   "metadata": {},
   "outputs": [
    {
     "data": {
      "text/plain": [
       "'Pope says Church should ask forgiveness from gays for past treatment'"
      ]
     },
     "metadata": {},
     "output_type": "display_data"
    }
   ],
   "source": [
    "display(RedditNews[RedditNews['News'].str.contains(' says ')].reset_index().iloc[7][\"News\"])\n"
   ]
  },
  {
   "cell_type": "code",
   "execution_count": 13,
   "metadata": {},
   "outputs": [
    {
     "name": "stdout",
     "output_type": "stream",
     "text": [
      "hay 598892 tokens\n"
     ]
    }
   ],
   "source": [
    "lemacorpus = [lemmatizer.lemmatize(word) for word in corpus.split(\" \")]\n",
    "tokens = re.split(r\"\\W+\",\" \".join(lemacorpus))\n",
    "print(\"hay\",len(tokens),\"tokens\")\n"
   ]
  },
  {
   "cell_type": "code",
   "execution_count": null,
   "metadata": {},
   "outputs": [],
   "source": []
  },
  {
   "cell_type": "code",
   "execution_count": 14,
   "metadata": {},
   "outputs": [],
   "source": [
    "from sklearn import metrics\n",
    "from sklearn.metrics import accuracy_score\n",
    "from sklearn.model_selection import train_test_split\n",
    "from sklearn.utils import shuffle\n",
    "\n",
    "test = Combinedtest.sample(frac = 0.3).copy()\n"
   ]
  },
  {
   "cell_type": "code",
   "execution_count": 16,
   "metadata": {},
   "outputs": [
    {
     "data": {
      "image/png": "[encoded data removed]",
      "text/plain": [
       "<Figure size 432x288 with 1 Axes>"
      ]
     },
     "metadata": {
      "needs_background": "light"
     },
     "output_type": "display_data"
    }
   ],
   "source": [
    "from sklearn.utils import shuffle\n",
    "import matplotlib.pyplot as plt\n",
    "x =Combinedtest.drop([\"Label\"],axis=1)\n",
    "y = Combinedtest[\"Label\"]\n",
    "scores=[]\n",
    "for i in range(10000):\n",
    "    x_train, x_test, y_train, y_test = train_test_split(x, y, test_size=0.3,stratify = y)\n",
    "    scores.append(accuracy_score(y_test,shuffle(y_test)))\n",
    "plt.hist(scores,bins=200)\n",
    "plt.show()"
   ]
  },
  {
   "cell_type": "code",
   "execution_count": 17,
   "metadata": {},
   "outputs": [
    {
     "data": {
      "text/plain": [
       "0.5376884422110553"
      ]
     },
     "execution_count": 17,
     "metadata": {},
     "output_type": "execute_result"
    }
   ],
   "source": [
    "scores.sort()\n",
    "scores[9500]"
   ]
  },
  {
   "cell_type": "code",
   "execution_count": 18,
   "metadata": {},
   "outputs": [
    {
     "data": {
      "text/plain": [
       "1    320\n",
       "0    277\n",
       "Name: Label, dtype: int64"
      ]
     },
     "execution_count": 18,
     "metadata": {},
     "output_type": "execute_result"
    }
   ],
   "source": [
    "x_train, x_test, y_train, y_test = train_test_split(x, y, test_size=0.3,stratify = y)\n",
    "y_test.value_counts()"
   ]
  },
  {
   "cell_type": "code",
   "execution_count": 19,
   "metadata": {},
   "outputs": [
    {
     "data": {
      "text/html": [
       "<div>\n",
       "<style scoped>\n",
       "    .dataframe tbody tr th:only-of-type {\n",
       "        vertical-align: middle;\n",
       "    }\n",
       "\n",
       "    .dataframe tbody tr th {\n",
       "        vertical-align: top;\n",
       "    }\n",
       "\n",
       "    .dataframe thead th {\n",
       "        text-align: right;\n",
       "    }\n",
       "</style>\n",
       "<table border=\"1\" class=\"dataframe\">\n",
       "  <thead>\n",
       "    <tr style=\"text-align: right;\">\n",
       "      <th></th>\n",
       "      <th>Label</th>\n",
       "    </tr>\n",
       "  </thead>\n",
       "  <tbody>\n",
       "    <tr>\n",
       "      <th>1943</th>\n",
       "      <td>NaN</td>\n",
       "    </tr>\n",
       "    <tr>\n",
       "      <th>798</th>\n",
       "      <td>0.0</td>\n",
       "    </tr>\n",
       "    <tr>\n",
       "      <th>370</th>\n",
       "      <td>0.0</td>\n",
       "    </tr>\n",
       "    <tr>\n",
       "      <th>1082</th>\n",
       "      <td>0.0</td>\n",
       "    </tr>\n",
       "    <tr>\n",
       "      <th>1137</th>\n",
       "      <td>0.0</td>\n",
       "    </tr>\n",
       "    <tr>\n",
       "      <th>...</th>\n",
       "      <td>...</td>\n",
       "    </tr>\n",
       "    <tr>\n",
       "      <th>1582</th>\n",
       "      <td>1.0</td>\n",
       "    </tr>\n",
       "    <tr>\n",
       "      <th>91</th>\n",
       "      <td>0.0</td>\n",
       "    </tr>\n",
       "    <tr>\n",
       "      <th>609</th>\n",
       "      <td>0.0</td>\n",
       "    </tr>\n",
       "    <tr>\n",
       "      <th>1869</th>\n",
       "      <td>0.0</td>\n",
       "    </tr>\n",
       "    <tr>\n",
       "      <th>123</th>\n",
       "      <td>1.0</td>\n",
       "    </tr>\n",
       "  </tbody>\n",
       "</table>\n",
       "<p>597 rows × 1 columns</p>\n",
       "</div>"
      ],
      "text/plain": [
       "      Label\n",
       "1943    NaN\n",
       "798     0.0\n",
       "370     0.0\n",
       "1082    0.0\n",
       "1137    0.0\n",
       "...     ...\n",
       "1582    1.0\n",
       "91      0.0\n",
       "609     0.0\n",
       "1869    0.0\n",
       "123     1.0\n",
       "\n",
       "[597 rows x 1 columns]"
      ]
     },
     "execution_count": 19,
     "metadata": {},
     "output_type": "execute_result"
    }
   ],
   "source": [
    "pd.DataFrame(y_test.shift(1))"
   ]
  },
  {
   "cell_type": "code",
   "execution_count": 67,
   "metadata": {},
   "outputs": [
    {
     "data": {
      "text/plain": [
       "65      0\n",
       "1843    0\n",
       "1652    0\n",
       "1405    0\n",
       "1614    1\n",
       "       ..\n",
       "423     1\n",
       "1312    1\n",
       "1904    1\n",
       "496     0\n",
       "500     1\n",
       "Name: Label, Length: 597, dtype: int64"
      ]
     },
     "execution_count": 67,
     "metadata": {},
     "output_type": "execute_result"
    }
   ],
   "source": [
    "y_test.shift(1)\n",
    "y_test.fillna(0)"
   ]
  },
  {
   "cell_type": "code",
   "execution_count": 134,
   "metadata": {},
   "outputs": [],
   "source": [
    "test = Combinedtest.copy()\n",
    "\n",
    "\n",
    "test[\"Labelshift\"]=test[\"Label\"].shift(1)\n",
    "test.fillna(0,inplace =True)"
   ]
  },
  {
   "cell_type": "code",
   "execution_count": 135,
   "metadata": {},
   "outputs": [],
   "source": []
  },
  {
   "cell_type": "code",
   "execution_count": 183,
   "metadata": {},
   "outputs": [
    {
     "data": {
      "text/plain": [
       "0.47738693467336685"
      ]
     },
     "execution_count": 183,
     "metadata": {},
     "output_type": "execute_result"
    }
   ],
   "source": [
    "\n",
    "das = test.sample(frac=0.3)\n",
    "accuracy_score(das[\"Label\"],das[\"Labelshift\"])\n"
   ]
  }
 ],
 "metadata": {
  "colab": {
   "include_colab_link": true,
   "name": "Topics_noticias_reddit_edgar.ipynb",
   "provenance": []
  },
  "kernelspec": {
   "display_name": "Python 3",
   "language": "python",
   "name": "python3"
  },
  "language_info": {
   "codemirror_mode": {
    "name": "ipython",
    "version": 3
   },
   "file_extension": ".py",
   "mimetype": "text/x-python",
   "name": "python",
   "nbconvert_exporter": "python",
   "pygments_lexer": "ipython3",
   "version": "3.7.7"
  }
 },
 "nbformat": 4,
 "nbformat_minor": 4
}
