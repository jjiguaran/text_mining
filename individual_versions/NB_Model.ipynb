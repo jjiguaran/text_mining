{
 "cells": [
  {
   "cell_type": "markdown",
   "metadata": {
    "colab_type": "text",
    "id": "view-in-github"
   },
   "source": [
    "<a href=\"https://colab.research.google.com/github/jjiguaran/text_mining/blob/master/individual_versions/Meli_RedditNews_NB.ipynb\" target=\"_parent\"><img src=\"https://colab.research.google.com/assets/colab-badge.svg\" alt=\"Open In Colab\"/></a>"
   ]
  },
  {
   "cell_type": "markdown",
   "metadata": {},
   "source": [
    "### Importar dataset"
   ]
  },
  {
   "cell_type": "code",
   "execution_count": 16,
   "metadata": {},
   "outputs": [],
   "source": [
    "# Importar librerias\n",
    "import pandas as pd\n",
    "import numpy as np\n",
    "\n",
    "from sklearn.svm import SVC\n",
    "from sklearn.metrics import roc_auc_score\n",
    "from datetime import date\n",
    "from sklearn.metrics import accuracy_score"
   ]
  },
  {
   "cell_type": "code",
   "execution_count": 17,
   "metadata": {},
   "outputs": [],
   "source": [
    "#Importar los datasets\n",
    "\n",
    "#Necesito los datos tokenizados\n",
    "data = pd.read_csv(DATOS TOKENIZADOS)"
   ]
  },
  {
   "cell_type": "code",
   "execution_count": 18,
   "metadata": {},
   "outputs": [
    {
     "data": {
      "text/plain": [
       "1611"
      ]
     },
     "execution_count": 18,
     "metadata": {},
     "output_type": "execute_result"
    }
   ],
   "source": [
    "# Selecciono la fecha para la cual hago el corte de train y test\n",
    "training_end = pd.to_datetime(\"2014-12-31\")\n",
    "num_training = len(data[pd.to_datetime(data[\"Date\"]) <= training_end])\n",
    "num_training"
   ]
  },
  {
   "cell_type": "markdown",
   "metadata": {},
   "source": [
    "### Naive Bayes"
   ]
  },
  {
   "cell_type": "code",
   "execution_count": 19,
   "metadata": {},
   "outputs": [],
   "source": [
    "from sklearn.naive_bayes import MultinomialNB\n",
    "from sklearn.metrics import confusion_matrix, precision_recall_fscore_support, classification_report\n",
    "from sklearn.ensemble import RandomForestClassifier, GradientBoostingClassifier\n",
    "from sklearn.dummy import DummyClassifier"
   ]
  },
  {
   "cell_type": "markdown",
   "metadata": {},
   "source": [
    "#### Promedio Embeddings"
   ]
  },
  {
   "cell_type": "code",
   "execution_count": 6,
   "metadata": {},
   "outputs": [],
   "source": [
    "# Selecciono el archivo con el que se corre el modelo\n",
    "data = embeddings_average"
   ]
  },
  {
   "cell_type": "code",
   "execution_count": 7,
   "metadata": {},
   "outputs": [],
   "source": [
    "# Se separa en train y test\n",
    "x_train = data.drop([data.columns[0],\"Label\", \"Date\"], axis=1)[:num_training]\n",
    "x_test = data.drop([data.columns[0],'Label', 'Date'], axis=1)[num_training:]\n",
    "y_train = data[\"Label\"].values[:num_training]\n",
    "y_test = data[\"Label\"].values[num_training:]"
   ]
  },
  {
   "cell_type": "code",
   "execution_count": 14,
   "metadata": {},
   "outputs": [
    {
     "ename": "NameError",
     "evalue": "name 'cross_val_score' is not defined",
     "output_type": "error",
     "traceback": [
      "\u001b[1;31m---------------------------------------------------------------------------\u001b[0m",
      "\u001b[1;31mNameError\u001b[0m                                 Traceback (most recent call last)",
      "\u001b[1;32m<ipython-input-14-4ce0550ba247>\u001b[0m in \u001b[0;36m<module>\u001b[1;34m\u001b[0m\n\u001b[0;32m      1\u001b[0m \u001b[0mclf\u001b[0m \u001b[1;33m=\u001b[0m \u001b[0mMultinomialNB\u001b[0m\u001b[1;33m(\u001b[0m\u001b[0malpha\u001b[0m\u001b[1;33m=\u001b[0m\u001b[1;36m1\u001b[0m\u001b[1;33m)\u001b[0m \u001b[1;31m# alpha es el smoothing parameter\u001b[0m\u001b[1;33m\u001b[0m\u001b[1;33m\u001b[0m\u001b[0m\n\u001b[1;32m----> 2\u001b[1;33m \u001b[0mscores_cv_nb\u001b[0m \u001b[1;33m=\u001b[0m \u001b[0mcross_val_score\u001b[0m\u001b[1;33m(\u001b[0m\u001b[0mclf\u001b[0m\u001b[1;33m,\u001b[0m\u001b[0mx_train\u001b[0m\u001b[1;33m,\u001b[0m \u001b[0my_train\u001b[0m\u001b[1;33m,\u001b[0m\u001b[0mcv\u001b[0m \u001b[1;33m=\u001b[0m \u001b[1;36m10\u001b[0m\u001b[1;33m,\u001b[0m \u001b[0mscoring\u001b[0m\u001b[1;33m=\u001b[0m\u001b[1;34m'f1_macro'\u001b[0m\u001b[1;33m)\u001b[0m\u001b[1;33m\u001b[0m\u001b[1;33m\u001b[0m\u001b[0m\n\u001b[0m\u001b[0;32m      3\u001b[0m \u001b[0mscores_cv_nb\u001b[0m\u001b[1;33m\u001b[0m\u001b[1;33m\u001b[0m\u001b[0m\n",
      "\u001b[1;31mNameError\u001b[0m: name 'cross_val_score' is not defined"
     ]
    }
   ],
   "source": [
    "clf = MultinomialNB(alpha=1) # alpha es el smoothing parameter\n",
    "scores_cv_nb = cross_val_score(clf,x_train, y_train,cv = 10, scoring='f1_macro')\n",
    "scores_cv_nb"
   ]
  },
  {
   "cell_type": "code",
   "execution_count": null,
   "metadata": {},
   "outputs": [],
   "source": [
    "print(\"f-score=\",round(scores_cv_nb.mean(),4),\" ( sd =\",round(scores_cv_nb.std(),4),\")\")"
   ]
  },
  {
   "cell_type": "markdown",
   "metadata": {},
   "source": [
    "#### Suma Embeddings"
   ]
  },
  {
   "cell_type": "code",
   "execution_count": null,
   "metadata": {},
   "outputs": [],
   "source": [
    "# Selecciono el archivo con el que se corre el modelo\n",
    "data = embeddings_sum"
   ]
  },
  {
   "cell_type": "code",
   "execution_count": null,
   "metadata": {},
   "outputs": [],
   "source": [
    "# Se separa en train y test\n",
    "x_train = data.drop([data.columns[0],\"Label\", \"Date\"], axis=1)[:num_training]\n",
    "x_test = data.drop([data.columns[0],'Label', 'Date'], axis=1)[num_training:]\n",
    "y_train = data[\"Label\"].values[:num_training]\n",
    "y_test = data[\"Label\"].values[num_training:]"
   ]
  },
  {
   "cell_type": "code",
   "execution_count": null,
   "metadata": {},
   "outputs": [],
   "source": [
    "clf = MultinomialNB(alpha=1) # alpha es el smoothing parameter\n",
    "scores_cv_nb = cross_val_score(clf,X_train, y_train,cv = 10, scoring='f1_macro')\n",
    "scores_cv_nb\n",
    "print(\"f-score=\",round(scores_cv_nb.mean(),4),\" ( sd =\",round(scores_cv_nb.std(),4),\")\")"
   ]
  },
  {
   "cell_type": "code",
   "execution_count": null,
   "metadata": {},
   "outputs": [],
   "source": []
  },
  {
   "cell_type": "code",
   "execution_count": null,
   "metadata": {},
   "outputs": [],
   "source": []
  },
  {
   "cell_type": "code",
   "execution_count": 0,
   "metadata": {
    "colab": {
     "base_uri": "https://localhost:8080/",
     "height": 119
    },
    "colab_type": "code",
    "id": "g1-GFktFeJM5",
    "outputId": "6531091e-e8bb-4f75-cef8-7d64af90aca0"
   },
   "outputs": [
    {
     "name": "stdout",
     "output_type": "stream",
     "text": [
      "[nltk_data] Downloading package movie_reviews to /root/nltk_data...\n",
      "[nltk_data]   Unzipping corpora/movie_reviews.zip.\n",
      "[nltk_data] Downloading package punkt to /root/nltk_data...\n",
      "[nltk_data]   Unzipping tokenizers/punkt.zip.\n",
      "[nltk_data] Downloading package stopwords to /root/nltk_data...\n",
      "[nltk_data]   Unzipping corpora/stopwords.zip.\n"
     ]
    }
   ],
   "source": [
    "# Importar librerias\n",
    "import pandas as pd\n",
    "import matplotlib.pyplot as plt\n",
    "import numpy as np\n",
    "import re\n",
    "import random\n",
    "\n",
    "from nltk import word_tokenize, sent_tokenize\n",
    "\n",
    "from sklearn.model_selection import train_test_split, cross_val_score, GridSearchCV,StratifiedKFold\n",
    "from sklearn.feature_extraction.text import CountVectorizer, TfidfVectorizer\n",
    "from sklearn.naive_bayes import MultinomialNB\n",
    "from sklearn.metrics import confusion_matrix, precision_recall_fscore_support, classification_report\n",
    "from sklearn.ensemble import RandomForestClassifier, GradientBoostingClassifier\n",
    "from sklearn.dummy import DummyClassifier\n",
    "import nltk\n",
    "nltk.download('movie_reviews')\n",
    "nltk.download('punkt')\n",
    "nltk.download('stopwords')\n",
    "from nltk.corpus import stopwords"
   ]
  },
  {
   "cell_type": "code",
   "execution_count": 0,
   "metadata": {
    "colab": {},
    "colab_type": "code",
    "id": "1UeNEB6FdahW"
   },
   "outputs": [],
   "source": [
    "#Importar los datasets\n",
    "url_reddit = 'https://raw.githubusercontent.com/jjiguaran/text_mining/master/Data/RedditNews.csv'\n",
    "url_combined = 'https://raw.githubusercontent.com/jjiguaran/text_mining/master/Data/Combined_News_DJIA.csv'\n",
    "RedditNews = pd.read_csv(url_reddit)\n",
    "CombinedNews = pd.read_csv(url_combined)\n",
    "\n",
    "\n",
    "RedditNews['Date'] =  pd.to_datetime(RedditNews['Date'], format='%Y-%m-%d')\n",
    "CombinedNews['Date'] =  pd.to_datetime(CombinedNews['Date'], format='%Y-%m-%d')\n"
   ]
  },
  {
   "cell_type": "code",
   "execution_count": 0,
   "metadata": {
    "colab": {
     "base_uri": "https://localhost:8080/",
     "height": 204
    },
    "colab_type": "code",
    "id": "zPMujle0jjTx",
    "outputId": "90048b0e-ed63-4741-dab0-d161d75fb817"
   },
   "outputs": [
    {
     "data": {
      "text/html": [
       "<div>\n",
       "<style scoped>\n",
       "    .dataframe tbody tr th:only-of-type {\n",
       "        vertical-align: middle;\n",
       "    }\n",
       "\n",
       "    .dataframe tbody tr th {\n",
       "        vertical-align: top;\n",
       "    }\n",
       "\n",
       "    .dataframe thead th {\n",
       "        text-align: right;\n",
       "    }\n",
       "</style>\n",
       "<table border=\"1\" class=\"dataframe\">\n",
       "  <thead>\n",
       "    <tr style=\"text-align: right;\">\n",
       "      <th></th>\n",
       "      <th>Date</th>\n",
       "      <th>News</th>\n",
       "    </tr>\n",
       "  </thead>\n",
       "  <tbody>\n",
       "    <tr>\n",
       "      <th>0</th>\n",
       "      <td>2016-07-01</td>\n",
       "      <td>A 117-year-old woman in Mexico City finally re...</td>\n",
       "    </tr>\n",
       "    <tr>\n",
       "      <th>1</th>\n",
       "      <td>2016-07-01</td>\n",
       "      <td>IMF chief backs Athens as permanent Olympic host</td>\n",
       "    </tr>\n",
       "    <tr>\n",
       "      <th>2</th>\n",
       "      <td>2016-07-01</td>\n",
       "      <td>The president of France says if Brexit won, so...</td>\n",
       "    </tr>\n",
       "    <tr>\n",
       "      <th>3</th>\n",
       "      <td>2016-07-01</td>\n",
       "      <td>British Man Who Must Give Police 24 Hours' Not...</td>\n",
       "    </tr>\n",
       "    <tr>\n",
       "      <th>4</th>\n",
       "      <td>2016-07-01</td>\n",
       "      <td>100+ Nobel laureates urge Greenpeace to stop o...</td>\n",
       "    </tr>\n",
       "  </tbody>\n",
       "</table>\n",
       "</div>"
      ],
      "text/plain": [
       "        Date                                               News\n",
       "0 2016-07-01  A 117-year-old woman in Mexico City finally re...\n",
       "1 2016-07-01   IMF chief backs Athens as permanent Olympic host\n",
       "2 2016-07-01  The president of France says if Brexit won, so...\n",
       "3 2016-07-01  British Man Who Must Give Police 24 Hours' Not...\n",
       "4 2016-07-01  100+ Nobel laureates urge Greenpeace to stop o..."
      ]
     },
     "execution_count": 3,
     "metadata": {
      "tags": []
     },
     "output_type": "execute_result"
    }
   ],
   "source": [
    "# Exploramos redditnews\n",
    "RedditNews.head()"
   ]
  },
  {
   "cell_type": "code",
   "execution_count": 0,
   "metadata": {
    "colab": {
     "base_uri": "https://localhost:8080/",
     "height": 683
    },
    "colab_type": "code",
    "id": "TSDQKqDki7ru",
    "outputId": "ca320d0c-766e-4049-8c84-256a94cdcd1b"
   },
   "outputs": [
    {
     "data": {
      "text/html": [
       "<div>\n",
       "<style scoped>\n",
       "    .dataframe tbody tr th:only-of-type {\n",
       "        vertical-align: middle;\n",
       "    }\n",
       "\n",
       "    .dataframe tbody tr th {\n",
       "        vertical-align: top;\n",
       "    }\n",
       "\n",
       "    .dataframe thead th {\n",
       "        text-align: right;\n",
       "    }\n",
       "</style>\n",
       "<table border=\"1\" class=\"dataframe\">\n",
       "  <thead>\n",
       "    <tr style=\"text-align: right;\">\n",
       "      <th></th>\n",
       "      <th>Date</th>\n",
       "      <th>Label</th>\n",
       "      <th>Top1</th>\n",
       "      <th>Top2</th>\n",
       "      <th>Top3</th>\n",
       "      <th>Top4</th>\n",
       "      <th>Top5</th>\n",
       "      <th>Top6</th>\n",
       "      <th>Top7</th>\n",
       "      <th>Top8</th>\n",
       "      <th>Top9</th>\n",
       "      <th>Top10</th>\n",
       "      <th>Top11</th>\n",
       "      <th>Top12</th>\n",
       "      <th>Top13</th>\n",
       "      <th>Top14</th>\n",
       "      <th>Top15</th>\n",
       "      <th>Top16</th>\n",
       "      <th>Top17</th>\n",
       "      <th>Top18</th>\n",
       "      <th>Top19</th>\n",
       "      <th>Top20</th>\n",
       "      <th>Top21</th>\n",
       "      <th>Top22</th>\n",
       "      <th>Top23</th>\n",
       "      <th>Top24</th>\n",
       "      <th>Top25</th>\n",
       "    </tr>\n",
       "  </thead>\n",
       "  <tbody>\n",
       "    <tr>\n",
       "      <th>0</th>\n",
       "      <td>2008-08-08</td>\n",
       "      <td>0</td>\n",
       "      <td>b\"Georgia 'downs two Russian warplanes' as cou...</td>\n",
       "      <td>b'BREAKING: Musharraf to be impeached.'</td>\n",
       "      <td>b'Russia Today: Columns of troops roll into So...</td>\n",
       "      <td>b'Russian tanks are moving towards the capital...</td>\n",
       "      <td>b\"Afghan children raped with 'impunity,' U.N. ...</td>\n",
       "      <td>b'150 Russian tanks have entered South Ossetia...</td>\n",
       "      <td>b\"Breaking: Georgia invades South Ossetia, Rus...</td>\n",
       "      <td>b\"The 'enemy combatent' trials are nothing but...</td>\n",
       "      <td>b'Georgian troops retreat from S. Osettain cap...</td>\n",
       "      <td>b'Did the U.S. Prep Georgia for War with Russia?'</td>\n",
       "      <td>b'Rice Gives Green Light for Israel to Attack ...</td>\n",
       "      <td>b'Announcing:Class Action Lawsuit on Behalf of...</td>\n",
       "      <td>b\"So---Russia and Georgia are at war and the N...</td>\n",
       "      <td>b\"China tells Bush to stay out of other countr...</td>\n",
       "      <td>b'Did World War III start today?'</td>\n",
       "      <td>b'Georgia Invades South Ossetia - if Russia ge...</td>\n",
       "      <td>b'Al-Qaeda Faces Islamist Backlash'</td>\n",
       "      <td>b'Condoleezza Rice: \"The US would not act to p...</td>\n",
       "      <td>b'This is a busy day:  The European Union has ...</td>\n",
       "      <td>b\"Georgia will withdraw 1,000 soldiers from Ir...</td>\n",
       "      <td>b'Why the Pentagon Thinks Attacking Iran is a ...</td>\n",
       "      <td>b'Caucasus in crisis: Georgia invades South Os...</td>\n",
       "      <td>b'Indian shoe manufactory  - And again in a se...</td>\n",
       "      <td>b'Visitors Suffering from Mental Illnesses Ban...</td>\n",
       "      <td>b\"No Help for Mexico's Kidnapping Surge\"</td>\n",
       "    </tr>\n",
       "    <tr>\n",
       "      <th>1</th>\n",
       "      <td>2008-08-11</td>\n",
       "      <td>1</td>\n",
       "      <td>b'Why wont America and Nato help us? If they w...</td>\n",
       "      <td>b'Bush puts foot down on Georgian conflict'</td>\n",
       "      <td>b\"Jewish Georgian minister: Thanks to Israeli ...</td>\n",
       "      <td>b'Georgian army flees in disarray as Russians ...</td>\n",
       "      <td>b\"Olympic opening ceremony fireworks 'faked'\"</td>\n",
       "      <td>b'What were the Mossad with fraudulent New Zea...</td>\n",
       "      <td>b'Russia angered by Israeli military sale to G...</td>\n",
       "      <td>b'An American citizen living in S.Ossetia blam...</td>\n",
       "      <td>b'Welcome To World War IV! Now In High Definit...</td>\n",
       "      <td>b\"Georgia's move, a mistake of monumental prop...</td>\n",
       "      <td>b'Russia presses deeper into Georgia; U.S. say...</td>\n",
       "      <td>b'Abhinav Bindra wins first ever Individual Ol...</td>\n",
       "      <td>b' U.S. ship heads for Arctic to define territ...</td>\n",
       "      <td>b'Drivers in a Jerusalem taxi station threaten...</td>\n",
       "      <td>b'The French Team is Stunned by Phelps and the...</td>\n",
       "      <td>b'Israel and the US behind the Georgian aggres...</td>\n",
       "      <td>b'\"Do not believe TV, neither Russian nor Geor...</td>\n",
       "      <td>b'Riots are still going on in Montreal (Canada...</td>\n",
       "      <td>b'China to overtake US as largest manufacturer'</td>\n",
       "      <td>b'War in South Ossetia [PICS]'</td>\n",
       "      <td>b'Israeli Physicians Group Condemns State Tort...</td>\n",
       "      <td>b' Russia has just beaten the United States ov...</td>\n",
       "      <td>b'Perhaps *the* question about the Georgia - R...</td>\n",
       "      <td>b'Russia is so much better at war'</td>\n",
       "      <td>b\"So this is what it's come to: trading sex fo...</td>\n",
       "    </tr>\n",
       "    <tr>\n",
       "      <th>2</th>\n",
       "      <td>2008-08-12</td>\n",
       "      <td>0</td>\n",
       "      <td>b'Remember that adorable 9-year-old who sang a...</td>\n",
       "      <td>b\"Russia 'ends Georgia operation'\"</td>\n",
       "      <td>b'\"If we had no sexual harassment we would hav...</td>\n",
       "      <td>b\"Al-Qa'eda is losing support in Iraq because ...</td>\n",
       "      <td>b'Ceasefire in Georgia: Putin Outmaneuvers the...</td>\n",
       "      <td>b'Why Microsoft and Intel tried to kill the XO...</td>\n",
       "      <td>b'Stratfor: The Russo-Georgian War and the Bal...</td>\n",
       "      <td>b\"I'm Trying to Get a Sense of This Whole Geor...</td>\n",
       "      <td>b\"The US military was surprised by the timing ...</td>\n",
       "      <td>b'U.S. Beats War Drum as Iran Dumps the Dollar'</td>\n",
       "      <td>b'Gorbachev: \"Georgian military attacked the S...</td>\n",
       "      <td>b'CNN use footage of Tskhinvali ruins to cover...</td>\n",
       "      <td>b'Beginning a war as the Olympics were opening...</td>\n",
       "      <td>b'55 pyramids as large as the Luxor stacked in...</td>\n",
       "      <td>b'The 11 Top Party Cities in the World'</td>\n",
       "      <td>b'U.S. troops still in Georgia (did you know t...</td>\n",
       "      <td>b'Why Russias response to Georgia was right'</td>\n",
       "      <td>b'Gorbachev accuses U.S. of making a \"serious ...</td>\n",
       "      <td>b'Russia, Georgia, and NATO: Cold War Two'</td>\n",
       "      <td>b'Remember that adorable 62-year-old who led y...</td>\n",
       "      <td>b'War in Georgia: The Israeli connection'</td>\n",
       "      <td>b'All signs point to the US encouraging Georgi...</td>\n",
       "      <td>b'Christopher King argues that the US and NATO...</td>\n",
       "      <td>b'America: The New Mexico?'</td>\n",
       "      <td>b\"BBC NEWS | Asia-Pacific | Extinction 'by man...</td>\n",
       "    </tr>\n",
       "    <tr>\n",
       "      <th>3</th>\n",
       "      <td>2008-08-13</td>\n",
       "      <td>0</td>\n",
       "      <td>b' U.S. refuses Israel weapons to attack Iran:...</td>\n",
       "      <td>b\"When the president ordered to attack Tskhinv...</td>\n",
       "      <td>b' Israel clears troops who killed Reuters cam...</td>\n",
       "      <td>b'Britain\\'s policy of being tough on drugs is...</td>\n",
       "      <td>b'Body of 14 year old found in trunk; Latest (...</td>\n",
       "      <td>b'China has moved 10 *million* quake survivors...</td>\n",
       "      <td>b\"Bush announces Operation Get All Up In Russi...</td>\n",
       "      <td>b'Russian forces sink Georgian ships '</td>\n",
       "      <td>b\"The commander of a Navy air reconnaissance s...</td>\n",
       "      <td>b\"92% of CNN readers: Russia's actions in Geor...</td>\n",
       "      <td>b'USA to send fleet into Black Sea to help Geo...</td>\n",
       "      <td>b\"US warns against Israeli plan to strike agai...</td>\n",
       "      <td>b\"In an intriguing cyberalliance, two Estonian...</td>\n",
       "      <td>b'The CNN Effect: Georgia Schools Russia in In...</td>\n",
       "      <td>b'Why Russias response to Georgia was right'</td>\n",
       "      <td>b'Elephants extinct by 2020?'</td>\n",
       "      <td>b'US humanitarian missions soon in Georgia - i...</td>\n",
       "      <td>b\"Georgia's DDOS came from US sources\"</td>\n",
       "      <td>b'Russian convoy heads into Georgia, violating...</td>\n",
       "      <td>b'Israeli defence minister: US against strike ...</td>\n",
       "      <td>b'Gorbachev: We Had No Choice'</td>\n",
       "      <td>b'Witness: Russian forces head towards Tbilisi...</td>\n",
       "      <td>b' Quarter of Russians blame U.S. for conflict...</td>\n",
       "      <td>b'Georgian president  says US military will ta...</td>\n",
       "      <td>b'2006: Nobel laureate Aleksander Solzhenitsyn...</td>\n",
       "    </tr>\n",
       "    <tr>\n",
       "      <th>4</th>\n",
       "      <td>2008-08-14</td>\n",
       "      <td>1</td>\n",
       "      <td>b'All the experts admit that we should legalis...</td>\n",
       "      <td>b'War in South Osetia - 89 pictures made by a ...</td>\n",
       "      <td>b'Swedish wrestler Ara Abrahamian throws away ...</td>\n",
       "      <td>b'Russia exaggerated the death toll in South O...</td>\n",
       "      <td>b'Missile That Killed 9 Inside Pakistan May Ha...</td>\n",
       "      <td>b\"Rushdie Condemns Random House's Refusal to P...</td>\n",
       "      <td>b'Poland and US agree to missle defense deal. ...</td>\n",
       "      <td>b'Will the Russians conquer Tblisi? Bet on it,...</td>\n",
       "      <td>b'Russia exaggerating South Ossetian death tol...</td>\n",
       "      <td>b' Musharraf expected to resign rather than fa...</td>\n",
       "      <td>b'Moscow Made Plans Months Ago to Invade Georgia'</td>\n",
       "      <td>b'Why Russias response to Georgia was right'</td>\n",
       "      <td>b'Nigeria has handed over the potentially oil-...</td>\n",
       "      <td>b'The US and Poland have agreed a preliminary ...</td>\n",
       "      <td>b'Russia apparently is sabotaging infrastructu...</td>\n",
       "      <td>b'Bank analyst forecast Georgian crisis 2 days...</td>\n",
       "      <td>b\"Georgia confict could set back Russia's US r...</td>\n",
       "      <td>b'War in the Caucasus is as much the product o...</td>\n",
       "      <td>b'\"Non-media\" photos of South Ossetia/Georgia ...</td>\n",
       "      <td>b'Georgian TV reporter shot by Russian sniper ...</td>\n",
       "      <td>b'Saudi Arabia: Mother moves to block child ma...</td>\n",
       "      <td>b'Taliban wages war on humanitarian aid workers'</td>\n",
       "      <td>b'Russia: World  \"can forget about\" Georgia\\'s...</td>\n",
       "      <td>b'Darfur rebels accuse Sudan of mounting major...</td>\n",
       "      <td>b'Philippines : Peace Advocate say Muslims nee...</td>\n",
       "    </tr>\n",
       "  </tbody>\n",
       "</table>\n",
       "</div>"
      ],
      "text/plain": [
       "        Date  ...                                              Top25\n",
       "0 2008-08-08  ...           b\"No Help for Mexico's Kidnapping Surge\"\n",
       "1 2008-08-11  ...  b\"So this is what it's come to: trading sex fo...\n",
       "2 2008-08-12  ...  b\"BBC NEWS | Asia-Pacific | Extinction 'by man...\n",
       "3 2008-08-13  ...  b'2006: Nobel laureate Aleksander Solzhenitsyn...\n",
       "4 2008-08-14  ...  b'Philippines : Peace Advocate say Muslims nee...\n",
       "\n",
       "[5 rows x 27 columns]"
      ]
     },
     "execution_count": 4,
     "metadata": {
      "tags": []
     },
     "output_type": "execute_result"
    }
   ],
   "source": [
    "# Exploramos combinedNews\n",
    "CombinedNews.head()"
   ]
  },
  {
   "cell_type": "markdown",
   "metadata": {
    "colab_type": "text",
    "id": "jOKnAJ2Mw2ug"
   },
   "source": [
    "Analizar la distribución de clases"
   ]
  },
  {
   "cell_type": "code",
   "execution_count": 0,
   "metadata": {
    "colab": {
     "base_uri": "https://localhost:8080/",
     "height": 455
    },
    "colab_type": "code",
    "id": "NebaOCUgi2Pk",
    "outputId": "96a05ca4-7047-480b-a3a3-35280d2a011a"
   },
   "outputs": [
    {
     "name": "stderr",
     "output_type": "stream",
     "text": [
      "/usr/local/lib/python3.6/dist-packages/statsmodels/tools/_testing.py:19: FutureWarning: pandas.util.testing is deprecated. Use the functions in the public API at pandas.testing instead.\n",
      "  import pandas.util.testing as tm\n"
     ]
    },
    {
     "data": {
      "text/html": [
       "<div>\n",
       "<style scoped>\n",
       "    .dataframe tbody tr th:only-of-type {\n",
       "        vertical-align: middle;\n",
       "    }\n",
       "\n",
       "    .dataframe tbody tr th {\n",
       "        vertical-align: top;\n",
       "    }\n",
       "\n",
       "    .dataframe thead th {\n",
       "        text-align: right;\n",
       "    }\n",
       "</style>\n",
       "<table border=\"1\" class=\"dataframe\">\n",
       "  <thead>\n",
       "    <tr style=\"text-align: right;\">\n",
       "      <th></th>\n",
       "      <th>count</th>\n",
       "    </tr>\n",
       "    <tr>\n",
       "      <th>Label</th>\n",
       "      <th></th>\n",
       "    </tr>\n",
       "  </thead>\n",
       "  <tbody>\n",
       "    <tr>\n",
       "      <th>0</th>\n",
       "      <td>924</td>\n",
       "    </tr>\n",
       "    <tr>\n",
       "      <th>1</th>\n",
       "      <td>1065</td>\n",
       "    </tr>\n",
       "  </tbody>\n",
       "</table>\n",
       "</div>"
      ],
      "text/plain": [
       "       count\n",
       "Label       \n",
       "0        924\n",
       "1       1065"
      ]
     },
     "metadata": {
      "tags": []
     },
     "output_type": "display_data"
    },
    {
     "data": {
      "text/plain": [
       "<matplotlib.axes._subplots.AxesSubplot at 0x7fe096c4e390>"
      ]
     },
     "execution_count": 7,
     "metadata": {
      "tags": []
     },
     "output_type": "execute_result"
    },
    {
     "data": {
      "image/png": "[encoded data removed]",
      "text/plain": [
       "<Figure size 432x288 with 1 Axes>"
      ]
     },
     "metadata": {
      "needs_background": "light",
      "tags": []
     },
     "output_type": "display_data"
    }
   ],
   "source": [
    "## Distribución de clases\n",
    "import seaborn as sns\n",
    "\n",
    "display( CombinedNews.groupby(['Label'])['Date'].agg(['count']))\n",
    "sns.countplot(x='Label', data=CombinedNews)"
   ]
  },
  {
   "cell_type": "markdown",
   "metadata": {
    "colab_type": "text",
    "id": "bNespKOow8hW"
   },
   "source": [
    "Analizar cantidad de noticias, pueden haber días sin el todo el top 25"
   ]
  },
  {
   "cell_type": "code",
   "execution_count": 0,
   "metadata": {
    "colab": {
     "base_uri": "https://localhost:8080/",
     "height": 142
    },
    "colab_type": "code",
    "id": "XWmYqj8Lk7Xd",
    "outputId": "4c1025e9-cd49-4ee0-93d4-3417c92b7775"
   },
   "outputs": [
    {
     "data": {
      "text/html": [
       "<div>\n",
       "<style scoped>\n",
       "    .dataframe tbody tr th:only-of-type {\n",
       "        vertical-align: middle;\n",
       "    }\n",
       "\n",
       "    .dataframe tbody tr th {\n",
       "        vertical-align: top;\n",
       "    }\n",
       "\n",
       "    .dataframe thead th {\n",
       "        text-align: right;\n",
       "    }\n",
       "</style>\n",
       "<table border=\"1\" class=\"dataframe\">\n",
       "  <thead>\n",
       "    <tr style=\"text-align: right;\">\n",
       "      <th></th>\n",
       "      <th>index</th>\n",
       "      <th>0</th>\n",
       "    </tr>\n",
       "  </thead>\n",
       "  <tbody>\n",
       "    <tr>\n",
       "      <th>24</th>\n",
       "      <td>Top23</td>\n",
       "      <td>1</td>\n",
       "    </tr>\n",
       "    <tr>\n",
       "      <th>25</th>\n",
       "      <td>Top24</td>\n",
       "      <td>3</td>\n",
       "    </tr>\n",
       "    <tr>\n",
       "      <th>26</th>\n",
       "      <td>Top25</td>\n",
       "      <td>3</td>\n",
       "    </tr>\n",
       "  </tbody>\n",
       "</table>\n",
       "</div>"
      ],
      "text/plain": [
       "    index  0\n",
       "24  Top23  1\n",
       "25  Top24  3\n",
       "26  Top25  3"
      ]
     },
     "execution_count": 8,
     "metadata": {
      "tags": []
     },
     "output_type": "execute_result"
    }
   ],
   "source": [
    "## Ver si hay días que no tienen 25 noticias \n",
    "nulls_by_col = CombinedNews.isnull().sum().reset_index()\n",
    "nulls_by_col[nulls_by_col[0]>0]"
   ]
  },
  {
   "cell_type": "code",
   "execution_count": 0,
   "metadata": {
    "colab": {
     "base_uri": "https://localhost:8080/",
     "height": 468
    },
    "colab_type": "code",
    "id": "9i1RWIeso0Te",
    "outputId": "83aa688b-bdbb-4b4d-8b2a-efa06914ad0e"
   },
   "outputs": [
    {
     "data": {
      "text/html": [
       "<div>\n",
       "<style scoped>\n",
       "    .dataframe tbody tr th:only-of-type {\n",
       "        vertical-align: middle;\n",
       "    }\n",
       "\n",
       "    .dataframe tbody tr th {\n",
       "        vertical-align: top;\n",
       "    }\n",
       "\n",
       "    .dataframe thead th {\n",
       "        text-align: right;\n",
       "    }\n",
       "</style>\n",
       "<table border=\"1\" class=\"dataframe\">\n",
       "  <thead>\n",
       "    <tr style=\"text-align: right;\">\n",
       "      <th></th>\n",
       "      <th>Date</th>\n",
       "      <th>Label</th>\n",
       "      <th>Top1</th>\n",
       "      <th>Top2</th>\n",
       "      <th>Top3</th>\n",
       "      <th>Top4</th>\n",
       "      <th>Top5</th>\n",
       "      <th>Top6</th>\n",
       "      <th>Top7</th>\n",
       "      <th>Top8</th>\n",
       "      <th>Top9</th>\n",
       "      <th>Top10</th>\n",
       "      <th>Top11</th>\n",
       "      <th>Top12</th>\n",
       "      <th>Top13</th>\n",
       "      <th>Top14</th>\n",
       "      <th>Top15</th>\n",
       "      <th>Top16</th>\n",
       "      <th>Top17</th>\n",
       "      <th>Top18</th>\n",
       "      <th>Top19</th>\n",
       "      <th>Top20</th>\n",
       "      <th>Top21</th>\n",
       "      <th>Top22</th>\n",
       "      <th>Top23</th>\n",
       "      <th>Top24</th>\n",
       "      <th>Top25</th>\n",
       "    </tr>\n",
       "  </thead>\n",
       "  <tbody>\n",
       "    <tr>\n",
       "      <th>277</th>\n",
       "      <td>2009-09-15</td>\n",
       "      <td>1</td>\n",
       "      <td>b'The Church of Scientology won\\'t be dissolve...</td>\n",
       "      <td>b'New virus from rats can kill 80 per cent of ...</td>\n",
       "      <td>b'The gruesome spectacle of dolphins being sla...</td>\n",
       "      <td>b'The End of Innocence in Afghanistan: \\'The G...</td>\n",
       "      <td>b'France approves Internet piracy bill'</td>\n",
       "      <td>b'The Rural Doctors Association says right now...</td>\n",
       "      <td>b'Al Jazeera English - Africa - Shabab to aven...</td>\n",
       "      <td>b\"How Sri Lanka governs through detentions - S...</td>\n",
       "      <td>b'Two months after the Pakistani Army wrested ...</td>\n",
       "      <td>b'N. Korean cargo ship repels pirates off Soma...</td>\n",
       "      <td>b'Canada: Stephen Harper attempts to prop up r...</td>\n",
       "      <td>b'New geological data provides hope for claims...</td>\n",
       "      <td>b'Ukraine set to block Elton John adoption bec...</td>\n",
       "      <td>b'German plane makes emergency landing'</td>\n",
       "      <td>b'Street artist catches chief of the Israeli a...</td>\n",
       "      <td>b'In an equine echo of the controversy surroun...</td>\n",
       "      <td>b'UPDATE: 5-New York homes raided in terrorism...</td>\n",
       "      <td>b'Population Growth Impeding Progress on the M...</td>\n",
       "      <td>b'Global Population to Reach 7 Billion by 2011'</td>\n",
       "      <td>b'Government Funded Feminist Porn '</td>\n",
       "      <td>b'Can someone enlighten me re:Holy Land disput...</td>\n",
       "      <td>b'Human Rights Watch official suspended for co...</td>\n",
       "      <td>NaN</td>\n",
       "      <td>NaN</td>\n",
       "      <td>NaN</td>\n",
       "    </tr>\n",
       "    <tr>\n",
       "      <th>348</th>\n",
       "      <td>2009-12-24</td>\n",
       "      <td>1</td>\n",
       "      <td>b'Woman knocks down Pope Benedict at Christmas...</td>\n",
       "      <td>b'Ugandan President Museveni says he will bloc...</td>\n",
       "      <td>b\"Venezuela's Chavez threatens to kick out car...</td>\n",
       "      <td>b'Woman who knocked down pope had pasta in her...</td>\n",
       "      <td>b'450 people from 21 countries, including 30 f...</td>\n",
       "      <td>b'Chvez declares Angel Falls is no more: World...</td>\n",
       "      <td>b'Drug tests catch out 10 police (UK)'</td>\n",
       "      <td>b'Once the worlds fourth-largest lake, the Ara...</td>\n",
       "      <td>b\"Cool Saudi Feminist calls for woman's right ...</td>\n",
       "      <td>b'According to satellite surveys, as much as 8...</td>\n",
       "      <td>b'Italian Prime Minister Silvio Berlusconi has...</td>\n",
       "      <td>b\"Don't blame the system for winter travel cha...</td>\n",
       "      <td>b'Christmas Eve around the world included the ...</td>\n",
       "      <td>b'Pope knocked down before Xmas mass'</td>\n",
       "      <td>b'The solar salesman who put his cow on the ma...</td>\n",
       "      <td>b'Pig farts spark Australia gas scare - I shit...</td>\n",
       "      <td>b'Bin Laden daughter flees to Saudi embassy in...</td>\n",
       "      <td>b'Traumatic Brain Injuries:  Growing evidence ...</td>\n",
       "      <td>b'The Pakistan Supreme Court has ordered the P...</td>\n",
       "      <td>b\"Here's a video the Taliban released this mor...</td>\n",
       "      <td>b'Fireworks set off aboard airliner'</td>\n",
       "      <td>b'Five VA men may face terrorism charges, Paki...</td>\n",
       "      <td>b\"Ayatollah Montazeri's Legacy:  In death he m...</td>\n",
       "      <td>NaN</td>\n",
       "      <td>NaN</td>\n",
       "    </tr>\n",
       "    <tr>\n",
       "      <th>681</th>\n",
       "      <td>2011-04-21</td>\n",
       "      <td>1</td>\n",
       "      <td>Director of \"Restrepo\" and Photographer Chris ...</td>\n",
       "      <td>Everyone within 20km of Fukushima will be forc...</td>\n",
       "      <td>Bahrain: Activist Zaynab Al-Khawaja's letter t...</td>\n",
       "      <td>More than 80,000 people are claiming incapacit...</td>\n",
       "      <td>Libya: 'mission creep' claims as UK sends in m...</td>\n",
       "      <td>Japan considers banning access to evacuation zone</td>\n",
       "      <td>Chinese oil giant Sinopec has stopped exportin...</td>\n",
       "      <td>6.0-magnitude earthquake strikes off east coas...</td>\n",
       "      <td>Next war in line: At least 20 South Sudanese a...</td>\n",
       "      <td>Bahraini protester ends hunger strike after be...</td>\n",
       "      <td>China tries to scare motorists into safer driving</td>\n",
       "      <td>Leaked Report Shows England Hit With Three Nuc...</td>\n",
       "      <td>Japans cyclone season approaches.</td>\n",
       "      <td>Have Oman and Qatar escaped the Arab revolts?</td>\n",
       "      <td>Rioters torch Australia asylum seeker detentio...</td>\n",
       "      <td>Russian migration official fired in racism row...</td>\n",
       "      <td>Small amounts of radioactive iodine found in b...</td>\n",
       "      <td>War photographer, Oscar-nominated film directo...</td>\n",
       "      <td>Effeminate boys are being sent to a special ca...</td>\n",
       "      <td>Japan Government Declares 12-Mile Area Around ...</td>\n",
       "      <td>TEPCO admitted Wednesday that nuclear fuel in ...</td>\n",
       "      <td>Fukushima evacuees face arrest if they return ...</td>\n",
       "      <td>Prince Charles wins some kind of a record</td>\n",
       "      <td>NaN</td>\n",
       "      <td>NaN</td>\n",
       "    </tr>\n",
       "  </tbody>\n",
       "</table>\n",
       "</div>"
      ],
      "text/plain": [
       "          Date  Label  ... Top24 Top25\n",
       "277 2009-09-15      1  ...   NaN   NaN\n",
       "348 2009-12-24      1  ...   NaN   NaN\n",
       "681 2011-04-21      1  ...   NaN   NaN\n",
       "\n",
       "[3 rows x 27 columns]"
      ]
     },
     "execution_count": 9,
     "metadata": {
      "tags": []
     },
     "output_type": "execute_result"
    }
   ],
   "source": [
    "CombinedNews[pd.isnull(CombinedNews['Top25'])]\n",
    "## 3 días no tienen ni top 24 ni top 25, y uno de esos tampoco tiene top 23"
   ]
  },
  {
   "cell_type": "code",
   "execution_count": 0,
   "metadata": {
    "colab": {
     "base_uri": "https://localhost:8080/",
     "height": 173
    },
    "colab_type": "code",
    "id": "vI8SfwKXpgwo",
    "outputId": "b5d4de9b-25a3-4919-ee5b-83edfbbbb2f8"
   },
   "outputs": [
    {
     "data": {
      "text/html": [
       "<div>\n",
       "<style scoped>\n",
       "    .dataframe tbody tr th:only-of-type {\n",
       "        vertical-align: middle;\n",
       "    }\n",
       "\n",
       "    .dataframe tbody tr th {\n",
       "        vertical-align: top;\n",
       "    }\n",
       "\n",
       "    .dataframe thead th {\n",
       "        text-align: right;\n",
       "    }\n",
       "</style>\n",
       "<table border=\"1\" class=\"dataframe\">\n",
       "  <thead>\n",
       "    <tr style=\"text-align: right;\">\n",
       "      <th></th>\n",
       "      <th>News</th>\n",
       "    </tr>\n",
       "    <tr>\n",
       "      <th>Date</th>\n",
       "      <th></th>\n",
       "    </tr>\n",
       "  </thead>\n",
       "  <tbody>\n",
       "    <tr>\n",
       "      <th>2009-09-15</th>\n",
       "      <td>22</td>\n",
       "    </tr>\n",
       "    <tr>\n",
       "      <th>2009-12-24</th>\n",
       "      <td>23</td>\n",
       "    </tr>\n",
       "    <tr>\n",
       "      <th>2011-04-21</th>\n",
       "      <td>23</td>\n",
       "    </tr>\n",
       "  </tbody>\n",
       "</table>\n",
       "</div>"
      ],
      "text/plain": [
       "            News\n",
       "Date            \n",
       "2009-09-15    22\n",
       "2009-12-24    23\n",
       "2011-04-21    23"
      ]
     },
     "execution_count": 10,
     "metadata": {
      "tags": []
     },
     "output_type": "execute_result"
    }
   ],
   "source": [
    "## Vamos a comprobar que en el el dataset que están todas las noticias se tenga el mismo numero\n",
    "news_by_day = RedditNews.groupby(['Date']).agg('count')\n",
    "news_by_day[news_by_day['News']!=25]\n"
   ]
  },
  {
   "cell_type": "markdown",
   "metadata": {
    "colab_type": "text",
    "id": "xtvhfV6FxW7S"
   },
   "source": [
    "Añadir el numero del top correspondiente a las noticias, y la etiqueta del día"
   ]
  },
  {
   "cell_type": "code",
   "execution_count": 0,
   "metadata": {
    "colab": {
     "base_uri": "https://localhost:8080/",
     "height": 824
    },
    "colab_type": "code",
    "id": "OeUGRs5Ojt5o",
    "outputId": "b74782c7-d91c-44da-f3f6-3fa2f624b51b"
   },
   "outputs": [
    {
     "data": {
      "text/html": [
       "<div>\n",
       "<style scoped>\n",
       "    .dataframe tbody tr th:only-of-type {\n",
       "        vertical-align: middle;\n",
       "    }\n",
       "\n",
       "    .dataframe tbody tr th {\n",
       "        vertical-align: top;\n",
       "    }\n",
       "\n",
       "    .dataframe thead th {\n",
       "        text-align: right;\n",
       "    }\n",
       "</style>\n",
       "<table border=\"1\" class=\"dataframe\">\n",
       "  <thead>\n",
       "    <tr style=\"text-align: right;\">\n",
       "      <th></th>\n",
       "      <th>Date</th>\n",
       "      <th>News</th>\n",
       "      <th>Top</th>\n",
       "      <th>Label</th>\n",
       "    </tr>\n",
       "  </thead>\n",
       "  <tbody>\n",
       "    <tr>\n",
       "      <th>0</th>\n",
       "      <td>2016-07-01</td>\n",
       "      <td>A 117-year-old woman in Mexico City finally re...</td>\n",
       "      <td>1</td>\n",
       "      <td>1</td>\n",
       "    </tr>\n",
       "    <tr>\n",
       "      <th>1</th>\n",
       "      <td>2016-07-01</td>\n",
       "      <td>IMF chief backs Athens as permanent Olympic host</td>\n",
       "      <td>2</td>\n",
       "      <td>1</td>\n",
       "    </tr>\n",
       "    <tr>\n",
       "      <th>2</th>\n",
       "      <td>2016-07-01</td>\n",
       "      <td>The president of France says if Brexit won, so...</td>\n",
       "      <td>3</td>\n",
       "      <td>1</td>\n",
       "    </tr>\n",
       "    <tr>\n",
       "      <th>3</th>\n",
       "      <td>2016-07-01</td>\n",
       "      <td>British Man Who Must Give Police 24 Hours' Not...</td>\n",
       "      <td>4</td>\n",
       "      <td>1</td>\n",
       "    </tr>\n",
       "    <tr>\n",
       "      <th>4</th>\n",
       "      <td>2016-07-01</td>\n",
       "      <td>100+ Nobel laureates urge Greenpeace to stop o...</td>\n",
       "      <td>5</td>\n",
       "      <td>1</td>\n",
       "    </tr>\n",
       "    <tr>\n",
       "      <th>5</th>\n",
       "      <td>2016-07-01</td>\n",
       "      <td>Brazil: Huge spike in number of police killing...</td>\n",
       "      <td>6</td>\n",
       "      <td>1</td>\n",
       "    </tr>\n",
       "    <tr>\n",
       "      <th>6</th>\n",
       "      <td>2016-07-01</td>\n",
       "      <td>Austria's highest court annuls presidential el...</td>\n",
       "      <td>7</td>\n",
       "      <td>1</td>\n",
       "    </tr>\n",
       "    <tr>\n",
       "      <th>7</th>\n",
       "      <td>2016-07-01</td>\n",
       "      <td>Facebook wins privacy case, can track any Belg...</td>\n",
       "      <td>8</td>\n",
       "      <td>1</td>\n",
       "    </tr>\n",
       "    <tr>\n",
       "      <th>8</th>\n",
       "      <td>2016-07-01</td>\n",
       "      <td>Switzerland denies Muslim girls citizenship af...</td>\n",
       "      <td>9</td>\n",
       "      <td>1</td>\n",
       "    </tr>\n",
       "    <tr>\n",
       "      <th>9</th>\n",
       "      <td>2016-07-01</td>\n",
       "      <td>China kills millions of innocent meditators fo...</td>\n",
       "      <td>10</td>\n",
       "      <td>1</td>\n",
       "    </tr>\n",
       "    <tr>\n",
       "      <th>10</th>\n",
       "      <td>2016-07-01</td>\n",
       "      <td>France Cracks Down on Factory Farms - A viral ...</td>\n",
       "      <td>11</td>\n",
       "      <td>1</td>\n",
       "    </tr>\n",
       "    <tr>\n",
       "      <th>11</th>\n",
       "      <td>2016-07-01</td>\n",
       "      <td>Abbas PLO Faction Calls Killer of 13-Year-Old ...</td>\n",
       "      <td>12</td>\n",
       "      <td>1</td>\n",
       "    </tr>\n",
       "    <tr>\n",
       "      <th>12</th>\n",
       "      <td>2016-07-01</td>\n",
       "      <td>Taiwanese warship accidentally fires missile t...</td>\n",
       "      <td>13</td>\n",
       "      <td>1</td>\n",
       "    </tr>\n",
       "    <tr>\n",
       "      <th>13</th>\n",
       "      <td>2016-07-01</td>\n",
       "      <td>Iran celebrates American Human Rights Week, mo...</td>\n",
       "      <td>14</td>\n",
       "      <td>1</td>\n",
       "    </tr>\n",
       "    <tr>\n",
       "      <th>14</th>\n",
       "      <td>2016-07-01</td>\n",
       "      <td>U.N. panel moves to curb bias against L.G.B.T....</td>\n",
       "      <td>15</td>\n",
       "      <td>1</td>\n",
       "    </tr>\n",
       "    <tr>\n",
       "      <th>15</th>\n",
       "      <td>2016-07-01</td>\n",
       "      <td>The United States has placed Myanmar, Uzbekist...</td>\n",
       "      <td>16</td>\n",
       "      <td>1</td>\n",
       "    </tr>\n",
       "    <tr>\n",
       "      <th>16</th>\n",
       "      <td>2016-07-01</td>\n",
       "      <td>S&amp;amp;P revises European Union credit rating t...</td>\n",
       "      <td>17</td>\n",
       "      <td>1</td>\n",
       "    </tr>\n",
       "    <tr>\n",
       "      <th>17</th>\n",
       "      <td>2016-07-01</td>\n",
       "      <td>India gets $1 billion loan from World Bank for...</td>\n",
       "      <td>18</td>\n",
       "      <td>1</td>\n",
       "    </tr>\n",
       "    <tr>\n",
       "      <th>18</th>\n",
       "      <td>2016-07-01</td>\n",
       "      <td>U.S. sailors detained by Iran spoke too much u...</td>\n",
       "      <td>19</td>\n",
       "      <td>1</td>\n",
       "    </tr>\n",
       "    <tr>\n",
       "      <th>19</th>\n",
       "      <td>2016-07-01</td>\n",
       "      <td>Mass fish kill in Vietnam solved as Taiwan ste...</td>\n",
       "      <td>20</td>\n",
       "      <td>1</td>\n",
       "    </tr>\n",
       "    <tr>\n",
       "      <th>20</th>\n",
       "      <td>2016-07-01</td>\n",
       "      <td>Philippines president Rodrigo Duterte urges pe...</td>\n",
       "      <td>21</td>\n",
       "      <td>1</td>\n",
       "    </tr>\n",
       "    <tr>\n",
       "      <th>21</th>\n",
       "      <td>2016-07-01</td>\n",
       "      <td>Spain arrests three Pakistanis accused of prom...</td>\n",
       "      <td>22</td>\n",
       "      <td>1</td>\n",
       "    </tr>\n",
       "    <tr>\n",
       "      <th>22</th>\n",
       "      <td>2016-07-01</td>\n",
       "      <td>Venezuela, where anger over food shortages is ...</td>\n",
       "      <td>23</td>\n",
       "      <td>1</td>\n",
       "    </tr>\n",
       "    <tr>\n",
       "      <th>23</th>\n",
       "      <td>2016-07-01</td>\n",
       "      <td>A Hindu temple worker has been killed by three...</td>\n",
       "      <td>24</td>\n",
       "      <td>1</td>\n",
       "    </tr>\n",
       "    <tr>\n",
       "      <th>24</th>\n",
       "      <td>2016-07-01</td>\n",
       "      <td>Ozone layer hole seems to be healing - US &amp;amp...</td>\n",
       "      <td>25</td>\n",
       "      <td>1</td>\n",
       "    </tr>\n",
       "  </tbody>\n",
       "</table>\n",
       "</div>"
      ],
      "text/plain": [
       "         Date                                               News  Top  Label\n",
       "0  2016-07-01  A 117-year-old woman in Mexico City finally re...    1      1\n",
       "1  2016-07-01   IMF chief backs Athens as permanent Olympic host    2      1\n",
       "2  2016-07-01  The president of France says if Brexit won, so...    3      1\n",
       "3  2016-07-01  British Man Who Must Give Police 24 Hours' Not...    4      1\n",
       "4  2016-07-01  100+ Nobel laureates urge Greenpeace to stop o...    5      1\n",
       "5  2016-07-01  Brazil: Huge spike in number of police killing...    6      1\n",
       "6  2016-07-01  Austria's highest court annuls presidential el...    7      1\n",
       "7  2016-07-01  Facebook wins privacy case, can track any Belg...    8      1\n",
       "8  2016-07-01  Switzerland denies Muslim girls citizenship af...    9      1\n",
       "9  2016-07-01  China kills millions of innocent meditators fo...   10      1\n",
       "10 2016-07-01  France Cracks Down on Factory Farms - A viral ...   11      1\n",
       "11 2016-07-01  Abbas PLO Faction Calls Killer of 13-Year-Old ...   12      1\n",
       "12 2016-07-01  Taiwanese warship accidentally fires missile t...   13      1\n",
       "13 2016-07-01  Iran celebrates American Human Rights Week, mo...   14      1\n",
       "14 2016-07-01  U.N. panel moves to curb bias against L.G.B.T....   15      1\n",
       "15 2016-07-01  The United States has placed Myanmar, Uzbekist...   16      1\n",
       "16 2016-07-01  S&amp;P revises European Union credit rating t...   17      1\n",
       "17 2016-07-01  India gets $1 billion loan from World Bank for...   18      1\n",
       "18 2016-07-01  U.S. sailors detained by Iran spoke too much u...   19      1\n",
       "19 2016-07-01  Mass fish kill in Vietnam solved as Taiwan ste...   20      1\n",
       "20 2016-07-01  Philippines president Rodrigo Duterte urges pe...   21      1\n",
       "21 2016-07-01  Spain arrests three Pakistanis accused of prom...   22      1\n",
       "22 2016-07-01  Venezuela, where anger over food shortages is ...   23      1\n",
       "23 2016-07-01  A Hindu temple worker has been killed by three...   24      1\n",
       "24 2016-07-01  Ozone layer hole seems to be healing - US &amp...   25      1"
      ]
     },
     "execution_count": 11,
     "metadata": {
      "tags": []
     },
     "output_type": "execute_result"
    }
   ],
   "source": [
    "## Añadir columna del top correspondiente\n",
    "RedditNews['Top'] = RedditNews.groupby(['Date']).cumcount()+1\n",
    "\n",
    "## Añadir columna de la clase a este df\n",
    "RedditNews = pd.merge(RedditNews, CombinedNews[['Date','Label']], on=['Date'])\n",
    "\n",
    "RedditNews[RedditNews['Date']=='2016-07-01']"
   ]
  },
  {
   "cell_type": "markdown",
   "metadata": {
    "colab_type": "text",
    "id": "xVV84cMXxQNH"
   },
   "source": [
    "Limpieza de los datos"
   ]
  },
  {
   "cell_type": "code",
   "execution_count": 0,
   "metadata": {
    "colab": {
     "base_uri": "https://localhost:8080/",
     "height": 419
    },
    "colab_type": "code",
    "id": "4RzkeJR5trnX",
    "outputId": "c4c919ef-5813-4960-bcea-eb2f1da2adb7"
   },
   "outputs": [
    {
     "data": {
      "text/html": [
       "<div>\n",
       "<style scoped>\n",
       "    .dataframe tbody tr th:only-of-type {\n",
       "        vertical-align: middle;\n",
       "    }\n",
       "\n",
       "    .dataframe tbody tr th {\n",
       "        vertical-align: top;\n",
       "    }\n",
       "\n",
       "    .dataframe thead th {\n",
       "        text-align: right;\n",
       "    }\n",
       "</style>\n",
       "<table border=\"1\" class=\"dataframe\">\n",
       "  <thead>\n",
       "    <tr style=\"text-align: right;\">\n",
       "      <th></th>\n",
       "      <th>Date</th>\n",
       "      <th>News</th>\n",
       "      <th>Top</th>\n",
       "      <th>Label</th>\n",
       "    </tr>\n",
       "  </thead>\n",
       "  <tbody>\n",
       "    <tr>\n",
       "      <th>16</th>\n",
       "      <td>2016-07-01</td>\n",
       "      <td>S&amp;amp;P revises European Union credit rating t...</td>\n",
       "      <td>17</td>\n",
       "      <td>1</td>\n",
       "    </tr>\n",
       "    <tr>\n",
       "      <th>24</th>\n",
       "      <td>2016-07-01</td>\n",
       "      <td>Ozone layer hole seems to be healing - US &amp;amp...</td>\n",
       "      <td>25</td>\n",
       "      <td>1</td>\n",
       "    </tr>\n",
       "    <tr>\n",
       "      <th>53</th>\n",
       "      <td>2016-06-29</td>\n",
       "      <td>Devastated: scientists too late to captive bre...</td>\n",
       "      <td>4</td>\n",
       "      <td>1</td>\n",
       "    </tr>\n",
       "    <tr>\n",
       "      <th>77</th>\n",
       "      <td>2016-06-28</td>\n",
       "      <td>S&amp;amp;P cuts United Kingdom sovereign credit r...</td>\n",
       "      <td>3</td>\n",
       "      <td>1</td>\n",
       "    </tr>\n",
       "    <tr>\n",
       "      <th>181</th>\n",
       "      <td>2016-06-22</td>\n",
       "      <td>Police kill eight striking Mexican teachers as...</td>\n",
       "      <td>7</td>\n",
       "      <td>0</td>\n",
       "    </tr>\n",
       "    <tr>\n",
       "      <th>...</th>\n",
       "      <td>...</td>\n",
       "      <td>...</td>\n",
       "      <td>...</td>\n",
       "      <td>...</td>\n",
       "    </tr>\n",
       "    <tr>\n",
       "      <th>49043</th>\n",
       "      <td>2008-09-16</td>\n",
       "      <td>b\"Pakistani Tribesmen Representing Half A Mill...</td>\n",
       "      <td>1</td>\n",
       "      <td>1</td>\n",
       "    </tr>\n",
       "    <tr>\n",
       "      <th>49140</th>\n",
       "      <td>2008-09-11</td>\n",
       "      <td>b'BREAKING: Tsunami Alerts - Japan &amp;amp; Indon...</td>\n",
       "      <td>23</td>\n",
       "      <td>1</td>\n",
       "    </tr>\n",
       "    <tr>\n",
       "      <th>49420</th>\n",
       "      <td>2008-08-25</td>\n",
       "      <td>b'Israel claims allowing an aid ship to reach ...</td>\n",
       "      <td>3</td>\n",
       "      <td>0</td>\n",
       "    </tr>\n",
       "    <tr>\n",
       "      <th>49476</th>\n",
       "      <td>2008-08-21</td>\n",
       "      <td>b\"China sentences Alive in Baghdad blogger, GR...</td>\n",
       "      <td>9</td>\n",
       "      <td>1</td>\n",
       "    </tr>\n",
       "    <tr>\n",
       "      <th>49713</th>\n",
       "      <td>2008-08-08</td>\n",
       "      <td>b'Why the Pentagon Thinks Attacking Iran is a ...</td>\n",
       "      <td>21</td>\n",
       "      <td>0</td>\n",
       "    </tr>\n",
       "  </tbody>\n",
       "</table>\n",
       "<p>756 rows × 4 columns</p>\n",
       "</div>"
      ],
      "text/plain": [
       "            Date                                               News  Top  Label\n",
       "16    2016-07-01  S&amp;P revises European Union credit rating t...   17      1\n",
       "24    2016-07-01  Ozone layer hole seems to be healing - US &amp...   25      1\n",
       "53    2016-06-29  Devastated: scientists too late to captive bre...    4      1\n",
       "77    2016-06-28  S&amp;P cuts United Kingdom sovereign credit r...    3      1\n",
       "181   2016-06-22  Police kill eight striking Mexican teachers as...    7      0\n",
       "...          ...                                                ...  ...    ...\n",
       "49043 2008-09-16  b\"Pakistani Tribesmen Representing Half A Mill...    1      1\n",
       "49140 2008-09-11  b'BREAKING: Tsunami Alerts - Japan &amp; Indon...   23      1\n",
       "49420 2008-08-25  b'Israel claims allowing an aid ship to reach ...    3      0\n",
       "49476 2008-08-21  b\"China sentences Alive in Baghdad blogger, GR...    9      1\n",
       "49713 2008-08-08  b'Why the Pentagon Thinks Attacking Iran is a ...   21      0\n",
       "\n",
       "[756 rows x 4 columns]"
      ]
     },
     "metadata": {
      "tags": []
     },
     "output_type": "display_data"
    }
   ],
   "source": [
    "## Hay error en la codificación de caracteres especiales, encontré ese, pero hay que ver que otros surgen\n",
    "index_review = RedditNews[RedditNews['News'].str.contains('&amp;')].index\n",
    "display(RedditNews[RedditNews['News'].str.contains('&amp;')])\n",
    "RedditNews['News'] = RedditNews['News'].str.replace('&amp;', '&')"
   ]
  },
  {
   "cell_type": "code",
   "execution_count": 0,
   "metadata": {
    "colab": {
     "base_uri": "https://localhost:8080/",
     "height": 419
    },
    "colab_type": "code",
    "id": "51Na1fyCu6qp",
    "outputId": "eab4adf8-9c66-449c-98e4-b311c4599b07"
   },
   "outputs": [
    {
     "data": {
      "text/html": [
       "<div>\n",
       "<style scoped>\n",
       "    .dataframe tbody tr th:only-of-type {\n",
       "        vertical-align: middle;\n",
       "    }\n",
       "\n",
       "    .dataframe tbody tr th {\n",
       "        vertical-align: top;\n",
       "    }\n",
       "\n",
       "    .dataframe thead th {\n",
       "        text-align: right;\n",
       "    }\n",
       "</style>\n",
       "<table border=\"1\" class=\"dataframe\">\n",
       "  <thead>\n",
       "    <tr style=\"text-align: right;\">\n",
       "      <th></th>\n",
       "      <th>Date</th>\n",
       "      <th>News</th>\n",
       "      <th>Top</th>\n",
       "      <th>Label</th>\n",
       "    </tr>\n",
       "  </thead>\n",
       "  <tbody>\n",
       "    <tr>\n",
       "      <th>16</th>\n",
       "      <td>2016-07-01</td>\n",
       "      <td>S&amp;P revises European Union credit rating to 'A...</td>\n",
       "      <td>17</td>\n",
       "      <td>1</td>\n",
       "    </tr>\n",
       "    <tr>\n",
       "      <th>24</th>\n",
       "      <td>2016-07-01</td>\n",
       "      <td>Ozone layer hole seems to be healing - US &amp; UK...</td>\n",
       "      <td>25</td>\n",
       "      <td>1</td>\n",
       "    </tr>\n",
       "    <tr>\n",
       "      <th>53</th>\n",
       "      <td>2016-06-29</td>\n",
       "      <td>Devastated: scientists too late to captive bre...</td>\n",
       "      <td>4</td>\n",
       "      <td>1</td>\n",
       "    </tr>\n",
       "    <tr>\n",
       "      <th>77</th>\n",
       "      <td>2016-06-28</td>\n",
       "      <td>S&amp;P cuts United Kingdom sovereign credit ratin...</td>\n",
       "      <td>3</td>\n",
       "      <td>1</td>\n",
       "    </tr>\n",
       "    <tr>\n",
       "      <th>181</th>\n",
       "      <td>2016-06-22</td>\n",
       "      <td>Police kill eight striking Mexican teachers as...</td>\n",
       "      <td>7</td>\n",
       "      <td>0</td>\n",
       "    </tr>\n",
       "    <tr>\n",
       "      <th>...</th>\n",
       "      <td>...</td>\n",
       "      <td>...</td>\n",
       "      <td>...</td>\n",
       "      <td>...</td>\n",
       "    </tr>\n",
       "    <tr>\n",
       "      <th>49043</th>\n",
       "      <td>2008-09-16</td>\n",
       "      <td>b\"Pakistani Tribesmen Representing Half A Mill...</td>\n",
       "      <td>1</td>\n",
       "      <td>1</td>\n",
       "    </tr>\n",
       "    <tr>\n",
       "      <th>49140</th>\n",
       "      <td>2008-09-11</td>\n",
       "      <td>b'BREAKING: Tsunami Alerts - Japan &amp; Indonesia...</td>\n",
       "      <td>23</td>\n",
       "      <td>1</td>\n",
       "    </tr>\n",
       "    <tr>\n",
       "      <th>49420</th>\n",
       "      <td>2008-08-25</td>\n",
       "      <td>b'Israel claims allowing an aid ship to reach ...</td>\n",
       "      <td>3</td>\n",
       "      <td>0</td>\n",
       "    </tr>\n",
       "    <tr>\n",
       "      <th>49476</th>\n",
       "      <td>2008-08-21</td>\n",
       "      <td>b\"China sentences Alive in Baghdad blogger, GR...</td>\n",
       "      <td>9</td>\n",
       "      <td>1</td>\n",
       "    </tr>\n",
       "    <tr>\n",
       "      <th>49713</th>\n",
       "      <td>2008-08-08</td>\n",
       "      <td>b'Why the Pentagon Thinks Attacking Iran is a ...</td>\n",
       "      <td>21</td>\n",
       "      <td>0</td>\n",
       "    </tr>\n",
       "  </tbody>\n",
       "</table>\n",
       "<p>756 rows × 4 columns</p>\n",
       "</div>"
      ],
      "text/plain": [
       "            Date                                               News  Top  Label\n",
       "16    2016-07-01  S&P revises European Union credit rating to 'A...   17      1\n",
       "24    2016-07-01  Ozone layer hole seems to be healing - US & UK...   25      1\n",
       "53    2016-06-29  Devastated: scientists too late to captive bre...    4      1\n",
       "77    2016-06-28  S&P cuts United Kingdom sovereign credit ratin...    3      1\n",
       "181   2016-06-22  Police kill eight striking Mexican teachers as...    7      0\n",
       "...          ...                                                ...  ...    ...\n",
       "49043 2008-09-16  b\"Pakistani Tribesmen Representing Half A Mill...    1      1\n",
       "49140 2008-09-11  b'BREAKING: Tsunami Alerts - Japan & Indonesia...   23      1\n",
       "49420 2008-08-25  b'Israel claims allowing an aid ship to reach ...    3      0\n",
       "49476 2008-08-21  b\"China sentences Alive in Baghdad blogger, GR...    9      1\n",
       "49713 2008-08-08  b'Why the Pentagon Thinks Attacking Iran is a ...   21      0\n",
       "\n",
       "[756 rows x 4 columns]"
      ]
     },
     "execution_count": 13,
     "metadata": {
      "tags": []
     },
     "output_type": "execute_result"
    }
   ],
   "source": [
    "## Acá se ven corregidos ya\n",
    "RedditNews[RedditNews.index.isin(index_review)]"
   ]
  },
  {
   "cell_type": "code",
   "execution_count": 0,
   "metadata": {
    "colab": {
     "base_uri": "https://localhost:8080/",
     "height": 419
    },
    "colab_type": "code",
    "id": "ei8HtAfMxt8t",
    "outputId": "eb0ede65-8c90-421a-f6fa-75cd9b9af737"
   },
   "outputs": [
    {
     "data": {
      "text/html": [
       "<div>\n",
       "<style scoped>\n",
       "    .dataframe tbody tr th:only-of-type {\n",
       "        vertical-align: middle;\n",
       "    }\n",
       "\n",
       "    .dataframe tbody tr th {\n",
       "        vertical-align: top;\n",
       "    }\n",
       "\n",
       "    .dataframe thead th {\n",
       "        text-align: right;\n",
       "    }\n",
       "</style>\n",
       "<table border=\"1\" class=\"dataframe\">\n",
       "  <thead>\n",
       "    <tr style=\"text-align: right;\">\n",
       "      <th></th>\n",
       "      <th>Date</th>\n",
       "      <th>News</th>\n",
       "      <th>Top</th>\n",
       "      <th>Label</th>\n",
       "      <th>News_cleaned</th>\n",
       "    </tr>\n",
       "  </thead>\n",
       "  <tbody>\n",
       "    <tr>\n",
       "      <th>0</th>\n",
       "      <td>2016-07-01</td>\n",
       "      <td>A 117-year-old woman in Mexico City finally re...</td>\n",
       "      <td>1</td>\n",
       "      <td>1</td>\n",
       "      <td>a 117 year old woman in mexico city finally re...</td>\n",
       "    </tr>\n",
       "    <tr>\n",
       "      <th>1</th>\n",
       "      <td>2016-07-01</td>\n",
       "      <td>IMF chief backs Athens as permanent Olympic host</td>\n",
       "      <td>2</td>\n",
       "      <td>1</td>\n",
       "      <td>imf chief backs athens as permanent olympic host</td>\n",
       "    </tr>\n",
       "    <tr>\n",
       "      <th>2</th>\n",
       "      <td>2016-07-01</td>\n",
       "      <td>The president of France says if Brexit won, so...</td>\n",
       "      <td>3</td>\n",
       "      <td>1</td>\n",
       "      <td>the president of france says if brexit won  so...</td>\n",
       "    </tr>\n",
       "    <tr>\n",
       "      <th>3</th>\n",
       "      <td>2016-07-01</td>\n",
       "      <td>British Man Who Must Give Police 24 Hours' Not...</td>\n",
       "      <td>4</td>\n",
       "      <td>1</td>\n",
       "      <td>british man who must give police 24 hours  not...</td>\n",
       "    </tr>\n",
       "    <tr>\n",
       "      <th>4</th>\n",
       "      <td>2016-07-01</td>\n",
       "      <td>100+ Nobel laureates urge Greenpeace to stop o...</td>\n",
       "      <td>5</td>\n",
       "      <td>1</td>\n",
       "      <td>100+ nobel laureates urge greenpeace to stop o...</td>\n",
       "    </tr>\n",
       "    <tr>\n",
       "      <th>...</th>\n",
       "      <td>...</td>\n",
       "      <td>...</td>\n",
       "      <td>...</td>\n",
       "      <td>...</td>\n",
       "      <td>...</td>\n",
       "    </tr>\n",
       "    <tr>\n",
       "      <th>49713</th>\n",
       "      <td>2008-08-08</td>\n",
       "      <td>b'Why the Pentagon Thinks Attacking Iran is a ...</td>\n",
       "      <td>21</td>\n",
       "      <td>0</td>\n",
       "      <td>b why the pentagon thinks attacking iran is a ...</td>\n",
       "    </tr>\n",
       "    <tr>\n",
       "      <th>49714</th>\n",
       "      <td>2008-08-08</td>\n",
       "      <td>b'Caucasus in crisis: Georgia invades South Os...</td>\n",
       "      <td>22</td>\n",
       "      <td>0</td>\n",
       "      <td>b caucasus in crisis  georgia invades south os...</td>\n",
       "    </tr>\n",
       "    <tr>\n",
       "      <th>49715</th>\n",
       "      <td>2008-08-08</td>\n",
       "      <td>b'Indian shoe manufactory  - And again in a se...</td>\n",
       "      <td>23</td>\n",
       "      <td>0</td>\n",
       "      <td>b indian shoe manufactory    and again in a se...</td>\n",
       "    </tr>\n",
       "    <tr>\n",
       "      <th>49716</th>\n",
       "      <td>2008-08-08</td>\n",
       "      <td>b'Visitors Suffering from Mental Illnesses Ban...</td>\n",
       "      <td>24</td>\n",
       "      <td>0</td>\n",
       "      <td>b visitors suffering from mental illnesses ban...</td>\n",
       "    </tr>\n",
       "    <tr>\n",
       "      <th>49717</th>\n",
       "      <td>2008-08-08</td>\n",
       "      <td>b\"No Help for Mexico's Kidnapping Surge\"</td>\n",
       "      <td>25</td>\n",
       "      <td>0</td>\n",
       "      <td>b no help for mexico s kidnapping surge</td>\n",
       "    </tr>\n",
       "  </tbody>\n",
       "</table>\n",
       "<p>49718 rows × 5 columns</p>\n",
       "</div>"
      ],
      "text/plain": [
       "            Date  ...                                       News_cleaned\n",
       "0     2016-07-01  ...  a 117 year old woman in mexico city finally re...\n",
       "1     2016-07-01  ...   imf chief backs athens as permanent olympic host\n",
       "2     2016-07-01  ...  the president of france says if brexit won  so...\n",
       "3     2016-07-01  ...  british man who must give police 24 hours  not...\n",
       "4     2016-07-01  ...  100+ nobel laureates urge greenpeace to stop o...\n",
       "...          ...  ...                                                ...\n",
       "49713 2008-08-08  ...  b why the pentagon thinks attacking iran is a ...\n",
       "49714 2008-08-08  ...  b caucasus in crisis  georgia invades south os...\n",
       "49715 2008-08-08  ...  b indian shoe manufactory    and again in a se...\n",
       "49716 2008-08-08  ...  b visitors suffering from mental illnesses ban...\n",
       "49717 2008-08-08  ...           b no help for mexico s kidnapping surge \n",
       "\n",
       "[49718 rows x 5 columns]"
      ]
     },
     "execution_count": 14,
     "metadata": {
      "tags": []
     },
     "output_type": "execute_result"
    }
   ],
   "source": [
    "##Una función para limpieza básica, podemos añadir cosas, es un solo una base, luego lo adaptamos más a nuestro uso\n",
    "\n",
    "import re\n",
    "import nltk\n",
    "from nltk.corpus import stopwords\n",
    "\n",
    "REPLACE_BY_SPACE_RE = re.compile('[/(){}\\[\\]\\|@,;-]')\n",
    "BAD_SYMBOLS_RE = re.compile('[^0-9a-z #+_]')\n",
    "# STOPWORDS = set(stopwords.words('english'))\n",
    "\n",
    "def clean_text(text):\n",
    "    \"\"\"\n",
    "        text: a string\n",
    "        \n",
    "        return: modified initial string\n",
    "    \"\"\"\n",
    "    text = text.lower() # lowercase text\n",
    "    text = REPLACE_BY_SPACE_RE.sub(' ', text) # replace REPLACE_BY_SPACE_RE symbols by space in text\n",
    "    text = BAD_SYMBOLS_RE.sub(' ', text) # delete symbols which are in BAD_SYMBOLS_RE from text\n",
    "    # text = ' '.join(word for word in text.split() if word not in STOPWORDS) # delete stopwors from text\n",
    "    return text\n",
    "    \n",
    "RedditNews['News_cleaned'] = RedditNews['News'].apply(clean_text)\n",
    "RedditNews"
   ]
  },
  {
   "cell_type": "markdown",
   "metadata": {
    "colab_type": "text",
    "id": "jriEXwCeH7Ok"
   },
   "source": [
    "Aplicación de Naive Bayes"
   ]
  },
  {
   "cell_type": "code",
   "execution_count": 0,
   "metadata": {
    "colab": {},
    "colab_type": "code",
    "id": "0oq8JnD_I79I"
   },
   "outputs": [],
   "source": [
    "# Separamos en train y test\n",
    "\n",
    "X = RedditNews.News_cleaned\n",
    "y = RedditNews.Label\n",
    "X_train_text, X_test_text, y_train, y_test = train_test_split(X,y,stratify=y, test_size=0.20, random_state=1234)"
   ]
  },
  {
   "cell_type": "code",
   "execution_count": 0,
   "metadata": {
    "colab": {},
    "colab_type": "code",
    "id": "bmXjylM5JUZ5"
   },
   "outputs": [],
   "source": [
    "# Limpieza del texto\n",
    "def clean_text(text):\n",
    "  # En este caso particular no hace falta limpiar los textos\n",
    "   return text.strip()"
   ]
  },
  {
   "cell_type": "code",
   "execution_count": 0,
   "metadata": {
    "colab": {
     "base_uri": "https://localhost:8080/",
     "height": 34
    },
    "colab_type": "code",
    "id": "Z991X6clJbsn",
    "outputId": "c08fe456-bf30-480a-b71e-3e7c6aef014c"
   },
   "outputs": [
    {
     "data": {
      "text/plain": [
       "['g7', 'leaders', 'agree', 'to', 'phase', 'out', 'fossil', 'fuel', 'use', 'by']"
      ]
     },
     "execution_count": 25,
     "metadata": {
      "tags": []
     },
     "output_type": "execute_result"
    }
   ],
   "source": [
    "def tokenizer(text):\n",
    "    #return [w for w in word_tokenize(text) if w.isalpha()] # si solo nos interesan palabras\n",
    "    return word_tokenize(text)\n",
    "tokenizer(clean_text(X_train_text.iloc[2]))[:10]"
   ]
  },
  {
   "cell_type": "markdown",
   "metadata": {
    "colab_type": "text",
    "id": "N1BHmzqjLDlV"
   },
   "source": [
    "Extarcción de features"
   ]
  },
  {
   "cell_type": "code",
   "execution_count": 0,
   "metadata": {
    "colab": {},
    "colab_type": "code",
    "id": "3swwGDNYJkSh"
   },
   "outputs": [],
   "source": [
    "stoplist = stopwords.words(\"english\")\n",
    "\n",
    "# tokenizo el stoplist con el mismo tokenizar que voy a usar en el corpus\n",
    "stoplist_tokenized = []\n",
    "for w in stoplist:\n",
    "    stoplist_tokenized = stoplist_tokenized + tokenizer(w)"
   ]
  },
  {
   "cell_type": "code",
   "execution_count": 0,
   "metadata": {
    "colab": {},
    "colab_type": "code",
    "id": "7lmRELx7Lf5l"
   },
   "outputs": [],
   "source": [
    "# Armo una lista sin repeticiones\n",
    "stoplist_tokenized = list(set(stoplist_tokenized))"
   ]
  },
  {
   "cell_type": "code",
   "execution_count": 0,
   "metadata": {
    "colab": {
     "base_uri": "https://localhost:8080/",
     "height": 51
    },
    "colab_type": "code",
    "id": "YSC7_16dZEEW",
    "outputId": "7547ad82-bc56-4afb-bb11-0fe2ba0b31ba"
   },
   "outputs": [
    {
     "data": {
      "text/plain": [
       "<39774x10330 sparse matrix of type '<class 'numpy.int64'>'\n",
       "\twith 437640 stored elements in Compressed Sparse Row format>"
      ]
     },
     "execution_count": 44,
     "metadata": {
      "tags": []
     },
     "output_type": "execute_result"
    }
   ],
   "source": [
    "count_vect = CountVectorizer(preprocessor=clean_text, tokenizer=tokenizer, min_df=5,stop_words=stoplist_tokenized)\n",
    "X_train = count_vect.fit_transform(X_train_text) # cuenta frecuencia de tokens y define el diccionario\n",
    "X_test = count_vect.transform(X_test_text) # cuenta frecuencia de tokens existentes en el diccionario\n",
    "X_train"
   ]
  },
  {
   "cell_type": "markdown",
   "metadata": {
    "colab_type": "text",
    "id": "XwA1AG6aLkK6"
   },
   "source": [
    "Naive Bayes"
   ]
  },
  {
   "cell_type": "code",
   "execution_count": 0,
   "metadata": {
    "colab": {
     "base_uri": "https://localhost:8080/",
     "height": 34
    },
    "colab_type": "code",
    "id": "Em0GIAa_ZGSe",
    "outputId": "889306c4-0920-4c66-cdbb-db7941a9e925"
   },
   "outputs": [
    {
     "name": "stdout",
     "output_type": "stream",
     "text": [
      "f-score= 0.5034  ( sd = 0.0072 )\n"
     ]
    }
   ],
   "source": [
    "clf = MultinomialNB(alpha=1) # alpha es el smoothing parameter\n",
    "scores_cv_nb = cross_val_score(clf,X_train, y_train,cv = 10, scoring='f1_macro')\n",
    "scores_cv_nb\n",
    "print(\"f-score=\",round(scores_cv_nb.mean(),4),\" ( sd =\",round(scores_cv_nb.std(),4),\")\")"
   ]
  },
  {
   "cell_type": "markdown",
   "metadata": {
    "colab_type": "text",
    "id": "-AcyZ9-ZZSvn"
   },
   "source": [
    "N-grams"
   ]
  },
  {
   "cell_type": "code",
   "execution_count": 0,
   "metadata": {
    "colab": {
     "base_uri": "https://localhost:8080/",
     "height": 51
    },
    "colab_type": "code",
    "id": "JVCz6XuPyjF7",
    "outputId": "62ab8354-2fff-449b-af29-32b7f33af4cb"
   },
   "outputs": [
    {
     "name": "stdout",
     "output_type": "stream",
     "text": [
      "numero de features= 16310\n",
      "f-score= 0.5052  ( sd = 0.0102 )\n"
     ]
    }
   ],
   "source": [
    "# incluyo bigramas (aclaracion:si aparece \"best friend\" tambien va a contar para \"best\" y para \"friend\")\n",
    "count_vect = CountVectorizer(preprocessor=clean_text, \n",
    "                             tokenizer=tokenizer, \n",
    "                             min_df=5,\n",
    "                             stop_words=stoplist_tokenized,\n",
    "                             ngram_range=(1,2))\n",
    "X_train_ngrams = count_vect.fit_transform(X_train_text) # cuenta frecuencia de tokens y define el diccionario\n",
    "print(\"numero de features=\",X_train_ngrams.shape[1])\n",
    "\n",
    "scores_cv_ngrams = cross_val_score(clf,X_train_ngrams, y_train,cv = 10, scoring='f1_macro')\n",
    "print(\"f-score=\",round(scores_cv_ngrams.mean(),4),\" ( sd =\",round(scores_cv_ngrams.std(),4),\")\")"
   ]
  },
  {
   "cell_type": "code",
   "execution_count": 0,
   "metadata": {
    "colab": {
     "base_uri": "https://localhost:8080/",
     "height": 51
    },
    "colab_type": "code",
    "id": "vrWSyqreyjGB",
    "outputId": "7e1d3d1e-4e1f-442d-ab03-488bcc5e12e4"
   },
   "outputs": [
    {
     "name": "stdout",
     "output_type": "stream",
     "text": [
      "numero de features = 3243\n",
      "f-score = 0.4992  ( sd = 0.0086 )\n"
     ]
    }
   ],
   "source": [
    "# incluyo bigramas (aclaracion:si aparece \"best friend\" tambien va a contar para \"best\" y para \"friend\")\n",
    "count_vect = CountVectorizer(preprocessor=clean_text, \n",
    "                             tokenizer=tokenizer, \n",
    "                             min_df=30, \n",
    "                             stop_words=stoplist_tokenized,\n",
    "                             ngram_range=(1,2))\n",
    "X_train_ngrams = count_vect.fit_transform(X_train_text) # cuenta frecuencia de tokens y define el diccionario\n",
    "print(\"numero de features =\",X_train_ngrams.shape[1])\n",
    "\n",
    "clf = MultinomialNB(alpha=1)\n",
    "scores_cv_ngrams_v2 = cross_val_score(clf,X_train_ngrams, y_train,cv = 10, scoring='f1_macro')\n",
    "print(\"f-score =\",round(scores_cv_ngrams_v2.mean(),4),\" ( sd =\",round(scores_cv_ngrams_v2.std(),4),\")\")"
   ]
  },
  {
   "cell_type": "code",
   "execution_count": 0,
   "metadata": {
    "colab": {
     "base_uri": "https://localhost:8080/",
     "height": 85
    },
    "colab_type": "code",
    "id": "Cr5lh6scaUUk",
    "outputId": "c14504ea-7e93-4a27-c810-f9112b00cd5a"
   },
   "outputs": [
    {
     "data": {
      "text/plain": [
       "NB (mindf=5)                 0.503\n",
       "NB with ngrams (mindf=5)     0.505\n",
       "NB with ngrams (mindf=30)    0.499\n",
       "dtype: float64"
      ]
     },
     "execution_count": 50,
     "metadata": {
      "tags": []
     },
     "output_type": "execute_result"
    }
   ],
   "source": [
    "# Se hace una lista con todos los resultados para seleccionar el modelo\n",
    "pd.Series({'NB (mindf=5)':round(scores_cv_nb.mean(),3),'NB with ngrams (mindf=5)':round(scores_cv_ngrams.mean(),3),'NB with ngrams (mindf=30)':round(scores_cv_ngrams_v2.mean(),3)})"
   ]
  }
 ],
 "metadata": {
  "colab": {
   "include_colab_link": true,
   "name": "Topics_noticias_reddit_edgar.ipynb",
   "provenance": []
  },
  "kernelspec": {
   "display_name": "Python 3",
   "language": "python",
   "name": "python3"
  },
  "language_info": {
   "codemirror_mode": {
    "name": "ipython",
    "version": 3
   },
   "file_extension": ".py",
   "mimetype": "text/x-python",
   "name": "python",
   "nbconvert_exporter": "python",
   "pygments_lexer": "ipython3",
   "version": "3.7.1"
  }
 },
 "nbformat": 4,
 "nbformat_minor": 1
}
