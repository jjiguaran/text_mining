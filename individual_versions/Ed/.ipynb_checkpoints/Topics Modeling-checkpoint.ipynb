{
 "cells": [
  {
   "cell_type": "markdown",
   "metadata": {},
   "source": [
    "### The process\n",
    "- We pick the number of topics ahead of time even if we’re not sure what the topics are.\n",
    "- Each document is represented as a distribution over topics.\n",
    "- Each topic is represented as a distribution over words."
   ]
  },
  {
   "cell_type": "markdown",
   "metadata": {},
   "source": [
    "### Cargar librerías, me quedo solo con las noticias en común"
   ]
  },
  {
   "cell_type": "code",
   "execution_count": 1,
   "metadata": {},
   "outputs": [],
   "source": [
    "%load_ext autotime\n",
    "\n",
    "# Importar librerias\n",
    "import pandas as pd\n",
    "\n",
    "pd.set_option('display.max_columns', 200)\n",
    "pd.set_option('display.max_rows', 100)\n",
    "pd.set_option('display.expand_frame_repr', True)"
   ]
  },
  {
   "cell_type": "code",
   "execution_count": 2,
   "metadata": {},
   "outputs": [
    {
     "name": "stdout",
     "output_type": "stream",
     "text": [
      "time: 4.62 s\n"
     ]
    }
   ],
   "source": [
    "#Importar los datasets\n",
    "url_reddit = 'https://raw.githubusercontent.com/jjiguaran/text_mining/master/Data/RedditNews.csv'\n",
    "url_combined = 'https://raw.githubusercontent.com/jjiguaran/text_mining/master/Data/Combined_News_DJIA.csv'\n",
    "RedditNews = pd.read_csv(url_reddit)\n",
    "CombinedNews = pd.read_csv(url_combined)\n",
    "\n",
    "\n",
    "RedditNews['Date'] =  pd.to_datetime(RedditNews['Date'], format='%Y-%m-%d')\n",
    "CombinedNews['Date'] =  pd.to_datetime(CombinedNews['Date'], format='%Y-%m-%d')\n"
   ]
  },
  {
   "cell_type": "code",
   "execution_count": 3,
   "metadata": {},
   "outputs": [
    {
     "data": {
      "text/plain": [
       "1989"
      ]
     },
     "metadata": {},
     "output_type": "display_data"
    },
    {
     "data": {
      "text/plain": [
       "1989"
      ]
     },
     "metadata": {},
     "output_type": "display_data"
    },
    {
     "name": "stdout",
     "output_type": "stream",
     "text": [
      "time: 41 ms\n"
     ]
    }
   ],
   "source": [
    "## Nos quedamos con las fechas del dataset que está etiquetado\n",
    "RedditNews = RedditNews[RedditNews['Date'].isin(CombinedNews['Date'])]\n",
    "\n",
    "display(\n",
    "    CombinedNews['Date'].nunique(),\n",
    "    RedditNews['Date'].nunique() )"
   ]
  },
  {
   "cell_type": "code",
   "execution_count": 4,
   "metadata": {},
   "outputs": [
    {
     "name": "stdout",
     "output_type": "stream",
     "text": [
      "time: 154 ms\n"
     ]
    }
   ],
   "source": [
    "## Hay error en la codificación de caracteres especiales, encontré ese, pero hay que ver que otros surgen\n",
    "RedditNews['News'] = RedditNews['News'].str.replace('&amp;', '&')"
   ]
  },
  {
   "cell_type": "code",
   "execution_count": 5,
   "metadata": {},
   "outputs": [
    {
     "data": {
      "text/html": [
       "<div>\n",
       "<style scoped>\n",
       "    .dataframe tbody tr th:only-of-type {\n",
       "        vertical-align: middle;\n",
       "    }\n",
       "\n",
       "    .dataframe tbody tr th {\n",
       "        vertical-align: top;\n",
       "    }\n",
       "\n",
       "    .dataframe thead th {\n",
       "        text-align: right;\n",
       "    }\n",
       "</style>\n",
       "<table border=\"1\" class=\"dataframe\">\n",
       "  <thead>\n",
       "    <tr style=\"text-align: right;\">\n",
       "      <th></th>\n",
       "      <th>Date</th>\n",
       "      <th>News</th>\n",
       "    </tr>\n",
       "  </thead>\n",
       "  <tbody>\n",
       "    <tr>\n",
       "      <th>54798</th>\n",
       "      <td>2010-06-30</td>\n",
       "      <td>b\"South Korea's parliament votes to legalize c...</td>\n",
       "    </tr>\n",
       "    <tr>\n",
       "      <th>54804</th>\n",
       "      <td>2010-06-30</td>\n",
       "      <td>b\"The German economy is rapidly improving, wit...</td>\n",
       "    </tr>\n",
       "    <tr>\n",
       "      <th>54819</th>\n",
       "      <td>2010-06-30</td>\n",
       "      <td>b\"BBC News - Russian spy suspect missing in Cy...</td>\n",
       "    </tr>\n",
       "    <tr>\n",
       "      <th>54821</th>\n",
       "      <td>2010-06-30</td>\n",
       "      <td>b\"Iraq inquiry: secret documents showing Tony ...</td>\n",
       "    </tr>\n",
       "    <tr>\n",
       "      <th>54822</th>\n",
       "      <td>2010-06-30</td>\n",
       "      <td>b\"Apartheid loves apartheid: Israel's secret r...</td>\n",
       "    </tr>\n",
       "  </tbody>\n",
       "</table>\n",
       "</div>"
      ],
      "text/plain": [
       "            Date                                               News\n",
       "54798 2010-06-30  b\"South Korea's parliament votes to legalize c...\n",
       "54804 2010-06-30  b\"The German economy is rapidly improving, wit...\n",
       "54819 2010-06-30  b\"BBC News - Russian spy suspect missing in Cy...\n",
       "54821 2010-06-30  b\"Iraq inquiry: secret documents showing Tony ...\n",
       "54822 2010-06-30  b\"Apartheid loves apartheid: Israel's secret r..."
      ]
     },
     "metadata": {},
     "output_type": "display_data"
    },
    {
     "data": {
      "text/html": [
       "<div>\n",
       "<style scoped>\n",
       "    .dataframe tbody tr th:only-of-type {\n",
       "        vertical-align: middle;\n",
       "    }\n",
       "\n",
       "    .dataframe tbody tr th {\n",
       "        vertical-align: top;\n",
       "    }\n",
       "\n",
       "    .dataframe thead th {\n",
       "        text-align: right;\n",
       "    }\n",
       "</style>\n",
       "<table border=\"1\" class=\"dataframe\">\n",
       "  <thead>\n",
       "    <tr style=\"text-align: right;\">\n",
       "      <th></th>\n",
       "      <th>Date</th>\n",
       "      <th>News</th>\n",
       "    </tr>\n",
       "  </thead>\n",
       "  <tbody>\n",
       "    <tr>\n",
       "      <th>54799</th>\n",
       "      <td>2010-06-30</td>\n",
       "      <td>b'Pope rebukes cardinal who exposed abuse: \\nP...</td>\n",
       "    </tr>\n",
       "    <tr>\n",
       "      <th>54800</th>\n",
       "      <td>2010-06-30</td>\n",
       "      <td>b'This depression is similar to the Great Pani...</td>\n",
       "    </tr>\n",
       "    <tr>\n",
       "      <th>54801</th>\n",
       "      <td>2010-06-30</td>\n",
       "      <td>b'The Niger Delta has experienced oil spills o...</td>\n",
       "    </tr>\n",
       "    <tr>\n",
       "      <th>54802</th>\n",
       "      <td>2010-06-30</td>\n",
       "      <td>b'G20 Toronto - So Black Block get green light...</td>\n",
       "    </tr>\n",
       "    <tr>\n",
       "      <th>54803</th>\n",
       "      <td>2010-06-30</td>\n",
       "      <td>b'Half of Afghanistans 476 women prisoners wer...</td>\n",
       "    </tr>\n",
       "  </tbody>\n",
       "</table>\n",
       "</div>"
      ],
      "text/plain": [
       "            Date                                               News\n",
       "54799 2010-06-30  b'Pope rebukes cardinal who exposed abuse: \\nP...\n",
       "54800 2010-06-30  b'This depression is similar to the Great Pani...\n",
       "54801 2010-06-30  b'The Niger Delta has experienced oil spills o...\n",
       "54802 2010-06-30  b'G20 Toronto - So Black Block get green light...\n",
       "54803 2010-06-30  b'Half of Afghanistans 476 women prisoners wer..."
      ]
     },
     "metadata": {},
     "output_type": "display_data"
    },
    {
     "name": "stdout",
     "output_type": "stream",
     "text": [
      "time: 586 ms\n"
     ]
    }
   ],
   "source": [
    "## Hay error en la codificación de caracteres especiales, encontré ese, pero hay que ver que otros surgen\n",
    "index_review = RedditNews[(RedditNews['News'].str.startswith('b\"')) |\n",
    "                         (RedditNews['News'].str.startswith(\"b'\"))].index\n",
    "\n",
    "display(RedditNews[RedditNews['News'].str.startswith('b\"')].head(),\n",
    "        RedditNews[RedditNews['News'].str.startswith(\"b'\")].head())\n",
    "\n",
    "\n",
    "RedditNews['News'] = RedditNews['News'].str.replace('^b\\\"', \" \", regex=True)\n",
    "RedditNews['News'] = RedditNews['News'].str.replace(\"^b\\'\", \" \", regex=True)"
   ]
  },
  {
   "cell_type": "code",
   "execution_count": 6,
   "metadata": {},
   "outputs": [
    {
     "data": {
      "text/html": [
       "<div>\n",
       "<style scoped>\n",
       "    .dataframe tbody tr th:only-of-type {\n",
       "        vertical-align: middle;\n",
       "    }\n",
       "\n",
       "    .dataframe tbody tr th {\n",
       "        vertical-align: top;\n",
       "    }\n",
       "\n",
       "    .dataframe thead th {\n",
       "        text-align: right;\n",
       "    }\n",
       "</style>\n",
       "<table border=\"1\" class=\"dataframe\">\n",
       "  <thead>\n",
       "    <tr style=\"text-align: right;\">\n",
       "      <th></th>\n",
       "      <th>Date</th>\n",
       "      <th>News</th>\n",
       "    </tr>\n",
       "  </thead>\n",
       "  <tbody>\n",
       "    <tr>\n",
       "      <th>54798</th>\n",
       "      <td>2010-06-30</td>\n",
       "      <td>South Korea's parliament votes to legalize ch...</td>\n",
       "    </tr>\n",
       "    <tr>\n",
       "      <th>54799</th>\n",
       "      <td>2010-06-30</td>\n",
       "      <td>Pope rebukes cardinal who exposed abuse: \\nPu...</td>\n",
       "    </tr>\n",
       "    <tr>\n",
       "      <th>54800</th>\n",
       "      <td>2010-06-30</td>\n",
       "      <td>This depression is similar to the Great Panic...</td>\n",
       "    </tr>\n",
       "    <tr>\n",
       "      <th>54801</th>\n",
       "      <td>2010-06-30</td>\n",
       "      <td>The Niger Delta has experienced oil spills on...</td>\n",
       "    </tr>\n",
       "    <tr>\n",
       "      <th>54802</th>\n",
       "      <td>2010-06-30</td>\n",
       "      <td>G20 Toronto - So Black Block get green light ...</td>\n",
       "    </tr>\n",
       "    <tr>\n",
       "      <th>54803</th>\n",
       "      <td>2010-06-30</td>\n",
       "      <td>Half of Afghanistans 476 women prisoners were...</td>\n",
       "    </tr>\n",
       "    <tr>\n",
       "      <th>54804</th>\n",
       "      <td>2010-06-30</td>\n",
       "      <td>The German economy is rapidly improving, with...</td>\n",
       "    </tr>\n",
       "    <tr>\n",
       "      <th>54805</th>\n",
       "      <td>2010-06-30</td>\n",
       "      <td>Two Egyptian police officers charged with bru...</td>\n",
       "    </tr>\n",
       "    <tr>\n",
       "      <th>54806</th>\n",
       "      <td>2010-06-30</td>\n",
       "      <td>Russia sending armoured vehicles to West Bank'</td>\n",
       "    </tr>\n",
       "    <tr>\n",
       "      <th>54807</th>\n",
       "      <td>2010-06-30</td>\n",
       "      <td>Police Lied About Law Demanding G20 Protester...</td>\n",
       "    </tr>\n",
       "  </tbody>\n",
       "</table>\n",
       "</div>"
      ],
      "text/plain": [
       "            Date                                               News\n",
       "54798 2010-06-30   South Korea's parliament votes to legalize ch...\n",
       "54799 2010-06-30   Pope rebukes cardinal who exposed abuse: \\nPu...\n",
       "54800 2010-06-30   This depression is similar to the Great Panic...\n",
       "54801 2010-06-30   The Niger Delta has experienced oil spills on...\n",
       "54802 2010-06-30   G20 Toronto - So Black Block get green light ...\n",
       "54803 2010-06-30   Half of Afghanistans 476 women prisoners were...\n",
       "54804 2010-06-30   The German economy is rapidly improving, with...\n",
       "54805 2010-06-30   Two Egyptian police officers charged with bru...\n",
       "54806 2010-06-30     Russia sending armoured vehicles to West Bank'\n",
       "54807 2010-06-30   Police Lied About Law Demanding G20 Protester..."
      ]
     },
     "execution_count": 6,
     "metadata": {},
     "output_type": "execute_result"
    },
    {
     "name": "stdout",
     "output_type": "stream",
     "text": [
      "time: 22 ms\n"
     ]
    }
   ],
   "source": [
    "RedditNews[RedditNews.index.isin(index_review)].head(10)"
   ]
  },
  {
   "cell_type": "code",
   "execution_count": 7,
   "metadata": {},
   "outputs": [
    {
     "data": {
      "text/html": [
       "<div>\n",
       "<style scoped>\n",
       "    .dataframe tbody tr th:only-of-type {\n",
       "        vertical-align: middle;\n",
       "    }\n",
       "\n",
       "    .dataframe tbody tr th {\n",
       "        vertical-align: top;\n",
       "    }\n",
       "\n",
       "    .dataframe thead th {\n",
       "        text-align: right;\n",
       "    }\n",
       "</style>\n",
       "<table border=\"1\" class=\"dataframe\">\n",
       "  <thead>\n",
       "    <tr style=\"text-align: right;\">\n",
       "      <th></th>\n",
       "      <th>Date</th>\n",
       "      <th>News</th>\n",
       "    </tr>\n",
       "  </thead>\n",
       "  <tbody>\n",
       "    <tr>\n",
       "      <th>0</th>\n",
       "      <td>2016-07-01</td>\n",
       "      <td>a 117 year old woman in mexico city finally re...</td>\n",
       "    </tr>\n",
       "    <tr>\n",
       "      <th>1</th>\n",
       "      <td>2016-07-01</td>\n",
       "      <td>imf chief backs athens as permanent olympic host</td>\n",
       "    </tr>\n",
       "    <tr>\n",
       "      <th>2</th>\n",
       "      <td>2016-07-01</td>\n",
       "      <td>the president of france says if brexit won  so...</td>\n",
       "    </tr>\n",
       "    <tr>\n",
       "      <th>3</th>\n",
       "      <td>2016-07-01</td>\n",
       "      <td>british man who must give police 24 hours  not...</td>\n",
       "    </tr>\n",
       "    <tr>\n",
       "      <th>4</th>\n",
       "      <td>2016-07-01</td>\n",
       "      <td>100+ nobel laureates urge greenpeace to stop o...</td>\n",
       "    </tr>\n",
       "    <tr>\n",
       "      <th>5</th>\n",
       "      <td>2016-07-01</td>\n",
       "      <td>brazil  huge spike in number of police killing...</td>\n",
       "    </tr>\n",
       "    <tr>\n",
       "      <th>6</th>\n",
       "      <td>2016-07-01</td>\n",
       "      <td>austria s highest court annuls presidential el...</td>\n",
       "    </tr>\n",
       "    <tr>\n",
       "      <th>7</th>\n",
       "      <td>2016-07-01</td>\n",
       "      <td>facebook wins privacy case  can track any belg...</td>\n",
       "    </tr>\n",
       "    <tr>\n",
       "      <th>8</th>\n",
       "      <td>2016-07-01</td>\n",
       "      <td>switzerland denies muslim girls citizenship af...</td>\n",
       "    </tr>\n",
       "    <tr>\n",
       "      <th>9</th>\n",
       "      <td>2016-07-01</td>\n",
       "      <td>china kills millions of innocent meditators fo...</td>\n",
       "    </tr>\n",
       "    <tr>\n",
       "      <th>10</th>\n",
       "      <td>2016-07-01</td>\n",
       "      <td>france cracks down on factory farms   a viral ...</td>\n",
       "    </tr>\n",
       "    <tr>\n",
       "      <th>11</th>\n",
       "      <td>2016-07-01</td>\n",
       "      <td>abbas plo faction calls killer of 13 year old ...</td>\n",
       "    </tr>\n",
       "    <tr>\n",
       "      <th>12</th>\n",
       "      <td>2016-07-01</td>\n",
       "      <td>taiwanese warship accidentally fires missile t...</td>\n",
       "    </tr>\n",
       "    <tr>\n",
       "      <th>13</th>\n",
       "      <td>2016-07-01</td>\n",
       "      <td>iran celebrates american human rights week  mo...</td>\n",
       "    </tr>\n",
       "    <tr>\n",
       "      <th>14</th>\n",
       "      <td>2016-07-01</td>\n",
       "      <td>u n  panel moves to curb bias against l g b t ...</td>\n",
       "    </tr>\n",
       "    <tr>\n",
       "      <th>15</th>\n",
       "      <td>2016-07-01</td>\n",
       "      <td>the united states has placed myanmar  uzbekist...</td>\n",
       "    </tr>\n",
       "    <tr>\n",
       "      <th>16</th>\n",
       "      <td>2016-07-01</td>\n",
       "      <td>s p revises european union credit rating to  a...</td>\n",
       "    </tr>\n",
       "    <tr>\n",
       "      <th>17</th>\n",
       "      <td>2016-07-01</td>\n",
       "      <td>india gets  1 billion loan from world bank for...</td>\n",
       "    </tr>\n",
       "    <tr>\n",
       "      <th>18</th>\n",
       "      <td>2016-07-01</td>\n",
       "      <td>u s  sailors detained by iran spoke too much u...</td>\n",
       "    </tr>\n",
       "    <tr>\n",
       "      <th>19</th>\n",
       "      <td>2016-07-01</td>\n",
       "      <td>mass fish kill in vietnam solved as taiwan ste...</td>\n",
       "    </tr>\n",
       "    <tr>\n",
       "      <th>20</th>\n",
       "      <td>2016-07-01</td>\n",
       "      <td>philippines president rodrigo duterte urges pe...</td>\n",
       "    </tr>\n",
       "    <tr>\n",
       "      <th>21</th>\n",
       "      <td>2016-07-01</td>\n",
       "      <td>spain arrests three pakistanis accused of prom...</td>\n",
       "    </tr>\n",
       "    <tr>\n",
       "      <th>22</th>\n",
       "      <td>2016-07-01</td>\n",
       "      <td>venezuela  where anger over food shortages is ...</td>\n",
       "    </tr>\n",
       "    <tr>\n",
       "      <th>23</th>\n",
       "      <td>2016-07-01</td>\n",
       "      <td>a hindu temple worker has been killed by three...</td>\n",
       "    </tr>\n",
       "    <tr>\n",
       "      <th>24</th>\n",
       "      <td>2016-07-01</td>\n",
       "      <td>ozone layer hole seems to be healing   us   uk...</td>\n",
       "    </tr>\n",
       "    <tr>\n",
       "      <th>25</th>\n",
       "      <td>2016-06-30</td>\n",
       "      <td>jamaica proposes marijuana dispensers for tour...</td>\n",
       "    </tr>\n",
       "    <tr>\n",
       "      <th>26</th>\n",
       "      <td>2016-06-30</td>\n",
       "      <td>stephen hawking says pollution and  stupidity ...</td>\n",
       "    </tr>\n",
       "    <tr>\n",
       "      <th>27</th>\n",
       "      <td>2016-06-30</td>\n",
       "      <td>boris johnson says he will not run for tory pa...</td>\n",
       "    </tr>\n",
       "    <tr>\n",
       "      <th>28</th>\n",
       "      <td>2016-06-30</td>\n",
       "      <td>six gay men in ivory coast were abused and for...</td>\n",
       "    </tr>\n",
       "    <tr>\n",
       "      <th>29</th>\n",
       "      <td>2016-06-30</td>\n",
       "      <td>switzerland denies citizenship to muslim immig...</td>\n",
       "    </tr>\n",
       "    <tr>\n",
       "      <th>30</th>\n",
       "      <td>2016-06-30</td>\n",
       "      <td>palestinian terrorist stabs israeli teen girl ...</td>\n",
       "    </tr>\n",
       "    <tr>\n",
       "      <th>31</th>\n",
       "      <td>2016-06-30</td>\n",
       "      <td>puerto rico will default on  1 billion of debt...</td>\n",
       "    </tr>\n",
       "    <tr>\n",
       "      <th>32</th>\n",
       "      <td>2016-06-30</td>\n",
       "      <td>republic of ireland fans to be awarded medal f...</td>\n",
       "    </tr>\n",
       "    <tr>\n",
       "      <th>33</th>\n",
       "      <td>2016-06-30</td>\n",
       "      <td>afghan suicide bomber  kills up to 40    bbc news</td>\n",
       "    </tr>\n",
       "    <tr>\n",
       "      <th>34</th>\n",
       "      <td>2016-06-30</td>\n",
       "      <td>us airstrikes kill at least 250 isis fighters ...</td>\n",
       "    </tr>\n",
       "    <tr>\n",
       "      <th>35</th>\n",
       "      <td>2016-06-30</td>\n",
       "      <td>turkish cop who took down istanbul gunman hail...</td>\n",
       "    </tr>\n",
       "    <tr>\n",
       "      <th>36</th>\n",
       "      <td>2016-06-30</td>\n",
       "      <td>cannabis compounds could treat alzheimer s by ...</td>\n",
       "    </tr>\n",
       "    <tr>\n",
       "      <th>37</th>\n",
       "      <td>2016-06-30</td>\n",
       "      <td>japan s top court has approved blanket surveil...</td>\n",
       "    </tr>\n",
       "    <tr>\n",
       "      <th>38</th>\n",
       "      <td>2016-06-30</td>\n",
       "      <td>cia gave romania millions to host secret prisons</td>\n",
       "    </tr>\n",
       "    <tr>\n",
       "      <th>39</th>\n",
       "      <td>2016-06-30</td>\n",
       "      <td>groups urge u n  to suspend saudi arabia from ...</td>\n",
       "    </tr>\n",
       "    <tr>\n",
       "      <th>40</th>\n",
       "      <td>2016-06-30</td>\n",
       "      <td>googles free wifi at indian railway stations i...</td>\n",
       "    </tr>\n",
       "    <tr>\n",
       "      <th>41</th>\n",
       "      <td>2016-06-30</td>\n",
       "      <td>mounting evidence suggests  hobbits  were wipe...</td>\n",
       "    </tr>\n",
       "    <tr>\n",
       "      <th>42</th>\n",
       "      <td>2016-06-30</td>\n",
       "      <td>the men who carried out tuesday s terror attac...</td>\n",
       "    </tr>\n",
       "    <tr>\n",
       "      <th>43</th>\n",
       "      <td>2016-06-30</td>\n",
       "      <td>calls to suspend saudi arabia from un human ri...</td>\n",
       "    </tr>\n",
       "    <tr>\n",
       "      <th>44</th>\n",
       "      <td>2016-06-30</td>\n",
       "      <td>more than 100 nobel laureates call out greenpe...</td>\n",
       "    </tr>\n",
       "    <tr>\n",
       "      <th>45</th>\n",
       "      <td>2016-06-30</td>\n",
       "      <td>british pedophile sentenced to 85 years in us ...</td>\n",
       "    </tr>\n",
       "    <tr>\n",
       "      <th>46</th>\n",
       "      <td>2016-06-30</td>\n",
       "      <td>us permitted 1 200 offshore fracks in gulf of ...</td>\n",
       "    </tr>\n",
       "    <tr>\n",
       "      <th>47</th>\n",
       "      <td>2016-06-30</td>\n",
       "      <td>we will be swimming in ridicule   french beach...</td>\n",
       "    </tr>\n",
       "    <tr>\n",
       "      <th>48</th>\n",
       "      <td>2016-06-30</td>\n",
       "      <td>uefa says no minutes of silence for istanbul v...</td>\n",
       "    </tr>\n",
       "    <tr>\n",
       "      <th>49</th>\n",
       "      <td>2016-06-30</td>\n",
       "      <td>law enforcement sources  gun used in paris ter...</td>\n",
       "    </tr>\n",
       "    <tr>\n",
       "      <th>...</th>\n",
       "      <td>...</td>\n",
       "      <td>...</td>\n",
       "    </tr>\n",
       "    <tr>\n",
       "      <th>71983</th>\n",
       "      <td>2008-08-11</td>\n",
       "      <td>why wont america and nato help us  if they wo...</td>\n",
       "    </tr>\n",
       "    <tr>\n",
       "      <th>71984</th>\n",
       "      <td>2008-08-11</td>\n",
       "      <td>bush puts foot down on georgian conflict</td>\n",
       "    </tr>\n",
       "    <tr>\n",
       "      <th>71985</th>\n",
       "      <td>2008-08-11</td>\n",
       "      <td>jewish georgian minister  thanks to israeli t...</td>\n",
       "    </tr>\n",
       "    <tr>\n",
       "      <th>71986</th>\n",
       "      <td>2008-08-11</td>\n",
       "      <td>georgian army flees in disarray as russians a...</td>\n",
       "    </tr>\n",
       "    <tr>\n",
       "      <th>71987</th>\n",
       "      <td>2008-08-11</td>\n",
       "      <td>olympic opening ceremony fireworks  faked</td>\n",
       "    </tr>\n",
       "    <tr>\n",
       "      <th>71988</th>\n",
       "      <td>2008-08-11</td>\n",
       "      <td>what were the mossad with fraudulent new zeal...</td>\n",
       "    </tr>\n",
       "    <tr>\n",
       "      <th>71989</th>\n",
       "      <td>2008-08-11</td>\n",
       "      <td>russia angered by israeli military sale to ge...</td>\n",
       "    </tr>\n",
       "    <tr>\n",
       "      <th>71990</th>\n",
       "      <td>2008-08-11</td>\n",
       "      <td>an american citizen living in s ossetia blame...</td>\n",
       "    </tr>\n",
       "    <tr>\n",
       "      <th>71991</th>\n",
       "      <td>2008-08-11</td>\n",
       "      <td>welcome to world war iv  now in high definiti...</td>\n",
       "    </tr>\n",
       "    <tr>\n",
       "      <th>71992</th>\n",
       "      <td>2008-08-11</td>\n",
       "      <td>georgia s move  a mistake of monumental propo...</td>\n",
       "    </tr>\n",
       "    <tr>\n",
       "      <th>71993</th>\n",
       "      <td>2008-08-11</td>\n",
       "      <td>russia presses deeper into georgia  u s  says...</td>\n",
       "    </tr>\n",
       "    <tr>\n",
       "      <th>71994</th>\n",
       "      <td>2008-08-11</td>\n",
       "      <td>abhinav bindra wins first ever individual oly...</td>\n",
       "    </tr>\n",
       "    <tr>\n",
       "      <th>71995</th>\n",
       "      <td>2008-08-11</td>\n",
       "      <td>u s  ship heads for arctic to define territory</td>\n",
       "    </tr>\n",
       "    <tr>\n",
       "      <th>71996</th>\n",
       "      <td>2008-08-11</td>\n",
       "      <td>drivers in a jerusalem taxi station threaten ...</td>\n",
       "    </tr>\n",
       "    <tr>\n",
       "      <th>71997</th>\n",
       "      <td>2008-08-11</td>\n",
       "      <td>the french team is stunned by phelps and the ...</td>\n",
       "    </tr>\n",
       "    <tr>\n",
       "      <th>71998</th>\n",
       "      <td>2008-08-11</td>\n",
       "      <td>israel and the us behind the georgian aggress...</td>\n",
       "    </tr>\n",
       "    <tr>\n",
       "      <th>71999</th>\n",
       "      <td>2008-08-11</td>\n",
       "      <td>do not believe tv  neither russian nor georg...</td>\n",
       "    </tr>\n",
       "    <tr>\n",
       "      <th>72000</th>\n",
       "      <td>2008-08-11</td>\n",
       "      <td>riots are still going on in montreal  canada ...</td>\n",
       "    </tr>\n",
       "    <tr>\n",
       "      <th>72001</th>\n",
       "      <td>2008-08-11</td>\n",
       "      <td>china to overtake us as largest manufacturer</td>\n",
       "    </tr>\n",
       "    <tr>\n",
       "      <th>72002</th>\n",
       "      <td>2008-08-11</td>\n",
       "      <td>war in south ossetia  pics</td>\n",
       "    </tr>\n",
       "    <tr>\n",
       "      <th>72003</th>\n",
       "      <td>2008-08-11</td>\n",
       "      <td>israeli physicians group condemns state torture</td>\n",
       "    </tr>\n",
       "    <tr>\n",
       "      <th>72004</th>\n",
       "      <td>2008-08-11</td>\n",
       "      <td>russia has just beaten the united states ove...</td>\n",
       "    </tr>\n",
       "    <tr>\n",
       "      <th>72005</th>\n",
       "      <td>2008-08-11</td>\n",
       "      <td>perhaps  the  question about the georgia   ru...</td>\n",
       "    </tr>\n",
       "    <tr>\n",
       "      <th>72006</th>\n",
       "      <td>2008-08-11</td>\n",
       "      <td>russia is so much better at war</td>\n",
       "    </tr>\n",
       "    <tr>\n",
       "      <th>72007</th>\n",
       "      <td>2008-08-11</td>\n",
       "      <td>so this is what it s come to  trading sex for...</td>\n",
       "    </tr>\n",
       "    <tr>\n",
       "      <th>72058</th>\n",
       "      <td>2008-08-08</td>\n",
       "      <td>georgia  downs two russian warplanes  as coun...</td>\n",
       "    </tr>\n",
       "    <tr>\n",
       "      <th>72059</th>\n",
       "      <td>2008-08-08</td>\n",
       "      <td>breaking  musharraf to be impeached</td>\n",
       "    </tr>\n",
       "    <tr>\n",
       "      <th>72060</th>\n",
       "      <td>2008-08-08</td>\n",
       "      <td>russia today  columns of troops roll into sou...</td>\n",
       "    </tr>\n",
       "    <tr>\n",
       "      <th>72061</th>\n",
       "      <td>2008-08-08</td>\n",
       "      <td>russian tanks are moving towards the capital ...</td>\n",
       "    </tr>\n",
       "    <tr>\n",
       "      <th>72062</th>\n",
       "      <td>2008-08-08</td>\n",
       "      <td>afghan children raped with  impunity   u n  o...</td>\n",
       "    </tr>\n",
       "    <tr>\n",
       "      <th>72063</th>\n",
       "      <td>2008-08-08</td>\n",
       "      <td>150 russian tanks have entered south ossetia ...</td>\n",
       "    </tr>\n",
       "    <tr>\n",
       "      <th>72064</th>\n",
       "      <td>2008-08-08</td>\n",
       "      <td>breaking  georgia invades south ossetia  russ...</td>\n",
       "    </tr>\n",
       "    <tr>\n",
       "      <th>72065</th>\n",
       "      <td>2008-08-08</td>\n",
       "      <td>the  enemy combatent  trials are nothing but ...</td>\n",
       "    </tr>\n",
       "    <tr>\n",
       "      <th>72066</th>\n",
       "      <td>2008-08-08</td>\n",
       "      <td>georgian troops retreat from s  osettain capi...</td>\n",
       "    </tr>\n",
       "    <tr>\n",
       "      <th>72067</th>\n",
       "      <td>2008-08-08</td>\n",
       "      <td>did the u s  prep georgia for war with russia</td>\n",
       "    </tr>\n",
       "    <tr>\n",
       "      <th>72068</th>\n",
       "      <td>2008-08-08</td>\n",
       "      <td>rice gives green light for israel to attack i...</td>\n",
       "    </tr>\n",
       "    <tr>\n",
       "      <th>72069</th>\n",
       "      <td>2008-08-08</td>\n",
       "      <td>announcing class action lawsuit on behalf of ...</td>\n",
       "    </tr>\n",
       "    <tr>\n",
       "      <th>72070</th>\n",
       "      <td>2008-08-08</td>\n",
       "      <td>so   russia and georgia are at war and the ny...</td>\n",
       "    </tr>\n",
       "    <tr>\n",
       "      <th>72071</th>\n",
       "      <td>2008-08-08</td>\n",
       "      <td>china tells bush to stay out of other countri...</td>\n",
       "    </tr>\n",
       "    <tr>\n",
       "      <th>72072</th>\n",
       "      <td>2008-08-08</td>\n",
       "      <td>did world war iii start today</td>\n",
       "    </tr>\n",
       "    <tr>\n",
       "      <th>72073</th>\n",
       "      <td>2008-08-08</td>\n",
       "      <td>georgia invades south ossetia   if russia get...</td>\n",
       "    </tr>\n",
       "    <tr>\n",
       "      <th>72074</th>\n",
       "      <td>2008-08-08</td>\n",
       "      <td>al qaeda faces islamist backlash</td>\n",
       "    </tr>\n",
       "    <tr>\n",
       "      <th>72075</th>\n",
       "      <td>2008-08-08</td>\n",
       "      <td>condoleezza rice   the us would not act to pr...</td>\n",
       "    </tr>\n",
       "    <tr>\n",
       "      <th>72076</th>\n",
       "      <td>2008-08-08</td>\n",
       "      <td>this is a busy day   the european union has a...</td>\n",
       "    </tr>\n",
       "    <tr>\n",
       "      <th>72077</th>\n",
       "      <td>2008-08-08</td>\n",
       "      <td>georgia will withdraw 1 000 soldiers from ira...</td>\n",
       "    </tr>\n",
       "    <tr>\n",
       "      <th>72078</th>\n",
       "      <td>2008-08-08</td>\n",
       "      <td>why the pentagon thinks attacking iran is a b...</td>\n",
       "    </tr>\n",
       "    <tr>\n",
       "      <th>72079</th>\n",
       "      <td>2008-08-08</td>\n",
       "      <td>caucasus in crisis  georgia invades south oss...</td>\n",
       "    </tr>\n",
       "    <tr>\n",
       "      <th>72080</th>\n",
       "      <td>2008-08-08</td>\n",
       "      <td>indian shoe manufactory    and again in a ser...</td>\n",
       "    </tr>\n",
       "    <tr>\n",
       "      <th>72081</th>\n",
       "      <td>2008-08-08</td>\n",
       "      <td>visitors suffering from mental illnesses bann...</td>\n",
       "    </tr>\n",
       "    <tr>\n",
       "      <th>72082</th>\n",
       "      <td>2008-08-08</td>\n",
       "      <td>no help for mexico s kidnapping surge</td>\n",
       "    </tr>\n",
       "  </tbody>\n",
       "</table>\n",
       "<p>49718 rows × 2 columns</p>\n",
       "</div>"
      ],
      "text/plain": [
       "            Date                                               News\n",
       "0     2016-07-01  a 117 year old woman in mexico city finally re...\n",
       "1     2016-07-01   imf chief backs athens as permanent olympic host\n",
       "2     2016-07-01  the president of france says if brexit won  so...\n",
       "3     2016-07-01  british man who must give police 24 hours  not...\n",
       "4     2016-07-01  100+ nobel laureates urge greenpeace to stop o...\n",
       "5     2016-07-01  brazil  huge spike in number of police killing...\n",
       "6     2016-07-01  austria s highest court annuls presidential el...\n",
       "7     2016-07-01  facebook wins privacy case  can track any belg...\n",
       "8     2016-07-01  switzerland denies muslim girls citizenship af...\n",
       "9     2016-07-01  china kills millions of innocent meditators fo...\n",
       "10    2016-07-01  france cracks down on factory farms   a viral ...\n",
       "11    2016-07-01  abbas plo faction calls killer of 13 year old ...\n",
       "12    2016-07-01  taiwanese warship accidentally fires missile t...\n",
       "13    2016-07-01  iran celebrates american human rights week  mo...\n",
       "14    2016-07-01  u n  panel moves to curb bias against l g b t ...\n",
       "15    2016-07-01  the united states has placed myanmar  uzbekist...\n",
       "16    2016-07-01  s p revises european union credit rating to  a...\n",
       "17    2016-07-01  india gets  1 billion loan from world bank for...\n",
       "18    2016-07-01  u s  sailors detained by iran spoke too much u...\n",
       "19    2016-07-01  mass fish kill in vietnam solved as taiwan ste...\n",
       "20    2016-07-01  philippines president rodrigo duterte urges pe...\n",
       "21    2016-07-01  spain arrests three pakistanis accused of prom...\n",
       "22    2016-07-01  venezuela  where anger over food shortages is ...\n",
       "23    2016-07-01  a hindu temple worker has been killed by three...\n",
       "24    2016-07-01  ozone layer hole seems to be healing   us   uk...\n",
       "25    2016-06-30  jamaica proposes marijuana dispensers for tour...\n",
       "26    2016-06-30  stephen hawking says pollution and  stupidity ...\n",
       "27    2016-06-30  boris johnson says he will not run for tory pa...\n",
       "28    2016-06-30  six gay men in ivory coast were abused and for...\n",
       "29    2016-06-30  switzerland denies citizenship to muslim immig...\n",
       "30    2016-06-30  palestinian terrorist stabs israeli teen girl ...\n",
       "31    2016-06-30  puerto rico will default on  1 billion of debt...\n",
       "32    2016-06-30  republic of ireland fans to be awarded medal f...\n",
       "33    2016-06-30  afghan suicide bomber  kills up to 40    bbc news\n",
       "34    2016-06-30  us airstrikes kill at least 250 isis fighters ...\n",
       "35    2016-06-30  turkish cop who took down istanbul gunman hail...\n",
       "36    2016-06-30  cannabis compounds could treat alzheimer s by ...\n",
       "37    2016-06-30  japan s top court has approved blanket surveil...\n",
       "38    2016-06-30   cia gave romania millions to host secret prisons\n",
       "39    2016-06-30  groups urge u n  to suspend saudi arabia from ...\n",
       "40    2016-06-30  googles free wifi at indian railway stations i...\n",
       "41    2016-06-30  mounting evidence suggests  hobbits  were wipe...\n",
       "42    2016-06-30  the men who carried out tuesday s terror attac...\n",
       "43    2016-06-30  calls to suspend saudi arabia from un human ri...\n",
       "44    2016-06-30  more than 100 nobel laureates call out greenpe...\n",
       "45    2016-06-30  british pedophile sentenced to 85 years in us ...\n",
       "46    2016-06-30  us permitted 1 200 offshore fracks in gulf of ...\n",
       "47    2016-06-30  we will be swimming in ridicule   french beach...\n",
       "48    2016-06-30  uefa says no minutes of silence for istanbul v...\n",
       "49    2016-06-30  law enforcement sources  gun used in paris ter...\n",
       "...          ...                                                ...\n",
       "71983 2008-08-11   why wont america and nato help us  if they wo...\n",
       "71984 2008-08-11          bush puts foot down on georgian conflict \n",
       "71985 2008-08-11   jewish georgian minister  thanks to israeli t...\n",
       "71986 2008-08-11   georgian army flees in disarray as russians a...\n",
       "71987 2008-08-11        olympic opening ceremony fireworks  faked  \n",
       "71988 2008-08-11   what were the mossad with fraudulent new zeal...\n",
       "71989 2008-08-11   russia angered by israeli military sale to ge...\n",
       "71990 2008-08-11   an american citizen living in s ossetia blame...\n",
       "71991 2008-08-11   welcome to world war iv  now in high definiti...\n",
       "71992 2008-08-11   georgia s move  a mistake of monumental propo...\n",
       "71993 2008-08-11   russia presses deeper into georgia  u s  says...\n",
       "71994 2008-08-11   abhinav bindra wins first ever individual oly...\n",
       "71995 2008-08-11    u s  ship heads for arctic to define territory \n",
       "71996 2008-08-11   drivers in a jerusalem taxi station threaten ...\n",
       "71997 2008-08-11   the french team is stunned by phelps and the ...\n",
       "71998 2008-08-11   israel and the us behind the georgian aggress...\n",
       "71999 2008-08-11    do not believe tv  neither russian nor georg...\n",
       "72000 2008-08-11   riots are still going on in montreal  canada ...\n",
       "72001 2008-08-11      china to overtake us as largest manufacturer \n",
       "72002 2008-08-11                       war in south ossetia  pics  \n",
       "72003 2008-08-11   israeli physicians group condemns state torture \n",
       "72004 2008-08-11    russia has just beaten the united states ove...\n",
       "72005 2008-08-11   perhaps  the  question about the georgia   ru...\n",
       "72006 2008-08-11                   russia is so much better at war \n",
       "72007 2008-08-11   so this is what it s come to  trading sex for...\n",
       "72058 2008-08-08   georgia  downs two russian warplanes  as coun...\n",
       "72059 2008-08-08              breaking  musharraf to be impeached  \n",
       "72060 2008-08-08   russia today  columns of troops roll into sou...\n",
       "72061 2008-08-08   russian tanks are moving towards the capital ...\n",
       "72062 2008-08-08   afghan children raped with  impunity   u n  o...\n",
       "72063 2008-08-08   150 russian tanks have entered south ossetia ...\n",
       "72064 2008-08-08   breaking  georgia invades south ossetia  russ...\n",
       "72065 2008-08-08   the  enemy combatent  trials are nothing but ...\n",
       "72066 2008-08-08   georgian troops retreat from s  osettain capi...\n",
       "72067 2008-08-08    did the u s  prep georgia for war with russia  \n",
       "72068 2008-08-08   rice gives green light for israel to attack i...\n",
       "72069 2008-08-08   announcing class action lawsuit on behalf of ...\n",
       "72070 2008-08-08   so   russia and georgia are at war and the ny...\n",
       "72071 2008-08-08   china tells bush to stay out of other countri...\n",
       "72072 2008-08-08                    did world war iii start today  \n",
       "72073 2008-08-08   georgia invades south ossetia   if russia get...\n",
       "72074 2008-08-08                  al qaeda faces islamist backlash \n",
       "72075 2008-08-08   condoleezza rice   the us would not act to pr...\n",
       "72076 2008-08-08   this is a busy day   the european union has a...\n",
       "72077 2008-08-08   georgia will withdraw 1 000 soldiers from ira...\n",
       "72078 2008-08-08   why the pentagon thinks attacking iran is a b...\n",
       "72079 2008-08-08   caucasus in crisis  georgia invades south oss...\n",
       "72080 2008-08-08   indian shoe manufactory    and again in a ser...\n",
       "72081 2008-08-08   visitors suffering from mental illnesses bann...\n",
       "72082 2008-08-08             no help for mexico s kidnapping surge \n",
       "\n",
       "[49718 rows x 2 columns]"
      ]
     },
     "execution_count": 7,
     "metadata": {},
     "output_type": "execute_result"
    },
    {
     "name": "stdout",
     "output_type": "stream",
     "text": [
      "time: 362 ms\n"
     ]
    }
   ],
   "source": [
    "##Una función para limpieza básica, podemos añadir cosas, es un solo una base, luego lo adaptamos más a nuestro uso\n",
    "\n",
    "import re\n",
    "\n",
    "REPLACE_BY_SPACE_RE = re.compile(r'[/(){}\\[\\]\\|@,;-]')\n",
    "BAD_SYMBOLS_RE = re.compile(r'[^0-9a-z #+_]')\n",
    "\n",
    "def clean_text(text):\n",
    "    \"\"\"\n",
    "        text: a string\n",
    "        \n",
    "        return: modified initial string\n",
    "    \"\"\"\n",
    "    text = text.lower() # lowercase text\n",
    "    text = REPLACE_BY_SPACE_RE.sub(' ', text) # replace REPLACE_BY_SPACE_RE symbols by space in text\n",
    "    text = BAD_SYMBOLS_RE.sub(' ', text) # delete symbols which are in BAD_SYMBOLS_RE from text\n",
    "    return text\n",
    "    \n",
    "RedditNews['News'] = RedditNews['News'].apply(clean_text)\n",
    "RedditNews"
   ]
  },
  {
   "cell_type": "markdown",
   "metadata": {},
   "source": [
    "### Text Cleaning\n",
    "We use the following function to clean our texts and return a list of tokens:"
   ]
  },
  {
   "cell_type": "code",
   "execution_count": 8,
   "metadata": {},
   "outputs": [
    {
     "name": "stdout",
     "output_type": "stream",
     "text": [
      "time: 6.63 s\n"
     ]
    }
   ],
   "source": [
    "import spacy\n",
    "spacy.load('en_core_web_sm')\n",
    "from spacy.lang.en import English\n",
    "parser = English()\n",
    "\n",
    "def tokenize(text):\n",
    "    lda_tokens = []\n",
    "    tokens = parser(text)\n",
    "    for token in tokens:\n",
    "        if token.orth_.isspace():\n",
    "            continue\n",
    "        elif token.like_url:\n",
    "            lda_tokens.append('URL')\n",
    "        elif token.orth_.startswith('@'):\n",
    "            lda_tokens.append('SCREEN_NAME')\n",
    "        else:\n",
    "            lda_tokens.append(token.lower_)\n",
    "    return lda_tokens"
   ]
  },
  {
   "cell_type": "markdown",
   "metadata": {},
   "source": [
    "We use NLTK’s Wordnet to find the meanings of words, synonyms, antonyms, and more. In addition, we use WordNetLemmatizer to get the root wor"
   ]
  },
  {
   "cell_type": "code",
   "execution_count": 9,
   "metadata": {},
   "outputs": [
    {
     "name": "stdout",
     "output_type": "stream",
     "text": [
      "time: 9.48 s\n"
     ]
    }
   ],
   "source": [
    "import nltk\n",
    "# nltk.download('wordnet')"
   ]
  },
  {
   "cell_type": "code",
   "execution_count": 10,
   "metadata": {},
   "outputs": [
    {
     "name": "stdout",
     "output_type": "stream",
     "text": [
      "time: 2 ms\n"
     ]
    }
   ],
   "source": [
    "from nltk.corpus import wordnet as wn\n",
    "\n",
    "## Lemmatizer\n",
    "def get_lemma(word):\n",
    "    lemma = wn.morphy(word)\n",
    "    if lemma is None:\n",
    "        return word\n",
    "    else:\n",
    "        return lemma\n",
    "    \n",
    "from nltk.stem.wordnet import WordNetLemmatizer\n",
    "def get_lemma2(word):\n",
    "    return WordNetLemmatizer().lemmatize(word)"
   ]
  },
  {
   "cell_type": "code",
   "execution_count": 11,
   "metadata": {},
   "outputs": [
    {
     "name": "stdout",
     "output_type": "stream",
     "text": [
      "dogs dog dog\n",
      "ran run ran\n",
      "discouraged discourage discouraged\n",
      "time: 2.7 s\n"
     ]
    }
   ],
   "source": [
    "for w in ['dogs', 'ran', 'discouraged']:\n",
    "    print(w, get_lemma(w), get_lemma2(w))"
   ]
  },
  {
   "cell_type": "markdown",
   "metadata": {},
   "source": [
    "Filter stop words"
   ]
  },
  {
   "cell_type": "code",
   "execution_count": 12,
   "metadata": {},
   "outputs": [
    {
     "name": "stdout",
     "output_type": "stream",
     "text": [
      "time: 6 ms\n"
     ]
    }
   ],
   "source": [
    "# nltk.download('stopwords')\n",
    "en_stop = set(nltk.corpus.stopwords.words('english'))"
   ]
  },
  {
   "cell_type": "markdown",
   "metadata": {},
   "source": [
    "Now we can define a function to prepare the text for topic modelling:"
   ]
  },
  {
   "cell_type": "code",
   "execution_count": 13,
   "metadata": {},
   "outputs": [
    {
     "name": "stdout",
     "output_type": "stream",
     "text": [
      "time: 102 ms\n"
     ]
    }
   ],
   "source": [
    "def prepare_text_for_lda(text):\n",
    "    tokens = tokenize(text)\n",
    "    tokens = [token for token in tokens if len(token) > 4]\n",
    "    tokens = [token for token in tokens if token not in en_stop]\n",
    "    tokens = [get_lemma(token) for token in tokens]\n",
    "    return tokens"
   ]
  },
  {
   "cell_type": "markdown",
   "metadata": {},
   "source": [
    "Open up our data, read line by line, for each line, prepare text for LDA, then add to a list."
   ]
  },
  {
   "cell_type": "code",
   "execution_count": 14,
   "metadata": {},
   "outputs": [
    {
     "name": "stdout",
     "output_type": "stream",
     "text": [
      "time: 52.2 s\n"
     ]
    }
   ],
   "source": [
    "text_data = []\n",
    "            \n",
    "for row in RedditNews['News'].values:\n",
    "    tokens = prepare_text_for_lda(row)\n",
    "    text_data.append(tokens)"
   ]
  },
  {
   "cell_type": "markdown",
   "metadata": {},
   "source": [
    "### LDA with Gensim\n",
    "First, we are creating a dictionary from the data, then convert to bag-of-words corpus and save the dictionary and corpus for future use."
   ]
  },
  {
   "cell_type": "code",
   "execution_count": 15,
   "metadata": {},
   "outputs": [
    {
     "name": "stdout",
     "output_type": "stream",
     "text": [
      "time: 7.97 s\n"
     ]
    }
   ],
   "source": [
    "from gensim import corpora\n",
    "## Dictionary encapsulates the mapping between normalized words and their integer ids.\n",
    "dictionary = corpora.Dictionary(text_data)"
   ]
  },
  {
   "cell_type": "code",
   "execution_count": 16,
   "metadata": {},
   "outputs": [
    {
     "name": "stdout",
     "output_type": "stream",
     "text": [
      "time: 984 ms\n"
     ]
    }
   ],
   "source": [
    "## Converts a collection of words to its bag-of-words representation: a list of (word_id, word_frequency) 2-tuples\n",
    "corpus = [dictionary.doc2bow(text) for text in text_data]"
   ]
  },
  {
   "cell_type": "code",
   "execution_count": 17,
   "metadata": {},
   "outputs": [
    {
     "name": "stdout",
     "output_type": "stream",
     "text": [
      "time: 240 ms\n"
     ]
    }
   ],
   "source": [
    "import pickle\n",
    "pickle.dump(corpus, open('corpus.pkl', 'wb'))\n",
    "dictionary.save('dictionary.gensim')"
   ]
  },
  {
   "cell_type": "markdown",
   "metadata": {},
   "source": [
    "### Try 13 topics"
   ]
  },
  {
   "cell_type": "code",
   "execution_count": 18,
   "metadata": {},
   "outputs": [
    {
     "name": "stdout",
     "output_type": "stream",
     "text": [
      "time: 3min 56s\n"
     ]
    }
   ],
   "source": [
    "import gensim\n",
    "NUM_TOPICS = 13\n",
    "\n",
    "ldamodel = gensim.models.ldamodel.LdaModel(corpus, \n",
    "                                           num_topics = NUM_TOPICS, \n",
    "                                           id2word=dictionary, \n",
    "                                           passes=15, # how many times the algorithm is supposed to pass over the whole corpus\n",
    "                                           random_state = 10291, \n",
    "                                           chunksize = 2000 # number of documents to consider at once (affects the memory consumption)\n",
    "                                          )\n",
    "ldamodel.save('model10.gensim')"
   ]
  },
  {
   "cell_type": "code",
   "execution_count": 19,
   "metadata": {},
   "outputs": [
    {
     "name": "stdout",
     "output_type": "stream",
     "text": [
      "(0, '0.024*\"found\" + 0.022*\"court\" + 0.017*\"indian\" + 0.016*\"mexico\" + 0.013*\"japan\"')\n",
      "(1, '0.025*\"internet\" + 0.023*\"wikileaks\" + 0.019*\"secret\" + 0.017*\"government\" + 0.014*\"break\"')\n",
      "(2, '0.054*\"russia\" + 0.037*\"russian\" + 0.032*\"afghanistan\" + 0.027*\"military\" + 0.025*\"force\"')\n",
      "(3, '0.079*\"china\" + 0.034*\"chinese\" + 0.020*\"pirate\" + 0.011*\"history\" + 0.011*\"world\"')\n",
      "(4, '0.061*\"right\" + 0.034*\"human\" + 0.026*\"german\" + 0.015*\"international\" + 0.015*\"european\"')\n",
      "(5, '0.036*\"north\" + 0.036*\"korea\" + 0.035*\"nuclear\" + 0.033*\"minister\" + 0.021*\"power\"')\n",
      "(6, '0.051*\"woman\" + 0.050*\"child\" + 0.033*\"death\" + 0.022*\"afghan\" + 0.019*\"school\"')\n",
      "(7, '0.028*\"south\" + 0.023*\"president\" + 0.021*\"africa\" + 0.019*\"build\" + 0.017*\"house\"')\n",
      "(8, '0.029*\"protest\" + 0.026*\"people\" + 0.022*\"canada\" + 0.020*\"thousand\" + 0.016*\"britain\"')\n",
      "(9, '0.082*\"israel\" + 0.060*\"israeli\" + 0.044*\"attack\" + 0.035*\"kill\" + 0.033*\"palestinian\"')\n",
      "(10, '0.054*\"world\" + 0.033*\"million\" + 0.021*\"years\" + 0.020*\"billion\" + 0.019*\"india\"')\n",
      "(11, '0.051*\"police\" + 0.026*\"arrest\" + 0.020*\"video\" + 0.017*\"crime\" + 0.015*\"election\"')\n",
      "(12, '0.051*\"state\" + 0.026*\"muslim\" + 0.021*\"france\" + 0.020*\"crisis\" + 0.018*\"unite\"')\n",
      "time: 50 ms\n"
     ]
    }
   ],
   "source": [
    "topics = ldamodel.print_topics(num_words=5)\n",
    "for topic in topics:\n",
    "    print(topic)"
   ]
  },
  {
   "cell_type": "code",
   "execution_count": 20,
   "metadata": {},
   "outputs": [
    {
     "name": "stdout",
     "output_type": "stream",
     "text": [
      "[(79, 1), (750, 1), (964, 1), (1375, 1), (8616, 1)]\n",
      "[(0, 0.17948857), (1, 0.012821766), (2, 0.012821766), (3, 0.012821766), (4, 0.012821897), (5, 0.012821766), (6, 0.012821874), (7, 0.012821766), (8, 0.012821813), (9, 0.51282966), (10, 0.1794638), (11, 0.012821821), (12, 0.012821766)]\n",
      "time: 13 ms\n"
     ]
    }
   ],
   "source": [
    "new_doc = 'Israel inquiry finds Gaza aid flotilla raid was legal'\n",
    "new_doc = prepare_text_for_lda(new_doc)\n",
    "new_doc_bow = dictionary.doc2bow(new_doc)\n",
    "print(new_doc_bow)\n",
    "print(ldamodel.get_document_topics(new_doc_bow))"
   ]
  },
  {
   "cell_type": "markdown",
   "metadata": {},
   "source": [
    "### pyLDAvis"
   ]
  },
  {
   "cell_type": "markdown",
   "metadata": {},
   "source": [
    "pyLDAvis is designed to help users interpret the topics in a topic model that has been fit to a corpus of text data. The package extracts information from a fitted LDA topic model to inform an interactive web-based visualization."
   ]
  },
  {
   "cell_type": "markdown",
   "metadata": {},
   "source": [
    "The left panel visualise the topics as circles in the two-dimensional plane whose centres are determined by computing the Jensen–Shannon divergence between topics, and then by using multidimensional scaling to project the inter-topic distances onto two dimensions. Each topic’s overall prevalence is encoded using the areas of the circles.\n",
    "\n",
    "The right panel depicts a horizontal bar chart whose bars represent the individual terms that are the most useful for interpreting the currently selected topic on the left. A pair of overlaid bars represent both the corpus-wide frequency of a given term as well as the topic-specific frequency of the term.\n",
    "\n",
    "The λ slider allows to rank the terms according to term relevance. By default, the terms of a topic are ranked in decreasing order according their topic-specific probability ( λ = 1 ). Moving the slider allows to adjust the rank of terms based on much discriminatory (or \"relevant\") are for the specific topic. The suggested “optimal” value of λ is 0.6.\n",
    "\n",
    " 0 ≤ λ ≤ 1, as λ log(p(term | topic)) + (1 - λ) log(p(term | topic)/p(term)). The red bars represent the frequency of a term in a given topic, (proportional to p(term | topic)), and the blue bars represent a term's frequency across the entire corpus, (proportional to p(term)). Change the value of λ to adjust the term rankings -- small values of λ (near 0) highlight potentially rare, but exclusive terms for the selected topic, and large values of λ (near 1) highlight frequent, but not necessarily exclusive, terms for the selected topic. A user study described in our paper suggested that setting λ near 0.6 aids users in topic interpretation, although we expect this to vary across topics and data sets (hence our tool, which allows you to flexiby adjust λ)."
   ]
  },
  {
   "cell_type": "markdown",
   "metadata": {},
   "source": [
    "- Saliency: a measure of how much the term tells you about the topic.\n",
    "- Relevance: a weighted average of the probability of the word given the topic and the word given the topic normalized by the probability of the topic.\n",
    "- The size of the bubble measures the importance of the topics, relative to the data."
   ]
  },
  {
   "cell_type": "code",
   "execution_count": 23,
   "metadata": {},
   "outputs": [
    {
     "data": {
      "text/html": [
       "\n",
       "<link rel=\"stylesheet\" type=\"text/css\" href=\"https://cdn.rawgit.com/bmabey/pyLDAvis/files/ldavis.v1.0.0.css\">\n",
       "\n",
       "\n",
       "<div id=\"ldavis_el113442848734785728835141901\"></div>\n",
       "<script type=\"text/javascript\">\n",
       "\n",
       "var ldavis_el113442848734785728835141901_data = {\"mdsDat\": {\"x\": [-0.1747864859922901, 0.1615229152670942, -0.23628255020489553, 0.16916791586323265, 0.10105770298386767, -0.10374163759145928, -0.021860253265669018, 0.024517809491430776, -0.1940530517463382, 0.17227714842326178, 0.004650899740036123, 0.06637891125443189, 0.03115067577729692], \"y\": [-0.09665710419330019, 0.10596841224021931, 0.1690227905256642, -0.031021371389813153, 0.08860457520523, 0.264443038306322, -0.15413636548863355, -0.09112338372268895, -0.1513030724445922, 0.012143688797472197, -0.11607130297102802, -0.06808687693770493, 0.06821697207285328], \"topics\": [1, 2, 3, 4, 5, 6, 7, 8, 9, 10, 11, 12, 13], \"cluster\": [1, 1, 1, 1, 1, 1, 1, 1, 1, 1, 1, 1, 1], \"Freq\": [9.823402404785156, 8.78564739227295, 8.726019859313965, 8.643807411193848, 8.013940811157227, 7.817761421203613, 7.560079574584961, 7.321378707885742, 7.139983177185059, 7.077530860900879, 6.883501052856445, 6.717637062072754, 5.489298343658447]}, \"tinfo\": {\"Category\": [\"Default\", \"Default\", \"Default\", \"Default\", \"Default\", \"Default\", \"Default\", \"Default\", \"Default\", \"Default\", \"Default\", \"Default\", \"Default\", \"Default\", \"Default\", \"Default\", \"Default\", \"Default\", \"Default\", \"Default\", \"Default\", \"Default\", \"Default\", \"Default\", \"Default\", \"Default\", \"Default\", \"Default\", \"Default\", \"Default\", \"Topic1\", \"Topic1\", \"Topic1\", \"Topic1\", \"Topic1\", \"Topic1\", \"Topic1\", \"Topic1\", \"Topic1\", \"Topic1\", \"Topic1\", \"Topic1\", \"Topic1\", \"Topic1\", \"Topic1\", \"Topic1\", \"Topic1\", \"Topic1\", \"Topic1\", \"Topic1\", \"Topic1\", \"Topic1\", \"Topic1\", \"Topic1\", \"Topic1\", \"Topic1\", \"Topic1\", \"Topic1\", \"Topic1\", \"Topic1\", \"Topic1\", \"Topic1\", \"Topic1\", \"Topic1\", \"Topic1\", \"Topic1\", \"Topic1\", \"Topic1\", \"Topic1\", \"Topic1\", \"Topic1\", \"Topic1\", \"Topic1\", \"Topic1\", \"Topic1\", \"Topic1\", \"Topic1\", \"Topic1\", \"Topic1\", \"Topic1\", \"Topic1\", \"Topic1\", \"Topic1\", \"Topic2\", \"Topic2\", \"Topic2\", \"Topic2\", \"Topic2\", \"Topic2\", \"Topic2\", \"Topic2\", \"Topic2\", \"Topic2\", \"Topic2\", \"Topic2\", \"Topic2\", \"Topic2\", \"Topic2\", \"Topic2\", \"Topic2\", \"Topic2\", \"Topic2\", \"Topic2\", \"Topic2\", \"Topic2\", \"Topic2\", \"Topic2\", \"Topic2\", \"Topic2\", \"Topic2\", \"Topic2\", \"Topic2\", \"Topic2\", \"Topic2\", \"Topic2\", \"Topic2\", \"Topic2\", \"Topic2\", \"Topic2\", \"Topic2\", \"Topic2\", \"Topic2\", \"Topic2\", \"Topic3\", \"Topic3\", \"Topic3\", \"Topic3\", \"Topic3\", \"Topic3\", \"Topic3\", \"Topic3\", \"Topic3\", \"Topic3\", \"Topic3\", \"Topic3\", \"Topic3\", \"Topic3\", \"Topic3\", \"Topic3\", \"Topic3\", \"Topic3\", \"Topic3\", \"Topic3\", \"Topic3\", \"Topic3\", \"Topic3\", \"Topic3\", \"Topic3\", \"Topic3\", \"Topic3\", \"Topic3\", \"Topic3\", \"Topic3\", \"Topic3\", \"Topic3\", \"Topic3\", \"Topic3\", \"Topic3\", \"Topic3\", \"Topic3\", \"Topic3\", \"Topic3\", \"Topic4\", \"Topic4\", \"Topic4\", \"Topic4\", \"Topic4\", \"Topic4\", \"Topic4\", \"Topic4\", \"Topic4\", \"Topic4\", \"Topic4\", \"Topic4\", \"Topic4\", \"Topic4\", \"Topic4\", \"Topic4\", \"Topic4\", \"Topic4\", \"Topic4\", \"Topic4\", \"Topic4\", \"Topic4\", \"Topic4\", \"Topic4\", \"Topic4\", \"Topic4\", \"Topic4\", \"Topic4\", \"Topic4\", \"Topic4\", \"Topic4\", \"Topic4\", \"Topic4\", \"Topic4\", \"Topic4\", \"Topic4\", \"Topic4\", \"Topic4\", \"Topic4\", \"Topic4\", \"Topic4\", \"Topic4\", \"Topic5\", \"Topic5\", \"Topic5\", \"Topic5\", \"Topic5\", \"Topic5\", \"Topic5\", \"Topic5\", \"Topic5\", \"Topic5\", \"Topic5\", \"Topic5\", \"Topic5\", \"Topic5\", \"Topic5\", \"Topic5\", \"Topic5\", \"Topic5\", \"Topic5\", \"Topic5\", \"Topic5\", \"Topic5\", \"Topic5\", \"Topic5\", \"Topic5\", \"Topic5\", \"Topic5\", \"Topic5\", \"Topic5\", \"Topic5\", \"Topic5\", \"Topic5\", \"Topic5\", \"Topic5\", \"Topic5\", \"Topic5\", \"Topic5\", \"Topic5\", \"Topic5\", \"Topic5\", \"Topic5\", \"Topic5\", \"Topic5\", \"Topic5\", \"Topic6\", \"Topic6\", \"Topic6\", \"Topic6\", \"Topic6\", \"Topic6\", \"Topic6\", \"Topic6\", \"Topic6\", \"Topic6\", \"Topic6\", \"Topic6\", \"Topic6\", \"Topic6\", \"Topic6\", \"Topic6\", \"Topic6\", \"Topic6\", \"Topic6\", \"Topic6\", \"Topic6\", \"Topic6\", \"Topic6\", \"Topic6\", \"Topic6\", \"Topic6\", \"Topic6\", \"Topic6\", \"Topic6\", \"Topic6\", \"Topic6\", \"Topic6\", \"Topic6\", \"Topic6\", \"Topic6\", \"Topic6\", \"Topic6\", \"Topic6\", \"Topic6\", \"Topic7\", \"Topic7\", \"Topic7\", \"Topic7\", \"Topic7\", \"Topic7\", \"Topic7\", \"Topic7\", \"Topic7\", \"Topic7\", \"Topic7\", \"Topic7\", \"Topic7\", \"Topic7\", \"Topic7\", \"Topic7\", \"Topic7\", \"Topic7\", \"Topic7\", \"Topic7\", \"Topic7\", \"Topic7\", \"Topic7\", \"Topic7\", \"Topic7\", \"Topic7\", \"Topic7\", \"Topic7\", \"Topic7\", \"Topic7\", \"Topic7\", \"Topic7\", \"Topic7\", \"Topic7\", \"Topic7\", \"Topic7\", \"Topic7\", \"Topic7\", \"Topic7\", \"Topic7\", \"Topic7\", \"Topic7\", \"Topic8\", \"Topic8\", \"Topic8\", \"Topic8\", \"Topic8\", \"Topic8\", \"Topic8\", \"Topic8\", \"Topic8\", \"Topic8\", \"Topic8\", \"Topic8\", \"Topic8\", \"Topic8\", \"Topic8\", \"Topic8\", \"Topic8\", \"Topic8\", \"Topic8\", \"Topic8\", \"Topic8\", \"Topic8\", \"Topic8\", \"Topic8\", \"Topic8\", \"Topic8\", \"Topic8\", \"Topic8\", \"Topic8\", \"Topic8\", \"Topic8\", \"Topic8\", \"Topic8\", \"Topic8\", \"Topic8\", \"Topic8\", \"Topic8\", \"Topic8\", \"Topic8\", \"Topic8\", \"Topic8\", \"Topic8\", \"Topic8\", \"Topic8\", \"Topic8\", \"Topic9\", \"Topic9\", \"Topic9\", \"Topic9\", \"Topic9\", \"Topic9\", \"Topic9\", \"Topic9\", \"Topic9\", \"Topic9\", \"Topic9\", \"Topic9\", \"Topic9\", \"Topic9\", \"Topic9\", \"Topic9\", \"Topic9\", \"Topic9\", \"Topic9\", \"Topic9\", \"Topic9\", \"Topic9\", \"Topic9\", \"Topic9\", \"Topic9\", \"Topic9\", \"Topic9\", \"Topic9\", \"Topic9\", \"Topic9\", \"Topic9\", \"Topic9\", \"Topic9\", \"Topic9\", \"Topic9\", \"Topic9\", \"Topic9\", \"Topic9\", \"Topic9\", \"Topic9\", \"Topic9\", \"Topic9\", \"Topic9\", \"Topic9\", \"Topic10\", \"Topic10\", \"Topic10\", \"Topic10\", \"Topic10\", \"Topic10\", \"Topic10\", \"Topic10\", \"Topic10\", \"Topic10\", \"Topic10\", \"Topic10\", \"Topic10\", \"Topic10\", \"Topic10\", \"Topic10\", \"Topic10\", \"Topic10\", \"Topic10\", \"Topic10\", \"Topic10\", \"Topic10\", \"Topic10\", \"Topic10\", \"Topic10\", \"Topic10\", \"Topic10\", \"Topic10\", \"Topic10\", \"Topic10\", \"Topic10\", \"Topic10\", \"Topic10\", \"Topic10\", \"Topic10\", \"Topic10\", \"Topic10\", \"Topic10\", \"Topic10\", \"Topic10\", \"Topic10\", \"Topic10\", \"Topic10\", \"Topic11\", \"Topic11\", \"Topic11\", \"Topic11\", \"Topic11\", \"Topic11\", \"Topic11\", \"Topic11\", \"Topic11\", \"Topic11\", \"Topic11\", \"Topic11\", \"Topic11\", \"Topic11\", \"Topic11\", \"Topic11\", \"Topic11\", \"Topic11\", \"Topic11\", \"Topic11\", \"Topic11\", \"Topic11\", \"Topic11\", \"Topic11\", \"Topic11\", \"Topic11\", \"Topic11\", \"Topic11\", \"Topic11\", \"Topic11\", \"Topic11\", \"Topic11\", \"Topic11\", \"Topic11\", \"Topic11\", \"Topic11\", \"Topic11\", \"Topic11\", \"Topic11\", \"Topic11\", \"Topic12\", \"Topic12\", \"Topic12\", \"Topic12\", \"Topic12\", \"Topic12\", \"Topic12\", \"Topic12\", \"Topic12\", \"Topic12\", \"Topic12\", \"Topic12\", \"Topic12\", \"Topic12\", \"Topic12\", \"Topic12\", \"Topic12\", \"Topic12\", \"Topic12\", \"Topic12\", \"Topic12\", \"Topic12\", \"Topic12\", \"Topic12\", \"Topic12\", \"Topic12\", \"Topic12\", \"Topic12\", \"Topic12\", \"Topic12\", \"Topic12\", \"Topic12\", \"Topic12\", \"Topic12\", \"Topic12\", \"Topic12\", \"Topic12\", \"Topic12\", \"Topic12\", \"Topic12\", \"Topic12\", \"Topic12\", \"Topic12\", \"Topic12\", \"Topic12\", \"Topic12\", \"Topic12\", \"Topic13\", \"Topic13\", \"Topic13\", \"Topic13\", \"Topic13\", \"Topic13\", \"Topic13\", \"Topic13\", \"Topic13\", \"Topic13\", \"Topic13\", \"Topic13\", \"Topic13\", \"Topic13\", \"Topic13\", \"Topic13\", \"Topic13\", \"Topic13\", \"Topic13\", \"Topic13\", \"Topic13\", \"Topic13\", \"Topic13\", \"Topic13\", \"Topic13\", \"Topic13\", \"Topic13\", \"Topic13\", \"Topic13\", \"Topic13\", \"Topic13\", \"Topic13\", \"Topic13\", \"Topic13\", \"Topic13\", \"Topic13\", \"Topic13\", \"Topic13\", \"Topic13\", \"Topic13\", \"Topic13\"], \"Freq\": [3181.0, 2487.0, 2338.0, 2239.0, 1883.0, 3024.0, 1884.0, 1836.0, 1633.0, 1589.0, 1701.0, 1410.0, 1408.0, 1383.0, 1687.0, 1283.0, 1274.0, 1282.0, 1270.0, 1389.0, 1119.0, 1053.0, 1063.0, 1380.0, 1091.0, 1141.0, 1243.0, 1261.0, 2280.0, 922.0, 2238.802734375, 1140.6312255859375, 892.5021362304688, 744.9942626953125, 638.2918090820312, 469.7098693847656, 409.7865905761719, 356.6280212402344, 271.1878967285156, 253.52357482910156, 250.03591918945312, 242.4601593017578, 239.24070739746094, 220.70370483398438, 216.38864135742188, 202.3244171142578, 199.105712890625, 193.984130859375, 189.55499267578125, 187.82623291015625, 175.27029418945312, 172.31170654296875, 170.91542053222656, 165.23080444335938, 159.27955627441406, 158.26861572265625, 158.21295166015625, 155.37977600097656, 153.61065673828125, 150.4560089111328, 590.9764404296875, 300.3843994140625, 598.9227294921875, 561.6199951171875, 371.3395690917969, 397.37677001953125, 212.56515502929688, 406.1100769042969, 436.2358703613281, 298.81610107421875, 282.61370849609375, 263.2988586425781, 419.32916259765625, 353.52978515625, 422.3753662109375, 374.8846435546875, 354.8307189941406, 331.75933837890625, 309.2235412597656, 322.57318115234375, 282.1536865234375, 318.7783203125, 271.4687805175781, 1409.1212158203125, 1407.702880859375, 1381.8824462890625, 1281.068603515625, 840.7481689453125, 641.0302124023438, 621.214111328125, 592.8031005859375, 506.87371826171875, 454.78399658203125, 312.0962829589844, 298.2626647949219, 272.3693542480469, 251.53091430664062, 237.43429565429688, 226.78501892089844, 225.3816680908203, 222.13027954101562, 220.45663452148438, 218.1632537841797, 186.6420135498047, 181.00656127929688, 175.83343505859375, 170.21115112304688, 167.33843994140625, 157.0723114013672, 145.53311157226562, 140.40696716308594, 139.88494873046875, 139.50901794433594, 309.4118957519531, 387.9060974121094, 550.5396728515625, 308.1425476074219, 427.82965087890625, 300.7502136230469, 582.2109375, 212.12962341308594, 337.25439453125, 209.76132202148438, 3180.532470703125, 2337.421142578125, 1699.860107421875, 1269.3931884765625, 1090.46826171875, 630.9680786132812, 520.7130737304688, 506.85809326171875, 500.0505065917969, 446.69775390625, 441.7254333496094, 440.64337158203125, 436.8204040527344, 330.3134460449219, 321.2552490234375, 312.92877197265625, 292.1007385253906, 284.0606689453125, 247.85279846191406, 242.52598571777344, 240.62818908691406, 229.14027404785156, 228.518310546875, 222.77992248535156, 199.0736083984375, 194.5913848876953, 179.57211303710938, 171.93511962890625, 168.39561462402344, 162.81178283691406, 1363.3564453125, 577.6392211914062, 571.8958740234375, 364.7568664550781, 325.8127746582031, 287.5103454589844, 314.2403259277344, 280.5391845703125, 246.30345153808594, 1273.4300537109375, 756.6875, 607.5020751953125, 606.4059448242188, 595.6143188476562, 493.8121032714844, 399.6874084472656, 350.44635009765625, 341.7182312011719, 326.50506591796875, 304.745849609375, 298.0442810058594, 292.3612060546875, 291.6780700683594, 287.9141845703125, 280.5814208984375, 253.1202392578125, 237.8085479736328, 235.12831115722656, 231.7449951171875, 226.83389282226562, 213.9635467529297, 210.6138916015625, 202.19171142578125, 195.5831756591797, 191.4864501953125, 187.48428344726562, 185.51504516601562, 183.48265075683594, 169.84486389160156, 2098.736083984375, 718.5048217773438, 712.464111328125, 802.6090087890625, 243.03488159179688, 402.37628173828125, 286.9952087402344, 556.0156860351562, 270.5284423828125, 281.9273986816406, 348.85479736328125, 248.1633758544922, 1835.375732421875, 921.072998046875, 734.3346557617188, 722.9777221679688, 650.81787109375, 462.1072998046875, 391.0783996582031, 390.18402099609375, 368.209228515625, 356.59906005859375, 300.58270263671875, 297.438720703125, 292.74993896484375, 278.7334899902344, 268.3868408203125, 237.03900146484375, 232.60604858398438, 210.83819580078125, 210.37037658691406, 199.90390014648438, 198.5984649658203, 193.1610870361328, 190.00344848632812, 188.3771514892578, 180.2567138671875, 178.1869354248047, 177.6918182373047, 162.25567626953125, 162.12823486328125, 155.57518005371094, 563.5802001953125, 242.42434692382812, 522.586669921875, 503.52093505859375, 403.53302001953125, 349.44073486328125, 578.4285888671875, 251.36463928222656, 265.9163513183594, 316.1090393066406, 314.5655822753906, 306.85345458984375, 231.0762176513672, 231.11122131347656, 1883.0029296875, 1282.79248046875, 1118.0855712890625, 769.1475830078125, 643.0158081054688, 594.4877319335938, 557.536376953125, 428.79119873046875, 423.1004638671875, 385.20916748046875, 363.3581237792969, 336.0426025390625, 333.171142578125, 311.938232421875, 309.86822509765625, 284.4691467285156, 271.0846862792969, 254.47909545898438, 249.42657470703125, 242.0979766845703, 228.74710083007812, 226.73361206054688, 217.83489990234375, 214.15304565429688, 204.2711639404297, 200.2682342529297, 200.07701110839844, 186.2496795654297, 185.35877990722656, 183.0602569580078, 239.78128051757812, 934.435791015625, 496.9561767578125, 865.7682495117188, 238.26547241210938, 370.4539489746094, 259.526611328125, 222.02810668945312, 223.14381408691406, 830.2618408203125, 760.8487548828125, 637.2960205078125, 458.69635009765625, 427.3188171386719, 376.6521301269531, 363.5718688964844, 332.3953552246094, 296.49542236328125, 271.6088562011719, 264.1752014160156, 261.8531494140625, 260.9598693847656, 258.722412109375, 253.61758422851562, 249.6848602294922, 249.24053955078125, 231.90924072265625, 214.8140106201172, 209.268310546875, 200.3455810546875, 198.1728515625, 195.90713500976562, 195.4213409423828, 192.14369201660156, 191.64065551757812, 189.7715301513672, 188.55690002441406, 170.05886840820312, 166.7209014892578, 268.69305419921875, 428.8592224121094, 276.970947265625, 274.0793762207031, 291.78338623046875, 367.42626953125, 335.84234619140625, 334.2900390625, 560.8218994140625, 237.42637634277344, 246.3290252685547, 241.07730102539062, 729.6820068359375, 641.5492553710938, 503.73846435546875, 489.1393737792969, 412.5574645996094, 366.2032470703125, 317.984375, 307.75469970703125, 297.30511474609375, 254.71453857421875, 233.9149627685547, 212.0303955078125, 211.25308227539062, 206.1628875732422, 203.8780059814453, 196.3909454345703, 187.77418518066406, 186.79867553710938, 186.1481475830078, 185.29249572753906, 179.6642608642578, 176.498291015625, 161.88414001464844, 160.31781005859375, 159.51351928710938, 153.91781616210938, 151.90724182128906, 149.79623413085938, 149.2958526611328, 146.3603515625, 959.94287109375, 290.8919677734375, 358.52764892578125, 537.823486328125, 314.9383239746094, 838.9285888671875, 274.8884582519531, 233.8425750732422, 527.85546875, 252.6999969482422, 249.10177612304688, 327.4386901855469, 205.92042541503906, 195.85272216796875, 199.74737548828125, 1632.154052734375, 1588.6151123046875, 713.941162109375, 603.373291015625, 544.5873413085938, 387.41094970703125, 355.53765869140625, 359.162841796875, 331.3702697753906, 284.66387939453125, 253.52743530273438, 236.59291076660156, 224.76303100585938, 222.95652770996094, 221.83901977539062, 205.8499298095703, 197.4645233154297, 192.1452178955078, 188.28875732421875, 185.47836303710938, 181.54971313476562, 171.14610290527344, 169.7877655029297, 169.61582946777344, 167.95159912109375, 163.2730712890625, 276.35589599609375, 149.5326690673828, 147.1466064453125, 144.2872772216797, 1056.9512939453125, 407.7021179199219, 245.19569396972656, 365.0040588378906, 203.8020782470703, 304.6840515136719, 355.50775146484375, 299.5029296875, 216.5408935546875, 316.2436828613281, 211.08067321777344, 225.29693603515625, 206.85684204101562, 208.79013061523438, 1062.8037109375, 2483.596923828125, 345.6277770996094, 302.3904724121094, 262.77679443359375, 249.34571838378906, 238.54714965820312, 230.20994567871094, 222.36354064941406, 221.6155242919922, 217.06297302246094, 211.865234375, 210.518310546875, 206.5425567626953, 200.0305633544922, 195.60227966308594, 195.1007843017578, 193.0778045654297, 167.3644561767578, 162.42196655273438, 161.00543212890625, 159.75587463378906, 149.75955200195312, 148.7211456298828, 143.94662475585938, 143.20835876464844, 138.77032470703125, 138.761962890625, 137.15135192871094, 136.5101776123047, 633.1868896484375, 222.07171630859375, 258.2510986328125, 174.619140625, 249.25863647460938, 254.8463897705078, 194.7276611328125, 196.86155700683594, 342.1130676269531, 188.40745544433594, 182.45306396484375, 168.74839782714844, 171.04014587402344, 1882.5308837890625, 1052.373291015625, 806.2503662109375, 368.2398986816406, 352.4070129394531, 309.59576416015625, 285.0251770019531, 273.9584045410156, 251.0300750732422, 233.44473266601562, 228.41481018066406, 225.59237670898438, 224.57659912109375, 218.60426330566406, 215.40464782714844, 204.856201171875, 197.47325134277344, 185.57740783691406, 177.77297973632812, 176.00111389160156, 174.87258911132812, 162.79705810546875, 161.64822387695312, 150.24562072753906, 148.81434631347656, 146.23052978515625, 143.05596923828125, 142.73785400390625, 138.59539794921875, 138.13101196289062, 427.3951416015625, 466.7677307128906, 447.00341796875, 242.0587158203125, 381.5469665527344, 176.44956970214844, 349.8388671875, 261.0605163574219, 229.90310668945312, 177.43145751953125, 513.0247192382812, 369.48193359375, 364.1231689453125, 339.9165954589844, 335.8512878417969, 321.2176513671875, 292.09161376953125, 254.40106201171875, 232.20635986328125, 229.79844665527344, 216.385986328125, 202.3286895751953, 195.40699768066406, 185.2121124267578, 182.7066650390625, 179.89390563964844, 176.88320922851562, 172.39614868164062, 158.92489624023438, 158.9136962890625, 149.86431884765625, 145.65060424804688, 134.8800811767578, 134.4412384033203, 130.39944458007812, 125.63062286376953, 121.19261932373047, 121.15533447265625, 116.0064468383789, 114.68386840820312, 712.1180419921875, 321.978759765625, 661.845703125, 476.6800537109375, 299.1327819824219, 296.0279541015625, 294.71160888671875, 179.95372009277344, 256.0267333984375, 386.7054138183594, 243.7957000732422, 247.8221893310547, 237.17575073242188, 200.35247802734375, 183.1166229248047, 225.88502502441406, 190.93727111816406, 521.6728515625, 457.35882568359375, 421.6369323730469, 406.57171630859375, 382.92303466796875, 353.130615234375, 335.2814636230469, 302.19927978515625, 269.8318176269531, 263.9708251953125, 254.21792602539062, 253.71429443359375, 226.40892028808594, 220.3359832763672, 217.83148193359375, 215.78445434570312, 206.30557250976562, 200.00845336914062, 198.63986206054688, 182.55746459960938, 174.60659790039062, 171.98204040527344, 149.67860412597656, 136.55059814453125, 135.2880401611328, 134.7653350830078, 132.69161987304688, 131.07455444335938, 129.5008544921875, 129.4309539794922, 691.72900390625, 322.4692687988281, 391.1419677734375, 330.6371154785156, 570.9569702148438, 166.3184051513672, 192.11013793945312, 183.84779357910156, 205.14639282226562, 178.6769561767578, 174.86904907226562], \"Term\": [\"israel\", \"china\", \"israeli\", \"police\", \"right\", \"world\", \"russia\", \"state\", \"woman\", \"child\", \"attack\", \"north\", \"korea\", \"nuclear\", \"kill\", \"russian\", \"million\", \"minister\", \"palestinian\", \"death\", \"afghanistan\", \"human\", \"chinese\", \"protest\", \"pakistan\", \"arrest\", \"south\", \"military\", \"people\", \"muslim\", \"police\", \"arrest\", \"video\", \"crime\", \"election\", \"officer\", \"trial\", \"mexican\", \"massacre\", \"politician\", \"fighting\", \"bomber\", \"militant\", \"stand\", \"clash\", \"murdoch\", \"agent\", \"breaking\", \"beat\", \"commit\", \"senior\", \"presidential\", \"footage\", \"sarkozy\", \"lanka\", \"arm\", \"factory\", \"front\", \"crackdown\", \"youth\", \"protester\", \"egyptian\", \"leader\", \"party\", \"political\", \"journalist\", \"office\", \"murder\", \"charge\", \"suspect\", \"student\", \"suicide\", \"protest\", \"british\", \"people\", \"force\", \"president\", \"death\", \"official\", \"kill\", \"mexico\", \"government\", \"try\", \"north\", \"korea\", \"nuclear\", \"minister\", \"power\", \"global\", \"prime\", \"change\", \"korean\", \"economy\", \"price\", \"energy\", \"climate\", \"leak\", \"zealand\", \"wrong\", \"really\", \"nobel\", \"ground\", \"prize\", \"need\", \"might\", \"coming\", \"currency\", \"camera\", \"dangerous\", \"test\", \"assassination\", \"ask\", \"snowden\", \"economic\", \"missile\", \"south\", \"foreign\", \"could\", \"warn\", \"world\", \"scientist\", \"country\", \"system\", \"israel\", \"israeli\", \"attack\", \"palestinian\", \"pakistan\", \"iranian\", \"saudi\", \"taliban\", \"civilian\", \"terrorist\", \"hamas\", \"jewish\", \"peace\", \"pakistani\", \"terror\", \"conflict\", \"fire\", \"target\", \"settler\", \"ahmadinejad\", \"dubai\", \"bombing\", \"arabia\", \"somalia\", \"qaeda\", \"watch\", \"blast\", \"drone\", \"injure\", \"gunman\", \"kill\", \"strike\", \"soldier\", \"least\", \"military\", \"american\", \"people\", \"report\", \"killing\", \"million\", \"billion\", \"water\", \"since\", \"large\", \"times\", \"population\", \"decade\", \"big\", \"third\", \"almost\", \"nearly\", \"create\", \"home\", \"female\", \"percent\", \"congo\", \"discover\", \"worst\", \"fukushima\", \"study\", \"reason\", \"century\", \"revolution\", \"nigeria\", \"spend\", \"means\", \"truth\", \"reactor\", \"worth\", \"world\", \"india\", \"first\", \"years\", \"level\", \"become\", \"record\", \"people\", \"every\", \"company\", \"country\", \"report\", \"state\", \"muslim\", \"france\", \"crisis\", \"unite\", \"parliament\", \"islamic\", \"venezuela\", \"financial\", \"earthquake\", \"warning\", \"haiti\", \"italy\", \"terrorism\", \"sweden\", \"irish\", \"chavez\", \"sudan\", \"vote\", \"interview\", \"fraud\", \"appeal\", \"nothing\", \"violent\", \"couple\", \"emergency\", \"quake\", \"site\", \"ignore\", \"facing\", \"nation\", \"civil\", \"germany\", \"french\", \"egypt\", \"europe\", \"country\", \"leaders\", \"fight\", \"european\", \"president\", \"government\", \"citizen\", \"call\", \"russia\", \"russian\", \"afghanistan\", \"troops\", \"georgia\", \"border\", \"syria\", \"rebel\", \"putin\", \"syrian\", \"freedom\", \"doctor\", \"plane\", \"crash\", \"talks\", \"jerusalem\", \"ukraine\", \"hospital\", \"raise\", \"battle\", \"prisoner\", \"daughter\", \"sanction\", \"shoot\", \"running\", \"back\", \"reporter\", \"enter\", \"detain\", \"refugee\", \"airport\", \"military\", \"weapon\", \"force\", \"supply\", \"president\", \"security\", \"deny\", \"general\", \"internet\", \"wikileaks\", \"secret\", \"break\", \"story\", \"rule\", \"intelligence\", \"picture\", \"assange\", \"mumbai\", \"question\", \"online\", \"agency\", \"happen\", \"access\", \"rocket\", \"information\", \"website\", \"surveillance\", \"search\", \"facebook\", \"service\", \"cable\", \"publish\", \"english\", \"jazeera\", \"space\", \"ship\", \"julian\", \"founder\", \"document\", \"release\", \"dollar\", \"google\", \"block\", \"canadian\", \"take\", \"medium\", \"government\", \"control\", \"australian\", \"court\", \"canada\", \"thousand\", \"still\", \"street\", \"think\", \"drug\", \"problem\", \"democracy\", \"ireland\", \"moscow\", \"lose\", \"train\", \"working\", \"living\", \"march\", \"defend\", \"message\", \"city\", \"washington\", \"seek\", \"rally\", \"entire\", \"tehran\", \"reform\", \"ethnic\", \"oppose\", \"education\", \"mayor\", \"survive\", \"promise\", \"protest\", \"fail\", \"london\", \"britain\", \"support\", \"people\", \"policy\", \"across\", \"government\", \"demand\", \"today\", \"country\", \"brazil\", \"never\", \"canadian\", \"woman\", \"child\", \"afghan\", \"school\", \"abuse\", \"settlement\", \"young\", \"church\", \"christian\", \"catholic\", \"spain\", \"riot\", \"girl\", \"mother\", \"traffic\", \"vatican\", \"anyone\", \"life\", \"priest\", \"kidnap\", \"execute\", \"sexual\", \"probe\", \"boycott\", \"escape\", \"honduras\", \"zimbabwe\", \"range\", \"innocent\", \"crowd\", \"death\", \"victim\", \"libya\", \"sentence\", \"assault\", \"accused\", \"family\", \"torture\", \"turn\", \"years\", \"three\", \"force\", \"claim\", \"british\", \"chinese\", \"china\", \"history\", \"throw\", \"great\", \"somali\", \"earth\", \"visit\", \"coast\", \"pass\", \"disaster\", \"island\", \"david\", \"already\", \"response\", \"spread\", \"parent\", \"father\", \"person\", \"write\", \"give\", \"instead\", \"look\", \"light\", \"abandon\", \"names\", \"event\", \"copyright\", \"censorship\", \"require\", \"pirate\", \"expert\", \"dutch\", \"green\", \"second\", \"start\", \"leave\", \"consider\", \"world\", \"america\", \"first\", \"result\", \"years\", \"right\", \"human\", \"german\", \"photo\", \"banks\", \"confirm\", \"phone\", \"convict\", \"local\", \"berlusconi\", \"occupy\", \"council\", \"steal\", \"private\", \"norway\", \"suspend\", \"islamist\", \"article\", \"satellite\", \"blogger\", \"movement\", \"flood\", \"criticism\", \"society\", \"everyone\", \"agreement\", \"fine\", \"forget\", \"avoid\", \"teenager\", \"prison\", \"international\", \"european\", \"trade\", \"group\", \"hack\", \"years\", \"court\", \"germany\", \"newspaper\", \"indian\", \"declare\", \"greece\", \"japanese\", \"rape\", \"legal\", \"italian\", \"guilty\", \"genocide\", \"libyan\", \"territory\", \"supreme\", \"small\", \"body\", \"anger\", \"holocaust\", \"marijuana\", \"medical\", \"remain\", \"friday\", \"whale\", \"blood\", \"immigrant\", \"victory\", \"hindu\", \"legalize\", \"potential\", \"banking\", \"culture\", \"survivor\", \"found\", \"plant\", \"court\", \"mexico\", \"continue\", \"illegal\", \"refuse\", \"farmer\", \"jail\", \"japan\", \"another\", \"allow\", \"order\", \"turkey\", \"future\", \"country\", \"india\", \"africa\", \"build\", \"house\", \"iceland\", \"iraqi\", \"white\", \"african\", \"seize\", \"offer\", \"scandal\", \"judge\", \"catch\", \"capture\", \"expose\", \"fighter\", \"swedish\", \"swiss\", \"reddit\", \"argentina\", \"accept\", \"cross\", \"mubarak\", \"olympics\", \"prosecutor\", \"warship\", \"recession\", \"head\", \"invasion\", \"incident\", \"olympic\", \"south\", \"chief\", \"former\", \"obama\", \"president\", \"getting\", \"black\", \"regime\", \"money\", \"massive\", \"destroy\"], \"Total\": [3181.0, 2487.0, 2338.0, 2239.0, 1883.0, 3024.0, 1884.0, 1836.0, 1633.0, 1589.0, 1701.0, 1410.0, 1408.0, 1383.0, 1687.0, 1283.0, 1274.0, 1282.0, 1270.0, 1389.0, 1119.0, 1053.0, 1063.0, 1380.0, 1091.0, 1141.0, 1243.0, 1261.0, 2280.0, 922.0, 2239.9775390625, 1141.80615234375, 893.677001953125, 746.1691284179688, 639.4666748046875, 470.8847961425781, 410.9615173339844, 357.8029479980469, 272.3628234863281, 254.69845581054688, 251.21078491210938, 243.63504028320312, 240.4155731201172, 221.87857055664062, 217.56350708007812, 203.49928283691406, 200.28057861328125, 195.1590118408203, 190.7298583984375, 189.0010986328125, 176.44515991210938, 173.48658752441406, 172.0902862548828, 166.4056854248047, 160.45443725585938, 159.4434814453125, 159.3878173828125, 156.55465698242188, 154.7855224609375, 151.63088989257812, 697.923583984375, 333.51019287109375, 744.9169921875, 721.3079223632812, 443.11297607421875, 500.5497741699219, 234.43051147460938, 581.3392944335938, 694.0931396484375, 432.5845947265625, 438.26611328125, 381.4617004394531, 1380.3505859375, 1146.479736328125, 2280.50830078125, 1540.89111328125, 1611.686767578125, 1389.7939453125, 1076.3931884765625, 1687.027587890625, 759.9065551757812, 2614.21923828125, 641.505126953125, 1410.28271484375, 1408.8643798828125, 1383.0439453125, 1282.2301025390625, 841.9096069335938, 642.191650390625, 622.3755493164062, 593.9645385742188, 508.0351867675781, 455.94549560546875, 313.2577819824219, 299.42413330078125, 273.53082275390625, 252.69235229492188, 238.59573364257812, 227.9464569091797, 226.54312133789062, 223.29171752929688, 221.61807250976562, 219.32469177246094, 187.803466796875, 182.1680145263672, 176.994873046875, 171.3726043701172, 168.4998779296875, 158.23374938964844, 146.69454956054688, 141.56842041015625, 141.04640197753906, 140.6704559326172, 369.44244384765625, 567.5344848632812, 1243.330078125, 550.2750244140625, 1067.641357421875, 573.9119873046875, 3024.01708984375, 354.9653625488281, 2146.4541015625, 495.4673156738281, 3181.720947265625, 2338.609619140625, 1701.048583984375, 1270.5816650390625, 1091.65673828125, 632.156494140625, 521.9014892578125, 508.0466003417969, 501.239013671875, 447.8862609863281, 442.9139099121094, 441.8318786621094, 438.0089111328125, 331.501953125, 322.4437561035156, 314.1172790527344, 293.28924560546875, 285.2491760253906, 249.04122924804688, 243.7144317626953, 241.81661987304688, 230.32870483398438, 229.7067413330078, 223.96836853027344, 200.2620391845703, 195.7798309326172, 180.7605438232422, 173.12355041503906, 169.58404541015625, 164.00021362304688, 1687.027587890625, 717.37255859375, 781.3917846679688, 491.9942626953125, 1261.3394775390625, 920.3627319335938, 2280.50830078125, 1345.986083984375, 632.823974609375, 1274.59033203125, 757.8477172851562, 608.6622924804688, 607.566162109375, 596.7745361328125, 494.9724426269531, 400.8477478027344, 351.606689453125, 342.8785705566406, 327.6654052734375, 305.90618896484375, 299.2046203613281, 293.52154541015625, 292.8384094238281, 289.07452392578125, 281.74176025390625, 254.28048706054688, 238.96884155273438, 236.28855895996094, 232.90524291992188, 227.994140625, 215.12380981445312, 211.77413940429688, 203.3519744873047, 196.74342346191406, 192.64669799804688, 188.64454650878906, 186.67530822753906, 184.6428985595703, 171.00511169433594, 3024.01708984375, 1066.5389404296875, 1360.7457275390625, 1809.1578369140625, 296.0374450683594, 766.18701171875, 433.361572265625, 2280.50830078125, 425.50164794921875, 540.7590942382812, 2146.4541015625, 1345.986083984375, 1836.5433349609375, 922.2404174804688, 735.5020751953125, 724.1451416015625, 651.9852905273438, 463.2748718261719, 392.2459411621094, 391.3515930175781, 369.3768005371094, 357.7666015625, 301.7502746582031, 298.6062927246094, 293.9175109863281, 279.90106201171875, 269.5544128417969, 238.20648193359375, 233.77352905273438, 212.00567626953125, 211.53811645507812, 201.07138061523438, 199.7659454345703, 194.3285675048828, 191.17092895507812, 189.5446319580078, 181.4241943359375, 179.3544158935547, 178.8592987060547, 163.42315673828125, 163.29571533203125, 156.74266052246094, 732.6649780273438, 273.28997802734375, 753.5529174804688, 722.2354736328125, 615.4185791015625, 719.3621215820312, 2146.4541015625, 381.3133850097656, 449.1986389160156, 764.1757202148438, 1611.686767578125, 2614.21923828125, 428.2869567871094, 906.2075805664062, 1884.1708984375, 1283.96044921875, 1119.2535400390625, 770.3154296875, 644.1837158203125, 595.6555786132812, 558.7042236328125, 429.9591369628906, 424.2684326171875, 386.3771057128906, 364.5260925292969, 337.2105712890625, 334.3390808105469, 313.1061706542969, 311.03619384765625, 285.6371154785156, 272.25262451171875, 255.64700317382812, 250.594482421875, 243.26588439941406, 229.91500854492188, 227.90151977539062, 219.0028076171875, 215.32095336914062, 205.43907165527344, 201.43614196777344, 201.2449188232422, 187.41758728027344, 186.5266876220703, 184.22816467285156, 241.44467163085938, 1261.3394775390625, 663.8673706054688, 1540.89111328125, 330.03997802734375, 1611.686767578125, 708.1937866210938, 291.4917907714844, 330.5049743652344, 831.4274291992188, 762.0143432617188, 638.4616088867188, 459.8620300292969, 428.4844970703125, 377.81781005859375, 364.737548828125, 333.56103515625, 297.66107177734375, 272.7745361328125, 265.34088134765625, 263.0188293457031, 262.12554931640625, 259.8880920410156, 254.783203125, 250.85047912597656, 250.40615844726562, 233.07485961914062, 215.97962951660156, 210.43392944335938, 201.51119995117188, 199.33847045898438, 197.07275390625, 196.5869598388672, 193.30931091308594, 192.8062744140625, 190.93714904785156, 189.72251892089844, 171.2244873046875, 167.8865203857422, 303.1827087402344, 563.845458984375, 334.263671875, 329.1334228515625, 386.27838134765625, 568.2427978515625, 561.5244750976562, 577.1276245117188, 2614.21923828125, 443.2669677734375, 549.414306640625, 1164.94287109375, 730.8509521484375, 642.7182006835938, 504.9074401855469, 490.308349609375, 413.7264404296875, 367.3722229003906, 319.1533508300781, 308.9236755371094, 298.4740905761719, 255.88348388671875, 235.0839080810547, 213.1993408203125, 212.42202758789062, 207.3318328857422, 205.0469512939453, 197.5598907470703, 188.94313049316406, 187.96762084960938, 187.3170928955078, 186.46144104003906, 180.8332061767578, 177.667236328125, 163.05308532714844, 161.48675537109375, 160.68246459960938, 155.08676147460938, 153.07618713378906, 150.96517944335938, 150.4647979736328, 147.529296875, 1380.3505859375, 334.04083251953125, 432.0514831542969, 722.7056274414062, 444.0440368652344, 2280.50830078125, 455.2288818359375, 339.7984313964844, 2614.21923828125, 492.9748840332031, 574.4476928710938, 2146.4541015625, 331.3136291503906, 332.37652587890625, 568.2427978515625, 1633.327880859375, 1589.7889404296875, 715.1149291992188, 604.5470581054688, 545.7611083984375, 388.5847473144531, 356.7114562988281, 360.3675231933594, 332.5440673828125, 285.8376770019531, 254.70118713378906, 237.76666259765625, 225.93678283691406, 224.13027954101562, 223.0127716064453, 207.023681640625, 198.63829040527344, 193.31898498535156, 189.46250915527344, 186.65213012695312, 182.7234649658203, 172.31985473632812, 170.96151733398438, 170.7895965576172, 169.12535095214844, 164.44683837890625, 278.484130859375, 150.70643615722656, 148.32037353515625, 145.46104431152344, 1389.7939453125, 515.682861328125, 298.895751953125, 521.2874755859375, 233.01751708984375, 476.5631103515625, 637.3114624023438, 557.9614868164062, 281.761474609375, 1809.1578369140625, 638.5379028320312, 1540.89111328125, 818.5042724609375, 1146.479736328125, 1063.969970703125, 2487.209716796875, 346.79400634765625, 303.55670166015625, 263.9430236816406, 250.51190185546875, 239.7133331298828, 231.37612915039062, 223.52972412109375, 222.78170776367188, 218.22915649414062, 213.0314178466797, 211.6844940185547, 207.708740234375, 201.19676208496094, 196.76846313476562, 196.2669677734375, 194.24398803710938, 168.5306396484375, 163.58815002441406, 162.17161560058594, 160.92205810546875, 150.92575073242188, 149.8873291015625, 145.11280822753906, 144.37454223632812, 139.93650817871094, 139.9281463623047, 138.31753540039062, 137.67636108398438, 759.5768432617188, 269.019287109375, 331.77301025390625, 196.2939910888672, 369.7961120605469, 410.96282958984375, 281.7249755859375, 304.09033203125, 3024.01708984375, 476.2742004394531, 1360.7457275390625, 312.8880615234375, 1809.1578369140625, 1883.6920166015625, 1053.534423828125, 807.4114990234375, 369.4010925292969, 353.5682067871094, 310.7569580078125, 286.1863708496094, 275.1195983886719, 252.1912384033203, 234.6058807373047, 229.5759735107422, 226.7535400390625, 225.73776245117188, 219.76541137695312, 216.5657958984375, 206.01736450195312, 198.6343994140625, 186.7385711669922, 178.9341278076172, 177.1622772216797, 176.03375244140625, 163.95822143554688, 162.80938720703125, 151.4067840576172, 149.9755096435547, 147.39169311523438, 144.2171173095703, 143.89901733398438, 139.75656127929688, 139.29217529296875, 602.4371337890625, 789.7725219726562, 764.1757202148438, 332.61981201171875, 849.45654296875, 235.38922119140625, 1809.1578369140625, 1164.94287109375, 753.5529174804688, 327.6259765625, 514.1880493164062, 370.6452941894531, 365.2865295410156, 341.0799560546875, 337.0146484375, 322.3810119628906, 293.2549743652344, 255.56439208984375, 233.36968994140625, 230.96177673339844, 217.54931640625, 203.4920196533203, 196.57032775878906, 186.3754425048828, 183.8699951171875, 181.05723571777344, 178.04653930664062, 173.55947875976562, 160.08822631835938, 160.0770263671875, 151.02764892578125, 146.81393432617188, 136.0434112548828, 135.6045684814453, 131.5627899169922, 126.79395294189453, 122.35595703125, 122.31867980957031, 117.1697769165039, 115.84719848632812, 997.0526123046875, 392.0888366699219, 1164.94287109375, 759.9065551757812, 409.3887023925781, 405.505859375, 486.6853332519531, 218.7631378173828, 398.0657958984375, 861.5852661132812, 440.4905090332031, 574.6912231445312, 788.7306518554688, 374.1150207519531, 248.03749084472656, 2146.4541015625, 1066.5389404296875, 522.8381958007812, 458.524169921875, 422.8022766113281, 407.737060546875, 384.08837890625, 354.29595947265625, 336.4468078613281, 303.3646240234375, 270.9971618652344, 265.13616943359375, 255.38327026367188, 254.879638671875, 227.5742645263672, 221.50132751464844, 218.996826171875, 216.94979858398438, 207.47091674804688, 201.17381286621094, 199.80520629882812, 183.72280883789062, 175.77194213867188, 173.1473846435547, 150.8439483642578, 137.7159423828125, 136.45338439941406, 135.93067932128906, 133.85696411132812, 132.23989868164062, 130.66619873046875, 130.59629821777344, 1243.330078125, 523.5298461914062, 742.4154052734375, 628.3936157226562, 1611.686767578125, 204.761962890625, 276.50555419921875, 296.1531066894531, 481.8392028808594, 300.0943603515625, 347.32232666015625], \"loglift\": [30.0, 29.0, 28.0, 27.0, 26.0, 25.0, 24.0, 23.0, 22.0, 21.0, 20.0, 19.0, 18.0, 17.0, 16.0, 15.0, 14.0, 13.0, 12.0, 11.0, 10.0, 9.0, 8.0, 7.0, 6.0, 5.0, 4.0, 3.0, 2.0, 1.0, 2.3199000358581543, 2.3194000720977783, 2.3190999031066895, 2.3187999725341797, 2.3185999393463135, 2.3178999423980713, 2.317500114440918, 2.3171000480651855, 2.3160998821258545, 2.3157999515533447, 2.315700054168701, 2.3155999183654785, 2.315500020980835, 2.3150999546051025, 2.315000057220459, 2.3145999908447266, 2.314500093460083, 2.3143999576568604, 2.314199924468994, 2.314199924468994, 2.313699960708618, 2.3136000633239746, 2.3136000633239746, 2.3132998943328857, 2.3131000995635986, 2.312999963760376, 2.312999963760376, 2.3129000663757324, 2.3127999305725098, 2.3125998973846436, 2.154099941253662, 2.2158000469207764, 2.102299928665161, 2.070199966430664, 2.143699884414673, 2.089600086212158, 2.2225000858306885, 1.9616999626159668, 1.8559999465942383, 1.9505000114440918, 1.881700038909912, 1.9496999979019165, 1.128999948501587, 1.1439000368118286, 0.6341000199317932, 0.9068999886512756, 0.8069999814033508, 0.8878999948501587, 1.073099970817566, 0.6660000085830688, 1.329699993133545, 0.21619999408721924, 1.4603999853134155, 2.4312000274658203, 2.4312000274658203, 2.4312000274658203, 2.4310998916625977, 2.4307000637054443, 2.4302000999450684, 2.4302000999450684, 2.4300999641418457, 2.429800033569336, 2.429500102996826, 2.428299903869629, 2.4282000064849854, 2.427799940109253, 2.4274001121520996, 2.4272000789642334, 2.4268999099731445, 2.4268999099731445, 2.426800012588501, 2.426800012588501, 2.4267001152038574, 2.425800085067749, 2.4256999492645264, 2.42549991607666, 2.425299882888794, 2.425100088119507, 2.4247000217437744, 2.424099922180176, 2.423799991607666, 2.423799991607666, 2.423799991607666, 2.254699945449829, 2.051500082015991, 1.617400050163269, 1.8522000312805176, 1.5176000595092773, 1.7858999967575073, 0.784500002861023, 1.917199969291687, 0.5813000202178955, 1.5724999904632568, 2.438499927520752, 2.4384000301361084, 2.438199996948242, 2.4379000663757324, 2.4377999305725098, 2.437000036239624, 2.4365999698638916, 2.436500072479248, 2.436500072479248, 2.436199903488159, 2.436199903488159, 2.436199903488159, 2.4361000061035156, 2.43530011177063, 2.4351999759674072, 2.4351000785827637, 2.434799909591675, 2.4347000122070312, 2.4340999126434326, 2.434000015258789, 2.4339001178741455, 2.4337000846862793, 2.4337000846862793, 2.433500051498413, 2.4328999519348145, 2.432800054550171, 2.432300090789795, 2.431999921798706, 2.43179988861084, 2.4316000938415527, 2.225800037384033, 2.2221999168395996, 2.126699924468994, 2.1396000385284424, 1.0852999687194824, 1.2754000425338745, 0.4569000005722046, 0.8707000017166138, 1.4952000379562378, 2.4474000930786133, 2.4467999935150146, 2.4463999271392822, 2.4463999271392822, 2.4463999271392822, 2.446000099182129, 2.4453999996185303, 2.444999933242798, 2.4449000358581543, 2.4447999000549316, 2.444499969482422, 2.4444000720977783, 2.4444000720977783, 2.4444000720977783, 2.4442999362945557, 2.444200038909912, 2.4437999725341797, 2.44350004196167, 2.4433999061584473, 2.4433000087738037, 2.44320011138916, 2.4428999423980713, 2.4428000450134277, 2.4426000118255615, 2.4423999786376953, 2.4423000812530518, 2.442199945449829, 2.4421000480651855, 2.441999912261963, 2.441499948501587, 2.0831000804901123, 2.053299903869629, 1.801300048828125, 1.635599970817566, 2.250999927520752, 1.8042999505996704, 2.0362000465393066, 1.0369999408721924, 1.9953999519348145, 1.7970000505447388, 0.6313999891281128, 0.7574999928474426, 2.523400068283081, 2.522700071334839, 2.52239990234375, 2.52239990234375, 2.522200107574463, 2.5215001106262207, 2.5209999084472656, 2.5209999084472656, 2.5208001136779785, 2.520699977874756, 2.5201001167297363, 2.5201001167297363, 2.5199999809265137, 2.5197999477386475, 2.5195999145507812, 2.5190999507904053, 2.5190000534057617, 2.5185000896453857, 2.5185000896453857, 2.518199920654297, 2.5181000232696533, 2.5179998874664307, 2.517899990081787, 2.5178000926971436, 2.5174999237060547, 2.5174999237060547, 2.517400026321411, 2.5167999267578125, 2.5167999267578125, 2.5164999961853027, 2.2616000175476074, 2.404099941253662, 2.1579999923706055, 2.163300037384033, 2.101900100708008, 1.8020000457763672, 1.2127000093460083, 2.107300043106079, 1.9996999502182007, 1.6412999629974365, 0.8901000022888184, 0.3815999925136566, 1.9069000482559204, 1.1576000452041626, 2.5481998920440674, 2.5478999614715576, 2.5476999282836914, 2.547300100326538, 2.546999931335449, 2.546799898147583, 2.5467000007629395, 2.546099901199341, 2.5460000038146973, 2.5457000732421875, 2.545599937438965, 2.545300006866455, 2.545300006866455, 2.5450000762939453, 2.5450000762939453, 2.5446999073028564, 2.5445001125335693, 2.5441999435424805, 2.544100046157837, 2.5439999103546143, 2.5436999797821045, 2.543600082397461, 2.5434000492095947, 2.543299913406372, 2.543100118637085, 2.5429999828338623, 2.5429999828338623, 2.5425000190734863, 2.5425000190734863, 2.5423998832702637, 2.5418999195098877, 2.248800039291382, 2.259200096130371, 1.9723000526428223, 2.222899913787842, 1.0785000324249268, 1.5448999404907227, 2.276599884033203, 2.1559998989105225, 2.580899953842163, 2.5808000564575195, 2.5804998874664307, 2.5797998905181885, 2.5796000957489014, 2.579200029373169, 2.5790998935699463, 2.5787999629974365, 2.578399896621704, 2.578000068664551, 2.577899932861328, 2.5778000354766846, 2.5778000354766846, 2.5778000354766846, 2.577699899673462, 2.5776000022888184, 2.5776000022888184, 2.5773000717163086, 2.576900005340576, 2.57669997215271, 2.5764999389648438, 2.5764000415802, 2.5764000415802, 2.5762999057769775, 2.576200008392334, 2.576200008392334, 2.576200008392334, 2.5761001110076904, 2.575500011444092, 2.5752999782562256, 2.4614999294281006, 2.3085999488830566, 2.3942999839782715, 2.399199962615967, 2.3017001152038574, 2.1463000774383545, 2.0683000087738037, 2.0362000465393066, 1.0429999828338623, 1.9579999446868896, 1.7800999879837036, 1.0069999694824219, 2.612799882888794, 2.612600088119507, 2.6120998859405518, 2.611999988555908, 2.6115000247955322, 2.6112000942230225, 2.6106998920440674, 2.610599994659424, 2.6103999614715576, 2.609800100326538, 2.6094000339508057, 2.6089000701904297, 2.6089000701904297, 2.6087000370025635, 2.6087000370025635, 2.6084001064300537, 2.6082000732421875, 2.608099937438965, 2.608099937438965, 2.608099937438965, 2.6078999042510986, 2.607800006866455, 2.6071999073028564, 2.607100009918213, 2.607100009918213, 2.606800079345703, 2.6066999435424805, 2.606600046157837, 2.606600046157837, 2.6064000129699707, 2.251199960708618, 2.476099967956543, 2.427799940109253, 2.3189001083374023, 2.2708001136779785, 1.614300012588501, 2.1098999977111816, 2.2407000064849854, 1.0145000219345093, 1.9460999965667725, 1.7788000106811523, 0.7340999841690063, 2.1387999057769775, 2.0855000019073486, 1.5688999891281128, 2.638700008392334, 2.638700008392334, 2.6377999782562256, 2.637500047683716, 2.6373000144958496, 2.636399984359741, 2.636199951171875, 2.6361000537872314, 2.6359000205993652, 2.6352999210357666, 2.6347999572753906, 2.634500026702881, 2.6342999935150146, 2.634200096130371, 2.634200096130371, 2.6338000297546387, 2.633500099182129, 2.6333999633789062, 2.63319993019104, 2.63319993019104, 2.632999897003174, 2.6326000690460205, 2.6326000690460205, 2.6326000690460205, 2.632499933242798, 2.6322999000549316, 2.6317999362945557, 2.6315999031066895, 2.631500005722046, 2.6314001083374023, 2.3657000064849854, 2.4045000076293945, 2.4414000511169434, 2.283099889755249, 2.505500078201294, 2.1921000480651855, 2.0557000637054443, 2.0172998905181885, 2.376199960708618, 0.8953999876976013, 1.5325000286102295, 0.7167999744415283, 1.2640000581741333, 0.9362999796867371, 2.6470999717712402, 2.6468000411987305, 2.64490008354187, 2.644399881362915, 2.6438000202178955, 2.6435999870300293, 2.643399953842163, 2.643199920654297, 2.6429998874664307, 2.6429998874664307, 2.642899990081787, 2.6428000926971436, 2.642699956893921, 2.6426000595092773, 2.642400026321411, 2.6422998905181885, 2.6422998905181885, 2.642199993133545, 2.6412999629974365, 2.6410999298095703, 2.6410000324249268, 2.6410000324249268, 2.640500068664551, 2.640399932861328, 2.640199899673462, 2.6401000022888184, 2.639899969100952, 2.639899969100952, 2.6398000717163086, 2.639699935913086, 2.466200113296509, 2.4565000534057617, 2.397700071334839, 2.5311999320983887, 2.2537999153137207, 2.1703999042510986, 2.278899908065796, 2.213399887084961, 0.4690000116825104, 1.720900058746338, 0.6388999819755554, 2.0308001041412354, 0.28949999809265137, 2.6754000186920166, 2.6749000549316406, 2.6745998859405518, 2.6728999614715576, 2.672800064086914, 2.672300100326538, 2.671999931335449, 2.671799898147583, 2.6714000701904297, 2.671099901199341, 2.6710000038146973, 2.6709001064300537, 2.6709001064300537, 2.6707000732421875, 2.6707000732421875, 2.6703999042510986, 2.6702001094818115, 2.669800043106079, 2.6695001125335693, 2.6695001125335693, 2.6693999767303467, 2.6689000129699707, 2.6689000129699707, 2.668299913406372, 2.668299913406372, 2.668100118637085, 2.6679999828338623, 2.6679000854492188, 2.6677000522613525, 2.6677000522613525, 2.3327999114990234, 2.150099992752075, 2.1398000717163086, 2.3582000732421875, 1.8756999969482422, 2.3877999782562256, 1.0328999757766724, 1.180400013923645, 1.4888999462127686, 2.0627999305725098, 2.698199987411499, 2.6972999572753906, 2.697200059890747, 2.697000026702881, 2.697000026702881, 2.6967999935150146, 2.696500062942505, 2.6958999633789062, 2.6953999996185303, 2.6953999996185303, 2.6951000690460205, 2.694700002670288, 2.694499969482422, 2.694200038909912, 2.6940999031066895, 2.694000005722046, 2.6939001083374023, 2.693700075149536, 2.6930999755859375, 2.6930999755859375, 2.692699909210205, 2.692500114440918, 2.691800117492676, 2.691800117492676, 2.6916000843048096, 2.691200017929077, 2.6909000873565674, 2.6909000873565674, 2.690500020980835, 2.6902999877929688, 2.3638999462127686, 2.5034000873565674, 2.134999990463257, 2.234100103378296, 2.386699914932251, 2.3857998847961426, 2.1988000869750977, 2.5051000118255615, 2.2590999603271484, 1.8992999792099, 2.1089000701904297, 1.8593000173568726, 1.4988000392913818, 2.075900077819824, 2.3970000743865967, 0.4489000141620636, 0.9801999926567078, 2.900099992752075, 2.8998000621795654, 2.899600028991699, 2.8994998931884766, 2.8993000984191895, 2.8991000652313232, 2.898900032043457, 2.8984999656677246, 2.898099899291992, 2.8980000019073486, 2.8977999687194824, 2.8977999687194824, 2.897200107574463, 2.8970999717712402, 2.8970000743865967, 2.8970000743865967, 2.896699905395508, 2.8966000080108643, 2.8965001106262207, 2.8959999084472656, 2.895699977874756, 2.8956000804901123, 2.8945999145507812, 2.893899917602539, 2.8938000202178955, 2.8938000202178955, 2.8935999870300293, 2.8935000896453857, 2.893399953842163, 2.893399953842163, 2.315999984741211, 2.417799949645996, 2.2614998817443848, 2.260200023651123, 1.8645999431610107, 2.6944000720977783, 2.5381999015808105, 2.425600051879883, 2.0485000610351562, 2.3838999271392822, 2.216200113296509], \"logprob\": [30.0, 29.0, 28.0, 27.0, 26.0, 25.0, 24.0, 23.0, 22.0, 21.0, 20.0, 19.0, 18.0, 17.0, 16.0, 15.0, 14.0, 13.0, 12.0, 11.0, 10.0, 9.0, 8.0, 7.0, 6.0, 5.0, 4.0, 3.0, 2.0, 1.0, -2.973400115966797, -3.647700071334839, -3.8929998874664307, -4.073699951171875, -4.228300094604492, -4.534900188446045, -4.67140007019043, -4.810400009155273, -5.084199905395508, -5.151599884033203, -5.16540002822876, -5.196199893951416, -5.20959997177124, -5.290200233459473, -5.309999942779541, -5.377200126647949, -5.393199920654297, -5.419300079345703, -5.442399978637695, -5.451499938964844, -5.520699977874756, -5.537700176239014, -5.545899868011475, -5.579699993133545, -5.616399765014648, -5.622799873352051, -5.6230998039245605, -5.641200065612793, -5.652599811553955, -5.673399925231934, -4.305300235748291, -4.98199987411499, -4.291900157928467, -4.356200218200684, -4.769899845123291, -4.702199935913086, -5.3277997970581055, -4.6803998947143555, -4.60890007019043, -4.987199783325195, -5.043000221252441, -5.113800048828125, -4.648399829864502, -4.8190999031066895, -4.641200065612793, -4.76039981842041, -4.815400123596191, -4.882599830627441, -4.953000068664551, -4.910699844360352, -5.044600009918213, -4.922599792480469, -5.083199977874756, -3.324700117111206, -3.325700044631958, -3.3441998958587646, -3.4200000762939453, -3.841099977493286, -4.112299919128418, -4.143700122833252, -4.190499782562256, -4.347099781036377, -4.455599784851074, -4.832099914550781, -4.877399921417236, -4.968200206756592, -5.047800064086914, -5.105500221252441, -5.151400089263916, -5.157599925994873, -5.172100067138672, -5.179699897766113, -5.190199851989746, -5.346199989318848, -5.3769001960754395, -5.405900001525879, -5.438399791717529, -5.455399990081787, -5.518700122833252, -5.59499979019165, -5.630899906158447, -5.6346001625061035, -5.63730001449585, -4.840700149536133, -4.61460018157959, -4.264500141143799, -4.844799995422363, -4.51669979095459, -4.869100093841553, -4.208600044250488, -5.218200206756592, -4.7546000480651855, -5.229400157928467, -2.5037999153137207, -2.811800003051758, -3.1303000450134277, -3.422300100326538, -3.574199914932251, -4.121300220489502, -4.313399791717529, -4.340400218963623, -4.353899955749512, -4.466700077056885, -4.47790002822876, -4.480400085449219, -4.489099979400635, -4.768499851226807, -4.79640007019043, -4.8225998878479, -4.891499996185303, -4.919400215148926, -5.055799961090088, -5.077499866485596, -5.085299968719482, -5.134300231933594, -5.13700008392334, -5.162399768829346, -5.274899959564209, -5.297699928283691, -5.377999782562256, -5.421500205993652, -5.442299842834473, -5.47599983215332, -3.3508999347686768, -4.20959997177124, -4.219600200653076, -4.669400215148926, -4.782299995422363, -4.907299995422363, -4.818399906158447, -4.9319000244140625, -5.061999797821045, -3.4096999168395996, -3.9302000999450684, -4.149799823760986, -4.151599884033203, -4.16949987411499, -4.35699987411499, -4.568399906158447, -4.699900150299072, -4.725100040435791, -4.770699977874756, -4.839600086212158, -4.8618998527526855, -4.881100177764893, -4.883500099182129, -4.896500110626221, -4.922299861907959, -5.025300025939941, -5.087699890136719, -5.098999977111816, -5.113500118255615, -5.134900093078613, -5.193299770355225, -5.209099769592285, -5.249899864196777, -5.283100128173828, -5.304299831390381, -5.325399875640869, -5.335999965667725, -5.3470001220703125, -5.424200057983398, -2.9100000858306885, -3.9820001125335693, -3.9904000759124756, -3.871299982070923, -5.065899848937988, -4.561699867248535, -4.899700164794922, -4.23829984664917, -4.958700180053711, -4.917500019073486, -4.704500198364258, -5.045000076293945, -2.9684998989105225, -3.657900094985962, -3.884500026702881, -3.900099992752075, -4.005199909210205, -4.347700119018555, -4.514599800109863, -4.5167999267578125, -4.57480001449585, -4.606900215148926, -4.777699947357178, -4.788300037384033, -4.804100036621094, -4.8531999588012695, -4.890999794006348, -5.015200138092041, -5.03410005569458, -5.132400035858154, -5.1346001625061035, -5.1855998039245605, -5.192200183868408, -5.219900131225586, -5.236400127410889, -5.244999885559082, -5.289100170135498, -5.300600051879883, -5.303400039672852, -5.3942999839782715, -5.395100116729736, -5.436299800872803, -4.149199962615967, -4.992800235748291, -4.224699974060059, -4.2617998123168945, -4.4832000732421875, -4.627099990844727, -4.1230998039245605, -4.956600189208984, -4.900300025939941, -4.727399826049805, -4.7322998046875, -4.7571001052856445, -5.0406999588012695, -5.040599822998047, -2.918100118637085, -3.3018999099731445, -3.439300060272217, -3.8134000301361084, -3.992500066757202, -4.071000099182129, -4.135200023651123, -4.39769983291626, -4.411099910736084, -4.504899978637695, -4.563300132751465, -4.64139986038208, -4.650000095367432, -4.71589994430542, -4.722499847412109, -4.80810022354126, -4.856200218200684, -4.91949987411499, -4.939499855041504, -4.969299793243408, -5.026100158691406, -5.034900188446045, -5.074900150299072, -5.0920000076293945, -5.139200210571289, -5.158999919891357, -5.159999847412109, -5.231599807739258, -5.236400127410889, -5.248899936676025, -4.979000091552734, -3.6187000274658203, -4.250199794769287, -3.6951000690460205, -4.985300064086914, -4.544000148773193, -4.899799823760986, -5.0559000968933105, -5.050899982452393, -3.703399896621704, -3.7906999588012695, -3.967900037765503, -4.296800136566162, -4.367599964141846, -4.493800163269043, -4.529200077056885, -4.618800163269043, -4.733099937438965, -4.820799827575684, -4.848599910736084, -4.857399940490723, -4.860799789428711, -4.8694000244140625, -4.8892998695373535, -4.90500020980835, -4.906700134277344, -4.978799819946289, -5.0553998947143555, -5.081500053405762, -5.125100135803223, -5.136000156402588, -5.147500038146973, -5.150000095367432, -5.166900157928467, -5.16949987411499, -5.179299831390381, -5.185800075531006, -5.289000034332275, -5.308800220489502, -4.831600189208984, -4.363999843597412, -4.801300048828125, -4.811699867248535, -4.749199867248535, -4.518599987030029, -4.608500003814697, -4.6132001876831055, -4.095799922943115, -4.9552998542785645, -4.918499946594238, -4.940000057220459, -3.80049991607666, -3.9291999340057373, -4.171000003814697, -4.200399875640869, -4.370699882507324, -4.4899001121521, -4.631100177764893, -4.66379976272583, -4.698299884796143, -4.85290002822876, -4.9380998611450195, -5.036399841308594, -5.039999961853027, -5.0644001960754395, -5.0756001472473145, -5.11299991607666, -5.157800197601318, -5.163000106811523, -5.166500091552734, -5.17110013961792, -5.202000141143799, -5.219799995422363, -5.30620002746582, -5.315899848937988, -5.321000099182129, -5.3566999435424805, -5.369800090789795, -5.383800029754639, -5.387199878692627, -5.4070000648498535, -3.52620005607605, -4.720099925994873, -4.511099815368652, -4.105599880218506, -4.640699863433838, -3.6610000133514404, -4.776700019836426, -4.938399791717529, -4.124300003051758, -4.860899925231934, -4.875199794769287, -4.601799964904785, -5.0655999183654785, -5.115699768066406, -5.0960001945495605, -2.9702999591827393, -2.9974000453948975, -3.7971999645233154, -3.9655001163482666, -4.067999839782715, -4.4085001945495605, -4.4944000244140625, -4.4842000007629395, -4.564799785614014, -4.716700077056885, -4.832499980926514, -4.901700019836426, -4.952899932861328, -4.960999965667725, -4.966000080108643, -5.040800094604492, -5.082399845123291, -5.1097002029418945, -5.130000114440918, -5.145100116729736, -5.166500091552734, -5.225500106811523, -5.233399868011475, -5.234499931335449, -5.24429988861084, -5.272600173950195, -4.746300220489502, -5.360499858856201, -5.3765997886657715, -5.396200180053711, -3.4047999382019043, -4.357500076293945, -4.865900039672852, -4.468100070953369, -5.05079984664917, -4.64870023727417, -4.4944000244140625, -4.665900230407715, -4.990200042724609, -4.611499786376953, -5.0157999992370605, -4.9506001472473145, -5.035999774932861, -5.026700019836426, -3.390500068664551, -2.5416998863220215, -4.513800144195557, -4.647500038146973, -4.787899971008301, -4.840400218963623, -4.8846001625061035, -4.920199871063232, -4.954899787902832, -4.9583001136779785, -4.979000091552734, -5.003300189971924, -5.0096001625061035, -5.02869987487793, -5.060699939727783, -5.083099842071533, -5.085700035095215, -5.096099853515625, -5.238999843597412, -5.269000053405762, -5.2778000831604, -5.285600185394287, -5.350200176239014, -5.357100009918213, -5.389800071716309, -5.394899845123291, -5.426400184631348, -5.426400184631348, -5.4380998611450195, -5.442800045013428, -3.908400058746338, -4.956200122833252, -4.805300235748291, -5.196599960327148, -4.840700149536133, -4.81850004196167, -5.087600231170654, -5.076700210571289, -4.524099826812744, -5.12060022354126, -5.152699947357178, -5.230800151824951, -5.217299938201904, -2.7909998893737793, -3.3726000785827637, -3.6389999389648438, -4.422699928283691, -4.466599941253662, -4.596099853515625, -4.678800106048584, -4.718400001525879, -4.805799961090088, -4.878499984741211, -4.900199890136719, -4.912700176239014, -4.917200088500977, -4.9440999031066895, -4.958899974822998, -5.009099960327148, -5.04580020904541, -5.107900142669678, -5.150899887084961, -5.160900115966797, -5.167399883270264, -5.238900184631348, -5.245999813079834, -5.3190999031066895, -5.328700065612793, -5.346199989318848, -5.368199825286865, -5.3703999519348145, -5.399899959564209, -5.403200149536133, -4.27370023727417, -4.1855998039245605, -4.228799819946289, -4.842199802398682, -4.387199878692627, -5.158400058746338, -4.473899841308594, -4.76669979095459, -4.893799781799316, -5.1528000831604, -4.066699981689453, -4.394899845123291, -4.4095001220703125, -4.478300094604492, -4.490300178527832, -4.534900188446045, -4.630000114440918, -4.768099784851074, -4.859399795532227, -4.869800090789795, -4.929999828338623, -4.997099876403809, -5.031899929046631, -5.0854997634887695, -5.099100112915039, -5.114699840545654, -5.131499767303467, -5.157199859619141, -5.23859977722168, -5.238699913024902, -5.297299861907959, -5.325799942016602, -5.402599811553955, -5.405900001525879, -5.436399936676025, -5.473700046539307, -5.5096001625061035, -5.509900093078613, -5.553400039672852, -5.564799785614014, -3.738800048828125, -4.53249979019165, -3.812000036239624, -4.140200138092041, -4.606100082397461, -4.616600036621094, -4.620999813079834, -5.114299774169922, -4.76170015335083, -4.349400043487549, -4.810699939727783, -4.794300079345703, -4.838200092315674, -5.006899833679199, -5.09689998626709, -4.88700008392334, -5.055099964141846, -3.8480000495910645, -3.979599952697754, -4.0609002113342285, -4.097300052642822, -4.157199859619141, -4.2382001876831055, -4.29010009765625, -4.394000053405762, -4.507299900054932, -4.529200077056885, -4.56689977645874, -4.568900108337402, -4.682700157165527, -4.70989990234375, -4.721399784088135, -4.730800151824951, -4.775700092315674, -4.806700229644775, -4.813600063323975, -4.8979997634887695, -4.942500114440918, -4.957699775695801, -5.09660005569458, -5.188399791717529, -5.197700023651123, -5.201499938964844, -5.217100143432617, -5.229300022125244, -5.241399765014648, -5.2418999671936035, -3.5659000873565674, -4.329100131988525, -4.136000156402588, -4.304100036621094, -3.7578001022338867, -4.991199970245361, -4.8470001220703125, -4.890999794006348, -4.781400203704834, -4.91949987411499, -4.940999984741211]}, \"token.table\": {\"Topic\": [10, 9, 13, 7, 1, 9, 11, 8, 10, 13, 9, 6, 13, 13, 7, 1, 11, 3, 6, 12, 3, 5, 7, 8, 11, 12, 4, 10, 5, 8, 10, 12, 2, 3, 4, 6, 7, 8, 9, 11, 12, 13, 12, 3, 10, 12, 9, 5, 3, 13, 1, 1, 11, 2, 7, 2, 3, 9, 3, 2, 7, 9, 10, 12, 11, 6, 12, 11, 6, 1, 2, 4, 8, 10, 12, 13, 11, 4, 4, 8, 13, 3, 7, 8, 11, 12, 12, 1, 3, 6, 9, 8, 12, 13, 7, 1, 7, 8, 1, 2, 5, 7, 8, 9, 11, 13, 7, 1, 2, 3, 5, 6, 7, 10, 11, 2, 8, 7, 8, 13, 13, 9, 10, 4, 2, 1, 7, 9, 13, 5, 2, 6, 13, 9, 2, 10, 10, 9, 9, 5, 8, 9, 10, 8, 5, 6, 3, 1, 2, 3, 5, 6, 7, 9, 10, 1, 2, 10, 2, 1, 4, 11, 13, 11, 3, 4, 10, 12, 6, 12, 2, 5, 7, 11, 11, 10, 1, 2, 4, 5, 10, 11, 2, 4, 5, 6, 8, 11, 12, 13, 5, 7, 11, 12, 1, 6, 4, 1, 5, 11, 13, 9, 12, 2, 2, 6, 10, 1, 9, 4, 12, 8, 2, 7, 8, 12, 8, 6, 8, 12, 3, 4, 13, 6, 10, 4, 6, 2, 7, 7, 13, 3, 8, 3, 7, 10, 10, 5, 2, 8, 2, 8, 1, 5, 1, 13, 1, 5, 2, 7, 6, 8, 9, 8, 4, 5, 10, 11, 5, 11, 10, 4, 7, 10, 11, 9, 2, 10, 13, 7, 5, 1, 7, 8, 3, 9, 11, 13, 4, 12, 10, 4, 1, 5, 6, 13, 1, 5, 11, 3, 2, 4, 5, 10, 12, 11, 1, 1, 3, 6, 9, 2, 3, 6, 7, 11, 1, 2, 13, 1, 4, 12, 7, 5, 5, 6, 1, 5, 12, 1, 4, 10, 12, 1, 6, 12, 6, 11, 5, 11, 2, 13, 9, 10, 2, 7, 11, 1, 2, 3, 5, 6, 7, 8, 10, 11, 12, 13, 10, 12, 2, 10, 2, 1, 3, 5, 11, 12, 3, 7, 11, 5, 3, 7, 13, 12, 10, 12, 4, 9, 6, 13, 11, 13, 5, 8, 12, 13, 12, 13, 4, 9, 12, 12, 7, 3, 9, 10, 7, 1, 2, 3, 7, 11, 7, 5, 13, 3, 13, 8, 5, 5, 11, 10, 3, 3, 12, 5, 1, 12, 2, 4, 10, 12, 12, 7, 6, 3, 1, 7, 13, 7, 9, 1, 3, 1, 3, 9, 12, 2, 2, 1, 4, 1, 2, 2, 5, 6, 2, 3, 4, 6, 10, 12, 12, 2, 4, 3, 9, 12, 9, 10, 8, 11, 1, 8, 10, 8, 8, 12, 1, 4, 8, 13, 8, 4, 12, 1, 7, 13, 8, 1, 1, 12, 2, 1, 3, 6, 4, 2, 2, 3, 1, 4, 11, 13, 8, 9, 11, 13, 7, 1, 9, 1, 5, 10, 2, 5, 4, 2, 1, 5, 8, 3, 7, 11, 4, 2, 2, 11, 5, 2, 3, 6, 13, 11, 13, 1, 3, 1, 1, 2, 3, 5, 6, 7, 9, 10, 11, 13, 13, 13, 7, 8, 1, 7, 9, 12, 13, 3, 3, 3, 10, 5, 1, 10, 10, 3, 1, 3, 4, 8, 9, 4, 10, 11, 11, 7, 7, 10, 6, 10, 12, 1, 2, 8, 10, 1, 11, 1, 4, 12, 2, 1, 5, 6, 13, 1, 2, 9, 2, 9, 11, 6, 11, 2, 9, 8, 8, 13, 1, 8, 1, 6, 7, 6, 3, 5, 7, 6, 8, 9, 12, 4, 2, 4, 6, 13, 4, 7, 11, 13, 8, 6, 6, 8, 12, 6, 13, 1, 7, 12, 2, 3, 4, 6, 7, 9, 11, 13, 6, 10, 10, 2, 5, 8, 10, 4, 11, 9, 7, 7, 6, 6, 6, 6, 1, 11, 3, 13, 9, 2, 4, 10, 7, 4, 10, 7, 1, 3, 6, 7, 11, 8, 13, 1, 9, 11, 7, 9, 3, 9, 7, 6, 4, 5, 12, 2, 11, 3, 6, 10, 3, 2, 13, 7, 9, 4, 10, 1, 3, 10, 13, 5, 11, 8, 7, 8, 3, 6, 1, 8, 4, 5, 1, 3, 2, 6, 3, 6, 8, 12, 7, 8, 12, 1, 3, 11, 5, 13, 13, 6, 6, 2, 8, 10, 11, 7, 8, 10, 3, 6, 3, 11, 8, 12, 3, 5, 3, 2, 8, 4, 8, 1, 3, 6, 7, 9, 11, 12, 10, 4, 5, 6, 8, 9, 10, 1, 9, 2, 11, 9, 8, 1, 6, 4, 1, 2, 3, 6, 8, 9, 6, 12, 9, 13, 6, 5, 9, 5, 9, 12, 12, 1, 5, 10, 5, 2, 6, 7, 10, 5, 13, 8, 3, 4, 4, 6, 7, 12, 13, 7, 9, 8, 2, 4, 10, 4, 4, 10, 2, 1, 4, 9, 10, 11, 12, 9, 1, 2, 9, 11], \"Freq\": [0.9923314452171326, 0.9986054301261902, 0.9960657358169556, 0.9969260096549988, 0.2455078810453415, 0.6399991512298584, 0.11331132799386978, 0.6886435747146606, 0.17363235354423523, 0.13537436723709106, 0.9984409213066101, 0.9988800287246704, 0.9983968138694763, 0.9956997632980347, 0.9957060813903809, 0.9936060905456543, 0.990557849407196, 0.9970685839653015, 0.9940165281295776, 0.004141735844314098, 0.10092376172542572, 0.008700324222445488, 0.1879270076751709, 0.11484427750110626, 0.15486577153205872, 0.43153607845306396, 0.9970377087593079, 0.9965878129005432, 0.19526566565036774, 0.1868671476840973, 0.3947305977344513, 0.22046123445034027, 0.10865281522274017, 0.31292009353637695, 0.00977875292301178, 0.09126836061477661, 0.13255643844604492, 0.10865281522274017, 0.08800877630710602, 0.007605697028338909, 0.11082586646080017, 0.02933625876903534, 0.9952684044837952, 0.2610726058483124, 0.18161572515964508, 0.5539279580116272, 0.9917523860931396, 0.9931632876396179, 0.9969232678413391, 0.9959700703620911, 0.9909467697143555, 0.9992939829826355, 0.9960448741912842, 0.9925811290740967, 0.9944195747375488, 0.9889211058616638, 0.12016264349222183, 0.8754706382751465, 0.9993835687637329, 0.14014925062656403, 0.447749525308609, 0.18019188940525055, 0.10920720547437668, 0.12012792378664017, 0.9945865869522095, 0.9928705096244812, 0.9892193078994751, 0.9955646395683289, 0.9947962760925293, 0.9961733222007751, 0.12529578804969788, 0.5246760845184326, 0.06917371600866318, 0.1592300534248352, 0.05742723122239113, 0.06134272739291191, 0.9931550025939941, 0.9974376559257507, 0.9988813996315002, 0.3001748025417328, 0.6943802833557129, 0.9957925081253052, 0.7559314966201782, 0.240759015083313, 0.9934394955635071, 0.9944559931755066, 0.992620050907135, 0.9932889938354492, 0.9942312836647034, 0.9972205758094788, 0.9953767657279968, 0.6217673420906067, 0.21429845690727234, 0.16298756003379822, 0.998125433921814, 0.9940611720085144, 0.25459882616996765, 0.7444248199462891, 0.3087712526321411, 0.0915846973657608, 0.047100700438022614, 0.1700858622789383, 0.0950736403465271, 0.18229715526103973, 0.10554046183824539, 0.9966759085655212, 0.9945565462112427, 0.1633179932832718, 0.16773198544979095, 0.07945199310779572, 0.2549084722995758, 0.10041849315166473, 0.09159049391746521, 0.02538049779832363, 0.11807449162006378, 0.9910986423492432, 0.9988356828689575, 0.645850658416748, 0.35196223855018616, 0.9930824041366577, 0.9965488314628601, 0.9970694184303284, 0.9904745817184448, 0.9963445067405701, 0.9983760714530945, 0.6281577944755554, 0.10517320781946182, 0.19449838995933533, 0.07059571146965027, 0.996691107749939, 0.19292119145393372, 0.1891009658575058, 0.6150556802749634, 0.9995037317276001, 0.001206170883961022, 0.998709499835968, 0.9990883469581604, 0.9953567981719971, 0.99620521068573, 0.5393580198287964, 0.12608368694782257, 0.12141392379999161, 0.21247436106204987, 0.9948521852493286, 0.8855063319206238, 0.10977350920438766, 0.997528076171875, 0.1502741128206253, 0.1331697404384613, 0.14416541159152985, 0.024434814229607582, 0.04520440846681595, 0.09407403320074081, 0.2529003322124481, 0.15638281404972076, 0.9928135871887207, 0.9944034814834595, 0.9931564927101135, 0.9943791031837463, 0.9947032332420349, 0.521489143371582, 0.3051266372203827, 0.17198047041893005, 0.9975641369819641, 0.9964430928230286, 0.9949643015861511, 0.6478338241577148, 0.34858062863349915, 0.2662506401538849, 0.7303572297096252, 0.22559767961502075, 0.12633469700813293, 0.5346664786338806, 0.11054286360740662, 0.9959304928779602, 0.9933669567108154, 0.11801715940237045, 0.40088367462158203, 0.20887163281440735, 0.15922950208187103, 0.11333394050598145, 0.9966768026351929, 0.15700311958789825, 0.16259373724460602, 0.2692813277244568, 0.0712803527712822, 0.15234427154064178, 0.04425904154777527, 0.10528992861509323, 0.037270769476890564, 0.9921499490737915, 0.20687709748744965, 0.22404532134532928, 0.5682682394981384, 0.9949250817298889, 0.996467113494873, 0.994816243648529, 0.9984331727027893, 0.9984186291694641, 0.9950286149978638, 0.9956082701683044, 0.9899557828903198, 0.9900164008140564, 0.9919905066490173, 0.9922029972076416, 0.9960442781448364, 0.9967664480209351, 0.2388843297958374, 0.7605444192886353, 0.9954304099082947, 0.9955610036849976, 0.9921042323112488, 0.13996656239032745, 0.18865057826042175, 0.5132107138633728, 0.1561945676803589, 0.9970099925994873, 0.7615994811058044, 0.13036388158798218, 0.1029188483953476, 0.25336694717407227, 0.24185027182102203, 0.5038547515869141, 0.9918151497840881, 0.9943675994873047, 0.9959457516670227, 0.996410071849823, 0.10884525626897812, 0.8872537612915039, 0.8286871314048767, 0.16753241419792175, 0.9935101270675659, 0.9962647557258606, 0.9966229796409607, 0.2170158475637436, 0.7776401042938232, 0.9970242381095886, 0.9978572726249695, 0.8363955020904541, 0.15970011055469513, 0.9979262948036194, 0.9929695725440979, 0.3428560793399811, 0.6564637422561646, 0.8995227217674255, 0.09594909101724625, 0.997706413269043, 0.9924483895301819, 0.9952437877655029, 0.9932268857955933, 0.9924362301826477, 0.990615963935852, 0.9933460354804993, 0.9957526922225952, 0.1751551777124405, 0.4851520359516144, 0.11677011847496033, 0.2210291475057602, 0.41351744532585144, 0.5849440097808838, 0.9933076500892639, 0.6368952989578247, 0.15276086330413818, 0.20916487276554108, 0.993495523929596, 0.9960406422615051, 0.170991450548172, 0.8252196311950684, 0.9932220578193665, 0.9925006628036499, 0.9952619075775146, 0.9912928342819214, 0.1257331371307373, 0.8711509704589844, 0.2228109985589981, 0.5585965514183044, 0.11140549927949905, 0.10669822245836258, 0.1737038493156433, 0.8228077292442322, 0.9935957193374634, 0.9962828755378723, 0.20258298516273499, 0.5921656489372253, 0.20258298516273499, 0.9954482316970825, 0.9951801896095276, 0.996272623538971, 0.9915605187416077, 0.9956041574478149, 0.1241966038942337, 0.5232424736022949, 0.14844802021980286, 0.13375018537044525, 0.06981465965509415, 0.9941557049751282, 0.9936644434928894, 0.24336567521095276, 0.04802415892481804, 0.5620124340057373, 0.14601939916610718, 0.5597200989723206, 0.09995002299547195, 0.21080367267131805, 0.1272091120481491, 0.9937524199485779, 0.3124935030937195, 0.16028761863708496, 0.5266593098640442, 0.09528082609176636, 0.1895586997270584, 0.7141047716140747, 0.9947195053100586, 0.9979577660560608, 0.9961658120155334, 0.9958134889602661, 0.301840603351593, 0.6978333592414856, 0.9932718276977539, 0.990069568157196, 0.9961132407188416, 0.25802549719810486, 0.7377917170524597, 0.3207213580608368, 0.6747251152992249, 0.9941307902336121, 0.9981624484062195, 0.9982517957687378, 0.6940454840660095, 0.30522075295448303, 0.18069761991500854, 0.8106974363327026, 0.9958537817001343, 0.9927754402160645, 0.9981443881988525, 0.8324891328811646, 0.16406720876693726, 0.12202496081590652, 0.07879982143640518, 0.01109317783266306, 0.11743468046188354, 0.0371047668159008, 0.21459561586380005, 0.2019723504781723, 0.057378508150577545, 0.06541150063276291, 0.06082122027873993, 0.03404458239674568, 0.9964271783828735, 0.9964780211448669, 0.10698238760232925, 0.8915199041366577, 0.9926988482475281, 0.18482404947280884, 0.2201407551765442, 0.14597567915916443, 0.4496992826461792, 0.9938786625862122, 0.9939011335372925, 0.2464004009962082, 0.7476977705955505, 0.994620680809021, 0.9979366064071655, 0.9965828061103821, 0.9935979247093201, 0.9881213307380676, 0.9977104663848877, 0.9941607713699341, 0.9971369504928589, 0.9912017583847046, 0.9935575127601624, 0.9981024861335754, 0.9985435605049133, 0.998192310333252, 0.9920652508735657, 0.16769178211688995, 0.7299524545669556, 0.09864222258329391, 0.9923303127288818, 0.9949015378952026, 0.6741431951522827, 0.14626751840114594, 0.1790839433670044, 0.9976894855499268, 0.9943844676017761, 0.990659236907959, 0.9910978078842163, 0.9942701458930969, 0.9979778528213501, 0.11269067972898483, 0.04684893414378166, 0.06964030861854553, 0.1785324215888977, 0.5913094878196716, 0.9982831478118896, 0.994671642780304, 0.9906238913536072, 0.9981705546379089, 0.9971663355827332, 0.9950612187385559, 0.994935154914856, 0.9968235492706299, 0.9917718172073364, 0.9951583743095398, 0.999773383140564, 0.9993117451667786, 0.9957205057144165, 0.9968783259391785, 0.35421279072761536, 0.6431097388267517, 0.23677285015583038, 0.1543666124343872, 0.16016986966133118, 0.4491720199584961, 0.9968337416648865, 0.9958181977272034, 0.994268536567688, 0.998117208480835, 0.7931278944015503, 0.20377594232559204, 0.9945835471153259, 0.9928486347198486, 0.9911485910415649, 0.1914610117673874, 0.8079298734664917, 0.21965034306049347, 0.3887336850166321, 0.24809426069259644, 0.1422196477651596, 0.9993864893913269, 0.9979623556137085, 0.9909355044364929, 0.9987021088600159, 0.804116427898407, 0.19465255737304688, 0.20193363726139069, 0.6582512259483337, 0.13637076318264008, 0.9972600936889648, 0.7418785691261292, 0.25610053539276123, 0.3052622377872467, 0.692164421081543, 0.9957162141799927, 0.9937382340431213, 0.17565345764160156, 0.8208420872688293, 0.17731934785842896, 0.8196837902069092, 0.9958357810974121, 0.9931771755218506, 0.9940800070762634, 0.9935763478279114, 0.9952764511108398, 0.166646808385849, 0.8309195041656494, 0.9938662052154541, 0.9953892827033997, 0.9948940873146057, 0.9941220879554749, 0.9949963092803955, 0.26325052976608276, 0.13662369549274445, 0.596479058265686, 0.9936066269874573, 0.9912822842597961, 0.9910147190093994, 0.2824331820011139, 0.5787281394004822, 0.13688479363918304, 0.9950084090232849, 0.9977558851242065, 0.37109825015068054, 0.6277087330818176, 0.9935882687568665, 0.994111955165863, 0.25845539569854736, 0.7404826283454895, 0.9987522959709167, 0.9990406632423401, 0.6836588978767395, 0.3153993487358093, 0.053959909826517105, 0.3860208988189697, 0.1328243911266327, 0.4254531264305115, 0.9965473413467407, 0.9949570298194885, 0.9941275119781494, 0.9933733940124512, 0.9971605539321899, 0.6983873248100281, 0.2993088662624359, 0.9926325082778931, 0.9986550211906433, 0.9904793500900269, 0.2292998880147934, 0.7697924971580505, 0.9959739446640015, 0.9957217574119568, 0.1534404456615448, 0.25573405623435974, 0.5896926522254944, 0.1983969658613205, 0.25638991594314575, 0.5402501821517944, 0.9962213635444641, 0.9942151308059692, 0.9990904331207275, 0.9927698969841003, 0.9938749670982361, 0.9992451667785645, 0.25461748242378235, 0.2164248526096344, 0.5267398953437805, 0.9931352734565735, 0.9963204264640808, 0.9085847735404968, 0.0895787850022316, 0.9981209635734558, 0.28706982731819153, 0.11705759912729263, 0.15050262212753296, 0.03158697113394737, 0.08268354088068008, 0.065031997859478, 0.04738045483827591, 0.0975480005145073, 0.061315882951021194, 0.05945782735943794, 0.9877768754959106, 0.9944051504135132, 0.9961264133453369, 0.9929925799369812, 0.19651828706264496, 0.23328623175621033, 0.11157167702913284, 0.3004828095436096, 0.1559467762708664, 0.998482346534729, 0.9954692721366882, 0.998755156993866, 0.9935446977615356, 0.997248113155365, 0.7791401743888855, 0.22043290734291077, 0.9964911341667175, 0.997696578502655, 0.1850464642047882, 0.13768860697746277, 0.24380528926849365, 0.36790043115615845, 0.0648978129029274, 0.997367262840271, 0.9909177422523499, 0.9958545565605164, 0.9962071180343628, 0.9953200817108154, 0.164565309882164, 0.8333587646484375, 0.9959948658943176, 0.17598052322864532, 0.8212424516677856, 0.9995635747909546, 0.21088293194770813, 0.6040917038917542, 0.1845225691795349, 0.8372582793235779, 0.16023001074790955, 0.9972577095031738, 0.9978851079940796, 0.9889179468154907, 0.9989196062088013, 0.22026611864566803, 0.1954474002122879, 0.22957314550876617, 0.35428720712661743, 0.9914311170578003, 0.9959848523139954, 0.9922807216644287, 0.9977898597717285, 0.2888268232345581, 0.7087876200675964, 0.9960202574729919, 0.9965171217918396, 0.9939601421356201, 0.9943758249282837, 0.9963862299919128, 0.9896339178085327, 0.9948012828826904, 0.30354607105255127, 0.6954755187034607, 0.8467975854873657, 0.15187908709049225, 0.991927444934845, 0.9970102906227112, 0.9936980605125427, 0.9951956868171692, 0.9949465990066528, 0.993637204170227, 0.995392382144928, 0.995312511920929, 0.9969893097877502, 0.9911022782325745, 0.9931883811950684, 0.9947760105133057, 0.9977692365646362, 0.9931532740592957, 0.6622645258903503, 0.17768073081970215, 0.15691284835338593, 0.9941651821136475, 0.9907933473587036, 0.9933334589004517, 0.23423759639263153, 0.15821310877799988, 0.6061411499977112, 0.37480613589286804, 0.6213002800941467, 0.23765377700328827, 0.7608467936515808, 0.9932023286819458, 0.08543922007083893, 0.20876887440681458, 0.18425153195858002, 0.14413224160671234, 0.1560194492340088, 0.14858995378017426, 0.05274943262338638, 0.02005964331328869, 0.9938139319419861, 0.9950873255729675, 0.9940517544746399, 0.19495789706707, 0.18856583535671234, 0.07350871711969376, 0.5401292443275452, 0.9933515787124634, 0.9996326565742493, 0.9967755675315857, 0.996609628200531, 0.9978354573249817, 0.9929951429367065, 0.9993785619735718, 0.9992519617080688, 0.9954210519790649, 0.9915526509284973, 0.9947794675827026, 0.9982726573944092, 0.9957147836685181, 0.9974409341812134, 0.5972413420677185, 0.24227716028690338, 0.15494468808174133, 0.993185818195343, 0.3217989504337311, 0.6733440160751343, 0.9977107048034668, 0.24287137389183044, 0.08189848810434341, 0.36713114380836487, 0.16662105917930603, 0.14120428264141083, 0.9921622276306152, 0.995501697063446, 0.991809606552124, 0.700189471244812, 0.2973407208919525, 0.9932854175567627, 0.9959217309951782, 0.9958190321922302, 0.9923406839370728, 0.996191680431366, 0.9938651919364929, 0.9974222183227539, 0.9912915825843811, 0.9920113682746887, 0.9952338337898254, 0.990708589553833, 0.7320271730422974, 0.266191691160202, 0.9939647316932678, 0.9956763386726379, 0.4431647062301636, 0.5565698146820068, 0.9950918555259705, 0.997247040271759, 0.9914522171020508, 0.9960945844650269, 0.9960402846336365, 0.2287311553955078, 0.6204940676689148, 0.1484319120645523, 0.9991596341133118, 0.9967317581176758, 0.9982027411460876, 0.9965354800224304, 0.9973315596580505, 0.8057180047035217, 0.1937626451253891, 0.6457263827323914, 0.35366639494895935, 0.9956396222114563, 0.9952563643455505, 0.6894532442092896, 0.3067149221897125, 0.2757241725921631, 0.7211247682571411, 0.20043057203292847, 0.08782912790775299, 0.7093890905380249, 0.9926679134368896, 0.9954642653465271, 0.9902648329734802, 0.992686927318573, 0.6911942958831787, 0.30745431780815125, 0.9950617551803589, 0.9942333698272705, 0.9956220388412476, 0.9929102659225464, 0.9987395405769348, 0.996435821056366, 0.42384228110313416, 0.18568328022956848, 0.1554088443517685, 0.2341224104166031, 0.5983710885047913, 0.222608283162117, 0.17630575597286224, 0.997939944267273, 0.9966685771942139, 0.9956207275390625, 0.9907232522964478, 0.9935414791107178, 0.9928783178329468, 0.9955224394798279, 0.9967808127403259, 0.9980212450027466, 0.9952653646469116, 0.9982441663742065, 0.9979692697525024, 0.998882532119751, 0.14721131324768066, 0.29442262649536133, 0.004698233213275671, 0.07517173141241074, 0.3304423987865448, 0.1111915186047554, 0.03445370867848396, 0.9948717951774597, 0.9980353713035583, 0.13926419615745544, 0.08704012632369995, 0.4334598183631897, 0.11837457120418549, 0.2210819274187088, 0.460605263710022, 0.5376715064048767, 0.27057918906211853, 0.727557361125946, 0.9954586625099182, 0.9943745732307434, 0.9976603388786316, 0.9982923269271851, 0.9963824152946472, 0.42244401574134827, 0.08885353803634644, 0.08417703211307526, 0.13561855256557465, 0.096647709608078, 0.1714717447757721, 0.462424635887146, 0.5345949530601501, 0.7701549530029297, 0.22714248299598694, 0.9953990578651428, 0.9984887838363647, 0.9950552582740784, 0.9965463280677795, 0.7911839485168457, 0.20749187469482422, 0.9881672859191895, 0.9992424249649048, 0.9918508529663086, 0.9940524101257324, 0.9927288889884949, 0.5244706869125366, 0.25613683462142944, 0.10280322283506393, 0.11500021070241928, 0.9975135922431946, 0.989348828792572, 0.9929686188697815, 0.996016800403595, 0.9989119172096252, 0.2500499486923218, 0.7486435174942017, 0.9953883290290833, 0.993195652961731, 0.9963421821594238, 0.9986688494682312, 0.9991869926452637, 0.9933056235313416, 0.19245922565460205, 0.6941098570823669, 0.11309459805488586, 0.99454665184021, 0.994122326374054, 0.9902917742729187, 0.9958478808403015, 0.015476814471185207, 0.4438529312610626, 0.17466691136360168, 0.09451911598443985, 0.19346018135547638, 0.0779368132352829, 0.9980055093765259, 0.9892443418502808, 0.9933120012283325, 0.9910798072814941, 0.0035908687859773636], \"Term\": [\"abandon\", \"abuse\", \"accept\", \"access\", \"accused\", \"accused\", \"accused\", \"across\", \"across\", \"across\", \"afghan\", \"afghanistan\", \"africa\", \"african\", \"agency\", \"agent\", \"agreement\", \"ahmadinejad\", \"airport\", \"airport\", \"allow\", \"allow\", \"allow\", \"allow\", \"allow\", \"allow\", \"almost\", \"already\", \"america\", \"america\", \"america\", \"america\", \"american\", \"american\", \"american\", \"american\", \"american\", \"american\", \"american\", \"american\", \"american\", \"american\", \"anger\", \"another\", \"another\", \"another\", \"anyone\", \"appeal\", \"arabia\", \"argentina\", \"arm\", \"arrest\", \"article\", \"ask\", \"assange\", \"assassination\", \"assault\", \"assault\", \"attack\", \"australian\", \"australian\", \"australian\", \"australian\", \"australian\", \"avoid\", \"back\", \"banking\", \"banks\", \"battle\", \"beat\", \"become\", \"become\", \"become\", \"become\", \"become\", \"become\", \"berlusconi\", \"big\", \"billion\", \"black\", \"black\", \"blast\", \"block\", \"block\", \"blogger\", \"blood\", \"body\", \"bomber\", \"bombing\", \"border\", \"boycott\", \"brazil\", \"brazil\", \"brazil\", \"break\", \"breaking\", \"britain\", \"britain\", \"british\", \"british\", \"british\", \"british\", \"british\", \"british\", \"british\", \"build\", \"cable\", \"call\", \"call\", \"call\", \"call\", \"call\", \"call\", \"call\", \"call\", \"camera\", \"canada\", \"canadian\", \"canadian\", \"capture\", \"catch\", \"catholic\", \"censorship\", \"century\", \"change\", \"charge\", \"charge\", \"charge\", \"charge\", \"chavez\", \"chief\", \"chief\", \"chief\", \"child\", \"china\", \"china\", \"chinese\", \"christian\", \"church\", \"citizen\", \"citizen\", \"citizen\", \"citizen\", \"city\", \"civil\", \"civil\", \"civilian\", \"claim\", \"claim\", \"claim\", \"claim\", \"claim\", \"claim\", \"claim\", \"claim\", \"clash\", \"climate\", \"coast\", \"coming\", \"commit\", \"company\", \"company\", \"company\", \"confirm\", \"conflict\", \"congo\", \"consider\", \"consider\", \"continue\", \"continue\", \"control\", \"control\", \"control\", \"control\", \"convict\", \"copyright\", \"could\", \"could\", \"could\", \"could\", \"could\", \"council\", \"country\", \"country\", \"country\", \"country\", \"country\", \"country\", \"country\", \"country\", \"couple\", \"court\", \"court\", \"court\", \"crackdown\", \"crash\", \"create\", \"crime\", \"crisis\", \"criticism\", \"cross\", \"crowd\", \"culture\", \"currency\", \"dangerous\", \"daughter\", \"david\", \"death\", \"death\", \"decade\", \"declare\", \"defend\", \"demand\", \"demand\", \"demand\", \"demand\", \"democracy\", \"deny\", \"deny\", \"deny\", \"destroy\", \"destroy\", \"destroy\", \"detain\", \"disaster\", \"discover\", \"doctor\", \"document\", \"document\", \"dollar\", \"dollar\", \"drone\", \"drug\", \"dubai\", \"dutch\", \"dutch\", \"earth\", \"earthquake\", \"economic\", \"economic\", \"economy\", \"education\", \"egypt\", \"egypt\", \"egyptian\", \"egyptian\", \"election\", \"emergency\", \"energy\", \"english\", \"enter\", \"entire\", \"escape\", \"ethnic\", \"europe\", \"europe\", \"europe\", \"europe\", \"european\", \"european\", \"event\", \"every\", \"every\", \"every\", \"everyone\", \"execute\", \"expert\", \"expert\", \"expose\", \"facebook\", \"facing\", \"factory\", \"fail\", \"fail\", \"family\", \"family\", \"family\", \"family\", \"farmer\", \"farmer\", \"father\", \"female\", \"fight\", \"fight\", \"fight\", \"fighter\", \"fighting\", \"financial\", \"fine\", \"fire\", \"first\", \"first\", \"first\", \"first\", \"first\", \"flood\", \"footage\", \"force\", \"force\", \"force\", \"force\", \"foreign\", \"foreign\", \"foreign\", \"foreign\", \"forget\", \"former\", \"former\", \"former\", \"found\", \"found\", \"found\", \"founder\", \"france\", \"fraud\", \"freedom\", \"french\", \"french\", \"friday\", \"front\", \"fukushima\", \"future\", \"future\", \"general\", \"general\", \"genocide\", \"georgia\", \"german\", \"germany\", \"germany\", \"getting\", \"getting\", \"girl\", \"give\", \"global\", \"google\", \"google\", \"government\", \"government\", \"government\", \"government\", \"government\", \"government\", \"government\", \"government\", \"government\", \"government\", \"government\", \"great\", \"greece\", \"green\", \"green\", \"ground\", \"group\", \"group\", \"group\", \"group\", \"guilty\", \"gunman\", \"hack\", \"hack\", \"haiti\", \"hamas\", \"happen\", \"head\", \"hindu\", \"history\", \"holocaust\", \"home\", \"honduras\", \"hospital\", \"house\", \"human\", \"iceland\", \"ignore\", \"illegal\", \"illegal\", \"illegal\", \"immigrant\", \"incident\", \"india\", \"india\", \"india\", \"indian\", \"information\", \"injure\", \"innocent\", \"instead\", \"intelligence\", \"international\", \"international\", \"international\", \"international\", \"international\", \"internet\", \"interview\", \"invasion\", \"iranian\", \"iraqi\", \"ireland\", \"irish\", \"islamic\", \"islamist\", \"island\", \"israel\", \"israeli\", \"italian\", \"italy\", \"jail\", \"jail\", \"japan\", \"japan\", \"japan\", \"japan\", \"japanese\", \"jazeera\", \"jerusalem\", \"jewish\", \"journalist\", \"journalist\", \"judge\", \"julian\", \"kidnap\", \"kill\", \"kill\", \"killing\", \"killing\", \"killing\", \"killing\", \"korea\", \"korean\", \"lanka\", \"large\", \"leader\", \"leader\", \"leaders\", \"leaders\", \"leaders\", \"leak\", \"least\", \"least\", \"leave\", \"leave\", \"legal\", \"legalize\", \"level\", \"level\", \"libya\", \"libya\", \"libyan\", \"life\", \"light\", \"living\", \"local\", \"london\", \"london\", \"look\", \"lose\", \"march\", \"marijuana\", \"massacre\", \"massive\", \"massive\", \"massive\", \"mayor\", \"means\", \"medical\", \"medium\", \"medium\", \"medium\", \"message\", \"mexican\", \"mexico\", \"mexico\", \"might\", \"militant\", \"military\", \"military\", \"million\", \"minister\", \"missile\", \"missile\", \"money\", \"money\", \"money\", \"money\", \"moscow\", \"mother\", \"movement\", \"mubarak\", \"mumbai\", \"murder\", \"murder\", \"murdoch\", \"muslim\", \"names\", \"nation\", \"nation\", \"nearly\", \"need\", \"never\", \"never\", \"never\", \"newspaper\", \"newspaper\", \"newspaper\", \"nigeria\", \"nobel\", \"north\", \"norway\", \"nothing\", \"nuclear\", \"obama\", \"obama\", \"obama\", \"occupy\", \"offer\", \"office\", \"office\", \"officer\", \"official\", \"official\", \"official\", \"official\", \"official\", \"official\", \"official\", \"official\", \"official\", \"official\", \"olympic\", \"olympics\", \"online\", \"oppose\", \"order\", \"order\", \"order\", \"order\", \"order\", \"pakistan\", \"pakistani\", \"palestinian\", \"parent\", \"parliament\", \"party\", \"party\", \"pass\", \"peace\", \"people\", \"people\", \"people\", \"people\", \"people\", \"percent\", \"person\", \"phone\", \"photo\", \"picture\", \"pirate\", \"pirate\", \"plane\", \"plant\", \"plant\", \"police\", \"policy\", \"policy\", \"policy\", \"political\", \"political\", \"politician\", \"population\", \"potential\", \"power\", \"president\", \"president\", \"president\", \"president\", \"presidential\", \"price\", \"priest\", \"prime\", \"prison\", \"prison\", \"prisoner\", \"private\", \"prize\", \"probe\", \"problem\", \"promise\", \"prosecutor\", \"protest\", \"protest\", \"protester\", \"protester\", \"publish\", \"putin\", \"qaeda\", \"quake\", \"question\", \"raise\", \"rally\", \"range\", \"rape\", \"reactor\", \"really\", \"reason\", \"rebel\", \"recession\", \"record\", \"record\", \"record\", \"reddit\", \"reform\", \"refugee\", \"refuse\", \"refuse\", \"refuse\", \"regime\", \"regime\", \"release\", \"release\", \"remain\", \"report\", \"report\", \"report\", \"report\", \"report\", \"report\", \"report\", \"report\", \"reporter\", \"require\", \"response\", \"result\", \"result\", \"result\", \"result\", \"revolution\", \"right\", \"riot\", \"rocket\", \"rule\", \"running\", \"russia\", \"russian\", \"sanction\", \"sarkozy\", \"satellite\", \"saudi\", \"scandal\", \"school\", \"scientist\", \"scientist\", \"scientist\", \"search\", \"second\", \"second\", \"secret\", \"security\", \"security\", \"security\", \"security\", \"security\", \"seek\", \"seize\", \"senior\", \"sentence\", \"sentence\", \"service\", \"settlement\", \"settler\", \"sexual\", \"ship\", \"shoot\", \"since\", \"site\", \"small\", \"snowden\", \"society\", \"soldier\", \"soldier\", \"somali\", \"somalia\", \"south\", \"south\", \"space\", \"spain\", \"spend\", \"spread\", \"stand\", \"start\", \"start\", \"start\", \"state\", \"steal\", \"still\", \"story\", \"street\", \"strike\", \"strike\", \"student\", \"student\", \"study\", \"sudan\", \"suicide\", \"suicide\", \"supply\", \"supply\", \"support\", \"support\", \"support\", \"supreme\", \"surveillance\", \"survive\", \"survivor\", \"suspect\", \"suspect\", \"suspend\", \"sweden\", \"swedish\", \"swiss\", \"syria\", \"syrian\", \"system\", \"system\", \"system\", \"system\", \"take\", \"take\", \"take\", \"taliban\", \"talks\", \"target\", \"teenager\", \"tehran\", \"territory\", \"terror\", \"terrorism\", \"terrorist\", \"test\", \"think\", \"third\", \"thousand\", \"three\", \"three\", \"three\", \"three\", \"three\", \"three\", \"three\", \"throw\", \"times\", \"today\", \"today\", \"today\", \"today\", \"today\", \"torture\", \"torture\", \"trade\", \"trade\", \"traffic\", \"train\", \"trial\", \"troops\", \"truth\", \"try\", \"try\", \"try\", \"try\", \"try\", \"try\", \"turkey\", \"turkey\", \"turn\", \"turn\", \"ukraine\", \"unite\", \"vatican\", \"venezuela\", \"victim\", \"victim\", \"victory\", \"video\", \"violent\", \"visit\", \"vote\", \"warn\", \"warn\", \"warn\", \"warn\", \"warning\", \"warship\", \"washington\", \"watch\", \"water\", \"weapon\", \"weapon\", \"website\", \"whale\", \"white\", \"wikileaks\", \"woman\", \"working\", \"world\", \"world\", \"world\", \"worst\", \"worth\", \"write\", \"wrong\", \"years\", \"years\", \"years\", \"years\", \"years\", \"years\", \"young\", \"youth\", \"zealand\", \"zimbabwe\", \"zimbabwe\"]}, \"R\": 30, \"lambda.step\": 0.01, \"plot.opts\": {\"xlab\": \"PC1\", \"ylab\": \"PC2\"}, \"topic.order\": [12, 6, 10, 11, 13, 3, 2, 9, 7, 4, 5, 1, 8]};\n",
       "\n",
       "function LDAvis_load_lib(url, callback){\n",
       "  var s = document.createElement('script');\n",
       "  s.src = url;\n",
       "  s.async = true;\n",
       "  s.onreadystatechange = s.onload = callback;\n",
       "  s.onerror = function(){console.warn(\"failed to load library \" + url);};\n",
       "  document.getElementsByTagName(\"head\")[0].appendChild(s);\n",
       "}\n",
       "\n",
       "if(typeof(LDAvis) !== \"undefined\"){\n",
       "   // already loaded: just create the visualization\n",
       "   !function(LDAvis){\n",
       "       new LDAvis(\"#\" + \"ldavis_el113442848734785728835141901\", ldavis_el113442848734785728835141901_data);\n",
       "   }(LDAvis);\n",
       "}else if(typeof define === \"function\" && define.amd){\n",
       "   // require.js is available: use it to load d3/LDAvis\n",
       "   require.config({paths: {d3: \"https://cdnjs.cloudflare.com/ajax/libs/d3/3.5.5/d3.min\"}});\n",
       "   require([\"d3\"], function(d3){\n",
       "      window.d3 = d3;\n",
       "      LDAvis_load_lib(\"https://cdn.rawgit.com/bmabey/pyLDAvis/files/ldavis.v1.0.0.js\", function(){\n",
       "        new LDAvis(\"#\" + \"ldavis_el113442848734785728835141901\", ldavis_el113442848734785728835141901_data);\n",
       "      });\n",
       "    });\n",
       "}else{\n",
       "    // require.js not available: dynamically load d3 & LDAvis\n",
       "    LDAvis_load_lib(\"https://cdnjs.cloudflare.com/ajax/libs/d3/3.5.5/d3.min.js\", function(){\n",
       "         LDAvis_load_lib(\"https://cdn.rawgit.com/bmabey/pyLDAvis/files/ldavis.v1.0.0.js\", function(){\n",
       "                 new LDAvis(\"#\" + \"ldavis_el113442848734785728835141901\", ldavis_el113442848734785728835141901_data);\n",
       "            })\n",
       "         });\n",
       "}\n",
       "</script>"
      ],
      "text/plain": [
       "<IPython.core.display.HTML object>"
      ]
     },
     "execution_count": 23,
     "metadata": {},
     "output_type": "execute_result"
    },
    {
     "name": "stdout",
     "output_type": "stream",
     "text": [
      "time: 13min 7s\n"
     ]
    }
   ],
   "source": [
    "import warnings\n",
    "warnings.simplefilter(action='ignore', category=FutureWarning)\n",
    "import pyLDAvis.gensim\n",
    "\n",
    "lda10 = gensim.models.ldamodel.LdaModel.load('model10.gensim')\n",
    "lda_display10 = pyLDAvis.gensim.prepare(lda10, corpus, dictionary)\n",
    "pyLDAvis.display(lda_display10)"
   ]
  },
  {
   "cell_type": "markdown",
   "metadata": {},
   "source": [
    "### OTROS"
   ]
  },
  {
   "cell_type": "code",
   "execution_count": 43,
   "metadata": {},
   "outputs": [],
   "source": [
    "import gensim\n",
    "NUM_TOPICS = 5\n",
    "ldamodel = gensim.models.ldamodel.LdaModel(corpus, \n",
    "                                           num_topics = NUM_TOPICS, \n",
    "                                           id2word=dictionary, \n",
    "                                           passes=15, # how many times the algorithm is supposed to pass over the whole corpus\n",
    "                                           random_state = 10291, \n",
    "                                           chunksize = 2000 # number of documents to consider at once (affects the memory consumption)\n",
    "                                          )\n",
    "ldamodel.save('model5.gensim')"
   ]
  },
  {
   "cell_type": "code",
   "execution_count": 45,
   "metadata": {},
   "outputs": [
    {
     "name": "stdout",
     "output_type": "stream",
     "text": [
      "[(2012, 1), (6758, 1), (8852, 1), (10200, 1)]\n",
      "[(0, 0.58071643), (1, 0.045033406), (2, 0.045051895), (3, 0.045068514), (4, 0.2841298)]\n"
     ]
    }
   ],
   "source": [
    "new_doc = 'Practical Bayesian Optimization of Machine Learning Algorithms'\n",
    "new_doc = prepare_text_for_lda(new_doc)\n",
    "new_doc_bow = dictionary.doc2bow(new_doc)\n",
    "print(new_doc_bow)\n",
    "print(ldamodel.get_document_topics(new_doc_bow))"
   ]
  },
  {
   "cell_type": "code",
   "execution_count": 48,
   "metadata": {},
   "outputs": [
    {
     "name": "stdout",
     "output_type": "stream",
     "text": [
      "(0, '0.015*\"israel\" + 0.011*\"israeli\" + 0.008*\"attack\" + 0.008*\"president\"')\n",
      "(1, '0.013*\"police\" + 0.010*\"woman\" + 0.010*\"child\" + 0.009*\"death\"')\n",
      "(2, '0.015*\"world\" + 0.010*\"china\" + 0.008*\"country\" + 0.007*\"government\"')\n"
     ]
    }
   ],
   "source": [
    "ldamodel = gensim.models.ldamodel.LdaModel(corpus, num_topics = 3, id2word=dictionary, passes=15)\n",
    "ldamodel.save('model3.gensim')\n",
    "topics = ldamodel.print_topics(num_words=4)\n",
    "for topic in topics:\n",
    "    print(topic)"
   ]
  },
  {
   "cell_type": "code",
   "execution_count": 46,
   "metadata": {},
   "outputs": [],
   "source": [
    "dictionary = gensim.corpora.Dictionary.load('dictionary.gensim')\n",
    "corpus = pickle.load(open('corpus.pkl', 'rb'))\n",
    "lda = gensim.models.ldamodel.LdaModel.load('model5.gensim')"
   ]
  },
  {
   "cell_type": "code",
   "execution_count": 47,
   "metadata": {
    "scrolled": false
   },
   "outputs": [
    {
     "name": "stderr",
     "output_type": "stream",
     "text": [
      "C:\\Users\\Ed\\Anaconda3\\envs\\nlp\\lib\\site-packages\\pyLDAvis\\_prepare.py:257: FutureWarning: Sorting because non-concatenation axis is not aligned. A future version\n",
      "of pandas will change to not sort by default.\n",
      "\n",
      "To accept the future behavior, pass 'sort=False'.\n",
      "\n",
      "To retain the current behavior and silence the warning, pass 'sort=True'.\n",
      "\n",
      "  return pd.concat([default_term_info] + list(topic_dfs))\n"
     ]
    },
    {
     "data": {
      "text/html": [
       "\n",
       "<link rel=\"stylesheet\" type=\"text/css\" href=\"https://cdn.rawgit.com/bmabey/pyLDAvis/files/ldavis.v1.0.0.css\">\n",
       "\n",
       "\n",
       "<div id=\"ldavis_el1298028655210194245169506630\"></div>\n",
       "<script type=\"text/javascript\">\n",
       "\n",
       "var ldavis_el1298028655210194245169506630_data = {\"mdsDat\": {\"x\": [-0.08351952938680114, 0.16329536328855787, -0.13019370700386126, 0.2642598709949339, -0.21384199789282923], \"y\": [-0.11755981070181097, -0.12711971098416786, -0.14004948826584765, 0.15682259847719834, 0.22790641147462823], \"topics\": [1, 2, 3, 4, 5], \"cluster\": [1, 1, 1, 1, 1], \"Freq\": [19.771175384521484, 23.51744842529297, 22.526016235351562, 15.162202835083008, 19.023155212402344]}, \"tinfo\": {\"Category\": [\"Default\", \"Default\", \"Default\", \"Default\", \"Default\", \"Default\", \"Default\", \"Default\", \"Default\", \"Default\", \"Default\", \"Default\", \"Default\", \"Default\", \"Default\", \"Default\", \"Default\", \"Default\", \"Default\", \"Default\", \"Default\", \"Default\", \"Default\", \"Default\", \"Default\", \"Default\", \"Default\", \"Default\", \"Default\", \"Default\", \"Topic1\", \"Topic1\", \"Topic1\", \"Topic1\", \"Topic1\", \"Topic1\", \"Topic1\", \"Topic1\", \"Topic1\", \"Topic1\", \"Topic1\", \"Topic1\", \"Topic1\", \"Topic1\", \"Topic1\", \"Topic1\", \"Topic1\", \"Topic1\", \"Topic1\", \"Topic1\", \"Topic1\", \"Topic1\", \"Topic1\", \"Topic1\", \"Topic1\", \"Topic1\", \"Topic1\", \"Topic1\", \"Topic1\", \"Topic1\", \"Topic1\", \"Topic1\", \"Topic1\", \"Topic1\", \"Topic1\", \"Topic1\", \"Topic1\", \"Topic1\", \"Topic1\", \"Topic1\", \"Topic1\", \"Topic1\", \"Topic1\", \"Topic1\", \"Topic1\", \"Topic1\", \"Topic1\", \"Topic1\", \"Topic1\", \"Topic1\", \"Topic1\", \"Topic1\", \"Topic1\", \"Topic1\", \"Topic1\", \"Topic2\", \"Topic2\", \"Topic2\", \"Topic2\", \"Topic2\", \"Topic2\", \"Topic2\", \"Topic2\", \"Topic2\", \"Topic2\", \"Topic2\", \"Topic2\", \"Topic2\", \"Topic2\", \"Topic2\", \"Topic2\", \"Topic2\", \"Topic2\", \"Topic2\", \"Topic2\", \"Topic2\", \"Topic2\", \"Topic2\", \"Topic2\", \"Topic2\", \"Topic2\", \"Topic2\", \"Topic2\", \"Topic2\", \"Topic2\", \"Topic2\", \"Topic2\", \"Topic2\", \"Topic2\", \"Topic2\", \"Topic2\", \"Topic2\", \"Topic2\", \"Topic2\", \"Topic2\", \"Topic2\", \"Topic2\", \"Topic2\", \"Topic2\", \"Topic2\", \"Topic2\", \"Topic2\", \"Topic2\", \"Topic2\", \"Topic2\", \"Topic2\", \"Topic2\", \"Topic2\", \"Topic2\", \"Topic3\", \"Topic3\", \"Topic3\", \"Topic3\", \"Topic3\", \"Topic3\", \"Topic3\", \"Topic3\", \"Topic3\", \"Topic3\", \"Topic3\", \"Topic3\", \"Topic3\", \"Topic3\", \"Topic3\", \"Topic3\", \"Topic3\", \"Topic3\", \"Topic3\", \"Topic3\", \"Topic3\", \"Topic3\", \"Topic3\", \"Topic3\", \"Topic3\", \"Topic3\", \"Topic3\", \"Topic3\", \"Topic3\", \"Topic3\", \"Topic3\", \"Topic3\", \"Topic3\", \"Topic3\", \"Topic3\", \"Topic3\", \"Topic3\", \"Topic3\", \"Topic3\", \"Topic3\", \"Topic3\", \"Topic3\", \"Topic3\", \"Topic3\", \"Topic3\", \"Topic3\", \"Topic3\", \"Topic4\", \"Topic4\", \"Topic4\", \"Topic4\", \"Topic4\", \"Topic4\", \"Topic4\", \"Topic4\", \"Topic4\", \"Topic4\", \"Topic4\", \"Topic4\", \"Topic4\", \"Topic4\", \"Topic4\", \"Topic4\", \"Topic4\", \"Topic4\", \"Topic4\", \"Topic4\", \"Topic4\", \"Topic4\", \"Topic4\", \"Topic4\", \"Topic4\", \"Topic4\", \"Topic4\", \"Topic4\", \"Topic4\", \"Topic4\", \"Topic4\", \"Topic4\", \"Topic4\", \"Topic4\", \"Topic4\", \"Topic4\", \"Topic4\", \"Topic4\", \"Topic4\", \"Topic4\", \"Topic4\", \"Topic4\", \"Topic4\", \"Topic4\", \"Topic4\", \"Topic4\", \"Topic4\", \"Topic5\", \"Topic5\", \"Topic5\", \"Topic5\", \"Topic5\", \"Topic5\", \"Topic5\", \"Topic5\", \"Topic5\", \"Topic5\", \"Topic5\", \"Topic5\", \"Topic5\", \"Topic5\", \"Topic5\", \"Topic5\", \"Topic5\", \"Topic5\", \"Topic5\", \"Topic5\", \"Topic5\", \"Topic5\", \"Topic5\", \"Topic5\", \"Topic5\", \"Topic5\", \"Topic5\", \"Topic5\", \"Topic5\", \"Topic5\", \"Topic5\", \"Topic5\", \"Topic5\", \"Topic5\", \"Topic5\", \"Topic5\", \"Topic5\", \"Topic5\", \"Topic5\", \"Topic5\", \"Topic5\", \"Topic5\", \"Topic5\", \"Topic5\", \"Topic5\", \"Topic5\", \"Topic5\"], \"Freq\": [2289.0, 1711.0, 1763.0, 1613.0, 1148.0, 1107.0, 1091.0, 2371.0, 1649.0, 824.0, 1295.0, 1483.0, 891.0, 695.0, 867.0, 1038.0, 1156.0, 1414.0, 803.0, 684.0, 632.0, 618.0, 1251.0, 1633.0, 949.0, 794.0, 927.0, 492.0, 491.0, 617.0, 683.563232421875, 517.5641479492188, 271.3854064941406, 233.77085876464844, 233.20150756835938, 233.83663940429688, 225.56597900390625, 220.6431427001953, 213.5712432861328, 208.89810180664062, 204.2442626953125, 198.72305297851562, 192.03213500976562, 187.32711791992188, 182.32553100585938, 179.46095275878906, 179.0125274658203, 170.04400634765625, 182.20994567871094, 169.8251953125, 169.6322479248047, 168.5732879638672, 167.87246704101562, 166.27598571777344, 164.31845092773438, 164.22842407226562, 165.80796813964844, 162.75375366210938, 155.60598754882812, 153.05690002441406, 154.66566467285156, 247.94808959960938, 283.38775634765625, 385.4645080566406, 274.93060302734375, 321.4735107421875, 769.3914184570312, 455.8402404785156, 328.7789001464844, 802.89501953125, 244.25682067871094, 343.16748046875, 494.6988220214844, 294.303955078125, 276.885986328125, 265.1094665527344, 312.5508117675781, 328.9476013183594, 455.5060729980469, 263.06085205078125, 342.8034362792969, 269.8633117675781, 311.5250549316406, 285.998291015625, 239.9983673095703, 2288.631591796875, 1710.385986328125, 1147.612548828125, 616.7318725585938, 509.57470703125, 447.4807434082031, 444.5667419433594, 447.8228454589844, 432.8214416503906, 407.2310485839844, 365.4002990722656, 345.2433166503906, 328.477783203125, 305.2992858886719, 294.7119140625, 250.48670959472656, 232.88255310058594, 223.8002166748047, 224.5626220703125, 222.0975799560547, 221.92422485351562, 213.36660766601562, 198.4654998779297, 198.4419403076172, 194.68405151367188, 192.8466033935547, 193.90383911132812, 186.35621643066406, 178.3798065185547, 169.82232666015625, 220.62950134277344, 786.1236572265625, 392.696533203125, 1157.4599609375, 567.7554321289062, 413.1527099609375, 418.3389587402344, 682.0997314453125, 408.87274169921875, 559.6256103515625, 831.7730712890625, 704.5875244140625, 395.8544616699219, 336.9391784667969, 437.7081298828125, 644.2977294921875, 503.3818359375, 605.5335083007812, 661.5333251953125, 530.4080200195312, 529.2362060546875, 587.9590454101562, 474.802734375, 448.1523132324219, 1106.3013916015625, 1090.8072509765625, 891.126708984375, 866.7749633789062, 803.0108032226562, 579.2186279296875, 528.8135986328125, 449.8775939941406, 467.55889892578125, 434.7107238769531, 386.5143127441406, 357.1327209472656, 353.7885437011719, 350.1331787109375, 340.6285705566406, 312.2364196777344, 300.04058837890625, 276.0566101074219, 274.90411376953125, 261.6732177734375, 258.9225158691406, 244.65045166015625, 245.1385955810547, 218.2954559326172, 209.25540161132812, 202.16590881347656, 198.83551025390625, 198.09432983398438, 196.4162139892578, 191.65054321289062, 1142.7213134765625, 398.5867004394531, 452.1314392089844, 775.7046508789062, 423.83648681640625, 649.4593505859375, 873.6177368164062, 400.1460266113281, 309.5125732421875, 454.0596008300781, 619.3982543945312, 514.2103881835938, 404.6573181152344, 495.0146484375, 548.1317138671875, 339.0113525390625, 342.74444580078125, 823.4122314453125, 694.9189453125, 491.0862731933594, 491.91796875, 424.4925842285156, 400.171875, 373.47637939453125, 270.4212951660156, 256.8340148925781, 243.5143585205078, 243.9513702392578, 242.03176879882812, 240.0974884033203, 244.75149536132812, 234.7154541015625, 235.0654296875, 229.68524169921875, 214.05758666992188, 181.85862731933594, 182.59478759765625, 168.3025665283203, 167.6773223876953, 154.95675659179688, 151.29420471191406, 150.9225616455078, 139.4774627685547, 136.7535400390625, 135.59608459472656, 133.27468872070312, 132.4192352294922, 1314.422607421875, 384.5246887207031, 765.188232421875, 199.08543395996094, 505.79736328125, 441.85040283203125, 781.1448974609375, 269.0118408203125, 445.330810546875, 449.6036071777344, 468.8690490722656, 491.2359619140625, 301.92926025390625, 410.29791259765625, 281.1199035644531, 242.4600830078125, 237.93467712402344, 631.9788208007812, 617.179443359375, 535.9778442382812, 501.09014892578125, 493.2342224121094, 420.3042297363281, 409.3288269042969, 378.5467224121094, 344.6672058105469, 328.9729919433594, 309.15069580078125, 295.5861511230469, 291.30206298828125, 270.3857727050781, 268.9152526855469, 254.2368927001953, 253.09103393554688, 249.36984252929688, 245.7240447998047, 240.6807098388672, 238.39285278320312, 232.21954345703125, 225.72012329101562, 218.65940856933594, 218.29495239257812, 202.62161254882812, 197.4718475341797, 192.87405395507812, 192.45106506347656, 189.9988555908203, 859.6202392578125, 570.9053344726562, 839.659912109375, 1367.5303955078125, 826.3310546875, 412.74957275390625, 265.37017822265625, 427.24932861328125, 505.56072998046875, 315.8242492675781, 494.3513488769531, 394.3021240234375, 410.1859130859375, 274.4521179199219, 290.1670837402344, 288.04022216796875, 276.3153076171875], \"Term\": [\"israel\", \"israeli\", \"police\", \"kill\", \"palestinian\", \"russia\", \"korea\", \"world\", \"attack\", \"pakistan\", \"woman\", \"state\", \"south\", \"video\", \"north\", \"million\", \"nuclear\", \"right\", \"russian\", \"internet\", \"billion\", \"japan\", \"president\", \"china\", \"arrest\", \"found\", \"minister\", \"school\", \"mexico\", \"crime\", \"internet\", \"secret\", \"health\", \"phone\", \"google\", \"catholic\", \"scandal\", \"online\", \"information\", \"blair\", \"haiti\", \"website\", \"hack\", \"occupy\", \"expose\", \"prize\", \"beat\", \"surveillance\", \"mumbai\", \"service\", \"laden\", \"spread\", \"cable\", \"parent\", \"nobel\", \"jazeera\", \"gaddafi\", \"social\", \"boycott\", \"david\", \"friend\", \"document\", \"church\", \"abuse\", \"rule\", \"reveal\", \"right\", \"human\", \"public\", \"government\", \"illegal\", \"order\", \"child\", \"pirate\", \"worker\", \"take\", \"british\", \"court\", \"world\", \"german\", \"people\", \"chinese\", \"china\", \"country\", \"allow\", \"israel\", \"israeli\", \"palestinian\", \"crime\", \"afghan\", \"prison\", \"prime\", \"b'israeli\", \"saudi\", \"sentence\", \"jewish\", \"hamas\", \"trial\", \"suicide\", \"jail\", \"egyptian\", \"libya\", \"settler\", \"massacre\", \"arabia\", \"iraqi\", \"jerusalem\", \"bomber\", \"question\", \"convict\", \"female\", \"qaeda\", \"somalia\", \"judge\", \"daughter\", \"bombing\", \"minister\", \"thousand\", \"attack\", \"soldier\", \"family\", \"b'israel\", \"protest\", \"killing\", \"court\", \"kill\", \"force\", \"protester\", \"torture\", \"group\", \"right\", \"arrest\", \"years\", \"people\", \"death\", \"woman\", \"government\", \"president\", \"police\", \"russia\", \"korea\", \"south\", \"north\", \"russian\", \"wikileaks\", \"unite\", \"change\", \"georgia\", \"obama\", \"korean\", \"economy\", \"america\", \"b'russia\", \"think\", \"action\", \"freedom\", \"putin\", \"white\", \"talks\", \"prepare\", \"assange\", \"regime\", \"ukraine\", \"access\", \"b'north\", \"future\", \"ahmadinejad\", \"riot\", \"prisoner\", \"state\", \"warn\", \"nation\", \"president\", \"election\", \"military\", \"country\", \"party\", \"political\", \"would\", \"government\", \"b'the\", \"american\", \"china\", \"world\", \"become\", \"call\", \"pakistan\", \"video\", \"mexico\", \"school\", \"taliban\", \"officer\", \"violence\", \"blame\", \"christian\", \"plane\", \"crash\", \"mexican\", \"pakistani\", \"b'iran\", \"bomb\", \"throw\", \"village\", \"miss\", \"girl\", \"rocket\", \"drone\", \"agent\", \"reporter\", \"flight\", \"kidnap\", \"footage\", \"islamist\", \"gunman\", \"body\", \"truth\", \"police\", \"weapon\", \"woman\", \"turn\", \"found\", \"muslim\", \"kill\", \"student\", \"arrest\", \"death\", \"child\", \"attack\", \"strike\", \"people\", \"afghanistan\", \"murder\", \"india\", \"billion\", \"japan\", \"missile\", \"water\", \"large\", \"money\", \"build\", \"settlement\", \"plant\", \"financial\", \"earthquake\", \"dollar\", \"banks\", \"scientist\", \"price\", \"energy\", \"greece\", \"japanese\", \"civil\", \"iceland\", \"percent\", \"happen\", \"great\", \"greek\", \"market\", \"discover\", \"fukushima\", \"earth\", \"vote\", \"farmer\", \"million\", \"power\", \"nuclear\", \"world\", \"china\", \"crisis\", \"population\", \"could\", \"years\", \"global\", \"country\", \"first\", \"people\", \"still\", \"india\", \"found\", \"europe\"], \"Total\": [2289.0, 1711.0, 1763.0, 1613.0, 1148.0, 1107.0, 1091.0, 2371.0, 1649.0, 824.0, 1295.0, 1483.0, 891.0, 695.0, 867.0, 1038.0, 1156.0, 1414.0, 803.0, 684.0, 632.0, 618.0, 1251.0, 1633.0, 949.0, 794.0, 927.0, 492.0, 491.0, 617.0, 684.4125366210938, 518.4188842773438, 272.2390441894531, 234.61825561523438, 234.04896545410156, 234.68740844726562, 226.41622924804688, 221.4928741455078, 214.42225646972656, 209.75146484375, 205.1050567626953, 199.57455444335938, 192.8785858154297, 188.18968200683594, 183.18023681640625, 180.3109130859375, 179.8821563720703, 170.8919677734375, 183.1201629638672, 170.6786651611328, 170.4864501953125, 169.4297332763672, 168.728759765625, 167.1290740966797, 165.16636657714844, 165.08203125, 166.67068481445312, 163.60423278808594, 156.46731567382812, 153.9060516357422, 155.52911376953125, 256.31829833984375, 324.4901428222656, 492.0199890136719, 321.7688293457031, 414.7911682128906, 1414.346923828125, 789.5925903320312, 496.5690612792969, 2142.052001953125, 337.7015380859375, 648.1708984375, 1321.7677001953125, 560.131103515625, 486.7889709472656, 458.0482482910156, 747.8658447265625, 889.228515625, 2371.5703125, 552.9134521484375, 1921.1722412109375, 742.364990234375, 1633.753662109375, 1764.32421875, 473.996826171875, 2289.513671875, 1711.2666015625, 1148.489990234375, 617.6136474609375, 510.4571228027344, 448.3594970703125, 445.4454650878906, 448.7282409667969, 433.69757080078125, 408.1089172363281, 366.2808837890625, 346.1217956542969, 329.3594665527344, 306.1796875, 295.5933837890625, 251.36288452148438, 233.76226806640625, 224.67691040039062, 225.4427032470703, 222.97323608398438, 222.8089599609375, 214.2435302734375, 199.34829711914062, 199.33238220214844, 195.5614776611328, 193.72720336914062, 194.78941345214844, 187.2472381591797, 179.26272583007812, 170.7006072998047, 222.4607391357422, 927.5060424804688, 445.3763732910156, 1649.3759765625, 706.7467041015625, 526.9485473632812, 544.6990356445312, 1104.188720703125, 544.7542724609375, 889.228515625, 1613.5941162109375, 1270.43603515625, 556.7169189453125, 442.1123046875, 699.3887329101562, 1414.346923828125, 949.3910522460938, 1449.035400390625, 1921.1722412109375, 1136.9122314453125, 1295.1025390625, 2142.052001953125, 1251.1737060546875, 1763.2509765625, 1107.1593017578125, 1091.6624755859375, 891.9852294921875, 867.6304321289062, 803.872314453125, 580.0850219726562, 529.6734619140625, 450.7393493652344, 468.45599365234375, 435.57208251953125, 387.3702392578125, 357.9971923828125, 354.6519470214844, 351.021240234375, 341.4986877441406, 313.1031799316406, 300.90576171875, 276.9104309082031, 275.7759704589844, 262.5343933105469, 259.7856750488281, 245.5076446533203, 246.00241088867188, 219.14895629882812, 210.12591552734375, 203.03671264648438, 199.70179748535156, 198.9612274169922, 197.29307556152344, 192.52098083496094, 1483.7989501953125, 469.0718688964844, 602.249267578125, 1251.1737060546875, 564.48486328125, 1066.046630859375, 1764.32421875, 634.430419921875, 389.15692138671875, 838.5536499023438, 2142.052001953125, 1361.976806640625, 764.8692626953125, 1633.753662109375, 2371.5703125, 627.9954833984375, 749.32861328125, 824.2864379882812, 695.7935791015625, 491.9574279785156, 492.7931823730469, 425.37005615234375, 401.04443359375, 374.3520812988281, 271.30230712890625, 257.7050476074219, 244.38430786132812, 244.82289123535156, 242.90133666992188, 240.96893310546875, 245.6583251953125, 235.59149169921875, 235.9475860595703, 230.56455993652344, 214.93077087402344, 182.7294921875, 183.47256469726562, 169.1702423095703, 168.5555877685547, 155.83399963378906, 152.16542053222656, 151.79736328125, 140.35169982910156, 137.62619018554688, 136.4644317626953, 134.14657592773438, 133.3068389892578, 1763.2509765625, 523.3447265625, 1295.1025390625, 225.9880828857422, 794.4776611328125, 665.567138671875, 1613.5941162109375, 362.1212158203125, 949.3910522460938, 1136.9122314453125, 1321.7677001953125, 1649.3759765625, 684.1806640625, 1921.1722412109375, 808.1968994140625, 477.4542236328125, 730.5372314453125, 632.815673828125, 618.0162963867188, 536.8287963867188, 501.9299011230469, 494.07843017578125, 421.1483154296875, 410.1721496582031, 379.3991394042969, 345.5052185058594, 329.8168640136719, 309.9884033203125, 296.42498779296875, 292.14105224609375, 271.22430419921875, 269.7546691894531, 255.07342529296875, 253.9297637939453, 250.20864868164062, 246.5813751220703, 241.5228729248047, 239.23416137695312, 233.07412719726562, 226.56451416015625, 219.49880981445312, 219.13352966308594, 203.46116638183594, 198.30618286132812, 193.71351623535156, 193.2981414794922, 190.8438720703125, 1038.3424072265625, 708.3134765625, 1156.6494140625, 2371.5703125, 1633.753662109375, 624.868896484375, 322.8927001953125, 906.492919921875, 1449.035400390625, 494.6257019042969, 1764.32421875, 1054.38134765625, 1921.1722412109375, 431.37054443359375, 730.5372314453125, 794.4776611328125, 534.5552978515625], \"loglift\": [30.0, 29.0, 28.0, 27.0, 26.0, 25.0, 24.0, 23.0, 22.0, 21.0, 20.0, 19.0, 18.0, 17.0, 16.0, 15.0, 14.0, 13.0, 12.0, 11.0, 10.0, 9.0, 8.0, 7.0, 6.0, 5.0, 4.0, 3.0, 2.0, 1.0, 1.6196999549865723, 1.6193000078201294, 1.617799997329712, 1.617300033569336, 1.617300033569336, 1.617300033569336, 1.6172000169754028, 1.6171000003814697, 1.6169999837875366, 1.6168999671936035, 1.6167000532150269, 1.6167000532150269, 1.6165000200271606, 1.6164000034332275, 1.6162999868392944, 1.6161999702453613, 1.6160999536514282, 1.6160000562667847, 1.6160000562667847, 1.6159000396728516, 1.6159000396728516, 1.6159000396728516, 1.6159000396728516, 1.6158000230789185, 1.6158000230789185, 1.6158000230789185, 1.6158000230789185, 1.6157000064849854, 1.615399956703186, 1.615399956703186, 1.615399956703186, 1.5877000093460083, 1.4854999780654907, 1.3768999576568604, 1.4636000394821167, 1.3660999536514282, 1.0120999813079834, 1.0715999603271484, 1.2086000442504883, 0.6395999789237976, 1.2970000505447388, 0.9850000143051147, 0.6381999850273132, 0.977400004863739, 1.0566999912261963, 1.0741000175476074, 0.7484999895095825, 0.6265000104904175, -0.028999999165534973, 0.8780999779701233, -0.10260000079870224, 0.609000027179718, -0.03620000183582306, -0.19859999418258667, 0.9404000043869019, 1.4470000267028809, 1.4469000101089478, 1.4466999769210815, 1.4459999799728394, 1.4457000494003296, 1.4455000162124634, 1.4455000162124634, 1.4453999996185303, 1.4453999996185303, 1.4452999830245972, 1.4450000524520874, 1.4449000358581543, 1.444700002670288, 1.4444999694824219, 1.4443999528884888, 1.4438999891281128, 1.4436999559402466, 1.44350004196167, 1.44350004196167, 1.44350004196167, 1.4434000253677368, 1.4433000087738037, 1.4429999589920044, 1.4429999589920044, 1.4428999423980713, 1.4428999423980713, 1.4428999423980713, 1.4427000284194946, 1.4424999952316284, 1.4422999620437622, 1.4392000436782837, 1.281999945640564, 1.3214999437332153, 1.0932999849319458, 1.2283999919891357, 1.2041000127792358, 1.183500051498413, 0.9656999707221985, 1.1605000495910645, 0.9843000173568726, 0.7847999930381775, 0.8579000234603882, 1.1064000129699707, 1.1757999658584595, 0.9787999987602234, 0.6611999869346619, 0.8130000233650208, 0.5748999714851379, 0.3813000023365021, 0.6850000023841858, 0.5525000095367432, 0.15459999442100525, 0.47850000858306885, 0.07760000228881836, 1.4896999597549438, 1.4896999597549438, 1.4895000457763672, 1.4895000457763672, 1.489400029182434, 1.4889999628067017, 1.4888999462127686, 1.4886000156402588, 1.4886000156402588, 1.4884999990463257, 1.4882999658584595, 1.4881000518798828, 1.4881000518798828, 1.4880000352859497, 1.4879000186920166, 1.4876999855041504, 1.4875999689102173, 1.4874000549316406, 1.4873000383377075, 1.4872000217437744, 1.4872000217437744, 1.4869999885559082, 1.4869999885559082, 1.4866000413894653, 1.486299991607666, 1.486199975013733, 1.486199975013733, 1.4860999584197998, 1.4859999418258667, 1.4859999418258667, 1.2293000221252441, 1.3277000188827515, 1.2037999629974365, 1.0124000310897827, 1.2038999795913696, 0.9948999881744385, 0.7875999808311462, 1.0296000242233276, 1.2615000009536743, 0.8769999742507935, 0.24969999492168427, 0.5163999795913696, 0.8537999987602234, 0.29649999737739563, 0.025699999183416367, 0.8740000128746033, 0.708299994468689, 1.8853000402450562, 1.88510000705719, 1.884600043296814, 1.884600043296814, 1.8842999935150146, 1.8841999769210815, 1.8839999437332153, 1.8831000328063965, 1.8830000162124634, 1.8827999830245972, 1.8827999830245972, 1.8827999830245972, 1.882699966430664, 1.882699966430664, 1.882599949836731, 1.882599949836731, 1.8825000524520874, 1.8823000192642212, 1.881600022315979, 1.881600022315979, 1.8811999559402466, 1.881100058555603, 1.8806999921798706, 1.8805999755859375, 1.8805999755859375, 1.8801000118255615, 1.8799999952316284, 1.8799999952316284, 1.8797999620437622, 1.879699945449829, 1.5925999879837036, 1.5780999660491943, 1.3601000308990479, 1.759600043296814, 1.4348000288009644, 1.476699948310852, 1.1608999967575073, 1.5891000032424927, 1.1294000148773193, 0.9587000012397766, 0.8500000238418579, 0.6751000285148621, 1.0683000087738037, 0.3425999879837036, 0.830299973487854, 1.2086999416351318, 0.7645999789237976, 1.6582000255584717, 1.6582000255584717, 1.6578999757766724, 1.6577999591827393, 1.6577999591827393, 1.6575000286102295, 1.6575000286102295, 1.6572999954223633, 1.657099962234497, 1.656999945640564, 1.6568000316619873, 1.6567000150680542, 1.656599998474121, 1.6563999652862549, 1.6563999652862549, 1.6562000513076782, 1.6562000513076782, 1.6562000513076782, 1.656000018119812, 1.656000018119812, 1.656000018119812, 1.6557999849319458, 1.6557999849319458, 1.6556999683380127, 1.6556999683380127, 1.655400037765503, 1.6553000211715698, 1.6552000045776367, 1.6550999879837036, 1.6550999879837036, 1.4706000089645386, 1.4437999725341797, 1.3392000198364258, 1.1089999675750732, 0.9779000282287598, 1.2447999715805054, 1.4632999897003174, 0.9072999954223633, 0.6065000295639038, 1.2108999490737915, 0.3871999979019165, 0.6758999824523926, 0.11540000140666962, 1.2072999477386475, 0.7361999750137329, 0.6449000239372253, 0.9995999932289124], \"logprob\": [30.0, 29.0, 28.0, 27.0, 26.0, 25.0, 24.0, 23.0, 22.0, 21.0, 20.0, 19.0, 18.0, 17.0, 16.0, 15.0, 14.0, 13.0, 12.0, 11.0, 10.0, 9.0, 8.0, 7.0, 6.0, 5.0, 4.0, 3.0, 2.0, 1.0, -4.874000072479248, -5.152200222015381, -5.797800064086914, -5.947000026702881, -5.949399948120117, -5.946700096130371, -5.982699871063232, -6.004799842834473, -6.037399768829346, -6.059500217437744, -6.081999778747559, -6.109399795532227, -6.143700122833252, -6.168499946594238, -6.195499897003174, -6.211400032043457, -6.213900089263916, -6.2652997970581055, -6.196199893951416, -6.266600131988525, -6.2677001953125, -6.27400016784668, -6.27810001373291, -6.287700176239014, -6.299499988555908, -6.300099849700928, -6.290500164031982, -6.309100151062012, -6.354000091552734, -6.370500087738037, -6.360099792480469, -5.8881001472473145, -5.754499912261963, -5.446899890899658, -5.784800052642822, -5.628399848937988, -4.75570011138916, -5.279200077056885, -5.605899810791016, -4.713099956512451, -5.90310001373291, -5.5630998611450195, -5.197400093078613, -5.716700077056885, -5.777699947357178, -5.821199893951416, -5.656599998474121, -5.605400085449219, -5.279900074005127, -5.82889986038208, -5.564199924468994, -5.803400039672852, -5.659800052642822, -5.745299816131592, -5.9207000732421875, -3.839099884033203, -4.13040018081665, -4.529399871826172, -5.150400161743164, -5.341300010681152, -5.471199989318848, -5.477700233459473, -5.470399856567383, -5.504499912261963, -5.565499782562256, -5.673900127410889, -5.730599880218506, -5.780399799346924, -5.853600025177002, -5.888800144195557, -6.051400184631348, -6.124300003051758, -6.164100170135498, -6.160699844360352, -6.1717000007629395, -6.172500133514404, -6.2118000984191895, -6.284200191497803, -6.284299850463867, -6.303500175476074, -6.312900066375732, -6.307499885559082, -6.3471999168396, -6.390900135040283, -6.440100193023682, -6.178400039672852, -4.907700061798096, -5.601799964904785, -4.520899772644043, -5.2332000732421875, -5.551000118255615, -5.538599967956543, -5.049699783325195, -5.561399936676025, -5.247600078582764, -4.85129976272583, -5.017199993133545, -5.593800067901611, -5.754899978637695, -5.493299961090088, -5.1066999435424805, -5.353499889373779, -5.168700218200684, -5.0802998542785645, -5.301199913024902, -5.303400039672852, -5.198200225830078, -5.411900043487549, -5.469699859619141, -4.5229997634887695, -4.537099838256836, -4.739299774169922, -4.767000198364258, -4.843400001525879, -5.170100212097168, -5.261099815368652, -5.422800064086914, -5.384200096130371, -5.457099914550781, -5.5746002197265625, -5.65369987487793, -5.663099765777588, -5.673500061035156, -5.701000213623047, -5.788000106811523, -5.827899932861328, -5.911200046539307, -5.91540002822876, -5.964700222015381, -5.975200176239014, -6.031899929046631, -6.029900074005127, -6.145899772644043, -6.188199996948242, -6.222700119018555, -6.239299774169922, -6.243000030517578, -6.251500129699707, -6.276100158691406, -4.490600109100342, -5.543799877166748, -5.417799949645996, -4.877999782562256, -5.482399940490723, -5.055600166320801, -4.759099960327148, -5.539899826049805, -5.796800136566162, -5.41349983215332, -5.103000164031982, -5.289100170135498, -5.52869987487793, -5.327199935913086, -5.225299835205078, -5.705699920654297, -5.694799900054932, -4.422500133514404, -4.592100143432617, -4.939300060272217, -4.937600135803223, -5.085000038146973, -5.144000053405762, -5.213099956512451, -5.535900115966797, -5.587500095367432, -5.640699863433838, -5.638899803161621, -5.6468000411987305, -5.654900074005127, -5.635700225830078, -5.677499771118164, -5.676000118255615, -5.69920015335083, -5.769700050354004, -5.932700157165527, -5.928599834442139, -6.0100998878479, -6.013899803161621, -6.092800140380859, -6.116700172424316, -6.119100093841553, -6.197999954223633, -6.217700004577637, -6.226200103759766, -6.243500232696533, -6.249899864196777, -3.9547998905181885, -5.183899879455566, -4.495800018310547, -5.842199802398682, -4.909800052642822, -5.044899940490723, -4.475100040435791, -5.541200160980225, -5.037099838256836, -5.027500152587891, -4.985599994659424, -4.939000129699707, -5.4257001876831055, -5.11899995803833, -5.497099876403809, -5.645100116729736, -5.663899898529053, -4.913899898529053, -4.937600135803223, -5.078700065612793, -5.145999908447266, -5.161799907684326, -5.321800231933594, -5.348199844360352, -5.426400184631348, -5.520199775695801, -5.566800117492676, -5.628900051116943, -5.673799991607666, -5.688399791717529, -5.762899875640869, -5.768400192260742, -5.82450008392334, -5.828999996185303, -5.843800067901611, -5.858500003814697, -5.879300117492676, -5.888800144195557, -5.91510009765625, -5.94350004196167, -5.975200176239014, -5.976900100708008, -6.051400184631348, -6.077199935913086, -6.1006999015808105, -6.10290002822876, -6.115699768066406, -4.606299877166748, -5.015500068664551, -4.629799842834473, -4.142000198364258, -4.6458001136779785, -5.339900016784668, -5.781599998474121, -5.3053998947143555, -5.1371002197265625, -5.607600212097168, -5.1595001220703125, -5.3856000900268555, -5.346099853515625, -5.748000144958496, -5.692299842834473, -5.699699878692627, -5.741199970245361]}, \"token.table\": {\"Topic\": [1, 2, 3, 3, 2, 2, 3, 4, 4, 3, 1, 2, 3, 3, 1, 2, 3, 4, 2, 2, 4, 3, 2, 4, 4, 2, 3, 2, 3, 3, 1, 2, 3, 4, 5, 5, 1, 1, 3, 5, 5, 1, 4, 4, 4, 2, 2, 4, 1, 1, 2, 3, 4, 5, 5, 1, 1, 2, 3, 1, 3, 1, 2, 4, 1, 3, 4, 5, 1, 3, 4, 5, 4, 1, 4, 5, 2, 1, 2, 3, 5, 1, 2, 3, 5, 1, 2, 4, 2, 3, 5, 2, 1, 1, 2, 4, 5, 1, 3, 5, 4, 5, 5, 3, 2, 2, 3, 5, 1, 3, 5, 1, 1, 2, 5, 2, 5, 1, 2, 3, 4, 5, 4, 4, 1, 2, 3, 4, 4, 5, 3, 1, 5, 3, 1, 3, 1, 2, 3, 4, 5, 4, 3, 5, 1, 1, 2, 3, 5, 5, 5, 5, 1, 2, 3, 4, 4, 1, 1, 2, 5, 1, 1, 2, 5, 5, 1, 3, 1, 4, 5, 1, 1, 2, 4, 2, 2, 2, 5, 5, 1, 2, 2, 2, 4, 2, 4, 2, 4, 3, 3, 1, 5, 2, 5, 2, 4, 4, 2, 3, 4, 1, 5, 1, 2, 4, 5, 5, 1, 2, 4, 2, 4, 3, 5, 1, 3, 3, 5, 3, 1, 4, 1, 1, 2, 4, 4, 2, 1, 1, 2, 3, 5, 1, 2, 3, 4, 5, 5, 1, 1, 3, 4, 5, 2, 4, 1, 3, 3, 5, 3, 5, 3, 2, 3, 5, 2, 2, 3, 1, 1, 2, 4, 2, 4, 1, 3, 4, 3, 2, 2, 3, 4, 1, 5, 1, 2, 3, 4, 1, 3, 3, 3, 2, 1, 4, 5, 1, 2, 1, 5, 2, 1, 2, 4, 2, 3, 1, 2, 3, 2, 5, 2, 3, 4, 1, 4, 2, 1, 1, 2, 4, 3, 3, 1, 2, 5, 4, 2, 4, 2, 4, 2, 4, 3, 3, 4, 4, 4, 5, 1, 3, 5, 4, 5, 1, 3, 3, 2, 4, 1, 2, 5, 1, 3, 5, 1, 2, 3, 5, 1, 2, 3, 5], \"Freq\": [0.7824885249137878, 0.21543839573860168, 0.9946417212486267, 0.9964766502380371, 0.9991044998168945, 0.3192291259765625, 0.332839697599411, 0.3476875424385071, 0.9967038035392761, 0.9951687455177307, 0.506332516670227, 0.3523230254650116, 0.14135116338729858, 0.9981617331504822, 0.15427473187446594, 0.2523306906223297, 0.529502272605896, 0.06275582313537598, 0.9956352114677429, 0.529813289642334, 0.46872150897979736, 0.9979322552680969, 0.7014774084091187, 0.2976883351802826, 0.9973201751708984, 0.7673962712287903, 0.23132039606571198, 0.9983770847320557, 0.9948939681053162, 0.9970906376838684, 0.05873814970254898, 0.2547767460346222, 0.37739261984825134, 0.12628702819347382, 0.18208827078342438, 0.9960941672325134, 0.9950959086418152, 0.19267654418945312, 0.5398128032684326, 0.2675178349018097, 0.9987110495567322, 0.9964173436164856, 0.9951997995376587, 0.9914528131484985, 0.997489333152771, 0.9932364821434021, 0.9934337139129639, 0.004495175089687109, 0.9970133304595947, 0.41852426528930664, 0.3155646324157715, 0.10429678112268448, 0.14307378232479095, 0.018719935789704323, 0.9971423149108887, 0.9956808686256409, 0.22420069575309753, 0.31761765480041504, 0.4577431082725525, 0.9970709681510925, 0.9983596801757812, 0.37449848651885986, 0.27084940671920776, 0.3548278510570526, 0.1909712702035904, 0.30298325419425964, 0.0006120873731561005, 0.505584180355072, 0.3637025058269501, 0.15895146131515503, 0.14413395524024963, 0.3340674638748169, 0.9972641468048096, 0.8721374273300171, 0.12327031046152115, 0.9976422786712646, 0.9971289038658142, 0.1500287503004074, 0.055157627910375595, 0.32322371006011963, 0.4710461497306824, 0.16210173070430756, 0.062346816062927246, 0.49537381529808044, 0.2799938917160034, 0.36998364329338074, 0.6297593712806702, 0.996638834476471, 0.999006450176239, 0.33767083287239075, 0.6609386205673218, 0.9958956837654114, 0.9941129684448242, 0.13721375167369843, 0.4661749601364136, 0.3958089053630829, 0.9977334141731262, 0.9675469994544983, 0.031211193650960922, 0.9985662698745728, 0.9930824637413025, 0.99631667137146, 0.9968115091323853, 0.9972144961357117, 0.9945780038833618, 0.24801373481750488, 0.751127302646637, 0.9957916736602783, 0.2039078027009964, 0.2787363529205322, 0.5163170099258423, 0.9935569763183594, 0.2144421935081482, 0.783757746219635, 0.9955782294273376, 0.9962462782859802, 0.997523307800293, 0.22098267078399658, 0.15743829309940338, 0.23046690225601196, 0.016123197972774506, 0.3736788332462311, 0.9923411011695862, 0.9903692007064819, 0.029123859480023384, 0.5549275875091553, 0.2676246464252472, 0.1479806900024414, 0.6368964314460754, 0.3625023365020752, 0.996989905834198, 0.9965980052947998, 0.9934133291244507, 0.9964857697486877, 0.9959759712219238, 0.9990265965461731, 0.47566214203834534, 0.07234404981136322, 0.08500426262617111, 0.1718171238899231, 0.19532893598079681, 0.9960078001022339, 0.3598680794239044, 0.6388669013977051, 0.9955182075500488, 0.37487417459487915, 0.2745031416416168, 0.28897523880004883, 0.06162315234541893, 0.9975083470344543, 0.9963384866714478, 0.9977275133132935, 0.21590282022953033, 0.6262611746788025, 0.0271665807813406, 0.1301136165857315, 0.9965966939926147, 0.9954448938369751, 0.9946122169494629, 0.9967589378356934, 0.9953914880752563, 0.9954487085342407, 0.5775130391120911, 0.36601153016090393, 0.056991416960954666, 0.997835099697113, 0.7225314974784851, 0.2753911018371582, 0.2765088379383087, 0.32578763365745544, 0.39696812629699707, 0.9980307221412659, 0.9993972182273865, 0.9963692426681519, 0.9954500794410706, 0.9997756481170654, 0.9992598295211792, 0.9979925751686096, 0.9983555674552917, 0.995169460773468, 0.9934455156326294, 0.9941956996917725, 0.9965029954910278, 0.9929559826850891, 0.9947471618652344, 0.515619158744812, 0.4840126633644104, 0.7507972121238708, 0.24781815707683563, 0.9993931651115417, 0.9990442395210266, 0.9971466660499573, 0.9978172779083252, 0.9967391490936279, 0.9948272109031677, 0.99803626537323, 0.9962893128395081, 0.9980538487434387, 0.3348821699619293, 0.6087913513183594, 0.05534467101097107, 0.17142707109451294, 0.8282431364059448, 0.15202057361602783, 0.8474338054656982, 0.995669424533844, 0.9984561204910278, 0.9972733855247498, 0.9938828945159912, 0.49009934067726135, 0.5068548917770386, 0.33505260944366455, 0.6640952825546265, 0.7505198121070862, 0.24740585684776306, 0.992938220500946, 0.9992733597755432, 0.27320292592048645, 0.7262356281280518, 0.9986866116523743, 0.9936782717704773, 0.9973956942558289, 0.9977747797966003, 0.5291814208030701, 0.4690121114253998, 0.9984393119812012, 0.9959790110588074, 0.9995733499526978, 0.9932442903518677, 0.1718076467514038, 0.1812649518251419, 0.630486786365509, 0.015762168914079666, 0.17853683233261108, 0.34458127617836, 0.04996949061751366, 0.2134113758802414, 0.2134113758802414, 0.9948412179946899, 0.9973648190498352, 0.52487713098526, 0.47310352325439453, 0.9984274506568909, 0.9985377192497253, 0.25407615303993225, 0.7452144026756287, 0.2030029445886612, 0.7965938448905945, 0.17652922868728638, 0.8207060694694519, 0.19341719150543213, 0.8061402440071106, 0.9969756603240967, 0.3796435296535492, 0.6202176213264465, 0.9972023963928223, 0.9989999532699585, 0.9969678521156311, 0.9972938895225525, 0.9927297234535217, 0.21010901033878326, 0.6176480650901794, 0.17207203805446625, 0.711313009262085, 0.28739920258522034, 0.6625463366508484, 0.24165822565555573, 0.09666328877210617, 0.9967122077941895, 0.9959473609924316, 0.9933157563209534, 0.9959251880645752, 0.9946481585502625, 0.7738834023475647, 0.22420920431613922, 0.5437138676643372, 0.4553338289260864, 0.9934459328651428, 0.997424304485321, 0.8546508550643921, 0.14295977354049683, 0.9989529252052307, 0.9989148378372192, 0.9983915686607361, 0.9981616735458374, 0.9983904361724854, 0.9954860210418701, 0.9991919994354248, 0.9972828030586243, 0.9960237145423889, 0.9989479780197144, 0.9969871640205383, 0.9963067173957825, 0.8036825656890869, 0.1952608972787857, 0.9933390617370605, 0.9988954663276672, 0.9974636435508728, 0.22914156317710876, 0.7703199982643127, 0.36163803935050964, 0.6351847648620605, 0.20462431013584137, 0.3537077307701111, 0.441403865814209, 0.2540585696697235, 0.7428451776504517, 0.996147096157074, 0.9947805404663086, 0.5785416960716248, 0.4191698133945465, 0.9967791438102722, 0.9979645013809204, 0.9985396862030029, 0.013471751473844051, 0.8823997378349304, 0.10552871972322464, 0.995983898639679, 0.762249767780304, 0.2352343499660492, 0.9958723783493042, 0.9901967644691467, 0.1150503158569336, 0.8805773854255676, 0.9947571754455566, 0.9987285137176514, 0.9988594651222229, 0.9975513815879822, 0.9963881969451904, 0.9932842254638672, 0.14923086762428284, 0.850615918636322, 0.9981473684310913, 0.73565274477005, 0.2636885344982147, 0.9971210956573486, 0.9971862435340881, 0.9981295466423035, 0.40846186876296997, 0.5906867980957031, 0.5690350532531738, 0.21775349974632263, 0.21159066259860992, 0.1922776699066162, 0.23107053339481354, 0.5768330097198486, 0.2218104898929596, 0.09540235996246338, 0.5414084196090698, 0.14191101491451263, 0.08971485495567322, 0.4182092547416687, 0.1435437649488449, 0.3491978049278259], \"Term\": [\"abuse\", \"abuse\", \"access\", \"action\", \"afghan\", \"afghanistan\", \"afghanistan\", \"afghanistan\", \"agent\", \"ahmadinejad\", \"allow\", \"allow\", \"allow\", \"america\", \"american\", \"american\", \"american\", \"american\", \"arabia\", \"arrest\", \"arrest\", \"assange\", \"attack\", \"attack\", \"b'iran\", \"b'israel\", \"b'israel\", \"b'israeli\", \"b'north\", \"b'russia\", \"b'the\", \"b'the\", \"b'the\", \"b'the\", \"b'the\", \"banks\", \"beat\", \"become\", \"become\", \"become\", \"billion\", \"blair\", \"blame\", \"body\", \"bomb\", \"bomber\", \"bombing\", \"bombing\", \"boycott\", \"british\", \"british\", \"british\", \"british\", \"british\", \"build\", \"cable\", \"call\", \"call\", \"call\", \"catholic\", \"change\", \"child\", \"child\", \"child\", \"china\", \"china\", \"china\", \"china\", \"chinese\", \"chinese\", \"chinese\", \"chinese\", \"christian\", \"church\", \"church\", \"civil\", \"convict\", \"could\", \"could\", \"could\", \"could\", \"country\", \"country\", \"country\", \"country\", \"court\", \"court\", \"crash\", \"crime\", \"crisis\", \"crisis\", \"daughter\", \"david\", \"death\", \"death\", \"death\", \"discover\", \"document\", \"document\", \"dollar\", \"drone\", \"earth\", \"earthquake\", \"economy\", \"egyptian\", \"election\", \"election\", \"energy\", \"europe\", \"europe\", \"europe\", \"expose\", \"family\", \"family\", \"farmer\", \"female\", \"financial\", \"first\", \"first\", \"first\", \"first\", \"first\", \"flight\", \"footage\", \"force\", \"force\", \"force\", \"force\", \"found\", \"found\", \"freedom\", \"friend\", \"fukushima\", \"future\", \"gaddafi\", \"georgia\", \"german\", \"german\", \"german\", \"german\", \"german\", \"girl\", \"global\", \"global\", \"google\", \"government\", \"government\", \"government\", \"government\", \"great\", \"greece\", \"greek\", \"group\", \"group\", \"group\", \"group\", \"gunman\", \"hack\", \"haiti\", \"hamas\", \"happen\", \"health\", \"human\", \"human\", \"human\", \"iceland\", \"illegal\", \"illegal\", \"india\", \"india\", \"india\", \"information\", \"internet\", \"iraqi\", \"islamist\", \"israel\", \"israeli\", \"jail\", \"japan\", \"japanese\", \"jazeera\", \"jerusalem\", \"jewish\", \"judge\", \"kidnap\", \"kill\", \"kill\", \"killing\", \"killing\", \"korea\", \"korean\", \"laden\", \"large\", \"libya\", \"market\", \"massacre\", \"mexican\", \"mexico\", \"military\", \"military\", \"military\", \"million\", \"million\", \"minister\", \"minister\", \"miss\", \"missile\", \"money\", \"mumbai\", \"murder\", \"murder\", \"muslim\", \"muslim\", \"nation\", \"nation\", \"nobel\", \"north\", \"nuclear\", \"nuclear\", \"obama\", \"occupy\", \"officer\", \"online\", \"order\", \"order\", \"pakistan\", \"pakistani\", \"palestinian\", \"parent\", \"party\", \"party\", \"party\", \"party\", \"people\", \"people\", \"people\", \"people\", \"people\", \"percent\", \"phone\", \"pirate\", \"pirate\", \"plane\", \"plant\", \"police\", \"police\", \"political\", \"political\", \"population\", \"population\", \"power\", \"power\", \"prepare\", \"president\", \"president\", \"price\", \"prime\", \"prison\", \"prisoner\", \"prize\", \"protest\", \"protest\", \"protest\", \"protester\", \"protester\", \"public\", \"public\", \"public\", \"putin\", \"qaeda\", \"question\", \"regime\", \"reporter\", \"reveal\", \"reveal\", \"right\", \"right\", \"riot\", \"rocket\", \"rule\", \"rule\", \"russia\", \"russian\", \"saudi\", \"scandal\", \"school\", \"scientist\", \"secret\", \"sentence\", \"service\", \"settlement\", \"settler\", \"social\", \"soldier\", \"soldier\", \"somalia\", \"south\", \"spread\", \"state\", \"state\", \"still\", \"still\", \"strike\", \"strike\", \"strike\", \"student\", \"student\", \"suicide\", \"surveillance\", \"take\", \"take\", \"taliban\", \"talks\", \"think\", \"thousand\", \"thousand\", \"thousand\", \"throw\", \"torture\", \"torture\", \"trial\", \"truth\", \"turn\", \"turn\", \"ukraine\", \"unite\", \"video\", \"village\", \"violence\", \"vote\", \"warn\", \"warn\", \"water\", \"weapon\", \"weapon\", \"website\", \"white\", \"wikileaks\", \"woman\", \"woman\", \"worker\", \"worker\", \"worker\", \"world\", \"world\", \"world\", \"would\", \"would\", \"would\", \"would\", \"years\", \"years\", \"years\", \"years\"]}, \"R\": 30, \"lambda.step\": 0.01, \"plot.opts\": {\"xlab\": \"PC1\", \"ylab\": \"PC2\"}, \"topic.order\": [1, 2, 3, 4, 5]};\n",
       "\n",
       "function LDAvis_load_lib(url, callback){\n",
       "  var s = document.createElement('script');\n",
       "  s.src = url;\n",
       "  s.async = true;\n",
       "  s.onreadystatechange = s.onload = callback;\n",
       "  s.onerror = function(){console.warn(\"failed to load library \" + url);};\n",
       "  document.getElementsByTagName(\"head\")[0].appendChild(s);\n",
       "}\n",
       "\n",
       "if(typeof(LDAvis) !== \"undefined\"){\n",
       "   // already loaded: just create the visualization\n",
       "   !function(LDAvis){\n",
       "       new LDAvis(\"#\" + \"ldavis_el1298028655210194245169506630\", ldavis_el1298028655210194245169506630_data);\n",
       "   }(LDAvis);\n",
       "}else if(typeof define === \"function\" && define.amd){\n",
       "   // require.js is available: use it to load d3/LDAvis\n",
       "   require.config({paths: {d3: \"https://cdnjs.cloudflare.com/ajax/libs/d3/3.5.5/d3.min\"}});\n",
       "   require([\"d3\"], function(d3){\n",
       "      window.d3 = d3;\n",
       "      LDAvis_load_lib(\"https://cdn.rawgit.com/bmabey/pyLDAvis/files/ldavis.v1.0.0.js\", function(){\n",
       "        new LDAvis(\"#\" + \"ldavis_el1298028655210194245169506630\", ldavis_el1298028655210194245169506630_data);\n",
       "      });\n",
       "    });\n",
       "}else{\n",
       "    // require.js not available: dynamically load d3 & LDAvis\n",
       "    LDAvis_load_lib(\"https://cdnjs.cloudflare.com/ajax/libs/d3/3.5.5/d3.min.js\", function(){\n",
       "         LDAvis_load_lib(\"https://cdn.rawgit.com/bmabey/pyLDAvis/files/ldavis.v1.0.0.js\", function(){\n",
       "                 new LDAvis(\"#\" + \"ldavis_el1298028655210194245169506630\", ldavis_el1298028655210194245169506630_data);\n",
       "            })\n",
       "         });\n",
       "}\n",
       "</script>"
      ],
      "text/plain": [
       "<IPython.core.display.HTML object>"
      ]
     },
     "execution_count": 47,
     "metadata": {},
     "output_type": "execute_result"
    }
   ],
   "source": [
    "import pyLDAvis.gensim\n",
    "lda_display = pyLDAvis.gensim.prepare(lda, corpus, dictionary, sort_topics=False)\n",
    "pyLDAvis.display(lda_display)"
   ]
  },
  {
   "cell_type": "code",
   "execution_count": null,
   "metadata": {},
   "outputs": [],
   "source": []
  },
  {
   "cell_type": "code",
   "execution_count": 50,
   "metadata": {},
   "outputs": [
    {
     "name": "stderr",
     "output_type": "stream",
     "text": [
      "C:\\Users\\Ed\\Anaconda3\\envs\\nlp\\lib\\site-packages\\pyLDAvis\\_prepare.py:257: FutureWarning: Sorting because non-concatenation axis is not aligned. A future version\n",
      "of pandas will change to not sort by default.\n",
      "\n",
      "To accept the future behavior, pass 'sort=False'.\n",
      "\n",
      "To retain the current behavior and silence the warning, pass 'sort=True'.\n",
      "\n",
      "  return pd.concat([default_term_info] + list(topic_dfs))\n"
     ]
    },
    {
     "data": {
      "text/html": [
       "\n",
       "<link rel=\"stylesheet\" type=\"text/css\" href=\"https://cdn.rawgit.com/bmabey/pyLDAvis/files/ldavis.v1.0.0.css\">\n",
       "\n",
       "\n",
       "<div id=\"ldavis_el1298028657015056885352168030\"></div>\n",
       "<script type=\"text/javascript\">\n",
       "\n",
       "var ldavis_el1298028657015056885352168030_data = {\"mdsDat\": {\"x\": [0.08084473676304568, -0.25510203062466824, 0.17425729386162264], \"y\": [-0.23187127110340142, 0.05044653071732142, 0.18142474038608], \"topics\": [1, 2, 3], \"cluster\": [1, 1, 1], \"Freq\": [33.85965347290039, 29.759109497070312, 36.38124084472656]}, \"tinfo\": {\"Category\": [\"Default\", \"Default\", \"Default\", \"Default\", \"Default\", \"Default\", \"Default\", \"Default\", \"Default\", \"Default\", \"Default\", \"Default\", \"Default\", \"Default\", \"Default\", \"Default\", \"Default\", \"Default\", \"Default\", \"Default\", \"Default\", \"Default\", \"Default\", \"Default\", \"Default\", \"Default\", \"Default\", \"Default\", \"Default\", \"Default\", \"Topic1\", \"Topic1\", \"Topic1\", \"Topic1\", \"Topic1\", \"Topic1\", \"Topic1\", \"Topic1\", \"Topic1\", \"Topic1\", \"Topic1\", \"Topic1\", \"Topic1\", \"Topic1\", \"Topic1\", \"Topic1\", \"Topic1\", \"Topic1\", \"Topic1\", \"Topic1\", \"Topic1\", \"Topic1\", \"Topic1\", \"Topic1\", \"Topic1\", \"Topic1\", \"Topic1\", \"Topic1\", \"Topic1\", \"Topic1\", \"Topic1\", \"Topic1\", \"Topic1\", \"Topic1\", \"Topic1\", \"Topic1\", \"Topic1\", \"Topic1\", \"Topic1\", \"Topic1\", \"Topic1\", \"Topic1\", \"Topic1\", \"Topic1\", \"Topic1\", \"Topic2\", \"Topic2\", \"Topic2\", \"Topic2\", \"Topic2\", \"Topic2\", \"Topic2\", \"Topic2\", \"Topic2\", \"Topic2\", \"Topic2\", \"Topic2\", \"Topic2\", \"Topic2\", \"Topic2\", \"Topic2\", \"Topic2\", \"Topic2\", \"Topic2\", \"Topic2\", \"Topic2\", \"Topic2\", \"Topic2\", \"Topic2\", \"Topic2\", \"Topic2\", \"Topic2\", \"Topic2\", \"Topic2\", \"Topic2\", \"Topic2\", \"Topic2\", \"Topic2\", \"Topic2\", \"Topic2\", \"Topic2\", \"Topic2\", \"Topic2\", \"Topic2\", \"Topic2\", \"Topic3\", \"Topic3\", \"Topic3\", \"Topic3\", \"Topic3\", \"Topic3\", \"Topic3\", \"Topic3\", \"Topic3\", \"Topic3\", \"Topic3\", \"Topic3\", \"Topic3\", \"Topic3\", \"Topic3\", \"Topic3\", \"Topic3\", \"Topic3\", \"Topic3\", \"Topic3\", \"Topic3\", \"Topic3\", \"Topic3\", \"Topic3\", \"Topic3\", \"Topic3\", \"Topic3\", \"Topic3\", \"Topic3\", \"Topic3\", \"Topic3\", \"Topic3\", \"Topic3\", \"Topic3\", \"Topic3\", \"Topic3\", \"Topic3\", \"Topic3\", \"Topic3\", \"Topic3\", \"Topic3\", \"Topic3\", \"Topic3\", \"Topic3\"], \"Freq\": [2268.0, 2388.0, 1797.0, 1695.0, 1655.0, 1326.0, 1299.0, 1150.0, 1114.0, 1170.0, 1035.0, 1137.0, 998.0, 996.0, 1024.0, 845.0, 822.0, 901.0, 763.0, 1641.0, 769.0, 680.0, 1757.0, 1416.0, 725.0, 1616.0, 701.0, 1452.0, 648.0, 574.0, 2267.738525390625, 1694.7772216796875, 1170.0682373046875, 1137.177978515625, 996.2034301757812, 998.009765625, 901.0548706054688, 768.2874145507812, 724.4313354492188, 647.2255249023438, 583.1100463867188, 522.59326171875, 520.9104614257812, 532.435302734375, 527.7725219726562, 484.7145690917969, 477.1094665527344, 487.4449157714844, 494.7377014160156, 504.9024353027344, 440.5889587402344, 444.5578918457031, 428.9056396484375, 404.7545471191406, 392.2434997558594, 380.6801452636719, 418.8564147949219, 408.7921142578125, 382.1225280761719, 342.18408203125, 438.9417419433594, 421.68023681640625, 443.29815673828125, 1102.036376953125, 1209.771484375, 946.3049926757812, 890.0718994140625, 647.055908203125, 1005.4542846679688, 806.8433227539062, 502.7902526855469, 537.971923828125, 482.26220703125, 515.6132202148438, 487.5313720703125, 1796.8271484375, 1325.443359375, 1298.44677734375, 1149.8846435546875, 1113.78662109375, 1034.2508544921875, 821.8499145507812, 762.7810668945312, 844.8047485351562, 679.3117065429688, 574.2320556640625, 489.2896728515625, 497.90936279296875, 533.3909912109375, 497.04351806640625, 462.1341247558594, 466.0887451171875, 424.2031555175781, 454.38934326171875, 420.821533203125, 366.5339050292969, 356.576416015625, 391.3461608886719, 299.6120910644531, 307.0206298828125, 302.12738037109375, 280.9244689941406, 260.0159912109375, 248.74024963378906, 265.2421875, 260.8206481933594, 370.58843994140625, 678.77978515625, 466.63360595703125, 519.54541015625, 852.8170166015625, 938.5037841796875, 808.9662475585938, 545.1528930664062, 431.2601318359375, 2387.94384765625, 1654.857421875, 1023.4664916992188, 700.7525634765625, 618.4493408203125, 603.9630126953125, 628.7899780273438, 648.3789672851562, 540.1067504882812, 498.56072998046875, 522.5385131835938, 490.3358154296875, 580.7059326171875, 478.87835693359375, 482.6306457519531, 442.77532958984375, 380.2579040527344, 411.2802734375, 364.1976623535156, 337.33697509765625, 321.9969482421875, 320.0890808105469, 309.1479187011719, 332.71160888671875, 315.3864440917969, 285.1454162597656, 289.2797546386719, 303.34466552734375, 278.27044677734375, 270.81011962890625, 285.67999267578125, 396.2492370605469, 1323.0504150390625, 591.2181396484375, 630.1141357421875, 1083.9083251953125, 663.910888671875, 488.4707946777344, 648.6911010742188, 550.1509399414062, 668.9219970703125, 599.2894287109375, 429.9537353515625, 388.8750305175781], \"Term\": [\"israel\", \"world\", \"police\", \"israeli\", \"china\", \"woman\", \"child\", \"death\", \"protest\", \"president\", \"korea\", \"palestinian\", \"russia\", \"military\", \"million\", \"south\", \"north\", \"minister\", \"found\", \"attack\", \"afghanistan\", \"muslim\", \"country\", \"state\", \"russian\", \"kill\", \"internet\", \"years\", \"strike\", \"protester\", \"israel\", \"israeli\", \"president\", \"palestinian\", \"military\", \"russia\", \"minister\", \"afghanistan\", \"russian\", \"strike\", \"troops\", \"wikileaks\", \"election\", \"security\", \"b'israel\", \"weapon\", \"civilian\", \"iranian\", \"pirate\", \"afghan\", \"prime\", \"missile\", \"saudi\", \"peace\", \"obama\", \"syria\", \"terrorist\", \"taliban\", \"chief\", \"hamas\", \"border\", \"georgia\", \"b'israeli\", \"state\", \"attack\", \"right\", \"force\", \"pakistan\", \"government\", \"kill\", \"american\", \"report\", \"soldier\", \"nuclear\", \"official\", \"police\", \"woman\", \"child\", \"death\", \"protest\", \"korea\", \"north\", \"found\", \"south\", \"muslim\", \"protester\", \"murder\", \"school\", \"family\", \"mexico\", \"abuse\", \"prison\", \"sentence\", \"thousand\", \"victim\", \"korean\", \"student\", \"street\", \"church\", \"jail\", \"london\", \"young\", \"christian\", \"rape\", \"photo\", \"egyptian\", \"officer\", \"arrest\", \"charge\", \"video\", \"years\", \"people\", \"kill\", \"court\", \"attack\", \"world\", \"china\", \"million\", \"internet\", \"billion\", \"japan\", \"crisis\", \"become\", \"europe\", \"global\", \"canada\", \"water\", \"germany\", \"change\", \"large\", \"company\", \"economy\", \"money\", \"record\", \"plant\", \"financial\", \"population\", \"economic\", \"drug\", \"collapse\", \"banks\", \"dollar\", \"history\", \"health\", \"big\", \"problem\", \"system\", \"country\", \"power\", \"could\", \"government\", \"first\", \"india\", \"b'the\", \"nuclear\", \"people\", \"years\", \"would\", \"european\"], \"Total\": [2268.0, 2388.0, 1797.0, 1695.0, 1655.0, 1326.0, 1299.0, 1150.0, 1114.0, 1170.0, 1035.0, 1137.0, 998.0, 996.0, 1024.0, 845.0, 822.0, 901.0, 763.0, 1641.0, 769.0, 680.0, 1757.0, 1416.0, 725.0, 1616.0, 701.0, 1452.0, 648.0, 574.0, 2268.505126953125, 1695.55615234375, 1170.846435546875, 1137.9395751953125, 996.9757080078125, 998.7869262695312, 901.8379516601562, 769.0973510742188, 725.21337890625, 648.0115966796875, 583.8719482421875, 523.3595581054688, 521.6987915039062, 533.2476806640625, 528.6263427734375, 485.5115051269531, 477.90142822265625, 488.2576904296875, 495.5653076171875, 505.7625732421875, 441.34869384765625, 445.32501220703125, 429.7004089355469, 405.5179748535156, 392.9964904785156, 381.41473388671875, 419.6728515625, 409.5928955078125, 382.92474365234375, 342.9349670410156, 440.03118896484375, 422.6362609863281, 444.5747985839844, 1416.5849609375, 1641.4359130859375, 1337.2135009765625, 1235.569580078125, 801.1286010742188, 2114.60400390625, 1616.2135009765625, 742.623291015625, 1068.5927734375, 707.2772827148438, 1066.122314453125, 843.5587158203125, 1797.5755615234375, 1326.1878662109375, 1299.2071533203125, 1150.667724609375, 1114.5753173828125, 1035.0120849609375, 822.61279296875, 763.5657958984375, 845.6923828125, 680.0811767578125, 574.9989013671875, 490.03985595703125, 498.6757507324219, 534.215576171875, 497.82635498046875, 462.8858642578125, 466.8498840332031, 424.938720703125, 455.1795959472656, 421.58636474609375, 367.2853698730469, 357.31512451171875, 392.15753173828125, 300.33905029296875, 307.76776123046875, 302.922607421875, 281.7001953125, 260.76019287109375, 249.46401977539062, 266.0191345214844, 261.6842956542969, 404.14349365234375, 961.1741333007812, 576.0731811523438, 695.1765747070312, 1452.51513671875, 1922.9561767578125, 1616.2135009765625, 867.9515380859375, 1641.4359130859375, 2388.67333984375, 1655.5845947265625, 1024.203857421875, 701.4650268554688, 619.1400146484375, 604.6602172851562, 629.5256958007812, 649.1615600585938, 540.8370971679688, 499.24481201171875, 523.2782592773438, 491.07208251953125, 581.59228515625, 479.6241760253906, 483.3883972167969, 443.47265625, 380.94561767578125, 412.0332946777344, 364.9381408691406, 338.0329895019531, 322.6941833496094, 320.7994689941406, 309.84320068359375, 333.46112060546875, 316.1321716308594, 285.828857421875, 289.99871826171875, 304.12420654296875, 278.99029541015625, 271.5203857421875, 286.44757080078125, 421.8045654296875, 1757.527587890625, 687.5444946289062, 886.791259765625, 2114.60400390625, 1039.807373046875, 731.887939453125, 1364.415283203125, 1066.122314453125, 1922.9561767578125, 1452.51513671875, 814.2566528320312, 568.8946533203125], \"loglift\": [30.0, 29.0, 28.0, 27.0, 26.0, 25.0, 24.0, 23.0, 22.0, 21.0, 20.0, 19.0, 18.0, 17.0, 16.0, 15.0, 14.0, 13.0, 12.0, 11.0, 10.0, 9.0, 8.0, 7.0, 6.0, 5.0, 4.0, 3.0, 2.0, 1.0, 1.0825999975204468, 1.0824999809265137, 1.0822999477386475, 1.0822999477386475, 1.082200050354004, 1.082200050354004, 1.0821000337600708, 1.0819000005722046, 1.0819000005722046, 1.0816999673843384, 1.0815999507904053, 1.0815000534057617, 1.0814000368118286, 1.0814000368118286, 1.0813000202178955, 1.0813000202178955, 1.0813000202178955, 1.0813000202178955, 1.0813000202178955, 1.0812000036239624, 1.0812000036239624, 1.0812000036239624, 1.0810999870300293, 1.0810999870300293, 1.0809999704360962, 1.0809999704360962, 1.0809999704360962, 1.0809999704360962, 1.0808000564575195, 1.0808000564575195, 1.0805000066757202, 1.0807000398635864, 1.0801000595092773, 0.8319000005722046, 0.7778000235557556, 0.7372000217437744, 0.7549999952316284, 0.8694000244140625, 0.3395000100135803, 0.3882000148296356, 0.6929000020027161, 0.396699994802475, 0.699999988079071, 0.3564999997615814, 0.5346999764442444, 1.2115999460220337, 1.2115000486373901, 1.211400032043457, 1.211400032043457, 1.211300015449524, 1.211300015449524, 1.2110999822616577, 1.2109999656677246, 1.2109999656677246, 1.2108999490737915, 1.2107000350952148, 1.2105000019073486, 1.2105000019073486, 1.2105000019073486, 1.2105000019073486, 1.2103999853134155, 1.2103999853134155, 1.2102999687194824, 1.2102999687194824, 1.2101999521255493, 1.2100000381469727, 1.2100000381469727, 1.2100000381469727, 1.2095999717712402, 1.2095999717712402, 1.2094000577926636, 1.2093000411987305, 1.2092000246047974, 1.2091000080108643, 1.2091000080108643, 1.2086999416351318, 1.1253999471664429, 0.8641999959945679, 1.0012999773025513, 0.920799970626831, 0.6794999837875366, 0.49470001459121704, 0.5199999809265137, 0.746999979019165, -0.12460000067949295, 1.0108000040054321, 1.010699987411499, 1.0104000568389893, 1.01010000705719, 1.0099999904632568, 1.0099999904632568, 1.0098999738693237, 1.0098999738693237, 1.0097999572753906, 1.0096999406814575, 1.0096999406814575, 1.009600043296814, 1.009600043296814, 1.009600043296814, 1.0095000267028809, 1.0095000267028809, 1.0092999935150146, 1.0092999935150146, 1.0090999603271484, 1.0090999603271484, 1.0089999437332153, 1.0089000463485718, 1.0089000463485718, 1.0089000463485718, 1.0088000297546387, 1.0087000131607056, 1.0085999965667725, 1.0085999965667725, 1.0084999799728394, 1.0084999799728394, 1.0083999633789062, 0.9485999941825867, 0.7271000146865845, 0.8601999878883362, 0.6693999767303467, 0.34279999136924744, 0.5625, 0.6068000197410583, 0.26759999990463257, 0.34950000047683716, -0.04479999840259552, 0.1257999986410141, 0.3725000023841858, 0.6306999921798706], \"logprob\": [30.0, 29.0, 28.0, 27.0, 26.0, 25.0, 24.0, 23.0, 22.0, 21.0, 20.0, 19.0, 18.0, 17.0, 16.0, 15.0, 14.0, 13.0, 12.0, 11.0, 10.0, 9.0, 8.0, 7.0, 6.0, 5.0, 4.0, 3.0, 2.0, 1.0, -4.212800025939941, -4.504000186920166, -4.874499797821045, -4.9029998779296875, -5.035399913787842, -5.033599853515625, -5.135799884796143, -5.295199871063232, -5.353899955749512, -5.466599941253662, -5.571000099182129, -5.680500030517578, -5.683800220489502, -5.661900043487549, -5.6707000732421875, -5.755799770355225, -5.771599769592285, -5.750199794769287, -5.735300064086914, -5.715000152587891, -5.851200103759766, -5.842299938201904, -5.8780999183654785, -5.936100006103516, -5.96750020980835, -5.997399806976318, -5.901800155639648, -5.92609977722168, -5.993599891662598, -6.104000091552734, -5.855000019073486, -5.895100116729736, -5.845099925994873, -4.9344000816345215, -4.841100215911865, -5.0868000984191895, -5.1479997634887695, -5.466899871826172, -5.026100158691406, -5.246200084686279, -5.719200134277344, -5.651500225067139, -5.760799884796143, -5.693999767303467, -5.75, -4.316500186920166, -4.620699882507324, -4.641300201416016, -4.762800216674805, -4.7947001457214355, -4.868800163269043, -5.098700046539307, -5.173299789428711, -5.071100234985352, -5.2891998291015625, -5.457200050354004, -5.617300033569336, -5.599800109863281, -5.531000137329102, -5.601600170135498, -5.6743998527526855, -5.665900230407715, -5.760000228881836, -5.691299915313721, -5.76800012588501, -5.906199932098389, -5.933700084686279, -5.840700149536133, -6.107800006866455, -6.0833001136779785, -6.099400043487549, -6.1722002029418945, -6.249499797821045, -6.293799877166748, -6.229599952697754, -6.246399879455566, -5.895199775695801, -5.289899826049805, -5.664700031280518, -5.557300090789795, -5.061699867248535, -4.966000080108643, -5.114500045776367, -5.509200096130371, -5.743500232696533, -4.232999801635742, -4.599699974060059, -5.0802001953125, -5.459000110626221, -5.583899974822998, -5.607699871063232, -5.567399978637695, -5.5366997718811035, -5.719399929046631, -5.7993998527526855, -5.752500057220459, -5.816100120544434, -5.646900177001953, -5.839700222015381, -5.831900119781494, -5.918099880218506, -6.070300102233887, -5.9918999671936035, -6.113500118255615, -6.190100193023682, -6.236599922180176, -6.242599964141846, -6.277299880981445, -6.20389986038208, -6.257400035858154, -6.3582000732421875, -6.343800067901611, -6.296299934387207, -6.382599830627441, -6.4096999168396, -6.356299877166748, -6.029099941253662, -4.823500156402588, -5.629000186920166, -5.565299987792969, -5.022799968719482, -5.513000011444092, -5.819900035858154, -5.536200046539307, -5.701000213623047, -5.505499839782715, -5.6153998374938965, -5.947500228881836, -6.047900199890137]}, \"token.table\": {\"Topic\": [2, 1, 1, 1, 3, 1, 2, 1, 2, 1, 1, 2, 1, 2, 3, 3, 3, 3, 3, 1, 2, 3, 3, 1, 2, 1, 2, 3, 2, 2, 1, 3, 3, 1, 2, 3, 1, 3, 1, 2, 3, 3, 2, 3, 3, 3, 3, 2, 1, 3, 1, 3, 2, 3, 1, 2, 3, 1, 2, 2, 1, 3, 1, 3, 3, 1, 2, 3, 1, 3, 3, 2, 3, 3, 1, 1, 1, 2, 3, 1, 2, 2, 2, 3, 2, 2, 1, 3, 1, 1, 3, 2, 2, 2, 1, 3, 1, 1, 2, 1, 2, 3, 1, 2, 1, 1, 1, 2, 3, 2, 1, 3, 2, 3, 1, 3, 1, 1, 2, 3, 2, 2, 2, 3, 1, 2, 3, 1, 2, 3, 1, 1, 1, 2, 1, 2, 1, 2, 2, 1, 3, 2, 1, 2, 1, 1, 3, 1, 1, 2, 1, 2, 1, 2, 3, 1, 1, 2, 3, 1, 3, 2, 3, 2], \"Freq\": [0.9980862140655518, 0.9984922409057617, 0.9985731840133667, 0.6773285865783691, 0.3218320906162262, 0.2933911681175232, 0.7064276933670044, 0.7371594309806824, 0.2625749707221985, 0.9988151788711548, 0.9964577555656433, 0.002249340293928981, 0.2777746617794037, 0.24699224531650543, 0.47566163539886475, 0.9971001744270325, 0.9982106685638428, 0.9980834126472473, 0.9981586933135986, 0.9976565837860107, 0.002272566081956029, 0.9994682669639587, 0.9986985921859741, 0.18921206891536713, 0.8106608986854553, 0.9975850582122803, 0.9990708827972412, 0.9996469020843506, 0.9970846772193909, 0.9988710880279541, 0.998113751411438, 0.9964186549186707, 0.9989342093467712, 0.19170238077640533, 0.0981065183877945, 0.7104265093803406, 0.2469377964735031, 0.7527620196342468, 0.36753204464912415, 0.6279152631759644, 0.004608552437275648, 0.9991649389266968, 0.9994196891784668, 0.9965561032295227, 0.9986171722412109, 0.99727863073349, 0.9975177049636841, 0.9973850250244141, 0.9986605644226074, 0.9984522461891174, 0.31640303134918213, 0.683782160282135, 0.9977245330810547, 0.9978488087654114, 0.20003704726696014, 0.16060666739940643, 0.638579785823822, 0.7203155755996704, 0.2792234420776367, 0.9992589950561523, 0.998494565486908, 0.0023661009036004543, 0.0017194176325574517, 0.9989815950393677, 0.9995096325874329, 0.4752662777900696, 0.01182254496961832, 0.512625515460968, 0.9972736239433289, 0.9964504241943359, 0.9963034391403198, 0.33201804757118225, 0.6667687296867371, 0.9993370771408081, 0.9974241256713867, 0.9997773170471191, 0.999671995639801, 0.9975053668022156, 0.9989081025123596, 0.4993152320384979, 0.5005526542663574, 0.9990221261978149, 0.9992230534553528, 0.9991965293884277, 0.9969543218612671, 0.9983400702476501, 0.9990213513374329, 0.9988245964050293, 0.9990708231925964, 0.9992701411247253, 0.9974921941757202, 0.9978780150413513, 0.9984102249145508, 0.9992550611495972, 0.4839969873428345, 0.5158882737159729, 0.9974643588066101, 0.08165416866540909, 0.9179908037185669, 0.5785015225410461, 0.24301806092262268, 0.1790035516023636, 0.8076106905937195, 0.19222880899906158, 0.9991742968559265, 0.9987226724624634, 0.16433031857013702, 0.48831066489219666, 0.347901850938797, 0.9961689710617065, 0.9988592863082886, 0.9969441294670105, 0.9996798038482666, 0.9975078701972961, 0.13962732255458832, 0.8595807552337646, 0.9992770552635193, 0.9992099404335022, 0.99817955493927, 0.9984375238418579, 0.9994838237762451, 0.9982627630233765, 0.9981399178504944, 0.9974293112754822, 0.5034658908843994, 0.17031745612621307, 0.32566195726394653, 0.7074412703514099, 0.2138775885105133, 0.0785214900970459, 0.9992121458053589, 0.99832683801651, 0.9983699917793274, 0.9986448884010315, 0.997660219669342, 0.9977909326553345, 0.6814866065979004, 0.3181213438510895, 0.9991812705993652, 0.7779272198677063, 0.2216598391532898, 0.9970483183860779, 0.9984388947486877, 0.9991180896759033, 0.9989126324653625, 0.05926915630698204, 0.938823401927948, 0.9985525012016296, 0.9983966946601868, 0.9974085092544556, 0.9985066056251526, 0.9986091256141663, 0.2517346143722534, 0.7480114102363586, 0.9978168606758118, 0.998946487903595, 0.9993129968643188, 0.9991043210029602, 0.9997181296348572, 0.47159576416015625, 0.5280890464782715, 0.5872572064399719, 0.4123881161212921, 0.9975143671035767], \"Term\": [\"abuse\", \"afghan\", \"afghanistan\", \"american\", \"american\", \"arrest\", \"arrest\", \"attack\", \"attack\", \"b'israel\", \"b'israeli\", \"b'israeli\", \"b'the\", \"b'the\", \"b'the\", \"banks\", \"become\", \"big\", \"billion\", \"border\", \"border\", \"canada\", \"change\", \"charge\", \"charge\", \"chief\", \"child\", \"china\", \"christian\", \"church\", \"civilian\", \"collapse\", \"company\", \"could\", \"could\", \"could\", \"country\", \"country\", \"court\", \"court\", \"court\", \"crisis\", \"death\", \"dollar\", \"drug\", \"economic\", \"economy\", \"egyptian\", \"election\", \"europe\", \"european\", \"european\", \"family\", \"financial\", \"first\", \"first\", \"first\", \"force\", \"force\", \"found\", \"georgia\", \"georgia\", \"germany\", \"germany\", \"global\", \"government\", \"government\", \"government\", \"hamas\", \"health\", \"history\", \"india\", \"india\", \"internet\", \"iranian\", \"israel\", \"israeli\", \"jail\", \"japan\", \"kill\", \"kill\", \"korea\", \"korean\", \"large\", \"london\", \"mexico\", \"military\", \"million\", \"minister\", \"missile\", \"money\", \"murder\", \"muslim\", \"north\", \"nuclear\", \"nuclear\", \"obama\", \"officer\", \"officer\", \"official\", \"official\", \"official\", \"pakistan\", \"pakistan\", \"palestinian\", \"peace\", \"people\", \"people\", \"people\", \"photo\", \"pirate\", \"plant\", \"police\", \"population\", \"power\", \"power\", \"president\", \"prime\", \"prison\", \"problem\", \"protest\", \"protester\", \"rape\", \"record\", \"report\", \"report\", \"report\", \"right\", \"right\", \"right\", \"russia\", \"russian\", \"saudi\", \"school\", \"security\", \"sentence\", \"soldier\", \"soldier\", \"south\", \"state\", \"state\", \"street\", \"strike\", \"student\", \"syria\", \"system\", \"system\", \"taliban\", \"terrorist\", \"thousand\", \"troops\", \"victim\", \"video\", \"video\", \"water\", \"weapon\", \"wikileaks\", \"woman\", \"world\", \"would\", \"would\", \"years\", \"years\", \"young\"]}, \"R\": 30, \"lambda.step\": 0.01, \"plot.opts\": {\"xlab\": \"PC1\", \"ylab\": \"PC2\"}, \"topic.order\": [1, 2, 3]};\n",
       "\n",
       "function LDAvis_load_lib(url, callback){\n",
       "  var s = document.createElement('script');\n",
       "  s.src = url;\n",
       "  s.async = true;\n",
       "  s.onreadystatechange = s.onload = callback;\n",
       "  s.onerror = function(){console.warn(\"failed to load library \" + url);};\n",
       "  document.getElementsByTagName(\"head\")[0].appendChild(s);\n",
       "}\n",
       "\n",
       "if(typeof(LDAvis) !== \"undefined\"){\n",
       "   // already loaded: just create the visualization\n",
       "   !function(LDAvis){\n",
       "       new LDAvis(\"#\" + \"ldavis_el1298028657015056885352168030\", ldavis_el1298028657015056885352168030_data);\n",
       "   }(LDAvis);\n",
       "}else if(typeof define === \"function\" && define.amd){\n",
       "   // require.js is available: use it to load d3/LDAvis\n",
       "   require.config({paths: {d3: \"https://cdnjs.cloudflare.com/ajax/libs/d3/3.5.5/d3.min\"}});\n",
       "   require([\"d3\"], function(d3){\n",
       "      window.d3 = d3;\n",
       "      LDAvis_load_lib(\"https://cdn.rawgit.com/bmabey/pyLDAvis/files/ldavis.v1.0.0.js\", function(){\n",
       "        new LDAvis(\"#\" + \"ldavis_el1298028657015056885352168030\", ldavis_el1298028657015056885352168030_data);\n",
       "      });\n",
       "    });\n",
       "}else{\n",
       "    // require.js not available: dynamically load d3 & LDAvis\n",
       "    LDAvis_load_lib(\"https://cdnjs.cloudflare.com/ajax/libs/d3/3.5.5/d3.min.js\", function(){\n",
       "         LDAvis_load_lib(\"https://cdn.rawgit.com/bmabey/pyLDAvis/files/ldavis.v1.0.0.js\", function(){\n",
       "                 new LDAvis(\"#\" + \"ldavis_el1298028657015056885352168030\", ldavis_el1298028657015056885352168030_data);\n",
       "            })\n",
       "         });\n",
       "}\n",
       "</script>"
      ],
      "text/plain": [
       "<IPython.core.display.HTML object>"
      ]
     },
     "execution_count": 50,
     "metadata": {},
     "output_type": "execute_result"
    }
   ],
   "source": [
    "lda3 = gensim.models.ldamodel.LdaModel.load('model3.gensim')\n",
    "lda_display3 = pyLDAvis.gensim.prepare(lda3, corpus, dictionary, sort_topics=False)\n",
    "pyLDAvis.display(lda_display3)"
   ]
  }
 ],
 "metadata": {
  "kernelspec": {
   "display_name": "Python 3",
   "language": "python",
   "name": "python3"
  },
  "language_info": {
   "codemirror_mode": {
    "name": "ipython",
    "version": 3
   },
   "file_extension": ".py",
   "mimetype": "text/x-python",
   "name": "python",
   "nbconvert_exporter": "python",
   "pygments_lexer": "ipython3",
   "version": "3.7.3"
  }
 },
 "nbformat": 4,
 "nbformat_minor": 2
}
