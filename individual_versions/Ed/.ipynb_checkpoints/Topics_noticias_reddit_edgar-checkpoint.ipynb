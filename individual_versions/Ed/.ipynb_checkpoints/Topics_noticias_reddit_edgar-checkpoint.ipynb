{
 "cells": [
  {
   "cell_type": "markdown",
   "metadata": {
    "colab_type": "text",
    "id": "view-in-github"
   },
   "source": [
    "<a href=\"https://colab.research.google.com/github/jjiguaran/text_mining/blob/master/individual_versions/Topics_noticias_reddit_edgar.ipynb\" target=\"_parent\"><img src=\"https://colab.research.google.com/assets/colab-badge.svg\" alt=\"Open In Colab\"/></a>"
   ]
  },
  {
   "cell_type": "code",
   "execution_count": 0,
   "metadata": {
    "colab": {},
    "colab_type": "code",
    "id": "g1-GFktFeJM5"
   },
   "outputs": [],
   "source": [
    "# Importar librerias\n",
    "import pandas as pd"
   ]
  },
  {
   "cell_type": "code",
   "execution_count": 0,
   "metadata": {
    "colab": {},
    "colab_type": "code",
    "id": "1UeNEB6FdahW"
   },
   "outputs": [],
   "source": [
    "#Importar los datasets\n",
    "url_reddit = 'https://raw.githubusercontent.com/jjiguaran/text_mining/master/Data/RedditNews.csv'\n",
    "url_combined = 'https://raw.githubusercontent.com/jjiguaran/text_mining/master/Data/Combined_News_DJIA.csv'\n",
    "RedditNews = pd.read_csv(url_reddit)\n",
    "CombinedNews = pd.read_csv(url_combined)\n",
    "\n",
    "\n",
    "RedditNews['Date'] =  pd.to_datetime(RedditNews['Date'], format='%Y-%m-%d')\n",
    "CombinedNews['Date'] =  pd.to_datetime(CombinedNews['Date'], format='%Y-%m-%d')\n"
   ]
  },
  {
   "cell_type": "code",
   "execution_count": 0,
   "metadata": {
    "colab": {
     "base_uri": "https://localhost:8080/",
     "height": 204
    },
    "colab_type": "code",
    "id": "zPMujle0jjTx",
    "outputId": "c24b2f5f-1af0-48e0-9be7-3ddb3b98d16c"
   },
   "outputs": [
    {
     "data": {
      "text/html": [
       "<div>\n",
       "<style scoped>\n",
       "    .dataframe tbody tr th:only-of-type {\n",
       "        vertical-align: middle;\n",
       "    }\n",
       "\n",
       "    .dataframe tbody tr th {\n",
       "        vertical-align: top;\n",
       "    }\n",
       "\n",
       "    .dataframe thead th {\n",
       "        text-align: right;\n",
       "    }\n",
       "</style>\n",
       "<table border=\"1\" class=\"dataframe\">\n",
       "  <thead>\n",
       "    <tr style=\"text-align: right;\">\n",
       "      <th></th>\n",
       "      <th>Date</th>\n",
       "      <th>News</th>\n",
       "    </tr>\n",
       "  </thead>\n",
       "  <tbody>\n",
       "    <tr>\n",
       "      <th>0</th>\n",
       "      <td>2016-07-01</td>\n",
       "      <td>A 117-year-old woman in Mexico City finally re...</td>\n",
       "    </tr>\n",
       "    <tr>\n",
       "      <th>1</th>\n",
       "      <td>2016-07-01</td>\n",
       "      <td>IMF chief backs Athens as permanent Olympic host</td>\n",
       "    </tr>\n",
       "    <tr>\n",
       "      <th>2</th>\n",
       "      <td>2016-07-01</td>\n",
       "      <td>The president of France says if Brexit won, so...</td>\n",
       "    </tr>\n",
       "    <tr>\n",
       "      <th>3</th>\n",
       "      <td>2016-07-01</td>\n",
       "      <td>British Man Who Must Give Police 24 Hours' Not...</td>\n",
       "    </tr>\n",
       "    <tr>\n",
       "      <th>4</th>\n",
       "      <td>2016-07-01</td>\n",
       "      <td>100+ Nobel laureates urge Greenpeace to stop o...</td>\n",
       "    </tr>\n",
       "  </tbody>\n",
       "</table>\n",
       "</div>"
      ],
      "text/plain": [
       "        Date                                               News\n",
       "0 2016-07-01  A 117-year-old woman in Mexico City finally re...\n",
       "1 2016-07-01   IMF chief backs Athens as permanent Olympic host\n",
       "2 2016-07-01  The president of France says if Brexit won, so...\n",
       "3 2016-07-01  British Man Who Must Give Police 24 Hours' Not...\n",
       "4 2016-07-01  100+ Nobel laureates urge Greenpeace to stop o..."
      ]
     },
     "execution_count": 3,
     "metadata": {
      "tags": []
     },
     "output_type": "execute_result"
    }
   ],
   "source": [
    "# Exploramos redditnews\n",
    "RedditNews.head()"
   ]
  },
  {
   "cell_type": "code",
   "execution_count": 0,
   "metadata": {
    "colab": {
     "base_uri": "https://localhost:8080/",
     "height": 683
    },
    "colab_type": "code",
    "id": "TSDQKqDki7ru",
    "outputId": "e489efaf-906a-4293-82fe-1ff8891730e0"
   },
   "outputs": [
    {
     "data": {
      "text/html": [
       "<div>\n",
       "<style scoped>\n",
       "    .dataframe tbody tr th:only-of-type {\n",
       "        vertical-align: middle;\n",
       "    }\n",
       "\n",
       "    .dataframe tbody tr th {\n",
       "        vertical-align: top;\n",
       "    }\n",
       "\n",
       "    .dataframe thead th {\n",
       "        text-align: right;\n",
       "    }\n",
       "</style>\n",
       "<table border=\"1\" class=\"dataframe\">\n",
       "  <thead>\n",
       "    <tr style=\"text-align: right;\">\n",
       "      <th></th>\n",
       "      <th>Date</th>\n",
       "      <th>Label</th>\n",
       "      <th>Top1</th>\n",
       "      <th>Top2</th>\n",
       "      <th>Top3</th>\n",
       "      <th>Top4</th>\n",
       "      <th>Top5</th>\n",
       "      <th>Top6</th>\n",
       "      <th>Top7</th>\n",
       "      <th>Top8</th>\n",
       "      <th>Top9</th>\n",
       "      <th>Top10</th>\n",
       "      <th>Top11</th>\n",
       "      <th>Top12</th>\n",
       "      <th>Top13</th>\n",
       "      <th>Top14</th>\n",
       "      <th>Top15</th>\n",
       "      <th>Top16</th>\n",
       "      <th>Top17</th>\n",
       "      <th>Top18</th>\n",
       "      <th>Top19</th>\n",
       "      <th>Top20</th>\n",
       "      <th>Top21</th>\n",
       "      <th>Top22</th>\n",
       "      <th>Top23</th>\n",
       "      <th>Top24</th>\n",
       "      <th>Top25</th>\n",
       "    </tr>\n",
       "  </thead>\n",
       "  <tbody>\n",
       "    <tr>\n",
       "      <th>0</th>\n",
       "      <td>2008-08-08</td>\n",
       "      <td>0</td>\n",
       "      <td>b\"Georgia 'downs two Russian warplanes' as cou...</td>\n",
       "      <td>b'BREAKING: Musharraf to be impeached.'</td>\n",
       "      <td>b'Russia Today: Columns of troops roll into So...</td>\n",
       "      <td>b'Russian tanks are moving towards the capital...</td>\n",
       "      <td>b\"Afghan children raped with 'impunity,' U.N. ...</td>\n",
       "      <td>b'150 Russian tanks have entered South Ossetia...</td>\n",
       "      <td>b\"Breaking: Georgia invades South Ossetia, Rus...</td>\n",
       "      <td>b\"The 'enemy combatent' trials are nothing but...</td>\n",
       "      <td>b'Georgian troops retreat from S. Osettain cap...</td>\n",
       "      <td>b'Did the U.S. Prep Georgia for War with Russia?'</td>\n",
       "      <td>b'Rice Gives Green Light for Israel to Attack ...</td>\n",
       "      <td>b'Announcing:Class Action Lawsuit on Behalf of...</td>\n",
       "      <td>b\"So---Russia and Georgia are at war and the N...</td>\n",
       "      <td>b\"China tells Bush to stay out of other countr...</td>\n",
       "      <td>b'Did World War III start today?'</td>\n",
       "      <td>b'Georgia Invades South Ossetia - if Russia ge...</td>\n",
       "      <td>b'Al-Qaeda Faces Islamist Backlash'</td>\n",
       "      <td>b'Condoleezza Rice: \"The US would not act to p...</td>\n",
       "      <td>b'This is a busy day:  The European Union has ...</td>\n",
       "      <td>b\"Georgia will withdraw 1,000 soldiers from Ir...</td>\n",
       "      <td>b'Why the Pentagon Thinks Attacking Iran is a ...</td>\n",
       "      <td>b'Caucasus in crisis: Georgia invades South Os...</td>\n",
       "      <td>b'Indian shoe manufactory  - And again in a se...</td>\n",
       "      <td>b'Visitors Suffering from Mental Illnesses Ban...</td>\n",
       "      <td>b\"No Help for Mexico's Kidnapping Surge\"</td>\n",
       "    </tr>\n",
       "    <tr>\n",
       "      <th>1</th>\n",
       "      <td>2008-08-11</td>\n",
       "      <td>1</td>\n",
       "      <td>b'Why wont America and Nato help us? If they w...</td>\n",
       "      <td>b'Bush puts foot down on Georgian conflict'</td>\n",
       "      <td>b\"Jewish Georgian minister: Thanks to Israeli ...</td>\n",
       "      <td>b'Georgian army flees in disarray as Russians ...</td>\n",
       "      <td>b\"Olympic opening ceremony fireworks 'faked'\"</td>\n",
       "      <td>b'What were the Mossad with fraudulent New Zea...</td>\n",
       "      <td>b'Russia angered by Israeli military sale to G...</td>\n",
       "      <td>b'An American citizen living in S.Ossetia blam...</td>\n",
       "      <td>b'Welcome To World War IV! Now In High Definit...</td>\n",
       "      <td>b\"Georgia's move, a mistake of monumental prop...</td>\n",
       "      <td>b'Russia presses deeper into Georgia; U.S. say...</td>\n",
       "      <td>b'Abhinav Bindra wins first ever Individual Ol...</td>\n",
       "      <td>b' U.S. ship heads for Arctic to define territ...</td>\n",
       "      <td>b'Drivers in a Jerusalem taxi station threaten...</td>\n",
       "      <td>b'The French Team is Stunned by Phelps and the...</td>\n",
       "      <td>b'Israel and the US behind the Georgian aggres...</td>\n",
       "      <td>b'\"Do not believe TV, neither Russian nor Geor...</td>\n",
       "      <td>b'Riots are still going on in Montreal (Canada...</td>\n",
       "      <td>b'China to overtake US as largest manufacturer'</td>\n",
       "      <td>b'War in South Ossetia [PICS]'</td>\n",
       "      <td>b'Israeli Physicians Group Condemns State Tort...</td>\n",
       "      <td>b' Russia has just beaten the United States ov...</td>\n",
       "      <td>b'Perhaps *the* question about the Georgia - R...</td>\n",
       "      <td>b'Russia is so much better at war'</td>\n",
       "      <td>b\"So this is what it's come to: trading sex fo...</td>\n",
       "    </tr>\n",
       "    <tr>\n",
       "      <th>2</th>\n",
       "      <td>2008-08-12</td>\n",
       "      <td>0</td>\n",
       "      <td>b'Remember that adorable 9-year-old who sang a...</td>\n",
       "      <td>b\"Russia 'ends Georgia operation'\"</td>\n",
       "      <td>b'\"If we had no sexual harassment we would hav...</td>\n",
       "      <td>b\"Al-Qa'eda is losing support in Iraq because ...</td>\n",
       "      <td>b'Ceasefire in Georgia: Putin Outmaneuvers the...</td>\n",
       "      <td>b'Why Microsoft and Intel tried to kill the XO...</td>\n",
       "      <td>b'Stratfor: The Russo-Georgian War and the Bal...</td>\n",
       "      <td>b\"I'm Trying to Get a Sense of This Whole Geor...</td>\n",
       "      <td>b\"The US military was surprised by the timing ...</td>\n",
       "      <td>b'U.S. Beats War Drum as Iran Dumps the Dollar'</td>\n",
       "      <td>b'Gorbachev: \"Georgian military attacked the S...</td>\n",
       "      <td>b'CNN use footage of Tskhinvali ruins to cover...</td>\n",
       "      <td>b'Beginning a war as the Olympics were opening...</td>\n",
       "      <td>b'55 pyramids as large as the Luxor stacked in...</td>\n",
       "      <td>b'The 11 Top Party Cities in the World'</td>\n",
       "      <td>b'U.S. troops still in Georgia (did you know t...</td>\n",
       "      <td>b'Why Russias response to Georgia was right'</td>\n",
       "      <td>b'Gorbachev accuses U.S. of making a \"serious ...</td>\n",
       "      <td>b'Russia, Georgia, and NATO: Cold War Two'</td>\n",
       "      <td>b'Remember that adorable 62-year-old who led y...</td>\n",
       "      <td>b'War in Georgia: The Israeli connection'</td>\n",
       "      <td>b'All signs point to the US encouraging Georgi...</td>\n",
       "      <td>b'Christopher King argues that the US and NATO...</td>\n",
       "      <td>b'America: The New Mexico?'</td>\n",
       "      <td>b\"BBC NEWS | Asia-Pacific | Extinction 'by man...</td>\n",
       "    </tr>\n",
       "    <tr>\n",
       "      <th>3</th>\n",
       "      <td>2008-08-13</td>\n",
       "      <td>0</td>\n",
       "      <td>b' U.S. refuses Israel weapons to attack Iran:...</td>\n",
       "      <td>b\"When the president ordered to attack Tskhinv...</td>\n",
       "      <td>b' Israel clears troops who killed Reuters cam...</td>\n",
       "      <td>b'Britain\\'s policy of being tough on drugs is...</td>\n",
       "      <td>b'Body of 14 year old found in trunk; Latest (...</td>\n",
       "      <td>b'China has moved 10 *million* quake survivors...</td>\n",
       "      <td>b\"Bush announces Operation Get All Up In Russi...</td>\n",
       "      <td>b'Russian forces sink Georgian ships '</td>\n",
       "      <td>b\"The commander of a Navy air reconnaissance s...</td>\n",
       "      <td>b\"92% of CNN readers: Russia's actions in Geor...</td>\n",
       "      <td>b'USA to send fleet into Black Sea to help Geo...</td>\n",
       "      <td>b\"US warns against Israeli plan to strike agai...</td>\n",
       "      <td>b\"In an intriguing cyberalliance, two Estonian...</td>\n",
       "      <td>b'The CNN Effect: Georgia Schools Russia in In...</td>\n",
       "      <td>b'Why Russias response to Georgia was right'</td>\n",
       "      <td>b'Elephants extinct by 2020?'</td>\n",
       "      <td>b'US humanitarian missions soon in Georgia - i...</td>\n",
       "      <td>b\"Georgia's DDOS came from US sources\"</td>\n",
       "      <td>b'Russian convoy heads into Georgia, violating...</td>\n",
       "      <td>b'Israeli defence minister: US against strike ...</td>\n",
       "      <td>b'Gorbachev: We Had No Choice'</td>\n",
       "      <td>b'Witness: Russian forces head towards Tbilisi...</td>\n",
       "      <td>b' Quarter of Russians blame U.S. for conflict...</td>\n",
       "      <td>b'Georgian president  says US military will ta...</td>\n",
       "      <td>b'2006: Nobel laureate Aleksander Solzhenitsyn...</td>\n",
       "    </tr>\n",
       "    <tr>\n",
       "      <th>4</th>\n",
       "      <td>2008-08-14</td>\n",
       "      <td>1</td>\n",
       "      <td>b'All the experts admit that we should legalis...</td>\n",
       "      <td>b'War in South Osetia - 89 pictures made by a ...</td>\n",
       "      <td>b'Swedish wrestler Ara Abrahamian throws away ...</td>\n",
       "      <td>b'Russia exaggerated the death toll in South O...</td>\n",
       "      <td>b'Missile That Killed 9 Inside Pakistan May Ha...</td>\n",
       "      <td>b\"Rushdie Condemns Random House's Refusal to P...</td>\n",
       "      <td>b'Poland and US agree to missle defense deal. ...</td>\n",
       "      <td>b'Will the Russians conquer Tblisi? Bet on it,...</td>\n",
       "      <td>b'Russia exaggerating South Ossetian death tol...</td>\n",
       "      <td>b' Musharraf expected to resign rather than fa...</td>\n",
       "      <td>b'Moscow Made Plans Months Ago to Invade Georgia'</td>\n",
       "      <td>b'Why Russias response to Georgia was right'</td>\n",
       "      <td>b'Nigeria has handed over the potentially oil-...</td>\n",
       "      <td>b'The US and Poland have agreed a preliminary ...</td>\n",
       "      <td>b'Russia apparently is sabotaging infrastructu...</td>\n",
       "      <td>b'Bank analyst forecast Georgian crisis 2 days...</td>\n",
       "      <td>b\"Georgia confict could set back Russia's US r...</td>\n",
       "      <td>b'War in the Caucasus is as much the product o...</td>\n",
       "      <td>b'\"Non-media\" photos of South Ossetia/Georgia ...</td>\n",
       "      <td>b'Georgian TV reporter shot by Russian sniper ...</td>\n",
       "      <td>b'Saudi Arabia: Mother moves to block child ma...</td>\n",
       "      <td>b'Taliban wages war on humanitarian aid workers'</td>\n",
       "      <td>b'Russia: World  \"can forget about\" Georgia\\'s...</td>\n",
       "      <td>b'Darfur rebels accuse Sudan of mounting major...</td>\n",
       "      <td>b'Philippines : Peace Advocate say Muslims nee...</td>\n",
       "    </tr>\n",
       "  </tbody>\n",
       "</table>\n",
       "</div>"
      ],
      "text/plain": [
       "        Date  ...                                              Top25\n",
       "0 2008-08-08  ...           b\"No Help for Mexico's Kidnapping Surge\"\n",
       "1 2008-08-11  ...  b\"So this is what it's come to: trading sex fo...\n",
       "2 2008-08-12  ...  b\"BBC NEWS | Asia-Pacific | Extinction 'by man...\n",
       "3 2008-08-13  ...  b'2006: Nobel laureate Aleksander Solzhenitsyn...\n",
       "4 2008-08-14  ...  b'Philippines : Peace Advocate say Muslims nee...\n",
       "\n",
       "[5 rows x 27 columns]"
      ]
     },
     "execution_count": 4,
     "metadata": {
      "tags": []
     },
     "output_type": "execute_result"
    }
   ],
   "source": [
    "# Exploramos combinedNews\n",
    "CombinedNews.head()"
   ]
  },
  {
   "cell_type": "markdown",
   "metadata": {
    "colab_type": "text",
    "id": "IcNY3hpJwk05"
   },
   "source": [
    "Comparar los días con noticias entre datasets"
   ]
  },
  {
   "cell_type": "code",
   "execution_count": 0,
   "metadata": {
    "colab": {
     "base_uri": "https://localhost:8080/",
     "height": 51
    },
    "colab_type": "code",
    "id": "XuT8xnWHmOuG",
    "outputId": "60a26b23-e1c2-4d29-dd73-1c92762982c8"
   },
   "outputs": [
    {
     "data": {
      "text/plain": [
       "1989"
      ]
     },
     "metadata": {
      "tags": []
     },
     "output_type": "display_data"
    },
    {
     "data": {
      "text/plain": [
       "2943"
      ]
     },
     "metadata": {
      "tags": []
     },
     "output_type": "display_data"
    }
   ],
   "source": [
    "## No hay la misma cantidad de días en cada dataset\n",
    "display(\n",
    "    CombinedNews['Date'].nunique(),\n",
    "    RedditNews['Date'].nunique() )"
   ]
  },
  {
   "cell_type": "code",
   "execution_count": 0,
   "metadata": {
    "colab": {
     "base_uri": "https://localhost:8080/",
     "height": 51
    },
    "colab_type": "code",
    "id": "XSc2k1UMmYK4",
    "outputId": "b88ef3cd-0eb1-4f1c-ef84-7abff9108de4"
   },
   "outputs": [
    {
     "data": {
      "text/plain": [
       "1989"
      ]
     },
     "metadata": {
      "tags": []
     },
     "output_type": "display_data"
    },
    {
     "data": {
      "text/plain": [
       "1989"
      ]
     },
     "metadata": {
      "tags": []
     },
     "output_type": "display_data"
    }
   ],
   "source": [
    "## Nos quedamos con las fechas del dataset que está etiquetado\n",
    "RedditNews = RedditNews[RedditNews['Date'].isin(CombinedNews['Date'])]\n",
    "\n",
    "display(\n",
    "    CombinedNews['Date'].nunique(),\n",
    "    RedditNews['Date'].nunique() )"
   ]
  },
  {
   "cell_type": "markdown",
   "metadata": {
    "colab_type": "text",
    "id": "jOKnAJ2Mw2ug"
   },
   "source": [
    "Analizar la distribución de clases"
   ]
  },
  {
   "cell_type": "code",
   "execution_count": 0,
   "metadata": {
    "colab": {
     "base_uri": "https://localhost:8080/",
     "height": 479
    },
    "colab_type": "code",
    "id": "NebaOCUgi2Pk",
    "outputId": "b73d5ad5-50d6-42e2-de40-3c64629289d9"
   },
   "outputs": [
    {
     "name": "stderr",
     "output_type": "stream",
     "text": [
      "/usr/local/lib/python3.6/dist-packages/statsmodels/tools/_testing.py:19: FutureWarning: pandas.util.testing is deprecated. Use the functions in the public API at pandas.testing instead.\n",
      "  import pandas.util.testing as tm\n"
     ]
    },
    {
     "data": {
      "text/html": [
       "<div>\n",
       "<style scoped>\n",
       "    .dataframe tbody tr th:only-of-type {\n",
       "        vertical-align: middle;\n",
       "    }\n",
       "\n",
       "    .dataframe tbody tr th {\n",
       "        vertical-align: top;\n",
       "    }\n",
       "\n",
       "    .dataframe thead th {\n",
       "        text-align: right;\n",
       "    }\n",
       "</style>\n",
       "<table border=\"1\" class=\"dataframe\">\n",
       "  <thead>\n",
       "    <tr style=\"text-align: right;\">\n",
       "      <th></th>\n",
       "      <th>count</th>\n",
       "    </tr>\n",
       "    <tr>\n",
       "      <th>Label</th>\n",
       "      <th></th>\n",
       "    </tr>\n",
       "  </thead>\n",
       "  <tbody>\n",
       "    <tr>\n",
       "      <th>0</th>\n",
       "      <td>924</td>\n",
       "    </tr>\n",
       "    <tr>\n",
       "      <th>1</th>\n",
       "      <td>1065</td>\n",
       "    </tr>\n",
       "  </tbody>\n",
       "</table>\n",
       "</div>"
      ],
      "text/plain": [
       "       count\n",
       "Label       \n",
       "0        924\n",
       "1       1065"
      ]
     },
     "metadata": {
      "tags": []
     },
     "output_type": "display_data"
    },
    {
     "data": {
      "text/plain": [
       "<matplotlib.axes._subplots.AxesSubplot at 0x7fc491ca2940>"
      ]
     },
     "execution_count": 7,
     "metadata": {
      "tags": []
     },
     "output_type": "execute_result"
    },
    {
     "data": {
      "image/png": "[encoded data removed]",
      "text/plain": [
       "<Figure size 432x288 with 1 Axes>"
      ]
     },
     "metadata": {
      "needs_background": "light",
      "tags": []
     },
     "output_type": "display_data"
    }
   ],
   "source": [
    "## Distribución de clases\n",
    "import seaborn as sns\n",
    "\n",
    "display( CombinedNews.groupby(['Label'])['Date'].agg(['count']))\n",
    "sns.countplot(x='Label', data=CombinedNews)"
   ]
  },
  {
   "cell_type": "markdown",
   "metadata": {
    "colab_type": "text",
    "id": "bNespKOow8hW"
   },
   "source": [
    "Analizar cantidad de noticias, pueden haber días sin el todo el top 25"
   ]
  },
  {
   "cell_type": "code",
   "execution_count": 0,
   "metadata": {
    "colab": {
     "base_uri": "https://localhost:8080/",
     "height": 142
    },
    "colab_type": "code",
    "id": "XWmYqj8Lk7Xd",
    "outputId": "0cc3a9b3-29aa-4540-ba1b-d53259ba6553"
   },
   "outputs": [
    {
     "data": {
      "text/html": [
       "<div>\n",
       "<style scoped>\n",
       "    .dataframe tbody tr th:only-of-type {\n",
       "        vertical-align: middle;\n",
       "    }\n",
       "\n",
       "    .dataframe tbody tr th {\n",
       "        vertical-align: top;\n",
       "    }\n",
       "\n",
       "    .dataframe thead th {\n",
       "        text-align: right;\n",
       "    }\n",
       "</style>\n",
       "<table border=\"1\" class=\"dataframe\">\n",
       "  <thead>\n",
       "    <tr style=\"text-align: right;\">\n",
       "      <th></th>\n",
       "      <th>index</th>\n",
       "      <th>0</th>\n",
       "    </tr>\n",
       "  </thead>\n",
       "  <tbody>\n",
       "    <tr>\n",
       "      <th>24</th>\n",
       "      <td>Top23</td>\n",
       "      <td>1</td>\n",
       "    </tr>\n",
       "    <tr>\n",
       "      <th>25</th>\n",
       "      <td>Top24</td>\n",
       "      <td>3</td>\n",
       "    </tr>\n",
       "    <tr>\n",
       "      <th>26</th>\n",
       "      <td>Top25</td>\n",
       "      <td>3</td>\n",
       "    </tr>\n",
       "  </tbody>\n",
       "</table>\n",
       "</div>"
      ],
      "text/plain": [
       "    index  0\n",
       "24  Top23  1\n",
       "25  Top24  3\n",
       "26  Top25  3"
      ]
     },
     "execution_count": 8,
     "metadata": {
      "tags": []
     },
     "output_type": "execute_result"
    }
   ],
   "source": [
    "## Ver si hay días que no tienen 25 noticias \n",
    "nulls_by_col = CombinedNews.isnull().sum().reset_index()\n",
    "nulls_by_col[nulls_by_col[0]>0]"
   ]
  },
  {
   "cell_type": "code",
   "execution_count": 0,
   "metadata": {
    "colab": {
     "base_uri": "https://localhost:8080/",
     "height": 468
    },
    "colab_type": "code",
    "id": "9i1RWIeso0Te",
    "outputId": "b217e6bf-b17d-4c70-faaf-7eedebbeb6dd"
   },
   "outputs": [
    {
     "data": {
      "text/html": [
       "<div>\n",
       "<style scoped>\n",
       "    .dataframe tbody tr th:only-of-type {\n",
       "        vertical-align: middle;\n",
       "    }\n",
       "\n",
       "    .dataframe tbody tr th {\n",
       "        vertical-align: top;\n",
       "    }\n",
       "\n",
       "    .dataframe thead th {\n",
       "        text-align: right;\n",
       "    }\n",
       "</style>\n",
       "<table border=\"1\" class=\"dataframe\">\n",
       "  <thead>\n",
       "    <tr style=\"text-align: right;\">\n",
       "      <th></th>\n",
       "      <th>Date</th>\n",
       "      <th>Label</th>\n",
       "      <th>Top1</th>\n",
       "      <th>Top2</th>\n",
       "      <th>Top3</th>\n",
       "      <th>Top4</th>\n",
       "      <th>Top5</th>\n",
       "      <th>Top6</th>\n",
       "      <th>Top7</th>\n",
       "      <th>Top8</th>\n",
       "      <th>Top9</th>\n",
       "      <th>Top10</th>\n",
       "      <th>Top11</th>\n",
       "      <th>Top12</th>\n",
       "      <th>Top13</th>\n",
       "      <th>Top14</th>\n",
       "      <th>Top15</th>\n",
       "      <th>Top16</th>\n",
       "      <th>Top17</th>\n",
       "      <th>Top18</th>\n",
       "      <th>Top19</th>\n",
       "      <th>Top20</th>\n",
       "      <th>Top21</th>\n",
       "      <th>Top22</th>\n",
       "      <th>Top23</th>\n",
       "      <th>Top24</th>\n",
       "      <th>Top25</th>\n",
       "    </tr>\n",
       "  </thead>\n",
       "  <tbody>\n",
       "    <tr>\n",
       "      <th>277</th>\n",
       "      <td>2009-09-15</td>\n",
       "      <td>1</td>\n",
       "      <td>b'The Church of Scientology won\\'t be dissolve...</td>\n",
       "      <td>b'New virus from rats can kill 80 per cent of ...</td>\n",
       "      <td>b'The gruesome spectacle of dolphins being sla...</td>\n",
       "      <td>b'The End of Innocence in Afghanistan: \\'The G...</td>\n",
       "      <td>b'France approves Internet piracy bill'</td>\n",
       "      <td>b'The Rural Doctors Association says right now...</td>\n",
       "      <td>b'Al Jazeera English - Africa - Shabab to aven...</td>\n",
       "      <td>b\"How Sri Lanka governs through detentions - S...</td>\n",
       "      <td>b'Two months after the Pakistani Army wrested ...</td>\n",
       "      <td>b'N. Korean cargo ship repels pirates off Soma...</td>\n",
       "      <td>b'Canada: Stephen Harper attempts to prop up r...</td>\n",
       "      <td>b'New geological data provides hope for claims...</td>\n",
       "      <td>b'Ukraine set to block Elton John adoption bec...</td>\n",
       "      <td>b'German plane makes emergency landing'</td>\n",
       "      <td>b'Street artist catches chief of the Israeli a...</td>\n",
       "      <td>b'In an equine echo of the controversy surroun...</td>\n",
       "      <td>b'UPDATE: 5-New York homes raided in terrorism...</td>\n",
       "      <td>b'Population Growth Impeding Progress on the M...</td>\n",
       "      <td>b'Global Population to Reach 7 Billion by 2011'</td>\n",
       "      <td>b'Government Funded Feminist Porn '</td>\n",
       "      <td>b'Can someone enlighten me re:Holy Land disput...</td>\n",
       "      <td>b'Human Rights Watch official suspended for co...</td>\n",
       "      <td>NaN</td>\n",
       "      <td>NaN</td>\n",
       "      <td>NaN</td>\n",
       "    </tr>\n",
       "    <tr>\n",
       "      <th>348</th>\n",
       "      <td>2009-12-24</td>\n",
       "      <td>1</td>\n",
       "      <td>b'Woman knocks down Pope Benedict at Christmas...</td>\n",
       "      <td>b'Ugandan President Museveni says he will bloc...</td>\n",
       "      <td>b\"Venezuela's Chavez threatens to kick out car...</td>\n",
       "      <td>b'Woman who knocked down pope had pasta in her...</td>\n",
       "      <td>b'450 people from 21 countries, including 30 f...</td>\n",
       "      <td>b'Chvez declares Angel Falls is no more: World...</td>\n",
       "      <td>b'Drug tests catch out 10 police (UK)'</td>\n",
       "      <td>b'Once the worlds fourth-largest lake, the Ara...</td>\n",
       "      <td>b\"Cool Saudi Feminist calls for woman's right ...</td>\n",
       "      <td>b'According to satellite surveys, as much as 8...</td>\n",
       "      <td>b'Italian Prime Minister Silvio Berlusconi has...</td>\n",
       "      <td>b\"Don't blame the system for winter travel cha...</td>\n",
       "      <td>b'Christmas Eve around the world included the ...</td>\n",
       "      <td>b'Pope knocked down before Xmas mass'</td>\n",
       "      <td>b'The solar salesman who put his cow on the ma...</td>\n",
       "      <td>b'Pig farts spark Australia gas scare - I shit...</td>\n",
       "      <td>b'Bin Laden daughter flees to Saudi embassy in...</td>\n",
       "      <td>b'Traumatic Brain Injuries:  Growing evidence ...</td>\n",
       "      <td>b'The Pakistan Supreme Court has ordered the P...</td>\n",
       "      <td>b\"Here's a video the Taliban released this mor...</td>\n",
       "      <td>b'Fireworks set off aboard airliner'</td>\n",
       "      <td>b'Five VA men may face terrorism charges, Paki...</td>\n",
       "      <td>b\"Ayatollah Montazeri's Legacy:  In death he m...</td>\n",
       "      <td>NaN</td>\n",
       "      <td>NaN</td>\n",
       "    </tr>\n",
       "    <tr>\n",
       "      <th>681</th>\n",
       "      <td>2011-04-21</td>\n",
       "      <td>1</td>\n",
       "      <td>Director of \"Restrepo\" and Photographer Chris ...</td>\n",
       "      <td>Everyone within 20km of Fukushima will be forc...</td>\n",
       "      <td>Bahrain: Activist Zaynab Al-Khawaja's letter t...</td>\n",
       "      <td>More than 80,000 people are claiming incapacit...</td>\n",
       "      <td>Libya: 'mission creep' claims as UK sends in m...</td>\n",
       "      <td>Japan considers banning access to evacuation zone</td>\n",
       "      <td>Chinese oil giant Sinopec has stopped exportin...</td>\n",
       "      <td>6.0-magnitude earthquake strikes off east coas...</td>\n",
       "      <td>Next war in line: At least 20 South Sudanese a...</td>\n",
       "      <td>Bahraini protester ends hunger strike after be...</td>\n",
       "      <td>China tries to scare motorists into safer driving</td>\n",
       "      <td>Leaked Report Shows England Hit With Three Nuc...</td>\n",
       "      <td>Japans cyclone season approaches.</td>\n",
       "      <td>Have Oman and Qatar escaped the Arab revolts?</td>\n",
       "      <td>Rioters torch Australia asylum seeker detentio...</td>\n",
       "      <td>Russian migration official fired in racism row...</td>\n",
       "      <td>Small amounts of radioactive iodine found in b...</td>\n",
       "      <td>War photographer, Oscar-nominated film directo...</td>\n",
       "      <td>Effeminate boys are being sent to a special ca...</td>\n",
       "      <td>Japan Government Declares 12-Mile Area Around ...</td>\n",
       "      <td>TEPCO admitted Wednesday that nuclear fuel in ...</td>\n",
       "      <td>Fukushima evacuees face arrest if they return ...</td>\n",
       "      <td>Prince Charles wins some kind of a record</td>\n",
       "      <td>NaN</td>\n",
       "      <td>NaN</td>\n",
       "    </tr>\n",
       "  </tbody>\n",
       "</table>\n",
       "</div>"
      ],
      "text/plain": [
       "          Date  Label  ... Top24 Top25\n",
       "277 2009-09-15      1  ...   NaN   NaN\n",
       "348 2009-12-24      1  ...   NaN   NaN\n",
       "681 2011-04-21      1  ...   NaN   NaN\n",
       "\n",
       "[3 rows x 27 columns]"
      ]
     },
     "execution_count": 9,
     "metadata": {
      "tags": []
     },
     "output_type": "execute_result"
    }
   ],
   "source": [
    "CombinedNews[pd.isnull(CombinedNews['Top25'])]\n",
    "## 3 días no tienen ni top 24 ni top 25, y uno de esos tampoco tiene top 23"
   ]
  },
  {
   "cell_type": "code",
   "execution_count": 0,
   "metadata": {
    "colab": {
     "base_uri": "https://localhost:8080/",
     "height": 173
    },
    "colab_type": "code",
    "id": "vI8SfwKXpgwo",
    "outputId": "a5e1621a-9c4a-48f9-bad6-bda655d0d582"
   },
   "outputs": [
    {
     "data": {
      "text/html": [
       "<div>\n",
       "<style scoped>\n",
       "    .dataframe tbody tr th:only-of-type {\n",
       "        vertical-align: middle;\n",
       "    }\n",
       "\n",
       "    .dataframe tbody tr th {\n",
       "        vertical-align: top;\n",
       "    }\n",
       "\n",
       "    .dataframe thead th {\n",
       "        text-align: right;\n",
       "    }\n",
       "</style>\n",
       "<table border=\"1\" class=\"dataframe\">\n",
       "  <thead>\n",
       "    <tr style=\"text-align: right;\">\n",
       "      <th></th>\n",
       "      <th>News</th>\n",
       "    </tr>\n",
       "    <tr>\n",
       "      <th>Date</th>\n",
       "      <th></th>\n",
       "    </tr>\n",
       "  </thead>\n",
       "  <tbody>\n",
       "    <tr>\n",
       "      <th>2009-09-15</th>\n",
       "      <td>22</td>\n",
       "    </tr>\n",
       "    <tr>\n",
       "      <th>2009-12-24</th>\n",
       "      <td>23</td>\n",
       "    </tr>\n",
       "    <tr>\n",
       "      <th>2011-04-21</th>\n",
       "      <td>23</td>\n",
       "    </tr>\n",
       "  </tbody>\n",
       "</table>\n",
       "</div>"
      ],
      "text/plain": [
       "            News\n",
       "Date            \n",
       "2009-09-15    22\n",
       "2009-12-24    23\n",
       "2011-04-21    23"
      ]
     },
     "execution_count": 10,
     "metadata": {
      "tags": []
     },
     "output_type": "execute_result"
    }
   ],
   "source": [
    "## Vamos a comprobar que en el el dataset que están todas las noticias se tenga el mismo numero\n",
    "news_by_day = RedditNews.groupby(['Date']).agg('count')\n",
    "news_by_day[news_by_day['News']!=25]\n"
   ]
  },
  {
   "cell_type": "markdown",
   "metadata": {
    "colab_type": "text",
    "id": "xtvhfV6FxW7S"
   },
   "source": [
    "Añadir el numero del top correspondiente a las noticias, y la etiqueta del día"
   ]
  },
  {
   "cell_type": "code",
   "execution_count": 0,
   "metadata": {
    "colab": {
     "base_uri": "https://localhost:8080/",
     "height": 824
    },
    "colab_type": "code",
    "id": "OeUGRs5Ojt5o",
    "outputId": "9a38d460-beb4-4f7f-8661-2b5cfcbfd772"
   },
   "outputs": [
    {
     "data": {
      "text/html": [
       "<div>\n",
       "<style scoped>\n",
       "    .dataframe tbody tr th:only-of-type {\n",
       "        vertical-align: middle;\n",
       "    }\n",
       "\n",
       "    .dataframe tbody tr th {\n",
       "        vertical-align: top;\n",
       "    }\n",
       "\n",
       "    .dataframe thead th {\n",
       "        text-align: right;\n",
       "    }\n",
       "</style>\n",
       "<table border=\"1\" class=\"dataframe\">\n",
       "  <thead>\n",
       "    <tr style=\"text-align: right;\">\n",
       "      <th></th>\n",
       "      <th>Date</th>\n",
       "      <th>News</th>\n",
       "      <th>Top</th>\n",
       "      <th>Label</th>\n",
       "    </tr>\n",
       "  </thead>\n",
       "  <tbody>\n",
       "    <tr>\n",
       "      <th>0</th>\n",
       "      <td>2016-07-01</td>\n",
       "      <td>A 117-year-old woman in Mexico City finally re...</td>\n",
       "      <td>1</td>\n",
       "      <td>1</td>\n",
       "    </tr>\n",
       "    <tr>\n",
       "      <th>1</th>\n",
       "      <td>2016-07-01</td>\n",
       "      <td>IMF chief backs Athens as permanent Olympic host</td>\n",
       "      <td>2</td>\n",
       "      <td>1</td>\n",
       "    </tr>\n",
       "    <tr>\n",
       "      <th>2</th>\n",
       "      <td>2016-07-01</td>\n",
       "      <td>The president of France says if Brexit won, so...</td>\n",
       "      <td>3</td>\n",
       "      <td>1</td>\n",
       "    </tr>\n",
       "    <tr>\n",
       "      <th>3</th>\n",
       "      <td>2016-07-01</td>\n",
       "      <td>British Man Who Must Give Police 24 Hours' Not...</td>\n",
       "      <td>4</td>\n",
       "      <td>1</td>\n",
       "    </tr>\n",
       "    <tr>\n",
       "      <th>4</th>\n",
       "      <td>2016-07-01</td>\n",
       "      <td>100+ Nobel laureates urge Greenpeace to stop o...</td>\n",
       "      <td>5</td>\n",
       "      <td>1</td>\n",
       "    </tr>\n",
       "    <tr>\n",
       "      <th>5</th>\n",
       "      <td>2016-07-01</td>\n",
       "      <td>Brazil: Huge spike in number of police killing...</td>\n",
       "      <td>6</td>\n",
       "      <td>1</td>\n",
       "    </tr>\n",
       "    <tr>\n",
       "      <th>6</th>\n",
       "      <td>2016-07-01</td>\n",
       "      <td>Austria's highest court annuls presidential el...</td>\n",
       "      <td>7</td>\n",
       "      <td>1</td>\n",
       "    </tr>\n",
       "    <tr>\n",
       "      <th>7</th>\n",
       "      <td>2016-07-01</td>\n",
       "      <td>Facebook wins privacy case, can track any Belg...</td>\n",
       "      <td>8</td>\n",
       "      <td>1</td>\n",
       "    </tr>\n",
       "    <tr>\n",
       "      <th>8</th>\n",
       "      <td>2016-07-01</td>\n",
       "      <td>Switzerland denies Muslim girls citizenship af...</td>\n",
       "      <td>9</td>\n",
       "      <td>1</td>\n",
       "    </tr>\n",
       "    <tr>\n",
       "      <th>9</th>\n",
       "      <td>2016-07-01</td>\n",
       "      <td>China kills millions of innocent meditators fo...</td>\n",
       "      <td>10</td>\n",
       "      <td>1</td>\n",
       "    </tr>\n",
       "    <tr>\n",
       "      <th>10</th>\n",
       "      <td>2016-07-01</td>\n",
       "      <td>France Cracks Down on Factory Farms - A viral ...</td>\n",
       "      <td>11</td>\n",
       "      <td>1</td>\n",
       "    </tr>\n",
       "    <tr>\n",
       "      <th>11</th>\n",
       "      <td>2016-07-01</td>\n",
       "      <td>Abbas PLO Faction Calls Killer of 13-Year-Old ...</td>\n",
       "      <td>12</td>\n",
       "      <td>1</td>\n",
       "    </tr>\n",
       "    <tr>\n",
       "      <th>12</th>\n",
       "      <td>2016-07-01</td>\n",
       "      <td>Taiwanese warship accidentally fires missile t...</td>\n",
       "      <td>13</td>\n",
       "      <td>1</td>\n",
       "    </tr>\n",
       "    <tr>\n",
       "      <th>13</th>\n",
       "      <td>2016-07-01</td>\n",
       "      <td>Iran celebrates American Human Rights Week, mo...</td>\n",
       "      <td>14</td>\n",
       "      <td>1</td>\n",
       "    </tr>\n",
       "    <tr>\n",
       "      <th>14</th>\n",
       "      <td>2016-07-01</td>\n",
       "      <td>U.N. panel moves to curb bias against L.G.B.T....</td>\n",
       "      <td>15</td>\n",
       "      <td>1</td>\n",
       "    </tr>\n",
       "    <tr>\n",
       "      <th>15</th>\n",
       "      <td>2016-07-01</td>\n",
       "      <td>The United States has placed Myanmar, Uzbekist...</td>\n",
       "      <td>16</td>\n",
       "      <td>1</td>\n",
       "    </tr>\n",
       "    <tr>\n",
       "      <th>16</th>\n",
       "      <td>2016-07-01</td>\n",
       "      <td>S&amp;amp;P revises European Union credit rating t...</td>\n",
       "      <td>17</td>\n",
       "      <td>1</td>\n",
       "    </tr>\n",
       "    <tr>\n",
       "      <th>17</th>\n",
       "      <td>2016-07-01</td>\n",
       "      <td>India gets $1 billion loan from World Bank for...</td>\n",
       "      <td>18</td>\n",
       "      <td>1</td>\n",
       "    </tr>\n",
       "    <tr>\n",
       "      <th>18</th>\n",
       "      <td>2016-07-01</td>\n",
       "      <td>U.S. sailors detained by Iran spoke too much u...</td>\n",
       "      <td>19</td>\n",
       "      <td>1</td>\n",
       "    </tr>\n",
       "    <tr>\n",
       "      <th>19</th>\n",
       "      <td>2016-07-01</td>\n",
       "      <td>Mass fish kill in Vietnam solved as Taiwan ste...</td>\n",
       "      <td>20</td>\n",
       "      <td>1</td>\n",
       "    </tr>\n",
       "    <tr>\n",
       "      <th>20</th>\n",
       "      <td>2016-07-01</td>\n",
       "      <td>Philippines president Rodrigo Duterte urges pe...</td>\n",
       "      <td>21</td>\n",
       "      <td>1</td>\n",
       "    </tr>\n",
       "    <tr>\n",
       "      <th>21</th>\n",
       "      <td>2016-07-01</td>\n",
       "      <td>Spain arrests three Pakistanis accused of prom...</td>\n",
       "      <td>22</td>\n",
       "      <td>1</td>\n",
       "    </tr>\n",
       "    <tr>\n",
       "      <th>22</th>\n",
       "      <td>2016-07-01</td>\n",
       "      <td>Venezuela, where anger over food shortages is ...</td>\n",
       "      <td>23</td>\n",
       "      <td>1</td>\n",
       "    </tr>\n",
       "    <tr>\n",
       "      <th>23</th>\n",
       "      <td>2016-07-01</td>\n",
       "      <td>A Hindu temple worker has been killed by three...</td>\n",
       "      <td>24</td>\n",
       "      <td>1</td>\n",
       "    </tr>\n",
       "    <tr>\n",
       "      <th>24</th>\n",
       "      <td>2016-07-01</td>\n",
       "      <td>Ozone layer hole seems to be healing - US &amp;amp...</td>\n",
       "      <td>25</td>\n",
       "      <td>1</td>\n",
       "    </tr>\n",
       "  </tbody>\n",
       "</table>\n",
       "</div>"
      ],
      "text/plain": [
       "         Date                                               News  Top  Label\n",
       "0  2016-07-01  A 117-year-old woman in Mexico City finally re...    1      1\n",
       "1  2016-07-01   IMF chief backs Athens as permanent Olympic host    2      1\n",
       "2  2016-07-01  The president of France says if Brexit won, so...    3      1\n",
       "3  2016-07-01  British Man Who Must Give Police 24 Hours' Not...    4      1\n",
       "4  2016-07-01  100+ Nobel laureates urge Greenpeace to stop o...    5      1\n",
       "5  2016-07-01  Brazil: Huge spike in number of police killing...    6      1\n",
       "6  2016-07-01  Austria's highest court annuls presidential el...    7      1\n",
       "7  2016-07-01  Facebook wins privacy case, can track any Belg...    8      1\n",
       "8  2016-07-01  Switzerland denies Muslim girls citizenship af...    9      1\n",
       "9  2016-07-01  China kills millions of innocent meditators fo...   10      1\n",
       "10 2016-07-01  France Cracks Down on Factory Farms - A viral ...   11      1\n",
       "11 2016-07-01  Abbas PLO Faction Calls Killer of 13-Year-Old ...   12      1\n",
       "12 2016-07-01  Taiwanese warship accidentally fires missile t...   13      1\n",
       "13 2016-07-01  Iran celebrates American Human Rights Week, mo...   14      1\n",
       "14 2016-07-01  U.N. panel moves to curb bias against L.G.B.T....   15      1\n",
       "15 2016-07-01  The United States has placed Myanmar, Uzbekist...   16      1\n",
       "16 2016-07-01  S&amp;P revises European Union credit rating t...   17      1\n",
       "17 2016-07-01  India gets $1 billion loan from World Bank for...   18      1\n",
       "18 2016-07-01  U.S. sailors detained by Iran spoke too much u...   19      1\n",
       "19 2016-07-01  Mass fish kill in Vietnam solved as Taiwan ste...   20      1\n",
       "20 2016-07-01  Philippines president Rodrigo Duterte urges pe...   21      1\n",
       "21 2016-07-01  Spain arrests three Pakistanis accused of prom...   22      1\n",
       "22 2016-07-01  Venezuela, where anger over food shortages is ...   23      1\n",
       "23 2016-07-01  A Hindu temple worker has been killed by three...   24      1\n",
       "24 2016-07-01  Ozone layer hole seems to be healing - US &amp...   25      1"
      ]
     },
     "execution_count": 11,
     "metadata": {
      "tags": []
     },
     "output_type": "execute_result"
    }
   ],
   "source": [
    "## Añadir columna del top correspondiente\n",
    "RedditNews['Top'] = RedditNews.groupby(['Date']).cumcount()+1\n",
    "\n",
    "## Añadir columna de la clase a este df\n",
    "RedditNews = pd.merge(RedditNews, CombinedNews[['Date','Label']], on=['Date'])\n",
    "\n",
    "RedditNews[RedditNews['Date']=='2016-07-01']"
   ]
  },
  {
   "cell_type": "markdown",
   "metadata": {
    "colab_type": "text",
    "id": "xVV84cMXxQNH"
   },
   "source": [
    "Limpieza de los datos"
   ]
  },
  {
   "cell_type": "code",
   "execution_count": 0,
   "metadata": {
    "colab": {
     "base_uri": "https://localhost:8080/",
     "height": 419
    },
    "colab_type": "code",
    "id": "4RzkeJR5trnX",
    "outputId": "1e3fcb7e-f1b8-433e-c780-efd59bb29de3"
   },
   "outputs": [
    {
     "data": {
      "text/html": [
       "<div>\n",
       "<style scoped>\n",
       "    .dataframe tbody tr th:only-of-type {\n",
       "        vertical-align: middle;\n",
       "    }\n",
       "\n",
       "    .dataframe tbody tr th {\n",
       "        vertical-align: top;\n",
       "    }\n",
       "\n",
       "    .dataframe thead th {\n",
       "        text-align: right;\n",
       "    }\n",
       "</style>\n",
       "<table border=\"1\" class=\"dataframe\">\n",
       "  <thead>\n",
       "    <tr style=\"text-align: right;\">\n",
       "      <th></th>\n",
       "      <th>Date</th>\n",
       "      <th>News</th>\n",
       "      <th>Top</th>\n",
       "      <th>Label</th>\n",
       "    </tr>\n",
       "  </thead>\n",
       "  <tbody>\n",
       "    <tr>\n",
       "      <th>16</th>\n",
       "      <td>2016-07-01</td>\n",
       "      <td>S&amp;amp;P revises European Union credit rating t...</td>\n",
       "      <td>17</td>\n",
       "      <td>1</td>\n",
       "    </tr>\n",
       "    <tr>\n",
       "      <th>24</th>\n",
       "      <td>2016-07-01</td>\n",
       "      <td>Ozone layer hole seems to be healing - US &amp;amp...</td>\n",
       "      <td>25</td>\n",
       "      <td>1</td>\n",
       "    </tr>\n",
       "    <tr>\n",
       "      <th>53</th>\n",
       "      <td>2016-06-29</td>\n",
       "      <td>Devastated: scientists too late to captive bre...</td>\n",
       "      <td>4</td>\n",
       "      <td>1</td>\n",
       "    </tr>\n",
       "    <tr>\n",
       "      <th>77</th>\n",
       "      <td>2016-06-28</td>\n",
       "      <td>S&amp;amp;P cuts United Kingdom sovereign credit r...</td>\n",
       "      <td>3</td>\n",
       "      <td>1</td>\n",
       "    </tr>\n",
       "    <tr>\n",
       "      <th>181</th>\n",
       "      <td>2016-06-22</td>\n",
       "      <td>Police kill eight striking Mexican teachers as...</td>\n",
       "      <td>7</td>\n",
       "      <td>0</td>\n",
       "    </tr>\n",
       "    <tr>\n",
       "      <th>...</th>\n",
       "      <td>...</td>\n",
       "      <td>...</td>\n",
       "      <td>...</td>\n",
       "      <td>...</td>\n",
       "    </tr>\n",
       "    <tr>\n",
       "      <th>49043</th>\n",
       "      <td>2008-09-16</td>\n",
       "      <td>b\"Pakistani Tribesmen Representing Half A Mill...</td>\n",
       "      <td>1</td>\n",
       "      <td>1</td>\n",
       "    </tr>\n",
       "    <tr>\n",
       "      <th>49140</th>\n",
       "      <td>2008-09-11</td>\n",
       "      <td>b'BREAKING: Tsunami Alerts - Japan &amp;amp; Indon...</td>\n",
       "      <td>23</td>\n",
       "      <td>1</td>\n",
       "    </tr>\n",
       "    <tr>\n",
       "      <th>49420</th>\n",
       "      <td>2008-08-25</td>\n",
       "      <td>b'Israel claims allowing an aid ship to reach ...</td>\n",
       "      <td>3</td>\n",
       "      <td>0</td>\n",
       "    </tr>\n",
       "    <tr>\n",
       "      <th>49476</th>\n",
       "      <td>2008-08-21</td>\n",
       "      <td>b\"China sentences Alive in Baghdad blogger, GR...</td>\n",
       "      <td>9</td>\n",
       "      <td>1</td>\n",
       "    </tr>\n",
       "    <tr>\n",
       "      <th>49713</th>\n",
       "      <td>2008-08-08</td>\n",
       "      <td>b'Why the Pentagon Thinks Attacking Iran is a ...</td>\n",
       "      <td>21</td>\n",
       "      <td>0</td>\n",
       "    </tr>\n",
       "  </tbody>\n",
       "</table>\n",
       "<p>756 rows × 4 columns</p>\n",
       "</div>"
      ],
      "text/plain": [
       "            Date                                               News  Top  Label\n",
       "16    2016-07-01  S&amp;P revises European Union credit rating t...   17      1\n",
       "24    2016-07-01  Ozone layer hole seems to be healing - US &amp...   25      1\n",
       "53    2016-06-29  Devastated: scientists too late to captive bre...    4      1\n",
       "77    2016-06-28  S&amp;P cuts United Kingdom sovereign credit r...    3      1\n",
       "181   2016-06-22  Police kill eight striking Mexican teachers as...    7      0\n",
       "...          ...                                                ...  ...    ...\n",
       "49043 2008-09-16  b\"Pakistani Tribesmen Representing Half A Mill...    1      1\n",
       "49140 2008-09-11  b'BREAKING: Tsunami Alerts - Japan &amp; Indon...   23      1\n",
       "49420 2008-08-25  b'Israel claims allowing an aid ship to reach ...    3      0\n",
       "49476 2008-08-21  b\"China sentences Alive in Baghdad blogger, GR...    9      1\n",
       "49713 2008-08-08  b'Why the Pentagon Thinks Attacking Iran is a ...   21      0\n",
       "\n",
       "[756 rows x 4 columns]"
      ]
     },
     "metadata": {
      "tags": []
     },
     "output_type": "display_data"
    }
   ],
   "source": [
    "## Hay error en la codificación de caracteres especiales, encontré ese, pero hay que ver que otros surgen\n",
    "index_review = RedditNews[RedditNews['News'].str.contains('&amp;')].index\n",
    "display(RedditNews[RedditNews['News'].str.contains('&amp;')])\n",
    "RedditNews['News'] = RedditNews['News'].str.replace('&amp;', '&')"
   ]
  },
  {
   "cell_type": "code",
   "execution_count": 0,
   "metadata": {
    "colab": {
     "base_uri": "https://localhost:8080/",
     "height": 419
    },
    "colab_type": "code",
    "id": "51Na1fyCu6qp",
    "outputId": "08ab85f2-05cf-4258-ab57-9814ad9c9f89"
   },
   "outputs": [
    {
     "data": {
      "text/html": [
       "<div>\n",
       "<style scoped>\n",
       "    .dataframe tbody tr th:only-of-type {\n",
       "        vertical-align: middle;\n",
       "    }\n",
       "\n",
       "    .dataframe tbody tr th {\n",
       "        vertical-align: top;\n",
       "    }\n",
       "\n",
       "    .dataframe thead th {\n",
       "        text-align: right;\n",
       "    }\n",
       "</style>\n",
       "<table border=\"1\" class=\"dataframe\">\n",
       "  <thead>\n",
       "    <tr style=\"text-align: right;\">\n",
       "      <th></th>\n",
       "      <th>Date</th>\n",
       "      <th>News</th>\n",
       "      <th>Top</th>\n",
       "      <th>Label</th>\n",
       "    </tr>\n",
       "  </thead>\n",
       "  <tbody>\n",
       "    <tr>\n",
       "      <th>16</th>\n",
       "      <td>2016-07-01</td>\n",
       "      <td>S&amp;P revises European Union credit rating to 'A...</td>\n",
       "      <td>17</td>\n",
       "      <td>1</td>\n",
       "    </tr>\n",
       "    <tr>\n",
       "      <th>24</th>\n",
       "      <td>2016-07-01</td>\n",
       "      <td>Ozone layer hole seems to be healing - US &amp; UK...</td>\n",
       "      <td>25</td>\n",
       "      <td>1</td>\n",
       "    </tr>\n",
       "    <tr>\n",
       "      <th>53</th>\n",
       "      <td>2016-06-29</td>\n",
       "      <td>Devastated: scientists too late to captive bre...</td>\n",
       "      <td>4</td>\n",
       "      <td>1</td>\n",
       "    </tr>\n",
       "    <tr>\n",
       "      <th>77</th>\n",
       "      <td>2016-06-28</td>\n",
       "      <td>S&amp;P cuts United Kingdom sovereign credit ratin...</td>\n",
       "      <td>3</td>\n",
       "      <td>1</td>\n",
       "    </tr>\n",
       "    <tr>\n",
       "      <th>181</th>\n",
       "      <td>2016-06-22</td>\n",
       "      <td>Police kill eight striking Mexican teachers as...</td>\n",
       "      <td>7</td>\n",
       "      <td>0</td>\n",
       "    </tr>\n",
       "    <tr>\n",
       "      <th>...</th>\n",
       "      <td>...</td>\n",
       "      <td>...</td>\n",
       "      <td>...</td>\n",
       "      <td>...</td>\n",
       "    </tr>\n",
       "    <tr>\n",
       "      <th>49043</th>\n",
       "      <td>2008-09-16</td>\n",
       "      <td>b\"Pakistani Tribesmen Representing Half A Mill...</td>\n",
       "      <td>1</td>\n",
       "      <td>1</td>\n",
       "    </tr>\n",
       "    <tr>\n",
       "      <th>49140</th>\n",
       "      <td>2008-09-11</td>\n",
       "      <td>b'BREAKING: Tsunami Alerts - Japan &amp; Indonesia...</td>\n",
       "      <td>23</td>\n",
       "      <td>1</td>\n",
       "    </tr>\n",
       "    <tr>\n",
       "      <th>49420</th>\n",
       "      <td>2008-08-25</td>\n",
       "      <td>b'Israel claims allowing an aid ship to reach ...</td>\n",
       "      <td>3</td>\n",
       "      <td>0</td>\n",
       "    </tr>\n",
       "    <tr>\n",
       "      <th>49476</th>\n",
       "      <td>2008-08-21</td>\n",
       "      <td>b\"China sentences Alive in Baghdad blogger, GR...</td>\n",
       "      <td>9</td>\n",
       "      <td>1</td>\n",
       "    </tr>\n",
       "    <tr>\n",
       "      <th>49713</th>\n",
       "      <td>2008-08-08</td>\n",
       "      <td>b'Why the Pentagon Thinks Attacking Iran is a ...</td>\n",
       "      <td>21</td>\n",
       "      <td>0</td>\n",
       "    </tr>\n",
       "  </tbody>\n",
       "</table>\n",
       "<p>756 rows × 4 columns</p>\n",
       "</div>"
      ],
      "text/plain": [
       "            Date                                               News  Top  Label\n",
       "16    2016-07-01  S&P revises European Union credit rating to 'A...   17      1\n",
       "24    2016-07-01  Ozone layer hole seems to be healing - US & UK...   25      1\n",
       "53    2016-06-29  Devastated: scientists too late to captive bre...    4      1\n",
       "77    2016-06-28  S&P cuts United Kingdom sovereign credit ratin...    3      1\n",
       "181   2016-06-22  Police kill eight striking Mexican teachers as...    7      0\n",
       "...          ...                                                ...  ...    ...\n",
       "49043 2008-09-16  b\"Pakistani Tribesmen Representing Half A Mill...    1      1\n",
       "49140 2008-09-11  b'BREAKING: Tsunami Alerts - Japan & Indonesia...   23      1\n",
       "49420 2008-08-25  b'Israel claims allowing an aid ship to reach ...    3      0\n",
       "49476 2008-08-21  b\"China sentences Alive in Baghdad blogger, GR...    9      1\n",
       "49713 2008-08-08  b'Why the Pentagon Thinks Attacking Iran is a ...   21      0\n",
       "\n",
       "[756 rows x 4 columns]"
      ]
     },
     "execution_count": 13,
     "metadata": {
      "tags": []
     },
     "output_type": "execute_result"
    }
   ],
   "source": [
    "## Acá se ven corregidos ya\n",
    "RedditNews[RedditNews.index.isin(index_review)]"
   ]
  },
  {
   "cell_type": "code",
   "execution_count": 0,
   "metadata": {
    "colab": {
     "base_uri": "https://localhost:8080/",
     "height": 419
    },
    "colab_type": "code",
    "id": "ei8HtAfMxt8t",
    "outputId": "e73d87f5-a2d8-4b06-cba9-d1360f1f5e54"
   },
   "outputs": [
    {
     "data": {
      "text/html": [
       "<div>\n",
       "<style scoped>\n",
       "    .dataframe tbody tr th:only-of-type {\n",
       "        vertical-align: middle;\n",
       "    }\n",
       "\n",
       "    .dataframe tbody tr th {\n",
       "        vertical-align: top;\n",
       "    }\n",
       "\n",
       "    .dataframe thead th {\n",
       "        text-align: right;\n",
       "    }\n",
       "</style>\n",
       "<table border=\"1\" class=\"dataframe\">\n",
       "  <thead>\n",
       "    <tr style=\"text-align: right;\">\n",
       "      <th></th>\n",
       "      <th>Date</th>\n",
       "      <th>News</th>\n",
       "      <th>Top</th>\n",
       "      <th>Label</th>\n",
       "      <th>News_cleaned</th>\n",
       "    </tr>\n",
       "  </thead>\n",
       "  <tbody>\n",
       "    <tr>\n",
       "      <th>0</th>\n",
       "      <td>2016-07-01</td>\n",
       "      <td>A 117-year-old woman in Mexico City finally re...</td>\n",
       "      <td>1</td>\n",
       "      <td>1</td>\n",
       "      <td>a 117 year old woman in mexico city finally re...</td>\n",
       "    </tr>\n",
       "    <tr>\n",
       "      <th>1</th>\n",
       "      <td>2016-07-01</td>\n",
       "      <td>IMF chief backs Athens as permanent Olympic host</td>\n",
       "      <td>2</td>\n",
       "      <td>1</td>\n",
       "      <td>imf chief backs athens as permanent olympic host</td>\n",
       "    </tr>\n",
       "    <tr>\n",
       "      <th>2</th>\n",
       "      <td>2016-07-01</td>\n",
       "      <td>The president of France says if Brexit won, so...</td>\n",
       "      <td>3</td>\n",
       "      <td>1</td>\n",
       "      <td>the president of france says if brexit won  so...</td>\n",
       "    </tr>\n",
       "    <tr>\n",
       "      <th>3</th>\n",
       "      <td>2016-07-01</td>\n",
       "      <td>British Man Who Must Give Police 24 Hours' Not...</td>\n",
       "      <td>4</td>\n",
       "      <td>1</td>\n",
       "      <td>british man who must give police 24 hours  not...</td>\n",
       "    </tr>\n",
       "    <tr>\n",
       "      <th>4</th>\n",
       "      <td>2016-07-01</td>\n",
       "      <td>100+ Nobel laureates urge Greenpeace to stop o...</td>\n",
       "      <td>5</td>\n",
       "      <td>1</td>\n",
       "      <td>100+ nobel laureates urge greenpeace to stop o...</td>\n",
       "    </tr>\n",
       "    <tr>\n",
       "      <th>...</th>\n",
       "      <td>...</td>\n",
       "      <td>...</td>\n",
       "      <td>...</td>\n",
       "      <td>...</td>\n",
       "      <td>...</td>\n",
       "    </tr>\n",
       "    <tr>\n",
       "      <th>49713</th>\n",
       "      <td>2008-08-08</td>\n",
       "      <td>b'Why the Pentagon Thinks Attacking Iran is a ...</td>\n",
       "      <td>21</td>\n",
       "      <td>0</td>\n",
       "      <td>b why the pentagon thinks attacking iran is a ...</td>\n",
       "    </tr>\n",
       "    <tr>\n",
       "      <th>49714</th>\n",
       "      <td>2008-08-08</td>\n",
       "      <td>b'Caucasus in crisis: Georgia invades South Os...</td>\n",
       "      <td>22</td>\n",
       "      <td>0</td>\n",
       "      <td>b caucasus in crisis  georgia invades south os...</td>\n",
       "    </tr>\n",
       "    <tr>\n",
       "      <th>49715</th>\n",
       "      <td>2008-08-08</td>\n",
       "      <td>b'Indian shoe manufactory  - And again in a se...</td>\n",
       "      <td>23</td>\n",
       "      <td>0</td>\n",
       "      <td>b indian shoe manufactory    and again in a se...</td>\n",
       "    </tr>\n",
       "    <tr>\n",
       "      <th>49716</th>\n",
       "      <td>2008-08-08</td>\n",
       "      <td>b'Visitors Suffering from Mental Illnesses Ban...</td>\n",
       "      <td>24</td>\n",
       "      <td>0</td>\n",
       "      <td>b visitors suffering from mental illnesses ban...</td>\n",
       "    </tr>\n",
       "    <tr>\n",
       "      <th>49717</th>\n",
       "      <td>2008-08-08</td>\n",
       "      <td>b\"No Help for Mexico's Kidnapping Surge\"</td>\n",
       "      <td>25</td>\n",
       "      <td>0</td>\n",
       "      <td>b no help for mexico s kidnapping surge</td>\n",
       "    </tr>\n",
       "  </tbody>\n",
       "</table>\n",
       "<p>49718 rows × 5 columns</p>\n",
       "</div>"
      ],
      "text/plain": [
       "            Date  ...                                       News_cleaned\n",
       "0     2016-07-01  ...  a 117 year old woman in mexico city finally re...\n",
       "1     2016-07-01  ...   imf chief backs athens as permanent olympic host\n",
       "2     2016-07-01  ...  the president of france says if brexit won  so...\n",
       "3     2016-07-01  ...  british man who must give police 24 hours  not...\n",
       "4     2016-07-01  ...  100+ nobel laureates urge greenpeace to stop o...\n",
       "...          ...  ...                                                ...\n",
       "49713 2008-08-08  ...  b why the pentagon thinks attacking iran is a ...\n",
       "49714 2008-08-08  ...  b caucasus in crisis  georgia invades south os...\n",
       "49715 2008-08-08  ...  b indian shoe manufactory    and again in a se...\n",
       "49716 2008-08-08  ...  b visitors suffering from mental illnesses ban...\n",
       "49717 2008-08-08  ...           b no help for mexico s kidnapping surge \n",
       "\n",
       "[49718 rows x 5 columns]"
      ]
     },
     "execution_count": 14,
     "metadata": {
      "tags": []
     },
     "output_type": "execute_result"
    }
   ],
   "source": [
    "##Una función para limpieza básica, podemos añadir cosas, es un solo una base, luego lo adaptamos más a nuestro uso\n",
    "\n",
    "import re\n",
    "import nltk\n",
    "from nltk.corpus import stopwords\n",
    "\n",
    "REPLACE_BY_SPACE_RE = re.compile('[/(){}\\[\\]\\|@,;-]')\n",
    "BAD_SYMBOLS_RE = re.compile('[^0-9a-z #+_]')\n",
    "# STOPWORDS = set(stopwords.words('english'))\n",
    "\n",
    "def clean_text(text):\n",
    "    \"\"\"\n",
    "        text: a string\n",
    "        \n",
    "        return: modified initial string\n",
    "    \"\"\"\n",
    "    text = text.lower() # lowercase text\n",
    "    text = REPLACE_BY_SPACE_RE.sub(' ', text) # replace REPLACE_BY_SPACE_RE symbols by space in text\n",
    "    text = BAD_SYMBOLS_RE.sub(' ', text) # delete symbols which are in BAD_SYMBOLS_RE from text\n",
    "    # text = ' '.join(word for word in text.split() if word not in STOPWORDS) # delete stopwors from text\n",
    "    return text\n",
    "    \n",
    "RedditNews['News_cleaned'] = RedditNews['News'].apply(clean_text)\n",
    "RedditNews"
   ]
  },
  {
   "cell_type": "markdown",
   "metadata": {
    "colab_type": "text",
    "id": "2PdGypW5zqi4"
   },
   "source": [
    "Un ejemplo de RASA"
   ]
  },
  {
   "cell_type": "code",
   "execution_count": 0,
   "metadata": {
    "colab": {
     "base_uri": "https://localhost:8080/",
     "height": 1000
    },
    "colab_type": "code",
    "id": "oAGR7TV50Nio",
    "outputId": "4f8f8199-4fc5-46dd-b427-68bed4715afb"
   },
   "outputs": [
    {
     "name": "stdout",
     "output_type": "stream",
     "text": [
      "Requirement already up-to-date: rasa_nlu[spacy] in /usr/local/lib/python3.6/dist-packages (0.15.1)\n",
      "Requirement already satisfied, skipping upgrade: gevent~=1.3 in /usr/local/lib/python3.6/dist-packages (from rasa_nlu[spacy]) (1.5.0)\n",
      "Requirement already satisfied, skipping upgrade: packaging~=18.0 in /usr/local/lib/python3.6/dist-packages (from rasa_nlu[spacy]) (18.0)\n",
      "Requirement already satisfied, skipping upgrade: klein~=17.10 in /usr/local/lib/python3.6/dist-packages (from rasa_nlu[spacy]) (17.10.0)\n",
      "Requirement already satisfied, skipping upgrade: typing~=3.6 in /usr/local/lib/python3.6/dist-packages (from rasa_nlu[spacy]) (3.6.6)\n",
      "Requirement already satisfied, skipping upgrade: numpy>=1.16 in /usr/local/lib/python3.6/dist-packages (from rasa_nlu[spacy]) (1.18.3)\n",
      "Requirement already satisfied, skipping upgrade: simplejson~=3.13 in /usr/local/lib/python3.6/dist-packages (from rasa_nlu[spacy]) (3.17.0)\n",
      "Requirement already satisfied, skipping upgrade: coloredlogs~=10.0 in /usr/local/lib/python3.6/dist-packages (from rasa_nlu[spacy]) (10.0)\n",
      "Requirement already satisfied, skipping upgrade: matplotlib~=2.2 in /usr/local/lib/python3.6/dist-packages (from rasa_nlu[spacy]) (2.2.5)\n",
      "Requirement already satisfied, skipping upgrade: scikit-learn~=0.20.2 in /usr/local/lib/python3.6/dist-packages (from rasa_nlu[spacy]) (0.20.4)\n",
      "Requirement already satisfied, skipping upgrade: ruamel.yaml~=0.15.7 in /usr/local/lib/python3.6/dist-packages (from rasa_nlu[spacy]) (0.15.100)\n",
      "Requirement already satisfied, skipping upgrade: future~=0.17.1 in /usr/local/lib/python3.6/dist-packages (from rasa_nlu[spacy]) (0.17.1)\n",
      "Requirement already satisfied, skipping upgrade: boto3~=1.9 in /usr/local/lib/python3.6/dist-packages (from rasa_nlu[spacy]) (1.12.47)\n",
      "Requirement already satisfied, skipping upgrade: cloudpickle~=0.6.1 in /usr/local/lib/python3.6/dist-packages (from rasa_nlu[spacy]) (0.6.1)\n",
      "Requirement already satisfied, skipping upgrade: jsonschema~=2.6 in /usr/local/lib/python3.6/dist-packages (from rasa_nlu[spacy]) (2.6.0)\n",
      "Requirement already satisfied, skipping upgrade: tqdm~=4.19 in /usr/local/lib/python3.6/dist-packages (from rasa_nlu[spacy]) (4.38.0)\n",
      "Requirement already satisfied, skipping upgrade: requests~=2.20 in /usr/local/lib/python3.6/dist-packages (from rasa_nlu[spacy]) (2.23.0)\n",
      "Requirement already satisfied, skipping upgrade: sklearn-crfsuite~=0.3.6; extra == \"spacy\" in /usr/local/lib/python3.6/dist-packages (from rasa_nlu[spacy]) (0.3.6)\n",
      "Requirement already satisfied, skipping upgrade: spacy<=2.0.18,>2.0; extra == \"spacy\" in /usr/local/lib/python3.6/dist-packages (from rasa_nlu[spacy]) (2.0.18)\n",
      "Requirement already satisfied, skipping upgrade: scipy~=1.2; extra == \"spacy\" in /usr/local/lib/python3.6/dist-packages (from rasa_nlu[spacy]) (1.4.1)\n",
      "Requirement already satisfied, skipping upgrade: greenlet>=0.4.14; platform_python_implementation == \"CPython\" in /usr/local/lib/python3.6/dist-packages (from gevent~=1.3->rasa_nlu[spacy]) (0.4.15)\n",
      "Requirement already satisfied, skipping upgrade: six in /usr/local/lib/python3.6/dist-packages (from packaging~=18.0->rasa_nlu[spacy]) (1.12.0)\n",
      "Requirement already satisfied, skipping upgrade: pyparsing>=2.0.2 in /usr/local/lib/python3.6/dist-packages (from packaging~=18.0->rasa_nlu[spacy]) (2.4.7)\n",
      "Requirement already satisfied, skipping upgrade: incremental in /usr/local/lib/python3.6/dist-packages (from klein~=17.10->rasa_nlu[spacy]) (17.5.0)\n",
      "Requirement already satisfied, skipping upgrade: Twisted>=15.5 in /usr/local/lib/python3.6/dist-packages (from klein~=17.10->rasa_nlu[spacy]) (20.3.0)\n",
      "Requirement already satisfied, skipping upgrade: werkzeug in /usr/local/lib/python3.6/dist-packages (from klein~=17.10->rasa_nlu[spacy]) (1.0.1)\n",
      "Requirement already satisfied, skipping upgrade: humanfriendly>=4.7 in /usr/local/lib/python3.6/dist-packages (from coloredlogs~=10.0->rasa_nlu[spacy]) (8.2)\n",
      "Requirement already satisfied, skipping upgrade: python-dateutil>=2.1 in /usr/local/lib/python3.6/dist-packages (from matplotlib~=2.2->rasa_nlu[spacy]) (2.8.1)\n",
      "Requirement already satisfied, skipping upgrade: kiwisolver>=1.0.1 in /usr/local/lib/python3.6/dist-packages (from matplotlib~=2.2->rasa_nlu[spacy]) (1.2.0)\n",
      "Requirement already satisfied, skipping upgrade: pytz in /usr/local/lib/python3.6/dist-packages (from matplotlib~=2.2->rasa_nlu[spacy]) (2018.9)\n",
      "Requirement already satisfied, skipping upgrade: cycler>=0.10 in /usr/local/lib/python3.6/dist-packages (from matplotlib~=2.2->rasa_nlu[spacy]) (0.10.0)\n",
      "Requirement already satisfied, skipping upgrade: jmespath<1.0.0,>=0.7.1 in /usr/local/lib/python3.6/dist-packages (from boto3~=1.9->rasa_nlu[spacy]) (0.9.5)\n",
      "Requirement already satisfied, skipping upgrade: s3transfer<0.4.0,>=0.3.0 in /usr/local/lib/python3.6/dist-packages (from boto3~=1.9->rasa_nlu[spacy]) (0.3.3)\n",
      "Requirement already satisfied, skipping upgrade: botocore<1.16.0,>=1.15.47 in /usr/local/lib/python3.6/dist-packages (from boto3~=1.9->rasa_nlu[spacy]) (1.15.47)\n",
      "Requirement already satisfied, skipping upgrade: urllib3!=1.25.0,!=1.25.1,<1.26,>=1.21.1 in /usr/local/lib/python3.6/dist-packages (from requests~=2.20->rasa_nlu[spacy]) (1.24.3)\n",
      "Requirement already satisfied, skipping upgrade: chardet<4,>=3.0.2 in /usr/local/lib/python3.6/dist-packages (from requests~=2.20->rasa_nlu[spacy]) (3.0.4)\n",
      "Requirement already satisfied, skipping upgrade: idna<3,>=2.5 in /usr/local/lib/python3.6/dist-packages (from requests~=2.20->rasa_nlu[spacy]) (2.9)\n",
      "Requirement already satisfied, skipping upgrade: certifi>=2017.4.17 in /usr/local/lib/python3.6/dist-packages (from requests~=2.20->rasa_nlu[spacy]) (2020.4.5.1)\n",
      "Requirement already satisfied, skipping upgrade: python-crfsuite>=0.8.3 in /usr/local/lib/python3.6/dist-packages (from sklearn-crfsuite~=0.3.6; extra == \"spacy\"->rasa_nlu[spacy]) (0.9.7)\n",
      "Requirement already satisfied, skipping upgrade: tabulate in /usr/local/lib/python3.6/dist-packages (from sklearn-crfsuite~=0.3.6; extra == \"spacy\"->rasa_nlu[spacy]) (0.8.7)\n",
      "Requirement already satisfied, skipping upgrade: ujson>=1.35 in /usr/local/lib/python3.6/dist-packages (from spacy<=2.0.18,>2.0; extra == \"spacy\"->rasa_nlu[spacy]) (2.0.3)\n",
      "Requirement already satisfied, skipping upgrade: plac<1.0.0,>=0.9.6 in /usr/local/lib/python3.6/dist-packages (from spacy<=2.0.18,>2.0; extra == \"spacy\"->rasa_nlu[spacy]) (0.9.6)\n",
      "Requirement already satisfied, skipping upgrade: cymem<2.1.0,>=2.0.2 in /usr/local/lib/python3.6/dist-packages (from spacy<=2.0.18,>2.0; extra == \"spacy\"->rasa_nlu[spacy]) (2.0.3)\n",
      "Requirement already satisfied, skipping upgrade: thinc<6.13.0,>=6.12.1 in /usr/local/lib/python3.6/dist-packages (from spacy<=2.0.18,>2.0; extra == \"spacy\"->rasa_nlu[spacy]) (6.12.1)\n",
      "Requirement already satisfied, skipping upgrade: preshed<2.1.0,>=2.0.1 in /usr/local/lib/python3.6/dist-packages (from spacy<=2.0.18,>2.0; extra == \"spacy\"->rasa_nlu[spacy]) (2.0.1)\n",
      "Requirement already satisfied, skipping upgrade: dill<0.3,>=0.2 in /usr/local/lib/python3.6/dist-packages (from spacy<=2.0.18,>2.0; extra == \"spacy\"->rasa_nlu[spacy]) (0.2.9)\n",
      "Requirement already satisfied, skipping upgrade: murmurhash<1.1.0,>=0.28.0 in /usr/local/lib/python3.6/dist-packages (from spacy<=2.0.18,>2.0; extra == \"spacy\"->rasa_nlu[spacy]) (1.0.2)\n",
      "Requirement already satisfied, skipping upgrade: regex==2018.01.10 in /usr/local/lib/python3.6/dist-packages (from spacy<=2.0.18,>2.0; extra == \"spacy\"->rasa_nlu[spacy]) (2018.1.10)\n",
      "Requirement already satisfied, skipping upgrade: PyHamcrest!=1.10.0,>=1.9.0 in /usr/local/lib/python3.6/dist-packages (from Twisted>=15.5->klein~=17.10->rasa_nlu[spacy]) (2.0.2)\n",
      "Requirement already satisfied, skipping upgrade: constantly>=15.1 in /usr/local/lib/python3.6/dist-packages (from Twisted>=15.5->klein~=17.10->rasa_nlu[spacy]) (15.1.0)\n",
      "Requirement already satisfied, skipping upgrade: Automat>=0.3.0 in /usr/local/lib/python3.6/dist-packages (from Twisted>=15.5->klein~=17.10->rasa_nlu[spacy]) (20.2.0)\n",
      "Requirement already satisfied, skipping upgrade: attrs>=19.2.0 in /usr/local/lib/python3.6/dist-packages (from Twisted>=15.5->klein~=17.10->rasa_nlu[spacy]) (19.3.0)\n",
      "Requirement already satisfied, skipping upgrade: zope.interface>=4.4.2 in /usr/local/lib/python3.6/dist-packages (from Twisted>=15.5->klein~=17.10->rasa_nlu[spacy]) (5.1.0)\n",
      "Requirement already satisfied, skipping upgrade: hyperlink>=17.1.1 in /usr/local/lib/python3.6/dist-packages (from Twisted>=15.5->klein~=17.10->rasa_nlu[spacy]) (19.0.0)\n",
      "Requirement already satisfied, skipping upgrade: docutils<0.16,>=0.10 in /usr/local/lib/python3.6/dist-packages (from botocore<1.16.0,>=1.15.47->boto3~=1.9->rasa_nlu[spacy]) (0.15.2)\n",
      "Requirement already satisfied, skipping upgrade: msgpack-numpy<0.4.4 in /usr/local/lib/python3.6/dist-packages (from thinc<6.13.0,>=6.12.1->spacy<=2.0.18,>2.0; extra == \"spacy\"->rasa_nlu[spacy]) (0.4.3.2)\n",
      "Requirement already satisfied, skipping upgrade: wrapt<1.11.0,>=1.10.0 in /usr/local/lib/python3.6/dist-packages (from thinc<6.13.0,>=6.12.1->spacy<=2.0.18,>2.0; extra == \"spacy\"->rasa_nlu[spacy]) (1.10.11)\n",
      "Requirement already satisfied, skipping upgrade: msgpack<0.6.0,>=0.5.6 in /usr/local/lib/python3.6/dist-packages (from thinc<6.13.0,>=6.12.1->spacy<=2.0.18,>2.0; extra == \"spacy\"->rasa_nlu[spacy]) (0.5.6)\n",
      "Requirement already satisfied, skipping upgrade: cytoolz<0.10,>=0.9.0 in /usr/local/lib/python3.6/dist-packages (from thinc<6.13.0,>=6.12.1->spacy<=2.0.18,>2.0; extra == \"spacy\"->rasa_nlu[spacy]) (0.9.0.1)\n",
      "Requirement already satisfied, skipping upgrade: setuptools in /usr/local/lib/python3.6/dist-packages (from zope.interface>=4.4.2->Twisted>=15.5->klein~=17.10->rasa_nlu[spacy]) (46.1.3)\n",
      "Requirement already satisfied, skipping upgrade: toolz>=0.8.0 in /usr/local/lib/python3.6/dist-packages (from cytoolz<0.10,>=0.9.0->thinc<6.13.0,>=6.12.1->spacy<=2.0.18,>2.0; extra == \"spacy\"->rasa_nlu[spacy]) (0.10.0)\n",
      "Requirement already satisfied: en_core_web_md==2.0.0 from https://github.com/explosion/spacy-models/releases/download/en_core_web_md-2.0.0/en_core_web_md-2.0.0.tar.gz#egg=en_core_web_md==2.0.0 in /usr/local/lib/python3.6/dist-packages (2.0.0)\n",
      "\n",
      "\u001b[93m    Linking successful\u001b[0m\n",
      "    /usr/local/lib/python3.6/dist-packages/en_core_web_md -->\n",
      "    /usr/local/lib/python3.6/dist-packages/spacy/data/en_core_web_md\n",
      "\n",
      "    You can now load the model via spacy.load('en_core_web_md')\n",
      "\n",
      "\n",
      "\u001b[93m    Linking successful\u001b[0m\n",
      "    /usr/local/lib/python3.6/dist-packages/en_core_web_md -->\n",
      "    /usr/local/lib/python3.6/dist-packages/spacy/data/en\n",
      "\n",
      "    You can now load the model via spacy.load('en')\n",
      "\n"
     ]
    }
   ],
   "source": [
    "import sys\n",
    "python = sys.executable\n",
    "\n",
    "# In your environment run:\n",
    "!{python} -m pip install -U rasa_nlu[spacy];\n",
    "\n",
    "# as well as install a language model:\n",
    "!{python} -m spacy download en_core_web_md\n",
    "!{python} -m spacy link en_core_web_md en --force;"
   ]
  },
  {
   "cell_type": "code",
   "execution_count": 0,
   "metadata": {
    "colab": {
     "base_uri": "https://localhost:8080/",
     "height": 68
    },
    "colab_type": "code",
    "id": "fWHr2ZIDzur7",
    "outputId": "35b874bc-f767-45c5-9124-7b65cf627ba6"
   },
   "outputs": [
    {
     "name": "stdout",
     "output_type": "stream",
     "text": [
      "rasa_nlu: 0.15.1 \n",
      "Loading spaCy language model...\n",
      "Hello world!\n"
     ]
    }
   ],
   "source": [
    "import rasa_nlu\n",
    "import spacy\n",
    "\n",
    "print(\"rasa_nlu: {} \".format(rasa_nlu.__version__))\n",
    "print(\"Loading spaCy language model...\")\n",
    "print(spacy.load(\"en\")(\"Hello world!\"))\n"
   ]
  },
  {
   "cell_type": "code",
   "execution_count": 0,
   "metadata": {
    "colab": {
     "base_uri": "https://localhost:8080/",
     "height": 34
    },
    "colab_type": "code",
    "id": "hVCJ_p2U5xP6",
    "outputId": "0995a2be-c25c-468b-f441-9bd42396a825"
   },
   "outputs": [
    {
     "name": "stdout",
     "output_type": "stream",
     "text": [
      "Drive already mounted at /drive; to attempt to forcibly remount, call drive.mount(\"/drive\", force_remount=True).\n"
     ]
    }
   ],
   "source": [
    "from google.colab import drive\n",
    "drive.mount('/drive')"
   ]
  },
  {
   "cell_type": "code",
   "execution_count": 0,
   "metadata": {
    "colab": {},
    "colab_type": "code",
    "id": "Jd8rSMIT3NzV"
   },
   "outputs": [],
   "source": [
    "import sys\n",
    "import io\n",
    "old_stdout = sys.stdout\n",
    "new_stdout = io.StringIO()\n",
    "sys.stdout = new_stdout\n",
    "\n",
    "print('' ) \n",
    "print('##', 'intent: increase')\n",
    "for row in RedditNews[RedditNews['Label']==1]['News_cleaned'].values:\n",
    "  print('-', row)\n",
    "print('##', 'intent: decrease')\n",
    "for row in RedditNews[RedditNews['Label']==0]['News_cleaned'].values:\n",
    "  print('-', row)\n",
    "\n",
    "output = new_stdout.getvalue()\n",
    "\n",
    "%store output > train.md"
   ]
  },
  {
   "cell_type": "code",
   "execution_count": 0,
   "metadata": {
    "colab": {},
    "colab_type": "code",
    "id": "oX5IEPWb7LgN"
   },
   "outputs": [],
   "source": [
    "config = \"\"\"\n",
    "language: \"en\"\n",
    "\n",
    "pipeline:\n",
    "- name: \"nlp_spacy\"                   # loads the spacy language model\n",
    "- name: \"tokenizer_spacy\"             # splits the sentence into tokens\n",
    "- name: \"ner_crf\"                     # uses the pretrained spacy NER model\n",
    "- name: \"intent_featurizer_spacy\"     # transform the sentence into a vector representation\n",
    "- name: \"intent_classifier_sklearn\"   # uses the vector representation to classify using SVM\n",
    "- name: \"ner_synonyms\"                # trains the synonyms\n",
    "\"\"\" \n",
    "\n",
    "# with open('/drive/My Drive/News NLP/config.yml', 'w') as f:\n",
    "#   f.write(config)\n",
    "%store config > config.yml"
   ]
  },
  {
   "cell_type": "code",
   "execution_count": 0,
   "metadata": {
    "colab": {
     "base_uri": "https://localhost:8080/",
     "height": 34
    },
    "colab_type": "code",
    "id": "oclzbCTU7-ph",
    "outputId": "734d3430-840b-42c0-c04d-a71f54d3e33e"
   },
   "outputs": [
    {
     "name": "stderr",
     "output_type": "stream",
     "text": [
      "[Parallel(n_jobs=1)]: Using backend SequentialBackend with 1 concurrent workers.\n"
     ]
    }
   ],
   "source": [
    "from rasa_nlu.training_data import load_data\n",
    "from rasa_nlu.config import RasaNLUModelConfig\n",
    "from rasa_nlu.model import Trainer\n",
    "from rasa_nlu import config\n",
    "\n",
    "# loading the nlu training samples\n",
    "training_data = load_data(\"train.md\")\n",
    "\n",
    "# trainer to educate our pipeline\n",
    "trainer = Trainer(config.load(\"config.yml\"))\n",
    "\n",
    "# train the model!\n",
    "interpreter = trainer.train(training_data)\n",
    "\n",
    "# store it for future use\n",
    "model_directory = trainer.persist(\"./models/nlu\", fixed_model_name=\"current\")"
   ]
  },
  {
   "cell_type": "code",
   "execution_count": 0,
   "metadata": {
    "colab": {},
    "colab_type": "code",
    "id": "LHXCHbrkBiab"
   },
   "outputs": [],
   "source": [
    "interpreter.parse(\"Georgia 'downs two Russian warplanes' as countries move to brink of war\")"
   ]
  }
 ],
 "metadata": {
  "colab": {
   "include_colab_link": true,
   "name": "Topics_noticias_reddit_edgar.ipynb",
   "provenance": []
  },
  "kernelspec": {
   "display_name": "Python 3",
   "language": "python",
   "name": "python3"
  },
  "language_info": {
   "codemirror_mode": {
    "name": "ipython",
    "version": 3
   },
   "file_extension": ".py",
   "mimetype": "text/x-python",
   "name": "python",
   "nbconvert_exporter": "python",
   "pygments_lexer": "ipython3",
   "version": "3.7.3"
  }
 },
 "nbformat": 4,
 "nbformat_minor": 1
}
