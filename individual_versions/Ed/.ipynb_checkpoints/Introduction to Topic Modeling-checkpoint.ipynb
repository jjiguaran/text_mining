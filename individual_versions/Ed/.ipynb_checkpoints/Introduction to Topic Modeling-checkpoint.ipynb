{
 "cells": [
  {
   "cell_type": "markdown",
   "metadata": {},
   "source": [
    "### Introduction\n",
    "Topic Models, in a nutshell, are a type of statistical language models used for uncovering hidden structure in a collection of texts. In a practical and more intuitively, you can think of it as a task of:\n",
    "\n",
    "- **Dimensionality Reduction**, where rather than representing a text T in its feature space as {Word_i: count(Word_i, T) for Word_i in Vocabulary}, you can represent it in a topic space as {Topic_i: Weight(Topic_i, T) for Topic_i in Topics}\n",
    "- **Unsupervised Learning**, where it can be compared to clustering, as in the case of clustering, the number of topics, like the number of clusters, is an output parameter. By doing topic modeling, we build clusters of words rather than clusters of texts. A text is thus a mixture of all the topics, each having a specific weight\n",
    "- **Tagging**, abstract “topics” that occur in a collection of documents that best represents the information in them.\n",
    "\n",
    "There are several existing algorithms you can use to perform the topic modeling. The most common of it are, Latent Semantic Analysis (LSA/LSI), Probabilistic Latent Semantic Analysis (pLSA), and Latent Dirichlet Allocation (LDA)\n",
    "\n",
    "In this tutorial, we’ll take a closer look at LDA, and implement our first topic model using the sklearn implementation in python 2.7\n",
    "\n",
    "### Theoretical Overview\n",
    "LDA is a generative probabilistic model that assumes each topic is a mixture over an underlying set of words, and each document is a mixture of over a set of topic probabilities.\n",
    "\n",
    "![LDA_Model](https://github.com/chdoig/pytexas2015-topic-modeling/blob/master/images/lda-4.png?raw=true)\n",
    "\n",
    "We can describe the generative process of LDA as, given the M number of documents, N number of words, and prior K number of topics, the model trains to output:\n",
    "\n",
    "- `psi`, the distribution of words for each topic K\n",
    "- `phi`, the distribution of topics for each document i\n",
    "\n",
    "#### Parameters of LDA\n",
    "\n",
    "- `Alpha parameter` is Dirichlet prior concentration parameter that represents document-topic density — with a higher alpha, documents are assumed to be made up of more topics and result in more specific topic distribution per document.\n",
    "- `Beta parameter` is the same prior concentration parameter that represents topic-word density — with high beta, topics are assumed to made of up most of the words and result in a more specific word distribution per topic."
   ]
  },
  {
   "cell_type": "markdown",
   "metadata": {},
   "source": [
    "### The process\n",
    "- We pick the number of topics ahead of time even if we’re not sure what the topics are.\n",
    "- Each document is represented as a distribution over topics.\n",
    "- Each topic is represented as a distribution over words."
   ]
  },
  {
   "cell_type": "markdown",
   "metadata": {},
   "source": [
    "### LDA Implementation\n",
    "\n",
    "1. Loading data\n",
    "2. Data cleaning\n",
    "3. Exploratory analysis\n",
    "4. Preparing data for LDA analysis\n",
    "5. Model Evaluation and parameter tuning"
   ]
  },
  {
   "cell_type": "markdown",
   "metadata": {},
   "source": [
    "#### Loading data\n",
    "\n",
    "\n",
    "Let’s start by looking at the content of the file"
   ]
  },
  {
   "cell_type": "code",
   "execution_count": 1,
   "metadata": {},
   "outputs": [],
   "source": [
    "import warnings\n",
    "warnings.simplefilter(\"ignore\", DeprecationWarning)\n",
    "warnings.simplefilter(action='ignore', category=FutureWarning)\n"
   ]
  },
  {
   "cell_type": "code",
   "execution_count": 2,
   "metadata": {},
   "outputs": [],
   "source": [
    "# Importing modules\n",
    "%load_ext autotime\n",
    "\n",
    "# Importar librerias\n",
    "import pandas as pd\n",
    "\n",
    "pd.set_option('display.max_columns', 200)\n",
    "pd.set_option('display.max_rows', 100)\n",
    "pd.set_option('display.expand_frame_repr', True)\n",
    "import os\n",
    "\n",
    "#Importar los datasets\n",
    "url_reddit = 'https://raw.githubusercontent.com/jjiguaran/text_mining/master/Data/RedditNews.csv'\n",
    "url_combined = 'https://raw.githubusercontent.com/jjiguaran/text_mining/master/Data/Combined_News_DJIA.csv'\n",
    "RedditNews = pd.read_csv(url_reddit)\n",
    "CombinedNews = pd.read_csv(url_combined)\n",
    "\n",
    "\n",
    "RedditNews['Date'] =  pd.to_datetime(RedditNews['Date'], format='%Y-%m-%d')\n",
    "CombinedNews['Date'] =  pd.to_datetime(CombinedNews['Date'], format='%Y-%m-%d')\n"
   ]
  },
  {
   "cell_type": "code",
   "execution_count": 3,
   "metadata": {},
   "outputs": [
    {
     "data": {
      "text/plain": [
       "1989"
      ]
     },
     "metadata": {},
     "output_type": "display_data"
    },
    {
     "data": {
      "text/plain": [
       "1989"
      ]
     },
     "metadata": {},
     "output_type": "display_data"
    },
    {
     "name": "stdout",
     "output_type": "stream",
     "text": [
      "time: 36 ms\n"
     ]
    }
   ],
   "source": [
    "## Nos quedamos con las fechas del dataset que está etiquetado\n",
    "RedditNews = RedditNews[RedditNews['Date'].isin(CombinedNews['Date'])]\n",
    "\n",
    "display(\n",
    "    CombinedNews['Date'].nunique(),\n",
    "    RedditNews['Date'].nunique() )"
   ]
  },
  {
   "cell_type": "markdown",
   "metadata": {},
   "source": [
    "#### Data Cleaning\n",
    "\n",
    "Since the goal of this analysis is to perform topic modeling, we will solely focus on the text data from each paper, and drop other metadata columns"
   ]
  },
  {
   "cell_type": "code",
   "execution_count": 4,
   "metadata": {},
   "outputs": [
    {
     "name": "stdout",
     "output_type": "stream",
     "text": [
      "time: 205 ms\n"
     ]
    }
   ],
   "source": [
    "## Hay error en la codificación de caracteres especiales, encontré ese, pero hay que ver que otros surgen\n",
    "RedditNews['News'] = RedditNews['News'].str.replace('&amp;', '&')"
   ]
  },
  {
   "cell_type": "code",
   "execution_count": 5,
   "metadata": {},
   "outputs": [
    {
     "data": {
      "text/html": [
       "<div>\n",
       "<style scoped>\n",
       "    .dataframe tbody tr th:only-of-type {\n",
       "        vertical-align: middle;\n",
       "    }\n",
       "\n",
       "    .dataframe tbody tr th {\n",
       "        vertical-align: top;\n",
       "    }\n",
       "\n",
       "    .dataframe thead th {\n",
       "        text-align: right;\n",
       "    }\n",
       "</style>\n",
       "<table border=\"1\" class=\"dataframe\">\n",
       "  <thead>\n",
       "    <tr style=\"text-align: right;\">\n",
       "      <th></th>\n",
       "      <th>Date</th>\n",
       "      <th>News</th>\n",
       "    </tr>\n",
       "  </thead>\n",
       "  <tbody>\n",
       "    <tr>\n",
       "      <th>54798</th>\n",
       "      <td>2010-06-30</td>\n",
       "      <td>b\"South Korea's parliament votes to legalize c...</td>\n",
       "    </tr>\n",
       "    <tr>\n",
       "      <th>54804</th>\n",
       "      <td>2010-06-30</td>\n",
       "      <td>b\"The German economy is rapidly improving, wit...</td>\n",
       "    </tr>\n",
       "    <tr>\n",
       "      <th>54819</th>\n",
       "      <td>2010-06-30</td>\n",
       "      <td>b\"BBC News - Russian spy suspect missing in Cy...</td>\n",
       "    </tr>\n",
       "    <tr>\n",
       "      <th>54821</th>\n",
       "      <td>2010-06-30</td>\n",
       "      <td>b\"Iraq inquiry: secret documents showing Tony ...</td>\n",
       "    </tr>\n",
       "    <tr>\n",
       "      <th>54822</th>\n",
       "      <td>2010-06-30</td>\n",
       "      <td>b\"Apartheid loves apartheid: Israel's secret r...</td>\n",
       "    </tr>\n",
       "  </tbody>\n",
       "</table>\n",
       "</div>"
      ],
      "text/plain": [
       "            Date                                               News\n",
       "54798 2010-06-30  b\"South Korea's parliament votes to legalize c...\n",
       "54804 2010-06-30  b\"The German economy is rapidly improving, wit...\n",
       "54819 2010-06-30  b\"BBC News - Russian spy suspect missing in Cy...\n",
       "54821 2010-06-30  b\"Iraq inquiry: secret documents showing Tony ...\n",
       "54822 2010-06-30  b\"Apartheid loves apartheid: Israel's secret r..."
      ]
     },
     "metadata": {},
     "output_type": "display_data"
    },
    {
     "data": {
      "text/html": [
       "<div>\n",
       "<style scoped>\n",
       "    .dataframe tbody tr th:only-of-type {\n",
       "        vertical-align: middle;\n",
       "    }\n",
       "\n",
       "    .dataframe tbody tr th {\n",
       "        vertical-align: top;\n",
       "    }\n",
       "\n",
       "    .dataframe thead th {\n",
       "        text-align: right;\n",
       "    }\n",
       "</style>\n",
       "<table border=\"1\" class=\"dataframe\">\n",
       "  <thead>\n",
       "    <tr style=\"text-align: right;\">\n",
       "      <th></th>\n",
       "      <th>Date</th>\n",
       "      <th>News</th>\n",
       "    </tr>\n",
       "  </thead>\n",
       "  <tbody>\n",
       "    <tr>\n",
       "      <th>54799</th>\n",
       "      <td>2010-06-30</td>\n",
       "      <td>b'Pope rebukes cardinal who exposed abuse: \\nP...</td>\n",
       "    </tr>\n",
       "    <tr>\n",
       "      <th>54800</th>\n",
       "      <td>2010-06-30</td>\n",
       "      <td>b'This depression is similar to the Great Pani...</td>\n",
       "    </tr>\n",
       "    <tr>\n",
       "      <th>54801</th>\n",
       "      <td>2010-06-30</td>\n",
       "      <td>b'The Niger Delta has experienced oil spills o...</td>\n",
       "    </tr>\n",
       "    <tr>\n",
       "      <th>54802</th>\n",
       "      <td>2010-06-30</td>\n",
       "      <td>b'G20 Toronto - So Black Block get green light...</td>\n",
       "    </tr>\n",
       "    <tr>\n",
       "      <th>54803</th>\n",
       "      <td>2010-06-30</td>\n",
       "      <td>b'Half of Afghanistans 476 women prisoners wer...</td>\n",
       "    </tr>\n",
       "  </tbody>\n",
       "</table>\n",
       "</div>"
      ],
      "text/plain": [
       "            Date                                               News\n",
       "54799 2010-06-30  b'Pope rebukes cardinal who exposed abuse: \\nP...\n",
       "54800 2010-06-30  b'This depression is similar to the Great Pani...\n",
       "54801 2010-06-30  b'The Niger Delta has experienced oil spills o...\n",
       "54802 2010-06-30  b'G20 Toronto - So Black Block get green light...\n",
       "54803 2010-06-30  b'Half of Afghanistans 476 women prisoners wer..."
      ]
     },
     "metadata": {},
     "output_type": "display_data"
    },
    {
     "name": "stdout",
     "output_type": "stream",
     "text": [
      "time: 485 ms\n"
     ]
    }
   ],
   "source": [
    "## Hay error en la codificación de caracteres especiales, encontré ese, pero hay que ver que otros surgen\n",
    "index_review = RedditNews[(RedditNews['News'].str.startswith('b\"')) |\n",
    "                         (RedditNews['News'].str.startswith(\"b'\"))].index\n",
    "\n",
    "display(RedditNews[RedditNews['News'].str.startswith('b\"')].head(),\n",
    "        RedditNews[RedditNews['News'].str.startswith(\"b'\")].head())\n",
    "\n",
    "\n",
    "RedditNews['News'] = RedditNews['News'].str.replace('^b\\\"', \" \", regex=True)\n",
    "RedditNews['News'] = RedditNews['News'].str.replace(\"^b\\'\", \" \", regex=True)"
   ]
  },
  {
   "cell_type": "markdown",
   "metadata": {},
   "source": [
    "#### Remove punctuation/lower casing\n",
    "\n",
    "Next, let’s perform a simple preprocessing on the content of paper_text column to make them more amenable for analysis, and reliable results. To do that, we’ll use a regular expression to remove any punctuation, and then lowercase the text"
   ]
  },
  {
   "cell_type": "code",
   "execution_count": 6,
   "metadata": {},
   "outputs": [
    {
     "data": {
      "text/html": [
       "<div>\n",
       "<style scoped>\n",
       "    .dataframe tbody tr th:only-of-type {\n",
       "        vertical-align: middle;\n",
       "    }\n",
       "\n",
       "    .dataframe tbody tr th {\n",
       "        vertical-align: top;\n",
       "    }\n",
       "\n",
       "    .dataframe thead th {\n",
       "        text-align: right;\n",
       "    }\n",
       "</style>\n",
       "<table border=\"1\" class=\"dataframe\">\n",
       "  <thead>\n",
       "    <tr style=\"text-align: right;\">\n",
       "      <th></th>\n",
       "      <th>Date</th>\n",
       "      <th>News</th>\n",
       "    </tr>\n",
       "  </thead>\n",
       "  <tbody>\n",
       "    <tr>\n",
       "      <th>0</th>\n",
       "      <td>2016-07-01</td>\n",
       "      <td>a 117 year old woman in mexico city finally re...</td>\n",
       "    </tr>\n",
       "    <tr>\n",
       "      <th>1</th>\n",
       "      <td>2016-07-01</td>\n",
       "      <td>imf chief backs athens as permanent olympic host</td>\n",
       "    </tr>\n",
       "    <tr>\n",
       "      <th>2</th>\n",
       "      <td>2016-07-01</td>\n",
       "      <td>the president of france says if brexit won  so...</td>\n",
       "    </tr>\n",
       "    <tr>\n",
       "      <th>3</th>\n",
       "      <td>2016-07-01</td>\n",
       "      <td>british man who must give police 24 hours  not...</td>\n",
       "    </tr>\n",
       "    <tr>\n",
       "      <th>4</th>\n",
       "      <td>2016-07-01</td>\n",
       "      <td>100+ nobel laureates urge greenpeace to stop o...</td>\n",
       "    </tr>\n",
       "  </tbody>\n",
       "</table>\n",
       "</div>"
      ],
      "text/plain": [
       "        Date                                               News\n",
       "0 2016-07-01  a 117 year old woman in mexico city finally re...\n",
       "1 2016-07-01   imf chief backs athens as permanent olympic host\n",
       "2 2016-07-01  the president of france says if brexit won  so...\n",
       "3 2016-07-01  british man who must give police 24 hours  not...\n",
       "4 2016-07-01  100+ nobel laureates urge greenpeace to stop o..."
      ]
     },
     "execution_count": 6,
     "metadata": {},
     "output_type": "execute_result"
    },
    {
     "name": "stdout",
     "output_type": "stream",
     "text": [
      "time: 276 ms\n"
     ]
    }
   ],
   "source": [
    "##Una función para limpieza básica, podemos añadir cosas, es un solo una base, luego lo adaptamos más a nuestro uso\n",
    "\n",
    "import re\n",
    "\n",
    "REPLACE_BY_SPACE_RE = re.compile(r'[/(){}\\[\\]\\|@,;-]')\n",
    "BAD_SYMBOLS_RE = re.compile(r'[^0-9a-z #+_]')\n",
    "\n",
    "def clean_text(text):\n",
    "    \"\"\"\n",
    "        text: a string\n",
    "        \n",
    "        return: modified initial string\n",
    "    \"\"\"\n",
    "    text = text.lower() # lowercase text\n",
    "    text = REPLACE_BY_SPACE_RE.sub(' ', text) # replace REPLACE_BY_SPACE_RE symbols by space in text\n",
    "    text = BAD_SYMBOLS_RE.sub(' ', text) # delete symbols which are in BAD_SYMBOLS_RE from text\n",
    "    return text\n",
    "    \n",
    "RedditNews['News'] = RedditNews['News'].apply(clean_text)\n",
    "RedditNews.head()"
   ]
  },
  {
   "cell_type": "markdown",
   "metadata": {},
   "source": [
    "#### Exploratory Analysis\n",
    "\n",
    "To verify whether the preprocessing happened correctly, we’ll make a word cloud using the wordcloud package to get a visual representation of most common words. It is key to understanding the data and ensuring we are on the right track, and if any more preprocessing is necessary before training the model."
   ]
  },
  {
   "cell_type": "code",
   "execution_count": 7,
   "metadata": {},
   "outputs": [
    {
     "data": {
      "image/png": "[encoded data removed]",
      "text/plain": [
       "<PIL.Image.Image image mode=RGB size=400x200 at 0x247A601E358>"
      ]
     },
     "execution_count": 7,
     "metadata": {},
     "output_type": "execute_result"
    },
    {
     "name": "stdout",
     "output_type": "stream",
     "text": [
      "time: 8 s\n"
     ]
    }
   ],
   "source": [
    "# Import the wordcloud library\n",
    "from wordcloud import WordCloud\n",
    "\n",
    "# Join the different processed titles together.\n",
    "long_string = ','.join(list(RedditNews['News'].values))\n",
    "\n",
    "# Create a WordCloud object\n",
    "wordcloud = WordCloud(background_color=\"white\", max_words=1000, contour_width=3, contour_color='steelblue')\n",
    "\n",
    "# Generate a word cloud\n",
    "wordcloud.generate(long_string)\n",
    "\n",
    "# Visualize the word cloud\n",
    "wordcloud.to_image()"
   ]
  },
  {
   "cell_type": "markdown",
   "metadata": {},
   "source": [
    "#### Prepare text for LDA analysis\n",
    "\n",
    "Next, let’s work to transform the textual data in a format that will serve as an input for training LDA model. We start by converting the documents into a simple vector representation (Bag of Words BOW). Next, we will convert a list of titles into lists of vectors, all with length equal to the vocabulary.\n",
    "\n",
    "We’ll then plot the ten most frequent words based on the outcome of this operation (the list of document vectors). As a check, these words should also occur in the word cloud."
   ]
  },
  {
   "cell_type": "code",
   "execution_count": 8,
   "metadata": {},
   "outputs": [
    {
     "data": {
      "image/png": "[encoded data removed]",
      "text/plain": [
       "<Figure size 1080x667.491 with 1 Axes>"
      ]
     },
     "metadata": {
      "needs_background": "light"
     },
     "output_type": "display_data"
    },
    {
     "name": "stdout",
     "output_type": "stream",
     "text": [
      "time: 10.3 s\n"
     ]
    }
   ],
   "source": [
    "# Load the library with the CountVectorizer method\n",
    "from sklearn.feature_extraction.text import CountVectorizer\n",
    "import numpy as np\n",
    "\n",
    "import matplotlib.pyplot as plt\n",
    "import seaborn as sns\n",
    "sns.set_style('whitegrid')\n",
    "%matplotlib inline\n",
    "\n",
    "# Helper function\n",
    "def plot_10_most_common_words(count_data, count_vectorizer):\n",
    "    import matplotlib.pyplot as plt\n",
    "    words = count_vectorizer.get_feature_names()\n",
    "    total_counts = np.zeros(len(words))\n",
    "    for t in count_data:\n",
    "        total_counts+=t.toarray()[0]\n",
    "    \n",
    "    count_dict = (zip(words, total_counts))\n",
    "    count_dict = sorted(count_dict, key=lambda x:x[1], reverse=True)[0:10]\n",
    "    words = [w[0] for w in count_dict]\n",
    "    counts = [w[1] for w in count_dict]\n",
    "    x_pos = np.arange(len(words)) \n",
    "    \n",
    "    plt.figure(2, figsize=(15, 15/1.6180))\n",
    "    plt.subplot(title='10 most common words')\n",
    "    sns.set_context(\"notebook\", font_scale=1.25, rc={\"lines.linewidth\": 2.5})\n",
    "    sns.barplot(x_pos, counts, palette='husl')\n",
    "    plt.xticks(x_pos, words, rotation=90) \n",
    "    plt.xlabel('words')\n",
    "    plt.ylabel('counts')\n",
    "    plt.show()\n",
    "\n",
    "# Initialise the count vectorizer with the English stop words\n",
    "count_vectorizer = CountVectorizer(stop_words='english')\n",
    "\n",
    "# Fit and transform the processed titles\n",
    "count_data = count_vectorizer.fit_transform(RedditNews['News'])\n",
    "\n",
    "# Visualise the 10 most common words\n",
    "plot_10_most_common_words(count_data, count_vectorizer)"
   ]
  },
  {
   "cell_type": "markdown",
   "metadata": {},
   "source": [
    "### Analyzing our LDA model\n",
    "\n",
    "Now that we have a trained model let’s visualize the topics for interpretability. To do so, we’ll use a popular visualization package, pyLDAvis which is designed to help interactively with:\n",
    "\n",
    "1. Better understanding and interpreting individual topics, and\n",
    "2. Better understanding the relationships between the topics.\n",
    "\n",
    "For (1), you can manually select each topic to view its top most frequent and/or “relevant” terms, using different values of the λ parameter. This can help when you’re trying to assign a human interpretable name or “meaning” to each topic.\n",
    "For (2), exploring the Intertopic Distance Plot can help you learn about how topics relate to each other, including potential higher-level structure between groups of topics."
   ]
  },
  {
   "cell_type": "code",
   "execution_count": 9,
   "metadata": {
    "scrolled": true
   },
   "outputs": [
    {
     "name": "stdout",
     "output_type": "stream",
     "text": [
      "Error in callback <function LineWatcher.stop at 0x00000247A3CFBEA0> (for post_run_cell):\n"
     ]
    },
    {
     "ename": "AssertionError",
     "evalue": "",
     "output_type": "error",
     "traceback": [
      "\u001b[1;31m---------------------------------------------------------------------------\u001b[0m",
      "\u001b[1;31mAssertionError\u001b[0m                            Traceback (most recent call last)",
      "\u001b[1;32m~\\Anaconda3\\envs\\nlp\\lib\\site-packages\\backcall\\backcall.py\u001b[0m in \u001b[0;36madapted\u001b[1;34m(*args, **kwargs)\u001b[0m\n\u001b[0;32m    102\u001b[0m                 \u001b[0mkwargs\u001b[0m\u001b[1;33m.\u001b[0m\u001b[0mpop\u001b[0m\u001b[1;33m(\u001b[0m\u001b[0mname\u001b[0m\u001b[1;33m)\u001b[0m\u001b[1;33m\u001b[0m\u001b[1;33m\u001b[0m\u001b[0m\n\u001b[0;32m    103\u001b[0m \u001b[1;31m#            print(args, kwargs, unmatched_pos, cut_positional, unmatched_kw)\u001b[0m\u001b[1;33m\u001b[0m\u001b[1;33m\u001b[0m\u001b[1;33m\u001b[0m\u001b[0m\n\u001b[1;32m--> 104\u001b[1;33m             \u001b[1;32mreturn\u001b[0m \u001b[0mcallback\u001b[0m\u001b[1;33m(\u001b[0m\u001b[1;33m*\u001b[0m\u001b[0margs\u001b[0m\u001b[1;33m,\u001b[0m \u001b[1;33m**\u001b[0m\u001b[0mkwargs\u001b[0m\u001b[1;33m)\u001b[0m\u001b[1;33m\u001b[0m\u001b[1;33m\u001b[0m\u001b[0m\n\u001b[0m\u001b[0;32m    105\u001b[0m \u001b[1;33m\u001b[0m\u001b[0m\n\u001b[0;32m    106\u001b[0m         \u001b[1;32mreturn\u001b[0m \u001b[0madapted\u001b[0m\u001b[1;33m\u001b[0m\u001b[1;33m\u001b[0m\u001b[0m\n",
      "\u001b[1;32m~\\Anaconda3\\envs\\nlp\\lib\\site-packages\\autotime.py\u001b[0m in \u001b[0;36mstop\u001b[1;34m(self)\u001b[0m\n\u001b[0;32m     23\u001b[0m         \u001b[1;32mif\u001b[0m \u001b[0mself\u001b[0m\u001b[1;33m.\u001b[0m\u001b[0mstart_time\u001b[0m\u001b[1;33m:\u001b[0m\u001b[1;33m\u001b[0m\u001b[1;33m\u001b[0m\u001b[0m\n\u001b[0;32m     24\u001b[0m             \u001b[0mdiff\u001b[0m \u001b[1;33m=\u001b[0m \u001b[0mtime\u001b[0m\u001b[1;33m.\u001b[0m\u001b[0mtime\u001b[0m\u001b[1;33m(\u001b[0m\u001b[1;33m)\u001b[0m \u001b[1;33m-\u001b[0m \u001b[0mself\u001b[0m\u001b[1;33m.\u001b[0m\u001b[0mstart_time\u001b[0m\u001b[1;33m\u001b[0m\u001b[1;33m\u001b[0m\u001b[0m\n\u001b[1;32m---> 25\u001b[1;33m             \u001b[1;32massert\u001b[0m \u001b[0mdiff\u001b[0m \u001b[1;33m>\u001b[0m \u001b[1;36m0\u001b[0m\u001b[1;33m\u001b[0m\u001b[1;33m\u001b[0m\u001b[0m\n\u001b[0m\u001b[0;32m     26\u001b[0m             \u001b[0mprint\u001b[0m\u001b[1;33m(\u001b[0m\u001b[1;34m'time: %s'\u001b[0m \u001b[1;33m%\u001b[0m \u001b[0mformat_delta\u001b[0m\u001b[1;33m(\u001b[0m\u001b[0mdiff\u001b[0m\u001b[1;33m)\u001b[0m\u001b[1;33m)\u001b[0m\u001b[1;33m\u001b[0m\u001b[1;33m\u001b[0m\u001b[0m\n\u001b[0;32m     27\u001b[0m \u001b[1;33m\u001b[0m\u001b[0m\n",
      "\u001b[1;31mAssertionError\u001b[0m: "
     ]
    }
   ],
   "source": [
    "# !pip install gensim\n",
    "# !pip install PyLDAvis\n",
    "# !pip install spacy\n",
    "# !python -m spacy download en_core_web_sm"
   ]
  },
  {
   "cell_type": "markdown",
   "metadata": {},
   "source": [
    "#### Tokenize words and further clean-up text\n",
    "Let’s tokenize each sentence into a list of words, removing punctuations and unnecessary characters altogether."
   ]
  },
  {
   "cell_type": "code",
   "execution_count": 10,
   "metadata": {},
   "outputs": [
    {
     "name": "stdout",
     "output_type": "stream",
     "text": [
      "['year', 'old', 'woman', 'in', 'mexico', 'city', 'finally', 'received', 'her', 'birth', 'certificate', 'and', 'died', 'few', 'hours', 'later', 'trinidad', 'alvarez', 'lira', 'had', 'waited', 'years', 'for', 'proof', 'that', 'she', 'had', 'been', 'born', 'in']\n",
      "time: 4.52 s\n"
     ]
    }
   ],
   "source": [
    "import gensim\n",
    "from gensim.utils import simple_preprocess\n",
    "\n",
    "def sent_to_words(sentences):\n",
    "    for sentence in sentences:\n",
    "        yield(gensim.utils.simple_preprocess(str(sentence), deacc=True))  # deacc=True removes punctuations\n",
    "\n",
    "data = RedditNews.News.values.tolist()\n",
    "data_words = list(sent_to_words(data))\n",
    "\n",
    "print(data_words[:1][0][:30])"
   ]
  },
  {
   "cell_type": "markdown",
   "metadata": {},
   "source": [
    "#### Creating Bigram and Trigram Models\n",
    "Bigrams are two words frequently occurring together in the document. Trigrams are 3 words frequently occurring. Some examples in our example are: 'back_bumper', 'oil_leakage', 'maryland_college_park' etc.\n",
    "\n",
    "Gensim's Phrases model can build and implement the bigrams, trigrams, quadgrams and more. The two important arguments to Phrases are min_count and threshold."
   ]
  },
  {
   "cell_type": "code",
   "execution_count": 11,
   "metadata": {},
   "outputs": [
    {
     "name": "stdout",
     "output_type": "stream",
     "text": [
      "time: 20.4 s\n"
     ]
    }
   ],
   "source": [
    "# Build the bigram and trigram models\n",
    "bigram = gensim.models.Phrases(data_words, min_count=5, threshold=100) # higher threshold fewer phrases.\n",
    "trigram = gensim.models.Phrases(bigram[data_words], threshold=100)  \n",
    "\n",
    "# Faster way to get a sentence clubbed as a trigram/bigram\n",
    "bigram_mod = gensim.models.phrases.Phraser(bigram)\n",
    "trigram_mod = gensim.models.phrases.Phraser(trigram)"
   ]
  },
  {
   "cell_type": "markdown",
   "metadata": {},
   "source": [
    "#### Remove Stopwords, Make Bigrams and Lemmatize\n",
    "The phrase models are ready. Let’s define the functions to remove the stopwords, make trigrams and lemmatization and call them sequentially."
   ]
  },
  {
   "cell_type": "code",
   "execution_count": 12,
   "metadata": {},
   "outputs": [
    {
     "name": "stdout",
     "output_type": "stream",
     "text": [
      "time: 595 ms\n"
     ]
    }
   ],
   "source": [
    "# NLTK Stop words\n",
    "import nltk\n",
    "# nltk.download('stopwords')\n",
    "from nltk.corpus import stopwords\n",
    "\n",
    "stop_words = stopwords.words('english')\n",
    "stop_words.extend(['from', 'subject', 're', 'edu', 'use'])"
   ]
  },
  {
   "cell_type": "code",
   "execution_count": 13,
   "metadata": {},
   "outputs": [
    {
     "name": "stdout",
     "output_type": "stream",
     "text": [
      "time: 3 ms\n"
     ]
    }
   ],
   "source": [
    "def remove_stopwords(texts):\n",
    "    return [[word for word in simple_preprocess(str(doc)) if word not in stop_words] for doc in texts]\n",
    "\n",
    "def make_bigrams(texts):\n",
    "    return [bigram_mod[doc] for doc in texts]\n",
    "\n",
    "def make_trigrams(texts):\n",
    "    return [trigram_mod[bigram_mod[doc]] for doc in texts]\n",
    "\n",
    "def lemmatization(texts, allowed_postags=['NOUN', 'ADJ', 'VERB', 'ADV']):\n",
    "    \"\"\"https://spacy.io/api/annotation\"\"\"\n",
    "    texts_out = []\n",
    "    for sent in texts:\n",
    "        doc = nlp(\" \".join(sent)) \n",
    "        texts_out.append([token.lemma_ for token in doc if token.pos_ in allowed_postags])\n",
    "    return texts_out"
   ]
  },
  {
   "cell_type": "code",
   "execution_count": 14,
   "metadata": {},
   "outputs": [
    {
     "name": "stdout",
     "output_type": "stream",
     "text": [
      "['year_old', 'woman', 'mexico', 'city', 'finally', 'receive', 'birth', 'certificate', 'die', 'hour', 'later', 'trinidad', 'alvarez', 'lira', 'wait', 'year', 'proof', 'bear']\n",
      "time: 3min 24s\n"
     ]
    }
   ],
   "source": [
    "import spacy\n",
    "\n",
    "# Remove Stop Words\n",
    "data_words_nostops = remove_stopwords(data_words)\n",
    "\n",
    "# Form Bigrams\n",
    "data_words_bigrams = make_bigrams(data_words_nostops)\n",
    "\n",
    "# Initialize spacy 'en' model, keeping only tagger component (for efficiency)\n",
    "nlp = spacy.load(\"en_core_web_sm\", disable=['parser', 'ner'])\n",
    "\n",
    "# Do lemmatization keeping only noun, adj, vb, adv\n",
    "data_lemmatized = lemmatization(data_words_bigrams, allowed_postags=['NOUN', 'ADJ', 'VERB', 'ADV'])\n",
    "\n",
    "print(data_lemmatized[:1][0][:30])"
   ]
  },
  {
   "cell_type": "markdown",
   "metadata": {},
   "source": [
    "### Data transformation: Corpus and Dictionary\n",
    "The two main inputs to the LDA topic model are the dictionary(id2word) and the corpus. Let’s create them.\n",
    "First, we are creating a dictionary from the data, then convert to bag-of-words corpus and save the dictionary and corpus for future use."
   ]
  },
  {
   "cell_type": "code",
   "execution_count": 15,
   "metadata": {},
   "outputs": [
    {
     "name": "stdout",
     "output_type": "stream",
     "text": [
      "[(0, 1), (1, 1), (2, 1), (3, 1), (4, 1), (5, 1), (6, 1), (7, 1), (8, 1), (9, 1), (10, 1), (11, 1), (12, 1), (13, 1), (14, 1), (15, 1), (16, 1), (17, 1)]\n",
      "time: 1.96 s\n"
     ]
    }
   ],
   "source": [
    "import gensim.corpora as corpora\n",
    "\n",
    "# Create Dictionary\n",
    "id2word = corpora.Dictionary(data_lemmatized)\n",
    "\n",
    "# Create Corpus\n",
    "texts = data_lemmatized\n",
    "\n",
    "# Term Document Frequency\n",
    "corpus = [id2word.doc2bow(text) for text in texts]\n",
    "\n",
    "# View\n",
    "print(corpus[:1][0][:30])"
   ]
  },
  {
   "cell_type": "code",
   "execution_count": 16,
   "metadata": {},
   "outputs": [
    {
     "name": "stdout",
     "output_type": "stream",
     "text": [
      "time: 263 ms\n"
     ]
    }
   ],
   "source": [
    "import pickle\n",
    "pickle.dump(corpus, open('corpus.pkl', 'wb'))\n",
    "id2word.save('dictionary.gensim')"
   ]
  },
  {
   "cell_type": "markdown",
   "metadata": {},
   "source": [
    "### Building the base topic model\n",
    "We have everything required to train the base LDA model. In addition to the corpus and dictionary, you need to provide the number of topics as well. Apart from that, alpha and eta are hyperparameters that affect sparsity of the topics. According to the Gensim docs, both defaults to 1.0/num_topics prior (we'll use default for the base model).\n",
    "\n",
    "chunksize controls how many documents are processed at a time in the training algorithm. Increasing chunksize will speed up training, at least as long as the chunk of documents easily fit into memory.\n",
    "\n",
    "passes controls how often we train the model on the entire corpus (set to 10). Another word for passes might be \"epochs\". iterations is somewhat technical, but essentially it controls how often we repeat a particular loop over each document. It is important to set the number of \"passes\" and \"iterations\" high enough."
   ]
  },
  {
   "cell_type": "code",
   "execution_count": 17,
   "metadata": {},
   "outputs": [
    {
     "name": "stdout",
     "output_type": "stream",
     "text": [
      "time: 2min 14s\n"
     ]
    }
   ],
   "source": [
    "NUM_TOPICS = 5\n",
    "\n",
    "# Build LDA model\n",
    "lda_model = gensim.models.LdaMulticore(corpus=corpus,\n",
    "                                       id2word=id2word,\n",
    "                                       num_topics=NUM_TOPICS, \n",
    "                                       random_state=100,\n",
    "                                       chunksize=1000,\n",
    "                                       passes=10,\n",
    "                                       per_word_topics=True)\n",
    "\n",
    "lda_model.save('model5.gensim')"
   ]
  },
  {
   "cell_type": "code",
   "execution_count": 18,
   "metadata": {},
   "outputs": [
    {
     "name": "stdout",
     "output_type": "stream",
     "text": [
      "Topics found via LDA:\n",
      "[(0,\n",
      "  '0.012*\"government\" + 0.009*\"world\" + 0.007*\"say\" + 0.007*\"law\" + '\n",
      "  '0.007*\"new\" + 0.007*\"china\" + 0.006*\"country\" + 0.006*\"internet\" + '\n",
      "  '0.005*\"wikileak\" + 0.005*\"ban\"'),\n",
      " (1,\n",
      "  '0.009*\"drug\" + 0.007*\"bank\" + 0.006*\"world\" + 0.006*\"year\" + 0.006*\"people\" '\n",
      "  '+ 0.006*\"say\" + 0.006*\"make\" + 0.006*\"get\" + 0.005*\"pay\" + 0.005*\"worker\"'),\n",
      " (2,\n",
      "  '0.015*\"russia\" + 0.011*\"say\" + 0.010*\"iran\" + 0.008*\"nuclear\" + '\n",
      "  '0.007*\"china\" + 0.007*\"world\" + 0.006*\"russian\" + 0.006*\"war\" + '\n",
      "  '0.005*\"year\" + 0.005*\"new\"'),\n",
      " (3,\n",
      "  '0.018*\"israel\" + 0.018*\"israeli\" + 0.012*\"gaza\" + 0.011*\"say\" + '\n",
      "  '0.011*\"palestinian\" + 0.010*\"war\" + 0.007*\"attack\" + 0.006*\"state\" + '\n",
      "  '0.005*\"kill\" + 0.005*\"iran\"'),\n",
      " (4,\n",
      "  '0.016*\"kill\" + 0.016*\"police\" + 0.012*\"man\" + 0.012*\"woman\" + 0.009*\"child\" '\n",
      "  '+ 0.007*\"people\" + 0.007*\"protest\" + 0.007*\"year\" + 0.006*\"attack\" + '\n",
      "  '0.006*\"pakistan\"')]\n",
      "time: 107 ms\n"
     ]
    }
   ],
   "source": [
    "print(\"Topics found via LDA:\")\n",
    "\n",
    "from pprint import pprint\n",
    "\n",
    "# Print the Keyword in the 10 topics\n",
    "pprint(lda_model.print_topics())\n",
    "doc_lda = lda_model[corpus]"
   ]
  },
  {
   "cell_type": "markdown",
   "metadata": {},
   "source": [
    "### What is Topic Coherence?\n",
    "Perplexity is often used as an example of an intrinsic evaluation measure. It comes from the language modeling community and aims to capture how surprised a model is of new data it has not seen before. It is measured as the normalized log-likelihood of a held-out test set.\n",
    "\n",
    "Focussing on the log-likelihood part, you can think of the perplexity metric as measuring how probable some new unseen data is given the model that was learned earlier. That is to say, how well does the model represent or reproduce the statistics of the held-out data.\n",
    "\n",
    "However, past research has shown that predictive likelihood (or equivalently, perplexity) and human judgment are often not correlated, and even sometimes slightly anti-correlated. And that served as a motivation for more work trying to model the human judgment, and thus Topic Coherence.\n",
    "\n",
    "The topic coherence concept combines a number of papers into one framework that allows evaluating the coherence of topics inferred by a topic model. But,\n",
    "\n",
    "#### What is topic coherence?\n",
    "Topic Coherence measures score a single topic by measuring the degree of semantic similarity between high scoring words in the topic. These measurements help distinguish between topics that are semantically interpretable topics and topics that are artifacts of statistical inference. But,\n",
    "\n",
    "#### What is coherence?\n",
    "A set of statements or facts is said to be coherent, if they support each other. Thus, a coherent fact set can be interpreted in a context that covers all or most of the facts. An example of a coherent fact set is \"the game is a team sport\", \"the game is played with a ball\", \"the game demands great physical efforts\"\n",
    "\n",
    "### Coherence Measures\n",
    "- C_v measure is based on a sliding window, one-set segmentation of the top words and an indirect confirmation measure that uses normalized pointwise mutual information (NPMI) and the cosine similarity\n",
    "- C_p is based on a sliding window, one-preceding segmentation of the top words and the confirmation measure of Fitelson's coherence\n",
    "- C_uci measure is based on a sliding window and the pointwise mutual information (PMI) of all word pairs of the given top words\n",
    "- C_umass is based on document cooccurrence counts, a one-preceding segmentation and a logarithmic conditional probability as confirmation measure\n",
    "- C_npmi is an enhanced version of the C_uci coherence using the normalized pointwise mutual information (NPMI)\n",
    "- C_a is baseed on a context window, a pairwise comparison of the top words and an indirect confirmation measure that uses normalized pointwise mutual information (NPMI) and the cosine similarity"
   ]
  },
  {
   "cell_type": "markdown",
   "metadata": {},
   "source": [
    "#### Compute Model Perplexity and Coherence Score\n",
    "Let's calculate the baseline coherence score"
   ]
  },
  {
   "cell_type": "code",
   "execution_count": 19,
   "metadata": {},
   "outputs": [
    {
     "name": "stdout",
     "output_type": "stream",
     "text": [
      "Coherence Score:  0.2583840118637868\n",
      "time: 6.79 s\n"
     ]
    }
   ],
   "source": [
    "from gensim.models import CoherenceModel\n",
    "\n",
    "# Compute Coherence Score\n",
    "coherence_model_lda = CoherenceModel(model=lda_model, texts=data_lemmatized, dictionary=id2word, coherence='c_v')\n",
    "coherence_lda = coherence_model_lda.get_coherence()\n",
    "print('Coherence Score: ', coherence_lda)"
   ]
  },
  {
   "cell_type": "markdown",
   "metadata": {},
   "source": [
    "### Hyperparameter tuning\n",
    "First, let's differentiate between model hyperparameters and model parameters :\n",
    "\n",
    "- Model hyperparameters can be thought of as settings for a machine learning algorithm that are tuned by the data scientist before training. Examples would be the number of trees in the random forest, or in our case, number of topics K\n",
    "- Model parameters can be thought of as what the model learns during training, such as the weights for each word in a given topic.\n",
    "\n",
    "Now that we have the baseline coherence score for the default LDA model, let's perform a series of sensitivity tests to help determine the following model hyperparameters:\n",
    "\n",
    "- Number of Topics (K)\n",
    "- Dirichlet hyperparameter alpha: Document-Topic Density\n",
    "- Dirichlet hyperparameter beta: Word-Topic Density\n",
    "We'll perform these tests in sequence, one parameter at a time by keeping others constant and run them over the two difference validation corpus sets. We'll use C_v as our choice of metric for performance comparison"
   ]
  },
  {
   "cell_type": "code",
   "execution_count": 20,
   "metadata": {},
   "outputs": [
    {
     "name": "stdout",
     "output_type": "stream",
     "text": [
      "time: 3 ms\n"
     ]
    }
   ],
   "source": [
    "# supporting function\n",
    "def compute_coherence_values(corpus, dictionary, k, a, b):\n",
    "    \n",
    "    lda_model = gensim.models.LdaMulticore(corpus=corpus,\n",
    "                                           id2word=dictionary,\n",
    "                                           num_topics=k, \n",
    "                                           random_state=100,\n",
    "                                           chunksize=1000,\n",
    "                                           passes=15,\n",
    "                                           alpha=a,\n",
    "                                           eta=b)\n",
    "    \n",
    "    coherence_model_lda = CoherenceModel(model=lda_model, texts=data_lemmatized, dictionary=id2word, coherence='c_v')\n",
    "    \n",
    "    return coherence_model_lda.get_coherence()"
   ]
  },
  {
   "cell_type": "markdown",
   "metadata": {},
   "source": [
    "Let's call the function, and iterate it over the range of topics, alpha, and beta parameter values\n"
   ]
  },
  {
   "cell_type": "code",
   "execution_count": 21,
   "metadata": {},
   "outputs": [
    {
     "name": "stderr",
     "output_type": "stream",
     "text": [
      "100%|████████████████████████████████████████████████████████████████████████████| 240/240 [12:36:05<00:00, 226.86s/it]\n"
     ]
    },
    {
     "name": "stdout",
     "output_type": "stream",
     "text": [
      "time: 12h 36min 6s\n"
     ]
    }
   ],
   "source": [
    "import numpy as np\n",
    "import tqdm\n",
    "\n",
    "grid = {}\n",
    "grid['Validation_Set'] = {}\n",
    "\n",
    "# Topics range\n",
    "min_topics = 2\n",
    "max_topics = 10\n",
    "step_size = 1\n",
    "topics_range = range(min_topics, max_topics, step_size)\n",
    "\n",
    "# Alpha parameter\n",
    "alpha = list(np.arange(0.01, 1, 0.3))\n",
    "alpha.append('symmetric')\n",
    "alpha.append('asymmetric')\n",
    "\n",
    "# Beta parameter\n",
    "beta = list(np.arange(0.01, 1, 0.3))\n",
    "beta.append('symmetric')\n",
    "\n",
    "# Validation sets\n",
    "num_of_docs = len(corpus)\n",
    "corpus_sets = [# gensim.utils.ClippedCorpus(corpus, num_of_docs*0.25), \n",
    "               # gensim.utils.ClippedCorpus(corpus, num_of_docs*0.5), \n",
    "               # gensim.utils.ClippedCorpus(corpus, num_of_docs*0.75), \n",
    "               corpus]\n",
    "\n",
    "corpus_title = ['100% Corpus']\n",
    "\n",
    "model_results = {'Validation_Set': [],\n",
    "                 'Topics': [],\n",
    "                 'Alpha': [],\n",
    "                 'Beta': [],\n",
    "                 'Coherence': []\n",
    "                }\n",
    "\n",
    "# Can take a long time to run\n",
    "if 1 == 1:\n",
    "    pbar = tqdm.tqdm(total=(len(beta)*len(alpha)*len(topics_range)*len(corpus_title)))\n",
    "    \n",
    "    # iterate through validation corpuses\n",
    "    for i in range(len(corpus_sets)):\n",
    "        # iterate through number of topics\n",
    "        for k in topics_range:\n",
    "            # iterate through alpha values\n",
    "            for a in alpha:\n",
    "                # iterare through beta values\n",
    "                for b in beta:\n",
    "                    # get the coherence score for the given parameters\n",
    "                    cv = compute_coherence_values(corpus=corpus_sets[i], dictionary=id2word, \n",
    "                                                  k=k, a=a, b=b)\n",
    "                    # Save the model results\n",
    "                    model_results['Validation_Set'].append(corpus_title[i])\n",
    "                    model_results['Topics'].append(k)\n",
    "                    model_results['Alpha'].append(a)\n",
    "                    model_results['Beta'].append(b)\n",
    "                    model_results['Coherence'].append(cv)\n",
    "                    \n",
    "                    pbar.update(1)\n",
    "    pd.DataFrame(model_results).to_csv('lda_tuning_results2.csv', index=False)\n",
    "    pbar.close()"
   ]
  },
  {
   "cell_type": "markdown",
   "metadata": {},
   "source": [
    "### Final Model Training\n",
    "Based on external evaluation (Code to be added from Excel based analysis), train the final model\n",
    "\n"
   ]
  },
  {
   "cell_type": "code",
   "execution_count": 28,
   "metadata": {},
   "outputs": [
    {
     "name": "stdout",
     "output_type": "stream",
     "text": [
      "time: 4min 8s\n"
     ]
    }
   ],
   "source": [
    "lda_model = gensim.models.LdaMulticore(corpus=corpus,\n",
    "                                           id2word=id2word,\n",
    "                                           num_topics=9, \n",
    "                                           random_state=100,\n",
    "                                           chunksize=1000,\n",
    "                                           passes=15,\n",
    "                                           alpha='asymmetric',\n",
    "                                           eta=0.61)"
   ]
  },
  {
   "cell_type": "code",
   "execution_count": 29,
   "metadata": {
    "scrolled": false
   },
   "outputs": [
    {
     "name": "stdout",
     "output_type": "stream",
     "text": [
      "[(0,\n",
      "  '0.011*\"say\" + 0.009*\"government\" + 0.007*\"israel\" + 0.007*\"israeli\" + '\n",
      "  '0.007*\"iran\" + 0.007*\"war\" + 0.006*\"country\" + 0.005*\"call\" + 0.005*\"world\" '\n",
      "  '+ 0.005*\"president\"'),\n",
      " (1,\n",
      "  '0.018*\"kill\" + 0.011*\"police\" + 0.010*\"man\" + 0.010*\"woman\" + 0.008*\"child\" '\n",
      "  '+ 0.007*\"people\" + 0.007*\"death\" + 0.007*\"attack\" + 0.006*\"year\" + '\n",
      "  '0.006*\"pakistan\"'),\n",
      " (2,\n",
      "  '0.013*\"russia\" + 0.009*\"china\" + 0.007*\"world\" + 0.007*\"say\" + '\n",
      "  '0.007*\"syria\" + 0.007*\"russian\" + 0.007*\"oil\" + 0.007*\"troop\" + '\n",
      "  '0.006*\"nuclear\" + 0.005*\"year\"'),\n",
      " (3,\n",
      "  '0.019*\"north_korea\" + 0.015*\"south\" + 0.013*\"japan\" + 0.012*\"ship\" + '\n",
      "  '0.011*\"korea\" + 0.006*\"china\" + 0.006*\"fire\" + 0.006*\"plane\" + '\n",
      "  '0.006*\"japanese\" + 0.006*\"airport\"'),\n",
      " (4,\n",
      "  '0.011*\"find\" + 0.008*\"food\" + 0.007*\"world\" + 0.006*\"human\" + 0.005*\"land\" '\n",
      "  '+ 0.004*\"discover\" + 0.003*\"scientist\" + 0.003*\"settler\" + 0.003*\"farmer\" + '\n",
      "  '0.003*\"zimbabwe\"'),\n",
      " (5,\n",
      "  '0.007*\"olympic\" + 0.005*\"remember\" + 0.005*\"genocide\" + 0.004*\"usa\" + '\n",
      "  '0.004*\"holocaust\" + 0.003*\"dalai_lama\" + 0.002*\"empire\" + '\n",
      "  '0.002*\"interesting\" + 0.002*\"resignation\" + 0.002*\"recognise\"'),\n",
      " (6,\n",
      "  '0.015*\"georgia\" + 0.004*\"laden\" + 0.004*\"bonus\" + 0.004*\"osama_bin\" + '\n",
      "  '0.004*\"bin_laden\" + 0.003*\"south_ossetia\" + 0.003*\"patent\" + 0.002*\"guess\" '\n",
      "  '+ 0.002*\"magnitude_earthquake\" + 0.002*\"heroin\"'),\n",
      " (7,\n",
      "  '0.010*\"ahmadinejad\" + 0.005*\"bail\" + 0.005*\"map\" + 0.005*\"cnn\" + '\n",
      "  '0.003*\"extradition\" + 0.003*\"always\" + 0.003*\"restore\" + 0.002*\"mandatory\" '\n",
      "  '+ 0.002*\"aggression\" + 0.002*\"rioter\"'),\n",
      " (8,\n",
      "  '0.004*\"pic\" + 0.003*\"bankruptcy\" + 0.003*\"conspiracy\" + 0.002*\"nobel_prize\" '\n",
      "  '+ 0.002*\"maintain\" + 0.002*\"winner\" + 0.002*\"legalise\" + 0.002*\"nobel\" + '\n",
      "  '0.002*\"paul\" + 0.002*\"dictatorship\"')]\n",
      "time: 239 ms\n"
     ]
    }
   ],
   "source": [
    "from pprint import pprint\n",
    "\n",
    "# Print the Keyword in the 10 topics\n",
    "pprint(lda_model.print_topics())\n",
    "doc_lda = lda_model[corpus]"
   ]
  },
  {
   "cell_type": "code",
   "execution_count": 30,
   "metadata": {
    "scrolled": false
   },
   "outputs": [
    {
     "data": {
      "text/html": [
       "\n",
       "<link rel=\"stylesheet\" type=\"text/css\" href=\"https://cdn.rawgit.com/bmabey/pyLDAvis/files/ldavis.v1.0.0.css\">\n",
       "\n",
       "\n",
       "<div id=\"ldavis_el1488025072471035768778428845\"></div>\n",
       "<script type=\"text/javascript\">\n",
       "\n",
       "var ldavis_el1488025072471035768778428845_data = {\"mdsDat\": {\"x\": [0.2566827796394268, 0.18271378254504456, 0.13582925331433024, -0.01219966579765108, -0.08274053846648825, -0.12326922761448673, -0.1196660022018059, -0.12036866890037788, -0.11698171251799157], \"y\": [-0.018848983566764278, 0.1740216089715655, -0.16949721322124278, -0.009660919355305938, -0.031143762973521203, 0.017149422301323686, 0.012303968632467981, 0.011809310733820666, 0.01386656847765622], \"topics\": [1, 2, 3, 4, 5, 6, 7, 8, 9], \"cluster\": [1, 1, 1, 1, 1, 1, 1, 1, 1], \"Freq\": [42.26991653442383, 23.11042594909668, 16.844511032104492, 7.818865776062012, 4.728828430175781, 1.6512119770050049, 1.226440668106079, 1.1934666633605957, 1.156331181526184]}, \"tinfo\": {\"Category\": [\"Default\", \"Default\", \"Default\", \"Default\", \"Default\", \"Default\", \"Default\", \"Default\", \"Default\", \"Default\", \"Default\", \"Default\", \"Default\", \"Default\", \"Default\", \"Default\", \"Default\", \"Default\", \"Default\", \"Default\", \"Default\", \"Default\", \"Default\", \"Default\", \"Default\", \"Default\", \"Default\", \"Default\", \"Default\", \"Default\", \"Topic1\", \"Topic1\", \"Topic1\", \"Topic1\", \"Topic1\", \"Topic1\", \"Topic1\", \"Topic1\", \"Topic1\", \"Topic1\", \"Topic1\", \"Topic1\", \"Topic1\", \"Topic1\", \"Topic1\", \"Topic1\", \"Topic1\", \"Topic1\", \"Topic1\", \"Topic1\", \"Topic1\", \"Topic1\", \"Topic1\", \"Topic1\", \"Topic1\", \"Topic1\", \"Topic1\", \"Topic1\", \"Topic1\", \"Topic1\", \"Topic1\", \"Topic1\", \"Topic1\", \"Topic1\", \"Topic1\", \"Topic1\", \"Topic1\", \"Topic1\", \"Topic1\", \"Topic1\", \"Topic1\", \"Topic1\", \"Topic1\", \"Topic1\", \"Topic1\", \"Topic1\", \"Topic1\", \"Topic1\", \"Topic1\", \"Topic1\", \"Topic1\", \"Topic1\", \"Topic1\", \"Topic1\", \"Topic1\", \"Topic1\", \"Topic1\", \"Topic1\", \"Topic1\", \"Topic1\", \"Topic1\", \"Topic1\", \"Topic1\", \"Topic2\", \"Topic2\", \"Topic2\", \"Topic2\", \"Topic2\", \"Topic2\", \"Topic2\", \"Topic2\", \"Topic2\", \"Topic2\", \"Topic2\", \"Topic2\", \"Topic2\", \"Topic2\", \"Topic2\", \"Topic2\", \"Topic2\", \"Topic2\", \"Topic2\", \"Topic2\", \"Topic2\", \"Topic2\", \"Topic2\", \"Topic2\", \"Topic2\", \"Topic2\", \"Topic2\", \"Topic2\", \"Topic2\", \"Topic2\", \"Topic2\", \"Topic2\", \"Topic2\", \"Topic2\", \"Topic2\", \"Topic2\", \"Topic2\", \"Topic2\", \"Topic2\", \"Topic2\", \"Topic2\", \"Topic2\", \"Topic2\", \"Topic2\", \"Topic2\", \"Topic2\", \"Topic2\", \"Topic2\", \"Topic2\", \"Topic2\", \"Topic3\", \"Topic3\", \"Topic3\", \"Topic3\", \"Topic3\", \"Topic3\", \"Topic3\", \"Topic3\", \"Topic3\", \"Topic3\", \"Topic3\", \"Topic3\", \"Topic3\", \"Topic3\", \"Topic3\", \"Topic3\", \"Topic3\", \"Topic3\", \"Topic3\", \"Topic3\", \"Topic3\", \"Topic3\", \"Topic3\", \"Topic3\", \"Topic3\", \"Topic3\", \"Topic3\", \"Topic3\", \"Topic3\", \"Topic3\", \"Topic3\", \"Topic3\", \"Topic3\", \"Topic3\", \"Topic3\", \"Topic3\", \"Topic3\", \"Topic3\", \"Topic3\", \"Topic3\", \"Topic3\", \"Topic3\", \"Topic3\", \"Topic3\", \"Topic3\", \"Topic3\", \"Topic3\", \"Topic3\", \"Topic3\", \"Topic3\", \"Topic3\", \"Topic3\", \"Topic3\", \"Topic3\", \"Topic3\", \"Topic3\", \"Topic3\", \"Topic3\", \"Topic3\", \"Topic4\", \"Topic4\", \"Topic4\", \"Topic4\", \"Topic4\", \"Topic4\", \"Topic4\", \"Topic4\", \"Topic4\", \"Topic4\", \"Topic4\", \"Topic4\", \"Topic4\", \"Topic4\", \"Topic4\", \"Topic4\", \"Topic4\", \"Topic4\", \"Topic4\", \"Topic4\", \"Topic4\", \"Topic4\", \"Topic4\", \"Topic4\", \"Topic4\", \"Topic4\", \"Topic4\", \"Topic4\", \"Topic4\", \"Topic4\", \"Topic4\", \"Topic4\", \"Topic4\", \"Topic4\", \"Topic4\", \"Topic4\", \"Topic4\", \"Topic4\", \"Topic4\", \"Topic4\", \"Topic4\", \"Topic4\", \"Topic4\", \"Topic4\", \"Topic4\", \"Topic4\", \"Topic4\", \"Topic4\", \"Topic4\", \"Topic4\", \"Topic4\", \"Topic4\", \"Topic4\", \"Topic4\", \"Topic4\", \"Topic4\", \"Topic4\", \"Topic4\", \"Topic4\", \"Topic4\", \"Topic5\", \"Topic5\", \"Topic5\", \"Topic5\", \"Topic5\", \"Topic5\", \"Topic5\", \"Topic5\", \"Topic5\", \"Topic5\", \"Topic5\", \"Topic5\", \"Topic5\", \"Topic5\", \"Topic5\", \"Topic5\", \"Topic5\", \"Topic5\", \"Topic5\", \"Topic5\", \"Topic5\", \"Topic5\", \"Topic5\", \"Topic5\", \"Topic5\", \"Topic5\", \"Topic5\", \"Topic5\", \"Topic5\", \"Topic5\", \"Topic5\", \"Topic5\", \"Topic5\", \"Topic5\", \"Topic5\", \"Topic5\", \"Topic5\", \"Topic5\", \"Topic5\", \"Topic5\", \"Topic5\", \"Topic6\", \"Topic6\", \"Topic6\", \"Topic6\", \"Topic6\", \"Topic6\", \"Topic6\", \"Topic6\", \"Topic6\", \"Topic6\", \"Topic6\", \"Topic6\", \"Topic6\", \"Topic6\", \"Topic6\", \"Topic6\", \"Topic6\", \"Topic6\", \"Topic6\", \"Topic6\", \"Topic6\", \"Topic6\", \"Topic6\", \"Topic6\", \"Topic6\", \"Topic6\", \"Topic6\", \"Topic6\", \"Topic6\", \"Topic6\", \"Topic6\", \"Topic6\", \"Topic6\", \"Topic6\", \"Topic7\", \"Topic7\", \"Topic7\", \"Topic7\", \"Topic7\", \"Topic7\", \"Topic7\", \"Topic7\", \"Topic7\", \"Topic7\", \"Topic7\", \"Topic7\", \"Topic7\", \"Topic7\", \"Topic7\", \"Topic7\", \"Topic7\", \"Topic7\", \"Topic7\", \"Topic7\", \"Topic7\", \"Topic7\", \"Topic7\", \"Topic7\", \"Topic7\", \"Topic7\", \"Topic7\", \"Topic7\", \"Topic7\", \"Topic7\", \"Topic7\", \"Topic7\", \"Topic8\", \"Topic8\", \"Topic8\", \"Topic8\", \"Topic8\", \"Topic8\", \"Topic8\", \"Topic8\", \"Topic8\", \"Topic8\", \"Topic8\", \"Topic8\", \"Topic8\", \"Topic8\", \"Topic8\", \"Topic8\", \"Topic8\", \"Topic8\", \"Topic8\", \"Topic8\", \"Topic8\", \"Topic8\", \"Topic8\", \"Topic8\", \"Topic8\", \"Topic8\", \"Topic8\", \"Topic8\", \"Topic8\", \"Topic8\", \"Topic8\", \"Topic8\", \"Topic8\", \"Topic8\", \"Topic8\", \"Topic8\", \"Topic9\", \"Topic9\", \"Topic9\", \"Topic9\", \"Topic9\", \"Topic9\", \"Topic9\", \"Topic9\", \"Topic9\", \"Topic9\", \"Topic9\", \"Topic9\", \"Topic9\", \"Topic9\", \"Topic9\", \"Topic9\", \"Topic9\", \"Topic9\", \"Topic9\", \"Topic9\", \"Topic9\", \"Topic9\", \"Topic9\", \"Topic9\", \"Topic9\", \"Topic9\", \"Topic9\", \"Topic9\", \"Topic9\", \"Topic9\", \"Topic9\", \"Topic9\", \"Topic9\", \"Topic9\", \"Topic9\", \"Topic9\", \"Topic9\", \"Topic9\", \"Topic9\"], \"Freq\": [2133.0, 1425.0, 1274.0, 1217.0, 1681.0, 2018.0, 480.0, 1022.0, 1065.0, 572.0, 2090.0, 1603.0, 1860.0, 864.0, 386.0, 1502.0, 622.0, 580.0, 1568.0, 664.0, 1021.0, 1725.0, 607.0, 1490.0, 295.0, 1442.0, 868.0, 281.0, 357.0, 480.0, 2014.22900390625, 1599.5509033203125, 1062.253662109375, 1496.619140625, 574.113525390625, 488.81842041015625, 446.5642395019531, 465.42791748046875, 470.3874816894531, 425.3249816894531, 467.91204833984375, 432.93438720703125, 445.2415771484375, 414.8136291503906, 356.2919616699219, 394.600830078125, 336.90582275390625, 351.32000732421875, 375.30743408203125, 328.8176574707031, 345.99810791015625, 324.9471130371094, 345.8404235839844, 318.334716796875, 294.3783874511719, 261.0863342285156, 413.5979919433594, 300.2245788574219, 343.29449462890625, 273.2817077636719, 937.8446044921875, 1448.4522705078125, 516.1571044921875, 489.4305114746094, 1499.7158203125, 925.7081909179688, 984.7407836914062, 1099.0472412109375, 497.8578796386719, 883.9239501953125, 727.5504760742188, 622.2167358398438, 625.486572265625, 2412.315185546875, 1232.7308349609375, 794.9444580078125, 507.5170593261719, 612.1026611328125, 1017.3895874023438, 1098.9879150390625, 540.93017578125, 840.7103271484375, 651.7220458984375, 575.0648193359375, 634.923095703125, 555.5709838867188, 605.2542724609375, 613.4110107421875, 557.305908203125, 632.5236206054688, 637.1387329101562, 570.1453857421875, 582.4710693359375, 2128.569091796875, 1214.0909423828125, 1271.496337890625, 1018.9720458984375, 861.0841674804688, 472.3888244628906, 406.7906494140625, 378.2874755859375, 439.3735656738281, 345.3908996582031, 338.5650939941406, 427.42822265625, 304.1335754394531, 296.9648132324219, 269.81866455078125, 278.8390808105469, 260.8091125488281, 237.94387817382812, 209.4192352294922, 197.19723510742188, 176.345703125, 165.5651092529297, 410.4482727050781, 169.85693359375, 157.8692169189453, 165.960693359375, 160.4179229736328, 152.0335235595703, 157.815673828125, 155.44732666015625, 631.0067138671875, 537.7750244140625, 516.39794921875, 387.15606689453125, 256.9383544921875, 477.2446594238281, 1326.7213134765625, 667.2649536132812, 439.42193603515625, 487.88702392578125, 795.4752807617188, 877.667236328125, 400.7753601074219, 523.4634399414062, 429.9880676269531, 744.8468017578125, 455.0213317871094, 607.9338989257812, 421.6541748046875, 375.6046447753906, 618.4751586914062, 576.638916015625, 477.3629150390625, 392.5908508300781, 328.979248046875, 314.39874267578125, 302.79901123046875, 276.521728515625, 262.85205078125, 208.0229034423828, 176.44683837890625, 171.93096923828125, 140.91123962402344, 192.44129943847656, 133.03102111816406, 119.35760498046875, 104.07694244384766, 104.67335510253906, 94.38033294677734, 87.16459655761719, 84.01663970947266, 91.02915954589844, 78.20391845703125, 74.1168441772461, 72.70952606201172, 102.02854919433594, 61.65656280517578, 57.93656539916992, 60.94450759887695, 55.020877838134766, 163.46766662597656, 75.8282699584961, 397.8961486816406, 582.1777954101562, 1150.59521484375, 190.7362060546875, 266.16522216796875, 252.41195678710938, 226.70457458496094, 602.3840942382812, 520.1768188476562, 362.53875732421875, 787.4187622070312, 235.52142333984375, 267.6226806640625, 660.5764770507812, 239.8208770751953, 318.5607604980469, 483.6868591308594, 622.1111450195312, 339.8269958496094, 394.30267333984375, 304.3941345214844, 267.7689208984375, 250.4102783203125, 273.55596923828125, 306.6165466308594, 253.32489013671875, 258.01580810546875, 158.26962280273438, 137.22483825683594, 106.18155670166016, 100.379150390625, 85.80821228027344, 73.92726135253906, 77.57061004638672, 58.89405822753906, 60.8912467956543, 104.81775665283203, 56.18022155761719, 59.87653732299805, 57.48671340942383, 52.64748764038086, 66.61824798583984, 49.70664978027344, 50.954627990722656, 49.427085876464844, 49.65813064575195, 45.274330139160156, 64.74067687988281, 47.17525100708008, 46.35392379760742, 49.17842102050781, 68.56869506835938, 56.8740119934082, 46.88042449951172, 245.64190673828125, 41.97187423706055, 40.46392822265625, 59.97988510131836, 64.57488250732422, 131.46449279785156, 321.0043029785156, 51.99147415161133, 129.64041137695312, 58.5272216796875, 455.4131774902344, 188.7844696044922, 69.5918197631836, 138.61668395996094, 68.70429229736328, 80.29208374023438, 273.7357482910156, 103.55199432373047, 104.57064819335938, 69.28318786621094, 101.66926574707031, 86.38616943359375, 80.34058380126953, 93.5300064086914, 120.7553482055664, 90.17243957519531, 77.7505111694336, 95.48543548583984, 95.17403411865234, 101.43560791015625, 88.38766479492188, 78.75069427490234, 77.97775268554688, 477.17926025390625, 383.00732421875, 292.6130065917969, 278.6039733886719, 151.1758270263672, 131.57302856445312, 132.0096435546875, 137.69107055664062, 117.968994140625, 109.58585357666016, 107.51806640625, 111.79681396484375, 110.95951843261719, 78.66932678222656, 82.84722900390625, 73.72224426269531, 80.5195083618164, 69.0123291015625, 68.69489288330078, 63.784637451171875, 72.03063201904297, 60.802799224853516, 60.07059860229492, 60.028953552246094, 57.6282958984375, 55.977237701416016, 48.64064025878906, 51.468292236328125, 43.74638748168945, 45.613101959228516, 134.62933349609375, 96.5490951538086, 145.47857666015625, 327.1819763183594, 111.31564331054688, 151.99118041992188, 103.34310150146484, 157.2907257080078, 109.59689331054688, 81.57437133789062, 72.02294921875, 62.99044418334961, 43.02165603637695, 44.38374710083008, 36.94593048095703, 33.64603042602539, 27.300159454345703, 20.75956916809082, 16.9442081451416, 16.269678115844727, 15.241249084472656, 19.391454696655273, 15.189212799072266, 13.648645401000977, 16.307397842407227, 14.702109336853027, 14.046318054199219, 14.979440689086914, 13.927641868591309, 12.174059867858887, 12.009801864624023, 12.598280906677246, 13.886789321899414, 10.716142654418945, 10.902580261230469, 11.073246002197266, 11.24048900604248, 10.624076843261719, 10.15246295928955, 9.761419296264648, 9.958927154541016, 11.008906364440918, 10.667031288146973, 12.436875343322754, 13.430619239807129, 96.80303192138672, 27.98708724975586, 25.814655303955078, 25.893508911132812, 23.371171951293945, 21.77766227722168, 16.184494018554688, 14.510627746582031, 11.193755149841309, 11.474443435668945, 9.692604064941406, 12.812458038330078, 9.311807632446289, 9.200100898742676, 8.845497131347656, 8.019638061523438, 7.196647644042969, 7.706724166870117, 7.952370643615723, 6.37151575088501, 6.676808834075928, 7.982593059539795, 10.04593563079834, 5.890813827514648, 6.150632858276367, 5.662823677062988, 6.1687421798706055, 5.267707347869873, 5.17926549911499, 5.737221717834473, 12.242385864257812, 8.122797966003418, 62.398494720458984, 32.871700286865234, 31.540674209594727, 31.4851131439209, 21.330015182495117, 16.88134765625, 17.37415313720703, 14.345603942871094, 13.178969383239746, 14.114831924438477, 13.506796836853027, 12.095452308654785, 11.490252494812012, 10.48420238494873, 10.574302673339844, 10.01333999633789, 9.832362174987793, 8.978863716125488, 8.775280952453613, 6.849939823150635, 6.232443332672119, 6.662834167480469, 6.304991245269775, 5.991157054901123, 5.656548500061035, 6.163586139678955, 5.459814548492432, 5.068411350250244, 6.841297149658203, 5.388472557067871, 5.647336959838867, 6.5552239418029785, 6.329949855804443, 6.842160224914551, 6.682002544403076, 6.143311500549316, 14.806303977966309, 15.584197044372559, 16.264116287231445, 11.25265884399414, 11.597501754760742, 11.085390090942383, 11.071012496948242, 10.867120742797852, 10.043750762939453, 8.51768684387207, 9.828763961791992, 12.984723091125488, 8.145047187805176, 10.46114730834961, 7.680899143218994, 8.085058212280273, 7.359095096588135, 6.728577613830566, 6.255885601043701, 6.302924156188965, 6.267049789428711, 5.843066692352295, 5.532220840454102, 5.55715274810791, 5.393813133239746, 5.091019630432129, 6.8394246101379395, 4.625063896179199, 4.883000373840332, 5.386503219604492, 10.674113273620605, 12.301309585571289, 8.677433967590332, 23.531763076782227, 10.330182075500488, 7.524747848510742, 6.030201435089111, 6.225418567657471, 6.1752190589904785], \"Term\": [\"kill\", \"russia\", \"man\", \"woman\", \"police\", \"government\", \"north_korea\", \"child\", \"find\", \"japan\", \"world\", \"israel\", \"china\", \"death\", \"south\", \"iran\", \"syria\", \"troop\", \"israeli\", \"oil\", \"russian\", \"people\", \"fire\", \"war\", \"ship\", \"attack\", \"nuclear\", \"korea\", \"food\", \"crisis\", \"government\", \"israel\", \"president\", \"iran\", \"internet\", \"wikileak\", \"election\", \"rule\", \"secret\", \"vote\", \"minister\", \"party\", \"human_right\", \"prime_minister\", \"parliament\", \"support\", \"bill\", \"spy\", \"arab\", \"foreign\", \"not\", \"must\", \"political\", \"citizen\", \"tax\", \"freedom\", \"security\", \"hama\", \"block\", \"policy\", \"law\", \"war\", \"britain\", \"top\", \"israeli\", \"gaza\", \"state\", \"call\", \"international\", \"palestinian\", \"want\", \"anti\", \"right\", \"say\", \"country\", \"ban\", \"canada\", \"would\", \"new\", \"world\", \"american\", \"people\", \"make\", \"leader\", \"take\", \"bank\", \"protest\", \"report\", \"british\", \"china\", \"year\", \"military\", \"attack\", \"kill\", \"woman\", \"man\", \"child\", \"death\", \"girl\", \"murder\", \"sentence\", \"afghan\", \"sex\", \"victim\", \"school\", \"young\", \"pakistani\", \"rape\", \"beat\", \"christian\", \"boy\", \"doctor\", \"church\", \"hospital\", \"rap\", \"taliban\", \"female\", \"daughter\", \"suicide\", \"pope\", \"wife\", \"vatican\", \"mother\", \"die\", \"soldier\", \"dead\", \"shoot\", \"riot\", \"mexico\", \"police\", \"pakistan\", \"year_old\", \"video\", \"attack\", \"people\", \"jail\", \"arrest\", \"muslim\", \"year\", \"protest\", \"say\", \"find\", \"day\", \"syria\", \"troop\", \"crisis\", \"syrian\", \"ukraine\", \"nato\", \"rebel\", \"greece\", \"supply\", \"debt\", \"energy\", \"gas\", \"tank\", \"fukushima\", \"currency\", \"bailout\", \"assad\", \"recession\", \"moon\", \"reactor\", \"solar\", \"arctic\", \"electricity\", \"planet\", \"oil_spill\", \"radiation\", \"meltdown\", \"power_plant\", \"nuclear_plant\", \"nasa\", \"disaster\", \"airstrike\", \"border\", \"oil\", \"russia\", \"price\", \"missile\", \"economy\", \"economic\", \"russian\", \"nuclear\", \"europe\", \"china\", \"rise\", \"water\", \"world\", \"weapon\", \"plan\", \"year\", \"say\", \"military\", \"new\", \"may\", \"warn\", \"big\", \"could\", \"country\", \"strike\", \"force\", \"discover\", \"settler\", \"animal\", \"gold\", \"ancient\", \"forest\", \"mine\", \"tiger\", \"meat\", \"rock\", \"elephant\", \"slaughter\", \"crop\", \"indigenous\", \"burma\", \"poacher\", \"metal\", \"museum\", \"tree\", \"specie\", \"peru\", \"wild\", \"mining\", \"beach\", \"nuke\", \"mafia\", \"diamond\", \"human\", \"cave\", \"shark\", \"fish\", \"fuck\", \"farmer\", \"food\", \"temple\", \"zimbabwe\", \"east_jerusalem\", \"find\", \"land\", \"rare\", \"scientist\", \"farm\", \"eat\", \"world\", \"destroy\", \"water\", \"hunt\", \"build\", \"africa\", \"earth\", \"live\", \"year\", \"home\", \"old\", \"palestinian\", \"make\", \"new\", \"china\", \"year_old\", \"large\", \"north_korea\", \"south\", \"ship\", \"korea\", \"plane\", \"korean\", \"north_korean\", \"airport\", \"navy\", \"kim_jong\", \"flight\", \"rocket\", \"crash\", \"boat\", \"fly\", \"passenger\", \"sink\", \"warship\", \"crew\", \"quake\", \"tsunami\", \"pilot\", \"board\", \"helicopter\", \"bomber\", \"thai\", \"airline\", \"com\", \"hijack\", \"vessel\", \"pirate\", \"island\", \"japanese\", \"japan\", \"earthquake\", \"fire\", \"air\", \"china\", \"chinese\", \"sea\", \"north\", \"olympic\", \"genocide\", \"remember\", \"usa\", \"holocaust\", \"dalai_lama\", \"empire\", \"resignation\", \"tomorrow\", \"rwanda\", \"interesting\", \"slavery\", \"armenian\", \"recognise\", \"robert\", \"voting\", \"sabotage\", \"bankrupt\", \"medal\", \"net_neutrality\", \"big_picture\", \"reputation\", \"turk\", \"onion\", \"gaza_flotilla\", \"legitimate\", \"fascist\", \"mainstream\", \"comic\", \"worldnew\", \"turmoil\", \"junk\", \"premier\", \"interview\", \"georgia\", \"laden\", \"osama_bin\", \"bonus\", \"bin_laden\", \"south_ossetia\", \"patent\", \"guess\", \"translation\", \"observer\", \"mccain\", \"magnitude_earthquake\", \"lady\", \"employ\", \"scare\", \"kgb\", \"barclay\", \"textbook\", \"sharp\", \"stephen_hawk\", \"informant\", \"rid\", \"nsfw\", \"bin\", \"stay_classy\", \"chechen\", \"mercenary\", \"abkhazia\", \"ecstasy\", \"palestinian_territorie\", \"heroin\", \"ghost\", \"ahmadinejad\", \"bail\", \"map\", \"cnn\", \"extradition\", \"restore\", \"always\", \"mandatory\", \"reopen\", \"aggression\", \"rioter\", \"khamenei\", \"supreme_leader\", \"goldman_sach\", \"arrest_warrant\", \"ivory_coast\", \"else\", \"bulgaria\", \"diplomacy\", \"anti_semitism\", \"ali\", \"mousavi\", \"anc\", \"branch\", \"paypal\", \"hearing\", \"pastor\", \"morgan\", \"aboriginal\", \"federal_reserve\", \"livni\", \"forgive\", \"mega\", \"richard\", \"screw\", \"president_mahmoud\", \"nobel_prize\", \"conspiracy\", \"bankruptcy\", \"nobel\", \"legalise\", \"paul\", \"dictatorship\", \"theory\", \"regulation\", \"maoist\", \"latin_american\", \"maintain\", \"peter\", \"reader\", \"deserve\", \"th_anniversary\", \"wolf\", \"chocolate\", \"han\", \"interest_rate\", \"throat\", \"coke\", \"memorial\", \"glass\", \"madagascar\", \"mossad_chief\", \"drinking_water\", \"id_cards\", \"ip_address\", \"governance\", \"bottle\", \"winner\", \"finnish\", \"pic\", \"drink\", \"nepal\", \"rd\", \"prize\", \"king\"], \"Total\": [2133.0, 1425.0, 1274.0, 1217.0, 1681.0, 2018.0, 480.0, 1022.0, 1065.0, 572.0, 2090.0, 1603.0, 1860.0, 864.0, 386.0, 1502.0, 622.0, 580.0, 1568.0, 664.0, 1021.0, 1725.0, 607.0, 1490.0, 295.0, 1442.0, 868.0, 281.0, 357.0, 480.0, 2018.64892578125, 1603.2076416015625, 1065.8348388671875, 1502.5120849609375, 577.1922607421875, 492.11865234375, 449.6749267578125, 468.6979675292969, 473.7884216308594, 428.4461975097656, 471.5013427734375, 436.2629089355469, 448.7668151855469, 418.1260986328125, 359.3424377441406, 398.0753173828125, 340.070556640625, 354.7093200683594, 379.2486572265625, 332.2802734375, 349.64410400390625, 328.41864013671875, 349.6259765625, 321.9852600097656, 297.8187255859375, 264.2281494140625, 418.5844421386719, 303.8970642089844, 347.5705871582031, 276.77642822265625, 957.5462036132812, 1490.2154541015625, 526.0748901367188, 498.78192138671875, 1568.1192626953125, 969.638427734375, 1044.4356689453125, 1188.0955810546875, 515.4002075195312, 982.681396484375, 797.4857788085938, 680.1295166015625, 707.7245483398438, 3713.29150390625, 1624.2392578125, 1016.03076171875, 555.9323120117188, 753.1861572265625, 1788.2293701171875, 2090.041015625, 658.1219482421875, 1725.853759765625, 1061.3267822265625, 801.9443359375, 1142.3719482421875, 757.0935668945312, 1063.0745849609375, 1180.0186767578125, 820.42529296875, 1860.160400390625, 1987.8140869140625, 966.0003051757812, 1442.11376953125, 2133.1708984375, 1217.2474365234375, 1274.850341796875, 1022.1768798828125, 864.4276733398438, 475.3895568847656, 409.9341735839844, 381.3427734375, 442.9256591796875, 348.6150207519531, 342.0562744140625, 432.0669860839844, 307.5393371582031, 300.3746032714844, 272.9172668457031, 282.1125793457031, 264.1374816894531, 241.07447814941406, 212.65599060058594, 200.5005645751953, 179.48855590820312, 168.52447509765625, 417.8669128417969, 173.09291076660156, 160.9420623779297, 169.3221435546875, 163.7297821044922, 155.22349548339844, 161.2127227783203, 158.852783203125, 654.9733276367188, 580.9097900390625, 558.5233154296875, 416.647705078125, 269.63592529296875, 537.2086791992188, 1681.6488037109375, 839.2251586914062, 520.7027587890625, 605.7105102539062, 1442.11376953125, 1725.853759765625, 546.12646484375, 855.686767578125, 639.8067016601562, 1987.8140869140625, 1063.0745849609375, 3713.29150390625, 1065.048095703125, 834.6378784179688, 622.2850341796875, 580.3146362304688, 480.5884094238281, 396.01763916015625, 332.02069091796875, 317.6493835449219, 306.2507019042969, 279.8156433105469, 266.1571960449219, 211.173583984375, 179.44448852539062, 175.06927490234375, 144.2040252685547, 196.9896240234375, 136.3023681640625, 122.41475677490234, 107.06237030029297, 107.71186065673828, 97.38275146484375, 90.16358947753906, 86.90826416015625, 94.16264343261719, 81.36771392822266, 77.3515396118164, 75.90486145019531, 106.61332702636719, 64.65823364257812, 60.88927459716797, 64.17220306396484, 57.990020751953125, 173.4408721923828, 80.09272003173828, 442.18310546875, 664.498046875, 1425.446044921875, 224.04615783691406, 327.5599365234375, 318.36981201171875, 297.0472412109375, 1021.4542846679688, 868.8563842773438, 569.5886840820312, 1860.160400390625, 342.798828125, 440.5621032714844, 2090.041015625, 428.7359313964844, 811.50537109375, 1987.8140869140625, 3713.29150390625, 966.0003051757812, 1788.2293701171875, 931.1845703125, 631.7205200195312, 501.3779296875, 800.7610473632812, 1624.2392578125, 553.127197265625, 1009.064453125, 161.51316833496094, 140.722412109375, 109.22377014160156, 103.56151580810547, 89.08513641357422, 77.01403045654297, 80.97389221191406, 61.89299774169922, 64.0083999633789, 110.22954559326172, 59.166812896728516, 63.061336517333984, 60.60279083251953, 55.74455642700195, 70.58623504638672, 52.68661117553711, 54.21458435058594, 52.61479187011719, 52.866825103759766, 48.212650299072266, 69.03772735595703, 50.30809020996094, 49.45148468017578, 52.52482986450195, 73.31159210205078, 60.906394958496094, 50.22071838378906, 263.5294494628906, 45.0449333190918, 43.43627166748047, 64.42828369140625, 69.47317504882812, 143.51968383789062, 357.749267578125, 55.83106994628906, 161.2751007080078, 64.90360260009766, 1065.048095703125, 336.6089172363281, 87.7367172241211, 301.085693359375, 90.55423736572266, 128.0834197998047, 2090.041015625, 270.4808349609375, 440.5621032714844, 112.26722717285156, 407.0284423828125, 240.41525268554688, 186.81178283691406, 498.3197937011719, 1987.8140869140625, 534.75537109375, 228.20816040039062, 982.681396484375, 1061.3267822265625, 1788.2293701171875, 1860.160400390625, 520.7027587890625, 419.8422546386719, 480.989501953125, 386.24932861328125, 295.84320068359375, 281.72833251953125, 154.35507202148438, 134.69236755371094, 135.18524169921875, 141.16845703125, 121.16986083984375, 112.70980072021484, 110.68753051757812, 115.09278106689453, 114.25146484375, 81.86563873291016, 86.21464538574219, 76.88716888427734, 84.01139068603516, 72.16095733642578, 72.05182647705078, 67.1191635131836, 75.82464599609375, 64.01045227050781, 63.37223434448242, 63.47572708129883, 60.96010971069336, 59.50764083862305, 51.81098556518555, 55.063262939453125, 46.97285842895508, 48.999385833740234, 180.57139587402344, 123.08424377441406, 205.47506713867188, 572.4961547851562, 170.74969482421875, 607.2103881835938, 295.89422607421875, 1860.160400390625, 759.0248413085938, 228.84231567382812, 184.7150115966797, 66.6458969116211, 46.39461135864258, 48.46315383911133, 40.610015869140625, 37.146697998046875, 30.7677059173584, 24.440147399902344, 20.42422866821289, 19.893041610717773, 18.69315528869629, 23.825332641601562, 18.674739837646484, 16.927610397338867, 20.32573127746582, 18.33495330810547, 17.52532958984375, 18.8326473236084, 17.528329849243164, 15.528867721557617, 15.47568416595459, 16.46924591064453, 18.234350204467773, 14.154088020324707, 14.485647201538086, 14.764618873596191, 15.041523933410645, 14.2572660446167, 13.667712211608887, 13.22683334350586, 13.501208305358887, 15.496657371520996, 15.526362419128418, 23.115530014038086, 134.658203125, 100.74166107177734, 31.427616119384766, 29.196556091308594, 29.359146118164062, 26.90508270263672, 25.542678833007812, 19.592554092407227, 18.26372718811035, 14.734972953796387, 15.398174285888672, 13.181384086608887, 17.63387680053711, 12.826723098754883, 12.83734130859375, 12.516467094421387, 11.601120948791504, 10.605639457702637, 11.377145767211914, 11.826276779174805, 9.681689262390137, 10.246105194091797, 12.450339317321777, 15.681721687316895, 9.295851707458496, 9.76650333404541, 9.091238975524902, 10.078832626342773, 8.721948623657227, 8.694602012634277, 9.641347885131836, 31.86674690246582, 17.17621421813965, 66.00485229492188, 36.58409118652344, 35.1396369934082, 35.101707458496094, 24.798919677734375, 20.498456954956055, 21.331745147705078, 17.984460830688477, 16.798521041870117, 18.105785369873047, 17.35577392578125, 15.600395202636719, 15.1502685546875, 13.969503402709961, 14.13757038116455, 13.651576042175293, 13.739937782287598, 12.66700553894043, 12.579840660095215, 10.394688606262207, 9.634273529052734, 10.384778022766113, 10.029722213745117, 9.59045696258545, 9.057868003845215, 9.985868453979492, 8.944663047790527, 8.546171188354492, 11.58973503112793, 9.186702728271484, 9.806565284729004, 13.243474960327148, 14.612405776977539, 19.221088409423828, 24.147655487060547, 27.592512130737305, 18.16026496887207, 19.2269344329834, 20.255264282226562, 14.56407356262207, 15.037956237792969, 14.622091293334961, 14.637971878051758, 14.472670555114746, 13.953472137451172, 11.989949226379395, 13.86954116821289, 18.36960220336914, 11.594610214233398, 14.905633926391602, 11.222404479980469, 11.921838760375977, 10.878987312316895, 10.216398239135742, 9.784278869628906, 9.953898429870605, 9.919015884399414, 9.347094535827637, 9.029499053955078, 9.239530563354492, 8.993208885192871, 8.566556930541992, 11.790130615234375, 7.986294746398926, 8.450370788574219, 9.59398078918457, 23.25811004638672, 30.400558471679688, 19.532930374145508, 128.2129669189453, 52.15847396850586, 26.750152587890625, 13.139230728149414, 92.85887145996094, 94.14505767822266], \"loglift\": [30.0, 29.0, 28.0, 27.0, 26.0, 25.0, 24.0, 23.0, 22.0, 21.0, 20.0, 19.0, 18.0, 17.0, 16.0, 15.0, 14.0, 13.0, 12.0, 11.0, 10.0, 9.0, 8.0, 7.0, 6.0, 5.0, 4.0, 3.0, 2.0, 1.0, 0.8589000105857849, 0.8587999939918518, 0.857699990272522, 0.857200026512146, 0.8557000160217285, 0.8543999791145325, 0.854200005531311, 0.8540999889373779, 0.8539000153541565, 0.8537999987602234, 0.8535000085830688, 0.8533999919891357, 0.8532000184059143, 0.8531000018119812, 0.8525999784469604, 0.8522999882698059, 0.8517000079154968, 0.8514999747276306, 0.850600004196167, 0.850600004196167, 0.850600004196167, 0.8504999876022339, 0.8501999974250793, 0.8496999740600586, 0.8495000004768372, 0.8490999937057495, 0.8490999937057495, 0.8489000201225281, 0.8486999869346619, 0.8483999967575073, 0.8403000235557556, 0.8327000141143799, 0.8421000242233276, 0.842199981212616, 0.8165000081062317, 0.8147000074386597, 0.8022000193595886, 0.7832000255584717, 0.8264999985694885, 0.7552000284194946, 0.7692999839782715, 0.7720999717712402, 0.7376000285148621, 0.42980000376701355, 0.5853000283241272, 0.6157000064849854, 0.7699999809265137, 0.6536999940872192, 0.2971000075340271, 0.218299999833107, 0.6650000214576721, 0.14190000295639038, 0.3734000027179718, 0.5285000205039978, 0.2736999988555908, 0.5515999794006348, 0.2978000044822693, 0.20679999887943268, 0.47440001368522644, -0.2176000028848648, -0.2766999900341034, 0.33379998803138733, -0.045499999076128006, 1.4627000093460083, 1.4622999429702759, 1.4622999429702759, 1.4616999626159668, 1.4609999656677246, 1.4586000442504883, 1.457200050354004, 1.4567999839782715, 1.4567999839782715, 1.4556000232696533, 1.4545999765396118, 1.4541000127792358, 1.4537999629974365, 1.4535000324249268, 1.4535000324249268, 1.4531999826431274, 1.4522000551223755, 1.451799988746643, 1.4494999647140503, 1.4483000040054321, 1.4471999406814575, 1.4471999406814575, 1.4470000267028809, 1.4459999799728394, 1.4456000328063965, 1.4448000192642212, 1.4444999694824219, 1.444100022315979, 1.443600058555603, 1.4431999921798706, 1.4276000261306763, 1.3876999616622925, 1.3865000009536743, 1.3914999961853027, 1.416599988937378, 1.346500039100647, 1.2278000116348267, 1.2355999946594238, 1.295199990272522, 1.2486000061035156, 0.8700000047683716, 0.7886999845504761, 1.155400037765503, 0.9733999967575073, 1.0674999952316284, 0.48330000042915344, 0.6162999868392944, -0.34470000863075256, 0.5382999777793884, 0.6664000153541565, 1.774999976158142, 1.7747999429702759, 1.774399995803833, 1.7725000381469727, 1.7719000577926636, 1.770900011062622, 1.7697999477386475, 1.7692999839782715, 1.7685999870300293, 1.7661000490188599, 1.764299988746643, 1.763100028038025, 1.7580000162124634, 1.7577999830245972, 1.7568999528884888, 1.7559000253677368, 1.7529000043869019, 1.752500057220459, 1.7497999668121338, 1.7473000288009644, 1.7473000288009644, 1.7473000288009644, 1.7415000200271606, 1.7383999824523926, 1.7381000518798828, 1.7372000217437744, 1.7336000204086304, 1.7314000129699707, 1.7295000553131104, 1.728600025177002, 1.7218999862670898, 1.7264000177383423, 1.6756000518798828, 1.648900032043457, 1.5669000148773193, 1.6202000379562378, 1.5736000537872314, 1.5490000247955322, 1.5109000205993652, 1.253100037574768, 1.2681000232696533, 1.3293999433517456, 0.921500027179718, 1.4057999849319458, 1.2826999425888062, 0.6292999982833862, 1.2001999616622925, 0.8460999727249146, 0.3677999973297119, -0.005400000140070915, 0.7364000082015991, 0.26930001378059387, 0.6629999876022339, 0.9228000044822693, 1.086899995803833, 0.707099974155426, 0.11389999836683273, 1.0002000331878662, 0.4174000024795532, 2.5283000469207764, 2.5234999656677246, 2.520400047302246, 2.517400026321411, 2.511199951171875, 2.507699966430664, 2.50570011138916, 2.499000072479248, 2.498699903488159, 2.498300075531006, 2.496799945831299, 2.496799945831299, 2.495800018310547, 2.491499900817871, 2.490799903869629, 2.4904000759124756, 2.486599922180176, 2.4860999584198, 2.4860000610351562, 2.4856998920440674, 2.4844000339508057, 2.484299898147583, 2.4839000701904297, 2.482800006866455, 2.4816999435424805, 2.48009991645813, 2.47979998588562, 2.478300094604492, 2.4779999256134033, 2.4776999950408936, 2.477099895477295, 2.4755001068115234, 2.460900068283081, 2.4402999877929688, 2.477400064468384, 2.3303000926971436, 2.445199966430664, 1.6991000175476074, 1.9702999591827393, 2.3169000148773193, 1.7728999853134155, 2.2725000381469727, 2.0815999507904053, 0.5159000158309937, 1.5885000228881836, 1.1103999614715576, 2.065999984741211, 1.1614999771118164, 1.5250999927520752, 1.704800009727478, 0.8756999969482422, -0.2524000108242035, 0.7684999704360962, 1.4718999862670898, 0.21729999780654907, 0.1370999962091446, -0.32089999318122864, -0.49810001254081726, 0.6596999764442444, 0.8651999831199646, 3.0434999465942383, 3.043100118637085, 3.0404999256134033, 3.040299892425537, 3.0306999683380127, 3.02810001373291, 3.0276999473571777, 3.026599884033203, 3.0246999263763428, 3.023400068283081, 3.02239990234375, 3.02239990234375, 3.0223000049591064, 3.011699914932251, 3.011699914932251, 3.009500026702881, 3.009000062942505, 3.0069000720977783, 3.0037999153137207, 3.000499963760376, 3.000200033187866, 3.0000998973846436, 2.997999906539917, 2.995699882507324, 2.995300054550171, 2.990299940109253, 2.9883999824523926, 2.9839999675750732, 2.980299949645996, 2.9798998832702637, 2.7578999996185303, 2.8087000846862793, 2.706199884414673, 2.492000102996826, 2.623699903488159, 1.6663999557495117, 1.999500036239624, 0.5812000036239624, 1.1162999868392944, 2.0199999809265137, 2.1096999645233154, 4.047299861907959, 4.028200149536133, 4.015699863433838, 4.009099960327148, 4.004700183868408, 3.984100103378296, 3.9403998851776123, 3.9168999195098877, 3.902600049972534, 3.8994998931884766, 3.897700071334839, 3.8970999717712402, 3.888400077819824, 3.8833999633789062, 3.8828001022338867, 3.8824000358581543, 3.8747000694274902, 3.873699903488159, 3.860300064086914, 3.850100040435791, 3.835700035095215, 3.8313000202178955, 3.8254001140594482, 3.819499969482422, 3.815999984741211, 3.8124001026153564, 3.809499979019165, 3.806299924850464, 3.7999000549316406, 3.7994000911712646, 3.761699914932251, 3.728300094604492, 3.483799934387207, 1.7984999418258667, 4.361199855804443, 4.285099983215332, 4.277900218963623, 4.275400161743164, 4.260200023651123, 4.241600036621094, 4.210000038146973, 4.171000003814697, 4.126200199127197, 4.106900215148926, 4.093599796295166, 4.081699848175049, 4.0808000564575195, 4.06790018081665, 4.053899765014648, 4.031799793243408, 4.013299942016602, 4.011499881744385, 4.004199981689453, 3.9827001094818115, 3.9728000164031982, 3.9565999507904053, 3.955699920654297, 3.9449000358581543, 3.938699960708618, 3.9277000427246094, 3.910099983215332, 3.8968000411987305, 3.882999897003174, 3.881999969482422, 3.4444000720977783, 3.6521999835968018, 4.372099876403809, 4.321300029754639, 4.320300102233887, 4.3196001052856445, 4.277599811553955, 4.2342000007629395, 4.223100185394287, 4.202199935913086, 4.1855998039245605, 4.179299831390381, 4.177599906921387, 4.173799991607666, 4.151800155639648, 4.141300201416016, 4.137899875640869, 4.1184000968933105, 4.093699932098389, 4.084199905395508, 4.06820011138916, 4.011300086975098, 3.9927000999450684, 3.984499931335449, 3.964099884033203, 3.9577999114990234, 3.9574999809265137, 3.9458000659942627, 3.9347000122070312, 3.905900001525879, 3.90120005607605, 3.8947999477386475, 3.8763999938964844, 3.725100040435791, 3.5917000770568848, 3.395400047302246, 3.1435000896453857, 2.926100015640259, 4.25570011138916, 4.249899864196777, 4.240499973297119, 4.202000141143799, 4.200099945068359, 4.183000087738037, 4.180600166320801, 4.173399925231934, 4.131100177764893, 4.118000030517578, 4.115499973297119, 4.11299991607666, 4.106800079345703, 4.105800151824951, 4.080699920654297, 4.071599960327148, 4.068999767303467, 4.042300224304199, 4.012700080871582, 4.002999782562256, 4.000800132751465, 3.9900999069213867, 3.9700000286102295, 3.9514999389648438, 3.948699951171875, 3.939500093460083, 3.9154000282287598, 3.9137001037597656, 3.9114999771118164, 3.882699966430664, 3.6810998916625977, 3.5552000999450684, 3.6484999656677246, 2.7646000385284424, 2.8406999111175537, 3.1916000843048096, 3.6810998916625977, 1.7575000524520874, 1.7355999946594238], \"logprob\": [30.0, 29.0, 28.0, 27.0, 26.0, 25.0, 24.0, 23.0, 22.0, 21.0, 20.0, 19.0, 18.0, 17.0, 16.0, 15.0, 14.0, 13.0, 12.0, 11.0, 10.0, 9.0, 8.0, 7.0, 6.0, 5.0, 4.0, 3.0, 2.0, 1.0, -4.700900077819824, -4.931399822235107, -5.340799808502197, -4.998000144958496, -5.956099987030029, -6.1168999671936035, -6.207300186157227, -6.165999889373779, -6.155399799346924, -6.256100177764893, -6.160600185394287, -6.23829984664917, -6.210299968719482, -6.281099796295166, -6.433199882507324, -6.330999851226807, -6.489099979400635, -6.447199821472168, -6.381199836730957, -6.513400077819824, -6.462500095367432, -6.525300025939941, -6.462900161743164, -6.54580020904541, -6.624100208282471, -6.744100093841553, -6.283999919891357, -6.604400157928467, -6.470300197601318, -6.698400020599365, -5.4653000831604, -5.030700206756592, -6.0625, -6.115699768066406, -4.9959001541137695, -5.478400230407715, -5.416500091552734, -5.306700229644775, -6.098599910736084, -5.524600028991699, -5.719200134277344, -5.8755998611450195, -5.8703999519348145, -4.520599842071533, -5.19189977645874, -5.63070011138916, -6.079400062561035, -5.892000198364258, -5.383900165557861, -5.30679988861084, -6.015600204467773, -5.574699878692627, -5.8292999267578125, -5.954400062561035, -5.855400085449219, -5.988900184631348, -5.903299808502197, -5.889900207519531, -5.985799789428711, -5.8592000007629395, -5.851900100708008, -5.9629998207092285, -5.9415998458862305, -4.041900157928467, -4.603400230407715, -4.557199954986572, -4.778600215911865, -4.946899890899658, -5.547299861907959, -5.696800231933594, -5.769499778747559, -5.619800090789795, -5.860499858856201, -5.88040018081665, -5.647299766540527, -5.98769998550415, -6.011499881744385, -6.107399940490723, -6.07450008392334, -6.141300201416016, -6.233099937438965, -6.360799789428711, -6.420899868011475, -6.532700061798096, -6.595799922943115, -5.687900066375732, -6.570199966430664, -6.643400192260742, -6.593400001525879, -6.627399921417236, -6.681000232696533, -6.643700122833252, -6.65880012512207, -5.257800102233887, -5.417699813842773, -5.4583001136779785, -5.746300220489502, -6.156300067901611, -5.537099838256836, -4.514699935913086, -5.201900005340576, -5.619699954986572, -5.514999866485596, -5.026199817657471, -4.9278998374938965, -5.711699962615967, -5.444699764251709, -5.64139986038208, -5.0920000076293945, -5.584799766540527, -5.295100212097168, -5.660900115966797, -5.776599884033203, -4.961599826812744, -5.031700134277344, -5.220600128173828, -5.416100025177002, -5.592899799346924, -5.638199806213379, -5.67579984664917, -5.766600131988525, -5.817299842834473, -6.051199913024902, -6.21589994430542, -6.241799831390381, -6.440700054168701, -6.1290998458862305, -6.498300075531006, -6.6066999435424805, -6.74370002746582, -6.73799991607666, -6.8414998054504395, -6.92110013961792, -6.957900047302246, -6.877699851989746, -7.029600143432617, -7.083199977874756, -7.102399826049805, -6.763599872589111, -7.267300128936768, -7.329500198364258, -7.278900146484375, -7.381199836730957, -6.292300224304199, -7.060400009155273, -5.402699947357178, -5.02209997177124, -4.340799808502197, -6.138000011444092, -5.804800033569336, -5.857800006866455, -5.965199947357178, -4.98799991607666, -5.134699821472168, -5.495699882507324, -4.720099925994873, -5.92710018157959, -5.799300193786621, -4.8958001136779785, -5.908999919891357, -5.625100135803223, -5.207399845123291, -4.9558000564575195, -5.560400009155273, -5.411799907684326, -5.670599937438965, -5.798699855804443, -5.865799903869629, -5.777400016784668, -5.663300037384033, -5.8541998863220215, -5.835899829864502, -5.55709981918335, -5.69980001449585, -5.956200122833252, -6.012400150299072, -6.169300079345703, -6.318299770355225, -6.270199775695801, -6.545599937438965, -6.51230001449585, -5.969200134277344, -6.592800140380859, -6.529099941253662, -6.569799900054932, -6.657800197601318, -6.422399997711182, -6.715199947357178, -6.690499782562256, -6.720900058746338, -6.71619987487793, -6.808599948883057, -6.451000213623047, -6.767499923706055, -6.785099983215332, -6.725900173187256, -6.393599987030029, -6.58050012588501, -6.773799896240234, -5.117499828338623, -6.884399890899658, -6.921000003814697, -6.527400016784668, -6.45359992980957, -5.742700099945068, -4.849899768829346, -6.670300006866455, -5.7565999031066895, -6.5518999099731445, -4.500199794769287, -5.380799770355225, -6.378699779510498, -5.689700126647949, -6.391600131988525, -6.2357001304626465, -5.009200096130371, -5.981299877166748, -5.971499919891357, -6.383200168609619, -5.99970006942749, -6.162600040435791, -6.235099792480469, -6.083099842071533, -5.827600002288818, -6.119699954986572, -6.267899990081787, -6.062399864196777, -6.065700054168701, -6.001999855041504, -6.139699935913086, -6.255099773406982, -6.264999866485596, -3.9505999088287354, -4.170499801635742, -4.439700126647949, -4.488699913024902, -5.100100040435791, -5.238999843597412, -5.2357001304626465, -5.19350004196167, -5.348100185394287, -5.421800136566162, -5.440899848937988, -5.401800155639648, -5.40939998626709, -5.753300189971924, -5.701499938964844, -5.81820011138916, -5.730000019073486, -5.884200096130371, -5.888899803161621, -5.9629998207092285, -5.841400146484375, -6.010900020599365, -6.0229997634887695, -6.02370023727417, -6.064499855041504, -6.093599796295166, -6.234099864959717, -6.177599906921387, -6.340099811553955, -6.298299789428711, -5.216000080108643, -5.548500061035156, -5.138500213623047, -4.328000068664551, -5.406199932098389, -5.094699859619141, -5.480500221252441, -5.060400009155273, -5.4217000007629395, -5.7170000076293945, -5.8414998054504395, -4.923399925231934, -5.304699897766113, -5.273499965667725, -5.456900119781494, -5.55049991607666, -5.759500026702881, -6.033400058746338, -6.236400127410889, -6.277100086212158, -6.342400074005127, -6.101500034332275, -6.345799922943115, -6.452700138092041, -6.274700164794922, -6.378399848937988, -6.423999786376953, -6.3597002029418945, -6.432499885559082, -6.5671000480651855, -6.580599784851074, -6.532800197601318, -6.435400009155273, -6.6946001052856445, -6.6774001121521, -6.661799907684326, -6.6468000411987305, -6.703199863433838, -6.748600006103516, -6.787899971008301, -6.767899990081787, -6.667699813842773, -6.69920015335083, -6.5457000732421875, -6.468800067901611, -4.196300029754639, -5.43720006942749, -5.51800012588501, -5.514999866485596, -5.617499828338623, -5.6880998611450195, -5.984899997711182, -6.094099998474121, -6.353600025177002, -6.328800201416016, -6.497600078582764, -6.218500137329102, -6.537700176239014, -6.549799919128418, -6.589099884033203, -6.687099933624268, -6.795300006866455, -6.726900100708008, -6.695499897003174, -6.917099952697754, -6.870299816131592, -6.691699981689453, -6.4618000984191895, -6.99560022354126, -6.952400207519531, -7.034999847412109, -6.94950008392334, -7.107399940490723, -7.124300003051758, -7.021999835968018, -6.264100074768066, -6.674300193786621, -4.6082000732421875, -5.249100208282471, -5.29040002822876, -5.292200088500977, -5.681600093841553, -5.915500164031982, -5.88670015335083, -6.0782999992370605, -6.163099765777588, -6.0945000648498535, -6.138500213623047, -6.248899936676025, -6.30019998550415, -6.3917999267578125, -6.383299827575684, -6.43779993057251, -6.455999851226807, -6.546800136566162, -6.569799900054932, -6.817500114440918, -6.911900043487549, -6.845200061798096, -6.900400161743164, -6.951399803161621, -7.008900165557861, -6.923099994659424, -7.044300079345703, -7.11870002746582, -6.818699836730957, -7.057400226593018, -7.010499954223633, -6.861400127410889, -6.896399974822998, -6.818600177764893, -6.842299938201904, -6.926300048828125, -6.014999866485596, -5.963799953460693, -5.92110013961792, -6.2895002365112305, -6.259300231933594, -6.304500102996826, -6.305799961090088, -6.324399948120117, -6.403200149536133, -6.567999839782715, -6.424799919128418, -6.146299839019775, -6.61269998550415, -6.362400054931641, -6.67140007019043, -6.620100021362305, -6.714200019836426, -6.803699970245361, -6.8765997886657715, -6.869100093841553, -6.874800205230713, -6.944799900054932, -6.999499797821045, -6.994999885559082, -7.024799823760986, -7.082600116729736, -6.787399768829346, -7.178599834442139, -7.124300003051758, -7.026199817657471, -6.342299938201904, -6.200399875640869, -6.5493998527526855, -5.551700115203857, -6.375, -6.69189977645874, -6.913300037384033, -6.881499767303467, -6.889599800109863]}, \"token.table\": {\"Topic\": [1, 2, 3, 4, 7, 1, 2, 3, 4, 8, 1, 2, 3, 4, 1, 2, 3, 4, 1, 2, 3, 4, 5, 8, 1, 2, 3, 4, 8, 1, 2, 3, 4, 5, 1, 2, 3, 4, 5, 1, 2, 3, 4, 5, 1, 2, 3, 4, 1, 2, 3, 4, 8, 1, 2, 3, 4, 8, 1, 2, 3, 4, 5, 1, 2, 3, 4, 8, 1, 2, 3, 4, 1, 2, 3, 4, 1, 2, 3, 4, 5, 1, 2, 3, 4, 8, 1, 2, 3, 4, 1, 2, 3, 4, 1, 2, 3, 4, 6, 1, 2, 3, 4, 5, 1, 2, 3, 4, 8, 1, 2, 3, 4, 1, 2, 3, 4, 5, 1, 2, 3, 4, 8, 1, 2, 3, 4, 1, 2, 3, 4, 1, 2, 3, 4, 1, 2, 3, 4, 6, 1, 2, 3, 4, 9, 1, 2, 3, 4, 7, 1, 2, 3, 4, 1, 2, 3, 4, 1, 2, 3, 4, 1, 2, 3, 4, 5, 6, 1, 2, 3, 4, 1, 2, 3, 4, 7, 1, 2, 3, 4, 7, 1, 2, 3, 4, 1, 2, 3, 4, 5, 1, 2, 3, 4, 5, 1, 2, 3, 4, 5, 1, 2, 3, 4, 7, 1, 2, 3, 4, 5, 1, 2, 3, 4, 9, 1, 2, 3, 4, 1, 2, 3, 4, 8, 1, 2, 3, 4, 1, 2, 3, 4, 5, 1, 2, 3, 4, 5, 1, 2, 3, 4, 8, 1, 2, 3, 4, 5, 1, 2, 3, 4, 1, 2, 3, 4, 5, 1, 2, 3, 4, 1, 2, 3, 4, 7, 1, 2, 3, 4, 1, 2, 3, 4, 5, 1, 2, 3, 4, 5, 1, 2, 3, 4, 9, 1, 2, 3, 4, 1, 2, 3, 4, 1, 2, 3, 4, 1, 2, 3, 4, 5, 8, 1, 2, 3, 4, 9, 1, 2, 3, 4, 5, 1, 2, 3, 4, 6, 1, 2, 3, 4, 9, 1, 2, 3, 4, 1, 2, 3, 4, 1, 2, 3, 4, 5, 1, 2, 3, 4, 5, 1, 2, 3, 4, 1, 2, 3, 4, 1, 2, 3, 4, 1, 2, 3, 4, 5, 6, 1, 2, 3, 4, 1, 2, 3, 4, 5, 1, 2, 3, 4, 5, 1, 2, 3, 4, 1, 2, 3, 4, 1, 2, 3, 4, 9, 1, 2, 3, 4, 5, 1, 2, 3, 4, 1, 2, 3, 4, 9, 1, 2, 3, 4, 5, 1, 2, 3, 4, 5, 8, 1, 2, 3, 4, 5, 1, 2, 3, 4, 1, 2, 3, 4, 1, 2, 3, 4, 9, 1, 2, 3, 4, 9, 1, 2, 3, 4, 5, 1, 2, 3, 4, 5, 1, 2, 3, 4, 1, 2, 3, 4, 1, 2, 3, 4, 1, 2, 3, 4, 1, 2, 3, 4, 7, 1, 2, 3, 4, 1, 2, 3, 4, 1, 2, 3, 4, 1, 2, 3, 4, 8, 1, 2, 3, 4, 6, 1, 2, 3, 4, 7, 1, 2, 3, 4, 1, 2, 3, 4, 1, 2, 3, 4, 8, 1, 2, 3, 4, 1, 2, 3, 4, 1, 2, 3, 4, 6, 1, 2, 3, 4, 8, 1, 2, 3, 4, 1, 2, 3, 4, 5, 1, 2, 3, 4, 9, 1, 2, 3, 4, 5, 1, 2, 3, 4, 5, 1, 2, 3, 4, 5, 1, 2, 3, 4, 5, 1, 2, 3, 4, 1, 2, 3, 4, 5, 1, 2, 3, 4, 5, 1, 2, 3, 4, 1, 2, 3, 4, 5, 8, 1, 2, 3, 4, 1, 2, 3, 4, 5, 1, 2, 3, 4, 1, 2, 3, 4, 1, 2, 3, 4, 5, 1, 2, 3, 4, 6, 1, 2, 3, 4, 6, 1, 2, 3, 4, 7, 1, 2, 3, 4, 5, 7, 1, 2, 3, 4, 1, 2, 3, 4, 9, 1, 2, 3, 4, 1, 2, 3, 4, 8, 1, 2, 3, 4, 9, 1, 2, 3, 4, 1, 2, 3, 4, 1, 2, 3, 4, 7, 1, 2, 3, 4, 5, 1, 2, 3, 4, 9, 1, 2, 3, 4, 8, 1, 2, 3, 4, 5, 1, 2, 3, 4, 7, 1, 2, 3, 4, 5, 1, 2, 3, 4, 6, 1, 2, 3, 4, 5, 1, 2, 3, 4, 1, 2, 3, 4, 1, 2, 3, 4, 1, 2, 3, 4, 5, 1, 2, 3, 4, 9, 1, 2, 3, 4, 1, 2, 3, 4, 7, 1, 2, 3, 4, 9, 1, 2, 3, 4, 6, 1, 2, 3, 4, 5, 1, 2, 3, 4, 1, 2, 3, 4, 5, 6, 1, 2, 3, 4, 9, 1, 2, 3, 4, 5, 1, 2, 3, 4, 5, 1, 2, 3, 4, 5, 1, 2, 3, 4, 5, 1, 2, 3, 4, 8, 1, 2, 3, 4, 1, 2, 3, 4, 5, 1, 2, 3, 4, 5, 1, 2, 3, 4, 5, 6, 1, 2, 3, 4, 7, 1, 2, 3, 4, 8, 1, 2, 3, 4, 1, 2, 3, 4, 5, 1, 2, 3, 4, 9, 1, 2, 3, 4, 5, 1, 2, 3, 4, 5, 1, 2, 3, 4, 7, 1, 2, 3, 4, 7, 1, 2, 3, 4, 5, 1, 2, 3, 4, 1, 2, 3, 4, 9, 1, 2, 3, 4, 1, 2, 3, 4, 5, 1, 2, 3, 4, 9, 1, 2, 3, 4, 6, 1, 2, 3, 4, 5, 1, 2, 3, 4, 8, 1, 2, 3, 4, 9, 1, 2, 3, 4, 1, 2, 3, 4, 5, 7, 1, 2, 3, 4, 6, 1, 2, 3, 4, 9, 1, 2, 3, 4, 5, 1, 2, 3, 4, 1, 2, 3, 4, 8, 1, 2, 3, 4, 9, 1, 2, 3, 4, 8, 1, 2, 3, 4, 5, 1, 2, 3, 4, 7, 1, 2, 3, 4, 1, 2, 3, 4, 6, 1, 2, 3, 4, 8, 1, 2, 3, 4, 1, 2, 3, 4, 9, 1, 2, 3, 4, 7, 1, 2, 3, 4, 1, 2, 3, 4, 5, 1, 2, 3, 4, 5, 1, 2, 3, 4, 5, 1, 2, 3, 4, 1, 2, 3, 4, 5, 1, 2, 3, 4, 5, 1, 2, 3, 4, 1, 2, 3, 4, 8, 1, 2, 3, 4, 9, 1, 2, 3, 4, 1, 2, 3, 4, 8, 1, 2, 3, 4, 1, 2, 3, 4, 1, 2, 3, 4, 1, 2, 3, 4, 1, 2, 3, 4, 1, 2, 3, 4, 1, 2, 3, 4, 5, 1, 2, 3, 4, 5, 9, 1, 2, 3, 4, 6, 1, 2, 3, 4, 5, 1, 2, 3, 4, 9, 1, 2, 3, 4, 9, 1, 2, 3, 4, 5, 1, 2, 3, 4, 5, 1, 2, 3, 4, 5, 1, 2, 3, 4, 1, 2, 3, 4, 7, 1, 2, 3, 4, 5, 1, 2, 3, 4, 1, 2, 3, 4, 5, 1, 2, 3, 4, 7, 1, 2, 3, 4, 5, 1, 2, 3, 4, 1, 2, 3, 4, 5, 1, 2, 3, 4, 6, 1, 2, 3, 4, 6, 1, 2, 3, 4, 7, 1, 2, 3, 4, 1, 2, 3, 4, 5, 1, 2, 3, 4, 1, 2, 3, 4, 7, 1, 2, 3, 4, 1, 2, 3, 4, 1, 2, 3, 4, 5, 1, 2, 3, 4, 8, 1, 2, 3, 4, 7, 1, 2, 3, 4, 9, 1, 2, 3, 4, 8, 1, 2, 3, 4, 5, 1, 2, 3, 4, 1, 2, 3, 4, 9, 1, 2, 3, 4, 5, 9, 1, 2, 3, 4, 5, 1, 2, 3, 4, 5, 1, 2, 3, 4, 1, 2, 3, 4, 5, 1, 2, 3, 4, 1, 2, 3, 4, 1, 2, 3, 4, 1, 2, 3, 4, 1, 2, 3, 4, 1, 2, 3, 4, 1, 2, 3, 4, 1, 2, 3, 4, 6, 1, 2, 3, 4, 1, 2, 3, 4, 8, 1, 2, 3, 4, 1, 2, 3, 4, 1, 2, 3, 4, 9, 1, 2, 3, 4, 5, 1, 2, 3, 4, 5, 1, 2, 3, 4, 5, 1, 2, 3, 4, 1, 2, 3, 4, 1, 2, 3, 4, 5, 1, 2, 3, 4, 5, 9, 1, 2, 3, 4, 1, 2, 3, 4, 9, 1, 2, 3, 4, 1, 2, 3, 4, 1, 2, 3, 4, 6, 1, 2, 3, 4, 9, 1, 2, 3, 4, 6, 1, 2, 3, 4, 8, 1, 2, 3, 4, 5, 1, 2, 3, 4, 5, 6, 1, 2, 3, 4, 6, 1, 2, 3, 4, 8, 1, 2, 3, 4, 8, 1, 2, 3, 4, 7, 1, 2, 3, 4, 1, 2, 3, 4, 1, 2, 3, 4, 8, 1, 2, 3, 4, 1, 2, 3, 4, 6, 1, 2, 3, 4, 5, 1, 2, 3, 4, 5, 1, 2, 3, 4, 1, 2, 3, 4, 5, 1, 2, 3, 4, 5, 1, 2, 3, 4, 6, 1, 2, 3, 4, 5, 6, 1, 2, 3, 4, 5, 1, 2, 3, 4, 7, 1, 2, 3, 4, 1, 2, 3, 4, 1, 2, 3, 4, 8, 1, 2, 3, 4, 5, 1, 2, 3, 4, 1, 2, 3, 4, 5, 1, 2, 3, 4, 1, 2, 3, 4, 1, 2, 3, 4, 1, 2, 3, 4, 1, 2, 3, 4, 7, 1, 2, 3, 4, 5, 1, 2, 3, 4, 5, 1, 2, 3, 4, 5, 1, 2, 3, 4, 1, 2, 3, 4, 6, 1, 2, 3, 4, 1, 2, 3, 4, 5, 1, 2, 3, 4, 5, 1, 2, 3, 4, 7, 1, 2, 3, 4, 1, 2, 3, 4, 5, 1, 2, 3, 4, 1, 2, 3, 4, 7, 1, 2, 3, 4, 7, 1, 2, 3, 4, 5, 1, 2, 3, 4, 5, 1, 2, 3, 4, 1, 2, 3, 4, 1, 2, 3, 4, 8, 1, 2, 3, 4, 1, 2, 3, 4, 1, 2, 3, 4, 5, 1, 2, 3, 4, 1, 2, 3, 4, 5, 1, 2, 3, 4, 1, 2, 3, 4, 1, 2, 3, 4, 7, 1, 2, 3, 4, 9, 1, 2, 3, 4, 5, 1, 2, 3, 4, 9, 1, 2, 3, 4, 9, 1, 2, 3, 4, 1, 2, 3, 4, 6, 1, 2, 3, 4, 5, 1, 2, 3, 4, 7, 1, 2, 3, 4, 1, 2, 3, 4, 1, 2, 3, 4, 5, 1, 2, 3, 4, 6, 1, 2, 3, 4, 6, 1, 2, 3, 4, 1, 2, 3, 4, 6, 1, 2, 3, 4, 1, 2, 3, 4, 5, 1, 2, 3, 4, 1, 2, 3, 4, 5, 1, 2, 3, 4, 1, 2, 3, 4, 6, 1, 2, 3, 4, 5, 1, 2, 3, 4, 5, 1, 2, 3, 4, 5, 1, 2, 3, 4, 5, 1, 2, 3, 4, 5, 9, 1, 2, 3, 4, 5, 1, 2, 3, 4, 1, 2, 3, 4, 1, 2, 3, 4, 1, 2, 3, 4, 9, 1, 2, 3, 4, 9, 1, 2, 3, 4, 1, 2, 3, 4, 1, 2, 3, 4, 6, 1, 2, 3, 4, 1, 2, 3, 4, 5, 1, 2, 3, 4, 1, 2, 3, 4, 1, 2, 3, 4], \"Freq\": [0.11465327441692352, 0.11465327441692352, 0.11465327441692352, 0.11465327441692352, 0.5732663869857788, 0.08628325164318085, 0.08628325164318085, 0.08628325164318085, 0.1725665032863617, 0.6039827466011047, 0.0022577152121812105, 0.9911369681358337, 0.0022577152121812105, 0.0022577152121812105, 0.004159470088779926, 0.21213296055793762, 0.4201064705848694, 0.3577144145965576, 0.055230963975191116, 0.055230963975191116, 0.055230963975191116, 0.055230963975191116, 0.055230963975191116, 0.7732335329055786, 0.01515040174126625, 0.01515040174126625, 0.01515040174126625, 0.01515040174126625, 0.9393248558044434, 0.15884055197238922, 0.006759172305464745, 0.4799012243747711, 0.0033795861527323723, 0.3480973541736603, 0.019300926476716995, 0.019300926476716995, 0.019300926476716995, 0.019300926476716995, 0.9457453489303589, 0.007083735428750515, 0.007083735428750515, 0.007083735428750515, 0.007083735428750515, 0.977555513381958, 0.01248552929610014, 0.02497105859220028, 0.9489002227783203, 0.01248552929610014, 0.1037960946559906, 0.1037960946559906, 0.1037960946559906, 0.1037960946559906, 0.6227765679359436, 0.04687849059700966, 0.04687849059700966, 0.04687849059700966, 0.04687849059700966, 0.7969343066215515, 0.82203608751297, 0.1732201725244522, 0.0015194752486422658, 0.0015194752486422658, 0.0015194752486422658, 0.09970366209745407, 0.09970366209745407, 0.09970366209745407, 0.09970366209745407, 0.5982219576835632, 0.011225217022001743, 0.011225217022001743, 0.011225217022001743, 0.9653686881065369, 0.009155516512691975, 0.009155516512691975, 0.009155516512691975, 0.970484733581543, 0.9145317077636719, 0.022054623812437057, 0.0602826364338398, 0.0014703081687912345, 0.0014703081687912345, 0.09620297700166702, 0.09620297700166702, 0.09620297700166702, 0.09620297700166702, 0.6734208464622498, 0.9887971878051758, 0.0026367923710495234, 0.0026367923710495234, 0.0026367923710495234, 0.010619922541081905, 0.010619922541081905, 0.9664129614830017, 0.010619922541081905, 0.05907508358359337, 0.05907508358359337, 0.05907508358359337, 0.05907508358359337, 0.8270511627197266, 0.38565513491630554, 0.611204981803894, 0.0011686519719660282, 0.0011686519719660282, 0.0011686519719660282, 0.07073350995779037, 0.07073350995779037, 0.07073350995779037, 0.07073350995779037, 0.7780686020851135, 0.009340349584817886, 0.009340349584817886, 0.9713963866233826, 0.009340349584817886, 0.40357425808906555, 0.5512741208076477, 0.004160559270530939, 0.0006934265838935971, 0.039525315165519714, 0.027334285899996758, 0.027334285899996758, 0.027334285899996758, 0.027334285899996758, 0.902031421661377, 0.008168949745595455, 0.008168949745595455, 0.9721050262451172, 0.008168949745595455, 0.782456636428833, 0.1417279988527298, 0.000984222162514925, 0.07381666451692581, 0.7343874573707581, 0.0013208406744524837, 0.26284730434417725, 0.0013208406744524837, 0.05705050006508827, 0.05705050006508827, 0.05705050006508827, 0.05705050006508827, 0.7987070083618164, 0.04936988279223442, 0.04936988279223442, 0.04936988279223442, 0.04936988279223442, 0.7899181246757507, 0.09428945928812027, 0.09428945928812027, 0.09428945928812027, 0.09428945928812027, 0.6600261926651001, 0.019038613885641098, 0.019038613885641098, 0.019038613885641098, 0.9328921437263489, 0.0035446842666715384, 0.9889668822288513, 0.0035446842666715384, 0.0035446842666715384, 0.42084023356437683, 0.001994503429159522, 0.49862584471702576, 0.0757911279797554, 0.06071923300623894, 0.06071923300623894, 0.06071923300623894, 0.06071923300623894, 0.06071923300623894, 0.7893500328063965, 0.9909708499908447, 0.0029405662789940834, 0.0029405662789940834, 0.0029405662789940834, 0.10757486522197723, 0.10757486522197723, 0.10757486522197723, 0.10757486522197723, 0.6454492211341858, 0.03716769814491272, 0.03716769814491272, 0.03716769814491272, 0.03716769814491272, 0.8548570871353149, 0.9868499040603638, 0.0028771134093403816, 0.0028771134093403816, 0.0028771134093403816, 0.015779782086610794, 0.015779782086610794, 0.015779782086610794, 0.015779782086610794, 0.9467868804931641, 0.012215137481689453, 0.012215137481689453, 0.012215137481689453, 0.012215137481689453, 0.964995801448822, 0.0164041705429554, 0.0164041705429554, 0.0164041705429554, 0.0164041705429554, 0.9514418840408325, 0.03406093642115593, 0.03406093642115593, 0.03406093642115593, 0.03406093642115593, 0.8855843544006348, 0.00226150662638247, 0.00226150662638247, 0.900079607963562, 0.00226150662638247, 0.09272176772356033, 0.04299575462937355, 0.04299575462937355, 0.04299575462937355, 0.38696178793907166, 0.47295328974723816, 0.0041480958461761475, 0.9872467517852783, 0.0041480958461761475, 0.0041480958461761475, 0.1042703166604042, 0.1042703166604042, 0.1042703166604042, 0.1042703166604042, 0.6256219148635864, 0.9808489680290222, 0.0019008700037375093, 0.0019008700037375093, 0.013306090608239174, 0.6789161562919617, 0.30959552526474, 0.0012188800610601902, 0.008532159961760044, 0.0012188800610601902, 0.2555103898048401, 0.0024568308144807816, 0.4889093339443207, 0.2505967319011688, 0.0024568308144807816, 0.07894525676965714, 0.07894525676965714, 0.07894525676965714, 0.07894525676965714, 0.710507333278656, 0.014167068526148796, 0.014167068526148796, 0.014167068526148796, 0.94919353723526, 0.014167068526148796, 0.9250097274780273, 0.07238475233316422, 0.0008416831260547042, 0.0008416831260547042, 0.9137803316116333, 0.001798780169337988, 0.001798780169337988, 0.08094510436058044, 0.001798780169337988, 0.022200055420398712, 0.022200055420398712, 0.022200055420398712, 0.9324023127555847, 0.1099960058927536, 0.1099960058927536, 0.1099960058927536, 0.1099960058927536, 0.659976065158844, 0.0009783043060451746, 0.9968920350074768, 0.0009783043060451746, 0.0009783043060451746, 0.3402932286262512, 0.10429207980632782, 0.42308178544044495, 0.04730774834752083, 0.08440132439136505, 0.3583545386791229, 0.32278257608413696, 0.07773131877183914, 0.0948585569858551, 0.14492279291152954, 0.09788185358047485, 0.09788185358047485, 0.09788185358047485, 0.09788185358047485, 0.685172975063324, 0.0037859072908759117, 0.9881218075752258, 0.0037859072908759117, 0.0037859072908759117, 0.0049875169061124325, 0.9825408458709717, 0.0049875169061124325, 0.0049875169061124325, 0.987622857093811, 0.0031057321466505527, 0.0031057321466505527, 0.0031057321466505527, 0.0284886434674263, 0.0284886434674263, 0.0284886434674263, 0.0284886434674263, 0.0284886434674263, 0.8831478953361511, 0.10698511451482773, 0.10698511451482773, 0.10698511451482773, 0.10698511451482773, 0.6419106721878052, 0.018160928040742874, 0.018160928040742874, 0.018160928040742874, 0.018160928040742874, 0.9262073636054993, 0.07560388743877411, 0.07560388743877411, 0.07560388743877411, 0.07560388743877411, 0.7560388445854187, 0.052010372281074524, 0.052010372281074524, 0.052010372281074524, 0.052010372281074524, 0.8321659564971924, 0.5195057988166809, 0.07867515832185745, 0.3421745002269745, 0.05869416519999504, 0.7591246366500854, 0.04986950010061264, 0.1890115588903427, 0.001847018487751484, 0.00875262264162302, 0.00875262264162302, 0.00875262264162302, 0.00875262264162302, 0.971541166305542, 0.013878898695111275, 0.013878898695111275, 0.013878898695111275, 0.013878898695111275, 0.957643985748291, 0.002080782549455762, 0.002080782549455762, 0.9925333261489868, 0.002080782549455762, 0.016500890254974365, 0.016500890254974365, 0.016500890254974365, 0.9405507445335388, 0.007336629554629326, 0.007336629554629326, 0.9757717251777649, 0.007336629554629326, 0.03250161185860634, 0.03250161185860634, 0.03250161185860634, 0.03250161185860634, 0.03250161185860634, 0.8775435090065002, 0.006213415879756212, 0.9817197322845459, 0.006213415879756212, 0.006213415879756212, 0.25639861822128296, 0.45049476623535156, 0.28754985332489014, 0.001198124373331666, 0.003594373119994998, 0.0017904355190694332, 0.9238647222518921, 0.0017904355190694332, 0.06982698291540146, 0.0017904355190694332, 0.0011568347690626979, 0.9960347414016724, 0.0011568347690626979, 0.0011568347690626979, 0.004735440947115421, 0.004735440947115421, 0.9849717020988464, 0.004735440947115421, 0.0891074612736702, 0.0891074612736702, 0.0891074612736702, 0.0891074612736702, 0.7128596901893616, 0.2809810936450958, 0.15897613763809204, 0.17376461625099182, 0.3845004439353943, 0.003697119653224945, 0.019912101328372955, 0.019912101328372955, 0.019912101328372955, 0.9358687400817871, 0.06831547617912292, 0.06831547617912292, 0.06831547617912292, 0.06831547617912292, 0.7514702081680298, 0.0015267797280102968, 0.9633979797363281, 0.0015267797280102968, 0.03206237405538559, 0.0015267797280102968, 0.07949226349592209, 0.07949226349592209, 0.07949226349592209, 0.07949226349592209, 0.07949226349592209, 0.7154303789138794, 0.005765653681010008, 0.04035957530140877, 0.9398015737533569, 0.005765653681010008, 0.005765653681010008, 0.006191445514559746, 0.006191445514559746, 0.006191445514559746, 0.9782484173774719, 0.004702430218458176, 0.9828079342842102, 0.004702430218458176, 0.004702430218458176, 0.019172340631484985, 0.6902042627334595, 0.019172340631484985, 0.057517021894454956, 0.19172340631484985, 0.08481670171022415, 0.08481670171022415, 0.1696334034204483, 0.08481670171022415, 0.5937169194221497, 0.005352981388568878, 0.005352981388568878, 0.5567100644111633, 0.42823851108551025, 0.005352981388568878, 0.005856525618582964, 0.30453935265541077, 0.03513915464282036, 0.005856525618582964, 0.6500743627548218, 0.06162986159324646, 0.015407465398311615, 0.015407465398311615, 0.9090404510498047, 0.007807411719113588, 0.35133352875709534, 0.007807411719113588, 0.6245929598808289, 0.22891981899738312, 0.0033664677757769823, 0.7641882300376892, 0.0033664677757769823, 0.19788308441638947, 0.003141001332551241, 0.7915323376655579, 0.003141001332551241, 0.11501388996839523, 0.11501388996839523, 0.11501388996839523, 0.11501388996839523, 0.5750694274902344, 0.9940513968467712, 0.002223828574642539, 0.002223828574642539, 0.002223828574642539, 0.01228988729417324, 0.01228988729417324, 0.9586111903190613, 0.01228988729417324, 0.016901366412639618, 0.016901366412639618, 0.016901366412639618, 0.9464765191078186, 0.0727805346250534, 0.0727805346250534, 0.0727805346250534, 0.0727805346250534, 0.7278053164482117, 0.040916282683610916, 0.040916282683610916, 0.040916282683610916, 0.040916282683610916, 0.8592419624328613, 0.07789774984121323, 0.07789774984121323, 0.07789774984121323, 0.07789774984121323, 0.7010797262191772, 0.005572753958404064, 0.005572753958404064, 0.9808047413825989, 0.005572753958404064, 0.30197229981422424, 0.0017556528327986598, 0.6373019814491272, 0.057936545461416245, 0.040324337780475616, 0.040324337780475616, 0.040324337780475616, 0.040324337780475616, 0.846811056137085, 0.011043105274438858, 0.2098190039396286, 0.011043105274438858, 0.7619742751121521, 0.0069676851853728294, 0.06270916759967804, 0.0069676851853728294, 0.9127667546272278, 0.07013967633247375, 0.07013967633247375, 0.07013967633247375, 0.07013967633247375, 0.7715364098548889, 0.10885298252105713, 0.10885298252105713, 0.10885298252105713, 0.10885298252105713, 0.5442649126052856, 0.0057772439904510975, 0.9821314811706543, 0.0057772439904510975, 0.0057772439904510975, 0.13989979028701782, 0.3962262272834778, 0.000938924727961421, 0.4272107481956482, 0.03474021330475807, 0.051195595413446426, 0.051195595413446426, 0.4095647633075714, 0.051195595413446426, 0.46076035499572754, 0.003293751273304224, 0.5681720972061157, 0.17621569335460663, 0.001646875636652112, 0.250325083732605, 0.015521133318543434, 0.015521133318543434, 0.015521133318543434, 0.931268036365509, 0.03104226663708687, 0.009034441784024239, 0.009034441784024239, 0.009034441784024239, 0.009034441784024239, 0.975719690322876, 0.01159895770251751, 0.01159895770251751, 0.01159895770251751, 0.01159895770251751, 0.9627134799957275, 0.0307477917522192, 0.0642908364534378, 0.0027952538803219795, 0.8972764611244202, 0.3954157829284668, 0.3339727222919464, 0.2556823790073395, 0.0009910169756039977, 0.012883220799267292, 0.9901279807090759, 0.003009507665410638, 0.003009507665410638, 0.003009507665410638, 0.003009507665410638, 0.012984647415578365, 0.012984647415578365, 0.012984647415578365, 0.9608638882637024, 0.07550888508558273, 0.07550888508558273, 0.07550888508558273, 0.07550888508558273, 0.2265266478061676, 0.5285621881484985, 0.9877827167510986, 0.003784608095884323, 0.003784608095884323, 0.003784608095884323, 0.014394044876098633, 0.014394044876098633, 0.014394044876098633, 0.9356129169464111, 0.014394044876098633, 0.005076409317553043, 0.010152818635106087, 0.9746706485748291, 0.005076409317553043, 0.00571202440187335, 0.00571202440187335, 0.9824682474136353, 0.00571202440187335, 0.9549951553344727, 0.002062624553218484, 0.001031312276609242, 0.001031312276609242, 0.041252490133047104, 0.06772948056459427, 0.06772948056459427, 0.06772948056459427, 0.06772948056459427, 0.7450243234634399, 0.02155422791838646, 0.02155422791838646, 0.02155422791838646, 0.02155422791838646, 0.9268317818641663, 0.009926379658281803, 0.009926379658281803, 0.009926379658281803, 0.009926379658281803, 0.9628588557243347, 0.05822004750370979, 0.05822004750370979, 0.05822004750370979, 0.05822004750370979, 0.34932029247283936, 0.46576038002967834, 0.002103538019582629, 0.9928699135780334, 0.002103538019582629, 0.002103538019582629, 0.1082306057214737, 0.1082306057214737, 0.1082306057214737, 0.1082306057214737, 0.6493836641311646, 0.009656096808612347, 0.009656096808612347, 0.009656096808612347, 0.9656096696853638, 0.07158450782299042, 0.07158450782299042, 0.07158450782299042, 0.07158450782299042, 0.7158450484275818, 0.10423202067613602, 0.10423202067613602, 0.10423202067613602, 0.10423202067613602, 0.5211601257324219, 0.9976969957351685, 0.0004953808384016156, 0.0009907616768032312, 0.0004953808384016156, 0.0035737815778702497, 0.0035737815778702497, 0.9899374842643738, 0.0035737815778702497, 0.05475333705544472, 0.05475333705544472, 0.05475333705544472, 0.05475333705544472, 0.8213000297546387, 0.9871763586997986, 0.003290587803348899, 0.003290587803348899, 0.003290587803348899, 0.003290587803348899, 0.10220476984977722, 0.10220476984977722, 0.10220476984977722, 0.10220476984977722, 0.6132286190986633, 0.10014151781797409, 0.10014151781797409, 0.10014151781797409, 0.10014151781797409, 0.6008490920066833, 0.015754053369164467, 0.015754053369164467, 0.015754053369164467, 0.015754053369164467, 0.945243239402771, 0.03138067573308945, 0.5334714651107788, 0.03138067573308945, 0.03138067573308945, 0.376568078994751, 0.02128889039158821, 0.02128889039158821, 0.02128889039158821, 0.02128889039158821, 0.9367111325263977, 0.026920292526483536, 0.026920292526483536, 0.026920292526483536, 0.026920292526483536, 0.9152899384498596, 0.3983129560947418, 0.3609126806259155, 0.06919051706790924, 0.16830125451087952, 0.0018700138898566365, 0.005571385845541954, 0.9805639386177063, 0.005571385845541954, 0.005571385845541954, 0.003794642398133874, 0.007589284796267748, 0.05312499403953552, 0.9334819912910461, 0.9916062951087952, 0.002228328725323081, 0.002228328725323081, 0.002228328725323081, 0.00890731904655695, 0.3117561638355255, 0.00890731904655695, 0.6146050095558167, 0.05344391241669655, 0.12521451711654663, 0.12521451711654663, 0.12521451711654663, 0.12521451711654663, 0.6260725855827332, 0.017938971519470215, 0.017938971519470215, 0.017938971519470215, 0.9507654905319214, 0.09759806096553802, 0.09759806096553802, 0.09759806096553802, 0.09759806096553802, 0.683186411857605, 0.1004631519317627, 0.1004631519317627, 0.1004631519317627, 0.1004631519317627, 0.6027789115905762, 0.04197213053703308, 0.04197213053703308, 0.04197213053703308, 0.04197213053703308, 0.7974705100059509, 0.9662394523620605, 0.0019402398029342294, 0.0019402398029342294, 0.0019402398029342294, 0.02716335654258728, 0.9944693446159363, 0.0017325249500572681, 0.0017325249500572681, 0.0017325249500572681, 0.8762927055358887, 0.007426209282130003, 0.007426209282130003, 0.007426209282130003, 0.007426209282130003, 0.09654071927070618, 0.11833800375461578, 0.11833800375461578, 0.11833800375461578, 0.11833800375461578, 0.5916900038719177, 0.9963313937187195, 0.0006655520410276949, 0.0019966561812907457, 0.0006655520410276949, 0.0006655520410276949, 0.00812451634556055, 0.00812451634556055, 0.00812451634556055, 0.1949883997440338, 0.7880781292915344, 0.9979992508888245, 0.0006237495108507574, 0.0006237495108507574, 0.0006237495108507574, 0.0006237495108507574, 0.9565598964691162, 0.0019131198059767485, 0.0006377066019922495, 0.04017551615834236, 0.0006377066019922495, 0.07325161248445511, 0.07325161248445511, 0.07325161248445511, 0.07325161248445511, 0.7325161695480347, 0.26184409856796265, 0.7342621684074402, 0.0018310777377337217, 0.0018310777377337217, 0.0017467365832999349, 0.0017467365832999349, 0.42271026968955994, 0.0017467365832999349, 0.5711828470230103, 0.014600311405956745, 0.13140280544757843, 0.004866770468652248, 0.13140280544757843, 0.7056817412376404, 0.06440658867359161, 0.06440658867359161, 0.06440658867359161, 0.06440658867359161, 0.12881317734718323, 0.7084724307060242, 0.08619856834411621, 0.08619856834411621, 0.08619856834411621, 0.08619856834411621, 0.6895885467529297, 0.06410094350576401, 0.06410094350576401, 0.06410094350576401, 0.06410094350576401, 0.7692112922668457, 0.00046878569992259145, 0.9980447292327881, 0.00046878569992259145, 0.00046878569992259145, 0.008872343227267265, 0.008872343227267265, 0.008872343227267265, 0.008872343227267265, 0.9759576916694641, 0.010621906258165836, 0.5629610419273376, 0.010621906258165836, 0.33990100026130676, 0.06373143941164017, 0.0035495187621563673, 0.0035495187621563673, 0.0035495187621563673, 0.0035495187621563673, 0.9903157353401184, 0.007424325682222843, 0.007424325682222843, 0.007424325682222843, 0.007424325682222843, 0.980010986328125, 0.03181914985179901, 0.03181914985179901, 0.03181914985179901, 0.03181914985179901, 0.8909361958503723, 0.0779622346162796, 0.0779622346162796, 0.0779622346162796, 0.0779622346162796, 0.7016600966453552, 0.22875210642814636, 0.0029708065558224916, 0.12477387487888336, 0.5614824295043945, 0.08318258821964264, 0.2834397852420807, 0.002381847007200122, 0.5263881683349609, 0.18578405678272247, 0.0721004381775856, 0.0721004381775856, 0.0721004381775856, 0.0721004381775856, 0.7210043668746948, 0.979587197303772, 0.017753712832927704, 0.0010443360079079866, 0.0010443360079079866, 0.7170073986053467, 0.2481468915939331, 0.03242120146751404, 0.0012469693319872022, 0.0012469693319872022, 0.06649839878082275, 0.06649839878082275, 0.06649839878082275, 0.06649839878082275, 0.797980785369873, 0.06648262590169907, 0.06648262590169907, 0.06648262590169907, 0.06648262590169907, 0.7313088774681091, 0.3933217227458954, 0.3832879960536957, 0.026087665930390358, 0.18863388895988464, 0.008026974275708199, 0.10197250545024872, 0.10197250545024872, 0.10197250545024872, 0.10197250545024872, 0.6118350028991699, 0.11119501292705536, 0.11119501292705536, 0.11119501292705536, 0.11119501292705536, 0.555975079536438, 0.016418637707829475, 0.016418637707829475, 0.016418637707829475, 0.9358623027801514, 0.05670902878046036, 0.05670902878046036, 0.05670902878046036, 0.05670902878046036, 0.11341805756092072, 0.737217366695404, 0.07316513359546661, 0.07316513359546661, 0.07316513359546661, 0.07316513359546661, 0.7316513657569885, 0.16331328451633453, 0.05443776026368141, 0.05443776026368141, 0.05443776026368141, 0.7076908946037292, 0.6143254041671753, 0.18467450141906738, 0.11023937165737152, 0.08951060473918915, 0.0009422168950550258, 0.0007844057981856167, 0.9969797730445862, 0.0007844057981856167, 0.0007844057981856167, 0.05560355633497238, 0.05560355633497238, 0.05560355633497238, 0.05560355633497238, 0.7784497737884521, 0.08340319246053696, 0.08340319246053696, 0.08340319246053696, 0.08340319246053696, 0.7506287097930908, 0.028457893058657646, 0.028457893058657646, 0.028457893058657646, 0.028457893058657646, 0.9106525778770447, 0.5090290307998657, 0.09128157794475555, 0.326465904712677, 0.07087746262550354, 0.0021478019189089537, 0.07586456835269928, 0.07586456835269928, 0.07586456835269928, 0.07586456835269928, 0.7586456537246704, 0.015622949227690697, 0.015622949227690697, 0.015622949227690697, 0.9529998898506165, 0.0643961951136589, 0.0643961951136589, 0.0643961951136589, 0.0643961951136589, 0.7727543711662292, 0.06843499839305878, 0.06843499839305878, 0.06843499839305878, 0.3421750068664551, 0.41060999035835266, 0.01546593476086855, 0.01546593476086855, 0.9588879346847534, 0.01546593476086855, 0.11074811220169067, 0.11074811220169067, 0.11074811220169067, 0.11074811220169067, 0.664488673210144, 0.09921783953905106, 0.09921783953905106, 0.09921783953905106, 0.09921783953905106, 0.5953070521354675, 0.018445221707224846, 0.018445221707224846, 0.018445221707224846, 0.9407062530517578, 0.10610401630401611, 0.8879231214523315, 0.001861474011093378, 0.001861474011093378, 0.001861474011093378, 0.5900619029998779, 0.0020703927148133516, 0.3519667685031891, 0.0010351963574066758, 0.054865408688783646, 0.012349659577012062, 0.012349659577012062, 0.012349659577012062, 0.9632734656333923, 0.012349659577012062, 0.02022184059023857, 0.02022184059023857, 0.02022184059023857, 0.9302046298980713, 0.9925740361213684, 0.002120884833857417, 0.002120884833857417, 0.002120884833857417, 0.002120884833857417, 0.003052876330912113, 0.003052876330912113, 0.8120651245117188, 0.003052876330912113, 0.18011970818042755, 0.010268758982419968, 0.010268758982419968, 0.9652633666992188, 0.010268758982419968, 0.11701146513223648, 0.11701146513223648, 0.11701146513223648, 0.11701146513223648, 0.5850573182106018, 0.11673301458358765, 0.11673301458358765, 0.11673301458358765, 0.11673301458358765, 0.5836650729179382, 0.006295136641710997, 0.975746214389801, 0.006295136641710997, 0.006295136641710997, 0.09629479050636292, 0.09629479050636292, 0.09629479050636292, 0.09629479050636292, 0.674063503742218, 0.0024394160136580467, 0.9928423166275024, 0.0024394160136580467, 0.0024394160136580467, 0.019006062299013138, 0.019006062299013138, 0.019006062299013138, 0.9312970638275146, 0.3235352039337158, 0.672078013420105, 0.0015629720874130726, 0.0015629720874130726, 0.989590585231781, 0.0030448941979557276, 0.0030448941979557276, 0.0030448941979557276, 0.01724434643983841, 0.01724434643983841, 0.9484390616416931, 0.01724434643983841, 0.0031481250189244747, 0.0031481250189244747, 0.9885112643241882, 0.0031481250189244747, 0.008252877742052078, 0.008252877742052078, 0.008252877742052078, 0.008252877742052078, 0.973839521408081, 0.03738296404480934, 0.5233615040779114, 0.03738296404480934, 0.03738296404480934, 0.07476592808961868, 0.29906371235847473, 0.06461749970912933, 0.06461749970912933, 0.06461749970912933, 0.06461749970912933, 0.775409996509552, 0.5687189698219299, 0.1532241851091385, 0.2203296720981598, 0.05648044869303703, 0.0005592124070972204, 0.06866210699081421, 0.06866210699081421, 0.06866210699081421, 0.06866210699081421, 0.7552831768989563, 0.055065274238586426, 0.055065274238586426, 0.055065274238586426, 0.055065274238586426, 0.8259791135787964, 0.005413745064288378, 0.005413745064288378, 0.530547022819519, 0.06496494263410568, 0.3897896409034729, 0.0020790474954992533, 0.0020790474954992533, 0.0020790474954992533, 0.0020790474954992533, 0.9917056560516357, 0.007397257257252932, 0.007397257257252932, 0.007397257257252932, 0.007397257257252932, 0.9764379262924194, 0.9895776510238647, 0.0028600511141121387, 0.0028600511141121387, 0.0028600511141121387, 0.06376850605010986, 0.1913055181503296, 0.06376850605010986, 0.06376850605010986, 0.6376850605010986, 0.3982246220111847, 0.0011509382165968418, 0.5984878540039062, 0.0011509382165968418, 0.0011509382165968418, 0.015583070926368237, 0.015583070926368237, 0.9505673050880432, 0.015583070926368237, 0.027280814945697784, 0.013640407472848892, 0.013640407472848892, 0.9411880970001221, 0.013640407472848892, 0.06494276225566864, 0.06494276225566864, 0.06494276225566864, 0.06494276225566864, 0.7143704295158386, 0.12039162218570709, 0.0015048952773213387, 0.8758490681648254, 0.0015048952773213387, 0.0015048952773213387, 0.013174386695027351, 0.013174386695027351, 0.9617302417755127, 0.013174386695027351, 0.16213268041610718, 0.3417932093143463, 0.1489867866039276, 0.3417932093143463, 0.004381964448839426, 0.015004674904048443, 0.015004674904048443, 0.015004674904048443, 0.015004674904048443, 0.9452944993972778, 0.06903385370969772, 0.06903385370969772, 0.06903385370969772, 0.06903385370969772, 0.759372353553772, 0.034250613301992416, 0.034250613301992416, 0.034250613301992416, 0.034250613301992416, 0.8905159831047058, 0.19899308681488037, 0.7947807312011719, 0.00357472593896091, 0.00119157531298697, 0.0033291762229055166, 0.9887653589248657, 0.0033291762229055166, 0.0033291762229055166, 0.0033291762229055166, 0.8995794653892517, 0.0010176238138228655, 0.0010176238138228655, 0.09667426347732544, 0.10371993482112885, 0.10371993482112885, 0.10371993482112885, 0.10371993482112885, 0.6223196387290955, 0.9906984567642212, 0.0027828607708215714, 0.0027828607708215714, 0.0027828607708215714, 0.9925207495689392, 0.002292195800691843, 0.002292195800691843, 0.002292195800691843, 0.01300607156008482, 0.01300607156008482, 0.01300607156008482, 0.01300607156008482, 0.9624492526054382, 0.11179850995540619, 0.11179850995540619, 0.11179850995540619, 0.11179850995540619, 0.5589925646781921, 0.05103979632258415, 0.05103979632258415, 0.05103979632258415, 0.05103979632258415, 0.8166367411613464, 0.06838966906070709, 0.06838966906070709, 0.06838966906070709, 0.06838966906070709, 0.7522863745689392, 0.11040125787258148, 0.11040125787258148, 0.11040125787258148, 0.11040125787258148, 0.6624075174331665, 0.4872950613498688, 0.5087336897850037, 0.00289711682125926, 0.0005794233875349164, 0.0005794233875349164, 0.014484833925962448, 0.028969667851924896, 0.014484833925962448, 0.9415141940116882, 0.08624696731567383, 0.08624696731567383, 0.08624696731567383, 0.08624696731567383, 0.6899757385253906, 0.007799522951245308, 0.7643532752990723, 0.007799522951245308, 0.007799522951245308, 0.023398568853735924, 0.1871885508298874, 0.015622448176145554, 0.015622448176145554, 0.015622448176145554, 0.015622448176145554, 0.9529693722724915, 0.23813295364379883, 0.005537975579500198, 0.005537975579500198, 0.005537975579500198, 0.7476267218589783, 0.6038160920143127, 0.001232277718372643, 0.39309659600257874, 0.001232277718372643, 0.006478569004684687, 0.006478569004684687, 0.006478569004684687, 0.006478569004684687, 0.9782639145851135, 0.012927991338074207, 0.012927991338074207, 0.9566712975502014, 0.012927991338074207, 0.018980154767632484, 0.018980154767632484, 0.018980154767632484, 0.9490076899528503, 0.2093183845281601, 0.7891064882278442, 0.0005946544697508216, 0.0005946544697508216, 0.9863556623458862, 0.0036130244843661785, 0.0036130244843661785, 0.0036130244843661785, 0.9896289706230164, 0.0028601994272321463, 0.0028601994272321463, 0.0028601994272321463, 0.006107624154537916, 0.9772198796272278, 0.006107624154537916, 0.006107624154537916, 0.01642325334250927, 0.01642325334250927, 0.9525486826896667, 0.01642325334250927, 0.08652191609144211, 0.043260958045721054, 0.3028267025947571, 0.043260958045721054, 0.5191314816474915, 0.9964020252227783, 0.0009382316493429244, 0.0009382316493429244, 0.0009382316493429244, 0.6885926127433777, 0.036241717636585236, 0.036241717636585236, 0.036241717636585236, 0.2174503058195114, 0.12497425079345703, 0.004463365767151117, 0.8525028824806213, 0.01339009776711464, 0.9925235509872437, 0.0023916231002658606, 0.0023916231002658606, 0.0023916231002658606, 0.8938295245170593, 0.010769030079245567, 0.010769030079245567, 0.010769030079245567, 0.0646141842007637, 0.569104015827179, 0.42800384759902954, 0.0009406677563674748, 0.0009406677563674748, 0.0009406677563674748, 0.014898874796926975, 0.014898874796926975, 0.014898874796926975, 0.014898874796926975, 0.9535279870033264, 0.009379690513014793, 0.018759381026029587, 0.9567283987998962, 0.009379690513014793, 0.009379690513014793, 0.005933856125921011, 0.985020101070404, 0.005933856125921011, 0.005933856125921011, 0.00366411404684186, 0.9893108010292053, 0.00366411404684186, 0.00366411404684186, 0.1709660440683365, 0.011397737078368664, 0.011397737078368664, 0.7978415489196777, 0.011397737078368664, 0.07610795646905899, 0.07610795646905899, 0.07610795646905899, 0.30443182587623596, 0.07610795646905899, 0.45664772391319275, 0.011090951971709728, 0.011090951971709728, 0.9649127721786499, 0.011090951971709728, 0.13417744636535645, 0.06708872318267822, 0.06708872318267822, 0.06708872318267822, 0.670887291431427, 0.00326529867015779, 0.00326529867015779, 0.9893854856491089, 0.00326529867015779, 0.00928402878344059, 0.00928402878344059, 0.974822998046875, 0.00928402878344059, 0.04919872060418129, 0.04919872060418129, 0.04919872060418129, 0.04919872060418129, 0.7871795296669006, 0.07166674733161926, 0.07166674733161926, 0.07166674733161926, 0.07166674733161926, 0.7166674733161926, 0.020634232088923454, 0.020634232088923454, 0.020634232088923454, 0.020634232088923454, 0.9079062342643738, 0.059529051184654236, 0.059529051184654236, 0.059529051184654236, 0.059529051184654236, 0.7738776803016663, 0.5194833278656006, 0.29491057991981506, 0.1533873975276947, 0.0016948884585872293, 0.028813103213906288, 0.054841548204422, 0.054841548204422, 0.054841548204422, 0.054841548204422, 0.054841548204422, 0.767781674861908, 0.04896145686507225, 0.04896145686507225, 0.04896145686507225, 0.04896145686507225, 0.8323447704315186, 0.04878415912389755, 0.04878415912389755, 0.04878415912389755, 0.04878415912389755, 0.8293307423591614, 0.20810475945472717, 0.05202618986368179, 0.05202618986368179, 0.31215715408325195, 0.36418333649635315, 0.08031909912824631, 0.08031909912824631, 0.08031909912824631, 0.08031909912824631, 0.6425527930259705, 0.8831119537353516, 0.11162535101175308, 0.001412979094311595, 0.001412979094311595, 0.03708704560995102, 0.9531370997428894, 0.0037087046075612307, 0.0037087046075612307, 0.05761771276593208, 0.05761771276593208, 0.05761771276593208, 0.05761771276593208, 0.8066479563713074, 0.14877530932426453, 0.1516924649477005, 0.6884504556655884, 0.008751488290727139, 0.05454063415527344, 0.05454063415527344, 0.05454063415527344, 0.05454063415527344, 0.8181095123291016, 0.00907197780907154, 0.027215933427214622, 0.00907197780907154, 0.9525576829910278, 0.00907197780907154, 0.008688642643392086, 0.008688642643392086, 0.008688642643392086, 0.008688642643392086, 0.9731279611587524, 0.9921101331710815, 0.002133570145815611, 0.002133570145815611, 0.002133570145815611, 0.1908174604177475, 0.0007015347946435213, 0.8074665665626526, 0.0007015347946435213, 0.0007015347946435213, 0.3602706491947174, 0.000978996278718114, 0.5893557667732239, 0.000978996278718114, 0.046991825103759766, 0.05349551513791084, 0.05349551513791084, 0.05349551513791084, 0.05349551513791084, 0.8024327754974365, 0.05309927836060524, 0.05309927836060524, 0.05309927836060524, 0.05309927836060524, 0.05309927836060524, 0.7964891791343689, 0.6495584845542908, 0.16373613476753235, 0.1675063818693161, 0.010502811521291733, 0.008348388597369194, 0.07989475131034851, 0.07989475131034851, 0.07989475131034851, 0.07989475131034851, 0.7190527319908142, 0.004628912080079317, 0.9882726669311523, 0.0023144560400396585, 0.0023144560400396585, 0.17270830273628235, 0.00996394082903862, 0.3520592451095581, 0.4616625905036926, 0.04141188785433769, 0.04141188785433769, 0.5797664523124695, 0.04141188785433769, 0.28988322615623474, 0.004369821399450302, 0.004369821399450302, 0.436982125043869, 0.1966419517993927, 0.358325332403183, 0.9920039772987366, 0.002110646804794669, 0.002110646804794669, 0.002110646804794669, 0.9890477657318115, 0.004778008442372084, 0.002389004221186042, 0.002389004221186042, 0.002389004221186042, 0.002622312633320689, 0.9912341833114624, 0.002622312633320689, 0.002622312633320689, 0.0071061886847019196, 0.0071061886847019196, 0.0071061886847019196, 0.9735478162765503, 0.0028684937860816717, 0.9896303415298462, 0.0028684937860816717, 0.0028684937860816717, 0.023022234439849854, 0.023022234439849854, 0.023022234439849854, 0.9208893775939941, 0.08455746620893478, 0.08455746620893478, 0.08455746620893478, 0.08455746620893478, 0.6764597296714783, 0.003380168927833438, 0.003380168927833438, 0.003380168927833438, 0.003380168927833438, 0.9903895258903503, 0.002400109311565757, 0.9288422465324402, 0.002400109311565757, 0.002400109311565757, 0.062402840703725815, 0.011903148144483566, 0.011903148144483566, 0.011903148144483566, 0.011903148144483566, 0.9641549587249756, 0.015857577323913574, 0.015857577323913574, 0.015857577323913574, 0.9514546394348145, 0.05354826897382736, 0.05354826897382736, 0.05354826897382736, 0.05354826897382736, 0.8032240271568298, 0.011506385169923306, 0.011506385169923306, 0.9665364027023315, 0.011506385169923306, 0.0051643131300807, 0.9261334538459778, 0.06541462987661362, 0.0017214376712217927, 0.0017214376712217927, 0.0025890013203024864, 0.0025890013203024864, 0.0025890013203024864, 0.0025890013203024864, 0.9915874600410461, 0.03915015980601311, 0.03915015980601311, 0.03915015980601311, 0.03915015980601311, 0.8613035678863525, 0.02074144408106804, 0.02074144408106804, 0.02074144408106804, 0.933364987373352, 0.9895426630973816, 0.002819209825247526, 0.002819209825247526, 0.002819209825247526, 0.002819209825247526, 0.9430930018424988, 0.05361746996641159, 0.0009574548457749188, 0.0009574548457749188, 0.10239078849554062, 0.10239078849554062, 0.10239078849554062, 0.10239078849554062, 0.6143447160720825, 0.10328776389360428, 0.10328776389360428, 0.10328776389360428, 0.10328776389360428, 0.6197265386581421, 0.3651962876319885, 0.09401092678308487, 0.45739930868148804, 0.0018079024739563465, 0.0795477032661438, 0.00590590201318264, 0.9803797602653503, 0.00590590201318264, 0.00590590201318264, 0.00590590201318264, 0.003757178084924817, 0.003757178084924817, 0.9881378412246704, 0.003757178084924817, 0.9922745227813721, 0.002512087346985936, 0.002512087346985936, 0.002512087346985936, 0.06600543111562729, 0.06600543111562729, 0.06600543111562729, 0.06600543111562729, 0.7260597348213196, 0.0016069806879386306, 0.0016069806879386306, 0.9931140542030334, 0.0016069806879386306, 0.0025251400656998158, 0.0025251400656998158, 0.9923800230026245, 0.0025251400656998158, 0.5558609962463379, 0.32038602232933044, 0.11292294412851334, 0.010504459962248802, 0.0008753716247156262, 0.01196553185582161, 0.9811736345291138, 0.0023931064642965794, 0.0023931064642965794, 0.006934619043022394, 0.006934619043022394, 0.9777812957763672, 0.006934619043022394, 0.006934619043022394, 0.9871776700019836, 0.0033577473368495703, 0.0033577473368495703, 0.0033577473368495703, 0.017911173403263092, 0.017911173403263092, 0.017911173403263092, 0.9313810467720032, 0.08789550513029099, 0.08789550513029099, 0.08789550513029099, 0.08789550513029099, 0.7031640410423279, 0.08387967944145203, 0.08387967944145203, 0.08387967944145203, 0.08387967944145203, 0.6710374355316162, 0.016804564744234085, 0.016804564744234085, 0.016804564744234085, 0.016804564744234085, 0.9410555958747864, 0.06909574568271637, 0.06909574568271637, 0.06909574568271637, 0.06909574568271637, 0.7600532174110413, 0.10081645101308823, 0.10081645101308823, 0.10081645101308823, 0.10081645101308823, 0.6048986911773682, 0.016156917437911034, 0.016156917437911034, 0.016156917437911034, 0.9532580971717834, 0.050268832594156265, 0.050268832594156265, 0.050268832594156265, 0.050268832594156265, 0.8043013215065002, 0.9803884029388428, 0.00200488418340683, 0.012029305100440979, 0.00200488418340683, 0.00200488418340683, 0.067865751683712, 0.067865751683712, 0.067865751683712, 0.067865751683712, 0.7465232610702515, 0.018915453925728798, 0.018915453925728798, 0.018915453925728798, 0.9457727074623108, 0.0017232031095772982, 0.0017232031095772982, 0.9942882061004639, 0.0017232031095772982, 0.013188323937356472, 0.013188323937356472, 0.013188323937356472, 0.013188323937356472, 0.9495593309402466, 0.07065096497535706, 0.07065096497535706, 0.07065096497535706, 0.07065096497535706, 0.77716064453125, 0.06453004479408264, 0.06453004479408264, 0.06453004479408264, 0.06453004479408264, 0.7098305225372314, 0.00301186041906476, 0.00301186041906476, 0.9909021258354187, 0.00301186041906476, 0.02462446689605713, 0.02462446689605713, 0.02462446689605713, 0.02462446689605713, 0.9111052751541138, 0.006202984601259232, 0.9800715446472168, 0.006202984601259232, 0.006202984601259232, 0.020408419892191887, 0.020408419892191887, 0.020408419892191887, 0.020408419892191887, 0.9387872815132141, 0.002923495601862669, 0.9910649657249451, 0.002923495601862669, 0.002923495601862669, 0.16179345548152924, 0.8056653738021851, 0.0016509536653757095, 0.0016509536653757095, 0.02971716597676277, 0.9919565320014954, 0.002334015443921089, 0.002334015443921089, 0.002334015443921089, 0.05706026777625084, 0.05706026777625084, 0.05706026777625084, 0.05706026777625084, 0.7988437414169312, 0.9128689169883728, 0.08401403576135635, 0.0012539408635348082, 0.0012539408635348082, 0.0012539408635348082, 0.9716715812683105, 0.002013131743296981, 0.024828623980283737, 0.0006710439338348806, 0.0006710439338348806, 0.5461275577545166, 0.0253276564180851, 0.4242382347583771, 0.0015829785261303186, 0.0015829785261303186, 0.013857909478247166, 0.013857909478247166, 0.013857909478247166, 0.013857909478247166, 0.9561957120895386, 0.002269827527925372, 0.05220603197813034, 0.608313798904419, 0.2383318990468979, 0.09079310297966003, 0.009079310111701488, 0.4338334798812866, 0.002332438016310334, 0.5597851276397705, 0.002332438016310334, 0.002332438016310334, 0.0064423237927258015, 0.9792332053184509, 0.0064423237927258015, 0.0064423237927258015, 0.9936627745628357, 0.002032030373811722, 0.002032030373811722, 0.002032030373811722, 0.019877519458532333, 0.019877519458532333, 0.019877519458532333, 0.934243381023407, 0.49341198801994324, 0.03289413079619408, 0.03289413079619408, 0.03289413079619408, 0.3947295844554901, 0.09192032366991043, 0.09192032366991043, 0.09192032366991043, 0.09192032366991043, 0.6434422135353088, 0.0008215256384573877, 0.9973321557044983, 0.0008215256384573877, 0.0008215256384573877, 0.5258269906044006, 0.026315273717045784, 0.31626173853874207, 0.1310979127883911, 0.07406744360923767, 0.07406744360923767, 0.07406744360923767, 0.07406744360923767, 0.7406744360923767, 0.8125481009483337, 0.07966157793998718, 0.10488774627447128, 0.0013276929967105389, 0.3204525113105774, 0.37478354573249817, 0.2434835284948349, 0.060870882123708725, 0.0005030651809647679, 0.0019204814452677965, 0.8430913686752319, 0.0019204814452677965, 0.15171803534030914, 0.003251616610214114, 0.988491415977478, 0.003251616610214114, 0.003251616610214114, 0.01240117009729147, 0.17361637949943542, 0.006200585048645735, 0.8060760498046875], \"Term\": [\"abkhazia\", \"abkhazia\", \"abkhazia\", \"abkhazia\", \"abkhazia\", \"aboriginal\", \"aboriginal\", \"aboriginal\", \"aboriginal\", \"aboriginal\", \"afghan\", \"afghan\", \"afghan\", \"afghan\", \"africa\", \"africa\", \"africa\", \"africa\", \"aggression\", \"aggression\", \"aggression\", \"aggression\", \"aggression\", \"aggression\", \"ahmadinejad\", \"ahmadinejad\", \"ahmadinejad\", \"ahmadinejad\", \"ahmadinejad\", \"air\", \"air\", \"air\", \"air\", \"air\", \"airline\", \"airline\", \"airline\", \"airline\", \"airline\", \"airport\", \"airport\", \"airport\", \"airport\", \"airport\", \"airstrike\", \"airstrike\", \"airstrike\", \"airstrike\", \"ali\", \"ali\", \"ali\", \"ali\", \"ali\", \"always\", \"always\", \"always\", \"always\", \"always\", \"american\", \"american\", \"american\", \"american\", \"american\", \"anc\", \"anc\", \"anc\", \"anc\", \"anc\", \"ancient\", \"ancient\", \"ancient\", \"ancient\", \"animal\", \"animal\", \"animal\", \"animal\", \"anti\", \"anti\", \"anti\", \"anti\", \"anti\", \"anti_semitism\", \"anti_semitism\", \"anti_semitism\", \"anti_semitism\", \"anti_semitism\", \"arab\", \"arab\", \"arab\", \"arab\", \"arctic\", \"arctic\", \"arctic\", \"arctic\", \"armenian\", \"armenian\", \"armenian\", \"armenian\", \"armenian\", \"arrest\", \"arrest\", \"arrest\", \"arrest\", \"arrest\", \"arrest_warrant\", \"arrest_warrant\", \"arrest_warrant\", \"arrest_warrant\", \"arrest_warrant\", \"assad\", \"assad\", \"assad\", \"assad\", \"attack\", \"attack\", \"attack\", \"attack\", \"attack\", \"bail\", \"bail\", \"bail\", \"bail\", \"bail\", \"bailout\", \"bailout\", \"bailout\", \"bailout\", \"ban\", \"ban\", \"ban\", \"ban\", \"bank\", \"bank\", \"bank\", \"bank\", \"bankrupt\", \"bankrupt\", \"bankrupt\", \"bankrupt\", \"bankrupt\", \"bankruptcy\", \"bankruptcy\", \"bankruptcy\", \"bankruptcy\", \"bankruptcy\", \"barclay\", \"barclay\", \"barclay\", \"barclay\", \"barclay\", \"beach\", \"beach\", \"beach\", \"beach\", \"beat\", \"beat\", \"beat\", \"beat\", \"big\", \"big\", \"big\", \"big\", \"big_picture\", \"big_picture\", \"big_picture\", \"big_picture\", \"big_picture\", \"big_picture\", \"bill\", \"bill\", \"bill\", \"bill\", \"bin\", \"bin\", \"bin\", \"bin\", \"bin\", \"bin_laden\", \"bin_laden\", \"bin_laden\", \"bin_laden\", \"bin_laden\", \"block\", \"block\", \"block\", \"block\", \"board\", \"board\", \"board\", \"board\", \"board\", \"boat\", \"boat\", \"boat\", \"boat\", \"boat\", \"bomber\", \"bomber\", \"bomber\", \"bomber\", \"bomber\", \"bonus\", \"bonus\", \"bonus\", \"bonus\", \"bonus\", \"border\", \"border\", \"border\", \"border\", \"border\", \"bottle\", \"bottle\", \"bottle\", \"bottle\", \"bottle\", \"boy\", \"boy\", \"boy\", \"boy\", \"branch\", \"branch\", \"branch\", \"branch\", \"branch\", \"britain\", \"britain\", \"britain\", \"britain\", \"british\", \"british\", \"british\", \"british\", \"british\", \"build\", \"build\", \"build\", \"build\", \"build\", \"bulgaria\", \"bulgaria\", \"bulgaria\", \"bulgaria\", \"bulgaria\", \"burma\", \"burma\", \"burma\", \"burma\", \"burma\", \"call\", \"call\", \"call\", \"call\", \"canada\", \"canada\", \"canada\", \"canada\", \"canada\", \"cave\", \"cave\", \"cave\", \"cave\", \"chechen\", \"chechen\", \"chechen\", \"chechen\", \"chechen\", \"child\", \"child\", \"child\", \"child\", \"china\", \"china\", \"china\", \"china\", \"china\", \"chinese\", \"chinese\", \"chinese\", \"chinese\", \"chinese\", \"chocolate\", \"chocolate\", \"chocolate\", \"chocolate\", \"chocolate\", \"christian\", \"christian\", \"christian\", \"christian\", \"church\", \"church\", \"church\", \"church\", \"citizen\", \"citizen\", \"citizen\", \"citizen\", \"cnn\", \"cnn\", \"cnn\", \"cnn\", \"cnn\", \"cnn\", \"coke\", \"coke\", \"coke\", \"coke\", \"coke\", \"com\", \"com\", \"com\", \"com\", \"com\", \"comic\", \"comic\", \"comic\", \"comic\", \"comic\", \"conspiracy\", \"conspiracy\", \"conspiracy\", \"conspiracy\", \"conspiracy\", \"could\", \"could\", \"could\", \"could\", \"country\", \"country\", \"country\", \"country\", \"crash\", \"crash\", \"crash\", \"crash\", \"crash\", \"crew\", \"crew\", \"crew\", \"crew\", \"crew\", \"crisis\", \"crisis\", \"crisis\", \"crisis\", \"crop\", \"crop\", \"crop\", \"crop\", \"currency\", \"currency\", \"currency\", \"currency\", \"dalai_lama\", \"dalai_lama\", \"dalai_lama\", \"dalai_lama\", \"dalai_lama\", \"dalai_lama\", \"daughter\", \"daughter\", \"daughter\", \"daughter\", \"day\", \"day\", \"day\", \"day\", \"day\", \"dead\", \"dead\", \"dead\", \"dead\", \"dead\", \"death\", \"death\", \"death\", \"death\", \"debt\", \"debt\", \"debt\", \"debt\", \"deserve\", \"deserve\", \"deserve\", \"deserve\", \"deserve\", \"destroy\", \"destroy\", \"destroy\", \"destroy\", \"destroy\", \"diamond\", \"diamond\", \"diamond\", \"diamond\", \"dictatorship\", \"dictatorship\", \"dictatorship\", \"dictatorship\", \"dictatorship\", \"die\", \"die\", \"die\", \"die\", \"die\", \"diplomacy\", \"diplomacy\", \"diplomacy\", \"diplomacy\", \"diplomacy\", \"diplomacy\", \"disaster\", \"disaster\", \"disaster\", \"disaster\", \"disaster\", \"discover\", \"discover\", \"discover\", \"discover\", \"doctor\", \"doctor\", \"doctor\", \"doctor\", \"drink\", \"drink\", \"drink\", \"drink\", \"drink\", \"drinking_water\", \"drinking_water\", \"drinking_water\", \"drinking_water\", \"drinking_water\", \"earth\", \"earth\", \"earth\", \"earth\", \"earth\", \"earthquake\", \"earthquake\", \"earthquake\", \"earthquake\", \"earthquake\", \"east_jerusalem\", \"east_jerusalem\", \"east_jerusalem\", \"east_jerusalem\", \"eat\", \"eat\", \"eat\", \"eat\", \"economic\", \"economic\", \"economic\", \"economic\", \"economy\", \"economy\", \"economy\", \"economy\", \"ecstasy\", \"ecstasy\", \"ecstasy\", \"ecstasy\", \"ecstasy\", \"election\", \"election\", \"election\", \"election\", \"electricity\", \"electricity\", \"electricity\", \"electricity\", \"elephant\", \"elephant\", \"elephant\", \"elephant\", \"else\", \"else\", \"else\", \"else\", \"else\", \"empire\", \"empire\", \"empire\", \"empire\", \"empire\", \"employ\", \"employ\", \"employ\", \"employ\", \"employ\", \"energy\", \"energy\", \"energy\", \"energy\", \"europe\", \"europe\", \"europe\", \"europe\", \"extradition\", \"extradition\", \"extradition\", \"extradition\", \"extradition\", \"farm\", \"farm\", \"farm\", \"farm\", \"farmer\", \"farmer\", \"farmer\", \"farmer\", \"fascist\", \"fascist\", \"fascist\", \"fascist\", \"fascist\", \"federal_reserve\", \"federal_reserve\", \"federal_reserve\", \"federal_reserve\", \"federal_reserve\", \"female\", \"female\", \"female\", \"female\", \"find\", \"find\", \"find\", \"find\", \"find\", \"finnish\", \"finnish\", \"finnish\", \"finnish\", \"finnish\", \"fire\", \"fire\", \"fire\", \"fire\", \"fire\", \"fish\", \"fish\", \"fish\", \"fish\", \"fish\", \"flight\", \"flight\", \"flight\", \"flight\", \"flight\", \"fly\", \"fly\", \"fly\", \"fly\", \"fly\", \"food\", \"food\", \"food\", \"food\", \"force\", \"force\", \"force\", \"force\", \"force\", \"foreign\", \"foreign\", \"foreign\", \"foreign\", \"foreign\", \"forest\", \"forest\", \"forest\", \"forest\", \"forgive\", \"forgive\", \"forgive\", \"forgive\", \"forgive\", \"forgive\", \"freedom\", \"freedom\", \"freedom\", \"freedom\", \"fuck\", \"fuck\", \"fuck\", \"fuck\", \"fuck\", \"fukushima\", \"fukushima\", \"fukushima\", \"fukushima\", \"gas\", \"gas\", \"gas\", \"gas\", \"gaza\", \"gaza\", \"gaza\", \"gaza\", \"gaza\", \"gaza_flotilla\", \"gaza_flotilla\", \"gaza_flotilla\", \"gaza_flotilla\", \"gaza_flotilla\", \"genocide\", \"genocide\", \"genocide\", \"genocide\", \"genocide\", \"georgia\", \"georgia\", \"georgia\", \"georgia\", \"georgia\", \"ghost\", \"ghost\", \"ghost\", \"ghost\", \"ghost\", \"ghost\", \"girl\", \"girl\", \"girl\", \"girl\", \"glass\", \"glass\", \"glass\", \"glass\", \"glass\", \"gold\", \"gold\", \"gold\", \"gold\", \"goldman_sach\", \"goldman_sach\", \"goldman_sach\", \"goldman_sach\", \"goldman_sach\", \"governance\", \"governance\", \"governance\", \"governance\", \"governance\", \"government\", \"government\", \"government\", \"government\", \"greece\", \"greece\", \"greece\", \"greece\", \"guess\", \"guess\", \"guess\", \"guess\", \"guess\", \"hama\", \"hama\", \"hama\", \"hama\", \"hama\", \"han\", \"han\", \"han\", \"han\", \"han\", \"hearing\", \"hearing\", \"hearing\", \"hearing\", \"hearing\", \"helicopter\", \"helicopter\", \"helicopter\", \"helicopter\", \"helicopter\", \"heroin\", \"heroin\", \"heroin\", \"heroin\", \"heroin\", \"hijack\", \"hijack\", \"hijack\", \"hijack\", \"hijack\", \"holocaust\", \"holocaust\", \"holocaust\", \"holocaust\", \"holocaust\", \"home\", \"home\", \"home\", \"home\", \"home\", \"hospital\", \"hospital\", \"hospital\", \"hospital\", \"human\", \"human\", \"human\", \"human\", \"human_right\", \"human_right\", \"human_right\", \"human_right\", \"hunt\", \"hunt\", \"hunt\", \"hunt\", \"hunt\", \"id_cards\", \"id_cards\", \"id_cards\", \"id_cards\", \"id_cards\", \"indigenous\", \"indigenous\", \"indigenous\", \"indigenous\", \"informant\", \"informant\", \"informant\", \"informant\", \"informant\", \"interest_rate\", \"interest_rate\", \"interest_rate\", \"interest_rate\", \"interest_rate\", \"interesting\", \"interesting\", \"interesting\", \"interesting\", \"interesting\", \"international\", \"international\", \"international\", \"international\", \"international\", \"internet\", \"internet\", \"internet\", \"internet\", \"interview\", \"interview\", \"interview\", \"interview\", \"interview\", \"interview\", \"ip_address\", \"ip_address\", \"ip_address\", \"ip_address\", \"ip_address\", \"iran\", \"iran\", \"iran\", \"iran\", \"iran\", \"island\", \"island\", \"island\", \"island\", \"island\", \"israel\", \"israel\", \"israel\", \"israel\", \"israel\", \"israeli\", \"israeli\", \"israeli\", \"israeli\", \"israeli\", \"ivory_coast\", \"ivory_coast\", \"ivory_coast\", \"ivory_coast\", \"ivory_coast\", \"jail\", \"jail\", \"jail\", \"jail\", \"japan\", \"japan\", \"japan\", \"japan\", \"japan\", \"japanese\", \"japanese\", \"japanese\", \"japanese\", \"japanese\", \"junk\", \"junk\", \"junk\", \"junk\", \"junk\", \"junk\", \"kgb\", \"kgb\", \"kgb\", \"kgb\", \"kgb\", \"khamenei\", \"khamenei\", \"khamenei\", \"khamenei\", \"khamenei\", \"kill\", \"kill\", \"kill\", \"kill\", \"kim_jong\", \"kim_jong\", \"kim_jong\", \"kim_jong\", \"kim_jong\", \"king\", \"king\", \"king\", \"king\", \"king\", \"korea\", \"korea\", \"korea\", \"korea\", \"korea\", \"korean\", \"korean\", \"korean\", \"korean\", \"korean\", \"laden\", \"laden\", \"laden\", \"laden\", \"laden\", \"lady\", \"lady\", \"lady\", \"lady\", \"lady\", \"land\", \"land\", \"land\", \"land\", \"land\", \"large\", \"large\", \"large\", \"large\", \"latin_american\", \"latin_american\", \"latin_american\", \"latin_american\", \"latin_american\", \"law\", \"law\", \"law\", \"law\", \"leader\", \"leader\", \"leader\", \"leader\", \"leader\", \"legalise\", \"legalise\", \"legalise\", \"legalise\", \"legalise\", \"legitimate\", \"legitimate\", \"legitimate\", \"legitimate\", \"legitimate\", \"live\", \"live\", \"live\", \"live\", \"live\", \"livni\", \"livni\", \"livni\", \"livni\", \"livni\", \"madagascar\", \"madagascar\", \"madagascar\", \"madagascar\", \"madagascar\", \"mafia\", \"mafia\", \"mafia\", \"mafia\", \"magnitude_earthquake\", \"magnitude_earthquake\", \"magnitude_earthquake\", \"magnitude_earthquake\", \"magnitude_earthquake\", \"magnitude_earthquake\", \"mainstream\", \"mainstream\", \"mainstream\", \"mainstream\", \"mainstream\", \"maintain\", \"maintain\", \"maintain\", \"maintain\", \"maintain\", \"make\", \"make\", \"make\", \"make\", \"make\", \"man\", \"man\", \"man\", \"man\", \"mandatory\", \"mandatory\", \"mandatory\", \"mandatory\", \"mandatory\", \"maoist\", \"maoist\", \"maoist\", \"maoist\", \"maoist\", \"map\", \"map\", \"map\", \"map\", \"map\", \"may\", \"may\", \"may\", \"may\", \"may\", \"mccain\", \"mccain\", \"mccain\", \"mccain\", \"mccain\", \"meat\", \"meat\", \"meat\", \"meat\", \"medal\", \"medal\", \"medal\", \"medal\", \"medal\", \"mega\", \"mega\", \"mega\", \"mega\", \"mega\", \"meltdown\", \"meltdown\", \"meltdown\", \"meltdown\", \"memorial\", \"memorial\", \"memorial\", \"memorial\", \"memorial\", \"mercenary\", \"mercenary\", \"mercenary\", \"mercenary\", \"mercenary\", \"metal\", \"metal\", \"metal\", \"metal\", \"mexico\", \"mexico\", \"mexico\", \"mexico\", \"mexico\", \"military\", \"military\", \"military\", \"military\", \"military\", \"mine\", \"mine\", \"mine\", \"mine\", \"mine\", \"mining\", \"mining\", \"mining\", \"mining\", \"minister\", \"minister\", \"minister\", \"minister\", \"minister\", \"missile\", \"missile\", \"missile\", \"missile\", \"missile\", \"moon\", \"moon\", \"moon\", \"moon\", \"morgan\", \"morgan\", \"morgan\", \"morgan\", \"morgan\", \"mossad_chief\", \"mossad_chief\", \"mossad_chief\", \"mossad_chief\", \"mossad_chief\", \"mother\", \"mother\", \"mother\", \"mother\", \"mousavi\", \"mousavi\", \"mousavi\", \"mousavi\", \"mousavi\", \"murder\", \"murder\", \"murder\", \"murder\", \"museum\", \"museum\", \"museum\", \"museum\", \"muslim\", \"muslim\", \"muslim\", \"muslim\", \"must\", \"must\", \"must\", \"must\", \"nasa\", \"nasa\", \"nasa\", \"nasa\", \"nato\", \"nato\", \"nato\", \"nato\", \"navy\", \"navy\", \"navy\", \"navy\", \"navy\", \"nepal\", \"nepal\", \"nepal\", \"nepal\", \"nepal\", \"nepal\", \"net_neutrality\", \"net_neutrality\", \"net_neutrality\", \"net_neutrality\", \"net_neutrality\", \"new\", \"new\", \"new\", \"new\", \"new\", \"nobel\", \"nobel\", \"nobel\", \"nobel\", \"nobel\", \"nobel_prize\", \"nobel_prize\", \"nobel_prize\", \"nobel_prize\", \"nobel_prize\", \"north\", \"north\", \"north\", \"north\", \"north\", \"north_korea\", \"north_korea\", \"north_korea\", \"north_korea\", \"north_korea\", \"north_korean\", \"north_korean\", \"north_korean\", \"north_korean\", \"north_korean\", \"not\", \"not\", \"not\", \"not\", \"nsfw\", \"nsfw\", \"nsfw\", \"nsfw\", \"nsfw\", \"nuclear\", \"nuclear\", \"nuclear\", \"nuclear\", \"nuclear\", \"nuclear_plant\", \"nuclear_plant\", \"nuclear_plant\", \"nuclear_plant\", \"nuke\", \"nuke\", \"nuke\", \"nuke\", \"nuke\", \"observer\", \"observer\", \"observer\", \"observer\", \"observer\", \"oil\", \"oil\", \"oil\", \"oil\", \"oil\", \"oil_spill\", \"oil_spill\", \"oil_spill\", \"oil_spill\", \"old\", \"old\", \"old\", \"old\", \"old\", \"olympic\", \"olympic\", \"olympic\", \"olympic\", \"olympic\", \"onion\", \"onion\", \"onion\", \"onion\", \"onion\", \"osama_bin\", \"osama_bin\", \"osama_bin\", \"osama_bin\", \"osama_bin\", \"pakistan\", \"pakistan\", \"pakistan\", \"pakistan\", \"pakistani\", \"pakistani\", \"pakistani\", \"pakistani\", \"pakistani\", \"palestinian\", \"palestinian\", \"palestinian\", \"palestinian\", \"palestinian_territorie\", \"palestinian_territorie\", \"palestinian_territorie\", \"palestinian_territorie\", \"palestinian_territorie\", \"parliament\", \"parliament\", \"parliament\", \"parliament\", \"party\", \"party\", \"party\", \"party\", \"passenger\", \"passenger\", \"passenger\", \"passenger\", \"passenger\", \"pastor\", \"pastor\", \"pastor\", \"pastor\", \"pastor\", \"patent\", \"patent\", \"patent\", \"patent\", \"patent\", \"paul\", \"paul\", \"paul\", \"paul\", \"paul\", \"paypal\", \"paypal\", \"paypal\", \"paypal\", \"paypal\", \"people\", \"people\", \"people\", \"people\", \"people\", \"peru\", \"peru\", \"peru\", \"peru\", \"peter\", \"peter\", \"peter\", \"peter\", \"peter\", \"pic\", \"pic\", \"pic\", \"pic\", \"pic\", \"pic\", \"pilot\", \"pilot\", \"pilot\", \"pilot\", \"pilot\", \"pirate\", \"pirate\", \"pirate\", \"pirate\", \"pirate\", \"plan\", \"plan\", \"plan\", \"plan\", \"plane\", \"plane\", \"plane\", \"plane\", \"plane\", \"planet\", \"planet\", \"planet\", \"planet\", \"poacher\", \"poacher\", \"poacher\", \"poacher\", \"police\", \"police\", \"police\", \"police\", \"policy\", \"policy\", \"policy\", \"policy\", \"political\", \"political\", \"political\", \"political\", \"pope\", \"pope\", \"pope\", \"pope\", \"power_plant\", \"power_plant\", \"power_plant\", \"power_plant\", \"premier\", \"premier\", \"premier\", \"premier\", \"premier\", \"president\", \"president\", \"president\", \"president\", \"president_mahmoud\", \"president_mahmoud\", \"president_mahmoud\", \"president_mahmoud\", \"president_mahmoud\", \"price\", \"price\", \"price\", \"price\", \"prime_minister\", \"prime_minister\", \"prime_minister\", \"prime_minister\", \"prize\", \"prize\", \"prize\", \"prize\", \"prize\", \"protest\", \"protest\", \"protest\", \"protest\", \"protest\", \"quake\", \"quake\", \"quake\", \"quake\", \"quake\", \"radiation\", \"radiation\", \"radiation\", \"radiation\", \"radiation\", \"rap\", \"rap\", \"rap\", \"rap\", \"rape\", \"rape\", \"rape\", \"rape\", \"rare\", \"rare\", \"rare\", \"rare\", \"rare\", \"rd\", \"rd\", \"rd\", \"rd\", \"rd\", \"rd\", \"reactor\", \"reactor\", \"reactor\", \"reactor\", \"reader\", \"reader\", \"reader\", \"reader\", \"reader\", \"rebel\", \"rebel\", \"rebel\", \"rebel\", \"recession\", \"recession\", \"recession\", \"recession\", \"recognise\", \"recognise\", \"recognise\", \"recognise\", \"recognise\", \"regulation\", \"regulation\", \"regulation\", \"regulation\", \"regulation\", \"remember\", \"remember\", \"remember\", \"remember\", \"remember\", \"reopen\", \"reopen\", \"reopen\", \"reopen\", \"reopen\", \"report\", \"report\", \"report\", \"report\", \"report\", \"reputation\", \"reputation\", \"reputation\", \"reputation\", \"reputation\", \"reputation\", \"resignation\", \"resignation\", \"resignation\", \"resignation\", \"resignation\", \"restore\", \"restore\", \"restore\", \"restore\", \"restore\", \"richard\", \"richard\", \"richard\", \"richard\", \"richard\", \"rid\", \"rid\", \"rid\", \"rid\", \"rid\", \"right\", \"right\", \"right\", \"right\", \"riot\", \"riot\", \"riot\", \"riot\", \"rioter\", \"rioter\", \"rioter\", \"rioter\", \"rioter\", \"rise\", \"rise\", \"rise\", \"rise\", \"robert\", \"robert\", \"robert\", \"robert\", \"robert\", \"rock\", \"rock\", \"rock\", \"rock\", \"rock\", \"rocket\", \"rocket\", \"rocket\", \"rocket\", \"rocket\", \"rule\", \"rule\", \"rule\", \"rule\", \"russia\", \"russia\", \"russia\", \"russia\", \"russia\", \"russian\", \"russian\", \"russian\", \"russian\", \"russian\", \"rwanda\", \"rwanda\", \"rwanda\", \"rwanda\", \"rwanda\", \"sabotage\", \"sabotage\", \"sabotage\", \"sabotage\", \"sabotage\", \"sabotage\", \"say\", \"say\", \"say\", \"say\", \"say\", \"scare\", \"scare\", \"scare\", \"scare\", \"scare\", \"school\", \"school\", \"school\", \"school\", \"scientist\", \"scientist\", \"scientist\", \"scientist\", \"screw\", \"screw\", \"screw\", \"screw\", \"screw\", \"sea\", \"sea\", \"sea\", \"sea\", \"sea\", \"secret\", \"secret\", \"secret\", \"secret\", \"security\", \"security\", \"security\", \"security\", \"security\", \"sentence\", \"sentence\", \"sentence\", \"sentence\", \"settler\", \"settler\", \"settler\", \"settler\", \"sex\", \"sex\", \"sex\", \"sex\", \"shark\", \"shark\", \"shark\", \"shark\", \"sharp\", \"sharp\", \"sharp\", \"sharp\", \"sharp\", \"ship\", \"ship\", \"ship\", \"ship\", \"ship\", \"shoot\", \"shoot\", \"shoot\", \"shoot\", \"shoot\", \"sink\", \"sink\", \"sink\", \"sink\", \"sink\", \"slaughter\", \"slaughter\", \"slaughter\", \"slaughter\", \"slavery\", \"slavery\", \"slavery\", \"slavery\", \"slavery\", \"solar\", \"solar\", \"solar\", \"solar\", \"soldier\", \"soldier\", \"soldier\", \"soldier\", \"soldier\", \"south\", \"south\", \"south\", \"south\", \"south\", \"south_ossetia\", \"south_ossetia\", \"south_ossetia\", \"south_ossetia\", \"south_ossetia\", \"specie\", \"specie\", \"specie\", \"specie\", \"spy\", \"spy\", \"spy\", \"spy\", \"spy\", \"state\", \"state\", \"state\", \"state\", \"stay_classy\", \"stay_classy\", \"stay_classy\", \"stay_classy\", \"stay_classy\", \"stephen_hawk\", \"stephen_hawk\", \"stephen_hawk\", \"stephen_hawk\", \"stephen_hawk\", \"strike\", \"strike\", \"strike\", \"strike\", \"strike\", \"suicide\", \"suicide\", \"suicide\", \"suicide\", \"suicide\", \"supply\", \"supply\", \"supply\", \"supply\", \"support\", \"support\", \"support\", \"support\", \"supreme_leader\", \"supreme_leader\", \"supreme_leader\", \"supreme_leader\", \"supreme_leader\", \"syria\", \"syria\", \"syria\", \"syria\", \"syrian\", \"syrian\", \"syrian\", \"syrian\", \"take\", \"take\", \"take\", \"take\", \"take\", \"taliban\", \"taliban\", \"taliban\", \"taliban\", \"tank\", \"tank\", \"tank\", \"tank\", \"tank\", \"tax\", \"tax\", \"tax\", \"tax\", \"temple\", \"temple\", \"temple\", \"temple\", \"textbook\", \"textbook\", \"textbook\", \"textbook\", \"textbook\", \"th_anniversary\", \"th_anniversary\", \"th_anniversary\", \"th_anniversary\", \"th_anniversary\", \"thai\", \"thai\", \"thai\", \"thai\", \"thai\", \"theory\", \"theory\", \"theory\", \"theory\", \"theory\", \"throat\", \"throat\", \"throat\", \"throat\", \"throat\", \"tiger\", \"tiger\", \"tiger\", \"tiger\", \"tomorrow\", \"tomorrow\", \"tomorrow\", \"tomorrow\", \"tomorrow\", \"top\", \"top\", \"top\", \"top\", \"top\", \"translation\", \"translation\", \"translation\", \"translation\", \"translation\", \"tree\", \"tree\", \"tree\", \"tree\", \"troop\", \"troop\", \"troop\", \"troop\", \"tsunami\", \"tsunami\", \"tsunami\", \"tsunami\", \"tsunami\", \"turk\", \"turk\", \"turk\", \"turk\", \"turk\", \"turmoil\", \"turmoil\", \"turmoil\", \"turmoil\", \"turmoil\", \"ukraine\", \"ukraine\", \"ukraine\", \"ukraine\", \"usa\", \"usa\", \"usa\", \"usa\", \"usa\", \"vatican\", \"vatican\", \"vatican\", \"vatican\", \"vessel\", \"vessel\", \"vessel\", \"vessel\", \"vessel\", \"victim\", \"victim\", \"victim\", \"victim\", \"video\", \"video\", \"video\", \"video\", \"video\", \"vote\", \"vote\", \"vote\", \"vote\", \"voting\", \"voting\", \"voting\", \"voting\", \"voting\", \"want\", \"want\", \"want\", \"want\", \"want\", \"war\", \"war\", \"war\", \"war\", \"war\", \"warn\", \"warn\", \"warn\", \"warn\", \"warn\", \"warship\", \"warship\", \"warship\", \"warship\", \"warship\", \"water\", \"water\", \"water\", \"water\", \"water\", \"water\", \"weapon\", \"weapon\", \"weapon\", \"weapon\", \"weapon\", \"wife\", \"wife\", \"wife\", \"wife\", \"wikileak\", \"wikileak\", \"wikileak\", \"wikileak\", \"wild\", \"wild\", \"wild\", \"wild\", \"winner\", \"winner\", \"winner\", \"winner\", \"winner\", \"wolf\", \"wolf\", \"wolf\", \"wolf\", \"wolf\", \"woman\", \"woman\", \"woman\", \"woman\", \"world\", \"world\", \"world\", \"world\", \"worldnew\", \"worldnew\", \"worldnew\", \"worldnew\", \"worldnew\", \"would\", \"would\", \"would\", \"would\", \"year\", \"year\", \"year\", \"year\", \"year\", \"year_old\", \"year_old\", \"year_old\", \"year_old\", \"young\", \"young\", \"young\", \"young\", \"zimbabwe\", \"zimbabwe\", \"zimbabwe\", \"zimbabwe\"]}, \"R\": 30, \"lambda.step\": 0.01, \"plot.opts\": {\"xlab\": \"PC1\", \"ylab\": \"PC2\"}, \"topic.order\": [1, 2, 3, 5, 4, 6, 7, 8, 9]};\n",
       "\n",
       "function LDAvis_load_lib(url, callback){\n",
       "  var s = document.createElement('script');\n",
       "  s.src = url;\n",
       "  s.async = true;\n",
       "  s.onreadystatechange = s.onload = callback;\n",
       "  s.onerror = function(){console.warn(\"failed to load library \" + url);};\n",
       "  document.getElementsByTagName(\"head\")[0].appendChild(s);\n",
       "}\n",
       "\n",
       "if(typeof(LDAvis) !== \"undefined\"){\n",
       "   // already loaded: just create the visualization\n",
       "   !function(LDAvis){\n",
       "       new LDAvis(\"#\" + \"ldavis_el1488025072471035768778428845\", ldavis_el1488025072471035768778428845_data);\n",
       "   }(LDAvis);\n",
       "}else if(typeof define === \"function\" && define.amd){\n",
       "   // require.js is available: use it to load d3/LDAvis\n",
       "   require.config({paths: {d3: \"https://cdnjs.cloudflare.com/ajax/libs/d3/3.5.5/d3.min\"}});\n",
       "   require([\"d3\"], function(d3){\n",
       "      window.d3 = d3;\n",
       "      LDAvis_load_lib(\"https://cdn.rawgit.com/bmabey/pyLDAvis/files/ldavis.v1.0.0.js\", function(){\n",
       "        new LDAvis(\"#\" + \"ldavis_el1488025072471035768778428845\", ldavis_el1488025072471035768778428845_data);\n",
       "      });\n",
       "    });\n",
       "}else{\n",
       "    // require.js not available: dynamically load d3 & LDAvis\n",
       "    LDAvis_load_lib(\"https://cdnjs.cloudflare.com/ajax/libs/d3/3.5.5/d3.min.js\", function(){\n",
       "         LDAvis_load_lib(\"https://cdn.rawgit.com/bmabey/pyLDAvis/files/ldavis.v1.0.0.js\", function(){\n",
       "                 new LDAvis(\"#\" + \"ldavis_el1488025072471035768778428845\", ldavis_el1488025072471035768778428845_data);\n",
       "            })\n",
       "         });\n",
       "}\n",
       "</script>"
      ],
      "text/plain": [
       "PreparedData(topic_coordinates=              x         y  topics  cluster       Freq\n",
       "topic                                                \n",
       "0      0.256683 -0.018849       1        1  42.269917\n",
       "1      0.182714  0.174022       2        1  23.110426\n",
       "2      0.135829 -0.169497       3        1  16.844511\n",
       "4     -0.012200 -0.009661       4        1   7.818866\n",
       "3     -0.082741 -0.031144       5        1   4.728828\n",
       "5     -0.123269  0.017149       6        1   1.651212\n",
       "6     -0.119666  0.012304       7        1   1.226441\n",
       "7     -0.120369  0.011809       8        1   1.193467\n",
       "8     -0.116982  0.013867       9        1   1.156331, topic_info=      Category         Freq               Term        Total  loglift  logprob\n",
       "95     Default  2133.000000               kill  2133.000000  30.0000  30.0000\n",
       "395    Default  1425.000000             russia  1425.000000  29.0000  29.0000\n",
       "35     Default  1274.000000                man  1274.000000  28.0000  28.0000\n",
       "15     Default  1217.000000              woman  1217.000000  27.0000  27.0000\n",
       "40     Default  1681.000000             police  1681.000000  26.0000  26.0000\n",
       "841    Default  2018.000000         government  2018.000000  25.0000  25.0000\n",
       "932    Default   480.000000        north_korea   480.000000  24.0000  24.0000\n",
       "405    Default  1022.000000              child  1022.000000  23.0000  23.0000\n",
       "93     Default  1065.000000               find  1065.000000  22.0000  22.0000\n",
       "360    Default   572.000000              japan   572.000000  21.0000  21.0000\n",
       "172    Default  2090.000000              world  2090.000000  20.0000  20.0000\n",
       "1578   Default  1603.000000             israel  1603.000000  19.0000  19.0000\n",
       "92     Default  1860.000000              china  1860.000000  18.0000  18.0000\n",
       "105    Default   864.000000              death   864.000000  17.0000  17.0000\n",
       "971    Default   386.000000              south   386.000000  16.0000  16.0000\n",
       "140    Default  1502.000000               iran  1502.000000  15.0000  15.0000\n",
       "1088   Default   622.000000              syria   622.000000  14.0000  14.0000\n",
       "1692   Default   580.000000              troop   580.000000  13.0000  13.0000\n",
       "129    Default  1568.000000            israeli  1568.000000  12.0000  12.0000\n",
       "1087   Default   664.000000                oil   664.000000  11.0000  11.0000\n",
       "847    Default  1021.000000            russian  1021.000000  10.0000  10.0000\n",
       "151    Default  1725.000000             people  1725.000000   9.0000   9.0000\n",
       "134    Default   607.000000               fire   607.000000   8.0000   8.0000\n",
       "198    Default  1490.000000                war  1490.000000   7.0000   7.0000\n",
       "795    Default   295.000000               ship   295.000000   6.0000   6.0000\n",
       "228    Default  1442.000000             attack  1442.000000   5.0000   5.0000\n",
       "1118   Default   868.000000            nuclear   868.000000   4.0000   4.0000\n",
       "1117   Default   281.000000              korea   281.000000   3.0000   3.0000\n",
       "1312   Default   357.000000               food   357.000000   2.0000   2.0000\n",
       "247    Default   480.000000             crisis   480.000000   1.0000   1.0000\n",
       "841     Topic1  2014.229004         government  2018.648926   0.8589  -4.7009\n",
       "1578    Topic1  1599.550903             israel  1603.207642   0.8588  -4.9314\n",
       "28      Topic1  1062.253662          president  1065.834839   0.8577  -5.3408\n",
       "140     Topic1  1496.619141               iran  1502.512085   0.8572  -4.9980\n",
       "2121    Topic1   574.113525           internet   577.192261   0.8557  -5.9561\n",
       "3526    Topic1   488.818420           wikileak   492.118652   0.8544  -6.1169\n",
       "1202    Topic1   446.564240           election   449.674927   0.8542  -6.2073\n",
       "116     Topic1   465.427917               rule   468.697968   0.8541  -6.1660\n",
       "371     Topic1   470.387482             secret   473.788422   0.8539  -6.1554\n",
       "686     Topic1   425.324982               vote   428.446198   0.8538  -6.2561\n",
       "898     Topic1   467.912048           minister   471.501343   0.8535  -6.1606\n",
       "294     Topic1   432.934387              party   436.262909   0.8534  -6.2383\n",
       "139     Topic1   445.241577        human_right   448.766815   0.8532  -6.2103\n",
       "536     Topic1   414.813629     prime_minister   418.126099   0.8531  -6.2811\n",
       "663     Topic1   356.291962         parliament   359.342438   0.8526  -6.4332\n",
       "614     Topic1   394.600830            support   398.075317   0.8523  -6.3310\n",
       "2950    Topic1   336.905823               bill   340.070557   0.8517  -6.4891\n",
       "1949    Topic1   351.320007                spy   354.709320   0.8515  -6.4472\n",
       "4663    Topic1   375.307434               arab   379.248657   0.8506  -6.3812\n",
       "1098    Topic1   328.817657            foreign   332.280273   0.8506  -6.5134\n",
       "...        ...          ...                ...          ...      ...      ...\n",
       "1970    Topic8     6.163586            hearing     9.985868   3.9458  -6.9231\n",
       "6581    Topic8     5.459815             pastor     8.944663   3.9347  -7.0443\n",
       "7114    Topic8     5.068411             morgan     8.546171   3.9059  -7.1187\n",
       "2101    Topic8     6.841297         aboriginal    11.589735   3.9012  -6.8187\n",
       "2413    Topic8     5.388473    federal_reserve     9.186703   3.8948  -7.0574\n",
       "12429   Topic8     5.647337              livni     9.806565   3.8764  -7.0105\n",
       "10874   Topic8     6.555224            forgive    13.243475   3.7251  -6.8614\n",
       "3252    Topic8     6.329950               mega    14.612406   3.5917  -6.8964\n",
       "2393    Topic8     6.842160            richard    19.221088   3.3954  -6.8186\n",
       "9488    Topic8     6.682003              screw    24.147655   3.1435  -6.8423\n",
       "8112    Topic8     6.143312  president_mahmoud    27.592512   2.9261  -6.9263\n",
       "5734    Topic9    14.806304        nobel_prize    18.160265   4.2557  -6.0150\n",
       "1051    Topic9    15.584197         conspiracy    19.226934   4.2499  -5.9638\n",
       "4684    Topic9    16.264116         bankruptcy    20.255264   4.2405  -5.9211\n",
       "8392    Topic9    11.252659              nobel    14.564074   4.2020  -6.2895\n",
       "3318    Topic9    11.597502           legalise    15.037956   4.2001  -6.2593\n",
       "6521    Topic9    11.085390               paul    14.622091   4.1830  -6.3045\n",
       "3782    Topic9    11.071012       dictatorship    14.637972   4.1806  -6.3058\n",
       "4777    Topic9    10.867121             theory    14.472671   4.1734  -6.3244\n",
       "5289    Topic9    10.043751         regulation    13.953472   4.1311  -6.4032\n",
       "20056   Topic9     8.517687             maoist    11.989949   4.1180  -6.5680\n",
       "5492    Topic9     9.828764     latin_american    13.869541   4.1155  -6.4248\n",
       "6661    Topic9    12.984723           maintain    18.369602   4.1130  -6.1463\n",
       "2689    Topic9     8.145047              peter    11.594610   4.1068  -6.6127\n",
       "3715    Topic9    10.461147             reader    14.905634   4.1058  -6.3624\n",
       "2700    Topic9     7.680899            deserve    11.222404   4.0807  -6.6714\n",
       "5735    Topic9     8.085058     th_anniversary    11.921839   4.0716  -6.6201\n",
       "4096    Topic9     7.359095               wolf    10.878987   4.0690  -6.7142\n",
       "4674    Topic9     6.728578          chocolate    10.216398   4.0423  -6.8037\n",
       "9251    Topic9     6.255886                han     9.784279   4.0127  -6.8766\n",
       "3037    Topic9     6.302924      interest_rate     9.953898   4.0030  -6.8691\n",
       "10092   Topic9     6.267050             throat     9.919016   4.0008  -6.8748\n",
       "5402    Topic9     5.843067               coke     9.347095   3.9901  -6.9448\n",
       "9289    Topic9     5.532221           memorial     9.029499   3.9700  -6.9995\n",
       "7210    Topic9     5.557153              glass     9.239531   3.9515  -6.9950\n",
       "10620   Topic9     5.393813         madagascar     8.993209   3.9487  -7.0248\n",
       "11302   Topic9     5.091020       mossad_chief     8.566557   3.9395  -7.0826\n",
       "7544    Topic9     6.839425     drinking_water    11.790131   3.9154  -6.7874\n",
       "11844   Topic9     4.625064           id_cards     7.986295   3.9137  -7.1786\n",
       "10497   Topic9     4.883000         ip_address     8.450371   3.9115  -7.1243\n",
       "6659    Topic9     5.386503         governance     9.593981   3.8827  -7.0262\n",
       "4433    Topic9    10.674113             bottle    23.258110   3.6811  -6.3423\n",
       "3522    Topic9    12.301310             winner    30.400558   3.5552  -6.2004\n",
       "5549    Topic9     8.677434            finnish    19.532930   3.6485  -6.5494\n",
       "13427   Topic9    23.531763                pic   128.212967   2.7646  -5.5517\n",
       "1710    Topic9    10.330182              drink    52.158474   2.8407  -6.3750\n",
       "4093    Topic9     7.524748              nepal    26.750153   3.1916  -6.6919\n",
       "4207    Topic9     6.030201                 rd    13.139231   3.6811  -6.9133\n",
       "3289    Topic9     6.225419              prize    92.858871   1.7575  -6.8815\n",
       "688     Topic9     6.175219               king    94.145058   1.7356  -6.8896\n",
       "\n",
       "[444 rows x 6 columns], token_table=       Topic      Freq         Term\n",
       "term                               \n",
       "14237      1  0.114653     abkhazia\n",
       "14237      2  0.114653     abkhazia\n",
       "14237      3  0.114653     abkhazia\n",
       "14237      4  0.114653     abkhazia\n",
       "14237      7  0.573266     abkhazia\n",
       "2101       1  0.086283   aboriginal\n",
       "2101       2  0.086283   aboriginal\n",
       "2101       3  0.086283   aboriginal\n",
       "2101       4  0.172567   aboriginal\n",
       "2101       8  0.603983   aboriginal\n",
       "328        1  0.002258       afghan\n",
       "328        2  0.991137       afghan\n",
       "328        3  0.002258       afghan\n",
       "328        4  0.002258       afghan\n",
       "629        1  0.004159       africa\n",
       "629        2  0.212133       africa\n",
       "629        3  0.420106       africa\n",
       "629        4  0.357714       africa\n",
       "6446       1  0.055231   aggression\n",
       "6446       2  0.055231   aggression\n",
       "6446       3  0.055231   aggression\n",
       "6446       4  0.055231   aggression\n",
       "6446       5  0.055231   aggression\n",
       "6446       8  0.773234   aggression\n",
       "10449      1  0.015150  ahmadinejad\n",
       "10449      2  0.015150  ahmadinejad\n",
       "10449      3  0.015150  ahmadinejad\n",
       "10449      4  0.015150  ahmadinejad\n",
       "10449      8  0.939325  ahmadinejad\n",
       "1104       1  0.158841          air\n",
       "1104       2  0.006759          air\n",
       "1104       3  0.479901          air\n",
       "1104       4  0.003380          air\n",
       "1104       5  0.348097          air\n",
       "2861       1  0.019301      airline\n",
       "2861       2  0.019301      airline\n",
       "2861       3  0.019301      airline\n",
       "2861       4  0.019301      airline\n",
       "2861       5  0.945745      airline\n",
       "265        1  0.007084      airport\n",
       "265        2  0.007084      airport\n",
       "265        3  0.007084      airport\n",
       "265        4  0.007084      airport\n",
       "265        5  0.977556      airport\n",
       "4139       1  0.012486    airstrike\n",
       "4139       2  0.024971    airstrike\n",
       "4139       3  0.948900    airstrike\n",
       "4139       4  0.012486    airstrike\n",
       "14760      1  0.103796          ali\n",
       "14760      2  0.103796          ali\n",
       "...      ...       ...          ...\n",
       "3526       3  0.002032     wikileak\n",
       "3526       4  0.002032     wikileak\n",
       "2449       1  0.019878         wild\n",
       "2449       2  0.019878         wild\n",
       "2449       3  0.019878         wild\n",
       "2449       4  0.934243         wild\n",
       "3522       1  0.493412       winner\n",
       "3522       2  0.032894       winner\n",
       "3522       3  0.032894       winner\n",
       "3522       4  0.032894       winner\n",
       "3522       9  0.394730       winner\n",
       "4096       1  0.091920         wolf\n",
       "4096       2  0.091920         wolf\n",
       "4096       3  0.091920         wolf\n",
       "4096       4  0.091920         wolf\n",
       "4096       9  0.643442         wolf\n",
       "15         1  0.000822        woman\n",
       "15         2  0.997332        woman\n",
       "15         3  0.000822        woman\n",
       "15         4  0.000822        woman\n",
       "172        1  0.525827        world\n",
       "172        2  0.026315        world\n",
       "172        3  0.316262        world\n",
       "172        4  0.131098        world\n",
       "13993      1  0.074067     worldnew\n",
       "13993      2  0.074067     worldnew\n",
       "13993      3  0.074067     worldnew\n",
       "13993      4  0.074067     worldnew\n",
       "13993      6  0.740674     worldnew\n",
       "264        1  0.812548        would\n",
       "264        2  0.079662        would\n",
       "264        3  0.104888        would\n",
       "264        4  0.001328        would\n",
       "16         1  0.320453         year\n",
       "16         2  0.374784         year\n",
       "16         3  0.243484         year\n",
       "16         4  0.060871         year\n",
       "16         5  0.000503         year\n",
       "17         1  0.001920     year_old\n",
       "17         2  0.843091     year_old\n",
       "17         3  0.001920     year_old\n",
       "17         4  0.151718     year_old\n",
       "1568       1  0.003252        young\n",
       "1568       2  0.988491        young\n",
       "1568       3  0.003252        young\n",
       "1568       4  0.003252        young\n",
       "1525       1  0.012401     zimbabwe\n",
       "1525       2  0.173616     zimbabwe\n",
       "1525       3  0.006201     zimbabwe\n",
       "1525       4  0.806076     zimbabwe\n",
       "\n",
       "[1835 rows x 3 columns], R=30, lambda_step=0.01, plot_opts={'xlab': 'PC1', 'ylab': 'PC2'}, topic_order=[1, 2, 3, 5, 4, 6, 7, 8, 9])"
      ]
     },
     "execution_count": 30,
     "metadata": {},
     "output_type": "execute_result"
    },
    {
     "name": "stdout",
     "output_type": "stream",
     "text": [
      "time: 17min 28s\n"
     ]
    }
   ],
   "source": [
    "import pyLDAvis.gensim\n",
    "import pickle \n",
    "import pyLDAvis\n",
    "\n",
    "# Visualize the topics\n",
    "pyLDAvis.enable_notebook()\n",
    "\n",
    "LDAvis_prepared = pyLDAvis.gensim.prepare(lda_model, corpus, id2word)\n",
    "\n",
    "LDAvis_prepared"
   ]
  },
  {
   "cell_type": "markdown",
   "metadata": {},
   "source": [
    "### Closing Notes\n",
    "Machine learning has become increasingly popular over the past decade, and recent advances in computational availability have led to exponential growth to people looking for ways how new methods can be incorporated to advance the field of Natural Language Processing.\n",
    "\n",
    "Often, we treat topic models as black-box algorithms, but hopefully, this post addressed to shed light on the underlying math, and intuitions behind it, and high-level code to get you started with any textual data.\n",
    "\n",
    "In the next article, we’ll go one step deeper into understanding how you can evaluate the performance of topic models, tune its hyper-parameters to get more intuitive and reliable results.\n",
    "\n",
    "** **\n",
    "#### Sources:\n",
    "1. Topic model — Wikipedia. https://en.wikipedia.org/wiki/Topic_model\n",
    "2. Distributed Strategies for Topic Modeling. https://www.ideals.illinois.edu/bitstream/handle/2142/46405/ParallelTopicModels.pdf?sequence=2&isAllowed=y\n",
    "3. Topic Mapping — Software — Resources — Amaral Lab. https://amaral.northwestern.edu/resources/software/topic-mapping\n",
    "4. A Survey of Topic Modeling in Text Mining. https://thesai.org/Downloads/Volume6No1/Paper_21-A_Survey_of_Topic_Modeling_in_Text_Mining.pdf\n"
   ]
  }
 ],
 "metadata": {
  "kernelspec": {
   "display_name": "Python 3",
   "language": "python",
   "name": "python3"
  },
  "language_info": {
   "codemirror_mode": {
    "name": "ipython",
    "version": 3
   },
   "file_extension": ".py",
   "mimetype": "text/x-python",
   "name": "python",
   "nbconvert_exporter": "python",
   "pygments_lexer": "ipython3",
   "version": "3.7.3"
  }
 },
 "nbformat": 4,
 "nbformat_minor": 2
}
