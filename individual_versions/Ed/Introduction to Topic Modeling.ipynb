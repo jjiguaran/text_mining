{
 "cells": [
  {
   "cell_type": "markdown",
   "metadata": {},
   "source": [
    "### Introduction\n",
    "Topic Models, in a nutshell, are a type of statistical language models used for uncovering hidden structure in a collection of texts. In a practical and more intuitively, you can think of it as a task of:\n",
    "\n",
    "- **Dimensionality Reduction**, where rather than representing a text T in its feature space as {Word_i: count(Word_i, T) for Word_i in Vocabulary}, you can represent it in a topic space as {Topic_i: Weight(Topic_i, T) for Topic_i in Topics}\n",
    "- **Unsupervised Learning**, where it can be compared to clustering, as in the case of clustering, the number of topics, like the number of clusters, is an output parameter. By doing topic modeling, we build clusters of words rather than clusters of texts. A text is thus a mixture of all the topics, each having a specific weight\n",
    "- **Tagging**, abstract “topics” that occur in a collection of documents that best represents the information in them.\n",
    "\n",
    "There are several existing algorithms you can use to perform the topic modeling. The most common of it are, Latent Semantic Analysis (LSA/LSI), Probabilistic Latent Semantic Analysis (pLSA), and Latent Dirichlet Allocation (LDA)\n",
    "\n",
    "In this tutorial, we’ll take a closer look at LDA, and implement our first topic model using the sklearn implementation in python 2.7\n",
    "\n",
    "### Theoretical Overview\n",
    "LDA is a generative probabilistic model that assumes each topic is a mixture over an underlying set of words, and each document is a mixture of over a set of topic probabilities.\n",
    "\n",
    "![LDA_Model](https://github.com/chdoig/pytexas2015-topic-modeling/blob/master/images/lda-4.png?raw=true)\n",
    "\n",
    "We can describe the generative process of LDA as, given the M number of documents, N number of words, and prior K number of topics, the model trains to output:\n",
    "\n",
    "- `psi`, the distribution of words for each topic K\n",
    "- `phi`, the distribution of topics for each document i\n",
    "\n",
    "#### Parameters of LDA\n",
    "\n",
    "- `Alpha parameter` is Dirichlet prior concentration parameter that represents document-topic density — with a higher alpha, documents are assumed to be made up of more topics and result in more specific topic distribution per document.\n",
    "- `Beta parameter` is the same prior concentration parameter that represents topic-word density — with high beta, topics are assumed to made of up most of the words and result in a more specific word distribution per topic."
   ]
  },
  {
   "cell_type": "markdown",
   "metadata": {},
   "source": [
    "### The process\n",
    "- We pick the number of topics ahead of time even if we’re not sure what the topics are.\n",
    "- Each document is represented as a distribution over topics.\n",
    "- Each topic is represented as a distribution over words."
   ]
  },
  {
   "cell_type": "markdown",
   "metadata": {},
   "source": [
    "### LDA Implementation\n",
    "\n",
    "1. Loading data\n",
    "2. Data cleaning\n",
    "3. Exploratory analysis\n",
    "4. Preparing data for LDA analysis\n",
    "5. Model Evaluation and parameter tuning"
   ]
  },
  {
   "cell_type": "markdown",
   "metadata": {},
   "source": [
    "#### Loading data\n",
    "\n",
    "\n",
    "Let’s start by looking at the content of the file"
   ]
  },
  {
   "cell_type": "code",
   "execution_count": 1,
   "metadata": {},
   "outputs": [],
   "source": [
    "import warnings\n",
    "warnings.simplefilter(\"ignore\", DeprecationWarning)\n",
    "warnings.simplefilter(action='ignore', category=FutureWarning)\n"
   ]
  },
  {
   "cell_type": "code",
   "execution_count": 2,
   "metadata": {
    "scrolled": true
   },
   "outputs": [
    {
     "data": {
      "text/html": [
       "<div>\n",
       "<style scoped>\n",
       "    .dataframe tbody tr th:only-of-type {\n",
       "        vertical-align: middle;\n",
       "    }\n",
       "\n",
       "    .dataframe tbody tr th {\n",
       "        vertical-align: top;\n",
       "    }\n",
       "\n",
       "    .dataframe thead th {\n",
       "        text-align: right;\n",
       "    }\n",
       "</style>\n",
       "<table border=\"1\" class=\"dataframe\">\n",
       "  <thead>\n",
       "    <tr style=\"text-align: right;\">\n",
       "      <th></th>\n",
       "      <th>Date</th>\n",
       "      <th>News</th>\n",
       "    </tr>\n",
       "  </thead>\n",
       "  <tbody>\n",
       "    <tr>\n",
       "      <th>73607</th>\n",
       "      <td>2008-06-08</td>\n",
       "      <td>b'Marriage, they said, was reduced to the stat...</td>\n",
       "    </tr>\n",
       "    <tr>\n",
       "      <th>73583</th>\n",
       "      <td>2008-06-08</td>\n",
       "      <td>b'Nim Chimpsky: The tragedy of the chimp who t...</td>\n",
       "    </tr>\n",
       "    <tr>\n",
       "      <th>73584</th>\n",
       "      <td>2008-06-08</td>\n",
       "      <td>b\"Canada: Beware slippery slope' to censorship...</td>\n",
       "    </tr>\n",
       "    <tr>\n",
       "      <th>73585</th>\n",
       "      <td>2008-06-08</td>\n",
       "      <td>b'EU Vice-President Luisa Morgantini and the I...</td>\n",
       "    </tr>\n",
       "    <tr>\n",
       "      <th>73586</th>\n",
       "      <td>2008-06-08</td>\n",
       "      <td>b\"Israeli minister: Israel will attack Iran if...</td>\n",
       "    </tr>\n",
       "  </tbody>\n",
       "</table>\n",
       "</div>"
      ],
      "text/plain": [
       "            Date                                               News\n",
       "73607 2008-06-08  b'Marriage, they said, was reduced to the stat...\n",
       "73583 2008-06-08  b'Nim Chimpsky: The tragedy of the chimp who t...\n",
       "73584 2008-06-08  b\"Canada: Beware slippery slope' to censorship...\n",
       "73585 2008-06-08  b'EU Vice-President Luisa Morgantini and the I...\n",
       "73586 2008-06-08  b\"Israeli minister: Israel will attack Iran if..."
      ]
     },
     "execution_count": 2,
     "metadata": {},
     "output_type": "execute_result"
    }
   ],
   "source": [
    "# Importing modules\n",
    "%load_ext autotime\n",
    "\n",
    "# Importar librerias\n",
    "import pandas as pd\n",
    "\n",
    "pd.set_option('display.max_columns', 200)\n",
    "pd.set_option('display.max_rows', 100)\n",
    "pd.set_option('display.expand_frame_repr', True)\n",
    "import os\n",
    "\n",
    "#Importar los datasets\n",
    "url_reddit = 'https://raw.githubusercontent.com/jjiguaran/text_mining/master/Data/RedditNews.csv'\n",
    "url_combined = 'https://raw.githubusercontent.com/jjiguaran/text_mining/master/Data/Combined_News_DJIA.csv'\n",
    "RedditNews = pd.read_csv(url_reddit)\n",
    "CombinedNews = pd.read_csv(url_combined)\n",
    "\n",
    "\n",
    "RedditNews['Date'] =  pd.to_datetime(RedditNews['Date'], format='%Y-%m-%d')\n",
    "RedditNews.sort_values('Date', inplace=True)\n",
    "CombinedNews['Date'] =  pd.to_datetime(CombinedNews['Date'], format='%Y-%m-%d')\n",
    "RedditNews.head()"
   ]
  },
  {
   "cell_type": "code",
   "execution_count": 3,
   "metadata": {},
   "outputs": [
    {
     "data": {
      "text/plain": [
       "1989"
      ]
     },
     "metadata": {},
     "output_type": "display_data"
    },
    {
     "data": {
      "text/plain": [
       "1989"
      ]
     },
     "metadata": {},
     "output_type": "display_data"
    },
    {
     "name": "stdout",
     "output_type": "stream",
     "text": [
      "time: 17 ms\n"
     ]
    }
   ],
   "source": [
    "## Nos quedamos con las fechas del dataset que está etiquetado\n",
    "RedditNews = RedditNews[RedditNews['Date'].isin(CombinedNews['Date'])]\n",
    "\n",
    "display(\n",
    "    CombinedNews['Date'].nunique(),\n",
    "    RedditNews['Date'].nunique() )"
   ]
  },
  {
   "cell_type": "code",
   "execution_count": 4,
   "metadata": {},
   "outputs": [
    {
     "data": {
      "text/plain": [
       "49718"
      ]
     },
     "execution_count": 4,
     "metadata": {},
     "output_type": "execute_result"
    },
    {
     "name": "stdout",
     "output_type": "stream",
     "text": [
      "time: 112 ms\n"
     ]
    }
   ],
   "source": [
    "len(RedditNews['News'])"
   ]
  },
  {
   "cell_type": "code",
   "execution_count": 5,
   "metadata": {},
   "outputs": [
    {
     "name": "stdout",
     "output_type": "stream",
     "text": [
      "time: 201 ms\n"
     ]
    }
   ],
   "source": [
    "## Añadir columna del top correspondiente\n",
    "RedditNews['Top'] = RedditNews.groupby(['Date']).cumcount()+1\n",
    "\n",
    "## Añadir columna de la clase a este df\n",
    "RedditNews = pd.merge(RedditNews, CombinedNews[['Date']], on=['Date'])\n",
    "\n",
    "# RedditNews[RedditNews['Date']=='2014-12-31']"
   ]
  },
  {
   "cell_type": "code",
   "execution_count": 6,
   "metadata": {
    "scrolled": true
   },
   "outputs": [
    {
     "name": "stdout",
     "output_type": "stream",
     "text": [
      "time: 78.5 ms\n"
     ]
    }
   ],
   "source": [
    "# \n",
    "del CombinedNews"
   ]
  },
  {
   "cell_type": "markdown",
   "metadata": {},
   "source": [
    "#### Data Cleaning\n",
    "\n",
    "Since the goal of this analysis is to perform topic modeling, we will solely focus on the text data from each paper, and drop other metadata columns"
   ]
  },
  {
   "cell_type": "code",
   "execution_count": 7,
   "metadata": {},
   "outputs": [
    {
     "name": "stdout",
     "output_type": "stream",
     "text": [
      "time: 564 ms\n"
     ]
    }
   ],
   "source": [
    "## Hay error en la codificación de caracteres especiales, encontré ese, pero hay que ver que otros surgen\n",
    "RedditNews['News'] = RedditNews['News'].str.replace(\"year.old\", \" year old \", regex=True)\n",
    "RedditNews['News'] = RedditNews['News'].str.replace(\"\\d year\", \" year \", regex=True)\n",
    "RedditNews['News'] = RedditNews['News'].str.replace(\"year old\", \"years old\", regex=True)\n",
    "\n",
    "\n",
    "RedditNews['News'] = RedditNews['News'].str.replace(\"years.old\", \" years old \", regex=True)\n",
    "RedditNews['News'] = RedditNews['News'].str.replace(\"\\d years\", \" years \", regex=True)"
   ]
  },
  {
   "cell_type": "code",
   "execution_count": 8,
   "metadata": {},
   "outputs": [
    {
     "data": {
      "text/html": [
       "<div>\n",
       "<style scoped>\n",
       "    .dataframe tbody tr th:only-of-type {\n",
       "        vertical-align: middle;\n",
       "    }\n",
       "\n",
       "    .dataframe tbody tr th {\n",
       "        vertical-align: top;\n",
       "    }\n",
       "\n",
       "    .dataframe thead th {\n",
       "        text-align: right;\n",
       "    }\n",
       "</style>\n",
       "<table border=\"1\" class=\"dataframe\">\n",
       "  <thead>\n",
       "    <tr style=\"text-align: right;\">\n",
       "      <th></th>\n",
       "      <th>Date</th>\n",
       "      <th>News</th>\n",
       "      <th>Top</th>\n",
       "    </tr>\n",
       "  </thead>\n",
       "  <tbody>\n",
       "    <tr>\n",
       "      <th>1</th>\n",
       "      <td>2008-08-08</td>\n",
       "      <td>b\"The 'enemy combatent' trials are nothing but...</td>\n",
       "      <td>2</td>\n",
       "    </tr>\n",
       "    <tr>\n",
       "      <th>2</th>\n",
       "      <td>2008-08-08</td>\n",
       "      <td>b\"Breaking: Georgia invades South Ossetia, Rus...</td>\n",
       "      <td>3</td>\n",
       "    </tr>\n",
       "    <tr>\n",
       "      <th>8</th>\n",
       "      <td>2008-08-08</td>\n",
       "      <td>b\"Georgia 'downs two Russian warplanes' as cou...</td>\n",
       "      <td>9</td>\n",
       "    </tr>\n",
       "    <tr>\n",
       "      <th>9</th>\n",
       "      <td>2008-08-08</td>\n",
       "      <td>b\"Afghan children raped with 'impunity,' U.N. ...</td>\n",
       "      <td>10</td>\n",
       "    </tr>\n",
       "    <tr>\n",
       "      <th>12</th>\n",
       "      <td>2008-08-08</td>\n",
       "      <td>b\"So---Russia and Georgia are at war and the N...</td>\n",
       "      <td>13</td>\n",
       "    </tr>\n",
       "  </tbody>\n",
       "</table>\n",
       "</div>"
      ],
      "text/plain": [
       "         Date                                               News  Top\n",
       "1  2008-08-08  b\"The 'enemy combatent' trials are nothing but...    2\n",
       "2  2008-08-08  b\"Breaking: Georgia invades South Ossetia, Rus...    3\n",
       "8  2008-08-08  b\"Georgia 'downs two Russian warplanes' as cou...    9\n",
       "9  2008-08-08  b\"Afghan children raped with 'impunity,' U.N. ...   10\n",
       "12 2008-08-08  b\"So---Russia and Georgia are at war and the N...   13"
      ]
     },
     "metadata": {},
     "output_type": "display_data"
    },
    {
     "data": {
      "text/html": [
       "<div>\n",
       "<style scoped>\n",
       "    .dataframe tbody tr th:only-of-type {\n",
       "        vertical-align: middle;\n",
       "    }\n",
       "\n",
       "    .dataframe tbody tr th {\n",
       "        vertical-align: top;\n",
       "    }\n",
       "\n",
       "    .dataframe thead th {\n",
       "        text-align: right;\n",
       "    }\n",
       "</style>\n",
       "<table border=\"1\" class=\"dataframe\">\n",
       "  <thead>\n",
       "    <tr style=\"text-align: right;\">\n",
       "      <th></th>\n",
       "      <th>Date</th>\n",
       "      <th>News</th>\n",
       "      <th>Top</th>\n",
       "    </tr>\n",
       "  </thead>\n",
       "  <tbody>\n",
       "    <tr>\n",
       "      <th>0</th>\n",
       "      <td>2008-08-08</td>\n",
       "      <td>b'Georgian troops retreat from S. Osettain cap...</td>\n",
       "      <td>1</td>\n",
       "    </tr>\n",
       "    <tr>\n",
       "      <th>3</th>\n",
       "      <td>2008-08-08</td>\n",
       "      <td>b'150 Russian tanks have entered South Ossetia...</td>\n",
       "      <td>4</td>\n",
       "    </tr>\n",
       "    <tr>\n",
       "      <th>4</th>\n",
       "      <td>2008-08-08</td>\n",
       "      <td>b'Did the U.S. Prep Georgia for War with Russia?'</td>\n",
       "      <td>5</td>\n",
       "    </tr>\n",
       "    <tr>\n",
       "      <th>5</th>\n",
       "      <td>2008-08-08</td>\n",
       "      <td>b'Russian tanks are moving towards the capital...</td>\n",
       "      <td>6</td>\n",
       "    </tr>\n",
       "    <tr>\n",
       "      <th>6</th>\n",
       "      <td>2008-08-08</td>\n",
       "      <td>b'Russia Today: Columns of troops roll into So...</td>\n",
       "      <td>7</td>\n",
       "    </tr>\n",
       "  </tbody>\n",
       "</table>\n",
       "</div>"
      ],
      "text/plain": [
       "        Date                                               News  Top\n",
       "0 2008-08-08  b'Georgian troops retreat from S. Osettain cap...    1\n",
       "3 2008-08-08  b'150 Russian tanks have entered South Ossetia...    4\n",
       "4 2008-08-08  b'Did the U.S. Prep Georgia for War with Russia?'    5\n",
       "5 2008-08-08  b'Russian tanks are moving towards the capital...    6\n",
       "6 2008-08-08  b'Russia Today: Columns of troops roll into So...    7"
      ]
     },
     "metadata": {},
     "output_type": "display_data"
    },
    {
     "name": "stdout",
     "output_type": "stream",
     "text": [
      "time: 596 ms\n"
     ]
    }
   ],
   "source": [
    "## Hay error en la codificación de caracteres especiales, encontré ese, pero hay que ver que otros surgen\n",
    "index_review = RedditNews[(RedditNews['News'].str.startswith('b\"')) |\n",
    "                         (RedditNews['News'].str.startswith(\"b'\"))].index\n",
    "\n",
    "display(RedditNews[RedditNews['News'].str.startswith('b\"')].head(),\n",
    "        RedditNews[RedditNews['News'].str.startswith(\"b'\")].head())\n",
    "\n",
    "\n",
    "RedditNews['News'] = RedditNews['News'].str.replace('^b\\\"', \" \", regex=True)\n",
    "RedditNews['News'] = RedditNews['News'].str.replace(\"^b\\'\", \" \", regex=True)"
   ]
  },
  {
   "cell_type": "markdown",
   "metadata": {},
   "source": [
    "#### Remove punctuation/lower casing\n",
    "\n",
    "Next, let’s perform a simple preprocessing on the content of paper_text column to make them more amenable for analysis, and reliable results. To do that, we’ll use a regular expression to remove any punctuation, and then lowercase the text"
   ]
  },
  {
   "cell_type": "code",
   "execution_count": 9,
   "metadata": {},
   "outputs": [
    {
     "name": "stdout",
     "output_type": "stream",
     "text": [
      "time: 10.4 s\n"
     ]
    }
   ],
   "source": [
    "import re\n",
    "import nltk\n",
    "# nltk.download('stopwords')\n",
    "from nltk.corpus import stopwords\n",
    "stoplist = stopwords.words(\"english\")\n",
    "REPLACE_BY_SPACE_RE = re.compile('[(){}\\[\\]\\|@,;-]')\n",
    "BAD_SYMBOLS_RE = re.compile('[^0-9a-z ^#\\+_]')\n",
    "SEP_NUMBER = re.compile('(?<=\\d)\\,|\\.(?=\\d)')\n",
    "USA_ABREV = re.compile('U\\.S|u\\.s\\|u\\.s\\.a\\.|US')\n",
    "DOT_ABREV = re.compile('\\.(?![a-zA-Z]{2})')\n",
    "STARTING_B = re.compile(\"^\\\"b' |^b \")\n",
    "STOPWORDS = stopwords.words('english')\n",
    "\n",
    "def clean_text(text):\n",
    "    \"\"\"\n",
    "        text: a string\n",
    "        return: modified initial string\n",
    "    \"\"\"\n",
    "    \n",
    "    text = USA_ABREV.sub(' usa ', text) # replace U.S U.S. u.s US for usa\n",
    "    text = text.lower() # lowercase text\n",
    "    text = text.replace(\"al-qaeda\", \"alqaeda\")\n",
    "    text = text.replace(\"al-qa'eda\", \"alqaeda\")\n",
    "    text = text.replace('&amp;', '&')\n",
    "    text = text.replace('&', '')    \n",
    "\n",
    "    text = DOT_ABREV.sub('', text) # removes abrevetion dot, ej: L.G.B.T  = LGBT\n",
    "    text = SEP_NUMBER.sub('', text) # removes . and , seprating numbers\n",
    "    text = REPLACE_BY_SPACE_RE.sub(' ', text) # replace REPLACE_BY_SPACE_RE symbols by space in text\n",
    "    text = BAD_SYMBOLS_RE.sub(' ', text) # delete symbols which are in BAD_SYMBOLS_RE from text\n",
    "    text = STARTING_B.sub('', text) # delete symbols which are in BAD_SYMBOLS_RE from text\n",
    "\n",
    "    text = ' '.join(word for word in text.split() if word not in STOPWORDS) # delete stopwors from text\n",
    "    text = text.strip()\n",
    "    return text\n",
    "    \n",
    "RedditNews['News'] = RedditNews['News'].apply(clean_text)"
   ]
  },
  {
   "cell_type": "code",
   "execution_count": 10,
   "metadata": {},
   "outputs": [
    {
     "name": "stdout",
     "output_type": "stream",
     "text": [
      "131\n"
     ]
    },
    {
     "data": {
      "text/html": [
       "<div>\n",
       "<style scoped>\n",
       "    .dataframe tbody tr th:only-of-type {\n",
       "        vertical-align: middle;\n",
       "    }\n",
       "\n",
       "    .dataframe tbody tr th {\n",
       "        vertical-align: top;\n",
       "    }\n",
       "\n",
       "    .dataframe thead th {\n",
       "        text-align: right;\n",
       "    }\n",
       "</style>\n",
       "<table border=\"1\" class=\"dataframe\">\n",
       "  <thead>\n",
       "    <tr style=\"text-align: right;\">\n",
       "      <th></th>\n",
       "      <th>Date</th>\n",
       "      <th>News</th>\n",
       "      <th>Top</th>\n",
       "    </tr>\n",
       "  </thead>\n",
       "  <tbody>\n",
       "    <tr>\n",
       "      <th>39157</th>\n",
       "      <td>2014-10-28</td>\n",
       "      <td>4 banks including jpmorgan fined europe cartel...</td>\n",
       "      <td>15</td>\n",
       "    </tr>\n",
       "    <tr>\n",
       "      <th>39124</th>\n",
       "      <td>2014-10-27</td>\n",
       "      <td>4 banks including jpmorgan fined europe cartel...</td>\n",
       "      <td>7</td>\n",
       "    </tr>\n",
       "    <tr>\n",
       "      <th>35276</th>\n",
       "      <td>2014-03-19</td>\n",
       "      <td>900 workers already died building qatars world...</td>\n",
       "      <td>9</td>\n",
       "    </tr>\n",
       "    <tr>\n",
       "      <th>35207</th>\n",
       "      <td>2014-03-14</td>\n",
       "      <td>900 workers already died building qatars world...</td>\n",
       "      <td>15</td>\n",
       "    </tr>\n",
       "    <tr>\n",
       "      <th>30490</th>\n",
       "      <td>2013-06-13</td>\n",
       "      <td>afghan parliament upholds right marry children</td>\n",
       "      <td>23</td>\n",
       "    </tr>\n",
       "    <tr>\n",
       "      <th>30488</th>\n",
       "      <td>2013-06-13</td>\n",
       "      <td>afghan parliament upholds right marry children</td>\n",
       "      <td>21</td>\n",
       "    </tr>\n",
       "    <tr>\n",
       "      <th>950</th>\n",
       "      <td>2008-10-02</td>\n",
       "      <td>atlas real world</td>\n",
       "      <td>1</td>\n",
       "    </tr>\n",
       "    <tr>\n",
       "      <th>928</th>\n",
       "      <td>2008-10-01</td>\n",
       "      <td>atlas real world</td>\n",
       "      <td>4</td>\n",
       "    </tr>\n",
       "    <tr>\n",
       "      <th>12452</th>\n",
       "      <td>2010-08-02</td>\n",
       "      <td>bbc admits al qaeda never existed</td>\n",
       "      <td>8</td>\n",
       "    </tr>\n",
       "    <tr>\n",
       "      <th>7249</th>\n",
       "      <td>2009-10-02</td>\n",
       "      <td>bbc admits al qaeda never existed</td>\n",
       "      <td>3</td>\n",
       "    </tr>\n",
       "    <tr>\n",
       "      <th>26201</th>\n",
       "      <td>2012-10-04</td>\n",
       "      <td>bbc news turkey parliament authorises military...</td>\n",
       "      <td>9</td>\n",
       "    </tr>\n",
       "    <tr>\n",
       "      <th>26209</th>\n",
       "      <td>2012-10-04</td>\n",
       "      <td>bbc news turkey parliament authorises military...</td>\n",
       "      <td>17</td>\n",
       "    </tr>\n",
       "    <tr>\n",
       "      <th>47950</th>\n",
       "      <td>2016-03-23</td>\n",
       "      <td>brazil descends chaos olympics looms</td>\n",
       "      <td>8</td>\n",
       "    </tr>\n",
       "    <tr>\n",
       "      <th>47908</th>\n",
       "      <td>2016-03-21</td>\n",
       "      <td>brazil descends chaos olympics looms</td>\n",
       "      <td>16</td>\n",
       "    </tr>\n",
       "    <tr>\n",
       "      <th>30836</th>\n",
       "      <td>2013-07-03</td>\n",
       "      <td>bug found ecuador embassy london</td>\n",
       "      <td>19</td>\n",
       "    </tr>\n",
       "    <tr>\n",
       "      <th>30839</th>\n",
       "      <td>2013-07-03</td>\n",
       "      <td>bug found ecuador embassy london</td>\n",
       "      <td>22</td>\n",
       "    </tr>\n",
       "    <tr>\n",
       "      <th>3909</th>\n",
       "      <td>2009-03-24</td>\n",
       "      <td>china bans youtube</td>\n",
       "      <td>10</td>\n",
       "    </tr>\n",
       "    <tr>\n",
       "      <th>3898</th>\n",
       "      <td>2009-03-23</td>\n",
       "      <td>china bans youtube</td>\n",
       "      <td>24</td>\n",
       "    </tr>\n",
       "    <tr>\n",
       "      <th>2326</th>\n",
       "      <td>2008-12-19</td>\n",
       "      <td>china blocks internet access new york times</td>\n",
       "      <td>2</td>\n",
       "    </tr>\n",
       "    <tr>\n",
       "      <th>2349</th>\n",
       "      <td>2008-12-19</td>\n",
       "      <td>china blocks internet access new york times</td>\n",
       "      <td>25</td>\n",
       "    </tr>\n",
       "    <tr>\n",
       "      <th>48993</th>\n",
       "      <td>2016-05-23</td>\n",
       "      <td>chinese russian warplanes increasingly aggress...</td>\n",
       "      <td>1</td>\n",
       "    </tr>\n",
       "    <tr>\n",
       "      <th>49033</th>\n",
       "      <td>2016-05-24</td>\n",
       "      <td>chinese russian warplanes increasingly aggress...</td>\n",
       "      <td>16</td>\n",
       "    </tr>\n",
       "    <tr>\n",
       "      <th>33254</th>\n",
       "      <td>2013-11-19</td>\n",
       "      <td>corrupt bank officials get death sentence vietnam</td>\n",
       "      <td>12</td>\n",
       "    </tr>\n",
       "    <tr>\n",
       "      <th>33245</th>\n",
       "      <td>2013-11-19</td>\n",
       "      <td>corrupt bank officials get death sentence vietnam</td>\n",
       "      <td>3</td>\n",
       "    </tr>\n",
       "    <tr>\n",
       "      <th>13410</th>\n",
       "      <td>2010-09-24</td>\n",
       "      <td>could possibly go wrong</td>\n",
       "      <td>16</td>\n",
       "    </tr>\n",
       "    <tr>\n",
       "      <th>13123</th>\n",
       "      <td>2010-09-09</td>\n",
       "      <td>could possibly go wrong</td>\n",
       "      <td>4</td>\n",
       "    </tr>\n",
       "    <tr>\n",
       "      <th>4158</th>\n",
       "      <td>2009-04-07</td>\n",
       "      <td>dark side dubai</td>\n",
       "      <td>9</td>\n",
       "    </tr>\n",
       "    <tr>\n",
       "      <th>1001</th>\n",
       "      <td>2008-10-06</td>\n",
       "      <td>dark side dubai</td>\n",
       "      <td>2</td>\n",
       "    </tr>\n",
       "    <tr>\n",
       "      <th>16738</th>\n",
       "      <td>2011-04-05</td>\n",
       "      <td>david cameron britain caused many world problems</td>\n",
       "      <td>19</td>\n",
       "    </tr>\n",
       "    <tr>\n",
       "      <th>16747</th>\n",
       "      <td>2011-04-06</td>\n",
       "      <td>david cameron britain caused many world problems</td>\n",
       "      <td>3</td>\n",
       "    </tr>\n",
       "    <tr>\n",
       "      <th>27552</th>\n",
       "      <td>2012-12-24</td>\n",
       "      <td>delhi police women deserve raped</td>\n",
       "      <td>10</td>\n",
       "    </tr>\n",
       "    <tr>\n",
       "      <th>23072</th>\n",
       "      <td>2012-04-09</td>\n",
       "      <td>delhi police women deserve raped</td>\n",
       "      <td>5</td>\n",
       "    </tr>\n",
       "    <tr>\n",
       "      <th>47836</th>\n",
       "      <td>2016-03-16</td>\n",
       "      <td>drug cartels taking tortilla business mexico</td>\n",
       "      <td>19</td>\n",
       "    </tr>\n",
       "    <tr>\n",
       "      <th>47779</th>\n",
       "      <td>2016-03-14</td>\n",
       "      <td>drug cartels taking tortilla business mexico</td>\n",
       "      <td>12</td>\n",
       "    </tr>\n",
       "    <tr>\n",
       "      <th>3367</th>\n",
       "      <td>2009-02-20</td>\n",
       "      <td>dumped africa britains toxic waste</td>\n",
       "      <td>18</td>\n",
       "    </tr>\n",
       "    <tr>\n",
       "      <th>3362</th>\n",
       "      <td>2009-02-20</td>\n",
       "      <td>dumped africa britains toxic waste</td>\n",
       "      <td>13</td>\n",
       "    </tr>\n",
       "    <tr>\n",
       "      <th>16572</th>\n",
       "      <td>2011-03-28</td>\n",
       "      <td>dutch bankers bonuses axed people power</td>\n",
       "      <td>3</td>\n",
       "    </tr>\n",
       "    <tr>\n",
       "      <th>16598</th>\n",
       "      <td>2011-03-29</td>\n",
       "      <td>dutch bankers bonuses axed people power</td>\n",
       "      <td>4</td>\n",
       "    </tr>\n",
       "    <tr>\n",
       "      <th>32856</th>\n",
       "      <td>2013-10-28</td>\n",
       "      <td>europe falls love obama nsa spying claims</td>\n",
       "      <td>14</td>\n",
       "    </tr>\n",
       "    <tr>\n",
       "      <th>32822</th>\n",
       "      <td>2013-10-25</td>\n",
       "      <td>europe falls love obama nsa spying claims</td>\n",
       "      <td>5</td>\n",
       "    </tr>\n",
       "    <tr>\n",
       "      <th>25556</th>\n",
       "      <td>2012-08-28</td>\n",
       "      <td>food shortages could force world vegetarianism...</td>\n",
       "      <td>14</td>\n",
       "    </tr>\n",
       "    <tr>\n",
       "      <th>25541</th>\n",
       "      <td>2012-08-27</td>\n",
       "      <td>food shortages could force world vegetarianism...</td>\n",
       "      <td>24</td>\n",
       "    </tr>\n",
       "    <tr>\n",
       "      <th>12108</th>\n",
       "      <td>2010-07-13</td>\n",
       "      <td>french mps vote ban islamic full veil public</td>\n",
       "      <td>14</td>\n",
       "    </tr>\n",
       "    <tr>\n",
       "      <th>12140</th>\n",
       "      <td>2010-07-14</td>\n",
       "      <td>french mps vote ban islamic full veil public</td>\n",
       "      <td>21</td>\n",
       "    </tr>\n",
       "    <tr>\n",
       "      <th>3456</th>\n",
       "      <td>2009-02-26</td>\n",
       "      <td>french professor sacked 9 11 conspiracy theory</td>\n",
       "      <td>7</td>\n",
       "    </tr>\n",
       "    <tr>\n",
       "      <th>3476</th>\n",
       "      <td>2009-02-27</td>\n",
       "      <td>french professor sacked 9 11 conspiracy theory</td>\n",
       "      <td>2</td>\n",
       "    </tr>\n",
       "    <tr>\n",
       "      <th>34861</th>\n",
       "      <td>2014-02-24</td>\n",
       "      <td>george brandis refuses back claim snowden put ...</td>\n",
       "      <td>19</td>\n",
       "    </tr>\n",
       "    <tr>\n",
       "      <th>34934</th>\n",
       "      <td>2014-02-27</td>\n",
       "      <td>george brandis refuses back claim snowden put ...</td>\n",
       "      <td>17</td>\n",
       "    </tr>\n",
       "    <tr>\n",
       "      <th>17249</th>\n",
       "      <td>2011-05-05</td>\n",
       "      <td>head cia admitted yesterday live video footage...</td>\n",
       "      <td>7</td>\n",
       "    </tr>\n",
       "    <tr>\n",
       "      <th>17262</th>\n",
       "      <td>2011-05-05</td>\n",
       "      <td>head cia admitted yesterday live video footage...</td>\n",
       "      <td>20</td>\n",
       "    </tr>\n",
       "    <tr>\n",
       "      <th>...</th>\n",
       "      <td>...</td>\n",
       "      <td>...</td>\n",
       "      <td>...</td>\n",
       "    </tr>\n",
       "    <tr>\n",
       "      <th>29327</th>\n",
       "      <td>2013-04-09</td>\n",
       "      <td>ontario putting end coal burning power plants ...</td>\n",
       "      <td>10</td>\n",
       "    </tr>\n",
       "    <tr>\n",
       "      <th>33714</th>\n",
       "      <td>2013-12-16</td>\n",
       "      <td>ontario putting end coal burning power plants ...</td>\n",
       "      <td>22</td>\n",
       "    </tr>\n",
       "    <tr>\n",
       "      <th>470</th>\n",
       "      <td>2008-09-04</td>\n",
       "      <td>pakistan reacts fury 20 die american attack soil</td>\n",
       "      <td>21</td>\n",
       "    </tr>\n",
       "    <tr>\n",
       "      <th>452</th>\n",
       "      <td>2008-09-04</td>\n",
       "      <td>pakistan reacts fury 20 die american attack soil</td>\n",
       "      <td>3</td>\n",
       "    </tr>\n",
       "    <tr>\n",
       "      <th>24203</th>\n",
       "      <td>2012-06-12</td>\n",
       "      <td>police bar 3 veiled women entering france</td>\n",
       "      <td>11</td>\n",
       "    </tr>\n",
       "    <tr>\n",
       "      <th>24202</th>\n",
       "      <td>2012-06-12</td>\n",
       "      <td>police bar 3 veiled women entering france</td>\n",
       "      <td>10</td>\n",
       "    </tr>\n",
       "    <tr>\n",
       "      <th>15792</th>\n",
       "      <td>2011-02-09</td>\n",
       "      <td>protest egypt takes turn workers go strike</td>\n",
       "      <td>23</td>\n",
       "    </tr>\n",
       "    <tr>\n",
       "      <th>15787</th>\n",
       "      <td>2011-02-09</td>\n",
       "      <td>protest egypt takes turn workers go strike</td>\n",
       "      <td>18</td>\n",
       "    </tr>\n",
       "    <tr>\n",
       "      <th>18275</th>\n",
       "      <td>2011-07-05</td>\n",
       "      <td>putin gave nato right kill gaddafi</td>\n",
       "      <td>8</td>\n",
       "    </tr>\n",
       "    <tr>\n",
       "      <th>17097</th>\n",
       "      <td>2011-04-27</td>\n",
       "      <td>putin gave nato right kill gaddafi</td>\n",
       "      <td>5</td>\n",
       "    </tr>\n",
       "    <tr>\n",
       "      <th>22019</th>\n",
       "      <td>2012-02-07</td>\n",
       "      <td>raf helicopter death revelation leads secret i...</td>\n",
       "      <td>2</td>\n",
       "    </tr>\n",
       "    <tr>\n",
       "      <th>22102</th>\n",
       "      <td>2012-02-10</td>\n",
       "      <td>raf helicopter death revelation leads secret i...</td>\n",
       "      <td>10</td>\n",
       "    </tr>\n",
       "    <tr>\n",
       "      <th>25609</th>\n",
       "      <td>2012-08-30</td>\n",
       "      <td>red cross halts pakistan aid wake doctor behea...</td>\n",
       "      <td>17</td>\n",
       "    </tr>\n",
       "    <tr>\n",
       "      <th>25581</th>\n",
       "      <td>2012-08-29</td>\n",
       "      <td>red cross halts pakistan aid wake doctor behea...</td>\n",
       "      <td>14</td>\n",
       "    </tr>\n",
       "    <tr>\n",
       "      <th>38532</th>\n",
       "      <td>2014-09-23</td>\n",
       "      <td>rhino poaching kingpin arrested south africa</td>\n",
       "      <td>15</td>\n",
       "    </tr>\n",
       "    <tr>\n",
       "      <th>32189</th>\n",
       "      <td>2013-09-19</td>\n",
       "      <td>rhino poaching kingpin arrested south africa</td>\n",
       "      <td>22</td>\n",
       "    </tr>\n",
       "    <tr>\n",
       "      <th>15789</th>\n",
       "      <td>2011-02-09</td>\n",
       "      <td>russia eliminates daylight saving time</td>\n",
       "      <td>20</td>\n",
       "    </tr>\n",
       "    <tr>\n",
       "      <th>16601</th>\n",
       "      <td>2011-03-29</td>\n",
       "      <td>russia eliminates daylight saving time</td>\n",
       "      <td>7</td>\n",
       "    </tr>\n",
       "    <tr>\n",
       "      <th>35083</th>\n",
       "      <td>2014-03-07</td>\n",
       "      <td>russian soldiers training canada given 24 hour...</td>\n",
       "      <td>16</td>\n",
       "    </tr>\n",
       "    <tr>\n",
       "      <th>35077</th>\n",
       "      <td>2014-03-07</td>\n",
       "      <td>russian soldiers training canada given 24 hour...</td>\n",
       "      <td>10</td>\n",
       "    </tr>\n",
       "    <tr>\n",
       "      <th>70</th>\n",
       "      <td>2008-08-12</td>\n",
       "      <td>russias response georgia right</td>\n",
       "      <td>21</td>\n",
       "    </tr>\n",
       "    <tr>\n",
       "      <th>98</th>\n",
       "      <td>2008-08-13</td>\n",
       "      <td>russias response georgia right</td>\n",
       "      <td>24</td>\n",
       "    </tr>\n",
       "    <tr>\n",
       "      <th>111</th>\n",
       "      <td>2008-08-14</td>\n",
       "      <td>russias response georgia right</td>\n",
       "      <td>12</td>\n",
       "    </tr>\n",
       "    <tr>\n",
       "      <th>7367</th>\n",
       "      <td>2009-10-08</td>\n",
       "      <td>saudis ask aid world cuts dependence oil</td>\n",
       "      <td>21</td>\n",
       "    </tr>\n",
       "    <tr>\n",
       "      <th>7347</th>\n",
       "      <td>2009-10-08</td>\n",
       "      <td>saudis ask aid world cuts dependence oil</td>\n",
       "      <td>1</td>\n",
       "    </tr>\n",
       "    <tr>\n",
       "      <th>6586</th>\n",
       "      <td>2009-08-25</td>\n",
       "      <td>slaves today time human history</td>\n",
       "      <td>12</td>\n",
       "    </tr>\n",
       "    <tr>\n",
       "      <th>6613</th>\n",
       "      <td>2009-08-26</td>\n",
       "      <td>slaves today time human history</td>\n",
       "      <td>14</td>\n",
       "    </tr>\n",
       "    <tr>\n",
       "      <th>6658</th>\n",
       "      <td>2009-08-28</td>\n",
       "      <td>slaves today time human history</td>\n",
       "      <td>9</td>\n",
       "    </tr>\n",
       "    <tr>\n",
       "      <th>34508</th>\n",
       "      <td>2014-02-03</td>\n",
       "      <td>south koreans drink twice much liquor russians...</td>\n",
       "      <td>16</td>\n",
       "    </tr>\n",
       "    <tr>\n",
       "      <th>34526</th>\n",
       "      <td>2014-02-04</td>\n",
       "      <td>south koreans drink twice much liquor russians...</td>\n",
       "      <td>9</td>\n",
       "    </tr>\n",
       "    <tr>\n",
       "      <th>33613</th>\n",
       "      <td>2013-12-10</td>\n",
       "      <td>state surveillance personal data theft say wor...</td>\n",
       "      <td>21</td>\n",
       "    </tr>\n",
       "    <tr>\n",
       "      <th>33615</th>\n",
       "      <td>2013-12-10</td>\n",
       "      <td>state surveillance personal data theft say wor...</td>\n",
       "      <td>23</td>\n",
       "    </tr>\n",
       "    <tr>\n",
       "      <th>4177</th>\n",
       "      <td>2009-04-08</td>\n",
       "      <td>success drug decriminalization portugal</td>\n",
       "      <td>3</td>\n",
       "    </tr>\n",
       "    <tr>\n",
       "      <th>3732</th>\n",
       "      <td>2009-03-13</td>\n",
       "      <td>success drug decriminalization portugal</td>\n",
       "      <td>8</td>\n",
       "    </tr>\n",
       "    <tr>\n",
       "      <th>12197</th>\n",
       "      <td>2010-07-19</td>\n",
       "      <td>syria bans face veils universities</td>\n",
       "      <td>3</td>\n",
       "    </tr>\n",
       "    <tr>\n",
       "      <th>12210</th>\n",
       "      <td>2010-07-19</td>\n",
       "      <td>syria bans face veils universities</td>\n",
       "      <td>16</td>\n",
       "    </tr>\n",
       "    <tr>\n",
       "      <th>176</th>\n",
       "      <td>2008-08-19</td>\n",
       "      <td>taliban forces kill 10 french soldiers raid us...</td>\n",
       "      <td>2</td>\n",
       "    </tr>\n",
       "    <tr>\n",
       "      <th>189</th>\n",
       "      <td>2008-08-19</td>\n",
       "      <td>taliban forces kill 10 french soldiers raid us...</td>\n",
       "      <td>15</td>\n",
       "    </tr>\n",
       "    <tr>\n",
       "      <th>27506</th>\n",
       "      <td>2012-12-20</td>\n",
       "      <td>un confirms hezbollah fighting assad syria</td>\n",
       "      <td>14</td>\n",
       "    </tr>\n",
       "    <tr>\n",
       "      <th>27500</th>\n",
       "      <td>2012-12-20</td>\n",
       "      <td>un confirms hezbollah fighting assad syria</td>\n",
       "      <td>8</td>\n",
       "    </tr>\n",
       "    <tr>\n",
       "      <th>20003</th>\n",
       "      <td>2011-10-11</td>\n",
       "      <td>un finds systematic torture afghanistan</td>\n",
       "      <td>11</td>\n",
       "    </tr>\n",
       "    <tr>\n",
       "      <th>19969</th>\n",
       "      <td>2011-10-10</td>\n",
       "      <td>un finds systematic torture afghanistan</td>\n",
       "      <td>2</td>\n",
       "    </tr>\n",
       "    <tr>\n",
       "      <th>3821</th>\n",
       "      <td>2009-03-18</td>\n",
       "      <td>un rights envoy sees israeli war crimes gaza</td>\n",
       "      <td>22</td>\n",
       "    </tr>\n",
       "    <tr>\n",
       "      <th>3825</th>\n",
       "      <td>2009-03-19</td>\n",
       "      <td>un rights envoy sees israeli war crimes gaza</td>\n",
       "      <td>1</td>\n",
       "    </tr>\n",
       "    <tr>\n",
       "      <th>35735</th>\n",
       "      <td>2014-04-14</td>\n",
       "      <td>usa troops may sent eastern europe</td>\n",
       "      <td>18</td>\n",
       "    </tr>\n",
       "    <tr>\n",
       "      <th>35679</th>\n",
       "      <td>2014-04-10</td>\n",
       "      <td>usa troops may sent eastern europe</td>\n",
       "      <td>12</td>\n",
       "    </tr>\n",
       "    <tr>\n",
       "      <th>48447</th>\n",
       "      <td>2016-04-21</td>\n",
       "      <td>watchdog says press freedom decline new era pr...</td>\n",
       "      <td>5</td>\n",
       "    </tr>\n",
       "    <tr>\n",
       "      <th>48525</th>\n",
       "      <td>2016-04-26</td>\n",
       "      <td>watchdog says press freedom decline new era pr...</td>\n",
       "      <td>8</td>\n",
       "    </tr>\n",
       "    <tr>\n",
       "      <th>14829</th>\n",
       "      <td>2010-12-15</td>\n",
       "      <td>wikileaks swedish government hid anti terror o...</td>\n",
       "      <td>10</td>\n",
       "    </tr>\n",
       "    <tr>\n",
       "      <th>15026</th>\n",
       "      <td>2010-12-28</td>\n",
       "      <td>wikileaks swedish government hid anti terror o...</td>\n",
       "      <td>7</td>\n",
       "    </tr>\n",
       "  </tbody>\n",
       "</table>\n",
       "<p>131 rows × 3 columns</p>\n",
       "</div>"
      ],
      "text/plain": [
       "            Date                                               News  Top\n",
       "39157 2014-10-28  4 banks including jpmorgan fined europe cartel...   15\n",
       "39124 2014-10-27  4 banks including jpmorgan fined europe cartel...    7\n",
       "35276 2014-03-19  900 workers already died building qatars world...    9\n",
       "35207 2014-03-14  900 workers already died building qatars world...   15\n",
       "30490 2013-06-13     afghan parliament upholds right marry children   23\n",
       "30488 2013-06-13     afghan parliament upholds right marry children   21\n",
       "950   2008-10-02                                   atlas real world    1\n",
       "928   2008-10-01                                   atlas real world    4\n",
       "12452 2010-08-02                  bbc admits al qaeda never existed    8\n",
       "7249  2009-10-02                  bbc admits al qaeda never existed    3\n",
       "26201 2012-10-04  bbc news turkey parliament authorises military...    9\n",
       "26209 2012-10-04  bbc news turkey parliament authorises military...   17\n",
       "47950 2016-03-23               brazil descends chaos olympics looms    8\n",
       "47908 2016-03-21               brazil descends chaos olympics looms   16\n",
       "30836 2013-07-03                   bug found ecuador embassy london   19\n",
       "30839 2013-07-03                   bug found ecuador embassy london   22\n",
       "3909  2009-03-24                                 china bans youtube   10\n",
       "3898  2009-03-23                                 china bans youtube   24\n",
       "2326  2008-12-19        china blocks internet access new york times    2\n",
       "2349  2008-12-19        china blocks internet access new york times   25\n",
       "48993 2016-05-23  chinese russian warplanes increasingly aggress...    1\n",
       "49033 2016-05-24  chinese russian warplanes increasingly aggress...   16\n",
       "33254 2013-11-19  corrupt bank officials get death sentence vietnam   12\n",
       "33245 2013-11-19  corrupt bank officials get death sentence vietnam    3\n",
       "13410 2010-09-24                            could possibly go wrong   16\n",
       "13123 2010-09-09                            could possibly go wrong    4\n",
       "4158  2009-04-07                                    dark side dubai    9\n",
       "1001  2008-10-06                                    dark side dubai    2\n",
       "16738 2011-04-05   david cameron britain caused many world problems   19\n",
       "16747 2011-04-06   david cameron britain caused many world problems    3\n",
       "27552 2012-12-24                   delhi police women deserve raped   10\n",
       "23072 2012-04-09                   delhi police women deserve raped    5\n",
       "47836 2016-03-16       drug cartels taking tortilla business mexico   19\n",
       "47779 2016-03-14       drug cartels taking tortilla business mexico   12\n",
       "3367  2009-02-20                 dumped africa britains toxic waste   18\n",
       "3362  2009-02-20                 dumped africa britains toxic waste   13\n",
       "16572 2011-03-28            dutch bankers bonuses axed people power    3\n",
       "16598 2011-03-29            dutch bankers bonuses axed people power    4\n",
       "32856 2013-10-28          europe falls love obama nsa spying claims   14\n",
       "32822 2013-10-25          europe falls love obama nsa spying claims    5\n",
       "25556 2012-08-28  food shortages could force world vegetarianism...   14\n",
       "25541 2012-08-27  food shortages could force world vegetarianism...   24\n",
       "12108 2010-07-13       french mps vote ban islamic full veil public   14\n",
       "12140 2010-07-14       french mps vote ban islamic full veil public   21\n",
       "3456  2009-02-26     french professor sacked 9 11 conspiracy theory    7\n",
       "3476  2009-02-27     french professor sacked 9 11 conspiracy theory    2\n",
       "34861 2014-02-24  george brandis refuses back claim snowden put ...   19\n",
       "34934 2014-02-27  george brandis refuses back claim snowden put ...   17\n",
       "17249 2011-05-05  head cia admitted yesterday live video footage...    7\n",
       "17262 2011-05-05  head cia admitted yesterday live video footage...   20\n",
       "...          ...                                                ...  ...\n",
       "29327 2013-04-09  ontario putting end coal burning power plants ...   10\n",
       "33714 2013-12-16  ontario putting end coal burning power plants ...   22\n",
       "470   2008-09-04   pakistan reacts fury 20 die american attack soil   21\n",
       "452   2008-09-04   pakistan reacts fury 20 die american attack soil    3\n",
       "24203 2012-06-12          police bar 3 veiled women entering france   11\n",
       "24202 2012-06-12          police bar 3 veiled women entering france   10\n",
       "15792 2011-02-09         protest egypt takes turn workers go strike   23\n",
       "15787 2011-02-09         protest egypt takes turn workers go strike   18\n",
       "18275 2011-07-05                 putin gave nato right kill gaddafi    8\n",
       "17097 2011-04-27                 putin gave nato right kill gaddafi    5\n",
       "22019 2012-02-07  raf helicopter death revelation leads secret i...    2\n",
       "22102 2012-02-10  raf helicopter death revelation leads secret i...   10\n",
       "25609 2012-08-30  red cross halts pakistan aid wake doctor behea...   17\n",
       "25581 2012-08-29  red cross halts pakistan aid wake doctor behea...   14\n",
       "38532 2014-09-23       rhino poaching kingpin arrested south africa   15\n",
       "32189 2013-09-19       rhino poaching kingpin arrested south africa   22\n",
       "15789 2011-02-09             russia eliminates daylight saving time   20\n",
       "16601 2011-03-29             russia eliminates daylight saving time    7\n",
       "35083 2014-03-07  russian soldiers training canada given 24 hour...   16\n",
       "35077 2014-03-07  russian soldiers training canada given 24 hour...   10\n",
       "70    2008-08-12                     russias response georgia right   21\n",
       "98    2008-08-13                     russias response georgia right   24\n",
       "111   2008-08-14                     russias response georgia right   12\n",
       "7367  2009-10-08           saudis ask aid world cuts dependence oil   21\n",
       "7347  2009-10-08           saudis ask aid world cuts dependence oil    1\n",
       "6586  2009-08-25                    slaves today time human history   12\n",
       "6613  2009-08-26                    slaves today time human history   14\n",
       "6658  2009-08-28                    slaves today time human history    9\n",
       "34508 2014-02-03  south koreans drink twice much liquor russians...   16\n",
       "34526 2014-02-04  south koreans drink twice much liquor russians...    9\n",
       "33613 2013-12-10  state surveillance personal data theft say wor...   21\n",
       "33615 2013-12-10  state surveillance personal data theft say wor...   23\n",
       "4177  2009-04-08            success drug decriminalization portugal    3\n",
       "3732  2009-03-13            success drug decriminalization portugal    8\n",
       "12197 2010-07-19                 syria bans face veils universities    3\n",
       "12210 2010-07-19                 syria bans face veils universities   16\n",
       "176   2008-08-19  taliban forces kill 10 french soldiers raid us...    2\n",
       "189   2008-08-19  taliban forces kill 10 french soldiers raid us...   15\n",
       "27506 2012-12-20         un confirms hezbollah fighting assad syria   14\n",
       "27500 2012-12-20         un confirms hezbollah fighting assad syria    8\n",
       "20003 2011-10-11            un finds systematic torture afghanistan   11\n",
       "19969 2011-10-10            un finds systematic torture afghanistan    2\n",
       "3821  2009-03-18       un rights envoy sees israeli war crimes gaza   22\n",
       "3825  2009-03-19       un rights envoy sees israeli war crimes gaza    1\n",
       "35735 2014-04-14                 usa troops may sent eastern europe   18\n",
       "35679 2014-04-10                 usa troops may sent eastern europe   12\n",
       "48447 2016-04-21  watchdog says press freedom decline new era pr...    5\n",
       "48525 2016-04-26  watchdog says press freedom decline new era pr...    8\n",
       "14829 2010-12-15  wikileaks swedish government hid anti terror o...   10\n",
       "15026 2010-12-28  wikileaks swedish government hid anti terror o...    7\n",
       "\n",
       "[131 rows x 3 columns]"
      ]
     },
     "execution_count": 10,
     "metadata": {},
     "output_type": "execute_result"
    },
    {
     "name": "stdout",
     "output_type": "stream",
     "text": [
      "time: 88 ms\n"
     ]
    }
   ],
   "source": [
    "mask = RedditNews['News'].duplicated(keep=False)\n",
    "print(len(RedditNews[mask]))\n",
    "RedditNews[mask].sort_values('News')"
   ]
  },
  {
   "cell_type": "code",
   "execution_count": 11,
   "metadata": {},
   "outputs": [
    {
     "name": "stdout",
     "output_type": "stream",
     "text": [
      "time: 121 ms\n"
     ]
    }
   ],
   "source": [
    "RedditNews.drop_duplicates(subset=['News'], keep='first', inplace=True)"
   ]
  },
  {
   "cell_type": "code",
   "execution_count": 12,
   "metadata": {},
   "outputs": [
    {
     "data": {
      "text/plain": [
       "49651"
      ]
     },
     "execution_count": 12,
     "metadata": {},
     "output_type": "execute_result"
    },
    {
     "name": "stdout",
     "output_type": "stream",
     "text": [
      "time: 74 ms\n"
     ]
    }
   ],
   "source": [
    "len(RedditNews['News'])"
   ]
  },
  {
   "cell_type": "markdown",
   "metadata": {},
   "source": [
    "#### Exploratory Analysis\n",
    "\n",
    "To verify whether the preprocessing happened correctly, we’ll make a word cloud using the wordcloud package to get a visual representation of most common words. It is key to understanding the data and ensuring we are on the right track, and if any more preprocessing is necessary before training the model."
   ]
  },
  {
   "cell_type": "code",
   "execution_count": 13,
   "metadata": {},
   "outputs": [
    {
     "data": {
      "image/png": "[encoded data removed]",
      "text/plain": [
       "<PIL.Image.Image image mode=RGB size=400x200 at 0x20AC46B5E10>"
      ]
     },
     "execution_count": 13,
     "metadata": {},
     "output_type": "execute_result"
    },
    {
     "name": "stdout",
     "output_type": "stream",
     "text": [
      "time: 9.92 s\n"
     ]
    }
   ],
   "source": [
    "# Import the wordcloud library\n",
    "from wordcloud import WordCloud\n",
    "\n",
    "# Join the different processed titles together.\n",
    "long_string = ','.join(list(RedditNews['News'].values))\n",
    "\n",
    "# Create a WordCloud object\n",
    "wordcloud = WordCloud(background_color=\"white\", max_words=1000, contour_width=3, contour_color='steelblue')\n",
    "\n",
    "# Generate a word cloud\n",
    "wordcloud.generate(long_string)\n",
    "\n",
    "# Visualize the word cloud\n",
    "wordcloud.to_image()"
   ]
  },
  {
   "cell_type": "markdown",
   "metadata": {},
   "source": [
    "#### Prepare text for LDA analysis\n",
    "\n",
    "Next, let’s work to transform the textual data in a format that will serve as an input for training LDA model. We start by converting the documents into a simple vector representation (Bag of Words BOW). Next, we will convert a list of titles into lists of vectors, all with length equal to the vocabulary.\n",
    "\n",
    "We’ll then plot the ten most frequent words based on the outcome of this operation (the list of document vectors). As a check, these words should also occur in the word cloud."
   ]
  },
  {
   "cell_type": "code",
   "execution_count": 14,
   "metadata": {},
   "outputs": [
    {
     "data": {
      "image/png": "[encoded data removed]",
      "text/plain": [
       "<Figure size 1080x667.491 with 1 Axes>"
      ]
     },
     "metadata": {
      "needs_background": "light"
     },
     "output_type": "display_data"
    },
    {
     "name": "stdout",
     "output_type": "stream",
     "text": [
      "time: 9.74 s\n"
     ]
    }
   ],
   "source": [
    "# Load the library with the CountVectorizer method\n",
    "from sklearn.feature_extraction.text import CountVectorizer\n",
    "import numpy as np\n",
    "\n",
    "import matplotlib.pyplot as plt\n",
    "import seaborn as sns\n",
    "sns.set_style('whitegrid')\n",
    "%matplotlib inline\n",
    "\n",
    "# Helper function\n",
    "def plot_10_most_common_words(count_data, count_vectorizer):\n",
    "    import matplotlib.pyplot as plt\n",
    "    words = count_vectorizer.get_feature_names()\n",
    "    total_counts = np.zeros(len(words))\n",
    "    for t in count_data:\n",
    "        total_counts+=t.toarray()[0]\n",
    "    \n",
    "    count_dict = (zip(words, total_counts))\n",
    "    count_dict = sorted(count_dict, key=lambda x:x[1], reverse=True)[0:10]\n",
    "    words = [w[0] for w in count_dict]\n",
    "    counts = [w[1] for w in count_dict]\n",
    "    x_pos = np.arange(len(words)) \n",
    "    \n",
    "    plt.figure(2, figsize=(15, 15/1.6180))\n",
    "    plt.subplot(title='10 most common words')\n",
    "    sns.set_context(\"notebook\", font_scale=1.25, rc={\"lines.linewidth\": 2.5})\n",
    "    sns.barplot(x_pos, counts, palette='husl')\n",
    "    plt.xticks(x_pos, words, rotation=90) \n",
    "    plt.xlabel('words')\n",
    "    plt.ylabel('counts')\n",
    "    plt.show()\n",
    "\n",
    "# Initialise the count vectorizer with the English stop words\n",
    "count_vectorizer = CountVectorizer(stop_words='english')\n",
    "\n",
    "# Fit and transform the processed titles\n",
    "count_data = count_vectorizer.fit_transform(RedditNews['News'])\n",
    "\n",
    "# Visualise the 10 most common words\n",
    "plot_10_most_common_words(count_data, count_vectorizer)"
   ]
  },
  {
   "cell_type": "markdown",
   "metadata": {},
   "source": [
    "### Analyzing our LDA model\n",
    "\n",
    "Now that we have a trained model let’s visualize the topics for interpretability. To do so, we’ll use a popular visualization package, pyLDAvis which is designed to help interactively with:\n",
    "\n",
    "1. Better understanding and interpreting individual topics, and\n",
    "2. Better understanding the relationships between the topics.\n",
    "\n",
    "For (1), you can manually select each topic to view its top most frequent and/or “relevant” terms, using different values of the λ parameter. This can help when you’re trying to assign a human interpretable name or “meaning” to each topic.\n",
    "For (2), exploring the Intertopic Distance Plot can help you learn about how topics relate to each other, including potential higher-level structure between groups of topics."
   ]
  },
  {
   "cell_type": "code",
   "execution_count": 15,
   "metadata": {
    "collapsed": true,
    "jupyter": {
     "outputs_hidden": true
    }
   },
   "outputs": [
    {
     "name": "stdout",
     "output_type": "stream",
     "text": [
      "Error in callback <function LineWatcher.stop at 0x0000020AB6FBCEA0> (for post_run_cell):\n"
     ]
    },
    {
     "ename": "AssertionError",
     "evalue": "",
     "output_type": "error",
     "traceback": [
      "\u001b[1;31m---------------------------------------------------------------------------\u001b[0m",
      "\u001b[1;31mAssertionError\u001b[0m                            Traceback (most recent call last)",
      "\u001b[1;32m~\\Anaconda3\\envs\\nlp\\lib\\site-packages\\backcall\\backcall.py\u001b[0m in \u001b[0;36madapted\u001b[1;34m(*args, **kwargs)\u001b[0m\n\u001b[0;32m    102\u001b[0m                 \u001b[0mkwargs\u001b[0m\u001b[1;33m.\u001b[0m\u001b[0mpop\u001b[0m\u001b[1;33m(\u001b[0m\u001b[0mname\u001b[0m\u001b[1;33m)\u001b[0m\u001b[1;33m\u001b[0m\u001b[1;33m\u001b[0m\u001b[0m\n\u001b[0;32m    103\u001b[0m \u001b[1;31m#            print(args, kwargs, unmatched_pos, cut_positional, unmatched_kw)\u001b[0m\u001b[1;33m\u001b[0m\u001b[1;33m\u001b[0m\u001b[1;33m\u001b[0m\u001b[0m\n\u001b[1;32m--> 104\u001b[1;33m             \u001b[1;32mreturn\u001b[0m \u001b[0mcallback\u001b[0m\u001b[1;33m(\u001b[0m\u001b[1;33m*\u001b[0m\u001b[0margs\u001b[0m\u001b[1;33m,\u001b[0m \u001b[1;33m**\u001b[0m\u001b[0mkwargs\u001b[0m\u001b[1;33m)\u001b[0m\u001b[1;33m\u001b[0m\u001b[1;33m\u001b[0m\u001b[0m\n\u001b[0m\u001b[0;32m    105\u001b[0m \u001b[1;33m\u001b[0m\u001b[0m\n\u001b[0;32m    106\u001b[0m         \u001b[1;32mreturn\u001b[0m \u001b[0madapted\u001b[0m\u001b[1;33m\u001b[0m\u001b[1;33m\u001b[0m\u001b[0m\n",
      "\u001b[1;32m~\\Anaconda3\\envs\\nlp\\lib\\site-packages\\autotime.py\u001b[0m in \u001b[0;36mstop\u001b[1;34m(self)\u001b[0m\n\u001b[0;32m     23\u001b[0m         \u001b[1;32mif\u001b[0m \u001b[0mself\u001b[0m\u001b[1;33m.\u001b[0m\u001b[0mstart_time\u001b[0m\u001b[1;33m:\u001b[0m\u001b[1;33m\u001b[0m\u001b[1;33m\u001b[0m\u001b[0m\n\u001b[0;32m     24\u001b[0m             \u001b[0mdiff\u001b[0m \u001b[1;33m=\u001b[0m \u001b[0mtime\u001b[0m\u001b[1;33m.\u001b[0m\u001b[0mtime\u001b[0m\u001b[1;33m(\u001b[0m\u001b[1;33m)\u001b[0m \u001b[1;33m-\u001b[0m \u001b[0mself\u001b[0m\u001b[1;33m.\u001b[0m\u001b[0mstart_time\u001b[0m\u001b[1;33m\u001b[0m\u001b[1;33m\u001b[0m\u001b[0m\n\u001b[1;32m---> 25\u001b[1;33m             \u001b[1;32massert\u001b[0m \u001b[0mdiff\u001b[0m \u001b[1;33m>\u001b[0m \u001b[1;36m0\u001b[0m\u001b[1;33m\u001b[0m\u001b[1;33m\u001b[0m\u001b[0m\n\u001b[0m\u001b[0;32m     26\u001b[0m             \u001b[0mprint\u001b[0m\u001b[1;33m(\u001b[0m\u001b[1;34m'time: %s'\u001b[0m \u001b[1;33m%\u001b[0m \u001b[0mformat_delta\u001b[0m\u001b[1;33m(\u001b[0m\u001b[0mdiff\u001b[0m\u001b[1;33m)\u001b[0m\u001b[1;33m)\u001b[0m\u001b[1;33m\u001b[0m\u001b[1;33m\u001b[0m\u001b[0m\n\u001b[0;32m     27\u001b[0m \u001b[1;33m\u001b[0m\u001b[0m\n",
      "\u001b[1;31mAssertionError\u001b[0m: "
     ]
    }
   ],
   "source": [
    "# !pip install gensim\n",
    "# !pip install PyLDAvis\n",
    "# !pip install spacy\n",
    "# !python -m spacy download en_core_web_sm"
   ]
  },
  {
   "cell_type": "markdown",
   "metadata": {},
   "source": [
    "#### Tokenize words and further clean-up text\n",
    "Let’s tokenize each sentence into a list of words, removing punctuations and unnecessary characters altogether."
   ]
  },
  {
   "cell_type": "code",
   "execution_count": 16,
   "metadata": {},
   "outputs": [
    {
     "name": "stdout",
     "output_type": "stream",
     "text": [
      "['georgian', 'troops', 'retreat', 'osettain', 'capital', 'presumably', 'leaving', 'several', 'hundred', 'people', 'killed', 'video']\n",
      "time: 3.69 s\n"
     ]
    }
   ],
   "source": [
    "import gensim\n",
    "from gensim.utils import simple_preprocess\n",
    "\n",
    "def sent_to_words(sentences):\n",
    "    for sentence in sentences:\n",
    "        yield(gensim.utils.simple_preprocess(str(sentence), deacc=True))  # deacc=True removes punctuations\n",
    "\n",
    "data = RedditNews.News.values.tolist()\n",
    "data_words = list(sent_to_words(data))\n",
    "\n",
    "print(data_words[:1][0][:30])"
   ]
  },
  {
   "cell_type": "markdown",
   "metadata": {},
   "source": [
    "#### Creating Bigram and Trigram Models\n",
    "Bigrams are two words frequently occurring together in the document. Trigrams are 3 words frequently occurring. Some examples in our example are: 'back_bumper', 'oil_leakage', 'maryland_college_park' etc.\n",
    "\n",
    "Gensim's Phrases model can build and implement the bigrams, trigrams, quadgrams and more. The two important arguments to Phrases are min_count and threshold."
   ]
  },
  {
   "cell_type": "code",
   "execution_count": 17,
   "metadata": {},
   "outputs": [
    {
     "name": "stdout",
     "output_type": "stream",
     "text": [
      "time: 17.8 s\n"
     ]
    }
   ],
   "source": [
    "# Build the bigram and trigram models\n",
    "bigram = gensim.models.Phrases(data_words, min_count=5, threshold=100) # higher threshold fewer phrases.\n",
    "trigram = gensim.models.Phrases(bigram[data_words], threshold=100)  \n",
    "\n",
    "# Faster way to get a sentence clubbed as a trigram/bigram\n",
    "bigram_mod = gensim.models.phrases.Phraser(bigram)\n",
    "trigram_mod = gensim.models.phrases.Phraser(trigram)"
   ]
  },
  {
   "cell_type": "markdown",
   "metadata": {},
   "source": [
    "#### Remove Stopwords, Make Bigrams and Lemmatize\n",
    "The phrase models are ready. Let’s define the functions to remove the stopwords, make trigrams and lemmatization and call them sequentially."
   ]
  },
  {
   "cell_type": "code",
   "execution_count": 18,
   "metadata": {},
   "outputs": [
    {
     "name": "stdout",
     "output_type": "stream",
     "text": [
      "time: 4 ms\n"
     ]
    }
   ],
   "source": [
    "# NLTK Stop words\n",
    "import nltk\n",
    "# nltk.download('stopwords')\n",
    "from nltk.corpus import stopwords\n",
    "\n",
    "stop_words = stopwords.words('english')\n",
    "stop_words.extend(['from', 'subject', 're', 'edu', 'use'])"
   ]
  },
  {
   "cell_type": "code",
   "execution_count": 19,
   "metadata": {},
   "outputs": [
    {
     "name": "stdout",
     "output_type": "stream",
     "text": [
      "time: 999 ms\n"
     ]
    }
   ],
   "source": [
    "def remove_stopwords(texts):\n",
    "    return [[word for word in simple_preprocess(str(doc)) if word not in stop_words] for doc in texts]\n",
    "\n",
    "def make_bigrams(texts):\n",
    "    return [bigram_mod[doc] for doc in texts]\n",
    "\n",
    "def make_trigrams(texts):\n",
    "    return [trigram_mod[bigram_mod[doc]] for doc in texts]\n",
    "\n",
    "def lemmatization(texts, allowed_postags=['NOUN', 'ADJ', 'VERB', 'ADV']):\n",
    "    \"\"\"https://spacy.io/api/annotation\"\"\"\n",
    "    texts_out = []\n",
    "    for sent in texts:\n",
    "        doc = nlp(\" \".join(sent)) \n",
    "        texts_out.append([token.lemma_ for token in doc if token.pos_ in allowed_postags])\n",
    "    return texts_out\n",
    "\n",
    "import spacy\n",
    "\n",
    "# Initialize spacy 'en' model, keeping only tagger component (for efficiency)\n",
    "nlp = spacy.load(\"en_core_web_sm\", disable=['parser', 'ner'])\n"
   ]
  },
  {
   "cell_type": "code",
   "execution_count": 20,
   "metadata": {},
   "outputs": [
    {
     "data": {
      "text/plain": [
       "9443"
      ]
     },
     "metadata": {},
     "output_type": "display_data"
    },
    {
     "data": {
      "text/plain": [
       "40208"
      ]
     },
     "metadata": {},
     "output_type": "display_data"
    },
    {
     "name": "stdout",
     "output_type": "stream",
     "text": [
      "time: 23 ms\n"
     ]
    }
   ],
   "source": [
    "RedditNews_copy = RedditNews.copy()\n",
    "\n",
    "Org_RedditNews = RedditNews_copy[RedditNews_copy['Date']>'2014-12-31'].copy()\n",
    "\n",
    "RedditNews = RedditNews_copy[RedditNews_copy['Date']<='2014-12-31'].copy()\n",
    "\n",
    "display(\n",
    "len(Org_RedditNews),\n",
    "len(RedditNews))\n",
    "    \n",
    "# Convert to tokens\n",
    "data = RedditNews.News.values.tolist()\n"
   ]
  },
  {
   "cell_type": "code",
   "execution_count": 21,
   "metadata": {},
   "outputs": [
    {
     "name": "stdout",
     "output_type": "stream",
     "text": [
      "['georgian', 'troop', 'retreat', 'osettain', 'capital', 'presumably', 'leave', 'several_hundred', 'people', 'kill', 'video']\n",
      "time: 2min 42s\n"
     ]
    }
   ],
   "source": [
    "def prepare_text_for_lda(text):\n",
    "    data_words = list(sent_to_words(text))\n",
    "\n",
    "    # Remove Stop Words\n",
    "    data_words_nostops = remove_stopwords(data_words)\n",
    "\n",
    "    # Form Bigrams\n",
    "    data_words_bigrams = make_bigrams(data_words_nostops)\n",
    "\n",
    "\n",
    "    # Do lemmatization keeping only noun, adj, vb, adv\n",
    "    data_lemmatized = lemmatization(data_words_bigrams, allowed_postags=['NOUN', 'ADJ', 'VERB', 'ADV'])\n",
    "    \n",
    "    return data_lemmatized\n",
    "\n",
    "data_lemmatized = prepare_text_for_lda(data)\n",
    "\n",
    "print(data_lemmatized[:1][0][:30])"
   ]
  },
  {
   "cell_type": "markdown",
   "metadata": {},
   "source": [
    "### Data transformation: Corpus and Dictionary\n",
    "The two main inputs to the LDA topic model are the dictionary(id2word) and the corpus. Let’s create them.\n",
    "First, we are creating a dictionary from the data, then convert to bag-of-words corpus and save the dictionary and corpus for future use."
   ]
  },
  {
   "cell_type": "code",
   "execution_count": 22,
   "metadata": {},
   "outputs": [
    {
     "name": "stdout",
     "output_type": "stream",
     "text": [
      "23895\n",
      "8090\n",
      "[(0, 1), (1, 1), (2, 1), (3, 1), (4, 1), (5, 1), (6, 1), (7, 1), (8, 1)]\n",
      "time: 1.75 s\n"
     ]
    }
   ],
   "source": [
    "import gensim.corpora as corpora\n",
    "\n",
    "# Create Dictionary\n",
    "id2word = corpora.Dictionary(data_lemmatized)\n",
    "print(len(id2word))\n",
    "id2word.filter_extremes(no_below=5, no_above=0.5)\n",
    "print(len(id2word))\n",
    "\n",
    "\n",
    "# Create Corpus\n",
    "texts = data_lemmatized\n",
    "\n",
    "# Term Document Frequency\n",
    "corpus = [id2word.doc2bow(text) for text in texts]\n",
    "\n",
    "# View\n",
    "print(corpus[:1][0][:30])"
   ]
  },
  {
   "cell_type": "code",
   "execution_count": 23,
   "metadata": {},
   "outputs": [
    {
     "data": {
      "text/plain": [
       "[[('capital', 1),\n",
       "  ('georgian', 1),\n",
       "  ('kill', 1),\n",
       "  ('leave', 1),\n",
       "  ('people', 1),\n",
       "  ('retreat', 1),\n",
       "  ('several_hundred', 1),\n",
       "  ('troop', 1),\n",
       "  ('video', 1)]]"
      ]
     },
     "execution_count": 23,
     "metadata": {},
     "output_type": "execute_result"
    },
    {
     "name": "stdout",
     "output_type": "stream",
     "text": [
      "time: 8 ms\n"
     ]
    }
   ],
   "source": [
    "# Human readable format of corpus (term-frequency)\n",
    "[[(id2word[id], freq) for id, freq in cp] for cp in corpus[:1]]"
   ]
  },
  {
   "cell_type": "code",
   "execution_count": 24,
   "metadata": {},
   "outputs": [
    {
     "name": "stdout",
     "output_type": "stream",
     "text": [
      "time: 317 ms\n"
     ]
    }
   ],
   "source": [
    "import pickle\n",
    "pickle.dump(corpus, open('corpus.pkl', 'wb'))\n",
    "id2word.save('dictionary.gensim')"
   ]
  },
  {
   "cell_type": "markdown",
   "metadata": {},
   "source": [
    "### Building the base topic model\n",
    "We have everything required to train the base LDA model. In addition to the corpus and dictionary, you need to provide the number of topics as well. Apart from that, alpha and eta are hyperparameters that affect sparsity of the topics. According to the Gensim docs, both defaults to 1.0/num_topics prior (we'll use default for the base model).\n",
    "\n",
    "chunksize controls how many documents are processed at a time in the training algorithm. Increasing chunksize will speed up training, at least as long as the chunk of documents easily fit into memory.\n",
    "\n",
    "passes controls how often we train the model on the entire corpus (set to 10). Another word for passes might be \"epochs\". iterations is somewhat technical, but essentially it controls how often we repeat a particular loop over each document. It is important to set the number of \"passes\" and \"iterations\" high enough."
   ]
  },
  {
   "cell_type": "code",
   "execution_count": 25,
   "metadata": {},
   "outputs": [
    {
     "name": "stdout",
     "output_type": "stream",
     "text": [
      "time: 2min 36s\n"
     ]
    }
   ],
   "source": [
    "NUM_TOPICS = 5\n",
    "\n",
    "# Build LDA model\n",
    "lda_model = gensim.models.LdaMulticore(corpus=corpus,\n",
    "                                       id2word=id2word,\n",
    "                                       num_topics=NUM_TOPICS, \n",
    "                                       random_state=100,\n",
    "                                       chunksize=2000,\n",
    "                                       passes=15,\n",
    "                                       per_word_topics=True,\n",
    "                                       workers = 4)\n",
    "\n",
    "# lda_model.save('model5.gensim')"
   ]
  },
  {
   "cell_type": "code",
   "execution_count": 26,
   "metadata": {},
   "outputs": [
    {
     "name": "stdout",
     "output_type": "stream",
     "text": [
      "Topics found via LDA:\n",
      "[(0,\n",
      "  '0.014*\"world\" + 0.009*\"government\" + 0.008*\"law\" + 0.007*\"new\" + '\n",
      "  '0.007*\"oil\" + 0.007*\"internet\" + 0.006*\"china\" + 0.006*\"canada\" + '\n",
      "  '0.006*\"say\" + 0.006*\"country\"'),\n",
      " (1,\n",
      "  '0.013*\"year\" + 0.012*\"man\" + 0.012*\"woman\" + 0.009*\"find\" + 0.009*\"police\" '\n",
      "  '+ 0.007*\"child\" + 0.007*\"death\" + 0.006*\"people\" + 0.006*\"say\" + '\n",
      "  '0.006*\"jail\"'),\n",
      " (2,\n",
      "  '0.014*\"say\" + 0.012*\"usa\" + 0.008*\"country\" + 0.007*\"israel\" + '\n",
      "  '0.007*\"state\" + 0.006*\"call\" + 0.006*\"government\" + 0.005*\"bank\" + '\n",
      "  '0.005*\"president\" + 0.005*\"world\"'),\n",
      " (3,\n",
      "  '0.019*\"kill\" + 0.014*\"attack\" + 0.012*\"usa\" + 0.011*\"police\" + '\n",
      "  '0.009*\"israeli\" + 0.009*\"gaza\" + 0.008*\"say\" + 0.008*\"iraq\" + 0.007*\"egypt\" '\n",
      "  '+ 0.007*\"pakistan\"'),\n",
      " (4,\n",
      "  '0.019*\"russia\" + 0.017*\"usa\" + 0.015*\"china\" + 0.014*\"russian\" + '\n",
      "  '0.011*\"say\" + 0.011*\"japan\" + 0.010*\"nuclear\" + 0.010*\"north_korea\" + '\n",
      "  '0.009*\"ukraine\" + 0.008*\"iran\"')]\n",
      "time: 96 ms\n"
     ]
    }
   ],
   "source": [
    "print(\"Topics found via LDA:\")\n",
    "\n",
    "from pprint import pprint\n",
    "\n",
    "# Print the Keyword in the 10 topics\n",
    "pprint(lda_model.print_topics())\n",
    "doc_lda = lda_model[corpus]"
   ]
  },
  {
   "cell_type": "markdown",
   "metadata": {},
   "source": [
    "### What is Topic Coherence?\n",
    "Perplexity is often used as an example of an intrinsic evaluation measure. It comes from the language modeling community and aims to capture how surprised a model is of new data it has not seen before. It is measured as the normalized log-likelihood of a held-out test set.\n",
    "\n",
    "Focussing on the log-likelihood part, you can think of the perplexity metric as measuring how probable some new unseen data is given the model that was learned earlier. That is to say, how well does the model represent or reproduce the statistics of the held-out data.\n",
    "\n",
    "However, past research has shown that predictive likelihood (or equivalently, perplexity) and human judgment are often not correlated, and even sometimes slightly anti-correlated. And that served as a motivation for more work trying to model the human judgment, and thus Topic Coherence.\n",
    "\n",
    "The topic coherence concept combines a number of papers into one framework that allows evaluating the coherence of topics inferred by a topic model. But,\n",
    "\n",
    "#### What is topic coherence?\n",
    "Topic Coherence measures score a single topic by measuring the degree of semantic similarity between high scoring words in the topic. These measurements help distinguish between topics that are semantically interpretable topics and topics that are artifacts of statistical inference. But,\n",
    "\n",
    "#### What is coherence?\n",
    "A set of statements or facts is said to be coherent, if they support each other. Thus, a coherent fact set can be interpreted in a context that covers all or most of the facts. An example of a coherent fact set is \"the game is a team sport\", \"the game is played with a ball\", \"the game demands great physical efforts\"\n",
    "\n",
    "### Coherence Measures\n",
    "- C_v measure is based on a sliding window, one-set segmentation of the top words and an indirect confirmation measure that uses normalized pointwise mutual information (NPMI) and the cosine similarity\n",
    "- C_p is based on a sliding window, one-preceding segmentation of the top words and the confirmation measure of Fitelson's coherence\n",
    "- C_uci measure is based on a sliding window and the pointwise mutual information (PMI) of all word pairs of the given top words\n",
    "- C_umass is based on document cooccurrence counts, a one-preceding segmentation and a logarithmic conditional probability as confirmation measure\n",
    "- C_npmi is an enhanced version of the C_uci coherence using the normalized pointwise mutual information (NPMI)\n",
    "- C_a is baseed on a context window, a pairwise comparison of the top words and an indirect confirmation measure that uses normalized pointwise mutual information (NPMI) and the cosine similarity"
   ]
  },
  {
   "cell_type": "markdown",
   "metadata": {},
   "source": [
    "#### Compute Model Perplexity and Coherence Score\n",
    "Let's calculate the baseline coherence score"
   ]
  },
  {
   "cell_type": "code",
   "execution_count": 27,
   "metadata": {
    "scrolled": true
   },
   "outputs": [
    {
     "name": "stdout",
     "output_type": "stream",
     "text": [
      "Coherence Score:  0.2504434025781571\n",
      "\n",
      "Perplexity:  -8.00624575855658\n",
      "time: 23.6 s\n"
     ]
    }
   ],
   "source": [
    "from gensim.models import CoherenceModel\n",
    "\n",
    "# Compute Coherence Score\n",
    "coherence_model_lda = CoherenceModel(model=lda_model, texts=data_lemmatized, dictionary=id2word, coherence='c_v')\n",
    "coherence_lda = coherence_model_lda.get_coherence()\n",
    "print('Coherence Score: ', coherence_lda)\n",
    "\n",
    "# Compute Perplexity\n",
    "print('\\nPerplexity: ', lda_model.log_perplexity(corpus))  # a measure of how good the model is. lower the better.\n"
   ]
  },
  {
   "cell_type": "markdown",
   "metadata": {},
   "source": [
    "### Hyperparameter tuning\n",
    "First, let's differentiate between model hyperparameters and model parameters :\n",
    "\n",
    "- Model hyperparameters can be thought of as settings for a machine learning algorithm that are tuned by the data scientist before training. Examples would be the number of trees in the random forest, or in our case, number of topics K\n",
    "- Model parameters can be thought of as what the model learns during training, such as the weights for each word in a given topic.\n",
    "\n",
    "Now that we have the baseline coherence score for the default LDA model, let's perform a series of sensitivity tests to help determine the following model hyperparameters:\n",
    "\n",
    "- Number of Topics (K)\n",
    "- Dirichlet hyperparameter alpha: Document-Topic Density\n",
    "- Dirichlet hyperparameter beta: Word-Topic Density\n",
    "We'll perform these tests in sequence, one parameter at a time by keeping others constant and run them over the two difference validation corpus sets. We'll use C_v as our choice of metric for performance comparison"
   ]
  },
  {
   "cell_type": "code",
   "execution_count": 28,
   "metadata": {},
   "outputs": [
    {
     "name": "stdout",
     "output_type": "stream",
     "text": [
      "time: 1e+03 µs\n"
     ]
    }
   ],
   "source": [
    "# supporting function\n",
    "def compute_coherence_values(corpus, dictionary, k, a, b):\n",
    "    \n",
    "    lda_model = gensim.models.LdaMulticore(corpus=corpus,\n",
    "                                           id2word=dictionary,\n",
    "                                           num_topics=k, \n",
    "                                           random_state=100,\n",
    "                                           chunksize=2000,\n",
    "                                           passes=15,\n",
    "                                           alpha=a,\n",
    "                                           eta=b,\n",
    "                                           workers = 4)\n",
    "    \n",
    "    coherence_model_lda = CoherenceModel(model=lda_model, texts=data_lemmatized, dictionary=id2word, coherence='c_v')\n",
    "    \n",
    "    return coherence_model_lda.get_coherence()"
   ]
  },
  {
   "cell_type": "markdown",
   "metadata": {},
   "source": [
    "Let's call the function, and iterate it over the range of topics, alpha, and beta parameter values\n"
   ]
  },
  {
   "cell_type": "code",
   "execution_count": 31,
   "metadata": {},
   "outputs": [
    {
     "name": "stderr",
     "output_type": "stream",
     "text": [
      "100%|█████████████████████████████████████████████████████████████████████████████| 240/240 [9:55:04<00:00, 177.07s/it]\n"
     ]
    },
    {
     "name": "stdout",
     "output_type": "stream",
     "text": [
      "time: 9h 55min 4s\n"
     ]
    }
   ],
   "source": [
    "import numpy as np\n",
    "import tqdm\n",
    "\n",
    "grid = {}\n",
    "grid['Validation_Set'] = {}\n",
    "\n",
    "# Topics range\n",
    "min_topics = 4\n",
    "max_topics = 12\n",
    "step_size = 1\n",
    "topics_range = range(min_topics, max_topics, step_size)\n",
    "\n",
    "# Alpha parameter\n",
    "alpha = list(np.arange(0.01, 1, 0.3))\n",
    "alpha.append('symmetric')\n",
    "alpha.append('asymmetric')\n",
    "\n",
    "# Beta parameter\n",
    "beta = list(np.arange(0.01, 1, 0.3))\n",
    "beta.append('symmetric')\n",
    "\n",
    "# Validation sets\n",
    "num_of_docs = len(corpus)\n",
    "corpus_sets = [# gensim.utils.ClippedCorpus(corpus, num_of_docs*0.25), \n",
    "               # gensim.utils.ClippedCorpus(corpus, num_of_docs*0.5), \n",
    "               # gensim.utils.ClippedCorpus(corpus, num_of_docs*0.75), \n",
    "               corpus]\n",
    "\n",
    "corpus_title = ['100% Corpus']\n",
    "\n",
    "model_results = {'Validation_Set': [],\n",
    "                 'Topics': [],\n",
    "                 'Alpha': [],\n",
    "                 'Beta': [],\n",
    "                 'Coherence': []\n",
    "                }\n",
    "\n",
    "# Can take a long time to run\n",
    "if 1 == 1:\n",
    "    pbar = tqdm.tqdm(total=(len(beta)*len(alpha)*len(topics_range)*len(corpus_title)))\n",
    "    \n",
    "    # iterate through validation corpuses\n",
    "    for i in range(len(corpus_sets)):\n",
    "        # iterate through number of topics\n",
    "        for k in topics_range:\n",
    "            # iterate through alpha values\n",
    "            for a in alpha:\n",
    "                # iterare through beta values\n",
    "                for b in beta:\n",
    "                    # get the coherence score for the given parameters\n",
    "                    cv = compute_coherence_values(corpus=corpus_sets[i], dictionary=id2word, \n",
    "                                                  k=k, a=a, b=b)\n",
    "                    # Save the model results\n",
    "                    model_results['Validation_Set'].append(corpus_title[i])\n",
    "                    model_results['Topics'].append(k)\n",
    "                    model_results['Alpha'].append(a)\n",
    "                    model_results['Beta'].append(b)\n",
    "                    model_results['Coherence'].append(cv)\n",
    "                    \n",
    "                    pbar.update(1)\n",
    "    pd.DataFrame(model_results).to_csv('lda_tuning_results2.csv', index=False)\n",
    "    pbar.close()"
   ]
  },
  {
   "cell_type": "markdown",
   "metadata": {},
   "source": [
    "### Final Model Training\n",
    "Based on external evaluation (Code to be added from Excel based analysis), train the final model\n",
    "\n"
   ]
  },
  {
   "cell_type": "code",
   "execution_count": 29,
   "metadata": {
    "scrolled": true
   },
   "outputs": [
    {
     "name": "stdout",
     "output_type": "stream",
     "text": [
      "time: 2min 33s\n"
     ]
    }
   ],
   "source": [
    "NUM_TOPICS = 10\n",
    "lda_model_best = gensim.models.LdaMulticore(corpus=corpus,\n",
    "                                           id2word=id2word,\n",
    "                                           num_topics=NUM_TOPICS,\n",
    "                                           random_state=100,\n",
    "                                           chunksize=2000,\n",
    "                                           passes=15,\n",
    "                                           alpha='asymmetric',\n",
    "                                           eta=0.61,\n",
    "                                           workers = 4)\n",
    "\n"
   ]
  },
  {
   "cell_type": "code",
   "execution_count": 30,
   "metadata": {},
   "outputs": [
    {
     "name": "stdout",
     "output_type": "stream",
     "text": [
      "[(0,\n",
      "  '0.013*\"government\" + 0.011*\"usa\" + 0.011*\"russia\" + 0.009*\"law\" + '\n",
      "  '0.008*\"ukraine\" + 0.007*\"new\" + 0.007*\"say\" + 0.007*\"country\" + '\n",
      "  '0.006*\"canada\" + 0.006*\"internet\"'),\n",
      " (1,\n",
      "  '0.016*\"woman\" + 0.016*\"year\" + 0.015*\"man\" + 0.012*\"find\" + 0.011*\"death\" + '\n",
      "  '0.011*\"child\" + 0.008*\"years_old\" + 0.008*\"girl\" + 0.007*\"die\" + '\n",
      "  '0.007*\"kill\"'),\n",
      " (2,\n",
      "  '0.014*\"israel\" + 0.012*\"say\" + 0.010*\"palestinian\" + 0.010*\"muslim\" + '\n",
      "  '0.009*\"ban\" + 0.009*\"israeli\" + 0.008*\"state\" + 0.007*\"right\" + 0.007*\"gay\" '\n",
      "  '+ 0.006*\"usa\"'),\n",
      " (3,\n",
      "  '0.032*\"kill\" + 0.026*\"attack\" + 0.018*\"gaza\" + 0.016*\"israeli\" + '\n",
      "  '0.016*\"egypt\" + 0.013*\"military\" + 0.011*\"israel\" + 0.011*\"army\" + '\n",
      "  '0.010*\"soldier\" + 0.009*\"egyptian\"'),\n",
      " (4,\n",
      "  '0.024*\"usa\" + 0.016*\"north_korea\" + 0.016*\"syria\" + 0.016*\"nuclear\" + '\n",
      "  '0.014*\"japan\" + 0.012*\"iran\" + 0.012*\"say\" + 0.010*\"south\" + 0.010*\"syrian\" '\n",
      "  '+ 0.009*\"russia\"'),\n",
      " (5,\n",
      "  '0.038*\"police\" + 0.021*\"protest\" + 0.014*\"protester\" + 0.010*\"people\" + '\n",
      "  '0.010*\"city\" + 0.009*\"arrest\" + 0.009*\"fire\" + 0.009*\"london\" + '\n",
      "  '0.007*\"officer\" + 0.007*\"riot\"'),\n",
      " (6,\n",
      "  '0.016*\"world\" + 0.010*\"china\" + 0.009*\"year\" + 0.008*\"bank\" + 0.007*\"say\" + '\n",
      "  '0.006*\"new\" + 0.006*\"country\" + 0.005*\"water\" + 0.005*\"food\" + '\n",
      "  '0.005*\"global\"'),\n",
      " (7,\n",
      "  '0.037*\"china\" + 0.035*\"chinese\" + 0.009*\"protest\" + 0.006*\"hong_kong\" + '\n",
      "  '0.005*\"ban\" + 0.005*\"worker\" + 0.005*\"government\" + 0.004*\"founder\" + '\n",
      "  '0.004*\"spread\" + 0.004*\"apple\"'),\n",
      " (8,\n",
      "  '0.028*\"president\" + 0.023*\"say\" + 0.018*\"war\" + 0.014*\"leader\" + '\n",
      "  '0.013*\"russian\" + 0.011*\"former\" + 0.010*\"minister\" + 0.010*\"call\" + '\n",
      "  '0.009*\"usa\" + 0.009*\"prime_minister\"'),\n",
      " (9,\n",
      "  '0.022*\"usa\" + 0.016*\"pakistan\" + 0.012*\"video\" + 0.011*\"release\" + '\n",
      "  '0.010*\"torture\" + 0.010*\"secret\" + 0.010*\"arrest\" + 0.009*\"afghanistan\" + '\n",
      "  '0.009*\"taliban\" + 0.008*\"wikileak\"')]\n",
      "time: 182 ms\n"
     ]
    }
   ],
   "source": [
    "from pprint import pprint\n",
    "\n",
    "# Print the Keyword in the 10 topics\n",
    "pprint(lda_model_best.print_topics())\n",
    "doc_lda = lda_model_best[corpus]"
   ]
  },
  {
   "cell_type": "markdown",
   "metadata": {},
   "source": [
    "###  Finding the dominant of topic in each sentence"
   ]
  },
  {
   "cell_type": "code",
   "execution_count": 31,
   "metadata": {},
   "outputs": [
    {
     "name": "stdout",
     "output_type": "stream",
     "text": [
      "time: 1.49 s\n"
     ]
    }
   ],
   "source": [
    "data = RedditNews.News.values\n",
    "Dates = RedditNews.Date.values\n",
    "Top = RedditNews.Top.values"
   ]
  },
  {
   "cell_type": "code",
   "execution_count": 32,
   "metadata": {},
   "outputs": [
    {
     "name": "stdout",
     "output_type": "stream",
     "text": [
      "time: 3min 4s\n"
     ]
    }
   ],
   "source": [
    "import numpy as np\n",
    "\n",
    "def format_topics_sentences(ldamodel, corpus, texts, dates =[] , top = [], domin_topic=0):\n",
    "    # Init output\n",
    "    sent_topics_df = pd.DataFrame()\n",
    "\n",
    "    # Get main topic in each document\n",
    "    for i, row in enumerate(ldamodel[corpus]):\n",
    "        row = sorted(row, key=lambda x: (x[1]), reverse=True)\n",
    "        \n",
    "        # Get the Dominant topic, Perc Contribution and Keywords for each document\n",
    "        for j, (topic_num, prop_topic) in enumerate(row):\n",
    "            if j == domin_topic:  # => dominant topic\n",
    "                wp = ldamodel.show_topic(topic_num)\n",
    "                topic_keywords = \", \".join([word for word, prop in wp])\n",
    "                sent_topics_df = sent_topics_df.append(pd.Series([int(topic_num), round(prop_topic,4), topic_keywords]), ignore_index=True)\n",
    "            else:\n",
    "                break\n",
    "    \n",
    "    sent_topics_df.columns = ['Dominant_Topic', 'Perc_Contribution', 'Topic_Keywords']\n",
    "\n",
    "    # Add original text to the end of the output\n",
    "    contents = pd.Series(texts)\n",
    "    dates_nw = pd.Series(dates)\n",
    "    top_nw = pd.Series(top)\n",
    "\n",
    "    sent_topics_df = pd.concat([sent_topics_df, contents,dates_nw,top_nw], axis=1)\n",
    "    return(sent_topics_df)\n",
    "\n",
    "\n",
    "df_topic_sents_keywords_first = format_topics_sentences(ldamodel=lda_model_best, corpus=corpus, texts=data, \n",
    "                                                        dates=Dates,\n",
    "                                                        top=Top)\n",
    "    \n"
   ]
  },
  {
   "cell_type": "code",
   "execution_count": 33,
   "metadata": {
    "scrolled": true
   },
   "outputs": [
    {
     "data": {
      "text/html": [
       "<div>\n",
       "<style scoped>\n",
       "    .dataframe tbody tr th:only-of-type {\n",
       "        vertical-align: middle;\n",
       "    }\n",
       "\n",
       "    .dataframe tbody tr th {\n",
       "        vertical-align: top;\n",
       "    }\n",
       "\n",
       "    .dataframe thead th {\n",
       "        text-align: right;\n",
       "    }\n",
       "</style>\n",
       "<table border=\"1\" class=\"dataframe\">\n",
       "  <thead>\n",
       "    <tr style=\"text-align: right;\">\n",
       "      <th></th>\n",
       "      <th>Document_No</th>\n",
       "      <th>Dominant_Topic</th>\n",
       "      <th>Topic_Perc_Contrib</th>\n",
       "      <th>Keywords</th>\n",
       "      <th>Text</th>\n",
       "      <th>Date</th>\n",
       "      <th>Top</th>\n",
       "    </tr>\n",
       "  </thead>\n",
       "  <tbody>\n",
       "    <tr>\n",
       "      <th>0</th>\n",
       "      <td>13715</td>\n",
       "      <td>3.0</td>\n",
       "      <td>0.6966</td>\n",
       "      <td>kill, attack, gaza, israeli, egypt, military, ...</td>\n",
       "      <td>georgian troops retreat osettain capital presu...</td>\n",
       "      <td>2008-08-08</td>\n",
       "      <td>1</td>\n",
       "    </tr>\n",
       "    <tr>\n",
       "      <th>1</th>\n",
       "      <td>10848</td>\n",
       "      <td>1.0</td>\n",
       "      <td>0.5377</td>\n",
       "      <td>woman, year, man, find, death, child, years_ol...</td>\n",
       "      <td>enemy combatent trials nothing sham salim hama...</td>\n",
       "      <td>2008-08-08</td>\n",
       "      <td>2</td>\n",
       "    </tr>\n",
       "    <tr>\n",
       "      <th>2</th>\n",
       "      <td>5220</td>\n",
       "      <td>0.0</td>\n",
       "      <td>0.9202</td>\n",
       "      <td>government, usa, russia, law, ukraine, new, sa...</td>\n",
       "      <td>breaking georgia invades south ossetia russia ...</td>\n",
       "      <td>2008-08-08</td>\n",
       "      <td>3</td>\n",
       "    </tr>\n",
       "    <tr>\n",
       "      <th>3</th>\n",
       "      <td>298</td>\n",
       "      <td>4.0</td>\n",
       "      <td>0.8982</td>\n",
       "      <td>usa, north_korea, syria, nuclear, japan, iran,...</td>\n",
       "      <td>150 russian tanks entered south ossetia whilst...</td>\n",
       "      <td>2008-08-08</td>\n",
       "      <td>4</td>\n",
       "    </tr>\n",
       "    <tr>\n",
       "      <th>4</th>\n",
       "      <td>37991</td>\n",
       "      <td>0.0</td>\n",
       "      <td>0.8406</td>\n",
       "      <td>government, usa, russia, law, ukraine, new, sa...</td>\n",
       "      <td>usa prep georgia war russia</td>\n",
       "      <td>2008-08-08</td>\n",
       "      <td>5</td>\n",
       "    </tr>\n",
       "  </tbody>\n",
       "</table>\n",
       "</div>"
      ],
      "text/plain": [
       "   Document_No  Dominant_Topic  Topic_Perc_Contrib  \\\n",
       "0        13715             3.0              0.6966   \n",
       "1        10848             1.0              0.5377   \n",
       "2         5220             0.0              0.9202   \n",
       "3          298             4.0              0.8982   \n",
       "4        37991             0.0              0.8406   \n",
       "\n",
       "                                            Keywords  \\\n",
       "0  kill, attack, gaza, israeli, egypt, military, ...   \n",
       "1  woman, year, man, find, death, child, years_ol...   \n",
       "2  government, usa, russia, law, ukraine, new, sa...   \n",
       "3  usa, north_korea, syria, nuclear, japan, iran,...   \n",
       "4  government, usa, russia, law, ukraine, new, sa...   \n",
       "\n",
       "                                                Text       Date  Top  \n",
       "0  georgian troops retreat osettain capital presu... 2008-08-08    1  \n",
       "1  enemy combatent trials nothing sham salim hama... 2008-08-08    2  \n",
       "2  breaking georgia invades south ossetia russia ... 2008-08-08    3  \n",
       "3  150 russian tanks entered south ossetia whilst... 2008-08-08    4  \n",
       "4                        usa prep georgia war russia 2008-08-08    5  "
      ]
     },
     "execution_count": 33,
     "metadata": {},
     "output_type": "execute_result"
    },
    {
     "name": "stdout",
     "output_type": "stream",
     "text": [
      "time: 122 ms\n"
     ]
    }
   ],
   "source": [
    "# Format\n",
    "df_dominant_topic_first = df_topic_sents_keywords_first.reset_index()\n",
    "df_dominant_topic_first.columns = ['Document_No', 'Dominant_Topic', 'Topic_Perc_Contrib', 'Keywords', 'Text','Date','Top']\n",
    "df_dominant_topic_first[\"Document_No\"] = df_dominant_topic_first.groupby([\"Text\",\"Date\",\"Top\"]).grouper.group_info[0]\n",
    "\n",
    "# Show\n",
    "df_dominant_topic_first.head(5)"
   ]
  },
  {
   "cell_type": "markdown",
   "metadata": {},
   "source": [
    "### Find the most representative document for each topic"
   ]
  },
  {
   "cell_type": "code",
   "execution_count": 34,
   "metadata": {
    "scrolled": true
   },
   "outputs": [
    {
     "data": {
      "text/html": [
       "<div>\n",
       "<style scoped>\n",
       "    .dataframe tbody tr th:only-of-type {\n",
       "        vertical-align: middle;\n",
       "    }\n",
       "\n",
       "    .dataframe tbody tr th {\n",
       "        vertical-align: top;\n",
       "    }\n",
       "\n",
       "    .dataframe thead th {\n",
       "        text-align: right;\n",
       "    }\n",
       "</style>\n",
       "<table border=\"1\" class=\"dataframe\">\n",
       "  <thead>\n",
       "    <tr style=\"text-align: right;\">\n",
       "      <th></th>\n",
       "      <th>Topic_Num</th>\n",
       "      <th>Topic_Perc_Contrib</th>\n",
       "      <th>Keywords</th>\n",
       "      <th>Text</th>\n",
       "      <th>Date</th>\n",
       "      <th>Top</th>\n",
       "    </tr>\n",
       "  </thead>\n",
       "  <tbody>\n",
       "    <tr>\n",
       "      <th>0</th>\n",
       "      <td>0.0</td>\n",
       "      <td>0.9743</td>\n",
       "      <td>government, usa, russia, law, ukraine, new, sa...</td>\n",
       "      <td>tasmania forest threatened coalition govt push...</td>\n",
       "      <td>2013-12-23</td>\n",
       "      <td>15</td>\n",
       "    </tr>\n",
       "    <tr>\n",
       "      <th>1</th>\n",
       "      <td>1.0</td>\n",
       "      <td>0.9715</td>\n",
       "      <td>woman, year, man, find, death, child, years_ol...</td>\n",
       "      <td>outrage grows india gang rape bus hours long g...</td>\n",
       "      <td>2012-12-19</td>\n",
       "      <td>5</td>\n",
       "    </tr>\n",
       "    <tr>\n",
       "      <th>2</th>\n",
       "      <td>2.0</td>\n",
       "      <td>0.9684</td>\n",
       "      <td>israel, say, palestinian, muslim, ban, israeli...</td>\n",
       "      <td>truth 88 openly nazi symbols swastika banned g...</td>\n",
       "      <td>2011-06-28</td>\n",
       "      <td>16</td>\n",
       "    </tr>\n",
       "    <tr>\n",
       "      <th>3</th>\n",
       "      <td>3.0</td>\n",
       "      <td>0.9638</td>\n",
       "      <td>kill, attack, gaza, israeli, egypt, military, ...</td>\n",
       "      <td>egyptian authorities tuesday ordered residents...</td>\n",
       "      <td>2014-10-29</td>\n",
       "      <td>19</td>\n",
       "    </tr>\n",
       "    <tr>\n",
       "      <th>4</th>\n",
       "      <td>4.0</td>\n",
       "      <td>0.9685</td>\n",
       "      <td>usa, north_korea, syria, nuclear, japan, iran,...</td>\n",
       "      <td>china says alert japan dispatched fighter jets...</td>\n",
       "      <td>2012-12-26</td>\n",
       "      <td>13</td>\n",
       "    </tr>\n",
       "  </tbody>\n",
       "</table>\n",
       "</div>"
      ],
      "text/plain": [
       "   Topic_Num  Topic_Perc_Contrib  \\\n",
       "0        0.0              0.9743   \n",
       "1        1.0              0.9715   \n",
       "2        2.0              0.9684   \n",
       "3        3.0              0.9638   \n",
       "4        4.0              0.9685   \n",
       "\n",
       "                                            Keywords  \\\n",
       "0  government, usa, russia, law, ukraine, new, sa...   \n",
       "1  woman, year, man, find, death, child, years_ol...   \n",
       "2  israel, say, palestinian, muslim, ban, israeli...   \n",
       "3  kill, attack, gaza, israeli, egypt, military, ...   \n",
       "4  usa, north_korea, syria, nuclear, japan, iran,...   \n",
       "\n",
       "                                                Text       Date  Top  \n",
       "0  tasmania forest threatened coalition govt push... 2013-12-23   15  \n",
       "1  outrage grows india gang rape bus hours long g... 2012-12-19    5  \n",
       "2  truth 88 openly nazi symbols swastika banned g... 2011-06-28   16  \n",
       "3  egyptian authorities tuesday ordered residents... 2014-10-29   19  \n",
       "4  china says alert japan dispatched fighter jets... 2012-12-26   13  "
      ]
     },
     "execution_count": 34,
     "metadata": {},
     "output_type": "execute_result"
    },
    {
     "name": "stdout",
     "output_type": "stream",
     "text": [
      "time: 1.54 s\n"
     ]
    }
   ],
   "source": [
    "# Group top 5 sentences under each topic\n",
    "sent_topics_sorteddf_mallet = pd.DataFrame()\n",
    "\n",
    "sent_topics_outdf_grpd = df_topic_sents_keywords_first.groupby('Dominant_Topic')\n",
    "\n",
    "for i, grp in sent_topics_outdf_grpd:\n",
    "    sent_topics_sorteddf_mallet = pd.concat([sent_topics_sorteddf_mallet, \n",
    "                                             grp.sort_values(['Perc_Contribution'], ascending=[0]).head(1)], \n",
    "                                            axis=0)\n",
    "\n",
    "# Reset Index    \n",
    "sent_topics_sorteddf_mallet.reset_index(drop=True, inplace=True)\n",
    "\n",
    "# Format\n",
    "sent_topics_sorteddf_mallet.columns = ['Topic_Num', \"Topic_Perc_Contrib\", \"Keywords\", \"Text\",\"Date\",\"Top\"]\n",
    "\n",
    "# Show\n",
    "sent_topics_sorteddf_mallet.head(5)"
   ]
  },
  {
   "cell_type": "markdown",
   "metadata": {},
   "source": [
    "### Topic distribution across documents"
   ]
  },
  {
   "cell_type": "code",
   "execution_count": 35,
   "metadata": {},
   "outputs": [
    {
     "data": {
      "text/html": [
       "<div>\n",
       "<style scoped>\n",
       "    .dataframe tbody tr th:only-of-type {\n",
       "        vertical-align: middle;\n",
       "    }\n",
       "\n",
       "    .dataframe tbody tr th {\n",
       "        vertical-align: top;\n",
       "    }\n",
       "\n",
       "    .dataframe thead th {\n",
       "        text-align: right;\n",
       "    }\n",
       "</style>\n",
       "<table border=\"1\" class=\"dataframe\">\n",
       "  <thead>\n",
       "    <tr style=\"text-align: right;\">\n",
       "      <th></th>\n",
       "      <th>Num_Documents</th>\n",
       "      <th>Perc_Documents</th>\n",
       "    </tr>\n",
       "  </thead>\n",
       "  <tbody>\n",
       "    <tr>\n",
       "      <th>0.0</th>\n",
       "      <td>7146</td>\n",
       "      <td>0.1777</td>\n",
       "    </tr>\n",
       "    <tr>\n",
       "      <th>1.0</th>\n",
       "      <td>6374</td>\n",
       "      <td>0.1585</td>\n",
       "    </tr>\n",
       "    <tr>\n",
       "      <th>6.0</th>\n",
       "      <td>5080</td>\n",
       "      <td>0.1263</td>\n",
       "    </tr>\n",
       "    <tr>\n",
       "      <th>2.0</th>\n",
       "      <td>4493</td>\n",
       "      <td>0.1117</td>\n",
       "    </tr>\n",
       "    <tr>\n",
       "      <th>4.0</th>\n",
       "      <td>3971</td>\n",
       "      <td>0.0988</td>\n",
       "    </tr>\n",
       "    <tr>\n",
       "      <th>3.0</th>\n",
       "      <td>3503</td>\n",
       "      <td>0.0871</td>\n",
       "    </tr>\n",
       "    <tr>\n",
       "      <th>5.0</th>\n",
       "      <td>3110</td>\n",
       "      <td>0.0773</td>\n",
       "    </tr>\n",
       "    <tr>\n",
       "      <th>8.0</th>\n",
       "      <td>2641</td>\n",
       "      <td>0.0657</td>\n",
       "    </tr>\n",
       "    <tr>\n",
       "      <th>9.0</th>\n",
       "      <td>2598</td>\n",
       "      <td>0.0646</td>\n",
       "    </tr>\n",
       "    <tr>\n",
       "      <th>7.0</th>\n",
       "      <td>1292</td>\n",
       "      <td>0.0321</td>\n",
       "    </tr>\n",
       "  </tbody>\n",
       "</table>\n",
       "</div>"
      ],
      "text/plain": [
       "     Num_Documents  Perc_Documents\n",
       "0.0           7146          0.1777\n",
       "1.0           6374          0.1585\n",
       "6.0           5080          0.1263\n",
       "2.0           4493          0.1117\n",
       "4.0           3971          0.0988\n",
       "3.0           3503          0.0871\n",
       "5.0           3110          0.0773\n",
       "8.0           2641          0.0657\n",
       "9.0           2598          0.0646\n",
       "7.0           1292          0.0321"
      ]
     },
     "execution_count": 35,
     "metadata": {},
     "output_type": "execute_result"
    },
    {
     "name": "stdout",
     "output_type": "stream",
     "text": [
      "time: 152 ms\n"
     ]
    }
   ],
   "source": [
    "# Number of Documents for Each Topic\n",
    "topic_counts = df_topic_sents_keywords_first['Dominant_Topic'].value_counts()\n",
    "\n",
    "# Percentage of Documents for Each Topic\n",
    "topic_contribution = round(topic_counts/topic_counts.sum(), 4)\n",
    "\n",
    "# Topic Number and Keywords\n",
    "topic_num_keywords = df_topic_sents_keywords_first[['Dominant_Topic', 'Topic_Keywords']]\n",
    "\n",
    "# Concatenate Column wise\n",
    "# df_dominant_topic_firsts = pd.concat([topic_num_keywords, topic_counts, topic_contribution], axis=1)\n",
    "df_dominant_topic_firsts = pd.concat([topic_counts, topic_contribution], axis=1)\n",
    "\n",
    "# # # Change Column names\n",
    "df_dominant_topic_firsts.columns = ['Num_Documents', 'Perc_Documents']\n",
    "\n",
    "# # # Show\n",
    "df_dominant_topic_firsts"
   ]
  },
  {
   "cell_type": "markdown",
   "metadata": {},
   "source": [
    "### Generar distribución en todos los topicos"
   ]
  },
  {
   "cell_type": "code",
   "execution_count": 36,
   "metadata": {},
   "outputs": [
    {
     "name": "stdout",
     "output_type": "stream",
     "text": [
      "time: 42min 53s\n"
     ]
    }
   ],
   "source": [
    "import numpy as np\n",
    "n_topics = []\n",
    "def format_topics_sentences_all(ldamodel, corpus, texts, dates =[] , top = [], domin_topic=0):\n",
    "    # Init output\n",
    "    sent_topics_df = pd.DataFrame()\n",
    "\n",
    "    # Get main topic in each document\n",
    "    for i, row in enumerate(ldamodel[corpus]):\n",
    "        row = sorted(row, key=lambda x: (x[1]), reverse=True)\n",
    "        n_topics.append(len(row))\n",
    "        \n",
    "        # Get the Dominant topic, Perc Contribution and Keywords for each document\n",
    "        for j, (topic_num, prop_topic) in enumerate(row):\n",
    "            if j >= domin_topic:  # => dominant topic\n",
    "                wp = ldamodel.show_topic(topic_num)\n",
    "                topic_keywords = \", \".join([word for word, prop in wp])\n",
    "                sent_topics_df = sent_topics_df.append(pd.Series([int(topic_num), round(prop_topic,4), topic_keywords]), ignore_index=True)\n",
    "            else:\n",
    "                break\n",
    "    \n",
    "    texts = [item for item, count in zip(texts, n_topics) for i in range(count)]\n",
    "    dates = [item for item, count in zip(dates, n_topics) for i in range(count)]\n",
    "    top = [item for item, count in zip(top, n_topics) for i in range(count)]\n",
    "\n",
    "    sent_topics_df.columns = ['Dominant_Topic', 'Perc_Contribution', 'Topic_Keywords']\n",
    "\n",
    "    # Add original text to the end of the output\n",
    "    contents = pd.Series(texts)\n",
    "    dates_nw = pd.Series(dates)\n",
    "    top_nw = pd.Series(top)\n",
    "\n",
    "    sent_topics_df = pd.concat([sent_topics_df, contents,dates_nw,top_nw], axis=1)\n",
    "    return(sent_topics_df)\n",
    "\n",
    "\n",
    "df_topic_sents_keywords = format_topics_sentences_all(ldamodel=lda_model_best, corpus=corpus,  texts=data, \n",
    "                                                        dates=Dates,\n",
    "                                                        top=Top)\n",
    "    \n",
    "\n"
   ]
  },
  {
   "cell_type": "code",
   "execution_count": 37,
   "metadata": {
    "scrolled": true
   },
   "outputs": [
    {
     "name": "stdout",
     "output_type": "stream",
     "text": [
      "40208\n"
     ]
    },
    {
     "data": {
      "text/html": [
       "<div>\n",
       "<style scoped>\n",
       "    .dataframe tbody tr th:only-of-type {\n",
       "        vertical-align: middle;\n",
       "    }\n",
       "\n",
       "    .dataframe tbody tr th {\n",
       "        vertical-align: top;\n",
       "    }\n",
       "\n",
       "    .dataframe thead th {\n",
       "        text-align: right;\n",
       "    }\n",
       "</style>\n",
       "<table border=\"1\" class=\"dataframe\">\n",
       "  <thead>\n",
       "    <tr style=\"text-align: right;\">\n",
       "      <th></th>\n",
       "      <th>Document_No</th>\n",
       "      <th>Dominant_Topic</th>\n",
       "      <th>Topic_Perc_Contrib</th>\n",
       "      <th>Keywords</th>\n",
       "      <th>Text</th>\n",
       "      <th>Date</th>\n",
       "      <th>Top</th>\n",
       "    </tr>\n",
       "  </thead>\n",
       "  <tbody>\n",
       "    <tr>\n",
       "      <th>0</th>\n",
       "      <td>13715</td>\n",
       "      <td>3.0</td>\n",
       "      <td>0.6964</td>\n",
       "      <td>kill, attack, gaza, israeli, egypt, military, ...</td>\n",
       "      <td>georgian troops retreat osettain capital presu...</td>\n",
       "      <td>2008-08-08</td>\n",
       "      <td>1</td>\n",
       "    </tr>\n",
       "    <tr>\n",
       "      <th>1</th>\n",
       "      <td>13715</td>\n",
       "      <td>5.0</td>\n",
       "      <td>0.2217</td>\n",
       "      <td>police, protest, protester, people, city, arre...</td>\n",
       "      <td>georgian troops retreat osettain capital presu...</td>\n",
       "      <td>2008-08-08</td>\n",
       "      <td>1</td>\n",
       "    </tr>\n",
       "    <tr>\n",
       "      <th>2</th>\n",
       "      <td>13715</td>\n",
       "      <td>0.0</td>\n",
       "      <td>0.0205</td>\n",
       "      <td>government, usa, russia, law, ukraine, new, sa...</td>\n",
       "      <td>georgian troops retreat osettain capital presu...</td>\n",
       "      <td>2008-08-08</td>\n",
       "      <td>1</td>\n",
       "    </tr>\n",
       "    <tr>\n",
       "      <th>3</th>\n",
       "      <td>13715</td>\n",
       "      <td>1.0</td>\n",
       "      <td>0.0155</td>\n",
       "      <td>woman, year, man, find, death, child, years_ol...</td>\n",
       "      <td>georgian troops retreat osettain capital presu...</td>\n",
       "      <td>2008-08-08</td>\n",
       "      <td>1</td>\n",
       "    </tr>\n",
       "    <tr>\n",
       "      <th>4</th>\n",
       "      <td>13715</td>\n",
       "      <td>2.0</td>\n",
       "      <td>0.0125</td>\n",
       "      <td>israel, say, palestinian, muslim, ban, israeli...</td>\n",
       "      <td>georgian troops retreat osettain capital presu...</td>\n",
       "      <td>2008-08-08</td>\n",
       "      <td>1</td>\n",
       "    </tr>\n",
       "  </tbody>\n",
       "</table>\n",
       "</div>"
      ],
      "text/plain": [
       "   Document_No  Dominant_Topic  Topic_Perc_Contrib  \\\n",
       "0        13715             3.0              0.6964   \n",
       "1        13715             5.0              0.2217   \n",
       "2        13715             0.0              0.0205   \n",
       "3        13715             1.0              0.0155   \n",
       "4        13715             2.0              0.0125   \n",
       "\n",
       "                                            Keywords  \\\n",
       "0  kill, attack, gaza, israeli, egypt, military, ...   \n",
       "1  police, protest, protester, people, city, arre...   \n",
       "2  government, usa, russia, law, ukraine, new, sa...   \n",
       "3  woman, year, man, find, death, child, years_ol...   \n",
       "4  israel, say, palestinian, muslim, ban, israeli...   \n",
       "\n",
       "                                                Text       Date  Top  \n",
       "0  georgian troops retreat osettain capital presu... 2008-08-08    1  \n",
       "1  georgian troops retreat osettain capital presu... 2008-08-08    1  \n",
       "2  georgian troops retreat osettain capital presu... 2008-08-08    1  \n",
       "3  georgian troops retreat osettain capital presu... 2008-08-08    1  \n",
       "4  georgian troops retreat osettain capital presu... 2008-08-08    1  "
      ]
     },
     "execution_count": 37,
     "metadata": {},
     "output_type": "execute_result"
    },
    {
     "name": "stdout",
     "output_type": "stream",
     "text": [
      "time: 268 ms\n"
     ]
    }
   ],
   "source": [
    "# Format\n",
    "df_dominant_topic = df_topic_sents_keywords.reset_index()\n",
    "df_dominant_topic.columns = ['Document_No', 'Dominant_Topic', 'Topic_Perc_Contrib', 'Keywords', 'Text','Date','Top']\n",
    "df_dominant_topic[\"Document_No\"] = df_dominant_topic.groupby([\"Text\",\"Date\",\"Top\"]).grouper.group_info[0]\n",
    "# df_dominant_topic['Total'] = df_dominant_topic['Topic_Perc_Contrib'].groupby(df_dominant_topic['Document_No']).transform('sum')\n",
    "print(df_dominant_topic['Document_No'].nunique())\n",
    "# Show\n",
    "df_dominant_topic.head(5)"
   ]
  },
  {
   "cell_type": "code",
   "execution_count": 38,
   "metadata": {},
   "outputs": [
    {
     "data": {
      "text/html": [
       "<div>\n",
       "<style scoped>\n",
       "    .dataframe tbody tr th:only-of-type {\n",
       "        vertical-align: middle;\n",
       "    }\n",
       "\n",
       "    .dataframe tbody tr th {\n",
       "        vertical-align: top;\n",
       "    }\n",
       "\n",
       "    .dataframe thead th {\n",
       "        text-align: right;\n",
       "    }\n",
       "</style>\n",
       "<table border=\"1\" class=\"dataframe\">\n",
       "  <thead>\n",
       "    <tr style=\"text-align: right;\">\n",
       "      <th>Dominant_Topic</th>\n",
       "      <th>Date</th>\n",
       "      <th>Top</th>\n",
       "      <th>Document_No</th>\n",
       "      <th>Text</th>\n",
       "      <th>0.0</th>\n",
       "      <th>1.0</th>\n",
       "      <th>2.0</th>\n",
       "      <th>3.0</th>\n",
       "      <th>4.0</th>\n",
       "      <th>5.0</th>\n",
       "      <th>6.0</th>\n",
       "      <th>7.0</th>\n",
       "      <th>8.0</th>\n",
       "      <th>9.0</th>\n",
       "      <th>Total</th>\n",
       "    </tr>\n",
       "  </thead>\n",
       "  <tbody>\n",
       "    <tr>\n",
       "      <th>0</th>\n",
       "      <td>2008-08-08</td>\n",
       "      <td>1</td>\n",
       "      <td>13715</td>\n",
       "      <td>georgian troops retreat osettain capital presu...</td>\n",
       "      <td>0.0205</td>\n",
       "      <td>0.0155</td>\n",
       "      <td>0.0125</td>\n",
       "      <td>0.6964</td>\n",
       "      <td>0.0000</td>\n",
       "      <td>0.2217</td>\n",
       "      <td>0.000</td>\n",
       "      <td>0.0000</td>\n",
       "      <td>0.0000</td>\n",
       "      <td>0.0000</td>\n",
       "      <td>0.9666</td>\n",
       "    </tr>\n",
       "    <tr>\n",
       "      <th>1</th>\n",
       "      <td>2008-08-08</td>\n",
       "      <td>2</td>\n",
       "      <td>10848</td>\n",
       "      <td>enemy combatent trials nothing sham salim hama...</td>\n",
       "      <td>0.4040</td>\n",
       "      <td>0.5376</td>\n",
       "      <td>0.0114</td>\n",
       "      <td>0.0000</td>\n",
       "      <td>0.0000</td>\n",
       "      <td>0.0000</td>\n",
       "      <td>0.000</td>\n",
       "      <td>0.0000</td>\n",
       "      <td>0.0000</td>\n",
       "      <td>0.0000</td>\n",
       "      <td>0.9530</td>\n",
       "    </tr>\n",
       "    <tr>\n",
       "      <th>2</th>\n",
       "      <td>2008-08-08</td>\n",
       "      <td>3</td>\n",
       "      <td>5220</td>\n",
       "      <td>breaking georgia invades south ossetia russia ...</td>\n",
       "      <td>0.9202</td>\n",
       "      <td>0.0155</td>\n",
       "      <td>0.0125</td>\n",
       "      <td>0.0105</td>\n",
       "      <td>0.0000</td>\n",
       "      <td>0.0000</td>\n",
       "      <td>0.000</td>\n",
       "      <td>0.0000</td>\n",
       "      <td>0.0000</td>\n",
       "      <td>0.0000</td>\n",
       "      <td>0.9587</td>\n",
       "    </tr>\n",
       "    <tr>\n",
       "      <th>3</th>\n",
       "      <td>2008-08-08</td>\n",
       "      <td>4</td>\n",
       "      <td>298</td>\n",
       "      <td>150 russian tanks entered south ossetia whilst...</td>\n",
       "      <td>0.0233</td>\n",
       "      <td>0.0172</td>\n",
       "      <td>0.0139</td>\n",
       "      <td>0.0116</td>\n",
       "      <td>0.8982</td>\n",
       "      <td>0.0000</td>\n",
       "      <td>0.000</td>\n",
       "      <td>0.0000</td>\n",
       "      <td>0.0000</td>\n",
       "      <td>0.0000</td>\n",
       "      <td>0.9642</td>\n",
       "    </tr>\n",
       "    <tr>\n",
       "      <th>4</th>\n",
       "      <td>2008-08-08</td>\n",
       "      <td>5</td>\n",
       "      <td>37991</td>\n",
       "      <td>usa prep georgia war russia</td>\n",
       "      <td>0.8406</td>\n",
       "      <td>0.0310</td>\n",
       "      <td>0.0249</td>\n",
       "      <td>0.0209</td>\n",
       "      <td>0.0180</td>\n",
       "      <td>0.0158</td>\n",
       "      <td>0.014</td>\n",
       "      <td>0.0127</td>\n",
       "      <td>0.0115</td>\n",
       "      <td>0.0106</td>\n",
       "      <td>1.0000</td>\n",
       "    </tr>\n",
       "  </tbody>\n",
       "</table>\n",
       "</div>"
      ],
      "text/plain": [
       "Dominant_Topic       Date  Top  Document_No  \\\n",
       "0              2008-08-08    1        13715   \n",
       "1              2008-08-08    2        10848   \n",
       "2              2008-08-08    3         5220   \n",
       "3              2008-08-08    4          298   \n",
       "4              2008-08-08    5        37991   \n",
       "\n",
       "Dominant_Topic                                               Text     0.0  \\\n",
       "0               georgian troops retreat osettain capital presu...  0.0205   \n",
       "1               enemy combatent trials nothing sham salim hama...  0.4040   \n",
       "2               breaking georgia invades south ossetia russia ...  0.9202   \n",
       "3               150 russian tanks entered south ossetia whilst...  0.0233   \n",
       "4                                     usa prep georgia war russia  0.8406   \n",
       "\n",
       "Dominant_Topic     1.0     2.0     3.0     4.0     5.0    6.0     7.0     8.0  \\\n",
       "0               0.0155  0.0125  0.6964  0.0000  0.2217  0.000  0.0000  0.0000   \n",
       "1               0.5376  0.0114  0.0000  0.0000  0.0000  0.000  0.0000  0.0000   \n",
       "2               0.0155  0.0125  0.0105  0.0000  0.0000  0.000  0.0000  0.0000   \n",
       "3               0.0172  0.0139  0.0116  0.8982  0.0000  0.000  0.0000  0.0000   \n",
       "4               0.0310  0.0249  0.0209  0.0180  0.0158  0.014  0.0127  0.0115   \n",
       "\n",
       "Dominant_Topic     9.0   Total  \n",
       "0               0.0000  0.9666  \n",
       "1               0.0000  0.9530  \n",
       "2               0.0000  0.9587  \n",
       "3               0.0000  0.9642  \n",
       "4               0.0106  1.0000  "
      ]
     },
     "execution_count": 38,
     "metadata": {},
     "output_type": "execute_result"
    },
    {
     "name": "stdout",
     "output_type": "stream",
     "text": [
      "time: 569 ms\n"
     ]
    }
   ],
   "source": [
    "df_topic_doc = pd.pivot_table(df_dominant_topic,index=['Date','Top','Document_No','Text'],columns=['Dominant_Topic'],values=['Topic_Perc_Contrib'])\n",
    "df_topic_doc.columns = df_topic_doc.columns.droplevel()\n",
    "df_topic_doc.reset_index(inplace=True)\n",
    "df_topic_doc['Total']= df_topic_doc.iloc[:, -10:].sum(axis=1)\n",
    "df_topic_doc.fillna(0, inplace=True)\n",
    "df_topic_doc.head()"
   ]
  },
  {
   "cell_type": "code",
   "execution_count": 39,
   "metadata": {},
   "outputs": [
    {
     "name": "stdout",
     "output_type": "stream",
     "text": [
      "time: 1.54 s\n"
     ]
    }
   ],
   "source": [
    "df_topic_doc.to_csv('Output_files/train.csv', index=False)"
   ]
  },
  {
   "cell_type": "markdown",
   "metadata": {},
   "source": [
    "### Visualize the topics-keywords"
   ]
  },
  {
   "cell_type": "code",
   "execution_count": 40,
   "metadata": {},
   "outputs": [
    {
     "data": {
      "text/html": [
       "\n",
       "<link rel=\"stylesheet\" type=\"text/css\" href=\"https://cdn.rawgit.com/bmabey/pyLDAvis/files/ldavis.v1.0.0.css\">\n",
       "\n",
       "\n",
       "<div id=\"ldavis_el128042245666871120681757058\"></div>\n",
       "<script type=\"text/javascript\">\n",
       "\n",
       "var ldavis_el128042245666871120681757058_data = {\"mdsDat\": {\"x\": [0.133401096607245, -0.04426281463660334, 0.16369295263740766, 0.06545358866506687, 0.009602600486429837, -0.1408140129599492, -0.15120024190082304, 0.043180647629966346, -0.10304001726834408, 0.023986200739604696], \"y\": [0.03203959434932943, -0.12110170008396698, -0.10172991827335029, 0.05100219071324689, 0.08335532491362332, 0.08917956547320878, -0.1166352687187049, 0.14176319193288442, 0.05456727520822419, -0.11244025551449471], \"topics\": [1, 2, 3, 4, 5, 6, 7, 8, 9, 10], \"cluster\": [1, 1, 1, 1, 1, 1, 1, 1, 1, 1], \"Freq\": [18.37864875793457, 14.994718551635742, 13.084641456604004, 11.234517097473145, 8.958868026733398, 8.436872482299805, 8.057103157043457, 6.76658821105957, 6.437002658843994, 3.6510393619537354]}, \"tinfo\": {\"Category\": [\"Default\", \"Default\", \"Default\", \"Default\", \"Default\", \"Default\", \"Default\", \"Default\", \"Default\", \"Default\", \"Default\", \"Default\", \"Default\", \"Default\", \"Default\", \"Default\", \"Default\", \"Default\", \"Default\", \"Default\", \"Default\", \"Default\", \"Default\", \"Default\", \"Default\", \"Default\", \"Default\", \"Default\", \"Default\", \"Default\", \"Topic1\", \"Topic1\", \"Topic1\", \"Topic1\", \"Topic1\", \"Topic1\", \"Topic1\", \"Topic1\", \"Topic1\", \"Topic1\", \"Topic1\", \"Topic1\", \"Topic1\", \"Topic1\", \"Topic1\", \"Topic1\", \"Topic1\", \"Topic1\", \"Topic1\", \"Topic1\", \"Topic1\", \"Topic1\", \"Topic1\", \"Topic1\", \"Topic1\", \"Topic1\", \"Topic1\", \"Topic1\", \"Topic1\", \"Topic1\", \"Topic1\", \"Topic1\", \"Topic1\", \"Topic1\", \"Topic1\", \"Topic1\", \"Topic1\", \"Topic1\", \"Topic1\", \"Topic1\", \"Topic1\", \"Topic1\", \"Topic1\", \"Topic1\", \"Topic1\", \"Topic1\", \"Topic1\", \"Topic1\", \"Topic1\", \"Topic1\", \"Topic1\", \"Topic1\", \"Topic1\", \"Topic1\", \"Topic1\", \"Topic1\", \"Topic1\", \"Topic1\", \"Topic1\", \"Topic1\", \"Topic1\", \"Topic1\", \"Topic2\", \"Topic2\", \"Topic2\", \"Topic2\", \"Topic2\", \"Topic2\", \"Topic2\", \"Topic2\", \"Topic2\", \"Topic2\", \"Topic2\", \"Topic2\", \"Topic2\", \"Topic2\", \"Topic2\", \"Topic2\", \"Topic2\", \"Topic2\", \"Topic2\", \"Topic2\", \"Topic2\", \"Topic2\", \"Topic2\", \"Topic2\", \"Topic2\", \"Topic2\", \"Topic2\", \"Topic2\", \"Topic2\", \"Topic2\", \"Topic2\", \"Topic2\", \"Topic2\", \"Topic2\", \"Topic2\", \"Topic2\", \"Topic2\", \"Topic2\", \"Topic2\", \"Topic2\", \"Topic2\", \"Topic2\", \"Topic2\", \"Topic2\", \"Topic2\", \"Topic2\", \"Topic2\", \"Topic2\", \"Topic2\", \"Topic2\", \"Topic2\", \"Topic2\", \"Topic2\", \"Topic2\", \"Topic2\", \"Topic3\", \"Topic3\", \"Topic3\", \"Topic3\", \"Topic3\", \"Topic3\", \"Topic3\", \"Topic3\", \"Topic3\", \"Topic3\", \"Topic3\", \"Topic3\", \"Topic3\", \"Topic3\", \"Topic3\", \"Topic3\", \"Topic3\", \"Topic3\", \"Topic3\", \"Topic3\", \"Topic3\", \"Topic3\", \"Topic3\", \"Topic3\", \"Topic3\", \"Topic3\", \"Topic3\", \"Topic3\", \"Topic3\", \"Topic3\", \"Topic3\", \"Topic3\", \"Topic3\", \"Topic3\", \"Topic3\", \"Topic3\", \"Topic3\", \"Topic3\", \"Topic3\", \"Topic3\", \"Topic3\", \"Topic3\", \"Topic3\", \"Topic3\", \"Topic3\", \"Topic3\", \"Topic3\", \"Topic3\", \"Topic3\", \"Topic3\", \"Topic3\", \"Topic3\", \"Topic3\", \"Topic3\", \"Topic3\", \"Topic3\", \"Topic3\", \"Topic3\", \"Topic3\", \"Topic3\", \"Topic3\", \"Topic3\", \"Topic3\", \"Topic3\", \"Topic3\", \"Topic3\", \"Topic4\", \"Topic4\", \"Topic4\", \"Topic4\", \"Topic4\", \"Topic4\", \"Topic4\", \"Topic4\", \"Topic4\", \"Topic4\", \"Topic4\", \"Topic4\", \"Topic4\", \"Topic4\", \"Topic4\", \"Topic4\", \"Topic4\", \"Topic4\", \"Topic4\", \"Topic4\", \"Topic4\", \"Topic4\", \"Topic4\", \"Topic4\", \"Topic4\", \"Topic4\", \"Topic4\", \"Topic4\", \"Topic4\", \"Topic4\", \"Topic4\", \"Topic4\", \"Topic4\", \"Topic4\", \"Topic4\", \"Topic4\", \"Topic4\", \"Topic4\", \"Topic4\", \"Topic4\", \"Topic4\", \"Topic4\", \"Topic4\", \"Topic4\", \"Topic4\", \"Topic4\", \"Topic4\", \"Topic4\", \"Topic4\", \"Topic4\", \"Topic4\", \"Topic4\", \"Topic4\", \"Topic4\", \"Topic4\", \"Topic4\", \"Topic4\", \"Topic4\", \"Topic4\", \"Topic4\", \"Topic5\", \"Topic5\", \"Topic5\", \"Topic5\", \"Topic5\", \"Topic5\", \"Topic5\", \"Topic5\", \"Topic5\", \"Topic5\", \"Topic5\", \"Topic5\", \"Topic5\", \"Topic5\", \"Topic5\", \"Topic5\", \"Topic5\", \"Topic5\", \"Topic5\", \"Topic5\", \"Topic5\", \"Topic5\", \"Topic5\", \"Topic5\", \"Topic5\", \"Topic5\", \"Topic5\", \"Topic5\", \"Topic5\", \"Topic5\", \"Topic5\", \"Topic5\", \"Topic5\", \"Topic5\", \"Topic5\", \"Topic5\", \"Topic5\", \"Topic5\", \"Topic5\", \"Topic5\", \"Topic5\", \"Topic5\", \"Topic5\", \"Topic5\", \"Topic5\", \"Topic5\", \"Topic5\", \"Topic5\", \"Topic5\", \"Topic5\", \"Topic5\", \"Topic5\", \"Topic5\", \"Topic5\", \"Topic5\", \"Topic5\", \"Topic5\", \"Topic6\", \"Topic6\", \"Topic6\", \"Topic6\", \"Topic6\", \"Topic6\", \"Topic6\", \"Topic6\", \"Topic6\", \"Topic6\", \"Topic6\", \"Topic6\", \"Topic6\", \"Topic6\", \"Topic6\", \"Topic6\", \"Topic6\", \"Topic6\", \"Topic6\", \"Topic6\", \"Topic6\", \"Topic6\", \"Topic6\", \"Topic6\", \"Topic6\", \"Topic6\", \"Topic6\", \"Topic6\", \"Topic6\", \"Topic6\", \"Topic6\", \"Topic6\", \"Topic6\", \"Topic6\", \"Topic6\", \"Topic6\", \"Topic6\", \"Topic6\", \"Topic6\", \"Topic6\", \"Topic6\", \"Topic6\", \"Topic6\", \"Topic6\", \"Topic6\", \"Topic6\", \"Topic6\", \"Topic6\", \"Topic6\", \"Topic6\", \"Topic6\", \"Topic6\", \"Topic6\", \"Topic6\", \"Topic6\", \"Topic6\", \"Topic7\", \"Topic7\", \"Topic7\", \"Topic7\", \"Topic7\", \"Topic7\", \"Topic7\", \"Topic7\", \"Topic7\", \"Topic7\", \"Topic7\", \"Topic7\", \"Topic7\", \"Topic7\", \"Topic7\", \"Topic7\", \"Topic7\", \"Topic7\", \"Topic7\", \"Topic7\", \"Topic7\", \"Topic7\", \"Topic7\", \"Topic7\", \"Topic7\", \"Topic7\", \"Topic7\", \"Topic7\", \"Topic7\", \"Topic7\", \"Topic7\", \"Topic7\", \"Topic7\", \"Topic7\", \"Topic7\", \"Topic7\", \"Topic7\", \"Topic7\", \"Topic7\", \"Topic7\", \"Topic7\", \"Topic7\", \"Topic7\", \"Topic7\", \"Topic7\", \"Topic7\", \"Topic7\", \"Topic7\", \"Topic7\", \"Topic7\", \"Topic7\", \"Topic7\", \"Topic7\", \"Topic7\", \"Topic7\", \"Topic7\", \"Topic7\", \"Topic7\", \"Topic7\", \"Topic7\", \"Topic8\", \"Topic8\", \"Topic8\", \"Topic8\", \"Topic8\", \"Topic8\", \"Topic8\", \"Topic8\", \"Topic8\", \"Topic8\", \"Topic8\", \"Topic8\", \"Topic8\", \"Topic8\", \"Topic8\", \"Topic8\", \"Topic8\", \"Topic8\", \"Topic8\", \"Topic8\", \"Topic8\", \"Topic8\", \"Topic8\", \"Topic8\", \"Topic8\", \"Topic8\", \"Topic8\", \"Topic8\", \"Topic8\", \"Topic8\", \"Topic8\", \"Topic8\", \"Topic8\", \"Topic8\", \"Topic8\", \"Topic8\", \"Topic8\", \"Topic8\", \"Topic8\", \"Topic8\", \"Topic8\", \"Topic8\", \"Topic8\", \"Topic8\", \"Topic8\", \"Topic8\", \"Topic8\", \"Topic8\", \"Topic8\", \"Topic8\", \"Topic8\", \"Topic8\", \"Topic8\", \"Topic8\", \"Topic8\", \"Topic8\", \"Topic8\", \"Topic8\", \"Topic8\", \"Topic8\", \"Topic8\", \"Topic9\", \"Topic9\", \"Topic9\", \"Topic9\", \"Topic9\", \"Topic9\", \"Topic9\", \"Topic9\", \"Topic9\", \"Topic9\", \"Topic9\", \"Topic9\", \"Topic9\", \"Topic9\", \"Topic9\", \"Topic9\", \"Topic9\", \"Topic9\", \"Topic9\", \"Topic9\", \"Topic9\", \"Topic9\", \"Topic9\", \"Topic9\", \"Topic9\", \"Topic9\", \"Topic9\", \"Topic9\", \"Topic9\", \"Topic9\", \"Topic9\", \"Topic9\", \"Topic9\", \"Topic9\", \"Topic9\", \"Topic9\", \"Topic9\", \"Topic9\", \"Topic9\", \"Topic9\", \"Topic9\", \"Topic9\", \"Topic9\", \"Topic9\", \"Topic9\", \"Topic9\", \"Topic9\", \"Topic9\", \"Topic9\", \"Topic9\", \"Topic9\", \"Topic9\", \"Topic9\", \"Topic9\", \"Topic9\", \"Topic9\", \"Topic9\", \"Topic9\", \"Topic10\", \"Topic10\", \"Topic10\", \"Topic10\", \"Topic10\", \"Topic10\", \"Topic10\", \"Topic10\", \"Topic10\", \"Topic10\", \"Topic10\", \"Topic10\", \"Topic10\", \"Topic10\", \"Topic10\", \"Topic10\", \"Topic10\", \"Topic10\", \"Topic10\", \"Topic10\", \"Topic10\", \"Topic10\", \"Topic10\", \"Topic10\", \"Topic10\", \"Topic10\", \"Topic10\", \"Topic10\", \"Topic10\", \"Topic10\", \"Topic10\", \"Topic10\", \"Topic10\", \"Topic10\", \"Topic10\", \"Topic10\", \"Topic10\", \"Topic10\", \"Topic10\", \"Topic10\", \"Topic10\", \"Topic10\", \"Topic10\", \"Topic10\", \"Topic10\", \"Topic10\", \"Topic10\", \"Topic10\", \"Topic10\", \"Topic10\", \"Topic10\", \"Topic10\", \"Topic10\", \"Topic10\", \"Topic10\"], \"Freq\": [1419.0, 1503.0, 1798.0, 3220.0, 763.0, 1129.0, 658.0, 955.0, 1156.0, 981.0, 615.0, 1082.0, 584.0, 593.0, 686.0, 989.0, 1161.0, 529.0, 1336.0, 633.0, 810.0, 523.0, 723.0, 1764.0, 958.0, 715.0, 496.0, 3302.0, 958.0, 1633.0, 315.52410888671875, 316.7862243652344, 255.976318359375, 179.26641845703125, 123.42872619628906, 118.13507843017578, 105.52313232421875, 99.67040252685547, 89.18529510498047, 583.0286865234375, 80.13566589355469, 74.8509521484375, 78.28082275390625, 69.42897033691406, 63.36785888671875, 54.240516662597656, 54.332298278808594, 473.84771728515625, 65.17316436767578, 65.1937026977539, 175.40835571289062, 49.846195220947266, 452.8134460449219, 229.69696044921875, 190.04437255859375, 40.10572052001953, 36.58580017089844, 38.910823822021484, 82.4854507446289, 34.993370056152344, 262.7923278808594, 184.59127807617188, 87.30159759521484, 125.66970825195312, 674.9425048828125, 349.2776794433594, 294.6176452636719, 316.9341125488281, 284.659423828125, 368.33013916015625, 804.9047241210938, 936.5557861328125, 158.35411071777344, 211.50282287597656, 153.6630401611328, 169.91029357910156, 185.80352783203125, 252.38157653808594, 324.1536560058594, 519.6405029296875, 548.16064453125, 314.0386657714844, 809.0735473632812, 351.4232482910156, 440.064697265625, 322.90313720703125, 541.4429931640625, 247.12413024902344, 274.10491943359375, 265.5061340332031, 239.56005859375, 247.04949951171875, 465.2582702636719, 351.71502685546875, 456.5693054199219, 236.96783447265625, 158.56304931640625, 145.51280212402344, 143.9436492919922, 109.76419067382812, 277.630126953125, 125.6591567993164, 130.22921752929688, 79.88336181640625, 659.0033569335938, 70.13368225097656, 122.46839904785156, 61.76260757446289, 122.39468383789062, 183.9298858642578, 59.21924591064453, 55.721412658691406, 67.51329040527344, 46.5291748046875, 45.61729431152344, 42.96241760253906, 44.0893669128418, 108.77430725097656, 37.50556564331055, 258.25848388671875, 42.44332504272461, 320.4385681152344, 958.99560546875, 68.83573150634766, 297.29791259765625, 922.7504272460938, 195.54042053222656, 649.1764526367188, 425.5779724121094, 356.6328125, 721.1159057617188, 278.4199523925781, 222.57785034179688, 949.78955078125, 276.1065673828125, 245.96173095703125, 194.27847290039062, 269.87164306640625, 229.4615936279297, 230.0904083251953, 299.8236999511719, 415.5291442871094, 287.9050598144531, 354.24298095703125, 223.2870635986328, 219.66136169433594, 200.8172149658203, 233.7203826904297, 131.05873107910156, 116.60887908935547, 93.04598999023438, 88.80421447753906, 93.38016510009766, 162.505615234375, 81.28101348876953, 64.88997650146484, 142.21095275878906, 54.35487365722656, 67.91026306152344, 167.7932586669922, 49.40056610107422, 51.008731842041016, 269.600341796875, 66.9936294555664, 53.53029251098633, 59.421077728271484, 63.549190521240234, 136.41004943847656, 39.745723724365234, 39.022979736328125, 41.700801849365234, 49.765506744384766, 90.83837890625, 35.40705108642578, 33.85205841064453, 132.9474639892578, 55.01594161987305, 39.33562088012695, 152.0843963623047, 144.95753479003906, 143.1227264404297, 136.3970489501953, 157.66064453125, 392.6365051269531, 116.83657836914062, 143.80459594726562, 265.2884521484375, 272.86407470703125, 229.28353881835938, 840.0222778320312, 146.6771240234375, 259.3033142089844, 127.61206817626953, 204.47789001464844, 225.7269744873047, 236.17515563964844, 246.91455078125, 522.310791015625, 184.36090087890625, 471.2134704589844, 261.6178283691406, 326.9994812011719, 333.6351318359375, 166.7299346923828, 384.373291015625, 190.10057067871094, 219.01327514648438, 194.8257598876953, 176.15625, 206.88638305664062, 165.23597717285156, 176.75010681152344, 168.62899780273438, 177.6370849609375, 156.3139190673828, 134.6985626220703, 142.70559692382812, 152.46311950683594, 151.416259765625, 120.11676788330078, 80.37849426269531, 77.38009643554688, 67.76409149169922, 67.80193328857422, 53.4638671875, 57.92128372192383, 51.827430725097656, 43.782203674316406, 52.25804901123047, 70.14881896972656, 82.2007064819336, 166.841796875, 296.7296447753906, 460.3246765136719, 32.67428207397461, 31.431499481201172, 31.78207015991211, 69.76276397705078, 46.55072784423828, 127.47343444824219, 121.04871368408203, 26.898059844970703, 34.99298858642578, 65.88243103027344, 68.49064636230469, 190.43276977539062, 158.91502380371094, 160.82456970214844, 463.8605041503906, 638.784423828125, 233.0464630126953, 328.3547058105469, 108.72915649414062, 408.40533447265625, 402.70166015625, 137.8551025390625, 335.987548828125, 243.2566680908203, 184.43902587890625, 136.88119506835938, 215.74844360351562, 518.06982421875, 141.44837951660156, 187.0356903076172, 239.78948974609375, 182.57928466796875, 274.5079650878906, 211.59364318847656, 190.84307861328125, 181.34078979492188, 178.9982452392578, 159.20315551757812, 158.67955017089844, 578.8511962890625, 311.296142578125, 212.94134521484375, 177.7137908935547, 573.6245727539062, 179.75213623046875, 120.67073059082031, 117.07136535644531, 347.97955322265625, 95.44120788574219, 209.34291076660156, 75.97132873535156, 76.36387634277344, 85.00540924072266, 70.98831176757812, 67.15884399414062, 68.36751556396484, 61.10067367553711, 86.1271743774414, 53.240264892578125, 60.8277473449707, 41.38701629638672, 53.148746490478516, 77.47804260253906, 48.39299392700195, 41.33795928955078, 37.31472396850586, 36.232818603515625, 65.71470642089844, 37.29954528808594, 175.02096557617188, 576.1779174804688, 339.2776184082031, 228.4565887451172, 510.0318603515625, 169.21041870117188, 204.30880737304688, 253.87132263183594, 150.892333984375, 95.5273666381836, 437.1019287109375, 115.89715576171875, 847.9987182617188, 270.9377746582031, 143.3983917236328, 132.07040405273438, 173.98031616210938, 318.3312072753906, 312.9667053222656, 415.5266418457031, 221.2050323486328, 145.52783203125, 160.18084716796875, 139.56390380859375, 164.6636962890625, 157.12547302246094, 143.9060821533203, 610.0311889648438, 524.0263061523438, 301.3723449707031, 167.28103637695312, 73.37798309326172, 57.8906364440918, 61.217750549316406, 55.3632698059082, 56.700435638427734, 49.73760223388672, 79.0532455444336, 214.08090209960938, 175.38670349121094, 62.93429946899414, 36.8834114074707, 68.4569320678711, 207.36428833007812, 159.05625915527344, 33.844627380371094, 32.67435836791992, 25.10984230041504, 85.83992767333984, 25.40841293334961, 362.8937683105469, 24.05297088623047, 65.40239715576172, 31.857942581176758, 18.61734962463379, 18.39798355102539, 99.16825103759766, 886.4192504882812, 341.8267517089844, 52.359432220458984, 55.06898880004883, 1064.6461181640625, 268.0826416015625, 195.88687133789062, 67.58360290527344, 191.84005737304688, 541.8615112304688, 433.035888671875, 186.03643798828125, 95.18368530273438, 151.08436584472656, 227.9724884033203, 363.41265869140625, 253.59059143066406, 249.73025512695312, 147.21800231933594, 160.73605346679688, 181.76754760742188, 128.0347137451172, 280.8591003417969, 266.58416748046875, 171.0513458251953, 172.44561767578125, 210.8878173828125, 156.90972900390625, 115.22969055175781, 279.1017761230469, 61.033226013183594, 41.87942123413086, 443.0378723144531, 35.98027420043945, 1233.6207275390625, 40.83603286743164, 136.06016540527344, 30.677579879760742, 27.093067169189453, 30.284610748291016, 25.945497512817383, 238.24859619140625, 58.33546829223633, 35.022438049316406, 42.53873062133789, 69.43980407714844, 91.11963653564453, 191.1862030029297, 57.36549758911133, 16.644201278686523, 17.413183212280273, 44.77976989746094, 16.085405349731445, 55.47858428955078, 30.244081497192383, 14.825013160705566, 163.1731719970703, 667.9401245117188, 179.66554260253906, 79.01025390625, 63.727325439453125, 201.01353454589844, 95.37760162353516, 289.6058654785156, 308.20928955078125, 140.00588989257812, 70.48822784423828, 83.06024932861328, 295.7554016113281, 93.40331268310547, 103.14575958251953, 97.85526275634766, 157.94723510742188, 116.76627349853516, 312.2361145019531, 182.35020446777344, 187.42066955566406, 130.61276245117188, 139.23094177246094, 101.79585266113281, 127.32144165039062, 184.72445678710938, 149.36692810058594, 154.94717407226562, 112.94963836669922, 113.6619644165039, 745.683837890625, 58.7103271484375, 59.68081283569336, 44.815208435058594, 32.859100341796875, 30.107770919799805, 67.09054565429688, 30.455204010009766, 31.13924789428711, 70.07129669189453, 94.8017578125, 48.04356002807617, 29.14608383178711, 91.25443267822266, 22.361772537231445, 94.20618438720703, 59.72832107543945, 53.31165313720703, 54.20874786376953, 17.61202049255371, 33.55548095703125, 16.87846565246582, 16.46238899230957, 18.887922286987305, 13.9158935546875, 188.6558837890625, 28.40802001953125, 28.89026641845703, 17.90749168395996, 24.803077697753906, 304.95794677734375, 269.99078369140625, 223.02130126953125, 165.11575317382812, 386.064208984375, 230.6403350830078, 80.78350830078125, 70.10748291015625, 54.916908264160156, 175.97396850585938, 484.056396484375, 150.81622314453125, 130.33189392089844, 125.82540893554688, 357.812255859375, 83.84252166748047, 67.79651641845703, 190.63446044921875, 625.8474731445312, 266.9143981933594, 117.33383178710938, 89.27435302734375, 242.37721252441406, 123.07427215576172, 171.34596252441406, 137.52491760253906, 157.0318603515625, 116.80973052978516, 101.82059478759766, 93.42205047607422, 89.38389587402344, 232.8231201171875, 162.41302490234375, 267.9044189453125, 69.8302230834961, 42.56858825683594, 179.2254638671875, 37.50120162963867, 35.822608947753906, 30.743091583251953, 140.30223083496094, 30.44517707824707, 27.69076919555664, 29.167339324951172, 26.904680252075195, 418.54534912109375, 18.837282180786133, 277.9354553222656, 44.86794662475586, 151.47369384765625, 17.17167091369629, 17.9219913482666, 30.6121883392334, 62.51839065551758, 14.211133003234863, 14.312908172607422, 16.69245147705078, 15.493369102478027, 35.59660339355469, 52.53865432739258, 19.450572967529297, 309.8259582519531, 94.9145736694336, 60.45623016357422, 266.1905517578125, 105.7191390991211, 238.64718627929688, 209.16915893554688, 174.56788635253906, 103.76863861083984, 170.6484375, 166.13681030273438, 163.88790893554688, 113.69326782226562, 81.55392456054688, 249.7734832763672, 204.0437469482422, 70.2994384765625, 159.75747680664062, 569.2786865234375, 78.11331176757812, 168.58192443847656, 137.59963989257812, 93.22190856933594, 178.19601440429688, 135.126708984375, 124.97966766357422, 103.88343048095703, 96.54071044921875, 52.76074981689453, 43.449676513671875, 39.110504150390625, 36.89366912841797, 33.43357467651367, 32.40296173095703, 29.653358459472656, 26.597225189208984, 61.52105712890625, 23.000770568847656, 21.42656135559082, 18.56029510498047, 39.68714904785156, 501.6025390625, 16.25775909423828, 14.852218627929688, 18.735061645507812, 13.710140228271484, 14.088134765625, 18.092350006103516, 25.677064895629883, 12.746000289916992, 88.32835388183594, 12.682160377502441, 12.227100372314453, 12.185625076293945, 19.95819854736328, 10.561097145080566, 13.866545677185059, 33.676910400390625, 46.51634216308594, 25.270618438720703, 43.07438278198242, 530.8716430664062, 17.568634033203125, 21.03158187866211, 33.567543029785156, 30.0289363861084, 45.07872009277344, 53.07955551147461, 128.37420654296875, 25.12220001220703, 67.28592681884766, 35.92633056640625, 31.543991088867188, 44.19853210449219, 79.04681396484375, 38.17300796508789, 50.10628890991211, 31.91054916381836, 66.99116516113281, 47.88648986816406, 33.66271209716797, 39.83010482788086, 36.11486053466797], \"Term\": [\"police\", \"china\", \"kill\", \"usa\", \"president\", \"attack\", \"chinese\", \"protest\", \"woman\", \"israeli\", \"gaza\", \"israel\", \"north_korea\", \"nuclear\", \"syria\", \"war\", \"man\", \"egypt\", \"russia\", \"japan\", \"military\", \"pakistan\", \"palestinian\", \"year\", \"russian\", \"death\", \"protester\", \"say\", \"iran\", \"world\", \"bill\", \"election\", \"declare\", \"new_zealand\", \"marijuana\", \"user\", \"web\", \"privacy\", \"copyright\", \"ukraine\", \"legislation\", \"piracy\", \"referendum\", \"oil_spill\", \"pipeline\", \"isp\", \"chevron\", \"canada\", \"content\", \"own\", \"sanction\", \"voter\", \"internet\", \"pass\", \"datum\", \"legalization\", \"server\", \"software\", \"independence\", \"legalise\", \"deal\", \"surveillance\", \"cuba\", \"propose\", \"law\", \"canadian\", \"vote\", \"company\", \"rule\", \"oil\", \"russia\", \"government\", \"online\", \"block\", \"access\", \"service\", \"illegal\", \"allow\", \"drug\", \"country\", \"new\", \"would\", \"usa\", \"iran\", \"world\", \"state\", \"say\", \"right\", \"make\", \"call\", \"plan\", \"russian\", \"years_old\", \"sentence\", \"girl\", \"rape\", \"rap\", \"daughter\", \"baby\", \"couple\", \"young\", \"father\", \"mother\", \"kid\", \"death\", \"nigerian\", \"wife\", \"husband\", \"parent\", \"boy\", \"male\", \"rapist\", \"alive\", \"archaeologist\", \"prostitute\", \"inmate\", \"sister\", \"gang\", \"liberia\", \"sex\", \"pregnant\", \"prison\", \"woman\", \"marry\", \"murder\", \"man\", \"old\", \"child\", \"die\", \"jail\", \"find\", \"family\", \"victim\", \"year\", \"life\", \"school\", \"body\", \"dead\", \"case\", \"mexico\", \"get\", \"kill\", \"people\", \"say\", \"india\", \"court\", \"day\", \"economy\", \"disaster\", \"space\", \"coal\", \"solar\", \"currency\", \"cost\", \"asia\", \"electricity\", \"debt\", \"crop\", \"waste\", \"price\", \"emission\", \"cheap\", \"food\", \"planet\", \"recession\", \"unemployment\", \"meat\", \"earth\", \"renewable_energy\", \"great_barrier\", \"stock\", \"medicine\", \"climate\", \"growth\", \"investor\", \"rate\", \"bailout\", \"shortage\", \"economic\", \"energy\", \"poor\", \"rich\", \"percent\", \"bank\", \"euro\", \"population\", \"global\", \"water\", \"crisis\", \"world\", \"africa\", \"big\", \"increase\", \"rise\", \"large\", \"high\", \"europe\", \"china\", \"tax\", \"year\", \"india\", \"country\", \"new\", \"scientist\", \"say\", \"power\", \"could\", \"time\", \"may\", \"usa\", \"germany\", \"people\", \"report\", \"religious\", \"settlement\", \"jew\", \"pope\", \"irish\", \"islam\", \"non\", \"religion\", \"settler\", \"homosexual\", \"extradition\", \"veil\", \"passport\", \"citizenship\", \"apartheid\", \"atheist\", \"catholic_church\", \"palestine\", \"jewish\", \"gay\", \"muslim\", \"condom\", \"discrimination\", \"right_w\", \"boycott\", \"far_right\", \"ireland\", \"ambassador\", \"arrest_warrant\", \"recognition\", \"netanyahu\", \"catholic\", \"arab\", \"church\", \"deny\", \"palestinian\", \"israel\", \"human_right\", \"right\", \"west_bank\", \"ban\", \"israeli\", \"islamic\", \"state\", \"germany\", \"support\", \"christian\", \"group\", \"say\", \"must\", \"france\", \"call\", \"german\", \"usa\", \"country\", \"new\", \"woman\", \"people\", \"anti\", \"law\", \"north_korea\", \"korea\", \"missile\", \"north_korean\", \"nuclear\", \"nsa\", \"kim_jong\", \"tank\", \"south\", \"jet\", \"fukushima\", \"reactor\", \"south_korean\", \"satellite\", \"warship\", \"aircraft\", \"chemical_weapon\", \"nuclear_plant\", \"ocean\", \"fighter_jet\", \"damascus\", \"submarine\", \"vessel\", \"korean\", \"tepco\", \"nuke\", \"magnitude_earthquake\", \"fleet\", \"map\", \"air_force\", \"plane\", \"syria\", \"syrian\", \"weapon\", \"japan\", \"test\", \"ship\", \"border\", \"sea\", \"assad\", \"iran\", \"island\", \"usa\", \"military\", \"air\", \"japanese\", \"send\", \"russia\", \"china\", \"say\", \"russian\", \"spy\", \"fire\", \"launch\", \"report\", \"new\", \"strike\", \"gaza\", \"egypt\", \"egyptian\", \"iraqi\", \"blockade\", \"mubarak\", \"airstrike\", \"muslim_brotherhood\", \"laden\", \"osama_bin\", \"poacher\", \"civilian\", \"militant\", \"baghdad\", \"morsi\", \"idf\", \"hama\", \"islamist\", \"yemen\", \"demolish\", \"central_african\", \"somalia\", \"gazan\", \"army\", \"female_genital\", \"cairo\", \"flotilla\", \"sinai\", \"retake\", \"gaddafi\", \"attack\", \"soldier\", \"al_jazeera\", \"yeman\", \"kill\", \"troop\", \"isis\", \"bombing\", \"rebel\", \"israeli\", \"military\", \"nato\", \"blast\", \"terrorist\", \"iraq\", \"israel\", \"palestinian\", \"force\", \"least\", \"afghanistan\", \"group\", \"bomb\", \"say\", \"usa\", \"report\", \"people\", \"riot\", \"airport\", \"olympic\", \"london\", \"erupt\", \"tear_gas\", \"protester\", \"vancouver\", \"police\", \"athen\", \"hospital\", \"zoo\", \"captain\", \"chant\", \"istanbul\", \"officer\", \"camera\", \"sniper\", \"shop\", \"demonstration\", \"passenger\", \"street\", \"erdogan\", \"downtown\", \"cage\", \"protestor\", \"taser\", \"square\", \"song\", \"water_cannon\", \"car\", \"protest\", \"turkish\", \"night\", \"world_cup\", \"thousand\", \"clash\", \"fire\", \"city\", \"seize\", \"bus\", \"rally\", \"arrest\", \"building\", \"film\", \"march\", \"activist\", \"hundred\", \"people\", \"anti\", \"day\", \"shoot\", \"worker\", \"beat\", \"video\", \"kill\", \"take\", \"man\", \"student\", \"use\", \"president\", \"cabinet\", \"tony_blair\", \"president_vladimir\", \"blair\", \"nobel_prize\", \"prize\", \"argentine\", \"tony_abbott\", \"invasion\", \"interview\", \"nobel_peace\", \"topple\", \"asylum\", \"crimean\", \"resign\", \"quit\", \"genocide\", \"elect\", \"benjamin_netanyahu\", \"surrender\", \"ban_ki\", \"concert\", \"singer\", \"deputy_prime\", \"pm\", \"resignation\", \"president_barack\", \"birth_control\", \"aide\", \"former\", \"minister\", \"putin\", \"obama\", \"leader\", \"prime_minister\", \"war_crime\", \"argentina\", \"coup\", \"foreign\", \"war\", \"snowden\", \"talk\", \"opposition\", \"russian\", \"edward_snowden\", \"ecuador\", \"iraq\", \"say\", \"call\", \"chief\", \"ukrainian\", \"usa\", \"end\", \"government\", \"state\", \"russia\", \"country\", \"syria\", \"want\", \"official\", \"taliban\", \"vatican\", \"torture\", \"fbi\", \"phone_hack\", \"cia\", \"graphic\", \"detainee\", \"libor\", \"allege\", \"news_corp\", \"vaccination\", \"kabul\", \"drone_strik\", \"pakistan\", \"barclay\", \"release\", \"bin_laden\", \"pakistani\", \"nsa_spy\", \"rebekah_brook\", \"will\", \"murdoch\", \"lulzsec\", \"mumbai_attack\", \"operative\", \"informant\", \"complaint\", \"detention\", \"karzai\", \"video\", \"file\", \"agent\", \"secret\", \"embassy\", \"afghanistan\", \"wikileak\", \"afghan\", \"scandal\", \"not\", \"spy\", \"journalist\", \"document\", \"can\", \"arrest\", \"show\", \"probe\", \"reveal\", \"usa\", \"investigate\", \"british\", \"news\", \"evidence\", \"police\", \"report\", \"kill\", \"say\", \"claim\", \"apple\", \"tibetan\", \"patent\", \"dalai_lama\", \"cigarette\", \"wikipedia\", \"romania\", \"tibet\", \"founder\", \"smoking\", \"minimum_wage\", \"bird_flu\", \"beij\", \"chinese\", \"laptop\", \"samsung\", \"tiananmen_square\", \"rover\", \"iphone\", \"app\", \"sight\", \"useless\", \"hong_kong\", \"penny\", \"gene\", \"gypsy\", \"smog\", \"self_immolation\", \"foxconn\", \"seal\", \"hacker\", \"pro_democracy\", \"beijing\", \"china\", \"winter\", \"broadcast\", \"censor\", \"mar\", \"factory\", \"spread\", \"protest\", \"microsoft\", \"worker\", \"patient\", \"pirate_bay\", \"doctor\", \"ban\", \"website\", \"internet\", \"condition\", \"government\", \"go\", \"cause\", \"people\", \"official\"], \"Total\": [1419.0, 1503.0, 1798.0, 3220.0, 763.0, 1129.0, 658.0, 955.0, 1156.0, 981.0, 615.0, 1082.0, 584.0, 593.0, 686.0, 989.0, 1161.0, 529.0, 1336.0, 633.0, 810.0, 523.0, 723.0, 1764.0, 958.0, 715.0, 496.0, 3302.0, 958.0, 1633.0, 321.25689697265625, 322.55242919921875, 263.51776123046875, 185.94776916503906, 128.6552734375, 123.45525360107422, 110.69979095458984, 104.56169128417969, 94.15955352783203, 617.1121215820312, 85.20712280273438, 79.89697265625, 83.66951751708984, 75.06521606445312, 68.69148254394531, 59.036705017089844, 59.45389938354492, 523.4808349609375, 72.08524322509766, 72.28996276855469, 195.0314178466797, 55.44349670410156, 507.58538818359375, 257.4908142089844, 213.3411407470703, 45.563629150390625, 41.667240142822266, 44.43907165527344, 94.2126693725586, 40.12809371948242, 302.1365966796875, 215.0294647216797, 101.2403564453125, 148.71511840820312, 860.3390502929688, 438.1036682128906, 377.30230712890625, 427.5928955078125, 385.2041015625, 518.0032958984375, 1336.135498046875, 1666.0570068359375, 203.8436737060547, 300.7828369140625, 200.98390197753906, 232.31907653808594, 262.185302734375, 412.298095703125, 605.217529296875, 1358.604248046875, 1485.7794189453125, 631.2366943359375, 3220.309814453125, 958.103759765625, 1633.5374755859375, 868.3550415039062, 3302.127197265625, 603.1294555664062, 899.2244262695312, 1024.417724609375, 669.2958984375, 958.143310546875, 471.6819763183594, 356.8578186035156, 465.32818603515625, 242.900634765625, 163.94125366210938, 151.4450225830078, 149.82252502441406, 114.92961120605469, 293.158935546875, 132.88052368164062, 138.76670837402344, 85.76602172851562, 715.6852416992188, 76.21968078613281, 133.5712127685547, 67.52082824707031, 133.8746795654297, 201.51783752441406, 64.91143035888672, 61.1318473815918, 74.07921600341797, 51.648231506347656, 50.69630432128906, 48.23927307128906, 49.79297637939453, 124.09335327148438, 42.792083740234375, 294.8399658203125, 48.57498550415039, 367.1304626464844, 1156.5833740234375, 79.44679260253906, 357.99163818359375, 1161.955322265625, 233.47256469726562, 836.2694702148438, 557.7138061523438, 466.411376953125, 1030.4949951171875, 363.5247802734375, 291.8150634765625, 1764.0556640625, 401.56439208984375, 373.0504150390625, 271.7066345214844, 452.285888671875, 425.851806640625, 432.0772705078125, 747.0911254882812, 1798.057861328125, 1399.6505126953125, 3302.127197265625, 655.8252563476562, 650.4781494140625, 694.40087890625, 239.03857421875, 137.35438537597656, 122.8238525390625, 98.07596588134766, 93.72185516357422, 98.64449310302734, 175.39596557617188, 87.73274230957031, 70.07173919677734, 155.3822784423828, 59.409175872802734, 74.5096206665039, 184.17247009277344, 54.308345794677734, 56.11863327026367, 297.18597412109375, 73.91014862060547, 59.34116744995117, 66.10198211669922, 70.78785705566406, 152.85775756835938, 44.54950714111328, 43.892581939697266, 47.423675537109375, 56.83455276489258, 103.79423522949219, 40.56201171875, 38.82603073120117, 152.4897003173828, 63.274539947509766, 45.27446746826172, 184.08653259277344, 177.18710327148438, 175.37612915039062, 166.787109375, 196.31173706054688, 543.668212890625, 144.85107421875, 183.54368591308594, 378.2807922363281, 394.345703125, 333.7562561035156, 1633.5374755859375, 196.79684448242188, 418.8037414550781, 168.84979248046875, 325.5857849121094, 384.7812805175781, 431.8587951660156, 464.4337158203125, 1503.369384765625, 305.08990478515625, 1764.0556640625, 655.8252563476562, 1358.604248046875, 1485.7794189453125, 290.1952819824219, 3302.127197265625, 424.27471923828125, 668.70703125, 650.934326171875, 735.509765625, 3220.309814453125, 541.6005859375, 1399.6505126953125, 1046.9398193359375, 183.11843872070312, 161.38743591308594, 139.69573974609375, 149.07162475585938, 159.32315063476562, 158.85330200195312, 126.62393188476562, 85.37064361572266, 83.30894470214844, 73.07974243164062, 73.49027252197266, 58.52576446533203, 63.6129035949707, 57.19966125488281, 48.73890686035156, 58.29667663574219, 78.48926544189453, 92.08040618896484, 187.79347229003906, 339.5597229003906, 531.375, 37.72962951660156, 36.59565353393555, 37.026695251464844, 81.91020202636719, 55.0189323425293, 150.93238830566406, 143.8248291015625, 31.996253967285156, 42.030818939208984, 79.4164810180664, 82.78483581542969, 237.2105255126953, 202.25045776367188, 206.41580200195312, 723.4404907226562, 1082.1214599609375, 376.31634521484375, 603.1294555664062, 149.28033447265625, 916.646240234375, 981.3075561523438, 225.66921997070312, 868.3550415039062, 541.6005859375, 370.1924743652344, 247.2028350830078, 582.6098022460938, 3302.127197265625, 278.943603515625, 508.4455261230469, 1024.417724609375, 549.7981567382812, 3220.309814453125, 1358.604248046875, 1485.7794189453125, 1156.5833740234375, 1399.6505126953125, 583.40234375, 860.3390502929688, 584.0641479492188, 316.2666931152344, 217.94183349609375, 182.91171264648438, 593.147705078125, 186.98898315429688, 125.766357421875, 122.82029724121094, 365.19500732421875, 100.6736068725586, 223.1752166748047, 81.02557373046875, 81.5005111694336, 90.86725616455078, 75.93112182617188, 72.20111083984375, 73.6500244140625, 66.05451965332031, 93.50137329101562, 58.26416015625, 66.66812133789062, 46.4105224609375, 59.65800857543945, 87.09571075439453, 54.46304702758789, 46.72142791748047, 42.23533248901367, 41.204952239990234, 76.2947006225586, 43.42616653442383, 204.63755798339844, 686.2882690429688, 406.12200927734375, 272.55419921875, 633.9791870117188, 210.73342895507812, 267.4637451171875, 361.41290283203125, 203.68409729003906, 121.96961975097656, 958.103759765625, 158.69406127929688, 3220.309814453125, 810.9306640625, 267.14385986328125, 232.65428161621094, 399.1629333496094, 1336.135498046875, 1503.369384765625, 3302.127197265625, 958.143310546875, 335.4601135253906, 521.7708129882812, 311.40716552734375, 1046.9398193359375, 1485.7794189453125, 460.4144287109375, 615.490966796875, 529.3712768554688, 306.8421936035156, 172.50262451171875, 79.50180053710938, 63.08734130859375, 66.80463409423828, 60.4943962097168, 62.12419509887695, 54.958641052246094, 87.72444152832031, 238.3163604736328, 196.21290588378906, 71.49610900878906, 41.98289108276367, 78.19266510009766, 238.5830841064453, 183.846435546875, 39.165714263916016, 38.072174072265625, 29.947168350219727, 102.41929626464844, 30.60659408569336, 437.3153381347656, 29.485721588134766, 81.36982727050781, 39.96474838256836, 23.478837966918945, 23.275808334350586, 125.81053161621094, 1129.6505126953125, 437.37689208984375, 67.3830795288086, 71.55974578857422, 1798.057861328125, 400.887939453125, 286.9114990234375, 89.81124114990234, 294.9836120605469, 981.3075561523438, 810.9306640625, 296.9325866699219, 135.1610870361328, 276.0014953613281, 513.6556396484375, 1082.1214599609375, 723.4404907226562, 860.5253295898438, 333.5217590332031, 410.25048828125, 582.6098022460938, 324.15704345703125, 3302.127197265625, 3220.309814453125, 1046.9398193359375, 1399.6505126953125, 216.0745086669922, 163.36056518554688, 120.60224914550781, 301.8988952636719, 66.5384521484375, 46.82371520996094, 496.5919494628906, 41.162437438964844, 1419.641357421875, 47.09684371948242, 157.26132202148438, 36.0067138671875, 32.50510025024414, 36.39482498168945, 31.190961837768555, 286.4953308105469, 70.87406921386719, 43.119754791259766, 53.00743103027344, 86.63362884521484, 114.02869415283203, 240.7620086669922, 72.70497131347656, 21.64719009399414, 22.852306365966797, 58.807533264160156, 21.172786712646484, 73.13557434082031, 39.928348541259766, 19.667482376098633, 225.70736694335938, 955.4827880859375, 252.9462432861328, 109.41571807861328, 87.7215347290039, 331.6602478027344, 140.9416961669922, 521.7708129882812, 588.5018920898438, 230.93089294433594, 104.1923599243164, 128.7168731689453, 695.232177734375, 152.58782958984375, 175.95709228515625, 172.12261962890625, 373.20758056640625, 243.8646240234375, 1399.6505126953125, 583.40234375, 694.40087890625, 329.5003356933594, 388.1506042480469, 220.8272247314453, 442.11810302734375, 1798.057861328125, 871.8021240234375, 1161.955322265625, 340.0424499511719, 594.1400756835938, 763.5913696289062, 64.05723571777344, 68.33843994140625, 51.880489349365234, 38.24161148071289, 35.131858825683594, 79.30490112304688, 36.25080108642578, 37.32917022705078, 84.47863006591797, 116.14411163330078, 59.07750701904297, 35.86643600463867, 112.51361846923828, 27.685392379760742, 117.44283294677734, 76.11294555664062, 67.97277069091797, 69.1470947265625, 22.734111785888672, 43.57508087158203, 21.96469497680664, 21.942258834838867, 25.55876922607422, 18.998943328857422, 258.26141357421875, 38.89079284667969, 39.679893493652344, 24.738521575927734, 34.535091400146484, 427.0006103515625, 379.4354553222656, 324.5715637207031, 241.99327087402344, 589.2122802734375, 348.6665344238281, 118.60758209228516, 102.057373046875, 78.85595703125, 294.1426696777344, 989.1885986328125, 264.10076904296875, 227.25302124023438, 218.0852813720703, 958.143310546875, 139.3933563232422, 107.56420135498047, 513.6556396484375, 3302.127197265625, 1024.417724609375, 281.4772644042969, 178.0286865234375, 3220.309814453125, 519.4349975585938, 1666.0570068359375, 868.3550415039062, 1336.135498046875, 1358.604248046875, 686.2882690429688, 606.7657470703125, 754.8744506835938, 237.94195556640625, 168.33853149414062, 282.11602783203125, 74.93135070800781, 47.41926956176758, 199.68760681152344, 42.81440734863281, 40.965057373046875, 35.709503173828125, 165.1977996826172, 36.42530822753906, 33.47762680053711, 35.36388397216797, 33.49400329589844, 523.1610717773438, 23.729537963867188, 353.190185546875, 57.937828063964844, 198.0552520751953, 22.566160202026367, 23.556262969970703, 40.74601364135742, 84.0079574584961, 19.119125366210938, 19.32634925842285, 22.561546325683594, 20.989154815673828, 48.538814544677734, 71.98793029785156, 26.998281478881836, 442.11810302734375, 135.08013916015625, 86.19413757324219, 404.0502624511719, 164.6641082763672, 410.25048828125, 367.4612731933594, 303.26080322265625, 172.41697692871094, 312.1949157714844, 335.4601135253906, 334.4757995605469, 211.79312133789062, 138.39932250976562, 695.232177734375, 576.06689453125, 114.82610321044922, 408.493408203125, 3220.309814453125, 143.76467895507812, 612.7408447265625, 485.06768798828125, 235.3126678466797, 1419.641357421875, 1046.9398193359375, 1798.057861328125, 3302.127197265625, 573.2811889648438, 57.84115219116211, 48.37406921386719, 44.1182975769043, 41.88298034667969, 38.708038330078125, 37.51720428466797, 34.79399108886719, 31.56446647644043, 75.66058349609375, 28.397647857666016, 26.687973022460938, 23.658369064331055, 52.004852294921875, 658.920654296875, 21.419422149658203, 19.8182373046875, 25.0699520111084, 18.599103927612305, 19.230573654174805, 24.712387084960938, 35.33115005493164, 17.703044891357422, 123.84119415283203, 17.875598907470703, 17.431148529052734, 17.389616012573242, 29.197219848632812, 15.499094009399414, 20.90662384033203, 50.914955139160156, 72.57245635986328, 39.0228157043457, 73.59869384765625, 1503.369384765625, 27.155349731445312, 35.545654296875, 69.65518951416016, 62.35551452636719, 118.61547088623047, 171.3361358642578, 955.4827880859375, 49.39735412597656, 388.1506042480469, 108.22157287597656, 81.26754760742188, 177.42526245117188, 916.646240234375, 150.97019958496094, 507.58538818359375, 95.48745727539062, 1666.0570068359375, 692.0220336914062, 195.422119140625, 1399.6505126953125, 754.8744506835938], \"loglift\": [30.0, 29.0, 28.0, 27.0, 26.0, 25.0, 24.0, 23.0, 22.0, 21.0, 20.0, 19.0, 18.0, 17.0, 16.0, 15.0, 14.0, 13.0, 12.0, 11.0, 10.0, 9.0, 8.0, 7.0, 6.0, 5.0, 4.0, 3.0, 2.0, 1.0, 1.6759999990463257, 1.6758999824523926, 1.6648999452590942, 1.6574000120162964, 1.652500033378601, 1.649899959564209, 1.6461000442504883, 1.6461000442504883, 1.6397000551223755, 1.6371999979019165, 1.632599949836731, 1.6287000179290771, 1.6274000406265259, 1.6159000396728516, 1.6132999658584595, 1.6092000007629395, 1.6038999557495117, 1.5944000482559204, 1.5931999683380127, 1.5907000303268433, 1.5879000425338745, 1.5875999927520752, 1.579800009727478, 1.579800009727478, 1.5782999992370605, 1.5664000511169434, 1.5638999938964844, 1.5611000061035156, 1.5609999895095825, 1.5571000576019287, 1.5544999837875366, 1.5413000583648682, 1.5458999872207642, 1.5255999565124512, 1.451300024986267, 1.4673999547958374, 1.4465999603271484, 1.3945000171661377, 1.3914999961853027, 1.3530000448226929, 1.1871999502182007, 1.1180000305175781, 1.441499948501587, 1.3417999744415283, 1.4255000352859497, 1.381100058555603, 1.3495999574661255, 1.2031999826431274, 1.069599986076355, 0.7329000234603882, 0.6969000101089478, 0.9958000183105469, 0.3125999867916107, 0.6909999847412109, 0.3824000060558319, 0.7046999931335449, -0.11410000175237656, 0.8016999959945679, 0.5059999823570251, 0.34369999170303345, 0.6665999889373779, 0.3386000096797943, 1.8838000297546387, 1.8830000162124634, 1.878499984741211, 1.8726999759674072, 1.8640999794006348, 1.8574999570846558, 1.8573999404907227, 1.8515000343322754, 1.843000054359436, 1.841599941253662, 1.8339999914169312, 1.8264000415802002, 1.815000057220459, 1.8142999410629272, 1.8107000589370728, 1.8083000183105469, 1.807800054550171, 1.8061000108718872, 1.8056999444961548, 1.804800033569336, 1.8047000169754028, 1.7930999994277954, 1.7919000387191772, 1.781599998474121, 1.7757999897003174, 1.7656999826431274, 1.7655999660491943, 1.7649999856948853, 1.7625000476837158, 1.7613999843597412, 1.7101000547409058, 1.75409996509552, 1.7116999626159668, 1.6670000553131104, 1.7201999425888062, 1.6441999673843384, 1.6270999908447266, 1.62909996509552, 1.5405000448226929, 1.6308000087738037, 1.6266000270843506, 1.2783000469207764, 1.5228999853134155, 1.4809000492095947, 1.562000036239624, 1.381100058555603, 1.279099941253662, 1.267300009727478, 0.984499990940094, 0.4325999915599823, 0.31610000133514404, -0.33489999175071716, 0.8199999928474426, 0.8119000196456909, 0.6567999720573425, 2.011199951171875, 1.986799955368042, 1.9817999601364136, 1.9810999631881714, 1.9797999858856201, 1.9788999557495117, 1.9573999643325806, 1.9572999477386475, 1.9569000005722046, 1.945199966430664, 1.9448000192642212, 1.940999984741211, 1.940600037574768, 1.9390000104904175, 1.9383000135421753, 1.9363000392913818, 1.9355000257492065, 1.9306999444961548, 1.9271999597549438, 1.9258999824523926, 1.9198999404907227, 1.919600009918213, 1.916100025177002, 1.9050999879837036, 1.9009000062942505, 1.9004000425338745, 1.8977999687194824, 1.8966000080108643, 1.8966000080108643, 1.8939000368118286, 1.8931000232696533, 1.8428000211715698, 1.8329999446868896, 1.8305000066757202, 1.8325999975204468, 1.8144999742507935, 1.708299994468689, 1.8187999725341797, 1.7897000312805176, 1.6789000034332275, 1.6655000448226929, 1.6583000421524048, 1.3687000274658203, 1.739799976348877, 1.5542999505996704, 1.7537000179290771, 1.568600058555603, 1.5003999471664429, 1.4301999807357788, 1.4019999504089355, 0.9764999747276306, 1.5299999713897705, 0.713699996471405, 1.1146999597549438, 0.609499990940094, 0.5400999784469604, 1.479599952697754, -0.11699999868869781, 1.2309000492095947, 0.9175000190734863, 0.8274000287055969, 0.6044999957084656, -0.7113000154495239, 0.8465999960899353, -0.03550000116229057, 0.2078000009059906, 2.1558001041412354, 2.1542000770568848, 2.1498000621795654, 2.1424999237060547, 2.142199993133545, 2.138200044631958, 2.1333999633789062, 2.1259000301361084, 2.1124000549316406, 2.1106998920440674, 2.105600118637085, 2.0957000255584717, 2.092400074005127, 2.087599992752075, 2.078900098800659, 2.0768001079559326, 2.0738000869750977, 2.072700023651123, 2.0678999423980713, 2.0513999462127686, 2.04259991645813, 2.04229998588562, 2.03410005569458, 2.033400058746338, 2.025700092315674, 2.0190000534057617, 2.0172998905181885, 2.0137999057769775, 2.0125999450683594, 2.0028998851776123, 1.9993000030517578, 1.9966000318527222, 1.9665000438690186, 1.9450000524520874, 1.9365999698638916, 1.7417000532150269, 1.65910005569458, 1.7070000171661377, 1.5780999660491943, 1.8691999912261963, 1.3776999711990356, 1.2955000400543213, 1.6933000087738037, 1.2367000579833984, 1.3858000040054321, 1.4895000457763672, 1.5951000452041626, 1.1928000450134277, 0.33399999141693115, 1.507099986076355, 1.1861000061035156, 0.7340999841690063, 1.083799958229065, -0.2761000096797943, 0.32659998536109924, 0.1339000016450882, 0.33329999446868896, 0.12960000336170197, 0.887499988079071, 0.49570000171661377, 2.403599977493286, 2.396699905395508, 2.3893001079559326, 2.383699893951416, 2.3791000843048096, 2.3731000423431396, 2.3712000846862793, 2.3645999431610107, 2.3642001152038574, 2.3592000007629395, 2.3485000133514404, 2.348099946975708, 2.347399950027466, 2.3457999229431152, 2.3452000617980957, 2.340100049972534, 2.338099956512451, 2.3345999717712402, 2.330399990081787, 2.3224000930786133, 2.3208000659942627, 2.2980000972747803, 2.296999931335449, 2.2955000400543213, 2.2943999767303467, 2.29010009765625, 2.2887001037597656, 2.283900022506714, 2.263200044631958, 2.2604000568389893, 2.256200075149536, 2.237600088119507, 2.2327001094818115, 2.2360000610351562, 2.194999933242798, 2.1930999755859375, 2.143199920654297, 2.059299945831299, 2.112499952316284, 2.1682000160217285, 1.6276999711990356, 2.098299980163574, 1.0781999826431274, 1.3162000179290771, 1.7904000282287598, 1.8463000059127808, 1.5821000337600708, 0.9781000018119812, 0.8432000279426575, 0.33980000019073486, 0.9466000199317932, 1.5773999691009521, 1.231600046157837, 1.6098999977111816, 0.5627999901771545, 0.16590000689029694, 1.2496000528335571, 2.463599920272827, 2.462399959564209, 2.4546000957489014, 2.441800117492676, 2.392400026321411, 2.3866000175476074, 2.385200023651123, 2.3838999271392822, 2.381200075149536, 2.3726999759674072, 2.368499994277954, 2.365299940109253, 2.3603999614715576, 2.3450000286102295, 2.343100070953369, 2.339600086212158, 2.3322999477386475, 2.327699899673462, 2.3264999389648438, 2.319700002670288, 2.2964000701904297, 2.2960000038146973, 2.286400079727173, 2.2860000133514404, 2.268899917602539, 2.2541000843048096, 2.245800018310547, 2.240600109100342, 2.2374000549316406, 2.234600067138672, 2.23009991645813, 2.226099967956543, 2.2202999591827393, 2.210599899291992, 1.9485000371932983, 2.070199966430664, 2.09089994430542, 2.188199996948242, 2.04229998588562, 1.8787000179290771, 1.8451999425888062, 2.005000114440918, 2.1219000816345215, 1.8700000047683716, 1.6601999998092651, 1.3813999891281128, 1.424299955368042, 1.2353999614715576, 1.6548000574111938, 1.535599946975708, 1.307800054550171, 1.5435999631881714, 0.008100000210106373, -0.01899999938905239, 0.6608999967575073, 0.37869998812675476, 2.49429988861084, 2.478300094604492, 2.4730000495910645, 2.4400999546051025, 2.432300090789795, 2.4070000648498535, 2.4045000076293945, 2.3840999603271484, 2.378200054168701, 2.375999927520752, 2.373800039291382, 2.3584001064300537, 2.3364999294281006, 2.3348000049591064, 2.3345000743865967, 2.334199905395508, 2.323899984359741, 2.3106000423431396, 2.2985999584198, 2.2973999977111816, 2.294300079345703, 2.288100004196167, 2.281599998474121, 2.2558000087738037, 2.246799945831299, 2.2460999488830566, 2.243799924850464, 2.242300033569336, 2.240799903869629, 2.2360000610351562, 2.194200038909912, 2.160599946975708, 2.176500082015991, 2.193000078201294, 2.1991000175476074, 2.017899990081787, 2.1280999183654785, 1.929900050163269, 1.8717999458312988, 2.018199920654297, 2.1277999877929688, 2.0806000232696533, 1.6639000177383423, 2.0278000831604004, 1.9845000505447388, 1.9538999795913696, 1.6586999893188477, 1.7821999788284302, 1.018399953842163, 1.3557000160217285, 1.208899974822998, 1.5932999849319458, 1.493399977684021, 1.7441999912261963, 1.273800015449524, 0.24300000071525574, 0.7544999718666077, 0.5037999749183655, 1.4164999723434448, 0.8647000193595886, 2.6693999767303467, 2.6059999465942383, 2.5576999187469482, 2.546799898147583, 2.5415000915527344, 2.538800001144409, 2.525899887084961, 2.5190000534057617, 2.511899948120117, 2.506200075149536, 2.4900999069213867, 2.4863998889923096, 2.4856998920440674, 2.483799934387207, 2.479599952697754, 2.4727001190185547, 2.4507999420166016, 2.450200080871582, 2.4498000144958496, 2.4379000663757324, 2.4319000244140625, 2.429800033569336, 2.4058001041412354, 2.390700101852417, 2.3817999362945557, 2.3791000843048096, 2.3791000843048096, 2.3757998943328857, 2.369999885559082, 2.3622000217437744, 2.356600046157837, 2.3529000282287598, 2.3178999423980713, 2.3108999729156494, 2.270400047302246, 2.279900074005127, 2.3090999126434326, 2.317699909210205, 2.331399917602539, 2.1793999671936035, 1.9785000085830688, 2.1328999996185303, 2.137200117111206, 2.143199920654297, 1.7081999778747559, 2.184799909591675, 2.231600046157837, 1.7020000219345093, 1.0299999713897705, 1.3481999635696411, 1.8180999755859375, 2.0028998851776123, 0.10639999806880951, 1.2532000541687012, 0.4185999929904938, 0.8503999710083008, 0.5521000027656555, 0.2395000010728836, 0.785099983215332, 0.8222000002861023, 0.5595999956130981, 2.721400022506714, 2.7072999477386475, 2.6914000511169434, 2.672600030899048, 2.635200023651123, 2.634999990463257, 2.610599994659424, 2.6089999675750732, 2.593400001525879, 2.5797998905181885, 2.563800096511841, 2.553299903869629, 2.55049991607666, 2.5239999294281006, 2.5199999809265137, 2.512200117111206, 2.503499984741211, 2.487499952316284, 2.4749999046325684, 2.469899892807007, 2.4697000980377197, 2.4570999145507812, 2.447700023651123, 2.4463999271392822, 2.4428000450134277, 2.441800117492676, 2.439500093460083, 2.433000087738037, 2.4282000064849854, 2.4151999950408936, 2.387500047683716, 2.390199899673462, 2.388400077819824, 2.3257999420166016, 2.299999952316284, 2.2012999057769775, 2.1796000003814697, 2.1907999515533447, 2.2353999614715576, 2.1391000747680664, 2.0404000282287598, 2.0297000408172607, 2.121000051498413, 2.214200019836426, 1.7194000482559204, 1.705199956893921, 2.252500057220459, 1.8042999505996704, 1.010200023651123, 2.1331000328063965, 1.4526000022888184, 1.483199954032898, 1.817199945449829, 0.6678000092506409, 0.6956999897956848, 0.07680000364780426, -0.7159000039100647, 0.9617000222206116, 3.2181999683380127, 3.2028000354766846, 3.18969988822937, 3.183300018310547, 3.1637001037597656, 3.163599967956543, 3.1503000259399414, 3.1389000415802, 3.103300094604492, 3.099400043487549, 3.09060001373291, 3.067500114440918, 3.039799928665161, 3.037400007247925, 3.03439998626709, 3.021699905395508, 3.018899917602539, 3.005199909210205, 2.999000072479248, 2.998300075531006, 2.990999937057495, 2.981600046157837, 2.9721999168395996, 2.966900110244751, 2.9556000232696533, 2.9544999599456787, 2.9296998977661133, 2.9265999794006348, 2.899600028991699, 2.8968000411987305, 2.8654000759124756, 2.875699996948242, 2.7744998931884766, 2.269200086593628, 2.8747000694274902, 2.785399913787842, 2.580199956893921, 2.5794999599456787, 2.3427000045776367, 2.1382999420166016, 1.302899956703186, 2.634000062942505, 1.5577000379562378, 2.20740008354187, 2.363800048828125, 1.920300006866455, 0.859499990940094, 1.9351999759674072, 0.9945999979972839, 2.214099884033203, 0.09650000184774399, 0.6394000053405762, 1.5513999462127686, -0.2492000013589859, 0.2703000009059906], \"logprob\": [30.0, 29.0, 28.0, 27.0, 26.0, 25.0, 24.0, 23.0, 22.0, 21.0, 20.0, 19.0, 18.0, 17.0, 16.0, 15.0, 14.0, 13.0, 12.0, 11.0, 10.0, 9.0, 8.0, 7.0, 6.0, 5.0, 4.0, 3.0, 2.0, 1.0, -5.445899963378906, -5.44189977645874, -5.65500020980835, -6.011199951171875, -6.384399890899658, -6.428299903869629, -6.541200160980225, -6.598199844360352, -6.709400177001953, -4.831900119781494, -6.816400051116943, -6.8846001625061035, -6.839799880981445, -6.959799766540527, -7.051199913024902, -7.206699848175049, -7.204999923706055, -5.0391998291015625, -7.023099899291992, -7.022799968719482, -6.0329999923706055, -7.291200160980225, -5.08459997177124, -5.763400077819824, -5.952899932861328, -7.508600234985352, -7.600500106811523, -7.53879976272583, -6.787499904632568, -7.644999980926514, -5.628699779510498, -5.98199987411499, -6.7307000160217285, -6.366499900817871, -4.685500144958496, -5.344200134277344, -5.514400005340576, -5.441400051116943, -5.548799991607666, -5.291100025177002, -4.509399890899658, -4.357900142669678, -6.135300159454346, -5.845900058746338, -6.16540002822876, -6.064799785614014, -5.975399971008301, -5.6691999435424805, -5.418900012969971, -4.947000026702881, -4.893499851226807, -5.4506001472473145, -4.504199981689453, -5.338099956512451, -5.1132001876831055, -5.422800064086914, -4.905900001525879, -5.690199851989746, -5.586599826812744, -5.618500232696533, -5.72130012512207, -5.690499782562256, -4.854000091552734, -5.133800029754639, -4.872900009155273, -5.52869987487793, -5.930500030517578, -6.01639986038208, -6.027200222015381, -6.298299789428711, -5.370299816131592, -6.163000106811523, -6.127299785614014, -6.616099834442139, -4.505899906158447, -6.746200084686279, -6.188799858093262, -6.873300075531006, -6.1894001960754395, -5.782100200653076, -6.91540002822876, -6.97629976272583, -6.784299850463867, -7.156499862670898, -7.176300048828125, -7.236299991607666, -7.210400104522705, -6.307300090789795, -7.372099876403809, -5.442699909210205, -7.248499870300293, -5.226900100708008, -4.13070011138916, -6.764900207519531, -5.3018999099731445, -4.169300079345703, -5.720900058746338, -4.520899772644043, -4.94320011138916, -5.119900226593018, -4.415800094604492, -5.367499828338623, -5.591300010681152, -4.140399932861328, -5.375800132751465, -5.491399765014648, -5.72730016708374, -5.39870023727417, -5.5609002113342285, -5.55810022354126, -5.293399810791016, -4.967100143432617, -5.334000110626221, -5.1265997886657715, -5.588200092315674, -5.604499816894531, -5.694200038909912, -5.406199932098389, -5.9847002029418945, -6.101500034332275, -6.327300071716309, -6.373899936676025, -6.323699951171875, -5.769700050354004, -6.462500095367432, -6.687699794769287, -5.90310001373291, -6.864799976348877, -6.642199993133545, -5.737599849700928, -6.960400104522705, -6.928400039672852, -5.263400077819824, -6.655799865722656, -6.880099773406982, -6.775700092315674, -6.708499908447266, -5.944699764251709, -7.1778998374938965, -7.196199893951416, -7.129799842834473, -6.953000068664551, -6.35129976272583, -7.293499946594238, -7.338399887084961, -5.970399856567383, -6.852700233459473, -7.188199996948242, -5.835899829864502, -5.883900165557861, -5.896699905395508, -5.944799900054932, -5.799900054931641, -4.887499809265137, -6.099599838256836, -5.891900062561035, -5.2795000076293945, -5.251399993896484, -5.4253997802734375, -4.1269001960754395, -5.872099876403809, -5.3024001121521, -6.01140022277832, -5.539899826049805, -5.440999984741211, -5.3958001136779785, -5.35129976272583, -4.602099895477295, -5.643499851226807, -4.705100059509277, -5.293499946594238, -5.070400238037109, -5.050300121307373, -5.74399995803833, -4.908699989318848, -5.612800121307373, -5.471199989318848, -5.5883002281188965, -5.689000129699707, -5.528200149536133, -5.752999782562256, -5.6855998039245605, -5.732699871063232, -5.528200149536133, -5.656000137329102, -5.804900169372559, -5.747099876403809, -5.681000232696533, -5.687900066375732, -5.91949987411499, -6.321199893951416, -6.3592000007629395, -6.4918999671936035, -6.491300106048584, -6.728899955749512, -6.648799896240234, -6.760000228881836, -6.928699970245361, -6.751699924468994, -6.457300186157227, -6.298799991607666, -5.59089994430542, -5.015100002288818, -4.576000213623047, -7.22130012512207, -7.2600998878479, -7.249000072479248, -6.462800025939941, -6.867400169372559, -5.860000133514404, -5.9116997718811035, -7.415900230407715, -7.1528000831604, -6.519999980926514, -6.481200218200684, -5.458600044250488, -5.639500141143799, -5.627600193023682, -4.568299770355225, -4.248300075531006, -5.256700038909912, -4.91379976272583, -6.019100189208984, -4.695700168609619, -4.709700107574463, -5.781700134277344, -4.8907999992370605, -5.213799953460693, -5.490600109100342, -5.78879976272583, -5.333799839019775, -4.457799911499023, -5.75600004196167, -5.476600170135498, -5.2281999588012695, -5.500699996948242, -5.092899799346924, -5.3531999588012695, -5.456500053405762, -5.507500171661377, -5.520500183105469, -5.637700080871582, -5.640999794006348, -4.120500087738037, -4.740799903869629, -5.12060022354126, -5.301400184631348, -4.1296000480651855, -5.289999961853027, -5.688499927520752, -5.718800067901611, -4.62939977645874, -5.923099994659424, -5.137599945068359, -6.151199817657471, -6.146100044250488, -6.038899898529053, -6.219099998474121, -6.274499893188477, -6.256700038909912, -6.36899995803833, -6.025700092315674, -6.506800174713135, -6.373499870300293, -6.758600234985352, -6.508500099182129, -6.1315999031066895, -6.602200031280518, -6.759799957275391, -6.862199783325195, -6.891600131988525, -6.296199798583984, -6.862599849700928, -5.316699981689453, -4.125199794769287, -4.654699802398682, -5.05019998550415, -4.247099876403809, -5.350399971008301, -5.161900043487549, -4.944699764251709, -5.465000152587891, -5.9222002029418945, -4.401400089263916, -5.728899955749512, -3.7386999130249023, -4.879700183868408, -5.515900135040283, -5.598199844360352, -5.3225998878479, -4.718500137329102, -4.735499858856201, -4.452000141143799, -5.082499980926514, -5.501200199127197, -5.405300140380859, -5.543000221252441, -5.377699851989746, -5.424499988555908, -5.512400150299072, -4.007999897003174, -4.159999847412109, -4.713200092315674, -5.3018999099731445, -6.125899791717529, -6.36299991607666, -6.30709981918335, -6.407599925994873, -6.383800029754639, -6.514800071716309, -6.051400184631348, -5.055200099945068, -5.254499912261963, -6.279399871826172, -6.813799858093262, -6.195300102233887, -5.087100028991699, -5.35230016708374, -6.899799823760986, -6.934899806976318, -7.198299884796143, -5.969099998474121, -7.186500072479248, -4.527400016784668, -7.241300106048584, -6.241000175476074, -6.96019983291626, -7.497399806976318, -7.509300231933594, -5.824699878692627, -3.6342999935150146, -4.587200164794922, -6.463399887084961, -6.412899971008301, -3.4511001110076904, -4.8302001953125, -5.144000053405762, -6.208199977874756, -5.164899826049805, -4.126500129699707, -4.3506999015808105, -5.1956000328063965, -5.865699768066406, -5.40369987487793, -4.992300033569336, -4.526000022888184, -4.885799884796143, -4.901199817657471, -5.429599761962891, -5.341800212860107, -5.218800067901611, -5.569200038909912, -4.783699989318848, -4.8358001708984375, -5.279600143432617, -5.271500110626221, -5.024199962615967, -5.319799900054932, -5.628600120544434, -4.743899822235107, -6.264100074768066, -6.640699863433838, -4.281799793243408, -6.792500019073486, -3.2578001022338867, -6.665900230407715, -5.462399959564209, -6.951900005340576, -7.076200008392334, -6.964799880981445, -7.119500160217285, -4.902200222015381, -6.309299945831299, -6.819499969482422, -6.625100135803223, -6.135000228881836, -5.86329984664917, -5.122200012207031, -6.326000213623047, -7.563399791717529, -7.5183000564575195, -6.573699951171875, -7.597599983215332, -6.359499931335449, -6.96619987487793, -7.679200172424316, -5.280700206756592, -3.871299982070923, -5.1844000816345215, -6.005899906158447, -6.220900058746338, -5.0721001625061035, -5.817599773406982, -4.706999778747559, -4.644700050354004, -5.433800220489502, -6.119999885559082, -5.955900192260742, -4.6859002113342285, -5.838600158691406, -5.739299774169922, -5.791999816894531, -5.313199996948242, -5.615300178527832, -4.631700038909912, -5.16949987411499, -5.142099857330322, -5.503200054168701, -5.439300060272217, -5.752500057220459, -5.528800010681152, -5.156599998474121, -5.369100093841553, -5.332399845123291, -5.648499965667725, -5.642199993133545, -3.5866000652313232, -6.128300189971924, -6.1118998527526855, -6.398399829864502, -6.708700180053711, -6.79610013961792, -5.994900226593018, -6.7846999168396, -6.762499809265137, -5.951399803161621, -5.649099826812744, -6.328800201416016, -6.82859992980957, -5.687300205230713, -7.093599796295166, -5.655399799346924, -6.111100196838379, -6.224800109863281, -6.208099842071533, -7.332300186157227, -6.687699794769287, -7.374899864196777, -7.399799823760986, -7.262400150299072, -7.56790018081665, -4.960999965667725, -6.8541998863220215, -6.837399959564209, -7.315700054168701, -6.989999771118164, -4.4807000160217285, -4.602499961853027, -4.793700218200684, -5.094299793243408, -4.244900226593018, -4.7600998878479, -5.809100151062012, -5.950900077819824, -6.195099830627441, -5.030600070953369, -4.018700122833252, -5.184899806976318, -5.3308000564575195, -5.366000175476074, -4.320899963378906, -5.771999835968018, -5.984399795532227, -4.9506001472473145, -3.7618000507354736, -4.613999843597412, -5.4359002113342285, -5.709199905395508, -4.710400104522705, -5.3881001472473145, -5.057199954986572, -5.277100086212158, -5.144499778747559, -5.440400123596191, -5.577700138092041, -5.66379976272583, -5.708000183105469, -4.700699806213379, -5.060800075531006, -4.560400009155273, -5.904900074005127, -6.399899959564209, -4.962299823760986, -6.526599884033203, -6.572400093078613, -6.725299835205078, -5.207200050354004, -6.735099792480469, -6.829899787902832, -6.777900218963623, -6.858699798583984, -4.114200115203857, -7.215099811553955, -4.523600101470947, -6.347300052642822, -5.1305999755859375, -7.307700157165527, -7.264999866485596, -6.729599952697754, -6.015500068664551, -7.497000217437744, -7.489799976348877, -7.335999965667725, -7.410600185394287, -6.578700065612793, -6.1894001960754395, -7.18310022354126, -4.414999961853027, -5.5980000495910645, -6.049099922180176, -4.566800117492676, -5.490200042724609, -4.676000118255615, -4.807799816131592, -4.988699913024902, -5.508800029754639, -5.01140022277832, -5.0381999015808105, -5.051799774169922, -5.417500019073486, -5.74970006942749, -4.63040018081665, -4.832699775695801, -5.898200035095215, -5.077300071716309, -3.8066000938415527, -5.792799949645996, -5.023600101470947, -5.226600170135498, -5.616000175476074, -4.968100070953369, -5.244800090789795, -5.322800159454346, -5.507699966430664, -5.580999851226807, -5.618199825286865, -5.812300205230713, -5.917500019073486, -5.975900173187256, -6.074399948120117, -6.1057000160217285, -6.194399833679199, -6.303100109100342, -5.464600086212158, -6.448400020599365, -6.5192999839782715, -6.662899971008301, -5.902900218963623, -3.3661000728607178, -6.795400142669678, -6.885799884796143, -6.653500080108643, -6.965799808502197, -6.938600063323975, -6.688399791717529, -6.3383002281188965, -7.038700103759766, -5.10290002822876, -7.043700218200684, -7.0802998542785645, -7.083700180053711, -6.5903000831604, -7.226799964904785, -6.954500198364258, -6.0671000480651855, -5.744100093841553, -6.354300022125244, -5.821000099182129, -3.3094000816345215, -6.717800140380859, -6.537899971008301, -6.070400238037109, -6.18179988861084, -5.7754998207092285, -5.612100124359131, -4.729000091552734, -6.360199928283691, -5.375, -6.002500057220459, -6.132599830627441, -5.795199871063232, -5.213900089263916, -5.941800117492676, -5.6697998046875, -6.120999813079834, -5.37939977645874, -5.715099811553955, -6.067500114440918, -5.8993000984191895, -5.997200012207031]}, \"token.table\": {\"Topic\": [1, 2, 3, 4, 5, 6, 7, 8, 9, 10, 1, 2, 3, 4, 5, 6, 7, 8, 9, 10, 1, 2, 3, 4, 5, 6, 7, 8, 9, 1, 2, 3, 4, 5, 6, 7, 8, 9, 10, 1, 2, 3, 4, 5, 6, 7, 8, 9, 10, 1, 2, 3, 4, 5, 6, 7, 8, 9, 1, 2, 3, 4, 5, 6, 7, 8, 9, 1, 2, 3, 4, 5, 6, 7, 8, 9, 10, 1, 2, 3, 4, 5, 6, 7, 8, 9, 1, 2, 3, 4, 5, 6, 7, 8, 9, 1, 2, 3, 4, 5, 6, 7, 8, 9, 1, 2, 3, 4, 5, 6, 7, 8, 9, 1, 2, 3, 4, 5, 6, 7, 8, 9, 1, 2, 3, 4, 5, 6, 7, 8, 9, 10, 1, 2, 3, 4, 5, 6, 7, 8, 9, 10, 1, 2, 3, 4, 5, 6, 7, 8, 9, 10, 1, 2, 3, 4, 5, 6, 7, 8, 9, 1, 2, 3, 4, 5, 6, 7, 8, 9, 10, 1, 2, 3, 4, 5, 6, 7, 8, 9, 1, 2, 3, 4, 5, 6, 7, 8, 9, 10, 1, 2, 3, 4, 5, 6, 7, 8, 9, 10, 1, 2, 3, 4, 5, 6, 7, 8, 9, 10, 1, 2, 3, 4, 5, 6, 7, 8, 9, 10, 1, 2, 3, 4, 5, 6, 7, 8, 9, 10, 1, 2, 3, 4, 5, 6, 7, 8, 9, 10, 1, 2, 3, 4, 5, 6, 7, 8, 9, 10, 1, 2, 3, 4, 5, 6, 7, 8, 9, 10, 1, 2, 3, 4, 5, 6, 7, 8, 9, 1, 2, 3, 4, 5, 6, 7, 8, 9, 10, 1, 2, 3, 4, 5, 6, 7, 8, 9, 1, 2, 3, 4, 5, 6, 7, 8, 9, 10, 1, 2, 3, 4, 5, 6, 7, 8, 9, 1, 2, 3, 4, 5, 6, 7, 8, 9, 1, 2, 3, 4, 5, 6, 7, 8, 9, 10, 1, 2, 3, 4, 5, 6, 7, 8, 9, 10, 1, 2, 3, 4, 5, 6, 7, 8, 9, 1, 2, 3, 4, 5, 6, 7, 8, 9, 1, 2, 3, 4, 5, 6, 7, 8, 9, 10, 1, 2, 3, 4, 5, 6, 7, 8, 9, 1, 2, 3, 4, 5, 6, 7, 8, 9, 10, 1, 2, 3, 4, 5, 6, 7, 8, 9, 1, 2, 3, 4, 5, 6, 7, 8, 9, 10, 1, 2, 3, 4, 5, 6, 7, 8, 9, 10, 1, 2, 3, 4, 5, 6, 7, 8, 9, 10, 1, 2, 3, 4, 5, 6, 7, 8, 9, 1, 2, 3, 4, 5, 6, 7, 8, 9, 10, 1, 2, 3, 4, 5, 6, 7, 8, 9, 1, 2, 3, 4, 5, 6, 7, 8, 9, 10, 1, 2, 3, 4, 5, 6, 7, 8, 9, 10, 1, 2, 3, 4, 5, 6, 7, 8, 9, 10, 1, 2, 3, 4, 5, 6, 7, 8, 9, 1, 2, 3, 4, 5, 6, 7, 8, 9, 10, 1, 2, 3, 4, 5, 6, 7, 8, 9, 10, 1, 2, 3, 4, 5, 6, 7, 8, 9, 1, 2, 3, 4, 5, 6, 7, 8, 9, 10, 1, 2, 3, 4, 5, 6, 7, 8, 9, 10, 1, 2, 3, 4, 5, 6, 7, 8, 9, 1, 2, 3, 4, 5, 6, 7, 8, 9, 10, 1, 2, 3, 4, 5, 6, 7, 8, 9, 1, 2, 3, 4, 5, 6, 7, 8, 9, 1, 2, 3, 4, 5, 6, 7, 8, 9, 10, 1, 2, 3, 4, 5, 6, 7, 8, 9, 10, 1, 2, 3, 4, 5, 6, 7, 8, 9, 10, 1, 2, 3, 4, 5, 6, 7, 8, 9, 10, 1, 2, 3, 4, 5, 6, 7, 8, 9, 1, 2, 3, 4, 5, 6, 7, 8, 9, 10, 1, 2, 3, 4, 5, 6, 7, 8, 9, 10, 1, 2, 3, 4, 5, 6, 7, 8, 9, 10, 1, 2, 3, 4, 5, 6, 7, 8, 9, 10, 1, 2, 3, 4, 5, 6, 7, 8, 9, 10, 1, 2, 3, 4, 5, 6, 7, 8, 9, 10, 1, 2, 3, 4, 5, 6, 7, 8, 9, 10, 1, 2, 3, 4, 5, 6, 7, 8, 9, 1, 2, 3, 4, 5, 6, 7, 8, 9, 10, 1, 2, 3, 4, 5, 6, 7, 8, 9, 10, 1, 2, 3, 4, 5, 6, 7, 8, 9, 1, 2, 3, 4, 5, 6, 7, 8, 9, 10, 1, 2, 3, 4, 5, 6, 7, 8, 9, 10, 1, 2, 3, 4, 5, 6, 7, 8, 9, 10, 1, 2, 3, 4, 5, 6, 7, 8, 9, 1, 2, 3, 4, 5, 6, 7, 8, 9, 1, 2, 3, 4, 5, 6, 7, 8, 9, 10, 1, 2, 3, 4, 5, 6, 7, 8, 9, 1, 2, 3, 4, 5, 6, 7, 8, 9, 10, 1, 2, 3, 4, 5, 6, 7, 8, 9, 10, 1, 2, 3, 4, 5, 6, 7, 8, 9, 10, 1, 2, 3, 4, 5, 6, 7, 8, 9, 10, 1, 2, 3, 4, 5, 6, 7, 8, 9, 10, 1, 2, 3, 4, 5, 6, 7, 8, 9, 10, 1, 2, 3, 4, 5, 6, 7, 8, 9, 1, 2, 3, 4, 5, 6, 7, 8, 9, 1, 2, 3, 4, 5, 6, 7, 8, 9, 10, 1, 2, 3, 4, 5, 6, 7, 8, 9, 1, 2, 3, 4, 5, 6, 7, 8, 9, 10, 1, 2, 3, 4, 5, 6, 7, 8, 9, 1, 2, 3, 4, 5, 6, 7, 8, 9, 10, 1, 2, 3, 4, 5, 6, 7, 8, 9, 10, 1, 2, 3, 4, 5, 6, 7, 8, 9, 1, 2, 3, 4, 5, 6, 7, 8, 9, 1, 2, 3, 4, 5, 6, 7, 8, 9, 10, 1, 2, 3, 4, 5, 6, 7, 8, 9, 10, 1, 2, 3, 4, 5, 6, 7, 8, 9, 10, 1, 2, 3, 4, 5, 6, 7, 8, 9, 10, 1, 2, 3, 4, 5, 6, 7, 8, 9, 10, 1, 2, 3, 4, 5, 6, 7, 8, 9, 10, 1, 2, 3, 4, 5, 6, 7, 8, 9, 10, 1, 2, 3, 4, 5, 6, 7, 8, 9, 10, 1, 2, 3, 4, 5, 6, 7, 8, 9, 10, 1, 2, 3, 4, 5, 6, 7, 8, 9, 10, 1, 2, 3, 4, 5, 6, 7, 8, 9, 10, 1, 2, 3, 4, 5, 6, 7, 8, 9, 1, 2, 3, 4, 5, 6, 7, 8, 9, 10, 1, 2, 3, 4, 5, 6, 7, 8, 9, 10, 1, 2, 3, 4, 5, 6, 7, 8, 9, 1, 2, 3, 4, 5, 6, 7, 8, 9, 1, 2, 3, 4, 5, 6, 7, 8, 9, 10, 1, 2, 3, 4, 5, 6, 7, 8, 9, 10, 1, 2, 3, 4, 5, 6, 7, 8, 9, 10, 1, 2, 3, 4, 5, 6, 7, 8, 9, 1, 2, 3, 4, 5, 6, 7, 8, 9, 10, 1, 2, 3, 4, 5, 6, 7, 8, 9, 10, 1, 2, 3, 4, 5, 6, 7, 8, 9, 10, 1, 2, 3, 4, 5, 6, 7, 8, 9, 10, 1, 2, 3, 4, 5, 6, 7, 8, 9, 1, 2, 3, 4, 5, 6, 7, 8, 9, 10, 1, 2, 3, 4, 5, 6, 7, 8, 9, 10, 1, 2, 3, 4, 5, 6, 7, 8, 9, 10, 1, 2, 3, 4, 5, 6, 7, 8, 9, 1, 2, 3, 4, 5, 6, 7, 8, 9, 10, 1, 2, 3, 4, 5, 6, 7, 8, 9, 10, 1, 2, 3, 4, 5, 6, 7, 8, 9, 1, 2, 3, 4, 5, 6, 7, 8, 9, 1, 2, 3, 4, 5, 6, 7, 8, 9, 10, 1, 2, 3, 4, 5, 6, 7, 8, 9, 10, 1, 2, 3, 4, 5, 6, 7, 8, 9, 1, 2, 3, 4, 5, 6, 7, 8, 9, 10, 1, 2, 3, 4, 5, 6, 7, 8, 9, 10, 1, 2, 3, 4, 5, 6, 7, 8, 9, 10, 1, 2, 3, 4, 5, 6, 7, 8, 9, 1, 2, 3, 4, 5, 6, 7, 8, 9, 1, 2, 3, 4, 5, 6, 7, 8, 9, 10, 1, 2, 3, 4, 5, 6, 7, 8, 9, 10, 1, 2, 3, 4, 5, 6, 7, 8, 9, 10, 1, 2, 3, 4, 5, 6, 7, 8, 9, 1, 2, 3, 4, 5, 6, 7, 8, 9, 10, 1, 2, 3, 4, 5, 6, 7, 8, 9, 10, 1, 2, 3, 4, 5, 6, 7, 8, 9, 10, 1, 2, 3, 4, 5, 6, 7, 8, 9, 1, 2, 3, 4, 5, 6, 7, 8, 9, 10, 1, 2, 3, 4, 5, 6, 7, 8, 9, 1, 2, 3, 4, 5, 6, 7, 8, 9, 10, 1, 2, 3, 4, 5, 6, 7, 8, 9, 10, 1, 2, 3, 4, 5, 6, 7, 8, 9, 1, 2, 3, 4, 5, 6, 7, 8, 9, 10, 1, 2, 3, 4, 5, 6, 7, 8, 9, 1, 2, 3, 4, 5, 6, 7, 8, 9, 1, 2, 3, 4, 5, 6, 7, 8, 9, 1, 2, 3, 4, 5, 6, 7, 8, 9, 1, 2, 3, 4, 5, 6, 7, 8, 9, 10, 1, 2, 3, 4, 5, 6, 7, 8, 9, 10, 1, 2, 3, 4, 5, 6, 7, 8, 9, 1, 2, 3, 4, 5, 6, 7, 8, 9, 10, 1, 2, 3, 4, 5, 6, 7, 8, 9, 10, 1, 2, 3, 4, 5, 6, 7, 8, 9, 1, 2, 3, 4, 5, 6, 7, 8, 9, 1, 2, 3, 4, 5, 6, 7, 8, 9, 1, 2, 3, 4, 5, 6, 7, 8, 9, 1, 2, 3, 4, 5, 6, 7, 8, 9, 1, 2, 3, 4, 5, 6, 7, 8, 9, 10, 1, 2, 3, 4, 5, 6, 7, 8, 9, 10, 1, 2, 3, 4, 5, 6, 7, 8, 9, 10, 1, 2, 3, 4, 5, 6, 7, 8, 9, 10, 1, 2, 3, 4, 5, 6, 7, 8, 9, 1, 2, 3, 4, 5, 6, 7, 8, 9, 10, 1, 2, 3, 4, 5, 6, 7, 8, 9, 10, 1, 2, 3, 4, 5, 6, 7, 8, 9, 10, 1, 2, 3, 4, 5, 6, 7, 8, 9, 10, 1, 2, 3, 4, 5, 6, 7, 8, 9, 10, 1, 2, 3, 4, 5, 6, 7, 8, 9, 10, 1, 2, 3, 4, 5, 6, 7, 8, 9, 10, 1, 2, 3, 4, 5, 6, 7, 8, 9, 10, 1, 2, 3, 4, 5, 6, 7, 8, 9, 1, 2, 3, 4, 5, 6, 7, 8, 9, 1, 2, 3, 4, 5, 6, 7, 8, 9, 10, 1, 2, 3, 4, 5, 6, 7, 8, 9, 10, 1, 2, 3, 4, 5, 6, 7, 8, 9, 1, 2, 3, 4, 5, 6, 7, 8, 9, 1, 2, 3, 4, 5, 6, 7, 8, 9, 10, 1, 2, 3, 4, 5, 6, 7, 8, 9, 10, 1, 2, 3, 4, 5, 6, 7, 8, 9, 10, 1, 2, 3, 4, 5, 6, 7, 8, 9, 10, 1, 2, 3, 4, 5, 6, 7, 8, 9, 10, 1, 2, 3, 4, 5, 6, 7, 8, 9, 10, 1, 2, 3, 4, 5, 6, 7, 8, 9, 10, 1, 2, 3, 4, 5, 6, 7, 8, 9, 10, 1, 2, 3, 4, 5, 6, 7, 8, 9, 10, 1, 2, 3, 4, 5, 6, 7, 8, 9, 10, 1, 2, 3, 4, 5, 6, 7, 8, 9, 1, 2, 3, 4, 5, 6, 7, 8, 9, 10, 1, 2, 3, 4, 5, 6, 7, 8, 9, 1, 2, 3, 4, 5, 6, 7, 8, 9, 10, 1, 2, 3, 4, 5, 6, 7, 8, 9, 10, 1, 2, 3, 4, 5, 6, 7, 8, 9, 1, 2, 3, 4, 5, 6, 7, 8, 9, 10, 1, 2, 3, 4, 5, 6, 7, 8, 9, 1, 2, 3, 4, 5, 6, 7, 8, 9, 10, 1, 2, 3, 4, 5, 6, 7, 8, 9, 10, 1, 2, 3, 4, 5, 6, 7, 8, 9, 10, 1, 2, 3, 4, 5, 6, 7, 8, 9, 10, 1, 2, 3, 4, 5, 6, 7, 8, 9, 10, 1, 2, 3, 4, 5, 6, 7, 8, 9, 1, 2, 3, 4, 5, 6, 7, 8, 9, 10, 1, 2, 3, 4, 5, 6, 7, 8, 9, 10, 1, 2, 3, 4, 5, 6, 7, 8, 9, 1, 2, 3, 4, 5, 6, 7, 8, 9, 10, 1, 2, 3, 4, 5, 6, 7, 8, 9, 1, 2, 3, 4, 5, 6, 7, 8, 9, 10, 1, 2, 3, 4, 5, 6, 7, 8, 9, 10, 1, 2, 3, 4, 5, 6, 7, 8, 9, 10, 1, 2, 3, 4, 5, 6, 7, 8, 9, 1, 2, 3, 4, 5, 6, 7, 8, 9, 10, 1, 2, 3, 4, 5, 6, 7, 8, 9, 1, 2, 3, 4, 5, 6, 7, 8, 9, 10, 1, 2, 3, 4, 5, 6, 7, 8, 9, 1, 2, 3, 4, 5, 6, 7, 8, 9, 1, 2, 3, 4, 5, 6, 7, 8, 9, 1, 2, 3, 4, 5, 6, 7, 8, 9, 10, 1, 2, 3, 4, 5, 6, 7, 8, 9, 10, 1, 2, 3, 4, 5, 6, 7, 8, 9, 10, 1, 2, 3, 4, 5, 6, 7, 8, 9, 10, 1, 2, 3, 4, 5, 6, 7, 8, 9, 10, 1, 2, 3, 4, 5, 6, 7, 8, 9, 10, 1, 2, 3, 4, 5, 6, 7, 8, 9, 10, 1, 2, 3, 4, 5, 6, 7, 8, 9, 1, 2, 3, 4, 5, 6, 7, 8, 9, 1, 2, 3, 4, 5, 6, 7, 8, 9, 1, 2, 3, 4, 5, 6, 7, 8, 9, 10, 1, 2, 3, 4, 5, 6, 7, 8, 9, 10, 1, 2, 3, 4, 5, 6, 7, 8, 9, 10, 1, 2, 3, 4, 5, 6, 7, 8, 9, 10, 1, 2, 3, 4, 5, 6, 7, 8, 9, 1, 2, 3, 4, 5, 6, 7, 8, 9, 1, 2, 3, 4, 5, 6, 7, 8, 9, 1, 2, 3, 4, 5, 6, 7, 8, 9, 10, 1, 2, 3, 4, 5, 6, 7, 8, 9, 1, 2, 3, 4, 5, 6, 7, 8, 9, 1, 2, 3, 4, 5, 6, 7, 8, 9, 10, 1, 2, 3, 4, 5, 6, 7, 8, 9, 10, 1, 2, 3, 4, 5, 6, 7, 8, 9, 10, 1, 2, 3, 4, 5, 6, 7, 8, 9, 1, 2, 3, 4, 5, 6, 7, 8, 9, 10, 1, 2, 3, 4, 5, 6, 7, 8, 9, 1, 2, 3, 4, 5, 6, 7, 8, 9, 10, 1, 2, 3, 4, 5, 6, 7, 8, 9, 10, 1, 2, 3, 4, 5, 6, 7, 8, 9, 10, 1, 2, 3, 4, 5, 6, 7, 8, 9, 10, 1, 2, 3, 4, 5, 6, 7, 8, 9, 10, 1, 2, 3, 4, 5, 6, 7, 8, 9, 10, 1, 2, 3, 4, 5, 6, 7, 8, 9, 10, 1, 2, 3, 4, 5, 6, 7, 8, 9, 1, 2, 3, 4, 5, 6, 7, 8, 9, 1, 2, 3, 4, 5, 6, 7, 8, 9, 1, 2, 3, 4, 5, 6, 7, 8, 9, 1, 2, 3, 4, 5, 6, 7, 8, 9, 10, 1, 2, 3, 4, 5, 6, 7, 8, 9, 1, 2, 3, 4, 5, 6, 7, 8, 9, 1, 2, 3, 4, 5, 6, 7, 8, 9, 1, 2, 3, 4, 5, 6, 7, 8, 9, 10, 1, 2, 3, 4, 5, 6, 7, 8, 9, 10, 1, 2, 3, 4, 5, 6, 7, 8, 9, 10, 1, 2, 3, 4, 5, 6, 7, 8, 9, 10, 1, 2, 3, 4, 5, 6, 7, 8, 9, 10, 1, 2, 3, 4, 5, 6, 7, 8, 9, 10, 1, 2, 3, 4, 5, 6, 7, 8, 9, 10, 1, 2, 3, 4, 5, 6, 7, 8, 9, 1, 2, 3, 4, 5, 6, 7, 8, 9, 10, 1, 2, 3, 4, 5, 6, 7, 8, 9, 10, 1, 2, 3, 4, 5, 6, 7, 8, 9, 10, 1, 2, 3, 4, 5, 6, 7, 8, 9, 10, 1, 2, 3, 4, 5, 6, 7, 8, 9, 10, 1, 2, 3, 4, 5, 6, 7, 8, 9, 1, 2, 3, 4, 5, 6, 7, 8, 9, 10, 1, 2, 3, 4, 5, 6, 7, 8, 9, 10, 1, 2, 3, 4, 5, 6, 7, 8, 9, 10, 1, 2, 3, 4, 5, 6, 7, 8, 9, 1, 2, 3, 4, 5, 6, 7, 8, 9, 1, 2, 3, 4, 5, 6, 7, 8, 9, 10, 1, 2, 3, 4, 5, 6, 7, 8, 9, 10, 1, 2, 3, 4, 5, 6, 7, 8, 9, 1, 2, 3, 4, 5, 6, 7, 8, 9, 10, 1, 2, 3, 4, 5, 6, 7, 8, 9, 10, 1, 2, 3, 4, 5, 6, 7, 8, 9, 10, 1, 2, 3, 4, 5, 6, 7, 8, 9, 1, 2, 3, 4, 5, 6, 7, 8, 9, 10, 1, 2, 3, 4, 5, 6, 7, 8, 9, 1, 2, 3, 4, 5, 6, 7, 8, 9, 1, 2, 3, 4, 5, 6, 7, 8, 9, 10, 1, 2, 3, 4, 5, 6, 7, 8, 9, 10, 1, 2, 3, 4, 5, 6, 7, 8, 9, 10, 1, 2, 3, 4, 5, 6, 7, 8, 9, 1, 2, 3, 4, 5, 6, 7, 8, 9, 10, 1, 2, 3, 4, 5, 6, 7, 8, 9, 1, 2, 3, 4, 5, 6, 7, 8, 9, 10, 1, 2, 3, 4, 5, 6, 7, 8, 9, 1, 2, 3, 4, 5, 6, 7, 8, 9, 10, 1, 2, 3, 4, 5, 6, 7, 8, 9, 10, 1, 2, 3, 4, 5, 6, 7, 8, 9, 10, 1, 2, 3, 4, 5, 6, 7, 8, 9, 10, 1, 2, 3, 4, 5, 6, 7, 8, 9, 10, 1, 2, 3, 4, 5, 6, 7, 8, 9, 10, 1, 2, 3, 4, 5, 6, 7, 8, 9, 1, 2, 3, 4, 5, 6, 7, 8, 9, 1, 2, 3, 4, 5, 6, 7, 8, 9, 1, 2, 3, 4, 5, 6, 7, 8, 9, 10, 1, 2, 3, 4, 5, 6, 7, 8, 9, 1, 2, 3, 4, 5, 6, 7, 8, 9, 1, 2, 3, 4, 5, 6, 7, 8, 9, 10, 1, 2, 3, 4, 5, 6, 7, 8, 9, 1, 2, 3, 4, 5, 6, 7, 8, 9, 10, 1, 2, 3, 4, 5, 6, 7, 8, 9, 1, 2, 3, 4, 5, 6, 7, 8, 9, 10, 1, 2, 3, 4, 5, 6, 7, 8, 9, 10, 1, 2, 3, 4, 5, 6, 7, 8, 9, 1, 2, 3, 4, 5, 6, 7, 8, 9, 10, 1, 2, 3, 4, 5, 6, 7, 8, 9, 1, 2, 3, 4, 5, 6, 7, 8, 9, 10, 1, 2, 3, 4, 5, 6, 7, 8, 9, 1, 2, 3, 4, 5, 6, 7, 8, 9, 1, 2, 3, 4, 5, 6, 7, 8, 9, 1, 2, 3, 4, 5, 6, 7, 8, 9, 1, 2, 3, 4, 5, 6, 7, 8, 9, 10, 1, 2, 3, 4, 5, 6, 7, 8, 9, 10, 1, 2, 3, 4, 5, 6, 7, 8, 9, 1, 2, 3, 4, 5, 6, 7, 8, 9, 10, 1, 2, 3, 4, 5, 6, 7, 8, 9, 10, 1, 2, 3, 4, 5, 6, 7, 8, 9, 10, 1, 2, 3, 4, 5, 6, 7, 8, 9, 10, 1, 2, 3, 4, 5, 6, 7, 8, 9, 10, 1, 2, 3, 4, 5, 6, 7, 8, 9, 1, 2, 3, 4, 5, 6, 7, 8, 9, 1, 2, 3, 4, 5, 6, 7, 8, 9, 1, 2, 3, 4, 5, 6, 7, 8, 9, 10, 1, 2, 3, 4, 5, 6, 7, 8, 9, 10, 1, 2, 3, 4, 5, 6, 7, 8, 9, 10, 1, 2, 3, 4, 5, 6, 7, 8, 9, 10, 1, 2, 3, 4, 5, 6, 7, 8, 9, 10, 1, 2, 3, 4, 5, 6, 7, 8, 9, 10, 1, 2, 3, 4, 5, 6, 7, 8, 9, 1, 2, 3, 4, 5, 6, 7, 8, 9, 10, 1, 2, 3, 4, 5, 6, 7, 8, 9, 10, 1, 2, 3, 4, 5, 6, 7, 8, 9, 1, 2, 3, 4, 5, 6, 7, 8, 9, 10, 1, 2, 3, 4, 5, 6, 7, 8, 9, 10, 1, 2, 3, 4, 5, 6, 7, 8, 9, 1, 2, 3, 4, 5, 6, 7, 8, 9, 1, 2, 3, 4, 5, 6, 7, 8, 9, 1, 2, 3, 4, 5, 6, 7, 8, 9, 10, 1, 2, 3, 4, 5, 6, 7, 8, 9, 10, 1, 2, 3, 4, 5, 6, 7, 8, 9, 1, 2, 3, 4, 5, 6, 7, 8, 9, 10, 1, 2, 3, 4, 5, 6, 7, 8, 9, 1, 2, 3, 4, 5, 6, 7, 8, 9, 10, 1, 2, 3, 4, 5, 6, 7, 8, 9, 10, 1, 2, 3, 4, 5, 6, 7, 8, 9, 10, 1, 2, 3, 4, 5, 6, 7, 8, 9, 10, 1, 2, 3, 4, 5, 6, 7, 8, 9, 10, 1, 2, 3, 4, 5, 6, 7, 8, 9, 10, 1, 2, 3, 4, 5, 6, 7, 8, 9, 10, 1, 2, 3, 4, 5, 6, 7, 8, 9, 10, 1, 2, 3, 4, 5, 6, 7, 8, 9, 10, 1, 2, 3, 4, 5, 6, 7, 8, 9, 10, 1, 2, 3, 4, 5, 6, 7, 8, 9, 10, 1, 2, 3, 4, 5, 6, 7, 8, 9, 1, 2, 3, 4, 5, 6, 7, 8, 9, 1, 2, 3, 4, 5, 6, 7, 8, 9, 1, 2, 3, 4, 5, 6, 7, 8, 9, 1, 2, 3, 4, 5, 6, 7, 8, 9, 1, 2, 3, 4, 5, 6, 7, 8, 9, 1, 2, 3, 4, 5, 6, 7, 8, 9, 10, 1, 2, 3, 4, 5, 6, 7, 8, 9, 10, 1, 2, 3, 4, 5, 6, 7, 8, 9, 10, 1, 2, 3, 4, 5, 6, 7, 8, 9, 1, 2, 3, 4, 5, 6, 7, 8, 9, 10, 1, 2, 3, 4, 5, 6, 7, 8, 9, 1, 2, 3, 4, 5, 6, 7, 8, 9, 10, 1, 2, 3, 4, 5, 6, 7, 8, 9, 1, 2, 3, 4, 5, 6, 7, 8, 9, 10, 1, 2, 3, 4, 5, 6, 7, 8, 9, 10, 1, 2, 3, 4, 5, 6, 7, 8, 9, 1, 2, 3, 4, 5, 6, 7, 8, 9, 1, 2, 3, 4, 5, 6, 7, 8, 9, 10, 1, 2, 3, 4, 5, 6, 7, 8, 9, 10, 1, 2, 3, 4, 5, 6, 7, 8, 9, 10, 1, 2, 3, 4, 5, 6, 7, 8, 9, 1, 2, 3, 4, 5, 6, 7, 8, 9, 10, 1, 2, 3, 4, 5, 6, 7, 8, 9, 10, 1, 2, 3, 4, 5, 6, 7, 8, 9, 10, 1, 2, 3, 4, 5, 6, 7, 8, 9, 10, 1, 2, 3, 4, 5, 6, 7, 8, 9, 10, 1, 2, 3, 4, 5, 6, 7, 8, 9, 10, 1, 2, 3, 4, 5, 6, 7, 8, 9, 10, 1, 2, 3, 4, 5, 6, 7, 8, 9, 10, 1, 2, 3, 4, 5, 6, 7, 8, 9, 1, 2, 3, 4, 5, 6, 7, 8, 9, 10, 1, 2, 3, 4, 5, 6, 7, 8, 9, 10, 1, 2, 3, 4, 5, 6, 7, 8, 9, 10, 1, 2, 3, 4, 5, 6, 7, 8, 9, 10, 1, 2, 3, 4, 5, 6, 7, 8, 9, 10, 1, 2, 3, 4, 5, 6, 7, 8, 9, 1, 2, 3, 4, 5, 6, 7, 8, 9, 10, 1, 2, 3, 4, 5, 6, 7, 8, 9, 10, 1, 2, 3, 4, 5, 6, 7, 8, 9, 10, 1, 2, 3, 4, 5, 6, 7, 8, 9, 10, 1, 2, 3, 4, 5, 6, 7, 8, 9, 10, 1, 2, 3, 4, 5, 6, 7, 8, 9, 10, 1, 2, 3, 4, 5, 6, 7, 8, 9, 10, 1, 2, 3, 4, 5, 6, 7, 8, 9, 10, 1, 2, 3, 4, 5, 6, 7, 8, 9, 10, 1, 2, 3, 4, 5, 6, 7, 8, 9, 1, 2, 3, 4, 5, 6, 7, 8, 9, 10, 1, 2, 3, 4, 5, 6, 7, 8, 9, 1, 2, 3, 4, 5, 6, 7, 8, 9, 10, 1, 2, 3, 4, 5, 6, 7, 8, 9, 10, 1, 2, 3, 4, 5, 6, 7, 8, 9, 10, 1, 2, 3, 4, 5, 6, 7, 8, 9, 10, 1, 2, 3, 4, 5, 6, 7, 8, 9, 10, 1, 2, 3, 4, 5, 6, 7, 8, 9, 1, 2, 3, 4, 5, 6, 7, 8, 9, 10, 1, 2, 3, 4, 5, 6, 7, 8, 9, 10, 1, 2, 3, 4, 5, 6, 7, 8, 9, 10, 1, 2, 3, 4, 5, 6, 7, 8, 9, 10, 1, 2, 3, 4, 5, 6, 7, 8, 9, 10, 1, 2, 3, 4, 5, 6, 7, 8, 9, 10, 1, 2, 3, 4, 5, 6, 7, 8, 9, 10, 1, 2, 3, 4, 5, 6, 7, 8, 9, 10, 1, 2, 3, 4, 5, 6, 7, 8, 9, 1, 2, 3, 4, 5, 6, 7, 8, 9, 10, 1, 2, 3, 4, 5, 6, 7, 8, 9, 10, 1, 2, 3, 4, 5, 6, 7, 8, 9, 10, 1, 2, 3, 4, 5, 6, 7, 8, 9, 1, 2, 3, 4, 5, 6, 7, 8, 9, 10, 1, 2, 3, 4, 5, 6, 7, 8, 9, 10, 1, 2, 3, 4, 5, 6, 7, 8, 9, 10, 1, 2, 3, 4, 5, 6, 7, 8, 9, 1, 2, 3, 4, 5, 6, 7, 8, 9, 10, 1, 2, 3, 4, 5, 6, 7, 8, 9, 1, 2, 3, 4, 5, 6, 7, 8, 9, 10, 1, 2, 3, 4, 5, 6, 7, 8, 9, 10, 1, 2, 3, 4, 5, 6, 7, 8, 9, 10, 1, 2, 3, 4, 5, 6, 7, 8, 9, 1, 2, 3, 4, 5, 6, 7, 8, 9, 10, 1, 2, 3, 4, 5, 6, 7, 8, 9, 1, 2, 3, 4, 5, 6, 7, 8, 9, 10, 1, 2, 3, 4, 5, 6, 7, 8, 9, 10, 1, 2, 3, 4, 5, 6, 7, 8, 9, 10, 1, 2, 3, 4, 5, 6, 7, 8, 9, 10, 1, 2, 3, 4, 5, 6, 7, 8, 9, 1, 2, 3, 4, 5, 6, 7, 8, 9, 10, 1, 2, 3, 4, 5, 6, 7, 8, 9, 10, 1, 2, 3, 4, 5, 6, 7, 8, 9, 10, 1, 2, 3, 4, 5, 6, 7, 8, 9, 10, 1, 2, 3, 4, 5, 6, 7, 8, 9, 1, 2, 3, 4, 5, 6, 7, 8, 9, 1, 2, 3, 4, 5, 6, 7, 8, 9, 10, 1, 2, 3, 4, 5, 6, 7, 8, 9, 10, 1, 2, 3, 4, 5, 6, 7, 8, 9, 10, 1, 2, 3, 4, 5, 6, 7, 8, 9, 10, 1, 2, 3, 4, 5, 6, 7, 8, 9, 10, 1, 2, 3, 4, 5, 6, 7, 8, 9, 10, 1, 2, 3, 4, 5, 6, 7, 8, 9, 10, 1, 2, 3, 4, 5, 6, 7, 8, 9, 1, 2, 3, 4, 5, 6, 7, 8, 9, 1, 2, 3, 4, 5, 6, 7, 8, 9, 10, 1, 2, 3, 4, 5, 6, 7, 8, 9, 1, 2, 3, 4, 5, 6, 7, 8, 9, 10, 1, 2, 3, 4, 5, 6, 7, 8, 9, 10, 1, 2, 3, 4, 5, 6, 7, 8, 9, 10, 1, 2, 3, 4, 5, 6, 7, 8, 9, 1, 2, 3, 4, 5, 6, 7, 8, 9, 1, 2, 3, 4, 5, 6, 7, 8, 9, 10, 1, 2, 3, 4, 5, 6, 7, 8, 9, 10, 1, 2, 3, 4, 5, 6, 7, 8, 9, 10, 1, 2, 3, 4, 5, 6, 7, 8, 9, 10, 1, 2, 3, 4, 5, 6, 7, 8, 9, 1, 2, 3, 4, 5, 6, 7, 8, 9, 10, 1, 2, 3, 4, 5, 6, 7, 8, 9, 10, 1, 2, 3, 4, 5, 6, 7, 8, 9, 1, 2, 3, 4, 5, 6, 7, 8, 9, 1, 2, 3, 4, 5, 6, 7, 8, 9, 10, 1, 2, 3, 4, 5, 6, 7, 8, 9, 10, 1, 2, 3, 4, 5, 6, 7, 8, 9, 10, 1, 2, 3, 4, 5, 6, 7, 8, 9, 1, 2, 3, 4, 5, 6, 7, 8, 9, 10, 1, 2, 3, 4, 5, 6, 7, 8, 9, 10, 1, 2, 3, 4, 5, 6, 7, 8, 9, 1, 2, 3, 4, 5, 6, 7, 8, 9, 1, 2, 3, 4, 5, 6, 7, 8, 9, 1, 2, 3, 4, 5, 6, 7, 8, 9, 10, 1, 2, 3, 4, 5, 6, 7, 8, 9, 1, 2, 3, 4, 5, 6, 7, 8, 9, 10, 1, 2, 3, 4, 5, 6, 7, 8, 9, 10, 1, 2, 3, 4, 5, 6, 7, 8, 9, 10, 1, 2, 3, 4, 5, 6, 7, 8, 9, 1, 2, 3, 4, 5, 6, 7, 8, 9, 10, 1, 2, 3, 4, 5, 6, 7, 8, 9, 10, 1, 2, 3, 4, 5, 6, 7, 8, 9, 10, 1, 2, 3, 4, 5, 6, 7, 8, 9, 10, 1, 2, 3, 4, 5, 6, 7, 8, 9, 10, 1, 2, 3, 4, 5, 6, 7, 8, 9, 10, 1, 2, 3, 4, 5, 6, 7, 8, 9, 10, 1, 2, 3, 4, 5, 6, 7, 8, 9, 10, 1, 2, 3, 4, 5, 6, 7, 8, 9, 10, 1, 2, 3, 4, 5, 6, 7, 8, 9, 10, 1, 2, 3, 4, 5, 6, 7, 8, 9, 10, 1, 2, 3, 4, 5, 6, 7, 8, 9, 10, 1, 2, 3, 4, 5, 6, 7, 8, 9, 1, 2, 3, 4, 5, 6, 7, 8, 9, 1, 2, 3, 4, 5, 6, 7, 8, 9, 10, 1, 2, 3, 4, 5, 6, 7, 8, 9, 10], \"Freq\": [0.7662305235862732, 0.004975522868335247, 0.004975522868335247, 0.20897196233272552, 0.004975522868335247, 0.004975522868335247, 0.004975522868335247, 0.004975522868335247, 0.004975522868335247, 0.004975522868335247, 0.0723458006978035, 0.144691601395607, 0.002679473953321576, 0.16076843440532684, 0.002679473953321576, 0.08574316650629044, 0.42335689067840576, 0.002679473953321576, 0.04019210860133171, 0.06162790209054947, 0.0032974916975945234, 0.15498211979866028, 0.0032974916975945234, 0.0032974916975945234, 0.0032974916975945234, 0.2572043538093567, 0.0032974916975945234, 0.0032974916975945234, 0.5770610570907593, 0.012187675572931767, 0.0048750704154372215, 0.0024375352077186108, 0.0024375352077186108, 0.0024375352077186108, 0.39244315028190613, 0.0024375352077186108, 0.0024375352077186108, 0.5825709104537964, 0.0024375352077186108, 0.02032552845776081, 0.14227870106697083, 0.7469632029533386, 0.035569675266742706, 0.005081382114440203, 0.04065105691552162, 0.005081382114440203, 0.005081382114440203, 0.005081382114440203, 0.005081382114440203, 0.174025759100914, 0.011601717211306095, 0.011601717211306095, 0.0580085851252079, 0.011601717211306095, 0.011601717211306095, 0.011601717211306095, 0.011601717211306095, 0.696103036403656, 0.028956055641174316, 0.11582422256469727, 0.028956055641174316, 0.028956055641174316, 0.028956055641174316, 0.028956055641174316, 0.028956055641174316, 0.7239013910293579, 0.028956055641174316, 0.026203110814094543, 0.11229904741048813, 0.0336897149682045, 0.0037433013785630465, 0.5352920889854431, 0.24705789983272552, 0.0336897149682045, 0.0037433013785630465, 0.0037433013785630465, 0.0037433013785630465, 0.023027591407299042, 0.023027591407299042, 0.023027591407299042, 0.023027591407299042, 0.8520208597183228, 0.046055182814598083, 0.023027591407299042, 0.023027591407299042, 0.023027591407299042, 0.013850202783942223, 0.013850202783942223, 0.013850202783942223, 0.013850202783942223, 0.9279635548591614, 0.013850202783942223, 0.013850202783942223, 0.013850202783942223, 0.013850202783942223, 0.006121428217738867, 0.006121428217738867, 0.006121428217738867, 0.006121428217738867, 0.006121428217738867, 0.006121428217738867, 0.9610642790794373, 0.006121428217738867, 0.006121428217738867, 0.014969021081924438, 0.014969021081924438, 0.014969021081924438, 0.014969021081924438, 0.014969021081924438, 0.9131103157997131, 0.014969021081924438, 0.014969021081924438, 0.014969021081924438, 0.014840520918369293, 0.014840520918369293, 0.014840520918369293, 0.014840520918369293, 0.014840520918369293, 0.7717070579528809, 0.014840520918369293, 0.14840520918369293, 0.014840520918369293, 0.01349906250834465, 0.9179362654685974, 0.01349906250834465, 0.01349906250834465, 0.01349906250834465, 0.0269981250166893, 0.01349906250834465, 0.01349906250834465, 0.01349906250834465, 0.01349906250834465, 0.0121066989377141, 0.00605334946885705, 0.00605334946885705, 0.07869353890419006, 0.00605334946885705, 0.030266746878623962, 0.00605334946885705, 0.00605334946885705, 0.847468912601471, 0.00605334946885705, 0.6112082600593567, 0.043657731264829636, 0.04123230278491974, 0.2813498377799988, 0.00485085928812623, 0.002425429644063115, 0.002425429644063115, 0.002425429644063115, 0.012127147987484932, 0.002425429644063115, 0.006952902302145958, 0.006952902302145958, 0.006952902302145958, 0.8413012027740479, 0.006952902302145958, 0.11124643683433533, 0.006952902302145958, 0.006952902302145958, 0.006952902302145958, 0.3136771619319916, 0.0017140829004347324, 0.0017140829004347324, 0.2725391983985901, 0.06342107057571411, 0.0017140829004347324, 0.3119630813598633, 0.0017140829004347324, 0.02056899480521679, 0.010284497402608395, 0.020517488941550255, 0.020517488941550255, 0.020517488941550255, 0.9027695059776306, 0.020517488941550255, 0.020517488941550255, 0.020517488941550255, 0.020517488941550255, 0.020517488941550255, 0.04046553745865822, 0.04046553745865822, 0.04046553745865822, 0.04046553745865822, 0.04046553745865822, 0.04046553745865822, 0.04046553745865822, 0.04046553745865822, 0.04046553745865822, 0.7283796668052673, 0.017288729548454285, 0.017288729548454285, 0.017288729548454285, 0.017288729548454285, 0.017288729548454285, 0.017288729548454285, 0.017288729548454285, 0.017288729548454285, 0.017288729548454285, 0.9163026213645935, 0.004215664695948362, 0.004215664695948362, 0.004215664695948362, 0.8009762763977051, 0.004215664695948362, 0.10539161413908005, 0.004215664695948362, 0.0758819580078125, 0.004215664695948362, 0.004215664695948362, 0.019361747428774834, 0.9100021123886108, 0.019361747428774834, 0.019361747428774834, 0.019361747428774834, 0.019361747428774834, 0.019361747428774834, 0.019361747428774834, 0.019361747428774834, 0.019361747428774834, 0.25475865602493286, 0.009798410348594189, 0.009798410348594189, 0.009798410348594189, 0.009798410348594189, 0.009798410348594189, 0.009798410348594189, 0.6858887076377869, 0.009798410348594189, 0.009798410348594189, 0.027585597708821297, 0.027585597708821297, 0.027585597708821297, 0.027585597708821297, 0.027585597708821297, 0.027585597708821297, 0.027585597708821297, 0.8275679349899292, 0.027585597708821297, 0.027585597708821297, 0.004573358688503504, 0.002286679344251752, 0.002286679344251752, 0.002286679344251752, 0.08003377914428711, 0.8300646543502808, 0.002286679344251752, 0.07317373901605606, 0.002286679344251752, 0.002286679344251752, 0.0014383684610947967, 0.0834253653883934, 0.0014383684610947967, 0.0014383684610947967, 0.0014383684610947967, 0.07048004865646362, 0.4257570505142212, 0.05609636753797531, 0.35959210991859436, 0.0014383684610947967, 0.03125365823507309, 0.03125365823507309, 0.03125365823507309, 0.8438487648963928, 0.03125365823507309, 0.03125365823507309, 0.03125365823507309, 0.03125365823507309, 0.03125365823507309, 0.011398253031075, 0.011398253031075, 0.9232584834098816, 0.011398253031075, 0.011398253031075, 0.011398253031075, 0.011398253031075, 0.011398253031075, 0.011398253031075, 0.011398253031075, 0.008198763243854046, 0.008198763243854046, 0.008198763243854046, 0.008198763243854046, 0.787081241607666, 0.008198763243854046, 0.008198763243854046, 0.18037278950214386, 0.008198763243854046, 0.008887813426554203, 0.008887813426554203, 0.008887813426554203, 0.15109282732009888, 0.008887813426554203, 0.008887813426554203, 0.008887813426554203, 0.8087909817695618, 0.008887813426554203, 0.008887813426554203, 0.017153635621070862, 0.017153635621070862, 0.017153635621070862, 0.8919891119003296, 0.017153635621070862, 0.017153635621070862, 0.017153635621070862, 0.017153635621070862, 0.017153635621070862, 0.021232845261693, 0.021232845261693, 0.042465690523386, 0.021232845261693, 0.021232845261693, 0.021232845261693, 0.8705466389656067, 0.021232845261693, 0.021232845261693, 0.0008852295577526093, 0.0008852295577526093, 0.0008852295577526093, 0.0017704591155052185, 0.11242415010929108, 0.7843133807182312, 0.04514670744538307, 0.0008852295577526093, 0.053113773465156555, 0.0008852295577526093, 0.006674563977867365, 0.9611371755599976, 0.006674563977867365, 0.006674563977867365, 0.006674563977867365, 0.006674563977867365, 0.006674563977867365, 0.006674563977867365, 0.006674563977867365, 0.006674563977867365, 0.01398677472025156, 0.01398677472025156, 0.01398677472025156, 0.01398677472025156, 0.01398677472025156, 0.8811668157577515, 0.05594709888100624, 0.01398677472025156, 0.01398677472025156, 0.015804145485162735, 0.015804145485162735, 0.869227945804596, 0.06321658194065094, 0.015804145485162735, 0.015804145485162735, 0.015804145485162735, 0.015804145485162735, 0.015804145485162735, 0.25200560688972473, 0.044728267937898636, 0.12109360843896866, 0.4451008141040802, 0.001090933452360332, 0.003272800240665674, 0.04363733530044556, 0.001090933452360332, 0.002181866904720664, 0.08618374168872833, 0.04552760720252991, 0.04552760720252991, 0.04552760720252991, 0.04552760720252991, 0.04552760720252991, 0.04552760720252991, 0.04552760720252991, 0.773969292640686, 0.04552760720252991, 0.15634535253047943, 0.003678714158013463, 0.7228673696517944, 0.055180713534355164, 0.0018393570790067315, 0.0018393570790067315, 0.0018393570790067315, 0.0018393570790067315, 0.057020071893930435, 0.0018393570790067315, 0.04214157164096832, 0.04214157164096832, 0.04214157164096832, 0.04214157164096832, 0.04214157164096832, 0.04214157164096832, 0.04214157164096832, 0.04214157164096832, 0.8006898164749146, 0.00452842703089118, 0.48001328110694885, 0.00452842703089118, 0.00452842703089118, 0.00452842703089118, 0.013585281558334827, 0.4618995785713196, 0.00452842703089118, 0.027170563116669655, 0.00452842703089118, 0.019228974357247353, 0.019228974357247353, 0.13460282981395721, 0.019228974357247353, 0.019228974357247353, 0.019228974357247353, 0.019228974357247353, 0.019228974357247353, 0.019228974357247353, 0.7691590189933777, 0.013587197288870811, 0.013587197288870811, 0.3125055432319641, 0.013587197288870811, 0.013587197288870811, 0.013587197288870811, 0.013587197288870811, 0.040761593729257584, 0.013587197288870811, 0.5842494964599609, 0.043986763805150986, 0.043986763805150986, 0.043986763805150986, 0.043986763805150986, 0.043986763805150986, 0.043986763805150986, 0.043986763805150986, 0.7917617559432983, 0.043986763805150986, 0.34144872426986694, 0.026265285909175873, 0.618428111076355, 0.0023877532221376896, 0.0023877532221376896, 0.0023877532221376896, 0.004775506444275379, 0.0023877532221376896, 0.0023877532221376896, 0.0023877532221376896, 0.9836364984512329, 0.0031127736438065767, 0.0031127736438065767, 0.0031127736438065767, 0.0031127736438065767, 0.0031127736438065767, 0.0031127736438065767, 0.0031127736438065767, 0.0031127736438065767, 0.017259880900382996, 0.017259880900382996, 0.017259880900382996, 0.017259880900382996, 0.017259880900382996, 0.15533892810344696, 0.017259880900382996, 0.017259880900382996, 0.776694655418396, 0.017259880900382996, 0.04226833954453468, 0.04226833954453468, 0.04226833954453468, 0.04226833954453468, 0.04226833954453468, 0.04226833954453468, 0.04226833954453468, 0.04226833954453468, 0.04226833954453468, 0.8030984997749329, 0.04042278602719307, 0.04042278602719307, 0.04042278602719307, 0.04042278602719307, 0.04042278602719307, 0.04042278602719307, 0.04042278602719307, 0.727610170841217, 0.04042278602719307, 0.04042278602719307, 0.026149526238441467, 0.026149526238441467, 0.026149526238441467, 0.026149526238441467, 0.026149526238441467, 0.026149526238441467, 0.026149526238441467, 0.8629343509674072, 0.026149526238441467, 0.12577584385871887, 0.007398579269647598, 0.007398579269647598, 0.007398579269647598, 0.12577584385871887, 0.7028650045394897, 0.007398579269647598, 0.014797158539295197, 0.007398579269647598, 0.007398579269647598, 0.7048274278640747, 0.003324657678604126, 0.003324657678604126, 0.0897657573223114, 0.003324657678604126, 0.003324657678604126, 0.1396356225013733, 0.003324657678604126, 0.003324657678604126, 0.053194522857666016, 0.012578331865370274, 0.012578331865370274, 0.012578331865370274, 0.012578331865370274, 0.012578331865370274, 0.918218195438385, 0.012578331865370274, 0.012578331865370274, 0.012578331865370274, 0.05152616277337074, 0.7140054106712341, 0.033123962581157684, 0.02576308138668537, 0.04048484191298485, 0.003680440131574869, 0.11409364640712738, 0.003680440131574869, 0.007360880263149738, 0.003680440131574869, 0.0030849245376884937, 0.03393416851758957, 0.0030849245376884937, 0.0030849245376884937, 0.2899829149246216, 0.3948703408241272, 0.20360501110553741, 0.0030849245376884937, 0.06786833703517914, 0.0030849245376884937, 0.011134463362395763, 0.044537853449583054, 0.011134463362395763, 0.011134463362395763, 0.011134463362395763, 0.7571435570716858, 0.011134463362395763, 0.033403389155864716, 0.12247910350561142, 0.005533836781978607, 0.0027669183909893036, 0.0027669183909893036, 0.0027669183909893036, 0.7027972936630249, 0.27669182419776917, 0.0027669183909893036, 0.0027669183909893036, 0.0027669183909893036, 0.0027669183909893036, 0.004962339997291565, 0.913070559501648, 0.004962339997291565, 0.004962339997291565, 0.004962339997291565, 0.014887019991874695, 0.00992467999458313, 0.004962339997291565, 0.044661059975624084, 0.061042457818984985, 0.012208491563796997, 0.012208491563796997, 0.8545944094657898, 0.012208491563796997, 0.012208491563796997, 0.012208491563796997, 0.03662547469139099, 0.012208491563796997, 0.15504106879234314, 0.21052946150302887, 0.004896034020930529, 0.22358554601669312, 0.03264022618532181, 0.008160056546330452, 0.008160056546330452, 0.0832325741648674, 0.2758099138736725, 0.0016320113791152835, 0.08439850062131882, 0.028132833540439606, 0.028132833540439606, 0.028132833540439606, 0.028132833540439606, 0.028132833540439606, 0.11253133416175842, 0.11253133416175842, 0.028132833540439606, 0.5907894968986511, 0.058982424437999725, 0.006553602404892445, 0.03932161629199982, 0.07864323258399963, 0.09830404072999954, 0.0851968377828598, 0.6094850301742554, 0.006553602404892445, 0.006553602404892445, 0.006553602404892445, 0.00959763303399086, 0.24953845143318176, 0.00959763303399086, 0.02879289723932743, 0.00959763303399086, 0.00959763303399086, 0.6718342900276184, 0.00959763303399086, 0.00959763303399086, 0.00959763303399086, 0.01561103854328394, 0.01561103854328394, 0.01561103854328394, 0.01561103854328394, 0.01561103854328394, 0.01561103854328394, 0.01561103854328394, 0.9210513234138489, 0.01561103854328394, 0.04375926032662392, 0.04375926032662392, 0.04375926032662392, 0.04375926032662392, 0.04375926032662392, 0.04375926032662392, 0.7439073920249939, 0.04375926032662392, 0.04375926032662392, 0.04375926032662392, 0.012289567850530148, 0.012289567850530148, 0.012289567850530148, 0.024579135701060295, 0.012289567850530148, 0.7988219261169434, 0.12289568036794662, 0.012289567850530148, 0.012289567850530148, 0.012289567850530148, 0.25965970754623413, 0.07028383016586304, 0.04197506606578827, 0.23427942395210266, 0.005856985691934824, 0.09273561090230942, 0.03123725764453411, 0.2606358528137207, 0.001952328602783382, 0.000976164301391691, 0.014109532348811626, 0.11287625879049301, 0.014109532348811626, 0.014109532348811626, 0.014109532348811626, 0.014109532348811626, 0.8183528780937195, 0.014109532348811626, 0.014109532348811626, 0.014109532348811626, 0.007225468754768372, 0.007225468754768372, 0.007225468754768372, 0.3757243752479553, 0.007225468754768372, 0.007225468754768372, 0.007225468754768372, 0.007225468754768372, 0.5924884676933289, 0.007225468754768372, 0.9054772853851318, 0.04966752976179123, 0.01146173756569624, 0.0019102896330878139, 0.0019102896330878139, 0.0019102896330878139, 0.013372027315199375, 0.0019102896330878139, 0.0019102896330878139, 0.01528231706470251, 0.7966151237487793, 0.07075950503349304, 0.004565129522234201, 0.0022825647611171007, 0.0022825647611171007, 0.0022825647611171007, 0.03195590525865555, 0.0022825647611171007, 0.0890200287103653, 0.0022825647611171007, 0.030764402821660042, 0.030764402821660042, 0.030764402821660042, 0.030764402821660042, 0.030764402821660042, 0.030764402821660042, 0.8306388854980469, 0.030764402821660042, 0.030764402821660042, 0.004430515691637993, 0.21266475319862366, 0.004430515691637993, 0.004430515691637993, 0.04430515691637993, 0.004430515691637993, 0.7221740484237671, 0.004430515691637993, 0.004430515691637993, 0.004430515691637993, 0.1408940851688385, 0.5377457737922668, 0.0023482346441596746, 0.15263526141643524, 0.007044704165309668, 0.004696469288319349, 0.0023482346441596746, 0.0023482346441596746, 0.14559055864810944, 0.0023482346441596746, 0.012079507112503052, 0.04831802845001221, 0.012079507112503052, 0.8214064836502075, 0.012079507112503052, 0.012079507112503052, 0.012079507112503052, 0.012079507112503052, 0.08455654978752136, 0.012740595266222954, 0.012740595266222954, 0.012740595266222954, 0.8918417096138, 0.012740595266222954, 0.03822178766131401, 0.012740595266222954, 0.012740595266222954, 0.012740595266222954, 0.025481190532445908, 0.07675691694021225, 0.2712077796459198, 0.40425312519073486, 0.035819895565509796, 0.005117128137499094, 0.010234256274998188, 0.005117128137499094, 0.005117128137499094, 0.015351383946835995, 0.17398235201835632, 0.4450494050979614, 0.014356432482600212, 0.014356432482600212, 0.014356432482600212, 0.014356432482600212, 0.014356432482600212, 0.014356432482600212, 0.014356432482600212, 0.014356432482600212, 0.4881186783313751, 0.03339213877916336, 0.03339213877916336, 0.03339213877916336, 0.03339213877916336, 0.03339213877916336, 0.8348034620285034, 0.03339213877916336, 0.03339213877916336, 0.03339213877916336, 0.027476433664560318, 0.027476433664560318, 0.027476433664560318, 0.054952867329120636, 0.027476433664560318, 0.027476433664560318, 0.8242930173873901, 0.027476433664560318, 0.027476433664560318, 0.017819393426179886, 0.017819393426179886, 0.9087890386581421, 0.017819393426179886, 0.017819393426179886, 0.017819393426179886, 0.017819393426179886, 0.017819393426179886, 0.017819393426179886, 0.017819393426179886, 0.013577727600932121, 0.013577727600932121, 0.013577727600932121, 0.013577727600932121, 0.9232854843139648, 0.013577727600932121, 0.013577727600932121, 0.013577727600932121, 0.013577727600932121, 0.9082667231559753, 0.016819754615426064, 0.016819754615426064, 0.016819754615426064, 0.016819754615426064, 0.016819754615426064, 0.016819754615426064, 0.016819754615426064, 0.016819754615426064, 0.016819754615426064, 0.046184901148080826, 0.0035526847932487726, 0.042632218450307846, 0.10658054053783417, 0.07460638135671616, 0.1172385960817337, 0.049737587571144104, 0.4156641364097595, 0.14210739731788635, 0.0035526847932487726, 0.0011957867536693811, 0.7760656476020813, 0.0011957867536693811, 0.0765303522348404, 0.0011957867536693811, 0.0765303522348404, 0.0011957867536693811, 0.0011957867536693811, 0.06457249075174332, 0.0023915735073387623, 0.08780277520418167, 0.0006651725270785391, 0.3472200632095337, 0.0006651725270785391, 0.20819899439811707, 0.0006651725270785391, 0.0006651725270785391, 0.0006651725270785391, 0.0006651725270785391, 0.353206604719162, 0.0030352668836712837, 0.0015176334418356419, 0.11078724265098572, 0.0015176334418356419, 0.11230487376451492, 0.0015176334418356419, 0.0060705337673425674, 0.0015176334418356419, 0.0015176334418356419, 0.761851966381073, 0.0040452610701322556, 0.149674654006958, 0.0040452610701322556, 0.5542007684707642, 0.0040452610701322556, 0.275077760219574, 0.0040452610701322556, 0.0040452610701322556, 0.0040452610701322556, 0.0040452610701322556, 0.004944364540278912, 0.049443647265434265, 0.004944364540278912, 0.7861539721488953, 0.004944364540278912, 0.12360911816358566, 0.004944364540278912, 0.004944364540278912, 0.024721823632717133, 0.0050078220665454865, 0.0050078220665454865, 0.0050078220665454865, 0.0050078220665454865, 0.0050078220665454865, 0.0050078220665454865, 0.0050078220665454865, 0.08012515306472778, 0.8964001536369324, 0.025834428146481514, 0.025834428146481514, 0.025834428146481514, 0.025834428146481514, 0.025834428146481514, 0.025834428146481514, 0.025834428146481514, 0.025834428146481514, 0.025834428146481514, 0.8525360822677612, 0.01748262159526348, 0.01748262159526348, 0.01748262159526348, 0.9090963006019592, 0.01748262159526348, 0.01748262159526348, 0.01748262159526348, 0.01748262159526348, 0.01748262159526348, 0.022089987993240356, 0.16652452945709229, 0.12574301660060883, 0.013593839481472969, 0.016992298886179924, 0.12574301660060883, 0.5233628153800964, 0.0016992299351841211, 0.0016992299351841211, 0.0033984598703682423, 0.004196103196591139, 0.004196103196591139, 0.004196103196591139, 0.004196103196591139, 0.004196103196591139, 0.8979660272598267, 0.004196103196591139, 0.004196103196591139, 0.08392205834388733, 0.20583267509937286, 0.19711095094680786, 0.08372854441404343, 0.020932136103510857, 0.14826929569244385, 0.07675116509199142, 0.026165170595049858, 0.06628509610891342, 0.16920143365859985, 0.006977378856390715, 0.007095132488757372, 0.007095132488757372, 0.007095132488757372, 0.007095132488757372, 0.07804645597934723, 0.21285396814346313, 0.6740375757217407, 0.007095132488757372, 0.007095132488757372, 0.007095132488757372, 0.03853778541088104, 0.00963444635272026, 0.8767346143722534, 0.0481722317636013, 0.00963444635272026, 0.00963444635272026, 0.00963444635272026, 0.00963444635272026, 0.00963444635272026, 0.01019617822021246, 0.01019617822021246, 0.948244571685791, 0.01019617822021246, 0.01019617822021246, 0.01019617822021246, 0.01019617822021246, 0.01019617822021246, 0.01019617822021246, 0.7413593530654907, 0.004677345976233482, 0.19878721237182617, 0.002338672988116741, 0.004677345976233482, 0.002338672988116741, 0.002338672988116741, 0.002338672988116741, 0.002338672988116741, 0.044434789568185806, 0.04120413959026337, 0.020602069795131683, 0.020602069795131683, 0.020602069795131683, 0.020602069795131683, 0.04120413959026337, 0.10301034152507782, 0.020602069795131683, 0.7416744828224182, 0.020602069795131683, 0.04557415843009949, 0.04557415843009949, 0.04557415843009949, 0.04557415843009949, 0.04557415843009949, 0.04557415843009949, 0.04557415843009949, 0.7291865348815918, 0.04557415843009949, 0.04557415843009949, 0.01047257985919714, 0.01047257985919714, 0.08378063887357712, 0.23039674758911133, 0.01047257985919714, 0.10472579300403595, 0.18850643932819366, 0.02094515971839428, 0.01047257985919714, 0.33512255549430847, 0.02650436758995056, 0.02650436758995056, 0.02650436758995056, 0.8746441602706909, 0.02650436758995056, 0.02650436758995056, 0.02650436758995056, 0.02650436758995056, 0.02650436758995056, 0.02650436758995056, 0.9017102122306824, 0.013872465118765831, 0.013872465118765831, 0.013872465118765831, 0.013872465118765831, 0.013872465118765831, 0.013872465118765831, 0.013872465118765831, 0.013872465118765831, 0.027744930237531662, 0.9452041387557983, 0.010620270855724812, 0.010620270855724812, 0.010620270855724812, 0.010620270855724812, 0.010620270855724812, 0.010620270855724812, 0.010620270855724812, 0.010620270855724812, 0.010620270855724812, 0.04561108350753784, 0.00570138543844223, 0.9293258190155029, 0.00570138543844223, 0.00570138543844223, 0.00570138543844223, 0.00570138543844223, 0.00570138543844223, 0.00570138543844223, 0.00570138543844223, 0.32600224018096924, 0.11365216225385666, 0.3274976909160614, 0.06878946721553802, 0.06729404628276825, 0.00598169257864356, 0.00149542314466089, 0.07178031653165817, 0.01196338515728712, 0.00299084628932178, 0.38274574279785156, 0.06918865442276001, 0.24068818986415863, 0.15604250133037567, 0.013248891569674015, 0.030914079397916794, 0.004416297189891338, 0.08611779659986496, 0.0007360494928434491, 0.0161930900067091, 0.012681350111961365, 0.012681350111961365, 0.012681350111961365, 0.012681350111961365, 0.012681350111961365, 0.16485755145549774, 0.012681350111961365, 0.6974742412567139, 0.012681350111961365, 0.06340675055980682, 0.008700978010892868, 0.9571075439453125, 0.008700978010892868, 0.008700978010892868, 0.008700978010892868, 0.008700978010892868, 0.008700978010892868, 0.008700978010892868, 0.008700978010892868, 0.32591408491134644, 0.3382127583026886, 0.0015373306814581156, 0.19370366632938385, 0.0015373306814581156, 0.030746612697839737, 0.003074661362916231, 0.04458259046077728, 0.061493225395679474, 0.0015373306814581156, 0.036120131611824036, 0.036120131611824036, 0.036120131611824036, 0.036120131611824036, 0.036120131611824036, 0.036120131611824036, 0.036120131611824036, 0.7946428656578064, 0.036120131611824036, 0.036120131611824036, 0.04494297876954079, 0.0029961986001580954, 0.6861294507980347, 0.020973389968276024, 0.047939177602529526, 0.05992396920919418, 0.0029961986001580954, 0.12883654236793518, 0.0029961986001580954, 0.016832416877150536, 0.016832416877150536, 0.9089505076408386, 0.016832416877150536, 0.016832416877150536, 0.016832416877150536, 0.016832416877150536, 0.016832416877150536, 0.016832416877150536, 0.8593410849571228, 0.009877484291791916, 0.009877484291791916, 0.07901987433433533, 0.009877484291791916, 0.009877484291791916, 0.009877484291791916, 0.009877484291791916, 0.009877484291791916, 0.009877484291791916, 0.010137413628399372, 0.010137413628399372, 0.9427794218063354, 0.010137413628399372, 0.010137413628399372, 0.010137413628399372, 0.010137413628399372, 0.010137413628399372, 0.010137413628399372, 0.010137413628399372, 0.023876046761870384, 0.023876046761870384, 0.023876046761870384, 0.023876046761870384, 0.023876046761870384, 0.023876046761870384, 0.023876046761870384, 0.023876046761870384, 0.023876046761870384, 0.8834137320518494, 0.014999672770500183, 0.014999672770500183, 0.014999672770500183, 0.014999672770500183, 0.9149800539016724, 0.014999672770500183, 0.014999672770500183, 0.014999672770500183, 0.014999672770500183, 0.8905923962593079, 0.004687328357249498, 0.004687328357249498, 0.004687328357249498, 0.0843719094991684, 0.004687328357249498, 0.004687328357249498, 0.004687328357249498, 0.004687328357249498, 0.004687328357249498, 0.006603056099265814, 0.9640461802482605, 0.006603056099265814, 0.006603056099265814, 0.006603056099265814, 0.006603056099265814, 0.006603056099265814, 0.006603056099265814, 0.006603056099265814, 0.006603056099265814, 0.1368085891008377, 0.28945815563201904, 0.11376713961362839, 0.0014400903601199389, 0.057603612542152405, 0.10944686830043793, 0.26929688453674316, 0.005760361440479755, 0.010080632753670216, 0.0028801807202398777, 0.0022109909914433956, 0.5969675779342651, 0.0022109909914433956, 0.0022109909914433956, 0.0022109909914433956, 0.16582432389259338, 0.21888810396194458, 0.0022109909914433956, 0.006632972974330187, 0.0022109909914433956, 0.8704671859741211, 0.0033097611740231514, 0.0033097611740231514, 0.009929283522069454, 0.013239044696092606, 0.0033097611740231514, 0.0033097611740231514, 0.09267331659793854, 0.0033097611740231514, 0.0013972623273730278, 0.9207958579063416, 0.0013972623273730278, 0.0013972623273730278, 0.0013972623273730278, 0.06986311823129654, 0.0013972623273730278, 0.0013972623273730278, 0.0013972623273730278, 0.0013972623273730278, 0.006435740273445845, 0.006435740273445845, 0.9138751029968262, 0.05792166292667389, 0.006435740273445845, 0.006435740273445845, 0.006435740273445845, 0.006435740273445845, 0.006435740273445845, 0.006435740273445845, 0.9714715480804443, 0.0037948107346892357, 0.0037948107346892357, 0.0037948107346892357, 0.0037948107346892357, 0.0037948107346892357, 0.0037948107346892357, 0.0037948107346892357, 0.0037948107346892357, 0.0037948107346892357, 0.026265902444720268, 0.026265902444720268, 0.026265902444720268, 0.026265902444720268, 0.026265902444720268, 0.8667747974395752, 0.026265902444720268, 0.026265902444720268, 0.026265902444720268, 0.03462858498096466, 0.011542861349880695, 0.011542861349880695, 0.011542861349880695, 0.011542861349880695, 0.10388575494289398, 0.7964574694633484, 0.011542861349880695, 0.011542861349880695, 0.011542861349880695, 0.0048445905558764935, 0.1017363965511322, 0.009689181111752987, 0.7799790501594543, 0.014533771201968193, 0.06297967582941055, 0.0048445905558764935, 0.019378362223505974, 0.0048445905558764935, 0.0048445905558764935, 0.05263450741767883, 0.05263450741767883, 0.05263450741767883, 0.05263450741767883, 0.05263450741767883, 0.05263450741767883, 0.05263450741767883, 0.7368831038475037, 0.05263450741767883, 0.024411048740148544, 0.024411048740148544, 0.024411048740148544, 0.024411048740148544, 0.024411048740148544, 0.024411048740148544, 0.024411048740148544, 0.024411048740148544, 0.8787977695465088, 0.027782434597611427, 0.055564869195222855, 0.013891217298805714, 0.027782434597611427, 0.013891217298805714, 0.11112973839044571, 0.013891217298805714, 0.013891217298805714, 0.7362345457077026, 0.013891217298805714, 0.0017930343747138977, 0.7638326287269592, 0.0017930343747138977, 0.0017930343747138977, 0.0017930343747138977, 0.043032824993133545, 0.1667521893978119, 0.0017930343747138977, 0.017930343747138977, 0.0017930343747138977, 0.007280437275767326, 0.007280437275767326, 0.9537373185157776, 0.007280437275767326, 0.007280437275767326, 0.007280437275767326, 0.007280437275767326, 0.007280437275767326, 0.007280437275767326, 0.027325648814439774, 0.027325648814439774, 0.027325648814439774, 0.8470951318740845, 0.027325648814439774, 0.027325648814439774, 0.027325648814439774, 0.027325648814439774, 0.027325648814439774, 0.027325648814439774, 0.005636176094412804, 0.5974346399307251, 0.005636176094412804, 0.005636176094412804, 0.005636176094412804, 0.028180880472064018, 0.028180880472064018, 0.005636176094412804, 0.07890646159648895, 0.24799174070358276, 0.382448673248291, 0.004721588455140591, 0.004721588455140591, 0.004721588455140591, 0.06138065084815025, 0.004721588455140591, 0.004721588455140591, 0.004721588455140591, 0.5382611155509949, 0.004721588455140591, 0.0461953729391098, 0.0461953729391098, 0.0461953729391098, 0.0461953729391098, 0.0461953729391098, 0.0461953729391098, 0.7853212952613831, 0.0461953729391098, 0.0461953729391098, 0.029856091365218163, 0.029856091365218163, 0.029856091365218163, 0.029856091365218163, 0.029856091365218163, 0.059712182730436325, 0.029856091365218163, 0.029856091365218163, 0.8061144351959229, 0.5353447198867798, 0.24288786947727203, 0.12061779201030731, 0.0016522984951734543, 0.0016522984951734543, 0.0016522984951734543, 0.0033045969903469086, 0.09252871572971344, 0.0016522984951734543, 0.0016522984951734543, 0.019626088440418243, 0.006542029790580273, 0.8897160291671753, 0.006542029790580273, 0.06542029976844788, 0.006542029790580273, 0.006542029790580273, 0.006542029790580273, 0.006542029790580273, 0.006542029790580273, 0.11407678574323654, 0.0054322280921041965, 0.8256986141204834, 0.038025595247745514, 0.0054322280921041965, 0.0054322280921041965, 0.0054322280921041965, 0.0054322280921041965, 0.0054322280921041965, 0.0054322280921041965, 0.004183425102382898, 0.004183425102382898, 0.9789214730262756, 0.004183425102382898, 0.004183425102382898, 0.004183425102382898, 0.004183425102382898, 0.004183425102382898, 0.004183425102382898, 0.32538706064224243, 0.009296773001551628, 0.009296773001551628, 0.009296773001551628, 0.009296773001551628, 0.009296773001551628, 0.009296773001551628, 0.6321805715560913, 0.009296773001551628, 0.009296773001551628, 0.2654359042644501, 0.007173942867666483, 0.007173942867666483, 0.007173942867666483, 0.014347885735332966, 0.007173942867666483, 0.007173942867666483, 0.602611243724823, 0.09326125681400299, 0.007173942867666483, 0.0018890333594754338, 0.0018890333594754338, 0.0018890333594754338, 0.0018890333594754338, 0.0018890333594754338, 0.9898535013198853, 0.0018890333594754338, 0.0018890333594754338, 0.0018890333594754338, 0.0018890333594754338, 0.003259004093706608, 0.003259004093706608, 0.003259004093706608, 0.003259004093706608, 0.003259004093706608, 0.9809602499008179, 0.003259004093706608, 0.003259004093706608, 0.003259004093706608, 0.08677154034376144, 0.014461923390626907, 0.014461923390626907, 0.05784769356250763, 0.014461923390626907, 0.014461923390626907, 0.014461923390626907, 0.7809438705444336, 0.014461923390626907, 0.028923846781253815, 0.9827859401702881, 0.0031002711039036512, 0.0031002711039036512, 0.0031002711039036512, 0.0031002711039036512, 0.0031002711039036512, 0.0031002711039036512, 0.0031002711039036512, 0.0031002711039036512, 0.014271088875830173, 0.014271088875830173, 0.9276207685470581, 0.014271088875830173, 0.014271088875830173, 0.014271088875830173, 0.014271088875830173, 0.014271088875830173, 0.014271088875830173, 0.014271088875830173, 0.0060729687102139, 0.0060729687102139, 0.0060729687102139, 0.0060729687102139, 0.0060729687102139, 0.0060729687102139, 0.07287562638521194, 0.2550646960735321, 0.6437346935272217, 0.0060729687102139, 0.018413376063108444, 0.018413376063108444, 0.9022554159164429, 0.018413376063108444, 0.018413376063108444, 0.018413376063108444, 0.018413376063108444, 0.018413376063108444, 0.018413376063108444, 0.30610182881355286, 0.09818360209465027, 0.13861215114593506, 0.09625843167304993, 0.01155101228505373, 0.09240809828042984, 0.017326518893241882, 0.23679575324058533, 0.0019251686753705144, 0.0019251686753705144, 0.15802504122257233, 0.005643751472234726, 0.818343997001648, 0.005643751472234726, 0.005643751472234726, 0.005643751472234726, 0.005643751472234726, 0.005643751472234726, 0.005643751472234726, 0.013754217885434628, 0.013754217885434628, 0.013754217885434628, 0.013754217885434628, 0.013754217885434628, 0.013754217885434628, 0.7839903831481934, 0.13754217326641083, 0.013754217885434628, 0.015028904192149639, 0.015028904192149639, 0.015028904192149639, 0.015028904192149639, 0.015028904192149639, 0.015028904192149639, 0.9167631268501282, 0.015028904192149639, 0.015028904192149639, 0.006903642322868109, 0.006903642322868109, 0.8077261447906494, 0.15878377854824066, 0.006903642322868109, 0.006903642322868109, 0.006903642322868109, 0.006903642322868109, 0.006903642322868109, 0.22608177363872528, 0.0021531598176807165, 0.5318304896354675, 0.167946457862854, 0.06459479033946991, 0.0021531598176807165, 0.0021531598176807165, 0.0021531598176807165, 0.0021531598176807165, 0.0021531598176807165, 0.19973425567150116, 0.1742362678050995, 0.04249665141105652, 0.008499329909682274, 0.02124832570552826, 0.08499330282211304, 0.016998659819364548, 0.055245645344257355, 0.3952188491821289, 0.004249664954841137, 0.013607243075966835, 0.013607243075966835, 0.013607243075966835, 0.9252925515174866, 0.013607243075966835, 0.013607243075966835, 0.013607243075966835, 0.013607243075966835, 0.013607243075966835, 0.0084306038916111, 0.0084306038916111, 0.02529180981218815, 0.0084306038916111, 0.0084306038916111, 0.0084306038916111, 0.556419849395752, 0.0084306038916111, 0.0084306038916111, 0.379377156496048, 0.002750843996182084, 0.76473468542099, 0.06602025777101517, 0.07702363282442093, 0.002750843996182084, 0.011003375984728336, 0.013754220679402351, 0.002750843996182084, 0.057767726480960846, 0.002750843996182084, 0.018175560981035233, 0.018175560981035233, 0.018175560981035233, 0.8542513847351074, 0.018175560981035233, 0.018175560981035233, 0.07270224392414093, 0.018175560981035233, 0.018175560981035233, 0.0075255571864545345, 0.9482202529907227, 0.0075255571864545345, 0.0075255571864545345, 0.0075255571864545345, 0.0075255571864545345, 0.0075255571864545345, 0.0075255571864545345, 0.022576671093702316, 0.013345548883080482, 0.013345548883080482, 0.013345548883080482, 0.013345548883080482, 0.013345548883080482, 0.013345548883080482, 0.013345548883080482, 0.013345548883080482, 0.9341884255409241, 0.0339147187769413, 0.0339147187769413, 0.0339147187769413, 0.0339147187769413, 0.0339147187769413, 0.8139532804489136, 0.0339147187769413, 0.0339147187769413, 0.0339147187769413, 0.01716320961713791, 0.01716320961713791, 0.01716320961713791, 0.01716320961713791, 0.9096500873565674, 0.01716320961713791, 0.01716320961713791, 0.01716320961713791, 0.01716320961713791, 0.14806026220321655, 0.007403012830764055, 0.007403012830764055, 0.07403013110160828, 0.007403012830764055, 0.007403012830764055, 0.007403012830764055, 0.007403012830764055, 0.7032862305641174, 0.03701506555080414, 0.011366407386958599, 0.11934727430343628, 0.0056832036934792995, 0.0056832036934792995, 0.0056832036934792995, 0.0056832036934792995, 0.5853700041770935, 0.0056832036934792995, 0.19322893023490906, 0.0625152438879013, 0.07083974033594131, 0.6996637582778931, 0.1271233707666397, 0.0009704074473120272, 0.09121830016374588, 0.003881629789248109, 0.0009704074473120272, 0.0009704074473120272, 0.0029112224001437426, 0.0009704074473120272, 0.0019165503326803446, 0.00574965076521039, 0.0019165503326803446, 0.0019165503326803446, 0.30664804577827454, 0.12074267119169235, 0.5557996034622192, 0.003833100665360689, 0.0019165503326803446, 0.0019165503326803446, 0.024268927052617073, 0.024268927052617073, 0.024268927052617073, 0.024268927052617073, 0.873681366443634, 0.024268927052617073, 0.024268927052617073, 0.024268927052617073, 0.024268927052617073, 0.025022052228450775, 0.025022052228450775, 0.025022052228450775, 0.025022052228450775, 0.07506615668535233, 0.8007056713104248, 0.025022052228450775, 0.025022052228450775, 0.025022052228450775, 0.025022052228450775, 0.0033648964017629623, 0.06056813523173332, 0.9085220098495483, 0.0033648964017629623, 0.0033648964017629623, 0.0033648964017629623, 0.01682448200881481, 0.0033648964017629623, 0.0033648964017629623, 0.0033648964017629623, 0.17082588374614716, 0.11504600197076797, 0.03370034322142601, 0.06507652997970581, 0.11504600197076797, 0.29052022099494934, 0.10923559963703156, 0.05461779981851578, 0.041834909468889236, 0.003486242610961199, 0.2039826512336731, 0.0033997108694165945, 0.08159305900335312, 0.09859161078929901, 0.0033997108694165945, 0.0033997108694165945, 0.0033997108694165945, 0.5983490943908691, 0.0033997108694165945, 0.0033997108694165945, 0.0023419170174747705, 0.053864091634750366, 0.0023419170174747705, 0.01405150257050991, 0.0023419170174747705, 0.03512875363230705, 0.0023419170174747705, 0.7142847180366516, 0.17564377188682556, 0.0023419170174747705, 0.01321692205965519, 0.01321692205965519, 0.01321692205965519, 0.01321692205965519, 0.01321692205965519, 0.01321692205965519, 0.01321692205965519, 0.11895229667425156, 0.01321692205965519, 0.8194491267204285, 0.04783172905445099, 0.04783172905445099, 0.04783172905445099, 0.04783172905445099, 0.04783172905445099, 0.04783172905445099, 0.14349518716335297, 0.04783172905445099, 0.04783172905445099, 0.6696442365646362, 0.20651179552078247, 0.1416080892086029, 0.025568127632141113, 0.3677876889705658, 0.1101396232843399, 0.1317742019891739, 0.0019667791202664375, 0.01180067379027605, 0.0019667791202664375, 0.003933558240532875, 0.004480784293264151, 0.004480784293264151, 0.040327057242393494, 0.004480784293264151, 0.9364839196205139, 0.004480784293264151, 0.004480784293264151, 0.004480784293264151, 0.004480784293264151, 0.007948460057377815, 0.007948460057377815, 0.007948460057377815, 0.07153613865375519, 0.007948460057377815, 0.7868975400924683, 0.007948460057377815, 0.007948460057377815, 0.11127844452857971, 0.008058449253439903, 0.878371000289917, 0.008058449253439903, 0.008058449253439903, 0.008058449253439903, 0.008058449253439903, 0.016116898506879807, 0.008058449253439903, 0.008058449253439903, 0.06446759402751923, 0.005889980122447014, 0.10307464748620987, 0.002944990061223507, 0.8746620416641235, 0.002944990061223507, 0.002944990061223507, 0.002944990061223507, 0.002944990061223507, 0.002944990061223507, 0.002944990061223507, 0.0016247192397713661, 0.0016247192397713661, 0.0016247192397713661, 0.0016247192397713661, 0.0016247192397713661, 0.9910787343978882, 0.0016247192397713661, 0.0016247192397713661, 0.0016247192397713661, 0.0326726995408535, 0.0326726995408535, 0.0326726995408535, 0.0326726995408535, 0.0326726995408535, 0.8168174624443054, 0.0326726995408535, 0.0326726995408535, 0.0326726995408535, 0.05736856535077095, 0.05736856535077095, 0.05736856535077095, 0.05736856535077095, 0.05736856535077095, 0.05736856535077095, 0.05736856535077095, 0.05736856535077095, 0.05736856535077095, 0.6884227991104126, 0.0147117730230093, 0.1471177339553833, 0.0147117730230093, 0.0147117730230093, 0.0147117730230093, 0.0147117730230093, 0.0147117730230093, 0.7797240018844604, 0.0147117730230093, 0.0147117730230093, 0.3055666983127594, 0.07639167457818985, 0.1200440526008606, 0.3328494131565094, 0.04729008302092552, 0.0018188493559136987, 0.04547123238444328, 0.010913095436990261, 0.036376986652612686, 0.02546389028429985, 0.1366320550441742, 0.05908413231372833, 0.30465254187583923, 0.4486701190471649, 0.0406203418970108, 0.0018463791348040104, 0.0018463791348040104, 0.0018463791348040104, 0.0018463791348040104, 0.0018463791348040104, 0.20345577597618103, 0.40155744552612305, 0.10172788798809052, 0.11243608593940735, 0.012046723626554012, 0.0026770494878292084, 0.09101969003677368, 0.017400821670889854, 0.021416395902633667, 0.03614016994833946, 0.0021490210201591253, 0.9821025729179382, 0.0021490210201591253, 0.0021490210201591253, 0.0021490210201591253, 0.0021490210201591253, 0.0021490210201591253, 0.0021490210201591253, 0.008596084080636501, 0.0021490210201591253, 0.28550219535827637, 0.002643538871780038, 0.7005378007888794, 0.002643538871780038, 0.002643538871780038, 0.002643538871780038, 0.002643538871780038, 0.002643538871780038, 0.002643538871780038, 0.002643538871780038, 0.2312065064907074, 0.21097594499588013, 0.12860862910747528, 0.14883919060230255, 0.03901609778404236, 0.007225203327834606, 0.0910375639796257, 0.05057642608880997, 0.02312065102159977, 0.06936195492744446, 0.5624057054519653, 0.009603512473404408, 0.0648237094283104, 0.08763205260038376, 0.00300109782256186, 0.05642063915729523, 0.045016467571258545, 0.10263754427433014, 0.028210319578647614, 0.04021470993757248, 0.023356623947620392, 0.023356623947620392, 0.023356623947620392, 0.023356623947620392, 0.023356623947620392, 0.023356623947620392, 0.023356623947620392, 0.023356623947620392, 0.8875517249107361, 0.023356623947620392, 0.02278289385139942, 0.02278289385139942, 0.888532817363739, 0.02278289385139942, 0.02278289385139942, 0.02278289385139942, 0.02278289385139942, 0.02278289385139942, 0.02278289385139942, 0.11843261122703552, 0.09955205023288727, 0.03261187672615051, 0.37074556946754456, 0.003432829398661852, 0.31238746643066406, 0.034328293055295944, 0.008582073263823986, 0.018880560994148254, 0.001716414699330926, 0.024653609842061996, 0.024653609842061996, 0.8628763556480408, 0.024653609842061996, 0.024653609842061996, 0.024653609842061996, 0.024653609842061996, 0.024653609842061996, 0.024653609842061996, 0.05750558152794838, 0.05750558152794838, 0.05750558152794838, 0.05750558152794838, 0.05750558152794838, 0.05750558152794838, 0.05750558152794838, 0.05750558152794838, 0.05750558152794838, 0.6900669932365417, 0.013779332861304283, 0.013779332861304283, 0.013779332861304283, 0.0826759934425354, 0.013779332861304283, 0.013779332861304283, 0.013779332861304283, 0.013779332861304283, 0.2066899836063385, 0.6476286053657532, 0.004191412124782801, 0.004191412124782801, 0.004191412124782801, 0.10897671431303024, 0.004191412124782801, 0.8676222562789917, 0.004191412124782801, 0.004191412124782801, 0.004191412124782801, 0.11809415370225906, 0.16903673112392426, 0.5464749336242676, 0.1065162941813469, 0.002315571764484048, 0.009262287057936192, 0.013893430121243, 0.002315571764484048, 0.030102431774139404, 0.002315571764484048, 0.013683682307600975, 0.013683682307600975, 0.013683682307600975, 0.9304904341697693, 0.013683682307600975, 0.013683682307600975, 0.013683682307600975, 0.013683682307600975, 0.013683682307600975, 0.04844914376735687, 0.008074857294559479, 0.008074857294559479, 0.008074857294559479, 0.008074857294559479, 0.008074857294559479, 0.20994628965854645, 0.008074857294559479, 0.008074857294559479, 0.7105874419212341, 0.006358842831104994, 0.03179421275854111, 0.006358842831104994, 0.006358842831104994, 0.006358842831104994, 0.006358842831104994, 0.8648025989532471, 0.006358842831104994, 0.006358842831104994, 0.0699472725391388, 0.1089508906006813, 0.0026573387440294027, 0.0026573387440294027, 0.6191599369049072, 0.0026573387440294027, 0.2179017812013626, 0.0026573387440294027, 0.0398600809276104, 0.0053146774880588055, 0.0026573387440294027, 0.036905720829963684, 0.18452860414981842, 0.06561017036437988, 0.020503178238868713, 0.024603813886642456, 0.12301906943321228, 0.4797743856906891, 0.004100635647773743, 0.04100635647773743, 0.020503178238868713, 0.014810244552791119, 0.918235182762146, 0.014810244552791119, 0.014810244552791119, 0.014810244552791119, 0.014810244552791119, 0.014810244552791119, 0.014810244552791119, 0.014810244552791119, 0.014810244552791119, 0.0127889234572649, 0.0127889234572649, 0.0127889234572649, 0.06394461542367935, 0.0127889234572649, 0.8696467876434326, 0.0127889234572649, 0.0127889234572649, 0.0127889234572649, 0.7094219326972961, 0.0038140963297337294, 0.09916650503873825, 0.09916650503873825, 0.0038140963297337294, 0.0038140963297337294, 0.026698675006628036, 0.0038140963297337294, 0.04576915502548218, 0.0038140963297337294, 0.11844847351312637, 0.005922423675656319, 0.7580702304840088, 0.06514666229486465, 0.005922423675656319, 0.005922423675656319, 0.005922423675656319, 0.011844847351312637, 0.005922423675656319, 0.017767271026968956, 0.8703712821006775, 0.010614283382892609, 0.010614283382892609, 0.010614283382892609, 0.010614283382892609, 0.010614283382892609, 0.010614283382892609, 0.07429998368024826, 0.010614283382892609, 0.1006365641951561, 0.34002959728240967, 0.3994966745376587, 0.0015247963601723313, 0.032020725309848785, 0.0030495927203446627, 0.0030495927203446627, 0.0015247963601723313, 0.07623982429504395, 0.04116950184106827, 0.04764365404844284, 0.04764365404844284, 0.04764365404844284, 0.04764365404844284, 0.04764365404844284, 0.04764365404844284, 0.04764365404844284, 0.04764365404844284, 0.714654803276062, 0.020729998126626015, 0.8913899064064026, 0.020729998126626015, 0.020729998126626015, 0.020729998126626015, 0.020729998126626015, 0.020729998126626015, 0.020729998126626015, 0.020729998126626015, 0.020729998126626015, 0.8924607038497925, 0.001970111858099699, 0.001970111858099699, 0.001970111858099699, 0.001970111858099699, 0.001970111858099699, 0.001970111858099699, 0.001970111858099699, 0.001970111858099699, 0.09850559383630753, 0.008609993383288383, 0.1291498988866806, 0.008609993383288383, 0.008609993383288383, 0.008609993383288383, 0.008609993383288383, 0.008609993383288383, 0.8179493546485901, 0.008609993383288383, 0.008609993383288383, 0.011837312951683998, 0.011837312951683998, 0.011837312951683998, 0.011837312951683998, 0.011837312951683998, 0.11837313324213028, 0.011837312951683998, 0.8286119103431702, 0.011837312951683998, 0.006955811288207769, 0.006955811288207769, 0.006955811288207769, 0.055646490305662155, 0.006955811288207769, 0.2017185389995575, 0.11129298061132431, 0.06260230392217636, 0.5425533056259155, 0.006955811288207769, 0.02575591579079628, 0.02575591579079628, 0.8757011294364929, 0.02575591579079628, 0.02575591579079628, 0.02575591579079628, 0.02575591579079628, 0.02575591579079628, 0.02575591579079628, 0.05200053006410599, 0.05200053006410599, 0.05200053006410599, 0.05200053006410599, 0.05200053006410599, 0.05200053006410599, 0.05200053006410599, 0.05200053006410599, 0.05200053006410599, 0.7280073761940002, 0.36634862422943115, 0.00104372831992805, 0.00104372831992805, 0.0052186413668096066, 0.45610925555229187, 0.10437282919883728, 0.00104372831992805, 0.06262369453907013, 0.00104372831992805, 0.0038936592172831297, 0.005840488709509373, 0.0019468296086415648, 0.0019468296086415648, 0.12070343643426895, 0.4438771605491638, 0.0019468296086415648, 0.37184444069862366, 0.05061756819486618, 0.00579701317474246, 0.00579701317474246, 0.00579701317474246, 0.00579701317474246, 0.00579701317474246, 0.9681012034416199, 0.00579701317474246, 0.00579701317474246, 0.00579701317474246, 0.006625483278185129, 0.006625483278185129, 0.11925869435071945, 0.8414363861083984, 0.006625483278185129, 0.006625483278185129, 0.006625483278185129, 0.006625483278185129, 0.006625483278185129, 0.006625483278185129, 0.0062765516340732574, 0.0062765516340732574, 0.0062765516340732574, 0.9540358781814575, 0.0062765516340732574, 0.0062765516340732574, 0.0062765516340732574, 0.0062765516340732574, 0.0062765516340732574, 0.0062765516340732574, 0.0034853953402489424, 0.0034853953402489424, 0.0034853953402489424, 0.0034853953402489424, 0.23700688779354095, 0.6831374764442444, 0.05576632544398308, 0.006970790680497885, 0.0034853953402489424, 0.0034853953402489424, 0.006295116152614355, 0.006295116152614355, 0.006295116152614355, 0.9505625367164612, 0.006295116152614355, 0.01259023230522871, 0.006295116152614355, 0.006295116152614355, 0.006295116152614355, 0.006295116152614355, 0.004431264474987984, 0.0664689689874649, 0.004431264474987984, 0.6115145087242126, 0.004431264474987984, 0.288032203912735, 0.02215632237493992, 0.004431264474987984, 0.004431264474987984, 0.004431264474987984, 0.00543932244181633, 0.00543932244181633, 0.00543932244181633, 0.10334712266921997, 0.00543932244181633, 0.864852249622345, 0.00543932244181633, 0.00543932244181633, 0.00543932244181633, 0.00543932244181633, 0.01260286569595337, 0.0819186270236969, 0.15753582119941711, 0.006301432847976685, 0.7309662103652954, 0.006301432847976685, 0.006301432847976685, 0.006301432847976685, 0.006301432847976685, 0.006301432847976685, 0.9146851897239685, 0.01693861559033394, 0.01693861559033394, 0.01693861559033394, 0.01693861559033394, 0.01693861559033394, 0.01693861559033394, 0.01693861559033394, 0.01693861559033394, 0.0027723319362848997, 0.0009241107036359608, 0.0009241107036359608, 0.5905067324638367, 0.06283952295780182, 0.3354521691799164, 0.0009241107036359608, 0.006468774750828743, 0.0009241107036359608, 0.0010190485045313835, 0.0010190485045313835, 0.0010190485045313835, 0.4106765389442444, 0.0010190485045313835, 0.5523242950439453, 0.0010190485045313835, 0.031590502709150314, 0.0010190485045313835, 0.032060571014881134, 0.032060571014881134, 0.032060571014881134, 0.032060571014881134, 0.032060571014881134, 0.032060571014881134, 0.8335748314857483, 0.032060571014881134, 0.032060571014881134, 0.032060571014881134, 0.010720150545239449, 0.7654187083244324, 0.002144030062481761, 0.019296269863843918, 0.002144030062481761, 0.002144030062481761, 0.002144030062481761, 0.027872391045093536, 0.16723434627056122, 0.006432089954614639, 0.007886693812906742, 0.00473201647400856, 0.17666195333003998, 0.0015773389022797346, 0.804442822933197, 0.0015773389022797346, 0.0015773389022797346, 0.0015773389022797346, 0.0015773389022797346, 0.0015773389022797346, 0.01289466954767704, 0.23640227317810059, 0.06017512455582619, 0.004298223182559013, 0.5673654675483704, 0.004298223182559013, 0.11175379902124405, 0.004298223182559013, 0.004298223182559013, 0.004298223182559013, 0.009933089837431908, 0.009933089837431908, 0.009933089837431908, 0.009933089837431908, 0.9436435699462891, 0.009933089837431908, 0.009933089837431908, 0.009933089837431908, 0.009933089837431908, 0.007158414460718632, 0.007158414460718632, 0.007158414460718632, 0.9663859605789185, 0.007158414460718632, 0.007158414460718632, 0.007158414460718632, 0.007158414460718632, 0.007158414460718632, 0.0053249988704919815, 0.0053249988704919815, 0.0053249988704919815, 0.8892747759819031, 0.0053249988704919815, 0.09052497893571854, 0.0053249988704919815, 0.0053249988704919815, 0.0053249988704919815, 0.08969258517026901, 0.19134418666362762, 0.0029897529166191816, 0.06577456742525101, 0.0029897529166191816, 0.08072333037853241, 0.020928271114826202, 0.05680530518293381, 0.49031949043273926, 0.0029897529166191816, 0.028277436271309853, 0.028277436271309853, 0.028277436271309853, 0.028277436271309853, 0.028277436271309853, 0.056554872542619705, 0.028277436271309853, 0.028277436271309853, 0.8200456500053406, 0.03703939542174339, 0.03703939542174339, 0.03703939542174339, 0.03703939542174339, 0.03703939542174339, 0.03703939542174339, 0.03703939542174339, 0.11111818253993988, 0.7037485241889954, 0.011659628711640835, 0.932770311832428, 0.011659628711640835, 0.011659628711640835, 0.011659628711640835, 0.011659628711640835, 0.011659628711640835, 0.011659628711640835, 0.011659628711640835, 0.011659628711640835, 0.0005561556317843497, 0.23136074841022491, 0.0005561556317843497, 0.0005561556317843497, 0.0016684668371453881, 0.5923057198524475, 0.1028887927532196, 0.0016684668371453881, 0.06951945275068283, 0.0005561556317843497, 0.007951252162456512, 0.007951252162456512, 0.007951252162456512, 0.007951252162456512, 0.9621015191078186, 0.007951252162456512, 0.007951252162456512, 0.007951252162456512, 0.007951252162456512, 0.007951252162456512, 0.003161888336762786, 0.003161888336762786, 0.003161888336762786, 0.003161888336762786, 0.9833472967147827, 0.003161888336762786, 0.003161888336762786, 0.003161888336762786, 0.003161888336762786, 0.01148162130266428, 0.04592648521065712, 0.01148162130266428, 0.01148162130266428, 0.8840848803520203, 0.01148162130266428, 0.01148162130266428, 0.02296324260532856, 0.01148162130266428, 0.01148162130266428, 0.01609678752720356, 0.01609678752720356, 0.01609678752720356, 0.01609678752720356, 0.01609678752720356, 0.9175169467926025, 0.01609678752720356, 0.01609678752720356, 0.01609678752720356, 0.046686600893735886, 0.046686600893735886, 0.046686600893735886, 0.046686600893735886, 0.046686600893735886, 0.046686600893735886, 0.046686600893735886, 0.046686600893735886, 0.046686600893735886, 0.7469856142997742, 0.15073499083518982, 0.02598879113793373, 0.5873466730117798, 0.015593274496495724, 0.08836188912391663, 0.0233899112790823, 0.0935596451163292, 0.005197757855057716, 0.002598878927528858, 0.007796637248247862, 0.19267378747463226, 0.003211229806765914, 0.09633689373731613, 0.02568983845412731, 0.4495721757411957, 0.22157485783100128, 0.003211229806765914, 0.006422459613531828, 0.003211229806765914, 0.003211229806765914, 0.7845743894577026, 0.026733646169304848, 0.0011623324826359749, 0.18481086194515228, 0.0011623324826359749, 0.0011623324826359749, 0.0011623324826359749, 0.0011623324826359749, 0.0011623324826359749, 0.0011623324826359749, 0.010183087550103664, 0.003394362283870578, 0.03054926171898842, 0.1900842934846878, 0.04073235020041466, 0.023760536685585976, 0.001697181141935289, 0.6551119685173035, 0.044126711785793304, 0.001697181141935289, 0.08994915336370468, 0.1768999993801117, 0.029983051121234894, 0.002998305018991232, 0.026984745636582375, 0.4407508671283722, 0.20988136529922485, 0.002998305018991232, 0.017989831045269966, 0.002998305018991232, 0.8722068667411804, 0.02492019720375538, 0.02492019720375538, 0.02492019720375538, 0.02492019720375538, 0.02492019720375538, 0.02492019720375538, 0.02492019720375538, 0.02492019720375538, 0.02492019720375538, 0.8778932094573975, 0.021947329863905907, 0.021947329863905907, 0.021947329863905907, 0.021947329863905907, 0.021947329863905907, 0.021947329863905907, 0.021947329863905907, 0.021947329863905907, 0.938888669013977, 0.011736107990145683, 0.011736107990145683, 0.011736107990145683, 0.011736107990145683, 0.011736107990145683, 0.011736107990145683, 0.011736107990145683, 0.011736107990145683, 0.02336880750954151, 0.8880147337913513, 0.02336880750954151, 0.02336880750954151, 0.02336880750954151, 0.02336880750954151, 0.02336880750954151, 0.02336880750954151, 0.02336880750954151, 0.02800375036895275, 0.02800375036895275, 0.02800375036895275, 0.02800375036895275, 0.02800375036895275, 0.02800375036895275, 0.02800375036895275, 0.02800375036895275, 0.8681162595748901, 0.08217860013246536, 0.6873119473457336, 0.09961042553186417, 0.04980521276593208, 0.004980521276593208, 0.004980521276593208, 0.002490260638296604, 0.002490260638296604, 0.0074707819148898125, 0.0597662553191185, 0.003312367247417569, 0.003312367247417569, 0.003312367247417569, 0.003312367247417569, 0.003312367247417569, 0.003312367247417569, 0.9241504669189453, 0.003312367247417569, 0.05962260812520981, 0.05230364948511124, 0.05230364948511124, 0.05230364948511124, 0.05230364948511124, 0.05230364948511124, 0.05230364948511124, 0.05230364948511124, 0.05230364948511124, 0.7322510480880737, 0.023676859214901924, 0.023676859214901924, 0.023676859214901924, 0.023676859214901924, 0.8760437965393066, 0.023676859214901924, 0.023676859214901924, 0.023676859214901924, 0.023676859214901924, 0.30470702052116394, 0.1979483664035797, 0.17459489405155182, 0.11120694130659103, 0.06450002640485764, 0.0022241389378905296, 0.03336208313703537, 0.054491400718688965, 0.022241389378905296, 0.03336208313703537, 0.015405607409775257, 0.9089308381080627, 0.015405607409775257, 0.015405607409775257, 0.015405607409775257, 0.015405607409775257, 0.015405607409775257, 0.015405607409775257, 0.015405607409775257, 0.015405607409775257, 0.0008606183109804988, 0.7943506836891174, 0.0008606183109804988, 0.014630510471761227, 0.0008606183109804988, 0.02581854909658432, 0.13339583575725555, 0.0008606183109804988, 0.028400404378771782, 0.0017212366219609976, 0.06553535163402557, 0.013107070699334145, 0.013107070699334145, 0.013107070699334145, 0.865066647529602, 0.013107070699334145, 0.013107070699334145, 0.013107070699334145, 0.013107070699334145, 0.013107070699334145, 0.016037074849009514, 0.016037074849009514, 0.4490380585193634, 0.016037074849009514, 0.016037074849009514, 0.016037074849009514, 0.016037074849009514, 0.016037074849009514, 0.016037074849009514, 0.48111221194267273, 0.0058098118752241135, 0.023239247500896454, 0.040668681263923645, 0.10457661002874374, 0.0639079287648201, 0.11619623005390167, 0.5693615674972534, 0.011619623750448227, 0.0058098118752241135, 0.058098115026950836, 0.9560431838035583, 0.007772708777338266, 0.007772708777338266, 0.007772708777338266, 0.007772708777338266, 0.007772708777338266, 0.007772708777338266, 0.007772708777338266, 0.007772708777338266, 0.007772708777338266, 0.012587040662765503, 0.8685057759284973, 0.012587040662765503, 0.07552224397659302, 0.012587040662765503, 0.012587040662765503, 0.012587040662765503, 0.012587040662765503, 0.012587040662765503, 0.2528858184814453, 0.0938124880194664, 0.23928982019424438, 0.046226441860198975, 0.1481965333223343, 0.07069926708936691, 0.010876810178160667, 0.06118205562233925, 0.05710325390100479, 0.01903441734611988, 0.014126717112958431, 0.014126717112958431, 0.9041098952293396, 0.014126717112958431, 0.014126717112958431, 0.014126717112958431, 0.028253434225916862, 0.014126717112958431, 0.014126717112958431, 0.014126717112958431, 0.01759492978453636, 0.01759492978453636, 0.8797464966773987, 0.01759492978453636, 0.01759492978453636, 0.03518985956907272, 0.01759492978453636, 0.01759492978453636, 0.01759492978453636, 0.01759492978453636, 0.17126566171646118, 0.5323122143745422, 0.004628801718354225, 0.0023144008591771126, 0.0023144008591771126, 0.0023144008591771126, 0.17358006536960602, 0.11340564489364624, 0.0023144008591771126, 0.0023144008591771126, 0.40487998723983765, 0.020243998616933823, 0.020243998616933823, 0.020243998616933823, 0.020243998616933823, 0.020243998616933823, 0.020243998616933823, 0.020243998616933823, 0.020243998616933823, 0.5060999989509583, 0.005096504930406809, 0.005096504930406809, 0.005096504930406809, 0.005096504930406809, 0.03057902865111828, 0.8918883204460144, 0.010193009860813618, 0.005096504930406809, 0.04586854204535484, 0.11591619998216629, 0.0012331510661169887, 0.0012331510661169887, 0.0012331510661169887, 0.334183931350708, 0.533954381942749, 0.0012331510661169887, 0.01109835971146822, 0.0012331510661169887, 0.0012331510661169887, 0.03747006133198738, 0.03747006133198738, 0.03747006133198738, 0.03747006133198738, 0.03747006133198738, 0.03747006133198738, 0.03747006133198738, 0.03747006133198738, 0.03747006133198738, 0.7868713140487671, 0.08960680663585663, 0.002635494340211153, 0.026354944333434105, 0.1607651561498642, 0.002635494340211153, 0.002635494340211153, 0.002635494340211153, 0.7115834951400757, 0.002635494340211153, 0.002635494340211153, 0.004588380455970764, 0.004588380455970764, 0.004588380455970764, 0.004588380455970764, 0.9773249626159668, 0.004588380455970764, 0.004588380455970764, 0.004588380455970764, 0.004588380455970764, 0.023819226771593094, 0.023819226771593094, 0.023819226771593094, 0.023819226771593094, 0.023819226771593094, 0.8813114166259766, 0.023819226771593094, 0.023819226771593094, 0.023819226771593094, 0.00720633938908577, 0.9368241429328918, 0.02161901816725731, 0.00720633938908577, 0.00720633938908577, 0.00720633938908577, 0.00720633938908577, 0.00720633938908577, 0.01441267877817154, 0.00720633938908577, 0.015851041302084923, 0.015851041302084923, 0.015851041302084923, 0.015851041302084923, 0.015851041302084923, 0.919360339641571, 0.015851041302084923, 0.015851041302084923, 0.015851041302084923, 0.015851041302084923, 0.051742829382419586, 0.051742829382419586, 0.051742829382419586, 0.051742829382419586, 0.051742829382419586, 0.051742829382419586, 0.051742829382419586, 0.051742829382419586, 0.7243996262550354, 0.002793361432850361, 0.8296282887458801, 0.002793361432850361, 0.002793361432850361, 0.002793361432850361, 0.002793361432850361, 0.002793361432850361, 0.002793361432850361, 0.15363487601280212, 0.002793361432850361, 0.20236177742481232, 0.011903634294867516, 0.011903634294867516, 0.011903634294867516, 0.011903634294867516, 0.011903634294867516, 0.011903634294867516, 0.011903634294867516, 0.7499289512634277, 0.011903634294867516, 0.0018819101387634873, 0.052693482488393784, 0.0018819101387634873, 0.8656786680221558, 0.0018819101387634873, 0.06774876266717911, 0.005645730532705784, 0.0018819101387634873, 0.0018819101387634873, 0.0018819101387634873, 0.016530456021428108, 0.016530456021428108, 0.016530456021428108, 0.016530456021428108, 0.016530456021428108, 0.9091750979423523, 0.016530456021428108, 0.016530456021428108, 0.016530456021428108, 0.218682199716568, 0.0035849539563059807, 0.0967937558889389, 0.5054785013198853, 0.0035849539563059807, 0.0035849539563059807, 0.0035849539563059807, 0.16490788757801056, 0.0035849539563059807, 0.0035849539563059807, 0.18522723019123077, 0.0033677679020911455, 0.0033677679020911455, 0.0033677679020911455, 0.16502061486244202, 0.6264048218727112, 0.0033677679020911455, 0.006735535804182291, 0.010103303007781506, 0.01259184442460537, 0.01259184442460537, 0.01259184442460537, 0.8310617804527283, 0.01259184442460537, 0.01259184442460537, 0.01259184442460537, 0.11332660168409348, 0.01259184442460537, 0.36882999539375305, 0.09624578058719635, 0.2247978299856186, 0.12855204939842224, 0.10566844791173935, 0.033652372658252716, 0.0020191422663629055, 0.015480090864002705, 0.023556658998131752, 0.0013460948830470443, 0.9626359343528748, 0.005377854220569134, 0.005377854220569134, 0.005377854220569134, 0.005377854220569134, 0.005377854220569134, 0.005377854220569134, 0.005377854220569134, 0.005377854220569134, 0.005377854220569134, 0.26181912422180176, 0.1010168269276619, 0.024738814681768417, 0.03504665568470955, 0.07215487957000732, 0.09277055412530899, 0.018554111942648888, 0.078339584171772, 0.28449636697769165, 0.03298508748412132, 0.027453439310193062, 0.027453439310193062, 0.027453439310193062, 0.027453439310193062, 0.027453439310193062, 0.027453439310193062, 0.027453439310193062, 0.054906878620386124, 0.8236032128334045, 0.013119971379637718, 0.9183979630470276, 0.013119971379637718, 0.013119971379637718, 0.013119971379637718, 0.013119971379637718, 0.013119971379637718, 0.013119971379637718, 0.013119971379637718, 0.013119971379637718, 0.009139454923570156, 0.15537072718143463, 0.009139454923570156, 0.027418363839387894, 0.009139454923570156, 0.009139454923570156, 0.7220169305801392, 0.06397618353366852, 0.009139454923570156, 0.01692691631615162, 0.01692691631615162, 0.01692691631615162, 0.05078074708580971, 0.01692691631615162, 0.08463457971811295, 0.01692691631615162, 0.8124919533729553, 0.01692691631615162, 0.01692691631615162, 0.028464192524552345, 0.028464192524552345, 0.028464192524552345, 0.028464192524552345, 0.028464192524552345, 0.028464192524552345, 0.028464192524552345, 0.8539257645606995, 0.028464192524552345, 0.007897401228547096, 0.007897401228547096, 0.007897401228547096, 0.9476881623268127, 0.007897401228547096, 0.007897401228547096, 0.007897401228547096, 0.007897401228547096, 0.007897401228547096, 0.007897401228547096, 0.0017121407436206937, 0.0017121407436206937, 0.0017121407436206937, 0.0017121407436206937, 0.9913294911384583, 0.0017121407436206937, 0.0017121407436206937, 0.0017121407436206937, 0.0017121407436206937, 0.0017121407436206937, 0.005467118229717016, 0.005467118229717016, 0.005467118229717016, 0.005467118229717016, 0.9731470942497253, 0.005467118229717016, 0.005467118229717016, 0.005467118229717016, 0.005467118229717016, 0.005467118229717016, 0.12812508642673492, 0.0032031270675361156, 0.04804690554738045, 0.25304704904556274, 0.0032031270675361156, 0.0032031270675361156, 0.012812508270144463, 0.0032031270675361156, 0.5477347373962402, 0.0032031270675361156, 0.010695816949009895, 0.005347908474504948, 0.005347908474504948, 0.005347908474504948, 0.9626235365867615, 0.005347908474504948, 0.005347908474504948, 0.005347908474504948, 0.005347908474504948, 0.005347908474504948, 0.04431414231657982, 0.04431414231657982, 0.04431414231657982, 0.04431414231657982, 0.04431414231657982, 0.04431414231657982, 0.04431414231657982, 0.04431414231657982, 0.7533403635025024, 0.04431414231657982, 0.0016859207535162568, 0.0016859207535162568, 0.025288810953497887, 0.0016859207535162568, 0.9677184820175171, 0.0016859207535162568, 0.0016859207535162568, 0.0016859207535162568, 0.0016859207535162568, 0.015139009803533554, 0.015139009803533554, 0.015139009803533554, 0.015139009803533554, 0.9234795570373535, 0.015139009803533554, 0.015139009803533554, 0.015139009803533554, 0.015139009803533554, 0.02140345610678196, 0.02140345610678196, 0.02140345610678196, 0.02140345610678196, 0.8775416612625122, 0.02140345610678196, 0.02140345610678196, 0.02140345610678196, 0.02140345610678196, 0.012397038750350475, 0.004132346250116825, 0.004132346250116825, 0.16942620277404785, 0.11983804404735565, 0.004132346250116825, 0.004132346250116825, 0.6818371415138245, 0.004132346250116825, 0.004132346250116825, 0.010695029981434345, 0.010695029981434345, 0.03208509087562561, 0.010695029981434345, 0.9197725653648376, 0.010695029981434345, 0.010695029981434345, 0.010695029981434345, 0.010695029981434345, 0.0034904582425951958, 0.0034904582425951958, 0.0034904582425951958, 0.0034904582425951958, 0.0034904582425951958, 0.013961832970380783, 0.830729067325592, 0.0034904582425951958, 0.13961833715438843, 0.19870853424072266, 0.12187457084655762, 0.03311809152364731, 0.07021035254001617, 0.15499265491962433, 0.1337970793247223, 0.009273065254092216, 0.11790040135383606, 0.10995206236839294, 0.047690048813819885, 0.7104201912879944, 0.001930489670485258, 0.2799209952354431, 0.001930489670485258, 0.001930489670485258, 0.001930489670485258, 0.001930489670485258, 0.001930489670485258, 0.001930489670485258, 0.9192007184028625, 0.013321749866008759, 0.013321749866008759, 0.013321749866008759, 0.013321749866008759, 0.013321749866008759, 0.013321749866008759, 0.013321749866008759, 0.013321749866008759, 0.013321749866008759, 0.0513979010283947, 0.8394990563392639, 0.07281369715929031, 0.004283158574253321, 0.008566317148506641, 0.012849475257098675, 0.004283158574253321, 0.004283158574253321, 0.004283158574253321, 0.008291719481348991, 0.008291719481348991, 0.008291719481348991, 0.008291719481348991, 0.008291719481348991, 0.008291719481348991, 0.9535477161407471, 0.008291719481348991, 0.008291719481348991, 0.008291719481348991, 0.775103747844696, 0.13245443999767303, 0.004905720241367817, 0.004905720241367817, 0.004905720241367817, 0.004905720241367817, 0.004905720241367817, 0.004905720241367817, 0.004905720241367817, 0.06868007779121399, 0.04432320222258568, 0.04432320222258568, 0.04432320222258568, 0.04432320222258568, 0.04432320222258568, 0.04432320222258568, 0.04432320222258568, 0.04432320222258568, 0.7534944415092468, 0.3209753632545471, 0.004585362039506435, 0.004585362039506435, 0.00917072407901287, 0.004585362039506435, 0.004585362039506435, 0.059609707444906235, 0.5777556300163269, 0.01834144815802574, 0.004585362039506435, 0.01819550059735775, 0.01819550059735775, 0.01819550059735775, 0.01819550059735775, 0.01819550059735775, 0.9097750186920166, 0.01819550059735775, 0.01819550059735775, 0.01819550059735775, 0.8991566300392151, 0.013833179138600826, 0.027666358277201653, 0.013833179138600826, 0.013833179138600826, 0.013833179138600826, 0.013833179138600826, 0.013833179138600826, 0.013833179138600826, 0.013833179138600826, 0.0019114571623504162, 0.0019114571623504162, 0.0019114571623504162, 0.0019114571623504162, 0.0019114571623504162, 0.18923425674438477, 0.0019114571623504162, 0.0019114571623504162, 0.8009005784988403, 0.005049095954746008, 0.04039276763796806, 0.005049095954746008, 0.005049095954746008, 0.005049095954746008, 0.17671836912631989, 0.005049095954746008, 0.005049095954746008, 0.762413501739502, 0.010860073380172253, 0.010860073380172253, 0.010860073380172253, 0.8905260562896729, 0.010860073380172253, 0.010860073380172253, 0.010860073380172253, 0.06516044586896896, 0.010860073380172253, 0.0013822837499901652, 0.0013822837499901652, 0.0013822837499901652, 0.6413796544075012, 0.0013822837499901652, 0.35110005736351013, 0.0013822837499901652, 0.0027645674999803305, 0.0013822837499901652, 0.007469672244042158, 0.9113000631332397, 0.007469672244042158, 0.022409018129110336, 0.007469672244042158, 0.007469672244042158, 0.007469672244042158, 0.007469672244042158, 0.007469672244042158, 0.029878688976168633, 0.8932357430458069, 0.07378903776407242, 0.0038836337625980377, 0.0038836337625980377, 0.015534535050392151, 0.0038836337625980377, 0.0038836337625980377, 0.0038836337625980377, 0.0038836337625980377, 0.0038836337625980377, 0.008769722655415535, 0.14908528327941895, 0.008769722655415535, 0.008769722655415535, 0.008769722655415535, 0.008769722655415535, 0.798044741153717, 0.008769722655415535, 0.008769722655415535, 0.015720080584287643, 0.015720080584287643, 0.015720080584287643, 0.9117646813392639, 0.015720080584287643, 0.015720080584287643, 0.015720080584287643, 0.015720080584287643, 0.015720080584287643, 0.015720080584287643, 0.022666333243250847, 0.022666333243250847, 0.022666333243250847, 0.022666333243250847, 0.022666333243250847, 0.022666333243250847, 0.022666333243250847, 0.022666333243250847, 0.022666333243250847, 0.8839869499206543, 0.009240302257239819, 0.4712553918361664, 0.009240302257239819, 0.009240302257239819, 0.009240302257239819, 0.009240302257239819, 0.1478448361158371, 0.009240302257239819, 0.009240302257239819, 0.3326508700847626, 0.05594218149781227, 0.05594218149781227, 0.05594218149781227, 0.05594218149781227, 0.05594218149781227, 0.05594218149781227, 0.05594218149781227, 0.05594218149781227, 0.05594218149781227, 0.7272483706474304, 0.14146389067173004, 0.20576564967632294, 0.12646013498306274, 0.12788906693458557, 0.0028578562196344137, 0.12288782000541687, 0.22291278839111328, 0.008573568426072598, 0.01214588899165392, 0.028578562662005424, 0.13753634691238403, 0.005093939136713743, 0.8048423528671265, 0.005093939136713743, 0.010187878273427486, 0.030563633888959885, 0.005093939136713743, 0.005093939136713743, 0.005093939136713743, 0.02108847349882126, 0.02108847349882126, 0.02108847349882126, 0.02108847349882126, 0.02108847349882126, 0.02108847349882126, 0.02108847349882126, 0.02108847349882126, 0.9068043231964111, 0.9171442985534668, 0.014557845890522003, 0.014557845890522003, 0.014557845890522003, 0.014557845890522003, 0.014557845890522003, 0.014557845890522003, 0.014557845890522003, 0.014557845890522003, 0.9387089014053345, 0.012516118586063385, 0.012516118586063385, 0.012516118586063385, 0.012516118586063385, 0.012516118586063385, 0.012516118586063385, 0.012516118586063385, 0.012516118586063385, 0.012516118586063385, 0.5537265539169312, 0.012305034324526787, 0.012305034324526787, 0.012305034324526787, 0.012305034324526787, 0.012305034324526787, 0.012305034324526787, 0.012305034324526787, 0.012305034324526787, 0.3937610983848572, 0.35858580470085144, 0.001494107418693602, 0.19871629774570465, 0.10757573693990707, 0.14941073954105377, 0.08068180084228516, 0.035858578979969025, 0.04781143739819527, 0.016435181722044945, 0.004482322372496128, 0.00488668866455555, 0.0439801961183548, 0.00488668866455555, 0.00488668866455555, 0.855170488357544, 0.00488668866455555, 0.0781870186328888, 0.00488668866455555, 0.00488668866455555, 0.00488668866455555, 0.013529941439628601, 0.013529941439628601, 0.9065061211585999, 0.013529941439628601, 0.013529941439628601, 0.013529941439628601, 0.013529941439628601, 0.013529941439628601, 0.013529941439628601, 0.027059882879257202, 0.07744091749191284, 0.0038720457814633846, 0.0038720457814633846, 0.12390546500682831, 0.0038720457814633846, 0.0038720457814633846, 0.05033659562468529, 0.7318166494369507, 0.0038720457814633846, 0.0038720457814633846, 0.011399331502616405, 0.011399331502616405, 0.04559732601046562, 0.011399331502616405, 0.011399331502616405, 0.900547206401825, 0.011399331502616405, 0.011399331502616405, 0.011399331502616405, 0.000704403268173337, 0.002817613072693348, 0.000704403268173337, 0.000704403268173337, 0.000704403268173337, 0.000704403268173337, 0.8692336082458496, 0.000704403268173337, 0.12538377940654755, 0.000704403268173337, 0.0057020303793251514, 0.07412639260292053, 0.8153903484344482, 0.011404060758650303, 0.0057020303793251514, 0.0057020303793251514, 0.0057020303793251514, 0.0057020303793251514, 0.0057020303793251514, 0.07412639260292053, 0.006708184722810984, 0.006708184722810984, 0.006708184722810984, 0.9592704176902771, 0.006708184722810984, 0.006708184722810984, 0.006708184722810984, 0.006708184722810984, 0.013416369445621967, 0.10351759195327759, 0.005448294337838888, 0.7845543622970581, 0.010896588675677776, 0.005448294337838888, 0.05993123725056648, 0.005448294337838888, 0.021793177351355553, 0.005448294337838888, 0.005448294337838888, 0.2191976010799408, 0.0023569634649902582, 0.44782304763793945, 0.014141780324280262, 0.09663549810647964, 0.01649874448776245, 0.049496233463287354, 0.153202623128891, 0.0023569634649902582, 0.0023569634649902582, 0.020586727187037468, 0.8646425604820251, 0.020586727187037468, 0.020586727187037468, 0.020586727187037468, 0.020586727187037468, 0.020586727187037468, 0.020586727187037468, 0.041173454374074936, 0.007857605814933777, 0.0013096010079607368, 0.0013096010079607368, 0.0013096010079607368, 0.0013096010079607368, 0.010476808063685894, 0.0013096010079607368, 0.9769623279571533, 0.0013096010079607368, 0.02520168013870716, 0.02520168013870716, 0.02520168013870716, 0.02520168013870716, 0.15121008455753326, 0.02520168013870716, 0.02520168013870716, 0.7308487296104431, 0.02520168013870716, 0.05782520771026611, 0.01927506923675537, 0.01927506923675537, 0.01927506923675537, 0.01927506923675537, 0.01927506923675537, 0.01927506923675537, 0.8673781156539917, 0.01927506923675537, 0.01927506923675537, 0.06515631824731827, 0.005429693032056093, 0.9121884703636169, 0.005429693032056093, 0.005429693032056093, 0.005429693032056093, 0.005429693032056093, 0.005429693032056093, 0.005429693032056093, 0.005429693032056093, 0.1778203397989273, 0.0028680700343102217, 0.0028680700343102217, 0.13193121552467346, 0.0028680700343102217, 0.0028680700343102217, 0.017208419740200043, 0.6625241637229919, 0.0028680700343102217, 0.010895309038460255, 0.871624767780304, 0.0027238272596150637, 0.0027238272596150637, 0.0027238272596150637, 0.0027238272596150637, 0.0027238272596150637, 0.0027238272596150637, 0.103505440056324, 0.0027238272596150637, 0.9563732147216797, 0.009563731960952282, 0.009563731960952282, 0.009563731960952282, 0.009563731960952282, 0.009563731960952282, 0.009563731960952282, 0.009563731960952282, 0.009563731960952282, 0.01260956097394228, 0.01260956097394228, 0.01260956097394228, 0.01260956097394228, 0.01260956097394228, 0.08826693147420883, 0.01260956097394228, 0.8448405861854553, 0.01260956097394228, 0.01260956097394228, 0.025626033544540405, 0.025626033544540405, 0.025626033544540405, 0.025626033544540405, 0.025626033544540405, 0.025626033544540405, 0.07687810063362122, 0.12813016772270203, 0.07687810063362122, 0.6406508684158325, 0.02612646296620369, 0.00870882160961628, 0.06967057287693024, 0.06967057287693024, 0.00870882160961628, 0.1480499655008316, 0.05225292593240738, 0.00870882160961628, 0.6096174716949463, 0.00870882160961628, 0.8472574949264526, 0.006724265869706869, 0.12103678286075592, 0.006724265869706869, 0.006724265869706869, 0.006724265869706869, 0.006724265869706869, 0.006724265869706869, 0.006724265869706869, 0.006724265869706869, 0.01972530409693718, 0.9073639512062073, 0.01972530409693718, 0.01972530409693718, 0.01972530409693718, 0.01972530409693718, 0.01972530409693718, 0.01972530409693718, 0.01972530409693718, 0.01972530409693718, 0.0868670791387558, 0.0031397740822285414, 0.0010465913219377398, 0.016745461151003838, 0.0010465913219377398, 0.05337615683674812, 0.6991230249404907, 0.0020931826438754797, 0.004186365287750959, 0.1339636892080307, 0.002013725694268942, 0.002013725694268942, 0.002013725694268942, 0.002013725694268942, 0.002013725694268942, 0.09665883332490921, 0.8920804858207703, 0.002013725694268942, 0.002013725694268942, 0.002013725694268942, 0.017004624009132385, 0.017004624009132385, 0.017004624009132385, 0.017004624009132385, 0.017004624009132385, 0.017004624009132385, 0.7652080655097961, 0.017004624009132385, 0.15304161608219147, 0.017004624009132385, 0.2988555133342743, 0.003080984577536583, 0.003080984577536583, 0.003080984577536583, 0.003080984577536583, 0.003080984577536583, 0.003080984577536583, 0.6870595812797546, 0.003080984577536583, 0.003080984577536583, 0.013138369657099247, 0.0919685885310173, 0.013138369657099247, 0.013138369657099247, 0.013138369657099247, 0.013138369657099247, 0.013138369657099247, 0.7883021831512451, 0.013138369657099247, 0.06569184362888336, 0.09322787076234818, 0.007768989074975252, 0.007768989074975252, 0.007768989074975252, 0.007768989074975252, 0.23306967318058014, 0.6448261141777039, 0.007768989074975252, 0.007768989074975252, 0.007768989074975252, 0.006099746096879244, 0.9698596000671387, 0.006099746096879244, 0.006099746096879244, 0.006099746096879244, 0.006099746096879244, 0.006099746096879244, 0.006099746096879244, 0.006099746096879244, 0.0041169095784425735, 0.9757075905799866, 0.0041169095784425735, 0.0041169095784425735, 0.0041169095784425735, 0.0041169095784425735, 0.0041169095784425735, 0.0041169095784425735, 0.0041169095784425735, 0.016358084976673126, 0.9160528182983398, 0.016358084976673126, 0.016358084976673126, 0.016358084976673126, 0.016358084976673126, 0.016358084976673126, 0.016358084976673126, 0.016358084976673126, 0.006557819899171591, 0.09836729615926743, 0.8721900582313538, 0.006557819899171591, 0.006557819899171591, 0.006557819899171591, 0.006557819899171591, 0.006557819899171591, 0.006557819899171591, 0.012341782450675964, 0.012341782450675964, 0.012341782450675964, 0.012341782450675964, 0.9379754662513733, 0.012341782450675964, 0.012341782450675964, 0.012341782450675964, 0.012341782450675964, 0.04245155677199364, 0.04245155677199364, 0.04245155677199364, 0.04245155677199364, 0.04245155677199364, 0.04245155677199364, 0.04245155677199364, 0.04245155677199364, 0.7641279697418213, 0.003390018828213215, 0.003390018828213215, 0.003390018828213215, 0.003390018828213215, 0.25086140632629395, 0.6508836150169373, 0.01695009507238865, 0.06441035866737366, 0.003390018828213215, 0.003390018828213215, 0.01685170829296112, 0.01685170829296112, 0.9099922180175781, 0.01685170829296112, 0.01685170829296112, 0.01685170829296112, 0.01685170829296112, 0.01685170829296112, 0.01685170829296112, 0.01685170829296112, 0.023792065680027008, 0.023792065680027008, 0.023792065680027008, 0.8327223062515259, 0.023792065680027008, 0.023792065680027008, 0.023792065680027008, 0.023792065680027008, 0.023792065680027008, 0.023792065680027008, 0.9322391748428345, 0.011951783671975136, 0.011951783671975136, 0.011951783671975136, 0.011951783671975136, 0.011951783671975136, 0.011951783671975136, 0.011951783671975136, 0.011951783671975136, 0.12174743413925171, 0.005662671290338039, 0.03680736571550369, 0.0028313356451690197, 0.02831335738301277, 0.008494007401168346, 0.0028313356451690197, 0.005662671290338039, 0.7871113419532776, 0.0028313356451690197, 0.01171362865716219, 0.01171362865716219, 0.01171362865716219, 0.937090277671814, 0.01171362865716219, 0.01171362865716219, 0.01171362865716219, 0.01171362865716219, 0.01171362865716219, 0.0054609463550150394, 0.0054609463550150394, 0.0054609463550150394, 0.9720484614372253, 0.0054609463550150394, 0.0054609463550150394, 0.0054609463550150394, 0.0054609463550150394, 0.0054609463550150394, 0.0054609463550150394, 0.02244693785905838, 0.02244693785905838, 0.8978775143623352, 0.02244693785905838, 0.02244693785905838, 0.02244693785905838, 0.02244693785905838, 0.02244693785905838, 0.02244693785905838, 0.16906416416168213, 0.12894724309444427, 0.16142283380031586, 0.03152043744921684, 0.15760217607021332, 0.16333317756652832, 0.03247560188174248, 0.01337230671197176, 0.12894724309444427, 0.014327471144497395, 0.01702956110239029, 0.008514780551195145, 0.008514780551195145, 0.01702956110239029, 0.008514780551195145, 0.008514780551195145, 0.008514780551195145, 0.8003894090652466, 0.13623648881912231, 0.008514780551195145, 0.025713026523590088, 0.025713026523590088, 0.025713026523590088, 0.15427815914154053, 0.025713026523590088, 0.025713026523590088, 0.025713026523590088, 0.7199647426605225, 0.025713026523590088, 0.04296306148171425, 0.04296306148171425, 0.04296306148171425, 0.04296306148171425, 0.04296306148171425, 0.7733350992202759, 0.04296306148171425, 0.04296306148171425, 0.04296306148171425, 0.2227698117494583, 0.07344059646129608, 0.11505693942308426, 0.019584158435463905, 0.13953714072704315, 0.002448019804432988, 0.012240099720656872, 0.002448019804432988, 0.3916831910610199, 0.019584158435463905, 0.05396100506186485, 0.06595233827829361, 0.8154107332229614, 0.005995667073875666, 0.005995667073875666, 0.005995667073875666, 0.005995667073875666, 0.005995667073875666, 0.005995667073875666, 0.02997833676636219, 0.4095306396484375, 0.016580188646912575, 0.0016580187948420644, 0.543830156326294, 0.0016580187948420644, 0.008290094323456287, 0.014922169968485832, 0.0016580187948420644, 0.0016580187948420644, 0.0016580187948420644, 0.027007540687918663, 0.027007540687918663, 0.027007540687918663, 0.8642413020133972, 0.027007540687918663, 0.027007540687918663, 0.027007540687918663, 0.027007540687918663, 0.027007540687918663, 0.004628033377230167, 0.004628033377230167, 0.004628033377230167, 0.004628033377230167, 0.004628033377230167, 0.004628033377230167, 0.976514995098114, 0.004628033377230167, 0.004628033377230167, 0.004628033377230167, 0.04299942031502724, 0.14742659032344818, 0.6265629529953003, 0.1320696473121643, 0.003071387065574527, 0.036856647580862045, 0.003071387065574527, 0.003071387065574527, 0.003071387065574527, 0.003071387065574527, 0.028740594163537025, 0.028740594163537025, 0.028740594163537025, 0.028740594163537025, 0.028740594163537025, 0.028740594163537025, 0.028740594163537025, 0.028740594163537025, 0.028740594163537025, 0.8622178435325623, 0.05376603081822395, 0.05376603081822395, 0.05376603081822395, 0.05376603081822395, 0.05376603081822395, 0.05376603081822395, 0.05376603081822395, 0.05376603081822395, 0.05376603081822395, 0.7527244091033936, 0.7398675084114075, 0.002596026286482811, 0.002596026286482811, 0.15056952834129333, 0.002596026286482811, 0.07788079231977463, 0.002596026286482811, 0.002596026286482811, 0.018172184005379677, 0.002596026286482811, 0.6024838089942932, 0.0007484270608983934, 0.038918208330869675, 0.0007484270608983934, 0.2379998117685318, 0.0007484270608983934, 0.0007484270608983934, 0.11750305444002151, 0.0007484270608983934, 0.0007484270608983934, 0.2577902376651764, 0.001043685246258974, 0.03339792788028717, 0.001043685246258974, 0.23065443336963654, 0.008349481970071793, 0.0928879827260971, 0.373639315366745, 0.001043685246258974, 0.001043685246258974, 0.050458572804927826, 0.050458572804927826, 0.050458572804927826, 0.050458572804927826, 0.050458572804927826, 0.050458572804927826, 0.050458572804927826, 0.050458572804927826, 0.050458572804927826, 0.7568786144256592, 0.8972913026809692, 0.005127379205077887, 0.010254758410155773, 0.005127379205077887, 0.07178330421447754, 0.005127379205077887, 0.005127379205077887, 0.005127379205077887, 0.005127379205077887, 0.011005064472556114, 0.011005064472556114, 0.011005064472556114, 0.011005064472556114, 0.9354304671287537, 0.011005064472556114, 0.011005064472556114, 0.011005064472556114, 0.011005064472556114, 0.011005064472556114, 0.16383378207683563, 0.10720362514257431, 0.1162886768579483, 0.156868577003479, 0.12597939372062683, 0.08509666472673416, 0.021501291543245316, 0.18957476317882538, 0.03149484843015671, 0.0018170105759054422, 0.13339753448963165, 0.08699839562177658, 0.04639914259314537, 0.09279828518629074, 0.005799892824143171, 0.005799892824143171, 0.005799892824143171, 0.023199571296572685, 0.6031888723373413, 0.005799892824143171, 0.0026806029491126537, 0.6594282984733582, 0.0026806029491126537, 0.19568400084972382, 0.0026806029491126537, 0.10186290740966797, 0.0026806029491126537, 0.0026806029491126537, 0.0053612058982253075, 0.032167233526706696, 0.12750035524368286, 0.11027057468891144, 0.5754745602607727, 0.0034459554590284824, 0.1757437288761139, 0.0034459554590284824, 0.0034459554590284824, 0.0034459554590284824, 0.0034459554590284824, 0.0034459554590284824, 0.009819126687943935, 0.004909563343971968, 0.196382537484169, 0.004909563343971968, 0.7413440942764282, 0.004909563343971968, 0.03927650675177574, 0.004909563343971968, 0.004909563343971968, 0.03928118944168091, 0.13748416304588318, 0.019640594720840454, 0.019640594720840454, 0.019640594720840454, 0.019640594720840454, 0.07856237888336182, 0.019640594720840454, 0.019640594720840454, 0.6677802205085754, 0.3118423819541931, 0.0024749396834522486, 0.0024749396834522486, 0.0024749396834522486, 0.01979951746761799, 0.0024749396834522486, 0.0024749396834522486, 0.0024749396834522486, 0.658333957195282, 0.0024749396834522486, 0.20785439014434814, 0.00433029979467392, 0.00433029979467392, 0.00433029979467392, 0.09526659548282623, 0.06928479671478271, 0.6062420010566711, 0.00433029979467392, 0.00433029979467392, 0.00433029979467392, 0.06451989710330963, 0.06451989710330963, 0.06451989710330963, 0.06451989710330963, 0.06451989710330963, 0.06451989710330963, 0.06451989710330963, 0.06451989710330963, 0.06451989710330963, 0.7097188830375671, 0.18037746846675873, 0.20292465388774872, 0.0025052425917237997, 0.012526213191449642, 0.43591222167015076, 0.03507339581847191, 0.040083881467580795, 0.017536697909235954, 0.07014679163694382, 0.0025052425917237997, 0.002802236471325159, 0.9863872528076172, 0.002802236471325159, 0.002802236471325159, 0.002802236471325159, 0.002802236471325159, 0.002802236471325159, 0.002802236471325159, 0.002802236471325159, 0.002802236471325159, 0.8879877924919128, 0.023999670520424843, 0.023999670520424843, 0.023999670520424843, 0.023999670520424843, 0.023999670520424843, 0.023999670520424843, 0.023999670520424843, 0.023999670520424843, 0.023999670520424843, 0.7317522168159485, 0.025826549157500267, 0.004304424859583378, 0.012913274578750134, 0.004304424859583378, 0.004304424859583378, 0.051653098315000534, 0.004304424859583378, 0.1377415955066681, 0.025826549157500267, 0.006196269299834967, 0.006196269299834967, 0.006196269299834967, 0.966618001461029, 0.006196269299834967, 0.006196269299834967, 0.006196269299834967, 0.006196269299834967, 0.006196269299834967, 0.006196269299834967, 0.012003513053059578, 0.012003513053059578, 0.012003513053059578, 0.924270510673523, 0.012003513053059578, 0.024007026106119156, 0.012003513053059578, 0.012003513053059578, 0.012003513053059578, 0.0033916705287992954, 0.875050961971283, 0.0033916705287992954, 0.105141781270504, 0.0033916705287992954, 0.0033916705287992954, 0.0033916705287992954, 0.0033916705287992954, 0.0033916705287992954, 0.0033916705287992954, 0.00373882451094687, 0.00373882451094687, 0.00373882451094687, 0.00373882451094687, 0.7627201676368713, 0.00373882451094687, 0.21685181558132172, 0.00373882451094687, 0.00373882451094687, 0.0030348983127623796, 0.1092563346028328, 0.0030348983127623796, 0.0030348983127623796, 0.06373286247253418, 0.3247341215610504, 0.3975716829299927, 0.0030348983127623796, 0.10015164315700531, 0.0030348983127623796, 0.018865279853343964, 0.018865279853343964, 0.03773055970668793, 0.018865279853343964, 0.018865279853343964, 0.018865279853343964, 0.8112069964408875, 0.018865279853343964, 0.018865279853343964, 0.07546111941337585, 0.02208750508725643, 0.02208750508725643, 0.8614126443862915, 0.02208750508725643, 0.02208750508725643, 0.02208750508725643, 0.02208750508725643, 0.02208750508725643, 0.02208750508725643, 0.02208750508725643, 0.22566823661327362, 0.06943637877702713, 0.07811592519283295, 0.0034718189854174852, 0.13887275755405426, 0.0017359094927087426, 0.09200320392847061, 0.0017359094927087426, 0.3541255295276642, 0.03645410016179085, 0.028303636237978935, 0.08491090685129166, 0.028303636237978935, 0.028303636237978935, 0.028303636237978935, 0.05660727247595787, 0.028303636237978935, 0.028303636237978935, 0.028303636237978935, 0.735894501209259, 0.04259154573082924, 0.04259154573082924, 0.04259154573082924, 0.04259154573082924, 0.04259154573082924, 0.809239387512207, 0.04259154573082924, 0.04259154573082924, 0.04259154573082924, 0.03912551328539848, 0.03912551328539848, 0.03912551328539848, 0.03912551328539848, 0.03912551328539848, 0.03912551328539848, 0.03912551328539848, 0.7433847784996033, 0.03912551328539848, 0.03912551328539848, 0.020083153620362282, 0.883658766746521, 0.020083153620362282, 0.020083153620362282, 0.020083153620362282, 0.020083153620362282, 0.020083153620362282, 0.020083153620362282, 0.020083153620362282, 0.020083153620362282, 0.03424983471632004, 0.03424983471632004, 0.1712491810321808, 0.03424983471632004, 0.03424983471632004, 0.03424983471632004, 0.03424983471632004, 0.03424983471632004, 0.03424983471632004, 0.6849967241287231, 0.03521418571472168, 0.03521418571472168, 0.03521418571472168, 0.03521418571472168, 0.03521418571472168, 0.03521418571472168, 0.03521418571472168, 0.03521418571472168, 0.03521418571472168, 0.8099262118339539, 0.02319122664630413, 0.02319122664630413, 0.02319122664630413, 0.02319122664630413, 0.02319122664630413, 0.02319122664630413, 0.8116929531097412, 0.02319122664630413, 0.06957367807626724, 0.02319122664630413, 0.1855352371931076, 0.0037864334881305695, 0.0037864334881305695, 0.034077901393175125, 0.037864334881305695, 0.0037864334881305695, 0.0037864334881305695, 0.5717514753341675, 0.15524376928806305, 0.0037864334881305695, 0.8776060938835144, 0.02250272035598755, 0.02250272035598755, 0.02250272035598755, 0.02250272035598755, 0.02250272035598755, 0.02250272035598755, 0.02250272035598755, 0.02250272035598755, 0.02250272035598755, 0.010669870302081108, 0.010669870302081108, 0.949618399143219, 0.010669870302081108, 0.010669870302081108, 0.010669870302081108, 0.010669870302081108, 0.010669870302081108, 0.010669870302081108, 0.010669870302081108, 0.0022863575723022223, 0.09831337630748749, 0.0022863575723022223, 0.0022863575723022223, 0.0022863575723022223, 0.7819343209266663, 0.0022863575723022223, 0.0022863575723022223, 0.10745880752801895, 0.11716542392969131, 0.00976378470659256, 0.00976378470659256, 0.00976378470659256, 0.00976378470659256, 0.8396854996681213, 0.00976378470659256, 0.00976378470659256, 0.00976378470659256, 0.00976378470659256, 0.025044862180948257, 0.025044862180948257, 0.025044862180948257, 0.025044862180948257, 0.025044862180948257, 0.025044862180948257, 0.7513458728790283, 0.10017944872379303, 0.025044862180948257, 0.025044862180948257, 0.0027382629923522472, 0.0027382629923522472, 0.03012089431285858, 0.0027382629923522472, 0.9529155492782593, 0.0027382629923522472, 0.0027382629923522472, 0.0027382629923522472, 0.0027382629923522472, 0.0027382629923522472, 0.012269861996173859, 0.012269861996173859, 0.012269861996173859, 0.012269861996173859, 0.9325094819068909, 0.012269861996173859, 0.012269861996173859, 0.012269861996173859, 0.012269861996173859, 0.008141741156578064, 0.008141741156578064, 0.9525837302207947, 0.008141741156578064, 0.016283482313156128, 0.008141741156578064, 0.008141741156578064, 0.008141741156578064, 0.008141741156578064, 0.008141741156578064, 0.09338368475437164, 0.18093089759349823, 0.2101133018732071, 0.02334592118859291, 0.005836480297148228, 0.04085536301136017, 0.1225660890340805, 0.005836480297148228, 0.005836480297148228, 0.309333473443985, 0.014904901385307312, 0.002980980323627591, 0.002980980323627591, 0.044714704155921936, 0.43522313237190247, 0.002980980323627591, 0.002980980323627591, 0.002980980323627591, 0.4948427379131317, 0.002980980323627591, 0.013673236593604088, 0.013673236593604088, 0.1093858927488327, 0.013673236593604088, 0.013673236593604088, 0.06836618483066559, 0.7520279884338379, 0.013673236593604088, 0.013673236593604088, 0.3719676733016968, 0.04376090317964554, 0.01612243801355362, 0.38693851232528687, 0.00115160271525383, 0.00115160271525383, 0.00115160271525383, 0.15892116725444794, 0.00115160271525383, 0.01727404072880745, 0.021086513996124268, 0.021086513996124268, 0.8856335878372192, 0.021086513996124268, 0.021086513996124268, 0.021086513996124268, 0.021086513996124268, 0.021086513996124268, 0.021086513996124268, 0.004153479356318712, 0.0664556697010994, 0.004153479356318712, 0.03738131374120712, 0.004153479356318712, 0.004153479356318712, 0.793314516544342, 0.004153479356318712, 0.004153479356318712, 0.08722306042909622, 0.21285171806812286, 0.04995499551296234, 0.0021719562355428934, 0.0021719562355428934, 0.31276169419288635, 0.2845262587070465, 0.11076977103948593, 0.008687824942171574, 0.0021719562355428934, 0.015203693881630898, 0.002940809354186058, 0.529345691204071, 0.002940809354186058, 0.002940809354186058, 0.002940809354186058, 0.002940809354186058, 0.3323114514350891, 0.002940809354186058, 0.08234266191720963, 0.04411213845014572, 0.02154683694243431, 0.02154683694243431, 0.02154683694243431, 0.02154683694243431, 0.8834203481674194, 0.02154683694243431, 0.02154683694243431, 0.02154683694243431, 0.02154683694243431, 0.30794790387153625, 0.002701297402381897, 0.002701297402381897, 0.49703875184059143, 0.01890908181667328, 0.040519461035728455, 0.005402594804763794, 0.11345449090003967, 0.002701297402381897, 0.005402594804763794, 0.022948896512389183, 0.022948896512389183, 0.022948896512389183, 0.09179558604955673, 0.022948896512389183, 0.022948896512389183, 0.045897793024778366, 0.7802624702453613, 0.022948896512389183, 0.8603472113609314, 0.0046505252830684185, 0.0046505252830684185, 0.0046505252830684185, 0.08835998177528381, 0.0046505252830684185, 0.0046505252830684185, 0.0046505252830684185, 0.03255367651581764, 0.0046505252830684185, 0.0014571136562153697, 0.004371340852230787, 0.0014571136562153697, 0.0014571136562153697, 0.8392974734306335, 0.0014571136562153697, 0.0014571136562153697, 0.14862559735774994, 0.0014571136562153697, 0.0014571136562153697, 0.002462314208969474, 0.007386942859739065, 0.002462314208969474, 0.002462314208969474, 0.8347245454788208, 0.01477388571947813, 0.004924628417938948, 0.12557803094387054, 0.004924628417938948, 0.002462314208969474, 0.18811608850955963, 0.1835278868675232, 0.11929312348365784, 0.10667558014392853, 0.04817606881260872, 0.07799935340881348, 0.17091034352779388, 0.06767591089010239, 0.012617542408406734, 0.02523508481681347, 0.004202705807983875, 0.004202705807983875, 0.004202705807983875, 0.004202705807983875, 0.004202705807983875, 0.004202705807983875, 0.004202705807983875, 0.004202705807983875, 0.9792304039001465, 0.21121831238269806, 0.004400381352752447, 0.03520305082201958, 0.13641183078289032, 0.030802670866250992, 0.004400381352752447, 0.004400381352752447, 0.572049617767334, 0.004400381352752447, 0.004400381352752447, 0.008141976781189442, 0.008141976781189442, 0.008141976781189442, 0.008141976781189442, 0.9526112675666809, 0.008141976781189442, 0.008141976781189442, 0.008141976781189442, 0.008141976781189442, 0.008141976781189442, 0.04723043739795685, 0.04723043739795685, 0.04723043739795685, 0.04723043739795685, 0.04723043739795685, 0.04723043739795685, 0.7556869983673096, 0.04723043739795685, 0.04723043739795685, 0.04723043739795685, 0.3081059157848358, 0.003277722280472517, 0.6031008958816528, 0.0721098929643631, 0.003277722280472517, 0.003277722280472517, 0.003277722280472517, 0.003277722280472517, 0.003277722280472517, 0.003277722280472517, 0.021356699988245964, 0.021356699988245964, 0.021356699988245964, 0.021356699988245964, 0.021356699988245964, 0.021356699988245964, 0.8969813585281372, 0.021356699988245964, 0.021356699988245964, 0.01836107298731804, 0.01836107298731804, 0.03672214597463608, 0.01836107298731804, 0.8813315033912659, 0.01836107298731804, 0.01836107298731804, 0.01836107298731804, 0.01836107298731804, 0.007246337365359068, 0.003623168682679534, 0.003623168682679534, 0.09057921916246414, 0.014492674730718136, 0.5470984578132629, 0.04347802698612213, 0.05072436109185219, 0.23912914097309113, 0.003623168682679534, 0.004745331592857838, 0.11863329261541367, 0.004745331592857838, 0.004745331592857838, 0.8019610643386841, 0.004745331592857838, 0.004745331592857838, 0.004745331592857838, 0.004745331592857838, 0.05219864845275879, 0.02713620290160179, 0.22311989963054657, 0.00301513378508389, 0.01206053514033556, 0.018090803176164627, 0.07839347422122955, 0.6060419082641602, 0.00603026757016778, 0.00603026757016778, 0.018090803176164627, 0.03988838940858841, 0.03988838940858841, 0.03988838940858841, 0.03988838940858841, 0.03988838940858841, 0.03988838940858841, 0.07977677881717682, 0.03988838940858841, 0.03988838940858841, 0.757879376411438, 0.03168119490146637, 0.03168119490146637, 0.03168119490146637, 0.03168119490146637, 0.03168119490146637, 0.03168119490146637, 0.03168119490146637, 0.03168119490146637, 0.03168119490146637, 0.8553922772407532, 0.020672231912612915, 0.020672231912612915, 0.020672231912612915, 0.020672231912612915, 0.020672231912612915, 0.020672231912612915, 0.020672231912612915, 0.020672231912612915, 0.020672231912612915, 0.8889060020446777, 0.19049540162086487, 0.20124918222427368, 0.29956939816474915, 0.08603018522262573, 0.03533382713794708, 0.061450131237506866, 0.033797573298215866, 0.030725065618753433, 0.05376886576414108, 0.006145013030618429, 0.026788702234625816, 0.026788702234625816, 0.026788702234625816, 0.026788702234625816, 0.026788702234625816, 0.026788702234625816, 0.026788702234625816, 0.8304497599601746, 0.026788702234625816, 0.014633052982389927, 0.014633052982389927, 0.014633052982389927, 0.043899159878492355, 0.014633052982389927, 0.014633052982389927, 0.014633052982389927, 0.8779831528663635, 0.029266105964779854, 0.02788121998310089, 0.02788121998310089, 0.02788121998310089, 0.02788121998310089, 0.02788121998310089, 0.02788121998310089, 0.02788121998310089, 0.8085553646087646, 0.02788121998310089, 0.02788121998310089, 0.0035446409601718187, 0.0319017693400383, 0.0035446409601718187, 0.0035446409601718187, 0.0035446409601718187, 0.0035446409601718187, 0.0035446409601718187, 0.0035446409601718187, 0.9499637484550476, 0.01746123842895031, 0.002494462765753269, 0.002494462765753269, 0.002494462765753269, 0.2195127159357071, 0.6685159802436829, 0.002494462765753269, 0.062361568212509155, 0.024944625794887543, 0.002494462765753269, 0.003953409381210804, 0.003953409381210804, 0.003953409381210804, 0.027673864737153053, 0.05534772947430611, 0.003953409381210804, 0.711613655090332, 0.1897636353969574, 0.003953409381210804, 0.003953409381210804, 0.9447229504585266, 0.0016204511048272252, 0.0016204511048272252, 0.0016204511048272252, 0.0016204511048272252, 0.0016204511048272252, 0.042131729423999786, 0.0048613534308969975, 0.0016204511048272252, 0.0016204511048272252, 0.08425608277320862, 0.005617072340101004, 0.005617072340101004, 0.005617072340101004, 0.005617072340101004, 0.17412924766540527, 0.21344874799251556, 0.49991944432258606, 0.005617072340101004, 0.015128139406442642, 0.030256278812885284, 0.8925602436065674, 0.015128139406442642, 0.015128139406442642, 0.015128139406442642, 0.015128139406442642, 0.015128139406442642, 0.015128139406442642, 0.2512180507183075, 0.0006210582796484232, 0.06427952647209167, 0.08539550751447678, 0.2633287012577057, 0.08291127532720566, 0.0003105291398242116, 0.07514804601669312, 0.17669107019901276, 0.0003105291398242116, 0.2575150430202484, 0.1481132209300995, 0.06395798176527023, 0.0673241913318634, 0.15316253900527954, 0.03871141001582146, 0.1918739378452301, 0.018514152616262436, 0.04376072436571121, 0.018514152616262436, 0.05648745596408844, 0.05648745596408844, 0.05648745596408844, 0.05648745596408844, 0.05648745596408844, 0.05648745596408844, 0.05648745596408844, 0.05648745596408844, 0.05648745596408844, 0.7343369722366333, 0.9558119177818298, 0.008100100792944431, 0.008100100792944431, 0.008100100792944431, 0.008100100792944431, 0.008100100792944431, 0.008100100792944431, 0.008100100792944431, 0.008100100792944431, 0.008100100792944431, 0.029870696365833282, 0.029870696365833282, 0.029870696365833282, 0.029870696365833282, 0.029870696365833282, 0.029870696365833282, 0.029870696365833282, 0.029870696365833282, 0.8363794684410095, 0.024293994531035423, 0.024293994531035423, 0.024293994531035423, 0.024293994531035423, 0.024293994531035423, 0.024293994531035423, 0.8745837807655334, 0.024293994531035423, 0.024293994531035423, 0.024293994531035423, 0.005940410774201155, 0.005940410774201155, 0.005940410774201155, 0.005940410774201155, 0.005940410774201155, 0.005940410774201155, 0.005940410774201155, 0.005940410774201155, 0.9623464941978455, 0.005940410774201155, 0.017086490988731384, 0.017086490988731384, 0.017086490988731384, 0.9055840969085693, 0.017086490988731384, 0.017086490988731384, 0.017086490988731384, 0.017086490988731384, 0.017086490988731384, 0.016762208193540573, 0.016762208193540573, 0.016762208193540573, 0.016762208193540573, 0.8883970975875854, 0.016762208193540573, 0.033524416387081146, 0.016762208193540573, 0.016762208193540573, 0.0034268279559910297, 0.7641826272010803, 0.0034268279559910297, 0.0890975221991539, 0.0034268279559910297, 0.0034268279559910297, 0.0034268279559910297, 0.0034268279559910297, 0.13364629447460175, 0.0034268279559910297, 0.002261839108541608, 0.002261839108541608, 0.002261839108541608, 0.002261839108541608, 0.002261839108541608, 0.002261839108541608, 0.28725355863571167, 0.002261839108541608, 0.7011700868606567, 0.002261839108541608, 0.7818664312362671, 0.002650394570082426, 0.002650394570082426, 0.1961292028427124, 0.002650394570082426, 0.002650394570082426, 0.002650394570082426, 0.010601578280329704, 0.002650394570082426, 0.002650394570082426, 0.9018190503120422, 0.018036380410194397, 0.018036380410194397, 0.018036380410194397, 0.018036380410194397, 0.018036380410194397, 0.018036380410194397, 0.018036380410194397, 0.018036380410194397, 0.3378569185733795, 0.09723686426877975, 0.07581179589033127, 0.22908346354961395, 0.028017401695251465, 0.006592330057173967, 0.00824041198939085, 0.15327167510986328, 0.034609731286764145, 0.02636932022869587, 0.19409847259521484, 0.10816946625709534, 0.0010109295835718513, 0.0010109295835718513, 0.09401644766330719, 0.11120225489139557, 0.0010109295835718513, 0.48928990960121155, 0.0010109295835718513, 0.0010109295835718513, 0.008431164547801018, 0.008431164547801018, 0.008431164547801018, 0.025293491780757904, 0.008431164547801018, 0.25293493270874023, 0.008431164547801018, 0.6829242706298828, 0.008431164547801018, 0.013169830664992332, 0.013169830664992332, 0.013169830664992332, 0.013169830664992332, 0.9350579380989075, 0.013169830664992332, 0.013169830664992332, 0.013169830664992332, 0.013169830664992332, 0.01342108566313982, 0.01342108566313982, 0.9126338362693787, 0.01342108566313982, 0.02684217132627964, 0.01342108566313982, 0.01342108566313982, 0.01342108566313982, 0.01342108566313982, 0.010143384337425232, 0.03803769126534462, 0.69228595495224, 0.005071692168712616, 0.16736583411693573, 0.002535846084356308, 0.08114707469940186, 0.002535846084356308, 0.002535846084356308, 0.002535846084356308, 0.050845347344875336, 0.050845347344875336, 0.050845347344875336, 0.050845347344875336, 0.050845347344875336, 0.050845347344875336, 0.7626802325248718, 0.050845347344875336, 0.050845347344875336, 0.08805587887763977, 0.0036689951084554195, 0.0036689951084554195, 0.0036689951084554195, 0.836530864238739, 0.04035894572734833, 0.018344976007938385, 0.007337990216910839, 0.0036689951084554195, 0.0036689951084554195, 0.95754474401474, 0.009033440612256527, 0.009033440612256527, 0.009033440612256527, 0.009033440612256527, 0.009033440612256527, 0.009033440612256527, 0.009033440612256527, 0.009033440612256527, 0.009033440612256527, 0.635887086391449, 0.006623823661357164, 0.006623823661357164, 0.052990589290857315, 0.006623823661357164, 0.006623823661357164, 0.006623823661357164, 0.006623823661357164, 0.03974294289946556, 0.2517053186893463, 0.0066988058388233185, 0.0066988058388233185, 0.0066988058388233185, 0.7301698327064514, 0.0066988058388233185, 0.24115701019763947, 0.0066988058388233185, 0.0066988058388233185, 0.0066988058388233185, 0.007486643269658089, 0.9133704304695129, 0.007486643269658089, 0.007486643269658089, 0.007486643269658089, 0.04491985961794853, 0.007486643269658089, 0.007486643269658089, 0.007486643269658089, 0.007486643269658089, 0.36194291710853577, 0.0027213753201067448, 0.0027213753201067448, 0.01904962584376335, 0.0027213753201067448, 0.0027213753201067448, 0.0027213753201067448, 0.04082062840461731, 0.5687674283981323, 0.0027213753201067448, 0.02665443904697895, 0.02665443904697895, 0.02665443904697895, 0.02665443904697895, 0.02665443904697895, 0.02665443904697895, 0.02665443904697895, 0.02665443904697895, 0.02665443904697895, 0.8529420495033264, 0.024542277678847313, 0.024542277678847313, 0.024542277678847313, 0.12271139025688171, 0.024542277678847313, 0.024542277678847313, 0.024542277678847313, 0.024542277678847313, 0.7608106136322021, 0.024542277678847313, 0.03682515770196915, 0.03682515770196915, 0.18412578105926514, 0.03682515770196915, 0.03682515770196915, 0.03682515770196915, 0.03682515770196915, 0.03682515770196915, 0.03682515770196915, 0.6628528237342834, 0.0008646155474707484, 0.8291663527488708, 0.0008646155474707484, 0.15649542212486267, 0.0008646155474707484, 0.008646155707538128, 0.0017292310949414968, 0.0008646155474707484, 0.0008646155474707484, 0.0008646155474707484, 0.1004764661192894, 0.2730898857116699, 0.03864479437470436, 0.028339514508843422, 0.012881597504019737, 0.01030527800321579, 0.35810843110084534, 0.0025763195008039474, 0.0025763195008039474, 0.17261341214179993, 0.26935407519340515, 0.07529671490192413, 0.5142214298248291, 0.07468454539775848, 0.0012243367964401841, 0.0030608419328927994, 0.0018365051364526153, 0.03917877748608589, 0.0030608419328927994, 0.018365051597356796, 0.21659447252750397, 0.0113997096195817, 0.0113997096195817, 0.0113997096195817, 0.0113997096195817, 0.0113997096195817, 0.7295814156532288, 0.0113997096195817, 0.0113997096195817, 0.0113997096195817, 0.4974362254142761, 0.08237797766923904, 0.09980408102273941, 0.14257726073265076, 0.05227832868695259, 0.017426110804080963, 0.01425772625952959, 0.0792095884680748, 0.001584191806614399, 0.01425772625952959, 0.12357886880636215, 0.5385317802429199, 0.26699838042259216, 0.007369381841272116, 0.007936257869005203, 0.029477527365088463, 0.0011337511241436005, 0.02210814505815506, 0.0011337511241436005, 0.0017006265698000789, 0.0021200724877417088, 0.9858337044715881, 0.0021200724877417088, 0.0021200724877417088, 0.0021200724877417088, 0.0021200724877417088, 0.0042401449754834175, 0.0021200724877417088, 0.0021200724877417088, 0.0021200724877417088, 0.01397433690726757, 0.01397433690726757, 0.01397433690726757, 0.01397433690726757, 0.01397433690726757, 0.7685885429382324, 0.12576903402805328, 0.01397433690726757, 0.04192301258444786, 0.025532536208629608, 0.025532536208629608, 0.025532536208629608, 0.025532536208629608, 0.025532536208629608, 0.8681061863899231, 0.025532536208629608, 0.025532536208629608, 0.025532536208629608, 0.003411118872463703, 0.9482910633087158, 0.03411119058728218, 0.003411118872463703, 0.003411118872463703, 0.003411118872463703, 0.003411118872463703, 0.003411118872463703, 0.003411118872463703, 0.003411118872463703, 0.02777259796857834, 0.02777259796857834, 0.02777259796857834, 0.02777259796857834, 0.02777259796857834, 0.02777259796857834, 0.8609505295753479, 0.02777259796857834, 0.02777259796857834, 0.02777259796857834], \"Term\": [\"access\", \"access\", \"access\", \"access\", \"access\", \"access\", \"access\", \"access\", \"access\", \"access\", \"activist\", \"activist\", \"activist\", \"activist\", \"activist\", \"activist\", \"activist\", \"activist\", \"activist\", \"activist\", \"afghan\", \"afghan\", \"afghan\", \"afghan\", \"afghan\", \"afghan\", \"afghan\", \"afghan\", \"afghan\", \"afghanistan\", \"afghanistan\", \"afghanistan\", \"afghanistan\", \"afghanistan\", \"afghanistan\", \"afghanistan\", \"afghanistan\", \"afghanistan\", \"afghanistan\", \"africa\", \"africa\", \"africa\", \"africa\", \"africa\", \"africa\", \"africa\", \"africa\", \"africa\", \"africa\", \"agent\", \"agent\", \"agent\", \"agent\", \"agent\", \"agent\", \"agent\", \"agent\", \"agent\", \"aide\", \"aide\", \"aide\", \"aide\", \"aide\", \"aide\", \"aide\", \"aide\", \"aide\", \"air\", \"air\", \"air\", \"air\", \"air\", \"air\", \"air\", \"air\", \"air\", \"air\", \"air_force\", \"air_force\", \"air_force\", \"air_force\", \"air_force\", \"air_force\", \"air_force\", \"air_force\", \"air_force\", \"aircraft\", \"aircraft\", \"aircraft\", \"aircraft\", \"aircraft\", \"aircraft\", \"aircraft\", \"aircraft\", \"aircraft\", \"airport\", \"airport\", \"airport\", \"airport\", \"airport\", \"airport\", \"airport\", \"airport\", \"airport\", \"airstrike\", \"airstrike\", \"airstrike\", \"airstrike\", \"airstrike\", \"airstrike\", \"airstrike\", \"airstrike\", \"airstrike\", \"al_jazeera\", \"al_jazeera\", \"al_jazeera\", \"al_jazeera\", \"al_jazeera\", \"al_jazeera\", \"al_jazeera\", \"al_jazeera\", \"al_jazeera\", \"alive\", \"alive\", \"alive\", \"alive\", \"alive\", \"alive\", \"alive\", \"alive\", \"alive\", \"alive\", \"allege\", \"allege\", \"allege\", \"allege\", \"allege\", \"allege\", \"allege\", \"allege\", \"allege\", \"allege\", \"allow\", \"allow\", \"allow\", \"allow\", \"allow\", \"allow\", \"allow\", \"allow\", \"allow\", \"allow\", \"ambassador\", \"ambassador\", \"ambassador\", \"ambassador\", \"ambassador\", \"ambassador\", \"ambassador\", \"ambassador\", \"ambassador\", \"anti\", \"anti\", \"anti\", \"anti\", \"anti\", \"anti\", \"anti\", \"anti\", \"anti\", \"anti\", \"apartheid\", \"apartheid\", \"apartheid\", \"apartheid\", \"apartheid\", \"apartheid\", \"apartheid\", \"apartheid\", \"apartheid\", \"app\", \"app\", \"app\", \"app\", \"app\", \"app\", \"app\", \"app\", \"app\", \"app\", \"apple\", \"apple\", \"apple\", \"apple\", \"apple\", \"apple\", \"apple\", \"apple\", \"apple\", \"apple\", \"arab\", \"arab\", \"arab\", \"arab\", \"arab\", \"arab\", \"arab\", \"arab\", \"arab\", \"arab\", \"archaeologist\", \"archaeologist\", \"archaeologist\", \"archaeologist\", \"archaeologist\", \"archaeologist\", \"archaeologist\", \"archaeologist\", \"archaeologist\", \"archaeologist\", \"argentina\", \"argentina\", \"argentina\", \"argentina\", \"argentina\", \"argentina\", \"argentina\", \"argentina\", \"argentina\", \"argentina\", \"argentine\", \"argentine\", \"argentine\", \"argentine\", \"argentine\", \"argentine\", \"argentine\", \"argentine\", \"argentine\", \"argentine\", \"army\", \"army\", \"army\", \"army\", \"army\", \"army\", \"army\", \"army\", \"army\", \"army\", \"arrest\", \"arrest\", \"arrest\", \"arrest\", \"arrest\", \"arrest\", \"arrest\", \"arrest\", \"arrest\", \"arrest\", \"arrest_warrant\", \"arrest_warrant\", \"arrest_warrant\", \"arrest_warrant\", \"arrest_warrant\", \"arrest_warrant\", \"arrest_warrant\", \"arrest_warrant\", \"arrest_warrant\", \"asia\", \"asia\", \"asia\", \"asia\", \"asia\", \"asia\", \"asia\", \"asia\", \"asia\", \"asia\", \"assad\", \"assad\", \"assad\", \"assad\", \"assad\", \"assad\", \"assad\", \"assad\", \"assad\", \"asylum\", \"asylum\", \"asylum\", \"asylum\", \"asylum\", \"asylum\", \"asylum\", \"asylum\", \"asylum\", \"asylum\", \"atheist\", \"atheist\", \"atheist\", \"atheist\", \"atheist\", \"atheist\", \"atheist\", \"atheist\", \"atheist\", \"athen\", \"athen\", \"athen\", \"athen\", \"athen\", \"athen\", \"athen\", \"athen\", \"athen\", \"attack\", \"attack\", \"attack\", \"attack\", \"attack\", \"attack\", \"attack\", \"attack\", \"attack\", \"attack\", \"baby\", \"baby\", \"baby\", \"baby\", \"baby\", \"baby\", \"baby\", \"baby\", \"baby\", \"baby\", \"baghdad\", \"baghdad\", \"baghdad\", \"baghdad\", \"baghdad\", \"baghdad\", \"baghdad\", \"baghdad\", \"baghdad\", \"bailout\", \"bailout\", \"bailout\", \"bailout\", \"bailout\", \"bailout\", \"bailout\", \"bailout\", \"bailout\", \"ban\", \"ban\", \"ban\", \"ban\", \"ban\", \"ban\", \"ban\", \"ban\", \"ban\", \"ban\", \"ban_ki\", \"ban_ki\", \"ban_ki\", \"ban_ki\", \"ban_ki\", \"ban_ki\", \"ban_ki\", \"ban_ki\", \"ban_ki\", \"bank\", \"bank\", \"bank\", \"bank\", \"bank\", \"bank\", \"bank\", \"bank\", \"bank\", \"bank\", \"barclay\", \"barclay\", \"barclay\", \"barclay\", \"barclay\", \"barclay\", \"barclay\", \"barclay\", \"barclay\", \"beat\", \"beat\", \"beat\", \"beat\", \"beat\", \"beat\", \"beat\", \"beat\", \"beat\", \"beat\", \"beij\", \"beij\", \"beij\", \"beij\", \"beij\", \"beij\", \"beij\", \"beij\", \"beij\", \"beij\", \"beijing\", \"beijing\", \"beijing\", \"beijing\", \"beijing\", \"beijing\", \"beijing\", \"beijing\", \"beijing\", \"beijing\", \"benjamin_netanyahu\", \"benjamin_netanyahu\", \"benjamin_netanyahu\", \"benjamin_netanyahu\", \"benjamin_netanyahu\", \"benjamin_netanyahu\", \"benjamin_netanyahu\", \"benjamin_netanyahu\", \"benjamin_netanyahu\", \"big\", \"big\", \"big\", \"big\", \"big\", \"big\", \"big\", \"big\", \"big\", \"big\", \"bill\", \"bill\", \"bill\", \"bill\", \"bill\", \"bill\", \"bill\", \"bill\", \"bill\", \"bin_laden\", \"bin_laden\", \"bin_laden\", \"bin_laden\", \"bin_laden\", \"bin_laden\", \"bin_laden\", \"bin_laden\", \"bin_laden\", \"bin_laden\", \"bird_flu\", \"bird_flu\", \"bird_flu\", \"bird_flu\", \"bird_flu\", \"bird_flu\", \"bird_flu\", \"bird_flu\", \"bird_flu\", \"bird_flu\", \"birth_control\", \"birth_control\", \"birth_control\", \"birth_control\", \"birth_control\", \"birth_control\", \"birth_control\", \"birth_control\", \"birth_control\", \"birth_control\", \"blair\", \"blair\", \"blair\", \"blair\", \"blair\", \"blair\", \"blair\", \"blair\", \"blair\", \"blast\", \"blast\", \"blast\", \"blast\", \"blast\", \"blast\", \"blast\", \"blast\", \"blast\", \"blast\", \"block\", \"block\", \"block\", \"block\", \"block\", \"block\", \"block\", \"block\", \"block\", \"block\", \"blockade\", \"blockade\", \"blockade\", \"blockade\", \"blockade\", \"blockade\", \"blockade\", \"blockade\", \"blockade\", \"body\", \"body\", \"body\", \"body\", \"body\", \"body\", \"body\", \"body\", \"body\", \"body\", \"bomb\", \"bomb\", \"bomb\", \"bomb\", \"bomb\", \"bomb\", \"bomb\", \"bomb\", \"bomb\", \"bomb\", \"bombing\", \"bombing\", \"bombing\", \"bombing\", \"bombing\", \"bombing\", \"bombing\", \"bombing\", \"bombing\", \"border\", \"border\", \"border\", \"border\", \"border\", \"border\", \"border\", \"border\", \"border\", \"border\", \"boy\", \"boy\", \"boy\", \"boy\", \"boy\", \"boy\", \"boy\", \"boy\", \"boy\", \"boycott\", \"boycott\", \"boycott\", \"boycott\", \"boycott\", \"boycott\", \"boycott\", \"boycott\", \"boycott\", \"british\", \"british\", \"british\", \"british\", \"british\", \"british\", \"british\", \"british\", \"british\", \"british\", \"broadcast\", \"broadcast\", \"broadcast\", \"broadcast\", \"broadcast\", \"broadcast\", \"broadcast\", \"broadcast\", \"broadcast\", \"broadcast\", \"building\", \"building\", \"building\", \"building\", \"building\", \"building\", \"building\", \"building\", \"building\", \"building\", \"bus\", \"bus\", \"bus\", \"bus\", \"bus\", \"bus\", \"bus\", \"bus\", \"bus\", \"bus\", \"cabinet\", \"cabinet\", \"cabinet\", \"cabinet\", \"cabinet\", \"cabinet\", \"cabinet\", \"cabinet\", \"cabinet\", \"cage\", \"cage\", \"cage\", \"cage\", \"cage\", \"cage\", \"cage\", \"cage\", \"cage\", \"cage\", \"cairo\", \"cairo\", \"cairo\", \"cairo\", \"cairo\", \"cairo\", \"cairo\", \"cairo\", \"cairo\", \"cairo\", \"call\", \"call\", \"call\", \"call\", \"call\", \"call\", \"call\", \"call\", \"call\", \"call\", \"camera\", \"camera\", \"camera\", \"camera\", \"camera\", \"camera\", \"camera\", \"camera\", \"camera\", \"camera\", \"can\", \"can\", \"can\", \"can\", \"can\", \"can\", \"can\", \"can\", \"can\", \"can\", \"canada\", \"canada\", \"canada\", \"canada\", \"canada\", \"canada\", \"canada\", \"canada\", \"canada\", \"canada\", \"canadian\", \"canadian\", \"canadian\", \"canadian\", \"canadian\", \"canadian\", \"canadian\", \"canadian\", \"canadian\", \"canadian\", \"captain\", \"captain\", \"captain\", \"captain\", \"captain\", \"captain\", \"captain\", \"captain\", \"captain\", \"car\", \"car\", \"car\", \"car\", \"car\", \"car\", \"car\", \"car\", \"car\", \"car\", \"case\", \"case\", \"case\", \"case\", \"case\", \"case\", \"case\", \"case\", \"case\", \"case\", \"catholic\", \"catholic\", \"catholic\", \"catholic\", \"catholic\", \"catholic\", \"catholic\", \"catholic\", \"catholic\", \"catholic_church\", \"catholic_church\", \"catholic_church\", \"catholic_church\", \"catholic_church\", \"catholic_church\", \"catholic_church\", \"catholic_church\", \"catholic_church\", \"catholic_church\", \"cause\", \"cause\", \"cause\", \"cause\", \"cause\", \"cause\", \"cause\", \"cause\", \"cause\", \"cause\", \"censor\", \"censor\", \"censor\", \"censor\", \"censor\", \"censor\", \"censor\", \"censor\", \"censor\", \"censor\", \"central_african\", \"central_african\", \"central_african\", \"central_african\", \"central_african\", \"central_african\", \"central_african\", \"central_african\", \"central_african\", \"chant\", \"chant\", \"chant\", \"chant\", \"chant\", \"chant\", \"chant\", \"chant\", \"chant\", \"cheap\", \"cheap\", \"cheap\", \"cheap\", \"cheap\", \"cheap\", \"cheap\", \"cheap\", \"cheap\", \"cheap\", \"chemical_weapon\", \"chemical_weapon\", \"chemical_weapon\", \"chemical_weapon\", \"chemical_weapon\", \"chemical_weapon\", \"chemical_weapon\", \"chemical_weapon\", \"chemical_weapon\", \"chevron\", \"chevron\", \"chevron\", \"chevron\", \"chevron\", \"chevron\", \"chevron\", \"chevron\", \"chevron\", \"chevron\", \"chief\", \"chief\", \"chief\", \"chief\", \"chief\", \"chief\", \"chief\", \"chief\", \"chief\", \"chief\", \"child\", \"child\", \"child\", \"child\", \"child\", \"child\", \"child\", \"child\", \"child\", \"child\", \"china\", \"china\", \"china\", \"china\", \"china\", \"china\", \"china\", \"china\", \"china\", \"china\", \"chinese\", \"chinese\", \"chinese\", \"chinese\", \"chinese\", \"chinese\", \"chinese\", \"chinese\", \"chinese\", \"chinese\", \"christian\", \"christian\", \"christian\", \"christian\", \"christian\", \"christian\", \"christian\", \"christian\", \"christian\", \"christian\", \"church\", \"church\", \"church\", \"church\", \"church\", \"church\", \"church\", \"church\", \"church\", \"cia\", \"cia\", \"cia\", \"cia\", \"cia\", \"cia\", \"cia\", \"cia\", \"cia\", \"cigarette\", \"cigarette\", \"cigarette\", \"cigarette\", \"cigarette\", \"cigarette\", \"cigarette\", \"cigarette\", \"cigarette\", \"cigarette\", \"citizenship\", \"citizenship\", \"citizenship\", \"citizenship\", \"citizenship\", \"citizenship\", \"citizenship\", \"citizenship\", \"citizenship\", \"city\", \"city\", \"city\", \"city\", \"city\", \"city\", \"city\", \"city\", \"city\", \"city\", \"civilian\", \"civilian\", \"civilian\", \"civilian\", \"civilian\", \"civilian\", \"civilian\", \"civilian\", \"civilian\", \"claim\", \"claim\", \"claim\", \"claim\", \"claim\", \"claim\", \"claim\", \"claim\", \"claim\", \"claim\", \"clash\", \"clash\", \"clash\", \"clash\", \"clash\", \"clash\", \"clash\", \"clash\", \"clash\", \"clash\", \"climate\", \"climate\", \"climate\", \"climate\", \"climate\", \"climate\", \"climate\", \"climate\", \"climate\", \"coal\", \"coal\", \"coal\", \"coal\", \"coal\", \"coal\", \"coal\", \"coal\", \"coal\", \"company\", \"company\", \"company\", \"company\", \"company\", \"company\", \"company\", \"company\", \"company\", \"company\", \"complaint\", \"complaint\", \"complaint\", \"complaint\", \"complaint\", \"complaint\", \"complaint\", \"complaint\", \"complaint\", \"complaint\", \"concert\", \"concert\", \"concert\", \"concert\", \"concert\", \"concert\", \"concert\", \"concert\", \"concert\", \"concert\", \"condition\", \"condition\", \"condition\", \"condition\", \"condition\", \"condition\", \"condition\", \"condition\", \"condition\", \"condition\", \"condom\", \"condom\", \"condom\", \"condom\", \"condom\", \"condom\", \"condom\", \"condom\", \"condom\", \"condom\", \"content\", \"content\", \"content\", \"content\", \"content\", \"content\", \"content\", \"content\", \"content\", \"content\", \"copyright\", \"copyright\", \"copyright\", \"copyright\", \"copyright\", \"copyright\", \"copyright\", \"copyright\", \"copyright\", \"copyright\", \"cost\", \"cost\", \"cost\", \"cost\", \"cost\", \"cost\", \"cost\", \"cost\", \"cost\", \"cost\", \"could\", \"could\", \"could\", \"could\", \"could\", \"could\", \"could\", \"could\", \"could\", \"could\", \"country\", \"country\", \"country\", \"country\", \"country\", \"country\", \"country\", \"country\", \"country\", \"country\", \"coup\", \"coup\", \"coup\", \"coup\", \"coup\", \"coup\", \"coup\", \"coup\", \"coup\", \"coup\", \"couple\", \"couple\", \"couple\", \"couple\", \"couple\", \"couple\", \"couple\", \"couple\", \"couple\", \"court\", \"court\", \"court\", \"court\", \"court\", \"court\", \"court\", \"court\", \"court\", \"court\", \"crimean\", \"crimean\", \"crimean\", \"crimean\", \"crimean\", \"crimean\", \"crimean\", \"crimean\", \"crimean\", \"crimean\", \"crisis\", \"crisis\", \"crisis\", \"crisis\", \"crisis\", \"crisis\", \"crisis\", \"crisis\", \"crisis\", \"crop\", \"crop\", \"crop\", \"crop\", \"crop\", \"crop\", \"crop\", \"crop\", \"crop\", \"cuba\", \"cuba\", \"cuba\", \"cuba\", \"cuba\", \"cuba\", \"cuba\", \"cuba\", \"cuba\", \"cuba\", \"currency\", \"currency\", \"currency\", \"currency\", \"currency\", \"currency\", \"currency\", \"currency\", \"currency\", \"currency\", \"dalai_lama\", \"dalai_lama\", \"dalai_lama\", \"dalai_lama\", \"dalai_lama\", \"dalai_lama\", \"dalai_lama\", \"dalai_lama\", \"dalai_lama\", \"dalai_lama\", \"damascus\", \"damascus\", \"damascus\", \"damascus\", \"damascus\", \"damascus\", \"damascus\", \"damascus\", \"damascus\", \"datum\", \"datum\", \"datum\", \"datum\", \"datum\", \"datum\", \"datum\", \"datum\", \"datum\", \"datum\", \"daughter\", \"daughter\", \"daughter\", \"daughter\", \"daughter\", \"daughter\", \"daughter\", \"daughter\", \"daughter\", \"daughter\", \"day\", \"day\", \"day\", \"day\", \"day\", \"day\", \"day\", \"day\", \"day\", \"day\", \"dead\", \"dead\", \"dead\", \"dead\", \"dead\", \"dead\", \"dead\", \"dead\", \"dead\", \"dead\", \"deal\", \"deal\", \"deal\", \"deal\", \"deal\", \"deal\", \"deal\", \"deal\", \"deal\", \"death\", \"death\", \"death\", \"death\", \"death\", \"death\", \"death\", \"death\", \"death\", \"death\", \"debt\", \"debt\", \"debt\", \"debt\", \"debt\", \"debt\", \"debt\", \"debt\", \"debt\", \"debt\", \"declare\", \"declare\", \"declare\", \"declare\", \"declare\", \"declare\", \"declare\", \"declare\", \"declare\", \"declare\", \"demolish\", \"demolish\", \"demolish\", \"demolish\", \"demolish\", \"demolish\", \"demolish\", \"demolish\", \"demolish\", \"demonstration\", \"demonstration\", \"demonstration\", \"demonstration\", \"demonstration\", \"demonstration\", \"demonstration\", \"demonstration\", \"demonstration\", \"demonstration\", \"deny\", \"deny\", \"deny\", \"deny\", \"deny\", \"deny\", \"deny\", \"deny\", \"deny\", \"deny\", \"deputy_prime\", \"deputy_prime\", \"deputy_prime\", \"deputy_prime\", \"deputy_prime\", \"deputy_prime\", \"deputy_prime\", \"deputy_prime\", \"deputy_prime\", \"detainee\", \"detainee\", \"detainee\", \"detainee\", \"detainee\", \"detainee\", \"detainee\", \"detainee\", \"detainee\", \"detention\", \"detention\", \"detention\", \"detention\", \"detention\", \"detention\", \"detention\", \"detention\", \"detention\", \"detention\", \"die\", \"die\", \"die\", \"die\", \"die\", \"die\", \"die\", \"die\", \"die\", \"die\", \"disaster\", \"disaster\", \"disaster\", \"disaster\", \"disaster\", \"disaster\", \"disaster\", \"disaster\", \"disaster\", \"discrimination\", \"discrimination\", \"discrimination\", \"discrimination\", \"discrimination\", \"discrimination\", \"discrimination\", \"discrimination\", \"discrimination\", \"discrimination\", \"doctor\", \"doctor\", \"doctor\", \"doctor\", \"doctor\", \"doctor\", \"doctor\", \"doctor\", \"doctor\", \"doctor\", \"document\", \"document\", \"document\", \"document\", \"document\", \"document\", \"document\", \"document\", \"document\", \"document\", \"downtown\", \"downtown\", \"downtown\", \"downtown\", \"downtown\", \"downtown\", \"downtown\", \"downtown\", \"downtown\", \"drone_strik\", \"drone_strik\", \"drone_strik\", \"drone_strik\", \"drone_strik\", \"drone_strik\", \"drone_strik\", \"drone_strik\", \"drone_strik\", \"drug\", \"drug\", \"drug\", \"drug\", \"drug\", \"drug\", \"drug\", \"drug\", \"drug\", \"drug\", \"earth\", \"earth\", \"earth\", \"earth\", \"earth\", \"earth\", \"earth\", \"earth\", \"earth\", \"earth\", \"economic\", \"economic\", \"economic\", \"economic\", \"economic\", \"economic\", \"economic\", \"economic\", \"economic\", \"economic\", \"economy\", \"economy\", \"economy\", \"economy\", \"economy\", \"economy\", \"economy\", \"economy\", \"economy\", \"ecuador\", \"ecuador\", \"ecuador\", \"ecuador\", \"ecuador\", \"ecuador\", \"ecuador\", \"ecuador\", \"ecuador\", \"ecuador\", \"edward_snowden\", \"edward_snowden\", \"edward_snowden\", \"edward_snowden\", \"edward_snowden\", \"edward_snowden\", \"edward_snowden\", \"edward_snowden\", \"edward_snowden\", \"edward_snowden\", \"egypt\", \"egypt\", \"egypt\", \"egypt\", \"egypt\", \"egypt\", \"egypt\", \"egypt\", \"egypt\", \"egypt\", \"egyptian\", \"egyptian\", \"egyptian\", \"egyptian\", \"egyptian\", \"egyptian\", \"egyptian\", \"egyptian\", \"egyptian\", \"elect\", \"elect\", \"elect\", \"elect\", \"elect\", \"elect\", \"elect\", \"elect\", \"elect\", \"elect\", \"election\", \"election\", \"election\", \"election\", \"election\", \"election\", \"election\", \"election\", \"election\", \"electricity\", \"electricity\", \"electricity\", \"electricity\", \"electricity\", \"electricity\", \"electricity\", \"electricity\", \"electricity\", \"electricity\", \"embassy\", \"embassy\", \"embassy\", \"embassy\", \"embassy\", \"embassy\", \"embassy\", \"embassy\", \"embassy\", \"embassy\", \"emission\", \"emission\", \"emission\", \"emission\", \"emission\", \"emission\", \"emission\", \"emission\", \"emission\", \"end\", \"end\", \"end\", \"end\", \"end\", \"end\", \"end\", \"end\", \"end\", \"end\", \"energy\", \"energy\", \"energy\", \"energy\", \"energy\", \"energy\", \"energy\", \"energy\", \"energy\", \"erdogan\", \"erdogan\", \"erdogan\", \"erdogan\", \"erdogan\", \"erdogan\", \"erdogan\", \"erdogan\", \"erdogan\", \"erupt\", \"erupt\", \"erupt\", \"erupt\", \"erupt\", \"erupt\", \"erupt\", \"erupt\", \"erupt\", \"euro\", \"euro\", \"euro\", \"euro\", \"euro\", \"euro\", \"euro\", \"euro\", \"euro\", \"europe\", \"europe\", \"europe\", \"europe\", \"europe\", \"europe\", \"europe\", \"europe\", \"europe\", \"europe\", \"evidence\", \"evidence\", \"evidence\", \"evidence\", \"evidence\", \"evidence\", \"evidence\", \"evidence\", \"evidence\", \"evidence\", \"extradition\", \"extradition\", \"extradition\", \"extradition\", \"extradition\", \"extradition\", \"extradition\", \"extradition\", \"extradition\", \"factory\", \"factory\", \"factory\", \"factory\", \"factory\", \"factory\", \"factory\", \"factory\", \"factory\", \"factory\", \"family\", \"family\", \"family\", \"family\", \"family\", \"family\", \"family\", \"family\", \"family\", \"family\", \"far_right\", \"far_right\", \"far_right\", \"far_right\", \"far_right\", \"far_right\", \"far_right\", \"far_right\", \"far_right\", \"father\", \"father\", \"father\", \"father\", \"father\", \"father\", \"father\", \"father\", \"father\", \"fbi\", \"fbi\", \"fbi\", \"fbi\", \"fbi\", \"fbi\", \"fbi\", \"fbi\", \"fbi\", \"female_genital\", \"female_genital\", \"female_genital\", \"female_genital\", \"female_genital\", \"female_genital\", \"female_genital\", \"female_genital\", \"female_genital\", \"fighter_jet\", \"fighter_jet\", \"fighter_jet\", \"fighter_jet\", \"fighter_jet\", \"fighter_jet\", \"fighter_jet\", \"fighter_jet\", \"fighter_jet\", \"file\", \"file\", \"file\", \"file\", \"file\", \"file\", \"file\", \"file\", \"file\", \"file\", \"film\", \"film\", \"film\", \"film\", \"film\", \"film\", \"film\", \"film\", \"film\", \"film\", \"find\", \"find\", \"find\", \"find\", \"find\", \"find\", \"find\", \"find\", \"find\", \"find\", \"fire\", \"fire\", \"fire\", \"fire\", \"fire\", \"fire\", \"fire\", \"fire\", \"fire\", \"fire\", \"fleet\", \"fleet\", \"fleet\", \"fleet\", \"fleet\", \"fleet\", \"fleet\", \"fleet\", \"fleet\", \"flotilla\", \"flotilla\", \"flotilla\", \"flotilla\", \"flotilla\", \"flotilla\", \"flotilla\", \"flotilla\", \"flotilla\", \"flotilla\", \"food\", \"food\", \"food\", \"food\", \"food\", \"food\", \"food\", \"food\", \"food\", \"food\", \"force\", \"force\", \"force\", \"force\", \"force\", \"force\", \"force\", \"force\", \"force\", \"force\", \"foreign\", \"foreign\", \"foreign\", \"foreign\", \"foreign\", \"foreign\", \"foreign\", \"foreign\", \"foreign\", \"foreign\", \"former\", \"former\", \"former\", \"former\", \"former\", \"former\", \"former\", \"former\", \"former\", \"former\", \"founder\", \"founder\", \"founder\", \"founder\", \"founder\", \"founder\", \"founder\", \"founder\", \"founder\", \"founder\", \"foxconn\", \"foxconn\", \"foxconn\", \"foxconn\", \"foxconn\", \"foxconn\", \"foxconn\", \"foxconn\", \"foxconn\", \"foxconn\", \"france\", \"france\", \"france\", \"france\", \"france\", \"france\", \"france\", \"france\", \"france\", \"france\", \"fukushima\", \"fukushima\", \"fukushima\", \"fukushima\", \"fukushima\", \"fukushima\", \"fukushima\", \"fukushima\", \"fukushima\", \"gaddafi\", \"gaddafi\", \"gaddafi\", \"gaddafi\", \"gaddafi\", \"gaddafi\", \"gaddafi\", \"gaddafi\", \"gaddafi\", \"gang\", \"gang\", \"gang\", \"gang\", \"gang\", \"gang\", \"gang\", \"gang\", \"gang\", \"gang\", \"gay\", \"gay\", \"gay\", \"gay\", \"gay\", \"gay\", \"gay\", \"gay\", \"gay\", \"gay\", \"gaza\", \"gaza\", \"gaza\", \"gaza\", \"gaza\", \"gaza\", \"gaza\", \"gaza\", \"gaza\", \"gazan\", \"gazan\", \"gazan\", \"gazan\", \"gazan\", \"gazan\", \"gazan\", \"gazan\", \"gazan\", \"gene\", \"gene\", \"gene\", \"gene\", \"gene\", \"gene\", \"gene\", \"gene\", \"gene\", \"gene\", \"genocide\", \"genocide\", \"genocide\", \"genocide\", \"genocide\", \"genocide\", \"genocide\", \"genocide\", \"genocide\", \"genocide\", \"german\", \"german\", \"german\", \"german\", \"german\", \"german\", \"german\", \"german\", \"german\", \"german\", \"germany\", \"germany\", \"germany\", \"germany\", \"germany\", \"germany\", \"germany\", \"germany\", \"germany\", \"germany\", \"get\", \"get\", \"get\", \"get\", \"get\", \"get\", \"get\", \"get\", \"get\", \"get\", \"girl\", \"girl\", \"girl\", \"girl\", \"girl\", \"girl\", \"girl\", \"girl\", \"girl\", \"girl\", \"global\", \"global\", \"global\", \"global\", \"global\", \"global\", \"global\", \"global\", \"global\", \"global\", \"go\", \"go\", \"go\", \"go\", \"go\", \"go\", \"go\", \"go\", \"go\", \"go\", \"government\", \"government\", \"government\", \"government\", \"government\", \"government\", \"government\", \"government\", \"government\", \"government\", \"graphic\", \"graphic\", \"graphic\", \"graphic\", \"graphic\", \"graphic\", \"graphic\", \"graphic\", \"graphic\", \"graphic\", \"great_barrier\", \"great_barrier\", \"great_barrier\", \"great_barrier\", \"great_barrier\", \"great_barrier\", \"great_barrier\", \"great_barrier\", \"great_barrier\", \"group\", \"group\", \"group\", \"group\", \"group\", \"group\", \"group\", \"group\", \"group\", \"group\", \"growth\", \"growth\", \"growth\", \"growth\", \"growth\", \"growth\", \"growth\", \"growth\", \"growth\", \"gypsy\", \"gypsy\", \"gypsy\", \"gypsy\", \"gypsy\", \"gypsy\", \"gypsy\", \"gypsy\", \"gypsy\", \"gypsy\", \"hacker\", \"hacker\", \"hacker\", \"hacker\", \"hacker\", \"hacker\", \"hacker\", \"hacker\", \"hacker\", \"hacker\", \"hama\", \"hama\", \"hama\", \"hama\", \"hama\", \"hama\", \"hama\", \"hama\", \"hama\", \"high\", \"high\", \"high\", \"high\", \"high\", \"high\", \"high\", \"high\", \"high\", \"high\", \"homosexual\", \"homosexual\", \"homosexual\", \"homosexual\", \"homosexual\", \"homosexual\", \"homosexual\", \"homosexual\", \"homosexual\", \"hong_kong\", \"hong_kong\", \"hong_kong\", \"hong_kong\", \"hong_kong\", \"hong_kong\", \"hong_kong\", \"hong_kong\", \"hong_kong\", \"hong_kong\", \"hospital\", \"hospital\", \"hospital\", \"hospital\", \"hospital\", \"hospital\", \"hospital\", \"hospital\", \"hospital\", \"hospital\", \"human_right\", \"human_right\", \"human_right\", \"human_right\", \"human_right\", \"human_right\", \"human_right\", \"human_right\", \"human_right\", \"human_right\", \"hundred\", \"hundred\", \"hundred\", \"hundred\", \"hundred\", \"hundred\", \"hundred\", \"hundred\", \"hundred\", \"hundred\", \"husband\", \"husband\", \"husband\", \"husband\", \"husband\", \"husband\", \"husband\", \"husband\", \"husband\", \"husband\", \"idf\", \"idf\", \"idf\", \"idf\", \"idf\", \"idf\", \"idf\", \"idf\", \"idf\", \"illegal\", \"illegal\", \"illegal\", \"illegal\", \"illegal\", \"illegal\", \"illegal\", \"illegal\", \"illegal\", \"illegal\", \"increase\", \"increase\", \"increase\", \"increase\", \"increase\", \"increase\", \"increase\", \"increase\", \"increase\", \"increase\", \"independence\", \"independence\", \"independence\", \"independence\", \"independence\", \"independence\", \"independence\", \"independence\", \"independence\", \"india\", \"india\", \"india\", \"india\", \"india\", \"india\", \"india\", \"india\", \"india\", \"india\", \"informant\", \"informant\", \"informant\", \"informant\", \"informant\", \"informant\", \"informant\", \"informant\", \"informant\", \"inmate\", \"inmate\", \"inmate\", \"inmate\", \"inmate\", \"inmate\", \"inmate\", \"inmate\", \"inmate\", \"inmate\", \"internet\", \"internet\", \"internet\", \"internet\", \"internet\", \"internet\", \"internet\", \"internet\", \"internet\", \"internet\", \"interview\", \"interview\", \"interview\", \"interview\", \"interview\", \"interview\", \"interview\", \"interview\", \"interview\", \"interview\", \"invasion\", \"invasion\", \"invasion\", \"invasion\", \"invasion\", \"invasion\", \"invasion\", \"invasion\", \"invasion\", \"investigate\", \"investigate\", \"investigate\", \"investigate\", \"investigate\", \"investigate\", \"investigate\", \"investigate\", \"investigate\", \"investigate\", \"investor\", \"investor\", \"investor\", \"investor\", \"investor\", \"investor\", \"investor\", \"investor\", \"investor\", \"iphone\", \"iphone\", \"iphone\", \"iphone\", \"iphone\", \"iphone\", \"iphone\", \"iphone\", \"iphone\", \"iphone\", \"iran\", \"iran\", \"iran\", \"iran\", \"iran\", \"iran\", \"iran\", \"iran\", \"iran\", \"iraq\", \"iraq\", \"iraq\", \"iraq\", \"iraq\", \"iraq\", \"iraq\", \"iraq\", \"iraq\", \"iraqi\", \"iraqi\", \"iraqi\", \"iraqi\", \"iraqi\", \"iraqi\", \"iraqi\", \"iraqi\", \"iraqi\", \"ireland\", \"ireland\", \"ireland\", \"ireland\", \"ireland\", \"ireland\", \"ireland\", \"ireland\", \"ireland\", \"ireland\", \"irish\", \"irish\", \"irish\", \"irish\", \"irish\", \"irish\", \"irish\", \"irish\", \"irish\", \"irish\", \"isis\", \"isis\", \"isis\", \"isis\", \"isis\", \"isis\", \"isis\", \"isis\", \"isis\", \"isis\", \"islam\", \"islam\", \"islam\", \"islam\", \"islam\", \"islam\", \"islam\", \"islam\", \"islam\", \"islam\", \"islamic\", \"islamic\", \"islamic\", \"islamic\", \"islamic\", \"islamic\", \"islamic\", \"islamic\", \"islamic\", \"islamic\", \"islamist\", \"islamist\", \"islamist\", \"islamist\", \"islamist\", \"islamist\", \"islamist\", \"islamist\", \"islamist\", \"islamist\", \"island\", \"island\", \"island\", \"island\", \"island\", \"island\", \"island\", \"island\", \"island\", \"island\", \"isp\", \"isp\", \"isp\", \"isp\", \"isp\", \"isp\", \"isp\", \"isp\", \"isp\", \"israel\", \"israel\", \"israel\", \"israel\", \"israel\", \"israel\", \"israel\", \"israel\", \"israel\", \"israeli\", \"israeli\", \"israeli\", \"israeli\", \"israeli\", \"israeli\", \"israeli\", \"israeli\", \"israeli\", \"istanbul\", \"istanbul\", \"istanbul\", \"istanbul\", \"istanbul\", \"istanbul\", \"istanbul\", \"istanbul\", \"istanbul\", \"istanbul\", \"jail\", \"jail\", \"jail\", \"jail\", \"jail\", \"jail\", \"jail\", \"jail\", \"jail\", \"jail\", \"japan\", \"japan\", \"japan\", \"japan\", \"japan\", \"japan\", \"japan\", \"japan\", \"japan\", \"japan\", \"japanese\", \"japanese\", \"japanese\", \"japanese\", \"japanese\", \"japanese\", \"japanese\", \"japanese\", \"japanese\", \"japanese\", \"jet\", \"jet\", \"jet\", \"jet\", \"jet\", \"jet\", \"jet\", \"jet\", \"jet\", \"jew\", \"jew\", \"jew\", \"jew\", \"jew\", \"jew\", \"jew\", \"jew\", \"jew\", \"jewish\", \"jewish\", \"jewish\", \"jewish\", \"jewish\", \"jewish\", \"jewish\", \"jewish\", \"jewish\", \"journalist\", \"journalist\", \"journalist\", \"journalist\", \"journalist\", \"journalist\", \"journalist\", \"journalist\", \"journalist\", \"journalist\", \"kabul\", \"kabul\", \"kabul\", \"kabul\", \"kabul\", \"kabul\", \"kabul\", \"kabul\", \"kabul\", \"karzai\", \"karzai\", \"karzai\", \"karzai\", \"karzai\", \"karzai\", \"karzai\", \"karzai\", \"karzai\", \"kid\", \"kid\", \"kid\", \"kid\", \"kid\", \"kid\", \"kid\", \"kid\", \"kid\", \"kid\", \"kill\", \"kill\", \"kill\", \"kill\", \"kill\", \"kill\", \"kill\", \"kill\", \"kill\", \"kill\", \"kim_jong\", \"kim_jong\", \"kim_jong\", \"kim_jong\", \"kim_jong\", \"kim_jong\", \"kim_jong\", \"kim_jong\", \"kim_jong\", \"kim_jong\", \"korea\", \"korea\", \"korea\", \"korea\", \"korea\", \"korea\", \"korea\", \"korea\", \"korea\", \"korean\", \"korean\", \"korean\", \"korean\", \"korean\", \"korean\", \"korean\", \"korean\", \"korean\", \"korean\", \"laden\", \"laden\", \"laden\", \"laden\", \"laden\", \"laden\", \"laden\", \"laden\", \"laden\", \"laptop\", \"laptop\", \"laptop\", \"laptop\", \"laptop\", \"laptop\", \"laptop\", \"laptop\", \"laptop\", \"laptop\", \"large\", \"large\", \"large\", \"large\", \"large\", \"large\", \"large\", \"large\", \"large\", \"large\", \"launch\", \"launch\", \"launch\", \"launch\", \"launch\", \"launch\", \"launch\", \"launch\", \"launch\", \"launch\", \"law\", \"law\", \"law\", \"law\", \"law\", \"law\", \"law\", \"law\", \"law\", \"law\", \"leader\", \"leader\", \"leader\", \"leader\", \"leader\", \"leader\", \"leader\", \"leader\", \"leader\", \"leader\", \"least\", \"least\", \"least\", \"least\", \"least\", \"least\", \"least\", \"least\", \"least\", \"least\", \"legalise\", \"legalise\", \"legalise\", \"legalise\", \"legalise\", \"legalise\", \"legalise\", \"legalise\", \"legalise\", \"legalise\", \"legalization\", \"legalization\", \"legalization\", \"legalization\", \"legalization\", \"legalization\", \"legalization\", \"legalization\", \"legalization\", \"legislation\", \"legislation\", \"legislation\", \"legislation\", \"legislation\", \"legislation\", \"legislation\", \"legislation\", \"legislation\", \"liberia\", \"liberia\", \"liberia\", \"liberia\", \"liberia\", \"liberia\", \"liberia\", \"liberia\", \"liberia\", \"libor\", \"libor\", \"libor\", \"libor\", \"libor\", \"libor\", \"libor\", \"libor\", \"libor\", \"life\", \"life\", \"life\", \"life\", \"life\", \"life\", \"life\", \"life\", \"life\", \"life\", \"london\", \"london\", \"london\", \"london\", \"london\", \"london\", \"london\", \"london\", \"london\", \"lulzsec\", \"lulzsec\", \"lulzsec\", \"lulzsec\", \"lulzsec\", \"lulzsec\", \"lulzsec\", \"lulzsec\", \"lulzsec\", \"magnitude_earthquake\", \"magnitude_earthquake\", \"magnitude_earthquake\", \"magnitude_earthquake\", \"magnitude_earthquake\", \"magnitude_earthquake\", \"magnitude_earthquake\", \"magnitude_earthquake\", \"magnitude_earthquake\", \"make\", \"make\", \"make\", \"make\", \"make\", \"make\", \"make\", \"make\", \"make\", \"make\", \"male\", \"male\", \"male\", \"male\", \"male\", \"male\", \"male\", \"male\", \"male\", \"male\", \"man\", \"man\", \"man\", \"man\", \"man\", \"man\", \"man\", \"man\", \"man\", \"man\", \"map\", \"map\", \"map\", \"map\", \"map\", \"map\", \"map\", \"map\", \"map\", \"map\", \"mar\", \"mar\", \"mar\", \"mar\", \"mar\", \"mar\", \"mar\", \"mar\", \"mar\", \"mar\", \"march\", \"march\", \"march\", \"march\", \"march\", \"march\", \"march\", \"march\", \"march\", \"march\", \"marijuana\", \"marijuana\", \"marijuana\", \"marijuana\", \"marijuana\", \"marijuana\", \"marijuana\", \"marijuana\", \"marijuana\", \"marijuana\", \"marry\", \"marry\", \"marry\", \"marry\", \"marry\", \"marry\", \"marry\", \"marry\", \"marry\", \"may\", \"may\", \"may\", \"may\", \"may\", \"may\", \"may\", \"may\", \"may\", \"may\", \"meat\", \"meat\", \"meat\", \"meat\", \"meat\", \"meat\", \"meat\", \"meat\", \"meat\", \"meat\", \"medicine\", \"medicine\", \"medicine\", \"medicine\", \"medicine\", \"medicine\", \"medicine\", \"medicine\", \"medicine\", \"medicine\", \"mexico\", \"mexico\", \"mexico\", \"mexico\", \"mexico\", \"mexico\", \"mexico\", \"mexico\", \"mexico\", \"mexico\", \"microsoft\", \"microsoft\", \"microsoft\", \"microsoft\", \"microsoft\", \"microsoft\", \"microsoft\", \"microsoft\", \"microsoft\", \"microsoft\", \"militant\", \"militant\", \"militant\", \"militant\", \"militant\", \"militant\", \"militant\", \"militant\", \"militant\", \"military\", \"military\", \"military\", \"military\", \"military\", \"military\", \"military\", \"military\", \"military\", \"military\", \"minimum_wage\", \"minimum_wage\", \"minimum_wage\", \"minimum_wage\", \"minimum_wage\", \"minimum_wage\", \"minimum_wage\", \"minimum_wage\", \"minimum_wage\", \"minimum_wage\", \"minister\", \"minister\", \"minister\", \"minister\", \"minister\", \"minister\", \"minister\", \"minister\", \"minister\", \"minister\", \"missile\", \"missile\", \"missile\", \"missile\", \"missile\", \"missile\", \"missile\", \"missile\", \"missile\", \"morsi\", \"morsi\", \"morsi\", \"morsi\", \"morsi\", \"morsi\", \"morsi\", \"morsi\", \"morsi\", \"mother\", \"mother\", \"mother\", \"mother\", \"mother\", \"mother\", \"mother\", \"mother\", \"mother\", \"mother\", \"mubarak\", \"mubarak\", \"mubarak\", \"mubarak\", \"mubarak\", \"mubarak\", \"mubarak\", \"mubarak\", \"mubarak\", \"mubarak\", \"mumbai_attack\", \"mumbai_attack\", \"mumbai_attack\", \"mumbai_attack\", \"mumbai_attack\", \"mumbai_attack\", \"mumbai_attack\", \"mumbai_attack\", \"mumbai_attack\", \"murder\", \"murder\", \"murder\", \"murder\", \"murder\", \"murder\", \"murder\", \"murder\", \"murder\", \"murder\", \"murdoch\", \"murdoch\", \"murdoch\", \"murdoch\", \"murdoch\", \"murdoch\", \"murdoch\", \"murdoch\", \"murdoch\", \"murdoch\", \"muslim\", \"muslim\", \"muslim\", \"muslim\", \"muslim\", \"muslim\", \"muslim\", \"muslim\", \"muslim\", \"muslim\", \"muslim_brotherhood\", \"muslim_brotherhood\", \"muslim_brotherhood\", \"muslim_brotherhood\", \"muslim_brotherhood\", \"muslim_brotherhood\", \"muslim_brotherhood\", \"muslim_brotherhood\", \"muslim_brotherhood\", \"must\", \"must\", \"must\", \"must\", \"must\", \"must\", \"must\", \"must\", \"must\", \"must\", \"nato\", \"nato\", \"nato\", \"nato\", \"nato\", \"nato\", \"nato\", \"nato\", \"nato\", \"netanyahu\", \"netanyahu\", \"netanyahu\", \"netanyahu\", \"netanyahu\", \"netanyahu\", \"netanyahu\", \"netanyahu\", \"netanyahu\", \"new\", \"new\", \"new\", \"new\", \"new\", \"new\", \"new\", \"new\", \"new\", \"new\", \"new_zealand\", \"new_zealand\", \"new_zealand\", \"new_zealand\", \"new_zealand\", \"new_zealand\", \"new_zealand\", \"new_zealand\", \"new_zealand\", \"new_zealand\", \"news\", \"news\", \"news\", \"news\", \"news\", \"news\", \"news\", \"news\", \"news\", \"news\", \"news_corp\", \"news_corp\", \"news_corp\", \"news_corp\", \"news_corp\", \"news_corp\", \"news_corp\", \"news_corp\", \"news_corp\", \"nigerian\", \"nigerian\", \"nigerian\", \"nigerian\", \"nigerian\", \"nigerian\", \"nigerian\", \"nigerian\", \"nigerian\", \"nigerian\", \"night\", \"night\", \"night\", \"night\", \"night\", \"night\", \"night\", \"night\", \"night\", \"nobel_peace\", \"nobel_peace\", \"nobel_peace\", \"nobel_peace\", \"nobel_peace\", \"nobel_peace\", \"nobel_peace\", \"nobel_peace\", \"nobel_peace\", \"nobel_peace\", \"nobel_prize\", \"nobel_prize\", \"nobel_prize\", \"nobel_prize\", \"nobel_prize\", \"nobel_prize\", \"nobel_prize\", \"nobel_prize\", \"nobel_prize\", \"non\", \"non\", \"non\", \"non\", \"non\", \"non\", \"non\", \"non\", \"non\", \"non\", \"north_korea\", \"north_korea\", \"north_korea\", \"north_korea\", \"north_korea\", \"north_korea\", \"north_korea\", \"north_korea\", \"north_korea\", \"north_korea\", \"north_korean\", \"north_korean\", \"north_korean\", \"north_korean\", \"north_korean\", \"north_korean\", \"north_korean\", \"north_korean\", \"north_korean\", \"north_korean\", \"not\", \"not\", \"not\", \"not\", \"not\", \"not\", \"not\", \"not\", \"not\", \"not\", \"nsa\", \"nsa\", \"nsa\", \"nsa\", \"nsa\", \"nsa\", \"nsa\", \"nsa\", \"nsa\", \"nsa\", \"nsa_spy\", \"nsa_spy\", \"nsa_spy\", \"nsa_spy\", \"nsa_spy\", \"nsa_spy\", \"nsa_spy\", \"nsa_spy\", \"nsa_spy\", \"nsa_spy\", \"nuclear\", \"nuclear\", \"nuclear\", \"nuclear\", \"nuclear\", \"nuclear\", \"nuclear\", \"nuclear\", \"nuclear\", \"nuclear_plant\", \"nuclear_plant\", \"nuclear_plant\", \"nuclear_plant\", \"nuclear_plant\", \"nuclear_plant\", \"nuclear_plant\", \"nuclear_plant\", \"nuclear_plant\", \"nuke\", \"nuke\", \"nuke\", \"nuke\", \"nuke\", \"nuke\", \"nuke\", \"nuke\", \"nuke\", \"obama\", \"obama\", \"obama\", \"obama\", \"obama\", \"obama\", \"obama\", \"obama\", \"obama\", \"obama\", \"ocean\", \"ocean\", \"ocean\", \"ocean\", \"ocean\", \"ocean\", \"ocean\", \"ocean\", \"ocean\", \"officer\", \"officer\", \"officer\", \"officer\", \"officer\", \"officer\", \"officer\", \"officer\", \"officer\", \"official\", \"official\", \"official\", \"official\", \"official\", \"official\", \"official\", \"official\", \"official\", \"official\", \"oil\", \"oil\", \"oil\", \"oil\", \"oil\", \"oil\", \"oil\", \"oil\", \"oil\", \"oil_spill\", \"oil_spill\", \"oil_spill\", \"oil_spill\", \"oil_spill\", \"oil_spill\", \"oil_spill\", \"oil_spill\", \"oil_spill\", \"oil_spill\", \"old\", \"old\", \"old\", \"old\", \"old\", \"old\", \"old\", \"old\", \"old\", \"olympic\", \"olympic\", \"olympic\", \"olympic\", \"olympic\", \"olympic\", \"olympic\", \"olympic\", \"olympic\", \"olympic\", \"online\", \"online\", \"online\", \"online\", \"online\", \"online\", \"online\", \"online\", \"online\", \"online\", \"operative\", \"operative\", \"operative\", \"operative\", \"operative\", \"operative\", \"operative\", \"operative\", \"operative\", \"opposition\", \"opposition\", \"opposition\", \"opposition\", \"opposition\", \"opposition\", \"opposition\", \"opposition\", \"opposition\", \"opposition\", \"osama_bin\", \"osama_bin\", \"osama_bin\", \"osama_bin\", \"osama_bin\", \"osama_bin\", \"osama_bin\", \"osama_bin\", \"osama_bin\", \"own\", \"own\", \"own\", \"own\", \"own\", \"own\", \"own\", \"own\", \"own\", \"own\", \"pakistan\", \"pakistan\", \"pakistan\", \"pakistan\", \"pakistan\", \"pakistan\", \"pakistan\", \"pakistan\", \"pakistan\", \"pakistani\", \"pakistani\", \"pakistani\", \"pakistani\", \"pakistani\", \"pakistani\", \"pakistani\", \"pakistani\", \"pakistani\", \"palestine\", \"palestine\", \"palestine\", \"palestine\", \"palestine\", \"palestine\", \"palestine\", \"palestine\", \"palestine\", \"palestinian\", \"palestinian\", \"palestinian\", \"palestinian\", \"palestinian\", \"palestinian\", \"palestinian\", \"palestinian\", \"palestinian\", \"parent\", \"parent\", \"parent\", \"parent\", \"parent\", \"parent\", \"parent\", \"parent\", \"parent\", \"parent\", \"pass\", \"pass\", \"pass\", \"pass\", \"pass\", \"pass\", \"pass\", \"pass\", \"pass\", \"pass\", \"passenger\", \"passenger\", \"passenger\", \"passenger\", \"passenger\", \"passenger\", \"passenger\", \"passenger\", \"passenger\", \"passport\", \"passport\", \"passport\", \"passport\", \"passport\", \"passport\", \"passport\", \"passport\", \"passport\", \"passport\", \"patent\", \"patent\", \"patent\", \"patent\", \"patent\", \"patent\", \"patent\", \"patent\", \"patent\", \"patent\", \"patient\", \"patient\", \"patient\", \"patient\", \"patient\", \"patient\", \"patient\", \"patient\", \"patient\", \"patient\", \"penny\", \"penny\", \"penny\", \"penny\", \"penny\", \"penny\", \"penny\", \"penny\", \"penny\", \"penny\", \"people\", \"people\", \"people\", \"people\", \"people\", \"people\", \"people\", \"people\", \"people\", \"people\", \"percent\", \"percent\", \"percent\", \"percent\", \"percent\", \"percent\", \"percent\", \"percent\", \"percent\", \"phone_hack\", \"phone_hack\", \"phone_hack\", \"phone_hack\", \"phone_hack\", \"phone_hack\", \"phone_hack\", \"phone_hack\", \"phone_hack\", \"pipeline\", \"pipeline\", \"pipeline\", \"pipeline\", \"pipeline\", \"pipeline\", \"pipeline\", \"pipeline\", \"pipeline\", \"piracy\", \"piracy\", \"piracy\", \"piracy\", \"piracy\", \"piracy\", \"piracy\", \"piracy\", \"piracy\", \"piracy\", \"pirate_bay\", \"pirate_bay\", \"pirate_bay\", \"pirate_bay\", \"pirate_bay\", \"pirate_bay\", \"pirate_bay\", \"pirate_bay\", \"pirate_bay\", \"pirate_bay\", \"plan\", \"plan\", \"plan\", \"plan\", \"plan\", \"plan\", \"plan\", \"plan\", \"plan\", \"plan\", \"plane\", \"plane\", \"plane\", \"plane\", \"plane\", \"plane\", \"plane\", \"plane\", \"plane\", \"plane\", \"planet\", \"planet\", \"planet\", \"planet\", \"planet\", \"planet\", \"planet\", \"planet\", \"planet\", \"planet\", \"pm\", \"pm\", \"pm\", \"pm\", \"pm\", \"pm\", \"pm\", \"pm\", \"pm\", \"pm\", \"poacher\", \"poacher\", \"poacher\", \"poacher\", \"poacher\", \"poacher\", \"poacher\", \"poacher\", \"poacher\", \"police\", \"police\", \"police\", \"police\", \"police\", \"police\", \"police\", \"police\", \"police\", \"police\", \"poor\", \"poor\", \"poor\", \"poor\", \"poor\", \"poor\", \"poor\", \"poor\", \"poor\", \"poor\", \"pope\", \"pope\", \"pope\", \"pope\", \"pope\", \"pope\", \"pope\", \"pope\", \"pope\", \"population\", \"population\", \"population\", \"population\", \"population\", \"population\", \"population\", \"population\", \"population\", \"population\", \"power\", \"power\", \"power\", \"power\", \"power\", \"power\", \"power\", \"power\", \"power\", \"power\", \"pregnant\", \"pregnant\", \"pregnant\", \"pregnant\", \"pregnant\", \"pregnant\", \"pregnant\", \"pregnant\", \"pregnant\", \"president\", \"president\", \"president\", \"president\", \"president\", \"president\", \"president\", \"president\", \"president\", \"president_barack\", \"president_barack\", \"president_barack\", \"president_barack\", \"president_barack\", \"president_barack\", \"president_barack\", \"president_barack\", \"president_barack\", \"president_vladimir\", \"president_vladimir\", \"president_vladimir\", \"president_vladimir\", \"president_vladimir\", \"president_vladimir\", \"president_vladimir\", \"president_vladimir\", \"president_vladimir\", \"president_vladimir\", \"price\", \"price\", \"price\", \"price\", \"price\", \"price\", \"price\", \"price\", \"price\", \"price\", \"prime_minister\", \"prime_minister\", \"prime_minister\", \"prime_minister\", \"prime_minister\", \"prime_minister\", \"prime_minister\", \"prime_minister\", \"prime_minister\", \"prison\", \"prison\", \"prison\", \"prison\", \"prison\", \"prison\", \"prison\", \"prison\", \"prison\", \"prison\", \"privacy\", \"privacy\", \"privacy\", \"privacy\", \"privacy\", \"privacy\", \"privacy\", \"privacy\", \"privacy\", \"prize\", \"prize\", \"prize\", \"prize\", \"prize\", \"prize\", \"prize\", \"prize\", \"prize\", \"prize\", \"pro_democracy\", \"pro_democracy\", \"pro_democracy\", \"pro_democracy\", \"pro_democracy\", \"pro_democracy\", \"pro_democracy\", \"pro_democracy\", \"pro_democracy\", \"pro_democracy\", \"probe\", \"probe\", \"probe\", \"probe\", \"probe\", \"probe\", \"probe\", \"probe\", \"probe\", \"probe\", \"propose\", \"propose\", \"propose\", \"propose\", \"propose\", \"propose\", \"propose\", \"propose\", \"propose\", \"propose\", \"prostitute\", \"prostitute\", \"prostitute\", \"prostitute\", \"prostitute\", \"prostitute\", \"prostitute\", \"prostitute\", \"prostitute\", \"prostitute\", \"protest\", \"protest\", \"protest\", \"protest\", \"protest\", \"protest\", \"protest\", \"protest\", \"protest\", \"protest\", \"protester\", \"protester\", \"protester\", \"protester\", \"protester\", \"protester\", \"protester\", \"protester\", \"protester\", \"protester\", \"protestor\", \"protestor\", \"protestor\", \"protestor\", \"protestor\", \"protestor\", \"protestor\", \"protestor\", \"protestor\", \"protestor\", \"putin\", \"putin\", \"putin\", \"putin\", \"putin\", \"putin\", \"putin\", \"putin\", \"putin\", \"putin\", \"quit\", \"quit\", \"quit\", \"quit\", \"quit\", \"quit\", \"quit\", \"quit\", \"quit\", \"quit\", \"rally\", \"rally\", \"rally\", \"rally\", \"rally\", \"rally\", \"rally\", \"rally\", \"rally\", \"rally\", \"rap\", \"rap\", \"rap\", \"rap\", \"rap\", \"rap\", \"rap\", \"rap\", \"rap\", \"rape\", \"rape\", \"rape\", \"rape\", \"rape\", \"rape\", \"rape\", \"rape\", \"rape\", \"rapist\", \"rapist\", \"rapist\", \"rapist\", \"rapist\", \"rapist\", \"rapist\", \"rapist\", \"rapist\", \"rate\", \"rate\", \"rate\", \"rate\", \"rate\", \"rate\", \"rate\", \"rate\", \"rate\", \"reactor\", \"reactor\", \"reactor\", \"reactor\", \"reactor\", \"reactor\", \"reactor\", \"reactor\", \"reactor\", \"rebekah_brook\", \"rebekah_brook\", \"rebekah_brook\", \"rebekah_brook\", \"rebekah_brook\", \"rebekah_brook\", \"rebekah_brook\", \"rebekah_brook\", \"rebekah_brook\", \"rebel\", \"rebel\", \"rebel\", \"rebel\", \"rebel\", \"rebel\", \"rebel\", \"rebel\", \"rebel\", \"rebel\", \"recession\", \"recession\", \"recession\", \"recession\", \"recession\", \"recession\", \"recession\", \"recession\", \"recession\", \"recession\", \"recognition\", \"recognition\", \"recognition\", \"recognition\", \"recognition\", \"recognition\", \"recognition\", \"recognition\", \"recognition\", \"recognition\", \"referendum\", \"referendum\", \"referendum\", \"referendum\", \"referendum\", \"referendum\", \"referendum\", \"referendum\", \"referendum\", \"release\", \"release\", \"release\", \"release\", \"release\", \"release\", \"release\", \"release\", \"release\", \"release\", \"religion\", \"religion\", \"religion\", \"religion\", \"religion\", \"religion\", \"religion\", \"religion\", \"religion\", \"religious\", \"religious\", \"religious\", \"religious\", \"religious\", \"religious\", \"religious\", \"religious\", \"religious\", \"religious\", \"renewable_energy\", \"renewable_energy\", \"renewable_energy\", \"renewable_energy\", \"renewable_energy\", \"renewable_energy\", \"renewable_energy\", \"renewable_energy\", \"renewable_energy\", \"report\", \"report\", \"report\", \"report\", \"report\", \"report\", \"report\", \"report\", \"report\", \"report\", \"resign\", \"resign\", \"resign\", \"resign\", \"resign\", \"resign\", \"resign\", \"resign\", \"resign\", \"resign\", \"resignation\", \"resignation\", \"resignation\", \"resignation\", \"resignation\", \"resignation\", \"resignation\", \"resignation\", \"resignation\", \"retake\", \"retake\", \"retake\", \"retake\", \"retake\", \"retake\", \"retake\", \"retake\", \"retake\", \"reveal\", \"reveal\", \"reveal\", \"reveal\", \"reveal\", \"reveal\", \"reveal\", \"reveal\", \"reveal\", \"reveal\", \"rich\", \"rich\", \"rich\", \"rich\", \"rich\", \"rich\", \"rich\", \"rich\", \"rich\", \"rich\", \"right\", \"right\", \"right\", \"right\", \"right\", \"right\", \"right\", \"right\", \"right\", \"right\", \"right_w\", \"right_w\", \"right_w\", \"right_w\", \"right_w\", \"right_w\", \"right_w\", \"right_w\", \"right_w\", \"riot\", \"riot\", \"riot\", \"riot\", \"riot\", \"riot\", \"riot\", \"riot\", \"riot\", \"riot\", \"rise\", \"rise\", \"rise\", \"rise\", \"rise\", \"rise\", \"rise\", \"rise\", \"rise\", \"rise\", \"romania\", \"romania\", \"romania\", \"romania\", \"romania\", \"romania\", \"romania\", \"romania\", \"romania\", \"romania\", \"rover\", \"rover\", \"rover\", \"rover\", \"rover\", \"rover\", \"rover\", \"rover\", \"rover\", \"rover\", \"rule\", \"rule\", \"rule\", \"rule\", \"rule\", \"rule\", \"rule\", \"rule\", \"rule\", \"rule\", \"russia\", \"russia\", \"russia\", \"russia\", \"russia\", \"russia\", \"russia\", \"russia\", \"russia\", \"russia\", \"russian\", \"russian\", \"russian\", \"russian\", \"russian\", \"russian\", \"russian\", \"russian\", \"russian\", \"russian\", \"samsung\", \"samsung\", \"samsung\", \"samsung\", \"samsung\", \"samsung\", \"samsung\", \"samsung\", \"samsung\", \"samsung\", \"sanction\", \"sanction\", \"sanction\", \"sanction\", \"sanction\", \"sanction\", \"sanction\", \"sanction\", \"sanction\", \"satellite\", \"satellite\", \"satellite\", \"satellite\", \"satellite\", \"satellite\", \"satellite\", \"satellite\", \"satellite\", \"satellite\", \"say\", \"say\", \"say\", \"say\", \"say\", \"say\", \"say\", \"say\", \"say\", \"say\", \"scandal\", \"scandal\", \"scandal\", \"scandal\", \"scandal\", \"scandal\", \"scandal\", \"scandal\", \"scandal\", \"scandal\", \"school\", \"school\", \"school\", \"school\", \"school\", \"school\", \"school\", \"school\", \"school\", \"school\", \"scientist\", \"scientist\", \"scientist\", \"scientist\", \"scientist\", \"scientist\", \"scientist\", \"scientist\", \"scientist\", \"scientist\", \"sea\", \"sea\", \"sea\", \"sea\", \"sea\", \"sea\", \"sea\", \"sea\", \"sea\", \"seal\", \"seal\", \"seal\", \"seal\", \"seal\", \"seal\", \"seal\", \"seal\", \"seal\", \"seal\", \"secret\", \"secret\", \"secret\", \"secret\", \"secret\", \"secret\", \"secret\", \"secret\", \"secret\", \"secret\", \"seize\", \"seize\", \"seize\", \"seize\", \"seize\", \"seize\", \"seize\", \"seize\", \"seize\", \"seize\", \"self_immolation\", \"self_immolation\", \"self_immolation\", \"self_immolation\", \"self_immolation\", \"self_immolation\", \"self_immolation\", \"self_immolation\", \"self_immolation\", \"self_immolation\", \"send\", \"send\", \"send\", \"send\", \"send\", \"send\", \"send\", \"send\", \"send\", \"send\", \"sentence\", \"sentence\", \"sentence\", \"sentence\", \"sentence\", \"sentence\", \"sentence\", \"sentence\", \"sentence\", \"sentence\", \"server\", \"server\", \"server\", \"server\", \"server\", \"server\", \"server\", \"server\", \"server\", \"server\", \"service\", \"service\", \"service\", \"service\", \"service\", \"service\", \"service\", \"service\", \"service\", \"service\", \"settlement\", \"settlement\", \"settlement\", \"settlement\", \"settlement\", \"settlement\", \"settlement\", \"settlement\", \"settlement\", \"settlement\", \"settler\", \"settler\", \"settler\", \"settler\", \"settler\", \"settler\", \"settler\", \"settler\", \"settler\", \"sex\", \"sex\", \"sex\", \"sex\", \"sex\", \"sex\", \"sex\", \"sex\", \"sex\", \"sex\", \"ship\", \"ship\", \"ship\", \"ship\", \"ship\", \"ship\", \"ship\", \"ship\", \"ship\", \"shoot\", \"shoot\", \"shoot\", \"shoot\", \"shoot\", \"shoot\", \"shoot\", \"shoot\", \"shoot\", \"shoot\", \"shop\", \"shop\", \"shop\", \"shop\", \"shop\", \"shop\", \"shop\", \"shop\", \"shop\", \"shop\", \"shortage\", \"shortage\", \"shortage\", \"shortage\", \"shortage\", \"shortage\", \"shortage\", \"shortage\", \"shortage\", \"shortage\", \"show\", \"show\", \"show\", \"show\", \"show\", \"show\", \"show\", \"show\", \"show\", \"show\", \"sight\", \"sight\", \"sight\", \"sight\", \"sight\", \"sight\", \"sight\", \"sight\", \"sight\", \"sight\", \"sinai\", \"sinai\", \"sinai\", \"sinai\", \"sinai\", \"sinai\", \"sinai\", \"sinai\", \"sinai\", \"singer\", \"singer\", \"singer\", \"singer\", \"singer\", \"singer\", \"singer\", \"singer\", \"singer\", \"singer\", \"sister\", \"sister\", \"sister\", \"sister\", \"sister\", \"sister\", \"sister\", \"sister\", \"sister\", \"sister\", \"smog\", \"smog\", \"smog\", \"smog\", \"smog\", \"smog\", \"smog\", \"smog\", \"smog\", \"smog\", \"smoking\", \"smoking\", \"smoking\", \"smoking\", \"smoking\", \"smoking\", \"smoking\", \"smoking\", \"smoking\", \"smoking\", \"sniper\", \"sniper\", \"sniper\", \"sniper\", \"sniper\", \"sniper\", \"sniper\", \"sniper\", \"sniper\", \"sniper\", \"snowden\", \"snowden\", \"snowden\", \"snowden\", \"snowden\", \"snowden\", \"snowden\", \"snowden\", \"snowden\", \"snowden\", \"software\", \"software\", \"software\", \"software\", \"software\", \"software\", \"software\", \"software\", \"software\", \"software\", \"solar\", \"solar\", \"solar\", \"solar\", \"solar\", \"solar\", \"solar\", \"solar\", \"solar\", \"solar\", \"soldier\", \"soldier\", \"soldier\", \"soldier\", \"soldier\", \"soldier\", \"soldier\", \"soldier\", \"soldier\", \"somalia\", \"somalia\", \"somalia\", \"somalia\", \"somalia\", \"somalia\", \"somalia\", \"somalia\", \"somalia\", \"somalia\", \"song\", \"song\", \"song\", \"song\", \"song\", \"song\", \"song\", \"song\", \"song\", \"song\", \"south\", \"south\", \"south\", \"south\", \"south\", \"south\", \"south\", \"south\", \"south\", \"south\", \"south_korean\", \"south_korean\", \"south_korean\", \"south_korean\", \"south_korean\", \"south_korean\", \"south_korean\", \"south_korean\", \"south_korean\", \"space\", \"space\", \"space\", \"space\", \"space\", \"space\", \"space\", \"space\", \"space\", \"space\", \"spread\", \"spread\", \"spread\", \"spread\", \"spread\", \"spread\", \"spread\", \"spread\", \"spread\", \"spread\", \"spy\", \"spy\", \"spy\", \"spy\", \"spy\", \"spy\", \"spy\", \"spy\", \"spy\", \"spy\", \"square\", \"square\", \"square\", \"square\", \"square\", \"square\", \"square\", \"square\", \"square\", \"state\", \"state\", \"state\", \"state\", \"state\", \"state\", \"state\", \"state\", \"state\", \"state\", \"stock\", \"stock\", \"stock\", \"stock\", \"stock\", \"stock\", \"stock\", \"stock\", \"stock\", \"street\", \"street\", \"street\", \"street\", \"street\", \"street\", \"street\", \"street\", \"street\", \"street\", \"strike\", \"strike\", \"strike\", \"strike\", \"strike\", \"strike\", \"strike\", \"strike\", \"strike\", \"strike\", \"student\", \"student\", \"student\", \"student\", \"student\", \"student\", \"student\", \"student\", \"student\", \"student\", \"submarine\", \"submarine\", \"submarine\", \"submarine\", \"submarine\", \"submarine\", \"submarine\", \"submarine\", \"submarine\", \"support\", \"support\", \"support\", \"support\", \"support\", \"support\", \"support\", \"support\", \"support\", \"support\", \"surrender\", \"surrender\", \"surrender\", \"surrender\", \"surrender\", \"surrender\", \"surrender\", \"surrender\", \"surrender\", \"surveillance\", \"surveillance\", \"surveillance\", \"surveillance\", \"surveillance\", \"surveillance\", \"surveillance\", \"surveillance\", \"surveillance\", \"surveillance\", \"syria\", \"syria\", \"syria\", \"syria\", \"syria\", \"syria\", \"syria\", \"syria\", \"syria\", \"syria\", \"syrian\", \"syrian\", \"syrian\", \"syrian\", \"syrian\", \"syrian\", \"syrian\", \"syrian\", \"syrian\", \"syrian\", \"take\", \"take\", \"take\", \"take\", \"take\", \"take\", \"take\", \"take\", \"take\", \"take\", \"taliban\", \"taliban\", \"taliban\", \"taliban\", \"taliban\", \"taliban\", \"taliban\", \"taliban\", \"taliban\", \"talk\", \"talk\", \"talk\", \"talk\", \"talk\", \"talk\", \"talk\", \"talk\", \"talk\", \"talk\", \"tank\", \"tank\", \"tank\", \"tank\", \"tank\", \"tank\", \"tank\", \"tank\", \"tank\", \"tank\", \"taser\", \"taser\", \"taser\", \"taser\", \"taser\", \"taser\", \"taser\", \"taser\", \"taser\", \"taser\", \"tax\", \"tax\", \"tax\", \"tax\", \"tax\", \"tax\", \"tax\", \"tax\", \"tax\", \"tax\", \"tear_gas\", \"tear_gas\", \"tear_gas\", \"tear_gas\", \"tear_gas\", \"tear_gas\", \"tear_gas\", \"tear_gas\", \"tear_gas\", \"tepco\", \"tepco\", \"tepco\", \"tepco\", \"tepco\", \"tepco\", \"tepco\", \"tepco\", \"tepco\", \"terrorist\", \"terrorist\", \"terrorist\", \"terrorist\", \"terrorist\", \"terrorist\", \"terrorist\", \"terrorist\", \"terrorist\", \"terrorist\", \"test\", \"test\", \"test\", \"test\", \"test\", \"test\", \"test\", \"test\", \"test\", \"test\", \"thousand\", \"thousand\", \"thousand\", \"thousand\", \"thousand\", \"thousand\", \"thousand\", \"thousand\", \"thousand\", \"thousand\", \"tiananmen_square\", \"tiananmen_square\", \"tiananmen_square\", \"tiananmen_square\", \"tiananmen_square\", \"tiananmen_square\", \"tiananmen_square\", \"tiananmen_square\", \"tiananmen_square\", \"tiananmen_square\", \"tibet\", \"tibet\", \"tibet\", \"tibet\", \"tibet\", \"tibet\", \"tibet\", \"tibet\", \"tibet\", \"tibet\", \"tibetan\", \"tibetan\", \"tibetan\", \"tibetan\", \"tibetan\", \"tibetan\", \"tibetan\", \"tibetan\", \"tibetan\", \"tibetan\", \"time\", \"time\", \"time\", \"time\", \"time\", \"time\", \"time\", \"time\", \"time\", \"time\", \"tony_abbott\", \"tony_abbott\", \"tony_abbott\", \"tony_abbott\", \"tony_abbott\", \"tony_abbott\", \"tony_abbott\", \"tony_abbott\", \"tony_abbott\", \"tony_blair\", \"tony_blair\", \"tony_blair\", \"tony_blair\", \"tony_blair\", \"tony_blair\", \"tony_blair\", \"tony_blair\", \"tony_blair\", \"topple\", \"topple\", \"topple\", \"topple\", \"topple\", \"topple\", \"topple\", \"topple\", \"topple\", \"topple\", \"torture\", \"torture\", \"torture\", \"torture\", \"torture\", \"torture\", \"torture\", \"torture\", \"torture\", \"troop\", \"troop\", \"troop\", \"troop\", \"troop\", \"troop\", \"troop\", \"troop\", \"troop\", \"troop\", \"turkish\", \"turkish\", \"turkish\", \"turkish\", \"turkish\", \"turkish\", \"turkish\", \"turkish\", \"turkish\", \"turkish\", \"ukraine\", \"ukraine\", \"ukraine\", \"ukraine\", \"ukraine\", \"ukraine\", \"ukraine\", \"ukraine\", \"ukraine\", \"ukraine\", \"ukrainian\", \"ukrainian\", \"ukrainian\", \"ukrainian\", \"ukrainian\", \"ukrainian\", \"ukrainian\", \"ukrainian\", \"ukrainian\", \"unemployment\", \"unemployment\", \"unemployment\", \"unemployment\", \"unemployment\", \"unemployment\", \"unemployment\", \"unemployment\", \"unemployment\", \"usa\", \"usa\", \"usa\", \"usa\", \"usa\", \"usa\", \"usa\", \"usa\", \"usa\", \"usa\", \"use\", \"use\", \"use\", \"use\", \"use\", \"use\", \"use\", \"use\", \"use\", \"use\", \"useless\", \"useless\", \"useless\", \"useless\", \"useless\", \"useless\", \"useless\", \"useless\", \"useless\", \"useless\", \"user\", \"user\", \"user\", \"user\", \"user\", \"user\", \"user\", \"user\", \"user\", \"user\", \"vaccination\", \"vaccination\", \"vaccination\", \"vaccination\", \"vaccination\", \"vaccination\", \"vaccination\", \"vaccination\", \"vaccination\", \"vancouver\", \"vancouver\", \"vancouver\", \"vancouver\", \"vancouver\", \"vancouver\", \"vancouver\", \"vancouver\", \"vancouver\", \"vancouver\", \"vatican\", \"vatican\", \"vatican\", \"vatican\", \"vatican\", \"vatican\", \"vatican\", \"vatican\", \"vatican\", \"vatican\", \"veil\", \"veil\", \"veil\", \"veil\", \"veil\", \"veil\", \"veil\", \"veil\", \"veil\", \"vessel\", \"vessel\", \"vessel\", \"vessel\", \"vessel\", \"vessel\", \"vessel\", \"vessel\", \"vessel\", \"victim\", \"victim\", \"victim\", \"victim\", \"victim\", \"victim\", \"victim\", \"victim\", \"victim\", \"victim\", \"video\", \"video\", \"video\", \"video\", \"video\", \"video\", \"video\", \"video\", \"video\", \"video\", \"vote\", \"vote\", \"vote\", \"vote\", \"vote\", \"vote\", \"vote\", \"vote\", \"vote\", \"vote\", \"voter\", \"voter\", \"voter\", \"voter\", \"voter\", \"voter\", \"voter\", \"voter\", \"voter\", \"want\", \"want\", \"want\", \"want\", \"want\", \"want\", \"want\", \"want\", \"want\", \"want\", \"war\", \"war\", \"war\", \"war\", \"war\", \"war\", \"war\", \"war\", \"war\", \"war\", \"war_crime\", \"war_crime\", \"war_crime\", \"war_crime\", \"war_crime\", \"war_crime\", \"war_crime\", \"war_crime\", \"war_crime\", \"warship\", \"warship\", \"warship\", \"warship\", \"warship\", \"warship\", \"warship\", \"warship\", \"warship\", \"waste\", \"waste\", \"waste\", \"waste\", \"waste\", \"waste\", \"waste\", \"waste\", \"waste\", \"water\", \"water\", \"water\", \"water\", \"water\", \"water\", \"water\", \"water\", \"water\", \"water\", \"water_cannon\", \"water_cannon\", \"water_cannon\", \"water_cannon\", \"water_cannon\", \"water_cannon\", \"water_cannon\", \"water_cannon\", \"water_cannon\", \"weapon\", \"weapon\", \"weapon\", \"weapon\", \"weapon\", \"weapon\", \"weapon\", \"weapon\", \"weapon\", \"weapon\", \"web\", \"web\", \"web\", \"web\", \"web\", \"web\", \"web\", \"web\", \"web\", \"web\", \"website\", \"website\", \"website\", \"website\", \"website\", \"website\", \"website\", \"website\", \"website\", \"website\", \"west_bank\", \"west_bank\", \"west_bank\", \"west_bank\", \"west_bank\", \"west_bank\", \"west_bank\", \"west_bank\", \"west_bank\", \"wife\", \"wife\", \"wife\", \"wife\", \"wife\", \"wife\", \"wife\", \"wife\", \"wife\", \"wife\", \"wikileak\", \"wikileak\", \"wikileak\", \"wikileak\", \"wikileak\", \"wikileak\", \"wikileak\", \"wikileak\", \"wikileak\", \"wikileak\", \"wikipedia\", \"wikipedia\", \"wikipedia\", \"wikipedia\", \"wikipedia\", \"wikipedia\", \"wikipedia\", \"wikipedia\", \"wikipedia\", \"wikipedia\", \"will\", \"will\", \"will\", \"will\", \"will\", \"will\", \"will\", \"will\", \"will\", \"will\", \"winter\", \"winter\", \"winter\", \"winter\", \"winter\", \"winter\", \"winter\", \"winter\", \"winter\", \"winter\", \"woman\", \"woman\", \"woman\", \"woman\", \"woman\", \"woman\", \"woman\", \"woman\", \"woman\", \"woman\", \"worker\", \"worker\", \"worker\", \"worker\", \"worker\", \"worker\", \"worker\", \"worker\", \"worker\", \"worker\", \"world\", \"world\", \"world\", \"world\", \"world\", \"world\", \"world\", \"world\", \"world\", \"world\", \"world_cup\", \"world_cup\", \"world_cup\", \"world_cup\", \"world_cup\", \"world_cup\", \"world_cup\", \"world_cup\", \"world_cup\", \"world_cup\", \"would\", \"would\", \"would\", \"would\", \"would\", \"would\", \"would\", \"would\", \"would\", \"would\", \"year\", \"year\", \"year\", \"year\", \"year\", \"year\", \"year\", \"year\", \"year\", \"year\", \"years_old\", \"years_old\", \"years_old\", \"years_old\", \"years_old\", \"years_old\", \"years_old\", \"years_old\", \"years_old\", \"years_old\", \"yeman\", \"yeman\", \"yeman\", \"yeman\", \"yeman\", \"yeman\", \"yeman\", \"yeman\", \"yeman\", \"yemen\", \"yemen\", \"yemen\", \"yemen\", \"yemen\", \"yemen\", \"yemen\", \"yemen\", \"yemen\", \"young\", \"young\", \"young\", \"young\", \"young\", \"young\", \"young\", \"young\", \"young\", \"young\", \"zoo\", \"zoo\", \"zoo\", \"zoo\", \"zoo\", \"zoo\", \"zoo\", \"zoo\", \"zoo\", \"zoo\"]}, \"R\": 30, \"lambda.step\": 0.01, \"plot.opts\": {\"xlab\": \"PC1\", \"ylab\": \"PC2\"}, \"topic.order\": [1, 2, 7, 3, 5, 4, 6, 9, 10, 8]};\n",
       "\n",
       "function LDAvis_load_lib(url, callback){\n",
       "  var s = document.createElement('script');\n",
       "  s.src = url;\n",
       "  s.async = true;\n",
       "  s.onreadystatechange = s.onload = callback;\n",
       "  s.onerror = function(){console.warn(\"failed to load library \" + url);};\n",
       "  document.getElementsByTagName(\"head\")[0].appendChild(s);\n",
       "}\n",
       "\n",
       "if(typeof(LDAvis) !== \"undefined\"){\n",
       "   // already loaded: just create the visualization\n",
       "   !function(LDAvis){\n",
       "       new LDAvis(\"#\" + \"ldavis_el128042245666871120681757058\", ldavis_el128042245666871120681757058_data);\n",
       "   }(LDAvis);\n",
       "}else if(typeof define === \"function\" && define.amd){\n",
       "   // require.js is available: use it to load d3/LDAvis\n",
       "   require.config({paths: {d3: \"https://cdnjs.cloudflare.com/ajax/libs/d3/3.5.5/d3.min\"}});\n",
       "   require([\"d3\"], function(d3){\n",
       "      window.d3 = d3;\n",
       "      LDAvis_load_lib(\"https://cdn.rawgit.com/bmabey/pyLDAvis/files/ldavis.v1.0.0.js\", function(){\n",
       "        new LDAvis(\"#\" + \"ldavis_el128042245666871120681757058\", ldavis_el128042245666871120681757058_data);\n",
       "      });\n",
       "    });\n",
       "}else{\n",
       "    // require.js not available: dynamically load d3 & LDAvis\n",
       "    LDAvis_load_lib(\"https://cdnjs.cloudflare.com/ajax/libs/d3/3.5.5/d3.min.js\", function(){\n",
       "         LDAvis_load_lib(\"https://cdn.rawgit.com/bmabey/pyLDAvis/files/ldavis.v1.0.0.js\", function(){\n",
       "                 new LDAvis(\"#\" + \"ldavis_el128042245666871120681757058\", ldavis_el128042245666871120681757058_data);\n",
       "            })\n",
       "         });\n",
       "}\n",
       "</script>"
      ],
      "text/plain": [
       "<IPython.core.display.HTML object>"
      ]
     },
     "execution_count": 40,
     "metadata": {},
     "output_type": "execute_result"
    },
    {
     "name": "stdout",
     "output_type": "stream",
     "text": [
      "time: 4min 38s\n"
     ]
    }
   ],
   "source": [
    "import pyLDAvis.gensim\n",
    "import pickle \n",
    "import pyLDAvis\n",
    "\n",
    "\n",
    "LDAvis_prepared = pyLDAvis.gensim.prepare(lda_model_best, corpus, id2word)\n",
    "\n",
    "pyLDAvis.display(LDAvis_prepared)"
   ]
  },
  {
   "cell_type": "markdown",
   "metadata": {},
   "source": [
    "### Export results"
   ]
  },
  {
   "cell_type": "code",
   "execution_count": 41,
   "metadata": {},
   "outputs": [
    {
     "name": "stdout",
     "output_type": "stream",
     "text": [
      "time: 6 ms\n"
     ]
    }
   ],
   "source": [
    "LDAvis_data_filepath = os.path.join('./ldavis_prepared_best.pkl')\n",
    "\n",
    "with open(LDAvis_data_filepath, 'wb') as f:\n",
    "    pickle.dump(LDAvis_prepared, f)\n",
    "        \n",
    "# load the pre-prepared pyLDAvis data from disk\n",
    "# with open(LDAvis_data_filepath) as f:\n",
    "#     LDAvis_prepared = pickle.load(f)"
   ]
  },
  {
   "cell_type": "code",
   "execution_count": 42,
   "metadata": {},
   "outputs": [
    {
     "name": "stdout",
     "output_type": "stream",
     "text": [
      "time: 239 ms\n"
     ]
    }
   ],
   "source": [
    "pyLDAvis.save_html(LDAvis_prepared, './ldavis_prepared_best.html')"
   ]
  },
  {
   "cell_type": "markdown",
   "metadata": {},
   "source": [
    "###  Finding the contribution of topic in each sentence for all dataset"
   ]
  },
  {
   "cell_type": "code",
   "execution_count": 43,
   "metadata": {},
   "outputs": [
    {
     "name": "stdout",
     "output_type": "stream",
     "text": [
      "time: 179 ms\n"
     ]
    }
   ],
   "source": [
    "Test_data = Org_RedditNews.News.values\n",
    "Test_date = Org_RedditNews.Date.values\n",
    "Test_top = Org_RedditNews.Top.values\n"
   ]
  },
  {
   "cell_type": "code",
   "execution_count": 44,
   "metadata": {},
   "outputs": [
    {
     "data": {
      "text/plain": [
       "[(0, 0.17036211),\n",
       " (1, 0.35410318),\n",
       " (2, 0.1569281),\n",
       " (3, 0.07972667),\n",
       " (9, 0.20885266)]"
      ]
     },
     "execution_count": 44,
     "metadata": {},
     "output_type": "execute_result"
    },
    {
     "name": "stdout",
     "output_type": "stream",
     "text": [
      "time: 138 ms\n"
     ]
    }
   ],
   "source": [
    "new_text_corpus =  id2word.doc2bow(Test_data[0].split())\n",
    "\n",
    "lda_model_best[new_text_corpus]\n"
   ]
  },
  {
   "cell_type": "code",
   "execution_count": 45,
   "metadata": {},
   "outputs": [
    {
     "data": {
      "text/html": [
       "<div>\n",
       "<style scoped>\n",
       "    .dataframe tbody tr th:only-of-type {\n",
       "        vertical-align: middle;\n",
       "    }\n",
       "\n",
       "    .dataframe tbody tr th {\n",
       "        vertical-align: top;\n",
       "    }\n",
       "\n",
       "    .dataframe thead th {\n",
       "        text-align: right;\n",
       "    }\n",
       "</style>\n",
       "<table border=\"1\" class=\"dataframe\">\n",
       "  <thead>\n",
       "    <tr style=\"text-align: right;\">\n",
       "      <th></th>\n",
       "      <th>Dominant_Topic</th>\n",
       "      <th>Topic_Perc_Contrib</th>\n",
       "      <th>Document_No</th>\n",
       "      <th>Date</th>\n",
       "      <th>Top</th>\n",
       "      <th>Text</th>\n",
       "    </tr>\n",
       "  </thead>\n",
       "  <tbody>\n",
       "    <tr>\n",
       "      <th>0</th>\n",
       "      <td>0</td>\n",
       "      <td>0.170447</td>\n",
       "      <td>40208</td>\n",
       "      <td>2015-01-02</td>\n",
       "      <td>1</td>\n",
       "      <td>norway violated equal pay law judge says judge...</td>\n",
       "    </tr>\n",
       "    <tr>\n",
       "      <th>1</th>\n",
       "      <td>1</td>\n",
       "      <td>0.354056</td>\n",
       "      <td>40208</td>\n",
       "      <td>2015-01-02</td>\n",
       "      <td>1</td>\n",
       "      <td>norway violated equal pay law judge says judge...</td>\n",
       "    </tr>\n",
       "    <tr>\n",
       "      <th>2</th>\n",
       "      <td>2</td>\n",
       "      <td>0.156902</td>\n",
       "      <td>40208</td>\n",
       "      <td>2015-01-02</td>\n",
       "      <td>1</td>\n",
       "      <td>norway violated equal pay law judge says judge...</td>\n",
       "    </tr>\n",
       "    <tr>\n",
       "      <th>3</th>\n",
       "      <td>3</td>\n",
       "      <td>0.079728</td>\n",
       "      <td>40208</td>\n",
       "      <td>2015-01-02</td>\n",
       "      <td>1</td>\n",
       "      <td>norway violated equal pay law judge says judge...</td>\n",
       "    </tr>\n",
       "    <tr>\n",
       "      <th>4</th>\n",
       "      <td>9</td>\n",
       "      <td>0.208840</td>\n",
       "      <td>40208</td>\n",
       "      <td>2015-01-02</td>\n",
       "      <td>1</td>\n",
       "      <td>norway violated equal pay law judge says judge...</td>\n",
       "    </tr>\n",
       "  </tbody>\n",
       "</table>\n",
       "</div>"
      ],
      "text/plain": [
       "   Dominant_Topic  Topic_Perc_Contrib  Document_No       Date  Top  \\\n",
       "0               0            0.170447        40208 2015-01-02    1   \n",
       "1               1            0.354056        40208 2015-01-02    1   \n",
       "2               2            0.156902        40208 2015-01-02    1   \n",
       "3               3            0.079728        40208 2015-01-02    1   \n",
       "4               9            0.208840        40208 2015-01-02    1   \n",
       "\n",
       "                                                Text  \n",
       "0  norway violated equal pay law judge says judge...  \n",
       "1  norway violated equal pay law judge says judge...  \n",
       "2  norway violated equal pay law judge says judge...  \n",
       "3  norway violated equal pay law judge says judge...  \n",
       "4  norway violated equal pay law judge says judge...  "
      ]
     },
     "execution_count": 45,
     "metadata": {},
     "output_type": "execute_result"
    },
    {
     "name": "stdout",
     "output_type": "stream",
     "text": [
      "time: 48.3 s\n"
     ]
    }
   ],
   "source": [
    "li = []\n",
    "\n",
    "for index, text in enumerate(Test_data):\n",
    "    new_text_corpus =  id2word.doc2bow(text.split())\n",
    "\n",
    "    top_test = lda_model_best[new_text_corpus]\n",
    "\n",
    "    df = pd.DataFrame(top_test, columns=['Dominant_Topic', 'Topic_Perc_Contrib'])\n",
    "    df['Document_No'] = index + len(df_topic_doc)\n",
    "    df['Date'] = Test_date[index]\n",
    "    df['Top'] = Test_top[index]\n",
    "    df['Text'] = text\n",
    "    li.append(df)\n",
    "\n",
    "frame = pd.concat(li, axis=0, ignore_index=True)\n",
    "frame.head(5)"
   ]
  },
  {
   "cell_type": "code",
   "execution_count": 46,
   "metadata": {},
   "outputs": [
    {
     "data": {
      "text/html": [
       "<div>\n",
       "<style scoped>\n",
       "    .dataframe tbody tr th:only-of-type {\n",
       "        vertical-align: middle;\n",
       "    }\n",
       "\n",
       "    .dataframe tbody tr th {\n",
       "        vertical-align: top;\n",
       "    }\n",
       "\n",
       "    .dataframe thead th {\n",
       "        text-align: right;\n",
       "    }\n",
       "</style>\n",
       "<table border=\"1\" class=\"dataframe\">\n",
       "  <thead>\n",
       "    <tr style=\"text-align: right;\">\n",
       "      <th>Dominant_Topic</th>\n",
       "      <th>Date</th>\n",
       "      <th>Top</th>\n",
       "      <th>Document_No</th>\n",
       "      <th>Text</th>\n",
       "      <th>0</th>\n",
       "      <th>1</th>\n",
       "      <th>2</th>\n",
       "      <th>3</th>\n",
       "      <th>4</th>\n",
       "      <th>5</th>\n",
       "      <th>6</th>\n",
       "      <th>7</th>\n",
       "      <th>8</th>\n",
       "      <th>9</th>\n",
       "      <th>Total</th>\n",
       "    </tr>\n",
       "  </thead>\n",
       "  <tbody>\n",
       "    <tr>\n",
       "      <th>0</th>\n",
       "      <td>2015-01-02</td>\n",
       "      <td>1</td>\n",
       "      <td>40208</td>\n",
       "      <td>norway violated equal pay law judge says judge...</td>\n",
       "      <td>0.170447</td>\n",
       "      <td>0.354056</td>\n",
       "      <td>0.156902</td>\n",
       "      <td>0.079728</td>\n",
       "      <td>0.000000</td>\n",
       "      <td>0.000000</td>\n",
       "      <td>0.000000</td>\n",
       "      <td>0.000000</td>\n",
       "      <td>0.000000</td>\n",
       "      <td>0.208840</td>\n",
       "      <td>0.969973</td>\n",
       "    </tr>\n",
       "    <tr>\n",
       "      <th>1</th>\n",
       "      <td>2015-01-02</td>\n",
       "      <td>2</td>\n",
       "      <td>40209</td>\n",
       "      <td>salaries top ceos rose twice fast average cana...</td>\n",
       "      <td>0.163628</td>\n",
       "      <td>0.019373</td>\n",
       "      <td>0.015587</td>\n",
       "      <td>0.013057</td>\n",
       "      <td>0.011233</td>\n",
       "      <td>0.000000</td>\n",
       "      <td>0.745525</td>\n",
       "      <td>0.000000</td>\n",
       "      <td>0.000000</td>\n",
       "      <td>0.000000</td>\n",
       "      <td>0.968404</td>\n",
       "    </tr>\n",
       "    <tr>\n",
       "      <th>2</th>\n",
       "      <td>2015-01-02</td>\n",
       "      <td>3</td>\n",
       "      <td>40210</td>\n",
       "      <td>940 cars set alight french new year</td>\n",
       "      <td>0.538598</td>\n",
       "      <td>0.332944</td>\n",
       "      <td>0.024991</td>\n",
       "      <td>0.020898</td>\n",
       "      <td>0.017972</td>\n",
       "      <td>0.015769</td>\n",
       "      <td>0.014048</td>\n",
       "      <td>0.012666</td>\n",
       "      <td>0.011531</td>\n",
       "      <td>0.010583</td>\n",
       "      <td>1.000000</td>\n",
       "    </tr>\n",
       "    <tr>\n",
       "      <th>3</th>\n",
       "      <td>2015-01-02</td>\n",
       "      <td>4</td>\n",
       "      <td>40211</td>\n",
       "      <td>sweden hit third mosque arson attack week</td>\n",
       "      <td>0.229125</td>\n",
       "      <td>0.019473</td>\n",
       "      <td>0.015616</td>\n",
       "      <td>0.684164</td>\n",
       "      <td>0.011236</td>\n",
       "      <td>0.000000</td>\n",
       "      <td>0.000000</td>\n",
       "      <td>0.000000</td>\n",
       "      <td>0.000000</td>\n",
       "      <td>0.000000</td>\n",
       "      <td>0.959615</td>\n",
       "    </tr>\n",
       "    <tr>\n",
       "      <th>4</th>\n",
       "      <td>2015-01-02</td>\n",
       "      <td>5</td>\n",
       "      <td>40212</td>\n",
       "      <td>pakistani boat blows self india navy chase fou...</td>\n",
       "      <td>0.000000</td>\n",
       "      <td>0.000000</td>\n",
       "      <td>0.000000</td>\n",
       "      <td>0.000000</td>\n",
       "      <td>0.318065</td>\n",
       "      <td>0.150812</td>\n",
       "      <td>0.248093</td>\n",
       "      <td>0.000000</td>\n",
       "      <td>0.000000</td>\n",
       "      <td>0.254407</td>\n",
       "      <td>0.971376</td>\n",
       "    </tr>\n",
       "  </tbody>\n",
       "</table>\n",
       "</div>"
      ],
      "text/plain": [
       "Dominant_Topic       Date  Top  Document_No  \\\n",
       "0              2015-01-02    1        40208   \n",
       "1              2015-01-02    2        40209   \n",
       "2              2015-01-02    3        40210   \n",
       "3              2015-01-02    4        40211   \n",
       "4              2015-01-02    5        40212   \n",
       "\n",
       "Dominant_Topic                                               Text         0  \\\n",
       "0               norway violated equal pay law judge says judge...  0.170447   \n",
       "1               salaries top ceos rose twice fast average cana...  0.163628   \n",
       "2                             940 cars set alight french new year  0.538598   \n",
       "3                       sweden hit third mosque arson attack week  0.229125   \n",
       "4               pakistani boat blows self india navy chase fou...  0.000000   \n",
       "\n",
       "Dominant_Topic         1         2         3         4         5         6  \\\n",
       "0               0.354056  0.156902  0.079728  0.000000  0.000000  0.000000   \n",
       "1               0.019373  0.015587  0.013057  0.011233  0.000000  0.745525   \n",
       "2               0.332944  0.024991  0.020898  0.017972  0.015769  0.014048   \n",
       "3               0.019473  0.015616  0.684164  0.011236  0.000000  0.000000   \n",
       "4               0.000000  0.000000  0.000000  0.318065  0.150812  0.248093   \n",
       "\n",
       "Dominant_Topic         7         8         9     Total  \n",
       "0               0.000000  0.000000  0.208840  0.969973  \n",
       "1               0.000000  0.000000  0.000000  0.968404  \n",
       "2               0.012666  0.011531  0.010583  1.000000  \n",
       "3               0.000000  0.000000  0.000000  0.959615  \n",
       "4               0.000000  0.000000  0.254407  0.971376  "
      ]
     },
     "execution_count": 46,
     "metadata": {},
     "output_type": "execute_result"
    },
    {
     "name": "stdout",
     "output_type": "stream",
     "text": [
      "time: 174 ms\n"
     ]
    }
   ],
   "source": [
    "df_topic_doc_test = pd.pivot_table(frame,index=['Date','Top','Document_No','Text'],columns=['Dominant_Topic'],values=['Topic_Perc_Contrib'])\n",
    "df_topic_doc_test.columns = df_topic_doc_test.columns.droplevel()\n",
    "df_topic_doc_test.reset_index(inplace=True)\n",
    "df_topic_doc_test['Total']= df_topic_doc_test.iloc[:, -10:].sum(axis=1)\n",
    "df_topic_doc_test.fillna(0, inplace=True)\n",
    "df_topic_doc_test.head()\n"
   ]
  },
  {
   "cell_type": "code",
   "execution_count": 47,
   "metadata": {},
   "outputs": [
    {
     "name": "stdout",
     "output_type": "stream",
     "text": [
      "time: 381 ms\n"
     ]
    }
   ],
   "source": [
    "df_topic_doc_test.to_csv('Output_files/test.csv', index=False)"
   ]
  },
  {
   "cell_type": "markdown",
   "metadata": {},
   "source": [
    "### Closing Notes\n",
    "Machine learning has become increasingly popular over the past decade, and recent advances in computational availability have led to exponential growth to people looking for ways how new methods can be incorporated to advance the field of Natural Language Processing.\n",
    "\n",
    "Often, we treat topic models as black-box algorithms, but hopefully, this post addressed to shed light on the underlying math, and intuitions behind it, and high-level code to get you started with any textual data.\n",
    "\n",
    "In the next article, we’ll go one step deeper into understanding how you can evaluate the performance of topic models, tune its hyper-parameters to get more intuitive and reliable results.\n",
    "\n",
    "** **\n",
    "#### Sources:\n",
    "1. Topic model — Wikipedia. https://en.wikipedia.org/wiki/Topic_model\n",
    "2. Distributed Strategies for Topic Modeling. https://www.ideals.illinois.edu/bitstream/handle/2142/46405/ParallelTopicModels.pdf?sequence=2&isAllowed=y\n",
    "3. Topic Mapping — Software — Resources — Amaral Lab. https://amaral.northwestern.edu/resources/software/topic-mapping\n",
    "4. A Survey of Topic Modeling in Text Mining. https://thesai.org/Downloads/Volume6No1/Paper_21-A_Survey_of_Topic_Modeling_in_Text_Mining.pdf\n"
   ]
  },
  {
   "cell_type": "markdown",
   "metadata": {},
   "source": [
    "https://www.machinelearningplus.com/nlp/topic-modeling-gensim-python/#18dominanttopicineachsentence\n",
    "\n",
    "https://towardsdatascience.com/end-to-end-topic-modeling-in-python-latent-dirichlet-allocation-lda-35ce4ed6b3e0\n",
    "\n",
    "https://github.com/kapadias/mediumposts/blob/master/nlp/published_notebooks/Evaluate%20Topic%20Models.ipynb\n",
    "\n",
    "https://towardsdatascience.com/topic-modelling-in-python-with-nltk-and-gensim-4ef03213cd21\n",
    "\n",
    "https://towardsdatascience.com/end-to-end-topic-modeling-in-python-latent-dirichlet-allocation-lda-35ce4ed6b3e0"
   ]
  }
 ],
 "metadata": {
  "kernelspec": {
   "display_name": "Python 3",
   "language": "python",
   "name": "python3"
  },
  "language_info": {
   "codemirror_mode": {
    "name": "ipython",
    "version": 3
   },
   "file_extension": ".py",
   "mimetype": "text/x-python",
   "name": "python",
   "nbconvert_exporter": "python",
   "pygments_lexer": "ipython3",
   "version": "3.7.6"
  }
 },
 "nbformat": 4,
 "nbformat_minor": 4
}
