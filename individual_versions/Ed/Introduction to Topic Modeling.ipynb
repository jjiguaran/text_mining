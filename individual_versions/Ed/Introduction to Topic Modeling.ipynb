{
 "cells": [
  {
   "cell_type": "markdown",
   "metadata": {},
   "source": [
    "### Introduction\n",
    "Topic Models, in a nutshell, are a type of statistical language models used for uncovering hidden structure in a collection of texts. In a practical and more intuitively, you can think of it as a task of:\n",
    "\n",
    "- **Dimensionality Reduction**, where rather than representing a text T in its feature space as {Word_i: count(Word_i, T) for Word_i in Vocabulary}, you can represent it in a topic space as {Topic_i: Weight(Topic_i, T) for Topic_i in Topics}\n",
    "- **Unsupervised Learning**, where it can be compared to clustering, as in the case of clustering, the number of topics, like the number of clusters, is an output parameter. By doing topic modeling, we build clusters of words rather than clusters of texts. A text is thus a mixture of all the topics, each having a specific weight\n",
    "- **Tagging**, abstract “topics” that occur in a collection of documents that best represents the information in them.\n",
    "\n",
    "There are several existing algorithms you can use to perform the topic modeling. The most common of it are, Latent Semantic Analysis (LSA/LSI), Probabilistic Latent Semantic Analysis (pLSA), and Latent Dirichlet Allocation (LDA)\n",
    "\n",
    "In this tutorial, we’ll take a closer look at LDA, and implement our first topic model using the sklearn implementation in python 2.7\n",
    "\n",
    "### Theoretical Overview\n",
    "LDA is a generative probabilistic model that assumes each topic is a mixture over an underlying set of words, and each document is a mixture of over a set of topic probabilities.\n",
    "\n",
    "![LDA_Model](https://github.com/chdoig/pytexas2015-topic-modeling/blob/master/images/lda-4.png?raw=true)\n",
    "\n",
    "We can describe the generative process of LDA as, given the M number of documents, N number of words, and prior K number of topics, the model trains to output:\n",
    "\n",
    "- `psi`, the distribution of words for each topic K\n",
    "- `phi`, the distribution of topics for each document i\n",
    "\n",
    "#### Parameters of LDA\n",
    "\n",
    "- `Alpha parameter` is Dirichlet prior concentration parameter that represents document-topic density — with a higher alpha, documents are assumed to be made up of more topics and result in more specific topic distribution per document.\n",
    "- `Beta parameter` is the same prior concentration parameter that represents topic-word density — with high beta, topics are assumed to made of up most of the words and result in a more specific word distribution per topic."
   ]
  },
  {
   "cell_type": "markdown",
   "metadata": {},
   "source": [
    "### The process\n",
    "- We pick the number of topics ahead of time even if we’re not sure what the topics are.\n",
    "- Each document is represented as a distribution over topics.\n",
    "- Each topic is represented as a distribution over words."
   ]
  },
  {
   "cell_type": "markdown",
   "metadata": {},
   "source": [
    "### LDA Implementation\n",
    "\n",
    "1. Loading data\n",
    "2. Data cleaning\n",
    "3. Exploratory analysis\n",
    "4. Preparing data for LDA analysis\n",
    "5. Model Evaluation and parameter tuning"
   ]
  },
  {
   "cell_type": "markdown",
   "metadata": {},
   "source": [
    "#### Loading data\n",
    "\n",
    "\n",
    "Let’s start by looking at the content of the file"
   ]
  },
  {
   "cell_type": "code",
   "execution_count": 1,
   "metadata": {},
   "outputs": [],
   "source": [
    "import warnings\n",
    "warnings.simplefilter(\"ignore\", DeprecationWarning)\n",
    "warnings.simplefilter(action='ignore', category=FutureWarning)\n"
   ]
  },
  {
   "cell_type": "code",
   "execution_count": 2,
   "metadata": {},
   "outputs": [],
   "source": [
    "# Importing modules\n",
    "%load_ext autotime\n",
    "\n",
    "# Importar librerias\n",
    "import pandas as pd\n",
    "\n",
    "pd.set_option('display.max_columns', 200)\n",
    "pd.set_option('display.max_rows', 100)\n",
    "pd.set_option('display.expand_frame_repr', True)\n",
    "import os\n",
    "\n",
    "#Importar los datasets\n",
    "url_reddit = 'https://raw.githubusercontent.com/jjiguaran/text_mining/master/Data/RedditNews.csv'\n",
    "url_combined = 'https://raw.githubusercontent.com/jjiguaran/text_mining/master/Data/Combined_News_DJIA.csv'\n",
    "RedditNews = pd.read_csv(url_reddit)\n",
    "CombinedNews = pd.read_csv(url_combined)\n",
    "\n",
    "\n",
    "RedditNews['Date'] =  pd.to_datetime(RedditNews['Date'], format='%Y-%m-%d')\n",
    "CombinedNews['Date'] =  pd.to_datetime(CombinedNews['Date'], format='%Y-%m-%d')\n"
   ]
  },
  {
   "cell_type": "code",
   "execution_count": 3,
   "metadata": {},
   "outputs": [
    {
     "data": {
      "text/plain": [
       "1989"
      ]
     },
     "metadata": {},
     "output_type": "display_data"
    },
    {
     "data": {
      "text/plain": [
       "1989"
      ]
     },
     "metadata": {},
     "output_type": "display_data"
    },
    {
     "name": "stdout",
     "output_type": "stream",
     "text": [
      "time: 36 ms\n"
     ]
    }
   ],
   "source": [
    "## Nos quedamos con las fechas del dataset que está etiquetado\n",
    "RedditNews = RedditNews[RedditNews['Date'].isin(CombinedNews['Date'])]\n",
    "\n",
    "display(\n",
    "    CombinedNews['Date'].nunique(),\n",
    "    RedditNews['Date'].nunique() )"
   ]
  },
  {
   "cell_type": "markdown",
   "metadata": {},
   "source": [
    "#### Data Cleaning\n",
    "\n",
    "Since the goal of this analysis is to perform topic modeling, we will solely focus on the text data from each paper, and drop other metadata columns"
   ]
  },
  {
   "cell_type": "code",
   "execution_count": 4,
   "metadata": {},
   "outputs": [
    {
     "name": "stdout",
     "output_type": "stream",
     "text": [
      "time: 205 ms\n"
     ]
    }
   ],
   "source": [
    "## Hay error en la codificación de caracteres especiales, encontré ese, pero hay que ver que otros surgen\n",
    "RedditNews['News'] = RedditNews['News'].str.replace('&amp;', '&')"
   ]
  },
  {
   "cell_type": "code",
   "execution_count": 5,
   "metadata": {},
   "outputs": [
    {
     "data": {
      "text/html": [
       "<div>\n",
       "<style scoped>\n",
       "    .dataframe tbody tr th:only-of-type {\n",
       "        vertical-align: middle;\n",
       "    }\n",
       "\n",
       "    .dataframe tbody tr th {\n",
       "        vertical-align: top;\n",
       "    }\n",
       "\n",
       "    .dataframe thead th {\n",
       "        text-align: right;\n",
       "    }\n",
       "</style>\n",
       "<table border=\"1\" class=\"dataframe\">\n",
       "  <thead>\n",
       "    <tr style=\"text-align: right;\">\n",
       "      <th></th>\n",
       "      <th>Date</th>\n",
       "      <th>News</th>\n",
       "    </tr>\n",
       "  </thead>\n",
       "  <tbody>\n",
       "    <tr>\n",
       "      <th>54798</th>\n",
       "      <td>2010-06-30</td>\n",
       "      <td>b\"South Korea's parliament votes to legalize c...</td>\n",
       "    </tr>\n",
       "    <tr>\n",
       "      <th>54804</th>\n",
       "      <td>2010-06-30</td>\n",
       "      <td>b\"The German economy is rapidly improving, wit...</td>\n",
       "    </tr>\n",
       "    <tr>\n",
       "      <th>54819</th>\n",
       "      <td>2010-06-30</td>\n",
       "      <td>b\"BBC News - Russian spy suspect missing in Cy...</td>\n",
       "    </tr>\n",
       "    <tr>\n",
       "      <th>54821</th>\n",
       "      <td>2010-06-30</td>\n",
       "      <td>b\"Iraq inquiry: secret documents showing Tony ...</td>\n",
       "    </tr>\n",
       "    <tr>\n",
       "      <th>54822</th>\n",
       "      <td>2010-06-30</td>\n",
       "      <td>b\"Apartheid loves apartheid: Israel's secret r...</td>\n",
       "    </tr>\n",
       "  </tbody>\n",
       "</table>\n",
       "</div>"
      ],
      "text/plain": [
       "            Date                                               News\n",
       "54798 2010-06-30  b\"South Korea's parliament votes to legalize c...\n",
       "54804 2010-06-30  b\"The German economy is rapidly improving, wit...\n",
       "54819 2010-06-30  b\"BBC News - Russian spy suspect missing in Cy...\n",
       "54821 2010-06-30  b\"Iraq inquiry: secret documents showing Tony ...\n",
       "54822 2010-06-30  b\"Apartheid loves apartheid: Israel's secret r..."
      ]
     },
     "metadata": {},
     "output_type": "display_data"
    },
    {
     "data": {
      "text/html": [
       "<div>\n",
       "<style scoped>\n",
       "    .dataframe tbody tr th:only-of-type {\n",
       "        vertical-align: middle;\n",
       "    }\n",
       "\n",
       "    .dataframe tbody tr th {\n",
       "        vertical-align: top;\n",
       "    }\n",
       "\n",
       "    .dataframe thead th {\n",
       "        text-align: right;\n",
       "    }\n",
       "</style>\n",
       "<table border=\"1\" class=\"dataframe\">\n",
       "  <thead>\n",
       "    <tr style=\"text-align: right;\">\n",
       "      <th></th>\n",
       "      <th>Date</th>\n",
       "      <th>News</th>\n",
       "    </tr>\n",
       "  </thead>\n",
       "  <tbody>\n",
       "    <tr>\n",
       "      <th>54799</th>\n",
       "      <td>2010-06-30</td>\n",
       "      <td>b'Pope rebukes cardinal who exposed abuse: \\nP...</td>\n",
       "    </tr>\n",
       "    <tr>\n",
       "      <th>54800</th>\n",
       "      <td>2010-06-30</td>\n",
       "      <td>b'This depression is similar to the Great Pani...</td>\n",
       "    </tr>\n",
       "    <tr>\n",
       "      <th>54801</th>\n",
       "      <td>2010-06-30</td>\n",
       "      <td>b'The Niger Delta has experienced oil spills o...</td>\n",
       "    </tr>\n",
       "    <tr>\n",
       "      <th>54802</th>\n",
       "      <td>2010-06-30</td>\n",
       "      <td>b'G20 Toronto - So Black Block get green light...</td>\n",
       "    </tr>\n",
       "    <tr>\n",
       "      <th>54803</th>\n",
       "      <td>2010-06-30</td>\n",
       "      <td>b'Half of Afghanistans 476 women prisoners wer...</td>\n",
       "    </tr>\n",
       "  </tbody>\n",
       "</table>\n",
       "</div>"
      ],
      "text/plain": [
       "            Date                                               News\n",
       "54799 2010-06-30  b'Pope rebukes cardinal who exposed abuse: \\nP...\n",
       "54800 2010-06-30  b'This depression is similar to the Great Pani...\n",
       "54801 2010-06-30  b'The Niger Delta has experienced oil spills o...\n",
       "54802 2010-06-30  b'G20 Toronto - So Black Block get green light...\n",
       "54803 2010-06-30  b'Half of Afghanistans 476 women prisoners wer..."
      ]
     },
     "metadata": {},
     "output_type": "display_data"
    },
    {
     "name": "stdout",
     "output_type": "stream",
     "text": [
      "time: 485 ms\n"
     ]
    }
   ],
   "source": [
    "## Hay error en la codificación de caracteres especiales, encontré ese, pero hay que ver que otros surgen\n",
    "index_review = RedditNews[(RedditNews['News'].str.startswith('b\"')) |\n",
    "                         (RedditNews['News'].str.startswith(\"b'\"))].index\n",
    "\n",
    "display(RedditNews[RedditNews['News'].str.startswith('b\"')].head(),\n",
    "        RedditNews[RedditNews['News'].str.startswith(\"b'\")].head())\n",
    "\n",
    "\n",
    "RedditNews['News'] = RedditNews['News'].str.replace('^b\\\"', \" \", regex=True)\n",
    "RedditNews['News'] = RedditNews['News'].str.replace(\"^b\\'\", \" \", regex=True)"
   ]
  },
  {
   "cell_type": "markdown",
   "metadata": {},
   "source": [
    "#### Remove punctuation/lower casing\n",
    "\n",
    "Next, let’s perform a simple preprocessing on the content of paper_text column to make them more amenable for analysis, and reliable results. To do that, we’ll use a regular expression to remove any punctuation, and then lowercase the text"
   ]
  },
  {
   "cell_type": "code",
   "execution_count": 6,
   "metadata": {},
   "outputs": [
    {
     "data": {
      "text/html": [
       "<div>\n",
       "<style scoped>\n",
       "    .dataframe tbody tr th:only-of-type {\n",
       "        vertical-align: middle;\n",
       "    }\n",
       "\n",
       "    .dataframe tbody tr th {\n",
       "        vertical-align: top;\n",
       "    }\n",
       "\n",
       "    .dataframe thead th {\n",
       "        text-align: right;\n",
       "    }\n",
       "</style>\n",
       "<table border=\"1\" class=\"dataframe\">\n",
       "  <thead>\n",
       "    <tr style=\"text-align: right;\">\n",
       "      <th></th>\n",
       "      <th>Date</th>\n",
       "      <th>News</th>\n",
       "    </tr>\n",
       "  </thead>\n",
       "  <tbody>\n",
       "    <tr>\n",
       "      <th>0</th>\n",
       "      <td>2016-07-01</td>\n",
       "      <td>a 117 year old woman in mexico city finally re...</td>\n",
       "    </tr>\n",
       "    <tr>\n",
       "      <th>1</th>\n",
       "      <td>2016-07-01</td>\n",
       "      <td>imf chief backs athens as permanent olympic host</td>\n",
       "    </tr>\n",
       "    <tr>\n",
       "      <th>2</th>\n",
       "      <td>2016-07-01</td>\n",
       "      <td>the president of france says if brexit won  so...</td>\n",
       "    </tr>\n",
       "    <tr>\n",
       "      <th>3</th>\n",
       "      <td>2016-07-01</td>\n",
       "      <td>british man who must give police 24 hours  not...</td>\n",
       "    </tr>\n",
       "    <tr>\n",
       "      <th>4</th>\n",
       "      <td>2016-07-01</td>\n",
       "      <td>100+ nobel laureates urge greenpeace to stop o...</td>\n",
       "    </tr>\n",
       "  </tbody>\n",
       "</table>\n",
       "</div>"
      ],
      "text/plain": [
       "        Date                                               News\n",
       "0 2016-07-01  a 117 year old woman in mexico city finally re...\n",
       "1 2016-07-01   imf chief backs athens as permanent olympic host\n",
       "2 2016-07-01  the president of france says if brexit won  so...\n",
       "3 2016-07-01  british man who must give police 24 hours  not...\n",
       "4 2016-07-01  100+ nobel laureates urge greenpeace to stop o..."
      ]
     },
     "execution_count": 6,
     "metadata": {},
     "output_type": "execute_result"
    },
    {
     "name": "stdout",
     "output_type": "stream",
     "text": [
      "time: 276 ms\n"
     ]
    }
   ],
   "source": [
    "##Una función para limpieza básica, podemos añadir cosas, es un solo una base, luego lo adaptamos más a nuestro uso\n",
    "\n",
    "import re\n",
    "\n",
    "REPLACE_BY_SPACE_RE = re.compile(r'[/(){}\\[\\]\\|@,;-]')\n",
    "BAD_SYMBOLS_RE = re.compile(r'[^0-9a-z #+_]')\n",
    "\n",
    "def clean_text(text):\n",
    "    \"\"\"\n",
    "        text: a string\n",
    "        \n",
    "        return: modified initial string\n",
    "    \"\"\"\n",
    "    text = text.lower() # lowercase text\n",
    "    text = REPLACE_BY_SPACE_RE.sub(' ', text) # replace REPLACE_BY_SPACE_RE symbols by space in text\n",
    "    text = BAD_SYMBOLS_RE.sub(' ', text) # delete symbols which are in BAD_SYMBOLS_RE from text\n",
    "    return text\n",
    "    \n",
    "RedditNews['News'] = RedditNews['News'].apply(clean_text)\n",
    "RedditNews.head()"
   ]
  },
  {
   "cell_type": "markdown",
   "metadata": {},
   "source": [
    "#### Exploratory Analysis\n",
    "\n",
    "To verify whether the preprocessing happened correctly, we’ll make a word cloud using the wordcloud package to get a visual representation of most common words. It is key to understanding the data and ensuring we are on the right track, and if any more preprocessing is necessary before training the model."
   ]
  },
  {
   "cell_type": "code",
   "execution_count": 7,
   "metadata": {},
   "outputs": [
    {
     "data": {
      "image/png": "[encoded data removed]",
      "text/plain": [
       "<PIL.Image.Image image mode=RGB size=400x200 at 0x247A601E358>"
      ]
     },
     "execution_count": 7,
     "metadata": {},
     "output_type": "execute_result"
    },
    {
     "name": "stdout",
     "output_type": "stream",
     "text": [
      "time: 8 s\n"
     ]
    }
   ],
   "source": [
    "# Import the wordcloud library\n",
    "from wordcloud import WordCloud\n",
    "\n",
    "# Join the different processed titles together.\n",
    "long_string = ','.join(list(RedditNews['News'].values))\n",
    "\n",
    "# Create a WordCloud object\n",
    "wordcloud = WordCloud(background_color=\"white\", max_words=1000, contour_width=3, contour_color='steelblue')\n",
    "\n",
    "# Generate a word cloud\n",
    "wordcloud.generate(long_string)\n",
    "\n",
    "# Visualize the word cloud\n",
    "wordcloud.to_image()"
   ]
  },
  {
   "cell_type": "markdown",
   "metadata": {},
   "source": [
    "#### Prepare text for LDA analysis\n",
    "\n",
    "Next, let’s work to transform the textual data in a format that will serve as an input for training LDA model. We start by converting the documents into a simple vector representation (Bag of Words BOW). Next, we will convert a list of titles into lists of vectors, all with length equal to the vocabulary.\n",
    "\n",
    "We’ll then plot the ten most frequent words based on the outcome of this operation (the list of document vectors). As a check, these words should also occur in the word cloud."
   ]
  },
  {
   "cell_type": "code",
   "execution_count": 8,
   "metadata": {},
   "outputs": [
    {
     "data": {
      "image/png": "[encoded data removed]",
      "text/plain": [
       "<Figure size 1080x667.491 with 1 Axes>"
      ]
     },
     "metadata": {
      "needs_background": "light"
     },
     "output_type": "display_data"
    },
    {
     "name": "stdout",
     "output_type": "stream",
     "text": [
      "time: 10.3 s\n"
     ]
    }
   ],
   "source": [
    "# Load the library with the CountVectorizer method\n",
    "from sklearn.feature_extraction.text import CountVectorizer\n",
    "import numpy as np\n",
    "\n",
    "import matplotlib.pyplot as plt\n",
    "import seaborn as sns\n",
    "sns.set_style('whitegrid')\n",
    "%matplotlib inline\n",
    "\n",
    "# Helper function\n",
    "def plot_10_most_common_words(count_data, count_vectorizer):\n",
    "    import matplotlib.pyplot as plt\n",
    "    words = count_vectorizer.get_feature_names()\n",
    "    total_counts = np.zeros(len(words))\n",
    "    for t in count_data:\n",
    "        total_counts+=t.toarray()[0]\n",
    "    \n",
    "    count_dict = (zip(words, total_counts))\n",
    "    count_dict = sorted(count_dict, key=lambda x:x[1], reverse=True)[0:10]\n",
    "    words = [w[0] for w in count_dict]\n",
    "    counts = [w[1] for w in count_dict]\n",
    "    x_pos = np.arange(len(words)) \n",
    "    \n",
    "    plt.figure(2, figsize=(15, 15/1.6180))\n",
    "    plt.subplot(title='10 most common words')\n",
    "    sns.set_context(\"notebook\", font_scale=1.25, rc={\"lines.linewidth\": 2.5})\n",
    "    sns.barplot(x_pos, counts, palette='husl')\n",
    "    plt.xticks(x_pos, words, rotation=90) \n",
    "    plt.xlabel('words')\n",
    "    plt.ylabel('counts')\n",
    "    plt.show()\n",
    "\n",
    "# Initialise the count vectorizer with the English stop words\n",
    "count_vectorizer = CountVectorizer(stop_words='english')\n",
    "\n",
    "# Fit and transform the processed titles\n",
    "count_data = count_vectorizer.fit_transform(RedditNews['News'])\n",
    "\n",
    "# Visualise the 10 most common words\n",
    "plot_10_most_common_words(count_data, count_vectorizer)"
   ]
  },
  {
   "cell_type": "markdown",
   "metadata": {},
   "source": [
    "### Analyzing our LDA model\n",
    "\n",
    "Now that we have a trained model let’s visualize the topics for interpretability. To do so, we’ll use a popular visualization package, pyLDAvis which is designed to help interactively with:\n",
    "\n",
    "1. Better understanding and interpreting individual topics, and\n",
    "2. Better understanding the relationships between the topics.\n",
    "\n",
    "For (1), you can manually select each topic to view its top most frequent and/or “relevant” terms, using different values of the λ parameter. This can help when you’re trying to assign a human interpretable name or “meaning” to each topic.\n",
    "For (2), exploring the Intertopic Distance Plot can help you learn about how topics relate to each other, including potential higher-level structure between groups of topics."
   ]
  },
  {
   "cell_type": "code",
   "execution_count": 9,
   "metadata": {
    "scrolled": true
   },
   "outputs": [
    {
     "name": "stdout",
     "output_type": "stream",
     "text": [
      "Error in callback <function LineWatcher.stop at 0x00000247A3CFBEA0> (for post_run_cell):\n"
     ]
    },
    {
     "ename": "AssertionError",
     "evalue": "",
     "output_type": "error",
     "traceback": [
      "\u001b[1;31m---------------------------------------------------------------------------\u001b[0m",
      "\u001b[1;31mAssertionError\u001b[0m                            Traceback (most recent call last)",
      "\u001b[1;32m~\\Anaconda3\\envs\\nlp\\lib\\site-packages\\backcall\\backcall.py\u001b[0m in \u001b[0;36madapted\u001b[1;34m(*args, **kwargs)\u001b[0m\n\u001b[0;32m    102\u001b[0m                 \u001b[0mkwargs\u001b[0m\u001b[1;33m.\u001b[0m\u001b[0mpop\u001b[0m\u001b[1;33m(\u001b[0m\u001b[0mname\u001b[0m\u001b[1;33m)\u001b[0m\u001b[1;33m\u001b[0m\u001b[1;33m\u001b[0m\u001b[0m\n\u001b[0;32m    103\u001b[0m \u001b[1;31m#            print(args, kwargs, unmatched_pos, cut_positional, unmatched_kw)\u001b[0m\u001b[1;33m\u001b[0m\u001b[1;33m\u001b[0m\u001b[1;33m\u001b[0m\u001b[0m\n\u001b[1;32m--> 104\u001b[1;33m             \u001b[1;32mreturn\u001b[0m \u001b[0mcallback\u001b[0m\u001b[1;33m(\u001b[0m\u001b[1;33m*\u001b[0m\u001b[0margs\u001b[0m\u001b[1;33m,\u001b[0m \u001b[1;33m**\u001b[0m\u001b[0mkwargs\u001b[0m\u001b[1;33m)\u001b[0m\u001b[1;33m\u001b[0m\u001b[1;33m\u001b[0m\u001b[0m\n\u001b[0m\u001b[0;32m    105\u001b[0m \u001b[1;33m\u001b[0m\u001b[0m\n\u001b[0;32m    106\u001b[0m         \u001b[1;32mreturn\u001b[0m \u001b[0madapted\u001b[0m\u001b[1;33m\u001b[0m\u001b[1;33m\u001b[0m\u001b[0m\n",
      "\u001b[1;32m~\\Anaconda3\\envs\\nlp\\lib\\site-packages\\autotime.py\u001b[0m in \u001b[0;36mstop\u001b[1;34m(self)\u001b[0m\n\u001b[0;32m     23\u001b[0m         \u001b[1;32mif\u001b[0m \u001b[0mself\u001b[0m\u001b[1;33m.\u001b[0m\u001b[0mstart_time\u001b[0m\u001b[1;33m:\u001b[0m\u001b[1;33m\u001b[0m\u001b[1;33m\u001b[0m\u001b[0m\n\u001b[0;32m     24\u001b[0m             \u001b[0mdiff\u001b[0m \u001b[1;33m=\u001b[0m \u001b[0mtime\u001b[0m\u001b[1;33m.\u001b[0m\u001b[0mtime\u001b[0m\u001b[1;33m(\u001b[0m\u001b[1;33m)\u001b[0m \u001b[1;33m-\u001b[0m \u001b[0mself\u001b[0m\u001b[1;33m.\u001b[0m\u001b[0mstart_time\u001b[0m\u001b[1;33m\u001b[0m\u001b[1;33m\u001b[0m\u001b[0m\n\u001b[1;32m---> 25\u001b[1;33m             \u001b[1;32massert\u001b[0m \u001b[0mdiff\u001b[0m \u001b[1;33m>\u001b[0m \u001b[1;36m0\u001b[0m\u001b[1;33m\u001b[0m\u001b[1;33m\u001b[0m\u001b[0m\n\u001b[0m\u001b[0;32m     26\u001b[0m             \u001b[0mprint\u001b[0m\u001b[1;33m(\u001b[0m\u001b[1;34m'time: %s'\u001b[0m \u001b[1;33m%\u001b[0m \u001b[0mformat_delta\u001b[0m\u001b[1;33m(\u001b[0m\u001b[0mdiff\u001b[0m\u001b[1;33m)\u001b[0m\u001b[1;33m)\u001b[0m\u001b[1;33m\u001b[0m\u001b[1;33m\u001b[0m\u001b[0m\n\u001b[0;32m     27\u001b[0m \u001b[1;33m\u001b[0m\u001b[0m\n",
      "\u001b[1;31mAssertionError\u001b[0m: "
     ]
    }
   ],
   "source": [
    "# !pip install gensim\n",
    "# !pip install PyLDAvis\n",
    "# !pip install spacy\n",
    "# !python -m spacy download en_core_web_sm"
   ]
  },
  {
   "cell_type": "markdown",
   "metadata": {},
   "source": [
    "#### Tokenize words and further clean-up text\n",
    "Let’s tokenize each sentence into a list of words, removing punctuations and unnecessary characters altogether."
   ]
  },
  {
   "cell_type": "code",
   "execution_count": 10,
   "metadata": {},
   "outputs": [
    {
     "name": "stdout",
     "output_type": "stream",
     "text": [
      "['year', 'old', 'woman', 'in', 'mexico', 'city', 'finally', 'received', 'her', 'birth', 'certificate', 'and', 'died', 'few', 'hours', 'later', 'trinidad', 'alvarez', 'lira', 'had', 'waited', 'years', 'for', 'proof', 'that', 'she', 'had', 'been', 'born', 'in']\n",
      "time: 4.52 s\n"
     ]
    }
   ],
   "source": [
    "import gensim\n",
    "from gensim.utils import simple_preprocess\n",
    "\n",
    "def sent_to_words(sentences):\n",
    "    for sentence in sentences:\n",
    "        yield(gensim.utils.simple_preprocess(str(sentence), deacc=True))  # deacc=True removes punctuations\n",
    "\n",
    "data = RedditNews.News.values.tolist()\n",
    "data_words = list(sent_to_words(data))\n",
    "\n",
    "print(data_words[:1][0][:30])"
   ]
  },
  {
   "cell_type": "markdown",
   "metadata": {},
   "source": [
    "#### Creating Bigram and Trigram Models\n",
    "Bigrams are two words frequently occurring together in the document. Trigrams are 3 words frequently occurring. Some examples in our example are: 'back_bumper', 'oil_leakage', 'maryland_college_park' etc.\n",
    "\n",
    "Gensim's Phrases model can build and implement the bigrams, trigrams, quadgrams and more. The two important arguments to Phrases are min_count and threshold."
   ]
  },
  {
   "cell_type": "code",
   "execution_count": 11,
   "metadata": {},
   "outputs": [
    {
     "name": "stdout",
     "output_type": "stream",
     "text": [
      "time: 20.4 s\n"
     ]
    }
   ],
   "source": [
    "# Build the bigram and trigram models\n",
    "bigram = gensim.models.Phrases(data_words, min_count=5, threshold=100) # higher threshold fewer phrases.\n",
    "trigram = gensim.models.Phrases(bigram[data_words], threshold=100)  \n",
    "\n",
    "# Faster way to get a sentence clubbed as a trigram/bigram\n",
    "bigram_mod = gensim.models.phrases.Phraser(bigram)\n",
    "trigram_mod = gensim.models.phrases.Phraser(trigram)"
   ]
  },
  {
   "cell_type": "markdown",
   "metadata": {},
   "source": [
    "#### Remove Stopwords, Make Bigrams and Lemmatize\n",
    "The phrase models are ready. Let’s define the functions to remove the stopwords, make trigrams and lemmatization and call them sequentially."
   ]
  },
  {
   "cell_type": "code",
   "execution_count": 12,
   "metadata": {},
   "outputs": [
    {
     "name": "stdout",
     "output_type": "stream",
     "text": [
      "time: 595 ms\n"
     ]
    }
   ],
   "source": [
    "# NLTK Stop words\n",
    "import nltk\n",
    "# nltk.download('stopwords')\n",
    "from nltk.corpus import stopwords\n",
    "\n",
    "stop_words = stopwords.words('english')\n",
    "stop_words.extend(['from', 'subject', 're', 'edu', 'use'])"
   ]
  },
  {
   "cell_type": "code",
   "execution_count": 13,
   "metadata": {},
   "outputs": [
    {
     "name": "stdout",
     "output_type": "stream",
     "text": [
      "time: 3 ms\n"
     ]
    }
   ],
   "source": [
    "def remove_stopwords(texts):\n",
    "    return [[word for word in simple_preprocess(str(doc)) if word not in stop_words] for doc in texts]\n",
    "\n",
    "def make_bigrams(texts):\n",
    "    return [bigram_mod[doc] for doc in texts]\n",
    "\n",
    "def make_trigrams(texts):\n",
    "    return [trigram_mod[bigram_mod[doc]] for doc in texts]\n",
    "\n",
    "def lemmatization(texts, allowed_postags=['NOUN', 'ADJ', 'VERB', 'ADV']):\n",
    "    \"\"\"https://spacy.io/api/annotation\"\"\"\n",
    "    texts_out = []\n",
    "    for sent in texts:\n",
    "        doc = nlp(\" \".join(sent)) \n",
    "        texts_out.append([token.lemma_ for token in doc if token.pos_ in allowed_postags])\n",
    "    return texts_out"
   ]
  },
  {
   "cell_type": "code",
   "execution_count": 14,
   "metadata": {},
   "outputs": [
    {
     "name": "stdout",
     "output_type": "stream",
     "text": [
      "['year_old', 'woman', 'mexico', 'city', 'finally', 'receive', 'birth', 'certificate', 'die', 'hour', 'later', 'trinidad', 'alvarez', 'lira', 'wait', 'year', 'proof', 'bear']\n",
      "time: 3min 24s\n"
     ]
    }
   ],
   "source": [
    "import spacy\n",
    "\n",
    "# Remove Stop Words\n",
    "data_words_nostops = remove_stopwords(data_words)\n",
    "\n",
    "# Form Bigrams\n",
    "data_words_bigrams = make_bigrams(data_words_nostops)\n",
    "\n",
    "# Initialize spacy 'en' model, keeping only tagger component (for efficiency)\n",
    "nlp = spacy.load(\"en_core_web_sm\", disable=['parser', 'ner'])\n",
    "\n",
    "# Do lemmatization keeping only noun, adj, vb, adv\n",
    "data_lemmatized = lemmatization(data_words_bigrams, allowed_postags=['NOUN', 'ADJ', 'VERB', 'ADV'])\n",
    "\n",
    "print(data_lemmatized[:1][0][:30])"
   ]
  },
  {
   "cell_type": "markdown",
   "metadata": {},
   "source": [
    "### Data transformation: Corpus and Dictionary\n",
    "The two main inputs to the LDA topic model are the dictionary(id2word) and the corpus. Let’s create them.\n",
    "First, we are creating a dictionary from the data, then convert to bag-of-words corpus and save the dictionary and corpus for future use."
   ]
  },
  {
   "cell_type": "code",
   "execution_count": 15,
   "metadata": {},
   "outputs": [
    {
     "name": "stdout",
     "output_type": "stream",
     "text": [
      "[(0, 1), (1, 1), (2, 1), (3, 1), (4, 1), (5, 1), (6, 1), (7, 1), (8, 1), (9, 1), (10, 1), (11, 1), (12, 1), (13, 1), (14, 1), (15, 1), (16, 1), (17, 1)]\n",
      "time: 1.96 s\n"
     ]
    }
   ],
   "source": [
    "import gensim.corpora as corpora\n",
    "\n",
    "# Create Dictionary\n",
    "id2word = corpora.Dictionary(data_lemmatized)\n",
    "\n",
    "# Create Corpus\n",
    "texts = data_lemmatized\n",
    "\n",
    "# Term Document Frequency\n",
    "corpus = [id2word.doc2bow(text) for text in texts]\n",
    "\n",
    "# View\n",
    "print(corpus[:1][0][:30])"
   ]
  },
  {
   "cell_type": "code",
   "execution_count": 16,
   "metadata": {},
   "outputs": [
    {
     "name": "stdout",
     "output_type": "stream",
     "text": [
      "time: 263 ms\n"
     ]
    }
   ],
   "source": [
    "import pickle\n",
    "pickle.dump(corpus, open('corpus.pkl', 'wb'))\n",
    "id2word.save('dictionary.gensim')"
   ]
  },
  {
   "cell_type": "markdown",
   "metadata": {},
   "source": [
    "### Building the base topic model\n",
    "We have everything required to train the base LDA model. In addition to the corpus and dictionary, you need to provide the number of topics as well. Apart from that, alpha and eta are hyperparameters that affect sparsity of the topics. According to the Gensim docs, both defaults to 1.0/num_topics prior (we'll use default for the base model).\n",
    "\n",
    "chunksize controls how many documents are processed at a time in the training algorithm. Increasing chunksize will speed up training, at least as long as the chunk of documents easily fit into memory.\n",
    "\n",
    "passes controls how often we train the model on the entire corpus (set to 10). Another word for passes might be \"epochs\". iterations is somewhat technical, but essentially it controls how often we repeat a particular loop over each document. It is important to set the number of \"passes\" and \"iterations\" high enough."
   ]
  },
  {
   "cell_type": "code",
   "execution_count": 17,
   "metadata": {},
   "outputs": [
    {
     "name": "stdout",
     "output_type": "stream",
     "text": [
      "time: 2min 14s\n"
     ]
    }
   ],
   "source": [
    "NUM_TOPICS = 5\n",
    "\n",
    "# Build LDA model\n",
    "lda_model = gensim.models.LdaMulticore(corpus=corpus,\n",
    "                                       id2word=id2word,\n",
    "                                       num_topics=NUM_TOPICS, \n",
    "                                       random_state=100,\n",
    "                                       chunksize=1000,\n",
    "                                       passes=10,\n",
    "                                       per_word_topics=True)\n",
    "\n",
    "lda_model.save('model5.gensim')"
   ]
  },
  {
   "cell_type": "code",
   "execution_count": 18,
   "metadata": {},
   "outputs": [
    {
     "name": "stdout",
     "output_type": "stream",
     "text": [
      "Topics found via LDA:\n",
      "[(0,\n",
      "  '0.012*\"government\" + 0.009*\"world\" + 0.007*\"say\" + 0.007*\"law\" + '\n",
      "  '0.007*\"new\" + 0.007*\"china\" + 0.006*\"country\" + 0.006*\"internet\" + '\n",
      "  '0.005*\"wikileak\" + 0.005*\"ban\"'),\n",
      " (1,\n",
      "  '0.009*\"drug\" + 0.007*\"bank\" + 0.006*\"world\" + 0.006*\"year\" + 0.006*\"people\" '\n",
      "  '+ 0.006*\"say\" + 0.006*\"make\" + 0.006*\"get\" + 0.005*\"pay\" + 0.005*\"worker\"'),\n",
      " (2,\n",
      "  '0.015*\"russia\" + 0.011*\"say\" + 0.010*\"iran\" + 0.008*\"nuclear\" + '\n",
      "  '0.007*\"china\" + 0.007*\"world\" + 0.006*\"russian\" + 0.006*\"war\" + '\n",
      "  '0.005*\"year\" + 0.005*\"new\"'),\n",
      " (3,\n",
      "  '0.018*\"israel\" + 0.018*\"israeli\" + 0.012*\"gaza\" + 0.011*\"say\" + '\n",
      "  '0.011*\"palestinian\" + 0.010*\"war\" + 0.007*\"attack\" + 0.006*\"state\" + '\n",
      "  '0.005*\"kill\" + 0.005*\"iran\"'),\n",
      " (4,\n",
      "  '0.016*\"kill\" + 0.016*\"police\" + 0.012*\"man\" + 0.012*\"woman\" + 0.009*\"child\" '\n",
      "  '+ 0.007*\"people\" + 0.007*\"protest\" + 0.007*\"year\" + 0.006*\"attack\" + '\n",
      "  '0.006*\"pakistan\"')]\n",
      "time: 107 ms\n"
     ]
    }
   ],
   "source": [
    "print(\"Topics found via LDA:\")\n",
    "\n",
    "from pprint import pprint\n",
    "\n",
    "# Print the Keyword in the 10 topics\n",
    "pprint(lda_model.print_topics())\n",
    "doc_lda = lda_model[corpus]"
   ]
  },
  {
   "cell_type": "markdown",
   "metadata": {},
   "source": [
    "### What is Topic Coherence?\n",
    "Perplexity is often used as an example of an intrinsic evaluation measure. It comes from the language modeling community and aims to capture how surprised a model is of new data it has not seen before. It is measured as the normalized log-likelihood of a held-out test set.\n",
    "\n",
    "Focussing on the log-likelihood part, you can think of the perplexity metric as measuring how probable some new unseen data is given the model that was learned earlier. That is to say, how well does the model represent or reproduce the statistics of the held-out data.\n",
    "\n",
    "However, past research has shown that predictive likelihood (or equivalently, perplexity) and human judgment are often not correlated, and even sometimes slightly anti-correlated. And that served as a motivation for more work trying to model the human judgment, and thus Topic Coherence.\n",
    "\n",
    "The topic coherence concept combines a number of papers into one framework that allows evaluating the coherence of topics inferred by a topic model. But,\n",
    "\n",
    "#### What is topic coherence?\n",
    "Topic Coherence measures score a single topic by measuring the degree of semantic similarity between high scoring words in the topic. These measurements help distinguish between topics that are semantically interpretable topics and topics that are artifacts of statistical inference. But,\n",
    "\n",
    "#### What is coherence?\n",
    "A set of statements or facts is said to be coherent, if they support each other. Thus, a coherent fact set can be interpreted in a context that covers all or most of the facts. An example of a coherent fact set is \"the game is a team sport\", \"the game is played with a ball\", \"the game demands great physical efforts\"\n",
    "\n",
    "### Coherence Measures\n",
    "- C_v measure is based on a sliding window, one-set segmentation of the top words and an indirect confirmation measure that uses normalized pointwise mutual information (NPMI) and the cosine similarity\n",
    "- C_p is based on a sliding window, one-preceding segmentation of the top words and the confirmation measure of Fitelson's coherence\n",
    "- C_uci measure is based on a sliding window and the pointwise mutual information (PMI) of all word pairs of the given top words\n",
    "- C_umass is based on document cooccurrence counts, a one-preceding segmentation and a logarithmic conditional probability as confirmation measure\n",
    "- C_npmi is an enhanced version of the C_uci coherence using the normalized pointwise mutual information (NPMI)\n",
    "- C_a is baseed on a context window, a pairwise comparison of the top words and an indirect confirmation measure that uses normalized pointwise mutual information (NPMI) and the cosine similarity"
   ]
  },
  {
   "cell_type": "markdown",
   "metadata": {},
   "source": [
    "#### Compute Model Perplexity and Coherence Score\n",
    "Let's calculate the baseline coherence score"
   ]
  },
  {
   "cell_type": "code",
   "execution_count": 19,
   "metadata": {},
   "outputs": [
    {
     "name": "stdout",
     "output_type": "stream",
     "text": [
      "Coherence Score:  0.2583840118637868\n",
      "time: 6.79 s\n"
     ]
    }
   ],
   "source": [
    "from gensim.models import CoherenceModel\n",
    "\n",
    "# Compute Coherence Score\n",
    "coherence_model_lda = CoherenceModel(model=lda_model, texts=data_lemmatized, dictionary=id2word, coherence='c_v')\n",
    "coherence_lda = coherence_model_lda.get_coherence()\n",
    "print('Coherence Score: ', coherence_lda)"
   ]
  },
  {
   "cell_type": "markdown",
   "metadata": {},
   "source": [
    "### Hyperparameter tuning\n",
    "First, let's differentiate between model hyperparameters and model parameters :\n",
    "\n",
    "- Model hyperparameters can be thought of as settings for a machine learning algorithm that are tuned by the data scientist before training. Examples would be the number of trees in the random forest, or in our case, number of topics K\n",
    "- Model parameters can be thought of as what the model learns during training, such as the weights for each word in a given topic.\n",
    "\n",
    "Now that we have the baseline coherence score for the default LDA model, let's perform a series of sensitivity tests to help determine the following model hyperparameters:\n",
    "\n",
    "- Number of Topics (K)\n",
    "- Dirichlet hyperparameter alpha: Document-Topic Density\n",
    "- Dirichlet hyperparameter beta: Word-Topic Density\n",
    "We'll perform these tests in sequence, one parameter at a time by keeping others constant and run them over the two difference validation corpus sets. We'll use C_v as our choice of metric for performance comparison"
   ]
  },
  {
   "cell_type": "code",
   "execution_count": 20,
   "metadata": {},
   "outputs": [
    {
     "name": "stdout",
     "output_type": "stream",
     "text": [
      "time: 3 ms\n"
     ]
    }
   ],
   "source": [
    "# supporting function\n",
    "def compute_coherence_values(corpus, dictionary, k, a, b):\n",
    "    \n",
    "    lda_model = gensim.models.LdaMulticore(corpus=corpus,\n",
    "                                           id2word=dictionary,\n",
    "                                           num_topics=k, \n",
    "                                           random_state=100,\n",
    "                                           chunksize=1000,\n",
    "                                           passes=15,\n",
    "                                           alpha=a,\n",
    "                                           eta=b)\n",
    "    \n",
    "    coherence_model_lda = CoherenceModel(model=lda_model, texts=data_lemmatized, dictionary=id2word, coherence='c_v')\n",
    "    \n",
    "    return coherence_model_lda.get_coherence()"
   ]
  },
  {
   "cell_type": "markdown",
   "metadata": {},
   "source": [
    "Let's call the function, and iterate it over the range of topics, alpha, and beta parameter values\n"
   ]
  },
  {
   "cell_type": "code",
   "execution_count": 21,
   "metadata": {},
   "outputs": [
    {
     "name": "stderr",
     "output_type": "stream",
     "text": [
      "100%|████████████████████████████████████████████████████████████████████████████| 240/240 [12:36:05<00:00, 226.86s/it]\n"
     ]
    },
    {
     "name": "stdout",
     "output_type": "stream",
     "text": [
      "time: 12h 36min 6s\n"
     ]
    }
   ],
   "source": [
    "import numpy as np\n",
    "import tqdm\n",
    "\n",
    "grid = {}\n",
    "grid['Validation_Set'] = {}\n",
    "\n",
    "# Topics range\n",
    "min_topics = 2\n",
    "max_topics = 10\n",
    "step_size = 1\n",
    "topics_range = range(min_topics, max_topics, step_size)\n",
    "\n",
    "# Alpha parameter\n",
    "alpha = list(np.arange(0.01, 1, 0.3))\n",
    "alpha.append('symmetric')\n",
    "alpha.append('asymmetric')\n",
    "\n",
    "# Beta parameter\n",
    "beta = list(np.arange(0.01, 1, 0.3))\n",
    "beta.append('symmetric')\n",
    "\n",
    "# Validation sets\n",
    "num_of_docs = len(corpus)\n",
    "corpus_sets = [# gensim.utils.ClippedCorpus(corpus, num_of_docs*0.25), \n",
    "               # gensim.utils.ClippedCorpus(corpus, num_of_docs*0.5), \n",
    "               # gensim.utils.ClippedCorpus(corpus, num_of_docs*0.75), \n",
    "               corpus]\n",
    "\n",
    "corpus_title = ['100% Corpus']\n",
    "\n",
    "model_results = {'Validation_Set': [],\n",
    "                 'Topics': [],\n",
    "                 'Alpha': [],\n",
    "                 'Beta': [],\n",
    "                 'Coherence': []\n",
    "                }\n",
    "\n",
    "# Can take a long time to run\n",
    "if 1 == 1:\n",
    "    pbar = tqdm.tqdm(total=(len(beta)*len(alpha)*len(topics_range)*len(corpus_title)))\n",
    "    \n",
    "    # iterate through validation corpuses\n",
    "    for i in range(len(corpus_sets)):\n",
    "        # iterate through number of topics\n",
    "        for k in topics_range:\n",
    "            # iterate through alpha values\n",
    "            for a in alpha:\n",
    "                # iterare through beta values\n",
    "                for b in beta:\n",
    "                    # get the coherence score for the given parameters\n",
    "                    cv = compute_coherence_values(corpus=corpus_sets[i], dictionary=id2word, \n",
    "                                                  k=k, a=a, b=b)\n",
    "                    # Save the model results\n",
    "                    model_results['Validation_Set'].append(corpus_title[i])\n",
    "                    model_results['Topics'].append(k)\n",
    "                    model_results['Alpha'].append(a)\n",
    "                    model_results['Beta'].append(b)\n",
    "                    model_results['Coherence'].append(cv)\n",
    "                    \n",
    "                    pbar.update(1)\n",
    "    pd.DataFrame(model_results).to_csv('lda_tuning_results2.csv', index=False)\n",
    "    pbar.close()"
   ]
  },
  {
   "cell_type": "markdown",
   "metadata": {},
   "source": [
    "### Final Model Training\n",
    "Based on external evaluation (Code to be added from Excel based analysis), train the final model\n",
    "\n"
   ]
  },
  {
   "cell_type": "code",
   "execution_count": 25,
   "metadata": {},
   "outputs": [
    {
     "name": "stdout",
     "output_type": "stream",
     "text": [
      "time: 4min 28s\n"
     ]
    }
   ],
   "source": [
    "lda_model = gensim.models.LdaMulticore(corpus=corpus,\n",
    "                                           id2word=id2word,\n",
    "                                           num_topics=7, \n",
    "                                           random_state=100,\n",
    "                                           chunksize=1000,\n",
    "                                           passes=15,\n",
    "                                           alpha='asymmetric',\n",
    "                                           eta=0.61)"
   ]
  },
  {
   "cell_type": "code",
   "execution_count": 26,
   "metadata": {
    "scrolled": false
   },
   "outputs": [
    {
     "name": "stdout",
     "output_type": "stream",
     "text": [
      "[(0,\n",
      "  '0.011*\"say\" + 0.007*\"government\" + 0.007*\"israel\" + 0.007*\"israeli\" + '\n",
      "  '0.007*\"war\" + 0.007*\"iran\" + 0.006*\"russia\" + 0.005*\"kill\" + '\n",
      "  '0.005*\"protest\" + 0.005*\"attack\"'),\n",
      " (1,\n",
      "  '0.011*\"man\" + 0.011*\"woman\" + 0.009*\"kill\" + 0.009*\"police\" + 0.009*\"child\" '\n",
      "  '+ 0.007*\"death\" + 0.007*\"year\" + 0.006*\"drug\" + 0.005*\"die\" + '\n",
      "  '0.005*\"people\"'),\n",
      " (2,\n",
      "  '0.013*\"world\" + 0.011*\"china\" + 0.007*\"year\" + 0.006*\"bank\" + 0.006*\"japan\" '\n",
      "  '+ 0.006*\"oil\" + 0.006*\"new\" + 0.005*\"say\" + 0.005*\"country\" + '\n",
      "  '0.004*\"water\"'),\n",
      " (3,\n",
      "  '0.009*\"university\" + 0.005*\"congo\" + 0.004*\"prize\" + 0.004*\"award\" + '\n",
      "  '0.004*\"guy\" + 0.003*\"com\" + 0.003*\"cocaine\" + 0.003*\"nuke\" + '\n",
      "  '0.003*\"extradition\" + 0.003*\"nobel_peace\"'),\n",
      " (4,\n",
      "  '0.013*\"find\" + 0.006*\"pic\" + 0.005*\"zimbabwe\" + 0.004*\"mayor\" + '\n",
      "  '0.004*\"discover\" + 0.003*\"animal\" + 0.003*\"gold\" + 0.003*\"ancient\" + '\n",
      "  '0.003*\"hunt\" + 0.003*\"dead\"'),\n",
      " (5,\n",
      "  '0.008*\"olympic\" + 0.005*\"georgian\" + 0.005*\"genocide\" + 0.005*\"remember\" + '\n",
      "  '0.003*\"dalai_lama\" + 0.003*\"tibetan\" + 0.002*\"tibet\" + 0.002*\"spray\" + '\n",
      "  '0.002*\"interesting\" + 0.002*\"empire\"'),\n",
      " (6,\n",
      "  '0.009*\"ahmadinejad\" + 0.007*\"settler\" + 0.004*\"south_ossetia\" + '\n",
      "  '0.003*\"bonus\" + 0.003*\"vid\" + 0.002*\"lock\" + 0.002*\"romania\" + '\n",
      "  '0.002*\"foreign_policy\" + 0.002*\"confront\" + 0.002*\"khamenei\"')]\n",
      "time: 225 ms\n"
     ]
    }
   ],
   "source": [
    "from pprint import pprint\n",
    "\n",
    "# Print the Keyword in the 10 topics\n",
    "pprint(lda_model.print_topics())\n",
    "doc_lda = lda_model[corpus]"
   ]
  },
  {
   "cell_type": "code",
   "execution_count": 27,
   "metadata": {},
   "outputs": [
    {
     "data": {
      "text/html": [
       "\n",
       "<link rel=\"stylesheet\" type=\"text/css\" href=\"https://cdn.rawgit.com/bmabey/pyLDAvis/files/ldavis.v1.0.0.css\">\n",
       "\n",
       "\n",
       "<div id=\"ldavis_el1488025074919928248612416281\"></div>\n",
       "<script type=\"text/javascript\">\n",
       "\n",
       "var ldavis_el1488025074919928248612416281_data = {\"mdsDat\": {\"x\": [-0.25030576660226883, -0.1380467802696518, -0.1481577079977998, 0.1054284703940917, 0.1453565469926902, 0.1439267581124409, 0.14179847937049714], \"y\": [-0.000440110822312262, 0.16985521463284192, -0.16374635032676313, 0.002608891438354274, -0.006084482711024485, -0.0009987940878279384, -0.0011943681232686057], \"topics\": [1, 2, 3, 4, 5, 6, 7], \"cluster\": [1, 1, 1, 1, 1, 1, 1], \"Freq\": [44.283660888671875, 23.171524047851562, 21.70757484436035, 4.754654884338379, 2.5983963012695312, 1.899061679840088, 1.5851231813430786]}, \"tinfo\": {\"Category\": [\"Default\", \"Default\", \"Default\", \"Default\", \"Default\", \"Default\", \"Default\", \"Default\", \"Default\", \"Default\", \"Default\", \"Default\", \"Default\", \"Default\", \"Default\", \"Default\", \"Default\", \"Default\", \"Default\", \"Default\", \"Default\", \"Default\", \"Default\", \"Default\", \"Default\", \"Default\", \"Default\", \"Default\", \"Default\", \"Default\", \"Topic1\", \"Topic1\", \"Topic1\", \"Topic1\", \"Topic1\", \"Topic1\", \"Topic1\", \"Topic1\", \"Topic1\", \"Topic1\", \"Topic1\", \"Topic1\", \"Topic1\", \"Topic1\", \"Topic1\", \"Topic1\", \"Topic1\", \"Topic1\", \"Topic1\", \"Topic1\", \"Topic1\", \"Topic1\", \"Topic1\", \"Topic1\", \"Topic1\", \"Topic1\", \"Topic1\", \"Topic1\", \"Topic1\", \"Topic1\", \"Topic1\", \"Topic1\", \"Topic1\", \"Topic1\", \"Topic1\", \"Topic1\", \"Topic1\", \"Topic1\", \"Topic1\", \"Topic1\", \"Topic1\", \"Topic1\", \"Topic1\", \"Topic1\", \"Topic1\", \"Topic1\", \"Topic1\", \"Topic1\", \"Topic1\", \"Topic1\", \"Topic1\", \"Topic1\", \"Topic1\", \"Topic1\", \"Topic2\", \"Topic2\", \"Topic2\", \"Topic2\", \"Topic2\", \"Topic2\", \"Topic2\", \"Topic2\", \"Topic2\", \"Topic2\", \"Topic2\", \"Topic2\", \"Topic2\", \"Topic2\", \"Topic2\", \"Topic2\", \"Topic2\", \"Topic2\", \"Topic2\", \"Topic2\", \"Topic2\", \"Topic2\", \"Topic2\", \"Topic2\", \"Topic2\", \"Topic2\", \"Topic2\", \"Topic2\", \"Topic2\", \"Topic2\", \"Topic2\", \"Topic2\", \"Topic2\", \"Topic2\", \"Topic2\", \"Topic2\", \"Topic2\", \"Topic2\", \"Topic2\", \"Topic2\", \"Topic2\", \"Topic2\", \"Topic2\", \"Topic2\", \"Topic2\", \"Topic2\", \"Topic2\", \"Topic2\", \"Topic2\", \"Topic2\", \"Topic2\", \"Topic2\", \"Topic2\", \"Topic2\", \"Topic2\", \"Topic2\", \"Topic2\", \"Topic2\", \"Topic3\", \"Topic3\", \"Topic3\", \"Topic3\", \"Topic3\", \"Topic3\", \"Topic3\", \"Topic3\", \"Topic3\", \"Topic3\", \"Topic3\", \"Topic3\", \"Topic3\", \"Topic3\", \"Topic3\", \"Topic3\", \"Topic3\", \"Topic3\", \"Topic3\", \"Topic3\", \"Topic3\", \"Topic3\", \"Topic3\", \"Topic3\", \"Topic3\", \"Topic3\", \"Topic3\", \"Topic3\", \"Topic3\", \"Topic3\", \"Topic3\", \"Topic3\", \"Topic3\", \"Topic3\", \"Topic3\", \"Topic3\", \"Topic3\", \"Topic3\", \"Topic3\", \"Topic3\", \"Topic3\", \"Topic3\", \"Topic3\", \"Topic3\", \"Topic3\", \"Topic3\", \"Topic3\", \"Topic3\", \"Topic3\", \"Topic3\", \"Topic3\", \"Topic3\", \"Topic4\", \"Topic4\", \"Topic4\", \"Topic4\", \"Topic4\", \"Topic4\", \"Topic4\", \"Topic4\", \"Topic4\", \"Topic4\", \"Topic4\", \"Topic4\", \"Topic4\", \"Topic4\", \"Topic4\", \"Topic4\", \"Topic4\", \"Topic4\", \"Topic4\", \"Topic4\", \"Topic4\", \"Topic4\", \"Topic4\", \"Topic4\", \"Topic4\", \"Topic4\", \"Topic4\", \"Topic4\", \"Topic4\", \"Topic4\", \"Topic4\", \"Topic4\", \"Topic4\", \"Topic4\", \"Topic4\", \"Topic4\", \"Topic4\", \"Topic4\", \"Topic4\", \"Topic4\", \"Topic4\", \"Topic4\", \"Topic4\", \"Topic4\", \"Topic4\", \"Topic4\", \"Topic5\", \"Topic5\", \"Topic5\", \"Topic5\", \"Topic5\", \"Topic5\", \"Topic5\", \"Topic5\", \"Topic5\", \"Topic5\", \"Topic5\", \"Topic5\", \"Topic5\", \"Topic5\", \"Topic5\", \"Topic5\", \"Topic5\", \"Topic5\", \"Topic5\", \"Topic5\", \"Topic5\", \"Topic5\", \"Topic5\", \"Topic5\", \"Topic5\", \"Topic5\", \"Topic5\", \"Topic5\", \"Topic5\", \"Topic5\", \"Topic5\", \"Topic5\", \"Topic5\", \"Topic5\", \"Topic5\", \"Topic5\", \"Topic5\", \"Topic5\", \"Topic6\", \"Topic6\", \"Topic6\", \"Topic6\", \"Topic6\", \"Topic6\", \"Topic6\", \"Topic6\", \"Topic6\", \"Topic6\", \"Topic6\", \"Topic6\", \"Topic6\", \"Topic6\", \"Topic6\", \"Topic6\", \"Topic6\", \"Topic6\", \"Topic6\", \"Topic6\", \"Topic6\", \"Topic6\", \"Topic6\", \"Topic6\", \"Topic6\", \"Topic6\", \"Topic6\", \"Topic6\", \"Topic6\", \"Topic6\", \"Topic6\", \"Topic6\", \"Topic6\", \"Topic6\", \"Topic6\", \"Topic6\", \"Topic7\", \"Topic7\", \"Topic7\", \"Topic7\", \"Topic7\", \"Topic7\", \"Topic7\", \"Topic7\", \"Topic7\", \"Topic7\", \"Topic7\", \"Topic7\", \"Topic7\", \"Topic7\", \"Topic7\", \"Topic7\", \"Topic7\", \"Topic7\", \"Topic7\", \"Topic7\", \"Topic7\", \"Topic7\", \"Topic7\", \"Topic7\", \"Topic7\", \"Topic7\", \"Topic7\", \"Topic7\", \"Topic7\", \"Topic7\", \"Topic7\"], \"Freq\": [1309.0, 2159.0, 1233.0, 1039.0, 1048.0, 1723.0, 1976.0, 1667.0, 2234.0, 847.0, 1653.0, 1543.0, 1514.0, 717.0, 749.0, 733.0, 700.0, 2020.0, 654.0, 1068.0, 541.0, 1074.0, 536.0, 1113.0, 1060.0, 1029.0, 2009.0, 1010.0, 511.0, 482.0, 1664.315673828125, 1650.309326171875, 1511.6187744140625, 1540.0401611328125, 1007.9671630859375, 1026.77099609375, 1057.1448974609375, 1071.008056640625, 711.3399047851562, 611.9548950195312, 659.310302734375, 568.0515747070312, 565.7167358398438, 1062.9359130859375, 568.2814331054688, 565.9923706054688, 491.3842468261719, 654.2679443359375, 441.6449279785156, 414.8716735839844, 432.7235412597656, 437.0433044433594, 378.6628112792969, 1105.5732421875, 373.1670227050781, 371.06768798828125, 360.2075500488281, 471.64093017578125, 359.9350280761719, 337.66400146484375, 1041.080810546875, 479.4134521484375, 451.8113708496094, 431.5304870605469, 534.93115234375, 412.9282531738281, 466.6701354980469, 1374.96044921875, 1693.21630859375, 2603.8984375, 944.9285888671875, 686.5805053710938, 1092.336181640625, 629.4396362304688, 777.69384765625, 947.2153930664062, 1110.5802001953125, 676.8558959960938, 917.9052734375, 687.5460205078125, 738.4718017578125, 793.5634155273438, 669.126708984375, 631.9072265625, 698.0783081054688, 730.7074584960938, 499.2211608886719, 321.0066833496094, 330.0335998535156, 313.5254821777344, 292.3612365722656, 399.4196472167969, 245.09825134277344, 229.3414306640625, 741.057373046875, 226.4599609375, 207.03317260742188, 200.36447143554688, 221.0879669189453, 217.3208465576172, 184.4302520751953, 205.07244873046875, 197.8998260498047, 175.59593200683594, 170.2019805908203, 164.71165466308594, 201.78475952148438, 190.94879150390625, 139.36805725097656, 271.9555969238281, 122.92349243164062, 114.2333755493164, 113.70996856689453, 107.05075073242188, 114.98914337158203, 243.1058807373047, 425.4236145019531, 266.3602294921875, 1550.651611328125, 415.9391174316406, 1290.808837890625, 295.71075439453125, 345.1710205078125, 330.3301086425781, 829.2403564453125, 367.9728088378906, 376.558349609375, 312.0656433105469, 265.92718505859375, 671.0166015625, 615.5746459960938, 387.42144775390625, 382.7066345214844, 367.95245361328125, 643.0369262695312, 374.1764831542969, 383.948486328125, 367.17242431640625, 406.8157043457031, 328.2490234375, 319.2330017089844, 314.0260009765625, 1306.66455078125, 1231.295654296875, 1046.0474853515625, 844.8473510742188, 480.2797546386719, 713.4356689453125, 533.50048828125, 537.8268432617188, 415.58807373046875, 379.4255065917969, 409.02099609375, 348.14276123046875, 343.4488220214844, 273.6066589355469, 294.6620178222656, 300.21441650390625, 283.593994140625, 242.61253356933594, 211.36944580078125, 201.02517700195312, 169.47161865234375, 182.9349822998047, 429.3482666015625, 176.31639099121094, 174.4743194580078, 166.21218872070312, 160.41836547851562, 166.08177185058594, 207.52406311035156, 157.10585021972656, 160.580078125, 619.9248046875, 300.1432800292969, 448.6044616699219, 170.9761962890625, 1052.3836669921875, 392.13604736328125, 1063.7034912109375, 338.2406311035156, 422.6085205078125, 498.1603088378906, 409.8056640625, 759.7815551757812, 357.1995544433594, 458.4357604980469, 574.3356323242188, 379.1859436035156, 530.1511840820312, 426.31488037109375, 384.9272155761719, 361.9836730957031, 357.7322692871094, 133.50942993164062, 141.86306762695312, 93.42408752441406, 79.6039047241211, 51.474056243896484, 49.34820556640625, 51.67264175415039, 62.73141860961914, 42.803165435791016, 48.230411529541016, 41.71372985839844, 46.78786087036133, 40.996864318847656, 42.39903259277344, 54.020877838134766, 35.27011489868164, 36.88291931152344, 35.0042724609375, 34.28804397583008, 32.466434478759766, 35.51747512817383, 30.385351181030273, 38.76681137084961, 80.24095916748047, 30.019874572753906, 49.82788848876953, 26.966718673706055, 27.995729446411133, 27.80419921875, 25.671754837036133, 29.72724723815918, 43.443180084228516, 80.29328918457031, 71.56542205810547, 334.72222900390625, 88.98493194580078, 39.88442611694336, 48.56356430053711, 46.26678466796875, 61.60321807861328, 69.11123657226562, 53.72613525390625, 60.28270721435547, 54.414939880371094, 58.62135696411133, 44.50515365600586, 116.53724670410156, 74.23871612548828, 56.28511428833008, 53.51211166381836, 44.926231384277344, 44.387123107910156, 41.45706558227539, 36.485626220703125, 37.10009765625, 33.82488250732422, 32.634422302246094, 27.922040939331055, 54.21367263793945, 25.697416305541992, 29.076091766357422, 23.714401245117188, 26.258466720581055, 32.307472229003906, 21.069473266601562, 22.473939895629883, 26.692852020263672, 18.9501953125, 17.088783264160156, 19.5385684967041, 16.56853675842285, 17.513656616210938, 17.480712890625, 20.946922302246094, 15.75617790222168, 18.35719871520996, 20.4522647857666, 18.40347671508789, 29.506864547729492, 22.949411392211914, 20.519617080688477, 23.752033233642578, 26.906700134277344, 22.987945556640625, 84.54914093017578, 50.695465087890625, 54.612449645996094, 50.2246208190918, 31.408748626708984, 28.54684829711914, 23.12520408630371, 21.37371253967285, 22.342304229736328, 18.998146057128906, 19.455095291137695, 19.053081512451172, 18.68912124633789, 16.879249572753906, 17.754154205322266, 18.254173278808594, 15.251168251037598, 16.63652992248535, 15.762428283691406, 15.888626098632812, 16.71368408203125, 17.410808563232422, 13.747451782226562, 15.914655685424805, 13.811797142028809, 12.706716537475586, 12.785181999206543, 13.322531700134277, 12.940176010131836, 12.083870887756348, 13.7133150100708, 13.05666732788086, 12.933735847473145, 16.52952003479004, 13.801506042480469, 14.23655891418457, 73.09822845458984, 58.88719177246094, 36.610774993896484, 28.75424575805664, 24.838417053222656, 20.269006729125977, 14.698308944702148, 20.55794906616211, 18.47456932067871, 14.238157272338867, 15.49846076965332, 12.563887596130371, 12.716387748718262, 12.589427947998047, 11.352356910705566, 12.880226135253906, 12.667440414428711, 10.802567481994629, 11.34529972076416, 10.243534088134766, 11.202864646911621, 10.407174110412598, 9.712916374206543, 9.37327766418457, 9.343036651611328, 9.638867378234863, 8.815627098083496, 9.743250846862793, 10.7830171585083, 9.311084747314453, 10.42313003540039], \"Term\": [\"man\", \"world\", \"woman\", \"find\", \"child\", \"police\", \"china\", \"israel\", \"kill\", \"death\", \"israeli\", \"war\", \"iran\", \"drug\", \"bank\", \"japan\", \"oil\", \"year\", \"die\", \"president\", \"jail\", \"russian\", \"mexico\", \"protest\", \"gaza\", \"palestinian\", \"government\", \"military\", \"year_old\", \"girl\", \"israel\", \"israeli\", \"iran\", \"war\", \"military\", \"palestinian\", \"gaza\", \"russian\", \"iraq\", \"syria\", \"north_korea\", \"troop\", \"internet\", \"president\", \"army\", \"protester\", \"wikileak\", \"anti\", \"election\", \"vote\", \"border\", \"party\", \"syrian\", \"protest\", \"civilian\", \"parliament\", \"spy\", \"secret\", \"turkey\", \"nato\", \"state\", \"minister\", \"human_right\", \"weapon\", \"egypt\", \"georgia\", \"rule\", \"russia\", \"government\", \"say\", \"call\", \"leader\", \"attack\", \"afghanistan\", \"force\", \"country\", \"kill\", \"official\", \"new\", \"law\", \"report\", \"people\", \"police\", \"china\", \"oil\", \"japan\", \"water\", \"economy\", \"scientist\", \"tax\", \"greece\", \"food\", \"poor\", \"price\", \"bank\", \"earthquake\", \"debt\", \"fukushima\", \"dollar\", \"rich\", \"energy\", \"cost\", \"earth\", \"disaster\", \"rate\", \"low\", \"study\", \"haiti\", \"climate_change\", \"economic\", \"currency\", \"climate\", \"poverty\", \"bailout\", \"research\", \"population\", \"global\", \"sea\", \"world\", \"big\", \"china\", \"rise\", \"company\", \"crisis\", \"year\", \"europe\", \"pay\", \"large\", \"money\", \"new\", \"country\", \"could\", \"time\", \"india\", \"say\", \"first\", \"make\", \"may\", \"people\", \"go\", \"chinese\", \"government\", \"man\", \"woman\", \"child\", \"death\", \"girl\", \"drug\", \"mexico\", \"jail\", \"murder\", \"sentence\", \"prison\", \"sex\", \"victim\", \"rape\", \"beat\", \"young\", \"mexican\", \"boy\", \"doctor\", \"church\", \"rap\", \"hospital\", \"school\", \"convict\", \"female\", \"vatican\", \"daughter\", \"pope\", \"pirate\", \"wife\", \"mother\", \"die\", \"gay\", \"year_old\", \"baby\", \"police\", \"charge\", \"kill\", \"family\", \"muslim\", \"arrest\", \"video\", \"year\", \"dead\", \"get\", \"people\", \"court\", \"say\", \"attack\", \"find\", \"take\", \"ban\", \"zimbabwe\", \"pic\", \"mayor\", \"ancient\", \"elephant\", \"tiger\", \"whale\", \"usa\", \"poacher\", \"mafia\", \"beach\", \"outbreak\", \"mugabe\", \"diamond\", \"burma\", \"unearth\", \"endanger\", \"shark\", \"temple\", \"cave\", \"cat\", \"archaeologist\", \"museum\", \"gold\", \"beer\", \"slaughter\", \"zoo\", \"wash\", \"pyramid\", \"ivory\", \"display\", \"art\", \"animal\", \"hunt\", \"find\", \"discover\", \"tunnel\", \"wall\", \"park\", \"white\", \"dead\", \"human\", \"year_old\", \"city\", \"kill\", \"destroy\", \"university\", \"congo\", \"prize\", \"guy\", \"com\", \"cocaine\", \"nuke\", \"nobel_peace\", \"extradition\", \"google\", \"pot\", \"winner\", \"award\", \"ceremony\", \"looks_like\", \"nobel_prize\", \"david\", \"database\", \"suddenly\", \"rip\", \"sri_lankan\", \"translation\", \"nobel\", \"hat\", \"space_station\", \"richard\", \"reader\", \"hunger\", \"uruguay\", \"journalism\", \"george_bush\", \"drag\", \"mystery\", \"artist\", \"wwii\", \"marijuana\", \"student\", \"story\", \"olympic\", \"genocide\", \"georgian\", \"remember\", \"dalai_lama\", \"tibetan\", \"tibet\", \"interesting\", \"spray\", \"listen\", \"empire\", \"advance\", \"guess\", \"premier\", \"tomorrow\", \"aggression\", \"armenian\", \"medal\", \"rwanda\", \"doom\", \"insurgent\", \"belief\", \"concert\", \"clinton\", \"band\", \"hungarian\", \"tour\", \"fascist\", \"bosnia\", \"turk\", \"tahrir_square\", \"persecution\", \"child_pornography\", \"song\", \"writer\", \"ethnic\", \"ahmadinejad\", \"settler\", \"south_ossetia\", \"bonus\", \"vid\", \"romania\", \"khamenei\", \"lock\", \"foreign_policy\", \"bolivian\", \"confront\", \"big_picture\", \"ghost\", \"nsfw\", \"hebron\", \"tiananmen_square\", \"latin_american\", \"romanian\", \"opium\", \"abkhazia\", \"openly\", \"poster\", \"senator\", \"indict\", \"mccain\", \"worldnew\", \"falkland\", \"deserve\", \"lady\", \"kgb\", \"argentina\"], \"Total\": [1309.0, 2159.0, 1233.0, 1039.0, 1048.0, 1723.0, 1976.0, 1667.0, 2234.0, 847.0, 1653.0, 1543.0, 1514.0, 717.0, 749.0, 733.0, 700.0, 2020.0, 654.0, 1068.0, 541.0, 1074.0, 536.0, 1113.0, 1060.0, 1029.0, 2009.0, 1010.0, 511.0, 482.0, 1667.0550537109375, 1653.3375244140625, 1514.7208251953125, 1543.9163818359375, 1010.6410522460938, 1029.6060791015625, 1060.237548828125, 1074.7249755859375, 714.1831665039062, 614.4888305664062, 662.1256103515625, 570.6995849609375, 568.4993286132812, 1068.9473876953125, 571.5631103515625, 569.2970581054688, 494.25732421875, 658.207763671875, 444.3330993652344, 417.66510009765625, 435.6442565917969, 440.0887451171875, 381.3165588378906, 1113.4698486328125, 375.87890625, 373.7688293457031, 362.8674011230469, 475.16131591796875, 362.6241760253906, 340.19293212890625, 1052.841064453125, 483.3065185546875, 455.2263488769531, 434.88995361328125, 540.31982421875, 416.59576416015625, 473.2691955566406, 1531.425048828125, 2009.729736328125, 3778.618408203125, 1169.6297607421875, 800.5595703125, 1520.766845703125, 717.560791015625, 1023.914794921875, 1638.989013671875, 2234.706298828125, 901.9468994140625, 1797.3486328125, 952.188720703125, 1197.736572265625, 1776.198974609375, 1723.6243896484375, 1976.9534912109375, 700.6507568359375, 733.5278930664062, 502.042236328125, 323.5672302246094, 332.7857360839844, 316.2430419921875, 295.20703125, 403.6502685546875, 247.83692932128906, 231.96620178222656, 749.5811767578125, 229.103271484375, 209.53526306152344, 202.79835510253906, 223.8592529296875, 220.1976776123047, 186.8745880126953, 207.8142852783203, 200.5818634033203, 178.2473907470703, 172.83364868164062, 167.37229919433594, 205.32327270507812, 194.34312438964844, 141.9017333984375, 277.44525146484375, 125.46180725097656, 116.76412963867188, 116.33611297607422, 109.54985809326172, 117.74591064453125, 255.8388671875, 465.9132995605469, 287.9820556640625, 2159.38525390625, 508.9877624511719, 1976.9534912109375, 360.3648986816406, 451.0594787597656, 455.086181640625, 2020.4752197265625, 571.304931640625, 599.4898071289062, 435.01287841796875, 331.9159240722656, 1797.3486328125, 1638.989013671875, 825.9874877929688, 807.7717895507812, 768.4906616210938, 3778.618408203125, 856.0167236328125, 1102.2222900390625, 958.5698852539062, 1776.198974609375, 939.4256591796875, 820.3374633789062, 2009.729736328125, 1309.464599609375, 1233.9378662109375, 1048.8125, 847.7241821289062, 482.831298828125, 717.3502197265625, 536.6724853515625, 541.2990112304688, 418.30780029296875, 381.97259521484375, 411.77252197265625, 350.78045654296875, 346.29644775390625, 276.2401428222656, 297.5026550292969, 303.1631774902344, 286.42938232421875, 245.24562072753906, 214.08888244628906, 203.65676879882812, 172.0065460205078, 185.69183349609375, 435.8360290527344, 179.00933837890625, 177.17930603027344, 168.85841369628906, 162.9940643310547, 168.75233459472656, 211.07139587402344, 159.8081817626953, 163.3565673828125, 654.295166015625, 321.59112548828125, 511.0944519042969, 174.66078186035156, 1723.6243896484375, 519.0277709960938, 2234.706298828125, 456.8502502441406, 637.3003540039062, 863.5978393554688, 636.8773193359375, 2020.4752197265625, 543.9384765625, 1003.7715454101562, 1776.198974609375, 722.8306274414062, 3778.618408203125, 1520.766845703125, 1039.738525390625, 1146.6856689453125, 1012.7616577148438, 136.3786163330078, 145.0109100341797, 96.41679382324219, 82.2808837890625, 54.060882568359375, 51.977386474609375, 54.43196105957031, 66.35920715332031, 45.386871337890625, 51.176246643066406, 44.427764892578125, 49.83638000488281, 43.71955108642578, 45.25279235839844, 57.71084213256836, 37.862247467041016, 39.72764205932617, 37.7068977355957, 37.02199935913086, 35.16199493408203, 38.49497604370117, 32.93910217285156, 42.07502365112305, 87.66703033447266, 32.82691955566406, 54.564083099365234, 29.571598052978516, 30.82477569580078, 30.619508743286133, 28.28014373779297, 32.76195526123047, 49.89610290527344, 100.25642395019531, 99.0093765258789, 1039.738525390625, 168.1031951904297, 50.464908599853516, 69.40299987792969, 64.40412902832031, 123.84632110595703, 543.9384765625, 286.5408630371094, 511.0944519042969, 643.1004028320312, 2234.706298828125, 275.6308288574219, 119.44461059570312, 77.36284637451172, 59.032371520996094, 56.741817474365234, 47.86595916748047, 47.608917236328125, 44.487003326416016, 39.18885803222656, 40.08903503417969, 36.74603271484375, 35.53480911254883, 30.78871726989746, 60.182498931884766, 28.62340545654297, 32.44456100463867, 26.484792709350586, 29.34404754638672, 36.29069519042969, 24.044584274291992, 25.758106231689453, 30.67598533630371, 21.908845901489258, 19.806724548339844, 22.743459701538086, 19.39683723449707, 20.655033111572266, 20.62641143798828, 24.720932006835938, 18.60157585144043, 21.764171600341797, 24.400476455688477, 21.90407371520996, 46.262916564941406, 38.3751335144043, 31.79510498046875, 94.96089172363281, 341.6794128417969, 261.984619140625, 87.49735260009766, 53.63801956176758, 58.16196060180664, 54.032562255859375, 34.261024475097656, 31.582130432128906, 26.104860305786133, 24.531251907348633, 25.936403274536133, 22.15011978149414, 22.696895599365234, 22.27999496459961, 22.023563385009766, 19.926483154296875, 20.96026039123535, 21.590978622436523, 18.049911499023438, 19.854183197021484, 18.81435203552246, 19.07695770263672, 20.11928367614746, 20.965139389038086, 16.724178314208984, 19.46782875061035, 16.895553588867188, 15.622692108154297, 15.78405475616455, 16.47492790222168, 16.01750946044922, 15.022377014160156, 17.05506706237793, 16.300596237182617, 16.11634635925293, 25.486204147338867, 18.869962692260742, 53.97442626953125, 76.24494934082031, 62.183170318603516, 40.67893600463867, 32.00886154174805, 28.11795425415039, 23.366783142089844, 17.736064910888672, 24.947221755981445, 22.488201141357422, 17.341659545898438, 18.9263916015625, 15.689817428588867, 15.906583786010742, 15.825307846069336, 14.302558898925781, 16.254261016845703, 16.129287719726562, 13.848955154418945, 14.556649208068848, 13.163482666015625, 14.451165199279785, 13.462635040283203, 12.729331016540527, 12.344576835632324, 12.350754737854004, 12.762036323547363, 11.67835807800293, 12.957387924194336, 14.364700317382812, 12.469878196716309, 123.76008605957031], \"loglift\": [30.0, 29.0, 28.0, 27.0, 26.0, 25.0, 24.0, 23.0, 22.0, 21.0, 20.0, 19.0, 18.0, 17.0, 16.0, 15.0, 14.0, 13.0, 12.0, 11.0, 10.0, 9.0, 8.0, 7.0, 6.0, 5.0, 4.0, 3.0, 2.0, 1.0, 0.8129000067710876, 0.8126999735832214, 0.8125, 0.8119999766349792, 0.8119000196456909, 0.8118000030517578, 0.8116000294685364, 0.8111000061035156, 0.8105999827384949, 0.8104000091552734, 0.8102999925613403, 0.8098999857902527, 0.8095999956130981, 0.808899998664856, 0.8087999820709229, 0.8087000250816345, 0.8087000250816345, 0.8086000084877014, 0.8084999918937683, 0.8077999949455261, 0.8077999949455261, 0.8076000213623047, 0.8076000213623047, 0.8073999881744385, 0.8072999715805054, 0.8072999715805054, 0.807200014591217, 0.8070999979972839, 0.8070999979972839, 0.8070999979972839, 0.8033000230789185, 0.8065000176429749, 0.8069999814033508, 0.8068000078201294, 0.8044999837875366, 0.8057000041007996, 0.8004999756813049, 0.7067999839782715, 0.6431999802589417, 0.4422000050544739, 0.6011999845504761, 0.6610000133514404, 0.4837000072002411, 0.6834999918937683, 0.5394999980926514, 0.2662000060081482, 0.1152999997138977, 0.5274999737739563, 0.14259999990463257, 0.48890000581741333, 0.33090001344680786, 0.008899999782443047, -0.13169999420642853, -0.32600000500679016, 1.4586000442504883, 1.458400011062622, 1.4565999507904053, 1.454300045967102, 1.4538999795913696, 1.4536000490188599, 1.4526000022888184, 1.45169997215271, 1.4510999917984009, 1.4508999586105347, 1.4507999420166016, 1.450600028038025, 1.4501999616622925, 1.4501999616622925, 1.4498000144958496, 1.4491000175476074, 1.4491000175476074, 1.4490000009536743, 1.448799967765808, 1.4472999572753906, 1.4469000101089478, 1.4462000131607056, 1.4449000358581543, 1.444599986076355, 1.444200038909912, 1.4422999620437622, 1.4417999982833862, 1.4402999877929688, 1.4393999576568604, 1.4392000436782837, 1.438599944114685, 1.4112000465393066, 1.3712999820709229, 1.3841999769210815, 1.131100058555603, 1.2604000568389893, 1.0360000133514404, 1.2645000219345093, 1.194700002670288, 1.1418999433517456, 0.5716999769210815, 1.0223000049591064, 0.9972000122070312, 1.1301000118255615, 1.2405999898910522, 0.47699999809265137, 0.4830000102519989, 0.7052000164985657, 0.7152000069618225, 0.7257999777793884, -0.30869999527931213, 0.6347000002861023, 0.4077000021934509, 0.5026000142097473, -0.011599999852478504, 0.4106999933719635, 0.5184999704360962, -0.39399999380111694, 1.5254000425338745, 1.5254000425338745, 1.524899959564209, 1.5240999460220337, 1.5221999883651733, 1.5219999551773071, 1.5216000080108643, 1.5211000442504883, 1.5210000276565552, 1.520799994468689, 1.520799994468689, 1.5199999809265137, 1.5192999839782715, 1.517899990081787, 1.517899990081787, 1.517699956893921, 1.5176000595092773, 1.516700029373169, 1.5147000551223755, 1.5145000219345093, 1.5126999616622925, 1.5125999450683594, 1.5125000476837158, 1.5124000310897827, 1.5120999813079834, 1.5117000341415405, 1.5116000175476074, 1.5116000175476074, 1.510599970817566, 1.5104999542236328, 1.5104000568389893, 1.4735000133514404, 1.4585000276565552, 1.3970999717712402, 1.5061999559402466, 1.03410005569458, 1.2472000122070312, 0.7851999998092651, 1.2268999814987183, 1.1167000532150269, 0.9772999882698059, 1.0865999460220337, 0.5494999885559082, 1.1069999933242798, 0.7437999844551086, 0.398499995470047, 0.8823999762535095, -0.43639999628067017, 0.2556999921798706, 0.5338000059127808, 0.37450000643730164, 0.4869000017642975, 3.0248000621795654, 3.0241000652313232, 3.0144999027252197, 3.013000011444092, 2.996999979019165, 2.9941000938415527, 2.99399995803833, 2.989799976348877, 2.9874000549316406, 2.986799955368042, 2.9830000400543213, 2.9828999042510986, 2.9816999435424805, 2.9809000492095947, 2.9800000190734863, 2.975100040435791, 2.9716999530792236, 2.9716999530792236, 2.9693000316619873, 2.9663000106811523, 2.9655001163482666, 2.9653000831604004, 2.964200019836426, 2.9574999809265137, 2.956700086593628, 2.955199956893921, 2.9537999629974365, 2.9498000144958496, 2.9495999813079834, 2.9493000507354736, 2.9488000869750977, 2.907599925994873, 2.8239998817443848, 2.721400022506714, 1.912600040435791, 2.409899950027466, 2.810800075531006, 2.688999891281128, 2.7153000831604004, 2.3477001190185547, 0.9829000234603882, 1.3720999956130981, 0.9085000157356262, 0.5763999819755554, -0.5946999788284302, 1.222599983215332, 3.6256000995635986, 3.609100103378296, 3.60260009765625, 3.5917000770568848, 3.586899995803833, 3.580199956893921, 3.579699993133545, 3.5787999629974365, 3.5727999210357666, 3.5673999786376953, 3.5650999546051025, 3.552500009536743, 3.545799970626831, 3.5423998832702637, 3.5406999588012695, 3.539799928665161, 3.5392000675201416, 3.5339999198913574, 3.518199920654297, 3.5139000415802, 3.511199951171875, 3.505199909210205, 3.502700090408325, 3.4983999729156494, 3.4927000999450684, 3.485300064086914, 3.484800100326538, 3.484600067138672, 3.484299898147583, 3.4800000190734863, 3.47379994392395, 3.476099967956543, 3.2005999088287354, 3.136199951171875, 3.2123000621795654, 2.2644999027252197, 1.1088000535964966, 1.2170000076293945, 3.929500102996826, 3.907399892807007, 3.9007999897003174, 3.890700101852417, 3.8768999576568604, 3.862799882888794, 3.842600107192993, 3.8259999752044678, 3.8145999908447266, 3.81030011177063, 3.8097000122070312, 3.8073999881744385, 3.7995998859405518, 3.797800064086914, 3.797800064086914, 3.7959001064300537, 3.795300006866455, 3.7869999408721924, 3.786799907684326, 3.780900001525879, 3.77839994430542, 3.7780001163482666, 3.7678000926971436, 3.7623000144958496, 3.7623000144958496, 3.757200002670288, 3.7530999183654785, 3.7513999938964844, 3.750499963760376, 3.7460999488830566, 3.745699882507324, 3.7418999671936035, 3.743799924850464, 3.5308001041412354, 3.6510000228881836, 2.6310999393463135, 4.102399826049805, 4.090000152587891, 4.039100170135498, 4.037300109863281, 4.020500183105469, 4.002299785614014, 3.9565999507904053, 3.9509999752044678, 3.9479000568389893, 3.9472999572753906, 3.944700002670288, 3.922300100326538, 3.9207000732421875, 3.915800094604492, 3.9135000705718994, 3.911799907684326, 3.902899980545044, 3.8961000442504883, 3.8952999114990234, 3.893699884414673, 3.889899969100952, 3.8870999813079834, 3.8740999698638916, 3.8691999912261963, 3.8654000759124756, 3.863800048828125, 3.863300085067749, 3.8594000339508057, 3.8577001094818115, 3.852400064468384, 1.670199990272522], \"logprob\": [30.0, 29.0, 28.0, 27.0, 26.0, 25.0, 24.0, 23.0, 22.0, 21.0, 20.0, 19.0, 18.0, 17.0, 16.0, 15.0, 14.0, 13.0, 12.0, 11.0, 10.0, 9.0, 8.0, 7.0, 6.0, 5.0, 4.0, 3.0, 2.0, 1.0, -4.938300132751465, -4.946700096130371, -5.0345001220703125, -5.015900135040283, -5.439799785614014, -5.421299934387207, -5.392099857330322, -5.3790998458862305, -5.788300037384033, -5.938799858093262, -5.864299774169922, -6.013299942016602, -6.017399787902832, -5.38670015335083, -6.012800216674805, -6.016900062561035, -6.158199787139893, -5.8719000816345215, -6.264999866485596, -6.327499866485596, -6.285399913787842, -6.275400161743164, -6.418799877166748, -5.347300052642822, -6.4334001541137695, -6.4390997886657715, -6.468800067901611, -6.19920015335083, -6.4695000648498535, -6.533400058746338, -5.40749979019165, -6.1828999519348145, -6.242199897766113, -6.288099765777588, -6.073299884796143, -6.332200050354004, -6.209799766540527, -5.129300117492676, -4.92110013961792, -4.490699768066406, -5.50439977645874, -5.823699951171875, -5.359399795532227, -5.910600185394287, -5.699100017547607, -5.5019001960754395, -5.342800140380859, -5.8379998207092285, -5.533400058746338, -5.822299957275391, -5.750899791717529, -5.678899765014648, -5.8495001792907715, -5.906700134277344, -5.15939998626709, -5.113800048828125, -5.494699954986572, -5.936299800872803, -5.908599853515625, -5.95989990234375, -6.029799938201904, -5.717800140380859, -6.206099987030029, -6.272600173950195, -5.099699974060059, -6.285200119018555, -6.374899864196777, -6.407599925994873, -6.309199810028076, -6.326399803161621, -6.490499973297119, -6.384399890899658, -6.420000076293945, -6.539599895477295, -6.570799827575684, -6.603600025177002, -6.400599956512451, -6.4558000564575195, -6.770699977874756, -6.102099895477295, -6.896200180053711, -6.9695000648498535, -6.974100112915039, -7.0345001220703125, -6.962900161743164, -6.214300155639648, -5.654699802398682, -6.122900009155273, -4.361299991607666, -5.677199840545654, -4.5447998046875, -6.018400192260742, -5.863699913024902, -5.907700061798096, -4.987299919128418, -5.799799919128418, -5.776700019836426, -5.964600086212158, -6.124599933624268, -5.198999881744385, -5.285200119018555, -5.748300075531006, -5.760499954223633, -5.799799919128418, -5.241600036621094, -5.7829999923706055, -5.757299900054932, -5.8018999099731445, -5.699399948120117, -5.914000034332275, -5.94189977645874, -5.9583001136779785, -4.467299938201904, -4.526700019836426, -4.689700126647949, -4.90339994430542, -5.468100070953369, -5.072400093078613, -5.363100051879883, -5.355000019073486, -5.612800121307373, -5.70389986038208, -5.628699779510498, -5.789899826049805, -5.803500175476074, -6.030799865722656, -5.956699848175049, -5.938000202178955, -5.994999885559082, -6.151000022888184, -6.288899898529053, -6.339099884033203, -6.509799957275391, -6.4334001541137695, -5.5802001953125, -6.470200061798096, -6.4807000160217285, -6.529200077056885, -6.564700126647949, -6.53000020980835, -6.307300090789795, -6.585599899291992, -6.563700199127197, -5.212900161743164, -5.938300132751465, -5.536399841308594, -6.500999927520752, -4.683700084686279, -5.670899868011475, -4.672999858856201, -5.81879997253418, -5.596099853515625, -5.431600093841553, -5.626800060272217, -5.009500026702881, -5.764200210571289, -5.514699935913086, -5.289299964904785, -5.704500198364258, -5.36929988861084, -5.587299823760986, -5.689499855041504, -5.750899791717529, -5.762700080871582, -5.229800224304199, -5.169099807739258, -5.5868000984191895, -5.7469000816345215, -6.1828999519348145, -6.225100040435791, -6.178999900817871, -5.985099792480469, -6.367400169372559, -6.248000144958496, -6.393099784851074, -6.27839994430542, -6.4105000495910645, -6.376800060272217, -6.1346001625061035, -6.5609002113342285, -6.516200065612793, -6.56850004196167, -6.589200019836426, -6.643799781799316, -6.553899765014648, -6.710000038146973, -6.466400146484375, -5.738900184631348, -6.722099781036377, -6.215400218963623, -6.829400062561035, -6.791900157928467, -6.798799991607666, -6.878600120544434, -6.731900215148926, -6.352499961853027, -5.73829984664917, -5.853400230407715, -4.310699939727783, -5.635499954223633, -6.438000202178955, -6.241099834442139, -6.289599895477295, -6.003300189971924, -5.888299942016602, -6.140100002288818, -6.024899959564209, -6.127299785614014, -6.0528998374938965, -6.328400135040283, -4.761499881744385, -5.212500095367432, -5.489299774169922, -5.53980016708374, -5.714700222015381, -5.726799964904785, -5.795100212097168, -5.922800064086914, -5.906099796295166, -5.998499870300293, -6.03439998626709, -6.190299987792969, -5.526800155639648, -6.273399829864502, -6.149799823760986, -6.353700160980225, -6.251800060272217, -6.044400215148926, -6.47189998626709, -6.407400131225586, -6.235300064086914, -6.577899932861328, -6.681300163269043, -6.547399997711182, -6.712200164794922, -6.656799793243408, -6.658599853515625, -6.477799892425537, -6.762499809265137, -6.6097002029418945, -6.501699924468994, -6.6072001457214355, -6.1350998878479, -6.386499881744385, -6.4984002113342285, -6.352099895477295, -6.227399826049805, -6.384799957275391, -4.768899917602539, -5.280399799346924, -5.205900192260742, -5.289700031280518, -5.759099960327148, -5.854700088500977, -6.065299987792969, -6.144000053405762, -6.099699974060059, -6.261899948120117, -6.238100051879883, -6.258999824523926, -6.278299808502197, -6.380099773406982, -6.329599857330322, -6.301799774169922, -6.481599807739258, -6.394599914550781, -6.448599815368652, -6.4405999183654785, -6.389999866485596, -6.349100112915039, -6.585400104522705, -6.439000129699707, -6.580699920654297, -6.664100170135498, -6.657899856567383, -6.616799831390381, -6.645899772644043, -6.714300155639648, -6.587800025939941, -6.636899948120117, -6.646399974822998, -6.401100158691406, -6.581399917602539, -6.5503997802734375, -4.733699798583984, -4.949900150299072, -5.42519998550415, -5.6666998863220215, -5.8130998611450195, -6.01639986038208, -6.337800025939941, -6.002299785614014, -6.109099864959717, -6.36959981918335, -6.284800052642822, -6.494699954986572, -6.482600212097168, -6.492700099945068, -6.596099853515625, -6.469799995422363, -6.486499786376953, -6.645699977874756, -6.596700191497803, -6.69890022277832, -6.609300136566162, -6.683000087738037, -6.752099990844727, -6.787600040435791, -6.790900230407715, -6.759699821472168, -6.848999977111816, -6.748899936676025, -6.647500038146973, -6.794300079345703, -6.68149995803833]}, \"token.table\": {\"Topic\": [1, 2, 3, 7, 1, 2, 3, 4, 6, 1, 2, 3, 4, 1, 2, 3, 6, 1, 2, 3, 7, 1, 2, 3, 4, 1, 2, 3, 4, 1, 2, 3, 4, 1, 2, 3, 4, 1, 2, 3, 7, 1, 2, 3, 6, 1, 2, 3, 1, 2, 3, 4, 1, 2, 3, 4, 1, 2, 3, 4, 5, 6, 1, 2, 3, 4, 1, 2, 3, 5, 1, 2, 3, 4, 1, 2, 3, 1, 2, 3, 4, 1, 2, 3, 6, 1, 2, 3, 1, 2, 3, 4, 1, 2, 3, 1, 2, 3, 4, 1, 2, 3, 6, 1, 2, 3, 4, 1, 2, 3, 4, 7, 1, 2, 3, 7, 1, 2, 3, 7, 1, 2, 3, 4, 1, 2, 3, 6, 1, 2, 3, 1, 2, 3, 4, 1, 2, 3, 4, 1, 2, 3, 4, 1, 2, 3, 4, 1, 2, 3, 5, 1, 2, 3, 1, 2, 3, 1, 2, 3, 6, 1, 2, 3, 4, 1, 2, 3, 4, 1, 2, 3, 1, 2, 3, 4, 1, 2, 3, 1, 2, 3, 1, 2, 3, 1, 2, 3, 6, 1, 2, 3, 4, 5, 1, 2, 3, 5, 1, 2, 3, 1, 2, 3, 6, 1, 2, 3, 7, 1, 2, 3, 5, 1, 2, 3, 1, 2, 3, 1, 2, 3, 4, 1, 2, 3, 4, 1, 2, 3, 1, 2, 3, 4, 1, 2, 3, 1, 2, 3, 6, 1, 2, 3, 5, 1, 2, 3, 1, 2, 3, 5, 1, 2, 3, 4, 1, 2, 3, 1, 2, 3, 1, 2, 3, 7, 1, 2, 3, 4, 1, 2, 3, 4, 1, 2, 3, 4, 1, 2, 3, 1, 2, 3, 4, 1, 2, 3, 4, 1, 2, 3, 1, 2, 3, 4, 1, 2, 3, 4, 6, 1, 2, 3, 5, 1, 2, 3, 1, 2, 3, 4, 1, 2, 3, 1, 2, 3, 5, 1, 2, 3, 1, 2, 3, 4, 1, 2, 3, 1, 2, 3, 4, 1, 2, 3, 4, 6, 1, 2, 3, 4, 1, 2, 3, 1, 2, 3, 6, 1, 2, 3, 4, 1, 2, 3, 5, 1, 2, 3, 7, 1, 2, 3, 4, 1, 2, 3, 4, 6, 1, 2, 3, 1, 2, 3, 4, 1, 2, 3, 4, 1, 2, 3, 4, 1, 2, 3, 1, 2, 3, 7, 1, 2, 3, 1, 2, 3, 1, 2, 3, 4, 1, 2, 3, 6, 1, 2, 3, 5, 1, 2, 3, 6, 1, 2, 3, 6, 1, 2, 3, 4, 5, 1, 2, 3, 4, 7, 1, 2, 3, 1, 2, 3, 4, 1, 2, 3, 4, 1, 2, 3, 4, 6, 1, 2, 3, 5, 1, 2, 3, 1, 2, 3, 4, 1, 2, 3, 6, 1, 2, 3, 5, 1, 2, 3, 1, 2, 3, 5, 1, 2, 3, 7, 1, 2, 3, 1, 2, 3, 4, 1, 2, 3, 1, 2, 3, 6, 1, 2, 3, 4, 5, 1, 2, 3, 4, 1, 2, 3, 4, 1, 2, 3, 7, 1, 2, 3, 6, 1, 2, 3, 6, 1, 2, 3, 1, 2, 3, 1, 2, 3, 4, 1, 2, 3, 4, 1, 2, 3, 4, 1, 2, 3, 4, 1, 2, 3, 1, 2, 3, 1, 2, 3, 5, 1, 2, 3, 7, 1, 2, 3, 7, 1, 2, 3, 4, 1, 2, 3, 4, 7, 1, 2, 3, 4, 1, 2, 3, 7, 1, 2, 3, 1, 2, 3, 1, 2, 3, 6, 1, 2, 3, 7, 1, 2, 3, 4, 5, 1, 2, 3, 1, 2, 3, 4, 1, 2, 3, 4, 1, 2, 3, 4, 1, 2, 3, 5, 1, 2, 3, 4, 1, 2, 3, 4, 1, 2, 3, 7, 1, 2, 3, 5, 6, 1, 2, 3, 4, 1, 2, 3, 4, 1, 2, 3, 1, 2, 3, 4, 1, 2, 3, 1, 2, 3, 1, 2, 3, 4, 1, 2, 3, 4, 1, 2, 3, 4, 6, 1, 2, 3, 4, 1, 2, 3, 4, 5, 1, 2, 3, 1, 2, 3, 4, 1, 2, 3, 5, 1, 2, 3, 5, 1, 2, 3, 5, 1, 2, 3, 1, 2, 3, 7, 1, 2, 3, 5, 1, 2, 3, 4, 1, 2, 3, 1, 2, 3, 6, 1, 2, 3, 7, 1, 2, 3, 7, 1, 2, 3, 4, 1, 2, 3, 4, 1, 2, 3, 4, 1, 2, 3, 1, 2, 3, 4, 1, 2, 3, 1, 2, 3, 4, 1, 2, 3, 6, 1, 2, 3, 4, 1, 2, 3, 1, 2, 3, 4, 1, 2, 3, 4, 1, 2, 3, 1, 2, 3, 1, 2, 3, 4, 1, 2, 3, 7, 1, 2, 3, 4, 5, 1, 2, 3, 1, 2, 3, 6, 1, 2, 3, 7, 1, 2, 3, 1, 2, 3, 1, 2, 3, 5, 1, 2, 3, 1, 2, 3, 4, 1, 2, 3, 4, 1, 2, 3, 1, 2, 3, 1, 2, 3, 1, 2, 3, 5, 1, 2, 3, 6, 1, 2, 3, 4, 1, 2, 3, 1, 2, 3, 1, 2, 3, 4, 5, 1, 2, 3, 5, 1, 2, 3, 4, 1, 2, 3, 4, 7, 1, 2, 3, 7, 1, 2, 3, 4, 1, 2, 3, 4, 1, 2, 3, 4, 1, 2, 3, 6, 1, 2, 3, 4, 1, 2, 3, 1, 2, 3, 4, 1, 2, 3, 4, 1, 2, 3, 4, 1, 2, 3, 7, 1, 2, 3, 1, 2, 3, 4, 7, 1, 2, 3, 1, 2, 3, 4, 1, 2, 3, 4, 6, 1, 2, 3, 5, 6, 1, 2, 3, 7, 1, 2, 3, 5, 1, 2, 3, 4, 6, 1, 2, 3, 1, 2, 3, 5, 1, 2, 3, 4, 1, 2, 3, 4, 5, 1, 2, 3, 5, 1, 2, 3, 4, 1, 2, 3, 5, 1, 2, 3, 1, 2, 3, 1, 2, 3, 6, 1, 2, 3, 4, 1, 2, 3, 1, 2, 3, 4, 1, 2, 3, 7, 1, 2, 3, 4, 6, 1, 2, 3, 6, 1, 2, 3, 4, 1, 2, 3, 4, 1, 2, 3, 6, 1, 2, 3, 6, 1, 2, 3, 5, 1, 2, 3, 1, 2, 3, 4, 1, 2, 3, 6, 1, 2, 3, 4, 1, 2, 3, 4, 1, 2, 3, 5, 1, 2, 3, 5, 1, 2, 3, 4, 1, 2, 3, 1, 2, 3, 1, 2, 3, 7, 1, 2, 3, 4, 5, 1, 2, 3, 1, 2, 3, 4, 1, 2, 3, 4, 1, 2, 3, 4, 1, 2, 3, 4, 1, 2, 3, 4, 1, 2, 3, 4, 1, 2, 3, 4, 1, 2, 3, 1, 2, 3, 1, 2, 3, 5, 1, 2, 3, 1, 2, 3, 4, 1, 2, 3, 7, 1, 2, 3, 5, 6, 1, 2, 3, 4, 5, 1, 2, 3, 4, 1, 2, 3, 4, 1, 2, 3, 4, 1, 2, 3, 4, 1, 2, 3, 4], \"Freq\": [0.07596773654222488, 0.07596773654222488, 0.07596773654222488, 0.7596773505210876, 0.04488331452012062, 0.04488331452012062, 0.04488331452012062, 0.04488331452012062, 0.8527829647064209, 0.8765807747840881, 0.0013936101458966732, 0.11985047161579132, 0.0013936101458966732, 0.04631564021110535, 0.04631564021110535, 0.04631564021110535, 0.8336815237998962, 0.013115623034536839, 0.013115623034536839, 0.013115623034536839, 0.9574404954910278, 0.012153491377830505, 0.012153491377830505, 0.012153491377830505, 0.9722793102264404, 0.009974422864615917, 0.17953962087631226, 0.009974422864615917, 0.7979538440704346, 0.993607223033905, 0.0015192771097645164, 0.0030385542195290327, 0.0015192771097645164, 0.0303590539842844, 0.0303590539842844, 0.0303590539842844, 0.9107716083526611, 0.30704566836357117, 0.2828052341938019, 0.31512582302093506, 0.08080149441957474, 0.05540193244814873, 0.05540193244814873, 0.05540193244814873, 0.8310289978981018, 0.9937660098075867, 0.0017495880601927638, 0.0017495880601927638, 0.4203345477581024, 0.0011579464189708233, 0.5766572952270508, 0.0011579464189708233, 0.02004164457321167, 0.02004164457321167, 0.08016657829284668, 0.8617907762527466, 0.026058541610836983, 0.026058541610836983, 0.052117083221673965, 0.2605854272842407, 0.5993464589118958, 0.052117083221673965, 0.7180587649345398, 0.0006575629813596606, 0.2801218330860138, 0.0006575629813596606, 0.016616126522421837, 0.016616126522421837, 0.06646450608968735, 0.8972707986831665, 0.005725383758544922, 0.005725383758544922, 0.9790406227111816, 0.005725383758544922, 0.009128264151513577, 0.9767242074012756, 0.009128264151513577, 0.4601280093193054, 0.16390825808048248, 0.35348889231681824, 0.021722780540585518, 0.05918717011809349, 0.05918717011809349, 0.05918717011809349, 0.8286203742027283, 0.00800446979701519, 0.9885520339012146, 0.0013340783771127462, 0.022508447989821434, 0.022508447989821434, 0.022508447989821434, 0.9453547596931458, 0.003361314535140991, 0.003361314535140991, 0.9915878176689148, 0.030462803319096565, 0.030462803319096565, 0.030462803319096565, 0.9138841032981873, 0.04769822955131531, 0.04769822955131531, 0.04769822955131531, 0.8108698725700378, 0.17878621816635132, 0.8173084259033203, 0.0019646838773041964, 0.0019646838773041964, 0.06373560428619385, 0.06373560428619385, 0.06373560428619385, 0.06373560428619385, 0.82856285572052, 0.05766460672020912, 0.05766460672020912, 0.05766460672020912, 0.8073045015335083, 0.031241348013281822, 0.031241348013281822, 0.031241348013281822, 0.9059991240501404, 0.9939302206039429, 0.002295451005920768, 0.002295451005920768, 0.002295451005920768, 0.06243167817592621, 0.06243167817592621, 0.06243167817592621, 0.8116118311882019, 0.004077544901520014, 0.004077544901520014, 0.9908433556556702, 0.017327766865491867, 0.017327766865491867, 0.017327766865491867, 0.9356994032859802, 0.8079479932785034, 0.05215325579047203, 0.13936033844947815, 0.0008549714111723006, 0.025977415964007378, 0.025977415964007378, 0.025977415964007378, 0.9351869821548462, 0.028439797461032867, 0.028439797461032867, 0.028439797461032867, 0.9100735187530518, 0.03493644297122955, 0.03493644297122955, 0.03493644297122955, 0.9083475470542908, 0.24083489179611206, 0.0019266791641712189, 0.7552582621574402, 0.0009534592973068357, 0.0009534592973068357, 0.9973183870315552, 0.06204880401492119, 0.06204880401492119, 0.06204880401492119, 0.8066344261169434, 0.3196837902069092, 0.6530249714851379, 0.026808926835656166, 0.0005058288224972785, 0.3023146092891693, 0.3888643682003021, 0.2974385619163513, 0.010971094481647015, 0.004910222254693508, 0.004910222254693508, 0.9869546890258789, 0.39962655305862427, 0.2643444240093231, 0.2503497004508972, 0.08396822959184647, 0.9923408627510071, 0.0026604312006384134, 0.0026604312006384134, 0.008564273826777935, 0.9763272404670715, 0.008564273826777935, 0.007047130260616541, 0.9795511364936829, 0.007047130260616541, 0.05136679485440254, 0.05136679485440254, 0.05136679485440254, 0.8218687176704407, 0.021004468202590942, 0.021004468202590942, 0.021004468202590942, 0.021004468202590942, 0.9241966009140015, 0.020891673862934113, 0.020891673862934113, 0.020891673862934113, 0.9401252865791321, 0.22391726076602936, 0.7648658752441406, 0.006651007570326328, 0.05979366973042488, 0.05979366973042488, 0.05979366973042488, 0.8371113538742065, 0.05283627286553383, 0.05283627286553383, 0.05283627286553383, 0.7925441265106201, 0.012926101684570312, 0.012926101684570312, 0.012926101684570312, 0.9565315246582031, 0.005586300510913134, 0.005586300510913134, 0.9831889271736145, 0.004811988677829504, 0.9864577054977417, 0.004811988677829504, 0.4249458909034729, 0.4685300886631012, 0.10411780327558517, 0.0012106720823794603, 0.5777952075004578, 0.3758414387702942, 0.04575991630554199, 0.0006101322360336781, 0.4731398820877075, 0.0013834499986842275, 0.5243275165557861, 0.2702784836292267, 0.7251373529434204, 0.002197385998442769, 0.002197385998442769, 0.007970552891492844, 0.9803780317306519, 0.007970552891492844, 0.029187684878706932, 0.029187684878706932, 0.029187684878706932, 0.9048182368278503, 0.055110543966293335, 0.027555271983146667, 0.027555271983146667, 0.8817687034606934, 0.006135192699730396, 0.006135192699730396, 0.9816308617591858, 0.034078460186719894, 0.034078460186719894, 0.034078460186719894, 0.8860400319099426, 0.1820058822631836, 0.03309197723865509, 0.6563242077827454, 0.1268525868654251, 0.0011796290054917336, 0.0011796290054917336, 0.9967864751815796, 0.004772466607391834, 0.9879005551338196, 0.004772466607391834, 0.0771760493516922, 0.0771760493516922, 0.0771760493516922, 0.7717604637145996, 0.5296940207481384, 0.22856660187244415, 0.07618886232376099, 0.16326186060905457, 0.022098083049058914, 0.022098083049058914, 0.022098083049058914, 0.9281195402145386, 0.0015283621614798903, 0.012226897291839123, 0.9475845694541931, 0.03820905461907387, 0.005610180087387562, 0.9873917102813721, 0.005610180087387562, 0.005948727019131184, 0.45805197954177856, 0.005948727019131184, 0.5294367074966431, 0.030523208901286125, 0.030523208901286125, 0.030523208901286125, 0.9156962633132935, 0.00467095710337162, 0.00467095710337162, 0.9855719804763794, 0.004467092454433441, 0.9872274398803711, 0.004467092454433441, 0.004467092454433441, 0.052419260144233704, 0.052419260144233704, 0.052419260144233704, 0.052419260144233704, 0.8387081623077393, 0.045653607696294785, 0.045653607696294785, 0.045653607696294785, 0.8217649459838867, 0.001394019229337573, 0.001394019229337573, 0.9939357042312622, 0.00498549547046423, 0.9871281385421753, 0.00498549547046423, 0.00498549547046423, 0.00436484394595027, 0.9864547252655029, 0.00436484394595027, 0.010812943801283836, 0.9803736209869385, 0.0036043147556483746, 0.0036043147556483746, 0.003090547863394022, 0.9920658469200134, 0.003090547863394022, 0.9901543259620667, 0.0018507556524127722, 0.0018507556524127722, 0.00555226719006896, 0.9947491884231567, 0.002250563818961382, 0.002250563818961382, 0.018497662618756294, 0.018497662618756294, 0.018497662618756294, 0.9433808326721191, 0.04405888915061951, 0.04405888915061951, 0.04405888915061951, 0.04405888915061951, 0.8371188640594482, 0.025171389803290367, 0.025171389803290367, 0.025171389803290367, 0.9313414692878723, 0.005351182539016008, 0.9846175312995911, 0.005351182539016008, 0.6855098605155945, 0.01852729357779026, 0.01852729357779026, 0.25938209891319275, 0.35182613134384155, 0.6441393494606018, 0.0017503787530586123, 0.0017503787530586123, 0.024944476783275604, 0.024944476783275604, 0.024944476783275604, 0.9229456186294556, 0.08562847226858139, 0.08562847226858139, 0.08562847226858139, 0.7706562876701355, 0.13571186363697052, 0.12038955837488174, 0.7398485541343689, 0.002188900951296091, 0.06069829314947128, 0.06069829314947128, 0.06069829314947128, 0.06069829314947128, 0.7890778183937073, 0.005644000135362148, 0.005644000135362148, 0.9820560216903687, 0.05578325688838959, 0.25102466344833374, 0.37028539180755615, 0.3221963942050934, 0.3656470477581024, 0.4369073510169983, 0.195089653134346, 0.001168201444670558, 0.0024773920886218548, 0.9884794354438782, 0.0049547841772437096, 0.0024773920886218548, 0.7598288655281067, 0.00683650653809309, 0.23146456480026245, 0.08893552422523499, 0.04446776211261749, 0.04446776211261749, 0.8004197478294373, 0.004931006580591202, 0.986201286315918, 0.004931006580591202, 0.05908123403787613, 0.003109538462013006, 0.9328615665435791, 0.996946394443512, 0.0009431848302483559, 0.0009431848302483559, 0.0009431848302483559, 0.018643492832779884, 0.018643492832779884, 0.018643492832779884, 0.9508181214332581, 0.0819656103849411, 0.04098280519247055, 0.04098280519247055, 0.8196561336517334, 0.9913687109947205, 0.002400408498942852, 0.002400408498942852, 0.002400408498942852, 0.017193367704749107, 0.017193367704749107, 0.017193367704749107, 0.9456352591514587, 0.29488781094551086, 0.24706816673278809, 0.45627912878990173, 0.0009962426265701652, 0.0009962426265701652, 0.06286705285310745, 0.06286705285310745, 0.06286705285310745, 0.06286705285310745, 0.8172716498374939, 0.002071116818115115, 0.002071116818115115, 0.9941360354423523, 0.08156023919582367, 0.912186861038208, 0.0021463220473378897, 0.0021463220473378897, 0.3566008508205414, 0.3491494953632355, 0.2863451838493347, 0.007451361510902643, 0.011406796984374523, 0.011406796984374523, 0.011406796984374523, 0.9125437140464783, 0.05703398212790489, 0.027213823050260544, 0.027213823050260544, 0.027213823050260544, 0.9252699613571167, 0.8424018025398254, 0.15623991191387177, 0.0004975793417543173, 0.003387453267350793, 0.9891363382339478, 0.003387453267350793, 0.003387453267350793, 0.04540591314435005, 0.04540591314435005, 0.04540591314435005, 0.8627123236656189, 0.01762368716299534, 0.01762368716299534, 0.01762368716299534, 0.9516790509223938, 0.005145538132637739, 0.9827978014945984, 0.005145538132637739, 0.04396868497133255, 0.04396868497133255, 0.04396868497133255, 0.8793736696243286, 0.06991755962371826, 0.06991755962371826, 0.06991755962371826, 0.7690931558609009, 0.005385266616940498, 0.005385266616940498, 0.9855037331581116, 0.0034899036400020123, 0.8026778101921082, 0.0034899036400020123, 0.1884547919034958, 0.9929126501083374, 0.002196709392592311, 0.002196709392592311, 0.06400945782661438, 0.06400945782661438, 0.06400945782661438, 0.8321229219436646, 0.040451548993587494, 0.08090309798717499, 0.040451548993587494, 0.040451548993587494, 0.849482536315918, 0.010100053623318672, 0.010100053623318672, 0.25250133872032166, 0.7272038459777832, 0.12882395088672638, 0.4788607358932495, 0.36304929852485657, 0.028627542778849602, 0.08100723475217819, 0.08100723475217819, 0.08100723475217819, 0.7290650606155396, 0.049703557044267654, 0.049703557044267654, 0.049703557044267654, 0.8449605107307434, 0.040764328092336655, 0.040764328092336655, 0.040764328092336655, 0.8560509085655212, 0.995603621006012, 0.0017590170027688146, 0.0017590170027688146, 0.9982037544250488, 0.0006601876812055707, 0.0006601876812055707, 0.9955429434776306, 0.0014002009993419051, 0.0014002009993419051, 0.0014002009993419051, 0.9981673955917358, 0.0005998602136969566, 0.0005998602136969566, 0.0005998602136969566, 0.9979813694953918, 0.0006048372015357018, 0.0006048372015357018, 0.0006048372015357018, 0.03536050021648407, 0.03536050021648407, 0.03536050021648407, 0.9193729758262634, 0.0018474077805876732, 0.0018474077805876732, 0.9939053654670715, 0.0013632746413350105, 0.9965537786483765, 0.0013632746413350105, 0.04594707489013672, 0.04594707489013672, 0.04594707489013672, 0.8270473480224609, 0.08019324392080307, 0.08019324392080307, 0.08019324392080307, 0.7217392325401306, 0.05638229101896286, 0.05638229101896286, 0.05638229101896286, 0.8457344174385071, 0.4971570670604706, 0.00044748609070666134, 0.47612521052360535, 0.02640167996287346, 0.06961509585380554, 0.06961509585380554, 0.06961509585380554, 0.06961509585380554, 0.7657660841941833, 0.2321770340204239, 0.71722012758255, 0.002298782579600811, 0.04597565159201622, 0.06199901923537254, 0.06199901923537254, 0.06199901923537254, 0.8059872388839722, 0.722545862197876, 0.0010502119548618793, 0.27515554428100586, 0.8581497669219971, 0.0012491262750700116, 0.13990214467048645, 0.045146483927965164, 0.045146483927965164, 0.045146483927965164, 0.8577831983566284, 0.04008462280035019, 0.04008462280035019, 0.08016924560070038, 0.8417770862579346, 0.03082180768251419, 0.03082180768251419, 0.03082180768251419, 0.03082180768251419, 0.8938323855400085, 0.005974704399704933, 0.9858261942863464, 0.005974704399704933, 0.019540315493941307, 0.019540315493941307, 0.019540315493941307, 0.9379351139068604, 0.39102819561958313, 0.34838706254959106, 0.25221773982048035, 0.007258064113557339, 0.0007636708905920386, 0.0007636708905920386, 0.9981178641319275, 0.0007636708905920386, 0.010530650615692139, 0.010530650615692139, 0.7266148924827576, 0.25273561477661133, 0.5226535797119141, 0.38286203145980835, 0.0918034240603447, 0.0010432207491248846, 0.010371637530624866, 0.010371637530624866, 0.010371637530624866, 0.9645622372627258, 0.08096671104431152, 0.08096671104431152, 0.08096671104431152, 0.7287003993988037, 0.050367217510938644, 0.050367217510938644, 0.050367217510938644, 0.050367217510938644, 0.8562427163124084, 0.003491261973977089, 0.003491261973977089, 0.9915183782577515, 0.003491261973977089, 0.0018633338622748852, 0.0018633338622748852, 0.9950202703475952, 0.0018633338622748852, 0.9973867535591125, 0.000989470980130136, 0.000989470980130136, 0.9910894632339478, 0.0020690802484750748, 0.0020690802484750748, 0.0020690802484750748, 0.003012811066582799, 0.8014077544212341, 0.19281990826129913, 0.00612157816067338, 0.00612157816067338, 0.9855740666389465, 0.022873062640428543, 0.022873062640428543, 0.022873062640428543, 0.9377955198287964, 0.002390584209933877, 0.002390584209933877, 0.9944829940795898, 0.002390584209933877, 0.02376706898212433, 0.02376706898212433, 0.02376706898212433, 0.92691570520401, 0.02376706898212433, 0.33422231674194336, 0.0015691188164055347, 0.6637372970581055, 0.0015691188164055347, 0.021615585312247276, 0.021615585312247276, 0.021615585312247276, 0.3026181757450104, 0.6484675407409668, 0.993553876876831, 0.002939508529379964, 0.002939508529379964, 0.5107523202896118, 0.37332767248153687, 0.10181663930416107, 0.013909377157688141, 0.05048790201544762, 0.05048790201544762, 0.05048790201544762, 0.8582943677902222, 0.025517456233501434, 0.025517456233501434, 0.025517456233501434, 0.918628454208374, 0.0377575159072876, 0.0377575159072876, 0.0377575159072876, 0.9061803817749023, 0.9952794313430786, 0.0015102874021977186, 0.0015102874021977186, 0.06318992376327515, 0.06318992376327515, 0.06318992376327515, 0.8214690089225769, 0.02247847430408001, 0.02247847430408001, 0.02247847430408001, 0.9216175079345703, 0.7505984902381897, 0.0842621698975563, 0.16298076510429382, 0.001108712749555707, 0.0014272446278482676, 0.9962167143821716, 0.0014272446278482676, 0.011428916826844215, 0.011428916826844215, 0.011428916826844215, 0.9714579582214355, 0.06919857114553452, 0.06919857114553452, 0.06919857114553452, 0.7611842751502991, 0.06869712471961975, 0.06869712471961975, 0.06869712471961975, 0.7556684017181396, 0.020065663382411003, 0.020065663382411003, 0.020065663382411003, 0.9430861473083496, 0.9974688291549683, 0.0009712452301755548, 0.0009712452301755548, 0.0009712452301755548, 0.2484312802553177, 0.015526955015957355, 0.015526955015957355, 0.7142398953437805, 0.9925921559333801, 0.0026754504069685936, 0.0026754504069685936, 0.9929815530776978, 0.0022722689900547266, 0.0022722689900547266, 0.0022722689900547266, 0.07673191279172897, 0.6288681030273438, 0.2919148802757263, 0.4470219910144806, 0.2291409969329834, 0.3231619894504547, 0.0005629999795928597, 0.06134745106101036, 0.06134745106101036, 0.06134745106101036, 0.7975168228149414, 0.006896032951772213, 0.006896032951772213, 0.006896032951772213, 0.9792366623878479, 0.004737733397632837, 0.004737733397632837, 0.9854485392570496, 0.022032802924513817, 0.022032802924513817, 0.022032802924513817, 0.947410523891449, 0.3881356120109558, 0.0005801728111691773, 0.6103417873382568, 0.0005801728111691773, 0.004034911282360554, 0.9885532259941101, 0.004034911282360554, 0.005925843957811594, 0.005925843957811594, 0.983690083026886, 0.042995814234018326, 0.9498165845870972, 0.003908710088580847, 0.003908710088580847, 0.07427966594696045, 0.07427966594696045, 0.07427966594696045, 0.7427966594696045, 0.02814142033457756, 0.02814142033457756, 0.02814142033457756, 0.02814142033457756, 0.928666889667511, 0.0085957832634449, 0.9799192547798157, 0.0085957832634449, 0.0501844696700573, 0.0501844696700573, 0.0501844696700573, 0.8531360030174255, 0.9944362044334412, 0.0009354997309856117, 0.0009354997309856117, 0.002806499134749174, 0.004310972988605499, 0.9872127771377563, 0.004310972988605499, 0.002428525360301137, 0.002428525360301137, 0.9932668805122375, 0.016939857974648476, 0.016939857974648476, 0.016939857974648476, 0.9486320614814758, 0.9932913780212402, 0.0008980934508144855, 0.005388560704886913, 0.994208574295044, 0.0017565522575750947, 0.0017565522575750947, 0.0017565522575750947, 0.03265891596674919, 0.03265891596674919, 0.03265891596674919, 0.9144496917724609, 0.005813732277601957, 0.005813732277601957, 0.9825207591056824, 0.003620038740336895, 0.003620038740336895, 0.9918906092643738, 0.005785910412669182, 0.9836047887802124, 0.005785910412669182, 0.0484815314412117, 0.0484815314412117, 0.0484815314412117, 0.8241860270500183, 0.01850735768675804, 0.01850735768675804, 0.01850735768675804, 0.9253679513931274, 0.6161621809005737, 0.22709500789642334, 0.15445800125598907, 0.0008349081035703421, 0.008492863737046719, 0.9766793251037598, 0.008492863737046719, 0.004541373811662197, 0.9854781627655029, 0.004541373811662197, 0.04841434955596924, 0.04841434955596924, 0.04841434955596924, 0.04841434955596924, 0.8714582920074463, 0.038822729140520096, 0.038822729140520096, 0.038822729140520096, 0.8541000485420227, 0.17204783856868744, 0.8213896751403809, 0.0027749650180339813, 0.0027749650180339813, 0.04279579222202301, 0.04279579222202301, 0.04279579222202301, 0.04279579222202301, 0.8559158444404602, 0.07220761477947235, 0.07220761477947235, 0.07220761477947235, 0.7942837476730347, 0.9867534041404724, 0.004225924611091614, 0.006338886916637421, 0.002112962305545807, 0.8978565335273743, 0.10055993497371674, 0.000652986578643322, 0.000652986578643322, 0.996533989906311, 0.0009304705890826881, 0.0009304705890826881, 0.0009304705890826881, 0.05315091460943222, 0.05315091460943222, 0.05315091460943222, 0.8504146337509155, 0.689140796661377, 0.17016801238059998, 0.1402629017829895, 0.00026464698021300137, 0.00917776394635439, 0.0022944409865885973, 0.9843151569366455, 0.0030049365013837814, 0.9916290640830994, 0.0030049365013837814, 0.0030049365013837814, 0.003472438547760248, 0.9236686825752258, 0.003472438547760248, 0.0659763365983963, 0.9933468699455261, 0.002104548504576087, 0.002104548504576087, 0.002104548504576087, 0.07855872064828873, 0.07855872064828873, 0.07855872064828873, 0.7855872511863708, 0.002617988968268037, 0.002617988968268037, 0.9922177791595459, 0.016081521287560463, 0.016081521287560463, 0.016081521287560463, 0.016081521287560463, 0.948809802532196, 0.0028507858514785767, 0.0028507858514785767, 0.9920735359191895, 0.026520347222685814, 0.026520347222685814, 0.026520347222685814, 0.9282121062278748, 0.018327074125409126, 0.018327074125409126, 0.018327074125409126, 0.916353702545166, 0.03665414825081825, 0.03923691436648369, 0.03923691436648369, 0.03923691436648369, 0.23542147874832153, 0.6670275330543518, 0.04916549474000931, 0.024582747370004654, 0.024582747370004654, 0.9095616340637207, 0.05155479535460472, 0.05155479535460472, 0.05155479535460472, 0.8764315247535706, 0.038555845618247986, 0.038555845618247986, 0.038555845618247986, 0.038555845618247986, 0.8482286334037781, 0.9920979142189026, 0.0027558275032788515, 0.0027558275032788515, 0.06519757956266403, 0.032598789781332016, 0.032598789781332016, 0.8801673054695129, 0.9887531995773315, 0.006648676935583353, 0.002849432872608304, 0.0009498109575361013, 0.3549826741218567, 0.003817017888650298, 0.5496506094932556, 0.003817017888650298, 0.08779141306877136, 0.31023234128952026, 0.0029267200734466314, 0.6058310866355896, 0.07902143895626068, 0.004870368633419275, 0.9838144183158875, 0.00974073726683855, 0.004870368633419275, 0.04158940538764, 0.04158940538764, 0.04158940538764, 0.8733775615692139, 0.9959497451782227, 0.0016273688524961472, 0.0016273688524961472, 0.9939248561859131, 0.002622493077069521, 0.002622493077069521, 0.05863359943032265, 0.05863359943032265, 0.05863359943032265, 0.8208703994750977, 0.5092939138412476, 0.17354363203048706, 0.3156924545764923, 0.0008720785845071077, 0.0031621248926967382, 0.9929072260856628, 0.0031621248926967382, 0.0270109660923481, 0.0270109660923481, 0.0270109660923481, 0.9183728694915771, 0.06152233108878136, 0.06152233108878136, 0.06152233108878136, 0.7997902631759644, 0.03830704092979431, 0.03830704092979431, 0.03830704092979431, 0.03830704092979431, 0.8810619711875916, 0.031663473695516586, 0.031663473695516586, 0.031663473695516586, 0.9182407855987549, 0.019239135086536407, 0.019239135086536407, 0.019239135086536407, 0.9427176713943481, 0.3255870044231415, 0.4741438031196594, 0.19807574152946472, 0.0012379734544083476, 0.047709330916404724, 0.047709330916404724, 0.047709330916404724, 0.8587679862976074, 0.06335507333278656, 0.06335507333278656, 0.06335507333278656, 0.8236159682273865, 0.04564366489648819, 0.04564366489648819, 0.04564366489648819, 0.8672296404838562, 0.9952697157859802, 0.0017522353446111083, 0.0017522353446111083, 0.019815750420093536, 0.1585260033607483, 0.019815750420093536, 0.7926300168037415, 0.06656736135482788, 0.06656736135482788, 0.06656736135482788, 0.7988083362579346, 0.9927634000778198, 0.0027576759457588196, 0.0027576759457588196, 0.0027576759457588196, 0.02641153335571289, 0.02641153335571289, 0.02641153335571289, 0.9244036674499512, 0.008372081443667412, 0.008372081443667412, 0.008372081443667412, 0.9795334935188293, 0.0537588857114315, 0.0537588857114315, 0.0537588857114315, 0.860142171382904, 0.015069498680531979, 0.015069498680531979, 0.015069498680531979, 0.9493784308433533, 0.005922121461480856, 0.005922121461480856, 0.9830721020698547, 0.0028876992873847485, 0.0028876992873847485, 0.9904808402061462, 0.03556446358561516, 0.03556446358561516, 0.03556446358561516, 0.8891116380691528, 0.3517161011695862, 0.0015701610827818513, 0.6437660455703735, 0.0015701610827818513, 0.0015701610827818513, 0.9936190247535706, 0.0023942627012729645, 0.0023942627012729645, 0.014408598653972149, 0.25935477018356323, 0.014408598653972149, 0.7060213685035706, 0.9974633455276489, 0.000647703476715833, 0.000647703476715833, 0.000647703476715833, 0.03244143724441528, 0.03244143724441528, 0.03244143724441528, 0.9083602428436279, 0.0019918642938137054, 0.9939402937889099, 0.0019918642938137054, 0.0019918642938137054, 0.9933547377586365, 0.0022994321770966053, 0.0022994321770966053, 0.0022994321770966053, 0.01837155967950821, 0.01837155967950821, 0.01837155967950821, 0.9553210735321045, 0.12111784517765045, 0.008074522949755192, 0.36335355043411255, 0.500620424747467, 0.006257501896470785, 0.006257501896470785, 0.9824277758598328, 0.9934096336364746, 0.0020232375245541334, 0.0020232375245541334, 0.032479431480169296, 0.032479431480169296, 0.032479431480169296, 0.9094240665435791, 0.0008104135631583631, 0.0008104135631583631, 0.997619092464447, 0.28063541650772095, 0.7182599902153015, 0.0004630947660189122, 0.0004630947660189122, 0.07835739850997925, 0.07835739850997925, 0.07835739850997925, 0.7835739850997925, 0.052994273602962494, 0.052994273602962494, 0.052994273602962494, 0.10598854720592499, 0.7419198751449585, 0.031451381742954254, 0.031451381742954254, 0.15725691616535187, 0.12580552697181702, 0.6604790091514587, 0.2123262882232666, 0.41029950976371765, 0.37614911794662476, 0.0009898660937324166, 0.0019565855618566275, 0.0019565855618566275, 0.8785068988800049, 0.11739513278007507, 0.0032985536381602287, 0.0032985536381602287, 0.9895660877227783, 0.0032985536381602287, 0.007332528010010719, 0.007332528010010719, 0.007332528010010719, 0.9825587272644043, 0.03381622955203056, 0.03381622955203056, 0.03381622955203056, 0.9130382537841797], \"Term\": [\"abkhazia\", \"abkhazia\", \"abkhazia\", \"abkhazia\", \"advance\", \"advance\", \"advance\", \"advance\", \"advance\", \"afghanistan\", \"afghanistan\", \"afghanistan\", \"afghanistan\", \"aggression\", \"aggression\", \"aggression\", \"aggression\", \"ahmadinejad\", \"ahmadinejad\", \"ahmadinejad\", \"ahmadinejad\", \"ancient\", \"ancient\", \"ancient\", \"ancient\", \"animal\", \"animal\", \"animal\", \"animal\", \"anti\", \"anti\", \"anti\", \"anti\", \"archaeologist\", \"archaeologist\", \"archaeologist\", \"archaeologist\", \"argentina\", \"argentina\", \"argentina\", \"argentina\", \"armenian\", \"armenian\", \"armenian\", \"armenian\", \"army\", \"army\", \"army\", \"arrest\", \"arrest\", \"arrest\", \"arrest\", \"art\", \"art\", \"art\", \"art\", \"artist\", \"artist\", \"artist\", \"artist\", \"artist\", \"artist\", \"attack\", \"attack\", \"attack\", \"attack\", \"award\", \"award\", \"award\", \"award\", \"baby\", \"baby\", \"baby\", \"baby\", \"bailout\", \"bailout\", \"bailout\", \"ban\", \"ban\", \"ban\", \"ban\", \"band\", \"band\", \"band\", \"band\", \"bank\", \"bank\", \"bank\", \"beach\", \"beach\", \"beach\", \"beach\", \"beat\", \"beat\", \"beat\", \"beer\", \"beer\", \"beer\", \"beer\", \"belief\", \"belief\", \"belief\", \"belief\", \"big\", \"big\", \"big\", \"big\", \"big_picture\", \"big_picture\", \"big_picture\", \"big_picture\", \"big_picture\", \"bolivian\", \"bolivian\", \"bolivian\", \"bolivian\", \"bonus\", \"bonus\", \"bonus\", \"bonus\", \"border\", \"border\", \"border\", \"border\", \"bosnia\", \"bosnia\", \"bosnia\", \"bosnia\", \"boy\", \"boy\", \"boy\", \"burma\", \"burma\", \"burma\", \"burma\", \"call\", \"call\", \"call\", \"call\", \"cat\", \"cat\", \"cat\", \"cat\", \"cave\", \"cave\", \"cave\", \"cave\", \"ceremony\", \"ceremony\", \"ceremony\", \"ceremony\", \"charge\", \"charge\", \"charge\", \"child\", \"child\", \"child\", \"child_pornography\", \"child_pornography\", \"child_pornography\", \"child_pornography\", \"china\", \"china\", \"china\", \"china\", \"chinese\", \"chinese\", \"chinese\", \"chinese\", \"church\", \"church\", \"church\", \"city\", \"city\", \"city\", \"city\", \"civilian\", \"civilian\", \"civilian\", \"climate\", \"climate\", \"climate\", \"climate_change\", \"climate_change\", \"climate_change\", \"clinton\", \"clinton\", \"clinton\", \"clinton\", \"cocaine\", \"cocaine\", \"cocaine\", \"cocaine\", \"cocaine\", \"com\", \"com\", \"com\", \"com\", \"company\", \"company\", \"company\", \"concert\", \"concert\", \"concert\", \"concert\", \"confront\", \"confront\", \"confront\", \"confront\", \"congo\", \"congo\", \"congo\", \"congo\", \"convict\", \"convict\", \"convict\", \"cost\", \"cost\", \"cost\", \"could\", \"could\", \"could\", \"could\", \"country\", \"country\", \"country\", \"country\", \"court\", \"court\", \"court\", \"crisis\", \"crisis\", \"crisis\", \"crisis\", \"currency\", \"currency\", \"currency\", \"dalai_lama\", \"dalai_lama\", \"dalai_lama\", \"dalai_lama\", \"database\", \"database\", \"database\", \"database\", \"daughter\", \"daughter\", \"daughter\", \"david\", \"david\", \"david\", \"david\", \"dead\", \"dead\", \"dead\", \"dead\", \"death\", \"death\", \"death\", \"debt\", \"debt\", \"debt\", \"deserve\", \"deserve\", \"deserve\", \"deserve\", \"destroy\", \"destroy\", \"destroy\", \"destroy\", \"diamond\", \"diamond\", \"diamond\", \"diamond\", \"die\", \"die\", \"die\", \"die\", \"disaster\", \"disaster\", \"disaster\", \"discover\", \"discover\", \"discover\", \"discover\", \"display\", \"display\", \"display\", \"display\", \"doctor\", \"doctor\", \"doctor\", \"dollar\", \"dollar\", \"dollar\", \"dollar\", \"doom\", \"doom\", \"doom\", \"doom\", \"doom\", \"drag\", \"drag\", \"drag\", \"drag\", \"drug\", \"drug\", \"drug\", \"earth\", \"earth\", \"earth\", \"earth\", \"earthquake\", \"earthquake\", \"earthquake\", \"economic\", \"economic\", \"economic\", \"economic\", \"economy\", \"economy\", \"economy\", \"egypt\", \"egypt\", \"egypt\", \"egypt\", \"election\", \"election\", \"election\", \"elephant\", \"elephant\", \"elephant\", \"elephant\", \"empire\", \"empire\", \"empire\", \"empire\", \"empire\", \"endanger\", \"endanger\", \"endanger\", \"endanger\", \"energy\", \"energy\", \"energy\", \"ethnic\", \"ethnic\", \"ethnic\", \"ethnic\", \"europe\", \"europe\", \"europe\", \"europe\", \"extradition\", \"extradition\", \"extradition\", \"extradition\", \"falkland\", \"falkland\", \"falkland\", \"falkland\", \"family\", \"family\", \"family\", \"family\", \"fascist\", \"fascist\", \"fascist\", \"fascist\", \"fascist\", \"female\", \"female\", \"female\", \"find\", \"find\", \"find\", \"find\", \"first\", \"first\", \"first\", \"first\", \"food\", \"food\", \"food\", \"food\", \"force\", \"force\", \"force\", \"foreign_policy\", \"foreign_policy\", \"foreign_policy\", \"foreign_policy\", \"fukushima\", \"fukushima\", \"fukushima\", \"gay\", \"gay\", \"gay\", \"gaza\", \"gaza\", \"gaza\", \"gaza\", \"genocide\", \"genocide\", \"genocide\", \"genocide\", \"george_bush\", \"george_bush\", \"george_bush\", \"george_bush\", \"georgia\", \"georgia\", \"georgia\", \"georgia\", \"georgian\", \"georgian\", \"georgian\", \"georgian\", \"get\", \"get\", \"get\", \"get\", \"get\", \"ghost\", \"ghost\", \"ghost\", \"ghost\", \"ghost\", \"girl\", \"girl\", \"girl\", \"global\", \"global\", \"global\", \"global\", \"go\", \"go\", \"go\", \"go\", \"gold\", \"gold\", \"gold\", \"gold\", \"gold\", \"google\", \"google\", \"google\", \"google\", \"government\", \"government\", \"government\", \"greece\", \"greece\", \"greece\", \"greece\", \"guess\", \"guess\", \"guess\", \"guess\", \"guy\", \"guy\", \"guy\", \"guy\", \"haiti\", \"haiti\", \"haiti\", \"hat\", \"hat\", \"hat\", \"hat\", \"hebron\", \"hebron\", \"hebron\", \"hebron\", \"hospital\", \"hospital\", \"hospital\", \"human\", \"human\", \"human\", \"human\", \"human_right\", \"human_right\", \"human_right\", \"hungarian\", \"hungarian\", \"hungarian\", \"hungarian\", \"hunger\", \"hunger\", \"hunger\", \"hunger\", \"hunger\", \"hunt\", \"hunt\", \"hunt\", \"hunt\", \"india\", \"india\", \"india\", \"india\", \"indict\", \"indict\", \"indict\", \"indict\", \"insurgent\", \"insurgent\", \"insurgent\", \"insurgent\", \"interesting\", \"interesting\", \"interesting\", \"interesting\", \"internet\", \"internet\", \"internet\", \"iran\", \"iran\", \"iran\", \"iraq\", \"iraq\", \"iraq\", \"iraq\", \"israel\", \"israel\", \"israel\", \"israel\", \"israeli\", \"israeli\", \"israeli\", \"israeli\", \"ivory\", \"ivory\", \"ivory\", \"ivory\", \"jail\", \"jail\", \"jail\", \"japan\", \"japan\", \"japan\", \"journalism\", \"journalism\", \"journalism\", \"journalism\", \"kgb\", \"kgb\", \"kgb\", \"kgb\", \"khamenei\", \"khamenei\", \"khamenei\", \"khamenei\", \"kill\", \"kill\", \"kill\", \"kill\", \"lady\", \"lady\", \"lady\", \"lady\", \"lady\", \"large\", \"large\", \"large\", \"large\", \"latin_american\", \"latin_american\", \"latin_american\", \"latin_american\", \"law\", \"law\", \"law\", \"leader\", \"leader\", \"leader\", \"listen\", \"listen\", \"listen\", \"listen\", \"lock\", \"lock\", \"lock\", \"lock\", \"looks_like\", \"looks_like\", \"looks_like\", \"looks_like\", \"looks_like\", \"low\", \"low\", \"low\", \"mafia\", \"mafia\", \"mafia\", \"mafia\", \"make\", \"make\", \"make\", \"make\", \"man\", \"man\", \"man\", \"man\", \"marijuana\", \"marijuana\", \"marijuana\", \"marijuana\", \"may\", \"may\", \"may\", \"may\", \"mayor\", \"mayor\", \"mayor\", \"mayor\", \"mccain\", \"mccain\", \"mccain\", \"mccain\", \"medal\", \"medal\", \"medal\", \"medal\", \"medal\", \"mexican\", \"mexican\", \"mexican\", \"mexican\", \"mexico\", \"mexico\", \"mexico\", \"mexico\", \"military\", \"military\", \"military\", \"minister\", \"minister\", \"minister\", \"minister\", \"money\", \"money\", \"money\", \"mother\", \"mother\", \"mother\", \"mugabe\", \"mugabe\", \"mugabe\", \"mugabe\", \"murder\", \"murder\", \"murder\", \"murder\", \"museum\", \"museum\", \"museum\", \"museum\", \"museum\", \"muslim\", \"muslim\", \"muslim\", \"muslim\", \"mystery\", \"mystery\", \"mystery\", \"mystery\", \"mystery\", \"nato\", \"nato\", \"nato\", \"new\", \"new\", \"new\", \"new\", \"nobel\", \"nobel\", \"nobel\", \"nobel\", \"nobel_peace\", \"nobel_peace\", \"nobel_peace\", \"nobel_peace\", \"nobel_prize\", \"nobel_prize\", \"nobel_prize\", \"nobel_prize\", \"north_korea\", \"north_korea\", \"north_korea\", \"nsfw\", \"nsfw\", \"nsfw\", \"nsfw\", \"nuke\", \"nuke\", \"nuke\", \"nuke\", \"official\", \"official\", \"official\", \"official\", \"oil\", \"oil\", \"oil\", \"olympic\", \"olympic\", \"olympic\", \"olympic\", \"openly\", \"openly\", \"openly\", \"openly\", \"opium\", \"opium\", \"opium\", \"opium\", \"outbreak\", \"outbreak\", \"outbreak\", \"outbreak\", \"palestinian\", \"palestinian\", \"palestinian\", \"palestinian\", \"park\", \"park\", \"park\", \"park\", \"parliament\", \"parliament\", \"parliament\", \"party\", \"party\", \"party\", \"party\", \"pay\", \"pay\", \"pay\", \"people\", \"people\", \"people\", \"people\", \"persecution\", \"persecution\", \"persecution\", \"persecution\", \"pic\", \"pic\", \"pic\", \"pic\", \"pirate\", \"pirate\", \"pirate\", \"poacher\", \"poacher\", \"poacher\", \"poacher\", \"police\", \"police\", \"police\", \"police\", \"poor\", \"poor\", \"poor\", \"pope\", \"pope\", \"pope\", \"population\", \"population\", \"population\", \"population\", \"poster\", \"poster\", \"poster\", \"poster\", \"pot\", \"pot\", \"pot\", \"pot\", \"pot\", \"poverty\", \"poverty\", \"poverty\", \"premier\", \"premier\", \"premier\", \"premier\", \"president\", \"president\", \"president\", \"president\", \"price\", \"price\", \"price\", \"prison\", \"prison\", \"prison\", \"prize\", \"prize\", \"prize\", \"prize\", \"protest\", \"protest\", \"protest\", \"protester\", \"protester\", \"protester\", \"protester\", \"pyramid\", \"pyramid\", \"pyramid\", \"pyramid\", \"rap\", \"rap\", \"rap\", \"rape\", \"rape\", \"rape\", \"rate\", \"rate\", \"rate\", \"reader\", \"reader\", \"reader\", \"reader\", \"remember\", \"remember\", \"remember\", \"remember\", \"report\", \"report\", \"report\", \"report\", \"research\", \"research\", \"research\", \"rich\", \"rich\", \"rich\", \"richard\", \"richard\", \"richard\", \"richard\", \"richard\", \"rip\", \"rip\", \"rip\", \"rip\", \"rise\", \"rise\", \"rise\", \"rise\", \"romania\", \"romania\", \"romania\", \"romania\", \"romania\", \"romanian\", \"romanian\", \"romanian\", \"romanian\", \"rule\", \"rule\", \"rule\", \"rule\", \"russia\", \"russia\", \"russia\", \"russia\", \"russian\", \"russian\", \"russian\", \"russian\", \"rwanda\", \"rwanda\", \"rwanda\", \"rwanda\", \"say\", \"say\", \"say\", \"say\", \"school\", \"school\", \"school\", \"scientist\", \"scientist\", \"scientist\", \"scientist\", \"sea\", \"sea\", \"sea\", \"sea\", \"secret\", \"secret\", \"secret\", \"secret\", \"senator\", \"senator\", \"senator\", \"senator\", \"sentence\", \"sentence\", \"sentence\", \"settler\", \"settler\", \"settler\", \"settler\", \"settler\", \"sex\", \"sex\", \"sex\", \"shark\", \"shark\", \"shark\", \"shark\", \"slaughter\", \"slaughter\", \"slaughter\", \"slaughter\", \"slaughter\", \"song\", \"song\", \"song\", \"song\", \"song\", \"south_ossetia\", \"south_ossetia\", \"south_ossetia\", \"south_ossetia\", \"space_station\", \"space_station\", \"space_station\", \"space_station\", \"spray\", \"spray\", \"spray\", \"spray\", \"spray\", \"spy\", \"spy\", \"spy\", \"sri_lankan\", \"sri_lankan\", \"sri_lankan\", \"sri_lankan\", \"state\", \"state\", \"state\", \"state\", \"story\", \"story\", \"story\", \"story\", \"story\", \"student\", \"student\", \"student\", \"student\", \"study\", \"study\", \"study\", \"study\", \"suddenly\", \"suddenly\", \"suddenly\", \"suddenly\", \"syria\", \"syria\", \"syria\", \"syrian\", \"syrian\", \"syrian\", \"tahrir_square\", \"tahrir_square\", \"tahrir_square\", \"tahrir_square\", \"take\", \"take\", \"take\", \"take\", \"tax\", \"tax\", \"tax\", \"temple\", \"temple\", \"temple\", \"temple\", \"tiananmen_square\", \"tiananmen_square\", \"tiananmen_square\", \"tiananmen_square\", \"tibet\", \"tibet\", \"tibet\", \"tibet\", \"tibet\", \"tibetan\", \"tibetan\", \"tibetan\", \"tibetan\", \"tiger\", \"tiger\", \"tiger\", \"tiger\", \"time\", \"time\", \"time\", \"time\", \"tomorrow\", \"tomorrow\", \"tomorrow\", \"tomorrow\", \"tour\", \"tour\", \"tour\", \"tour\", \"translation\", \"translation\", \"translation\", \"translation\", \"troop\", \"troop\", \"troop\", \"tunnel\", \"tunnel\", \"tunnel\", \"tunnel\", \"turk\", \"turk\", \"turk\", \"turk\", \"turkey\", \"turkey\", \"turkey\", \"turkey\", \"unearth\", \"unearth\", \"unearth\", \"unearth\", \"university\", \"university\", \"university\", \"university\", \"uruguay\", \"uruguay\", \"uruguay\", \"uruguay\", \"usa\", \"usa\", \"usa\", \"usa\", \"vatican\", \"vatican\", \"vatican\", \"victim\", \"victim\", \"victim\", \"vid\", \"vid\", \"vid\", \"vid\", \"video\", \"video\", \"video\", \"video\", \"video\", \"vote\", \"vote\", \"vote\", \"wall\", \"wall\", \"wall\", \"wall\", \"war\", \"war\", \"war\", \"war\", \"wash\", \"wash\", \"wash\", \"wash\", \"water\", \"water\", \"water\", \"water\", \"weapon\", \"weapon\", \"weapon\", \"weapon\", \"whale\", \"whale\", \"whale\", \"whale\", \"white\", \"white\", \"white\", \"white\", \"wife\", \"wife\", \"wife\", \"wikileak\", \"wikileak\", \"wikileak\", \"winner\", \"winner\", \"winner\", \"winner\", \"woman\", \"woman\", \"woman\", \"world\", \"world\", \"world\", \"world\", \"worldnew\", \"worldnew\", \"worldnew\", \"worldnew\", \"writer\", \"writer\", \"writer\", \"writer\", \"writer\", \"wwii\", \"wwii\", \"wwii\", \"wwii\", \"wwii\", \"year\", \"year\", \"year\", \"year\", \"year_old\", \"year_old\", \"year_old\", \"year_old\", \"young\", \"young\", \"young\", \"young\", \"zimbabwe\", \"zimbabwe\", \"zimbabwe\", \"zimbabwe\", \"zoo\", \"zoo\", \"zoo\", \"zoo\"]}, \"R\": 30, \"lambda.step\": 0.01, \"plot.opts\": {\"xlab\": \"PC1\", \"ylab\": \"PC2\"}, \"topic.order\": [1, 3, 2, 5, 4, 6, 7]};\n",
       "\n",
       "function LDAvis_load_lib(url, callback){\n",
       "  var s = document.createElement('script');\n",
       "  s.src = url;\n",
       "  s.async = true;\n",
       "  s.onreadystatechange = s.onload = callback;\n",
       "  s.onerror = function(){console.warn(\"failed to load library \" + url);};\n",
       "  document.getElementsByTagName(\"head\")[0].appendChild(s);\n",
       "}\n",
       "\n",
       "if(typeof(LDAvis) !== \"undefined\"){\n",
       "   // already loaded: just create the visualization\n",
       "   !function(LDAvis){\n",
       "       new LDAvis(\"#\" + \"ldavis_el1488025074919928248612416281\", ldavis_el1488025074919928248612416281_data);\n",
       "   }(LDAvis);\n",
       "}else if(typeof define === \"function\" && define.amd){\n",
       "   // require.js is available: use it to load d3/LDAvis\n",
       "   require.config({paths: {d3: \"https://cdnjs.cloudflare.com/ajax/libs/d3/3.5.5/d3.min\"}});\n",
       "   require([\"d3\"], function(d3){\n",
       "      window.d3 = d3;\n",
       "      LDAvis_load_lib(\"https://cdn.rawgit.com/bmabey/pyLDAvis/files/ldavis.v1.0.0.js\", function(){\n",
       "        new LDAvis(\"#\" + \"ldavis_el1488025074919928248612416281\", ldavis_el1488025074919928248612416281_data);\n",
       "      });\n",
       "    });\n",
       "}else{\n",
       "    // require.js not available: dynamically load d3 & LDAvis\n",
       "    LDAvis_load_lib(\"https://cdnjs.cloudflare.com/ajax/libs/d3/3.5.5/d3.min.js\", function(){\n",
       "         LDAvis_load_lib(\"https://cdn.rawgit.com/bmabey/pyLDAvis/files/ldavis.v1.0.0.js\", function(){\n",
       "                 new LDAvis(\"#\" + \"ldavis_el1488025074919928248612416281\", ldavis_el1488025074919928248612416281_data);\n",
       "            })\n",
       "         });\n",
       "}\n",
       "</script>"
      ],
      "text/plain": [
       "PreparedData(topic_coordinates=              x         y  topics  cluster       Freq\n",
       "topic                                                \n",
       "0     -0.250306 -0.000440       1        1  44.283661\n",
       "2     -0.138047  0.169855       2        1  23.171524\n",
       "1     -0.148158 -0.163746       3        1  21.707575\n",
       "4      0.105428  0.002609       4        1   4.754655\n",
       "3      0.145357 -0.006084       5        1   2.598396\n",
       "5      0.143927 -0.000999       6        1   1.899062\n",
       "6      0.141798 -0.001194       7        1   1.585123, topic_info=      Category         Freq               Term        Total  loglift  logprob\n",
       "35     Default  1309.000000                man  1309.000000  30.0000  30.0000\n",
       "172    Default  2159.000000              world  2159.000000  29.0000  29.0000\n",
       "15     Default  1233.000000              woman  1233.000000  28.0000  28.0000\n",
       "93     Default  1039.000000               find  1039.000000  27.0000  27.0000\n",
       "405    Default  1048.000000              child  1048.000000  26.0000  26.0000\n",
       "40     Default  1723.000000             police  1723.000000  25.0000  25.0000\n",
       "92     Default  1976.000000              china  1976.000000  24.0000  24.0000\n",
       "1578   Default  1667.000000             israel  1667.000000  23.0000  23.0000\n",
       "95     Default  2234.000000               kill  2234.000000  22.0000  22.0000\n",
       "105    Default   847.000000              death   847.000000  21.0000  21.0000\n",
       "129    Default  1653.000000            israeli  1653.000000  20.0000  20.0000\n",
       "198    Default  1543.000000                war  1543.000000  19.0000  19.0000\n",
       "140    Default  1514.000000               iran  1514.000000  18.0000  18.0000\n",
       "268    Default   717.000000               drug   717.000000  17.0000  17.0000\n",
       "166    Default   749.000000               bank   749.000000  16.0000  16.0000\n",
       "360    Default   733.000000              japan   733.000000  15.0000  15.0000\n",
       "1087   Default   700.000000                oil   700.000000  14.0000  14.0000\n",
       "16     Default  2020.000000               year  2020.000000  13.0000  13.0000\n",
       "5      Default   654.000000                die   654.000000  12.0000  12.0000\n",
       "28     Default  1068.000000          president  1068.000000  11.0000  11.0000\n",
       "964    Default   541.000000               jail   541.000000  10.0000  10.0000\n",
       "847    Default  1074.000000            russian  1074.000000   9.0000   9.0000\n",
       "10     Default   536.000000             mexico   536.000000   8.0000   8.0000\n",
       "220    Default  1113.000000            protest  1113.000000   7.0000   7.0000\n",
       "2983   Default  1060.000000               gaza  1060.000000   6.0000   6.0000\n",
       "312    Default  1029.000000        palestinian  1029.000000   5.0000   5.0000\n",
       "841    Default  2009.000000         government  2009.000000   4.0000   4.0000\n",
       "399    Default  1010.000000           military  1010.000000   3.0000   3.0000\n",
       "17     Default   511.000000           year_old   511.000000   2.0000   2.0000\n",
       "84     Default   482.000000               girl   482.000000   1.0000   1.0000\n",
       "1578    Topic1  1664.315674             israel  1667.055054   0.8129  -4.9383\n",
       "129     Topic1  1650.309326            israeli  1653.337524   0.8127  -4.9467\n",
       "140     Topic1  1511.618774               iran  1514.720825   0.8125  -5.0345\n",
       "198     Topic1  1540.040161                war  1543.916382   0.8120  -5.0159\n",
       "399     Topic1  1007.967163           military  1010.641052   0.8119  -5.4398\n",
       "312     Topic1  1026.770996        palestinian  1029.606079   0.8118  -5.4213\n",
       "2983    Topic1  1057.144897               gaza  1060.237549   0.8116  -5.3921\n",
       "847     Topic1  1071.008057            russian  1074.724976   0.8111  -5.3791\n",
       "1600    Topic1   711.339905               iraq   714.183167   0.8106  -5.7883\n",
       "1088    Topic1   611.954895              syria   614.488831   0.8104  -5.9388\n",
       "932     Topic1   659.310303        north_korea   662.125610   0.8103  -5.8643\n",
       "1692    Topic1   568.051575              troop   570.699585   0.8099  -6.0133\n",
       "2121    Topic1   565.716736           internet   568.499329   0.8096  -6.0174\n",
       "28      Topic1  1062.935913          president  1068.947388   0.8089  -5.3867\n",
       "1169    Topic1   568.281433               army   571.563110   0.8088  -6.0128\n",
       "2082    Topic1   565.992371          protester   569.297058   0.8087  -6.0169\n",
       "3526    Topic1   491.384247           wikileak   494.257324   0.8087  -6.1582\n",
       "401     Topic1   654.267944               anti   658.207764   0.8086  -5.8719\n",
       "1202    Topic1   441.644928           election   444.333099   0.8085  -6.2650\n",
       "686     Topic1   414.871674               vote   417.665100   0.8078  -6.3275\n",
       "...        ...          ...                ...          ...      ...      ...\n",
       "324     Topic6    16.636530              medal    19.854183   3.7870  -6.3946\n",
       "3386    Topic6    15.762428             rwanda    18.814352   3.7868  -6.4486\n",
       "7944    Topic6    15.888626               doom    19.076958   3.7809  -6.4406\n",
       "6397    Topic6    16.713684          insurgent    20.119284   3.7784  -6.3900\n",
       "1623    Topic6    17.410809             belief    20.965139   3.7780  -6.3491\n",
       "3840    Topic6    13.747452            concert    16.724178   3.7678  -6.5854\n",
       "1450    Topic6    15.914656            clinton    19.467829   3.7623  -6.4390\n",
       "6120    Topic6    13.811797               band    16.895554   3.7623  -6.5807\n",
       "2933    Topic6    12.706717          hungarian    15.622692   3.7572  -6.6641\n",
       "1962    Topic6    12.785182               tour    15.784055   3.7531  -6.6579\n",
       "4552    Topic6    13.322532            fascist    16.474928   3.7514  -6.6168\n",
       "3382    Topic6    12.940176             bosnia    16.017509   3.7505  -6.6459\n",
       "7221    Topic6    12.083871               turk    15.022377   3.7461  -6.7143\n",
       "6538    Topic6    13.713315      tahrir_square    17.055067   3.7457  -6.5878\n",
       "9818    Topic6    13.056667        persecution    16.300596   3.7419  -6.6369\n",
       "7019    Topic6    12.933736  child_pornography    16.116346   3.7438  -6.6464\n",
       "5057    Topic6    16.529520               song    25.486204   3.5308  -6.4011\n",
       "6504    Topic6    13.801506             writer    18.869963   3.6510  -6.5814\n",
       "5654    Topic6    14.236559             ethnic    53.974426   2.6311  -6.5504\n",
       "10449   Topic7    73.098228        ahmadinejad    76.244949   4.1024  -4.7337\n",
       "6681    Topic7    58.887192            settler    62.183170   4.0900  -4.9499\n",
       "11216   Topic7    36.610775      south_ossetia    40.678936   4.0391  -5.4252\n",
       "5923    Topic7    28.754246              bonus    32.008862   4.0373  -5.6667\n",
       "20953   Topic7    24.838417                vid    28.117954   4.0205  -5.8131\n",
       "370     Topic7    20.269007            romania    23.366783   4.0023  -6.0164\n",
       "6556    Topic7    14.698309           khamenei    17.736065   3.9566  -6.3378\n",
       "7027    Topic7    20.557949               lock    24.947222   3.9510  -6.0023\n",
       "11337   Topic7    18.474569     foreign_policy    22.488201   3.9479  -6.1091\n",
       "15268   Topic7    14.238157           bolivian    17.341660   3.9473  -6.3696\n",
       "1011    Topic7    15.498461           confront    18.926392   3.9447  -6.2848\n",
       "20274   Topic7    12.563888        big_picture    15.689817   3.9223  -6.4947\n",
       "7366    Topic7    12.716388              ghost    15.906584   3.9207  -6.4826\n",
       "11620   Topic7    12.589428               nsfw    15.825308   3.9158  -6.4927\n",
       "6680    Topic7    11.352357             hebron    14.302559   3.9135  -6.5961\n",
       "4652    Topic7    12.880226   tiananmen_square    16.254261   3.9118  -6.4698\n",
       "5492    Topic7    12.667440     latin_american    16.129288   3.9029  -6.4865\n",
       "748     Topic7    10.802567           romanian    13.848955   3.8961  -6.6457\n",
       "6673    Topic7    11.345300              opium    14.556649   3.8953  -6.5967\n",
       "14237   Topic7    10.243534           abkhazia    13.163483   3.8937  -6.6989\n",
       "3940    Topic7    11.202865             openly    14.451165   3.8899  -6.6093\n",
       "4279    Topic7    10.407174             poster    13.462635   3.8871  -6.6830\n",
       "3562    Topic7     9.712916            senator    12.729331   3.8741  -6.7521\n",
       "10957   Topic7     9.373278             indict    12.344577   3.8692  -6.7876\n",
       "11188   Topic7     9.343037             mccain    12.350755   3.8654  -6.7909\n",
       "13993   Topic7     9.638867           worldnew    12.762036   3.8638  -6.7597\n",
       "12035   Topic7     8.815627           falkland    11.678358   3.8633  -6.8490\n",
       "2700    Topic7     9.743251            deserve    12.957388   3.8594  -6.7489\n",
       "4389    Topic7    10.783017               lady    14.364700   3.8577  -6.6475\n",
       "8541    Topic7     9.311085                kgb    12.469878   3.8524  -6.7943\n",
       "906     Topic7    10.423130          argentina   123.760086   1.6702  -6.6815\n",
       "\n",
       "[345 rows x 6 columns], token_table=       Topic      Freq           Term\n",
       "term                                 \n",
       "14237      1  0.075968       abkhazia\n",
       "14237      2  0.075968       abkhazia\n",
       "14237      3  0.075968       abkhazia\n",
       "14237      7  0.759677       abkhazia\n",
       "1103       1  0.044883        advance\n",
       "1103       2  0.044883        advance\n",
       "1103       3  0.044883        advance\n",
       "1103       4  0.044883        advance\n",
       "1103       6  0.852783        advance\n",
       "1571       1  0.876581    afghanistan\n",
       "1571       2  0.001394    afghanistan\n",
       "1571       3  0.119850    afghanistan\n",
       "1571       4  0.001394    afghanistan\n",
       "6446       1  0.046316     aggression\n",
       "6446       2  0.046316     aggression\n",
       "6446       3  0.046316     aggression\n",
       "6446       6  0.833682     aggression\n",
       "10449      1  0.013116    ahmadinejad\n",
       "10449      2  0.013116    ahmadinejad\n",
       "10449      3  0.013116    ahmadinejad\n",
       "10449      7  0.957440    ahmadinejad\n",
       "708        1  0.012153        ancient\n",
       "708        2  0.012153        ancient\n",
       "708        3  0.012153        ancient\n",
       "708        4  0.972279        ancient\n",
       "101        1  0.009974         animal\n",
       "101        2  0.179540         animal\n",
       "101        3  0.009974         animal\n",
       "101        4  0.797954         animal\n",
       "401        1  0.993607           anti\n",
       "401        2  0.001519           anti\n",
       "401        3  0.003039           anti\n",
       "401        4  0.001519           anti\n",
       "4964       1  0.030359  archaeologist\n",
       "4964       2  0.030359  archaeologist\n",
       "4964       3  0.030359  archaeologist\n",
       "4964       4  0.910772  archaeologist\n",
       "906        1  0.307046      argentina\n",
       "906        2  0.282805      argentina\n",
       "906        3  0.315126      argentina\n",
       "906        7  0.080801      argentina\n",
       "2174       1  0.055402       armenian\n",
       "2174       2  0.055402       armenian\n",
       "2174       3  0.055402       armenian\n",
       "2174       6  0.831029       armenian\n",
       "1169       1  0.993766           army\n",
       "1169       2  0.001750           army\n",
       "1169       3  0.001750           army\n",
       "200        1  0.420335         arrest\n",
       "200        2  0.001158         arrest\n",
       "...      ...       ...            ...\n",
       "2808       2  0.006258           wife\n",
       "2808       3  0.982428           wife\n",
       "3526       1  0.993410       wikileak\n",
       "3526       2  0.002023       wikileak\n",
       "3526       3  0.002023       wikileak\n",
       "3522       1  0.032479         winner\n",
       "3522       2  0.032479         winner\n",
       "3522       3  0.032479         winner\n",
       "3522       5  0.909424         winner\n",
       "15         1  0.000810          woman\n",
       "15         2  0.000810          woman\n",
       "15         3  0.997619          woman\n",
       "172        1  0.280635          world\n",
       "172        2  0.718260          world\n",
       "172        3  0.000463          world\n",
       "172        4  0.000463          world\n",
       "13993      1  0.078357       worldnew\n",
       "13993      2  0.078357       worldnew\n",
       "13993      3  0.078357       worldnew\n",
       "13993      7  0.783574       worldnew\n",
       "6504       1  0.052994         writer\n",
       "6504       2  0.052994         writer\n",
       "6504       3  0.052994         writer\n",
       "6504       5  0.105989         writer\n",
       "6504       6  0.741920         writer\n",
       "2254       1  0.031451           wwii\n",
       "2254       2  0.031451           wwii\n",
       "2254       3  0.157257           wwii\n",
       "2254       4  0.125806           wwii\n",
       "2254       5  0.660479           wwii\n",
       "16         1  0.212326           year\n",
       "16         2  0.410300           year\n",
       "16         3  0.376149           year\n",
       "16         4  0.000990           year\n",
       "17         1  0.001957       year_old\n",
       "17         2  0.001957       year_old\n",
       "17         3  0.878507       year_old\n",
       "17         4  0.117395       year_old\n",
       "1568       1  0.003299          young\n",
       "1568       2  0.003299          young\n",
       "1568       3  0.989566          young\n",
       "1568       4  0.003299          young\n",
       "1525       1  0.007333       zimbabwe\n",
       "1525       2  0.007333       zimbabwe\n",
       "1525       3  0.007333       zimbabwe\n",
       "1525       4  0.982559       zimbabwe\n",
       "572        1  0.033816            zoo\n",
       "572        2  0.033816            zoo\n",
       "572        3  0.033816            zoo\n",
       "572        4  0.913038            zoo\n",
       "\n",
       "[1149 rows x 3 columns], R=30, lambda_step=0.01, plot_opts={'xlab': 'PC1', 'ylab': 'PC2'}, topic_order=[1, 3, 2, 5, 4, 6, 7])"
      ]
     },
     "execution_count": 27,
     "metadata": {},
     "output_type": "execute_result"
    },
    {
     "name": "stdout",
     "output_type": "stream",
     "text": [
      "time: 17min 40s\n"
     ]
    }
   ],
   "source": [
    "import pyLDAvis.gensim\n",
    "import pickle \n",
    "import pyLDAvis\n",
    "\n",
    "# Visualize the topics\n",
    "pyLDAvis.enable_notebook()\n",
    "\n",
    "LDAvis_prepared = pyLDAvis.gensim.prepare(lda_model, corpus, id2word)\n",
    "\n",
    "LDAvis_prepared"
   ]
  },
  {
   "cell_type": "markdown",
   "metadata": {},
   "source": [
    "### Closing Notes\n",
    "Machine learning has become increasingly popular over the past decade, and recent advances in computational availability have led to exponential growth to people looking for ways how new methods can be incorporated to advance the field of Natural Language Processing.\n",
    "\n",
    "Often, we treat topic models as black-box algorithms, but hopefully, this post addressed to shed light on the underlying math, and intuitions behind it, and high-level code to get you started with any textual data.\n",
    "\n",
    "In the next article, we’ll go one step deeper into understanding how you can evaluate the performance of topic models, tune its hyper-parameters to get more intuitive and reliable results.\n",
    "\n",
    "** **\n",
    "#### Sources:\n",
    "1. Topic model — Wikipedia. https://en.wikipedia.org/wiki/Topic_model\n",
    "2. Distributed Strategies for Topic Modeling. https://www.ideals.illinois.edu/bitstream/handle/2142/46405/ParallelTopicModels.pdf?sequence=2&isAllowed=y\n",
    "3. Topic Mapping — Software — Resources — Amaral Lab. https://amaral.northwestern.edu/resources/software/topic-mapping\n",
    "4. A Survey of Topic Modeling in Text Mining. https://thesai.org/Downloads/Volume6No1/Paper_21-A_Survey_of_Topic_Modeling_in_Text_Mining.pdf\n"
   ]
  }
 ],
 "metadata": {
  "kernelspec": {
   "display_name": "Python 3",
   "language": "python",
   "name": "python3"
  },
  "language_info": {
   "codemirror_mode": {
    "name": "ipython",
    "version": 3
   },
   "file_extension": ".py",
   "mimetype": "text/x-python",
   "name": "python",
   "nbconvert_exporter": "python",
   "pygments_lexer": "ipython3",
   "version": "3.7.3"
  }
 },
 "nbformat": 4,
 "nbformat_minor": 2
}
