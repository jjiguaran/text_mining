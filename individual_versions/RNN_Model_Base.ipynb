{
 "cells": [
  {
   "cell_type": "code",
   "execution_count": 1,
   "metadata": {},
   "outputs": [],
   "source": [
    "%load_ext autotime"
   ]
  },
  {
   "cell_type": "code",
   "execution_count": 2,
   "metadata": {
    "colab": {},
    "colab_type": "code",
    "id": "C4dLP23xZmpC"
   },
   "outputs": [
    {
     "name": "stderr",
     "output_type": "stream",
     "text": [
      "Using TensorFlow backend.\n"
     ]
    },
    {
     "name": "stdout",
     "output_type": "stream",
     "text": [
      "time: 9.85 s\n"
     ]
    }
   ],
   "source": [
    "# Importar librerias\n",
    "import pandas as pd\n",
    "import numpy as np\n",
    "\n",
    "import zipfile\n",
    "from datetime import date\n",
    "from sklearn import metrics\n",
    "from sklearn.metrics import accuracy_score\n",
    "\n",
    "\n",
    "from hyperopt import hp, fmin, tpe, hp, STATUS_OK, Trials\n",
    "\n",
    "from numpy.testing import assert_allclose\n",
    "from keras.models import Sequential, load_model\n",
    "from keras.layers import LSTM, Dropout, Dense\n",
    "from keras.callbacks import ModelCheckpoint\n",
    "from keras.optimizers import Adadelta\n",
    "\n",
    "import os\n",
    "from pathlib import Path\n"
   ]
  },
  {
   "cell_type": "code",
   "execution_count": 3,
   "metadata": {},
   "outputs": [
    {
     "name": "stdout",
     "output_type": "stream",
     "text": [
      "time: 4 ms\n"
     ]
    }
   ],
   "source": [
    "# Seed value\n",
    "# Apparently you may use different seed values at each stage\n",
    "seed_value= 0\n",
    "\n",
    "# 1. Set `PYTHONHASHSEED` environment variable at a fixed value\n",
    "import os\n",
    "os.environ['PYTHONHASHSEED']=str(seed_value)\n",
    "\n",
    "# 2. Set `python` built-in pseudo-random generator at a fixed value\n",
    "import random\n",
    "random.seed(seed_value)\n",
    "\n",
    "# 3. Set `numpy` pseudo-random generator at a fixed value\n",
    "import numpy as np\n",
    "np.random.seed(seed_value)\n",
    "\n",
    "# 4. Set the `tensorflow` pseudo-random generator at a fixed value\n",
    "import tensorflow as tf\n",
    "tf.random.set_seed(seed_value)"
   ]
  },
  {
   "cell_type": "code",
   "execution_count": 4,
   "metadata": {},
   "outputs": [
    {
     "name": "stdout",
     "output_type": "stream",
     "text": [
      "time: 154 ms\n"
     ]
    }
   ],
   "source": [
    "exp_name = '7'\n",
    "folder = 'Resultados/' + exp_name\n",
    "my_file = Path(folder)\n",
    "if os.path.exists(my_file):\n",
    "    print('already exists')\n",
    "else:\n",
    "    os.makedirs(folder)\n",
    "    \n"
   ]
  },
  {
   "cell_type": "code",
   "execution_count": 5,
   "metadata": {},
   "outputs": [
    {
     "name": "stdout",
     "output_type": "stream",
     "text": [
      "time: 340 ms\n"
     ]
    }
   ],
   "source": [
    "ch_folder = folder + '/Checkpoints'\n",
    "my_file = Path(ch_folder)\n",
    "if os.path.exists(my_file):\n",
    "    print('already exists')\n",
    "else:\n",
    "    os.makedirs(ch_folder)"
   ]
  },
  {
   "cell_type": "markdown",
   "metadata": {},
   "source": [
    "### Read datasets"
   ]
  },
  {
   "cell_type": "code",
   "execution_count": 6,
   "metadata": {
    "colab": {},
    "colab_type": "code",
    "id": "Nzv66BqFbl92"
   },
   "outputs": [
    {
     "data": {
      "text/html": [
       "<div>\n",
       "<style scoped>\n",
       "    .dataframe tbody tr th:only-of-type {\n",
       "        vertical-align: middle;\n",
       "    }\n",
       "\n",
       "    .dataframe tbody tr th {\n",
       "        vertical-align: top;\n",
       "    }\n",
       "\n",
       "    .dataframe thead th {\n",
       "        text-align: right;\n",
       "    }\n",
       "</style>\n",
       "<table border=\"1\" class=\"dataframe\">\n",
       "  <thead>\n",
       "    <tr style=\"text-align: right;\">\n",
       "      <th></th>\n",
       "      <th>0</th>\n",
       "      <th>1</th>\n",
       "      <th>2</th>\n",
       "      <th>3</th>\n",
       "      <th>4</th>\n",
       "      <th>5</th>\n",
       "      <th>6</th>\n",
       "      <th>7</th>\n",
       "      <th>8</th>\n",
       "      <th>9</th>\n",
       "      <th>...</th>\n",
       "      <th>293</th>\n",
       "      <th>294</th>\n",
       "      <th>295</th>\n",
       "      <th>296</th>\n",
       "      <th>297</th>\n",
       "      <th>298</th>\n",
       "      <th>299</th>\n",
       "      <th>Label</th>\n",
       "      <th>Date</th>\n",
       "      <th>Top</th>\n",
       "    </tr>\n",
       "  </thead>\n",
       "  <tbody>\n",
       "    <tr>\n",
       "      <th>49716</th>\n",
       "      <td>-0.082072</td>\n",
       "      <td>0.099915</td>\n",
       "      <td>-0.015503</td>\n",
       "      <td>0.115560</td>\n",
       "      <td>-0.072611</td>\n",
       "      <td>0.070435</td>\n",
       "      <td>0.042613</td>\n",
       "      <td>-0.041026</td>\n",
       "      <td>0.012126</td>\n",
       "      <td>-0.020508</td>\n",
       "      <td>...</td>\n",
       "      <td>-0.062215</td>\n",
       "      <td>-0.078471</td>\n",
       "      <td>0.046008</td>\n",
       "      <td>0.005717</td>\n",
       "      <td>-0.071452</td>\n",
       "      <td>0.122559</td>\n",
       "      <td>0.07622</td>\n",
       "      <td>0</td>\n",
       "      <td>2008-08-08</td>\n",
       "      <td>24</td>\n",
       "    </tr>\n",
       "    <tr>\n",
       "      <th>49717</th>\n",
       "      <td>-0.064514</td>\n",
       "      <td>0.013916</td>\n",
       "      <td>-0.028976</td>\n",
       "      <td>0.058716</td>\n",
       "      <td>-0.078369</td>\n",
       "      <td>-0.057312</td>\n",
       "      <td>-0.077515</td>\n",
       "      <td>-0.234467</td>\n",
       "      <td>0.050751</td>\n",
       "      <td>0.020508</td>\n",
       "      <td>...</td>\n",
       "      <td>-0.010498</td>\n",
       "      <td>0.081284</td>\n",
       "      <td>0.040283</td>\n",
       "      <td>-0.108978</td>\n",
       "      <td>0.033783</td>\n",
       "      <td>0.028870</td>\n",
       "      <td>0.03418</td>\n",
       "      <td>0</td>\n",
       "      <td>2008-08-08</td>\n",
       "      <td>25</td>\n",
       "    </tr>\n",
       "  </tbody>\n",
       "</table>\n",
       "<p>2 rows × 303 columns</p>\n",
       "</div>"
      ],
      "text/plain": [
       "              0         1         2         3         4         5         6  \\\n",
       "49716 -0.082072  0.099915 -0.015503  0.115560 -0.072611  0.070435  0.042613   \n",
       "49717 -0.064514  0.013916 -0.028976  0.058716 -0.078369 -0.057312 -0.077515   \n",
       "\n",
       "              7         8         9  ...       293       294       295  \\\n",
       "49716 -0.041026  0.012126 -0.020508  ... -0.062215 -0.078471  0.046008   \n",
       "49717 -0.234467  0.050751  0.020508  ... -0.010498  0.081284  0.040283   \n",
       "\n",
       "            296       297       298      299  Label       Date  Top  \n",
       "49716  0.005717 -0.071452  0.122559  0.07622      0 2008-08-08   24  \n",
       "49717 -0.108978  0.033783  0.028870  0.03418      0 2008-08-08   25  \n",
       "\n",
       "[2 rows x 303 columns]"
      ]
     },
     "execution_count": 6,
     "metadata": {},
     "output_type": "execute_result"
    },
    {
     "name": "stdout",
     "output_type": "stream",
     "text": [
      "time: 14.4 s\n"
     ]
    }
   ],
   "source": [
    "#Importar los datasets\n",
    "url_embeddings_average_individual = zipfile.ZipFile('../Data/embeddings_average_individual.zip')\n",
    "url_embeddings_sum_individual = zipfile.ZipFile('../Data/embeddings_sum_individual.zip')\n",
    "\n",
    "embeddings_average_individual = pd.read_csv(url_embeddings_average_individual.open('embeddings_average_individual.csv'), index_col = 0)\n",
    "embeddings_sum_individual =pd.read_csv(url_embeddings_sum_individual.open('embeddings_sum_individual.csv'), index_col = 0)\n",
    "\n",
    "embeddings_average_individual['Date'] =  pd.to_datetime(embeddings_average_individual['Date'], format='%Y-%m-%d')\n",
    "# embeddings_average_individual.sort_values('Date', inplace=True)\n",
    "# embeddings_average_individual.reset_index(drop = True , inplace=True)\n",
    "\n",
    "embeddings_average_individual.tail(2)"
   ]
  },
  {
   "cell_type": "markdown",
   "metadata": {},
   "source": [
    "### Embedding Promedio"
   ]
  },
  {
   "cell_type": "code",
   "execution_count": 7,
   "metadata": {
    "colab": {},
    "colab_type": "code",
    "id": "HAXOJcEcbmed"
   },
   "outputs": [
    {
     "name": "stdout",
     "output_type": "stream",
     "text": [
      "time: 69 ms\n"
     ]
    }
   ],
   "source": [
    "# Selecciono la fecha para la cual hago el corte de train y test\n",
    "training_end = pd.to_datetime(\"2013-12-31\")\n",
    "num_training = len(embeddings_average_individual[(embeddings_average_individual[\"Date\"]) <= training_end])"
   ]
  },
  {
   "cell_type": "code",
   "execution_count": 8,
   "metadata": {},
   "outputs": [
    {
     "name": "stdout",
     "output_type": "stream",
     "text": [
      "time: 245 ms\n"
     ]
    }
   ],
   "source": [
    "# Selecciono el archivo con el que se corre el modelo\n",
    "data = embeddings_average_individual[embeddings_average_individual['Date']<='2014-12-31']"
   ]
  },
  {
   "cell_type": "code",
   "execution_count": 9,
   "metadata": {},
   "outputs": [
    {
     "data": {
      "text/plain": [
       "(6300, 1, 300)"
      ]
     },
     "execution_count": 9,
     "metadata": {},
     "output_type": "execute_result"
    },
    {
     "name": "stdout",
     "output_type": "stream",
     "text": [
      "time: 211 ms\n"
     ]
    }
   ],
   "source": [
    "# Se separa en train y test\n",
    "x_train = data.drop([\"Top\",\"Label\", \"Date\"], axis=1)[:num_training]\n",
    "x_test = data.drop([\"Top\",'Label', 'Date'], axis=1)[num_training:]\n",
    "y_train = data[\"Label\"].values[:num_training]\n",
    "y_test = data[\"Label\"].values[num_training:]\n",
    "\n",
    "\n",
    "x_train_array = x_train.to_numpy()\n",
    "reshape_x_train = x_train_array.reshape(len(x_train), 1, 300)\n",
    "reshape_x_train.shape\n",
    "\n",
    "x_test_array = x_test.to_numpy()\n",
    "reshape_x_test = x_test_array.reshape(len(x_test), 1, 300)\n",
    "reshape_x_test.shape"
   ]
  },
  {
   "cell_type": "markdown",
   "metadata": {},
   "source": [
    "### Definir espacio de busqueda"
   ]
  },
  {
   "cell_type": "code",
   "execution_count": 10,
   "metadata": {},
   "outputs": [
    {
     "name": "stdout",
     "output_type": "stream",
     "text": [
      "time: 185 ms\n"
     ]
    }
   ],
   "source": [
    "space = {\n",
    "    'units1': hp.choice('units1', [10, 64, 128, 256, 512]),\n",
    "    'units2': hp.choice('units2', [10, 64, 128, 256, 512]),\n",
    "                 \n",
    "    'dropout1': hp.choice('dropout1', [0.2,0.3,0.1]),\n",
    "    \n",
    "    'batch_size' : hp.choice('batch_size', [128,256,512]),\n",
    "    'nb_epochs' : hp.choice('nb_epochs', [50]),\n",
    "\n",
    "    'optimizer':  hp.choice('optimizer', [ 'adam','adadelta']),   \n",
    "    'activation': 'relu'    \n",
    "    }"
   ]
  },
  {
   "cell_type": "markdown",
   "metadata": {},
   "source": [
    "### Definir busqueda bayesiana"
   ]
  },
  {
   "cell_type": "code",
   "execution_count": 11,
   "metadata": {},
   "outputs": [
    {
     "name": "stdout",
     "output_type": "stream",
     "text": [
      "time: 112 ms\n"
     ]
    }
   ],
   "source": [
    "#Objective function that hyperopt will minimize\n",
    "from timeit import default_timer as timer\n",
    "\n",
    "def objective(params):\n",
    "    \n",
    "    import ml_metrics\n",
    "\n",
    "    \n",
    "    start = timer()\n",
    "    print ('Params testing: ', params)\n",
    "    print ('\\n ')\n",
    "    \n",
    "    model = Sequential()\n",
    "    model.add(LSTM(params['units1'], input_shape=(1,300), return_sequences=True))\n",
    "    model.add(Dropout(params['dropout1']))\n",
    "    model.add(LSTM(params['units2'], return_sequences=False))\n",
    "    model.add(Dense(1, activation='sigmoid'))\n",
    "    #model.compile(loss='mean_squared_error', optimizer='adam')\n",
    "    # compile the model\n",
    "    model.compile(optimizer=params['optimizer'], loss='binary_crossentropy', metrics=['accuracy'])\n",
    "\n",
    "\n",
    "    \n",
    "    #includes the call back object\n",
    "    model.fit(reshape_x_train, y_train, epochs=params['nb_epochs'], batch_size=params['batch_size'],\n",
    "              verbose = 0, validation_data=(reshape_x_test, y_test))\n",
    "     \n",
    "    #predict the test set \n",
    "    score, acc = model.evaluate(reshape_x_test, y_test, verbose=0)\n",
    "    \n",
    "    run_time = timer() - start\n",
    "    \n",
    "    # Write to the csv file ('a' means append)\n",
    "    of_connection = open(out_file, 'a')\n",
    "    writer = csv.writer(of_connection)\n",
    "    writer.writerow([-acc, params, score, run_time])\n",
    "    of_connection.close()\n",
    "    \n",
    "    \n",
    "    print('Test accuracy:', acc)\n",
    " \n",
    "    return {'loss': -acc, 'status': STATUS_OK, 'train_time': run_time,}\n",
    "\n"
   ]
  },
  {
   "cell_type": "markdown",
   "metadata": {},
   "source": [
    "### Almacenar resultados de cada iteración"
   ]
  },
  {
   "cell_type": "code",
   "execution_count": 12,
   "metadata": {},
   "outputs": [
    {
     "name": "stdout",
     "output_type": "stream",
     "text": [
      "time: 112 ms\n"
     ]
    }
   ],
   "source": [
    "from hyperopt import tpe\n",
    "\n",
    "tpe_algorithm = tpe.suggest"
   ]
  },
  {
   "cell_type": "code",
   "execution_count": 13,
   "metadata": {},
   "outputs": [
    {
     "name": "stdout",
     "output_type": "stream",
     "text": [
      "time: 158 ms\n"
     ]
    }
   ],
   "source": [
    "import csv\n",
    "\n",
    "from hyperopt import Trials\n",
    "\n",
    "bayes_trials = Trials()\n",
    "\n",
    "# File to save first results\n",
    "out_file = folder + '/gbm_results.csv'\n",
    "of_connection = open(out_file, 'w')\n",
    "\n",
    "writer = csv.writer(of_connection)\n",
    "\n",
    "# Write the headers to the file\n",
    "writer.writerow(['loss', 'params', 'score','time'])\n",
    "of_connection.close()"
   ]
  },
  {
   "cell_type": "markdown",
   "metadata": {},
   "source": [
    "### Lanzar optimización"
   ]
  },
  {
   "cell_type": "code",
   "execution_count": 14,
   "metadata": {
    "scrolled": true
   },
   "outputs": [
    {
     "name": "stdout",
     "output_type": "stream",
     "text": [
      "Params testing:                                                                                                        \n",
      "{'activation': 'relu', 'batch_size': 512, 'dropout1': 0.3, 'nb_epochs': 50, 'optimizer': 'adadelta', 'units1': 128, 'units2': 128}\n",
      "Test accuracy:                                                                                                         \n",
      "0.4920634925365448                                                                                                     \n",
      "Params testing:                                                                                                        \n",
      "{'activation': 'relu', 'batch_size': 256, 'dropout1': 0.3, 'nb_epochs': 50, 'optimizer': 'adam', 'units1': 64, 'units2': 10}\n",
      "Test accuracy:                                                                                                         \n",
      "0.5046031475067139                                                                                                     \n",
      "Params testing:                                                                                                        \n",
      "{'activation': 'relu', 'batch_size': 512, 'dropout1': 0.3, 'nb_epochs': 50, 'optimizer': 'adadelta', 'units1': 512, 'units2': 10}\n",
      "Test accuracy:                                                                                                         \n",
      "0.49190476536750793                                                                                                    \n",
      "Params testing:                                                                                                        \n",
      "{'activation': 'relu', 'batch_size': 256, 'dropout1': 0.3, 'nb_epochs': 50, 'optimizer': 'adam', 'units1': 10, 'units2': 512}\n",
      "Test accuracy:                                                                                                         \n",
      "0.5060317516326904                                                                                                     \n",
      "Params testing:                                                                                                        \n",
      "{'activation': 'relu', 'batch_size': 256, 'dropout1': 0.3, 'nb_epochs': 50, 'optimizer': 'adadelta', 'units1': 128, 'units2': 128}\n",
      "Test accuracy:                                                                                                         \n",
      "0.4928571283817291                                                                                                     \n",
      "Params testing:                                                                                                        \n",
      "{'activation': 'relu', 'batch_size': 256, 'dropout1': 0.2, 'nb_epochs': 50, 'optimizer': 'adam', 'units1': 256, 'units2': 128}\n",
      "Test accuracy:                                                                                                         \n",
      "0.4973015785217285                                                                                                     \n",
      "Params testing:                                                                                                        \n",
      "{'activation': 'relu', 'batch_size': 128, 'dropout1': 0.3, 'nb_epochs': 50, 'optimizer': 'adadelta', 'units1': 256, 'units2': 256}\n",
      "Test accuracy:                                                                                                         \n",
      "0.4952380955219269                                                                                                     \n",
      "Params testing:                                                                                                        \n",
      "{'activation': 'relu', 'batch_size': 128, 'dropout1': 0.2, 'nb_epochs': 50, 'optimizer': 'adadelta', 'units1': 64, 'units2': 256}\n",
      "Test accuracy:                                                                                                         \n",
      "0.49047619104385376                                                                                                    \n",
      "Params testing:                                                                                                        \n",
      "{'activation': 'relu', 'batch_size': 256, 'dropout1': 0.3, 'nb_epochs': 50, 'optimizer': 'adam', 'units1': 512, 'units2': 10}\n",
      "Test accuracy:                                                                                                         \n",
      "0.49714285135269165                                                                                                    \n",
      "Params testing:                                                                                                        \n",
      "{'activation': 'relu', 'batch_size': 256, 'dropout1': 0.2, 'nb_epochs': 50, 'optimizer': 'adam', 'units1': 512, 'units2': 64}\n",
      "Test accuracy:                                                                                                         \n",
      "0.4987301528453827                                                                                                     \n",
      "100%|██████████████████████████████████████████████| 10/10 [54:56<00:00, 421.79s/trial, best loss: -0.5060317516326904]\n",
      "time: 54min 56s\n"
     ]
    }
   ],
   "source": [
    "trials = Trials()\n",
    "\n",
    "\n",
    "# Run optimization\n",
    "best = fmin(fn = objective, space = space, algo = tpe.suggest, \n",
    "            max_evals = 10, trials = bayes_trials,\n",
    "            verbose = 1, rstate= np.random.RandomState(50))\n"
   ]
  },
  {
   "cell_type": "markdown",
   "metadata": {},
   "source": [
    "### Exportar bayesiana, por si quisiera retomar donde queda"
   ]
  },
  {
   "cell_type": "code",
   "execution_count": 15,
   "metadata": {},
   "outputs": [
    {
     "name": "stdout",
     "output_type": "stream",
     "text": [
      "time: 6 ms\n"
     ]
    }
   ],
   "source": [
    "import pickle\n",
    "pickle.dump(bayes_trials, open(folder + '/trials.pkl', 'wb'))"
   ]
  },
  {
   "cell_type": "markdown",
   "metadata": {},
   "source": [
    "### Leer mejores parametros"
   ]
  },
  {
   "cell_type": "code",
   "execution_count": 16,
   "metadata": {},
   "outputs": [
    {
     "data": {
      "text/plain": [
       "[{'loss': -0.5060317516326904,\n",
       "  'status': 'ok',\n",
       "  'train_time': 384.75509810000005},\n",
       " {'loss': -0.5046031475067139, 'status': 'ok', 'train_time': 57.4594458}]"
      ]
     },
     "execution_count": 16,
     "metadata": {},
     "output_type": "execute_result"
    },
    {
     "name": "stdout",
     "output_type": "stream",
     "text": [
      "time: 149 ms\n"
     ]
    }
   ],
   "source": [
    "# Sort the trials with lowest loss (highest AUC) first\n",
    "bayes_trials_results  = sorted(bayes_trials.results, key = lambda x: x['loss'])\n",
    "bayes_trials_results [:2]"
   ]
  },
  {
   "cell_type": "code",
   "execution_count": 17,
   "metadata": {},
   "outputs": [
    {
     "data": {
      "text/html": [
       "<div>\n",
       "<style scoped>\n",
       "    .dataframe tbody tr th:only-of-type {\n",
       "        vertical-align: middle;\n",
       "    }\n",
       "\n",
       "    .dataframe tbody tr th {\n",
       "        vertical-align: top;\n",
       "    }\n",
       "\n",
       "    .dataframe thead th {\n",
       "        text-align: right;\n",
       "    }\n",
       "</style>\n",
       "<table border=\"1\" class=\"dataframe\">\n",
       "  <thead>\n",
       "    <tr style=\"text-align: right;\">\n",
       "      <th></th>\n",
       "      <th>loss</th>\n",
       "      <th>params</th>\n",
       "      <th>score</th>\n",
       "      <th>time</th>\n",
       "    </tr>\n",
       "  </thead>\n",
       "  <tbody>\n",
       "    <tr>\n",
       "      <th>0</th>\n",
       "      <td>-0.506032</td>\n",
       "      <td>{'activation': 'relu', 'batch_size': 256, 'dro...</td>\n",
       "      <td>NaN</td>\n",
       "      <td>384.755098</td>\n",
       "    </tr>\n",
       "    <tr>\n",
       "      <th>1</th>\n",
       "      <td>-0.504603</td>\n",
       "      <td>{'activation': 'relu', 'batch_size': 256, 'dro...</td>\n",
       "      <td>NaN</td>\n",
       "      <td>57.459446</td>\n",
       "    </tr>\n",
       "    <tr>\n",
       "      <th>2</th>\n",
       "      <td>-0.498730</td>\n",
       "      <td>{'activation': 'relu', 'batch_size': 256, 'dro...</td>\n",
       "      <td>NaN</td>\n",
       "      <td>539.432155</td>\n",
       "    </tr>\n",
       "    <tr>\n",
       "      <th>3</th>\n",
       "      <td>-0.497302</td>\n",
       "      <td>{'activation': 'relu', 'batch_size': 256, 'dro...</td>\n",
       "      <td>NaN</td>\n",
       "      <td>257.556877</td>\n",
       "    </tr>\n",
       "    <tr>\n",
       "      <th>4</th>\n",
       "      <td>-0.497143</td>\n",
       "      <td>{'activation': 'relu', 'batch_size': 256, 'dro...</td>\n",
       "      <td>NaN</td>\n",
       "      <td>517.148081</td>\n",
       "    </tr>\n",
       "  </tbody>\n",
       "</table>\n",
       "</div>"
      ],
      "text/plain": [
       "       loss                                             params  score  \\\n",
       "0 -0.506032  {'activation': 'relu', 'batch_size': 256, 'dro...    NaN   \n",
       "1 -0.504603  {'activation': 'relu', 'batch_size': 256, 'dro...    NaN   \n",
       "2 -0.498730  {'activation': 'relu', 'batch_size': 256, 'dro...    NaN   \n",
       "3 -0.497302  {'activation': 'relu', 'batch_size': 256, 'dro...    NaN   \n",
       "4 -0.497143  {'activation': 'relu', 'batch_size': 256, 'dro...    NaN   \n",
       "\n",
       "         time  \n",
       "0  384.755098  \n",
       "1   57.459446  \n",
       "2  539.432155  \n",
       "3  257.556877  \n",
       "4  517.148081  "
      ]
     },
     "execution_count": 17,
     "metadata": {},
     "output_type": "execute_result"
    },
    {
     "name": "stdout",
     "output_type": "stream",
     "text": [
      "time: 152 ms\n"
     ]
    }
   ],
   "source": [
    "results = pd.read_csv(folder + '/gbm_results.csv')\n",
    "\n",
    "# Sort with best scores on top and reset index for slicing\n",
    "results.sort_values('loss', ascending = True, inplace = True)\n",
    "results.reset_index(inplace = True, drop = True)\n",
    "results.head()"
   ]
  },
  {
   "cell_type": "code",
   "execution_count": 18,
   "metadata": {},
   "outputs": [
    {
     "data": {
      "text/plain": [
       "{'activation': 'relu',\n",
       " 'batch_size': 256,\n",
       " 'dropout1': 0.3,\n",
       " 'nb_epochs': 50,\n",
       " 'optimizer': 'adam',\n",
       " 'units1': 10,\n",
       " 'units2': 512}"
      ]
     },
     "execution_count": 18,
     "metadata": {},
     "output_type": "execute_result"
    },
    {
     "name": "stdout",
     "output_type": "stream",
     "text": [
      "time: 104 ms\n"
     ]
    }
   ],
   "source": [
    "import ast\n",
    "\n",
    "# Convert from a string to a dictionary\n",
    "ast.literal_eval(results.loc[0, 'params'])"
   ]
  },
  {
   "cell_type": "code",
   "execution_count": 19,
   "metadata": {},
   "outputs": [
    {
     "data": {
      "text/plain": [
       "{'activation': 'relu',\n",
       " 'batch_size': 256,\n",
       " 'dropout1': 0.3,\n",
       " 'nb_epochs': 50,\n",
       " 'optimizer': 'adam',\n",
       " 'units1': 10,\n",
       " 'units2': 512}"
      ]
     },
     "execution_count": 19,
     "metadata": {},
     "output_type": "execute_result"
    },
    {
     "name": "stdout",
     "output_type": "stream",
     "text": [
      "time: 121 ms\n"
     ]
    }
   ],
   "source": [
    "# Extract the ideal number of estimators and hyperparameters\n",
    "best_bayes_params = ast.literal_eval(results.loc[0, 'params']).copy()\n",
    "best_bayes_params"
   ]
  },
  {
   "cell_type": "markdown",
   "metadata": {},
   "source": [
    "### Definir datasets de testeo"
   ]
  },
  {
   "cell_type": "code",
   "execution_count": 20,
   "metadata": {},
   "outputs": [
    {
     "name": "stdout",
     "output_type": "stream",
     "text": [
      "time: 178 ms\n"
     ]
    }
   ],
   "source": [
    "# Selecciono la fecha para la cual hago el corte de train y test\n",
    "training_end = pd.to_datetime(\"2014-12-31\")\n",
    "num_training = len(embeddings_average_individual[(embeddings_average_individual[\"Date\"]) <= training_end])"
   ]
  },
  {
   "cell_type": "code",
   "execution_count": 21,
   "metadata": {},
   "outputs": [
    {
     "name": "stdout",
     "output_type": "stream",
     "text": [
      "time: 90.5 ms\n"
     ]
    }
   ],
   "source": [
    "# Selecciono el archivo con el que se corre el modelo\n",
    "data = embeddings_average_individual"
   ]
  },
  {
   "cell_type": "code",
   "execution_count": 22,
   "metadata": {},
   "outputs": [
    {
     "data": {
      "text/plain": [
       "(9450, 1, 300)"
      ]
     },
     "execution_count": 22,
     "metadata": {},
     "output_type": "execute_result"
    },
    {
     "name": "stdout",
     "output_type": "stream",
     "text": [
      "time: 314 ms\n"
     ]
    }
   ],
   "source": [
    "# Se separa en train y test\n",
    "x_train = data.drop([\"Top\",\"Label\", \"Date\"], axis=1)[:num_training]\n",
    "x_test = data.drop([\"Top\",'Label', 'Date'], axis=1)[num_training:]\n",
    "y_train = data[\"Label\"].values[:num_training]\n",
    "y_test = data[\"Label\"].values[num_training:]\n",
    "\n",
    "\n",
    "x_train_array = x_train.to_numpy()\n",
    "reshape_x_train = x_train_array.reshape(len(x_train), 1, 300)\n",
    "reshape_x_train.shape\n",
    "\n",
    "x_test_array = x_test.to_numpy()\n",
    "reshape_x_test = x_test_array.reshape(len(x_test), 1, 300)\n",
    "reshape_x_test.shape"
   ]
  },
  {
   "cell_type": "code",
   "execution_count": 23,
   "metadata": {
    "colab": {},
    "colab_type": "code",
    "id": "JIKq7z8tnIWl"
   },
   "outputs": [
    {
     "name": "stdout",
     "output_type": "stream",
     "text": [
      "time: 1.16 s\n"
     ]
    }
   ],
   "source": [
    "model = Sequential()\n",
    "model.add(LSTM(best_bayes_params['units1'], input_shape=(1,300), return_sequences=True))\n",
    "model.add(Dropout(best_bayes_params['dropout1']))\n",
    "model.add(LSTM(best_bayes_params['units2'], return_sequences=False))\n",
    "model.add(Dense(1, activation='sigmoid'))\n",
    "#model.compile(loss='mean_squared_error', optimizer='adam')\n",
    "# compile the model\n",
    "model.compile(optimizer='adam', loss='binary_crossentropy', metrics=['accuracy'])\n",
    "\n",
    "\n",
    "#model.compile(loss='mean_squared_error', optimizer='adam')\n",
    "# compile the model\n",
    "model.compile(loss='binary_crossentropy',\n",
    "          optimizer='adam',\n",
    "          metrics=['accuracy'])\n",
    "\n",
    "\n",
    "# define the checkpoint\n",
    "filepath= ch_folder + \"/word2vec-{epoch:02d}-{loss:.4f}.hdf5\"\n",
    "checkpoint = ModelCheckpoint(filepath, monitor='loss', verbose=1, save_best_only=True, mode='min')\n",
    "callbacks_list = [checkpoint]"
   ]
  },
  {
   "cell_type": "code",
   "execution_count": 24,
   "metadata": {
    "colab": {
     "base_uri": "https://localhost:8080/",
     "height": 1000
    },
    "colab_type": "code",
    "executionInfo": {
     "elapsed": 3944,
     "status": "ok",
     "timestamp": 1589755592715,
     "user": {
      "displayName": "Melina D'Alessandro",
      "photoUrl": "https://lh4.googleusercontent.com/-AU_sxBOTu8w/AAAAAAAAAAI/AAAAAAAAAR8/nO0zS5J_9Wo/s64/photo.jpg",
      "userId": "09190509655785270416"
     },
     "user_tz": 180
    },
    "id": "JsHgNLFnnTLN",
    "outputId": "4c22910d-c7b2-4dff-eb32-15c2574174ff",
    "scrolled": true
   },
   "outputs": [
    {
     "name": "stdout",
     "output_type": "stream",
     "text": [
      "Epoch 1/50\n",
      "40268/40268 [==============================] - ETA: 2:10 - loss: 0.6931 - accuracy: 0.57 - ETA: 1:10 - loss: 0.6929 - accuracy: 0.56 - ETA: 50s - loss: 0.6930 - accuracy: 0.5443 - ETA: 40s - loss: 0.6928 - accuracy: 0.543 - ETA: 34s - loss: 0.6926 - accuracy: 0.545 - ETA: 30s - loss: 0.6922 - accuracy: 0.551 - ETA: 27s - loss: 0.6922 - accuracy: 0.547 - ETA: 25s - loss: 0.6924 - accuracy: 0.540 - ETA: 23s - loss: 0.6924 - accuracy: 0.537 - ETA: 21s - loss: 0.6918 - accuracy: 0.544 - ETA: 20s - loss: 0.6917 - accuracy: 0.545 - ETA: 19s - loss: 0.6914 - accuracy: 0.546 - ETA: 19s - loss: 0.6914 - accuracy: 0.545 - ETA: 18s - loss: 0.6918 - accuracy: 0.540 - ETA: 17s - loss: 0.6918 - accuracy: 0.539 - ETA: 17s - loss: 0.6914 - accuracy: 0.542 - ETA: 16s - loss: 0.6911 - accuracy: 0.544 - ETA: 16s - loss: 0.6909 - accuracy: 0.544 - ETA: 15s - loss: 0.6907 - accuracy: 0.545 - ETA: 15s - loss: 0.6907 - accuracy: 0.545 - ETA: 14s - loss: 0.6905 - accuracy: 0.545 - ETA: 14s - loss: 0.6907 - accuracy: 0.544 - ETA: 14s - loss: 0.6909 - accuracy: 0.542 - ETA: 13s - loss: 0.6912 - accuracy: 0.541 - ETA: 13s - loss: 0.6913 - accuracy: 0.540 - ETA: 13s - loss: 0.6915 - accuracy: 0.538 - ETA: 13s - loss: 0.6915 - accuracy: 0.538 - ETA: 13s - loss: 0.6915 - accuracy: 0.537 - ETA: 12s - loss: 0.6917 - accuracy: 0.536 - ETA: 12s - loss: 0.6914 - accuracy: 0.537 - ETA: 12s - loss: 0.6911 - accuracy: 0.540 - ETA: 12s - loss: 0.6909 - accuracy: 0.540 - ETA: 12s - loss: 0.6911 - accuracy: 0.539 - ETA: 11s - loss: 0.6914 - accuracy: 0.537 - ETA: 11s - loss: 0.6914 - accuracy: 0.536 - ETA: 11s - loss: 0.6915 - accuracy: 0.536 - ETA: 11s - loss: 0.6916 - accuracy: 0.535 - ETA: 11s - loss: 0.6917 - accuracy: 0.534 - ETA: 11s - loss: 0.6917 - accuracy: 0.534 - ETA: 10s - loss: 0.6916 - accuracy: 0.535 - ETA: 10s - loss: 0.6917 - accuracy: 0.533 - ETA: 10s - loss: 0.6917 - accuracy: 0.533 - ETA: 10s - loss: 0.6917 - accuracy: 0.533 - ETA: 10s - loss: 0.6917 - accuracy: 0.533 - ETA: 10s - loss: 0.6917 - accuracy: 0.533 - ETA: 10s - loss: 0.6916 - accuracy: 0.533 - ETA: 9s - loss: 0.6917 - accuracy: 0.532 - ETA: 9s - loss: 0.6918 - accuracy: 0.53 - ETA: 9s - loss: 0.6917 - accuracy: 0.53 - ETA: 9s - loss: 0.6917 - accuracy: 0.53 - ETA: 9s - loss: 0.6916 - accuracy: 0.53 - ETA: 9s - loss: 0.6916 - accuracy: 0.53 - ETA: 9s - loss: 0.6915 - accuracy: 0.53 - ETA: 9s - loss: 0.6914 - accuracy: 0.53 - ETA: 8s - loss: 0.6914 - accuracy: 0.53 - ETA: 8s - loss: 0.6914 - accuracy: 0.53 - ETA: 8s - loss: 0.6913 - accuracy: 0.53 - ETA: 8s - loss: 0.6913 - accuracy: 0.53 - ETA: 8s - loss: 0.6914 - accuracy: 0.53 - ETA: 8s - loss: 0.6913 - accuracy: 0.53 - ETA: 8s - loss: 0.6913 - accuracy: 0.53 - ETA: 8s - loss: 0.6913 - accuracy: 0.53 - ETA: 8s - loss: 0.6913 - accuracy: 0.53 - ETA: 7s - loss: 0.6913 - accuracy: 0.53 - ETA: 7s - loss: 0.6913 - accuracy: 0.53 - ETA: 7s - loss: 0.6913 - accuracy: 0.53 - ETA: 7s - loss: 0.6913 - accuracy: 0.53 - ETA: 7s - loss: 0.6914 - accuracy: 0.53 - ETA: 7s - loss: 0.6913 - accuracy: 0.53 - ETA: 7s - loss: 0.6913 - accuracy: 0.53 - ETA: 7s - loss: 0.6914 - accuracy: 0.53 - ETA: 7s - loss: 0.6914 - accuracy: 0.53 - ETA: 7s - loss: 0.6912 - accuracy: 0.53 - ETA: 6s - loss: 0.6912 - accuracy: 0.53 - ETA: 6s - loss: 0.6911 - accuracy: 0.53 - ETA: 6s - loss: 0.6911 - accuracy: 0.53 - ETA: 6s - loss: 0.6910 - accuracy: 0.53 - ETA: 6s - loss: 0.6910 - accuracy: 0.53 - ETA: 6s - loss: 0.6909 - accuracy: 0.53 - ETA: 6s - loss: 0.6909 - accuracy: 0.53 - ETA: 6s - loss: 0.6909 - accuracy: 0.53 - ETA: 6s - loss: 0.6909 - accuracy: 0.53 - ETA: 6s - loss: 0.6909 - accuracy: 0.53 - ETA: 5s - loss: 0.6909 - accuracy: 0.53 - ETA: 5s - loss: 0.6908 - accuracy: 0.53 - ETA: 5s - loss: 0.6908 - accuracy: 0.53 - ETA: 5s - loss: 0.6908 - accuracy: 0.53 - ETA: 5s - loss: 0.6909 - accuracy: 0.53 - ETA: 5s - loss: 0.6909 - accuracy: 0.53 - ETA: 5s - loss: 0.6909 - accuracy: 0.53 - ETA: 5s - loss: 0.6909 - accuracy: 0.53 - ETA: 5s - loss: 0.6908 - accuracy: 0.53 - ETA: 5s - loss: 0.6908 - accuracy: 0.53 - ETA: 5s - loss: 0.6907 - accuracy: 0.53 - ETA: 5s - loss: 0.6907 - accuracy: 0.53 - ETA: 4s - loss: 0.6907 - accuracy: 0.53 - ETA: 4s - loss: 0.6907 - accuracy: 0.53 - ETA: 4s - loss: 0.6907 - accuracy: 0.53 - ETA: 4s - loss: 0.6906 - accuracy: 0.53 - ETA: 4s - loss: 0.6906 - accuracy: 0.53 - ETA: 4s - loss: 0.6906 - accuracy: 0.53 - ETA: 4s - loss: 0.6907 - accuracy: 0.53 - ETA: 4s - loss: 0.6908 - accuracy: 0.53 - ETA: 4s - loss: 0.6908 - accuracy: 0.53 - ETA: 4s - loss: 0.6908 - accuracy: 0.53 - ETA: 4s - loss: 0.6908 - accuracy: 0.53 - ETA: 4s - loss: 0.6908 - accuracy: 0.53 - ETA: 3s - loss: 0.6908 - accuracy: 0.53 - ETA: 3s - loss: 0.6908 - accuracy: 0.53 - ETA: 3s - loss: 0.6908 - accuracy: 0.53 - ETA: 3s - loss: 0.6908 - accuracy: 0.53 - ETA: 3s - loss: 0.6907 - accuracy: 0.53 - ETA: 3s - loss: 0.6906 - accuracy: 0.53 - ETA: 3s - loss: 0.6906 - accuracy: 0.53 - ETA: 3s - loss: 0.6906 - accuracy: 0.53 - ETA: 3s - loss: 0.6907 - accuracy: 0.53 - ETA: 3s - loss: 0.6906 - accuracy: 0.53 - ETA: 3s - loss: 0.6906 - accuracy: 0.53 - ETA: 3s - loss: 0.6907 - accuracy: 0.53 - ETA: 2s - loss: 0.6906 - accuracy: 0.53 - ETA: 2s - loss: 0.6906 - accuracy: 0.53 - ETA: 2s - loss: 0.6906 - accuracy: 0.53 - ETA: 2s - loss: 0.6905 - accuracy: 0.53 - ETA: 2s - loss: 0.6905 - accuracy: 0.53 - ETA: 2s - loss: 0.6904 - accuracy: 0.53 - ETA: 2s - loss: 0.6904 - accuracy: 0.53 - ETA: 2s - loss: 0.6904 - accuracy: 0.53 - ETA: 2s - loss: 0.6905 - accuracy: 0.53 - ETA: 2s - loss: 0.6905 - accuracy: 0.53 - ETA: 2s - loss: 0.6904 - accuracy: 0.53 - ETA: 2s - loss: 0.6904 - accuracy: 0.53 - ETA: 1s - loss: 0.6905 - accuracy: 0.53 - ETA: 1s - loss: 0.6904 - accuracy: 0.53 - ETA: 1s - loss: 0.6905 - accuracy: 0.53 - ETA: 1s - loss: 0.6905 - accuracy: 0.53 - ETA: 1s - loss: 0.6905 - accuracy: 0.53 - ETA: 1s - loss: 0.6905 - accuracy: 0.53 - ETA: 1s - loss: 0.6904 - accuracy: 0.53 - ETA: 1s - loss: 0.6904 - accuracy: 0.53 - ETA: 1s - loss: 0.6904 - accuracy: 0.53 - ETA: 1s - loss: 0.6903 - accuracy: 0.53 - ETA: 1s - loss: 0.6904 - accuracy: 0.53 - ETA: 1s - loss: 0.6904 - accuracy: 0.53 - ETA: 1s - loss: 0.6904 - accuracy: 0.53 - ETA: 0s - loss: 0.6904 - accuracy: 0.53 - ETA: 0s - loss: 0.6904 - accuracy: 0.53 - ETA: 0s - loss: 0.6904 - accuracy: 0.53 - ETA: 0s - loss: 0.6904 - accuracy: 0.53 - ETA: 0s - loss: 0.6903 - accuracy: 0.53 - ETA: 0s - loss: 0.6904 - accuracy: 0.53 - ETA: 0s - loss: 0.6904 - accuracy: 0.53 - ETA: 0s - loss: 0.6904 - accuracy: 0.53 - ETA: 0s - loss: 0.6904 - accuracy: 0.53 - ETA: 0s - loss: 0.6903 - accuracy: 0.53 - ETA: 0s - loss: 0.6904 - accuracy: 0.53 - ETA: 0s - loss: 0.6904 - accuracy: 0.53 - ETA: 0s - loss: 0.6904 - accuracy: 0.53 - 12s 303us/step - loss: 0.6904 - accuracy: 0.5394\n",
      "\n",
      "Epoch 00001: loss improved from inf to 0.69038, saving model to Resultados/7/Checkpoints/word2vec-01-0.6904.hdf5\n",
      "Epoch 2/50\n"
     ]
    },
    {
     "name": "stdout",
     "output_type": "stream",
     "text": [
      "40268/40268 [==============================] - ETA: 10s - loss: 0.6865 - accuracy: 0.558 - ETA: 10s - loss: 0.6867 - accuracy: 0.558 - ETA: 10s - loss: 0.6867 - accuracy: 0.558 - ETA: 10s - loss: 0.6877 - accuracy: 0.552 - ETA: 10s - loss: 0.6889 - accuracy: 0.545 - ETA: 10s - loss: 0.6884 - accuracy: 0.548 - ETA: 10s - loss: 0.6890 - accuracy: 0.544 - ETA: 10s - loss: 0.6890 - accuracy: 0.544 - ETA: 10s - loss: 0.6890 - accuracy: 0.545 - ETA: 10s - loss: 0.6892 - accuracy: 0.543 - ETA: 9s - loss: 0.6898 - accuracy: 0.540 - ETA: 9s - loss: 0.6902 - accuracy: 0.53 - ETA: 9s - loss: 0.6896 - accuracy: 0.54 - ETA: 9s - loss: 0.6898 - accuracy: 0.54 - ETA: 9s - loss: 0.6896 - accuracy: 0.54 - ETA: 9s - loss: 0.6886 - accuracy: 0.54 - ETA: 9s - loss: 0.6889 - accuracy: 0.54 - ETA: 9s - loss: 0.6881 - accuracy: 0.55 - ETA: 9s - loss: 0.6884 - accuracy: 0.54 - ETA: 9s - loss: 0.6885 - accuracy: 0.54 - ETA: 9s - loss: 0.6885 - accuracy: 0.54 - ETA: 9s - loss: 0.6886 - accuracy: 0.54 - ETA: 9s - loss: 0.6889 - accuracy: 0.54 - ETA: 9s - loss: 0.6890 - accuracy: 0.54 - ETA: 9s - loss: 0.6890 - accuracy: 0.54 - ETA: 9s - loss: 0.6894 - accuracy: 0.54 - ETA: 9s - loss: 0.6895 - accuracy: 0.54 - ETA: 9s - loss: 0.6894 - accuracy: 0.54 - ETA: 9s - loss: 0.6895 - accuracy: 0.54 - ETA: 9s - loss: 0.6895 - accuracy: 0.54 - ETA: 8s - loss: 0.6891 - accuracy: 0.54 - ETA: 8s - loss: 0.6893 - accuracy: 0.54 - ETA: 8s - loss: 0.6892 - accuracy: 0.54 - ETA: 8s - loss: 0.6893 - accuracy: 0.54 - ETA: 8s - loss: 0.6895 - accuracy: 0.54 - ETA: 8s - loss: 0.6895 - accuracy: 0.54 - ETA: 8s - loss: 0.6895 - accuracy: 0.54 - ETA: 8s - loss: 0.6893 - accuracy: 0.54 - ETA: 8s - loss: 0.6892 - accuracy: 0.54 - ETA: 8s - loss: 0.6893 - accuracy: 0.54 - ETA: 8s - loss: 0.6893 - accuracy: 0.54 - ETA: 8s - loss: 0.6895 - accuracy: 0.54 - ETA: 8s - loss: 0.6895 - accuracy: 0.54 - ETA: 8s - loss: 0.6897 - accuracy: 0.54 - ETA: 8s - loss: 0.6899 - accuracy: 0.54 - ETA: 8s - loss: 0.6898 - accuracy: 0.54 - ETA: 8s - loss: 0.6897 - accuracy: 0.54 - ETA: 7s - loss: 0.6897 - accuracy: 0.54 - ETA: 7s - loss: 0.6897 - accuracy: 0.54 - ETA: 7s - loss: 0.6895 - accuracy: 0.54 - ETA: 7s - loss: 0.6896 - accuracy: 0.54 - ETA: 7s - loss: 0.6896 - accuracy: 0.54 - ETA: 7s - loss: 0.6897 - accuracy: 0.54 - ETA: 7s - loss: 0.6898 - accuracy: 0.54 - ETA: 7s - loss: 0.6899 - accuracy: 0.54 - ETA: 7s - loss: 0.6898 - accuracy: 0.54 - ETA: 7s - loss: 0.6898 - accuracy: 0.54 - ETA: 7s - loss: 0.6899 - accuracy: 0.54 - ETA: 7s - loss: 0.6898 - accuracy: 0.54 - ETA: 7s - loss: 0.6899 - accuracy: 0.54 - ETA: 7s - loss: 0.6901 - accuracy: 0.53 - ETA: 7s - loss: 0.6900 - accuracy: 0.53 - ETA: 6s - loss: 0.6899 - accuracy: 0.53 - ETA: 6s - loss: 0.6900 - accuracy: 0.53 - ETA: 6s - loss: 0.6899 - accuracy: 0.54 - ETA: 6s - loss: 0.6899 - accuracy: 0.54 - ETA: 6s - loss: 0.6900 - accuracy: 0.53 - ETA: 6s - loss: 0.6900 - accuracy: 0.53 - ETA: 6s - loss: 0.6899 - accuracy: 0.54 - ETA: 6s - loss: 0.6899 - accuracy: 0.53 - ETA: 6s - loss: 0.6899 - accuracy: 0.53 - ETA: 6s - loss: 0.6899 - accuracy: 0.54 - ETA: 6s - loss: 0.6900 - accuracy: 0.53 - ETA: 6s - loss: 0.6899 - accuracy: 0.54 - ETA: 6s - loss: 0.6899 - accuracy: 0.54 - ETA: 6s - loss: 0.6899 - accuracy: 0.53 - ETA: 5s - loss: 0.6900 - accuracy: 0.53 - ETA: 5s - loss: 0.6899 - accuracy: 0.54 - ETA: 5s - loss: 0.6899 - accuracy: 0.54 - ETA: 5s - loss: 0.6899 - accuracy: 0.54 - ETA: 5s - loss: 0.6898 - accuracy: 0.54 - ETA: 5s - loss: 0.6898 - accuracy: 0.54 - ETA: 5s - loss: 0.6900 - accuracy: 0.53 - ETA: 5s - loss: 0.6901 - accuracy: 0.53 - ETA: 5s - loss: 0.6901 - accuracy: 0.53 - ETA: 5s - loss: 0.6900 - accuracy: 0.53 - ETA: 5s - loss: 0.6900 - accuracy: 0.53 - ETA: 5s - loss: 0.6902 - accuracy: 0.53 - ETA: 5s - loss: 0.6902 - accuracy: 0.53 - ETA: 5s - loss: 0.6901 - accuracy: 0.53 - ETA: 4s - loss: 0.6901 - accuracy: 0.53 - ETA: 4s - loss: 0.6902 - accuracy: 0.53 - ETA: 4s - loss: 0.6901 - accuracy: 0.53 - ETA: 4s - loss: 0.6901 - accuracy: 0.53 - ETA: 4s - loss: 0.6901 - accuracy: 0.53 - ETA: 4s - loss: 0.6901 - accuracy: 0.53 - ETA: 4s - loss: 0.6901 - accuracy: 0.53 - ETA: 4s - loss: 0.6901 - accuracy: 0.53 - ETA: 4s - loss: 0.6900 - accuracy: 0.53 - ETA: 4s - loss: 0.6901 - accuracy: 0.53 - ETA: 4s - loss: 0.6900 - accuracy: 0.53 - ETA: 4s - loss: 0.6900 - accuracy: 0.53 - ETA: 4s - loss: 0.6900 - accuracy: 0.53 - ETA: 4s - loss: 0.6900 - accuracy: 0.53 - ETA: 3s - loss: 0.6899 - accuracy: 0.54 - ETA: 3s - loss: 0.6899 - accuracy: 0.54 - ETA: 3s - loss: 0.6899 - accuracy: 0.54 - ETA: 3s - loss: 0.6899 - accuracy: 0.54 - ETA: 3s - loss: 0.6899 - accuracy: 0.53 - ETA: 3s - loss: 0.6899 - accuracy: 0.53 - ETA: 3s - loss: 0.6899 - accuracy: 0.54 - ETA: 3s - loss: 0.6900 - accuracy: 0.53 - ETA: 3s - loss: 0.6900 - accuracy: 0.53 - ETA: 3s - loss: 0.6901 - accuracy: 0.53 - ETA: 3s - loss: 0.6900 - accuracy: 0.53 - ETA: 3s - loss: 0.6901 - accuracy: 0.53 - ETA: 3s - loss: 0.6901 - accuracy: 0.53 - ETA: 2s - loss: 0.6901 - accuracy: 0.53 - ETA: 2s - loss: 0.6901 - accuracy: 0.53 - ETA: 2s - loss: 0.6900 - accuracy: 0.53 - ETA: 2s - loss: 0.6900 - accuracy: 0.53 - ETA: 2s - loss: 0.6900 - accuracy: 0.53 - ETA: 2s - loss: 0.6900 - accuracy: 0.53 - ETA: 2s - loss: 0.6900 - accuracy: 0.53 - ETA: 2s - loss: 0.6900 - accuracy: 0.53 - ETA: 2s - loss: 0.6900 - accuracy: 0.53 - ETA: 2s - loss: 0.6900 - accuracy: 0.53 - ETA: 2s - loss: 0.6900 - accuracy: 0.53 - ETA: 2s - loss: 0.6900 - accuracy: 0.53 - ETA: 2s - loss: 0.6900 - accuracy: 0.53 - ETA: 2s - loss: 0.6900 - accuracy: 0.54 - ETA: 1s - loss: 0.6900 - accuracy: 0.53 - ETA: 1s - loss: 0.6900 - accuracy: 0.53 - ETA: 1s - loss: 0.6901 - accuracy: 0.53 - ETA: 1s - loss: 0.6901 - accuracy: 0.53 - ETA: 1s - loss: 0.6900 - accuracy: 0.53 - ETA: 1s - loss: 0.6900 - accuracy: 0.53 - ETA: 1s - loss: 0.6900 - accuracy: 0.53 - ETA: 1s - loss: 0.6900 - accuracy: 0.53 - ETA: 1s - loss: 0.6900 - accuracy: 0.53 - ETA: 1s - loss: 0.6900 - accuracy: 0.53 - ETA: 1s - loss: 0.6900 - accuracy: 0.53 - ETA: 1s - loss: 0.6900 - accuracy: 0.53 - ETA: 1s - loss: 0.6900 - accuracy: 0.53 - ETA: 0s - loss: 0.6900 - accuracy: 0.53 - ETA: 0s - loss: 0.6900 - accuracy: 0.53 - ETA: 0s - loss: 0.6900 - accuracy: 0.53 - ETA: 0s - loss: 0.6899 - accuracy: 0.54 - ETA: 0s - loss: 0.6899 - accuracy: 0.54 - ETA: 0s - loss: 0.6899 - accuracy: 0.54 - ETA: 0s - loss: 0.6899 - accuracy: 0.53 - ETA: 0s - loss: 0.6899 - accuracy: 0.53 - ETA: 0s - loss: 0.6900 - accuracy: 0.53 - ETA: 0s - loss: 0.6899 - accuracy: 0.53 - ETA: 0s - loss: 0.6900 - accuracy: 0.53 - ETA: 0s - loss: 0.6900 - accuracy: 0.53 - ETA: 0s - loss: 0.6901 - accuracy: 0.53 - 12s 295us/step - loss: 0.6900 - accuracy: 0.5393\n",
      "\n",
      "Epoch 00002: loss improved from 0.69038 to 0.69004, saving model to Resultados/7/Checkpoints/word2vec-02-0.6900.hdf5\n",
      "Epoch 3/50\n"
     ]
    },
    {
     "name": "stdout",
     "output_type": "stream",
     "text": [
      "40268/40268 [==============================] - ETA: 9s - loss: 0.6859 - accuracy: 0.56 - ETA: 10s - loss: 0.6865 - accuracy: 0.560 - ETA: 10s - loss: 0.6878 - accuracy: 0.553 - ETA: 10s - loss: 0.6868 - accuracy: 0.558 - ETA: 10s - loss: 0.6881 - accuracy: 0.551 - ETA: 10s - loss: 0.6867 - accuracy: 0.560 - ETA: 10s - loss: 0.6880 - accuracy: 0.552 - ETA: 10s - loss: 0.6881 - accuracy: 0.550 - ETA: 10s - loss: 0.6883 - accuracy: 0.550 - ETA: 10s - loss: 0.6881 - accuracy: 0.551 - ETA: 10s - loss: 0.6883 - accuracy: 0.549 - ETA: 10s - loss: 0.6885 - accuracy: 0.547 - ETA: 10s - loss: 0.6885 - accuracy: 0.547 - ETA: 10s - loss: 0.6884 - accuracy: 0.548 - ETA: 9s - loss: 0.6880 - accuracy: 0.550 - ETA: 9s - loss: 0.6878 - accuracy: 0.55 - ETA: 9s - loss: 0.6878 - accuracy: 0.55 - ETA: 9s - loss: 0.6881 - accuracy: 0.54 - ETA: 9s - loss: 0.6881 - accuracy: 0.54 - ETA: 9s - loss: 0.6882 - accuracy: 0.54 - ETA: 9s - loss: 0.6884 - accuracy: 0.54 - ETA: 9s - loss: 0.6885 - accuracy: 0.54 - ETA: 9s - loss: 0.6882 - accuracy: 0.54 - ETA: 9s - loss: 0.6883 - accuracy: 0.54 - ETA: 9s - loss: 0.6883 - accuracy: 0.54 - ETA: 9s - loss: 0.6883 - accuracy: 0.54 - ETA: 9s - loss: 0.6881 - accuracy: 0.54 - ETA: 9s - loss: 0.6886 - accuracy: 0.54 - ETA: 8s - loss: 0.6890 - accuracy: 0.54 - ETA: 8s - loss: 0.6890 - accuracy: 0.54 - ETA: 8s - loss: 0.6893 - accuracy: 0.54 - ETA: 8s - loss: 0.6893 - accuracy: 0.54 - ETA: 8s - loss: 0.6892 - accuracy: 0.54 - ETA: 8s - loss: 0.6891 - accuracy: 0.54 - ETA: 8s - loss: 0.6893 - accuracy: 0.54 - ETA: 8s - loss: 0.6892 - accuracy: 0.54 - ETA: 8s - loss: 0.6891 - accuracy: 0.54 - ETA: 8s - loss: 0.6893 - accuracy: 0.54 - ETA: 8s - loss: 0.6892 - accuracy: 0.54 - ETA: 8s - loss: 0.6892 - accuracy: 0.54 - ETA: 8s - loss: 0.6892 - accuracy: 0.54 - ETA: 8s - loss: 0.6892 - accuracy: 0.54 - ETA: 7s - loss: 0.6893 - accuracy: 0.54 - ETA: 7s - loss: 0.6893 - accuracy: 0.54 - ETA: 7s - loss: 0.6893 - accuracy: 0.54 - ETA: 7s - loss: 0.6893 - accuracy: 0.54 - ETA: 7s - loss: 0.6893 - accuracy: 0.54 - ETA: 7s - loss: 0.6895 - accuracy: 0.54 - ETA: 7s - loss: 0.6894 - accuracy: 0.54 - ETA: 7s - loss: 0.6895 - accuracy: 0.54 - ETA: 7s - loss: 0.6895 - accuracy: 0.54 - ETA: 7s - loss: 0.6895 - accuracy: 0.54 - ETA: 7s - loss: 0.6895 - accuracy: 0.54 - ETA: 7s - loss: 0.6893 - accuracy: 0.54 - ETA: 7s - loss: 0.6894 - accuracy: 0.54 - ETA: 7s - loss: 0.6894 - accuracy: 0.54 - ETA: 7s - loss: 0.6893 - accuracy: 0.54 - ETA: 6s - loss: 0.6893 - accuracy: 0.54 - ETA: 6s - loss: 0.6892 - accuracy: 0.54 - ETA: 6s - loss: 0.6891 - accuracy: 0.54 - ETA: 6s - loss: 0.6890 - accuracy: 0.54 - ETA: 6s - loss: 0.6890 - accuracy: 0.54 - ETA: 6s - loss: 0.6889 - accuracy: 0.54 - ETA: 6s - loss: 0.6889 - accuracy: 0.54 - ETA: 6s - loss: 0.6889 - accuracy: 0.54 - ETA: 6s - loss: 0.6890 - accuracy: 0.54 - ETA: 6s - loss: 0.6891 - accuracy: 0.54 - ETA: 6s - loss: 0.6890 - accuracy: 0.54 - ETA: 6s - loss: 0.6890 - accuracy: 0.54 - ETA: 6s - loss: 0.6892 - accuracy: 0.54 - ETA: 6s - loss: 0.6892 - accuracy: 0.54 - ETA: 5s - loss: 0.6893 - accuracy: 0.54 - ETA: 5s - loss: 0.6894 - accuracy: 0.54 - ETA: 5s - loss: 0.6894 - accuracy: 0.54 - ETA: 5s - loss: 0.6894 - accuracy: 0.54 - ETA: 5s - loss: 0.6894 - accuracy: 0.54 - ETA: 5s - loss: 0.6895 - accuracy: 0.54 - ETA: 5s - loss: 0.6894 - accuracy: 0.54 - ETA: 5s - loss: 0.6895 - accuracy: 0.54 - ETA: 5s - loss: 0.6895 - accuracy: 0.54 - ETA: 5s - loss: 0.6895 - accuracy: 0.54 - ETA: 5s - loss: 0.6895 - accuracy: 0.54 - ETA: 5s - loss: 0.6896 - accuracy: 0.54 - ETA: 5s - loss: 0.6896 - accuracy: 0.54 - ETA: 5s - loss: 0.6896 - accuracy: 0.54 - ETA: 5s - loss: 0.6896 - accuracy: 0.54 - ETA: 4s - loss: 0.6896 - accuracy: 0.54 - ETA: 4s - loss: 0.6897 - accuracy: 0.54 - ETA: 4s - loss: 0.6897 - accuracy: 0.54 - ETA: 4s - loss: 0.6896 - accuracy: 0.54 - ETA: 4s - loss: 0.6896 - accuracy: 0.54 - ETA: 4s - loss: 0.6896 - accuracy: 0.54 - ETA: 4s - loss: 0.6895 - accuracy: 0.54 - ETA: 4s - loss: 0.6895 - accuracy: 0.54 - ETA: 4s - loss: 0.6895 - accuracy: 0.54 - ETA: 4s - loss: 0.6895 - accuracy: 0.54 - ETA: 4s - loss: 0.6895 - accuracy: 0.54 - ETA: 4s - loss: 0.6894 - accuracy: 0.54 - ETA: 4s - loss: 0.6895 - accuracy: 0.54 - ETA: 4s - loss: 0.6895 - accuracy: 0.54 - ETA: 3s - loss: 0.6896 - accuracy: 0.54 - ETA: 3s - loss: 0.6897 - accuracy: 0.54 - ETA: 3s - loss: 0.6897 - accuracy: 0.54 - ETA: 3s - loss: 0.6896 - accuracy: 0.54 - ETA: 3s - loss: 0.6897 - accuracy: 0.54 - ETA: 3s - loss: 0.6896 - accuracy: 0.54 - ETA: 3s - loss: 0.6896 - accuracy: 0.54 - ETA: 3s - loss: 0.6896 - accuracy: 0.54 - ETA: 3s - loss: 0.6896 - accuracy: 0.54 - ETA: 3s - loss: 0.6895 - accuracy: 0.54 - ETA: 3s - loss: 0.6895 - accuracy: 0.54 - ETA: 3s - loss: 0.6895 - accuracy: 0.54 - ETA: 3s - loss: 0.6895 - accuracy: 0.54 - ETA: 3s - loss: 0.6894 - accuracy: 0.54 - ETA: 3s - loss: 0.6894 - accuracy: 0.54 - ETA: 2s - loss: 0.6894 - accuracy: 0.54 - ETA: 2s - loss: 0.6894 - accuracy: 0.54 - ETA: 2s - loss: 0.6894 - accuracy: 0.54 - ETA: 2s - loss: 0.6894 - accuracy: 0.54 - ETA: 2s - loss: 0.6894 - accuracy: 0.54 - ETA: 2s - loss: 0.6895 - accuracy: 0.54 - ETA: 2s - loss: 0.6894 - accuracy: 0.54 - ETA: 2s - loss: 0.6894 - accuracy: 0.54 - ETA: 2s - loss: 0.6894 - accuracy: 0.54 - ETA: 2s - loss: 0.6895 - accuracy: 0.54 - ETA: 2s - loss: 0.6895 - accuracy: 0.54 - ETA: 2s - loss: 0.6895 - accuracy: 0.54 - ETA: 2s - loss: 0.6895 - accuracy: 0.54 - ETA: 2s - loss: 0.6896 - accuracy: 0.54 - ETA: 1s - loss: 0.6896 - accuracy: 0.54 - ETA: 1s - loss: 0.6896 - accuracy: 0.54 - ETA: 1s - loss: 0.6896 - accuracy: 0.54 - ETA: 1s - loss: 0.6896 - accuracy: 0.54 - ETA: 1s - loss: 0.6897 - accuracy: 0.54 - ETA: 1s - loss: 0.6897 - accuracy: 0.54 - ETA: 1s - loss: 0.6897 - accuracy: 0.54 - ETA: 1s - loss: 0.6897 - accuracy: 0.54 - ETA: 1s - loss: 0.6898 - accuracy: 0.54 - ETA: 1s - loss: 0.6898 - accuracy: 0.54 - ETA: 1s - loss: 0.6898 - accuracy: 0.54 - ETA: 1s - loss: 0.6898 - accuracy: 0.54 - ETA: 1s - loss: 0.6898 - accuracy: 0.54 - ETA: 1s - loss: 0.6898 - accuracy: 0.54 - ETA: 0s - loss: 0.6898 - accuracy: 0.54 - ETA: 0s - loss: 0.6897 - accuracy: 0.54 - ETA: 0s - loss: 0.6898 - accuracy: 0.54 - ETA: 0s - loss: 0.6898 - accuracy: 0.53 - ETA: 0s - loss: 0.6898 - accuracy: 0.53 - ETA: 0s - loss: 0.6898 - accuracy: 0.53 - ETA: 0s - loss: 0.6898 - accuracy: 0.53 - ETA: 0s - loss: 0.6898 - accuracy: 0.53 - ETA: 0s - loss: 0.6898 - accuracy: 0.53 - ETA: 0s - loss: 0.6898 - accuracy: 0.53 - ETA: 0s - loss: 0.6898 - accuracy: 0.53 - ETA: 0s - loss: 0.6898 - accuracy: 0.53 - ETA: 0s - loss: 0.6899 - accuracy: 0.53 - ETA: 0s - loss: 0.6899 - accuracy: 0.53 - 11s 282us/step - loss: 0.6899 - accuracy: 0.5394\n",
      "\n",
      "Epoch 00003: loss improved from 0.69004 to 0.68989, saving model to Resultados/7/Checkpoints/word2vec-03-0.6899.hdf5\n",
      "Epoch 4/50\n"
     ]
    },
    {
     "name": "stdout",
     "output_type": "stream",
     "text": [
      "40268/40268 [==============================] - ETA: 9s - loss: 0.6932 - accuracy: 0.51 - ETA: 9s - loss: 0.6896 - accuracy: 0.54 - ETA: 10s - loss: 0.6891 - accuracy: 0.546 - ETA: 10s - loss: 0.6905 - accuracy: 0.532 - ETA: 10s - loss: 0.6914 - accuracy: 0.527 - ETA: 10s - loss: 0.6913 - accuracy: 0.525 - ETA: 10s - loss: 0.6921 - accuracy: 0.517 - ETA: 10s - loss: 0.6917 - accuracy: 0.520 - ETA: 10s - loss: 0.6909 - accuracy: 0.526 - ETA: 10s - loss: 0.6907 - accuracy: 0.529 - ETA: 10s - loss: 0.6910 - accuracy: 0.528 - ETA: 10s - loss: 0.6909 - accuracy: 0.529 - ETA: 10s - loss: 0.6908 - accuracy: 0.529 - ETA: 10s - loss: 0.6904 - accuracy: 0.532 - ETA: 10s - loss: 0.6898 - accuracy: 0.537 - ETA: 10s - loss: 0.6896 - accuracy: 0.538 - ETA: 9s - loss: 0.6898 - accuracy: 0.537 - ETA: 9s - loss: 0.6895 - accuracy: 0.53 - ETA: 9s - loss: 0.6896 - accuracy: 0.53 - ETA: 9s - loss: 0.6895 - accuracy: 0.53 - ETA: 9s - loss: 0.6896 - accuracy: 0.53 - ETA: 9s - loss: 0.6894 - accuracy: 0.53 - ETA: 9s - loss: 0.6892 - accuracy: 0.54 - ETA: 9s - loss: 0.6889 - accuracy: 0.54 - ETA: 9s - loss: 0.6889 - accuracy: 0.54 - ETA: 9s - loss: 0.6895 - accuracy: 0.54 - ETA: 9s - loss: 0.6895 - accuracy: 0.53 - ETA: 9s - loss: 0.6892 - accuracy: 0.54 - ETA: 9s - loss: 0.6892 - accuracy: 0.54 - ETA: 8s - loss: 0.6895 - accuracy: 0.54 - ETA: 8s - loss: 0.6896 - accuracy: 0.54 - ETA: 8s - loss: 0.6895 - accuracy: 0.54 - ETA: 8s - loss: 0.6894 - accuracy: 0.54 - ETA: 8s - loss: 0.6895 - accuracy: 0.54 - ETA: 8s - loss: 0.6894 - accuracy: 0.54 - ETA: 8s - loss: 0.6893 - accuracy: 0.54 - ETA: 8s - loss: 0.6894 - accuracy: 0.54 - ETA: 8s - loss: 0.6893 - accuracy: 0.54 - ETA: 8s - loss: 0.6895 - accuracy: 0.54 - ETA: 8s - loss: 0.6894 - accuracy: 0.54 - ETA: 8s - loss: 0.6894 - accuracy: 0.54 - ETA: 8s - loss: 0.6892 - accuracy: 0.54 - ETA: 8s - loss: 0.6892 - accuracy: 0.54 - ETA: 7s - loss: 0.6891 - accuracy: 0.54 - ETA: 7s - loss: 0.6892 - accuracy: 0.54 - ETA: 7s - loss: 0.6892 - accuracy: 0.54 - ETA: 7s - loss: 0.6891 - accuracy: 0.54 - ETA: 7s - loss: 0.6890 - accuracy: 0.54 - ETA: 7s - loss: 0.6891 - accuracy: 0.54 - ETA: 7s - loss: 0.6891 - accuracy: 0.54 - ETA: 7s - loss: 0.6892 - accuracy: 0.54 - ETA: 7s - loss: 0.6891 - accuracy: 0.54 - ETA: 7s - loss: 0.6890 - accuracy: 0.54 - ETA: 7s - loss: 0.6889 - accuracy: 0.54 - ETA: 7s - loss: 0.6890 - accuracy: 0.54 - ETA: 7s - loss: 0.6890 - accuracy: 0.54 - ETA: 7s - loss: 0.6892 - accuracy: 0.54 - ETA: 6s - loss: 0.6892 - accuracy: 0.54 - ETA: 6s - loss: 0.6892 - accuracy: 0.54 - ETA: 6s - loss: 0.6893 - accuracy: 0.54 - ETA: 6s - loss: 0.6893 - accuracy: 0.54 - ETA: 6s - loss: 0.6892 - accuracy: 0.54 - ETA: 6s - loss: 0.6892 - accuracy: 0.54 - ETA: 6s - loss: 0.6893 - accuracy: 0.54 - ETA: 6s - loss: 0.6892 - accuracy: 0.54 - ETA: 6s - loss: 0.6893 - accuracy: 0.54 - ETA: 6s - loss: 0.6893 - accuracy: 0.54 - ETA: 6s - loss: 0.6892 - accuracy: 0.54 - ETA: 6s - loss: 0.6892 - accuracy: 0.54 - ETA: 6s - loss: 0.6892 - accuracy: 0.54 - ETA: 6s - loss: 0.6892 - accuracy: 0.54 - ETA: 5s - loss: 0.6890 - accuracy: 0.54 - ETA: 5s - loss: 0.6890 - accuracy: 0.54 - ETA: 5s - loss: 0.6890 - accuracy: 0.54 - ETA: 5s - loss: 0.6889 - accuracy: 0.54 - ETA: 5s - loss: 0.6889 - accuracy: 0.54 - ETA: 5s - loss: 0.6890 - accuracy: 0.54 - ETA: 5s - loss: 0.6889 - accuracy: 0.54 - ETA: 5s - loss: 0.6889 - accuracy: 0.54 - ETA: 5s - loss: 0.6889 - accuracy: 0.54 - ETA: 5s - loss: 0.6888 - accuracy: 0.54 - ETA: 5s - loss: 0.6888 - accuracy: 0.54 - ETA: 5s - loss: 0.6887 - accuracy: 0.54 - ETA: 5s - loss: 0.6887 - accuracy: 0.54 - ETA: 5s - loss: 0.6888 - accuracy: 0.54 - ETA: 5s - loss: 0.6887 - accuracy: 0.54 - ETA: 4s - loss: 0.6885 - accuracy: 0.54 - ETA: 4s - loss: 0.6885 - accuracy: 0.54 - ETA: 4s - loss: 0.6886 - accuracy: 0.54 - ETA: 4s - loss: 0.6887 - accuracy: 0.54 - ETA: 4s - loss: 0.6887 - accuracy: 0.54 - ETA: 4s - loss: 0.6887 - accuracy: 0.54 - ETA: 4s - loss: 0.6890 - accuracy: 0.54 - ETA: 4s - loss: 0.6890 - accuracy: 0.54 - ETA: 4s - loss: 0.6889 - accuracy: 0.54 - ETA: 4s - loss: 0.6889 - accuracy: 0.54 - ETA: 4s - loss: 0.6889 - accuracy: 0.54 - ETA: 4s - loss: 0.6889 - accuracy: 0.54 - ETA: 4s - loss: 0.6888 - accuracy: 0.54 - ETA: 4s - loss: 0.6888 - accuracy: 0.54 - ETA: 3s - loss: 0.6889 - accuracy: 0.54 - ETA: 3s - loss: 0.6889 - accuracy: 0.54 - ETA: 3s - loss: 0.6889 - accuracy: 0.54 - ETA: 3s - loss: 0.6889 - accuracy: 0.54 - ETA: 3s - loss: 0.6889 - accuracy: 0.54 - ETA: 3s - loss: 0.6888 - accuracy: 0.54 - ETA: 3s - loss: 0.6889 - accuracy: 0.54 - ETA: 3s - loss: 0.6889 - accuracy: 0.54 - ETA: 3s - loss: 0.6889 - accuracy: 0.54 - ETA: 3s - loss: 0.6890 - accuracy: 0.54 - ETA: 3s - loss: 0.6890 - accuracy: 0.54 - ETA: 3s - loss: 0.6890 - accuracy: 0.54 - ETA: 3s - loss: 0.6890 - accuracy: 0.54 - ETA: 3s - loss: 0.6889 - accuracy: 0.54 - ETA: 3s - loss: 0.6889 - accuracy: 0.54 - ETA: 2s - loss: 0.6889 - accuracy: 0.54 - ETA: 2s - loss: 0.6889 - accuracy: 0.54 - ETA: 2s - loss: 0.6889 - accuracy: 0.54 - ETA: 2s - loss: 0.6889 - accuracy: 0.54 - ETA: 2s - loss: 0.6889 - accuracy: 0.54 - ETA: 2s - loss: 0.6890 - accuracy: 0.54 - ETA: 2s - loss: 0.6889 - accuracy: 0.54 - ETA: 2s - loss: 0.6889 - accuracy: 0.54 - ETA: 2s - loss: 0.6889 - accuracy: 0.54 - ETA: 2s - loss: 0.6889 - accuracy: 0.54 - ETA: 2s - loss: 0.6889 - accuracy: 0.54 - ETA: 2s - loss: 0.6890 - accuracy: 0.54 - ETA: 2s - loss: 0.6889 - accuracy: 0.54 - ETA: 2s - loss: 0.6889 - accuracy: 0.54 - ETA: 1s - loss: 0.6890 - accuracy: 0.54 - ETA: 1s - loss: 0.6891 - accuracy: 0.54 - ETA: 1s - loss: 0.6890 - accuracy: 0.54 - ETA: 1s - loss: 0.6890 - accuracy: 0.54 - ETA: 1s - loss: 0.6890 - accuracy: 0.54 - ETA: 1s - loss: 0.6891 - accuracy: 0.54 - ETA: 1s - loss: 0.6891 - accuracy: 0.54 - ETA: 1s - loss: 0.6892 - accuracy: 0.54 - ETA: 1s - loss: 0.6892 - accuracy: 0.54 - ETA: 1s - loss: 0.6892 - accuracy: 0.54 - ETA: 1s - loss: 0.6892 - accuracy: 0.54 - ETA: 1s - loss: 0.6892 - accuracy: 0.54 - ETA: 1s - loss: 0.6892 - accuracy: 0.54 - ETA: 1s - loss: 0.6892 - accuracy: 0.54 - ETA: 0s - loss: 0.6892 - accuracy: 0.54 - ETA: 0s - loss: 0.6892 - accuracy: 0.53 - ETA: 0s - loss: 0.6892 - accuracy: 0.53 - ETA: 0s - loss: 0.6893 - accuracy: 0.53 - ETA: 0s - loss: 0.6893 - accuracy: 0.53 - ETA: 0s - loss: 0.6893 - accuracy: 0.53 - ETA: 0s - loss: 0.6893 - accuracy: 0.53 - ETA: 0s - loss: 0.6894 - accuracy: 0.53 - ETA: 0s - loss: 0.6893 - accuracy: 0.53 - ETA: 0s - loss: 0.6893 - accuracy: 0.53 - ETA: 0s - loss: 0.6893 - accuracy: 0.53 - ETA: 0s - loss: 0.6893 - accuracy: 0.53 - ETA: 0s - loss: 0.6893 - accuracy: 0.53 - ETA: 0s - loss: 0.6893 - accuracy: 0.53 - 11s 284us/step - loss: 0.6893 - accuracy: 0.5391\n",
      "\n",
      "Epoch 00004: loss improved from 0.68989 to 0.68932, saving model to Resultados/7/Checkpoints/word2vec-04-0.6893.hdf5\n",
      "Epoch 5/50\n"
     ]
    },
    {
     "name": "stdout",
     "output_type": "stream",
     "text": [
      "40268/40268 [==============================] - ETA: 10s - loss: 0.6881 - accuracy: 0.543 - ETA: 10s - loss: 0.6883 - accuracy: 0.554 - ETA: 11s - loss: 0.6904 - accuracy: 0.536 - ETA: 11s - loss: 0.6893 - accuracy: 0.536 - ETA: 11s - loss: 0.6893 - accuracy: 0.536 - ETA: 11s - loss: 0.6889 - accuracy: 0.536 - ETA: 11s - loss: 0.6893 - accuracy: 0.532 - ETA: 11s - loss: 0.6901 - accuracy: 0.528 - ETA: 11s - loss: 0.6912 - accuracy: 0.520 - ETA: 11s - loss: 0.6907 - accuracy: 0.523 - ETA: 11s - loss: 0.6906 - accuracy: 0.525 - ETA: 11s - loss: 0.6907 - accuracy: 0.525 - ETA: 11s - loss: 0.6900 - accuracy: 0.528 - ETA: 11s - loss: 0.6900 - accuracy: 0.529 - ETA: 10s - loss: 0.6907 - accuracy: 0.524 - ETA: 10s - loss: 0.6907 - accuracy: 0.524 - ETA: 10s - loss: 0.6903 - accuracy: 0.527 - ETA: 10s - loss: 0.6900 - accuracy: 0.531 - ETA: 10s - loss: 0.6901 - accuracy: 0.530 - ETA: 10s - loss: 0.6899 - accuracy: 0.531 - ETA: 10s - loss: 0.6897 - accuracy: 0.532 - ETA: 10s - loss: 0.6896 - accuracy: 0.534 - ETA: 10s - loss: 0.6895 - accuracy: 0.535 - ETA: 10s - loss: 0.6896 - accuracy: 0.535 - ETA: 10s - loss: 0.6900 - accuracy: 0.532 - ETA: 10s - loss: 0.6898 - accuracy: 0.533 - ETA: 10s - loss: 0.6897 - accuracy: 0.533 - ETA: 10s - loss: 0.6900 - accuracy: 0.531 - ETA: 9s - loss: 0.6897 - accuracy: 0.533 - ETA: 9s - loss: 0.6898 - accuracy: 0.53 - ETA: 9s - loss: 0.6897 - accuracy: 0.53 - ETA: 9s - loss: 0.6898 - accuracy: 0.53 - ETA: 9s - loss: 0.6899 - accuracy: 0.53 - ETA: 9s - loss: 0.6897 - accuracy: 0.53 - ETA: 9s - loss: 0.6897 - accuracy: 0.53 - ETA: 9s - loss: 0.6897 - accuracy: 0.53 - ETA: 9s - loss: 0.6897 - accuracy: 0.53 - ETA: 9s - loss: 0.6896 - accuracy: 0.53 - ETA: 9s - loss: 0.6898 - accuracy: 0.53 - ETA: 9s - loss: 0.6899 - accuracy: 0.53 - ETA: 9s - loss: 0.6899 - accuracy: 0.53 - ETA: 8s - loss: 0.6899 - accuracy: 0.53 - ETA: 8s - loss: 0.6899 - accuracy: 0.53 - ETA: 8s - loss: 0.6897 - accuracy: 0.53 - ETA: 8s - loss: 0.6898 - accuracy: 0.53 - ETA: 8s - loss: 0.6897 - accuracy: 0.53 - ETA: 8s - loss: 0.6897 - accuracy: 0.53 - ETA: 8s - loss: 0.6896 - accuracy: 0.53 - ETA: 8s - loss: 0.6896 - accuracy: 0.53 - ETA: 8s - loss: 0.6895 - accuracy: 0.53 - ETA: 8s - loss: 0.6897 - accuracy: 0.53 - ETA: 7s - loss: 0.6897 - accuracy: 0.53 - ETA: 7s - loss: 0.6895 - accuracy: 0.53 - ETA: 7s - loss: 0.6893 - accuracy: 0.53 - ETA: 7s - loss: 0.6893 - accuracy: 0.53 - ETA: 7s - loss: 0.6892 - accuracy: 0.53 - ETA: 7s - loss: 0.6891 - accuracy: 0.53 - ETA: 7s - loss: 0.6890 - accuracy: 0.53 - ETA: 7s - loss: 0.6891 - accuracy: 0.53 - ETA: 7s - loss: 0.6891 - accuracy: 0.53 - ETA: 7s - loss: 0.6890 - accuracy: 0.53 - ETA: 7s - loss: 0.6891 - accuracy: 0.53 - ETA: 7s - loss: 0.6890 - accuracy: 0.53 - ETA: 6s - loss: 0.6890 - accuracy: 0.53 - ETA: 6s - loss: 0.6891 - accuracy: 0.53 - ETA: 6s - loss: 0.6890 - accuracy: 0.53 - ETA: 6s - loss: 0.6892 - accuracy: 0.53 - ETA: 6s - loss: 0.6892 - accuracy: 0.53 - ETA: 6s - loss: 0.6890 - accuracy: 0.53 - ETA: 6s - loss: 0.6890 - accuracy: 0.53 - ETA: 6s - loss: 0.6889 - accuracy: 0.53 - ETA: 6s - loss: 0.6890 - accuracy: 0.53 - ETA: 6s - loss: 0.6890 - accuracy: 0.53 - ETA: 6s - loss: 0.6889 - accuracy: 0.53 - ETA: 6s - loss: 0.6888 - accuracy: 0.54 - ETA: 5s - loss: 0.6888 - accuracy: 0.54 - ETA: 5s - loss: 0.6889 - accuracy: 0.54 - ETA: 5s - loss: 0.6889 - accuracy: 0.54 - ETA: 5s - loss: 0.6889 - accuracy: 0.54 - ETA: 5s - loss: 0.6889 - accuracy: 0.54 - ETA: 5s - loss: 0.6889 - accuracy: 0.54 - ETA: 5s - loss: 0.6889 - accuracy: 0.54 - ETA: 5s - loss: 0.6890 - accuracy: 0.53 - ETA: 5s - loss: 0.6890 - accuracy: 0.53 - ETA: 5s - loss: 0.6890 - accuracy: 0.53 - ETA: 5s - loss: 0.6890 - accuracy: 0.53 - ETA: 5s - loss: 0.6890 - accuracy: 0.53 - ETA: 5s - loss: 0.6889 - accuracy: 0.54 - ETA: 4s - loss: 0.6888 - accuracy: 0.54 - ETA: 4s - loss: 0.6888 - accuracy: 0.54 - ETA: 4s - loss: 0.6889 - accuracy: 0.54 - ETA: 4s - loss: 0.6889 - accuracy: 0.54 - ETA: 4s - loss: 0.6889 - accuracy: 0.54 - ETA: 4s - loss: 0.6888 - accuracy: 0.54 - ETA: 4s - loss: 0.6888 - accuracy: 0.54 - ETA: 4s - loss: 0.6888 - accuracy: 0.54 - ETA: 4s - loss: 0.6887 - accuracy: 0.54 - ETA: 4s - loss: 0.6887 - accuracy: 0.54 - ETA: 4s - loss: 0.6889 - accuracy: 0.54 - ETA: 4s - loss: 0.6889 - accuracy: 0.54 - ETA: 4s - loss: 0.6890 - accuracy: 0.53 - ETA: 4s - loss: 0.6889 - accuracy: 0.54 - ETA: 3s - loss: 0.6888 - accuracy: 0.54 - ETA: 3s - loss: 0.6888 - accuracy: 0.54 - ETA: 3s - loss: 0.6889 - accuracy: 0.54 - ETA: 3s - loss: 0.6889 - accuracy: 0.54 - ETA: 3s - loss: 0.6888 - accuracy: 0.54 - ETA: 3s - loss: 0.6888 - accuracy: 0.54 - ETA: 3s - loss: 0.6888 - accuracy: 0.54 - ETA: 3s - loss: 0.6888 - accuracy: 0.54 - ETA: 3s - loss: 0.6888 - accuracy: 0.54 - ETA: 3s - loss: 0.6888 - accuracy: 0.54 - ETA: 3s - loss: 0.6887 - accuracy: 0.54 - ETA: 3s - loss: 0.6887 - accuracy: 0.54 - ETA: 3s - loss: 0.6886 - accuracy: 0.54 - ETA: 2s - loss: 0.6887 - accuracy: 0.54 - ETA: 2s - loss: 0.6887 - accuracy: 0.54 - ETA: 2s - loss: 0.6887 - accuracy: 0.54 - ETA: 2s - loss: 0.6886 - accuracy: 0.54 - ETA: 2s - loss: 0.6887 - accuracy: 0.54 - ETA: 2s - loss: 0.6886 - accuracy: 0.54 - ETA: 2s - loss: 0.6886 - accuracy: 0.54 - ETA: 2s - loss: 0.6886 - accuracy: 0.54 - ETA: 2s - loss: 0.6885 - accuracy: 0.54 - ETA: 2s - loss: 0.6885 - accuracy: 0.54 - ETA: 2s - loss: 0.6885 - accuracy: 0.54 - ETA: 2s - loss: 0.6886 - accuracy: 0.54 - ETA: 2s - loss: 0.6886 - accuracy: 0.54 - ETA: 2s - loss: 0.6885 - accuracy: 0.54 - ETA: 1s - loss: 0.6885 - accuracy: 0.54 - ETA: 1s - loss: 0.6885 - accuracy: 0.54 - ETA: 1s - loss: 0.6885 - accuracy: 0.54 - ETA: 1s - loss: 0.6885 - accuracy: 0.54 - ETA: 1s - loss: 0.6886 - accuracy: 0.54 - ETA: 1s - loss: 0.6886 - accuracy: 0.54 - ETA: 1s - loss: 0.6887 - accuracy: 0.54 - ETA: 1s - loss: 0.6886 - accuracy: 0.54 - ETA: 1s - loss: 0.6886 - accuracy: 0.54 - ETA: 1s - loss: 0.6885 - accuracy: 0.54 - ETA: 1s - loss: 0.6885 - accuracy: 0.54 - ETA: 1s - loss: 0.6886 - accuracy: 0.54 - ETA: 1s - loss: 0.6886 - accuracy: 0.54 - ETA: 1s - loss: 0.6885 - accuracy: 0.54 - ETA: 0s - loss: 0.6885 - accuracy: 0.54 - ETA: 0s - loss: 0.6885 - accuracy: 0.54 - ETA: 0s - loss: 0.6885 - accuracy: 0.54 - ETA: 0s - loss: 0.6884 - accuracy: 0.54 - ETA: 0s - loss: 0.6885 - accuracy: 0.54 - ETA: 0s - loss: 0.6885 - accuracy: 0.54 - ETA: 0s - loss: 0.6885 - accuracy: 0.54 - ETA: 0s - loss: 0.6885 - accuracy: 0.54 - ETA: 0s - loss: 0.6885 - accuracy: 0.54 - ETA: 0s - loss: 0.6885 - accuracy: 0.54 - ETA: 0s - loss: 0.6884 - accuracy: 0.54 - ETA: 0s - loss: 0.6884 - accuracy: 0.54 - ETA: 0s - loss: 0.6885 - accuracy: 0.54 - ETA: 0s - loss: 0.6885 - accuracy: 0.54 - 11s 282us/step - loss: 0.6886 - accuracy: 0.5411\n",
      "\n",
      "Epoch 00005: loss improved from 0.68932 to 0.68857, saving model to Resultados/7/Checkpoints/word2vec-05-0.6886.hdf5\n",
      "Epoch 6/50\n"
     ]
    },
    {
     "name": "stdout",
     "output_type": "stream",
     "text": [
      "40268/40268 [==============================] - ETA: 10s - loss: 0.6844 - accuracy: 0.566 - ETA: 10s - loss: 0.6882 - accuracy: 0.543 - ETA: 10s - loss: 0.6870 - accuracy: 0.557 - ETA: 10s - loss: 0.6888 - accuracy: 0.553 - ETA: 10s - loss: 0.6888 - accuracy: 0.557 - ETA: 10s - loss: 0.6882 - accuracy: 0.555 - ETA: 10s - loss: 0.6885 - accuracy: 0.548 - ETA: 10s - loss: 0.6894 - accuracy: 0.542 - ETA: 10s - loss: 0.6892 - accuracy: 0.545 - ETA: 10s - loss: 0.6889 - accuracy: 0.546 - ETA: 10s - loss: 0.6890 - accuracy: 0.548 - ETA: 10s - loss: 0.6889 - accuracy: 0.546 - ETA: 10s - loss: 0.6897 - accuracy: 0.543 - ETA: 10s - loss: 0.6898 - accuracy: 0.543 - ETA: 10s - loss: 0.6898 - accuracy: 0.541 - ETA: 10s - loss: 0.6899 - accuracy: 0.540 - ETA: 10s - loss: 0.6900 - accuracy: 0.538 - ETA: 10s - loss: 0.6897 - accuracy: 0.539 - ETA: 9s - loss: 0.6900 - accuracy: 0.537 - ETA: 9s - loss: 0.6897 - accuracy: 0.53 - ETA: 9s - loss: 0.6895 - accuracy: 0.53 - ETA: 9s - loss: 0.6894 - accuracy: 0.54 - ETA: 9s - loss: 0.6891 - accuracy: 0.54 - ETA: 9s - loss: 0.6886 - accuracy: 0.54 - ETA: 9s - loss: 0.6885 - accuracy: 0.54 - ETA: 9s - loss: 0.6884 - accuracy: 0.54 - ETA: 9s - loss: 0.6880 - accuracy: 0.54 - ETA: 9s - loss: 0.6881 - accuracy: 0.54 - ETA: 9s - loss: 0.6882 - accuracy: 0.54 - ETA: 9s - loss: 0.6878 - accuracy: 0.54 - ETA: 9s - loss: 0.6884 - accuracy: 0.54 - ETA: 8s - loss: 0.6883 - accuracy: 0.54 - ETA: 8s - loss: 0.6883 - accuracy: 0.54 - ETA: 8s - loss: 0.6883 - accuracy: 0.54 - ETA: 8s - loss: 0.6881 - accuracy: 0.54 - ETA: 8s - loss: 0.6877 - accuracy: 0.54 - ETA: 8s - loss: 0.6876 - accuracy: 0.54 - ETA: 8s - loss: 0.6876 - accuracy: 0.54 - ETA: 8s - loss: 0.6879 - accuracy: 0.54 - ETA: 8s - loss: 0.6878 - accuracy: 0.54 - ETA: 8s - loss: 0.6881 - accuracy: 0.54 - ETA: 8s - loss: 0.6880 - accuracy: 0.54 - ETA: 8s - loss: 0.6883 - accuracy: 0.54 - ETA: 8s - loss: 0.6883 - accuracy: 0.54 - ETA: 8s - loss: 0.6884 - accuracy: 0.54 - ETA: 7s - loss: 0.6884 - accuracy: 0.54 - ETA: 7s - loss: 0.6883 - accuracy: 0.54 - ETA: 7s - loss: 0.6883 - accuracy: 0.54 - ETA: 7s - loss: 0.6883 - accuracy: 0.54 - ETA: 7s - loss: 0.6884 - accuracy: 0.54 - ETA: 7s - loss: 0.6883 - accuracy: 0.54 - ETA: 7s - loss: 0.6883 - accuracy: 0.54 - ETA: 7s - loss: 0.6883 - accuracy: 0.54 - ETA: 7s - loss: 0.6883 - accuracy: 0.54 - ETA: 7s - loss: 0.6882 - accuracy: 0.54 - ETA: 7s - loss: 0.6883 - accuracy: 0.54 - ETA: 7s - loss: 0.6882 - accuracy: 0.54 - ETA: 7s - loss: 0.6883 - accuracy: 0.54 - ETA: 6s - loss: 0.6883 - accuracy: 0.54 - ETA: 6s - loss: 0.6884 - accuracy: 0.54 - ETA: 6s - loss: 0.6884 - accuracy: 0.54 - ETA: 6s - loss: 0.6883 - accuracy: 0.54 - ETA: 6s - loss: 0.6884 - accuracy: 0.54 - ETA: 6s - loss: 0.6884 - accuracy: 0.54 - ETA: 6s - loss: 0.6884 - accuracy: 0.54 - ETA: 6s - loss: 0.6884 - accuracy: 0.54 - ETA: 6s - loss: 0.6885 - accuracy: 0.54 - ETA: 6s - loss: 0.6885 - accuracy: 0.54 - ETA: 6s - loss: 0.6886 - accuracy: 0.53 - ETA: 6s - loss: 0.6885 - accuracy: 0.54 - ETA: 6s - loss: 0.6886 - accuracy: 0.54 - ETA: 6s - loss: 0.6884 - accuracy: 0.54 - ETA: 5s - loss: 0.6884 - accuracy: 0.54 - ETA: 5s - loss: 0.6884 - accuracy: 0.54 - ETA: 5s - loss: 0.6884 - accuracy: 0.54 - ETA: 5s - loss: 0.6884 - accuracy: 0.54 - ETA: 5s - loss: 0.6884 - accuracy: 0.54 - ETA: 5s - loss: 0.6884 - accuracy: 0.54 - ETA: 5s - loss: 0.6884 - accuracy: 0.54 - ETA: 5s - loss: 0.6884 - accuracy: 0.54 - ETA: 5s - loss: 0.6883 - accuracy: 0.54 - ETA: 5s - loss: 0.6884 - accuracy: 0.54 - ETA: 5s - loss: 0.6884 - accuracy: 0.54 - ETA: 5s - loss: 0.6884 - accuracy: 0.54 - ETA: 5s - loss: 0.6884 - accuracy: 0.54 - ETA: 5s - loss: 0.6884 - accuracy: 0.54 - ETA: 4s - loss: 0.6884 - accuracy: 0.54 - ETA: 4s - loss: 0.6884 - accuracy: 0.54 - ETA: 4s - loss: 0.6882 - accuracy: 0.54 - ETA: 4s - loss: 0.6882 - accuracy: 0.54 - ETA: 4s - loss: 0.6881 - accuracy: 0.54 - ETA: 4s - loss: 0.6881 - accuracy: 0.54 - ETA: 4s - loss: 0.6881 - accuracy: 0.54 - ETA: 4s - loss: 0.6880 - accuracy: 0.54 - ETA: 4s - loss: 0.6881 - accuracy: 0.54 - ETA: 4s - loss: 0.6881 - accuracy: 0.54 - ETA: 4s - loss: 0.6881 - accuracy: 0.54 - ETA: 4s - loss: 0.6881 - accuracy: 0.54 - ETA: 4s - loss: 0.6883 - accuracy: 0.54 - ETA: 4s - loss: 0.6883 - accuracy: 0.54 - ETA: 3s - loss: 0.6883 - accuracy: 0.54 - ETA: 3s - loss: 0.6883 - accuracy: 0.54 - ETA: 3s - loss: 0.6883 - accuracy: 0.54 - ETA: 3s - loss: 0.6883 - accuracy: 0.54 - ETA: 3s - loss: 0.6883 - accuracy: 0.54 - ETA: 3s - loss: 0.6883 - accuracy: 0.54 - ETA: 3s - loss: 0.6882 - accuracy: 0.54 - ETA: 3s - loss: 0.6882 - accuracy: 0.54 - ETA: 3s - loss: 0.6880 - accuracy: 0.54 - ETA: 3s - loss: 0.6880 - accuracy: 0.54 - ETA: 3s - loss: 0.6880 - accuracy: 0.54 - ETA: 3s - loss: 0.6880 - accuracy: 0.54 - ETA: 3s - loss: 0.6881 - accuracy: 0.54 - ETA: 3s - loss: 0.6881 - accuracy: 0.54 - ETA: 2s - loss: 0.6882 - accuracy: 0.54 - ETA: 2s - loss: 0.6881 - accuracy: 0.54 - ETA: 2s - loss: 0.6881 - accuracy: 0.54 - ETA: 2s - loss: 0.6881 - accuracy: 0.54 - ETA: 2s - loss: 0.6882 - accuracy: 0.54 - ETA: 2s - loss: 0.6881 - accuracy: 0.54 - ETA: 2s - loss: 0.6880 - accuracy: 0.54 - ETA: 2s - loss: 0.6880 - accuracy: 0.54 - ETA: 2s - loss: 0.6881 - accuracy: 0.54 - ETA: 2s - loss: 0.6881 - accuracy: 0.54 - ETA: 2s - loss: 0.6881 - accuracy: 0.54 - ETA: 2s - loss: 0.6881 - accuracy: 0.54 - ETA: 2s - loss: 0.6882 - accuracy: 0.54 - ETA: 2s - loss: 0.6881 - accuracy: 0.54 - ETA: 2s - loss: 0.6881 - accuracy: 0.54 - ETA: 1s - loss: 0.6881 - accuracy: 0.54 - ETA: 1s - loss: 0.6881 - accuracy: 0.54 - ETA: 1s - loss: 0.6881 - accuracy: 0.54 - ETA: 1s - loss: 0.6881 - accuracy: 0.54 - ETA: 1s - loss: 0.6881 - accuracy: 0.54 - ETA: 1s - loss: 0.6882 - accuracy: 0.54 - ETA: 1s - loss: 0.6882 - accuracy: 0.54 - ETA: 1s - loss: 0.6882 - accuracy: 0.54 - ETA: 1s - loss: 0.6881 - accuracy: 0.54 - ETA: 1s - loss: 0.6882 - accuracy: 0.54 - ETA: 1s - loss: 0.6882 - accuracy: 0.54 - ETA: 1s - loss: 0.6882 - accuracy: 0.54 - ETA: 1s - loss: 0.6882 - accuracy: 0.54 - ETA: 1s - loss: 0.6882 - accuracy: 0.54 - ETA: 0s - loss: 0.6882 - accuracy: 0.54 - ETA: 0s - loss: 0.6882 - accuracy: 0.54 - ETA: 0s - loss: 0.6882 - accuracy: 0.54 - ETA: 0s - loss: 0.6882 - accuracy: 0.54 - ETA: 0s - loss: 0.6883 - accuracy: 0.54 - ETA: 0s - loss: 0.6883 - accuracy: 0.54 - ETA: 0s - loss: 0.6883 - accuracy: 0.54 - ETA: 0s - loss: 0.6883 - accuracy: 0.54 - ETA: 0s - loss: 0.6883 - accuracy: 0.54 - ETA: 0s - loss: 0.6883 - accuracy: 0.54 - ETA: 0s - loss: 0.6884 - accuracy: 0.54 - ETA: 0s - loss: 0.6883 - accuracy: 0.54 - ETA: 0s - loss: 0.6883 - accuracy: 0.54 - ETA: 0s - loss: 0.6884 - accuracy: 0.54 - 11s 277us/step - loss: 0.6884 - accuracy: 0.5411\n",
      "\n",
      "Epoch 00006: loss improved from 0.68857 to 0.68839, saving model to Resultados/7/Checkpoints/word2vec-06-0.6884.hdf5\n",
      "Epoch 7/50\n"
     ]
    },
    {
     "name": "stdout",
     "output_type": "stream",
     "text": [
      "40268/40268 [==============================] - ETA: 9s - loss: 0.6874 - accuracy: 0.53 - ETA: 9s - loss: 0.6905 - accuracy: 0.51 - ETA: 9s - loss: 0.6894 - accuracy: 0.52 - ETA: 10s - loss: 0.6881 - accuracy: 0.531 - ETA: 10s - loss: 0.6895 - accuracy: 0.528 - ETA: 10s - loss: 0.6905 - accuracy: 0.526 - ETA: 10s - loss: 0.6908 - accuracy: 0.527 - ETA: 10s - loss: 0.6902 - accuracy: 0.532 - ETA: 10s - loss: 0.6899 - accuracy: 0.531 - ETA: 10s - loss: 0.6897 - accuracy: 0.530 - ETA: 10s - loss: 0.6900 - accuracy: 0.528 - ETA: 10s - loss: 0.6896 - accuracy: 0.529 - ETA: 10s - loss: 0.6895 - accuracy: 0.529 - ETA: 10s - loss: 0.6884 - accuracy: 0.536 - ETA: 9s - loss: 0.6883 - accuracy: 0.536 - ETA: 9s - loss: 0.6882 - accuracy: 0.53 - ETA: 9s - loss: 0.6882 - accuracy: 0.53 - ETA: 9s - loss: 0.6883 - accuracy: 0.53 - ETA: 9s - loss: 0.6874 - accuracy: 0.54 - ETA: 9s - loss: 0.6873 - accuracy: 0.54 - ETA: 9s - loss: 0.6871 - accuracy: 0.54 - ETA: 9s - loss: 0.6872 - accuracy: 0.54 - ETA: 9s - loss: 0.6871 - accuracy: 0.54 - ETA: 9s - loss: 0.6866 - accuracy: 0.54 - ETA: 9s - loss: 0.6866 - accuracy: 0.54 - ETA: 9s - loss: 0.6867 - accuracy: 0.54 - ETA: 9s - loss: 0.6870 - accuracy: 0.54 - ETA: 9s - loss: 0.6869 - accuracy: 0.54 - ETA: 9s - loss: 0.6869 - accuracy: 0.54 - ETA: 9s - loss: 0.6866 - accuracy: 0.54 - ETA: 8s - loss: 0.6864 - accuracy: 0.54 - ETA: 8s - loss: 0.6862 - accuracy: 0.54 - ETA: 8s - loss: 0.6868 - accuracy: 0.54 - ETA: 8s - loss: 0.6872 - accuracy: 0.54 - ETA: 8s - loss: 0.6873 - accuracy: 0.54 - ETA: 8s - loss: 0.6871 - accuracy: 0.54 - ETA: 8s - loss: 0.6875 - accuracy: 0.54 - ETA: 8s - loss: 0.6878 - accuracy: 0.54 - ETA: 8s - loss: 0.6878 - accuracy: 0.54 - ETA: 8s - loss: 0.6877 - accuracy: 0.54 - ETA: 8s - loss: 0.6874 - accuracy: 0.54 - ETA: 8s - loss: 0.6874 - accuracy: 0.54 - ETA: 8s - loss: 0.6874 - accuracy: 0.54 - ETA: 8s - loss: 0.6874 - accuracy: 0.54 - ETA: 8s - loss: 0.6875 - accuracy: 0.54 - ETA: 7s - loss: 0.6873 - accuracy: 0.54 - ETA: 7s - loss: 0.6873 - accuracy: 0.54 - ETA: 7s - loss: 0.6873 - accuracy: 0.54 - ETA: 7s - loss: 0.6873 - accuracy: 0.54 - ETA: 7s - loss: 0.6873 - accuracy: 0.54 - ETA: 7s - loss: 0.6873 - accuracy: 0.54 - ETA: 7s - loss: 0.6872 - accuracy: 0.54 - ETA: 7s - loss: 0.6871 - accuracy: 0.54 - ETA: 7s - loss: 0.6872 - accuracy: 0.54 - ETA: 7s - loss: 0.6870 - accuracy: 0.54 - ETA: 7s - loss: 0.6870 - accuracy: 0.54 - ETA: 7s - loss: 0.6870 - accuracy: 0.54 - ETA: 7s - loss: 0.6871 - accuracy: 0.54 - ETA: 7s - loss: 0.6870 - accuracy: 0.54 - ETA: 6s - loss: 0.6868 - accuracy: 0.54 - ETA: 6s - loss: 0.6870 - accuracy: 0.54 - ETA: 6s - loss: 0.6872 - accuracy: 0.54 - ETA: 6s - loss: 0.6873 - accuracy: 0.54 - ETA: 6s - loss: 0.6875 - accuracy: 0.54 - ETA: 6s - loss: 0.6874 - accuracy: 0.54 - ETA: 6s - loss: 0.6875 - accuracy: 0.54 - ETA: 6s - loss: 0.6876 - accuracy: 0.54 - ETA: 6s - loss: 0.6877 - accuracy: 0.54 - ETA: 6s - loss: 0.6877 - accuracy: 0.54 - ETA: 6s - loss: 0.6877 - accuracy: 0.54 - ETA: 6s - loss: 0.6878 - accuracy: 0.54 - ETA: 6s - loss: 0.6878 - accuracy: 0.54 - ETA: 6s - loss: 0.6878 - accuracy: 0.54 - ETA: 6s - loss: 0.6878 - accuracy: 0.54 - ETA: 6s - loss: 0.6878 - accuracy: 0.54 - ETA: 5s - loss: 0.6878 - accuracy: 0.54 - ETA: 5s - loss: 0.6878 - accuracy: 0.54 - ETA: 5s - loss: 0.6878 - accuracy: 0.54 - ETA: 5s - loss: 0.6878 - accuracy: 0.54 - ETA: 5s - loss: 0.6877 - accuracy: 0.54 - ETA: 5s - loss: 0.6877 - accuracy: 0.54 - ETA: 5s - loss: 0.6878 - accuracy: 0.54 - ETA: 5s - loss: 0.6878 - accuracy: 0.54 - ETA: 5s - loss: 0.6878 - accuracy: 0.54 - ETA: 5s - loss: 0.6878 - accuracy: 0.54 - ETA: 5s - loss: 0.6879 - accuracy: 0.54 - ETA: 5s - loss: 0.6879 - accuracy: 0.54 - ETA: 5s - loss: 0.6879 - accuracy: 0.54 - ETA: 5s - loss: 0.6880 - accuracy: 0.54 - ETA: 5s - loss: 0.6880 - accuracy: 0.54 - ETA: 4s - loss: 0.6880 - accuracy: 0.54 - ETA: 4s - loss: 0.6879 - accuracy: 0.54 - ETA: 4s - loss: 0.6879 - accuracy: 0.54 - ETA: 4s - loss: 0.6879 - accuracy: 0.54 - ETA: 4s - loss: 0.6879 - accuracy: 0.54 - ETA: 4s - loss: 0.6879 - accuracy: 0.54 - ETA: 4s - loss: 0.6879 - accuracy: 0.54 - ETA: 4s - loss: 0.6879 - accuracy: 0.54 - ETA: 4s - loss: 0.6878 - accuracy: 0.54 - ETA: 4s - loss: 0.6878 - accuracy: 0.54 - ETA: 4s - loss: 0.6878 - accuracy: 0.54 - ETA: 4s - loss: 0.6878 - accuracy: 0.54 - ETA: 4s - loss: 0.6877 - accuracy: 0.54 - ETA: 4s - loss: 0.6877 - accuracy: 0.54 - ETA: 3s - loss: 0.6877 - accuracy: 0.54 - ETA: 3s - loss: 0.6876 - accuracy: 0.54 - ETA: 3s - loss: 0.6878 - accuracy: 0.54 - ETA: 3s - loss: 0.6878 - accuracy: 0.54 - ETA: 3s - loss: 0.6879 - accuracy: 0.54 - ETA: 3s - loss: 0.6879 - accuracy: 0.54 - ETA: 3s - loss: 0.6880 - accuracy: 0.54 - ETA: 3s - loss: 0.6879 - accuracy: 0.54 - ETA: 3s - loss: 0.6879 - accuracy: 0.54 - ETA: 3s - loss: 0.6880 - accuracy: 0.54 - ETA: 3s - loss: 0.6880 - accuracy: 0.54 - ETA: 3s - loss: 0.6881 - accuracy: 0.54 - ETA: 3s - loss: 0.6880 - accuracy: 0.54 - ETA: 2s - loss: 0.6879 - accuracy: 0.54 - ETA: 2s - loss: 0.6880 - accuracy: 0.54 - ETA: 2s - loss: 0.6880 - accuracy: 0.54 - ETA: 2s - loss: 0.6881 - accuracy: 0.54 - ETA: 2s - loss: 0.6881 - accuracy: 0.54 - ETA: 2s - loss: 0.6881 - accuracy: 0.54 - ETA: 2s - loss: 0.6881 - accuracy: 0.54 - ETA: 2s - loss: 0.6882 - accuracy: 0.54 - ETA: 2s - loss: 0.6881 - accuracy: 0.54 - ETA: 2s - loss: 0.6882 - accuracy: 0.54 - ETA: 2s - loss: 0.6881 - accuracy: 0.54 - ETA: 2s - loss: 0.6881 - accuracy: 0.54 - ETA: 2s - loss: 0.6881 - accuracy: 0.54 - ETA: 2s - loss: 0.6882 - accuracy: 0.54 - ETA: 1s - loss: 0.6882 - accuracy: 0.54 - ETA: 1s - loss: 0.6881 - accuracy: 0.54 - ETA: 1s - loss: 0.6882 - accuracy: 0.54 - ETA: 1s - loss: 0.6881 - accuracy: 0.54 - ETA: 1s - loss: 0.6882 - accuracy: 0.54 - ETA: 1s - loss: 0.6881 - accuracy: 0.54 - ETA: 1s - loss: 0.6882 - accuracy: 0.54 - ETA: 1s - loss: 0.6882 - accuracy: 0.54 - ETA: 1s - loss: 0.6881 - accuracy: 0.54 - ETA: 1s - loss: 0.6881 - accuracy: 0.54 - ETA: 1s - loss: 0.6880 - accuracy: 0.54 - ETA: 1s - loss: 0.6879 - accuracy: 0.54 - ETA: 1s - loss: 0.6879 - accuracy: 0.54 - ETA: 0s - loss: 0.6879 - accuracy: 0.54 - ETA: 0s - loss: 0.6879 - accuracy: 0.54 - ETA: 0s - loss: 0.6878 - accuracy: 0.54 - ETA: 0s - loss: 0.6880 - accuracy: 0.54 - ETA: 0s - loss: 0.6879 - accuracy: 0.54 - ETA: 0s - loss: 0.6881 - accuracy: 0.54 - ETA: 0s - loss: 0.6881 - accuracy: 0.54 - ETA: 0s - loss: 0.6880 - accuracy: 0.54 - ETA: 0s - loss: 0.6880 - accuracy: 0.54 - ETA: 0s - loss: 0.6880 - accuracy: 0.54 - ETA: 0s - loss: 0.6880 - accuracy: 0.54 - ETA: 0s - loss: 0.6880 - accuracy: 0.54 - ETA: 0s - loss: 0.6880 - accuracy: 0.54 - 12s 298us/step - loss: 0.6880 - accuracy: 0.5430\n",
      "\n",
      "Epoch 00007: loss improved from 0.68839 to 0.68803, saving model to Resultados/7/Checkpoints/word2vec-07-0.6880.hdf5\n",
      "Epoch 8/50\n"
     ]
    },
    {
     "name": "stdout",
     "output_type": "stream",
     "text": [
      "40268/40268 [==============================] - ETA: 10s - loss: 0.6798 - accuracy: 0.593 - ETA: 10s - loss: 0.6838 - accuracy: 0.570 - ETA: 10s - loss: 0.6845 - accuracy: 0.556 - ETA: 10s - loss: 0.6859 - accuracy: 0.546 - ETA: 10s - loss: 0.6839 - accuracy: 0.555 - ETA: 10s - loss: 0.6857 - accuracy: 0.549 - ETA: 10s - loss: 0.6861 - accuracy: 0.548 - ETA: 10s - loss: 0.6869 - accuracy: 0.543 - ETA: 10s - loss: 0.6880 - accuracy: 0.537 - ETA: 10s - loss: 0.6880 - accuracy: 0.535 - ETA: 10s - loss: 0.6885 - accuracy: 0.534 - ETA: 10s - loss: 0.6889 - accuracy: 0.532 - ETA: 10s - loss: 0.6889 - accuracy: 0.529 - ETA: 10s - loss: 0.6885 - accuracy: 0.532 - ETA: 10s - loss: 0.6882 - accuracy: 0.533 - ETA: 10s - loss: 0.6878 - accuracy: 0.535 - ETA: 10s - loss: 0.6880 - accuracy: 0.536 - ETA: 10s - loss: 0.6877 - accuracy: 0.538 - ETA: 10s - loss: 0.6874 - accuracy: 0.540 - ETA: 10s - loss: 0.6874 - accuracy: 0.541 - ETA: 10s - loss: 0.6869 - accuracy: 0.542 - ETA: 10s - loss: 0.6863 - accuracy: 0.545 - ETA: 9s - loss: 0.6860 - accuracy: 0.547 - ETA: 9s - loss: 0.6858 - accuracy: 0.54 - ETA: 9s - loss: 0.6860 - accuracy: 0.54 - ETA: 9s - loss: 0.6864 - accuracy: 0.54 - ETA: 9s - loss: 0.6864 - accuracy: 0.54 - ETA: 9s - loss: 0.6872 - accuracy: 0.54 - ETA: 9s - loss: 0.6870 - accuracy: 0.54 - ETA: 9s - loss: 0.6866 - accuracy: 0.54 - ETA: 9s - loss: 0.6869 - accuracy: 0.54 - ETA: 9s - loss: 0.6871 - accuracy: 0.54 - ETA: 9s - loss: 0.6872 - accuracy: 0.54 - ETA: 9s - loss: 0.6871 - accuracy: 0.54 - ETA: 9s - loss: 0.6870 - accuracy: 0.54 - ETA: 9s - loss: 0.6869 - accuracy: 0.54 - ETA: 9s - loss: 0.6869 - accuracy: 0.54 - ETA: 8s - loss: 0.6873 - accuracy: 0.54 - ETA: 8s - loss: 0.6872 - accuracy: 0.54 - ETA: 8s - loss: 0.6873 - accuracy: 0.54 - ETA: 8s - loss: 0.6874 - accuracy: 0.54 - ETA: 8s - loss: 0.6874 - accuracy: 0.54 - ETA: 8s - loss: 0.6873 - accuracy: 0.54 - ETA: 8s - loss: 0.6873 - accuracy: 0.54 - ETA: 8s - loss: 0.6873 - accuracy: 0.54 - ETA: 8s - loss: 0.6871 - accuracy: 0.54 - ETA: 8s - loss: 0.6874 - accuracy: 0.54 - ETA: 8s - loss: 0.6874 - accuracy: 0.54 - ETA: 8s - loss: 0.6872 - accuracy: 0.54 - ETA: 8s - loss: 0.6872 - accuracy: 0.54 - ETA: 7s - loss: 0.6872 - accuracy: 0.54 - ETA: 7s - loss: 0.6873 - accuracy: 0.54 - ETA: 7s - loss: 0.6874 - accuracy: 0.54 - ETA: 7s - loss: 0.6873 - accuracy: 0.54 - ETA: 7s - loss: 0.6874 - accuracy: 0.54 - ETA: 7s - loss: 0.6873 - accuracy: 0.54 - ETA: 7s - loss: 0.6870 - accuracy: 0.54 - ETA: 7s - loss: 0.6872 - accuracy: 0.54 - ETA: 7s - loss: 0.6870 - accuracy: 0.54 - ETA: 7s - loss: 0.6868 - accuracy: 0.54 - ETA: 7s - loss: 0.6869 - accuracy: 0.54 - ETA: 7s - loss: 0.6869 - accuracy: 0.54 - ETA: 6s - loss: 0.6869 - accuracy: 0.54 - ETA: 6s - loss: 0.6870 - accuracy: 0.54 - ETA: 6s - loss: 0.6870 - accuracy: 0.54 - ETA: 6s - loss: 0.6870 - accuracy: 0.54 - ETA: 6s - loss: 0.6870 - accuracy: 0.54 - ETA: 6s - loss: 0.6871 - accuracy: 0.54 - ETA: 6s - loss: 0.6871 - accuracy: 0.54 - ETA: 6s - loss: 0.6871 - accuracy: 0.54 - ETA: 6s - loss: 0.6872 - accuracy: 0.54 - ETA: 6s - loss: 0.6873 - accuracy: 0.54 - ETA: 6s - loss: 0.6874 - accuracy: 0.54 - ETA: 6s - loss: 0.6874 - accuracy: 0.54 - ETA: 6s - loss: 0.6874 - accuracy: 0.54 - ETA: 5s - loss: 0.6874 - accuracy: 0.54 - ETA: 5s - loss: 0.6874 - accuracy: 0.54 - ETA: 5s - loss: 0.6873 - accuracy: 0.54 - ETA: 5s - loss: 0.6873 - accuracy: 0.54 - ETA: 5s - loss: 0.6874 - accuracy: 0.54 - ETA: 5s - loss: 0.6875 - accuracy: 0.54 - ETA: 5s - loss: 0.6875 - accuracy: 0.54 - ETA: 5s - loss: 0.6874 - accuracy: 0.54 - ETA: 5s - loss: 0.6875 - accuracy: 0.54 - ETA: 5s - loss: 0.6876 - accuracy: 0.54 - ETA: 5s - loss: 0.6875 - accuracy: 0.54 - ETA: 5s - loss: 0.6876 - accuracy: 0.54 - ETA: 5s - loss: 0.6876 - accuracy: 0.54 - ETA: 4s - loss: 0.6876 - accuracy: 0.54 - ETA: 4s - loss: 0.6875 - accuracy: 0.54 - ETA: 4s - loss: 0.6875 - accuracy: 0.54 - ETA: 4s - loss: 0.6875 - accuracy: 0.54 - ETA: 4s - loss: 0.6875 - accuracy: 0.54 - ETA: 4s - loss: 0.6876 - accuracy: 0.54 - ETA: 4s - loss: 0.6875 - accuracy: 0.54 - ETA: 4s - loss: 0.6875 - accuracy: 0.54 - ETA: 4s - loss: 0.6875 - accuracy: 0.54 - ETA: 4s - loss: 0.6876 - accuracy: 0.54 - ETA: 4s - loss: 0.6876 - accuracy: 0.54 - ETA: 4s - loss: 0.6877 - accuracy: 0.54 - ETA: 4s - loss: 0.6877 - accuracy: 0.54 - ETA: 4s - loss: 0.6877 - accuracy: 0.54 - ETA: 3s - loss: 0.6877 - accuracy: 0.54 - ETA: 3s - loss: 0.6877 - accuracy: 0.54 - ETA: 3s - loss: 0.6876 - accuracy: 0.54 - ETA: 3s - loss: 0.6876 - accuracy: 0.54 - ETA: 3s - loss: 0.6876 - accuracy: 0.54 - ETA: 3s - loss: 0.6876 - accuracy: 0.54 - ETA: 3s - loss: 0.6877 - accuracy: 0.54 - ETA: 3s - loss: 0.6876 - accuracy: 0.54 - ETA: 3s - loss: 0.6876 - accuracy: 0.54 - ETA: 3s - loss: 0.6876 - accuracy: 0.54 - ETA: 3s - loss: 0.6876 - accuracy: 0.54 - ETA: 3s - loss: 0.6876 - accuracy: 0.54 - ETA: 3s - loss: 0.6876 - accuracy: 0.54 - ETA: 2s - loss: 0.6876 - accuracy: 0.54 - ETA: 2s - loss: 0.6876 - accuracy: 0.54 - ETA: 2s - loss: 0.6876 - accuracy: 0.54 - ETA: 2s - loss: 0.6876 - accuracy: 0.54 - ETA: 2s - loss: 0.6876 - accuracy: 0.54 - ETA: 2s - loss: 0.6876 - accuracy: 0.54 - ETA: 2s - loss: 0.6876 - accuracy: 0.54 - ETA: 2s - loss: 0.6876 - accuracy: 0.54 - ETA: 2s - loss: 0.6876 - accuracy: 0.54 - ETA: 2s - loss: 0.6877 - accuracy: 0.54 - ETA: 2s - loss: 0.6877 - accuracy: 0.54 - ETA: 2s - loss: 0.6877 - accuracy: 0.54 - ETA: 2s - loss: 0.6877 - accuracy: 0.54 - ETA: 2s - loss: 0.6878 - accuracy: 0.54 - ETA: 1s - loss: 0.6877 - accuracy: 0.54 - ETA: 1s - loss: 0.6878 - accuracy: 0.54 - ETA: 1s - loss: 0.6879 - accuracy: 0.54 - ETA: 1s - loss: 0.6878 - accuracy: 0.54 - ETA: 1s - loss: 0.6878 - accuracy: 0.54 - ETA: 1s - loss: 0.6878 - accuracy: 0.54 - ETA: 1s - loss: 0.6877 - accuracy: 0.54 - ETA: 1s - loss: 0.6879 - accuracy: 0.54 - ETA: 1s - loss: 0.6878 - accuracy: 0.54 - ETA: 1s - loss: 0.6879 - accuracy: 0.54 - ETA: 1s - loss: 0.6879 - accuracy: 0.54 - ETA: 1s - loss: 0.6879 - accuracy: 0.54 - ETA: 1s - loss: 0.6879 - accuracy: 0.54 - ETA: 1s - loss: 0.6879 - accuracy: 0.54 - ETA: 0s - loss: 0.6879 - accuracy: 0.54 - ETA: 0s - loss: 0.6879 - accuracy: 0.54 - ETA: 0s - loss: 0.6878 - accuracy: 0.54 - ETA: 0s - loss: 0.6878 - accuracy: 0.54 - ETA: 0s - loss: 0.6878 - accuracy: 0.54 - ETA: 0s - loss: 0.6878 - accuracy: 0.54 - ETA: 0s - loss: 0.6877 - accuracy: 0.54 - ETA: 0s - loss: 0.6876 - accuracy: 0.54 - ETA: 0s - loss: 0.6876 - accuracy: 0.54 - ETA: 0s - loss: 0.6876 - accuracy: 0.54 - ETA: 0s - loss: 0.6877 - accuracy: 0.54 - ETA: 0s - loss: 0.6876 - accuracy: 0.54 - ETA: 0s - loss: 0.6877 - accuracy: 0.54 - ETA: 0s - loss: 0.6877 - accuracy: 0.54 - 11s 283us/step - loss: 0.6878 - accuracy: 0.5441\n",
      "\n",
      "Epoch 00008: loss improved from 0.68803 to 0.68777, saving model to Resultados/7/Checkpoints/word2vec-08-0.6878.hdf5\n",
      "Epoch 9/50\n"
     ]
    },
    {
     "name": "stdout",
     "output_type": "stream",
     "text": [
      "40268/40268 [==============================] - ETA: 10s - loss: 0.6980 - accuracy: 0.535 - ETA: 10s - loss: 0.6921 - accuracy: 0.544 - ETA: 10s - loss: 0.6901 - accuracy: 0.544 - ETA: 10s - loss: 0.6970 - accuracy: 0.518 - ETA: 10s - loss: 0.6946 - accuracy: 0.525 - ETA: 10s - loss: 0.6922 - accuracy: 0.529 - ETA: 10s - loss: 0.6923 - accuracy: 0.523 - ETA: 10s - loss: 0.6912 - accuracy: 0.529 - ETA: 10s - loss: 0.6914 - accuracy: 0.523 - ETA: 10s - loss: 0.6908 - accuracy: 0.527 - ETA: 10s - loss: 0.6908 - accuracy: 0.525 - ETA: 10s - loss: 0.6902 - accuracy: 0.529 - ETA: 9s - loss: 0.6908 - accuracy: 0.527 - ETA: 9s - loss: 0.6903 - accuracy: 0.53 - ETA: 10s - loss: 0.6901 - accuracy: 0.532 - ETA: 10s - loss: 0.6898 - accuracy: 0.535 - ETA: 10s - loss: 0.6897 - accuracy: 0.535 - ETA: 10s - loss: 0.6896 - accuracy: 0.537 - ETA: 9s - loss: 0.6891 - accuracy: 0.540 - ETA: 9s - loss: 0.6891 - accuracy: 0.54 - ETA: 9s - loss: 0.6892 - accuracy: 0.54 - ETA: 9s - loss: 0.6890 - accuracy: 0.54 - ETA: 9s - loss: 0.6892 - accuracy: 0.53 - ETA: 9s - loss: 0.6888 - accuracy: 0.53 - ETA: 9s - loss: 0.6890 - accuracy: 0.53 - ETA: 9s - loss: 0.6890 - accuracy: 0.53 - ETA: 9s - loss: 0.6887 - accuracy: 0.54 - ETA: 9s - loss: 0.6883 - accuracy: 0.54 - ETA: 9s - loss: 0.6883 - accuracy: 0.54 - ETA: 9s - loss: 0.6885 - accuracy: 0.54 - ETA: 9s - loss: 0.6881 - accuracy: 0.54 - ETA: 8s - loss: 0.6880 - accuracy: 0.54 - ETA: 8s - loss: 0.6880 - accuracy: 0.54 - ETA: 8s - loss: 0.6879 - accuracy: 0.54 - ETA: 8s - loss: 0.6879 - accuracy: 0.54 - ETA: 8s - loss: 0.6880 - accuracy: 0.54 - ETA: 8s - loss: 0.6879 - accuracy: 0.54 - ETA: 8s - loss: 0.6876 - accuracy: 0.54 - ETA: 8s - loss: 0.6873 - accuracy: 0.54 - ETA: 8s - loss: 0.6874 - accuracy: 0.54 - ETA: 8s - loss: 0.6873 - accuracy: 0.54 - ETA: 8s - loss: 0.6875 - accuracy: 0.54 - ETA: 8s - loss: 0.6876 - accuracy: 0.54 - ETA: 8s - loss: 0.6874 - accuracy: 0.54 - ETA: 7s - loss: 0.6876 - accuracy: 0.54 - ETA: 7s - loss: 0.6876 - accuracy: 0.54 - ETA: 7s - loss: 0.6877 - accuracy: 0.54 - ETA: 7s - loss: 0.6878 - accuracy: 0.54 - ETA: 7s - loss: 0.6878 - accuracy: 0.54 - ETA: 7s - loss: 0.6879 - accuracy: 0.54 - ETA: 7s - loss: 0.6882 - accuracy: 0.54 - ETA: 7s - loss: 0.6881 - accuracy: 0.54 - ETA: 7s - loss: 0.6881 - accuracy: 0.54 - ETA: 7s - loss: 0.6881 - accuracy: 0.54 - ETA: 7s - loss: 0.6880 - accuracy: 0.54 - ETA: 7s - loss: 0.6879 - accuracy: 0.54 - ETA: 7s - loss: 0.6878 - accuracy: 0.54 - ETA: 6s - loss: 0.6878 - accuracy: 0.54 - ETA: 6s - loss: 0.6877 - accuracy: 0.54 - ETA: 6s - loss: 0.6876 - accuracy: 0.54 - ETA: 6s - loss: 0.6876 - accuracy: 0.54 - ETA: 6s - loss: 0.6877 - accuracy: 0.54 - ETA: 6s - loss: 0.6875 - accuracy: 0.54 - ETA: 6s - loss: 0.6876 - accuracy: 0.54 - ETA: 6s - loss: 0.6875 - accuracy: 0.54 - ETA: 6s - loss: 0.6873 - accuracy: 0.54 - ETA: 6s - loss: 0.6874 - accuracy: 0.54 - ETA: 6s - loss: 0.6873 - accuracy: 0.54 - ETA: 6s - loss: 0.6872 - accuracy: 0.54 - ETA: 6s - loss: 0.6870 - accuracy: 0.54 - ETA: 6s - loss: 0.6869 - accuracy: 0.54 - ETA: 6s - loss: 0.6870 - accuracy: 0.54 - ETA: 5s - loss: 0.6870 - accuracy: 0.54 - ETA: 5s - loss: 0.6869 - accuracy: 0.54 - ETA: 5s - loss: 0.6869 - accuracy: 0.54 - ETA: 5s - loss: 0.6871 - accuracy: 0.54 - ETA: 5s - loss: 0.6872 - accuracy: 0.54 - ETA: 5s - loss: 0.6872 - accuracy: 0.54 - ETA: 5s - loss: 0.6872 - accuracy: 0.54 - ETA: 5s - loss: 0.6872 - accuracy: 0.54 - ETA: 5s - loss: 0.6874 - accuracy: 0.54 - ETA: 5s - loss: 0.6874 - accuracy: 0.54 - ETA: 5s - loss: 0.6875 - accuracy: 0.54 - ETA: 5s - loss: 0.6874 - accuracy: 0.54 - ETA: 5s - loss: 0.6874 - accuracy: 0.54 - ETA: 5s - loss: 0.6875 - accuracy: 0.54 - ETA: 4s - loss: 0.6876 - accuracy: 0.54 - ETA: 4s - loss: 0.6876 - accuracy: 0.54 - ETA: 4s - loss: 0.6876 - accuracy: 0.54 - ETA: 4s - loss: 0.6876 - accuracy: 0.54 - ETA: 4s - loss: 0.6877 - accuracy: 0.54 - ETA: 4s - loss: 0.6876 - accuracy: 0.54 - ETA: 4s - loss: 0.6876 - accuracy: 0.54 - ETA: 4s - loss: 0.6876 - accuracy: 0.54 - ETA: 4s - loss: 0.6875 - accuracy: 0.54 - ETA: 4s - loss: 0.6875 - accuracy: 0.54 - ETA: 4s - loss: 0.6875 - accuracy: 0.54 - ETA: 4s - loss: 0.6875 - accuracy: 0.54 - ETA: 4s - loss: 0.6875 - accuracy: 0.54 - ETA: 4s - loss: 0.6875 - accuracy: 0.54 - ETA: 4s - loss: 0.6875 - accuracy: 0.54 - ETA: 3s - loss: 0.6877 - accuracy: 0.54 - ETA: 3s - loss: 0.6876 - accuracy: 0.54 - ETA: 3s - loss: 0.6876 - accuracy: 0.54 - ETA: 3s - loss: 0.6875 - accuracy: 0.54 - ETA: 3s - loss: 0.6876 - accuracy: 0.54 - ETA: 3s - loss: 0.6875 - accuracy: 0.54 - ETA: 3s - loss: 0.6875 - accuracy: 0.54 - ETA: 3s - loss: 0.6876 - accuracy: 0.54 - ETA: 3s - loss: 0.6877 - accuracy: 0.54 - ETA: 3s - loss: 0.6875 - accuracy: 0.54 - ETA: 3s - loss: 0.6876 - accuracy: 0.54 - ETA: 3s - loss: 0.6876 - accuracy: 0.54 - ETA: 3s - loss: 0.6876 - accuracy: 0.54 - ETA: 3s - loss: 0.6876 - accuracy: 0.54 - ETA: 2s - loss: 0.6876 - accuracy: 0.54 - ETA: 2s - loss: 0.6877 - accuracy: 0.54 - ETA: 2s - loss: 0.6877 - accuracy: 0.54 - ETA: 2s - loss: 0.6877 - accuracy: 0.54 - ETA: 2s - loss: 0.6876 - accuracy: 0.54 - ETA: 2s - loss: 0.6876 - accuracy: 0.54 - ETA: 2s - loss: 0.6876 - accuracy: 0.54 - ETA: 2s - loss: 0.6875 - accuracy: 0.54 - ETA: 2s - loss: 0.6875 - accuracy: 0.54 - ETA: 2s - loss: 0.6875 - accuracy: 0.54 - ETA: 2s - loss: 0.6875 - accuracy: 0.54 - ETA: 2s - loss: 0.6875 - accuracy: 0.54 - ETA: 2s - loss: 0.6876 - accuracy: 0.54 - ETA: 2s - loss: 0.6876 - accuracy: 0.54 - ETA: 1s - loss: 0.6875 - accuracy: 0.54 - ETA: 1s - loss: 0.6875 - accuracy: 0.54 - ETA: 1s - loss: 0.6875 - accuracy: 0.54 - ETA: 1s - loss: 0.6875 - accuracy: 0.54 - ETA: 1s - loss: 0.6875 - accuracy: 0.54 - ETA: 1s - loss: 0.6874 - accuracy: 0.54 - ETA: 1s - loss: 0.6875 - accuracy: 0.54 - ETA: 1s - loss: 0.6874 - accuracy: 0.54 - ETA: 1s - loss: 0.6874 - accuracy: 0.54 - ETA: 1s - loss: 0.6874 - accuracy: 0.54 - ETA: 1s - loss: 0.6876 - accuracy: 0.54 - ETA: 1s - loss: 0.6875 - accuracy: 0.54 - ETA: 1s - loss: 0.6875 - accuracy: 0.54 - ETA: 1s - loss: 0.6874 - accuracy: 0.54 - ETA: 0s - loss: 0.6874 - accuracy: 0.54 - ETA: 0s - loss: 0.6874 - accuracy: 0.54 - ETA: 0s - loss: 0.6874 - accuracy: 0.54 - ETA: 0s - loss: 0.6874 - accuracy: 0.54 - ETA: 0s - loss: 0.6875 - accuracy: 0.54 - ETA: 0s - loss: 0.6874 - accuracy: 0.54 - ETA: 0s - loss: 0.6874 - accuracy: 0.54 - ETA: 0s - loss: 0.6874 - accuracy: 0.54 - ETA: 0s - loss: 0.6874 - accuracy: 0.54 - ETA: 0s - loss: 0.6874 - accuracy: 0.54 - ETA: 0s - loss: 0.6874 - accuracy: 0.54 - ETA: 0s - loss: 0.6874 - accuracy: 0.54 - ETA: 0s - loss: 0.6874 - accuracy: 0.54 - ETA: 0s - loss: 0.6874 - accuracy: 0.54 - 11s 284us/step - loss: 0.6874 - accuracy: 0.5455\n",
      "\n",
      "Epoch 00009: loss improved from 0.68777 to 0.68745, saving model to Resultados/7/Checkpoints/word2vec-09-0.6874.hdf5\n",
      "Epoch 10/50\n"
     ]
    },
    {
     "name": "stdout",
     "output_type": "stream",
     "text": [
      "40268/40268 [==============================] - ETA: 10s - loss: 0.6863 - accuracy: 0.543 - ETA: 11s - loss: 0.6804 - accuracy: 0.568 - ETA: 11s - loss: 0.6828 - accuracy: 0.565 - ETA: 11s - loss: 0.6831 - accuracy: 0.565 - ETA: 11s - loss: 0.6838 - accuracy: 0.567 - ETA: 11s - loss: 0.6842 - accuracy: 0.560 - ETA: 11s - loss: 0.6836 - accuracy: 0.563 - ETA: 11s - loss: 0.6841 - accuracy: 0.559 - ETA: 11s - loss: 0.6837 - accuracy: 0.564 - ETA: 11s - loss: 0.6836 - accuracy: 0.561 - ETA: 11s - loss: 0.6840 - accuracy: 0.560 - ETA: 11s - loss: 0.6838 - accuracy: 0.558 - ETA: 11s - loss: 0.6841 - accuracy: 0.556 - ETA: 11s - loss: 0.6839 - accuracy: 0.555 - ETA: 11s - loss: 0.6839 - accuracy: 0.553 - ETA: 10s - loss: 0.6836 - accuracy: 0.556 - ETA: 10s - loss: 0.6836 - accuracy: 0.556 - ETA: 10s - loss: 0.6831 - accuracy: 0.557 - ETA: 10s - loss: 0.6830 - accuracy: 0.559 - ETA: 10s - loss: 0.6837 - accuracy: 0.558 - ETA: 10s - loss: 0.6837 - accuracy: 0.558 - ETA: 10s - loss: 0.6839 - accuracy: 0.557 - ETA: 10s - loss: 0.6840 - accuracy: 0.558 - ETA: 10s - loss: 0.6842 - accuracy: 0.556 - ETA: 10s - loss: 0.6839 - accuracy: 0.556 - ETA: 10s - loss: 0.6837 - accuracy: 0.556 - ETA: 10s - loss: 0.6831 - accuracy: 0.557 - ETA: 10s - loss: 0.6836 - accuracy: 0.556 - ETA: 9s - loss: 0.6838 - accuracy: 0.555 - ETA: 9s - loss: 0.6840 - accuracy: 0.55 - ETA: 9s - loss: 0.6842 - accuracy: 0.55 - ETA: 9s - loss: 0.6846 - accuracy: 0.55 - ETA: 9s - loss: 0.6848 - accuracy: 0.55 - ETA: 9s - loss: 0.6848 - accuracy: 0.55 - ETA: 9s - loss: 0.6852 - accuracy: 0.55 - ETA: 9s - loss: 0.6853 - accuracy: 0.55 - ETA: 9s - loss: 0.6852 - accuracy: 0.55 - ETA: 9s - loss: 0.6854 - accuracy: 0.55 - ETA: 9s - loss: 0.6853 - accuracy: 0.55 - ETA: 9s - loss: 0.6853 - accuracy: 0.55 - ETA: 9s - loss: 0.6855 - accuracy: 0.55 - ETA: 8s - loss: 0.6855 - accuracy: 0.55 - ETA: 8s - loss: 0.6854 - accuracy: 0.55 - ETA: 8s - loss: 0.6856 - accuracy: 0.55 - ETA: 8s - loss: 0.6857 - accuracy: 0.55 - ETA: 8s - loss: 0.6859 - accuracy: 0.55 - ETA: 8s - loss: 0.6860 - accuracy: 0.55 - ETA: 8s - loss: 0.6861 - accuracy: 0.55 - ETA: 8s - loss: 0.6859 - accuracy: 0.55 - ETA: 8s - loss: 0.6862 - accuracy: 0.55 - ETA: 8s - loss: 0.6861 - accuracy: 0.55 - ETA: 8s - loss: 0.6861 - accuracy: 0.55 - ETA: 8s - loss: 0.6861 - accuracy: 0.55 - ETA: 8s - loss: 0.6861 - accuracy: 0.55 - ETA: 7s - loss: 0.6861 - accuracy: 0.55 - ETA: 7s - loss: 0.6862 - accuracy: 0.55 - ETA: 7s - loss: 0.6863 - accuracy: 0.55 - ETA: 7s - loss: 0.6862 - accuracy: 0.55 - ETA: 7s - loss: 0.6864 - accuracy: 0.55 - ETA: 7s - loss: 0.6863 - accuracy: 0.55 - ETA: 7s - loss: 0.6864 - accuracy: 0.54 - ETA: 7s - loss: 0.6865 - accuracy: 0.54 - ETA: 7s - loss: 0.6865 - accuracy: 0.54 - ETA: 7s - loss: 0.6865 - accuracy: 0.55 - ETA: 7s - loss: 0.6863 - accuracy: 0.55 - ETA: 7s - loss: 0.6866 - accuracy: 0.54 - ETA: 7s - loss: 0.6866 - accuracy: 0.54 - ETA: 7s - loss: 0.6864 - accuracy: 0.55 - ETA: 6s - loss: 0.6862 - accuracy: 0.55 - ETA: 6s - loss: 0.6862 - accuracy: 0.54 - ETA: 6s - loss: 0.6863 - accuracy: 0.54 - ETA: 6s - loss: 0.6863 - accuracy: 0.54 - ETA: 6s - loss: 0.6861 - accuracy: 0.55 - ETA: 6s - loss: 0.6861 - accuracy: 0.54 - ETA: 6s - loss: 0.6862 - accuracy: 0.54 - ETA: 6s - loss: 0.6863 - accuracy: 0.54 - ETA: 6s - loss: 0.6863 - accuracy: 0.54 - ETA: 6s - loss: 0.6863 - accuracy: 0.54 - ETA: 6s - loss: 0.6863 - accuracy: 0.54 - ETA: 6s - loss: 0.6863 - accuracy: 0.54 - ETA: 5s - loss: 0.6863 - accuracy: 0.54 - ETA: 5s - loss: 0.6863 - accuracy: 0.54 - ETA: 5s - loss: 0.6864 - accuracy: 0.54 - ETA: 5s - loss: 0.6864 - accuracy: 0.54 - ETA: 5s - loss: 0.6863 - accuracy: 0.54 - ETA: 5s - loss: 0.6865 - accuracy: 0.54 - ETA: 5s - loss: 0.6864 - accuracy: 0.54 - ETA: 5s - loss: 0.6864 - accuracy: 0.54 - ETA: 5s - loss: 0.6863 - accuracy: 0.54 - ETA: 5s - loss: 0.6863 - accuracy: 0.54 - ETA: 5s - loss: 0.6864 - accuracy: 0.54 - ETA: 5s - loss: 0.6863 - accuracy: 0.54 - ETA: 4s - loss: 0.6864 - accuracy: 0.54 - ETA: 4s - loss: 0.6862 - accuracy: 0.54 - ETA: 4s - loss: 0.6861 - accuracy: 0.54 - ETA: 4s - loss: 0.6861 - accuracy: 0.54 - ETA: 4s - loss: 0.6861 - accuracy: 0.54 - ETA: 4s - loss: 0.6862 - accuracy: 0.54 - ETA: 4s - loss: 0.6861 - accuracy: 0.54 - ETA: 4s - loss: 0.6861 - accuracy: 0.54 - ETA: 4s - loss: 0.6862 - accuracy: 0.54 - ETA: 4s - loss: 0.6862 - accuracy: 0.54 - ETA: 4s - loss: 0.6861 - accuracy: 0.54 - ETA: 4s - loss: 0.6862 - accuracy: 0.54 - ETA: 4s - loss: 0.6862 - accuracy: 0.54 - ETA: 3s - loss: 0.6862 - accuracy: 0.54 - ETA: 3s - loss: 0.6863 - accuracy: 0.54 - ETA: 3s - loss: 0.6863 - accuracy: 0.54 - ETA: 3s - loss: 0.6861 - accuracy: 0.54 - ETA: 3s - loss: 0.6861 - accuracy: 0.54 - ETA: 3s - loss: 0.6860 - accuracy: 0.54 - ETA: 3s - loss: 0.6861 - accuracy: 0.54 - ETA: 3s - loss: 0.6862 - accuracy: 0.54 - ETA: 3s - loss: 0.6863 - accuracy: 0.54 - ETA: 3s - loss: 0.6863 - accuracy: 0.54 - ETA: 3s - loss: 0.6864 - accuracy: 0.54 - ETA: 3s - loss: 0.6863 - accuracy: 0.54 - ETA: 3s - loss: 0.6864 - accuracy: 0.54 - ETA: 2s - loss: 0.6864 - accuracy: 0.54 - ETA: 2s - loss: 0.6865 - accuracy: 0.54 - ETA: 2s - loss: 0.6866 - accuracy: 0.54 - ETA: 2s - loss: 0.6866 - accuracy: 0.54 - ETA: 2s - loss: 0.6866 - accuracy: 0.54 - ETA: 2s - loss: 0.6866 - accuracy: 0.54 - ETA: 2s - loss: 0.6866 - accuracy: 0.54 - ETA: 2s - loss: 0.6865 - accuracy: 0.54 - ETA: 2s - loss: 0.6865 - accuracy: 0.54 - ETA: 2s - loss: 0.6866 - accuracy: 0.54 - ETA: 2s - loss: 0.6867 - accuracy: 0.54 - ETA: 2s - loss: 0.6867 - accuracy: 0.54 - ETA: 2s - loss: 0.6867 - accuracy: 0.54 - ETA: 1s - loss: 0.6867 - accuracy: 0.54 - ETA: 1s - loss: 0.6867 - accuracy: 0.54 - ETA: 1s - loss: 0.6867 - accuracy: 0.54 - ETA: 1s - loss: 0.6867 - accuracy: 0.54 - ETA: 1s - loss: 0.6867 - accuracy: 0.54 - ETA: 1s - loss: 0.6867 - accuracy: 0.54 - ETA: 1s - loss: 0.6867 - accuracy: 0.54 - ETA: 1s - loss: 0.6867 - accuracy: 0.54 - ETA: 1s - loss: 0.6867 - accuracy: 0.54 - ETA: 1s - loss: 0.6867 - accuracy: 0.54 - ETA: 1s - loss: 0.6868 - accuracy: 0.54 - ETA: 1s - loss: 0.6868 - accuracy: 0.54 - ETA: 1s - loss: 0.6869 - accuracy: 0.54 - ETA: 0s - loss: 0.6869 - accuracy: 0.54 - ETA: 0s - loss: 0.6868 - accuracy: 0.54 - ETA: 0s - loss: 0.6869 - accuracy: 0.54 - ETA: 0s - loss: 0.6868 - accuracy: 0.54 - ETA: 0s - loss: 0.6868 - accuracy: 0.54 - ETA: 0s - loss: 0.6867 - accuracy: 0.54 - ETA: 0s - loss: 0.6868 - accuracy: 0.54 - ETA: 0s - loss: 0.6868 - accuracy: 0.54 - ETA: 0s - loss: 0.6868 - accuracy: 0.54 - ETA: 0s - loss: 0.6868 - accuracy: 0.54 - ETA: 0s - loss: 0.6868 - accuracy: 0.54 - ETA: 0s - loss: 0.6868 - accuracy: 0.54 - ETA: 0s - loss: 0.6868 - accuracy: 0.54 - 12s 295us/step - loss: 0.6868 - accuracy: 0.5464\n",
      "\n",
      "Epoch 00010: loss improved from 0.68745 to 0.68684, saving model to Resultados/7/Checkpoints/word2vec-10-0.6868.hdf5\n",
      "Epoch 11/50\n"
     ]
    },
    {
     "name": "stdout",
     "output_type": "stream",
     "text": [
      "40268/40268 [==============================] - ETA: 9s - loss: 0.6985 - accuracy: 0.49 - ETA: 9s - loss: 0.6964 - accuracy: 0.50 - ETA: 10s - loss: 0.6898 - accuracy: 0.533 - ETA: 10s - loss: 0.6877 - accuracy: 0.539 - ETA: 10s - loss: 0.6865 - accuracy: 0.546 - ETA: 10s - loss: 0.6872 - accuracy: 0.542 - ETA: 11s - loss: 0.6857 - accuracy: 0.548 - ETA: 11s - loss: 0.6851 - accuracy: 0.552 - ETA: 11s - loss: 0.6853 - accuracy: 0.547 - ETA: 11s - loss: 0.6868 - accuracy: 0.541 - ETA: 10s - loss: 0.6868 - accuracy: 0.538 - ETA: 10s - loss: 0.6870 - accuracy: 0.537 - ETA: 10s - loss: 0.6865 - accuracy: 0.540 - ETA: 10s - loss: 0.6869 - accuracy: 0.539 - ETA: 10s - loss: 0.6875 - accuracy: 0.537 - ETA: 10s - loss: 0.6873 - accuracy: 0.537 - ETA: 10s - loss: 0.6876 - accuracy: 0.537 - ETA: 10s - loss: 0.6878 - accuracy: 0.535 - ETA: 10s - loss: 0.6877 - accuracy: 0.536 - ETA: 10s - loss: 0.6880 - accuracy: 0.534 - ETA: 9s - loss: 0.6882 - accuracy: 0.534 - ETA: 9s - loss: 0.6880 - accuracy: 0.53 - ETA: 9s - loss: 0.6877 - accuracy: 0.53 - ETA: 9s - loss: 0.6877 - accuracy: 0.53 - ETA: 9s - loss: 0.6874 - accuracy: 0.54 - ETA: 9s - loss: 0.6873 - accuracy: 0.54 - ETA: 9s - loss: 0.6873 - accuracy: 0.54 - ETA: 9s - loss: 0.6874 - accuracy: 0.54 - ETA: 9s - loss: 0.6876 - accuracy: 0.53 - ETA: 9s - loss: 0.6877 - accuracy: 0.53 - ETA: 9s - loss: 0.6876 - accuracy: 0.53 - ETA: 9s - loss: 0.6876 - accuracy: 0.53 - ETA: 8s - loss: 0.6877 - accuracy: 0.53 - ETA: 8s - loss: 0.6877 - accuracy: 0.53 - ETA: 8s - loss: 0.6875 - accuracy: 0.53 - ETA: 8s - loss: 0.6876 - accuracy: 0.53 - ETA: 8s - loss: 0.6875 - accuracy: 0.53 - ETA: 8s - loss: 0.6875 - accuracy: 0.53 - ETA: 8s - loss: 0.6875 - accuracy: 0.53 - ETA: 8s - loss: 0.6874 - accuracy: 0.53 - ETA: 8s - loss: 0.6872 - accuracy: 0.54 - ETA: 8s - loss: 0.6874 - accuracy: 0.54 - ETA: 8s - loss: 0.6872 - accuracy: 0.54 - ETA: 8s - loss: 0.6869 - accuracy: 0.54 - ETA: 8s - loss: 0.6868 - accuracy: 0.54 - ETA: 7s - loss: 0.6863 - accuracy: 0.54 - ETA: 7s - loss: 0.6863 - accuracy: 0.54 - ETA: 7s - loss: 0.6865 - accuracy: 0.54 - ETA: 7s - loss: 0.6867 - accuracy: 0.54 - ETA: 7s - loss: 0.6868 - accuracy: 0.54 - ETA: 7s - loss: 0.6868 - accuracy: 0.54 - ETA: 7s - loss: 0.6868 - accuracy: 0.54 - ETA: 7s - loss: 0.6868 - accuracy: 0.54 - ETA: 7s - loss: 0.6870 - accuracy: 0.54 - ETA: 7s - loss: 0.6870 - accuracy: 0.54 - ETA: 7s - loss: 0.6870 - accuracy: 0.54 - ETA: 7s - loss: 0.6871 - accuracy: 0.53 - ETA: 7s - loss: 0.6870 - accuracy: 0.54 - ETA: 7s - loss: 0.6872 - accuracy: 0.53 - ETA: 6s - loss: 0.6871 - accuracy: 0.53 - ETA: 6s - loss: 0.6872 - accuracy: 0.53 - ETA: 6s - loss: 0.6871 - accuracy: 0.54 - ETA: 6s - loss: 0.6870 - accuracy: 0.54 - ETA: 6s - loss: 0.6871 - accuracy: 0.54 - ETA: 6s - loss: 0.6869 - accuracy: 0.54 - ETA: 6s - loss: 0.6870 - accuracy: 0.54 - ETA: 6s - loss: 0.6869 - accuracy: 0.54 - ETA: 6s - loss: 0.6868 - accuracy: 0.54 - ETA: 6s - loss: 0.6868 - accuracy: 0.54 - ETA: 6s - loss: 0.6867 - accuracy: 0.54 - ETA: 6s - loss: 0.6869 - accuracy: 0.54 - ETA: 6s - loss: 0.6868 - accuracy: 0.54 - ETA: 5s - loss: 0.6868 - accuracy: 0.54 - ETA: 5s - loss: 0.6869 - accuracy: 0.54 - ETA: 5s - loss: 0.6870 - accuracy: 0.54 - ETA: 5s - loss: 0.6869 - accuracy: 0.54 - ETA: 5s - loss: 0.6869 - accuracy: 0.54 - ETA: 5s - loss: 0.6870 - accuracy: 0.54 - ETA: 5s - loss: 0.6869 - accuracy: 0.54 - ETA: 5s - loss: 0.6868 - accuracy: 0.54 - ETA: 5s - loss: 0.6867 - accuracy: 0.54 - ETA: 5s - loss: 0.6868 - accuracy: 0.54 - ETA: 5s - loss: 0.6868 - accuracy: 0.54 - ETA: 5s - loss: 0.6868 - accuracy: 0.54 - ETA: 5s - loss: 0.6867 - accuracy: 0.54 - ETA: 5s - loss: 0.6866 - accuracy: 0.54 - ETA: 5s - loss: 0.6864 - accuracy: 0.54 - ETA: 4s - loss: 0.6865 - accuracy: 0.54 - ETA: 4s - loss: 0.6864 - accuracy: 0.54 - ETA: 4s - loss: 0.6865 - accuracy: 0.54 - ETA: 4s - loss: 0.6865 - accuracy: 0.54 - ETA: 4s - loss: 0.6864 - accuracy: 0.54 - ETA: 4s - loss: 0.6862 - accuracy: 0.54 - ETA: 4s - loss: 0.6862 - accuracy: 0.54 - ETA: 4s - loss: 0.6863 - accuracy: 0.54 - ETA: 4s - loss: 0.6864 - accuracy: 0.54 - ETA: 4s - loss: 0.6863 - accuracy: 0.54 - ETA: 4s - loss: 0.6863 - accuracy: 0.54 - ETA: 4s - loss: 0.6863 - accuracy: 0.54 - ETA: 4s - loss: 0.6862 - accuracy: 0.54 - ETA: 4s - loss: 0.6862 - accuracy: 0.54 - ETA: 3s - loss: 0.6863 - accuracy: 0.54 - ETA: 3s - loss: 0.6862 - accuracy: 0.54 - ETA: 3s - loss: 0.6862 - accuracy: 0.54 - ETA: 3s - loss: 0.6862 - accuracy: 0.54 - ETA: 3s - loss: 0.6861 - accuracy: 0.54 - ETA: 3s - loss: 0.6861 - accuracy: 0.54 - ETA: 3s - loss: 0.6861 - accuracy: 0.54 - ETA: 3s - loss: 0.6861 - accuracy: 0.54 - ETA: 3s - loss: 0.6861 - accuracy: 0.54 - ETA: 3s - loss: 0.6859 - accuracy: 0.54 - ETA: 3s - loss: 0.6859 - accuracy: 0.54 - ETA: 3s - loss: 0.6861 - accuracy: 0.54 - ETA: 3s - loss: 0.6860 - accuracy: 0.54 - ETA: 3s - loss: 0.6860 - accuracy: 0.54 - ETA: 2s - loss: 0.6860 - accuracy: 0.54 - ETA: 2s - loss: 0.6860 - accuracy: 0.54 - ETA: 2s - loss: 0.6859 - accuracy: 0.54 - ETA: 2s - loss: 0.6860 - accuracy: 0.54 - ETA: 2s - loss: 0.6861 - accuracy: 0.54 - ETA: 2s - loss: 0.6860 - accuracy: 0.54 - ETA: 2s - loss: 0.6861 - accuracy: 0.54 - ETA: 2s - loss: 0.6861 - accuracy: 0.54 - ETA: 2s - loss: 0.6861 - accuracy: 0.54 - ETA: 2s - loss: 0.6861 - accuracy: 0.54 - ETA: 2s - loss: 0.6859 - accuracy: 0.54 - ETA: 2s - loss: 0.6860 - accuracy: 0.54 - ETA: 2s - loss: 0.6860 - accuracy: 0.54 - ETA: 2s - loss: 0.6861 - accuracy: 0.54 - ETA: 1s - loss: 0.6861 - accuracy: 0.54 - ETA: 1s - loss: 0.6861 - accuracy: 0.54 - ETA: 1s - loss: 0.6861 - accuracy: 0.54 - ETA: 1s - loss: 0.6860 - accuracy: 0.54 - ETA: 1s - loss: 0.6859 - accuracy: 0.54 - ETA: 1s - loss: 0.6859 - accuracy: 0.54 - ETA: 1s - loss: 0.6859 - accuracy: 0.54 - ETA: 1s - loss: 0.6859 - accuracy: 0.54 - ETA: 1s - loss: 0.6859 - accuracy: 0.54 - ETA: 1s - loss: 0.6860 - accuracy: 0.54 - ETA: 1s - loss: 0.6861 - accuracy: 0.54 - ETA: 1s - loss: 0.6862 - accuracy: 0.54 - ETA: 1s - loss: 0.6862 - accuracy: 0.54 - ETA: 1s - loss: 0.6862 - accuracy: 0.54 - ETA: 0s - loss: 0.6863 - accuracy: 0.54 - ETA: 0s - loss: 0.6863 - accuracy: 0.54 - ETA: 0s - loss: 0.6863 - accuracy: 0.54 - ETA: 0s - loss: 0.6863 - accuracy: 0.54 - ETA: 0s - loss: 0.6863 - accuracy: 0.54 - ETA: 0s - loss: 0.6863 - accuracy: 0.54 - ETA: 0s - loss: 0.6863 - accuracy: 0.54 - ETA: 0s - loss: 0.6863 - accuracy: 0.54 - ETA: 0s - loss: 0.6863 - accuracy: 0.54 - ETA: 0s - loss: 0.6863 - accuracy: 0.54 - ETA: 0s - loss: 0.6863 - accuracy: 0.54 - ETA: 0s - loss: 0.6863 - accuracy: 0.54 - ETA: 0s - loss: 0.6864 - accuracy: 0.54 - ETA: 0s - loss: 0.6864 - accuracy: 0.54 - 11s 278us/step - loss: 0.6864 - accuracy: 0.5457\n",
      "\n",
      "Epoch 00011: loss improved from 0.68684 to 0.68643, saving model to Resultados/7/Checkpoints/word2vec-11-0.6864.hdf5\n",
      "Epoch 12/50\n"
     ]
    },
    {
     "name": "stdout",
     "output_type": "stream",
     "text": [
      "40268/40268 [==============================] - ETA: 9s - loss: 0.6821 - accuracy: 0.56 - ETA: 10s - loss: 0.6867 - accuracy: 0.550 - ETA: 10s - loss: 0.6850 - accuracy: 0.561 - ETA: 10s - loss: 0.6847 - accuracy: 0.559 - ETA: 10s - loss: 0.6857 - accuracy: 0.554 - ETA: 10s - loss: 0.6853 - accuracy: 0.555 - ETA: 10s - loss: 0.6852 - accuracy: 0.559 - ETA: 10s - loss: 0.6860 - accuracy: 0.555 - ETA: 10s - loss: 0.6869 - accuracy: 0.550 - ETA: 10s - loss: 0.6870 - accuracy: 0.548 - ETA: 9s - loss: 0.6879 - accuracy: 0.543 - ETA: 9s - loss: 0.6880 - accuracy: 0.54 - ETA: 9s - loss: 0.6882 - accuracy: 0.54 - ETA: 9s - loss: 0.6879 - accuracy: 0.53 - ETA: 9s - loss: 0.6871 - accuracy: 0.54 - ETA: 9s - loss: 0.6874 - accuracy: 0.54 - ETA: 9s - loss: 0.6872 - accuracy: 0.54 - ETA: 9s - loss: 0.6869 - accuracy: 0.54 - ETA: 9s - loss: 0.6871 - accuracy: 0.54 - ETA: 9s - loss: 0.6875 - accuracy: 0.54 - ETA: 9s - loss: 0.6872 - accuracy: 0.54 - ETA: 9s - loss: 0.6871 - accuracy: 0.54 - ETA: 9s - loss: 0.6871 - accuracy: 0.54 - ETA: 9s - loss: 0.6870 - accuracy: 0.54 - ETA: 9s - loss: 0.6870 - accuracy: 0.54 - ETA: 9s - loss: 0.6875 - accuracy: 0.54 - ETA: 9s - loss: 0.6873 - accuracy: 0.54 - ETA: 9s - loss: 0.6871 - accuracy: 0.54 - ETA: 9s - loss: 0.6869 - accuracy: 0.54 - ETA: 9s - loss: 0.6871 - accuracy: 0.54 - ETA: 8s - loss: 0.6874 - accuracy: 0.54 - ETA: 8s - loss: 0.6873 - accuracy: 0.54 - ETA: 8s - loss: 0.6875 - accuracy: 0.54 - ETA: 8s - loss: 0.6873 - accuracy: 0.54 - ETA: 8s - loss: 0.6872 - accuracy: 0.54 - ETA: 8s - loss: 0.6870 - accuracy: 0.54 - ETA: 8s - loss: 0.6867 - accuracy: 0.54 - ETA: 8s - loss: 0.6869 - accuracy: 0.54 - ETA: 8s - loss: 0.6868 - accuracy: 0.54 - ETA: 8s - loss: 0.6867 - accuracy: 0.54 - ETA: 8s - loss: 0.6865 - accuracy: 0.54 - ETA: 8s - loss: 0.6867 - accuracy: 0.54 - ETA: 8s - loss: 0.6869 - accuracy: 0.54 - ETA: 8s - loss: 0.6868 - accuracy: 0.54 - ETA: 7s - loss: 0.6868 - accuracy: 0.54 - ETA: 7s - loss: 0.6868 - accuracy: 0.54 - ETA: 7s - loss: 0.6867 - accuracy: 0.54 - ETA: 7s - loss: 0.6867 - accuracy: 0.54 - ETA: 7s - loss: 0.6866 - accuracy: 0.54 - ETA: 7s - loss: 0.6867 - accuracy: 0.54 - ETA: 7s - loss: 0.6867 - accuracy: 0.54 - ETA: 7s - loss: 0.6865 - accuracy: 0.54 - ETA: 7s - loss: 0.6865 - accuracy: 0.54 - ETA: 7s - loss: 0.6862 - accuracy: 0.54 - ETA: 7s - loss: 0.6864 - accuracy: 0.54 - ETA: 7s - loss: 0.6863 - accuracy: 0.54 - ETA: 7s - loss: 0.6863 - accuracy: 0.54 - ETA: 7s - loss: 0.6863 - accuracy: 0.54 - ETA: 6s - loss: 0.6863 - accuracy: 0.54 - ETA: 6s - loss: 0.6863 - accuracy: 0.54 - ETA: 6s - loss: 0.6861 - accuracy: 0.54 - ETA: 6s - loss: 0.6862 - accuracy: 0.54 - ETA: 6s - loss: 0.6862 - accuracy: 0.54 - ETA: 6s - loss: 0.6861 - accuracy: 0.54 - ETA: 6s - loss: 0.6858 - accuracy: 0.55 - ETA: 6s - loss: 0.6859 - accuracy: 0.55 - ETA: 6s - loss: 0.6860 - accuracy: 0.54 - ETA: 6s - loss: 0.6860 - accuracy: 0.54 - ETA: 6s - loss: 0.6863 - accuracy: 0.54 - ETA: 6s - loss: 0.6864 - accuracy: 0.54 - ETA: 6s - loss: 0.6866 - accuracy: 0.54 - ETA: 6s - loss: 0.6866 - accuracy: 0.54 - ETA: 5s - loss: 0.6867 - accuracy: 0.54 - ETA: 5s - loss: 0.6868 - accuracy: 0.54 - ETA: 5s - loss: 0.6869 - accuracy: 0.54 - ETA: 5s - loss: 0.6869 - accuracy: 0.54 - ETA: 5s - loss: 0.6869 - accuracy: 0.54 - ETA: 5s - loss: 0.6869 - accuracy: 0.54 - ETA: 5s - loss: 0.6870 - accuracy: 0.54 - ETA: 5s - loss: 0.6870 - accuracy: 0.54 - ETA: 5s - loss: 0.6869 - accuracy: 0.54 - ETA: 5s - loss: 0.6868 - accuracy: 0.54 - ETA: 5s - loss: 0.6868 - accuracy: 0.54 - ETA: 5s - loss: 0.6867 - accuracy: 0.54 - ETA: 5s - loss: 0.6866 - accuracy: 0.54 - ETA: 5s - loss: 0.6866 - accuracy: 0.54 - ETA: 4s - loss: 0.6865 - accuracy: 0.54 - ETA: 4s - loss: 0.6865 - accuracy: 0.54 - ETA: 4s - loss: 0.6864 - accuracy: 0.54 - ETA: 4s - loss: 0.6864 - accuracy: 0.54 - ETA: 4s - loss: 0.6865 - accuracy: 0.54 - ETA: 4s - loss: 0.6865 - accuracy: 0.54 - ETA: 4s - loss: 0.6865 - accuracy: 0.54 - ETA: 4s - loss: 0.6864 - accuracy: 0.54 - ETA: 4s - loss: 0.6865 - accuracy: 0.54 - ETA: 4s - loss: 0.6864 - accuracy: 0.54 - ETA: 4s - loss: 0.6864 - accuracy: 0.54 - ETA: 4s - loss: 0.6863 - accuracy: 0.54 - ETA: 4s - loss: 0.6861 - accuracy: 0.54 - ETA: 4s - loss: 0.6860 - accuracy: 0.54 - ETA: 4s - loss: 0.6860 - accuracy: 0.54 - ETA: 3s - loss: 0.6861 - accuracy: 0.54 - ETA: 3s - loss: 0.6860 - accuracy: 0.54 - ETA: 3s - loss: 0.6862 - accuracy: 0.54 - ETA: 3s - loss: 0.6863 - accuracy: 0.54 - ETA: 3s - loss: 0.6862 - accuracy: 0.54 - ETA: 3s - loss: 0.6863 - accuracy: 0.54 - ETA: 3s - loss: 0.6863 - accuracy: 0.54 - ETA: 3s - loss: 0.6863 - accuracy: 0.54 - ETA: 3s - loss: 0.6863 - accuracy: 0.54 - ETA: 3s - loss: 0.6862 - accuracy: 0.54 - ETA: 3s - loss: 0.6863 - accuracy: 0.54 - ETA: 3s - loss: 0.6863 - accuracy: 0.54 - ETA: 3s - loss: 0.6864 - accuracy: 0.54 - ETA: 3s - loss: 0.6865 - accuracy: 0.54 - ETA: 2s - loss: 0.6865 - accuracy: 0.54 - ETA: 2s - loss: 0.6865 - accuracy: 0.54 - ETA: 2s - loss: 0.6865 - accuracy: 0.54 - ETA: 2s - loss: 0.6865 - accuracy: 0.54 - ETA: 2s - loss: 0.6865 - accuracy: 0.54 - ETA: 2s - loss: 0.6864 - accuracy: 0.54 - ETA: 2s - loss: 0.6865 - accuracy: 0.54 - ETA: 2s - loss: 0.6865 - accuracy: 0.54 - ETA: 2s - loss: 0.6865 - accuracy: 0.54 - ETA: 2s - loss: 0.6865 - accuracy: 0.54 - ETA: 2s - loss: 0.6866 - accuracy: 0.54 - ETA: 2s - loss: 0.6866 - accuracy: 0.54 - ETA: 2s - loss: 0.6866 - accuracy: 0.54 - ETA: 2s - loss: 0.6866 - accuracy: 0.54 - ETA: 1s - loss: 0.6865 - accuracy: 0.54 - ETA: 1s - loss: 0.6865 - accuracy: 0.54 - ETA: 1s - loss: 0.6865 - accuracy: 0.54 - ETA: 1s - loss: 0.6865 - accuracy: 0.54 - ETA: 1s - loss: 0.6865 - accuracy: 0.54 - ETA: 1s - loss: 0.6865 - accuracy: 0.54 - ETA: 1s - loss: 0.6864 - accuracy: 0.54 - ETA: 1s - loss: 0.6864 - accuracy: 0.54 - ETA: 1s - loss: 0.6864 - accuracy: 0.54 - ETA: 1s - loss: 0.6864 - accuracy: 0.54 - ETA: 1s - loss: 0.6864 - accuracy: 0.54 - ETA: 1s - loss: 0.6864 - accuracy: 0.54 - ETA: 1s - loss: 0.6865 - accuracy: 0.54 - ETA: 1s - loss: 0.6865 - accuracy: 0.54 - ETA: 0s - loss: 0.6864 - accuracy: 0.54 - ETA: 0s - loss: 0.6864 - accuracy: 0.54 - ETA: 0s - loss: 0.6863 - accuracy: 0.54 - ETA: 0s - loss: 0.6862 - accuracy: 0.54 - ETA: 0s - loss: 0.6863 - accuracy: 0.54 - ETA: 0s - loss: 0.6863 - accuracy: 0.54 - ETA: 0s - loss: 0.6863 - accuracy: 0.54 - ETA: 0s - loss: 0.6863 - accuracy: 0.54 - ETA: 0s - loss: 0.6863 - accuracy: 0.54 - ETA: 0s - loss: 0.6863 - accuracy: 0.54 - ETA: 0s - loss: 0.6863 - accuracy: 0.54 - ETA: 0s - loss: 0.6863 - accuracy: 0.54 - ETA: 0s - loss: 0.6863 - accuracy: 0.54 - ETA: 0s - loss: 0.6863 - accuracy: 0.54 - 12s 289us/step - loss: 0.6863 - accuracy: 0.5470\n",
      "\n",
      "Epoch 00012: loss improved from 0.68643 to 0.68634, saving model to Resultados/7/Checkpoints/word2vec-12-0.6863.hdf5\n",
      "Epoch 13/50\n"
     ]
    },
    {
     "name": "stdout",
     "output_type": "stream",
     "text": [
      "40268/40268 [==============================] - ETA: 9s - loss: 0.6820 - accuracy: 0.53 - ETA: 9s - loss: 0.6811 - accuracy: 0.56 - ETA: 9s - loss: 0.6825 - accuracy: 0.56 - ETA: 10s - loss: 0.6843 - accuracy: 0.552 - ETA: 10s - loss: 0.6863 - accuracy: 0.543 - ETA: 10s - loss: 0.6869 - accuracy: 0.542 - ETA: 10s - loss: 0.6897 - accuracy: 0.533 - ETA: 10s - loss: 0.6884 - accuracy: 0.537 - ETA: 10s - loss: 0.6869 - accuracy: 0.543 - ETA: 10s - loss: 0.6866 - accuracy: 0.543 - ETA: 10s - loss: 0.6865 - accuracy: 0.544 - ETA: 10s - loss: 0.6855 - accuracy: 0.547 - ETA: 10s - loss: 0.6855 - accuracy: 0.546 - ETA: 10s - loss: 0.6844 - accuracy: 0.551 - ETA: 9s - loss: 0.6841 - accuracy: 0.550 - ETA: 9s - loss: 0.6837 - accuracy: 0.55 - ETA: 9s - loss: 0.6837 - accuracy: 0.55 - ETA: 9s - loss: 0.6838 - accuracy: 0.55 - ETA: 9s - loss: 0.6835 - accuracy: 0.55 - ETA: 9s - loss: 0.6840 - accuracy: 0.55 - ETA: 9s - loss: 0.6846 - accuracy: 0.55 - ETA: 9s - loss: 0.6845 - accuracy: 0.55 - ETA: 9s - loss: 0.6845 - accuracy: 0.55 - ETA: 9s - loss: 0.6843 - accuracy: 0.55 - ETA: 9s - loss: 0.6846 - accuracy: 0.55 - ETA: 9s - loss: 0.6845 - accuracy: 0.55 - ETA: 9s - loss: 0.6847 - accuracy: 0.55 - ETA: 9s - loss: 0.6843 - accuracy: 0.55 - ETA: 9s - loss: 0.6845 - accuracy: 0.55 - ETA: 8s - loss: 0.6847 - accuracy: 0.55 - ETA: 8s - loss: 0.6845 - accuracy: 0.55 - ETA: 8s - loss: 0.6847 - accuracy: 0.55 - ETA: 8s - loss: 0.6846 - accuracy: 0.55 - ETA: 8s - loss: 0.6846 - accuracy: 0.55 - ETA: 8s - loss: 0.6847 - accuracy: 0.55 - ETA: 8s - loss: 0.6844 - accuracy: 0.55 - ETA: 8s - loss: 0.6846 - accuracy: 0.55 - ETA: 8s - loss: 0.6847 - accuracy: 0.55 - ETA: 8s - loss: 0.6849 - accuracy: 0.55 - ETA: 8s - loss: 0.6849 - accuracy: 0.55 - ETA: 8s - loss: 0.6847 - accuracy: 0.55 - ETA: 8s - loss: 0.6850 - accuracy: 0.55 - ETA: 8s - loss: 0.6851 - accuracy: 0.54 - ETA: 7s - loss: 0.6850 - accuracy: 0.55 - ETA: 7s - loss: 0.6850 - accuracy: 0.55 - ETA: 7s - loss: 0.6851 - accuracy: 0.55 - ETA: 7s - loss: 0.6853 - accuracy: 0.54 - ETA: 7s - loss: 0.6856 - accuracy: 0.54 - ETA: 7s - loss: 0.6858 - accuracy: 0.54 - ETA: 7s - loss: 0.6858 - accuracy: 0.54 - ETA: 7s - loss: 0.6858 - accuracy: 0.54 - ETA: 7s - loss: 0.6857 - accuracy: 0.54 - ETA: 7s - loss: 0.6856 - accuracy: 0.54 - ETA: 7s - loss: 0.6860 - accuracy: 0.54 - ETA: 7s - loss: 0.6860 - accuracy: 0.54 - ETA: 7s - loss: 0.6858 - accuracy: 0.54 - ETA: 7s - loss: 0.6859 - accuracy: 0.54 - ETA: 6s - loss: 0.6859 - accuracy: 0.54 - ETA: 6s - loss: 0.6860 - accuracy: 0.54 - ETA: 6s - loss: 0.6859 - accuracy: 0.54 - ETA: 6s - loss: 0.6858 - accuracy: 0.54 - ETA: 6s - loss: 0.6856 - accuracy: 0.54 - ETA: 6s - loss: 0.6856 - accuracy: 0.54 - ETA: 6s - loss: 0.6858 - accuracy: 0.54 - ETA: 6s - loss: 0.6860 - accuracy: 0.54 - ETA: 6s - loss: 0.6861 - accuracy: 0.54 - ETA: 6s - loss: 0.6862 - accuracy: 0.54 - ETA: 6s - loss: 0.6862 - accuracy: 0.54 - ETA: 6s - loss: 0.6863 - accuracy: 0.54 - ETA: 6s - loss: 0.6862 - accuracy: 0.54 - ETA: 6s - loss: 0.6862 - accuracy: 0.54 - ETA: 5s - loss: 0.6861 - accuracy: 0.54 - ETA: 5s - loss: 0.6860 - accuracy: 0.54 - ETA: 5s - loss: 0.6859 - accuracy: 0.54 - ETA: 5s - loss: 0.6860 - accuracy: 0.54 - ETA: 5s - loss: 0.6859 - accuracy: 0.54 - ETA: 5s - loss: 0.6859 - accuracy: 0.54 - ETA: 5s - loss: 0.6860 - accuracy: 0.54 - ETA: 5s - loss: 0.6860 - accuracy: 0.54 - ETA: 5s - loss: 0.6862 - accuracy: 0.54 - ETA: 5s - loss: 0.6862 - accuracy: 0.54 - ETA: 5s - loss: 0.6861 - accuracy: 0.54 - ETA: 5s - loss: 0.6861 - accuracy: 0.54 - ETA: 5s - loss: 0.6862 - accuracy: 0.54 - ETA: 5s - loss: 0.6863 - accuracy: 0.54 - ETA: 4s - loss: 0.6863 - accuracy: 0.54 - ETA: 4s - loss: 0.6863 - accuracy: 0.54 - ETA: 4s - loss: 0.6863 - accuracy: 0.54 - ETA: 4s - loss: 0.6864 - accuracy: 0.54 - ETA: 4s - loss: 0.6864 - accuracy: 0.54 - ETA: 4s - loss: 0.6863 - accuracy: 0.54 - ETA: 4s - loss: 0.6864 - accuracy: 0.54 - ETA: 4s - loss: 0.6864 - accuracy: 0.54 - ETA: 4s - loss: 0.6863 - accuracy: 0.54 - ETA: 4s - loss: 0.6862 - accuracy: 0.54 - ETA: 4s - loss: 0.6861 - accuracy: 0.54 - ETA: 4s - loss: 0.6861 - accuracy: 0.54 - ETA: 4s - loss: 0.6862 - accuracy: 0.54 - ETA: 4s - loss: 0.6861 - accuracy: 0.54 - ETA: 4s - loss: 0.6861 - accuracy: 0.54 - ETA: 3s - loss: 0.6860 - accuracy: 0.54 - ETA: 3s - loss: 0.6859 - accuracy: 0.54 - ETA: 3s - loss: 0.6861 - accuracy: 0.54 - ETA: 3s - loss: 0.6862 - accuracy: 0.54 - ETA: 3s - loss: 0.6861 - accuracy: 0.54 - ETA: 3s - loss: 0.6860 - accuracy: 0.54 - ETA: 3s - loss: 0.6861 - accuracy: 0.54 - ETA: 3s - loss: 0.6860 - accuracy: 0.54 - ETA: 3s - loss: 0.6862 - accuracy: 0.54 - ETA: 3s - loss: 0.6862 - accuracy: 0.54 - ETA: 3s - loss: 0.6862 - accuracy: 0.54 - ETA: 3s - loss: 0.6862 - accuracy: 0.54 - ETA: 3s - loss: 0.6861 - accuracy: 0.54 - ETA: 3s - loss: 0.6862 - accuracy: 0.54 - ETA: 2s - loss: 0.6861 - accuracy: 0.54 - ETA: 2s - loss: 0.6862 - accuracy: 0.54 - ETA: 2s - loss: 0.6862 - accuracy: 0.54 - ETA: 2s - loss: 0.6861 - accuracy: 0.54 - ETA: 2s - loss: 0.6861 - accuracy: 0.54 - ETA: 2s - loss: 0.6861 - accuracy: 0.54 - ETA: 2s - loss: 0.6861 - accuracy: 0.54 - ETA: 2s - loss: 0.6862 - accuracy: 0.54 - ETA: 2s - loss: 0.6861 - accuracy: 0.54 - ETA: 2s - loss: 0.6861 - accuracy: 0.54 - ETA: 2s - loss: 0.6861 - accuracy: 0.54 - ETA: 2s - loss: 0.6861 - accuracy: 0.54 - ETA: 2s - loss: 0.6861 - accuracy: 0.54 - ETA: 2s - loss: 0.6861 - accuracy: 0.54 - ETA: 1s - loss: 0.6862 - accuracy: 0.54 - ETA: 1s - loss: 0.6863 - accuracy: 0.54 - ETA: 1s - loss: 0.6863 - accuracy: 0.54 - ETA: 1s - loss: 0.6864 - accuracy: 0.54 - ETA: 1s - loss: 0.6864 - accuracy: 0.54 - ETA: 1s - loss: 0.6864 - accuracy: 0.54 - ETA: 1s - loss: 0.6864 - accuracy: 0.54 - ETA: 1s - loss: 0.6863 - accuracy: 0.54 - ETA: 1s - loss: 0.6863 - accuracy: 0.54 - ETA: 1s - loss: 0.6863 - accuracy: 0.54 - ETA: 1s - loss: 0.6863 - accuracy: 0.54 - ETA: 1s - loss: 0.6863 - accuracy: 0.54 - ETA: 1s - loss: 0.6864 - accuracy: 0.54 - ETA: 1s - loss: 0.6863 - accuracy: 0.54 - ETA: 1s - loss: 0.6863 - accuracy: 0.54 - ETA: 0s - loss: 0.6862 - accuracy: 0.54 - ETA: 0s - loss: 0.6863 - accuracy: 0.54 - ETA: 0s - loss: 0.6863 - accuracy: 0.54 - ETA: 0s - loss: 0.6863 - accuracy: 0.54 - ETA: 0s - loss: 0.6863 - accuracy: 0.54 - ETA: 0s - loss: 0.6863 - accuracy: 0.54 - ETA: 0s - loss: 0.6863 - accuracy: 0.54 - ETA: 0s - loss: 0.6862 - accuracy: 0.54 - ETA: 0s - loss: 0.6861 - accuracy: 0.54 - ETA: 0s - loss: 0.6861 - accuracy: 0.54 - ETA: 0s - loss: 0.6860 - accuracy: 0.54 - ETA: 0s - loss: 0.6861 - accuracy: 0.54 - ETA: 0s - loss: 0.6861 - accuracy: 0.54 - ETA: 0s - loss: 0.6861 - accuracy: 0.54 - 11s 276us/step - loss: 0.6861 - accuracy: 0.5483\n",
      "\n",
      "Epoch 00013: loss improved from 0.68634 to 0.68611, saving model to Resultados/7/Checkpoints/word2vec-13-0.6861.hdf5\n",
      "Epoch 14/50\n"
     ]
    },
    {
     "name": "stdout",
     "output_type": "stream",
     "text": [
      "40268/40268 [==============================] - ETA: 8s - loss: 0.6883 - accuracy: 0.53 - ETA: 9s - loss: 0.6875 - accuracy: 0.54 - ETA: 9s - loss: 0.6894 - accuracy: 0.54 - ETA: 9s - loss: 0.6901 - accuracy: 0.53 - ETA: 10s - loss: 0.6904 - accuracy: 0.528 - ETA: 10s - loss: 0.6891 - accuracy: 0.535 - ETA: 10s - loss: 0.6875 - accuracy: 0.537 - ETA: 10s - loss: 0.6874 - accuracy: 0.540 - ETA: 10s - loss: 0.6882 - accuracy: 0.538 - ETA: 10s - loss: 0.6871 - accuracy: 0.544 - ETA: 10s - loss: 0.6862 - accuracy: 0.543 - ETA: 10s - loss: 0.6866 - accuracy: 0.542 - ETA: 10s - loss: 0.6861 - accuracy: 0.544 - ETA: 10s - loss: 0.6860 - accuracy: 0.546 - ETA: 10s - loss: 0.6867 - accuracy: 0.544 - ETA: 10s - loss: 0.6866 - accuracy: 0.545 - ETA: 10s - loss: 0.6870 - accuracy: 0.544 - ETA: 10s - loss: 0.6869 - accuracy: 0.544 - ETA: 10s - loss: 0.6867 - accuracy: 0.546 - ETA: 10s - loss: 0.6865 - accuracy: 0.547 - ETA: 10s - loss: 0.6863 - accuracy: 0.548 - ETA: 10s - loss: 0.6864 - accuracy: 0.547 - ETA: 10s - loss: 0.6864 - accuracy: 0.548 - ETA: 10s - loss: 0.6863 - accuracy: 0.550 - ETA: 10s - loss: 0.6862 - accuracy: 0.549 - ETA: 10s - loss: 0.6866 - accuracy: 0.547 - ETA: 10s - loss: 0.6869 - accuracy: 0.546 - ETA: 10s - loss: 0.6872 - accuracy: 0.546 - ETA: 10s - loss: 0.6871 - accuracy: 0.547 - ETA: 10s - loss: 0.6872 - accuracy: 0.546 - ETA: 10s - loss: 0.6875 - accuracy: 0.545 - ETA: 9s - loss: 0.6874 - accuracy: 0.546 - ETA: 9s - loss: 0.6874 - accuracy: 0.54 - ETA: 9s - loss: 0.6875 - accuracy: 0.54 - ETA: 9s - loss: 0.6874 - accuracy: 0.54 - ETA: 9s - loss: 0.6876 - accuracy: 0.54 - ETA: 9s - loss: 0.6873 - accuracy: 0.54 - ETA: 9s - loss: 0.6878 - accuracy: 0.54 - ETA: 9s - loss: 0.6876 - accuracy: 0.54 - ETA: 9s - loss: 0.6875 - accuracy: 0.54 - ETA: 9s - loss: 0.6871 - accuracy: 0.54 - ETA: 9s - loss: 0.6872 - accuracy: 0.54 - ETA: 8s - loss: 0.6871 - accuracy: 0.54 - ETA: 8s - loss: 0.6872 - accuracy: 0.54 - ETA: 8s - loss: 0.6872 - accuracy: 0.54 - ETA: 8s - loss: 0.6872 - accuracy: 0.54 - ETA: 8s - loss: 0.6870 - accuracy: 0.54 - ETA: 8s - loss: 0.6874 - accuracy: 0.54 - ETA: 8s - loss: 0.6875 - accuracy: 0.54 - ETA: 8s - loss: 0.6875 - accuracy: 0.54 - ETA: 8s - loss: 0.6875 - accuracy: 0.54 - ETA: 8s - loss: 0.6875 - accuracy: 0.54 - ETA: 8s - loss: 0.6875 - accuracy: 0.54 - ETA: 8s - loss: 0.6875 - accuracy: 0.54 - ETA: 8s - loss: 0.6874 - accuracy: 0.54 - ETA: 7s - loss: 0.6875 - accuracy: 0.54 - ETA: 7s - loss: 0.6874 - accuracy: 0.54 - ETA: 7s - loss: 0.6874 - accuracy: 0.54 - ETA: 7s - loss: 0.6874 - accuracy: 0.54 - ETA: 7s - loss: 0.6873 - accuracy: 0.54 - ETA: 7s - loss: 0.6874 - accuracy: 0.54 - ETA: 7s - loss: 0.6874 - accuracy: 0.54 - ETA: 7s - loss: 0.6873 - accuracy: 0.54 - ETA: 7s - loss: 0.6873 - accuracy: 0.54 - ETA: 7s - loss: 0.6873 - accuracy: 0.54 - ETA: 7s - loss: 0.6874 - accuracy: 0.54 - ETA: 6s - loss: 0.6873 - accuracy: 0.54 - ETA: 6s - loss: 0.6873 - accuracy: 0.54 - ETA: 6s - loss: 0.6872 - accuracy: 0.54 - ETA: 6s - loss: 0.6869 - accuracy: 0.54 - ETA: 6s - loss: 0.6869 - accuracy: 0.54 - ETA: 6s - loss: 0.6869 - accuracy: 0.54 - ETA: 6s - loss: 0.6869 - accuracy: 0.54 - ETA: 6s - loss: 0.6870 - accuracy: 0.54 - ETA: 6s - loss: 0.6870 - accuracy: 0.54 - ETA: 6s - loss: 0.6871 - accuracy: 0.54 - ETA: 6s - loss: 0.6871 - accuracy: 0.54 - ETA: 6s - loss: 0.6873 - accuracy: 0.54 - ETA: 6s - loss: 0.6874 - accuracy: 0.54 - ETA: 5s - loss: 0.6873 - accuracy: 0.54 - ETA: 5s - loss: 0.6874 - accuracy: 0.54 - ETA: 5s - loss: 0.6873 - accuracy: 0.54 - ETA: 5s - loss: 0.6874 - accuracy: 0.54 - ETA: 5s - loss: 0.6873 - accuracy: 0.54 - ETA: 5s - loss: 0.6871 - accuracy: 0.54 - ETA: 5s - loss: 0.6871 - accuracy: 0.54 - ETA: 5s - loss: 0.6871 - accuracy: 0.54 - ETA: 5s - loss: 0.6871 - accuracy: 0.54 - ETA: 5s - loss: 0.6870 - accuracy: 0.54 - ETA: 5s - loss: 0.6869 - accuracy: 0.54 - ETA: 5s - loss: 0.6869 - accuracy: 0.54 - ETA: 5s - loss: 0.6867 - accuracy: 0.54 - ETA: 4s - loss: 0.6867 - accuracy: 0.54 - ETA: 4s - loss: 0.6866 - accuracy: 0.54 - ETA: 4s - loss: 0.6866 - accuracy: 0.54 - ETA: 4s - loss: 0.6866 - accuracy: 0.54 - ETA: 4s - loss: 0.6865 - accuracy: 0.54 - ETA: 4s - loss: 0.6865 - accuracy: 0.54 - ETA: 4s - loss: 0.6865 - accuracy: 0.54 - ETA: 4s - loss: 0.6865 - accuracy: 0.54 - ETA: 4s - loss: 0.6865 - accuracy: 0.54 - ETA: 4s - loss: 0.6865 - accuracy: 0.54 - ETA: 4s - loss: 0.6864 - accuracy: 0.54 - ETA: 4s - loss: 0.6863 - accuracy: 0.54 - ETA: 3s - loss: 0.6863 - accuracy: 0.54 - ETA: 3s - loss: 0.6863 - accuracy: 0.54 - ETA: 3s - loss: 0.6862 - accuracy: 0.54 - ETA: 3s - loss: 0.6861 - accuracy: 0.54 - ETA: 3s - loss: 0.6860 - accuracy: 0.54 - ETA: 3s - loss: 0.6860 - accuracy: 0.54 - ETA: 3s - loss: 0.6860 - accuracy: 0.54 - ETA: 3s - loss: 0.6859 - accuracy: 0.54 - ETA: 3s - loss: 0.6859 - accuracy: 0.54 - ETA: 3s - loss: 0.6859 - accuracy: 0.54 - ETA: 3s - loss: 0.6859 - accuracy: 0.54 - ETA: 3s - loss: 0.6858 - accuracy: 0.54 - ETA: 3s - loss: 0.6858 - accuracy: 0.54 - ETA: 2s - loss: 0.6858 - accuracy: 0.54 - ETA: 2s - loss: 0.6858 - accuracy: 0.54 - ETA: 2s - loss: 0.6858 - accuracy: 0.54 - ETA: 2s - loss: 0.6856 - accuracy: 0.54 - ETA: 2s - loss: 0.6856 - accuracy: 0.54 - ETA: 2s - loss: 0.6856 - accuracy: 0.54 - ETA: 2s - loss: 0.6855 - accuracy: 0.54 - ETA: 2s - loss: 0.6854 - accuracy: 0.54 - ETA: 2s - loss: 0.6854 - accuracy: 0.54 - ETA: 2s - loss: 0.6854 - accuracy: 0.54 - ETA: 2s - loss: 0.6855 - accuracy: 0.54 - ETA: 2s - loss: 0.6854 - accuracy: 0.54 - ETA: 2s - loss: 0.6854 - accuracy: 0.54 - ETA: 1s - loss: 0.6855 - accuracy: 0.54 - ETA: 1s - loss: 0.6855 - accuracy: 0.54 - ETA: 1s - loss: 0.6855 - accuracy: 0.54 - ETA: 1s - loss: 0.6856 - accuracy: 0.54 - ETA: 1s - loss: 0.6855 - accuracy: 0.54 - ETA: 1s - loss: 0.6855 - accuracy: 0.54 - ETA: 1s - loss: 0.6855 - accuracy: 0.54 - ETA: 1s - loss: 0.6855 - accuracy: 0.54 - ETA: 1s - loss: 0.6855 - accuracy: 0.54 - ETA: 1s - loss: 0.6855 - accuracy: 0.54 - ETA: 1s - loss: 0.6856 - accuracy: 0.54 - ETA: 1s - loss: 0.6856 - accuracy: 0.54 - ETA: 1s - loss: 0.6855 - accuracy: 0.54 - ETA: 0s - loss: 0.6855 - accuracy: 0.54 - ETA: 0s - loss: 0.6856 - accuracy: 0.54 - ETA: 0s - loss: 0.6856 - accuracy: 0.54 - ETA: 0s - loss: 0.6856 - accuracy: 0.54 - ETA: 0s - loss: 0.6856 - accuracy: 0.54 - ETA: 0s - loss: 0.6855 - accuracy: 0.55 - ETA: 0s - loss: 0.6855 - accuracy: 0.55 - ETA: 0s - loss: 0.6855 - accuracy: 0.54 - ETA: 0s - loss: 0.6856 - accuracy: 0.54 - ETA: 0s - loss: 0.6856 - accuracy: 0.54 - ETA: 0s - loss: 0.6856 - accuracy: 0.54 - ETA: 0s - loss: 0.6856 - accuracy: 0.54 - ETA: 0s - loss: 0.6855 - accuracy: 0.54 - ETA: 0s - loss: 0.6855 - accuracy: 0.54 - 12s 293us/step - loss: 0.6855 - accuracy: 0.5497\n",
      "\n",
      "Epoch 00014: loss improved from 0.68611 to 0.68548, saving model to Resultados/7/Checkpoints/word2vec-14-0.6855.hdf5\n",
      "Epoch 15/50\n"
     ]
    },
    {
     "name": "stdout",
     "output_type": "stream",
     "text": [
      "40268/40268 [==============================] - ETA: 9s - loss: 0.6810 - accuracy: 0.58 - ETA: 9s - loss: 0.6869 - accuracy: 0.54 - ETA: 10s - loss: 0.6875 - accuracy: 0.539 - ETA: 10s - loss: 0.6878 - accuracy: 0.542 - ETA: 10s - loss: 0.6859 - accuracy: 0.546 - ETA: 10s - loss: 0.6856 - accuracy: 0.543 - ETA: 10s - loss: 0.6856 - accuracy: 0.543 - ETA: 10s - loss: 0.6868 - accuracy: 0.541 - ETA: 10s - loss: 0.6850 - accuracy: 0.547 - ETA: 10s - loss: 0.6853 - accuracy: 0.545 - ETA: 10s - loss: 0.6843 - accuracy: 0.547 - ETA: 10s - loss: 0.6847 - accuracy: 0.546 - ETA: 10s - loss: 0.6860 - accuracy: 0.542 - ETA: 10s - loss: 0.6861 - accuracy: 0.542 - ETA: 10s - loss: 0.6859 - accuracy: 0.544 - ETA: 10s - loss: 0.6857 - accuracy: 0.547 - ETA: 10s - loss: 0.6858 - accuracy: 0.546 - ETA: 10s - loss: 0.6860 - accuracy: 0.545 - ETA: 10s - loss: 0.6860 - accuracy: 0.547 - ETA: 10s - loss: 0.6862 - accuracy: 0.544 - ETA: 10s - loss: 0.6856 - accuracy: 0.547 - ETA: 10s - loss: 0.6857 - accuracy: 0.545 - ETA: 10s - loss: 0.6859 - accuracy: 0.544 - ETA: 10s - loss: 0.6857 - accuracy: 0.545 - ETA: 9s - loss: 0.6857 - accuracy: 0.545 - ETA: 9s - loss: 0.6860 - accuracy: 0.54 - ETA: 9s - loss: 0.6855 - accuracy: 0.54 - ETA: 9s - loss: 0.6856 - accuracy: 0.54 - ETA: 9s - loss: 0.6854 - accuracy: 0.54 - ETA: 9s - loss: 0.6853 - accuracy: 0.54 - ETA: 9s - loss: 0.6852 - accuracy: 0.54 - ETA: 9s - loss: 0.6848 - accuracy: 0.54 - ETA: 9s - loss: 0.6850 - accuracy: 0.54 - ETA: 9s - loss: 0.6853 - accuracy: 0.54 - ETA: 9s - loss: 0.6850 - accuracy: 0.54 - ETA: 9s - loss: 0.6849 - accuracy: 0.54 - ETA: 9s - loss: 0.6848 - accuracy: 0.54 - ETA: 9s - loss: 0.6847 - accuracy: 0.54 - ETA: 9s - loss: 0.6844 - accuracy: 0.55 - ETA: 8s - loss: 0.6846 - accuracy: 0.55 - ETA: 8s - loss: 0.6846 - accuracy: 0.55 - ETA: 8s - loss: 0.6847 - accuracy: 0.54 - ETA: 8s - loss: 0.6847 - accuracy: 0.55 - ETA: 8s - loss: 0.6846 - accuracy: 0.55 - ETA: 8s - loss: 0.6845 - accuracy: 0.55 - ETA: 8s - loss: 0.6843 - accuracy: 0.55 - ETA: 8s - loss: 0.6846 - accuracy: 0.55 - ETA: 8s - loss: 0.6847 - accuracy: 0.55 - ETA: 8s - loss: 0.6847 - accuracy: 0.55 - ETA: 8s - loss: 0.6847 - accuracy: 0.55 - ETA: 8s - loss: 0.6845 - accuracy: 0.55 - ETA: 8s - loss: 0.6845 - accuracy: 0.55 - ETA: 8s - loss: 0.6847 - accuracy: 0.55 - ETA: 7s - loss: 0.6845 - accuracy: 0.55 - ETA: 7s - loss: 0.6846 - accuracy: 0.55 - ETA: 7s - loss: 0.6846 - accuracy: 0.55 - ETA: 7s - loss: 0.6847 - accuracy: 0.55 - ETA: 7s - loss: 0.6850 - accuracy: 0.55 - ETA: 7s - loss: 0.6848 - accuracy: 0.55 - ETA: 7s - loss: 0.6849 - accuracy: 0.54 - ETA: 7s - loss: 0.6851 - accuracy: 0.54 - ETA: 7s - loss: 0.6851 - accuracy: 0.54 - ETA: 7s - loss: 0.6850 - accuracy: 0.55 - ETA: 7s - loss: 0.6851 - accuracy: 0.55 - ETA: 7s - loss: 0.6850 - accuracy: 0.55 - ETA: 7s - loss: 0.6850 - accuracy: 0.55 - ETA: 6s - loss: 0.6850 - accuracy: 0.55 - ETA: 6s - loss: 0.6853 - accuracy: 0.54 - ETA: 6s - loss: 0.6854 - accuracy: 0.54 - ETA: 6s - loss: 0.6854 - accuracy: 0.54 - ETA: 6s - loss: 0.6853 - accuracy: 0.55 - ETA: 6s - loss: 0.6853 - accuracy: 0.55 - ETA: 6s - loss: 0.6854 - accuracy: 0.55 - ETA: 6s - loss: 0.6854 - accuracy: 0.55 - ETA: 6s - loss: 0.6853 - accuracy: 0.55 - ETA: 6s - loss: 0.6853 - accuracy: 0.55 - ETA: 6s - loss: 0.6854 - accuracy: 0.55 - ETA: 6s - loss: 0.6854 - accuracy: 0.55 - ETA: 6s - loss: 0.6856 - accuracy: 0.54 - ETA: 5s - loss: 0.6853 - accuracy: 0.55 - ETA: 5s - loss: 0.6853 - accuracy: 0.55 - ETA: 5s - loss: 0.6852 - accuracy: 0.55 - ETA: 5s - loss: 0.6849 - accuracy: 0.55 - ETA: 5s - loss: 0.6850 - accuracy: 0.55 - ETA: 5s - loss: 0.6851 - accuracy: 0.55 - ETA: 5s - loss: 0.6852 - accuracy: 0.54 - ETA: 5s - loss: 0.6852 - accuracy: 0.54 - ETA: 5s - loss: 0.6852 - accuracy: 0.55 - ETA: 5s - loss: 0.6852 - accuracy: 0.55 - ETA: 5s - loss: 0.6853 - accuracy: 0.55 - ETA: 5s - loss: 0.6852 - accuracy: 0.55 - ETA: 5s - loss: 0.6852 - accuracy: 0.55 - ETA: 4s - loss: 0.6853 - accuracy: 0.54 - ETA: 4s - loss: 0.6853 - accuracy: 0.54 - ETA: 4s - loss: 0.6854 - accuracy: 0.54 - ETA: 4s - loss: 0.6854 - accuracy: 0.54 - ETA: 4s - loss: 0.6855 - accuracy: 0.54 - ETA: 4s - loss: 0.6855 - accuracy: 0.54 - ETA: 4s - loss: 0.6855 - accuracy: 0.54 - ETA: 4s - loss: 0.6857 - accuracy: 0.54 - ETA: 4s - loss: 0.6857 - accuracy: 0.54 - ETA: 4s - loss: 0.6856 - accuracy: 0.54 - ETA: 4s - loss: 0.6856 - accuracy: 0.54 - ETA: 4s - loss: 0.6855 - accuracy: 0.54 - ETA: 4s - loss: 0.6856 - accuracy: 0.54 - ETA: 3s - loss: 0.6856 - accuracy: 0.54 - ETA: 3s - loss: 0.6856 - accuracy: 0.54 - ETA: 3s - loss: 0.6856 - accuracy: 0.54 - ETA: 3s - loss: 0.6856 - accuracy: 0.54 - ETA: 3s - loss: 0.6856 - accuracy: 0.54 - ETA: 3s - loss: 0.6856 - accuracy: 0.54 - ETA: 3s - loss: 0.6857 - accuracy: 0.54 - ETA: 3s - loss: 0.6858 - accuracy: 0.54 - ETA: 3s - loss: 0.6857 - accuracy: 0.54 - ETA: 3s - loss: 0.6857 - accuracy: 0.54 - ETA: 3s - loss: 0.6857 - accuracy: 0.54 - ETA: 3s - loss: 0.6856 - accuracy: 0.54 - ETA: 3s - loss: 0.6857 - accuracy: 0.54 - ETA: 2s - loss: 0.6858 - accuracy: 0.54 - ETA: 2s - loss: 0.6857 - accuracy: 0.54 - ETA: 2s - loss: 0.6857 - accuracy: 0.54 - ETA: 2s - loss: 0.6857 - accuracy: 0.54 - ETA: 2s - loss: 0.6857 - accuracy: 0.54 - ETA: 2s - loss: 0.6857 - accuracy: 0.54 - ETA: 2s - loss: 0.6857 - accuracy: 0.54 - ETA: 2s - loss: 0.6858 - accuracy: 0.54 - ETA: 2s - loss: 0.6858 - accuracy: 0.54 - ETA: 2s - loss: 0.6857 - accuracy: 0.54 - ETA: 2s - loss: 0.6857 - accuracy: 0.54 - ETA: 2s - loss: 0.6856 - accuracy: 0.54 - ETA: 2s - loss: 0.6857 - accuracy: 0.54 - ETA: 1s - loss: 0.6857 - accuracy: 0.54 - ETA: 1s - loss: 0.6857 - accuracy: 0.54 - ETA: 1s - loss: 0.6856 - accuracy: 0.54 - ETA: 1s - loss: 0.6856 - accuracy: 0.54 - ETA: 1s - loss: 0.6856 - accuracy: 0.54 - ETA: 1s - loss: 0.6855 - accuracy: 0.54 - ETA: 1s - loss: 0.6855 - accuracy: 0.54 - ETA: 1s - loss: 0.6855 - accuracy: 0.54 - ETA: 1s - loss: 0.6854 - accuracy: 0.55 - ETA: 1s - loss: 0.6854 - accuracy: 0.55 - ETA: 1s - loss: 0.6853 - accuracy: 0.55 - ETA: 1s - loss: 0.6854 - accuracy: 0.55 - ETA: 1s - loss: 0.6854 - accuracy: 0.55 - ETA: 0s - loss: 0.6855 - accuracy: 0.55 - ETA: 0s - loss: 0.6855 - accuracy: 0.55 - ETA: 0s - loss: 0.6855 - accuracy: 0.55 - ETA: 0s - loss: 0.6856 - accuracy: 0.54 - ETA: 0s - loss: 0.6855 - accuracy: 0.54 - ETA: 0s - loss: 0.6856 - accuracy: 0.54 - ETA: 0s - loss: 0.6856 - accuracy: 0.55 - ETA: 0s - loss: 0.6856 - accuracy: 0.55 - ETA: 0s - loss: 0.6855 - accuracy: 0.55 - ETA: 0s - loss: 0.6855 - accuracy: 0.55 - ETA: 0s - loss: 0.6855 - accuracy: 0.55 - ETA: 0s - loss: 0.6854 - accuracy: 0.55 - ETA: 0s - loss: 0.6854 - accuracy: 0.55 - 12s 297us/step - loss: 0.6855 - accuracy: 0.5506\n",
      "\n",
      "Epoch 00015: loss improved from 0.68548 to 0.68547, saving model to Resultados/7/Checkpoints/word2vec-15-0.6855.hdf5\n",
      "Epoch 16/50\n"
     ]
    },
    {
     "name": "stdout",
     "output_type": "stream",
     "text": [
      "40268/40268 [==============================] - ETA: 10s - loss: 0.6849 - accuracy: 0.535 - ETA: 10s - loss: 0.6860 - accuracy: 0.537 - ETA: 10s - loss: 0.6879 - accuracy: 0.523 - ETA: 10s - loss: 0.6892 - accuracy: 0.510 - ETA: 10s - loss: 0.6889 - accuracy: 0.513 - ETA: 10s - loss: 0.6894 - accuracy: 0.519 - ETA: 10s - loss: 0.6875 - accuracy: 0.530 - ETA: 10s - loss: 0.6870 - accuracy: 0.531 - ETA: 10s - loss: 0.6863 - accuracy: 0.533 - ETA: 10s - loss: 0.6872 - accuracy: 0.534 - ETA: 10s - loss: 0.6861 - accuracy: 0.540 - ETA: 10s - loss: 0.6856 - accuracy: 0.542 - ETA: 10s - loss: 0.6857 - accuracy: 0.541 - ETA: 10s - loss: 0.6861 - accuracy: 0.540 - ETA: 10s - loss: 0.6858 - accuracy: 0.543 - ETA: 10s - loss: 0.6860 - accuracy: 0.543 - ETA: 10s - loss: 0.6854 - accuracy: 0.543 - ETA: 10s - loss: 0.6851 - accuracy: 0.545 - ETA: 10s - loss: 0.6847 - accuracy: 0.548 - ETA: 10s - loss: 0.6848 - accuracy: 0.547 - ETA: 10s - loss: 0.6849 - accuracy: 0.547 - ETA: 10s - loss: 0.6849 - accuracy: 0.547 - ETA: 10s - loss: 0.6849 - accuracy: 0.546 - ETA: 10s - loss: 0.6853 - accuracy: 0.546 - ETA: 10s - loss: 0.6856 - accuracy: 0.545 - ETA: 10s - loss: 0.6858 - accuracy: 0.544 - ETA: 10s - loss: 0.6864 - accuracy: 0.542 - ETA: 10s - loss: 0.6864 - accuracy: 0.542 - ETA: 10s - loss: 0.6862 - accuracy: 0.543 - ETA: 10s - loss: 0.6859 - accuracy: 0.544 - ETA: 10s - loss: 0.6861 - accuracy: 0.544 - ETA: 10s - loss: 0.6859 - accuracy: 0.545 - ETA: 10s - loss: 0.6860 - accuracy: 0.544 - ETA: 10s - loss: 0.6859 - accuracy: 0.545 - ETA: 10s - loss: 0.6860 - accuracy: 0.545 - ETA: 10s - loss: 0.6859 - accuracy: 0.546 - ETA: 10s - loss: 0.6859 - accuracy: 0.546 - ETA: 10s - loss: 0.6859 - accuracy: 0.546 - ETA: 10s - loss: 0.6856 - accuracy: 0.546 - ETA: 10s - loss: 0.6858 - accuracy: 0.545 - ETA: 9s - loss: 0.6859 - accuracy: 0.545 - ETA: 9s - loss: 0.6859 - accuracy: 0.54 - ETA: 9s - loss: 0.6860 - accuracy: 0.54 - ETA: 9s - loss: 0.6860 - accuracy: 0.54 - ETA: 9s - loss: 0.6862 - accuracy: 0.54 - ETA: 9s - loss: 0.6858 - accuracy: 0.54 - ETA: 9s - loss: 0.6859 - accuracy: 0.54 - ETA: 9s - loss: 0.6861 - accuracy: 0.54 - ETA: 9s - loss: 0.6861 - accuracy: 0.54 - ETA: 9s - loss: 0.6863 - accuracy: 0.54 - ETA: 9s - loss: 0.6862 - accuracy: 0.54 - ETA: 9s - loss: 0.6861 - accuracy: 0.54 - ETA: 9s - loss: 0.6861 - accuracy: 0.54 - ETA: 8s - loss: 0.6862 - accuracy: 0.54 - ETA: 8s - loss: 0.6862 - accuracy: 0.54 - ETA: 8s - loss: 0.6864 - accuracy: 0.54 - ETA: 8s - loss: 0.6864 - accuracy: 0.54 - ETA: 8s - loss: 0.6864 - accuracy: 0.54 - ETA: 8s - loss: 0.6862 - accuracy: 0.54 - ETA: 8s - loss: 0.6864 - accuracy: 0.54 - ETA: 8s - loss: 0.6865 - accuracy: 0.54 - ETA: 8s - loss: 0.6866 - accuracy: 0.54 - ETA: 8s - loss: 0.6864 - accuracy: 0.54 - ETA: 8s - loss: 0.6864 - accuracy: 0.54 - ETA: 8s - loss: 0.6863 - accuracy: 0.54 - ETA: 8s - loss: 0.6861 - accuracy: 0.54 - ETA: 7s - loss: 0.6860 - accuracy: 0.54 - ETA: 7s - loss: 0.6860 - accuracy: 0.54 - ETA: 7s - loss: 0.6860 - accuracy: 0.54 - ETA: 7s - loss: 0.6858 - accuracy: 0.54 - ETA: 7s - loss: 0.6858 - accuracy: 0.54 - ETA: 7s - loss: 0.6857 - accuracy: 0.54 - ETA: 7s - loss: 0.6858 - accuracy: 0.54 - ETA: 7s - loss: 0.6857 - accuracy: 0.54 - ETA: 7s - loss: 0.6856 - accuracy: 0.54 - ETA: 7s - loss: 0.6856 - accuracy: 0.54 - ETA: 7s - loss: 0.6855 - accuracy: 0.54 - ETA: 7s - loss: 0.6856 - accuracy: 0.54 - ETA: 6s - loss: 0.6856 - accuracy: 0.54 - ETA: 6s - loss: 0.6856 - accuracy: 0.54 - ETA: 6s - loss: 0.6857 - accuracy: 0.54 - ETA: 6s - loss: 0.6857 - accuracy: 0.54 - ETA: 6s - loss: 0.6856 - accuracy: 0.54 - ETA: 6s - loss: 0.6858 - accuracy: 0.54 - ETA: 6s - loss: 0.6857 - accuracy: 0.54 - ETA: 6s - loss: 0.6857 - accuracy: 0.54 - ETA: 6s - loss: 0.6856 - accuracy: 0.54 - ETA: 6s - loss: 0.6854 - accuracy: 0.54 - ETA: 6s - loss: 0.6854 - accuracy: 0.54 - ETA: 6s - loss: 0.6854 - accuracy: 0.54 - ETA: 5s - loss: 0.6856 - accuracy: 0.54 - ETA: 5s - loss: 0.6855 - accuracy: 0.54 - ETA: 5s - loss: 0.6855 - accuracy: 0.54 - ETA: 5s - loss: 0.6856 - accuracy: 0.54 - ETA: 5s - loss: 0.6857 - accuracy: 0.54 - ETA: 5s - loss: 0.6856 - accuracy: 0.54 - ETA: 5s - loss: 0.6856 - accuracy: 0.54 - ETA: 5s - loss: 0.6856 - accuracy: 0.54 - ETA: 5s - loss: 0.6855 - accuracy: 0.54 - ETA: 5s - loss: 0.6856 - accuracy: 0.54 - ETA: 5s - loss: 0.6855 - accuracy: 0.54 - ETA: 4s - loss: 0.6855 - accuracy: 0.54 - ETA: 4s - loss: 0.6855 - accuracy: 0.54 - ETA: 4s - loss: 0.6855 - accuracy: 0.54 - ETA: 4s - loss: 0.6855 - accuracy: 0.54 - ETA: 4s - loss: 0.6855 - accuracy: 0.54 - ETA: 4s - loss: 0.6855 - accuracy: 0.54 - ETA: 4s - loss: 0.6855 - accuracy: 0.54 - ETA: 4s - loss: 0.6855 - accuracy: 0.54 - ETA: 4s - loss: 0.6856 - accuracy: 0.54 - ETA: 4s - loss: 0.6855 - accuracy: 0.54 - ETA: 4s - loss: 0.6856 - accuracy: 0.54 - ETA: 3s - loss: 0.6856 - accuracy: 0.54 - ETA: 3s - loss: 0.6857 - accuracy: 0.54 - ETA: 3s - loss: 0.6857 - accuracy: 0.54 - ETA: 3s - loss: 0.6856 - accuracy: 0.54 - ETA: 3s - loss: 0.6856 - accuracy: 0.54 - ETA: 3s - loss: 0.6856 - accuracy: 0.54 - ETA: 3s - loss: 0.6855 - accuracy: 0.54 - ETA: 3s - loss: 0.6854 - accuracy: 0.54 - ETA: 3s - loss: 0.6854 - accuracy: 0.54 - ETA: 3s - loss: 0.6854 - accuracy: 0.54 - ETA: 3s - loss: 0.6853 - accuracy: 0.54 - ETA: 2s - loss: 0.6853 - accuracy: 0.54 - ETA: 2s - loss: 0.6852 - accuracy: 0.54 - ETA: 2s - loss: 0.6853 - accuracy: 0.54 - ETA: 2s - loss: 0.6852 - accuracy: 0.54 - ETA: 2s - loss: 0.6853 - accuracy: 0.54 - ETA: 2s - loss: 0.6853 - accuracy: 0.54 - ETA: 2s - loss: 0.6854 - accuracy: 0.54 - ETA: 2s - loss: 0.6853 - accuracy: 0.54 - ETA: 2s - loss: 0.6853 - accuracy: 0.54 - ETA: 2s - loss: 0.6852 - accuracy: 0.54 - ETA: 2s - loss: 0.6851 - accuracy: 0.54 - ETA: 2s - loss: 0.6851 - accuracy: 0.54 - ETA: 1s - loss: 0.6852 - accuracy: 0.54 - ETA: 1s - loss: 0.6852 - accuracy: 0.54 - ETA: 1s - loss: 0.6852 - accuracy: 0.54 - ETA: 1s - loss: 0.6851 - accuracy: 0.54 - ETA: 1s - loss: 0.6850 - accuracy: 0.54 - ETA: 1s - loss: 0.6850 - accuracy: 0.55 - ETA: 1s - loss: 0.6849 - accuracy: 0.54 - ETA: 1s - loss: 0.6849 - accuracy: 0.54 - ETA: 1s - loss: 0.6848 - accuracy: 0.54 - ETA: 1s - loss: 0.6849 - accuracy: 0.54 - ETA: 1s - loss: 0.6848 - accuracy: 0.54 - ETA: 0s - loss: 0.6849 - accuracy: 0.54 - ETA: 0s - loss: 0.6849 - accuracy: 0.54 - ETA: 0s - loss: 0.6849 - accuracy: 0.54 - ETA: 0s - loss: 0.6849 - accuracy: 0.54 - ETA: 0s - loss: 0.6849 - accuracy: 0.54 - ETA: 0s - loss: 0.6848 - accuracy: 0.54 - ETA: 0s - loss: 0.6848 - accuracy: 0.54 - ETA: 0s - loss: 0.6847 - accuracy: 0.54 - ETA: 0s - loss: 0.6846 - accuracy: 0.54 - ETA: 0s - loss: 0.6847 - accuracy: 0.54 - ETA: 0s - loss: 0.6847 - accuracy: 0.54 - 14s 353us/step - loss: 0.6847 - accuracy: 0.5494\n",
      "\n",
      "Epoch 00016: loss improved from 0.68547 to 0.68468, saving model to Resultados/7/Checkpoints/word2vec-16-0.6847.hdf5\n",
      "Epoch 17/50\n"
     ]
    },
    {
     "name": "stdout",
     "output_type": "stream",
     "text": [
      "40268/40268 [==============================] - ETA: 12s - loss: 0.6914 - accuracy: 0.566 - ETA: 12s - loss: 0.6905 - accuracy: 0.558 - ETA: 12s - loss: 0.6903 - accuracy: 0.561 - ETA: 12s - loss: 0.6898 - accuracy: 0.547 - ETA: 12s - loss: 0.6875 - accuracy: 0.553 - ETA: 12s - loss: 0.6875 - accuracy: 0.550 - ETA: 12s - loss: 0.6877 - accuracy: 0.548 - ETA: 12s - loss: 0.6869 - accuracy: 0.550 - ETA: 12s - loss: 0.6863 - accuracy: 0.552 - ETA: 12s - loss: 0.6863 - accuracy: 0.549 - ETA: 12s - loss: 0.6845 - accuracy: 0.554 - ETA: 12s - loss: 0.6854 - accuracy: 0.548 - ETA: 12s - loss: 0.6855 - accuracy: 0.549 - ETA: 12s - loss: 0.6858 - accuracy: 0.546 - ETA: 12s - loss: 0.6858 - accuracy: 0.549 - ETA: 12s - loss: 0.6859 - accuracy: 0.545 - ETA: 12s - loss: 0.6857 - accuracy: 0.544 - ETA: 12s - loss: 0.6857 - accuracy: 0.544 - ETA: 12s - loss: 0.6855 - accuracy: 0.548 - ETA: 12s - loss: 0.6861 - accuracy: 0.545 - ETA: 11s - loss: 0.6855 - accuracy: 0.548 - ETA: 11s - loss: 0.6850 - accuracy: 0.548 - ETA: 11s - loss: 0.6855 - accuracy: 0.549 - ETA: 11s - loss: 0.6851 - accuracy: 0.549 - ETA: 11s - loss: 0.6856 - accuracy: 0.549 - ETA: 11s - loss: 0.6855 - accuracy: 0.550 - ETA: 11s - loss: 0.6850 - accuracy: 0.551 - ETA: 11s - loss: 0.6858 - accuracy: 0.548 - ETA: 11s - loss: 0.6857 - accuracy: 0.548 - ETA: 11s - loss: 0.6855 - accuracy: 0.550 - ETA: 11s - loss: 0.6855 - accuracy: 0.550 - ETA: 10s - loss: 0.6856 - accuracy: 0.550 - ETA: 10s - loss: 0.6856 - accuracy: 0.550 - ETA: 10s - loss: 0.6856 - accuracy: 0.550 - ETA: 10s - loss: 0.6858 - accuracy: 0.549 - ETA: 10s - loss: 0.6851 - accuracy: 0.551 - ETA: 10s - loss: 0.6852 - accuracy: 0.551 - ETA: 10s - loss: 0.6853 - accuracy: 0.550 - ETA: 10s - loss: 0.6852 - accuracy: 0.550 - ETA: 10s - loss: 0.6852 - accuracy: 0.549 - ETA: 10s - loss: 0.6853 - accuracy: 0.549 - ETA: 10s - loss: 0.6853 - accuracy: 0.549 - ETA: 10s - loss: 0.6852 - accuracy: 0.549 - ETA: 10s - loss: 0.6850 - accuracy: 0.549 - ETA: 9s - loss: 0.6850 - accuracy: 0.549 - ETA: 9s - loss: 0.6846 - accuracy: 0.55 - ETA: 9s - loss: 0.6847 - accuracy: 0.55 - ETA: 9s - loss: 0.6848 - accuracy: 0.54 - ETA: 9s - loss: 0.6845 - accuracy: 0.55 - ETA: 9s - loss: 0.6844 - accuracy: 0.55 - ETA: 9s - loss: 0.6843 - accuracy: 0.55 - ETA: 9s - loss: 0.6840 - accuracy: 0.55 - ETA: 9s - loss: 0.6841 - accuracy: 0.55 - ETA: 9s - loss: 0.6841 - accuracy: 0.55 - ETA: 9s - loss: 0.6841 - accuracy: 0.55 - ETA: 9s - loss: 0.6841 - accuracy: 0.55 - ETA: 8s - loss: 0.6842 - accuracy: 0.55 - ETA: 8s - loss: 0.6843 - accuracy: 0.55 - ETA: 8s - loss: 0.6843 - accuracy: 0.55 - ETA: 8s - loss: 0.6842 - accuracy: 0.55 - ETA: 8s - loss: 0.6841 - accuracy: 0.55 - ETA: 8s - loss: 0.6841 - accuracy: 0.55 - ETA: 8s - loss: 0.6841 - accuracy: 0.55 - ETA: 8s - loss: 0.6843 - accuracy: 0.55 - ETA: 8s - loss: 0.6844 - accuracy: 0.55 - ETA: 8s - loss: 0.6845 - accuracy: 0.55 - ETA: 8s - loss: 0.6844 - accuracy: 0.55 - ETA: 8s - loss: 0.6844 - accuracy: 0.55 - ETA: 8s - loss: 0.6845 - accuracy: 0.55 - ETA: 7s - loss: 0.6845 - accuracy: 0.55 - ETA: 7s - loss: 0.6844 - accuracy: 0.55 - ETA: 7s - loss: 0.6845 - accuracy: 0.55 - ETA: 7s - loss: 0.6843 - accuracy: 0.55 - ETA: 7s - loss: 0.6844 - accuracy: 0.55 - ETA: 7s - loss: 0.6846 - accuracy: 0.55 - ETA: 7s - loss: 0.6848 - accuracy: 0.55 - ETA: 7s - loss: 0.6846 - accuracy: 0.55 - ETA: 7s - loss: 0.6845 - accuracy: 0.55 - ETA: 7s - loss: 0.6845 - accuracy: 0.55 - ETA: 6s - loss: 0.6845 - accuracy: 0.55 - ETA: 6s - loss: 0.6844 - accuracy: 0.55 - ETA: 6s - loss: 0.6842 - accuracy: 0.55 - ETA: 6s - loss: 0.6842 - accuracy: 0.55 - ETA: 6s - loss: 0.6843 - accuracy: 0.55 - ETA: 6s - loss: 0.6842 - accuracy: 0.55 - ETA: 6s - loss: 0.6842 - accuracy: 0.55 - ETA: 6s - loss: 0.6841 - accuracy: 0.55 - ETA: 6s - loss: 0.6840 - accuracy: 0.55 - ETA: 6s - loss: 0.6840 - accuracy: 0.55 - ETA: 6s - loss: 0.6840 - accuracy: 0.55 - ETA: 5s - loss: 0.6840 - accuracy: 0.55 - ETA: 5s - loss: 0.6840 - accuracy: 0.55 - ETA: 5s - loss: 0.6840 - accuracy: 0.55 - ETA: 5s - loss: 0.6841 - accuracy: 0.55 - ETA: 5s - loss: 0.6841 - accuracy: 0.55 - ETA: 5s - loss: 0.6840 - accuracy: 0.55 - ETA: 5s - loss: 0.6840 - accuracy: 0.55 - ETA: 5s - loss: 0.6842 - accuracy: 0.55 - ETA: 5s - loss: 0.6843 - accuracy: 0.55 - ETA: 5s - loss: 0.6843 - accuracy: 0.55 - ETA: 4s - loss: 0.6842 - accuracy: 0.55 - ETA: 4s - loss: 0.6842 - accuracy: 0.55 - ETA: 4s - loss: 0.6842 - accuracy: 0.55 - ETA: 4s - loss: 0.6841 - accuracy: 0.55 - ETA: 4s - loss: 0.6843 - accuracy: 0.55 - ETA: 4s - loss: 0.6843 - accuracy: 0.55 - ETA: 4s - loss: 0.6843 - accuracy: 0.55 - ETA: 4s - loss: 0.6844 - accuracy: 0.54 - ETA: 4s - loss: 0.6844 - accuracy: 0.54 - ETA: 4s - loss: 0.6844 - accuracy: 0.55 - ETA: 4s - loss: 0.6844 - accuracy: 0.55 - ETA: 3s - loss: 0.6844 - accuracy: 0.55 - ETA: 3s - loss: 0.6843 - accuracy: 0.55 - ETA: 3s - loss: 0.6843 - accuracy: 0.55 - ETA: 3s - loss: 0.6843 - accuracy: 0.55 - ETA: 3s - loss: 0.6844 - accuracy: 0.55 - ETA: 3s - loss: 0.6843 - accuracy: 0.55 - ETA: 3s - loss: 0.6844 - accuracy: 0.55 - ETA: 3s - loss: 0.6843 - accuracy: 0.55 - ETA: 3s - loss: 0.6844 - accuracy: 0.55 - ETA: 3s - loss: 0.6843 - accuracy: 0.55 - ETA: 3s - loss: 0.6842 - accuracy: 0.55 - ETA: 2s - loss: 0.6842 - accuracy: 0.55 - ETA: 2s - loss: 0.6841 - accuracy: 0.55 - ETA: 2s - loss: 0.6842 - accuracy: 0.55 - ETA: 2s - loss: 0.6843 - accuracy: 0.55 - ETA: 2s - loss: 0.6844 - accuracy: 0.55 - ETA: 2s - loss: 0.6844 - accuracy: 0.55 - ETA: 2s - loss: 0.6844 - accuracy: 0.55 - ETA: 2s - loss: 0.6844 - accuracy: 0.55 - ETA: 2s - loss: 0.6844 - accuracy: 0.55 - ETA: 2s - loss: 0.6844 - accuracy: 0.55 - ETA: 2s - loss: 0.6844 - accuracy: 0.55 - ETA: 1s - loss: 0.6845 - accuracy: 0.55 - ETA: 1s - loss: 0.6846 - accuracy: 0.55 - ETA: 1s - loss: 0.6847 - accuracy: 0.54 - ETA: 1s - loss: 0.6847 - accuracy: 0.54 - ETA: 1s - loss: 0.6847 - accuracy: 0.54 - ETA: 1s - loss: 0.6847 - accuracy: 0.55 - ETA: 1s - loss: 0.6847 - accuracy: 0.54 - ETA: 1s - loss: 0.6846 - accuracy: 0.55 - ETA: 1s - loss: 0.6846 - accuracy: 0.55 - ETA: 1s - loss: 0.6846 - accuracy: 0.55 - ETA: 1s - loss: 0.6845 - accuracy: 0.55 - ETA: 1s - loss: 0.6845 - accuracy: 0.55 - ETA: 0s - loss: 0.6845 - accuracy: 0.55 - ETA: 0s - loss: 0.6845 - accuracy: 0.55 - ETA: 0s - loss: 0.6846 - accuracy: 0.55 - ETA: 0s - loss: 0.6845 - accuracy: 0.55 - ETA: 0s - loss: 0.6846 - accuracy: 0.55 - ETA: 0s - loss: 0.6846 - accuracy: 0.55 - ETA: 0s - loss: 0.6846 - accuracy: 0.55 - ETA: 0s - loss: 0.6846 - accuracy: 0.55 - ETA: 0s - loss: 0.6846 - accuracy: 0.55 - ETA: 0s - loss: 0.6846 - accuracy: 0.55 - ETA: 0s - loss: 0.6847 - accuracy: 0.55 - ETA: 0s - loss: 0.6847 - accuracy: 0.55 - 13s 326us/step - loss: 0.6846 - accuracy: 0.5505\n",
      "\n",
      "Epoch 00017: loss improved from 0.68468 to 0.68461, saving model to Resultados/7/Checkpoints/word2vec-17-0.6846.hdf5\n",
      "Epoch 18/50\n"
     ]
    },
    {
     "name": "stdout",
     "output_type": "stream",
     "text": [
      "40268/40268 [==============================] - ETA: 9s - loss: 0.6924 - accuracy: 0.50 - ETA: 10s - loss: 0.6903 - accuracy: 0.523 - ETA: 10s - loss: 0.6899 - accuracy: 0.527 - ETA: 10s - loss: 0.6853 - accuracy: 0.548 - ETA: 10s - loss: 0.6827 - accuracy: 0.556 - ETA: 10s - loss: 0.6824 - accuracy: 0.555 - ETA: 10s - loss: 0.6837 - accuracy: 0.550 - ETA: 10s - loss: 0.6827 - accuracy: 0.556 - ETA: 10s - loss: 0.6823 - accuracy: 0.559 - ETA: 10s - loss: 0.6814 - accuracy: 0.560 - ETA: 10s - loss: 0.6815 - accuracy: 0.560 - ETA: 10s - loss: 0.6819 - accuracy: 0.558 - ETA: 10s - loss: 0.6818 - accuracy: 0.559 - ETA: 10s - loss: 0.6807 - accuracy: 0.563 - ETA: 10s - loss: 0.6791 - accuracy: 0.568 - ETA: 10s - loss: 0.6795 - accuracy: 0.568 - ETA: 9s - loss: 0.6795 - accuracy: 0.567 - ETA: 9s - loss: 0.6791 - accuracy: 0.56 - ETA: 9s - loss: 0.6787 - accuracy: 0.57 - ETA: 9s - loss: 0.6787 - accuracy: 0.57 - ETA: 9s - loss: 0.6794 - accuracy: 0.56 - ETA: 9s - loss: 0.6798 - accuracy: 0.56 - ETA: 9s - loss: 0.6797 - accuracy: 0.56 - ETA: 9s - loss: 0.6809 - accuracy: 0.56 - ETA: 9s - loss: 0.6807 - accuracy: 0.56 - ETA: 9s - loss: 0.6810 - accuracy: 0.56 - ETA: 9s - loss: 0.6812 - accuracy: 0.56 - ETA: 9s - loss: 0.6811 - accuracy: 0.56 - ETA: 9s - loss: 0.6811 - accuracy: 0.56 - ETA: 8s - loss: 0.6812 - accuracy: 0.56 - ETA: 8s - loss: 0.6816 - accuracy: 0.55 - ETA: 8s - loss: 0.6816 - accuracy: 0.55 - ETA: 8s - loss: 0.6817 - accuracy: 0.55 - ETA: 8s - loss: 0.6816 - accuracy: 0.55 - ETA: 8s - loss: 0.6814 - accuracy: 0.55 - ETA: 8s - loss: 0.6815 - accuracy: 0.56 - ETA: 8s - loss: 0.6817 - accuracy: 0.55 - ETA: 8s - loss: 0.6818 - accuracy: 0.55 - ETA: 8s - loss: 0.6818 - accuracy: 0.55 - ETA: 8s - loss: 0.6819 - accuracy: 0.55 - ETA: 8s - loss: 0.6821 - accuracy: 0.55 - ETA: 8s - loss: 0.6822 - accuracy: 0.55 - ETA: 8s - loss: 0.6823 - accuracy: 0.55 - ETA: 8s - loss: 0.6823 - accuracy: 0.55 - ETA: 7s - loss: 0.6824 - accuracy: 0.55 - ETA: 7s - loss: 0.6822 - accuracy: 0.55 - ETA: 7s - loss: 0.6821 - accuracy: 0.55 - ETA: 7s - loss: 0.6821 - accuracy: 0.55 - ETA: 7s - loss: 0.6821 - accuracy: 0.55 - ETA: 7s - loss: 0.6819 - accuracy: 0.55 - ETA: 7s - loss: 0.6819 - accuracy: 0.55 - ETA: 7s - loss: 0.6818 - accuracy: 0.55 - ETA: 7s - loss: 0.6820 - accuracy: 0.55 - ETA: 7s - loss: 0.6821 - accuracy: 0.55 - ETA: 7s - loss: 0.6823 - accuracy: 0.55 - ETA: 7s - loss: 0.6825 - accuracy: 0.55 - ETA: 7s - loss: 0.6826 - accuracy: 0.55 - ETA: 7s - loss: 0.6827 - accuracy: 0.55 - ETA: 6s - loss: 0.6826 - accuracy: 0.55 - ETA: 6s - loss: 0.6824 - accuracy: 0.55 - ETA: 6s - loss: 0.6827 - accuracy: 0.55 - ETA: 6s - loss: 0.6828 - accuracy: 0.55 - ETA: 6s - loss: 0.6828 - accuracy: 0.55 - ETA: 6s - loss: 0.6827 - accuracy: 0.55 - ETA: 6s - loss: 0.6828 - accuracy: 0.55 - ETA: 6s - loss: 0.6828 - accuracy: 0.55 - ETA: 6s - loss: 0.6828 - accuracy: 0.55 - ETA: 6s - loss: 0.6827 - accuracy: 0.55 - ETA: 6s - loss: 0.6826 - accuracy: 0.55 - ETA: 6s - loss: 0.6828 - accuracy: 0.55 - ETA: 6s - loss: 0.6829 - accuracy: 0.55 - ETA: 6s - loss: 0.6829 - accuracy: 0.55 - ETA: 5s - loss: 0.6829 - accuracy: 0.55 - ETA: 5s - loss: 0.6829 - accuracy: 0.55 - ETA: 5s - loss: 0.6830 - accuracy: 0.55 - ETA: 5s - loss: 0.6830 - accuracy: 0.55 - ETA: 5s - loss: 0.6832 - accuracy: 0.55 - ETA: 5s - loss: 0.6835 - accuracy: 0.55 - ETA: 5s - loss: 0.6833 - accuracy: 0.55 - ETA: 5s - loss: 0.6834 - accuracy: 0.55 - ETA: 5s - loss: 0.6833 - accuracy: 0.55 - ETA: 5s - loss: 0.6833 - accuracy: 0.55 - ETA: 5s - loss: 0.6832 - accuracy: 0.55 - ETA: 5s - loss: 0.6832 - accuracy: 0.55 - ETA: 5s - loss: 0.6830 - accuracy: 0.55 - ETA: 5s - loss: 0.6829 - accuracy: 0.55 - ETA: 4s - loss: 0.6831 - accuracy: 0.55 - ETA: 4s - loss: 0.6832 - accuracy: 0.55 - ETA: 4s - loss: 0.6833 - accuracy: 0.55 - ETA: 4s - loss: 0.6833 - accuracy: 0.55 - ETA: 4s - loss: 0.6832 - accuracy: 0.55 - ETA: 4s - loss: 0.6832 - accuracy: 0.55 - ETA: 4s - loss: 0.6832 - accuracy: 0.55 - ETA: 4s - loss: 0.6831 - accuracy: 0.55 - ETA: 4s - loss: 0.6830 - accuracy: 0.55 - ETA: 4s - loss: 0.6829 - accuracy: 0.55 - ETA: 4s - loss: 0.6828 - accuracy: 0.55 - ETA: 4s - loss: 0.6828 - accuracy: 0.55 - ETA: 4s - loss: 0.6829 - accuracy: 0.55 - ETA: 4s - loss: 0.6829 - accuracy: 0.55 - ETA: 3s - loss: 0.6830 - accuracy: 0.55 - ETA: 3s - loss: 0.6830 - accuracy: 0.55 - ETA: 3s - loss: 0.6830 - accuracy: 0.55 - ETA: 3s - loss: 0.6831 - accuracy: 0.55 - ETA: 3s - loss: 0.6830 - accuracy: 0.55 - ETA: 3s - loss: 0.6831 - accuracy: 0.55 - ETA: 3s - loss: 0.6832 - accuracy: 0.55 - ETA: 3s - loss: 0.6832 - accuracy: 0.55 - ETA: 3s - loss: 0.6834 - accuracy: 0.55 - ETA: 3s - loss: 0.6833 - accuracy: 0.55 - ETA: 3s - loss: 0.6833 - accuracy: 0.55 - ETA: 3s - loss: 0.6834 - accuracy: 0.55 - ETA: 3s - loss: 0.6835 - accuracy: 0.55 - ETA: 3s - loss: 0.6836 - accuracy: 0.55 - ETA: 2s - loss: 0.6835 - accuracy: 0.55 - ETA: 2s - loss: 0.6835 - accuracy: 0.55 - ETA: 2s - loss: 0.6836 - accuracy: 0.55 - ETA: 2s - loss: 0.6837 - accuracy: 0.55 - ETA: 2s - loss: 0.6836 - accuracy: 0.55 - ETA: 2s - loss: 0.6836 - accuracy: 0.55 - ETA: 2s - loss: 0.6836 - accuracy: 0.55 - ETA: 2s - loss: 0.6836 - accuracy: 0.55 - ETA: 2s - loss: 0.6837 - accuracy: 0.55 - ETA: 2s - loss: 0.6836 - accuracy: 0.55 - ETA: 2s - loss: 0.6836 - accuracy: 0.55 - ETA: 2s - loss: 0.6836 - accuracy: 0.55 - ETA: 2s - loss: 0.6836 - accuracy: 0.55 - ETA: 2s - loss: 0.6836 - accuracy: 0.55 - ETA: 2s - loss: 0.6837 - accuracy: 0.55 - ETA: 1s - loss: 0.6838 - accuracy: 0.55 - ETA: 1s - loss: 0.6839 - accuracy: 0.55 - ETA: 1s - loss: 0.6838 - accuracy: 0.55 - ETA: 1s - loss: 0.6837 - accuracy: 0.55 - ETA: 1s - loss: 0.6837 - accuracy: 0.55 - ETA: 1s - loss: 0.6837 - accuracy: 0.55 - ETA: 1s - loss: 0.6838 - accuracy: 0.55 - ETA: 1s - loss: 0.6838 - accuracy: 0.55 - ETA: 1s - loss: 0.6838 - accuracy: 0.55 - ETA: 1s - loss: 0.6838 - accuracy: 0.55 - ETA: 1s - loss: 0.6838 - accuracy: 0.55 - ETA: 1s - loss: 0.6837 - accuracy: 0.55 - ETA: 1s - loss: 0.6837 - accuracy: 0.55 - ETA: 1s - loss: 0.6836 - accuracy: 0.55 - ETA: 0s - loss: 0.6836 - accuracy: 0.55 - ETA: 0s - loss: 0.6836 - accuracy: 0.55 - ETA: 0s - loss: 0.6836 - accuracy: 0.55 - ETA: 0s - loss: 0.6837 - accuracy: 0.55 - ETA: 0s - loss: 0.6837 - accuracy: 0.55 - ETA: 0s - loss: 0.6837 - accuracy: 0.55 - ETA: 0s - loss: 0.6837 - accuracy: 0.55 - ETA: 0s - loss: 0.6837 - accuracy: 0.55 - ETA: 0s - loss: 0.6837 - accuracy: 0.55 - ETA: 0s - loss: 0.6837 - accuracy: 0.55 - ETA: 0s - loss: 0.6836 - accuracy: 0.55 - ETA: 0s - loss: 0.6837 - accuracy: 0.55 - ETA: 0s - loss: 0.6838 - accuracy: 0.55 - ETA: 0s - loss: 0.6838 - accuracy: 0.55 - 11s 278us/step - loss: 0.6838 - accuracy: 0.5517\n",
      "\n",
      "Epoch 00018: loss improved from 0.68461 to 0.68378, saving model to Resultados/7/Checkpoints/word2vec-18-0.6838.hdf5\n",
      "Epoch 19/50\n"
     ]
    },
    {
     "name": "stdout",
     "output_type": "stream",
     "text": [
      "40268/40268 [==============================] - ETA: 10s - loss: 0.6888 - accuracy: 0.519 - ETA: 10s - loss: 0.6947 - accuracy: 0.503 - ETA: 10s - loss: 0.6906 - accuracy: 0.516 - ETA: 10s - loss: 0.6849 - accuracy: 0.536 - ETA: 10s - loss: 0.6862 - accuracy: 0.532 - ETA: 10s - loss: 0.6866 - accuracy: 0.541 - ETA: 10s - loss: 0.6883 - accuracy: 0.537 - ETA: 10s - loss: 0.6867 - accuracy: 0.538 - ETA: 10s - loss: 0.6860 - accuracy: 0.543 - ETA: 10s - loss: 0.6867 - accuracy: 0.539 - ETA: 10s - loss: 0.6867 - accuracy: 0.538 - ETA: 10s - loss: 0.6870 - accuracy: 0.535 - ETA: 10s - loss: 0.6860 - accuracy: 0.539 - ETA: 10s - loss: 0.6860 - accuracy: 0.539 - ETA: 10s - loss: 0.6864 - accuracy: 0.539 - ETA: 10s - loss: 0.6868 - accuracy: 0.536 - ETA: 10s - loss: 0.6860 - accuracy: 0.538 - ETA: 10s - loss: 0.6857 - accuracy: 0.538 - ETA: 9s - loss: 0.6858 - accuracy: 0.539 - ETA: 9s - loss: 0.6853 - accuracy: 0.54 - ETA: 9s - loss: 0.6858 - accuracy: 0.54 - ETA: 9s - loss: 0.6853 - accuracy: 0.54 - ETA: 9s - loss: 0.6852 - accuracy: 0.54 - ETA: 9s - loss: 0.6857 - accuracy: 0.54 - ETA: 9s - loss: 0.6850 - accuracy: 0.54 - ETA: 9s - loss: 0.6853 - accuracy: 0.54 - ETA: 9s - loss: 0.6850 - accuracy: 0.54 - ETA: 9s - loss: 0.6850 - accuracy: 0.54 - ETA: 9s - loss: 0.6849 - accuracy: 0.54 - ETA: 9s - loss: 0.6850 - accuracy: 0.54 - ETA: 8s - loss: 0.6847 - accuracy: 0.54 - ETA: 8s - loss: 0.6844 - accuracy: 0.54 - ETA: 8s - loss: 0.6848 - accuracy: 0.54 - ETA: 8s - loss: 0.6845 - accuracy: 0.54 - ETA: 8s - loss: 0.6847 - accuracy: 0.54 - ETA: 8s - loss: 0.6852 - accuracy: 0.54 - ETA: 8s - loss: 0.6850 - accuracy: 0.54 - ETA: 8s - loss: 0.6852 - accuracy: 0.54 - ETA: 8s - loss: 0.6850 - accuracy: 0.54 - ETA: 8s - loss: 0.6851 - accuracy: 0.54 - ETA: 8s - loss: 0.6850 - accuracy: 0.54 - ETA: 8s - loss: 0.6849 - accuracy: 0.54 - ETA: 8s - loss: 0.6845 - accuracy: 0.55 - ETA: 8s - loss: 0.6844 - accuracy: 0.55 - ETA: 7s - loss: 0.6843 - accuracy: 0.55 - ETA: 7s - loss: 0.6842 - accuracy: 0.55 - ETA: 7s - loss: 0.6840 - accuracy: 0.55 - ETA: 7s - loss: 0.6837 - accuracy: 0.55 - ETA: 7s - loss: 0.6838 - accuracy: 0.55 - ETA: 7s - loss: 0.6837 - accuracy: 0.55 - ETA: 7s - loss: 0.6835 - accuracy: 0.55 - ETA: 7s - loss: 0.6834 - accuracy: 0.55 - ETA: 7s - loss: 0.6833 - accuracy: 0.55 - ETA: 7s - loss: 0.6833 - accuracy: 0.55 - ETA: 7s - loss: 0.6834 - accuracy: 0.55 - ETA: 7s - loss: 0.6834 - accuracy: 0.55 - ETA: 7s - loss: 0.6833 - accuracy: 0.55 - ETA: 7s - loss: 0.6832 - accuracy: 0.55 - ETA: 6s - loss: 0.6831 - accuracy: 0.55 - ETA: 6s - loss: 0.6830 - accuracy: 0.55 - ETA: 6s - loss: 0.6831 - accuracy: 0.55 - ETA: 6s - loss: 0.6831 - accuracy: 0.55 - ETA: 6s - loss: 0.6832 - accuracy: 0.55 - ETA: 6s - loss: 0.6830 - accuracy: 0.55 - ETA: 6s - loss: 0.6829 - accuracy: 0.55 - ETA: 6s - loss: 0.6829 - accuracy: 0.55 - ETA: 6s - loss: 0.6830 - accuracy: 0.55 - ETA: 6s - loss: 0.6828 - accuracy: 0.55 - ETA: 6s - loss: 0.6829 - accuracy: 0.55 - ETA: 6s - loss: 0.6830 - accuracy: 0.55 - ETA: 6s - loss: 0.6831 - accuracy: 0.55 - ETA: 6s - loss: 0.6830 - accuracy: 0.55 - ETA: 5s - loss: 0.6830 - accuracy: 0.55 - ETA: 5s - loss: 0.6829 - accuracy: 0.55 - ETA: 5s - loss: 0.6829 - accuracy: 0.55 - ETA: 5s - loss: 0.6830 - accuracy: 0.55 - ETA: 5s - loss: 0.6831 - accuracy: 0.55 - ETA: 5s - loss: 0.6831 - accuracy: 0.55 - ETA: 5s - loss: 0.6832 - accuracy: 0.55 - ETA: 5s - loss: 0.6832 - accuracy: 0.55 - ETA: 5s - loss: 0.6832 - accuracy: 0.55 - ETA: 5s - loss: 0.6832 - accuracy: 0.55 - ETA: 5s - loss: 0.6831 - accuracy: 0.55 - ETA: 5s - loss: 0.6834 - accuracy: 0.55 - ETA: 5s - loss: 0.6835 - accuracy: 0.55 - ETA: 5s - loss: 0.6836 - accuracy: 0.55 - ETA: 4s - loss: 0.6835 - accuracy: 0.55 - ETA: 4s - loss: 0.6835 - accuracy: 0.55 - ETA: 4s - loss: 0.6835 - accuracy: 0.55 - ETA: 4s - loss: 0.6836 - accuracy: 0.55 - ETA: 4s - loss: 0.6836 - accuracy: 0.55 - ETA: 4s - loss: 0.6836 - accuracy: 0.55 - ETA: 4s - loss: 0.6836 - accuracy: 0.55 - ETA: 4s - loss: 0.6834 - accuracy: 0.55 - ETA: 4s - loss: 0.6834 - accuracy: 0.55 - ETA: 4s - loss: 0.6834 - accuracy: 0.55 - ETA: 4s - loss: 0.6834 - accuracy: 0.55 - ETA: 4s - loss: 0.6834 - accuracy: 0.55 - ETA: 4s - loss: 0.6835 - accuracy: 0.55 - ETA: 4s - loss: 0.6835 - accuracy: 0.55 - ETA: 3s - loss: 0.6835 - accuracy: 0.55 - ETA: 3s - loss: 0.6835 - accuracy: 0.55 - ETA: 3s - loss: 0.6835 - accuracy: 0.55 - ETA: 3s - loss: 0.6836 - accuracy: 0.55 - ETA: 3s - loss: 0.6837 - accuracy: 0.55 - ETA: 3s - loss: 0.6837 - accuracy: 0.55 - ETA: 3s - loss: 0.6837 - accuracy: 0.55 - ETA: 3s - loss: 0.6837 - accuracy: 0.55 - ETA: 3s - loss: 0.6836 - accuracy: 0.55 - ETA: 3s - loss: 0.6836 - accuracy: 0.55 - ETA: 3s - loss: 0.6835 - accuracy: 0.55 - ETA: 3s - loss: 0.6835 - accuracy: 0.55 - ETA: 3s - loss: 0.6836 - accuracy: 0.55 - ETA: 3s - loss: 0.6835 - accuracy: 0.55 - ETA: 2s - loss: 0.6835 - accuracy: 0.55 - ETA: 2s - loss: 0.6834 - accuracy: 0.55 - ETA: 2s - loss: 0.6834 - accuracy: 0.55 - ETA: 2s - loss: 0.6834 - accuracy: 0.55 - ETA: 2s - loss: 0.6834 - accuracy: 0.55 - ETA: 2s - loss: 0.6834 - accuracy: 0.55 - ETA: 2s - loss: 0.6834 - accuracy: 0.55 - ETA: 2s - loss: 0.6834 - accuracy: 0.55 - ETA: 2s - loss: 0.6836 - accuracy: 0.55 - ETA: 2s - loss: 0.6837 - accuracy: 0.55 - ETA: 2s - loss: 0.6836 - accuracy: 0.55 - ETA: 2s - loss: 0.6836 - accuracy: 0.55 - ETA: 2s - loss: 0.6836 - accuracy: 0.55 - ETA: 2s - loss: 0.6835 - accuracy: 0.55 - ETA: 2s - loss: 0.6836 - accuracy: 0.55 - ETA: 1s - loss: 0.6836 - accuracy: 0.55 - ETA: 1s - loss: 0.6835 - accuracy: 0.55 - ETA: 1s - loss: 0.6836 - accuracy: 0.55 - ETA: 1s - loss: 0.6836 - accuracy: 0.55 - ETA: 1s - loss: 0.6836 - accuracy: 0.55 - ETA: 1s - loss: 0.6836 - accuracy: 0.55 - ETA: 1s - loss: 0.6837 - accuracy: 0.55 - ETA: 1s - loss: 0.6836 - accuracy: 0.55 - ETA: 1s - loss: 0.6836 - accuracy: 0.55 - ETA: 1s - loss: 0.6836 - accuracy: 0.55 - ETA: 1s - loss: 0.6835 - accuracy: 0.55 - ETA: 1s - loss: 0.6836 - accuracy: 0.55 - ETA: 1s - loss: 0.6835 - accuracy: 0.55 - ETA: 1s - loss: 0.6835 - accuracy: 0.55 - ETA: 0s - loss: 0.6835 - accuracy: 0.55 - ETA: 0s - loss: 0.6835 - accuracy: 0.55 - ETA: 0s - loss: 0.6836 - accuracy: 0.55 - ETA: 0s - loss: 0.6835 - accuracy: 0.55 - ETA: 0s - loss: 0.6836 - accuracy: 0.55 - ETA: 0s - loss: 0.6836 - accuracy: 0.55 - ETA: 0s - loss: 0.6836 - accuracy: 0.55 - ETA: 0s - loss: 0.6836 - accuracy: 0.55 - ETA: 0s - loss: 0.6835 - accuracy: 0.55 - ETA: 0s - loss: 0.6835 - accuracy: 0.55 - ETA: 0s - loss: 0.6833 - accuracy: 0.55 - ETA: 0s - loss: 0.6834 - accuracy: 0.55 - ETA: 0s - loss: 0.6834 - accuracy: 0.55 - ETA: 0s - loss: 0.6835 - accuracy: 0.55 - 11s 280us/step - loss: 0.6835 - accuracy: 0.5531\n",
      "\n",
      "Epoch 00019: loss improved from 0.68378 to 0.68350, saving model to Resultados/7/Checkpoints/word2vec-19-0.6835.hdf5\n",
      "Epoch 20/50\n"
     ]
    },
    {
     "name": "stdout",
     "output_type": "stream",
     "text": [
      "40268/40268 [==============================] - ETA: 10s - loss: 0.6640 - accuracy: 0.621 - ETA: 10s - loss: 0.6711 - accuracy: 0.605 - ETA: 10s - loss: 0.6743 - accuracy: 0.589 - ETA: 11s - loss: 0.6762 - accuracy: 0.583 - ETA: 11s - loss: 0.6765 - accuracy: 0.576 - ETA: 11s - loss: 0.6796 - accuracy: 0.566 - ETA: 11s - loss: 0.6810 - accuracy: 0.563 - ETA: 11s - loss: 0.6826 - accuracy: 0.561 - ETA: 11s - loss: 0.6825 - accuracy: 0.561 - ETA: 11s - loss: 0.6824 - accuracy: 0.560 - ETA: 11s - loss: 0.6833 - accuracy: 0.557 - ETA: 11s - loss: 0.6836 - accuracy: 0.557 - ETA: 11s - loss: 0.6835 - accuracy: 0.559 - ETA: 11s - loss: 0.6828 - accuracy: 0.560 - ETA: 10s - loss: 0.6821 - accuracy: 0.562 - ETA: 10s - loss: 0.6828 - accuracy: 0.559 - ETA: 10s - loss: 0.6827 - accuracy: 0.559 - ETA: 10s - loss: 0.6821 - accuracy: 0.560 - ETA: 10s - loss: 0.6816 - accuracy: 0.562 - ETA: 10s - loss: 0.6812 - accuracy: 0.565 - ETA: 10s - loss: 0.6811 - accuracy: 0.564 - ETA: 10s - loss: 0.6817 - accuracy: 0.563 - ETA: 10s - loss: 0.6812 - accuracy: 0.564 - ETA: 10s - loss: 0.6809 - accuracy: 0.565 - ETA: 10s - loss: 0.6811 - accuracy: 0.564 - ETA: 10s - loss: 0.6813 - accuracy: 0.563 - ETA: 10s - loss: 0.6820 - accuracy: 0.561 - ETA: 10s - loss: 0.6818 - accuracy: 0.561 - ETA: 9s - loss: 0.6818 - accuracy: 0.562 - ETA: 9s - loss: 0.6815 - accuracy: 0.56 - ETA: 9s - loss: 0.6816 - accuracy: 0.56 - ETA: 9s - loss: 0.6819 - accuracy: 0.56 - ETA: 9s - loss: 0.6820 - accuracy: 0.56 - ETA: 9s - loss: 0.6815 - accuracy: 0.56 - ETA: 9s - loss: 0.6818 - accuracy: 0.56 - ETA: 9s - loss: 0.6817 - accuracy: 0.56 - ETA: 9s - loss: 0.6816 - accuracy: 0.56 - ETA: 9s - loss: 0.6816 - accuracy: 0.56 - ETA: 9s - loss: 0.6816 - accuracy: 0.56 - ETA: 9s - loss: 0.6816 - accuracy: 0.56 - ETA: 9s - loss: 0.6820 - accuracy: 0.56 - ETA: 8s - loss: 0.6816 - accuracy: 0.56 - ETA: 8s - loss: 0.6813 - accuracy: 0.56 - ETA: 8s - loss: 0.6815 - accuracy: 0.56 - ETA: 8s - loss: 0.6817 - accuracy: 0.56 - ETA: 8s - loss: 0.6817 - accuracy: 0.56 - ETA: 8s - loss: 0.6819 - accuracy: 0.56 - ETA: 8s - loss: 0.6818 - accuracy: 0.56 - ETA: 8s - loss: 0.6818 - accuracy: 0.55 - ETA: 8s - loss: 0.6820 - accuracy: 0.55 - ETA: 8s - loss: 0.6821 - accuracy: 0.55 - ETA: 8s - loss: 0.6821 - accuracy: 0.55 - ETA: 8s - loss: 0.6823 - accuracy: 0.55 - ETA: 8s - loss: 0.6825 - accuracy: 0.55 - ETA: 7s - loss: 0.6826 - accuracy: 0.55 - ETA: 7s - loss: 0.6827 - accuracy: 0.55 - ETA: 7s - loss: 0.6826 - accuracy: 0.55 - ETA: 7s - loss: 0.6827 - accuracy: 0.55 - ETA: 7s - loss: 0.6825 - accuracy: 0.55 - ETA: 7s - loss: 0.6824 - accuracy: 0.55 - ETA: 7s - loss: 0.6823 - accuracy: 0.55 - ETA: 7s - loss: 0.6822 - accuracy: 0.55 - ETA: 7s - loss: 0.6822 - accuracy: 0.55 - ETA: 7s - loss: 0.6820 - accuracy: 0.55 - ETA: 7s - loss: 0.6821 - accuracy: 0.55 - ETA: 7s - loss: 0.6823 - accuracy: 0.55 - ETA: 6s - loss: 0.6824 - accuracy: 0.55 - ETA: 6s - loss: 0.6823 - accuracy: 0.55 - ETA: 6s - loss: 0.6822 - accuracy: 0.55 - ETA: 6s - loss: 0.6823 - accuracy: 0.55 - ETA: 6s - loss: 0.6824 - accuracy: 0.55 - ETA: 6s - loss: 0.6825 - accuracy: 0.55 - ETA: 6s - loss: 0.6825 - accuracy: 0.55 - ETA: 6s - loss: 0.6826 - accuracy: 0.55 - ETA: 6s - loss: 0.6825 - accuracy: 0.55 - ETA: 6s - loss: 0.6826 - accuracy: 0.55 - ETA: 6s - loss: 0.6829 - accuracy: 0.55 - ETA: 6s - loss: 0.6830 - accuracy: 0.55 - ETA: 5s - loss: 0.6829 - accuracy: 0.55 - ETA: 5s - loss: 0.6827 - accuracy: 0.55 - ETA: 5s - loss: 0.6825 - accuracy: 0.55 - ETA: 5s - loss: 0.6825 - accuracy: 0.55 - ETA: 5s - loss: 0.6826 - accuracy: 0.55 - ETA: 5s - loss: 0.6826 - accuracy: 0.55 - ETA: 5s - loss: 0.6825 - accuracy: 0.55 - ETA: 5s - loss: 0.6824 - accuracy: 0.55 - ETA: 5s - loss: 0.6822 - accuracy: 0.55 - ETA: 5s - loss: 0.6822 - accuracy: 0.55 - ETA: 5s - loss: 0.6821 - accuracy: 0.55 - ETA: 5s - loss: 0.6823 - accuracy: 0.55 - ETA: 4s - loss: 0.6825 - accuracy: 0.55 - ETA: 4s - loss: 0.6827 - accuracy: 0.55 - ETA: 4s - loss: 0.6826 - accuracy: 0.55 - ETA: 4s - loss: 0.6826 - accuracy: 0.55 - ETA: 4s - loss: 0.6826 - accuracy: 0.55 - ETA: 4s - loss: 0.6826 - accuracy: 0.55 - ETA: 4s - loss: 0.6827 - accuracy: 0.55 - ETA: 4s - loss: 0.6827 - accuracy: 0.55 - ETA: 4s - loss: 0.6826 - accuracy: 0.55 - ETA: 4s - loss: 0.6826 - accuracy: 0.55 - ETA: 4s - loss: 0.6825 - accuracy: 0.55 - ETA: 4s - loss: 0.6824 - accuracy: 0.55 - ETA: 4s - loss: 0.6823 - accuracy: 0.55 - ETA: 3s - loss: 0.6822 - accuracy: 0.55 - ETA: 3s - loss: 0.6822 - accuracy: 0.55 - ETA: 3s - loss: 0.6821 - accuracy: 0.55 - ETA: 3s - loss: 0.6820 - accuracy: 0.55 - ETA: 3s - loss: 0.6820 - accuracy: 0.55 - ETA: 3s - loss: 0.6821 - accuracy: 0.55 - ETA: 3s - loss: 0.6821 - accuracy: 0.55 - ETA: 3s - loss: 0.6822 - accuracy: 0.55 - ETA: 3s - loss: 0.6822 - accuracy: 0.55 - ETA: 3s - loss: 0.6822 - accuracy: 0.55 - ETA: 3s - loss: 0.6824 - accuracy: 0.55 - ETA: 3s - loss: 0.6824 - accuracy: 0.55 - ETA: 3s - loss: 0.6825 - accuracy: 0.55 - ETA: 2s - loss: 0.6825 - accuracy: 0.55 - ETA: 2s - loss: 0.6825 - accuracy: 0.55 - ETA: 2s - loss: 0.6825 - accuracy: 0.55 - ETA: 2s - loss: 0.6826 - accuracy: 0.55 - ETA: 2s - loss: 0.6826 - accuracy: 0.55 - ETA: 2s - loss: 0.6826 - accuracy: 0.55 - ETA: 2s - loss: 0.6827 - accuracy: 0.55 - ETA: 2s - loss: 0.6828 - accuracy: 0.55 - ETA: 2s - loss: 0.6828 - accuracy: 0.55 - ETA: 2s - loss: 0.6828 - accuracy: 0.55 - ETA: 2s - loss: 0.6827 - accuracy: 0.55 - ETA: 2s - loss: 0.6826 - accuracy: 0.55 - ETA: 2s - loss: 0.6826 - accuracy: 0.55 - ETA: 2s - loss: 0.6825 - accuracy: 0.55 - ETA: 1s - loss: 0.6825 - accuracy: 0.55 - ETA: 1s - loss: 0.6825 - accuracy: 0.55 - ETA: 1s - loss: 0.6826 - accuracy: 0.55 - ETA: 1s - loss: 0.6825 - accuracy: 0.55 - ETA: 1s - loss: 0.6825 - accuracy: 0.55 - ETA: 1s - loss: 0.6826 - accuracy: 0.55 - ETA: 1s - loss: 0.6825 - accuracy: 0.55 - ETA: 1s - loss: 0.6826 - accuracy: 0.55 - ETA: 1s - loss: 0.6827 - accuracy: 0.55 - ETA: 1s - loss: 0.6827 - accuracy: 0.55 - ETA: 1s - loss: 0.6826 - accuracy: 0.55 - ETA: 1s - loss: 0.6827 - accuracy: 0.55 - ETA: 1s - loss: 0.6826 - accuracy: 0.55 - ETA: 0s - loss: 0.6826 - accuracy: 0.55 - ETA: 0s - loss: 0.6827 - accuracy: 0.55 - ETA: 0s - loss: 0.6827 - accuracy: 0.55 - ETA: 0s - loss: 0.6827 - accuracy: 0.55 - ETA: 0s - loss: 0.6826 - accuracy: 0.55 - ETA: 0s - loss: 0.6826 - accuracy: 0.55 - ETA: 0s - loss: 0.6827 - accuracy: 0.55 - ETA: 0s - loss: 0.6827 - accuracy: 0.55 - ETA: 0s - loss: 0.6827 - accuracy: 0.55 - ETA: 0s - loss: 0.6827 - accuracy: 0.55 - ETA: 0s - loss: 0.6828 - accuracy: 0.55 - ETA: 0s - loss: 0.6828 - accuracy: 0.55 - ETA: 0s - loss: 0.6828 - accuracy: 0.55 - ETA: 0s - loss: 0.6827 - accuracy: 0.55 - 12s 288us/step - loss: 0.6828 - accuracy: 0.5567\n",
      "\n",
      "Epoch 00020: loss improved from 0.68350 to 0.68277, saving model to Resultados/7/Checkpoints/word2vec-20-0.6828.hdf5\n",
      "Epoch 21/50\n"
     ]
    },
    {
     "name": "stdout",
     "output_type": "stream",
     "text": [
      "40268/40268 [==============================] - ETA: 9s - loss: 0.6845 - accuracy: 0.57 - ETA: 10s - loss: 0.6780 - accuracy: 0.593 - ETA: 10s - loss: 0.6731 - accuracy: 0.599 - ETA: 10s - loss: 0.6781 - accuracy: 0.573 - ETA: 10s - loss: 0.6791 - accuracy: 0.571 - ETA: 10s - loss: 0.6813 - accuracy: 0.564 - ETA: 10s - loss: 0.6816 - accuracy: 0.564 - ETA: 10s - loss: 0.6809 - accuracy: 0.564 - ETA: 10s - loss: 0.6825 - accuracy: 0.560 - ETA: 10s - loss: 0.6815 - accuracy: 0.563 - ETA: 10s - loss: 0.6800 - accuracy: 0.568 - ETA: 10s - loss: 0.6799 - accuracy: 0.568 - ETA: 10s - loss: 0.6799 - accuracy: 0.568 - ETA: 10s - loss: 0.6795 - accuracy: 0.569 - ETA: 10s - loss: 0.6793 - accuracy: 0.572 - ETA: 10s - loss: 0.6791 - accuracy: 0.573 - ETA: 9s - loss: 0.6791 - accuracy: 0.573 - ETA: 9s - loss: 0.6803 - accuracy: 0.57 - ETA: 9s - loss: 0.6806 - accuracy: 0.56 - ETA: 9s - loss: 0.6799 - accuracy: 0.57 - ETA: 9s - loss: 0.6802 - accuracy: 0.56 - ETA: 9s - loss: 0.6799 - accuracy: 0.57 - ETA: 9s - loss: 0.6796 - accuracy: 0.57 - ETA: 9s - loss: 0.6796 - accuracy: 0.56 - ETA: 9s - loss: 0.6796 - accuracy: 0.57 - ETA: 9s - loss: 0.6798 - accuracy: 0.56 - ETA: 9s - loss: 0.6804 - accuracy: 0.56 - ETA: 9s - loss: 0.6810 - accuracy: 0.56 - ETA: 9s - loss: 0.6803 - accuracy: 0.56 - ETA: 9s - loss: 0.6803 - accuracy: 0.56 - ETA: 9s - loss: 0.6807 - accuracy: 0.56 - ETA: 8s - loss: 0.6805 - accuracy: 0.56 - ETA: 8s - loss: 0.6804 - accuracy: 0.56 - ETA: 8s - loss: 0.6803 - accuracy: 0.57 - ETA: 8s - loss: 0.6808 - accuracy: 0.56 - ETA: 8s - loss: 0.6807 - accuracy: 0.56 - ETA: 8s - loss: 0.6806 - accuracy: 0.56 - ETA: 8s - loss: 0.6803 - accuracy: 0.56 - ETA: 8s - loss: 0.6802 - accuracy: 0.56 - ETA: 8s - loss: 0.6803 - accuracy: 0.56 - ETA: 8s - loss: 0.6807 - accuracy: 0.56 - ETA: 8s - loss: 0.6808 - accuracy: 0.56 - ETA: 8s - loss: 0.6808 - accuracy: 0.56 - ETA: 8s - loss: 0.6809 - accuracy: 0.56 - ETA: 8s - loss: 0.6809 - accuracy: 0.56 - ETA: 7s - loss: 0.6806 - accuracy: 0.56 - ETA: 7s - loss: 0.6805 - accuracy: 0.56 - ETA: 7s - loss: 0.6809 - accuracy: 0.56 - ETA: 7s - loss: 0.6812 - accuracy: 0.56 - ETA: 7s - loss: 0.6813 - accuracy: 0.56 - ETA: 7s - loss: 0.6811 - accuracy: 0.56 - ETA: 7s - loss: 0.6814 - accuracy: 0.56 - ETA: 7s - loss: 0.6812 - accuracy: 0.56 - ETA: 7s - loss: 0.6812 - accuracy: 0.56 - ETA: 7s - loss: 0.6811 - accuracy: 0.56 - ETA: 7s - loss: 0.6813 - accuracy: 0.56 - ETA: 7s - loss: 0.6810 - accuracy: 0.56 - ETA: 7s - loss: 0.6810 - accuracy: 0.56 - ETA: 7s - loss: 0.6813 - accuracy: 0.56 - ETA: 7s - loss: 0.6814 - accuracy: 0.56 - ETA: 6s - loss: 0.6812 - accuracy: 0.56 - ETA: 6s - loss: 0.6812 - accuracy: 0.56 - ETA: 6s - loss: 0.6809 - accuracy: 0.56 - ETA: 6s - loss: 0.6810 - accuracy: 0.56 - ETA: 6s - loss: 0.6811 - accuracy: 0.56 - ETA: 6s - loss: 0.6811 - accuracy: 0.56 - ETA: 6s - loss: 0.6812 - accuracy: 0.56 - ETA: 6s - loss: 0.6814 - accuracy: 0.56 - ETA: 6s - loss: 0.6816 - accuracy: 0.56 - ETA: 6s - loss: 0.6816 - accuracy: 0.56 - ETA: 6s - loss: 0.6814 - accuracy: 0.56 - ETA: 6s - loss: 0.6814 - accuracy: 0.56 - ETA: 6s - loss: 0.6814 - accuracy: 0.56 - ETA: 5s - loss: 0.6813 - accuracy: 0.56 - ETA: 5s - loss: 0.6812 - accuracy: 0.56 - ETA: 5s - loss: 0.6811 - accuracy: 0.56 - ETA: 5s - loss: 0.6811 - accuracy: 0.56 - ETA: 5s - loss: 0.6809 - accuracy: 0.56 - ETA: 5s - loss: 0.6808 - accuracy: 0.56 - ETA: 5s - loss: 0.6807 - accuracy: 0.56 - ETA: 5s - loss: 0.6806 - accuracy: 0.56 - ETA: 5s - loss: 0.6807 - accuracy: 0.56 - ETA: 5s - loss: 0.6806 - accuracy: 0.56 - ETA: 5s - loss: 0.6808 - accuracy: 0.56 - ETA: 5s - loss: 0.6811 - accuracy: 0.56 - ETA: 5s - loss: 0.6810 - accuracy: 0.56 - ETA: 5s - loss: 0.6810 - accuracy: 0.56 - ETA: 5s - loss: 0.6811 - accuracy: 0.56 - ETA: 4s - loss: 0.6812 - accuracy: 0.56 - ETA: 4s - loss: 0.6811 - accuracy: 0.56 - ETA: 4s - loss: 0.6811 - accuracy: 0.56 - ETA: 4s - loss: 0.6812 - accuracy: 0.56 - ETA: 4s - loss: 0.6811 - accuracy: 0.56 - ETA: 4s - loss: 0.6810 - accuracy: 0.56 - ETA: 4s - loss: 0.6809 - accuracy: 0.56 - ETA: 4s - loss: 0.6809 - accuracy: 0.56 - ETA: 4s - loss: 0.6810 - accuracy: 0.56 - ETA: 4s - loss: 0.6812 - accuracy: 0.56 - ETA: 4s - loss: 0.6813 - accuracy: 0.56 - ETA: 4s - loss: 0.6814 - accuracy: 0.56 - ETA: 4s - loss: 0.6815 - accuracy: 0.56 - ETA: 3s - loss: 0.6815 - accuracy: 0.56 - ETA: 3s - loss: 0.6815 - accuracy: 0.56 - ETA: 3s - loss: 0.6815 - accuracy: 0.56 - ETA: 3s - loss: 0.6815 - accuracy: 0.56 - ETA: 3s - loss: 0.6817 - accuracy: 0.56 - ETA: 3s - loss: 0.6817 - accuracy: 0.56 - ETA: 3s - loss: 0.6818 - accuracy: 0.56 - ETA: 3s - loss: 0.6820 - accuracy: 0.55 - ETA: 3s - loss: 0.6822 - accuracy: 0.55 - ETA: 3s - loss: 0.6823 - accuracy: 0.55 - ETA: 3s - loss: 0.6823 - accuracy: 0.55 - ETA: 3s - loss: 0.6824 - accuracy: 0.55 - ETA: 3s - loss: 0.6826 - accuracy: 0.55 - ETA: 3s - loss: 0.6826 - accuracy: 0.55 - ETA: 2s - loss: 0.6826 - accuracy: 0.55 - ETA: 2s - loss: 0.6826 - accuracy: 0.55 - ETA: 2s - loss: 0.6827 - accuracy: 0.55 - ETA: 2s - loss: 0.6827 - accuracy: 0.55 - ETA: 2s - loss: 0.6828 - accuracy: 0.55 - ETA: 2s - loss: 0.6827 - accuracy: 0.55 - ETA: 2s - loss: 0.6828 - accuracy: 0.55 - ETA: 2s - loss: 0.6828 - accuracy: 0.55 - ETA: 2s - loss: 0.6829 - accuracy: 0.55 - ETA: 2s - loss: 0.6829 - accuracy: 0.55 - ETA: 2s - loss: 0.6830 - accuracy: 0.55 - ETA: 2s - loss: 0.6831 - accuracy: 0.55 - ETA: 2s - loss: 0.6831 - accuracy: 0.55 - ETA: 2s - loss: 0.6831 - accuracy: 0.55 - ETA: 1s - loss: 0.6830 - accuracy: 0.55 - ETA: 1s - loss: 0.6830 - accuracy: 0.55 - ETA: 1s - loss: 0.6830 - accuracy: 0.55 - ETA: 1s - loss: 0.6831 - accuracy: 0.55 - ETA: 1s - loss: 0.6831 - accuracy: 0.55 - ETA: 1s - loss: 0.6830 - accuracy: 0.55 - ETA: 1s - loss: 0.6830 - accuracy: 0.55 - ETA: 1s - loss: 0.6831 - accuracy: 0.55 - ETA: 1s - loss: 0.6830 - accuracy: 0.55 - ETA: 1s - loss: 0.6831 - accuracy: 0.55 - ETA: 1s - loss: 0.6831 - accuracy: 0.55 - ETA: 1s - loss: 0.6832 - accuracy: 0.55 - ETA: 1s - loss: 0.6833 - accuracy: 0.55 - ETA: 1s - loss: 0.6833 - accuracy: 0.55 - ETA: 0s - loss: 0.6834 - accuracy: 0.55 - ETA: 0s - loss: 0.6833 - accuracy: 0.55 - ETA: 0s - loss: 0.6833 - accuracy: 0.55 - ETA: 0s - loss: 0.6834 - accuracy: 0.55 - ETA: 0s - loss: 0.6834 - accuracy: 0.55 - ETA: 0s - loss: 0.6833 - accuracy: 0.55 - ETA: 0s - loss: 0.6833 - accuracy: 0.55 - ETA: 0s - loss: 0.6833 - accuracy: 0.55 - ETA: 0s - loss: 0.6833 - accuracy: 0.55 - ETA: 0s - loss: 0.6834 - accuracy: 0.55 - ETA: 0s - loss: 0.6834 - accuracy: 0.55 - ETA: 0s - loss: 0.6834 - accuracy: 0.55 - ETA: 0s - loss: 0.6834 - accuracy: 0.55 - ETA: 0s - loss: 0.6834 - accuracy: 0.55 - 11s 284us/step - loss: 0.6834 - accuracy: 0.5551\n",
      "\n",
      "Epoch 00021: loss did not improve from 0.68277\n",
      "Epoch 22/50\n"
     ]
    },
    {
     "name": "stdout",
     "output_type": "stream",
     "text": [
      "40268/40268 [==============================] - ETA: 10s - loss: 0.6738 - accuracy: 0.609 - ETA: 11s - loss: 0.6766 - accuracy: 0.587 - ETA: 11s - loss: 0.6778 - accuracy: 0.583 - ETA: 11s - loss: 0.6790 - accuracy: 0.581 - ETA: 11s - loss: 0.6786 - accuracy: 0.585 - ETA: 11s - loss: 0.6791 - accuracy: 0.580 - ETA: 11s - loss: 0.6794 - accuracy: 0.578 - ETA: 12s - loss: 0.6785 - accuracy: 0.579 - ETA: 11s - loss: 0.6781 - accuracy: 0.578 - ETA: 11s - loss: 0.6783 - accuracy: 0.576 - ETA: 11s - loss: 0.6797 - accuracy: 0.569 - ETA: 11s - loss: 0.6788 - accuracy: 0.571 - ETA: 11s - loss: 0.6789 - accuracy: 0.571 - ETA: 11s - loss: 0.6799 - accuracy: 0.569 - ETA: 11s - loss: 0.6795 - accuracy: 0.569 - ETA: 11s - loss: 0.6793 - accuracy: 0.568 - ETA: 11s - loss: 0.6782 - accuracy: 0.571 - ETA: 11s - loss: 0.6795 - accuracy: 0.567 - ETA: 11s - loss: 0.6796 - accuracy: 0.567 - ETA: 10s - loss: 0.6799 - accuracy: 0.568 - ETA: 10s - loss: 0.6802 - accuracy: 0.566 - ETA: 10s - loss: 0.6806 - accuracy: 0.564 - ETA: 10s - loss: 0.6811 - accuracy: 0.562 - ETA: 10s - loss: 0.6810 - accuracy: 0.563 - ETA: 10s - loss: 0.6805 - accuracy: 0.564 - ETA: 10s - loss: 0.6805 - accuracy: 0.563 - ETA: 10s - loss: 0.6806 - accuracy: 0.563 - ETA: 10s - loss: 0.6813 - accuracy: 0.560 - ETA: 10s - loss: 0.6816 - accuracy: 0.559 - ETA: 10s - loss: 0.6815 - accuracy: 0.559 - ETA: 10s - loss: 0.6816 - accuracy: 0.559 - ETA: 10s - loss: 0.6818 - accuracy: 0.557 - ETA: 10s - loss: 0.6821 - accuracy: 0.556 - ETA: 9s - loss: 0.6818 - accuracy: 0.557 - ETA: 9s - loss: 0.6820 - accuracy: 0.55 - ETA: 9s - loss: 0.6820 - accuracy: 0.55 - ETA: 9s - loss: 0.6819 - accuracy: 0.55 - ETA: 9s - loss: 0.6817 - accuracy: 0.55 - ETA: 9s - loss: 0.6818 - accuracy: 0.55 - ETA: 9s - loss: 0.6815 - accuracy: 0.55 - ETA: 9s - loss: 0.6814 - accuracy: 0.56 - ETA: 9s - loss: 0.6818 - accuracy: 0.55 - ETA: 9s - loss: 0.6816 - accuracy: 0.55 - ETA: 9s - loss: 0.6818 - accuracy: 0.55 - ETA: 9s - loss: 0.6819 - accuracy: 0.55 - ETA: 9s - loss: 0.6816 - accuracy: 0.55 - ETA: 8s - loss: 0.6816 - accuracy: 0.55 - ETA: 8s - loss: 0.6819 - accuracy: 0.55 - ETA: 8s - loss: 0.6816 - accuracy: 0.55 - ETA: 8s - loss: 0.6813 - accuracy: 0.56 - ETA: 8s - loss: 0.6810 - accuracy: 0.56 - ETA: 8s - loss: 0.6811 - accuracy: 0.56 - ETA: 8s - loss: 0.6809 - accuracy: 0.56 - ETA: 8s - loss: 0.6810 - accuracy: 0.56 - ETA: 8s - loss: 0.6812 - accuracy: 0.56 - ETA: 8s - loss: 0.6814 - accuracy: 0.56 - ETA: 8s - loss: 0.6815 - accuracy: 0.55 - ETA: 8s - loss: 0.6814 - accuracy: 0.55 - ETA: 8s - loss: 0.6814 - accuracy: 0.56 - ETA: 7s - loss: 0.6813 - accuracy: 0.56 - ETA: 7s - loss: 0.6812 - accuracy: 0.56 - ETA: 7s - loss: 0.6812 - accuracy: 0.55 - ETA: 7s - loss: 0.6812 - accuracy: 0.56 - ETA: 7s - loss: 0.6811 - accuracy: 0.56 - ETA: 7s - loss: 0.6810 - accuracy: 0.56 - ETA: 7s - loss: 0.6809 - accuracy: 0.56 - ETA: 7s - loss: 0.6810 - accuracy: 0.56 - ETA: 7s - loss: 0.6811 - accuracy: 0.56 - ETA: 7s - loss: 0.6808 - accuracy: 0.56 - ETA: 7s - loss: 0.6807 - accuracy: 0.56 - ETA: 7s - loss: 0.6807 - accuracy: 0.56 - ETA: 7s - loss: 0.6808 - accuracy: 0.56 - ETA: 6s - loss: 0.6808 - accuracy: 0.56 - ETA: 6s - loss: 0.6809 - accuracy: 0.56 - ETA: 6s - loss: 0.6809 - accuracy: 0.56 - ETA: 6s - loss: 0.6810 - accuracy: 0.56 - ETA: 6s - loss: 0.6808 - accuracy: 0.56 - ETA: 6s - loss: 0.6810 - accuracy: 0.56 - ETA: 6s - loss: 0.6810 - accuracy: 0.56 - ETA: 6s - loss: 0.6812 - accuracy: 0.56 - ETA: 6s - loss: 0.6813 - accuracy: 0.56 - ETA: 6s - loss: 0.6816 - accuracy: 0.56 - ETA: 6s - loss: 0.6816 - accuracy: 0.56 - ETA: 6s - loss: 0.6817 - accuracy: 0.55 - ETA: 6s - loss: 0.6816 - accuracy: 0.55 - ETA: 6s - loss: 0.6815 - accuracy: 0.56 - ETA: 5s - loss: 0.6816 - accuracy: 0.55 - ETA: 5s - loss: 0.6814 - accuracy: 0.56 - ETA: 5s - loss: 0.6814 - accuracy: 0.56 - ETA: 5s - loss: 0.6814 - accuracy: 0.56 - ETA: 5s - loss: 0.6812 - accuracy: 0.56 - ETA: 5s - loss: 0.6814 - accuracy: 0.56 - ETA: 5s - loss: 0.6814 - accuracy: 0.55 - ETA: 5s - loss: 0.6814 - accuracy: 0.55 - ETA: 5s - loss: 0.6814 - accuracy: 0.56 - ETA: 5s - loss: 0.6815 - accuracy: 0.55 - ETA: 5s - loss: 0.6814 - accuracy: 0.55 - ETA: 5s - loss: 0.6816 - accuracy: 0.55 - ETA: 4s - loss: 0.6817 - accuracy: 0.55 - ETA: 4s - loss: 0.6819 - accuracy: 0.55 - ETA: 4s - loss: 0.6820 - accuracy: 0.55 - ETA: 4s - loss: 0.6820 - accuracy: 0.55 - ETA: 4s - loss: 0.6821 - accuracy: 0.55 - ETA: 4s - loss: 0.6820 - accuracy: 0.55 - ETA: 4s - loss: 0.6821 - accuracy: 0.55 - ETA: 4s - loss: 0.6820 - accuracy: 0.55 - ETA: 4s - loss: 0.6821 - accuracy: 0.55 - ETA: 4s - loss: 0.6821 - accuracy: 0.55 - ETA: 4s - loss: 0.6821 - accuracy: 0.55 - ETA: 4s - loss: 0.6821 - accuracy: 0.55 - ETA: 3s - loss: 0.6821 - accuracy: 0.55 - ETA: 3s - loss: 0.6822 - accuracy: 0.55 - ETA: 3s - loss: 0.6821 - accuracy: 0.55 - ETA: 3s - loss: 0.6821 - accuracy: 0.55 - ETA: 3s - loss: 0.6821 - accuracy: 0.55 - ETA: 3s - loss: 0.6822 - accuracy: 0.55 - ETA: 3s - loss: 0.6823 - accuracy: 0.55 - ETA: 3s - loss: 0.6823 - accuracy: 0.55 - ETA: 3s - loss: 0.6823 - accuracy: 0.55 - ETA: 3s - loss: 0.6823 - accuracy: 0.55 - ETA: 3s - loss: 0.6822 - accuracy: 0.55 - ETA: 3s - loss: 0.6823 - accuracy: 0.55 - ETA: 2s - loss: 0.6823 - accuracy: 0.55 - ETA: 2s - loss: 0.6823 - accuracy: 0.55 - ETA: 2s - loss: 0.6824 - accuracy: 0.55 - ETA: 2s - loss: 0.6823 - accuracy: 0.55 - ETA: 2s - loss: 0.6823 - accuracy: 0.55 - ETA: 2s - loss: 0.6823 - accuracy: 0.55 - ETA: 2s - loss: 0.6823 - accuracy: 0.55 - ETA: 2s - loss: 0.6823 - accuracy: 0.55 - ETA: 2s - loss: 0.6823 - accuracy: 0.55 - ETA: 2s - loss: 0.6823 - accuracy: 0.55 - ETA: 2s - loss: 0.6823 - accuracy: 0.55 - ETA: 1s - loss: 0.6824 - accuracy: 0.55 - ETA: 1s - loss: 0.6823 - accuracy: 0.55 - ETA: 1s - loss: 0.6823 - accuracy: 0.55 - ETA: 1s - loss: 0.6824 - accuracy: 0.55 - ETA: 1s - loss: 0.6823 - accuracy: 0.55 - ETA: 1s - loss: 0.6824 - accuracy: 0.55 - ETA: 1s - loss: 0.6825 - accuracy: 0.55 - ETA: 1s - loss: 0.6825 - accuracy: 0.55 - ETA: 1s - loss: 0.6823 - accuracy: 0.55 - ETA: 1s - loss: 0.6823 - accuracy: 0.55 - ETA: 1s - loss: 0.6823 - accuracy: 0.55 - ETA: 1s - loss: 0.6823 - accuracy: 0.55 - ETA: 0s - loss: 0.6823 - accuracy: 0.55 - ETA: 0s - loss: 0.6823 - accuracy: 0.55 - ETA: 0s - loss: 0.6824 - accuracy: 0.55 - ETA: 0s - loss: 0.6824 - accuracy: 0.55 - ETA: 0s - loss: 0.6824 - accuracy: 0.55 - ETA: 0s - loss: 0.6823 - accuracy: 0.55 - ETA: 0s - loss: 0.6824 - accuracy: 0.55 - ETA: 0s - loss: 0.6824 - accuracy: 0.55 - ETA: 0s - loss: 0.6823 - accuracy: 0.55 - ETA: 0s - loss: 0.6823 - accuracy: 0.55 - ETA: 0s - loss: 0.6823 - accuracy: 0.55 - ETA: 0s - loss: 0.6823 - accuracy: 0.55 - 13s 333us/step - loss: 0.6823 - accuracy: 0.5549\n",
      "\n",
      "Epoch 00022: loss improved from 0.68277 to 0.68235, saving model to Resultados/7/Checkpoints/word2vec-22-0.6823.hdf5\n",
      "Epoch 23/50\n"
     ]
    },
    {
     "name": "stdout",
     "output_type": "stream",
     "text": [
      "40268/40268 [==============================] - ETA: 11s - loss: 0.6830 - accuracy: 0.566 - ETA: 11s - loss: 0.6813 - accuracy: 0.570 - ETA: 11s - loss: 0.6773 - accuracy: 0.575 - ETA: 11s - loss: 0.6771 - accuracy: 0.577 - ETA: 11s - loss: 0.6739 - accuracy: 0.583 - ETA: 11s - loss: 0.6779 - accuracy: 0.572 - ETA: 11s - loss: 0.6772 - accuracy: 0.569 - ETA: 10s - loss: 0.6773 - accuracy: 0.566 - ETA: 10s - loss: 0.6786 - accuracy: 0.562 - ETA: 10s - loss: 0.6783 - accuracy: 0.562 - ETA: 10s - loss: 0.6784 - accuracy: 0.562 - ETA: 10s - loss: 0.6775 - accuracy: 0.565 - ETA: 10s - loss: 0.6781 - accuracy: 0.564 - ETA: 10s - loss: 0.6768 - accuracy: 0.568 - ETA: 10s - loss: 0.6782 - accuracy: 0.564 - ETA: 10s - loss: 0.6785 - accuracy: 0.565 - ETA: 10s - loss: 0.6788 - accuracy: 0.566 - ETA: 10s - loss: 0.6795 - accuracy: 0.564 - ETA: 10s - loss: 0.6790 - accuracy: 0.566 - ETA: 10s - loss: 0.6780 - accuracy: 0.569 - ETA: 10s - loss: 0.6778 - accuracy: 0.569 - ETA: 9s - loss: 0.6775 - accuracy: 0.569 - ETA: 9s - loss: 0.6779 - accuracy: 0.56 - ETA: 9s - loss: 0.6780 - accuracy: 0.56 - ETA: 9s - loss: 0.6775 - accuracy: 0.57 - ETA: 9s - loss: 0.6778 - accuracy: 0.57 - ETA: 9s - loss: 0.6777 - accuracy: 0.57 - ETA: 9s - loss: 0.6776 - accuracy: 0.56 - ETA: 9s - loss: 0.6781 - accuracy: 0.56 - ETA: 9s - loss: 0.6785 - accuracy: 0.56 - ETA: 9s - loss: 0.6785 - accuracy: 0.56 - ETA: 9s - loss: 0.6788 - accuracy: 0.56 - ETA: 9s - loss: 0.6789 - accuracy: 0.56 - ETA: 8s - loss: 0.6788 - accuracy: 0.56 - ETA: 8s - loss: 0.6793 - accuracy: 0.56 - ETA: 8s - loss: 0.6789 - accuracy: 0.56 - ETA: 8s - loss: 0.6786 - accuracy: 0.56 - ETA: 8s - loss: 0.6790 - accuracy: 0.56 - ETA: 8s - loss: 0.6793 - accuracy: 0.56 - ETA: 8s - loss: 0.6797 - accuracy: 0.56 - ETA: 8s - loss: 0.6798 - accuracy: 0.56 - ETA: 8s - loss: 0.6798 - accuracy: 0.56 - ETA: 8s - loss: 0.6800 - accuracy: 0.56 - ETA: 8s - loss: 0.6800 - accuracy: 0.56 - ETA: 8s - loss: 0.6799 - accuracy: 0.56 - ETA: 8s - loss: 0.6802 - accuracy: 0.56 - ETA: 8s - loss: 0.6806 - accuracy: 0.55 - ETA: 8s - loss: 0.6805 - accuracy: 0.55 - ETA: 7s - loss: 0.6805 - accuracy: 0.56 - ETA: 7s - loss: 0.6803 - accuracy: 0.56 - ETA: 7s - loss: 0.6803 - accuracy: 0.56 - ETA: 7s - loss: 0.6803 - accuracy: 0.56 - ETA: 7s - loss: 0.6801 - accuracy: 0.56 - ETA: 7s - loss: 0.6801 - accuracy: 0.56 - ETA: 7s - loss: 0.6801 - accuracy: 0.56 - ETA: 7s - loss: 0.6803 - accuracy: 0.56 - ETA: 7s - loss: 0.6803 - accuracy: 0.56 - ETA: 7s - loss: 0.6803 - accuracy: 0.56 - ETA: 7s - loss: 0.6804 - accuracy: 0.56 - ETA: 7s - loss: 0.6806 - accuracy: 0.56 - ETA: 7s - loss: 0.6805 - accuracy: 0.56 - ETA: 7s - loss: 0.6806 - accuracy: 0.56 - ETA: 7s - loss: 0.6807 - accuracy: 0.56 - ETA: 7s - loss: 0.6808 - accuracy: 0.56 - ETA: 7s - loss: 0.6808 - accuracy: 0.56 - ETA: 6s - loss: 0.6809 - accuracy: 0.56 - ETA: 6s - loss: 0.6808 - accuracy: 0.56 - ETA: 6s - loss: 0.6807 - accuracy: 0.56 - ETA: 6s - loss: 0.6807 - accuracy: 0.56 - ETA: 6s - loss: 0.6808 - accuracy: 0.56 - ETA: 6s - loss: 0.6806 - accuracy: 0.56 - ETA: 6s - loss: 0.6806 - accuracy: 0.56 - ETA: 6s - loss: 0.6807 - accuracy: 0.56 - ETA: 6s - loss: 0.6806 - accuracy: 0.56 - ETA: 6s - loss: 0.6806 - accuracy: 0.56 - ETA: 6s - loss: 0.6806 - accuracy: 0.56 - ETA: 6s - loss: 0.6807 - accuracy: 0.56 - ETA: 6s - loss: 0.6808 - accuracy: 0.56 - ETA: 6s - loss: 0.6807 - accuracy: 0.56 - ETA: 5s - loss: 0.6807 - accuracy: 0.56 - ETA: 5s - loss: 0.6807 - accuracy: 0.56 - ETA: 5s - loss: 0.6807 - accuracy: 0.56 - ETA: 5s - loss: 0.6808 - accuracy: 0.56 - ETA: 5s - loss: 0.6811 - accuracy: 0.56 - ETA: 5s - loss: 0.6812 - accuracy: 0.56 - ETA: 5s - loss: 0.6812 - accuracy: 0.56 - ETA: 5s - loss: 0.6813 - accuracy: 0.56 - ETA: 5s - loss: 0.6813 - accuracy: 0.55 - ETA: 5s - loss: 0.6814 - accuracy: 0.55 - ETA: 5s - loss: 0.6815 - accuracy: 0.56 - ETA: 5s - loss: 0.6816 - accuracy: 0.55 - ETA: 5s - loss: 0.6816 - accuracy: 0.55 - ETA: 5s - loss: 0.6816 - accuracy: 0.55 - ETA: 4s - loss: 0.6816 - accuracy: 0.55 - ETA: 4s - loss: 0.6816 - accuracy: 0.55 - ETA: 4s - loss: 0.6817 - accuracy: 0.55 - ETA: 4s - loss: 0.6818 - accuracy: 0.55 - ETA: 4s - loss: 0.6817 - accuracy: 0.55 - ETA: 4s - loss: 0.6818 - accuracy: 0.55 - ETA: 4s - loss: 0.6817 - accuracy: 0.55 - ETA: 4s - loss: 0.6817 - accuracy: 0.55 - ETA: 4s - loss: 0.6817 - accuracy: 0.55 - ETA: 4s - loss: 0.6817 - accuracy: 0.55 - ETA: 4s - loss: 0.6817 - accuracy: 0.55 - ETA: 4s - loss: 0.6819 - accuracy: 0.55 - ETA: 4s - loss: 0.6819 - accuracy: 0.55 - ETA: 3s - loss: 0.6819 - accuracy: 0.55 - ETA: 3s - loss: 0.6819 - accuracy: 0.55 - ETA: 3s - loss: 0.6819 - accuracy: 0.55 - ETA: 3s - loss: 0.6818 - accuracy: 0.55 - ETA: 3s - loss: 0.6818 - accuracy: 0.55 - ETA: 3s - loss: 0.6819 - accuracy: 0.55 - ETA: 3s - loss: 0.6818 - accuracy: 0.55 - ETA: 3s - loss: 0.6820 - accuracy: 0.55 - ETA: 3s - loss: 0.6818 - accuracy: 0.55 - ETA: 3s - loss: 0.6817 - accuracy: 0.55 - ETA: 3s - loss: 0.6819 - accuracy: 0.55 - ETA: 3s - loss: 0.6819 - accuracy: 0.55 - ETA: 3s - loss: 0.6819 - accuracy: 0.55 - ETA: 2s - loss: 0.6819 - accuracy: 0.55 - ETA: 2s - loss: 0.6820 - accuracy: 0.55 - ETA: 2s - loss: 0.6820 - accuracy: 0.55 - ETA: 2s - loss: 0.6820 - accuracy: 0.55 - ETA: 2s - loss: 0.6820 - accuracy: 0.55 - ETA: 2s - loss: 0.6820 - accuracy: 0.55 - ETA: 2s - loss: 0.6819 - accuracy: 0.55 - ETA: 2s - loss: 0.6819 - accuracy: 0.55 - ETA: 2s - loss: 0.6818 - accuracy: 0.55 - ETA: 2s - loss: 0.6817 - accuracy: 0.55 - ETA: 2s - loss: 0.6816 - accuracy: 0.55 - ETA: 2s - loss: 0.6815 - accuracy: 0.55 - ETA: 1s - loss: 0.6816 - accuracy: 0.55 - ETA: 1s - loss: 0.6815 - accuracy: 0.55 - ETA: 1s - loss: 0.6814 - accuracy: 0.55 - ETA: 1s - loss: 0.6815 - accuracy: 0.55 - ETA: 1s - loss: 0.6815 - accuracy: 0.55 - ETA: 1s - loss: 0.6816 - accuracy: 0.55 - ETA: 1s - loss: 0.6816 - accuracy: 0.55 - ETA: 1s - loss: 0.6818 - accuracy: 0.55 - ETA: 1s - loss: 0.6818 - accuracy: 0.55 - ETA: 1s - loss: 0.6819 - accuracy: 0.55 - ETA: 1s - loss: 0.6819 - accuracy: 0.55 - ETA: 1s - loss: 0.6818 - accuracy: 0.55 - ETA: 1s - loss: 0.6817 - accuracy: 0.55 - ETA: 0s - loss: 0.6818 - accuracy: 0.55 - ETA: 0s - loss: 0.6818 - accuracy: 0.55 - ETA: 0s - loss: 0.6818 - accuracy: 0.55 - ETA: 0s - loss: 0.6818 - accuracy: 0.55 - ETA: 0s - loss: 0.6818 - accuracy: 0.55 - ETA: 0s - loss: 0.6818 - accuracy: 0.55 - ETA: 0s - loss: 0.6818 - accuracy: 0.55 - ETA: 0s - loss: 0.6817 - accuracy: 0.55 - ETA: 0s - loss: 0.6816 - accuracy: 0.55 - ETA: 0s - loss: 0.6817 - accuracy: 0.55 - ETA: 0s - loss: 0.6817 - accuracy: 0.55 - ETA: 0s - loss: 0.6817 - accuracy: 0.55 - ETA: 0s - loss: 0.6816 - accuracy: 0.55 - 12s 296us/step - loss: 0.6816 - accuracy: 0.5584\n",
      "\n",
      "Epoch 00023: loss improved from 0.68235 to 0.68163, saving model to Resultados/7/Checkpoints/word2vec-23-0.6816.hdf5\n",
      "Epoch 24/50\n"
     ]
    },
    {
     "name": "stdout",
     "output_type": "stream",
     "text": [
      "40268/40268 [==============================] - ETA: 9s - loss: 0.6804 - accuracy: 0.59 - ETA: 9s - loss: 0.6834 - accuracy: 0.57 - ETA: 9s - loss: 0.6892 - accuracy: 0.55 - ETA: 12s - loss: 0.6849 - accuracy: 0.554 - ETA: 12s - loss: 0.6862 - accuracy: 0.550 - ETA: 12s - loss: 0.6858 - accuracy: 0.555 - ETA: 11s - loss: 0.6830 - accuracy: 0.560 - ETA: 12s - loss: 0.6844 - accuracy: 0.557 - ETA: 12s - loss: 0.6837 - accuracy: 0.557 - ETA: 13s - loss: 0.6817 - accuracy: 0.562 - ETA: 12s - loss: 0.6806 - accuracy: 0.566 - ETA: 12s - loss: 0.6797 - accuracy: 0.566 - ETA: 12s - loss: 0.6808 - accuracy: 0.563 - ETA: 12s - loss: 0.6817 - accuracy: 0.561 - ETA: 12s - loss: 0.6823 - accuracy: 0.560 - ETA: 12s - loss: 0.6826 - accuracy: 0.559 - ETA: 12s - loss: 0.6816 - accuracy: 0.561 - ETA: 12s - loss: 0.6816 - accuracy: 0.562 - ETA: 12s - loss: 0.6813 - accuracy: 0.562 - ETA: 12s - loss: 0.6809 - accuracy: 0.563 - ETA: 12s - loss: 0.6813 - accuracy: 0.563 - ETA: 11s - loss: 0.6811 - accuracy: 0.564 - ETA: 11s - loss: 0.6814 - accuracy: 0.563 - ETA: 11s - loss: 0.6816 - accuracy: 0.561 - ETA: 11s - loss: 0.6808 - accuracy: 0.563 - ETA: 11s - loss: 0.6814 - accuracy: 0.561 - ETA: 11s - loss: 0.6818 - accuracy: 0.561 - ETA: 11s - loss: 0.6816 - accuracy: 0.561 - ETA: 11s - loss: 0.6806 - accuracy: 0.563 - ETA: 11s - loss: 0.6810 - accuracy: 0.563 - ETA: 11s - loss: 0.6809 - accuracy: 0.562 - ETA: 10s - loss: 0.6814 - accuracy: 0.561 - ETA: 10s - loss: 0.6824 - accuracy: 0.559 - ETA: 10s - loss: 0.6823 - accuracy: 0.558 - ETA: 10s - loss: 0.6817 - accuracy: 0.560 - ETA: 10s - loss: 0.6816 - accuracy: 0.559 - ETA: 10s - loss: 0.6815 - accuracy: 0.560 - ETA: 10s - loss: 0.6816 - accuracy: 0.560 - ETA: 10s - loss: 0.6814 - accuracy: 0.560 - ETA: 10s - loss: 0.6810 - accuracy: 0.560 - ETA: 9s - loss: 0.6812 - accuracy: 0.560 - ETA: 9s - loss: 0.6811 - accuracy: 0.55 - ETA: 9s - loss: 0.6811 - accuracy: 0.55 - ETA: 9s - loss: 0.6812 - accuracy: 0.55 - ETA: 9s - loss: 0.6808 - accuracy: 0.55 - ETA: 9s - loss: 0.6807 - accuracy: 0.56 - ETA: 9s - loss: 0.6806 - accuracy: 0.56 - ETA: 9s - loss: 0.6805 - accuracy: 0.56 - ETA: 9s - loss: 0.6805 - accuracy: 0.56 - ETA: 9s - loss: 0.6801 - accuracy: 0.56 - ETA: 8s - loss: 0.6802 - accuracy: 0.56 - ETA: 8s - loss: 0.6802 - accuracy: 0.56 - ETA: 8s - loss: 0.6800 - accuracy: 0.56 - ETA: 8s - loss: 0.6801 - accuracy: 0.56 - ETA: 8s - loss: 0.6803 - accuracy: 0.56 - ETA: 8s - loss: 0.6805 - accuracy: 0.56 - ETA: 8s - loss: 0.6800 - accuracy: 0.56 - ETA: 8s - loss: 0.6797 - accuracy: 0.56 - ETA: 8s - loss: 0.6802 - accuracy: 0.56 - ETA: 8s - loss: 0.6804 - accuracy: 0.56 - ETA: 8s - loss: 0.6804 - accuracy: 0.56 - ETA: 7s - loss: 0.6802 - accuracy: 0.56 - ETA: 7s - loss: 0.6804 - accuracy: 0.56 - ETA: 7s - loss: 0.6804 - accuracy: 0.56 - ETA: 7s - loss: 0.6803 - accuracy: 0.56 - ETA: 7s - loss: 0.6803 - accuracy: 0.56 - ETA: 7s - loss: 0.6802 - accuracy: 0.56 - ETA: 7s - loss: 0.6804 - accuracy: 0.56 - ETA: 7s - loss: 0.6806 - accuracy: 0.56 - ETA: 7s - loss: 0.6807 - accuracy: 0.56 - ETA: 7s - loss: 0.6808 - accuracy: 0.56 - ETA: 7s - loss: 0.6809 - accuracy: 0.55 - ETA: 7s - loss: 0.6809 - accuracy: 0.55 - ETA: 7s - loss: 0.6809 - accuracy: 0.55 - ETA: 6s - loss: 0.6809 - accuracy: 0.56 - ETA: 6s - loss: 0.6809 - accuracy: 0.55 - ETA: 6s - loss: 0.6811 - accuracy: 0.55 - ETA: 6s - loss: 0.6812 - accuracy: 0.55 - ETA: 6s - loss: 0.6811 - accuracy: 0.55 - ETA: 6s - loss: 0.6813 - accuracy: 0.55 - ETA: 6s - loss: 0.6814 - accuracy: 0.55 - ETA: 6s - loss: 0.6815 - accuracy: 0.55 - ETA: 6s - loss: 0.6813 - accuracy: 0.55 - ETA: 6s - loss: 0.6815 - accuracy: 0.55 - ETA: 6s - loss: 0.6814 - accuracy: 0.55 - ETA: 6s - loss: 0.6815 - accuracy: 0.55 - ETA: 6s - loss: 0.6816 - accuracy: 0.55 - ETA: 5s - loss: 0.6817 - accuracy: 0.55 - ETA: 5s - loss: 0.6816 - accuracy: 0.55 - ETA: 5s - loss: 0.6816 - accuracy: 0.55 - ETA: 5s - loss: 0.6817 - accuracy: 0.55 - ETA: 5s - loss: 0.6817 - accuracy: 0.55 - ETA: 5s - loss: 0.6816 - accuracy: 0.55 - ETA: 5s - loss: 0.6817 - accuracy: 0.55 - ETA: 5s - loss: 0.6819 - accuracy: 0.55 - ETA: 5s - loss: 0.6818 - accuracy: 0.55 - ETA: 5s - loss: 0.6818 - accuracy: 0.55 - ETA: 5s - loss: 0.6817 - accuracy: 0.55 - ETA: 4s - loss: 0.6817 - accuracy: 0.55 - ETA: 4s - loss: 0.6817 - accuracy: 0.55 - ETA: 4s - loss: 0.6816 - accuracy: 0.55 - ETA: 4s - loss: 0.6815 - accuracy: 0.55 - ETA: 4s - loss: 0.6816 - accuracy: 0.55 - ETA: 4s - loss: 0.6816 - accuracy: 0.55 - ETA: 4s - loss: 0.6815 - accuracy: 0.55 - ETA: 4s - loss: 0.6815 - accuracy: 0.55 - ETA: 4s - loss: 0.6815 - accuracy: 0.55 - ETA: 4s - loss: 0.6813 - accuracy: 0.56 - ETA: 4s - loss: 0.6812 - accuracy: 0.55 - ETA: 4s - loss: 0.6812 - accuracy: 0.55 - ETA: 3s - loss: 0.6811 - accuracy: 0.56 - ETA: 3s - loss: 0.6813 - accuracy: 0.56 - ETA: 3s - loss: 0.6812 - accuracy: 0.55 - ETA: 3s - loss: 0.6811 - accuracy: 0.56 - ETA: 3s - loss: 0.6812 - accuracy: 0.56 - ETA: 3s - loss: 0.6812 - accuracy: 0.56 - ETA: 3s - loss: 0.6813 - accuracy: 0.55 - ETA: 3s - loss: 0.6813 - accuracy: 0.56 - ETA: 3s - loss: 0.6813 - accuracy: 0.56 - ETA: 3s - loss: 0.6813 - accuracy: 0.56 - ETA: 3s - loss: 0.6812 - accuracy: 0.55 - ETA: 3s - loss: 0.6813 - accuracy: 0.55 - ETA: 2s - loss: 0.6813 - accuracy: 0.55 - ETA: 2s - loss: 0.6812 - accuracy: 0.55 - ETA: 2s - loss: 0.6811 - accuracy: 0.56 - ETA: 2s - loss: 0.6811 - accuracy: 0.55 - ETA: 2s - loss: 0.6810 - accuracy: 0.55 - ETA: 2s - loss: 0.6810 - accuracy: 0.56 - ETA: 2s - loss: 0.6811 - accuracy: 0.56 - ETA: 2s - loss: 0.6810 - accuracy: 0.56 - ETA: 2s - loss: 0.6811 - accuracy: 0.56 - ETA: 2s - loss: 0.6811 - accuracy: 0.56 - ETA: 2s - loss: 0.6811 - accuracy: 0.56 - ETA: 2s - loss: 0.6810 - accuracy: 0.56 - ETA: 1s - loss: 0.6810 - accuracy: 0.56 - ETA: 1s - loss: 0.6810 - accuracy: 0.56 - ETA: 1s - loss: 0.6810 - accuracy: 0.55 - ETA: 1s - loss: 0.6810 - accuracy: 0.56 - ETA: 1s - loss: 0.6810 - accuracy: 0.55 - ETA: 1s - loss: 0.6808 - accuracy: 0.56 - ETA: 1s - loss: 0.6808 - accuracy: 0.56 - ETA: 1s - loss: 0.6807 - accuracy: 0.56 - ETA: 1s - loss: 0.6807 - accuracy: 0.56 - ETA: 1s - loss: 0.6807 - accuracy: 0.56 - ETA: 1s - loss: 0.6808 - accuracy: 0.56 - ETA: 1s - loss: 0.6808 - accuracy: 0.56 - ETA: 0s - loss: 0.6809 - accuracy: 0.56 - ETA: 0s - loss: 0.6809 - accuracy: 0.56 - ETA: 0s - loss: 0.6808 - accuracy: 0.56 - ETA: 0s - loss: 0.6809 - accuracy: 0.56 - ETA: 0s - loss: 0.6809 - accuracy: 0.56 - ETA: 0s - loss: 0.6809 - accuracy: 0.56 - ETA: 0s - loss: 0.6809 - accuracy: 0.56 - ETA: 0s - loss: 0.6808 - accuracy: 0.56 - ETA: 0s - loss: 0.6808 - accuracy: 0.56 - ETA: 0s - loss: 0.6807 - accuracy: 0.56 - ETA: 0s - loss: 0.6806 - accuracy: 0.56 - 14s 353us/step - loss: 0.6806 - accuracy: 0.5610\n",
      "\n",
      "Epoch 00024: loss improved from 0.68163 to 0.68059, saving model to Resultados/7/Checkpoints/word2vec-24-0.6806.hdf5\n",
      "Epoch 25/50\n"
     ]
    },
    {
     "name": "stdout",
     "output_type": "stream",
     "text": [
      "40268/40268 [==============================] - ETA: 16s - loss: 0.6749 - accuracy: 0.593 - ETA: 16s - loss: 0.6697 - accuracy: 0.625 - ETA: 15s - loss: 0.6737 - accuracy: 0.604 - ETA: 14s - loss: 0.6722 - accuracy: 0.596 - ETA: 15s - loss: 0.6756 - accuracy: 0.587 - ETA: 14s - loss: 0.6761 - accuracy: 0.583 - ETA: 14s - loss: 0.6760 - accuracy: 0.582 - ETA: 15s - loss: 0.6743 - accuracy: 0.585 - ETA: 16s - loss: 0.6745 - accuracy: 0.584 - ETA: 16s - loss: 0.6740 - accuracy: 0.584 - ETA: 16s - loss: 0.6737 - accuracy: 0.586 - ETA: 16s - loss: 0.6738 - accuracy: 0.586 - ETA: 16s - loss: 0.6750 - accuracy: 0.585 - ETA: 16s - loss: 0.6773 - accuracy: 0.579 - ETA: 15s - loss: 0.6760 - accuracy: 0.581 - ETA: 15s - loss: 0.6764 - accuracy: 0.577 - ETA: 15s - loss: 0.6775 - accuracy: 0.573 - ETA: 15s - loss: 0.6775 - accuracy: 0.574 - ETA: 15s - loss: 0.6777 - accuracy: 0.574 - ETA: 14s - loss: 0.6777 - accuracy: 0.573 - ETA: 14s - loss: 0.6779 - accuracy: 0.571 - ETA: 14s - loss: 0.6781 - accuracy: 0.568 - ETA: 14s - loss: 0.6782 - accuracy: 0.569 - ETA: 13s - loss: 0.6786 - accuracy: 0.567 - ETA: 13s - loss: 0.6787 - accuracy: 0.566 - ETA: 13s - loss: 0.6787 - accuracy: 0.565 - ETA: 13s - loss: 0.6790 - accuracy: 0.564 - ETA: 12s - loss: 0.6799 - accuracy: 0.561 - ETA: 12s - loss: 0.6801 - accuracy: 0.559 - ETA: 12s - loss: 0.6800 - accuracy: 0.560 - ETA: 12s - loss: 0.6796 - accuracy: 0.560 - ETA: 12s - loss: 0.6798 - accuracy: 0.559 - ETA: 11s - loss: 0.6801 - accuracy: 0.557 - ETA: 11s - loss: 0.6803 - accuracy: 0.557 - ETA: 11s - loss: 0.6805 - accuracy: 0.557 - ETA: 11s - loss: 0.6805 - accuracy: 0.556 - ETA: 11s - loss: 0.6805 - accuracy: 0.557 - ETA: 11s - loss: 0.6801 - accuracy: 0.558 - ETA: 11s - loss: 0.6801 - accuracy: 0.558 - ETA: 10s - loss: 0.6798 - accuracy: 0.558 - ETA: 10s - loss: 0.6796 - accuracy: 0.558 - ETA: 10s - loss: 0.6795 - accuracy: 0.558 - ETA: 10s - loss: 0.6799 - accuracy: 0.558 - ETA: 10s - loss: 0.6797 - accuracy: 0.558 - ETA: 10s - loss: 0.6795 - accuracy: 0.558 - ETA: 10s - loss: 0.6798 - accuracy: 0.558 - ETA: 10s - loss: 0.6803 - accuracy: 0.558 - ETA: 9s - loss: 0.6804 - accuracy: 0.558 - ETA: 9s - loss: 0.6804 - accuracy: 0.55 - ETA: 9s - loss: 0.6803 - accuracy: 0.55 - ETA: 9s - loss: 0.6801 - accuracy: 0.55 - ETA: 9s - loss: 0.6800 - accuracy: 0.56 - ETA: 9s - loss: 0.6806 - accuracy: 0.55 - ETA: 9s - loss: 0.6806 - accuracy: 0.55 - ETA: 8s - loss: 0.6803 - accuracy: 0.55 - ETA: 8s - loss: 0.6803 - accuracy: 0.55 - ETA: 8s - loss: 0.6801 - accuracy: 0.55 - ETA: 8s - loss: 0.6801 - accuracy: 0.55 - ETA: 8s - loss: 0.6803 - accuracy: 0.55 - ETA: 8s - loss: 0.6802 - accuracy: 0.55 - ETA: 8s - loss: 0.6802 - accuracy: 0.55 - ETA: 8s - loss: 0.6803 - accuracy: 0.55 - ETA: 8s - loss: 0.6805 - accuracy: 0.55 - ETA: 8s - loss: 0.6804 - accuracy: 0.55 - ETA: 8s - loss: 0.6804 - accuracy: 0.56 - ETA: 7s - loss: 0.6804 - accuracy: 0.56 - ETA: 7s - loss: 0.6802 - accuracy: 0.56 - ETA: 7s - loss: 0.6802 - accuracy: 0.56 - ETA: 7s - loss: 0.6802 - accuracy: 0.56 - ETA: 7s - loss: 0.6801 - accuracy: 0.56 - ETA: 7s - loss: 0.6801 - accuracy: 0.56 - ETA: 7s - loss: 0.6801 - accuracy: 0.56 - ETA: 7s - loss: 0.6801 - accuracy: 0.56 - ETA: 7s - loss: 0.6802 - accuracy: 0.56 - ETA: 7s - loss: 0.6801 - accuracy: 0.56 - ETA: 7s - loss: 0.6801 - accuracy: 0.56 - ETA: 6s - loss: 0.6802 - accuracy: 0.56 - ETA: 6s - loss: 0.6802 - accuracy: 0.56 - ETA: 6s - loss: 0.6803 - accuracy: 0.56 - ETA: 6s - loss: 0.6802 - accuracy: 0.56 - ETA: 6s - loss: 0.6803 - accuracy: 0.56 - ETA: 6s - loss: 0.6803 - accuracy: 0.56 - ETA: 6s - loss: 0.6804 - accuracy: 0.56 - ETA: 6s - loss: 0.6804 - accuracy: 0.56 - ETA: 6s - loss: 0.6802 - accuracy: 0.56 - ETA: 6s - loss: 0.6802 - accuracy: 0.56 - ETA: 6s - loss: 0.6802 - accuracy: 0.56 - ETA: 5s - loss: 0.6803 - accuracy: 0.56 - ETA: 5s - loss: 0.6801 - accuracy: 0.56 - ETA: 5s - loss: 0.6800 - accuracy: 0.56 - ETA: 5s - loss: 0.6801 - accuracy: 0.56 - ETA: 5s - loss: 0.6800 - accuracy: 0.56 - ETA: 5s - loss: 0.6800 - accuracy: 0.56 - ETA: 5s - loss: 0.6802 - accuracy: 0.56 - ETA: 5s - loss: 0.6803 - accuracy: 0.56 - ETA: 5s - loss: 0.6803 - accuracy: 0.56 - ETA: 5s - loss: 0.6802 - accuracy: 0.56 - ETA: 5s - loss: 0.6801 - accuracy: 0.56 - ETA: 4s - loss: 0.6800 - accuracy: 0.56 - ETA: 4s - loss: 0.6801 - accuracy: 0.56 - ETA: 4s - loss: 0.6804 - accuracy: 0.56 - ETA: 4s - loss: 0.6802 - accuracy: 0.56 - ETA: 4s - loss: 0.6801 - accuracy: 0.56 - ETA: 4s - loss: 0.6803 - accuracy: 0.56 - ETA: 4s - loss: 0.6803 - accuracy: 0.56 - ETA: 4s - loss: 0.6804 - accuracy: 0.56 - ETA: 4s - loss: 0.6803 - accuracy: 0.56 - ETA: 4s - loss: 0.6804 - accuracy: 0.56 - ETA: 4s - loss: 0.6804 - accuracy: 0.56 - ETA: 3s - loss: 0.6804 - accuracy: 0.56 - ETA: 3s - loss: 0.6803 - accuracy: 0.56 - ETA: 3s - loss: 0.6803 - accuracy: 0.56 - ETA: 3s - loss: 0.6803 - accuracy: 0.56 - ETA: 3s - loss: 0.6802 - accuracy: 0.56 - ETA: 3s - loss: 0.6802 - accuracy: 0.56 - ETA: 3s - loss: 0.6803 - accuracy: 0.56 - ETA: 3s - loss: 0.6803 - accuracy: 0.56 - ETA: 3s - loss: 0.6802 - accuracy: 0.56 - ETA: 3s - loss: 0.6802 - accuracy: 0.56 - ETA: 3s - loss: 0.6801 - accuracy: 0.56 - ETA: 3s - loss: 0.6800 - accuracy: 0.56 - ETA: 2s - loss: 0.6800 - accuracy: 0.56 - ETA: 2s - loss: 0.6799 - accuracy: 0.56 - ETA: 2s - loss: 0.6799 - accuracy: 0.56 - ETA: 2s - loss: 0.6800 - accuracy: 0.56 - ETA: 2s - loss: 0.6801 - accuracy: 0.56 - ETA: 2s - loss: 0.6800 - accuracy: 0.56 - ETA: 2s - loss: 0.6800 - accuracy: 0.56 - ETA: 2s - loss: 0.6800 - accuracy: 0.56 - ETA: 2s - loss: 0.6799 - accuracy: 0.56 - ETA: 2s - loss: 0.6799 - accuracy: 0.56 - ETA: 2s - loss: 0.6799 - accuracy: 0.56 - ETA: 2s - loss: 0.6799 - accuracy: 0.56 - ETA: 1s - loss: 0.6798 - accuracy: 0.56 - ETA: 1s - loss: 0.6798 - accuracy: 0.56 - ETA: 1s - loss: 0.6798 - accuracy: 0.56 - ETA: 1s - loss: 0.6798 - accuracy: 0.56 - ETA: 1s - loss: 0.6798 - accuracy: 0.56 - ETA: 1s - loss: 0.6799 - accuracy: 0.56 - ETA: 1s - loss: 0.6799 - accuracy: 0.56 - ETA: 1s - loss: 0.6798 - accuracy: 0.56 - ETA: 1s - loss: 0.6799 - accuracy: 0.56 - ETA: 1s - loss: 0.6800 - accuracy: 0.56 - ETA: 1s - loss: 0.6800 - accuracy: 0.56 - ETA: 1s - loss: 0.6801 - accuracy: 0.56 - ETA: 0s - loss: 0.6802 - accuracy: 0.56 - ETA: 0s - loss: 0.6801 - accuracy: 0.56 - ETA: 0s - loss: 0.6802 - accuracy: 0.56 - ETA: 0s - loss: 0.6801 - accuracy: 0.56 - ETA: 0s - loss: 0.6801 - accuracy: 0.56 - ETA: 0s - loss: 0.6801 - accuracy: 0.56 - ETA: 0s - loss: 0.6800 - accuracy: 0.56 - ETA: 0s - loss: 0.6800 - accuracy: 0.56 - ETA: 0s - loss: 0.6800 - accuracy: 0.56 - ETA: 0s - loss: 0.6800 - accuracy: 0.56 - ETA: 0s - loss: 0.6799 - accuracy: 0.56 - ETA: 0s - loss: 0.6800 - accuracy: 0.56 - 13s 322us/step - loss: 0.6799 - accuracy: 0.5622\n",
      "\n",
      "Epoch 00025: loss improved from 0.68059 to 0.67993, saving model to Resultados/7/Checkpoints/word2vec-25-0.6799.hdf5\n",
      "Epoch 26/50\n"
     ]
    },
    {
     "name": "stdout",
     "output_type": "stream",
     "text": [
      "40268/40268 [==============================] - ETA: 9s - loss: 0.6941 - accuracy: 0.50 - ETA: 10s - loss: 0.6909 - accuracy: 0.507 - ETA: 10s - loss: 0.6857 - accuracy: 0.523 - ETA: 10s - loss: 0.6836 - accuracy: 0.537 - ETA: 10s - loss: 0.6833 - accuracy: 0.539 - ETA: 10s - loss: 0.6824 - accuracy: 0.543 - ETA: 10s - loss: 0.6811 - accuracy: 0.543 - ETA: 10s - loss: 0.6817 - accuracy: 0.541 - ETA: 10s - loss: 0.6793 - accuracy: 0.549 - ETA: 10s - loss: 0.6805 - accuracy: 0.550 - ETA: 10s - loss: 0.6793 - accuracy: 0.555 - ETA: 10s - loss: 0.6811 - accuracy: 0.549 - ETA: 10s - loss: 0.6820 - accuracy: 0.549 - ETA: 10s - loss: 0.6815 - accuracy: 0.549 - ETA: 10s - loss: 0.6810 - accuracy: 0.549 - ETA: 10s - loss: 0.6802 - accuracy: 0.554 - ETA: 10s - loss: 0.6788 - accuracy: 0.558 - ETA: 10s - loss: 0.6786 - accuracy: 0.560 - ETA: 9s - loss: 0.6790 - accuracy: 0.559 - ETA: 9s - loss: 0.6787 - accuracy: 0.56 - ETA: 9s - loss: 0.6791 - accuracy: 0.55 - ETA: 9s - loss: 0.6794 - accuracy: 0.55 - ETA: 9s - loss: 0.6794 - accuracy: 0.55 - ETA: 9s - loss: 0.6793 - accuracy: 0.55 - ETA: 9s - loss: 0.6794 - accuracy: 0.56 - ETA: 9s - loss: 0.6795 - accuracy: 0.55 - ETA: 9s - loss: 0.6792 - accuracy: 0.56 - ETA: 9s - loss: 0.6790 - accuracy: 0.56 - ETA: 9s - loss: 0.6790 - accuracy: 0.56 - ETA: 9s - loss: 0.6790 - accuracy: 0.56 - ETA: 9s - loss: 0.6791 - accuracy: 0.56 - ETA: 9s - loss: 0.6799 - accuracy: 0.56 - ETA: 9s - loss: 0.6804 - accuracy: 0.56 - ETA: 8s - loss: 0.6797 - accuracy: 0.56 - ETA: 8s - loss: 0.6802 - accuracy: 0.56 - ETA: 8s - loss: 0.6802 - accuracy: 0.56 - ETA: 8s - loss: 0.6798 - accuracy: 0.56 - ETA: 8s - loss: 0.6794 - accuracy: 0.56 - ETA: 8s - loss: 0.6793 - accuracy: 0.56 - ETA: 8s - loss: 0.6793 - accuracy: 0.56 - ETA: 8s - loss: 0.6787 - accuracy: 0.56 - ETA: 8s - loss: 0.6787 - accuracy: 0.56 - ETA: 8s - loss: 0.6788 - accuracy: 0.56 - ETA: 8s - loss: 0.6787 - accuracy: 0.56 - ETA: 8s - loss: 0.6787 - accuracy: 0.56 - ETA: 8s - loss: 0.6784 - accuracy: 0.56 - ETA: 7s - loss: 0.6782 - accuracy: 0.56 - ETA: 7s - loss: 0.6783 - accuracy: 0.56 - ETA: 7s - loss: 0.6781 - accuracy: 0.56 - ETA: 7s - loss: 0.6783 - accuracy: 0.56 - ETA: 7s - loss: 0.6786 - accuracy: 0.56 - ETA: 7s - loss: 0.6786 - accuracy: 0.56 - ETA: 7s - loss: 0.6787 - accuracy: 0.56 - ETA: 7s - loss: 0.6787 - accuracy: 0.56 - ETA: 7s - loss: 0.6789 - accuracy: 0.56 - ETA: 7s - loss: 0.6789 - accuracy: 0.56 - ETA: 7s - loss: 0.6789 - accuracy: 0.56 - ETA: 7s - loss: 0.6790 - accuracy: 0.56 - ETA: 7s - loss: 0.6789 - accuracy: 0.56 - ETA: 6s - loss: 0.6791 - accuracy: 0.56 - ETA: 6s - loss: 0.6790 - accuracy: 0.56 - ETA: 6s - loss: 0.6789 - accuracy: 0.56 - ETA: 6s - loss: 0.6788 - accuracy: 0.56 - ETA: 6s - loss: 0.6787 - accuracy: 0.56 - ETA: 6s - loss: 0.6789 - accuracy: 0.56 - ETA: 6s - loss: 0.6791 - accuracy: 0.56 - ETA: 6s - loss: 0.6793 - accuracy: 0.56 - ETA: 6s - loss: 0.6794 - accuracy: 0.56 - ETA: 6s - loss: 0.6796 - accuracy: 0.56 - ETA: 6s - loss: 0.6798 - accuracy: 0.56 - ETA: 6s - loss: 0.6799 - accuracy: 0.56 - ETA: 6s - loss: 0.6799 - accuracy: 0.56 - ETA: 6s - loss: 0.6798 - accuracy: 0.56 - ETA: 5s - loss: 0.6799 - accuracy: 0.56 - ETA: 5s - loss: 0.6800 - accuracy: 0.56 - ETA: 5s - loss: 0.6802 - accuracy: 0.56 - ETA: 5s - loss: 0.6801 - accuracy: 0.56 - ETA: 5s - loss: 0.6802 - accuracy: 0.56 - ETA: 5s - loss: 0.6800 - accuracy: 0.56 - ETA: 5s - loss: 0.6800 - accuracy: 0.56 - ETA: 5s - loss: 0.6799 - accuracy: 0.56 - ETA: 5s - loss: 0.6798 - accuracy: 0.56 - ETA: 5s - loss: 0.6798 - accuracy: 0.56 - ETA: 5s - loss: 0.6796 - accuracy: 0.56 - ETA: 5s - loss: 0.6795 - accuracy: 0.56 - ETA: 5s - loss: 0.6796 - accuracy: 0.56 - ETA: 5s - loss: 0.6796 - accuracy: 0.56 - ETA: 4s - loss: 0.6795 - accuracy: 0.56 - ETA: 4s - loss: 0.6795 - accuracy: 0.56 - ETA: 4s - loss: 0.6796 - accuracy: 0.56 - ETA: 4s - loss: 0.6797 - accuracy: 0.56 - ETA: 4s - loss: 0.6798 - accuracy: 0.56 - ETA: 4s - loss: 0.6797 - accuracy: 0.56 - ETA: 4s - loss: 0.6797 - accuracy: 0.56 - ETA: 4s - loss: 0.6798 - accuracy: 0.56 - ETA: 4s - loss: 0.6799 - accuracy: 0.55 - ETA: 4s - loss: 0.6798 - accuracy: 0.56 - ETA: 4s - loss: 0.6798 - accuracy: 0.55 - ETA: 4s - loss: 0.6799 - accuracy: 0.55 - ETA: 4s - loss: 0.6799 - accuracy: 0.55 - ETA: 4s - loss: 0.6798 - accuracy: 0.55 - ETA: 3s - loss: 0.6798 - accuracy: 0.55 - ETA: 3s - loss: 0.6797 - accuracy: 0.55 - ETA: 3s - loss: 0.6798 - accuracy: 0.55 - ETA: 3s - loss: 0.6798 - accuracy: 0.55 - ETA: 3s - loss: 0.6797 - accuracy: 0.55 - ETA: 3s - loss: 0.6797 - accuracy: 0.55 - ETA: 3s - loss: 0.6797 - accuracy: 0.55 - ETA: 3s - loss: 0.6797 - accuracy: 0.55 - ETA: 3s - loss: 0.6796 - accuracy: 0.55 - ETA: 3s - loss: 0.6796 - accuracy: 0.55 - ETA: 3s - loss: 0.6795 - accuracy: 0.55 - ETA: 3s - loss: 0.6796 - accuracy: 0.55 - ETA: 3s - loss: 0.6796 - accuracy: 0.56 - ETA: 3s - loss: 0.6797 - accuracy: 0.56 - ETA: 2s - loss: 0.6796 - accuracy: 0.56 - ETA: 2s - loss: 0.6795 - accuracy: 0.56 - ETA: 2s - loss: 0.6793 - accuracy: 0.56 - ETA: 2s - loss: 0.6793 - accuracy: 0.56 - ETA: 2s - loss: 0.6796 - accuracy: 0.55 - ETA: 2s - loss: 0.6796 - accuracy: 0.55 - ETA: 2s - loss: 0.6797 - accuracy: 0.55 - ETA: 2s - loss: 0.6796 - accuracy: 0.55 - ETA: 2s - loss: 0.6796 - accuracy: 0.55 - ETA: 2s - loss: 0.6797 - accuracy: 0.55 - ETA: 2s - loss: 0.6797 - accuracy: 0.55 - ETA: 2s - loss: 0.6797 - accuracy: 0.55 - ETA: 2s - loss: 0.6797 - accuracy: 0.55 - ETA: 2s - loss: 0.6795 - accuracy: 0.56 - ETA: 1s - loss: 0.6796 - accuracy: 0.55 - ETA: 1s - loss: 0.6796 - accuracy: 0.55 - ETA: 1s - loss: 0.6796 - accuracy: 0.55 - ETA: 1s - loss: 0.6796 - accuracy: 0.55 - ETA: 1s - loss: 0.6795 - accuracy: 0.55 - ETA: 1s - loss: 0.6797 - accuracy: 0.55 - ETA: 1s - loss: 0.6796 - accuracy: 0.55 - ETA: 1s - loss: 0.6797 - accuracy: 0.55 - ETA: 1s - loss: 0.6798 - accuracy: 0.55 - ETA: 1s - loss: 0.6798 - accuracy: 0.55 - ETA: 1s - loss: 0.6797 - accuracy: 0.55 - ETA: 1s - loss: 0.6797 - accuracy: 0.55 - ETA: 1s - loss: 0.6797 - accuracy: 0.55 - ETA: 1s - loss: 0.6797 - accuracy: 0.55 - ETA: 0s - loss: 0.6798 - accuracy: 0.55 - ETA: 0s - loss: 0.6797 - accuracy: 0.55 - ETA: 0s - loss: 0.6797 - accuracy: 0.55 - ETA: 0s - loss: 0.6797 - accuracy: 0.55 - ETA: 0s - loss: 0.6797 - accuracy: 0.55 - ETA: 0s - loss: 0.6797 - accuracy: 0.55 - ETA: 0s - loss: 0.6796 - accuracy: 0.55 - ETA: 0s - loss: 0.6795 - accuracy: 0.55 - ETA: 0s - loss: 0.6795 - accuracy: 0.55 - ETA: 0s - loss: 0.6795 - accuracy: 0.55 - ETA: 0s - loss: 0.6795 - accuracy: 0.55 - ETA: 0s - loss: 0.6795 - accuracy: 0.55 - ETA: 0s - loss: 0.6795 - accuracy: 0.55 - ETA: 0s - loss: 0.6796 - accuracy: 0.55 - 11s 284us/step - loss: 0.6796 - accuracy: 0.5592\n",
      "\n",
      "Epoch 00026: loss improved from 0.67993 to 0.67957, saving model to Resultados/7/Checkpoints/word2vec-26-0.6796.hdf5\n",
      "Epoch 27/50\n"
     ]
    },
    {
     "name": "stdout",
     "output_type": "stream",
     "text": [
      "40268/40268 [==============================] - ETA: 8s - loss: 0.6775 - accuracy: 0.55 - ETA: 10s - loss: 0.6790 - accuracy: 0.546 - ETA: 10s - loss: 0.6815 - accuracy: 0.543 - ETA: 10s - loss: 0.6829 - accuracy: 0.552 - ETA: 10s - loss: 0.6815 - accuracy: 0.556 - ETA: 10s - loss: 0.6818 - accuracy: 0.553 - ETA: 10s - loss: 0.6796 - accuracy: 0.558 - ETA: 10s - loss: 0.6793 - accuracy: 0.554 - ETA: 10s - loss: 0.6794 - accuracy: 0.552 - ETA: 10s - loss: 0.6798 - accuracy: 0.551 - ETA: 10s - loss: 0.6793 - accuracy: 0.553 - ETA: 10s - loss: 0.6789 - accuracy: 0.554 - ETA: 10s - loss: 0.6785 - accuracy: 0.555 - ETA: 10s - loss: 0.6774 - accuracy: 0.559 - ETA: 10s - loss: 0.6767 - accuracy: 0.560 - ETA: 10s - loss: 0.6764 - accuracy: 0.563 - ETA: 9s - loss: 0.6764 - accuracy: 0.562 - ETA: 9s - loss: 0.6765 - accuracy: 0.56 - ETA: 9s - loss: 0.6768 - accuracy: 0.56 - ETA: 9s - loss: 0.6773 - accuracy: 0.56 - ETA: 9s - loss: 0.6776 - accuracy: 0.56 - ETA: 9s - loss: 0.6778 - accuracy: 0.56 - ETA: 9s - loss: 0.6779 - accuracy: 0.55 - ETA: 9s - loss: 0.6775 - accuracy: 0.55 - ETA: 9s - loss: 0.6765 - accuracy: 0.56 - ETA: 9s - loss: 0.6765 - accuracy: 0.56 - ETA: 9s - loss: 0.6769 - accuracy: 0.56 - ETA: 9s - loss: 0.6774 - accuracy: 0.56 - ETA: 9s - loss: 0.6775 - accuracy: 0.56 - ETA: 9s - loss: 0.6773 - accuracy: 0.56 - ETA: 9s - loss: 0.6770 - accuracy: 0.56 - ETA: 9s - loss: 0.6771 - accuracy: 0.56 - ETA: 9s - loss: 0.6770 - accuracy: 0.56 - ETA: 9s - loss: 0.6773 - accuracy: 0.56 - ETA: 9s - loss: 0.6772 - accuracy: 0.56 - ETA: 9s - loss: 0.6771 - accuracy: 0.56 - ETA: 8s - loss: 0.6774 - accuracy: 0.56 - ETA: 8s - loss: 0.6771 - accuracy: 0.56 - ETA: 8s - loss: 0.6767 - accuracy: 0.56 - ETA: 8s - loss: 0.6768 - accuracy: 0.56 - ETA: 8s - loss: 0.6764 - accuracy: 0.56 - ETA: 8s - loss: 0.6764 - accuracy: 0.57 - ETA: 8s - loss: 0.6761 - accuracy: 0.57 - ETA: 8s - loss: 0.6762 - accuracy: 0.57 - ETA: 8s - loss: 0.6767 - accuracy: 0.56 - ETA: 8s - loss: 0.6768 - accuracy: 0.56 - ETA: 8s - loss: 0.6768 - accuracy: 0.56 - ETA: 8s - loss: 0.6769 - accuracy: 0.56 - ETA: 8s - loss: 0.6770 - accuracy: 0.56 - ETA: 8s - loss: 0.6768 - accuracy: 0.56 - ETA: 8s - loss: 0.6767 - accuracy: 0.56 - ETA: 8s - loss: 0.6771 - accuracy: 0.56 - ETA: 7s - loss: 0.6771 - accuracy: 0.56 - ETA: 7s - loss: 0.6772 - accuracy: 0.56 - ETA: 7s - loss: 0.6774 - accuracy: 0.56 - ETA: 7s - loss: 0.6773 - accuracy: 0.56 - ETA: 7s - loss: 0.6773 - accuracy: 0.56 - ETA: 7s - loss: 0.6773 - accuracy: 0.56 - ETA: 7s - loss: 0.6774 - accuracy: 0.56 - ETA: 7s - loss: 0.6772 - accuracy: 0.56 - ETA: 7s - loss: 0.6772 - accuracy: 0.56 - ETA: 7s - loss: 0.6773 - accuracy: 0.56 - ETA: 7s - loss: 0.6771 - accuracy: 0.56 - ETA: 7s - loss: 0.6770 - accuracy: 0.56 - ETA: 7s - loss: 0.6772 - accuracy: 0.56 - ETA: 7s - loss: 0.6771 - accuracy: 0.56 - ETA: 6s - loss: 0.6773 - accuracy: 0.56 - ETA: 6s - loss: 0.6774 - accuracy: 0.56 - ETA: 6s - loss: 0.6775 - accuracy: 0.56 - ETA: 6s - loss: 0.6775 - accuracy: 0.56 - ETA: 6s - loss: 0.6774 - accuracy: 0.56 - ETA: 6s - loss: 0.6776 - accuracy: 0.56 - ETA: 6s - loss: 0.6774 - accuracy: 0.56 - ETA: 6s - loss: 0.6772 - accuracy: 0.56 - ETA: 6s - loss: 0.6774 - accuracy: 0.56 - ETA: 6s - loss: 0.6775 - accuracy: 0.56 - ETA: 6s - loss: 0.6773 - accuracy: 0.56 - ETA: 6s - loss: 0.6775 - accuracy: 0.56 - ETA: 6s - loss: 0.6775 - accuracy: 0.56 - ETA: 5s - loss: 0.6775 - accuracy: 0.56 - ETA: 5s - loss: 0.6774 - accuracy: 0.56 - ETA: 5s - loss: 0.6775 - accuracy: 0.56 - ETA: 5s - loss: 0.6776 - accuracy: 0.56 - ETA: 5s - loss: 0.6777 - accuracy: 0.56 - ETA: 5s - loss: 0.6778 - accuracy: 0.56 - ETA: 5s - loss: 0.6777 - accuracy: 0.56 - ETA: 5s - loss: 0.6778 - accuracy: 0.56 - ETA: 5s - loss: 0.6777 - accuracy: 0.56 - ETA: 5s - loss: 0.6776 - accuracy: 0.56 - ETA: 5s - loss: 0.6776 - accuracy: 0.56 - ETA: 5s - loss: 0.6777 - accuracy: 0.56 - ETA: 5s - loss: 0.6777 - accuracy: 0.56 - ETA: 4s - loss: 0.6777 - accuracy: 0.56 - ETA: 4s - loss: 0.6778 - accuracy: 0.56 - ETA: 4s - loss: 0.6777 - accuracy: 0.56 - ETA: 4s - loss: 0.6778 - accuracy: 0.56 - ETA: 4s - loss: 0.6780 - accuracy: 0.56 - ETA: 4s - loss: 0.6780 - accuracy: 0.56 - ETA: 4s - loss: 0.6781 - accuracy: 0.56 - ETA: 4s - loss: 0.6782 - accuracy: 0.56 - ETA: 4s - loss: 0.6783 - accuracy: 0.56 - ETA: 4s - loss: 0.6783 - accuracy: 0.56 - ETA: 4s - loss: 0.6782 - accuracy: 0.56 - ETA: 4s - loss: 0.6783 - accuracy: 0.56 - ETA: 4s - loss: 0.6785 - accuracy: 0.56 - ETA: 3s - loss: 0.6785 - accuracy: 0.56 - ETA: 3s - loss: 0.6785 - accuracy: 0.56 - ETA: 3s - loss: 0.6785 - accuracy: 0.56 - ETA: 3s - loss: 0.6786 - accuracy: 0.56 - ETA: 3s - loss: 0.6786 - accuracy: 0.56 - ETA: 3s - loss: 0.6786 - accuracy: 0.56 - ETA: 3s - loss: 0.6786 - accuracy: 0.56 - ETA: 3s - loss: 0.6787 - accuracy: 0.56 - ETA: 3s - loss: 0.6787 - accuracy: 0.56 - ETA: 3s - loss: 0.6786 - accuracy: 0.56 - ETA: 3s - loss: 0.6787 - accuracy: 0.56 - ETA: 3s - loss: 0.6786 - accuracy: 0.56 - ETA: 2s - loss: 0.6786 - accuracy: 0.56 - ETA: 2s - loss: 0.6786 - accuracy: 0.56 - ETA: 2s - loss: 0.6785 - accuracy: 0.56 - ETA: 2s - loss: 0.6785 - accuracy: 0.56 - ETA: 2s - loss: 0.6785 - accuracy: 0.56 - ETA: 2s - loss: 0.6786 - accuracy: 0.56 - ETA: 2s - loss: 0.6786 - accuracy: 0.56 - ETA: 2s - loss: 0.6787 - accuracy: 0.56 - ETA: 2s - loss: 0.6787 - accuracy: 0.56 - ETA: 2s - loss: 0.6788 - accuracy: 0.56 - ETA: 2s - loss: 0.6789 - accuracy: 0.56 - ETA: 2s - loss: 0.6789 - accuracy: 0.56 - ETA: 2s - loss: 0.6788 - accuracy: 0.56 - ETA: 2s - loss: 0.6789 - accuracy: 0.56 - ETA: 1s - loss: 0.6790 - accuracy: 0.56 - ETA: 1s - loss: 0.6790 - accuracy: 0.56 - ETA: 1s - loss: 0.6790 - accuracy: 0.56 - ETA: 1s - loss: 0.6790 - accuracy: 0.56 - ETA: 1s - loss: 0.6790 - accuracy: 0.56 - ETA: 1s - loss: 0.6790 - accuracy: 0.56 - ETA: 1s - loss: 0.6790 - accuracy: 0.56 - ETA: 1s - loss: 0.6790 - accuracy: 0.56 - ETA: 1s - loss: 0.6790 - accuracy: 0.56 - ETA: 1s - loss: 0.6790 - accuracy: 0.56 - ETA: 1s - loss: 0.6790 - accuracy: 0.56 - ETA: 1s - loss: 0.6790 - accuracy: 0.56 - ETA: 1s - loss: 0.6791 - accuracy: 0.56 - ETA: 0s - loss: 0.6790 - accuracy: 0.56 - ETA: 0s - loss: 0.6791 - accuracy: 0.56 - ETA: 0s - loss: 0.6791 - accuracy: 0.56 - ETA: 0s - loss: 0.6791 - accuracy: 0.56 - ETA: 0s - loss: 0.6791 - accuracy: 0.56 - ETA: 0s - loss: 0.6791 - accuracy: 0.56 - ETA: 0s - loss: 0.6792 - accuracy: 0.56 - ETA: 0s - loss: 0.6791 - accuracy: 0.56 - ETA: 0s - loss: 0.6791 - accuracy: 0.56 - ETA: 0s - loss: 0.6791 - accuracy: 0.56 - ETA: 0s - loss: 0.6789 - accuracy: 0.56 - ETA: 0s - loss: 0.6789 - accuracy: 0.56 - ETA: 0s - loss: 0.6789 - accuracy: 0.56 - 12s 296us/step - loss: 0.6790 - accuracy: 0.5619\n",
      "\n",
      "Epoch 00027: loss improved from 0.67957 to 0.67900, saving model to Resultados/7/Checkpoints/word2vec-27-0.6790.hdf5\n",
      "Epoch 28/50\n"
     ]
    },
    {
     "name": "stdout",
     "output_type": "stream",
     "text": [
      "40268/40268 [==============================] - ETA: 10s - loss: 0.6762 - accuracy: 0.578 - ETA: 10s - loss: 0.6778 - accuracy: 0.584 - ETA: 10s - loss: 0.6777 - accuracy: 0.576 - ETA: 10s - loss: 0.6767 - accuracy: 0.585 - ETA: 10s - loss: 0.6756 - accuracy: 0.582 - ETA: 10s - loss: 0.6739 - accuracy: 0.592 - ETA: 10s - loss: 0.6761 - accuracy: 0.580 - ETA: 10s - loss: 0.6765 - accuracy: 0.577 - ETA: 10s - loss: 0.6762 - accuracy: 0.573 - ETA: 10s - loss: 0.6756 - accuracy: 0.571 - ETA: 10s - loss: 0.6766 - accuracy: 0.570 - ETA: 10s - loss: 0.6765 - accuracy: 0.568 - ETA: 10s - loss: 0.6756 - accuracy: 0.569 - ETA: 10s - loss: 0.6745 - accuracy: 0.575 - ETA: 10s - loss: 0.6756 - accuracy: 0.571 - ETA: 10s - loss: 0.6767 - accuracy: 0.568 - ETA: 9s - loss: 0.6773 - accuracy: 0.566 - ETA: 9s - loss: 0.6776 - accuracy: 0.56 - ETA: 9s - loss: 0.6774 - accuracy: 0.56 - ETA: 9s - loss: 0.6769 - accuracy: 0.56 - ETA: 9s - loss: 0.6764 - accuracy: 0.56 - ETA: 9s - loss: 0.6772 - accuracy: 0.56 - ETA: 9s - loss: 0.6767 - accuracy: 0.56 - ETA: 9s - loss: 0.6770 - accuracy: 0.56 - ETA: 9s - loss: 0.6759 - accuracy: 0.57 - ETA: 9s - loss: 0.6761 - accuracy: 0.57 - ETA: 9s - loss: 0.6760 - accuracy: 0.57 - ETA: 9s - loss: 0.6755 - accuracy: 0.57 - ETA: 9s - loss: 0.6752 - accuracy: 0.57 - ETA: 9s - loss: 0.6749 - accuracy: 0.57 - ETA: 9s - loss: 0.6754 - accuracy: 0.57 - ETA: 8s - loss: 0.6758 - accuracy: 0.57 - ETA: 8s - loss: 0.6756 - accuracy: 0.57 - ETA: 8s - loss: 0.6756 - accuracy: 0.57 - ETA: 8s - loss: 0.6757 - accuracy: 0.57 - ETA: 8s - loss: 0.6755 - accuracy: 0.57 - ETA: 8s - loss: 0.6755 - accuracy: 0.57 - ETA: 8s - loss: 0.6754 - accuracy: 0.57 - ETA: 8s - loss: 0.6753 - accuracy: 0.57 - ETA: 8s - loss: 0.6750 - accuracy: 0.57 - ETA: 8s - loss: 0.6749 - accuracy: 0.57 - ETA: 8s - loss: 0.6748 - accuracy: 0.57 - ETA: 8s - loss: 0.6750 - accuracy: 0.57 - ETA: 8s - loss: 0.6754 - accuracy: 0.57 - ETA: 8s - loss: 0.6758 - accuracy: 0.57 - ETA: 7s - loss: 0.6757 - accuracy: 0.57 - ETA: 7s - loss: 0.6760 - accuracy: 0.57 - ETA: 7s - loss: 0.6762 - accuracy: 0.57 - ETA: 7s - loss: 0.6762 - accuracy: 0.57 - ETA: 7s - loss: 0.6764 - accuracy: 0.57 - ETA: 7s - loss: 0.6763 - accuracy: 0.57 - ETA: 7s - loss: 0.6764 - accuracy: 0.57 - ETA: 7s - loss: 0.6767 - accuracy: 0.56 - ETA: 7s - loss: 0.6769 - accuracy: 0.56 - ETA: 7s - loss: 0.6768 - accuracy: 0.56 - ETA: 7s - loss: 0.6768 - accuracy: 0.56 - ETA: 7s - loss: 0.6768 - accuracy: 0.56 - ETA: 7s - loss: 0.6767 - accuracy: 0.56 - ETA: 6s - loss: 0.6766 - accuracy: 0.56 - ETA: 6s - loss: 0.6768 - accuracy: 0.56 - ETA: 6s - loss: 0.6768 - accuracy: 0.56 - ETA: 6s - loss: 0.6765 - accuracy: 0.56 - ETA: 6s - loss: 0.6765 - accuracy: 0.56 - ETA: 6s - loss: 0.6768 - accuracy: 0.56 - ETA: 6s - loss: 0.6770 - accuracy: 0.56 - ETA: 6s - loss: 0.6768 - accuracy: 0.56 - ETA: 6s - loss: 0.6769 - accuracy: 0.56 - ETA: 6s - loss: 0.6767 - accuracy: 0.56 - ETA: 6s - loss: 0.6766 - accuracy: 0.56 - ETA: 6s - loss: 0.6766 - accuracy: 0.56 - ETA: 6s - loss: 0.6766 - accuracy: 0.56 - ETA: 6s - loss: 0.6765 - accuracy: 0.56 - ETA: 6s - loss: 0.6763 - accuracy: 0.56 - ETA: 5s - loss: 0.6764 - accuracy: 0.56 - ETA: 5s - loss: 0.6767 - accuracy: 0.56 - ETA: 5s - loss: 0.6767 - accuracy: 0.56 - ETA: 5s - loss: 0.6766 - accuracy: 0.56 - ETA: 5s - loss: 0.6765 - accuracy: 0.56 - ETA: 5s - loss: 0.6765 - accuracy: 0.56 - ETA: 5s - loss: 0.6767 - accuracy: 0.56 - ETA: 5s - loss: 0.6768 - accuracy: 0.56 - ETA: 5s - loss: 0.6770 - accuracy: 0.56 - ETA: 5s - loss: 0.6771 - accuracy: 0.56 - ETA: 5s - loss: 0.6773 - accuracy: 0.56 - ETA: 5s - loss: 0.6774 - accuracy: 0.56 - ETA: 5s - loss: 0.6775 - accuracy: 0.56 - ETA: 5s - loss: 0.6776 - accuracy: 0.56 - ETA: 4s - loss: 0.6775 - accuracy: 0.56 - ETA: 4s - loss: 0.6776 - accuracy: 0.56 - ETA: 4s - loss: 0.6775 - accuracy: 0.56 - ETA: 4s - loss: 0.6774 - accuracy: 0.56 - ETA: 4s - loss: 0.6773 - accuracy: 0.56 - ETA: 4s - loss: 0.6772 - accuracy: 0.56 - ETA: 4s - loss: 0.6772 - accuracy: 0.56 - ETA: 4s - loss: 0.6772 - accuracy: 0.56 - ETA: 4s - loss: 0.6772 - accuracy: 0.56 - ETA: 4s - loss: 0.6772 - accuracy: 0.56 - ETA: 4s - loss: 0.6773 - accuracy: 0.56 - ETA: 4s - loss: 0.6772 - accuracy: 0.56 - ETA: 4s - loss: 0.6773 - accuracy: 0.56 - ETA: 4s - loss: 0.6773 - accuracy: 0.56 - ETA: 3s - loss: 0.6775 - accuracy: 0.56 - ETA: 3s - loss: 0.6774 - accuracy: 0.56 - ETA: 3s - loss: 0.6772 - accuracy: 0.56 - ETA: 3s - loss: 0.6773 - accuracy: 0.56 - ETA: 3s - loss: 0.6773 - accuracy: 0.56 - ETA: 3s - loss: 0.6773 - accuracy: 0.56 - ETA: 3s - loss: 0.6772 - accuracy: 0.56 - ETA: 3s - loss: 0.6772 - accuracy: 0.56 - ETA: 3s - loss: 0.6773 - accuracy: 0.56 - ETA: 3s - loss: 0.6774 - accuracy: 0.56 - ETA: 3s - loss: 0.6774 - accuracy: 0.56 - ETA: 3s - loss: 0.6774 - accuracy: 0.56 - ETA: 3s - loss: 0.6775 - accuracy: 0.56 - ETA: 3s - loss: 0.6775 - accuracy: 0.56 - ETA: 2s - loss: 0.6775 - accuracy: 0.56 - ETA: 2s - loss: 0.6775 - accuracy: 0.56 - ETA: 2s - loss: 0.6775 - accuracy: 0.56 - ETA: 2s - loss: 0.6775 - accuracy: 0.56 - ETA: 2s - loss: 0.6776 - accuracy: 0.56 - ETA: 2s - loss: 0.6777 - accuracy: 0.56 - ETA: 2s - loss: 0.6778 - accuracy: 0.56 - ETA: 2s - loss: 0.6778 - accuracy: 0.56 - ETA: 2s - loss: 0.6778 - accuracy: 0.56 - ETA: 2s - loss: 0.6778 - accuracy: 0.56 - ETA: 2s - loss: 0.6778 - accuracy: 0.56 - ETA: 2s - loss: 0.6777 - accuracy: 0.56 - ETA: 2s - loss: 0.6776 - accuracy: 0.56 - ETA: 2s - loss: 0.6775 - accuracy: 0.56 - ETA: 1s - loss: 0.6773 - accuracy: 0.56 - ETA: 1s - loss: 0.6773 - accuracy: 0.56 - ETA: 1s - loss: 0.6773 - accuracy: 0.56 - ETA: 1s - loss: 0.6775 - accuracy: 0.56 - ETA: 1s - loss: 0.6774 - accuracy: 0.56 - ETA: 1s - loss: 0.6773 - accuracy: 0.56 - ETA: 1s - loss: 0.6774 - accuracy: 0.56 - ETA: 1s - loss: 0.6774 - accuracy: 0.56 - ETA: 1s - loss: 0.6774 - accuracy: 0.56 - ETA: 1s - loss: 0.6774 - accuracy: 0.56 - ETA: 1s - loss: 0.6775 - accuracy: 0.56 - ETA: 1s - loss: 0.6776 - accuracy: 0.56 - ETA: 1s - loss: 0.6776 - accuracy: 0.56 - ETA: 1s - loss: 0.6777 - accuracy: 0.56 - ETA: 0s - loss: 0.6778 - accuracy: 0.56 - ETA: 0s - loss: 0.6775 - accuracy: 0.56 - ETA: 0s - loss: 0.6776 - accuracy: 0.56 - ETA: 0s - loss: 0.6777 - accuracy: 0.56 - ETA: 0s - loss: 0.6777 - accuracy: 0.56 - ETA: 0s - loss: 0.6778 - accuracy: 0.56 - ETA: 0s - loss: 0.6778 - accuracy: 0.56 - ETA: 0s - loss: 0.6777 - accuracy: 0.56 - ETA: 0s - loss: 0.6778 - accuracy: 0.56 - ETA: 0s - loss: 0.6777 - accuracy: 0.56 - ETA: 0s - loss: 0.6776 - accuracy: 0.56 - ETA: 0s - loss: 0.6776 - accuracy: 0.56 - ETA: 0s - loss: 0.6777 - accuracy: 0.56 - ETA: 0s - loss: 0.6777 - accuracy: 0.56 - 11s 281us/step - loss: 0.6777 - accuracy: 0.5661\n",
      "\n",
      "Epoch 00028: loss improved from 0.67900 to 0.67765, saving model to Resultados/7/Checkpoints/word2vec-28-0.6777.hdf5\n",
      "Epoch 29/50\n"
     ]
    },
    {
     "name": "stdout",
     "output_type": "stream",
     "text": [
      "40268/40268 [==============================] - ETA: 10s - loss: 0.6792 - accuracy: 0.582 - ETA: 10s - loss: 0.6742 - accuracy: 0.587 - ETA: 10s - loss: 0.6776 - accuracy: 0.579 - ETA: 10s - loss: 0.6740 - accuracy: 0.581 - ETA: 10s - loss: 0.6756 - accuracy: 0.576 - ETA: 10s - loss: 0.6782 - accuracy: 0.571 - ETA: 10s - loss: 0.6772 - accuracy: 0.574 - ETA: 10s - loss: 0.6763 - accuracy: 0.578 - ETA: 10s - loss: 0.6739 - accuracy: 0.584 - ETA: 10s - loss: 0.6746 - accuracy: 0.582 - ETA: 10s - loss: 0.6741 - accuracy: 0.582 - ETA: 10s - loss: 0.6728 - accuracy: 0.584 - ETA: 10s - loss: 0.6733 - accuracy: 0.584 - ETA: 10s - loss: 0.6735 - accuracy: 0.582 - ETA: 10s - loss: 0.6737 - accuracy: 0.584 - ETA: 10s - loss: 0.6741 - accuracy: 0.582 - ETA: 10s - loss: 0.6741 - accuracy: 0.583 - ETA: 10s - loss: 0.6732 - accuracy: 0.584 - ETA: 9s - loss: 0.6727 - accuracy: 0.585 - ETA: 9s - loss: 0.6722 - accuracy: 0.58 - ETA: 9s - loss: 0.6738 - accuracy: 0.58 - ETA: 9s - loss: 0.6737 - accuracy: 0.57 - ETA: 9s - loss: 0.6751 - accuracy: 0.57 - ETA: 9s - loss: 0.6754 - accuracy: 0.57 - ETA: 9s - loss: 0.6760 - accuracy: 0.57 - ETA: 9s - loss: 0.6760 - accuracy: 0.57 - ETA: 9s - loss: 0.6757 - accuracy: 0.57 - ETA: 9s - loss: 0.6755 - accuracy: 0.57 - ETA: 9s - loss: 0.6752 - accuracy: 0.57 - ETA: 9s - loss: 0.6758 - accuracy: 0.57 - ETA: 9s - loss: 0.6758 - accuracy: 0.57 - ETA: 8s - loss: 0.6761 - accuracy: 0.57 - ETA: 8s - loss: 0.6763 - accuracy: 0.57 - ETA: 8s - loss: 0.6761 - accuracy: 0.56 - ETA: 8s - loss: 0.6766 - accuracy: 0.56 - ETA: 8s - loss: 0.6764 - accuracy: 0.56 - ETA: 8s - loss: 0.6764 - accuracy: 0.56 - ETA: 8s - loss: 0.6760 - accuracy: 0.56 - ETA: 8s - loss: 0.6761 - accuracy: 0.56 - ETA: 8s - loss: 0.6762 - accuracy: 0.56 - ETA: 8s - loss: 0.6764 - accuracy: 0.56 - ETA: 8s - loss: 0.6761 - accuracy: 0.56 - ETA: 8s - loss: 0.6760 - accuracy: 0.56 - ETA: 8s - loss: 0.6758 - accuracy: 0.56 - ETA: 7s - loss: 0.6757 - accuracy: 0.56 - ETA: 7s - loss: 0.6758 - accuracy: 0.56 - ETA: 7s - loss: 0.6758 - accuracy: 0.56 - ETA: 7s - loss: 0.6760 - accuracy: 0.56 - ETA: 7s - loss: 0.6762 - accuracy: 0.56 - ETA: 7s - loss: 0.6767 - accuracy: 0.56 - ETA: 7s - loss: 0.6767 - accuracy: 0.56 - ETA: 7s - loss: 0.6768 - accuracy: 0.56 - ETA: 7s - loss: 0.6772 - accuracy: 0.56 - ETA: 7s - loss: 0.6772 - accuracy: 0.56 - ETA: 7s - loss: 0.6772 - accuracy: 0.56 - ETA: 7s - loss: 0.6770 - accuracy: 0.56 - ETA: 7s - loss: 0.6769 - accuracy: 0.56 - ETA: 7s - loss: 0.6770 - accuracy: 0.56 - ETA: 7s - loss: 0.6771 - accuracy: 0.56 - ETA: 6s - loss: 0.6770 - accuracy: 0.56 - ETA: 6s - loss: 0.6770 - accuracy: 0.56 - ETA: 6s - loss: 0.6772 - accuracy: 0.56 - ETA: 6s - loss: 0.6773 - accuracy: 0.56 - ETA: 6s - loss: 0.6773 - accuracy: 0.56 - ETA: 6s - loss: 0.6774 - accuracy: 0.56 - ETA: 6s - loss: 0.6770 - accuracy: 0.56 - ETA: 6s - loss: 0.6771 - accuracy: 0.56 - ETA: 6s - loss: 0.6773 - accuracy: 0.56 - ETA: 6s - loss: 0.6776 - accuracy: 0.56 - ETA: 6s - loss: 0.6777 - accuracy: 0.56 - ETA: 6s - loss: 0.6774 - accuracy: 0.56 - ETA: 6s - loss: 0.6775 - accuracy: 0.56 - ETA: 6s - loss: 0.6777 - accuracy: 0.56 - ETA: 5s - loss: 0.6777 - accuracy: 0.56 - ETA: 5s - loss: 0.6778 - accuracy: 0.56 - ETA: 5s - loss: 0.6780 - accuracy: 0.56 - ETA: 5s - loss: 0.6780 - accuracy: 0.56 - ETA: 5s - loss: 0.6779 - accuracy: 0.56 - ETA: 5s - loss: 0.6777 - accuracy: 0.56 - ETA: 5s - loss: 0.6776 - accuracy: 0.56 - ETA: 5s - loss: 0.6776 - accuracy: 0.56 - ETA: 5s - loss: 0.6775 - accuracy: 0.56 - ETA: 5s - loss: 0.6776 - accuracy: 0.56 - ETA: 5s - loss: 0.6775 - accuracy: 0.56 - ETA: 5s - loss: 0.6774 - accuracy: 0.56 - ETA: 5s - loss: 0.6774 - accuracy: 0.56 - ETA: 5s - loss: 0.6773 - accuracy: 0.56 - ETA: 4s - loss: 0.6773 - accuracy: 0.56 - ETA: 4s - loss: 0.6772 - accuracy: 0.56 - ETA: 4s - loss: 0.6771 - accuracy: 0.56 - ETA: 4s - loss: 0.6771 - accuracy: 0.56 - ETA: 4s - loss: 0.6771 - accuracy: 0.56 - ETA: 4s - loss: 0.6772 - accuracy: 0.56 - ETA: 4s - loss: 0.6771 - accuracy: 0.56 - ETA: 4s - loss: 0.6774 - accuracy: 0.56 - ETA: 4s - loss: 0.6776 - accuracy: 0.56 - ETA: 4s - loss: 0.6776 - accuracy: 0.56 - ETA: 4s - loss: 0.6775 - accuracy: 0.56 - ETA: 4s - loss: 0.6774 - accuracy: 0.56 - ETA: 4s - loss: 0.6775 - accuracy: 0.56 - ETA: 4s - loss: 0.6775 - accuracy: 0.56 - ETA: 4s - loss: 0.6775 - accuracy: 0.56 - ETA: 4s - loss: 0.6776 - accuracy: 0.56 - ETA: 3s - loss: 0.6775 - accuracy: 0.56 - ETA: 3s - loss: 0.6773 - accuracy: 0.56 - ETA: 3s - loss: 0.6774 - accuracy: 0.56 - ETA: 3s - loss: 0.6774 - accuracy: 0.56 - ETA: 3s - loss: 0.6775 - accuracy: 0.56 - ETA: 3s - loss: 0.6775 - accuracy: 0.56 - ETA: 3s - loss: 0.6773 - accuracy: 0.56 - ETA: 3s - loss: 0.6773 - accuracy: 0.56 - ETA: 3s - loss: 0.6773 - accuracy: 0.56 - ETA: 3s - loss: 0.6775 - accuracy: 0.56 - ETA: 3s - loss: 0.6774 - accuracy: 0.56 - ETA: 3s - loss: 0.6776 - accuracy: 0.56 - ETA: 3s - loss: 0.6777 - accuracy: 0.56 - ETA: 3s - loss: 0.6777 - accuracy: 0.56 - ETA: 2s - loss: 0.6778 - accuracy: 0.56 - ETA: 2s - loss: 0.6778 - accuracy: 0.56 - ETA: 2s - loss: 0.6778 - accuracy: 0.56 - ETA: 2s - loss: 0.6779 - accuracy: 0.56 - ETA: 2s - loss: 0.6779 - accuracy: 0.56 - ETA: 2s - loss: 0.6779 - accuracy: 0.56 - ETA: 2s - loss: 0.6779 - accuracy: 0.56 - ETA: 2s - loss: 0.6779 - accuracy: 0.56 - ETA: 2s - loss: 0.6779 - accuracy: 0.56 - ETA: 2s - loss: 0.6779 - accuracy: 0.56 - ETA: 2s - loss: 0.6778 - accuracy: 0.56 - ETA: 2s - loss: 0.6777 - accuracy: 0.56 - ETA: 2s - loss: 0.6778 - accuracy: 0.56 - ETA: 2s - loss: 0.6777 - accuracy: 0.56 - ETA: 1s - loss: 0.6778 - accuracy: 0.56 - ETA: 1s - loss: 0.6777 - accuracy: 0.56 - ETA: 1s - loss: 0.6777 - accuracy: 0.56 - ETA: 1s - loss: 0.6776 - accuracy: 0.56 - ETA: 1s - loss: 0.6776 - accuracy: 0.56 - ETA: 1s - loss: 0.6774 - accuracy: 0.56 - ETA: 1s - loss: 0.6774 - accuracy: 0.56 - ETA: 1s - loss: 0.6773 - accuracy: 0.56 - ETA: 1s - loss: 0.6773 - accuracy: 0.56 - ETA: 1s - loss: 0.6773 - accuracy: 0.56 - ETA: 1s - loss: 0.6771 - accuracy: 0.56 - ETA: 1s - loss: 0.6770 - accuracy: 0.56 - ETA: 1s - loss: 0.6769 - accuracy: 0.56 - ETA: 0s - loss: 0.6768 - accuracy: 0.56 - ETA: 0s - loss: 0.6769 - accuracy: 0.56 - ETA: 0s - loss: 0.6769 - accuracy: 0.56 - ETA: 0s - loss: 0.6770 - accuracy: 0.56 - ETA: 0s - loss: 0.6771 - accuracy: 0.56 - ETA: 0s - loss: 0.6770 - accuracy: 0.56 - ETA: 0s - loss: 0.6769 - accuracy: 0.56 - ETA: 0s - loss: 0.6768 - accuracy: 0.56 - ETA: 0s - loss: 0.6768 - accuracy: 0.56 - ETA: 0s - loss: 0.6768 - accuracy: 0.56 - ETA: 0s - loss: 0.6767 - accuracy: 0.56 - ETA: 0s - loss: 0.6768 - accuracy: 0.56 - ETA: 0s - loss: 0.6769 - accuracy: 0.56 - 12s 306us/step - loss: 0.6770 - accuracy: 0.5637\n",
      "\n",
      "Epoch 00029: loss improved from 0.67765 to 0.67697, saving model to Resultados/7/Checkpoints/word2vec-29-0.6770.hdf5\n",
      "Epoch 30/50\n"
     ]
    },
    {
     "name": "stdout",
     "output_type": "stream",
     "text": [
      "40268/40268 [==============================] - ETA: 10s - loss: 0.6672 - accuracy: 0.574 - ETA: 11s - loss: 0.6678 - accuracy: 0.576 - ETA: 12s - loss: 0.6696 - accuracy: 0.570 - ETA: 12s - loss: 0.6730 - accuracy: 0.570 - ETA: 12s - loss: 0.6710 - accuracy: 0.569 - ETA: 12s - loss: 0.6763 - accuracy: 0.557 - ETA: 12s - loss: 0.6751 - accuracy: 0.559 - ETA: 12s - loss: 0.6741 - accuracy: 0.566 - ETA: 12s - loss: 0.6719 - accuracy: 0.572 - ETA: 12s - loss: 0.6734 - accuracy: 0.566 - ETA: 12s - loss: 0.6742 - accuracy: 0.563 - ETA: 12s - loss: 0.6737 - accuracy: 0.567 - ETA: 12s - loss: 0.6745 - accuracy: 0.565 - ETA: 12s - loss: 0.6747 - accuracy: 0.565 - ETA: 12s - loss: 0.6749 - accuracy: 0.565 - ETA: 12s - loss: 0.6756 - accuracy: 0.564 - ETA: 11s - loss: 0.6761 - accuracy: 0.563 - ETA: 11s - loss: 0.6762 - accuracy: 0.561 - ETA: 11s - loss: 0.6751 - accuracy: 0.563 - ETA: 11s - loss: 0.6749 - accuracy: 0.563 - ETA: 11s - loss: 0.6748 - accuracy: 0.563 - ETA: 11s - loss: 0.6750 - accuracy: 0.564 - ETA: 11s - loss: 0.6747 - accuracy: 0.567 - ETA: 11s - loss: 0.6740 - accuracy: 0.569 - ETA: 11s - loss: 0.6737 - accuracy: 0.569 - ETA: 11s - loss: 0.6732 - accuracy: 0.570 - ETA: 10s - loss: 0.6738 - accuracy: 0.568 - ETA: 10s - loss: 0.6740 - accuracy: 0.569 - ETA: 10s - loss: 0.6741 - accuracy: 0.568 - ETA: 10s - loss: 0.6745 - accuracy: 0.568 - ETA: 10s - loss: 0.6749 - accuracy: 0.568 - ETA: 10s - loss: 0.6752 - accuracy: 0.568 - ETA: 10s - loss: 0.6753 - accuracy: 0.568 - ETA: 10s - loss: 0.6752 - accuracy: 0.568 - ETA: 10s - loss: 0.6754 - accuracy: 0.569 - ETA: 10s - loss: 0.6751 - accuracy: 0.570 - ETA: 9s - loss: 0.6754 - accuracy: 0.569 - ETA: 9s - loss: 0.6757 - accuracy: 0.56 - ETA: 9s - loss: 0.6757 - accuracy: 0.56 - ETA: 9s - loss: 0.6758 - accuracy: 0.56 - ETA: 9s - loss: 0.6754 - accuracy: 0.56 - ETA: 9s - loss: 0.6757 - accuracy: 0.56 - ETA: 9s - loss: 0.6756 - accuracy: 0.56 - ETA: 9s - loss: 0.6754 - accuracy: 0.56 - ETA: 9s - loss: 0.6753 - accuracy: 0.56 - ETA: 9s - loss: 0.6757 - accuracy: 0.56 - ETA: 9s - loss: 0.6760 - accuracy: 0.56 - ETA: 9s - loss: 0.6759 - accuracy: 0.56 - ETA: 8s - loss: 0.6757 - accuracy: 0.56 - ETA: 8s - loss: 0.6756 - accuracy: 0.56 - ETA: 8s - loss: 0.6756 - accuracy: 0.56 - ETA: 8s - loss: 0.6757 - accuracy: 0.56 - ETA: 8s - loss: 0.6758 - accuracy: 0.56 - ETA: 8s - loss: 0.6757 - accuracy: 0.56 - ETA: 8s - loss: 0.6754 - accuracy: 0.56 - ETA: 8s - loss: 0.6754 - accuracy: 0.56 - ETA: 8s - loss: 0.6754 - accuracy: 0.56 - ETA: 8s - loss: 0.6754 - accuracy: 0.56 - ETA: 8s - loss: 0.6757 - accuracy: 0.56 - ETA: 7s - loss: 0.6759 - accuracy: 0.56 - ETA: 7s - loss: 0.6759 - accuracy: 0.56 - ETA: 7s - loss: 0.6761 - accuracy: 0.56 - ETA: 7s - loss: 0.6762 - accuracy: 0.56 - ETA: 7s - loss: 0.6761 - accuracy: 0.56 - ETA: 7s - loss: 0.6759 - accuracy: 0.56 - ETA: 7s - loss: 0.6760 - accuracy: 0.56 - ETA: 7s - loss: 0.6757 - accuracy: 0.56 - ETA: 7s - loss: 0.6761 - accuracy: 0.56 - ETA: 7s - loss: 0.6762 - accuracy: 0.56 - ETA: 7s - loss: 0.6762 - accuracy: 0.56 - ETA: 7s - loss: 0.6759 - accuracy: 0.56 - ETA: 6s - loss: 0.6757 - accuracy: 0.57 - ETA: 6s - loss: 0.6759 - accuracy: 0.56 - ETA: 6s - loss: 0.6758 - accuracy: 0.57 - ETA: 6s - loss: 0.6758 - accuracy: 0.56 - ETA: 6s - loss: 0.6758 - accuracy: 0.57 - ETA: 6s - loss: 0.6759 - accuracy: 0.56 - ETA: 6s - loss: 0.6758 - accuracy: 0.57 - ETA: 6s - loss: 0.6757 - accuracy: 0.56 - ETA: 6s - loss: 0.6757 - accuracy: 0.57 - ETA: 6s - loss: 0.6758 - accuracy: 0.56 - ETA: 6s - loss: 0.6757 - accuracy: 0.56 - ETA: 6s - loss: 0.6758 - accuracy: 0.56 - ETA: 5s - loss: 0.6759 - accuracy: 0.56 - ETA: 5s - loss: 0.6759 - accuracy: 0.56 - ETA: 5s - loss: 0.6760 - accuracy: 0.56 - ETA: 5s - loss: 0.6760 - accuracy: 0.56 - ETA: 5s - loss: 0.6762 - accuracy: 0.56 - ETA: 5s - loss: 0.6763 - accuracy: 0.56 - ETA: 5s - loss: 0.6762 - accuracy: 0.56 - ETA: 5s - loss: 0.6764 - accuracy: 0.56 - ETA: 5s - loss: 0.6765 - accuracy: 0.56 - ETA: 5s - loss: 0.6764 - accuracy: 0.56 - ETA: 5s - loss: 0.6764 - accuracy: 0.56 - ETA: 5s - loss: 0.6763 - accuracy: 0.56 - ETA: 4s - loss: 0.6764 - accuracy: 0.56 - ETA: 4s - loss: 0.6764 - accuracy: 0.56 - ETA: 4s - loss: 0.6762 - accuracy: 0.56 - ETA: 4s - loss: 0.6761 - accuracy: 0.56 - ETA: 4s - loss: 0.6760 - accuracy: 0.56 - ETA: 4s - loss: 0.6760 - accuracy: 0.56 - ETA: 4s - loss: 0.6763 - accuracy: 0.56 - ETA: 4s - loss: 0.6763 - accuracy: 0.56 - ETA: 4s - loss: 0.6763 - accuracy: 0.56 - ETA: 4s - loss: 0.6764 - accuracy: 0.56 - ETA: 4s - loss: 0.6764 - accuracy: 0.56 - ETA: 4s - loss: 0.6765 - accuracy: 0.56 - ETA: 3s - loss: 0.6766 - accuracy: 0.56 - ETA: 3s - loss: 0.6767 - accuracy: 0.56 - ETA: 3s - loss: 0.6769 - accuracy: 0.56 - ETA: 3s - loss: 0.6769 - accuracy: 0.56 - ETA: 3s - loss: 0.6768 - accuracy: 0.56 - ETA: 3s - loss: 0.6767 - accuracy: 0.56 - ETA: 3s - loss: 0.6768 - accuracy: 0.56 - ETA: 3s - loss: 0.6768 - accuracy: 0.56 - ETA: 3s - loss: 0.6769 - accuracy: 0.56 - ETA: 3s - loss: 0.6768 - accuracy: 0.56 - ETA: 3s - loss: 0.6769 - accuracy: 0.56 - ETA: 3s - loss: 0.6768 - accuracy: 0.56 - ETA: 2s - loss: 0.6769 - accuracy: 0.56 - ETA: 2s - loss: 0.6767 - accuracy: 0.56 - ETA: 2s - loss: 0.6767 - accuracy: 0.56 - ETA: 2s - loss: 0.6768 - accuracy: 0.56 - ETA: 2s - loss: 0.6768 - accuracy: 0.56 - ETA: 2s - loss: 0.6766 - accuracy: 0.56 - ETA: 2s - loss: 0.6765 - accuracy: 0.56 - ETA: 2s - loss: 0.6765 - accuracy: 0.56 - ETA: 2s - loss: 0.6766 - accuracy: 0.56 - ETA: 2s - loss: 0.6766 - accuracy: 0.56 - ETA: 2s - loss: 0.6765 - accuracy: 0.56 - ETA: 2s - loss: 0.6766 - accuracy: 0.56 - ETA: 2s - loss: 0.6768 - accuracy: 0.56 - ETA: 1s - loss: 0.6768 - accuracy: 0.56 - ETA: 1s - loss: 0.6767 - accuracy: 0.56 - ETA: 1s - loss: 0.6767 - accuracy: 0.56 - ETA: 1s - loss: 0.6766 - accuracy: 0.56 - ETA: 1s - loss: 0.6766 - accuracy: 0.56 - ETA: 1s - loss: 0.6766 - accuracy: 0.56 - ETA: 1s - loss: 0.6766 - accuracy: 0.56 - ETA: 1s - loss: 0.6766 - accuracy: 0.56 - ETA: 1s - loss: 0.6767 - accuracy: 0.56 - ETA: 1s - loss: 0.6767 - accuracy: 0.56 - ETA: 1s - loss: 0.6767 - accuracy: 0.56 - ETA: 1s - loss: 0.6767 - accuracy: 0.56 - ETA: 0s - loss: 0.6767 - accuracy: 0.56 - ETA: 0s - loss: 0.6766 - accuracy: 0.56 - ETA: 0s - loss: 0.6766 - accuracy: 0.56 - ETA: 0s - loss: 0.6766 - accuracy: 0.56 - ETA: 0s - loss: 0.6765 - accuracy: 0.56 - ETA: 0s - loss: 0.6766 - accuracy: 0.56 - ETA: 0s - loss: 0.6765 - accuracy: 0.56 - ETA: 0s - loss: 0.6765 - accuracy: 0.56 - ETA: 0s - loss: 0.6764 - accuracy: 0.56 - ETA: 0s - loss: 0.6765 - accuracy: 0.56 - ETA: 0s - loss: 0.6765 - accuracy: 0.56 - ETA: 0s - loss: 0.6766 - accuracy: 0.56 - ETA: 0s - loss: 0.6766 - accuracy: 0.56 - 13s 313us/step - loss: 0.6766 - accuracy: 0.5676\n",
      "\n",
      "Epoch 00030: loss improved from 0.67697 to 0.67660, saving model to Resultados/7/Checkpoints/word2vec-30-0.6766.hdf5\n",
      "Epoch 31/50\n"
     ]
    },
    {
     "name": "stdout",
     "output_type": "stream",
     "text": [
      "40268/40268 [==============================] - ETA: 9s - loss: 0.6749 - accuracy: 0.58 - ETA: 9s - loss: 0.6798 - accuracy: 0.56 - ETA: 10s - loss: 0.6759 - accuracy: 0.566 - ETA: 10s - loss: 0.6763 - accuracy: 0.562 - ETA: 10s - loss: 0.6810 - accuracy: 0.548 - ETA: 10s - loss: 0.6828 - accuracy: 0.550 - ETA: 10s - loss: 0.6824 - accuracy: 0.558 - ETA: 10s - loss: 0.6821 - accuracy: 0.564 - ETA: 10s - loss: 0.6822 - accuracy: 0.561 - ETA: 10s - loss: 0.6824 - accuracy: 0.559 - ETA: 10s - loss: 0.6810 - accuracy: 0.561 - ETA: 10s - loss: 0.6802 - accuracy: 0.564 - ETA: 10s - loss: 0.6803 - accuracy: 0.561 - ETA: 10s - loss: 0.6802 - accuracy: 0.561 - ETA: 10s - loss: 0.6799 - accuracy: 0.562 - ETA: 10s - loss: 0.6799 - accuracy: 0.561 - ETA: 10s - loss: 0.6789 - accuracy: 0.562 - ETA: 10s - loss: 0.6782 - accuracy: 0.562 - ETA: 10s - loss: 0.6775 - accuracy: 0.561 - ETA: 10s - loss: 0.6770 - accuracy: 0.563 - ETA: 10s - loss: 0.6770 - accuracy: 0.562 - ETA: 10s - loss: 0.6767 - accuracy: 0.561 - ETA: 10s - loss: 0.6773 - accuracy: 0.559 - ETA: 9s - loss: 0.6771 - accuracy: 0.559 - ETA: 9s - loss: 0.6767 - accuracy: 0.55 - ETA: 9s - loss: 0.6769 - accuracy: 0.55 - ETA: 9s - loss: 0.6774 - accuracy: 0.55 - ETA: 9s - loss: 0.6780 - accuracy: 0.55 - ETA: 9s - loss: 0.6778 - accuracy: 0.55 - ETA: 9s - loss: 0.6774 - accuracy: 0.55 - ETA: 9s - loss: 0.6780 - accuracy: 0.55 - ETA: 9s - loss: 0.6778 - accuracy: 0.55 - ETA: 9s - loss: 0.6779 - accuracy: 0.55 - ETA: 9s - loss: 0.6777 - accuracy: 0.55 - ETA: 9s - loss: 0.6771 - accuracy: 0.55 - ETA: 8s - loss: 0.6763 - accuracy: 0.56 - ETA: 8s - loss: 0.6768 - accuracy: 0.55 - ETA: 8s - loss: 0.6766 - accuracy: 0.56 - ETA: 8s - loss: 0.6768 - accuracy: 0.55 - ETA: 8s - loss: 0.6767 - accuracy: 0.55 - ETA: 8s - loss: 0.6769 - accuracy: 0.55 - ETA: 8s - loss: 0.6771 - accuracy: 0.55 - ETA: 8s - loss: 0.6767 - accuracy: 0.56 - ETA: 8s - loss: 0.6764 - accuracy: 0.56 - ETA: 8s - loss: 0.6763 - accuracy: 0.56 - ETA: 8s - loss: 0.6762 - accuracy: 0.56 - ETA: 8s - loss: 0.6762 - accuracy: 0.56 - ETA: 8s - loss: 0.6763 - accuracy: 0.56 - ETA: 7s - loss: 0.6765 - accuracy: 0.56 - ETA: 7s - loss: 0.6766 - accuracy: 0.56 - ETA: 7s - loss: 0.6762 - accuracy: 0.56 - ETA: 7s - loss: 0.6760 - accuracy: 0.56 - ETA: 7s - loss: 0.6761 - accuracy: 0.56 - ETA: 7s - loss: 0.6758 - accuracy: 0.56 - ETA: 7s - loss: 0.6756 - accuracy: 0.56 - ETA: 7s - loss: 0.6756 - accuracy: 0.56 - ETA: 7s - loss: 0.6756 - accuracy: 0.56 - ETA: 7s - loss: 0.6757 - accuracy: 0.56 - ETA: 7s - loss: 0.6755 - accuracy: 0.56 - ETA: 7s - loss: 0.6753 - accuracy: 0.56 - ETA: 6s - loss: 0.6751 - accuracy: 0.56 - ETA: 6s - loss: 0.6751 - accuracy: 0.56 - ETA: 6s - loss: 0.6755 - accuracy: 0.56 - ETA: 6s - loss: 0.6756 - accuracy: 0.56 - ETA: 6s - loss: 0.6756 - accuracy: 0.56 - ETA: 6s - loss: 0.6756 - accuracy: 0.56 - ETA: 6s - loss: 0.6758 - accuracy: 0.56 - ETA: 6s - loss: 0.6760 - accuracy: 0.56 - ETA: 6s - loss: 0.6756 - accuracy: 0.56 - ETA: 6s - loss: 0.6756 - accuracy: 0.56 - ETA: 6s - loss: 0.6755 - accuracy: 0.56 - ETA: 6s - loss: 0.6754 - accuracy: 0.56 - ETA: 6s - loss: 0.6755 - accuracy: 0.56 - ETA: 6s - loss: 0.6755 - accuracy: 0.56 - ETA: 5s - loss: 0.6756 - accuracy: 0.56 - ETA: 5s - loss: 0.6757 - accuracy: 0.56 - ETA: 5s - loss: 0.6757 - accuracy: 0.56 - ETA: 5s - loss: 0.6756 - accuracy: 0.56 - ETA: 5s - loss: 0.6758 - accuracy: 0.56 - ETA: 5s - loss: 0.6762 - accuracy: 0.56 - ETA: 5s - loss: 0.6762 - accuracy: 0.56 - ETA: 5s - loss: 0.6761 - accuracy: 0.56 - ETA: 5s - loss: 0.6762 - accuracy: 0.56 - ETA: 5s - loss: 0.6761 - accuracy: 0.56 - ETA: 5s - loss: 0.6759 - accuracy: 0.56 - ETA: 5s - loss: 0.6757 - accuracy: 0.56 - ETA: 5s - loss: 0.6757 - accuracy: 0.56 - ETA: 5s - loss: 0.6755 - accuracy: 0.56 - ETA: 4s - loss: 0.6755 - accuracy: 0.56 - ETA: 4s - loss: 0.6755 - accuracy: 0.56 - ETA: 4s - loss: 0.6756 - accuracy: 0.56 - ETA: 4s - loss: 0.6756 - accuracy: 0.56 - ETA: 4s - loss: 0.6757 - accuracy: 0.56 - ETA: 4s - loss: 0.6758 - accuracy: 0.56 - ETA: 4s - loss: 0.6760 - accuracy: 0.56 - ETA: 4s - loss: 0.6760 - accuracy: 0.56 - ETA: 4s - loss: 0.6759 - accuracy: 0.56 - ETA: 4s - loss: 0.6758 - accuracy: 0.56 - ETA: 4s - loss: 0.6756 - accuracy: 0.56 - ETA: 4s - loss: 0.6755 - accuracy: 0.56 - ETA: 4s - loss: 0.6756 - accuracy: 0.56 - ETA: 3s - loss: 0.6756 - accuracy: 0.56 - ETA: 3s - loss: 0.6755 - accuracy: 0.56 - ETA: 3s - loss: 0.6756 - accuracy: 0.56 - ETA: 3s - loss: 0.6756 - accuracy: 0.56 - ETA: 3s - loss: 0.6757 - accuracy: 0.56 - ETA: 3s - loss: 0.6758 - accuracy: 0.56 - ETA: 3s - loss: 0.6758 - accuracy: 0.56 - ETA: 3s - loss: 0.6757 - accuracy: 0.56 - ETA: 3s - loss: 0.6757 - accuracy: 0.56 - ETA: 3s - loss: 0.6759 - accuracy: 0.56 - ETA: 3s - loss: 0.6758 - accuracy: 0.56 - ETA: 3s - loss: 0.6757 - accuracy: 0.56 - ETA: 3s - loss: 0.6757 - accuracy: 0.56 - ETA: 3s - loss: 0.6756 - accuracy: 0.56 - ETA: 2s - loss: 0.6757 - accuracy: 0.56 - ETA: 2s - loss: 0.6759 - accuracy: 0.56 - ETA: 2s - loss: 0.6758 - accuracy: 0.56 - ETA: 2s - loss: 0.6758 - accuracy: 0.56 - ETA: 2s - loss: 0.6759 - accuracy: 0.56 - ETA: 2s - loss: 0.6759 - accuracy: 0.56 - ETA: 2s - loss: 0.6760 - accuracy: 0.56 - ETA: 2s - loss: 0.6760 - accuracy: 0.56 - ETA: 2s - loss: 0.6760 - accuracy: 0.56 - ETA: 2s - loss: 0.6760 - accuracy: 0.56 - ETA: 2s - loss: 0.6761 - accuracy: 0.56 - ETA: 2s - loss: 0.6761 - accuracy: 0.56 - ETA: 2s - loss: 0.6760 - accuracy: 0.56 - ETA: 2s - loss: 0.6759 - accuracy: 0.56 - ETA: 1s - loss: 0.6758 - accuracy: 0.56 - ETA: 1s - loss: 0.6758 - accuracy: 0.56 - ETA: 1s - loss: 0.6757 - accuracy: 0.56 - ETA: 1s - loss: 0.6755 - accuracy: 0.56 - ETA: 1s - loss: 0.6757 - accuracy: 0.56 - ETA: 1s - loss: 0.6758 - accuracy: 0.56 - ETA: 1s - loss: 0.6758 - accuracy: 0.56 - ETA: 1s - loss: 0.6758 - accuracy: 0.56 - ETA: 1s - loss: 0.6758 - accuracy: 0.56 - ETA: 1s - loss: 0.6757 - accuracy: 0.56 - ETA: 1s - loss: 0.6757 - accuracy: 0.56 - ETA: 1s - loss: 0.6757 - accuracy: 0.56 - ETA: 1s - loss: 0.6757 - accuracy: 0.56 - ETA: 1s - loss: 0.6758 - accuracy: 0.56 - ETA: 0s - loss: 0.6758 - accuracy: 0.56 - ETA: 0s - loss: 0.6759 - accuracy: 0.56 - ETA: 0s - loss: 0.6760 - accuracy: 0.56 - ETA: 0s - loss: 0.6761 - accuracy: 0.56 - ETA: 0s - loss: 0.6760 - accuracy: 0.56 - ETA: 0s - loss: 0.6760 - accuracy: 0.56 - ETA: 0s - loss: 0.6760 - accuracy: 0.56 - ETA: 0s - loss: 0.6760 - accuracy: 0.56 - ETA: 0s - loss: 0.6759 - accuracy: 0.56 - ETA: 0s - loss: 0.6760 - accuracy: 0.56 - ETA: 0s - loss: 0.6760 - accuracy: 0.56 - ETA: 0s - loss: 0.6759 - accuracy: 0.56 - ETA: 0s - loss: 0.6759 - accuracy: 0.56 - ETA: 0s - loss: 0.6758 - accuracy: 0.56 - 11s 281us/step - loss: 0.6758 - accuracy: 0.5659\n",
      "\n",
      "Epoch 00031: loss improved from 0.67660 to 0.67583, saving model to Resultados/7/Checkpoints/word2vec-31-0.6758.hdf5\n",
      "Epoch 32/50\n"
     ]
    },
    {
     "name": "stdout",
     "output_type": "stream",
     "text": [
      "40268/40268 [==============================] - ETA: 10s - loss: 0.6640 - accuracy: 0.574 - ETA: 11s - loss: 0.6717 - accuracy: 0.564 - ETA: 10s - loss: 0.6695 - accuracy: 0.572 - ETA: 10s - loss: 0.6682 - accuracy: 0.575 - ETA: 10s - loss: 0.6688 - accuracy: 0.572 - ETA: 10s - loss: 0.6672 - accuracy: 0.578 - ETA: 10s - loss: 0.6678 - accuracy: 0.581 - ETA: 10s - loss: 0.6699 - accuracy: 0.578 - ETA: 10s - loss: 0.6713 - accuracy: 0.575 - ETA: 10s - loss: 0.6701 - accuracy: 0.580 - ETA: 10s - loss: 0.6677 - accuracy: 0.584 - ETA: 10s - loss: 0.6675 - accuracy: 0.586 - ETA: 10s - loss: 0.6668 - accuracy: 0.591 - ETA: 10s - loss: 0.6658 - accuracy: 0.591 - ETA: 10s - loss: 0.6677 - accuracy: 0.586 - ETA: 10s - loss: 0.6670 - accuracy: 0.587 - ETA: 10s - loss: 0.6688 - accuracy: 0.583 - ETA: 10s - loss: 0.6675 - accuracy: 0.586 - ETA: 10s - loss: 0.6671 - accuracy: 0.588 - ETA: 10s - loss: 0.6663 - accuracy: 0.589 - ETA: 10s - loss: 0.6672 - accuracy: 0.588 - ETA: 10s - loss: 0.6679 - accuracy: 0.586 - ETA: 10s - loss: 0.6669 - accuracy: 0.587 - ETA: 10s - loss: 0.6674 - accuracy: 0.586 - ETA: 10s - loss: 0.6668 - accuracy: 0.587 - ETA: 10s - loss: 0.6667 - accuracy: 0.587 - ETA: 10s - loss: 0.6674 - accuracy: 0.586 - ETA: 10s - loss: 0.6670 - accuracy: 0.587 - ETA: 10s - loss: 0.6664 - accuracy: 0.587 - ETA: 10s - loss: 0.6670 - accuracy: 0.586 - ETA: 10s - loss: 0.6666 - accuracy: 0.586 - ETA: 9s - loss: 0.6671 - accuracy: 0.585 - ETA: 9s - loss: 0.6665 - accuracy: 0.58 - ETA: 9s - loss: 0.6666 - accuracy: 0.58 - ETA: 9s - loss: 0.6667 - accuracy: 0.58 - ETA: 9s - loss: 0.6665 - accuracy: 0.58 - ETA: 9s - loss: 0.6666 - accuracy: 0.58 - ETA: 9s - loss: 0.6675 - accuracy: 0.58 - ETA: 9s - loss: 0.6680 - accuracy: 0.58 - ETA: 9s - loss: 0.6687 - accuracy: 0.58 - ETA: 9s - loss: 0.6692 - accuracy: 0.58 - ETA: 9s - loss: 0.6693 - accuracy: 0.58 - ETA: 9s - loss: 0.6690 - accuracy: 0.58 - ETA: 9s - loss: 0.6695 - accuracy: 0.58 - ETA: 9s - loss: 0.6697 - accuracy: 0.58 - ETA: 9s - loss: 0.6702 - accuracy: 0.57 - ETA: 8s - loss: 0.6707 - accuracy: 0.57 - ETA: 8s - loss: 0.6708 - accuracy: 0.57 - ETA: 8s - loss: 0.6711 - accuracy: 0.57 - ETA: 8s - loss: 0.6712 - accuracy: 0.57 - ETA: 8s - loss: 0.6716 - accuracy: 0.57 - ETA: 8s - loss: 0.6716 - accuracy: 0.57 - ETA: 8s - loss: 0.6712 - accuracy: 0.57 - ETA: 8s - loss: 0.6714 - accuracy: 0.57 - ETA: 8s - loss: 0.6712 - accuracy: 0.57 - ETA: 8s - loss: 0.6713 - accuracy: 0.57 - ETA: 8s - loss: 0.6716 - accuracy: 0.57 - ETA: 8s - loss: 0.6716 - accuracy: 0.57 - ETA: 8s - loss: 0.6720 - accuracy: 0.57 - ETA: 7s - loss: 0.6719 - accuracy: 0.57 - ETA: 7s - loss: 0.6721 - accuracy: 0.57 - ETA: 7s - loss: 0.6723 - accuracy: 0.57 - ETA: 7s - loss: 0.6728 - accuracy: 0.57 - ETA: 7s - loss: 0.6731 - accuracy: 0.57 - ETA: 7s - loss: 0.6734 - accuracy: 0.57 - ETA: 7s - loss: 0.6732 - accuracy: 0.57 - ETA: 7s - loss: 0.6730 - accuracy: 0.57 - ETA: 7s - loss: 0.6728 - accuracy: 0.57 - ETA: 7s - loss: 0.6729 - accuracy: 0.57 - ETA: 7s - loss: 0.6727 - accuracy: 0.57 - ETA: 7s - loss: 0.6728 - accuracy: 0.57 - ETA: 6s - loss: 0.6729 - accuracy: 0.57 - ETA: 6s - loss: 0.6729 - accuracy: 0.57 - ETA: 6s - loss: 0.6731 - accuracy: 0.57 - ETA: 6s - loss: 0.6730 - accuracy: 0.57 - ETA: 6s - loss: 0.6728 - accuracy: 0.57 - ETA: 6s - loss: 0.6727 - accuracy: 0.57 - ETA: 6s - loss: 0.6729 - accuracy: 0.57 - ETA: 6s - loss: 0.6728 - accuracy: 0.57 - ETA: 6s - loss: 0.6728 - accuracy: 0.57 - ETA: 6s - loss: 0.6729 - accuracy: 0.57 - ETA: 6s - loss: 0.6732 - accuracy: 0.57 - ETA: 6s - loss: 0.6733 - accuracy: 0.57 - ETA: 5s - loss: 0.6734 - accuracy: 0.57 - ETA: 5s - loss: 0.6734 - accuracy: 0.57 - ETA: 5s - loss: 0.6734 - accuracy: 0.57 - ETA: 5s - loss: 0.6733 - accuracy: 0.57 - ETA: 5s - loss: 0.6730 - accuracy: 0.57 - ETA: 5s - loss: 0.6730 - accuracy: 0.57 - ETA: 5s - loss: 0.6732 - accuracy: 0.57 - ETA: 5s - loss: 0.6732 - accuracy: 0.57 - ETA: 5s - loss: 0.6732 - accuracy: 0.57 - ETA: 5s - loss: 0.6732 - accuracy: 0.57 - ETA: 5s - loss: 0.6732 - accuracy: 0.57 - ETA: 5s - loss: 0.6733 - accuracy: 0.57 - ETA: 4s - loss: 0.6733 - accuracy: 0.57 - ETA: 4s - loss: 0.6734 - accuracy: 0.57 - ETA: 4s - loss: 0.6734 - accuracy: 0.57 - ETA: 4s - loss: 0.6734 - accuracy: 0.57 - ETA: 4s - loss: 0.6735 - accuracy: 0.57 - ETA: 4s - loss: 0.6734 - accuracy: 0.57 - ETA: 4s - loss: 0.6735 - accuracy: 0.57 - ETA: 4s - loss: 0.6735 - accuracy: 0.57 - ETA: 4s - loss: 0.6735 - accuracy: 0.57 - ETA: 4s - loss: 0.6737 - accuracy: 0.57 - ETA: 4s - loss: 0.6738 - accuracy: 0.57 - ETA: 4s - loss: 0.6738 - accuracy: 0.57 - ETA: 3s - loss: 0.6739 - accuracy: 0.57 - ETA: 3s - loss: 0.6737 - accuracy: 0.57 - ETA: 3s - loss: 0.6737 - accuracy: 0.57 - ETA: 3s - loss: 0.6738 - accuracy: 0.57 - ETA: 3s - loss: 0.6739 - accuracy: 0.57 - ETA: 3s - loss: 0.6739 - accuracy: 0.57 - ETA: 3s - loss: 0.6739 - accuracy: 0.57 - ETA: 3s - loss: 0.6739 - accuracy: 0.57 - ETA: 3s - loss: 0.6741 - accuracy: 0.57 - ETA: 3s - loss: 0.6742 - accuracy: 0.57 - ETA: 3s - loss: 0.6742 - accuracy: 0.57 - ETA: 3s - loss: 0.6741 - accuracy: 0.57 - ETA: 2s - loss: 0.6742 - accuracy: 0.57 - ETA: 2s - loss: 0.6743 - accuracy: 0.57 - ETA: 2s - loss: 0.6744 - accuracy: 0.57 - ETA: 2s - loss: 0.6744 - accuracy: 0.57 - ETA: 2s - loss: 0.6745 - accuracy: 0.57 - ETA: 2s - loss: 0.6745 - accuracy: 0.57 - ETA: 2s - loss: 0.6745 - accuracy: 0.57 - ETA: 2s - loss: 0.6746 - accuracy: 0.57 - ETA: 2s - loss: 0.6745 - accuracy: 0.57 - ETA: 2s - loss: 0.6745 - accuracy: 0.57 - ETA: 2s - loss: 0.6744 - accuracy: 0.57 - ETA: 2s - loss: 0.6745 - accuracy: 0.57 - ETA: 2s - loss: 0.6744 - accuracy: 0.57 - ETA: 1s - loss: 0.6744 - accuracy: 0.57 - ETA: 1s - loss: 0.6746 - accuracy: 0.57 - ETA: 1s - loss: 0.6744 - accuracy: 0.57 - ETA: 1s - loss: 0.6745 - accuracy: 0.57 - ETA: 1s - loss: 0.6746 - accuracy: 0.57 - ETA: 1s - loss: 0.6746 - accuracy: 0.57 - ETA: 1s - loss: 0.6746 - accuracy: 0.57 - ETA: 1s - loss: 0.6747 - accuracy: 0.57 - ETA: 1s - loss: 0.6748 - accuracy: 0.57 - ETA: 1s - loss: 0.6747 - accuracy: 0.57 - ETA: 1s - loss: 0.6747 - accuracy: 0.57 - ETA: 1s - loss: 0.6747 - accuracy: 0.57 - ETA: 0s - loss: 0.6747 - accuracy: 0.57 - ETA: 0s - loss: 0.6747 - accuracy: 0.57 - ETA: 0s - loss: 0.6746 - accuracy: 0.57 - ETA: 0s - loss: 0.6747 - accuracy: 0.57 - ETA: 0s - loss: 0.6746 - accuracy: 0.57 - ETA: 0s - loss: 0.6746 - accuracy: 0.57 - ETA: 0s - loss: 0.6746 - accuracy: 0.57 - ETA: 0s - loss: 0.6746 - accuracy: 0.57 - ETA: 0s - loss: 0.6747 - accuracy: 0.57 - ETA: 0s - loss: 0.6748 - accuracy: 0.57 - ETA: 0s - loss: 0.6748 - accuracy: 0.57 - ETA: 0s - loss: 0.6749 - accuracy: 0.57 - ETA: 0s - loss: 0.6749 - accuracy: 0.57 - 12s 307us/step - loss: 0.6749 - accuracy: 0.5709\n",
      "\n",
      "Epoch 00032: loss improved from 0.67583 to 0.67491, saving model to Resultados/7/Checkpoints/word2vec-32-0.6749.hdf5\n",
      "Epoch 33/50\n"
     ]
    },
    {
     "name": "stdout",
     "output_type": "stream",
     "text": [
      "40268/40268 [==============================] - ETA: 9s - loss: 0.6610 - accuracy: 0.59 - ETA: 10s - loss: 0.6716 - accuracy: 0.550 - ETA: 10s - loss: 0.6699 - accuracy: 0.571 - ETA: 10s - loss: 0.6668 - accuracy: 0.581 - ETA: 10s - loss: 0.6697 - accuracy: 0.574 - ETA: 10s - loss: 0.6702 - accuracy: 0.577 - ETA: 9s - loss: 0.6698 - accuracy: 0.589 - ETA: 9s - loss: 0.6702 - accuracy: 0.58 - ETA: 10s - loss: 0.6704 - accuracy: 0.581 - ETA: 10s - loss: 0.6700 - accuracy: 0.582 - ETA: 10s - loss: 0.6695 - accuracy: 0.586 - ETA: 10s - loss: 0.6699 - accuracy: 0.586 - ETA: 10s - loss: 0.6693 - accuracy: 0.588 - ETA: 10s - loss: 0.6675 - accuracy: 0.591 - ETA: 10s - loss: 0.6681 - accuracy: 0.590 - ETA: 10s - loss: 0.6694 - accuracy: 0.587 - ETA: 9s - loss: 0.6690 - accuracy: 0.587 - ETA: 9s - loss: 0.6686 - accuracy: 0.58 - ETA: 9s - loss: 0.6693 - accuracy: 0.58 - ETA: 9s - loss: 0.6700 - accuracy: 0.58 - ETA: 9s - loss: 0.6697 - accuracy: 0.58 - ETA: 9s - loss: 0.6698 - accuracy: 0.58 - ETA: 9s - loss: 0.6707 - accuracy: 0.58 - ETA: 9s - loss: 0.6711 - accuracy: 0.58 - ETA: 9s - loss: 0.6712 - accuracy: 0.57 - ETA: 9s - loss: 0.6706 - accuracy: 0.57 - ETA: 9s - loss: 0.6706 - accuracy: 0.57 - ETA: 9s - loss: 0.6712 - accuracy: 0.57 - ETA: 9s - loss: 0.6714 - accuracy: 0.57 - ETA: 9s - loss: 0.6712 - accuracy: 0.57 - ETA: 9s - loss: 0.6713 - accuracy: 0.57 - ETA: 8s - loss: 0.6709 - accuracy: 0.57 - ETA: 8s - loss: 0.6708 - accuracy: 0.57 - ETA: 8s - loss: 0.6710 - accuracy: 0.57 - ETA: 8s - loss: 0.6708 - accuracy: 0.57 - ETA: 8s - loss: 0.6708 - accuracy: 0.57 - ETA: 8s - loss: 0.6706 - accuracy: 0.57 - ETA: 8s - loss: 0.6706 - accuracy: 0.57 - ETA: 8s - loss: 0.6711 - accuracy: 0.57 - ETA: 8s - loss: 0.6716 - accuracy: 0.57 - ETA: 8s - loss: 0.6720 - accuracy: 0.57 - ETA: 8s - loss: 0.6725 - accuracy: 0.57 - ETA: 8s - loss: 0.6724 - accuracy: 0.57 - ETA: 8s - loss: 0.6719 - accuracy: 0.57 - ETA: 8s - loss: 0.6721 - accuracy: 0.57 - ETA: 7s - loss: 0.6721 - accuracy: 0.57 - ETA: 7s - loss: 0.6718 - accuracy: 0.57 - ETA: 7s - loss: 0.6722 - accuracy: 0.57 - ETA: 7s - loss: 0.6718 - accuracy: 0.57 - ETA: 7s - loss: 0.6720 - accuracy: 0.57 - ETA: 7s - loss: 0.6719 - accuracy: 0.57 - ETA: 7s - loss: 0.6717 - accuracy: 0.57 - ETA: 7s - loss: 0.6714 - accuracy: 0.57 - ETA: 7s - loss: 0.6718 - accuracy: 0.57 - ETA: 7s - loss: 0.6719 - accuracy: 0.57 - ETA: 7s - loss: 0.6720 - accuracy: 0.57 - ETA: 7s - loss: 0.6724 - accuracy: 0.57 - ETA: 7s - loss: 0.6726 - accuracy: 0.57 - ETA: 7s - loss: 0.6725 - accuracy: 0.57 - ETA: 6s - loss: 0.6727 - accuracy: 0.57 - ETA: 6s - loss: 0.6728 - accuracy: 0.57 - ETA: 6s - loss: 0.6728 - accuracy: 0.57 - ETA: 6s - loss: 0.6729 - accuracy: 0.57 - ETA: 6s - loss: 0.6729 - accuracy: 0.57 - ETA: 6s - loss: 0.6727 - accuracy: 0.57 - ETA: 6s - loss: 0.6727 - accuracy: 0.57 - ETA: 6s - loss: 0.6724 - accuracy: 0.57 - ETA: 6s - loss: 0.6723 - accuracy: 0.57 - ETA: 6s - loss: 0.6723 - accuracy: 0.57 - ETA: 6s - loss: 0.6724 - accuracy: 0.57 - ETA: 6s - loss: 0.6724 - accuracy: 0.57 - ETA: 6s - loss: 0.6724 - accuracy: 0.57 - ETA: 6s - loss: 0.6724 - accuracy: 0.57 - ETA: 5s - loss: 0.6723 - accuracy: 0.57 - ETA: 5s - loss: 0.6726 - accuracy: 0.57 - ETA: 5s - loss: 0.6728 - accuracy: 0.57 - ETA: 5s - loss: 0.6727 - accuracy: 0.57 - ETA: 5s - loss: 0.6727 - accuracy: 0.57 - ETA: 5s - loss: 0.6726 - accuracy: 0.57 - ETA: 5s - loss: 0.6727 - accuracy: 0.57 - ETA: 5s - loss: 0.6728 - accuracy: 0.57 - ETA: 5s - loss: 0.6730 - accuracy: 0.57 - ETA: 5s - loss: 0.6730 - accuracy: 0.57 - ETA: 5s - loss: 0.6732 - accuracy: 0.57 - ETA: 5s - loss: 0.6732 - accuracy: 0.57 - ETA: 5s - loss: 0.6731 - accuracy: 0.57 - ETA: 5s - loss: 0.6729 - accuracy: 0.57 - ETA: 5s - loss: 0.6726 - accuracy: 0.57 - ETA: 4s - loss: 0.6726 - accuracy: 0.57 - ETA: 4s - loss: 0.6729 - accuracy: 0.57 - ETA: 4s - loss: 0.6731 - accuracy: 0.57 - ETA: 4s - loss: 0.6733 - accuracy: 0.57 - ETA: 4s - loss: 0.6732 - accuracy: 0.57 - ETA: 4s - loss: 0.6732 - accuracy: 0.57 - ETA: 4s - loss: 0.6730 - accuracy: 0.57 - ETA: 4s - loss: 0.6731 - accuracy: 0.57 - ETA: 4s - loss: 0.6731 - accuracy: 0.57 - ETA: 4s - loss: 0.6733 - accuracy: 0.57 - ETA: 4s - loss: 0.6734 - accuracy: 0.57 - ETA: 4s - loss: 0.6734 - accuracy: 0.57 - ETA: 4s - loss: 0.6734 - accuracy: 0.57 - ETA: 4s - loss: 0.6735 - accuracy: 0.57 - ETA: 3s - loss: 0.6734 - accuracy: 0.57 - ETA: 3s - loss: 0.6735 - accuracy: 0.57 - ETA: 3s - loss: 0.6735 - accuracy: 0.57 - ETA: 3s - loss: 0.6735 - accuracy: 0.57 - ETA: 3s - loss: 0.6734 - accuracy: 0.57 - ETA: 3s - loss: 0.6732 - accuracy: 0.57 - ETA: 3s - loss: 0.6733 - accuracy: 0.57 - ETA: 3s - loss: 0.6732 - accuracy: 0.57 - ETA: 3s - loss: 0.6730 - accuracy: 0.57 - ETA: 3s - loss: 0.6730 - accuracy: 0.57 - ETA: 3s - loss: 0.6730 - accuracy: 0.57 - ETA: 3s - loss: 0.6728 - accuracy: 0.57 - ETA: 3s - loss: 0.6728 - accuracy: 0.57 - ETA: 3s - loss: 0.6728 - accuracy: 0.57 - ETA: 2s - loss: 0.6729 - accuracy: 0.57 - ETA: 2s - loss: 0.6730 - accuracy: 0.57 - ETA: 2s - loss: 0.6731 - accuracy: 0.57 - ETA: 2s - loss: 0.6732 - accuracy: 0.57 - ETA: 2s - loss: 0.6733 - accuracy: 0.57 - ETA: 2s - loss: 0.6734 - accuracy: 0.57 - ETA: 2s - loss: 0.6735 - accuracy: 0.57 - ETA: 2s - loss: 0.6736 - accuracy: 0.57 - ETA: 2s - loss: 0.6736 - accuracy: 0.57 - ETA: 2s - loss: 0.6736 - accuracy: 0.57 - ETA: 2s - loss: 0.6737 - accuracy: 0.57 - ETA: 2s - loss: 0.6738 - accuracy: 0.57 - ETA: 2s - loss: 0.6738 - accuracy: 0.57 - ETA: 2s - loss: 0.6739 - accuracy: 0.57 - ETA: 1s - loss: 0.6737 - accuracy: 0.57 - ETA: 1s - loss: 0.6738 - accuracy: 0.57 - ETA: 1s - loss: 0.6737 - accuracy: 0.57 - ETA: 1s - loss: 0.6737 - accuracy: 0.57 - ETA: 1s - loss: 0.6738 - accuracy: 0.57 - ETA: 1s - loss: 0.6738 - accuracy: 0.57 - ETA: 1s - loss: 0.6737 - accuracy: 0.57 - ETA: 1s - loss: 0.6737 - accuracy: 0.57 - ETA: 1s - loss: 0.6736 - accuracy: 0.57 - ETA: 1s - loss: 0.6736 - accuracy: 0.57 - ETA: 1s - loss: 0.6737 - accuracy: 0.57 - ETA: 1s - loss: 0.6736 - accuracy: 0.57 - ETA: 1s - loss: 0.6737 - accuracy: 0.57 - ETA: 0s - loss: 0.6736 - accuracy: 0.57 - ETA: 0s - loss: 0.6737 - accuracy: 0.57 - ETA: 0s - loss: 0.6737 - accuracy: 0.57 - ETA: 0s - loss: 0.6738 - accuracy: 0.57 - ETA: 0s - loss: 0.6738 - accuracy: 0.57 - ETA: 0s - loss: 0.6739 - accuracy: 0.57 - ETA: 0s - loss: 0.6740 - accuracy: 0.57 - ETA: 0s - loss: 0.6742 - accuracy: 0.57 - ETA: 0s - loss: 0.6740 - accuracy: 0.57 - ETA: 0s - loss: 0.6741 - accuracy: 0.57 - ETA: 0s - loss: 0.6740 - accuracy: 0.57 - ETA: 0s - loss: 0.6741 - accuracy: 0.57 - ETA: 0s - loss: 0.6741 - accuracy: 0.57 - ETA: 0s - loss: 0.6742 - accuracy: 0.57 - 12s 288us/step - loss: 0.6742 - accuracy: 0.5719\n",
      "\n",
      "Epoch 00033: loss improved from 0.67491 to 0.67419, saving model to Resultados/7/Checkpoints/word2vec-33-0.6742.hdf5\n",
      "Epoch 34/50\n"
     ]
    },
    {
     "name": "stdout",
     "output_type": "stream",
     "text": [
      "40268/40268 [==============================] - ETA: 10s - loss: 0.6740 - accuracy: 0.531 - ETA: 10s - loss: 0.6737 - accuracy: 0.550 - ETA: 11s - loss: 0.6761 - accuracy: 0.553 - ETA: 11s - loss: 0.6744 - accuracy: 0.564 - ETA: 11s - loss: 0.6742 - accuracy: 0.560 - ETA: 11s - loss: 0.6741 - accuracy: 0.559 - ETA: 10s - loss: 0.6745 - accuracy: 0.563 - ETA: 10s - loss: 0.6740 - accuracy: 0.562 - ETA: 10s - loss: 0.6740 - accuracy: 0.562 - ETA: 10s - loss: 0.6736 - accuracy: 0.564 - ETA: 10s - loss: 0.6715 - accuracy: 0.570 - ETA: 10s - loss: 0.6716 - accuracy: 0.571 - ETA: 10s - loss: 0.6733 - accuracy: 0.569 - ETA: 10s - loss: 0.6735 - accuracy: 0.568 - ETA: 10s - loss: 0.6755 - accuracy: 0.564 - ETA: 10s - loss: 0.6751 - accuracy: 0.564 - ETA: 10s - loss: 0.6757 - accuracy: 0.564 - ETA: 10s - loss: 0.6756 - accuracy: 0.565 - ETA: 10s - loss: 0.6749 - accuracy: 0.565 - ETA: 10s - loss: 0.6749 - accuracy: 0.566 - ETA: 9s - loss: 0.6746 - accuracy: 0.567 - ETA: 9s - loss: 0.6743 - accuracy: 0.56 - ETA: 9s - loss: 0.6746 - accuracy: 0.56 - ETA: 9s - loss: 0.6754 - accuracy: 0.56 - ETA: 9s - loss: 0.6758 - accuracy: 0.56 - ETA: 9s - loss: 0.6754 - accuracy: 0.56 - ETA: 9s - loss: 0.6761 - accuracy: 0.56 - ETA: 9s - loss: 0.6762 - accuracy: 0.56 - ETA: 9s - loss: 0.6756 - accuracy: 0.56 - ETA: 9s - loss: 0.6753 - accuracy: 0.56 - ETA: 9s - loss: 0.6751 - accuracy: 0.56 - ETA: 9s - loss: 0.6755 - accuracy: 0.56 - ETA: 9s - loss: 0.6759 - accuracy: 0.56 - ETA: 9s - loss: 0.6754 - accuracy: 0.56 - ETA: 8s - loss: 0.6754 - accuracy: 0.56 - ETA: 8s - loss: 0.6746 - accuracy: 0.56 - ETA: 8s - loss: 0.6747 - accuracy: 0.56 - ETA: 8s - loss: 0.6741 - accuracy: 0.56 - ETA: 8s - loss: 0.6735 - accuracy: 0.56 - ETA: 8s - loss: 0.6738 - accuracy: 0.56 - ETA: 8s - loss: 0.6735 - accuracy: 0.56 - ETA: 8s - loss: 0.6737 - accuracy: 0.56 - ETA: 8s - loss: 0.6733 - accuracy: 0.57 - ETA: 8s - loss: 0.6733 - accuracy: 0.57 - ETA: 8s - loss: 0.6738 - accuracy: 0.56 - ETA: 8s - loss: 0.6745 - accuracy: 0.56 - ETA: 8s - loss: 0.6743 - accuracy: 0.56 - ETA: 8s - loss: 0.6742 - accuracy: 0.56 - ETA: 7s - loss: 0.6734 - accuracy: 0.57 - ETA: 7s - loss: 0.6735 - accuracy: 0.57 - ETA: 7s - loss: 0.6731 - accuracy: 0.57 - ETA: 7s - loss: 0.6735 - accuracy: 0.57 - ETA: 7s - loss: 0.6735 - accuracy: 0.57 - ETA: 7s - loss: 0.6735 - accuracy: 0.57 - ETA: 7s - loss: 0.6737 - accuracy: 0.57 - ETA: 7s - loss: 0.6737 - accuracy: 0.57 - ETA: 7s - loss: 0.6734 - accuracy: 0.57 - ETA: 7s - loss: 0.6737 - accuracy: 0.57 - ETA: 7s - loss: 0.6736 - accuracy: 0.57 - ETA: 7s - loss: 0.6739 - accuracy: 0.57 - ETA: 7s - loss: 0.6737 - accuracy: 0.57 - ETA: 6s - loss: 0.6738 - accuracy: 0.57 - ETA: 6s - loss: 0.6740 - accuracy: 0.57 - ETA: 6s - loss: 0.6740 - accuracy: 0.57 - ETA: 6s - loss: 0.6740 - accuracy: 0.57 - ETA: 6s - loss: 0.6738 - accuracy: 0.57 - ETA: 6s - loss: 0.6739 - accuracy: 0.57 - ETA: 6s - loss: 0.6739 - accuracy: 0.57 - ETA: 6s - loss: 0.6739 - accuracy: 0.57 - ETA: 6s - loss: 0.6738 - accuracy: 0.57 - ETA: 6s - loss: 0.6735 - accuracy: 0.57 - ETA: 6s - loss: 0.6736 - accuracy: 0.57 - ETA: 6s - loss: 0.6735 - accuracy: 0.57 - ETA: 6s - loss: 0.6737 - accuracy: 0.57 - ETA: 6s - loss: 0.6735 - accuracy: 0.57 - ETA: 6s - loss: 0.6734 - accuracy: 0.57 - ETA: 5s - loss: 0.6735 - accuracy: 0.57 - ETA: 5s - loss: 0.6735 - accuracy: 0.57 - ETA: 5s - loss: 0.6735 - accuracy: 0.57 - ETA: 5s - loss: 0.6731 - accuracy: 0.57 - ETA: 5s - loss: 0.6732 - accuracy: 0.57 - ETA: 5s - loss: 0.6734 - accuracy: 0.57 - ETA: 5s - loss: 0.6733 - accuracy: 0.57 - ETA: 5s - loss: 0.6733 - accuracy: 0.57 - ETA: 5s - loss: 0.6732 - accuracy: 0.57 - ETA: 5s - loss: 0.6732 - accuracy: 0.57 - ETA: 5s - loss: 0.6730 - accuracy: 0.57 - ETA: 5s - loss: 0.6727 - accuracy: 0.57 - ETA: 5s - loss: 0.6726 - accuracy: 0.57 - ETA: 4s - loss: 0.6726 - accuracy: 0.57 - ETA: 4s - loss: 0.6725 - accuracy: 0.57 - ETA: 4s - loss: 0.6726 - accuracy: 0.57 - ETA: 4s - loss: 0.6725 - accuracy: 0.57 - ETA: 4s - loss: 0.6728 - accuracy: 0.57 - ETA: 4s - loss: 0.6731 - accuracy: 0.57 - ETA: 4s - loss: 0.6732 - accuracy: 0.57 - ETA: 4s - loss: 0.6730 - accuracy: 0.57 - ETA: 4s - loss: 0.6731 - accuracy: 0.57 - ETA: 4s - loss: 0.6730 - accuracy: 0.57 - ETA: 4s - loss: 0.6730 - accuracy: 0.57 - ETA: 4s - loss: 0.6731 - accuracy: 0.57 - ETA: 4s - loss: 0.6732 - accuracy: 0.57 - ETA: 4s - loss: 0.6731 - accuracy: 0.57 - ETA: 4s - loss: 0.6731 - accuracy: 0.57 - ETA: 3s - loss: 0.6730 - accuracy: 0.57 - ETA: 3s - loss: 0.6731 - accuracy: 0.57 - ETA: 3s - loss: 0.6732 - accuracy: 0.57 - ETA: 3s - loss: 0.6732 - accuracy: 0.57 - ETA: 3s - loss: 0.6733 - accuracy: 0.57 - ETA: 3s - loss: 0.6732 - accuracy: 0.57 - ETA: 3s - loss: 0.6732 - accuracy: 0.57 - ETA: 3s - loss: 0.6731 - accuracy: 0.57 - ETA: 3s - loss: 0.6731 - accuracy: 0.57 - ETA: 3s - loss: 0.6731 - accuracy: 0.57 - ETA: 3s - loss: 0.6731 - accuracy: 0.57 - ETA: 3s - loss: 0.6732 - accuracy: 0.57 - ETA: 3s - loss: 0.6732 - accuracy: 0.57 - ETA: 2s - loss: 0.6731 - accuracy: 0.57 - ETA: 2s - loss: 0.6732 - accuracy: 0.57 - ETA: 2s - loss: 0.6732 - accuracy: 0.57 - ETA: 2s - loss: 0.6731 - accuracy: 0.57 - ETA: 2s - loss: 0.6730 - accuracy: 0.57 - ETA: 2s - loss: 0.6731 - accuracy: 0.57 - ETA: 2s - loss: 0.6731 - accuracy: 0.57 - ETA: 2s - loss: 0.6732 - accuracy: 0.57 - ETA: 2s - loss: 0.6733 - accuracy: 0.57 - ETA: 2s - loss: 0.6731 - accuracy: 0.57 - ETA: 2s - loss: 0.6731 - accuracy: 0.57 - ETA: 2s - loss: 0.6732 - accuracy: 0.57 - ETA: 2s - loss: 0.6732 - accuracy: 0.57 - ETA: 1s - loss: 0.6732 - accuracy: 0.57 - ETA: 1s - loss: 0.6731 - accuracy: 0.57 - ETA: 1s - loss: 0.6731 - accuracy: 0.57 - ETA: 1s - loss: 0.6732 - accuracy: 0.57 - ETA: 1s - loss: 0.6732 - accuracy: 0.57 - ETA: 1s - loss: 0.6731 - accuracy: 0.57 - ETA: 1s - loss: 0.6732 - accuracy: 0.57 - ETA: 1s - loss: 0.6733 - accuracy: 0.57 - ETA: 1s - loss: 0.6733 - accuracy: 0.57 - ETA: 1s - loss: 0.6735 - accuracy: 0.57 - ETA: 1s - loss: 0.6734 - accuracy: 0.57 - ETA: 1s - loss: 0.6736 - accuracy: 0.57 - ETA: 1s - loss: 0.6737 - accuracy: 0.57 - ETA: 1s - loss: 0.6737 - accuracy: 0.57 - ETA: 0s - loss: 0.6737 - accuracy: 0.57 - ETA: 0s - loss: 0.6738 - accuracy: 0.57 - ETA: 0s - loss: 0.6738 - accuracy: 0.57 - ETA: 0s - loss: 0.6739 - accuracy: 0.57 - ETA: 0s - loss: 0.6738 - accuracy: 0.57 - ETA: 0s - loss: 0.6738 - accuracy: 0.57 - ETA: 0s - loss: 0.6739 - accuracy: 0.57 - ETA: 0s - loss: 0.6739 - accuracy: 0.57 - ETA: 0s - loss: 0.6738 - accuracy: 0.57 - ETA: 0s - loss: 0.6739 - accuracy: 0.57 - ETA: 0s - loss: 0.6738 - accuracy: 0.57 - ETA: 0s - loss: 0.6738 - accuracy: 0.57 - ETA: 0s - loss: 0.6737 - accuracy: 0.57 - 12s 299us/step - loss: 0.6737 - accuracy: 0.5715\n",
      "\n",
      "Epoch 00034: loss improved from 0.67419 to 0.67369, saving model to Resultados/7/Checkpoints/word2vec-34-0.6737.hdf5\n",
      "Epoch 35/50\n"
     ]
    },
    {
     "name": "stdout",
     "output_type": "stream",
     "text": [
      "40268/40268 [==============================] - ETA: 10s - loss: 0.6872 - accuracy: 0.562 - ETA: 11s - loss: 0.6815 - accuracy: 0.544 - ETA: 11s - loss: 0.6820 - accuracy: 0.540 - ETA: 11s - loss: 0.6848 - accuracy: 0.541 - ETA: 11s - loss: 0.6810 - accuracy: 0.553 - ETA: 11s - loss: 0.6802 - accuracy: 0.556 - ETA: 11s - loss: 0.6774 - accuracy: 0.565 - ETA: 11s - loss: 0.6764 - accuracy: 0.568 - ETA: 11s - loss: 0.6721 - accuracy: 0.577 - ETA: 11s - loss: 0.6725 - accuracy: 0.575 - ETA: 11s - loss: 0.6735 - accuracy: 0.572 - ETA: 11s - loss: 0.6741 - accuracy: 0.571 - ETA: 11s - loss: 0.6744 - accuracy: 0.570 - ETA: 11s - loss: 0.6719 - accuracy: 0.575 - ETA: 10s - loss: 0.6726 - accuracy: 0.572 - ETA: 10s - loss: 0.6725 - accuracy: 0.571 - ETA: 10s - loss: 0.6725 - accuracy: 0.573 - ETA: 10s - loss: 0.6720 - accuracy: 0.574 - ETA: 10s - loss: 0.6716 - accuracy: 0.575 - ETA: 10s - loss: 0.6719 - accuracy: 0.575 - ETA: 10s - loss: 0.6725 - accuracy: 0.576 - ETA: 10s - loss: 0.6727 - accuracy: 0.576 - ETA: 10s - loss: 0.6724 - accuracy: 0.576 - ETA: 10s - loss: 0.6724 - accuracy: 0.576 - ETA: 9s - loss: 0.6722 - accuracy: 0.577 - ETA: 9s - loss: 0.6726 - accuracy: 0.57 - ETA: 9s - loss: 0.6725 - accuracy: 0.57 - ETA: 9s - loss: 0.6717 - accuracy: 0.57 - ETA: 9s - loss: 0.6715 - accuracy: 0.57 - ETA: 9s - loss: 0.6714 - accuracy: 0.57 - ETA: 9s - loss: 0.6712 - accuracy: 0.57 - ETA: 9s - loss: 0.6702 - accuracy: 0.57 - ETA: 9s - loss: 0.6705 - accuracy: 0.57 - ETA: 9s - loss: 0.6702 - accuracy: 0.57 - ETA: 9s - loss: 0.6703 - accuracy: 0.57 - ETA: 9s - loss: 0.6704 - accuracy: 0.57 - ETA: 8s - loss: 0.6698 - accuracy: 0.57 - ETA: 8s - loss: 0.6689 - accuracy: 0.58 - ETA: 8s - loss: 0.6693 - accuracy: 0.58 - ETA: 8s - loss: 0.6700 - accuracy: 0.57 - ETA: 8s - loss: 0.6706 - accuracy: 0.57 - ETA: 8s - loss: 0.6709 - accuracy: 0.57 - ETA: 8s - loss: 0.6713 - accuracy: 0.57 - ETA: 8s - loss: 0.6708 - accuracy: 0.57 - ETA: 8s - loss: 0.6712 - accuracy: 0.57 - ETA: 8s - loss: 0.6717 - accuracy: 0.57 - ETA: 8s - loss: 0.6719 - accuracy: 0.57 - ETA: 8s - loss: 0.6717 - accuracy: 0.57 - ETA: 8s - loss: 0.6716 - accuracy: 0.57 - ETA: 7s - loss: 0.6719 - accuracy: 0.57 - ETA: 7s - loss: 0.6721 - accuracy: 0.57 - ETA: 7s - loss: 0.6724 - accuracy: 0.57 - ETA: 7s - loss: 0.6729 - accuracy: 0.57 - ETA: 7s - loss: 0.6727 - accuracy: 0.57 - ETA: 7s - loss: 0.6726 - accuracy: 0.57 - ETA: 7s - loss: 0.6721 - accuracy: 0.57 - ETA: 7s - loss: 0.6723 - accuracy: 0.57 - ETA: 7s - loss: 0.6721 - accuracy: 0.57 - ETA: 7s - loss: 0.6725 - accuracy: 0.57 - ETA: 7s - loss: 0.6719 - accuracy: 0.57 - ETA: 7s - loss: 0.6716 - accuracy: 0.57 - ETA: 7s - loss: 0.6715 - accuracy: 0.57 - ETA: 6s - loss: 0.6718 - accuracy: 0.57 - ETA: 6s - loss: 0.6718 - accuracy: 0.57 - ETA: 6s - loss: 0.6720 - accuracy: 0.57 - ETA: 6s - loss: 0.6720 - accuracy: 0.57 - ETA: 6s - loss: 0.6723 - accuracy: 0.57 - ETA: 6s - loss: 0.6724 - accuracy: 0.57 - ETA: 6s - loss: 0.6724 - accuracy: 0.57 - ETA: 6s - loss: 0.6726 - accuracy: 0.57 - ETA: 6s - loss: 0.6725 - accuracy: 0.57 - ETA: 6s - loss: 0.6724 - accuracy: 0.57 - ETA: 6s - loss: 0.6725 - accuracy: 0.57 - ETA: 6s - loss: 0.6721 - accuracy: 0.57 - ETA: 6s - loss: 0.6720 - accuracy: 0.57 - ETA: 5s - loss: 0.6721 - accuracy: 0.57 - ETA: 5s - loss: 0.6721 - accuracy: 0.57 - ETA: 5s - loss: 0.6722 - accuracy: 0.57 - ETA: 5s - loss: 0.6724 - accuracy: 0.57 - ETA: 5s - loss: 0.6723 - accuracy: 0.57 - ETA: 5s - loss: 0.6724 - accuracy: 0.57 - ETA: 5s - loss: 0.6723 - accuracy: 0.57 - ETA: 5s - loss: 0.6724 - accuracy: 0.57 - ETA: 5s - loss: 0.6726 - accuracy: 0.57 - ETA: 5s - loss: 0.6726 - accuracy: 0.57 - ETA: 5s - loss: 0.6726 - accuracy: 0.57 - ETA: 5s - loss: 0.6725 - accuracy: 0.57 - ETA: 5s - loss: 0.6723 - accuracy: 0.57 - ETA: 4s - loss: 0.6723 - accuracy: 0.57 - ETA: 4s - loss: 0.6722 - accuracy: 0.57 - ETA: 4s - loss: 0.6722 - accuracy: 0.57 - ETA: 4s - loss: 0.6721 - accuracy: 0.57 - ETA: 4s - loss: 0.6722 - accuracy: 0.57 - ETA: 4s - loss: 0.6722 - accuracy: 0.57 - ETA: 4s - loss: 0.6721 - accuracy: 0.57 - ETA: 4s - loss: 0.6722 - accuracy: 0.57 - ETA: 4s - loss: 0.6724 - accuracy: 0.57 - ETA: 4s - loss: 0.6725 - accuracy: 0.57 - ETA: 4s - loss: 0.6726 - accuracy: 0.57 - ETA: 4s - loss: 0.6725 - accuracy: 0.57 - ETA: 4s - loss: 0.6725 - accuracy: 0.57 - ETA: 4s - loss: 0.6725 - accuracy: 0.57 - ETA: 3s - loss: 0.6726 - accuracy: 0.57 - ETA: 3s - loss: 0.6726 - accuracy: 0.57 - ETA: 3s - loss: 0.6726 - accuracy: 0.57 - ETA: 3s - loss: 0.6725 - accuracy: 0.57 - ETA: 3s - loss: 0.6725 - accuracy: 0.57 - ETA: 3s - loss: 0.6726 - accuracy: 0.57 - ETA: 3s - loss: 0.6726 - accuracy: 0.57 - ETA: 3s - loss: 0.6725 - accuracy: 0.57 - ETA: 3s - loss: 0.6727 - accuracy: 0.57 - ETA: 3s - loss: 0.6728 - accuracy: 0.57 - ETA: 3s - loss: 0.6729 - accuracy: 0.57 - ETA: 3s - loss: 0.6730 - accuracy: 0.57 - ETA: 3s - loss: 0.6730 - accuracy: 0.57 - ETA: 3s - loss: 0.6730 - accuracy: 0.57 - ETA: 2s - loss: 0.6729 - accuracy: 0.57 - ETA: 2s - loss: 0.6729 - accuracy: 0.57 - ETA: 2s - loss: 0.6729 - accuracy: 0.57 - ETA: 2s - loss: 0.6730 - accuracy: 0.57 - ETA: 2s - loss: 0.6729 - accuracy: 0.57 - ETA: 2s - loss: 0.6727 - accuracy: 0.57 - ETA: 2s - loss: 0.6726 - accuracy: 0.57 - ETA: 2s - loss: 0.6725 - accuracy: 0.57 - ETA: 2s - loss: 0.6726 - accuracy: 0.57 - ETA: 2s - loss: 0.6726 - accuracy: 0.57 - ETA: 2s - loss: 0.6725 - accuracy: 0.57 - ETA: 2s - loss: 0.6726 - accuracy: 0.57 - ETA: 2s - loss: 0.6726 - accuracy: 0.57 - ETA: 1s - loss: 0.6726 - accuracy: 0.57 - ETA: 1s - loss: 0.6727 - accuracy: 0.57 - ETA: 1s - loss: 0.6727 - accuracy: 0.57 - ETA: 1s - loss: 0.6726 - accuracy: 0.57 - ETA: 1s - loss: 0.6726 - accuracy: 0.57 - ETA: 1s - loss: 0.6727 - accuracy: 0.57 - ETA: 1s - loss: 0.6727 - accuracy: 0.57 - ETA: 1s - loss: 0.6726 - accuracy: 0.57 - ETA: 1s - loss: 0.6727 - accuracy: 0.57 - ETA: 1s - loss: 0.6728 - accuracy: 0.57 - ETA: 1s - loss: 0.6727 - accuracy: 0.57 - ETA: 1s - loss: 0.6726 - accuracy: 0.57 - ETA: 1s - loss: 0.6726 - accuracy: 0.57 - ETA: 1s - loss: 0.6726 - accuracy: 0.57 - ETA: 0s - loss: 0.6725 - accuracy: 0.57 - ETA: 0s - loss: 0.6724 - accuracy: 0.57 - ETA: 0s - loss: 0.6724 - accuracy: 0.57 - ETA: 0s - loss: 0.6724 - accuracy: 0.57 - ETA: 0s - loss: 0.6726 - accuracy: 0.57 - ETA: 0s - loss: 0.6728 - accuracy: 0.57 - ETA: 0s - loss: 0.6727 - accuracy: 0.57 - ETA: 0s - loss: 0.6727 - accuracy: 0.57 - ETA: 0s - loss: 0.6728 - accuracy: 0.57 - ETA: 0s - loss: 0.6727 - accuracy: 0.57 - ETA: 0s - loss: 0.6727 - accuracy: 0.57 - ETA: 0s - loss: 0.6728 - accuracy: 0.57 - ETA: 0s - loss: 0.6728 - accuracy: 0.57 - ETA: 0s - loss: 0.6728 - accuracy: 0.57 - 11s 285us/step - loss: 0.6728 - accuracy: 0.5734\n",
      "\n",
      "Epoch 00035: loss improved from 0.67369 to 0.67278, saving model to Resultados/7/Checkpoints/word2vec-35-0.6728.hdf5\n",
      "Epoch 36/50\n"
     ]
    },
    {
     "name": "stdout",
     "output_type": "stream",
     "text": [
      "40268/40268 [==============================] - ETA: 9s - loss: 0.6747 - accuracy: 0.57 - ETA: 10s - loss: 0.6705 - accuracy: 0.578 - ETA: 10s - loss: 0.6612 - accuracy: 0.597 - ETA: 10s - loss: 0.6630 - accuracy: 0.599 - ETA: 10s - loss: 0.6649 - accuracy: 0.592 - ETA: 10s - loss: 0.6646 - accuracy: 0.593 - ETA: 10s - loss: 0.6641 - accuracy: 0.596 - ETA: 10s - loss: 0.6619 - accuracy: 0.600 - ETA: 10s - loss: 0.6619 - accuracy: 0.601 - ETA: 10s - loss: 0.6621 - accuracy: 0.599 - ETA: 10s - loss: 0.6625 - accuracy: 0.596 - ETA: 10s - loss: 0.6618 - accuracy: 0.600 - ETA: 10s - loss: 0.6633 - accuracy: 0.598 - ETA: 10s - loss: 0.6648 - accuracy: 0.593 - ETA: 10s - loss: 0.6662 - accuracy: 0.590 - ETA: 10s - loss: 0.6664 - accuracy: 0.589 - ETA: 9s - loss: 0.6660 - accuracy: 0.590 - ETA: 9s - loss: 0.6668 - accuracy: 0.58 - ETA: 9s - loss: 0.6669 - accuracy: 0.59 - ETA: 9s - loss: 0.6662 - accuracy: 0.59 - ETA: 9s - loss: 0.6655 - accuracy: 0.59 - ETA: 9s - loss: 0.6665 - accuracy: 0.59 - ETA: 9s - loss: 0.6673 - accuracy: 0.58 - ETA: 9s - loss: 0.6669 - accuracy: 0.59 - ETA: 9s - loss: 0.6669 - accuracy: 0.59 - ETA: 9s - loss: 0.6665 - accuracy: 0.59 - ETA: 9s - loss: 0.6663 - accuracy: 0.59 - ETA: 9s - loss: 0.6675 - accuracy: 0.59 - ETA: 9s - loss: 0.6671 - accuracy: 0.59 - ETA: 9s - loss: 0.6681 - accuracy: 0.58 - ETA: 9s - loss: 0.6684 - accuracy: 0.58 - ETA: 9s - loss: 0.6682 - accuracy: 0.58 - ETA: 9s - loss: 0.6686 - accuracy: 0.58 - ETA: 8s - loss: 0.6687 - accuracy: 0.58 - ETA: 8s - loss: 0.6687 - accuracy: 0.58 - ETA: 8s - loss: 0.6688 - accuracy: 0.58 - ETA: 8s - loss: 0.6688 - accuracy: 0.58 - ETA: 8s - loss: 0.6690 - accuracy: 0.58 - ETA: 8s - loss: 0.6687 - accuracy: 0.58 - ETA: 8s - loss: 0.6690 - accuracy: 0.58 - ETA: 8s - loss: 0.6687 - accuracy: 0.58 - ETA: 8s - loss: 0.6686 - accuracy: 0.58 - ETA: 8s - loss: 0.6687 - accuracy: 0.58 - ETA: 8s - loss: 0.6687 - accuracy: 0.58 - ETA: 8s - loss: 0.6688 - accuracy: 0.58 - ETA: 8s - loss: 0.6694 - accuracy: 0.58 - ETA: 7s - loss: 0.6694 - accuracy: 0.58 - ETA: 7s - loss: 0.6696 - accuracy: 0.57 - ETA: 7s - loss: 0.6695 - accuracy: 0.57 - ETA: 7s - loss: 0.6693 - accuracy: 0.58 - ETA: 7s - loss: 0.6695 - accuracy: 0.58 - ETA: 7s - loss: 0.6696 - accuracy: 0.58 - ETA: 7s - loss: 0.6701 - accuracy: 0.57 - ETA: 7s - loss: 0.6704 - accuracy: 0.57 - ETA: 7s - loss: 0.6710 - accuracy: 0.57 - ETA: 7s - loss: 0.6710 - accuracy: 0.57 - ETA: 7s - loss: 0.6711 - accuracy: 0.57 - ETA: 7s - loss: 0.6713 - accuracy: 0.57 - ETA: 7s - loss: 0.6712 - accuracy: 0.57 - ETA: 7s - loss: 0.6713 - accuracy: 0.57 - ETA: 6s - loss: 0.6711 - accuracy: 0.57 - ETA: 6s - loss: 0.6709 - accuracy: 0.57 - ETA: 6s - loss: 0.6707 - accuracy: 0.57 - ETA: 6s - loss: 0.6707 - accuracy: 0.57 - ETA: 6s - loss: 0.6707 - accuracy: 0.57 - ETA: 6s - loss: 0.6705 - accuracy: 0.57 - ETA: 6s - loss: 0.6703 - accuracy: 0.57 - ETA: 6s - loss: 0.6703 - accuracy: 0.57 - ETA: 6s - loss: 0.6703 - accuracy: 0.57 - ETA: 6s - loss: 0.6705 - accuracy: 0.57 - ETA: 6s - loss: 0.6706 - accuracy: 0.57 - ETA: 6s - loss: 0.6705 - accuracy: 0.57 - ETA: 6s - loss: 0.6706 - accuracy: 0.57 - ETA: 6s - loss: 0.6706 - accuracy: 0.57 - ETA: 5s - loss: 0.6708 - accuracy: 0.57 - ETA: 5s - loss: 0.6708 - accuracy: 0.57 - ETA: 5s - loss: 0.6708 - accuracy: 0.57 - ETA: 5s - loss: 0.6706 - accuracy: 0.57 - ETA: 5s - loss: 0.6708 - accuracy: 0.57 - ETA: 5s - loss: 0.6708 - accuracy: 0.57 - ETA: 5s - loss: 0.6708 - accuracy: 0.57 - ETA: 5s - loss: 0.6709 - accuracy: 0.57 - ETA: 5s - loss: 0.6707 - accuracy: 0.57 - ETA: 5s - loss: 0.6710 - accuracy: 0.57 - ETA: 5s - loss: 0.6710 - accuracy: 0.57 - ETA: 5s - loss: 0.6709 - accuracy: 0.57 - ETA: 5s - loss: 0.6709 - accuracy: 0.57 - ETA: 4s - loss: 0.6711 - accuracy: 0.57 - ETA: 4s - loss: 0.6712 - accuracy: 0.57 - ETA: 4s - loss: 0.6711 - accuracy: 0.57 - ETA: 4s - loss: 0.6711 - accuracy: 0.57 - ETA: 4s - loss: 0.6712 - accuracy: 0.57 - ETA: 4s - loss: 0.6712 - accuracy: 0.57 - ETA: 4s - loss: 0.6710 - accuracy: 0.57 - ETA: 4s - loss: 0.6711 - accuracy: 0.57 - ETA: 4s - loss: 0.6710 - accuracy: 0.57 - ETA: 4s - loss: 0.6712 - accuracy: 0.57 - ETA: 4s - loss: 0.6712 - accuracy: 0.57 - ETA: 4s - loss: 0.6712 - accuracy: 0.57 - ETA: 4s - loss: 0.6712 - accuracy: 0.57 - ETA: 4s - loss: 0.6712 - accuracy: 0.57 - ETA: 4s - loss: 0.6711 - accuracy: 0.57 - ETA: 3s - loss: 0.6711 - accuracy: 0.57 - ETA: 3s - loss: 0.6710 - accuracy: 0.57 - ETA: 3s - loss: 0.6710 - accuracy: 0.57 - ETA: 3s - loss: 0.6711 - accuracy: 0.57 - ETA: 3s - loss: 0.6711 - accuracy: 0.57 - ETA: 3s - loss: 0.6712 - accuracy: 0.57 - ETA: 3s - loss: 0.6714 - accuracy: 0.57 - ETA: 3s - loss: 0.6714 - accuracy: 0.57 - ETA: 3s - loss: 0.6714 - accuracy: 0.57 - ETA: 3s - loss: 0.6716 - accuracy: 0.57 - ETA: 3s - loss: 0.6718 - accuracy: 0.57 - ETA: 3s - loss: 0.6717 - accuracy: 0.57 - ETA: 3s - loss: 0.6717 - accuracy: 0.57 - ETA: 2s - loss: 0.6717 - accuracy: 0.57 - ETA: 2s - loss: 0.6716 - accuracy: 0.57 - ETA: 2s - loss: 0.6716 - accuracy: 0.57 - ETA: 2s - loss: 0.6719 - accuracy: 0.57 - ETA: 2s - loss: 0.6720 - accuracy: 0.57 - ETA: 2s - loss: 0.6720 - accuracy: 0.57 - ETA: 2s - loss: 0.6722 - accuracy: 0.57 - ETA: 2s - loss: 0.6721 - accuracy: 0.57 - ETA: 2s - loss: 0.6720 - accuracy: 0.57 - ETA: 2s - loss: 0.6720 - accuracy: 0.57 - ETA: 2s - loss: 0.6719 - accuracy: 0.57 - ETA: 2s - loss: 0.6718 - accuracy: 0.57 - ETA: 2s - loss: 0.6718 - accuracy: 0.57 - ETA: 2s - loss: 0.6717 - accuracy: 0.57 - ETA: 1s - loss: 0.6717 - accuracy: 0.57 - ETA: 1s - loss: 0.6715 - accuracy: 0.57 - ETA: 1s - loss: 0.6714 - accuracy: 0.57 - ETA: 1s - loss: 0.6714 - accuracy: 0.57 - ETA: 1s - loss: 0.6715 - accuracy: 0.57 - ETA: 1s - loss: 0.6714 - accuracy: 0.57 - ETA: 1s - loss: 0.6714 - accuracy: 0.57 - ETA: 1s - loss: 0.6714 - accuracy: 0.57 - ETA: 1s - loss: 0.6714 - accuracy: 0.57 - ETA: 1s - loss: 0.6715 - accuracy: 0.57 - ETA: 1s - loss: 0.6716 - accuracy: 0.57 - ETA: 1s - loss: 0.6717 - accuracy: 0.57 - ETA: 1s - loss: 0.6716 - accuracy: 0.57 - ETA: 1s - loss: 0.6716 - accuracy: 0.57 - ETA: 0s - loss: 0.6716 - accuracy: 0.57 - ETA: 0s - loss: 0.6717 - accuracy: 0.57 - ETA: 0s - loss: 0.6717 - accuracy: 0.57 - ETA: 0s - loss: 0.6717 - accuracy: 0.57 - ETA: 0s - loss: 0.6717 - accuracy: 0.57 - ETA: 0s - loss: 0.6717 - accuracy: 0.57 - ETA: 0s - loss: 0.6717 - accuracy: 0.57 - ETA: 0s - loss: 0.6718 - accuracy: 0.57 - ETA: 0s - loss: 0.6718 - accuracy: 0.57 - ETA: 0s - loss: 0.6718 - accuracy: 0.57 - ETA: 0s - loss: 0.6718 - accuracy: 0.57 - ETA: 0s - loss: 0.6718 - accuracy: 0.57 - ETA: 0s - loss: 0.6719 - accuracy: 0.57 - ETA: 0s - loss: 0.6719 - accuracy: 0.57 - 12s 289us/step - loss: 0.6719 - accuracy: 0.5738\n",
      "\n",
      "Epoch 00036: loss improved from 0.67278 to 0.67186, saving model to Resultados/7/Checkpoints/word2vec-36-0.6719.hdf5\n",
      "Epoch 37/50\n"
     ]
    },
    {
     "name": "stdout",
     "output_type": "stream",
     "text": [
      "40268/40268 [==============================] - ETA: 12s - loss: 0.6853 - accuracy: 0.566 - ETA: 12s - loss: 0.6839 - accuracy: 0.552 - ETA: 12s - loss: 0.6761 - accuracy: 0.565 - ETA: 12s - loss: 0.6739 - accuracy: 0.562 - ETA: 12s - loss: 0.6748 - accuracy: 0.558 - ETA: 12s - loss: 0.6783 - accuracy: 0.545 - ETA: 12s - loss: 0.6748 - accuracy: 0.558 - ETA: 12s - loss: 0.6750 - accuracy: 0.557 - ETA: 12s - loss: 0.6735 - accuracy: 0.559 - ETA: 12s - loss: 0.6726 - accuracy: 0.560 - ETA: 12s - loss: 0.6725 - accuracy: 0.561 - ETA: 11s - loss: 0.6728 - accuracy: 0.560 - ETA: 11s - loss: 0.6721 - accuracy: 0.562 - ETA: 11s - loss: 0.6713 - accuracy: 0.566 - ETA: 11s - loss: 0.6708 - accuracy: 0.566 - ETA: 11s - loss: 0.6692 - accuracy: 0.571 - ETA: 11s - loss: 0.6698 - accuracy: 0.571 - ETA: 11s - loss: 0.6701 - accuracy: 0.571 - ETA: 11s - loss: 0.6701 - accuracy: 0.569 - ETA: 11s - loss: 0.6702 - accuracy: 0.571 - ETA: 11s - loss: 0.6698 - accuracy: 0.571 - ETA: 11s - loss: 0.6699 - accuracy: 0.572 - ETA: 11s - loss: 0.6688 - accuracy: 0.576 - ETA: 11s - loss: 0.6699 - accuracy: 0.575 - ETA: 11s - loss: 0.6698 - accuracy: 0.576 - ETA: 11s - loss: 0.6698 - accuracy: 0.577 - ETA: 11s - loss: 0.6693 - accuracy: 0.577 - ETA: 10s - loss: 0.6695 - accuracy: 0.576 - ETA: 10s - loss: 0.6688 - accuracy: 0.577 - ETA: 10s - loss: 0.6681 - accuracy: 0.578 - ETA: 10s - loss: 0.6686 - accuracy: 0.578 - ETA: 10s - loss: 0.6682 - accuracy: 0.580 - ETA: 10s - loss: 0.6681 - accuracy: 0.580 - ETA: 10s - loss: 0.6680 - accuracy: 0.580 - ETA: 10s - loss: 0.6680 - accuracy: 0.581 - ETA: 10s - loss: 0.6681 - accuracy: 0.581 - ETA: 10s - loss: 0.6684 - accuracy: 0.581 - ETA: 10s - loss: 0.6682 - accuracy: 0.581 - ETA: 10s - loss: 0.6685 - accuracy: 0.580 - ETA: 9s - loss: 0.6683 - accuracy: 0.580 - ETA: 9s - loss: 0.6687 - accuracy: 0.57 - ETA: 9s - loss: 0.6686 - accuracy: 0.57 - ETA: 9s - loss: 0.6689 - accuracy: 0.57 - ETA: 9s - loss: 0.6691 - accuracy: 0.57 - ETA: 9s - loss: 0.6683 - accuracy: 0.57 - ETA: 9s - loss: 0.6679 - accuracy: 0.58 - ETA: 9s - loss: 0.6684 - accuracy: 0.58 - ETA: 9s - loss: 0.6683 - accuracy: 0.58 - ETA: 9s - loss: 0.6685 - accuracy: 0.58 - ETA: 9s - loss: 0.6688 - accuracy: 0.58 - ETA: 8s - loss: 0.6690 - accuracy: 0.58 - ETA: 8s - loss: 0.6690 - accuracy: 0.58 - ETA: 8s - loss: 0.6687 - accuracy: 0.58 - ETA: 8s - loss: 0.6689 - accuracy: 0.58 - ETA: 8s - loss: 0.6693 - accuracy: 0.57 - ETA: 8s - loss: 0.6695 - accuracy: 0.57 - ETA: 8s - loss: 0.6696 - accuracy: 0.57 - ETA: 8s - loss: 0.6697 - accuracy: 0.57 - ETA: 8s - loss: 0.6696 - accuracy: 0.57 - ETA: 8s - loss: 0.6697 - accuracy: 0.57 - ETA: 8s - loss: 0.6699 - accuracy: 0.57 - ETA: 8s - loss: 0.6701 - accuracy: 0.57 - ETA: 7s - loss: 0.6700 - accuracy: 0.57 - ETA: 7s - loss: 0.6697 - accuracy: 0.57 - ETA: 7s - loss: 0.6700 - accuracy: 0.57 - ETA: 7s - loss: 0.6698 - accuracy: 0.57 - ETA: 7s - loss: 0.6698 - accuracy: 0.57 - ETA: 7s - loss: 0.6699 - accuracy: 0.57 - ETA: 7s - loss: 0.6699 - accuracy: 0.57 - ETA: 7s - loss: 0.6700 - accuracy: 0.57 - ETA: 7s - loss: 0.6701 - accuracy: 0.57 - ETA: 7s - loss: 0.6701 - accuracy: 0.57 - ETA: 7s - loss: 0.6700 - accuracy: 0.57 - ETA: 7s - loss: 0.6701 - accuracy: 0.57 - ETA: 6s - loss: 0.6703 - accuracy: 0.57 - ETA: 6s - loss: 0.6702 - accuracy: 0.57 - ETA: 6s - loss: 0.6700 - accuracy: 0.57 - ETA: 6s - loss: 0.6701 - accuracy: 0.57 - ETA: 6s - loss: 0.6703 - accuracy: 0.57 - ETA: 6s - loss: 0.6703 - accuracy: 0.57 - ETA: 6s - loss: 0.6699 - accuracy: 0.57 - ETA: 6s - loss: 0.6697 - accuracy: 0.57 - ETA: 6s - loss: 0.6697 - accuracy: 0.57 - ETA: 6s - loss: 0.6697 - accuracy: 0.57 - ETA: 6s - loss: 0.6697 - accuracy: 0.57 - ETA: 6s - loss: 0.6696 - accuracy: 0.57 - ETA: 5s - loss: 0.6698 - accuracy: 0.57 - ETA: 5s - loss: 0.6698 - accuracy: 0.57 - ETA: 5s - loss: 0.6700 - accuracy: 0.57 - ETA: 5s - loss: 0.6699 - accuracy: 0.57 - ETA: 5s - loss: 0.6701 - accuracy: 0.57 - ETA: 5s - loss: 0.6701 - accuracy: 0.57 - ETA: 5s - loss: 0.6700 - accuracy: 0.57 - ETA: 5s - loss: 0.6701 - accuracy: 0.57 - ETA: 5s - loss: 0.6703 - accuracy: 0.57 - ETA: 5s - loss: 0.6701 - accuracy: 0.57 - ETA: 5s - loss: 0.6703 - accuracy: 0.57 - ETA: 5s - loss: 0.6704 - accuracy: 0.57 - ETA: 4s - loss: 0.6703 - accuracy: 0.57 - ETA: 4s - loss: 0.6703 - accuracy: 0.57 - ETA: 4s - loss: 0.6702 - accuracy: 0.57 - ETA: 4s - loss: 0.6702 - accuracy: 0.57 - ETA: 4s - loss: 0.6702 - accuracy: 0.57 - ETA: 4s - loss: 0.6701 - accuracy: 0.57 - ETA: 4s - loss: 0.6702 - accuracy: 0.57 - ETA: 4s - loss: 0.6703 - accuracy: 0.57 - ETA: 4s - loss: 0.6702 - accuracy: 0.57 - ETA: 4s - loss: 0.6702 - accuracy: 0.57 - ETA: 4s - loss: 0.6703 - accuracy: 0.57 - ETA: 4s - loss: 0.6704 - accuracy: 0.57 - ETA: 3s - loss: 0.6704 - accuracy: 0.57 - ETA: 3s - loss: 0.6703 - accuracy: 0.57 - ETA: 3s - loss: 0.6704 - accuracy: 0.57 - ETA: 3s - loss: 0.6704 - accuracy: 0.57 - ETA: 3s - loss: 0.6705 - accuracy: 0.57 - ETA: 3s - loss: 0.6705 - accuracy: 0.57 - ETA: 3s - loss: 0.6705 - accuracy: 0.57 - ETA: 3s - loss: 0.6706 - accuracy: 0.57 - ETA: 3s - loss: 0.6706 - accuracy: 0.57 - ETA: 3s - loss: 0.6706 - accuracy: 0.57 - ETA: 3s - loss: 0.6703 - accuracy: 0.57 - ETA: 2s - loss: 0.6703 - accuracy: 0.57 - ETA: 2s - loss: 0.6703 - accuracy: 0.57 - ETA: 2s - loss: 0.6706 - accuracy: 0.57 - ETA: 2s - loss: 0.6707 - accuracy: 0.57 - ETA: 2s - loss: 0.6707 - accuracy: 0.57 - ETA: 2s - loss: 0.6708 - accuracy: 0.57 - ETA: 2s - loss: 0.6708 - accuracy: 0.57 - ETA: 2s - loss: 0.6710 - accuracy: 0.57 - ETA: 2s - loss: 0.6709 - accuracy: 0.57 - ETA: 2s - loss: 0.6709 - accuracy: 0.57 - ETA: 2s - loss: 0.6708 - accuracy: 0.57 - ETA: 2s - loss: 0.6707 - accuracy: 0.57 - ETA: 1s - loss: 0.6708 - accuracy: 0.57 - ETA: 1s - loss: 0.6708 - accuracy: 0.57 - ETA: 1s - loss: 0.6709 - accuracy: 0.57 - ETA: 1s - loss: 0.6709 - accuracy: 0.57 - ETA: 1s - loss: 0.6709 - accuracy: 0.57 - ETA: 1s - loss: 0.6709 - accuracy: 0.57 - ETA: 1s - loss: 0.6709 - accuracy: 0.57 - ETA: 1s - loss: 0.6709 - accuracy: 0.57 - ETA: 1s - loss: 0.6709 - accuracy: 0.57 - ETA: 1s - loss: 0.6710 - accuracy: 0.57 - ETA: 1s - loss: 0.6710 - accuracy: 0.57 - ETA: 1s - loss: 0.6710 - accuracy: 0.57 - ETA: 0s - loss: 0.6709 - accuracy: 0.57 - ETA: 0s - loss: 0.6709 - accuracy: 0.57 - ETA: 0s - loss: 0.6709 - accuracy: 0.57 - ETA: 0s - loss: 0.6708 - accuracy: 0.57 - ETA: 0s - loss: 0.6709 - accuracy: 0.57 - ETA: 0s - loss: 0.6710 - accuracy: 0.57 - ETA: 0s - loss: 0.6709 - accuracy: 0.57 - ETA: 0s - loss: 0.6710 - accuracy: 0.57 - ETA: 0s - loss: 0.6710 - accuracy: 0.57 - ETA: 0s - loss: 0.6711 - accuracy: 0.57 - ETA: 0s - loss: 0.6711 - accuracy: 0.57 - ETA: 0s - loss: 0.6711 - accuracy: 0.57 - 13s 329us/step - loss: 0.6711 - accuracy: 0.5753\n",
      "\n",
      "Epoch 00037: loss improved from 0.67186 to 0.67114, saving model to Resultados/7/Checkpoints/word2vec-37-0.6711.hdf5\n",
      "Epoch 38/50\n"
     ]
    },
    {
     "name": "stdout",
     "output_type": "stream",
     "text": [
      "40268/40268 [==============================] - ETA: 13s - loss: 0.6755 - accuracy: 0.578 - ETA: 12s - loss: 0.6720 - accuracy: 0.599 - ETA: 13s - loss: 0.6783 - accuracy: 0.596 - ETA: 12s - loss: 0.6720 - accuracy: 0.603 - ETA: 13s - loss: 0.6686 - accuracy: 0.603 - ETA: 13s - loss: 0.6670 - accuracy: 0.606 - ETA: 13s - loss: 0.6644 - accuracy: 0.612 - ETA: 13s - loss: 0.6660 - accuracy: 0.609 - ETA: 13s - loss: 0.6670 - accuracy: 0.603 - ETA: 13s - loss: 0.6681 - accuracy: 0.597 - ETA: 12s - loss: 0.6669 - accuracy: 0.599 - ETA: 12s - loss: 0.6664 - accuracy: 0.599 - ETA: 12s - loss: 0.6650 - accuracy: 0.598 - ETA: 12s - loss: 0.6649 - accuracy: 0.596 - ETA: 12s - loss: 0.6644 - accuracy: 0.595 - ETA: 12s - loss: 0.6646 - accuracy: 0.592 - ETA: 11s - loss: 0.6655 - accuracy: 0.589 - ETA: 11s - loss: 0.6654 - accuracy: 0.584 - ETA: 11s - loss: 0.6660 - accuracy: 0.583 - ETA: 11s - loss: 0.6667 - accuracy: 0.581 - ETA: 11s - loss: 0.6662 - accuracy: 0.582 - ETA: 11s - loss: 0.6664 - accuracy: 0.581 - ETA: 11s - loss: 0.6664 - accuracy: 0.583 - ETA: 11s - loss: 0.6673 - accuracy: 0.580 - ETA: 11s - loss: 0.6670 - accuracy: 0.582 - ETA: 11s - loss: 0.6674 - accuracy: 0.579 - ETA: 11s - loss: 0.6676 - accuracy: 0.578 - ETA: 11s - loss: 0.6677 - accuracy: 0.578 - ETA: 11s - loss: 0.6675 - accuracy: 0.577 - ETA: 11s - loss: 0.6684 - accuracy: 0.576 - ETA: 11s - loss: 0.6679 - accuracy: 0.577 - ETA: 11s - loss: 0.6674 - accuracy: 0.579 - ETA: 11s - loss: 0.6672 - accuracy: 0.579 - ETA: 10s - loss: 0.6674 - accuracy: 0.580 - ETA: 10s - loss: 0.6673 - accuracy: 0.579 - ETA: 10s - loss: 0.6671 - accuracy: 0.579 - ETA: 10s - loss: 0.6676 - accuracy: 0.578 - ETA: 10s - loss: 0.6677 - accuracy: 0.578 - ETA: 10s - loss: 0.6675 - accuracy: 0.578 - ETA: 10s - loss: 0.6671 - accuracy: 0.579 - ETA: 9s - loss: 0.6665 - accuracy: 0.580 - ETA: 9s - loss: 0.6668 - accuracy: 0.57 - ETA: 9s - loss: 0.6669 - accuracy: 0.57 - ETA: 9s - loss: 0.6670 - accuracy: 0.57 - ETA: 9s - loss: 0.6669 - accuracy: 0.58 - ETA: 9s - loss: 0.6667 - accuracy: 0.58 - ETA: 9s - loss: 0.6667 - accuracy: 0.57 - ETA: 9s - loss: 0.6669 - accuracy: 0.57 - ETA: 9s - loss: 0.6672 - accuracy: 0.57 - ETA: 9s - loss: 0.6670 - accuracy: 0.57 - ETA: 9s - loss: 0.6675 - accuracy: 0.57 - ETA: 9s - loss: 0.6676 - accuracy: 0.57 - ETA: 8s - loss: 0.6682 - accuracy: 0.57 - ETA: 8s - loss: 0.6681 - accuracy: 0.57 - ETA: 8s - loss: 0.6680 - accuracy: 0.57 - ETA: 8s - loss: 0.6681 - accuracy: 0.57 - ETA: 8s - loss: 0.6680 - accuracy: 0.57 - ETA: 8s - loss: 0.6681 - accuracy: 0.57 - ETA: 8s - loss: 0.6678 - accuracy: 0.57 - ETA: 8s - loss: 0.6680 - accuracy: 0.57 - ETA: 8s - loss: 0.6681 - accuracy: 0.57 - ETA: 8s - loss: 0.6682 - accuracy: 0.57 - ETA: 8s - loss: 0.6678 - accuracy: 0.57 - ETA: 8s - loss: 0.6676 - accuracy: 0.57 - ETA: 7s - loss: 0.6676 - accuracy: 0.57 - ETA: 7s - loss: 0.6678 - accuracy: 0.57 - ETA: 7s - loss: 0.6677 - accuracy: 0.57 - ETA: 7s - loss: 0.6677 - accuracy: 0.57 - ETA: 7s - loss: 0.6677 - accuracy: 0.57 - ETA: 7s - loss: 0.6679 - accuracy: 0.57 - ETA: 7s - loss: 0.6676 - accuracy: 0.57 - ETA: 7s - loss: 0.6675 - accuracy: 0.57 - ETA: 7s - loss: 0.6676 - accuracy: 0.57 - ETA: 7s - loss: 0.6676 - accuracy: 0.57 - ETA: 7s - loss: 0.6676 - accuracy: 0.57 - ETA: 6s - loss: 0.6677 - accuracy: 0.57 - ETA: 6s - loss: 0.6676 - accuracy: 0.57 - ETA: 6s - loss: 0.6675 - accuracy: 0.57 - ETA: 6s - loss: 0.6675 - accuracy: 0.57 - ETA: 6s - loss: 0.6675 - accuracy: 0.57 - ETA: 6s - loss: 0.6676 - accuracy: 0.57 - ETA: 6s - loss: 0.6677 - accuracy: 0.57 - ETA: 6s - loss: 0.6677 - accuracy: 0.57 - ETA: 6s - loss: 0.6681 - accuracy: 0.57 - ETA: 6s - loss: 0.6678 - accuracy: 0.57 - ETA: 6s - loss: 0.6678 - accuracy: 0.57 - ETA: 5s - loss: 0.6677 - accuracy: 0.57 - ETA: 5s - loss: 0.6677 - accuracy: 0.57 - ETA: 5s - loss: 0.6677 - accuracy: 0.57 - ETA: 5s - loss: 0.6678 - accuracy: 0.57 - ETA: 5s - loss: 0.6677 - accuracy: 0.57 - ETA: 5s - loss: 0.6680 - accuracy: 0.57 - ETA: 5s - loss: 0.6679 - accuracy: 0.57 - ETA: 5s - loss: 0.6680 - accuracy: 0.57 - ETA: 5s - loss: 0.6682 - accuracy: 0.57 - ETA: 5s - loss: 0.6682 - accuracy: 0.57 - ETA: 5s - loss: 0.6682 - accuracy: 0.57 - ETA: 4s - loss: 0.6684 - accuracy: 0.57 - ETA: 4s - loss: 0.6685 - accuracy: 0.57 - ETA: 4s - loss: 0.6686 - accuracy: 0.57 - ETA: 4s - loss: 0.6686 - accuracy: 0.57 - ETA: 4s - loss: 0.6687 - accuracy: 0.57 - ETA: 4s - loss: 0.6687 - accuracy: 0.57 - ETA: 4s - loss: 0.6687 - accuracy: 0.57 - ETA: 4s - loss: 0.6688 - accuracy: 0.57 - ETA: 4s - loss: 0.6690 - accuracy: 0.57 - ETA: 4s - loss: 0.6689 - accuracy: 0.57 - ETA: 4s - loss: 0.6690 - accuracy: 0.57 - ETA: 4s - loss: 0.6691 - accuracy: 0.57 - ETA: 3s - loss: 0.6690 - accuracy: 0.57 - ETA: 3s - loss: 0.6690 - accuracy: 0.57 - ETA: 3s - loss: 0.6691 - accuracy: 0.57 - ETA: 3s - loss: 0.6693 - accuracy: 0.57 - ETA: 3s - loss: 0.6695 - accuracy: 0.57 - ETA: 3s - loss: 0.6695 - accuracy: 0.57 - ETA: 3s - loss: 0.6695 - accuracy: 0.57 - ETA: 3s - loss: 0.6694 - accuracy: 0.57 - ETA: 3s - loss: 0.6694 - accuracy: 0.57 - ETA: 3s - loss: 0.6696 - accuracy: 0.57 - ETA: 3s - loss: 0.6697 - accuracy: 0.57 - ETA: 3s - loss: 0.6695 - accuracy: 0.57 - ETA: 2s - loss: 0.6696 - accuracy: 0.57 - ETA: 2s - loss: 0.6697 - accuracy: 0.57 - ETA: 2s - loss: 0.6696 - accuracy: 0.57 - ETA: 2s - loss: 0.6698 - accuracy: 0.57 - ETA: 2s - loss: 0.6698 - accuracy: 0.57 - ETA: 2s - loss: 0.6698 - accuracy: 0.57 - ETA: 2s - loss: 0.6698 - accuracy: 0.57 - ETA: 2s - loss: 0.6698 - accuracy: 0.57 - ETA: 2s - loss: 0.6698 - accuracy: 0.57 - ETA: 2s - loss: 0.6698 - accuracy: 0.57 - ETA: 2s - loss: 0.6698 - accuracy: 0.57 - ETA: 2s - loss: 0.6700 - accuracy: 0.57 - ETA: 1s - loss: 0.6700 - accuracy: 0.57 - ETA: 1s - loss: 0.6700 - accuracy: 0.57 - ETA: 1s - loss: 0.6700 - accuracy: 0.57 - ETA: 1s - loss: 0.6701 - accuracy: 0.57 - ETA: 1s - loss: 0.6702 - accuracy: 0.57 - ETA: 1s - loss: 0.6701 - accuracy: 0.57 - ETA: 1s - loss: 0.6703 - accuracy: 0.57 - ETA: 1s - loss: 0.6703 - accuracy: 0.57 - ETA: 1s - loss: 0.6702 - accuracy: 0.57 - ETA: 1s - loss: 0.6703 - accuracy: 0.57 - ETA: 1s - loss: 0.6704 - accuracy: 0.57 - ETA: 1s - loss: 0.6703 - accuracy: 0.57 - ETA: 0s - loss: 0.6704 - accuracy: 0.57 - ETA: 0s - loss: 0.6703 - accuracy: 0.57 - ETA: 0s - loss: 0.6704 - accuracy: 0.57 - ETA: 0s - loss: 0.6704 - accuracy: 0.57 - ETA: 0s - loss: 0.6705 - accuracy: 0.57 - ETA: 0s - loss: 0.6706 - accuracy: 0.57 - ETA: 0s - loss: 0.6705 - accuracy: 0.57 - ETA: 0s - loss: 0.6705 - accuracy: 0.57 - ETA: 0s - loss: 0.6703 - accuracy: 0.57 - ETA: 0s - loss: 0.6701 - accuracy: 0.57 - ETA: 0s - loss: 0.6702 - accuracy: 0.57 - ETA: 0s - loss: 0.6702 - accuracy: 0.57 - 13s 320us/step - loss: 0.6701 - accuracy: 0.5738\n",
      "\n",
      "Epoch 00038: loss improved from 0.67114 to 0.67007, saving model to Resultados/7/Checkpoints/word2vec-38-0.6701.hdf5\n",
      "Epoch 39/50\n"
     ]
    },
    {
     "name": "stdout",
     "output_type": "stream",
     "text": [
      "40268/40268 [==============================] - ETA: 10s - loss: 0.6647 - accuracy: 0.566 - ETA: 11s - loss: 0.6747 - accuracy: 0.548 - ETA: 10s - loss: 0.6744 - accuracy: 0.557 - ETA: 10s - loss: 0.6691 - accuracy: 0.570 - ETA: 10s - loss: 0.6659 - accuracy: 0.571 - ETA: 10s - loss: 0.6675 - accuracy: 0.573 - ETA: 10s - loss: 0.6681 - accuracy: 0.579 - ETA: 10s - loss: 0.6655 - accuracy: 0.581 - ETA: 10s - loss: 0.6656 - accuracy: 0.582 - ETA: 10s - loss: 0.6658 - accuracy: 0.580 - ETA: 10s - loss: 0.6664 - accuracy: 0.585 - ETA: 9s - loss: 0.6671 - accuracy: 0.584 - ETA: 9s - loss: 0.6682 - accuracy: 0.58 - ETA: 9s - loss: 0.6673 - accuracy: 0.58 - ETA: 9s - loss: 0.6666 - accuracy: 0.58 - ETA: 9s - loss: 0.6668 - accuracy: 0.58 - ETA: 9s - loss: 0.6684 - accuracy: 0.58 - ETA: 9s - loss: 0.6679 - accuracy: 0.58 - ETA: 9s - loss: 0.6672 - accuracy: 0.58 - ETA: 9s - loss: 0.6676 - accuracy: 0.58 - ETA: 9s - loss: 0.6684 - accuracy: 0.58 - ETA: 9s - loss: 0.6671 - accuracy: 0.58 - ETA: 9s - loss: 0.6667 - accuracy: 0.58 - ETA: 9s - loss: 0.6666 - accuracy: 0.58 - ETA: 9s - loss: 0.6667 - accuracy: 0.58 - ETA: 9s - loss: 0.6661 - accuracy: 0.58 - ETA: 9s - loss: 0.6655 - accuracy: 0.59 - ETA: 9s - loss: 0.6666 - accuracy: 0.58 - ETA: 8s - loss: 0.6664 - accuracy: 0.58 - ETA: 8s - loss: 0.6661 - accuracy: 0.58 - ETA: 8s - loss: 0.6666 - accuracy: 0.58 - ETA: 8s - loss: 0.6667 - accuracy: 0.58 - ETA: 8s - loss: 0.6666 - accuracy: 0.58 - ETA: 8s - loss: 0.6672 - accuracy: 0.58 - ETA: 8s - loss: 0.6671 - accuracy: 0.58 - ETA: 8s - loss: 0.6675 - accuracy: 0.58 - ETA: 8s - loss: 0.6669 - accuracy: 0.58 - ETA: 8s - loss: 0.6670 - accuracy: 0.58 - ETA: 8s - loss: 0.6670 - accuracy: 0.58 - ETA: 8s - loss: 0.6672 - accuracy: 0.58 - ETA: 8s - loss: 0.6678 - accuracy: 0.58 - ETA: 8s - loss: 0.6678 - accuracy: 0.58 - ETA: 8s - loss: 0.6677 - accuracy: 0.58 - ETA: 8s - loss: 0.6676 - accuracy: 0.58 - ETA: 8s - loss: 0.6676 - accuracy: 0.58 - ETA: 8s - loss: 0.6675 - accuracy: 0.58 - ETA: 8s - loss: 0.6675 - accuracy: 0.58 - ETA: 8s - loss: 0.6680 - accuracy: 0.58 - ETA: 7s - loss: 0.6678 - accuracy: 0.58 - ETA: 7s - loss: 0.6681 - accuracy: 0.58 - ETA: 7s - loss: 0.6679 - accuracy: 0.58 - ETA: 7s - loss: 0.6681 - accuracy: 0.58 - ETA: 7s - loss: 0.6683 - accuracy: 0.58 - ETA: 7s - loss: 0.6687 - accuracy: 0.57 - ETA: 7s - loss: 0.6686 - accuracy: 0.58 - ETA: 7s - loss: 0.6686 - accuracy: 0.58 - ETA: 7s - loss: 0.6690 - accuracy: 0.57 - ETA: 7s - loss: 0.6690 - accuracy: 0.57 - ETA: 7s - loss: 0.6695 - accuracy: 0.57 - ETA: 7s - loss: 0.6693 - accuracy: 0.57 - ETA: 7s - loss: 0.6698 - accuracy: 0.57 - ETA: 7s - loss: 0.6695 - accuracy: 0.57 - ETA: 7s - loss: 0.6694 - accuracy: 0.57 - ETA: 7s - loss: 0.6696 - accuracy: 0.57 - ETA: 6s - loss: 0.6699 - accuracy: 0.57 - ETA: 6s - loss: 0.6697 - accuracy: 0.57 - ETA: 6s - loss: 0.6695 - accuracy: 0.57 - ETA: 6s - loss: 0.6693 - accuracy: 0.57 - ETA: 6s - loss: 0.6694 - accuracy: 0.57 - ETA: 6s - loss: 0.6692 - accuracy: 0.57 - ETA: 6s - loss: 0.6690 - accuracy: 0.57 - ETA: 6s - loss: 0.6689 - accuracy: 0.57 - ETA: 6s - loss: 0.6689 - accuracy: 0.57 - ETA: 6s - loss: 0.6692 - accuracy: 0.57 - ETA: 6s - loss: 0.6691 - accuracy: 0.57 - ETA: 6s - loss: 0.6695 - accuracy: 0.57 - ETA: 6s - loss: 0.6694 - accuracy: 0.57 - ETA: 6s - loss: 0.6693 - accuracy: 0.57 - ETA: 6s - loss: 0.6692 - accuracy: 0.57 - ETA: 6s - loss: 0.6690 - accuracy: 0.57 - ETA: 6s - loss: 0.6690 - accuracy: 0.57 - ETA: 6s - loss: 0.6692 - accuracy: 0.57 - ETA: 6s - loss: 0.6693 - accuracy: 0.57 - ETA: 5s - loss: 0.6693 - accuracy: 0.57 - ETA: 5s - loss: 0.6693 - accuracy: 0.57 - ETA: 5s - loss: 0.6694 - accuracy: 0.57 - ETA: 5s - loss: 0.6694 - accuracy: 0.57 - ETA: 5s - loss: 0.6694 - accuracy: 0.57 - ETA: 5s - loss: 0.6695 - accuracy: 0.57 - ETA: 5s - loss: 0.6696 - accuracy: 0.57 - ETA: 5s - loss: 0.6698 - accuracy: 0.57 - ETA: 5s - loss: 0.6698 - accuracy: 0.57 - ETA: 5s - loss: 0.6697 - accuracy: 0.57 - ETA: 5s - loss: 0.6698 - accuracy: 0.57 - ETA: 5s - loss: 0.6699 - accuracy: 0.57 - ETA: 4s - loss: 0.6699 - accuracy: 0.57 - ETA: 4s - loss: 0.6701 - accuracy: 0.57 - ETA: 4s - loss: 0.6701 - accuracy: 0.57 - ETA: 4s - loss: 0.6700 - accuracy: 0.57 - ETA: 4s - loss: 0.6698 - accuracy: 0.57 - ETA: 4s - loss: 0.6697 - accuracy: 0.57 - ETA: 4s - loss: 0.6698 - accuracy: 0.57 - ETA: 4s - loss: 0.6697 - accuracy: 0.57 - ETA: 4s - loss: 0.6698 - accuracy: 0.57 - ETA: 4s - loss: 0.6697 - accuracy: 0.57 - ETA: 4s - loss: 0.6698 - accuracy: 0.57 - ETA: 4s - loss: 0.6697 - accuracy: 0.57 - ETA: 4s - loss: 0.6698 - accuracy: 0.57 - ETA: 3s - loss: 0.6698 - accuracy: 0.57 - ETA: 3s - loss: 0.6699 - accuracy: 0.57 - ETA: 3s - loss: 0.6699 - accuracy: 0.57 - ETA: 3s - loss: 0.6698 - accuracy: 0.57 - ETA: 3s - loss: 0.6699 - accuracy: 0.57 - ETA: 3s - loss: 0.6699 - accuracy: 0.57 - ETA: 3s - loss: 0.6700 - accuracy: 0.57 - ETA: 3s - loss: 0.6699 - accuracy: 0.57 - ETA: 3s - loss: 0.6700 - accuracy: 0.57 - ETA: 3s - loss: 0.6699 - accuracy: 0.57 - ETA: 3s - loss: 0.6699 - accuracy: 0.57 - ETA: 3s - loss: 0.6697 - accuracy: 0.57 - ETA: 2s - loss: 0.6697 - accuracy: 0.57 - ETA: 2s - loss: 0.6697 - accuracy: 0.57 - ETA: 2s - loss: 0.6697 - accuracy: 0.57 - ETA: 2s - loss: 0.6698 - accuracy: 0.57 - ETA: 2s - loss: 0.6697 - accuracy: 0.57 - ETA: 2s - loss: 0.6698 - accuracy: 0.57 - ETA: 2s - loss: 0.6697 - accuracy: 0.57 - ETA: 2s - loss: 0.6698 - accuracy: 0.57 - ETA: 2s - loss: 0.6698 - accuracy: 0.57 - ETA: 2s - loss: 0.6697 - accuracy: 0.57 - ETA: 2s - loss: 0.6696 - accuracy: 0.57 - ETA: 2s - loss: 0.6698 - accuracy: 0.57 - ETA: 1s - loss: 0.6697 - accuracy: 0.57 - ETA: 1s - loss: 0.6698 - accuracy: 0.57 - ETA: 1s - loss: 0.6698 - accuracy: 0.57 - ETA: 1s - loss: 0.6697 - accuracy: 0.57 - ETA: 1s - loss: 0.6697 - accuracy: 0.57 - ETA: 1s - loss: 0.6698 - accuracy: 0.57 - ETA: 1s - loss: 0.6697 - accuracy: 0.57 - ETA: 1s - loss: 0.6696 - accuracy: 0.57 - ETA: 1s - loss: 0.6696 - accuracy: 0.57 - ETA: 1s - loss: 0.6695 - accuracy: 0.57 - ETA: 1s - loss: 0.6698 - accuracy: 0.57 - ETA: 1s - loss: 0.6694 - accuracy: 0.57 - ETA: 1s - loss: 0.6693 - accuracy: 0.57 - ETA: 0s - loss: 0.6693 - accuracy: 0.57 - ETA: 0s - loss: 0.6694 - accuracy: 0.57 - ETA: 0s - loss: 0.6693 - accuracy: 0.57 - ETA: 0s - loss: 0.6694 - accuracy: 0.57 - ETA: 0s - loss: 0.6695 - accuracy: 0.57 - ETA: 0s - loss: 0.6695 - accuracy: 0.57 - ETA: 0s - loss: 0.6695 - accuracy: 0.57 - ETA: 0s - loss: 0.6694 - accuracy: 0.57 - ETA: 0s - loss: 0.6695 - accuracy: 0.57 - ETA: 0s - loss: 0.6695 - accuracy: 0.57 - ETA: 0s - loss: 0.6695 - accuracy: 0.57 - ETA: 0s - loss: 0.6696 - accuracy: 0.57 - 13s 316us/step - loss: 0.6696 - accuracy: 0.5748\n",
      "\n",
      "Epoch 00039: loss improved from 0.67007 to 0.66960, saving model to Resultados/7/Checkpoints/word2vec-39-0.6696.hdf5\n",
      "Epoch 40/50\n"
     ]
    },
    {
     "name": "stdout",
     "output_type": "stream",
     "text": [
      "40268/40268 [==============================] - ETA: 10s - loss: 0.6754 - accuracy: 0.582 - ETA: 11s - loss: 0.6739 - accuracy: 0.580 - ETA: 11s - loss: 0.6772 - accuracy: 0.565 - ETA: 11s - loss: 0.6791 - accuracy: 0.557 - ETA: 11s - loss: 0.6775 - accuracy: 0.553 - ETA: 11s - loss: 0.6770 - accuracy: 0.556 - ETA: 11s - loss: 0.6754 - accuracy: 0.564 - ETA: 11s - loss: 0.6717 - accuracy: 0.574 - ETA: 11s - loss: 0.6710 - accuracy: 0.572 - ETA: 11s - loss: 0.6694 - accuracy: 0.575 - ETA: 11s - loss: 0.6691 - accuracy: 0.576 - ETA: 11s - loss: 0.6681 - accuracy: 0.580 - ETA: 11s - loss: 0.6672 - accuracy: 0.583 - ETA: 11s - loss: 0.6665 - accuracy: 0.584 - ETA: 11s - loss: 0.6663 - accuracy: 0.585 - ETA: 11s - loss: 0.6663 - accuracy: 0.585 - ETA: 11s - loss: 0.6657 - accuracy: 0.588 - ETA: 11s - loss: 0.6642 - accuracy: 0.588 - ETA: 10s - loss: 0.6649 - accuracy: 0.585 - ETA: 10s - loss: 0.6653 - accuracy: 0.584 - ETA: 10s - loss: 0.6651 - accuracy: 0.584 - ETA: 10s - loss: 0.6658 - accuracy: 0.582 - ETA: 10s - loss: 0.6659 - accuracy: 0.582 - ETA: 10s - loss: 0.6656 - accuracy: 0.581 - ETA: 10s - loss: 0.6657 - accuracy: 0.581 - ETA: 10s - loss: 0.6669 - accuracy: 0.579 - ETA: 9s - loss: 0.6663 - accuracy: 0.580 - ETA: 9s - loss: 0.6660 - accuracy: 0.57 - ETA: 9s - loss: 0.6661 - accuracy: 0.58 - ETA: 9s - loss: 0.6666 - accuracy: 0.57 - ETA: 9s - loss: 0.6668 - accuracy: 0.57 - ETA: 9s - loss: 0.6677 - accuracy: 0.57 - ETA: 9s - loss: 0.6678 - accuracy: 0.57 - ETA: 9s - loss: 0.6670 - accuracy: 0.57 - ETA: 9s - loss: 0.6673 - accuracy: 0.57 - ETA: 9s - loss: 0.6672 - accuracy: 0.57 - ETA: 9s - loss: 0.6666 - accuracy: 0.57 - ETA: 9s - loss: 0.6670 - accuracy: 0.57 - ETA: 9s - loss: 0.6675 - accuracy: 0.57 - ETA: 9s - loss: 0.6675 - accuracy: 0.57 - ETA: 9s - loss: 0.6674 - accuracy: 0.57 - ETA: 9s - loss: 0.6674 - accuracy: 0.57 - ETA: 9s - loss: 0.6673 - accuracy: 0.57 - ETA: 8s - loss: 0.6673 - accuracy: 0.57 - ETA: 8s - loss: 0.6669 - accuracy: 0.57 - ETA: 8s - loss: 0.6665 - accuracy: 0.57 - ETA: 8s - loss: 0.6669 - accuracy: 0.57 - ETA: 8s - loss: 0.6669 - accuracy: 0.57 - ETA: 8s - loss: 0.6669 - accuracy: 0.57 - ETA: 8s - loss: 0.6668 - accuracy: 0.58 - ETA: 8s - loss: 0.6670 - accuracy: 0.57 - ETA: 8s - loss: 0.6668 - accuracy: 0.58 - ETA: 8s - loss: 0.6671 - accuracy: 0.58 - ETA: 8s - loss: 0.6670 - accuracy: 0.58 - ETA: 8s - loss: 0.6671 - accuracy: 0.58 - ETA: 7s - loss: 0.6669 - accuracy: 0.58 - ETA: 7s - loss: 0.6666 - accuracy: 0.58 - ETA: 7s - loss: 0.6664 - accuracy: 0.58 - ETA: 7s - loss: 0.6664 - accuracy: 0.58 - ETA: 7s - loss: 0.6669 - accuracy: 0.58 - ETA: 7s - loss: 0.6670 - accuracy: 0.58 - ETA: 7s - loss: 0.6671 - accuracy: 0.58 - ETA: 7s - loss: 0.6671 - accuracy: 0.58 - ETA: 7s - loss: 0.6668 - accuracy: 0.58 - ETA: 7s - loss: 0.6667 - accuracy: 0.58 - ETA: 7s - loss: 0.6670 - accuracy: 0.58 - ETA: 6s - loss: 0.6674 - accuracy: 0.57 - ETA: 6s - loss: 0.6672 - accuracy: 0.57 - ETA: 6s - loss: 0.6673 - accuracy: 0.57 - ETA: 6s - loss: 0.6672 - accuracy: 0.57 - ETA: 6s - loss: 0.6672 - accuracy: 0.57 - ETA: 6s - loss: 0.6673 - accuracy: 0.57 - ETA: 6s - loss: 0.6674 - accuracy: 0.57 - ETA: 6s - loss: 0.6678 - accuracy: 0.57 - ETA: 6s - loss: 0.6677 - accuracy: 0.57 - ETA: 6s - loss: 0.6677 - accuracy: 0.57 - ETA: 6s - loss: 0.6676 - accuracy: 0.57 - ETA: 6s - loss: 0.6677 - accuracy: 0.57 - ETA: 6s - loss: 0.6676 - accuracy: 0.57 - ETA: 5s - loss: 0.6675 - accuracy: 0.57 - ETA: 5s - loss: 0.6678 - accuracy: 0.57 - ETA: 5s - loss: 0.6677 - accuracy: 0.57 - ETA: 5s - loss: 0.6679 - accuracy: 0.57 - ETA: 5s - loss: 0.6680 - accuracy: 0.57 - ETA: 5s - loss: 0.6679 - accuracy: 0.57 - ETA: 5s - loss: 0.6683 - accuracy: 0.57 - ETA: 5s - loss: 0.6684 - accuracy: 0.57 - ETA: 5s - loss: 0.6684 - accuracy: 0.57 - ETA: 5s - loss: 0.6686 - accuracy: 0.57 - ETA: 5s - loss: 0.6683 - accuracy: 0.57 - ETA: 5s - loss: 0.6683 - accuracy: 0.57 - ETA: 5s - loss: 0.6686 - accuracy: 0.57 - ETA: 4s - loss: 0.6685 - accuracy: 0.57 - ETA: 4s - loss: 0.6686 - accuracy: 0.57 - ETA: 4s - loss: 0.6688 - accuracy: 0.57 - ETA: 4s - loss: 0.6689 - accuracy: 0.57 - ETA: 4s - loss: 0.6688 - accuracy: 0.57 - ETA: 4s - loss: 0.6688 - accuracy: 0.57 - ETA: 4s - loss: 0.6690 - accuracy: 0.57 - ETA: 4s - loss: 0.6691 - accuracy: 0.57 - ETA: 4s - loss: 0.6693 - accuracy: 0.57 - ETA: 4s - loss: 0.6692 - accuracy: 0.57 - ETA: 4s - loss: 0.6692 - accuracy: 0.57 - ETA: 4s - loss: 0.6692 - accuracy: 0.57 - ETA: 4s - loss: 0.6691 - accuracy: 0.57 - ETA: 3s - loss: 0.6691 - accuracy: 0.57 - ETA: 3s - loss: 0.6692 - accuracy: 0.57 - ETA: 3s - loss: 0.6693 - accuracy: 0.57 - ETA: 3s - loss: 0.6692 - accuracy: 0.57 - ETA: 3s - loss: 0.6694 - accuracy: 0.57 - ETA: 3s - loss: 0.6696 - accuracy: 0.57 - ETA: 3s - loss: 0.6694 - accuracy: 0.57 - ETA: 3s - loss: 0.6693 - accuracy: 0.57 - ETA: 3s - loss: 0.6693 - accuracy: 0.57 - ETA: 3s - loss: 0.6693 - accuracy: 0.57 - ETA: 3s - loss: 0.6694 - accuracy: 0.57 - ETA: 3s - loss: 0.6694 - accuracy: 0.57 - ETA: 3s - loss: 0.6695 - accuracy: 0.57 - ETA: 2s - loss: 0.6696 - accuracy: 0.57 - ETA: 2s - loss: 0.6696 - accuracy: 0.57 - ETA: 2s - loss: 0.6696 - accuracy: 0.57 - ETA: 2s - loss: 0.6696 - accuracy: 0.57 - ETA: 2s - loss: 0.6696 - accuracy: 0.57 - ETA: 2s - loss: 0.6696 - accuracy: 0.57 - ETA: 2s - loss: 0.6698 - accuracy: 0.57 - ETA: 2s - loss: 0.6699 - accuracy: 0.57 - ETA: 2s - loss: 0.6699 - accuracy: 0.57 - ETA: 2s - loss: 0.6699 - accuracy: 0.57 - ETA: 2s - loss: 0.6698 - accuracy: 0.57 - ETA: 2s - loss: 0.6698 - accuracy: 0.57 - ETA: 2s - loss: 0.6698 - accuracy: 0.57 - ETA: 1s - loss: 0.6698 - accuracy: 0.57 - ETA: 1s - loss: 0.6698 - accuracy: 0.57 - ETA: 1s - loss: 0.6698 - accuracy: 0.57 - ETA: 1s - loss: 0.6699 - accuracy: 0.57 - ETA: 1s - loss: 0.6699 - accuracy: 0.57 - ETA: 1s - loss: 0.6700 - accuracy: 0.57 - ETA: 1s - loss: 0.6698 - accuracy: 0.57 - ETA: 1s - loss: 0.6698 - accuracy: 0.57 - ETA: 1s - loss: 0.6698 - accuracy: 0.57 - ETA: 1s - loss: 0.6699 - accuracy: 0.57 - ETA: 1s - loss: 0.6701 - accuracy: 0.57 - ETA: 1s - loss: 0.6701 - accuracy: 0.57 - ETA: 1s - loss: 0.6701 - accuracy: 0.57 - ETA: 0s - loss: 0.6700 - accuracy: 0.57 - ETA: 0s - loss: 0.6699 - accuracy: 0.57 - ETA: 0s - loss: 0.6698 - accuracy: 0.57 - ETA: 0s - loss: 0.6699 - accuracy: 0.57 - ETA: 0s - loss: 0.6698 - accuracy: 0.57 - ETA: 0s - loss: 0.6697 - accuracy: 0.57 - ETA: 0s - loss: 0.6696 - accuracy: 0.57 - ETA: 0s - loss: 0.6697 - accuracy: 0.57 - ETA: 0s - loss: 0.6696 - accuracy: 0.57 - ETA: 0s - loss: 0.6696 - accuracy: 0.57 - ETA: 0s - loss: 0.6695 - accuracy: 0.57 - ETA: 0s - loss: 0.6694 - accuracy: 0.57 - ETA: 0s - loss: 0.6696 - accuracy: 0.57 - 12s 297us/step - loss: 0.6696 - accuracy: 0.5763\n",
      "\n",
      "Epoch 00040: loss improved from 0.66960 to 0.66959, saving model to Resultados/7/Checkpoints/word2vec-40-0.6696.hdf5\n",
      "Epoch 41/50\n"
     ]
    },
    {
     "name": "stdout",
     "output_type": "stream",
     "text": [
      "40268/40268 [==============================] - ETA: 9s - loss: 0.6727 - accuracy: 0.58 - ETA: 10s - loss: 0.6680 - accuracy: 0.603 - ETA: 11s - loss: 0.6741 - accuracy: 0.588 - ETA: 11s - loss: 0.6712 - accuracy: 0.590 - ETA: 11s - loss: 0.6686 - accuracy: 0.594 - ETA: 11s - loss: 0.6700 - accuracy: 0.586 - ETA: 10s - loss: 0.6715 - accuracy: 0.582 - ETA: 10s - loss: 0.6711 - accuracy: 0.584 - ETA: 10s - loss: 0.6712 - accuracy: 0.579 - ETA: 10s - loss: 0.6703 - accuracy: 0.579 - ETA: 10s - loss: 0.6682 - accuracy: 0.579 - ETA: 10s - loss: 0.6678 - accuracy: 0.579 - ETA: 10s - loss: 0.6676 - accuracy: 0.578 - ETA: 10s - loss: 0.6672 - accuracy: 0.579 - ETA: 10s - loss: 0.6672 - accuracy: 0.578 - ETA: 10s - loss: 0.6671 - accuracy: 0.578 - ETA: 10s - loss: 0.6666 - accuracy: 0.581 - ETA: 10s - loss: 0.6667 - accuracy: 0.580 - ETA: 10s - loss: 0.6682 - accuracy: 0.578 - ETA: 10s - loss: 0.6682 - accuracy: 0.577 - ETA: 10s - loss: 0.6685 - accuracy: 0.577 - ETA: 10s - loss: 0.6684 - accuracy: 0.577 - ETA: 10s - loss: 0.6687 - accuracy: 0.577 - ETA: 10s - loss: 0.6675 - accuracy: 0.578 - ETA: 10s - loss: 0.6672 - accuracy: 0.578 - ETA: 10s - loss: 0.6667 - accuracy: 0.578 - ETA: 10s - loss: 0.6666 - accuracy: 0.578 - ETA: 10s - loss: 0.6665 - accuracy: 0.578 - ETA: 10s - loss: 0.6660 - accuracy: 0.581 - ETA: 10s - loss: 0.6662 - accuracy: 0.580 - ETA: 10s - loss: 0.6657 - accuracy: 0.581 - ETA: 10s - loss: 0.6663 - accuracy: 0.580 - ETA: 10s - loss: 0.6669 - accuracy: 0.579 - ETA: 10s - loss: 0.6672 - accuracy: 0.579 - ETA: 10s - loss: 0.6679 - accuracy: 0.578 - ETA: 10s - loss: 0.6675 - accuracy: 0.578 - ETA: 10s - loss: 0.6674 - accuracy: 0.578 - ETA: 9s - loss: 0.6674 - accuracy: 0.579 - ETA: 9s - loss: 0.6675 - accuracy: 0.57 - ETA: 9s - loss: 0.6672 - accuracy: 0.58 - ETA: 9s - loss: 0.6676 - accuracy: 0.58 - ETA: 9s - loss: 0.6670 - accuracy: 0.58 - ETA: 9s - loss: 0.6669 - accuracy: 0.58 - ETA: 9s - loss: 0.6667 - accuracy: 0.58 - ETA: 9s - loss: 0.6668 - accuracy: 0.58 - ETA: 9s - loss: 0.6673 - accuracy: 0.58 - ETA: 9s - loss: 0.6673 - accuracy: 0.58 - ETA: 8s - loss: 0.6677 - accuracy: 0.58 - ETA: 8s - loss: 0.6679 - accuracy: 0.58 - ETA: 8s - loss: 0.6683 - accuracy: 0.57 - ETA: 8s - loss: 0.6682 - accuracy: 0.58 - ETA: 8s - loss: 0.6683 - accuracy: 0.57 - ETA: 8s - loss: 0.6682 - accuracy: 0.58 - ETA: 8s - loss: 0.6686 - accuracy: 0.57 - ETA: 8s - loss: 0.6687 - accuracy: 0.57 - ETA: 8s - loss: 0.6690 - accuracy: 0.57 - ETA: 8s - loss: 0.6691 - accuracy: 0.57 - ETA: 8s - loss: 0.6687 - accuracy: 0.57 - ETA: 8s - loss: 0.6687 - accuracy: 0.57 - ETA: 8s - loss: 0.6691 - accuracy: 0.57 - ETA: 7s - loss: 0.6688 - accuracy: 0.57 - ETA: 7s - loss: 0.6688 - accuracy: 0.57 - ETA: 7s - loss: 0.6685 - accuracy: 0.57 - ETA: 7s - loss: 0.6685 - accuracy: 0.57 - ETA: 7s - loss: 0.6682 - accuracy: 0.58 - ETA: 7s - loss: 0.6685 - accuracy: 0.57 - ETA: 7s - loss: 0.6685 - accuracy: 0.57 - ETA: 7s - loss: 0.6684 - accuracy: 0.58 - ETA: 7s - loss: 0.6682 - accuracy: 0.58 - ETA: 7s - loss: 0.6679 - accuracy: 0.58 - ETA: 7s - loss: 0.6680 - accuracy: 0.58 - ETA: 7s - loss: 0.6681 - accuracy: 0.58 - ETA: 6s - loss: 0.6682 - accuracy: 0.58 - ETA: 6s - loss: 0.6679 - accuracy: 0.58 - ETA: 6s - loss: 0.6679 - accuracy: 0.58 - ETA: 6s - loss: 0.6677 - accuracy: 0.58 - ETA: 6s - loss: 0.6676 - accuracy: 0.58 - ETA: 6s - loss: 0.6677 - accuracy: 0.58 - ETA: 6s - loss: 0.6674 - accuracy: 0.58 - ETA: 6s - loss: 0.6674 - accuracy: 0.58 - ETA: 6s - loss: 0.6677 - accuracy: 0.58 - ETA: 6s - loss: 0.6679 - accuracy: 0.58 - ETA: 6s - loss: 0.6683 - accuracy: 0.58 - ETA: 6s - loss: 0.6683 - accuracy: 0.58 - ETA: 6s - loss: 0.6684 - accuracy: 0.58 - ETA: 5s - loss: 0.6685 - accuracy: 0.58 - ETA: 5s - loss: 0.6683 - accuracy: 0.58 - ETA: 5s - loss: 0.6681 - accuracy: 0.58 - ETA: 5s - loss: 0.6680 - accuracy: 0.58 - ETA: 5s - loss: 0.6682 - accuracy: 0.58 - ETA: 5s - loss: 0.6683 - accuracy: 0.58 - ETA: 5s - loss: 0.6682 - accuracy: 0.58 - ETA: 5s - loss: 0.6679 - accuracy: 0.58 - ETA: 5s - loss: 0.6680 - accuracy: 0.58 - ETA: 5s - loss: 0.6680 - accuracy: 0.58 - ETA: 5s - loss: 0.6679 - accuracy: 0.58 - ETA: 5s - loss: 0.6680 - accuracy: 0.58 - ETA: 4s - loss: 0.6678 - accuracy: 0.58 - ETA: 4s - loss: 0.6679 - accuracy: 0.58 - ETA: 4s - loss: 0.6677 - accuracy: 0.58 - ETA: 4s - loss: 0.6677 - accuracy: 0.58 - ETA: 4s - loss: 0.6677 - accuracy: 0.58 - ETA: 4s - loss: 0.6677 - accuracy: 0.58 - ETA: 4s - loss: 0.6677 - accuracy: 0.58 - ETA: 4s - loss: 0.6679 - accuracy: 0.58 - ETA: 4s - loss: 0.6681 - accuracy: 0.58 - ETA: 4s - loss: 0.6680 - accuracy: 0.58 - ETA: 4s - loss: 0.6681 - accuracy: 0.58 - ETA: 4s - loss: 0.6684 - accuracy: 0.58 - ETA: 3s - loss: 0.6683 - accuracy: 0.57 - ETA: 3s - loss: 0.6683 - accuracy: 0.57 - ETA: 3s - loss: 0.6682 - accuracy: 0.58 - ETA: 3s - loss: 0.6681 - accuracy: 0.58 - ETA: 3s - loss: 0.6680 - accuracy: 0.58 - ETA: 3s - loss: 0.6679 - accuracy: 0.58 - ETA: 3s - loss: 0.6680 - accuracy: 0.58 - ETA: 3s - loss: 0.6680 - accuracy: 0.58 - ETA: 3s - loss: 0.6681 - accuracy: 0.58 - ETA: 3s - loss: 0.6683 - accuracy: 0.58 - ETA: 3s - loss: 0.6683 - accuracy: 0.58 - ETA: 2s - loss: 0.6682 - accuracy: 0.58 - ETA: 2s - loss: 0.6683 - accuracy: 0.58 - ETA: 2s - loss: 0.6683 - accuracy: 0.57 - ETA: 2s - loss: 0.6684 - accuracy: 0.57 - ETA: 2s - loss: 0.6684 - accuracy: 0.57 - ETA: 2s - loss: 0.6682 - accuracy: 0.58 - ETA: 2s - loss: 0.6681 - accuracy: 0.58 - ETA: 2s - loss: 0.6680 - accuracy: 0.58 - ETA: 2s - loss: 0.6679 - accuracy: 0.58 - ETA: 2s - loss: 0.6679 - accuracy: 0.58 - ETA: 2s - loss: 0.6680 - accuracy: 0.58 - ETA: 2s - loss: 0.6682 - accuracy: 0.58 - ETA: 1s - loss: 0.6682 - accuracy: 0.58 - ETA: 1s - loss: 0.6683 - accuracy: 0.58 - ETA: 1s - loss: 0.6682 - accuracy: 0.58 - ETA: 1s - loss: 0.6682 - accuracy: 0.58 - ETA: 1s - loss: 0.6682 - accuracy: 0.58 - ETA: 1s - loss: 0.6681 - accuracy: 0.58 - ETA: 1s - loss: 0.6682 - accuracy: 0.58 - ETA: 1s - loss: 0.6682 - accuracy: 0.58 - ETA: 1s - loss: 0.6682 - accuracy: 0.58 - ETA: 1s - loss: 0.6683 - accuracy: 0.58 - ETA: 1s - loss: 0.6682 - accuracy: 0.58 - ETA: 1s - loss: 0.6681 - accuracy: 0.58 - ETA: 0s - loss: 0.6681 - accuracy: 0.58 - ETA: 0s - loss: 0.6680 - accuracy: 0.58 - ETA: 0s - loss: 0.6679 - accuracy: 0.58 - ETA: 0s - loss: 0.6681 - accuracy: 0.58 - ETA: 0s - loss: 0.6681 - accuracy: 0.58 - ETA: 0s - loss: 0.6682 - accuracy: 0.58 - ETA: 0s - loss: 0.6682 - accuracy: 0.58 - ETA: 0s - loss: 0.6681 - accuracy: 0.58 - ETA: 0s - loss: 0.6679 - accuracy: 0.58 - ETA: 0s - loss: 0.6680 - accuracy: 0.58 - ETA: 0s - loss: 0.6678 - accuracy: 0.58 - ETA: 0s - loss: 0.6678 - accuracy: 0.58 - ETA: 0s - loss: 0.6678 - accuracy: 0.58 - 13s 315us/step - loss: 0.6678 - accuracy: 0.5818\n",
      "\n",
      "Epoch 00041: loss improved from 0.66959 to 0.66781, saving model to Resultados/7/Checkpoints/word2vec-41-0.6678.hdf5\n",
      "Epoch 42/50\n"
     ]
    },
    {
     "name": "stdout",
     "output_type": "stream",
     "text": [
      "40268/40268 [==============================] - ETA: 14s - loss: 0.6707 - accuracy: 0.539 - ETA: 15s - loss: 0.6724 - accuracy: 0.541 - ETA: 16s - loss: 0.6732 - accuracy: 0.556 - ETA: 17s - loss: 0.6720 - accuracy: 0.566 - ETA: 16s - loss: 0.6726 - accuracy: 0.564 - ETA: 16s - loss: 0.6726 - accuracy: 0.565 - ETA: 15s - loss: 0.6717 - accuracy: 0.574 - ETA: 15s - loss: 0.6702 - accuracy: 0.576 - ETA: 15s - loss: 0.6717 - accuracy: 0.571 - ETA: 15s - loss: 0.6705 - accuracy: 0.571 - ETA: 15s - loss: 0.6706 - accuracy: 0.573 - ETA: 15s - loss: 0.6720 - accuracy: 0.571 - ETA: 14s - loss: 0.6739 - accuracy: 0.570 - ETA: 14s - loss: 0.6718 - accuracy: 0.574 - ETA: 14s - loss: 0.6715 - accuracy: 0.574 - ETA: 14s - loss: 0.6714 - accuracy: 0.573 - ETA: 14s - loss: 0.6706 - accuracy: 0.575 - ETA: 14s - loss: 0.6704 - accuracy: 0.575 - ETA: 14s - loss: 0.6693 - accuracy: 0.577 - ETA: 14s - loss: 0.6690 - accuracy: 0.577 - ETA: 13s - loss: 0.6697 - accuracy: 0.577 - ETA: 13s - loss: 0.6688 - accuracy: 0.578 - ETA: 13s - loss: 0.6695 - accuracy: 0.576 - ETA: 13s - loss: 0.6677 - accuracy: 0.579 - ETA: 13s - loss: 0.6681 - accuracy: 0.578 - ETA: 13s - loss: 0.6686 - accuracy: 0.576 - ETA: 13s - loss: 0.6686 - accuracy: 0.577 - ETA: 12s - loss: 0.6683 - accuracy: 0.578 - ETA: 12s - loss: 0.6691 - accuracy: 0.577 - ETA: 12s - loss: 0.6684 - accuracy: 0.578 - ETA: 12s - loss: 0.6682 - accuracy: 0.577 - ETA: 12s - loss: 0.6675 - accuracy: 0.578 - ETA: 12s - loss: 0.6668 - accuracy: 0.579 - ETA: 12s - loss: 0.6664 - accuracy: 0.580 - ETA: 12s - loss: 0.6671 - accuracy: 0.579 - ETA: 12s - loss: 0.6665 - accuracy: 0.580 - ETA: 11s - loss: 0.6666 - accuracy: 0.580 - ETA: 11s - loss: 0.6672 - accuracy: 0.578 - ETA: 11s - loss: 0.6673 - accuracy: 0.578 - ETA: 11s - loss: 0.6673 - accuracy: 0.577 - ETA: 11s - loss: 0.6676 - accuracy: 0.577 - ETA: 11s - loss: 0.6674 - accuracy: 0.577 - ETA: 11s - loss: 0.6678 - accuracy: 0.577 - ETA: 11s - loss: 0.6675 - accuracy: 0.578 - ETA: 11s - loss: 0.6673 - accuracy: 0.578 - ETA: 11s - loss: 0.6675 - accuracy: 0.578 - ETA: 10s - loss: 0.6678 - accuracy: 0.578 - ETA: 10s - loss: 0.6676 - accuracy: 0.578 - ETA: 10s - loss: 0.6676 - accuracy: 0.578 - ETA: 10s - loss: 0.6674 - accuracy: 0.578 - ETA: 10s - loss: 0.6674 - accuracy: 0.578 - ETA: 10s - loss: 0.6675 - accuracy: 0.579 - ETA: 10s - loss: 0.6680 - accuracy: 0.577 - ETA: 10s - loss: 0.6681 - accuracy: 0.577 - ETA: 9s - loss: 0.6681 - accuracy: 0.577 - ETA: 9s - loss: 0.6679 - accuracy: 0.57 - ETA: 9s - loss: 0.6682 - accuracy: 0.57 - ETA: 9s - loss: 0.6681 - accuracy: 0.57 - ETA: 9s - loss: 0.6678 - accuracy: 0.57 - ETA: 9s - loss: 0.6677 - accuracy: 0.57 - ETA: 9s - loss: 0.6675 - accuracy: 0.57 - ETA: 9s - loss: 0.6675 - accuracy: 0.57 - ETA: 9s - loss: 0.6673 - accuracy: 0.57 - ETA: 9s - loss: 0.6671 - accuracy: 0.57 - ETA: 9s - loss: 0.6671 - accuracy: 0.57 - ETA: 8s - loss: 0.6672 - accuracy: 0.57 - ETA: 8s - loss: 0.6672 - accuracy: 0.57 - ETA: 8s - loss: 0.6670 - accuracy: 0.57 - ETA: 8s - loss: 0.6667 - accuracy: 0.58 - ETA: 8s - loss: 0.6667 - accuracy: 0.58 - ETA: 8s - loss: 0.6668 - accuracy: 0.57 - ETA: 8s - loss: 0.6670 - accuracy: 0.57 - ETA: 8s - loss: 0.6668 - accuracy: 0.58 - ETA: 8s - loss: 0.6666 - accuracy: 0.58 - ETA: 8s - loss: 0.6666 - accuracy: 0.57 - ETA: 7s - loss: 0.6664 - accuracy: 0.58 - ETA: 7s - loss: 0.6662 - accuracy: 0.58 - ETA: 7s - loss: 0.6661 - accuracy: 0.58 - ETA: 7s - loss: 0.6662 - accuracy: 0.58 - ETA: 7s - loss: 0.6666 - accuracy: 0.57 - ETA: 7s - loss: 0.6664 - accuracy: 0.57 - ETA: 7s - loss: 0.6664 - accuracy: 0.57 - ETA: 7s - loss: 0.6661 - accuracy: 0.58 - ETA: 7s - loss: 0.6660 - accuracy: 0.58 - ETA: 7s - loss: 0.6660 - accuracy: 0.58 - ETA: 6s - loss: 0.6662 - accuracy: 0.57 - ETA: 6s - loss: 0.6661 - accuracy: 0.57 - ETA: 6s - loss: 0.6659 - accuracy: 0.58 - ETA: 6s - loss: 0.6659 - accuracy: 0.58 - ETA: 6s - loss: 0.6660 - accuracy: 0.58 - ETA: 6s - loss: 0.6659 - accuracy: 0.58 - ETA: 6s - loss: 0.6660 - accuracy: 0.58 - ETA: 6s - loss: 0.6660 - accuracy: 0.57 - ETA: 6s - loss: 0.6662 - accuracy: 0.57 - ETA: 6s - loss: 0.6661 - accuracy: 0.57 - ETA: 5s - loss: 0.6661 - accuracy: 0.57 - ETA: 5s - loss: 0.6663 - accuracy: 0.57 - ETA: 5s - loss: 0.6663 - accuracy: 0.57 - ETA: 5s - loss: 0.6662 - accuracy: 0.57 - ETA: 5s - loss: 0.6663 - accuracy: 0.57 - ETA: 5s - loss: 0.6661 - accuracy: 0.57 - ETA: 5s - loss: 0.6660 - accuracy: 0.57 - ETA: 5s - loss: 0.6660 - accuracy: 0.57 - ETA: 5s - loss: 0.6660 - accuracy: 0.57 - ETA: 5s - loss: 0.6659 - accuracy: 0.57 - ETA: 4s - loss: 0.6658 - accuracy: 0.57 - ETA: 4s - loss: 0.6654 - accuracy: 0.58 - ETA: 4s - loss: 0.6656 - accuracy: 0.58 - ETA: 4s - loss: 0.6657 - accuracy: 0.58 - ETA: 4s - loss: 0.6656 - accuracy: 0.58 - ETA: 4s - loss: 0.6658 - accuracy: 0.58 - ETA: 4s - loss: 0.6659 - accuracy: 0.58 - ETA: 4s - loss: 0.6659 - accuracy: 0.58 - ETA: 4s - loss: 0.6659 - accuracy: 0.58 - ETA: 4s - loss: 0.6659 - accuracy: 0.58 - ETA: 3s - loss: 0.6659 - accuracy: 0.58 - ETA: 3s - loss: 0.6659 - accuracy: 0.58 - ETA: 3s - loss: 0.6660 - accuracy: 0.58 - ETA: 3s - loss: 0.6662 - accuracy: 0.57 - ETA: 3s - loss: 0.6664 - accuracy: 0.57 - ETA: 3s - loss: 0.6662 - accuracy: 0.57 - ETA: 3s - loss: 0.6661 - accuracy: 0.58 - ETA: 3s - loss: 0.6661 - accuracy: 0.58 - ETA: 3s - loss: 0.6663 - accuracy: 0.57 - ETA: 3s - loss: 0.6663 - accuracy: 0.57 - ETA: 3s - loss: 0.6665 - accuracy: 0.57 - ETA: 2s - loss: 0.6665 - accuracy: 0.57 - ETA: 2s - loss: 0.6667 - accuracy: 0.57 - ETA: 2s - loss: 0.6666 - accuracy: 0.57 - ETA: 2s - loss: 0.6664 - accuracy: 0.57 - ETA: 2s - loss: 0.6665 - accuracy: 0.57 - ETA: 2s - loss: 0.6666 - accuracy: 0.57 - ETA: 2s - loss: 0.6666 - accuracy: 0.57 - ETA: 2s - loss: 0.6666 - accuracy: 0.57 - ETA: 2s - loss: 0.6666 - accuracy: 0.57 - ETA: 2s - loss: 0.6665 - accuracy: 0.57 - ETA: 1s - loss: 0.6664 - accuracy: 0.57 - ETA: 1s - loss: 0.6666 - accuracy: 0.57 - ETA: 1s - loss: 0.6667 - accuracy: 0.57 - ETA: 1s - loss: 0.6665 - accuracy: 0.57 - ETA: 1s - loss: 0.6665 - accuracy: 0.57 - ETA: 1s - loss: 0.6666 - accuracy: 0.57 - ETA: 1s - loss: 0.6666 - accuracy: 0.57 - ETA: 1s - loss: 0.6667 - accuracy: 0.57 - ETA: 1s - loss: 0.6666 - accuracy: 0.57 - ETA: 1s - loss: 0.6667 - accuracy: 0.57 - ETA: 0s - loss: 0.6666 - accuracy: 0.57 - ETA: 0s - loss: 0.6666 - accuracy: 0.57 - ETA: 0s - loss: 0.6666 - accuracy: 0.57 - ETA: 0s - loss: 0.6666 - accuracy: 0.57 - ETA: 0s - loss: 0.6665 - accuracy: 0.57 - ETA: 0s - loss: 0.6665 - accuracy: 0.57 - ETA: 0s - loss: 0.6665 - accuracy: 0.57 - ETA: 0s - loss: 0.6665 - accuracy: 0.57 - ETA: 0s - loss: 0.6666 - accuracy: 0.57 - ETA: 0s - loss: 0.6666 - accuracy: 0.57 - ETA: 0s - loss: 0.6668 - accuracy: 0.57 - 15s 382us/step - loss: 0.6666 - accuracy: 0.5794\n",
      "\n",
      "Epoch 00042: loss improved from 0.66781 to 0.66664, saving model to Resultados/7/Checkpoints/word2vec-42-0.6666.hdf5\n",
      "Epoch 43/50\n"
     ]
    },
    {
     "name": "stdout",
     "output_type": "stream",
     "text": [
      "40268/40268 [==============================] - ETA: 14s - loss: 0.6429 - accuracy: 0.625 - ETA: 14s - loss: 0.6453 - accuracy: 0.601 - ETA: 14s - loss: 0.6588 - accuracy: 0.587 - ETA: 14s - loss: 0.6634 - accuracy: 0.581 - ETA: 15s - loss: 0.6607 - accuracy: 0.584 - ETA: 15s - loss: 0.6592 - accuracy: 0.593 - ETA: 14s - loss: 0.6592 - accuracy: 0.593 - ETA: 14s - loss: 0.6617 - accuracy: 0.591 - ETA: 14s - loss: 0.6617 - accuracy: 0.589 - ETA: 14s - loss: 0.6630 - accuracy: 0.588 - ETA: 14s - loss: 0.6641 - accuracy: 0.584 - ETA: 14s - loss: 0.6638 - accuracy: 0.585 - ETA: 14s - loss: 0.6646 - accuracy: 0.582 - ETA: 14s - loss: 0.6650 - accuracy: 0.578 - ETA: 14s - loss: 0.6647 - accuracy: 0.577 - ETA: 14s - loss: 0.6660 - accuracy: 0.575 - ETA: 14s - loss: 0.6668 - accuracy: 0.573 - ETA: 14s - loss: 0.6664 - accuracy: 0.573 - ETA: 13s - loss: 0.6660 - accuracy: 0.571 - ETA: 13s - loss: 0.6658 - accuracy: 0.571 - ETA: 13s - loss: 0.6663 - accuracy: 0.569 - ETA: 13s - loss: 0.6669 - accuracy: 0.568 - ETA: 13s - loss: 0.6672 - accuracy: 0.569 - ETA: 13s - loss: 0.6674 - accuracy: 0.567 - ETA: 13s - loss: 0.6666 - accuracy: 0.569 - ETA: 13s - loss: 0.6659 - accuracy: 0.571 - ETA: 13s - loss: 0.6651 - accuracy: 0.572 - ETA: 13s - loss: 0.6642 - accuracy: 0.573 - ETA: 13s - loss: 0.6639 - accuracy: 0.574 - ETA: 12s - loss: 0.6651 - accuracy: 0.572 - ETA: 12s - loss: 0.6646 - accuracy: 0.573 - ETA: 12s - loss: 0.6644 - accuracy: 0.574 - ETA: 12s - loss: 0.6643 - accuracy: 0.574 - ETA: 12s - loss: 0.6641 - accuracy: 0.575 - ETA: 12s - loss: 0.6640 - accuracy: 0.576 - ETA: 12s - loss: 0.6639 - accuracy: 0.577 - ETA: 12s - loss: 0.6639 - accuracy: 0.577 - ETA: 12s - loss: 0.6641 - accuracy: 0.577 - ETA: 12s - loss: 0.6643 - accuracy: 0.577 - ETA: 11s - loss: 0.6646 - accuracy: 0.576 - ETA: 11s - loss: 0.6643 - accuracy: 0.576 - ETA: 11s - loss: 0.6642 - accuracy: 0.576 - ETA: 11s - loss: 0.6644 - accuracy: 0.576 - ETA: 11s - loss: 0.6649 - accuracy: 0.575 - ETA: 11s - loss: 0.6648 - accuracy: 0.575 - ETA: 11s - loss: 0.6647 - accuracy: 0.575 - ETA: 11s - loss: 0.6646 - accuracy: 0.575 - ETA: 11s - loss: 0.6642 - accuracy: 0.575 - ETA: 10s - loss: 0.6640 - accuracy: 0.576 - ETA: 10s - loss: 0.6640 - accuracy: 0.576 - ETA: 10s - loss: 0.6638 - accuracy: 0.576 - ETA: 10s - loss: 0.6646 - accuracy: 0.576 - ETA: 10s - loss: 0.6647 - accuracy: 0.576 - ETA: 10s - loss: 0.6649 - accuracy: 0.576 - ETA: 10s - loss: 0.6651 - accuracy: 0.576 - ETA: 10s - loss: 0.6653 - accuracy: 0.576 - ETA: 10s - loss: 0.6647 - accuracy: 0.576 - ETA: 9s - loss: 0.6647 - accuracy: 0.577 - ETA: 9s - loss: 0.6648 - accuracy: 0.57 - ETA: 9s - loss: 0.6646 - accuracy: 0.57 - ETA: 9s - loss: 0.6645 - accuracy: 0.57 - ETA: 9s - loss: 0.6646 - accuracy: 0.57 - ETA: 9s - loss: 0.6647 - accuracy: 0.57 - ETA: 9s - loss: 0.6647 - accuracy: 0.57 - ETA: 9s - loss: 0.6647 - accuracy: 0.57 - ETA: 9s - loss: 0.6648 - accuracy: 0.57 - ETA: 8s - loss: 0.6649 - accuracy: 0.57 - ETA: 8s - loss: 0.6648 - accuracy: 0.57 - ETA: 8s - loss: 0.6649 - accuracy: 0.57 - ETA: 8s - loss: 0.6649 - accuracy: 0.57 - ETA: 8s - loss: 0.6651 - accuracy: 0.57 - ETA: 8s - loss: 0.6652 - accuracy: 0.57 - ETA: 8s - loss: 0.6653 - accuracy: 0.57 - ETA: 8s - loss: 0.6655 - accuracy: 0.57 - ETA: 8s - loss: 0.6658 - accuracy: 0.57 - ETA: 7s - loss: 0.6658 - accuracy: 0.57 - ETA: 7s - loss: 0.6657 - accuracy: 0.57 - ETA: 7s - loss: 0.6658 - accuracy: 0.57 - ETA: 7s - loss: 0.6655 - accuracy: 0.57 - ETA: 7s - loss: 0.6659 - accuracy: 0.57 - ETA: 7s - loss: 0.6658 - accuracy: 0.57 - ETA: 7s - loss: 0.6654 - accuracy: 0.57 - ETA: 7s - loss: 0.6655 - accuracy: 0.57 - ETA: 7s - loss: 0.6657 - accuracy: 0.57 - ETA: 6s - loss: 0.6656 - accuracy: 0.57 - ETA: 6s - loss: 0.6657 - accuracy: 0.57 - ETA: 6s - loss: 0.6659 - accuracy: 0.57 - ETA: 6s - loss: 0.6661 - accuracy: 0.57 - ETA: 6s - loss: 0.6661 - accuracy: 0.57 - ETA: 6s - loss: 0.6658 - accuracy: 0.57 - ETA: 6s - loss: 0.6658 - accuracy: 0.57 - ETA: 6s - loss: 0.6658 - accuracy: 0.57 - ETA: 6s - loss: 0.6658 - accuracy: 0.57 - ETA: 5s - loss: 0.6658 - accuracy: 0.57 - ETA: 5s - loss: 0.6660 - accuracy: 0.57 - ETA: 5s - loss: 0.6660 - accuracy: 0.57 - ETA: 5s - loss: 0.6659 - accuracy: 0.57 - ETA: 5s - loss: 0.6661 - accuracy: 0.57 - ETA: 5s - loss: 0.6662 - accuracy: 0.57 - ETA: 5s - loss: 0.6661 - accuracy: 0.57 - ETA: 5s - loss: 0.6661 - accuracy: 0.57 - ETA: 5s - loss: 0.6662 - accuracy: 0.57 - ETA: 4s - loss: 0.6662 - accuracy: 0.57 - ETA: 4s - loss: 0.6662 - accuracy: 0.57 - ETA: 4s - loss: 0.6663 - accuracy: 0.57 - ETA: 4s - loss: 0.6665 - accuracy: 0.57 - ETA: 4s - loss: 0.6664 - accuracy: 0.57 - ETA: 4s - loss: 0.6663 - accuracy: 0.57 - ETA: 4s - loss: 0.6663 - accuracy: 0.57 - ETA: 4s - loss: 0.6664 - accuracy: 0.57 - ETA: 4s - loss: 0.6664 - accuracy: 0.57 - ETA: 4s - loss: 0.6665 - accuracy: 0.57 - ETA: 4s - loss: 0.6663 - accuracy: 0.57 - ETA: 3s - loss: 0.6662 - accuracy: 0.57 - ETA: 3s - loss: 0.6662 - accuracy: 0.57 - ETA: 3s - loss: 0.6663 - accuracy: 0.57 - ETA: 3s - loss: 0.6661 - accuracy: 0.57 - ETA: 3s - loss: 0.6662 - accuracy: 0.57 - ETA: 3s - loss: 0.6661 - accuracy: 0.57 - ETA: 3s - loss: 0.6661 - accuracy: 0.57 - ETA: 3s - loss: 0.6661 - accuracy: 0.57 - ETA: 3s - loss: 0.6663 - accuracy: 0.57 - ETA: 3s - loss: 0.6665 - accuracy: 0.57 - ETA: 2s - loss: 0.6665 - accuracy: 0.57 - ETA: 2s - loss: 0.6665 - accuracy: 0.57 - ETA: 2s - loss: 0.6665 - accuracy: 0.57 - ETA: 2s - loss: 0.6666 - accuracy: 0.57 - ETA: 2s - loss: 0.6668 - accuracy: 0.57 - ETA: 2s - loss: 0.6669 - accuracy: 0.57 - ETA: 2s - loss: 0.6668 - accuracy: 0.57 - ETA: 2s - loss: 0.6668 - accuracy: 0.57 - ETA: 2s - loss: 0.6667 - accuracy: 0.57 - ETA: 2s - loss: 0.6667 - accuracy: 0.57 - ETA: 2s - loss: 0.6666 - accuracy: 0.57 - ETA: 1s - loss: 0.6666 - accuracy: 0.57 - ETA: 1s - loss: 0.6667 - accuracy: 0.57 - ETA: 1s - loss: 0.6666 - accuracy: 0.57 - ETA: 1s - loss: 0.6667 - accuracy: 0.57 - ETA: 1s - loss: 0.6667 - accuracy: 0.57 - ETA: 1s - loss: 0.6667 - accuracy: 0.57 - ETA: 1s - loss: 0.6667 - accuracy: 0.57 - ETA: 1s - loss: 0.6665 - accuracy: 0.57 - ETA: 1s - loss: 0.6665 - accuracy: 0.57 - ETA: 1s - loss: 0.6665 - accuracy: 0.57 - ETA: 1s - loss: 0.6666 - accuracy: 0.57 - ETA: 0s - loss: 0.6666 - accuracy: 0.57 - ETA: 0s - loss: 0.6666 - accuracy: 0.57 - ETA: 0s - loss: 0.6667 - accuracy: 0.57 - ETA: 0s - loss: 0.6667 - accuracy: 0.57 - ETA: 0s - loss: 0.6666 - accuracy: 0.57 - ETA: 0s - loss: 0.6665 - accuracy: 0.57 - ETA: 0s - loss: 0.6664 - accuracy: 0.57 - ETA: 0s - loss: 0.6665 - accuracy: 0.57 - ETA: 0s - loss: 0.6664 - accuracy: 0.57 - ETA: 0s - loss: 0.6664 - accuracy: 0.57 - ETA: 0s - loss: 0.6665 - accuracy: 0.57 - ETA: 0s - loss: 0.6667 - accuracy: 0.57 - 14s 343us/step - loss: 0.6667 - accuracy: 0.5766\n",
      "\n",
      "Epoch 00043: loss did not improve from 0.66664\n",
      "Epoch 44/50\n"
     ]
    },
    {
     "name": "stdout",
     "output_type": "stream",
     "text": [
      "40268/40268 [==============================] - ETA: 13s - loss: 0.6680 - accuracy: 0.554 - ETA: 15s - loss: 0.6728 - accuracy: 0.556 - ETA: 15s - loss: 0.6694 - accuracy: 0.559 - ETA: 14s - loss: 0.6688 - accuracy: 0.570 - ETA: 14s - loss: 0.6726 - accuracy: 0.568 - ETA: 13s - loss: 0.6703 - accuracy: 0.569 - ETA: 13s - loss: 0.6685 - accuracy: 0.575 - ETA: 13s - loss: 0.6686 - accuracy: 0.574 - ETA: 13s - loss: 0.6712 - accuracy: 0.569 - ETA: 13s - loss: 0.6706 - accuracy: 0.569 - ETA: 12s - loss: 0.6710 - accuracy: 0.570 - ETA: 12s - loss: 0.6695 - accuracy: 0.571 - ETA: 12s - loss: 0.6680 - accuracy: 0.574 - ETA: 12s - loss: 0.6678 - accuracy: 0.574 - ETA: 12s - loss: 0.6673 - accuracy: 0.574 - ETA: 12s - loss: 0.6666 - accuracy: 0.574 - ETA: 12s - loss: 0.6657 - accuracy: 0.577 - ETA: 12s - loss: 0.6659 - accuracy: 0.576 - ETA: 12s - loss: 0.6660 - accuracy: 0.578 - ETA: 12s - loss: 0.6654 - accuracy: 0.581 - ETA: 11s - loss: 0.6655 - accuracy: 0.582 - ETA: 11s - loss: 0.6656 - accuracy: 0.580 - ETA: 11s - loss: 0.6660 - accuracy: 0.580 - ETA: 11s - loss: 0.6665 - accuracy: 0.579 - ETA: 11s - loss: 0.6662 - accuracy: 0.579 - ETA: 11s - loss: 0.6663 - accuracy: 0.580 - ETA: 11s - loss: 0.6663 - accuracy: 0.579 - ETA: 11s - loss: 0.6666 - accuracy: 0.579 - ETA: 11s - loss: 0.6661 - accuracy: 0.580 - ETA: 11s - loss: 0.6663 - accuracy: 0.580 - ETA: 11s - loss: 0.6664 - accuracy: 0.579 - ETA: 11s - loss: 0.6660 - accuracy: 0.580 - ETA: 11s - loss: 0.6661 - accuracy: 0.581 - ETA: 10s - loss: 0.6663 - accuracy: 0.580 - ETA: 10s - loss: 0.6665 - accuracy: 0.579 - ETA: 10s - loss: 0.6663 - accuracy: 0.580 - ETA: 10s - loss: 0.6663 - accuracy: 0.580 - ETA: 10s - loss: 0.6663 - accuracy: 0.581 - ETA: 10s - loss: 0.6661 - accuracy: 0.583 - ETA: 10s - loss: 0.6668 - accuracy: 0.582 - ETA: 10s - loss: 0.6666 - accuracy: 0.582 - ETA: 10s - loss: 0.6661 - accuracy: 0.582 - ETA: 10s - loss: 0.6663 - accuracy: 0.581 - ETA: 10s - loss: 0.6666 - accuracy: 0.581 - ETA: 9s - loss: 0.6667 - accuracy: 0.581 - ETA: 9s - loss: 0.6665 - accuracy: 0.58 - ETA: 9s - loss: 0.6664 - accuracy: 0.58 - ETA: 9s - loss: 0.6662 - accuracy: 0.58 - ETA: 9s - loss: 0.6662 - accuracy: 0.58 - ETA: 9s - loss: 0.6659 - accuracy: 0.58 - ETA: 9s - loss: 0.6656 - accuracy: 0.58 - ETA: 9s - loss: 0.6651 - accuracy: 0.58 - ETA: 9s - loss: 0.6648 - accuracy: 0.58 - ETA: 9s - loss: 0.6649 - accuracy: 0.58 - ETA: 9s - loss: 0.6649 - accuracy: 0.58 - ETA: 9s - loss: 0.6650 - accuracy: 0.58 - ETA: 9s - loss: 0.6649 - accuracy: 0.58 - ETA: 9s - loss: 0.6653 - accuracy: 0.58 - ETA: 8s - loss: 0.6651 - accuracy: 0.58 - ETA: 8s - loss: 0.6648 - accuracy: 0.58 - ETA: 8s - loss: 0.6652 - accuracy: 0.58 - ETA: 8s - loss: 0.6651 - accuracy: 0.58 - ETA: 8s - loss: 0.6651 - accuracy: 0.58 - ETA: 8s - loss: 0.6651 - accuracy: 0.58 - ETA: 8s - loss: 0.6654 - accuracy: 0.58 - ETA: 8s - loss: 0.6653 - accuracy: 0.58 - ETA: 8s - loss: 0.6655 - accuracy: 0.58 - ETA: 8s - loss: 0.6658 - accuracy: 0.58 - ETA: 7s - loss: 0.6660 - accuracy: 0.58 - ETA: 7s - loss: 0.6660 - accuracy: 0.58 - ETA: 7s - loss: 0.6660 - accuracy: 0.58 - ETA: 7s - loss: 0.6661 - accuracy: 0.58 - ETA: 7s - loss: 0.6659 - accuracy: 0.58 - ETA: 7s - loss: 0.6663 - accuracy: 0.58 - ETA: 7s - loss: 0.6660 - accuracy: 0.58 - ETA: 7s - loss: 0.6659 - accuracy: 0.58 - ETA: 7s - loss: 0.6659 - accuracy: 0.58 - ETA: 7s - loss: 0.6657 - accuracy: 0.58 - ETA: 6s - loss: 0.6656 - accuracy: 0.58 - ETA: 6s - loss: 0.6658 - accuracy: 0.58 - ETA: 6s - loss: 0.6658 - accuracy: 0.58 - ETA: 6s - loss: 0.6660 - accuracy: 0.58 - ETA: 6s - loss: 0.6657 - accuracy: 0.58 - ETA: 6s - loss: 0.6658 - accuracy: 0.58 - ETA: 6s - loss: 0.6655 - accuracy: 0.58 - ETA: 6s - loss: 0.6653 - accuracy: 0.58 - ETA: 6s - loss: 0.6652 - accuracy: 0.58 - ETA: 6s - loss: 0.6651 - accuracy: 0.58 - ETA: 6s - loss: 0.6651 - accuracy: 0.58 - ETA: 5s - loss: 0.6652 - accuracy: 0.58 - ETA: 5s - loss: 0.6654 - accuracy: 0.58 - ETA: 5s - loss: 0.6654 - accuracy: 0.58 - ETA: 5s - loss: 0.6656 - accuracy: 0.58 - ETA: 5s - loss: 0.6655 - accuracy: 0.58 - ETA: 5s - loss: 0.6654 - accuracy: 0.58 - ETA: 5s - loss: 0.6651 - accuracy: 0.58 - ETA: 5s - loss: 0.6648 - accuracy: 0.58 - ETA: 5s - loss: 0.6646 - accuracy: 0.58 - ETA: 5s - loss: 0.6646 - accuracy: 0.58 - ETA: 5s - loss: 0.6648 - accuracy: 0.58 - ETA: 4s - loss: 0.6650 - accuracy: 0.58 - ETA: 4s - loss: 0.6654 - accuracy: 0.58 - ETA: 4s - loss: 0.6657 - accuracy: 0.58 - ETA: 4s - loss: 0.6656 - accuracy: 0.58 - ETA: 4s - loss: 0.6655 - accuracy: 0.58 - ETA: 4s - loss: 0.6654 - accuracy: 0.58 - ETA: 4s - loss: 0.6653 - accuracy: 0.58 - ETA: 4s - loss: 0.6653 - accuracy: 0.58 - ETA: 4s - loss: 0.6655 - accuracy: 0.58 - ETA: 4s - loss: 0.6656 - accuracy: 0.58 - ETA: 4s - loss: 0.6657 - accuracy: 0.58 - ETA: 3s - loss: 0.6658 - accuracy: 0.58 - ETA: 3s - loss: 0.6660 - accuracy: 0.58 - ETA: 3s - loss: 0.6661 - accuracy: 0.58 - ETA: 3s - loss: 0.6660 - accuracy: 0.58 - ETA: 3s - loss: 0.6660 - accuracy: 0.58 - ETA: 3s - loss: 0.6658 - accuracy: 0.58 - ETA: 3s - loss: 0.6658 - accuracy: 0.58 - ETA: 3s - loss: 0.6658 - accuracy: 0.58 - ETA: 3s - loss: 0.6659 - accuracy: 0.58 - ETA: 3s - loss: 0.6657 - accuracy: 0.58 - ETA: 3s - loss: 0.6655 - accuracy: 0.58 - ETA: 3s - loss: 0.6655 - accuracy: 0.58 - ETA: 2s - loss: 0.6655 - accuracy: 0.58 - ETA: 2s - loss: 0.6656 - accuracy: 0.58 - ETA: 2s - loss: 0.6657 - accuracy: 0.58 - ETA: 2s - loss: 0.6657 - accuracy: 0.58 - ETA: 2s - loss: 0.6659 - accuracy: 0.58 - ETA: 2s - loss: 0.6659 - accuracy: 0.58 - ETA: 2s - loss: 0.6660 - accuracy: 0.58 - ETA: 2s - loss: 0.6662 - accuracy: 0.58 - ETA: 2s - loss: 0.6663 - accuracy: 0.58 - ETA: 2s - loss: 0.6664 - accuracy: 0.58 - ETA: 2s - loss: 0.6664 - accuracy: 0.58 - ETA: 1s - loss: 0.6663 - accuracy: 0.58 - ETA: 1s - loss: 0.6664 - accuracy: 0.58 - ETA: 1s - loss: 0.6665 - accuracy: 0.58 - ETA: 1s - loss: 0.6666 - accuracy: 0.58 - ETA: 1s - loss: 0.6666 - accuracy: 0.58 - ETA: 1s - loss: 0.6666 - accuracy: 0.58 - ETA: 1s - loss: 0.6664 - accuracy: 0.58 - ETA: 1s - loss: 0.6666 - accuracy: 0.58 - ETA: 1s - loss: 0.6666 - accuracy: 0.58 - ETA: 1s - loss: 0.6667 - accuracy: 0.58 - ETA: 1s - loss: 0.6665 - accuracy: 0.58 - ETA: 0s - loss: 0.6665 - accuracy: 0.58 - ETA: 0s - loss: 0.6666 - accuracy: 0.58 - ETA: 0s - loss: 0.6666 - accuracy: 0.58 - ETA: 0s - loss: 0.6665 - accuracy: 0.58 - ETA: 0s - loss: 0.6664 - accuracy: 0.58 - ETA: 0s - loss: 0.6663 - accuracy: 0.58 - ETA: 0s - loss: 0.6665 - accuracy: 0.58 - ETA: 0s - loss: 0.6665 - accuracy: 0.58 - ETA: 0s - loss: 0.6665 - accuracy: 0.58 - ETA: 0s - loss: 0.6664 - accuracy: 0.58 - ETA: 0s - loss: 0.6665 - accuracy: 0.58 - ETA: 0s - loss: 0.6664 - accuracy: 0.58 - 14s 344us/step - loss: 0.6665 - accuracy: 0.5806\n",
      "\n",
      "Epoch 00044: loss improved from 0.66664 to 0.66648, saving model to Resultados/7/Checkpoints/word2vec-44-0.6665.hdf5\n",
      "Epoch 45/50\n"
     ]
    },
    {
     "name": "stdout",
     "output_type": "stream",
     "text": [
      "40268/40268 [==============================] - ETA: 11s - loss: 0.6555 - accuracy: 0.632 - ETA: 12s - loss: 0.6710 - accuracy: 0.574 - ETA: 12s - loss: 0.6725 - accuracy: 0.566 - ETA: 13s - loss: 0.6730 - accuracy: 0.574 - ETA: 12s - loss: 0.6716 - accuracy: 0.571 - ETA: 12s - loss: 0.6700 - accuracy: 0.577 - ETA: 12s - loss: 0.6671 - accuracy: 0.574 - ETA: 12s - loss: 0.6650 - accuracy: 0.579 - ETA: 13s - loss: 0.6662 - accuracy: 0.578 - ETA: 12s - loss: 0.6665 - accuracy: 0.577 - ETA: 12s - loss: 0.6667 - accuracy: 0.579 - ETA: 12s - loss: 0.6674 - accuracy: 0.577 - ETA: 12s - loss: 0.6671 - accuracy: 0.579 - ETA: 12s - loss: 0.6682 - accuracy: 0.576 - ETA: 12s - loss: 0.6676 - accuracy: 0.579 - ETA: 12s - loss: 0.6674 - accuracy: 0.581 - ETA: 12s - loss: 0.6682 - accuracy: 0.579 - ETA: 11s - loss: 0.6669 - accuracy: 0.581 - ETA: 12s - loss: 0.6672 - accuracy: 0.578 - ETA: 11s - loss: 0.6671 - accuracy: 0.578 - ETA: 11s - loss: 0.6663 - accuracy: 0.580 - ETA: 11s - loss: 0.6669 - accuracy: 0.579 - ETA: 11s - loss: 0.6669 - accuracy: 0.580 - ETA: 11s - loss: 0.6666 - accuracy: 0.579 - ETA: 11s - loss: 0.6665 - accuracy: 0.580 - ETA: 11s - loss: 0.6659 - accuracy: 0.583 - ETA: 11s - loss: 0.6657 - accuracy: 0.582 - ETA: 11s - loss: 0.6658 - accuracy: 0.582 - ETA: 11s - loss: 0.6662 - accuracy: 0.581 - ETA: 11s - loss: 0.6667 - accuracy: 0.579 - ETA: 10s - loss: 0.6676 - accuracy: 0.579 - ETA: 10s - loss: 0.6669 - accuracy: 0.581 - ETA: 10s - loss: 0.6657 - accuracy: 0.583 - ETA: 10s - loss: 0.6659 - accuracy: 0.582 - ETA: 10s - loss: 0.6663 - accuracy: 0.581 - ETA: 10s - loss: 0.6660 - accuracy: 0.582 - ETA: 10s - loss: 0.6657 - accuracy: 0.584 - ETA: 10s - loss: 0.6653 - accuracy: 0.585 - ETA: 10s - loss: 0.6654 - accuracy: 0.584 - ETA: 10s - loss: 0.6657 - accuracy: 0.584 - ETA: 10s - loss: 0.6655 - accuracy: 0.585 - ETA: 10s - loss: 0.6650 - accuracy: 0.585 - ETA: 9s - loss: 0.6652 - accuracy: 0.585 - ETA: 9s - loss: 0.6650 - accuracy: 0.58 - ETA: 9s - loss: 0.6645 - accuracy: 0.58 - ETA: 9s - loss: 0.6642 - accuracy: 0.58 - ETA: 9s - loss: 0.6646 - accuracy: 0.58 - ETA: 9s - loss: 0.6647 - accuracy: 0.58 - ETA: 9s - loss: 0.6646 - accuracy: 0.58 - ETA: 9s - loss: 0.6644 - accuracy: 0.58 - ETA: 9s - loss: 0.6648 - accuracy: 0.58 - ETA: 9s - loss: 0.6649 - accuracy: 0.58 - ETA: 9s - loss: 0.6646 - accuracy: 0.58 - ETA: 9s - loss: 0.6647 - accuracy: 0.58 - ETA: 8s - loss: 0.6645 - accuracy: 0.58 - ETA: 8s - loss: 0.6642 - accuracy: 0.58 - ETA: 8s - loss: 0.6640 - accuracy: 0.58 - ETA: 8s - loss: 0.6641 - accuracy: 0.58 - ETA: 8s - loss: 0.6641 - accuracy: 0.58 - ETA: 8s - loss: 0.6641 - accuracy: 0.58 - ETA: 8s - loss: 0.6645 - accuracy: 0.58 - ETA: 8s - loss: 0.6647 - accuracy: 0.58 - ETA: 8s - loss: 0.6650 - accuracy: 0.58 - ETA: 8s - loss: 0.6653 - accuracy: 0.58 - ETA: 8s - loss: 0.6651 - accuracy: 0.58 - ETA: 7s - loss: 0.6651 - accuracy: 0.58 - ETA: 7s - loss: 0.6649 - accuracy: 0.58 - ETA: 7s - loss: 0.6646 - accuracy: 0.58 - ETA: 7s - loss: 0.6643 - accuracy: 0.58 - ETA: 7s - loss: 0.6646 - accuracy: 0.58 - ETA: 7s - loss: 0.6645 - accuracy: 0.58 - ETA: 7s - loss: 0.6645 - accuracy: 0.58 - ETA: 7s - loss: 0.6646 - accuracy: 0.58 - ETA: 7s - loss: 0.6647 - accuracy: 0.58 - ETA: 7s - loss: 0.6646 - accuracy: 0.58 - ETA: 7s - loss: 0.6643 - accuracy: 0.58 - ETA: 7s - loss: 0.6644 - accuracy: 0.58 - ETA: 6s - loss: 0.6645 - accuracy: 0.58 - ETA: 6s - loss: 0.6644 - accuracy: 0.58 - ETA: 6s - loss: 0.6646 - accuracy: 0.58 - ETA: 6s - loss: 0.6646 - accuracy: 0.58 - ETA: 6s - loss: 0.6644 - accuracy: 0.58 - ETA: 6s - loss: 0.6643 - accuracy: 0.58 - ETA: 6s - loss: 0.6642 - accuracy: 0.58 - ETA: 6s - loss: 0.6643 - accuracy: 0.58 - ETA: 6s - loss: 0.6646 - accuracy: 0.58 - ETA: 6s - loss: 0.6645 - accuracy: 0.58 - ETA: 6s - loss: 0.6644 - accuracy: 0.58 - ETA: 5s - loss: 0.6645 - accuracy: 0.58 - ETA: 5s - loss: 0.6644 - accuracy: 0.58 - ETA: 5s - loss: 0.6644 - accuracy: 0.58 - ETA: 5s - loss: 0.6642 - accuracy: 0.58 - ETA: 5s - loss: 0.6639 - accuracy: 0.58 - ETA: 5s - loss: 0.6640 - accuracy: 0.58 - ETA: 5s - loss: 0.6639 - accuracy: 0.58 - ETA: 5s - loss: 0.6640 - accuracy: 0.58 - ETA: 5s - loss: 0.6637 - accuracy: 0.58 - ETA: 5s - loss: 0.6641 - accuracy: 0.58 - ETA: 5s - loss: 0.6642 - accuracy: 0.58 - ETA: 5s - loss: 0.6642 - accuracy: 0.58 - ETA: 4s - loss: 0.6642 - accuracy: 0.58 - ETA: 4s - loss: 0.6641 - accuracy: 0.58 - ETA: 4s - loss: 0.6642 - accuracy: 0.58 - ETA: 4s - loss: 0.6642 - accuracy: 0.58 - ETA: 4s - loss: 0.6640 - accuracy: 0.58 - ETA: 4s - loss: 0.6639 - accuracy: 0.58 - ETA: 4s - loss: 0.6637 - accuracy: 0.58 - ETA: 4s - loss: 0.6638 - accuracy: 0.58 - ETA: 4s - loss: 0.6636 - accuracy: 0.58 - ETA: 4s - loss: 0.6635 - accuracy: 0.58 - ETA: 4s - loss: 0.6636 - accuracy: 0.58 - ETA: 3s - loss: 0.6635 - accuracy: 0.58 - ETA: 3s - loss: 0.6634 - accuracy: 0.58 - ETA: 3s - loss: 0.6636 - accuracy: 0.58 - ETA: 3s - loss: 0.6638 - accuracy: 0.58 - ETA: 3s - loss: 0.6641 - accuracy: 0.58 - ETA: 3s - loss: 0.6641 - accuracy: 0.58 - ETA: 3s - loss: 0.6640 - accuracy: 0.58 - ETA: 3s - loss: 0.6640 - accuracy: 0.58 - ETA: 3s - loss: 0.6642 - accuracy: 0.58 - ETA: 3s - loss: 0.6641 - accuracy: 0.58 - ETA: 3s - loss: 0.6642 - accuracy: 0.58 - ETA: 2s - loss: 0.6641 - accuracy: 0.58 - ETA: 2s - loss: 0.6642 - accuracy: 0.58 - ETA: 2s - loss: 0.6643 - accuracy: 0.58 - ETA: 2s - loss: 0.6643 - accuracy: 0.58 - ETA: 2s - loss: 0.6643 - accuracy: 0.58 - ETA: 2s - loss: 0.6644 - accuracy: 0.58 - ETA: 2s - loss: 0.6645 - accuracy: 0.58 - ETA: 2s - loss: 0.6644 - accuracy: 0.58 - ETA: 2s - loss: 0.6645 - accuracy: 0.58 - ETA: 2s - loss: 0.6645 - accuracy: 0.58 - ETA: 2s - loss: 0.6646 - accuracy: 0.58 - ETA: 2s - loss: 0.6647 - accuracy: 0.58 - ETA: 1s - loss: 0.6648 - accuracy: 0.58 - ETA: 1s - loss: 0.6649 - accuracy: 0.58 - ETA: 1s - loss: 0.6648 - accuracy: 0.58 - ETA: 1s - loss: 0.6649 - accuracy: 0.58 - ETA: 1s - loss: 0.6649 - accuracy: 0.58 - ETA: 1s - loss: 0.6648 - accuracy: 0.58 - ETA: 1s - loss: 0.6649 - accuracy: 0.58 - ETA: 1s - loss: 0.6650 - accuracy: 0.58 - ETA: 1s - loss: 0.6649 - accuracy: 0.58 - ETA: 1s - loss: 0.6649 - accuracy: 0.58 - ETA: 1s - loss: 0.6648 - accuracy: 0.58 - ETA: 0s - loss: 0.6648 - accuracy: 0.58 - ETA: 0s - loss: 0.6648 - accuracy: 0.58 - ETA: 0s - loss: 0.6649 - accuracy: 0.58 - ETA: 0s - loss: 0.6648 - accuracy: 0.58 - ETA: 0s - loss: 0.6648 - accuracy: 0.58 - ETA: 0s - loss: 0.6649 - accuracy: 0.58 - ETA: 0s - loss: 0.6650 - accuracy: 0.58 - ETA: 0s - loss: 0.6651 - accuracy: 0.58 - ETA: 0s - loss: 0.6651 - accuracy: 0.58 - ETA: 0s - loss: 0.6652 - accuracy: 0.58 - ETA: 0s - loss: 0.6653 - accuracy: 0.58 - ETA: 0s - loss: 0.6654 - accuracy: 0.58 - 14s 337us/step - loss: 0.6653 - accuracy: 0.5821\n",
      "\n",
      "Epoch 00045: loss improved from 0.66648 to 0.66533, saving model to Resultados/7/Checkpoints/word2vec-45-0.6653.hdf5\n",
      "Epoch 46/50\n"
     ]
    },
    {
     "name": "stdout",
     "output_type": "stream",
     "text": [
      "40268/40268 [==============================] - ETA: 12s - loss: 0.6683 - accuracy: 0.562 - ETA: 12s - loss: 0.6525 - accuracy: 0.587 - ETA: 12s - loss: 0.6500 - accuracy: 0.591 - ETA: 13s - loss: 0.6544 - accuracy: 0.593 - ETA: 13s - loss: 0.6562 - accuracy: 0.593 - ETA: 13s - loss: 0.6582 - accuracy: 0.597 - ETA: 12s - loss: 0.6621 - accuracy: 0.590 - ETA: 12s - loss: 0.6621 - accuracy: 0.589 - ETA: 12s - loss: 0.6629 - accuracy: 0.589 - ETA: 12s - loss: 0.6649 - accuracy: 0.588 - ETA: 12s - loss: 0.6623 - accuracy: 0.594 - ETA: 12s - loss: 0.6631 - accuracy: 0.595 - ETA: 12s - loss: 0.6628 - accuracy: 0.596 - ETA: 12s - loss: 0.6636 - accuracy: 0.593 - ETA: 12s - loss: 0.6621 - accuracy: 0.597 - ETA: 12s - loss: 0.6631 - accuracy: 0.594 - ETA: 11s - loss: 0.6626 - accuracy: 0.592 - ETA: 11s - loss: 0.6625 - accuracy: 0.593 - ETA: 11s - loss: 0.6633 - accuracy: 0.592 - ETA: 11s - loss: 0.6632 - accuracy: 0.593 - ETA: 11s - loss: 0.6635 - accuracy: 0.591 - ETA: 11s - loss: 0.6632 - accuracy: 0.590 - ETA: 11s - loss: 0.6629 - accuracy: 0.590 - ETA: 11s - loss: 0.6628 - accuracy: 0.589 - ETA: 11s - loss: 0.6632 - accuracy: 0.588 - ETA: 11s - loss: 0.6630 - accuracy: 0.588 - ETA: 11s - loss: 0.6628 - accuracy: 0.587 - ETA: 11s - loss: 0.6629 - accuracy: 0.587 - ETA: 11s - loss: 0.6630 - accuracy: 0.586 - ETA: 10s - loss: 0.6632 - accuracy: 0.586 - ETA: 10s - loss: 0.6630 - accuracy: 0.587 - ETA: 10s - loss: 0.6626 - accuracy: 0.588 - ETA: 10s - loss: 0.6628 - accuracy: 0.588 - ETA: 10s - loss: 0.6627 - accuracy: 0.587 - ETA: 10s - loss: 0.6624 - accuracy: 0.588 - ETA: 10s - loss: 0.6629 - accuracy: 0.587 - ETA: 10s - loss: 0.6625 - accuracy: 0.587 - ETA: 10s - loss: 0.6623 - accuracy: 0.588 - ETA: 10s - loss: 0.6622 - accuracy: 0.588 - ETA: 10s - loss: 0.6625 - accuracy: 0.587 - ETA: 10s - loss: 0.6629 - accuracy: 0.586 - ETA: 10s - loss: 0.6631 - accuracy: 0.585 - ETA: 9s - loss: 0.6630 - accuracy: 0.586 - ETA: 9s - loss: 0.6629 - accuracy: 0.58 - ETA: 9s - loss: 0.6629 - accuracy: 0.58 - ETA: 9s - loss: 0.6631 - accuracy: 0.58 - ETA: 9s - loss: 0.6633 - accuracy: 0.58 - ETA: 9s - loss: 0.6635 - accuracy: 0.58 - ETA: 9s - loss: 0.6635 - accuracy: 0.58 - ETA: 9s - loss: 0.6638 - accuracy: 0.58 - ETA: 9s - loss: 0.6636 - accuracy: 0.58 - ETA: 9s - loss: 0.6637 - accuracy: 0.58 - ETA: 9s - loss: 0.6639 - accuracy: 0.58 - ETA: 8s - loss: 0.6640 - accuracy: 0.58 - ETA: 8s - loss: 0.6637 - accuracy: 0.58 - ETA: 8s - loss: 0.6639 - accuracy: 0.58 - ETA: 8s - loss: 0.6644 - accuracy: 0.58 - ETA: 8s - loss: 0.6646 - accuracy: 0.58 - ETA: 8s - loss: 0.6647 - accuracy: 0.58 - ETA: 8s - loss: 0.6647 - accuracy: 0.58 - ETA: 8s - loss: 0.6647 - accuracy: 0.58 - ETA: 8s - loss: 0.6645 - accuracy: 0.58 - ETA: 8s - loss: 0.6645 - accuracy: 0.58 - ETA: 8s - loss: 0.6644 - accuracy: 0.58 - ETA: 8s - loss: 0.6646 - accuracy: 0.58 - ETA: 7s - loss: 0.6645 - accuracy: 0.58 - ETA: 7s - loss: 0.6645 - accuracy: 0.58 - ETA: 7s - loss: 0.6643 - accuracy: 0.58 - ETA: 7s - loss: 0.6644 - accuracy: 0.58 - ETA: 7s - loss: 0.6646 - accuracy: 0.58 - ETA: 7s - loss: 0.6645 - accuracy: 0.58 - ETA: 7s - loss: 0.6645 - accuracy: 0.58 - ETA: 7s - loss: 0.6646 - accuracy: 0.58 - ETA: 7s - loss: 0.6648 - accuracy: 0.58 - ETA: 7s - loss: 0.6649 - accuracy: 0.58 - ETA: 7s - loss: 0.6653 - accuracy: 0.58 - ETA: 6s - loss: 0.6651 - accuracy: 0.58 - ETA: 6s - loss: 0.6652 - accuracy: 0.58 - ETA: 6s - loss: 0.6650 - accuracy: 0.58 - ETA: 6s - loss: 0.6650 - accuracy: 0.58 - ETA: 6s - loss: 0.6649 - accuracy: 0.58 - ETA: 6s - loss: 0.6650 - accuracy: 0.58 - ETA: 6s - loss: 0.6653 - accuracy: 0.58 - ETA: 6s - loss: 0.6653 - accuracy: 0.58 - ETA: 6s - loss: 0.6654 - accuracy: 0.58 - ETA: 6s - loss: 0.6654 - accuracy: 0.58 - ETA: 6s - loss: 0.6655 - accuracy: 0.58 - ETA: 6s - loss: 0.6654 - accuracy: 0.58 - ETA: 5s - loss: 0.6654 - accuracy: 0.58 - ETA: 5s - loss: 0.6654 - accuracy: 0.58 - ETA: 5s - loss: 0.6654 - accuracy: 0.58 - ETA: 5s - loss: 0.6654 - accuracy: 0.58 - ETA: 5s - loss: 0.6653 - accuracy: 0.58 - ETA: 5s - loss: 0.6654 - accuracy: 0.58 - ETA: 5s - loss: 0.6655 - accuracy: 0.58 - ETA: 5s - loss: 0.6654 - accuracy: 0.58 - ETA: 5s - loss: 0.6654 - accuracy: 0.58 - ETA: 5s - loss: 0.6655 - accuracy: 0.58 - ETA: 5s - loss: 0.6653 - accuracy: 0.58 - ETA: 4s - loss: 0.6656 - accuracy: 0.58 - ETA: 4s - loss: 0.6654 - accuracy: 0.58 - ETA: 4s - loss: 0.6655 - accuracy: 0.58 - ETA: 4s - loss: 0.6654 - accuracy: 0.58 - ETA: 4s - loss: 0.6653 - accuracy: 0.58 - ETA: 4s - loss: 0.6651 - accuracy: 0.58 - ETA: 4s - loss: 0.6651 - accuracy: 0.58 - ETA: 4s - loss: 0.6649 - accuracy: 0.58 - ETA: 4s - loss: 0.6647 - accuracy: 0.58 - ETA: 4s - loss: 0.6650 - accuracy: 0.58 - ETA: 4s - loss: 0.6648 - accuracy: 0.58 - ETA: 3s - loss: 0.6650 - accuracy: 0.58 - ETA: 3s - loss: 0.6649 - accuracy: 0.58 - ETA: 3s - loss: 0.6646 - accuracy: 0.58 - ETA: 3s - loss: 0.6646 - accuracy: 0.58 - ETA: 3s - loss: 0.6645 - accuracy: 0.58 - ETA: 3s - loss: 0.6646 - accuracy: 0.58 - ETA: 3s - loss: 0.6643 - accuracy: 0.58 - ETA: 3s - loss: 0.6644 - accuracy: 0.58 - ETA: 3s - loss: 0.6644 - accuracy: 0.58 - ETA: 3s - loss: 0.6642 - accuracy: 0.58 - ETA: 3s - loss: 0.6645 - accuracy: 0.58 - ETA: 2s - loss: 0.6643 - accuracy: 0.58 - ETA: 2s - loss: 0.6643 - accuracy: 0.58 - ETA: 2s - loss: 0.6644 - accuracy: 0.58 - ETA: 2s - loss: 0.6644 - accuracy: 0.58 - ETA: 2s - loss: 0.6644 - accuracy: 0.58 - ETA: 2s - loss: 0.6644 - accuracy: 0.58 - ETA: 2s - loss: 0.6647 - accuracy: 0.58 - ETA: 2s - loss: 0.6648 - accuracy: 0.58 - ETA: 2s - loss: 0.6647 - accuracy: 0.58 - ETA: 2s - loss: 0.6645 - accuracy: 0.58 - ETA: 2s - loss: 0.6646 - accuracy: 0.58 - ETA: 2s - loss: 0.6646 - accuracy: 0.58 - ETA: 1s - loss: 0.6646 - accuracy: 0.58 - ETA: 1s - loss: 0.6646 - accuracy: 0.58 - ETA: 1s - loss: 0.6644 - accuracy: 0.58 - ETA: 1s - loss: 0.6644 - accuracy: 0.58 - ETA: 1s - loss: 0.6642 - accuracy: 0.58 - ETA: 1s - loss: 0.6643 - accuracy: 0.58 - ETA: 1s - loss: 0.6644 - accuracy: 0.58 - ETA: 1s - loss: 0.6641 - accuracy: 0.58 - ETA: 1s - loss: 0.6642 - accuracy: 0.58 - ETA: 1s - loss: 0.6641 - accuracy: 0.58 - ETA: 1s - loss: 0.6641 - accuracy: 0.58 - ETA: 1s - loss: 0.6641 - accuracy: 0.58 - ETA: 0s - loss: 0.6642 - accuracy: 0.58 - ETA: 0s - loss: 0.6642 - accuracy: 0.58 - ETA: 0s - loss: 0.6641 - accuracy: 0.58 - ETA: 0s - loss: 0.6641 - accuracy: 0.58 - ETA: 0s - loss: 0.6641 - accuracy: 0.58 - ETA: 0s - loss: 0.6641 - accuracy: 0.58 - ETA: 0s - loss: 0.6640 - accuracy: 0.58 - ETA: 0s - loss: 0.6640 - accuracy: 0.58 - ETA: 0s - loss: 0.6641 - accuracy: 0.58 - ETA: 0s - loss: 0.6641 - accuracy: 0.58 - ETA: 0s - loss: 0.6640 - accuracy: 0.58 - ETA: 0s - loss: 0.6640 - accuracy: 0.58 - 13s 325us/step - loss: 0.6640 - accuracy: 0.5818\n",
      "\n",
      "Epoch 00046: loss improved from 0.66533 to 0.66404, saving model to Resultados/7/Checkpoints/word2vec-46-0.6640.hdf5\n",
      "Epoch 47/50\n"
     ]
    },
    {
     "name": "stdout",
     "output_type": "stream",
     "text": [
      "40268/40268 [==============================] - ETA: 11s - loss: 0.6481 - accuracy: 0.605 - ETA: 11s - loss: 0.6590 - accuracy: 0.591 - ETA: 12s - loss: 0.6567 - accuracy: 0.596 - ETA: 11s - loss: 0.6650 - accuracy: 0.585 - ETA: 11s - loss: 0.6635 - accuracy: 0.582 - ETA: 11s - loss: 0.6677 - accuracy: 0.572 - ETA: 11s - loss: 0.6662 - accuracy: 0.574 - ETA: 11s - loss: 0.6655 - accuracy: 0.582 - ETA: 11s - loss: 0.6673 - accuracy: 0.580 - ETA: 11s - loss: 0.6653 - accuracy: 0.580 - ETA: 11s - loss: 0.6654 - accuracy: 0.581 - ETA: 11s - loss: 0.6657 - accuracy: 0.581 - ETA: 11s - loss: 0.6650 - accuracy: 0.580 - ETA: 10s - loss: 0.6634 - accuracy: 0.582 - ETA: 10s - loss: 0.6629 - accuracy: 0.585 - ETA: 10s - loss: 0.6634 - accuracy: 0.584 - ETA: 10s - loss: 0.6624 - accuracy: 0.587 - ETA: 10s - loss: 0.6627 - accuracy: 0.587 - ETA: 10s - loss: 0.6632 - accuracy: 0.587 - ETA: 10s - loss: 0.6610 - accuracy: 0.589 - ETA: 10s - loss: 0.6617 - accuracy: 0.587 - ETA: 10s - loss: 0.6618 - accuracy: 0.587 - ETA: 10s - loss: 0.6613 - accuracy: 0.588 - ETA: 10s - loss: 0.6613 - accuracy: 0.589 - ETA: 10s - loss: 0.6621 - accuracy: 0.589 - ETA: 10s - loss: 0.6615 - accuracy: 0.591 - ETA: 10s - loss: 0.6621 - accuracy: 0.590 - ETA: 10s - loss: 0.6620 - accuracy: 0.590 - ETA: 9s - loss: 0.6617 - accuracy: 0.591 - ETA: 9s - loss: 0.6613 - accuracy: 0.59 - ETA: 9s - loss: 0.6607 - accuracy: 0.59 - ETA: 9s - loss: 0.6614 - accuracy: 0.59 - ETA: 9s - loss: 0.6619 - accuracy: 0.59 - ETA: 9s - loss: 0.6618 - accuracy: 0.59 - ETA: 9s - loss: 0.6616 - accuracy: 0.59 - ETA: 9s - loss: 0.6619 - accuracy: 0.59 - ETA: 9s - loss: 0.6623 - accuracy: 0.59 - ETA: 9s - loss: 0.6622 - accuracy: 0.59 - ETA: 9s - loss: 0.6620 - accuracy: 0.59 - ETA: 9s - loss: 0.6617 - accuracy: 0.59 - ETA: 9s - loss: 0.6614 - accuracy: 0.59 - ETA: 9s - loss: 0.6609 - accuracy: 0.59 - ETA: 8s - loss: 0.6614 - accuracy: 0.59 - ETA: 8s - loss: 0.6620 - accuracy: 0.59 - ETA: 8s - loss: 0.6626 - accuracy: 0.59 - ETA: 8s - loss: 0.6627 - accuracy: 0.59 - ETA: 8s - loss: 0.6627 - accuracy: 0.59 - ETA: 8s - loss: 0.6627 - accuracy: 0.59 - ETA: 8s - loss: 0.6624 - accuracy: 0.59 - ETA: 8s - loss: 0.6625 - accuracy: 0.59 - ETA: 8s - loss: 0.6622 - accuracy: 0.59 - ETA: 8s - loss: 0.6617 - accuracy: 0.59 - ETA: 8s - loss: 0.6618 - accuracy: 0.59 - ETA: 8s - loss: 0.6617 - accuracy: 0.59 - ETA: 8s - loss: 0.6621 - accuracy: 0.59 - ETA: 7s - loss: 0.6621 - accuracy: 0.59 - ETA: 7s - loss: 0.6621 - accuracy: 0.59 - ETA: 7s - loss: 0.6622 - accuracy: 0.59 - ETA: 7s - loss: 0.6626 - accuracy: 0.59 - ETA: 7s - loss: 0.6623 - accuracy: 0.59 - ETA: 7s - loss: 0.6622 - accuracy: 0.59 - ETA: 7s - loss: 0.6623 - accuracy: 0.59 - ETA: 7s - loss: 0.6623 - accuracy: 0.59 - ETA: 7s - loss: 0.6629 - accuracy: 0.59 - ETA: 7s - loss: 0.6627 - accuracy: 0.59 - ETA: 7s - loss: 0.6627 - accuracy: 0.58 - ETA: 7s - loss: 0.6625 - accuracy: 0.59 - ETA: 7s - loss: 0.6626 - accuracy: 0.59 - ETA: 7s - loss: 0.6628 - accuracy: 0.58 - ETA: 6s - loss: 0.6629 - accuracy: 0.58 - ETA: 6s - loss: 0.6627 - accuracy: 0.58 - ETA: 6s - loss: 0.6626 - accuracy: 0.58 - ETA: 6s - loss: 0.6627 - accuracy: 0.58 - ETA: 6s - loss: 0.6626 - accuracy: 0.58 - ETA: 6s - loss: 0.6625 - accuracy: 0.58 - ETA: 6s - loss: 0.6628 - accuracy: 0.58 - ETA: 6s - loss: 0.6627 - accuracy: 0.58 - ETA: 6s - loss: 0.6627 - accuracy: 0.58 - ETA: 6s - loss: 0.6626 - accuracy: 0.58 - ETA: 6s - loss: 0.6625 - accuracy: 0.59 - ETA: 6s - loss: 0.6625 - accuracy: 0.59 - ETA: 6s - loss: 0.6623 - accuracy: 0.59 - ETA: 5s - loss: 0.6622 - accuracy: 0.59 - ETA: 5s - loss: 0.6623 - accuracy: 0.59 - ETA: 5s - loss: 0.6619 - accuracy: 0.59 - ETA: 5s - loss: 0.6622 - accuracy: 0.59 - ETA: 5s - loss: 0.6621 - accuracy: 0.59 - ETA: 5s - loss: 0.6620 - accuracy: 0.59 - ETA: 5s - loss: 0.6621 - accuracy: 0.59 - ETA: 5s - loss: 0.6621 - accuracy: 0.59 - ETA: 5s - loss: 0.6621 - accuracy: 0.58 - ETA: 5s - loss: 0.6621 - accuracy: 0.58 - ETA: 5s - loss: 0.6622 - accuracy: 0.58 - ETA: 5s - loss: 0.6623 - accuracy: 0.58 - ETA: 4s - loss: 0.6623 - accuracy: 0.58 - ETA: 4s - loss: 0.6623 - accuracy: 0.58 - ETA: 4s - loss: 0.6621 - accuracy: 0.58 - ETA: 4s - loss: 0.6622 - accuracy: 0.58 - ETA: 4s - loss: 0.6621 - accuracy: 0.58 - ETA: 4s - loss: 0.6622 - accuracy: 0.58 - ETA: 4s - loss: 0.6623 - accuracy: 0.58 - ETA: 4s - loss: 0.6625 - accuracy: 0.58 - ETA: 4s - loss: 0.6627 - accuracy: 0.58 - ETA: 4s - loss: 0.6627 - accuracy: 0.58 - ETA: 4s - loss: 0.6626 - accuracy: 0.58 - ETA: 4s - loss: 0.6624 - accuracy: 0.58 - ETA: 4s - loss: 0.6624 - accuracy: 0.58 - ETA: 3s - loss: 0.6624 - accuracy: 0.58 - ETA: 3s - loss: 0.6623 - accuracy: 0.58 - ETA: 3s - loss: 0.6624 - accuracy: 0.58 - ETA: 3s - loss: 0.6624 - accuracy: 0.58 - ETA: 3s - loss: 0.6624 - accuracy: 0.58 - ETA: 3s - loss: 0.6624 - accuracy: 0.58 - ETA: 3s - loss: 0.6625 - accuracy: 0.58 - ETA: 3s - loss: 0.6625 - accuracy: 0.58 - ETA: 3s - loss: 0.6625 - accuracy: 0.58 - ETA: 3s - loss: 0.6626 - accuracy: 0.58 - ETA: 3s - loss: 0.6627 - accuracy: 0.58 - ETA: 3s - loss: 0.6625 - accuracy: 0.58 - ETA: 2s - loss: 0.6626 - accuracy: 0.58 - ETA: 2s - loss: 0.6629 - accuracy: 0.58 - ETA: 2s - loss: 0.6631 - accuracy: 0.58 - ETA: 2s - loss: 0.6632 - accuracy: 0.58 - ETA: 2s - loss: 0.6630 - accuracy: 0.58 - ETA: 2s - loss: 0.6630 - accuracy: 0.58 - ETA: 2s - loss: 0.6630 - accuracy: 0.58 - ETA: 2s - loss: 0.6631 - accuracy: 0.58 - ETA: 2s - loss: 0.6633 - accuracy: 0.58 - ETA: 2s - loss: 0.6634 - accuracy: 0.58 - ETA: 2s - loss: 0.6633 - accuracy: 0.58 - ETA: 2s - loss: 0.6636 - accuracy: 0.58 - ETA: 2s - loss: 0.6637 - accuracy: 0.58 - ETA: 1s - loss: 0.6638 - accuracy: 0.58 - ETA: 1s - loss: 0.6640 - accuracy: 0.58 - ETA: 1s - loss: 0.6640 - accuracy: 0.58 - ETA: 1s - loss: 0.6639 - accuracy: 0.58 - ETA: 1s - loss: 0.6639 - accuracy: 0.58 - ETA: 1s - loss: 0.6639 - accuracy: 0.58 - ETA: 1s - loss: 0.6639 - accuracy: 0.58 - ETA: 1s - loss: 0.6638 - accuracy: 0.58 - ETA: 1s - loss: 0.6638 - accuracy: 0.58 - ETA: 1s - loss: 0.6639 - accuracy: 0.58 - ETA: 1s - loss: 0.6640 - accuracy: 0.58 - ETA: 1s - loss: 0.6639 - accuracy: 0.58 - ETA: 0s - loss: 0.6640 - accuracy: 0.58 - ETA: 0s - loss: 0.6639 - accuracy: 0.58 - ETA: 0s - loss: 0.6639 - accuracy: 0.58 - ETA: 0s - loss: 0.6639 - accuracy: 0.58 - ETA: 0s - loss: 0.6639 - accuracy: 0.58 - ETA: 0s - loss: 0.6640 - accuracy: 0.58 - ETA: 0s - loss: 0.6640 - accuracy: 0.58 - ETA: 0s - loss: 0.6639 - accuracy: 0.58 - ETA: 0s - loss: 0.6641 - accuracy: 0.58 - ETA: 0s - loss: 0.6641 - accuracy: 0.58 - ETA: 0s - loss: 0.6641 - accuracy: 0.58 - ETA: 0s - loss: 0.6641 - accuracy: 0.58 - ETA: 0s - loss: 0.6640 - accuracy: 0.58 - 13s 312us/step - loss: 0.6639 - accuracy: 0.5849\n",
      "\n",
      "Epoch 00047: loss improved from 0.66404 to 0.66392, saving model to Resultados/7/Checkpoints/word2vec-47-0.6639.hdf5\n",
      "Epoch 48/50\n"
     ]
    },
    {
     "name": "stdout",
     "output_type": "stream",
     "text": [
      "40268/40268 [==============================] - ETA: 11s - loss: 0.6528 - accuracy: 0.589 - ETA: 11s - loss: 0.6640 - accuracy: 0.582 - ETA: 11s - loss: 0.6603 - accuracy: 0.579 - ETA: 11s - loss: 0.6596 - accuracy: 0.581 - ETA: 11s - loss: 0.6632 - accuracy: 0.581 - ETA: 11s - loss: 0.6661 - accuracy: 0.571 - ETA: 11s - loss: 0.6633 - accuracy: 0.573 - ETA: 11s - loss: 0.6635 - accuracy: 0.579 - ETA: 11s - loss: 0.6643 - accuracy: 0.579 - ETA: 11s - loss: 0.6632 - accuracy: 0.579 - ETA: 11s - loss: 0.6620 - accuracy: 0.582 - ETA: 11s - loss: 0.6628 - accuracy: 0.579 - ETA: 11s - loss: 0.6636 - accuracy: 0.576 - ETA: 11s - loss: 0.6633 - accuracy: 0.577 - ETA: 11s - loss: 0.6621 - accuracy: 0.578 - ETA: 11s - loss: 0.6607 - accuracy: 0.580 - ETA: 11s - loss: 0.6620 - accuracy: 0.579 - ETA: 11s - loss: 0.6615 - accuracy: 0.581 - ETA: 11s - loss: 0.6616 - accuracy: 0.582 - ETA: 11s - loss: 0.6618 - accuracy: 0.583 - ETA: 11s - loss: 0.6622 - accuracy: 0.581 - ETA: 11s - loss: 0.6623 - accuracy: 0.582 - ETA: 11s - loss: 0.6625 - accuracy: 0.582 - ETA: 11s - loss: 0.6631 - accuracy: 0.580 - ETA: 11s - loss: 0.6626 - accuracy: 0.582 - ETA: 11s - loss: 0.6632 - accuracy: 0.580 - ETA: 10s - loss: 0.6636 - accuracy: 0.579 - ETA: 10s - loss: 0.6627 - accuracy: 0.581 - ETA: 10s - loss: 0.6620 - accuracy: 0.583 - ETA: 10s - loss: 0.6620 - accuracy: 0.584 - ETA: 10s - loss: 0.6619 - accuracy: 0.585 - ETA: 10s - loss: 0.6610 - accuracy: 0.587 - ETA: 10s - loss: 0.6612 - accuracy: 0.587 - ETA: 10s - loss: 0.6609 - accuracy: 0.588 - ETA: 10s - loss: 0.6606 - accuracy: 0.588 - ETA: 10s - loss: 0.6615 - accuracy: 0.587 - ETA: 10s - loss: 0.6618 - accuracy: 0.586 - ETA: 10s - loss: 0.6625 - accuracy: 0.584 - ETA: 9s - loss: 0.6627 - accuracy: 0.584 - ETA: 9s - loss: 0.6627 - accuracy: 0.58 - ETA: 9s - loss: 0.6624 - accuracy: 0.58 - ETA: 9s - loss: 0.6622 - accuracy: 0.58 - ETA: 9s - loss: 0.6618 - accuracy: 0.58 - ETA: 9s - loss: 0.6616 - accuracy: 0.58 - ETA: 9s - loss: 0.6613 - accuracy: 0.58 - ETA: 9s - loss: 0.6615 - accuracy: 0.58 - ETA: 9s - loss: 0.6614 - accuracy: 0.58 - ETA: 9s - loss: 0.6618 - accuracy: 0.58 - ETA: 8s - loss: 0.6615 - accuracy: 0.58 - ETA: 8s - loss: 0.6614 - accuracy: 0.58 - ETA: 8s - loss: 0.6616 - accuracy: 0.58 - ETA: 8s - loss: 0.6616 - accuracy: 0.58 - ETA: 8s - loss: 0.6617 - accuracy: 0.58 - ETA: 8s - loss: 0.6615 - accuracy: 0.58 - ETA: 8s - loss: 0.6616 - accuracy: 0.58 - ETA: 8s - loss: 0.6621 - accuracy: 0.58 - ETA: 8s - loss: 0.6620 - accuracy: 0.58 - ETA: 8s - loss: 0.6625 - accuracy: 0.58 - ETA: 8s - loss: 0.6625 - accuracy: 0.58 - ETA: 8s - loss: 0.6623 - accuracy: 0.58 - ETA: 8s - loss: 0.6621 - accuracy: 0.58 - ETA: 7s - loss: 0.6622 - accuracy: 0.58 - ETA: 7s - loss: 0.6620 - accuracy: 0.58 - ETA: 7s - loss: 0.6616 - accuracy: 0.58 - ETA: 7s - loss: 0.6612 - accuracy: 0.58 - ETA: 7s - loss: 0.6610 - accuracy: 0.58 - ETA: 7s - loss: 0.6615 - accuracy: 0.58 - ETA: 7s - loss: 0.6615 - accuracy: 0.58 - ETA: 7s - loss: 0.6619 - accuracy: 0.58 - ETA: 7s - loss: 0.6620 - accuracy: 0.58 - ETA: 7s - loss: 0.6617 - accuracy: 0.58 - ETA: 7s - loss: 0.6617 - accuracy: 0.58 - ETA: 7s - loss: 0.6619 - accuracy: 0.58 - ETA: 7s - loss: 0.6615 - accuracy: 0.58 - ETA: 6s - loss: 0.6615 - accuracy: 0.58 - ETA: 6s - loss: 0.6615 - accuracy: 0.58 - ETA: 6s - loss: 0.6613 - accuracy: 0.58 - ETA: 6s - loss: 0.6611 - accuracy: 0.58 - ETA: 6s - loss: 0.6609 - accuracy: 0.58 - ETA: 6s - loss: 0.6605 - accuracy: 0.58 - ETA: 6s - loss: 0.6603 - accuracy: 0.58 - ETA: 6s - loss: 0.6602 - accuracy: 0.58 - ETA: 6s - loss: 0.6605 - accuracy: 0.58 - ETA: 6s - loss: 0.6606 - accuracy: 0.58 - ETA: 6s - loss: 0.6606 - accuracy: 0.58 - ETA: 6s - loss: 0.6607 - accuracy: 0.58 - ETA: 5s - loss: 0.6609 - accuracy: 0.58 - ETA: 5s - loss: 0.6608 - accuracy: 0.58 - ETA: 5s - loss: 0.6607 - accuracy: 0.58 - ETA: 5s - loss: 0.6606 - accuracy: 0.58 - ETA: 5s - loss: 0.6605 - accuracy: 0.58 - ETA: 5s - loss: 0.6605 - accuracy: 0.58 - ETA: 5s - loss: 0.6604 - accuracy: 0.58 - ETA: 5s - loss: 0.6602 - accuracy: 0.58 - ETA: 5s - loss: 0.6599 - accuracy: 0.58 - ETA: 5s - loss: 0.6600 - accuracy: 0.58 - ETA: 5s - loss: 0.6600 - accuracy: 0.58 - ETA: 5s - loss: 0.6601 - accuracy: 0.58 - ETA: 4s - loss: 0.6597 - accuracy: 0.58 - ETA: 4s - loss: 0.6598 - accuracy: 0.58 - ETA: 4s - loss: 0.6601 - accuracy: 0.58 - ETA: 4s - loss: 0.6597 - accuracy: 0.58 - ETA: 4s - loss: 0.6598 - accuracy: 0.58 - ETA: 4s - loss: 0.6598 - accuracy: 0.58 - ETA: 4s - loss: 0.6599 - accuracy: 0.58 - ETA: 4s - loss: 0.6600 - accuracy: 0.58 - ETA: 4s - loss: 0.6600 - accuracy: 0.58 - ETA: 4s - loss: 0.6601 - accuracy: 0.58 - ETA: 4s - loss: 0.6600 - accuracy: 0.58 - ETA: 4s - loss: 0.6601 - accuracy: 0.58 - ETA: 3s - loss: 0.6601 - accuracy: 0.58 - ETA: 3s - loss: 0.6602 - accuracy: 0.58 - ETA: 3s - loss: 0.6602 - accuracy: 0.58 - ETA: 3s - loss: 0.6603 - accuracy: 0.58 - ETA: 3s - loss: 0.6603 - accuracy: 0.58 - ETA: 3s - loss: 0.6604 - accuracy: 0.58 - ETA: 3s - loss: 0.6606 - accuracy: 0.58 - ETA: 3s - loss: 0.6606 - accuracy: 0.58 - ETA: 3s - loss: 0.6607 - accuracy: 0.58 - ETA: 3s - loss: 0.6609 - accuracy: 0.58 - ETA: 3s - loss: 0.6609 - accuracy: 0.58 - ETA: 3s - loss: 0.6609 - accuracy: 0.58 - ETA: 2s - loss: 0.6610 - accuracy: 0.58 - ETA: 2s - loss: 0.6610 - accuracy: 0.58 - ETA: 2s - loss: 0.6611 - accuracy: 0.58 - ETA: 2s - loss: 0.6610 - accuracy: 0.58 - ETA: 2s - loss: 0.6610 - accuracy: 0.58 - ETA: 2s - loss: 0.6611 - accuracy: 0.58 - ETA: 2s - loss: 0.6611 - accuracy: 0.58 - ETA: 2s - loss: 0.6610 - accuracy: 0.58 - ETA: 2s - loss: 0.6611 - accuracy: 0.58 - ETA: 2s - loss: 0.6612 - accuracy: 0.58 - ETA: 2s - loss: 0.6612 - accuracy: 0.58 - ETA: 2s - loss: 0.6611 - accuracy: 0.58 - ETA: 1s - loss: 0.6613 - accuracy: 0.58 - ETA: 1s - loss: 0.6612 - accuracy: 0.58 - ETA: 1s - loss: 0.6612 - accuracy: 0.58 - ETA: 1s - loss: 0.6612 - accuracy: 0.58 - ETA: 1s - loss: 0.6610 - accuracy: 0.58 - ETA: 1s - loss: 0.6612 - accuracy: 0.58 - ETA: 1s - loss: 0.6613 - accuracy: 0.58 - ETA: 1s - loss: 0.6614 - accuracy: 0.58 - ETA: 1s - loss: 0.6614 - accuracy: 0.58 - ETA: 1s - loss: 0.6614 - accuracy: 0.58 - ETA: 1s - loss: 0.6615 - accuracy: 0.58 - ETA: 0s - loss: 0.6615 - accuracy: 0.58 - ETA: 0s - loss: 0.6614 - accuracy: 0.58 - ETA: 0s - loss: 0.6612 - accuracy: 0.58 - ETA: 0s - loss: 0.6613 - accuracy: 0.58 - ETA: 0s - loss: 0.6613 - accuracy: 0.58 - ETA: 0s - loss: 0.6613 - accuracy: 0.58 - ETA: 0s - loss: 0.6615 - accuracy: 0.58 - ETA: 0s - loss: 0.6616 - accuracy: 0.58 - ETA: 0s - loss: 0.6616 - accuracy: 0.58 - ETA: 0s - loss: 0.6617 - accuracy: 0.58 - ETA: 0s - loss: 0.6617 - accuracy: 0.58 - ETA: 0s - loss: 0.6617 - accuracy: 0.58 - 14s 336us/step - loss: 0.6618 - accuracy: 0.5853\n",
      "\n",
      "Epoch 00048: loss improved from 0.66392 to 0.66175, saving model to Resultados/7/Checkpoints/word2vec-48-0.6618.hdf5\n",
      "Epoch 49/50\n"
     ]
    },
    {
     "name": "stdout",
     "output_type": "stream",
     "text": [
      "40268/40268 [==============================] - ETA: 11s - loss: 0.6576 - accuracy: 0.570 - ETA: 11s - loss: 0.6709 - accuracy: 0.556 - ETA: 11s - loss: 0.6641 - accuracy: 0.575 - ETA: 12s - loss: 0.6663 - accuracy: 0.566 - ETA: 12s - loss: 0.6625 - accuracy: 0.573 - ETA: 12s - loss: 0.6632 - accuracy: 0.580 - ETA: 12s - loss: 0.6643 - accuracy: 0.576 - ETA: 12s - loss: 0.6659 - accuracy: 0.577 - ETA: 12s - loss: 0.6657 - accuracy: 0.582 - ETA: 12s - loss: 0.6658 - accuracy: 0.583 - ETA: 12s - loss: 0.6664 - accuracy: 0.584 - ETA: 12s - loss: 0.6644 - accuracy: 0.585 - ETA: 12s - loss: 0.6651 - accuracy: 0.584 - ETA: 12s - loss: 0.6632 - accuracy: 0.586 - ETA: 11s - loss: 0.6623 - accuracy: 0.587 - ETA: 11s - loss: 0.6624 - accuracy: 0.585 - ETA: 11s - loss: 0.6635 - accuracy: 0.583 - ETA: 11s - loss: 0.6630 - accuracy: 0.584 - ETA: 11s - loss: 0.6635 - accuracy: 0.584 - ETA: 11s - loss: 0.6633 - accuracy: 0.583 - ETA: 11s - loss: 0.6629 - accuracy: 0.583 - ETA: 11s - loss: 0.6625 - accuracy: 0.584 - ETA: 11s - loss: 0.6628 - accuracy: 0.582 - ETA: 11s - loss: 0.6629 - accuracy: 0.582 - ETA: 10s - loss: 0.6631 - accuracy: 0.582 - ETA: 10s - loss: 0.6638 - accuracy: 0.582 - ETA: 10s - loss: 0.6644 - accuracy: 0.582 - ETA: 10s - loss: 0.6641 - accuracy: 0.580 - ETA: 10s - loss: 0.6646 - accuracy: 0.579 - ETA: 10s - loss: 0.6649 - accuracy: 0.578 - ETA: 10s - loss: 0.6652 - accuracy: 0.578 - ETA: 10s - loss: 0.6647 - accuracy: 0.578 - ETA: 10s - loss: 0.6646 - accuracy: 0.579 - ETA: 10s - loss: 0.6646 - accuracy: 0.578 - ETA: 10s - loss: 0.6646 - accuracy: 0.579 - ETA: 10s - loss: 0.6643 - accuracy: 0.580 - ETA: 9s - loss: 0.6645 - accuracy: 0.580 - ETA: 9s - loss: 0.6648 - accuracy: 0.57 - ETA: 9s - loss: 0.6650 - accuracy: 0.57 - ETA: 9s - loss: 0.6652 - accuracy: 0.57 - ETA: 9s - loss: 0.6651 - accuracy: 0.57 - ETA: 9s - loss: 0.6651 - accuracy: 0.57 - ETA: 9s - loss: 0.6650 - accuracy: 0.57 - ETA: 9s - loss: 0.6647 - accuracy: 0.57 - ETA: 9s - loss: 0.6651 - accuracy: 0.57 - ETA: 9s - loss: 0.6645 - accuracy: 0.57 - ETA: 9s - loss: 0.6643 - accuracy: 0.57 - ETA: 9s - loss: 0.6640 - accuracy: 0.57 - ETA: 8s - loss: 0.6640 - accuracy: 0.57 - ETA: 8s - loss: 0.6640 - accuracy: 0.57 - ETA: 8s - loss: 0.6641 - accuracy: 0.57 - ETA: 8s - loss: 0.6641 - accuracy: 0.58 - ETA: 8s - loss: 0.6637 - accuracy: 0.58 - ETA: 8s - loss: 0.6638 - accuracy: 0.58 - ETA: 8s - loss: 0.6636 - accuracy: 0.58 - ETA: 8s - loss: 0.6637 - accuracy: 0.58 - ETA: 8s - loss: 0.6637 - accuracy: 0.58 - ETA: 8s - loss: 0.6632 - accuracy: 0.58 - ETA: 8s - loss: 0.6629 - accuracy: 0.58 - ETA: 8s - loss: 0.6633 - accuracy: 0.58 - ETA: 7s - loss: 0.6632 - accuracy: 0.58 - ETA: 7s - loss: 0.6630 - accuracy: 0.58 - ETA: 7s - loss: 0.6628 - accuracy: 0.58 - ETA: 7s - loss: 0.6627 - accuracy: 0.58 - ETA: 7s - loss: 0.6628 - accuracy: 0.58 - ETA: 7s - loss: 0.6625 - accuracy: 0.58 - ETA: 7s - loss: 0.6623 - accuracy: 0.58 - ETA: 7s - loss: 0.6621 - accuracy: 0.58 - ETA: 7s - loss: 0.6621 - accuracy: 0.58 - ETA: 7s - loss: 0.6624 - accuracy: 0.58 - ETA: 7s - loss: 0.6622 - accuracy: 0.58 - ETA: 7s - loss: 0.6625 - accuracy: 0.58 - ETA: 6s - loss: 0.6623 - accuracy: 0.58 - ETA: 6s - loss: 0.6621 - accuracy: 0.58 - ETA: 6s - loss: 0.6622 - accuracy: 0.58 - ETA: 6s - loss: 0.6622 - accuracy: 0.58 - ETA: 6s - loss: 0.6622 - accuracy: 0.58 - ETA: 6s - loss: 0.6623 - accuracy: 0.58 - ETA: 6s - loss: 0.6622 - accuracy: 0.58 - ETA: 6s - loss: 0.6621 - accuracy: 0.58 - ETA: 6s - loss: 0.6621 - accuracy: 0.58 - ETA: 6s - loss: 0.6621 - accuracy: 0.58 - ETA: 6s - loss: 0.6622 - accuracy: 0.58 - ETA: 6s - loss: 0.6623 - accuracy: 0.58 - ETA: 5s - loss: 0.6623 - accuracy: 0.58 - ETA: 5s - loss: 0.6621 - accuracy: 0.58 - ETA: 5s - loss: 0.6621 - accuracy: 0.58 - ETA: 5s - loss: 0.6622 - accuracy: 0.58 - ETA: 5s - loss: 0.6621 - accuracy: 0.58 - ETA: 5s - loss: 0.6618 - accuracy: 0.58 - ETA: 5s - loss: 0.6619 - accuracy: 0.58 - ETA: 5s - loss: 0.6619 - accuracy: 0.58 - ETA: 5s - loss: 0.6620 - accuracy: 0.58 - ETA: 5s - loss: 0.6618 - accuracy: 0.58 - ETA: 5s - loss: 0.6618 - accuracy: 0.58 - ETA: 5s - loss: 0.6618 - accuracy: 0.58 - ETA: 4s - loss: 0.6617 - accuracy: 0.58 - ETA: 4s - loss: 0.6618 - accuracy: 0.58 - ETA: 4s - loss: 0.6620 - accuracy: 0.58 - ETA: 4s - loss: 0.6623 - accuracy: 0.58 - ETA: 4s - loss: 0.6624 - accuracy: 0.58 - ETA: 4s - loss: 0.6624 - accuracy: 0.58 - ETA: 4s - loss: 0.6625 - accuracy: 0.58 - ETA: 4s - loss: 0.6624 - accuracy: 0.58 - ETA: 4s - loss: 0.6626 - accuracy: 0.58 - ETA: 4s - loss: 0.6622 - accuracy: 0.58 - ETA: 4s - loss: 0.6622 - accuracy: 0.58 - ETA: 4s - loss: 0.6622 - accuracy: 0.58 - ETA: 3s - loss: 0.6622 - accuracy: 0.58 - ETA: 3s - loss: 0.6621 - accuracy: 0.58 - ETA: 3s - loss: 0.6623 - accuracy: 0.58 - ETA: 3s - loss: 0.6620 - accuracy: 0.58 - ETA: 3s - loss: 0.6624 - accuracy: 0.58 - ETA: 3s - loss: 0.6624 - accuracy: 0.58 - ETA: 3s - loss: 0.6624 - accuracy: 0.58 - ETA: 3s - loss: 0.6623 - accuracy: 0.58 - ETA: 3s - loss: 0.6621 - accuracy: 0.58 - ETA: 3s - loss: 0.6617 - accuracy: 0.58 - ETA: 3s - loss: 0.6617 - accuracy: 0.58 - ETA: 3s - loss: 0.6617 - accuracy: 0.58 - ETA: 2s - loss: 0.6620 - accuracy: 0.58 - ETA: 2s - loss: 0.6622 - accuracy: 0.58 - ETA: 2s - loss: 0.6622 - accuracy: 0.58 - ETA: 2s - loss: 0.6622 - accuracy: 0.58 - ETA: 2s - loss: 0.6621 - accuracy: 0.58 - ETA: 2s - loss: 0.6619 - accuracy: 0.58 - ETA: 2s - loss: 0.6619 - accuracy: 0.58 - ETA: 2s - loss: 0.6618 - accuracy: 0.58 - ETA: 2s - loss: 0.6618 - accuracy: 0.58 - ETA: 2s - loss: 0.6619 - accuracy: 0.58 - ETA: 2s - loss: 0.6619 - accuracy: 0.58 - ETA: 2s - loss: 0.6620 - accuracy: 0.58 - ETA: 1s - loss: 0.6618 - accuracy: 0.58 - ETA: 1s - loss: 0.6619 - accuracy: 0.58 - ETA: 1s - loss: 0.6618 - accuracy: 0.58 - ETA: 1s - loss: 0.6617 - accuracy: 0.58 - ETA: 1s - loss: 0.6618 - accuracy: 0.58 - ETA: 1s - loss: 0.6617 - accuracy: 0.58 - ETA: 1s - loss: 0.6617 - accuracy: 0.58 - ETA: 1s - loss: 0.6616 - accuracy: 0.58 - ETA: 1s - loss: 0.6619 - accuracy: 0.58 - ETA: 1s - loss: 0.6619 - accuracy: 0.58 - ETA: 1s - loss: 0.6619 - accuracy: 0.58 - ETA: 1s - loss: 0.6620 - accuracy: 0.58 - ETA: 0s - loss: 0.6620 - accuracy: 0.58 - ETA: 0s - loss: 0.6620 - accuracy: 0.58 - ETA: 0s - loss: 0.6620 - accuracy: 0.58 - ETA: 0s - loss: 0.6619 - accuracy: 0.58 - ETA: 0s - loss: 0.6620 - accuracy: 0.58 - ETA: 0s - loss: 0.6620 - accuracy: 0.58 - ETA: 0s - loss: 0.6621 - accuracy: 0.58 - ETA: 0s - loss: 0.6621 - accuracy: 0.58 - ETA: 0s - loss: 0.6624 - accuracy: 0.58 - ETA: 0s - loss: 0.6625 - accuracy: 0.58 - ETA: 0s - loss: 0.6626 - accuracy: 0.58 - ETA: 0s - loss: 0.6626 - accuracy: 0.58 - ETA: 0s - loss: 0.6626 - accuracy: 0.58 - 13s 316us/step - loss: 0.6626 - accuracy: 0.5825\n",
      "\n",
      "Epoch 00049: loss did not improve from 0.66175\n",
      "Epoch 50/50\n"
     ]
    },
    {
     "name": "stdout",
     "output_type": "stream",
     "text": [
      "40268/40268 [==============================] - ETA: 11s - loss: 0.6965 - accuracy: 0.492 - ETA: 11s - loss: 0.6756 - accuracy: 0.552 - ETA: 11s - loss: 0.6766 - accuracy: 0.559 - ETA: 11s - loss: 0.6747 - accuracy: 0.564 - ETA: 11s - loss: 0.6720 - accuracy: 0.568 - ETA: 11s - loss: 0.6686 - accuracy: 0.575 - ETA: 11s - loss: 0.6649 - accuracy: 0.578 - ETA: 11s - loss: 0.6623 - accuracy: 0.583 - ETA: 11s - loss: 0.6626 - accuracy: 0.585 - ETA: 11s - loss: 0.6622 - accuracy: 0.587 - ETA: 11s - loss: 0.6626 - accuracy: 0.584 - ETA: 11s - loss: 0.6633 - accuracy: 0.582 - ETA: 11s - loss: 0.6613 - accuracy: 0.584 - ETA: 11s - loss: 0.6588 - accuracy: 0.588 - ETA: 11s - loss: 0.6594 - accuracy: 0.587 - ETA: 11s - loss: 0.6600 - accuracy: 0.587 - ETA: 10s - loss: 0.6610 - accuracy: 0.585 - ETA: 10s - loss: 0.6612 - accuracy: 0.584 - ETA: 10s - loss: 0.6606 - accuracy: 0.585 - ETA: 10s - loss: 0.6602 - accuracy: 0.585 - ETA: 10s - loss: 0.6597 - accuracy: 0.585 - ETA: 10s - loss: 0.6603 - accuracy: 0.584 - ETA: 10s - loss: 0.6605 - accuracy: 0.584 - ETA: 10s - loss: 0.6612 - accuracy: 0.583 - ETA: 10s - loss: 0.6610 - accuracy: 0.582 - ETA: 10s - loss: 0.6607 - accuracy: 0.584 - ETA: 10s - loss: 0.6618 - accuracy: 0.583 - ETA: 10s - loss: 0.6616 - accuracy: 0.583 - ETA: 10s - loss: 0.6617 - accuracy: 0.583 - ETA: 9s - loss: 0.6614 - accuracy: 0.584 - ETA: 9s - loss: 0.6613 - accuracy: 0.58 - ETA: 9s - loss: 0.6618 - accuracy: 0.58 - ETA: 9s - loss: 0.6614 - accuracy: 0.58 - ETA: 9s - loss: 0.6612 - accuracy: 0.58 - ETA: 9s - loss: 0.6610 - accuracy: 0.58 - ETA: 9s - loss: 0.6608 - accuracy: 0.58 - ETA: 9s - loss: 0.6599 - accuracy: 0.58 - ETA: 9s - loss: 0.6601 - accuracy: 0.58 - ETA: 9s - loss: 0.6597 - accuracy: 0.58 - ETA: 9s - loss: 0.6603 - accuracy: 0.58 - ETA: 9s - loss: 0.6600 - accuracy: 0.58 - ETA: 9s - loss: 0.6606 - accuracy: 0.58 - ETA: 8s - loss: 0.6607 - accuracy: 0.58 - ETA: 8s - loss: 0.6601 - accuracy: 0.58 - ETA: 8s - loss: 0.6596 - accuracy: 0.58 - ETA: 8s - loss: 0.6593 - accuracy: 0.58 - ETA: 8s - loss: 0.6596 - accuracy: 0.58 - ETA: 8s - loss: 0.6598 - accuracy: 0.58 - ETA: 8s - loss: 0.6600 - accuracy: 0.58 - ETA: 8s - loss: 0.6600 - accuracy: 0.58 - ETA: 8s - loss: 0.6595 - accuracy: 0.58 - ETA: 8s - loss: 0.6598 - accuracy: 0.58 - ETA: 8s - loss: 0.6602 - accuracy: 0.58 - ETA: 8s - loss: 0.6601 - accuracy: 0.58 - ETA: 8s - loss: 0.6602 - accuracy: 0.58 - ETA: 7s - loss: 0.6601 - accuracy: 0.58 - ETA: 7s - loss: 0.6599 - accuracy: 0.58 - ETA: 7s - loss: 0.6599 - accuracy: 0.58 - ETA: 7s - loss: 0.6599 - accuracy: 0.58 - ETA: 7s - loss: 0.6596 - accuracy: 0.58 - ETA: 7s - loss: 0.6595 - accuracy: 0.58 - ETA: 7s - loss: 0.6594 - accuracy: 0.58 - ETA: 7s - loss: 0.6597 - accuracy: 0.58 - ETA: 7s - loss: 0.6598 - accuracy: 0.58 - ETA: 7s - loss: 0.6599 - accuracy: 0.58 - ETA: 7s - loss: 0.6596 - accuracy: 0.58 - ETA: 7s - loss: 0.6598 - accuracy: 0.58 - ETA: 7s - loss: 0.6597 - accuracy: 0.58 - ETA: 6s - loss: 0.6597 - accuracy: 0.58 - ETA: 6s - loss: 0.6598 - accuracy: 0.58 - ETA: 6s - loss: 0.6596 - accuracy: 0.58 - ETA: 6s - loss: 0.6596 - accuracy: 0.59 - ETA: 6s - loss: 0.6591 - accuracy: 0.59 - ETA: 6s - loss: 0.6592 - accuracy: 0.59 - ETA: 6s - loss: 0.6592 - accuracy: 0.59 - ETA: 6s - loss: 0.6593 - accuracy: 0.59 - ETA: 6s - loss: 0.6595 - accuracy: 0.59 - ETA: 6s - loss: 0.6595 - accuracy: 0.59 - ETA: 6s - loss: 0.6594 - accuracy: 0.59 - ETA: 6s - loss: 0.6598 - accuracy: 0.58 - ETA: 5s - loss: 0.6597 - accuracy: 0.59 - ETA: 5s - loss: 0.6597 - accuracy: 0.59 - ETA: 5s - loss: 0.6593 - accuracy: 0.59 - ETA: 5s - loss: 0.6594 - accuracy: 0.59 - ETA: 5s - loss: 0.6593 - accuracy: 0.59 - ETA: 5s - loss: 0.6591 - accuracy: 0.59 - ETA: 5s - loss: 0.6589 - accuracy: 0.59 - ETA: 5s - loss: 0.6591 - accuracy: 0.59 - ETA: 5s - loss: 0.6594 - accuracy: 0.59 - ETA: 5s - loss: 0.6595 - accuracy: 0.59 - ETA: 5s - loss: 0.6596 - accuracy: 0.59 - ETA: 5s - loss: 0.6598 - accuracy: 0.59 - ETA: 4s - loss: 0.6595 - accuracy: 0.59 - ETA: 4s - loss: 0.6596 - accuracy: 0.59 - ETA: 4s - loss: 0.6594 - accuracy: 0.59 - ETA: 4s - loss: 0.6595 - accuracy: 0.59 - ETA: 4s - loss: 0.6596 - accuracy: 0.59 - ETA: 4s - loss: 0.6597 - accuracy: 0.58 - ETA: 4s - loss: 0.6594 - accuracy: 0.59 - ETA: 4s - loss: 0.6595 - accuracy: 0.59 - ETA: 4s - loss: 0.6596 - accuracy: 0.59 - ETA: 4s - loss: 0.6595 - accuracy: 0.58 - ETA: 4s - loss: 0.6594 - accuracy: 0.58 - ETA: 4s - loss: 0.6596 - accuracy: 0.58 - ETA: 4s - loss: 0.6598 - accuracy: 0.58 - ETA: 3s - loss: 0.6598 - accuracy: 0.58 - ETA: 3s - loss: 0.6599 - accuracy: 0.58 - ETA: 3s - loss: 0.6600 - accuracy: 0.58 - ETA: 3s - loss: 0.6601 - accuracy: 0.58 - ETA: 3s - loss: 0.6601 - accuracy: 0.58 - ETA: 3s - loss: 0.6602 - accuracy: 0.58 - ETA: 3s - loss: 0.6603 - accuracy: 0.58 - ETA: 3s - loss: 0.6604 - accuracy: 0.58 - ETA: 3s - loss: 0.6606 - accuracy: 0.58 - ETA: 3s - loss: 0.6604 - accuracy: 0.58 - ETA: 3s - loss: 0.6603 - accuracy: 0.58 - ETA: 3s - loss: 0.6603 - accuracy: 0.58 - ETA: 2s - loss: 0.6602 - accuracy: 0.58 - ETA: 2s - loss: 0.6603 - accuracy: 0.58 - ETA: 2s - loss: 0.6602 - accuracy: 0.58 - ETA: 2s - loss: 0.6603 - accuracy: 0.58 - ETA: 2s - loss: 0.6602 - accuracy: 0.58 - ETA: 2s - loss: 0.6603 - accuracy: 0.58 - ETA: 2s - loss: 0.6602 - accuracy: 0.58 - ETA: 2s - loss: 0.6602 - accuracy: 0.58 - ETA: 2s - loss: 0.6603 - accuracy: 0.58 - ETA: 2s - loss: 0.6602 - accuracy: 0.58 - ETA: 2s - loss: 0.6602 - accuracy: 0.58 - ETA: 2s - loss: 0.6603 - accuracy: 0.58 - ETA: 2s - loss: 0.6603 - accuracy: 0.58 - ETA: 2s - loss: 0.6603 - accuracy: 0.58 - ETA: 1s - loss: 0.6605 - accuracy: 0.58 - ETA: 1s - loss: 0.6606 - accuracy: 0.58 - ETA: 1s - loss: 0.6605 - accuracy: 0.58 - ETA: 1s - loss: 0.6607 - accuracy: 0.58 - ETA: 1s - loss: 0.6608 - accuracy: 0.58 - ETA: 1s - loss: 0.6608 - accuracy: 0.58 - ETA: 1s - loss: 0.6608 - accuracy: 0.58 - ETA: 1s - loss: 0.6606 - accuracy: 0.58 - ETA: 1s - loss: 0.6608 - accuracy: 0.58 - ETA: 1s - loss: 0.6608 - accuracy: 0.58 - ETA: 1s - loss: 0.6608 - accuracy: 0.58 - ETA: 1s - loss: 0.6607 - accuracy: 0.58 - ETA: 1s - loss: 0.6607 - accuracy: 0.58 - ETA: 0s - loss: 0.6608 - accuracy: 0.58 - ETA: 0s - loss: 0.6608 - accuracy: 0.58 - ETA: 0s - loss: 0.6608 - accuracy: 0.58 - ETA: 0s - loss: 0.6608 - accuracy: 0.58 - ETA: 0s - loss: 0.6610 - accuracy: 0.58 - ETA: 0s - loss: 0.6610 - accuracy: 0.58 - ETA: 0s - loss: 0.6611 - accuracy: 0.58 - ETA: 0s - loss: 0.6613 - accuracy: 0.58 - ETA: 0s - loss: 0.6612 - accuracy: 0.58 - ETA: 0s - loss: 0.6611 - accuracy: 0.58 - ETA: 0s - loss: 0.6611 - accuracy: 0.58 - ETA: 0s - loss: 0.6610 - accuracy: 0.58 - ETA: 0s - loss: 0.6611 - accuracy: 0.58 - 12s 303us/step - loss: 0.6612 - accuracy: 0.5874\n",
      "\n",
      "Epoch 00050: loss improved from 0.66175 to 0.66115, saving model to Resultados/7/Checkpoints/word2vec-50-0.6612.hdf5\n",
      "Model: \"sequential_11\"\n",
      "_________________________________________________________________\n",
      "Layer (type)                 Output Shape              Param #   \n",
      "=================================================================\n",
      "lstm_21 (LSTM)               (None, 1, 10)             12440     \n",
      "_________________________________________________________________\n",
      "dropout_11 (Dropout)         (None, 1, 10)             0         \n",
      "_________________________________________________________________\n",
      "lstm_22 (LSTM)               (None, 512)               1071104   \n",
      "_________________________________________________________________\n",
      "dense_11 (Dense)             (None, 1)                 513       \n",
      "=================================================================\n",
      "Total params: 1,084,057\n",
      "Trainable params: 1,084,057\n",
      "Non-trainable params: 0\n",
      "_________________________________________________________________\n",
      "time: 10min 19s\n"
     ]
    }
   ],
   "source": [
    "# fit the model\n",
    "model.fit(reshape_x_train, y_train,\n",
    "          epochs=best_bayes_params['nb_epochs'], \n",
    "          batch_size=best_bayes_params['batch_size'], callbacks=callbacks_list)\n",
    "\n",
    "\n",
    "model.save(folder + '/keras_model.h5')\n",
    "model.summary()"
   ]
  },
  {
   "cell_type": "code",
   "execution_count": 25,
   "metadata": {
    "colab": {
     "base_uri": "https://localhost:8080/",
     "height": 34
    },
    "colab_type": "code",
    "executionInfo": {
     "elapsed": 1165,
     "status": "ok",
     "timestamp": 1589755595730,
     "user": {
      "displayName": "Melina D'Alessandro",
      "photoUrl": "https://lh4.googleusercontent.com/-AU_sxBOTu8w/AAAAAAAAAAI/AAAAAAAAAR8/nO0zS5J_9Wo/s64/photo.jpg",
      "userId": "09190509655785270416"
     },
     "user_tz": 180
    },
    "id": "mdsR4Qngv5Q1",
    "outputId": "433bbcf6-d6eb-44c1-a1bb-afee72ac0ffb"
   },
   "outputs": [
    {
     "name": "stdout",
     "output_type": "stream",
     "text": [
      "Accuracy: 0.515132\n",
      "time: 1.7 s\n"
     ]
    }
   ],
   "source": [
    "# evaluate the model\n",
    "loss, accuracy = model.evaluate(reshape_x_test, y_test, verbose=0)\n",
    "print('Accuracy: %f' % (accuracy))"
   ]
  },
  {
   "cell_type": "code",
   "execution_count": 26,
   "metadata": {},
   "outputs": [
    {
     "data": {
      "application/javascript": [
       "Jupyter.notebook.save_checkpoint()\n"
      ],
      "text/plain": [
       "<IPython.core.display.Javascript object>"
      ]
     },
     "metadata": {},
     "output_type": "display_data"
    },
    {
     "name": "stdout",
     "output_type": "stream",
     "text": [
      "time: 292 ms\n"
     ]
    }
   ],
   "source": [
    "%%javascript\n",
    "Jupyter.notebook.save_checkpoint()"
   ]
  },
  {
   "cell_type": "code",
   "execution_count": 27,
   "metadata": {},
   "outputs": [
    {
     "name": "stdout",
     "output_type": "stream",
     "text": [
      "time: 1min\n"
     ]
    }
   ],
   "source": [
    "from time import sleep\n",
    "sleep(60)"
   ]
  },
  {
   "cell_type": "code",
   "execution_count": 28,
   "metadata": {},
   "outputs": [
    {
     "data": {
      "text/plain": [
       "'Resultados/7/RNN_Model_Base.ipynb'"
      ]
     },
     "execution_count": 28,
     "metadata": {},
     "output_type": "execute_result"
    },
    {
     "name": "stdout",
     "output_type": "stream",
     "text": [
      "time: 9 ms\n"
     ]
    }
   ],
   "source": [
    "from shutil import copyfile\n",
    "copyfile('RNN_Model_Base.ipynb', folder + '/RNN_Model_Base.ipynb' )"
   ]
  },
  {
   "cell_type": "code",
   "execution_count": null,
   "metadata": {},
   "outputs": [],
   "source": [
    "!pip install tensorflow-gpu\n"
   ]
  },
  {
   "cell_type": "code",
   "execution_count": 37,
   "metadata": {},
   "outputs": [
    {
     "data": {
      "text/plain": [
       "[]"
      ]
     },
     "execution_count": 37,
     "metadata": {},
     "output_type": "execute_result"
    },
    {
     "name": "stdout",
     "output_type": "stream",
     "text": [
      "time: 547 ms\n"
     ]
    }
   ],
   "source": [
    "from tensorflow.python.client import device_lib\n",
    "\n",
    "def get_available_gpus():\n",
    "    local_device_protos = device_lib.list_local_devices()\n",
    "    return [x.name for x in local_device_protos if x.device_type == 'GPU']\n",
    "get_available_gpus()"
   ]
  },
  {
   "cell_type": "markdown",
   "metadata": {},
   "source": [
    "### Embedding Suma"
   ]
  },
  {
   "cell_type": "code",
   "execution_count": 29,
   "metadata": {
    "colab": {},
    "colab_type": "code",
    "id": "DVoOQQrAbpy2"
   },
   "outputs": [
    {
     "name": "stdout",
     "output_type": "stream",
     "text": [
      "time: 146 ms\n"
     ]
    }
   ],
   "source": [
    "# # Selecciono el archivo con el que se corre el modelo\n",
    "# data = embeddings_sum_individual"
   ]
  },
  {
   "cell_type": "code",
   "execution_count": 30,
   "metadata": {
    "colab": {},
    "colab_type": "code",
    "id": "iGzSZUEzbvLs"
   },
   "outputs": [
    {
     "name": "stdout",
     "output_type": "stream",
     "text": [
      "time: 115 ms\n"
     ]
    }
   ],
   "source": [
    "# # Se separa en train y test\n",
    "# x_train = data.drop([data.columns[0],\"Top\",\"Label\", \"Date\"], axis=1)[:num_training]\n",
    "# x_test = data.drop([data.columns[0],\"Top\",'Label', 'Date'], axis=1)[num_training:]\n",
    "# y_train = data[\"Label\"].values[:num_training]\n",
    "# y_test = data[\"Label\"].values[num_training:]"
   ]
  },
  {
   "cell_type": "code",
   "execution_count": 31,
   "metadata": {
    "colab": {
     "base_uri": "https://localhost:8080/",
     "height": 34
    },
    "colab_type": "code",
    "executionInfo": {
     "elapsed": 915,
     "status": "ok",
     "timestamp": 1589753651752,
     "user": {
      "displayName": "Melina D'Alessandro",
      "photoUrl": "https://lh4.googleusercontent.com/-AU_sxBOTu8w/AAAAAAAAAAI/AAAAAAAAAR8/nO0zS5J_9Wo/s64/photo.jpg",
      "userId": "09190509655785270416"
     },
     "user_tz": 180
    },
    "id": "EdyQX-X3mEde",
    "outputId": "3f319356-30f7-414a-8ad8-c5997b17efcd",
    "scrolled": true
   },
   "outputs": [
    {
     "name": "stdout",
     "output_type": "stream",
     "text": [
      "time: 159 ms\n"
     ]
    }
   ],
   "source": [
    "# x_train_array = x_train.to_numpy()\n",
    "# reshape_x_train = x_train_array.reshape(40268, 1, 300)\n",
    "# reshape_x_train.shape"
   ]
  },
  {
   "cell_type": "code",
   "execution_count": 32,
   "metadata": {
    "colab": {
     "base_uri": "https://localhost:8080/",
     "height": 34
    },
    "colab_type": "code",
    "executionInfo": {
     "elapsed": 1207,
     "status": "ok",
     "timestamp": 1589753654795,
     "user": {
      "displayName": "Melina D'Alessandro",
      "photoUrl": "https://lh4.googleusercontent.com/-AU_sxBOTu8w/AAAAAAAAAAI/AAAAAAAAAR8/nO0zS5J_9Wo/s64/photo.jpg",
      "userId": "09190509655785270416"
     },
     "user_tz": 180
    },
    "id": "TiRmnmDvsagi",
    "outputId": "1fcf3a9b-7bd2-4981-e024-828e7b11aa1b"
   },
   "outputs": [
    {
     "name": "stdout",
     "output_type": "stream",
     "text": [
      "time: 240 ms\n"
     ]
    }
   ],
   "source": [
    "# x_test_array = x_test.to_numpy()\n",
    "# reshape_x_test = x_test_array.reshape(9450, 1, 300)\n",
    "# reshape_x_test.shape"
   ]
  },
  {
   "cell_type": "code",
   "execution_count": 33,
   "metadata": {
    "colab": {},
    "colab_type": "code",
    "id": "DJZBoIl-nFDg",
    "scrolled": true
   },
   "outputs": [
    {
     "name": "stdout",
     "output_type": "stream",
     "text": [
      "time: 208 ms\n"
     ]
    }
   ],
   "source": [
    "# from numpy.testing import assert_allclose\n",
    "# from keras.models import Sequential, load_model\n",
    "# from keras.layers import LSTM, Dropout, Dense\n",
    "# from keras.callbacks import ModelCheckpoint"
   ]
  },
  {
   "cell_type": "code",
   "execution_count": 34,
   "metadata": {
    "colab": {},
    "colab_type": "code",
    "id": "JIKq7z8tnIWl"
   },
   "outputs": [
    {
     "name": "stdout",
     "output_type": "stream",
     "text": [
      "time: 135 ms\n"
     ]
    }
   ],
   "source": [
    "# n_units = 10\n",
    "\n",
    "# model = Sequential()\n",
    "# model.add(LSTM(n_units, input_shape=(1,300), return_sequences=True))\n",
    "# model.add(Dropout(0.2))\n",
    "# model.add(LSTM(n_units, return_sequences=False))\n",
    "# model.add(Dense(1, activation='sigmoid'))\n",
    "# #model.compile(loss='mean_squared_error', optimizer='adam')\n",
    "# # compile the model\n",
    "# model.compile(optimizer='adam', loss='binary_crossentropy', metrics=['accuracy'])\n",
    "# # define the checkpoint\n",
    "# filepath=\"word2vec-{epoch:02d}-{loss:.4f}.hdf5\"\n",
    "# checkpoint = ModelCheckpoint(filepath, monitor='loss', verbose=1, save_best_only=True, mode='min')\n",
    "# callbacks_list = [checkpoint]"
   ]
  },
  {
   "cell_type": "code",
   "execution_count": 35,
   "metadata": {
    "colab": {
     "base_uri": "https://localhost:8080/",
     "height": 1000
    },
    "colab_type": "code",
    "executionInfo": {
     "elapsed": 3944,
     "status": "ok",
     "timestamp": 1589755592715,
     "user": {
      "displayName": "Melina D'Alessandro",
      "photoUrl": "https://lh4.googleusercontent.com/-AU_sxBOTu8w/AAAAAAAAAAI/AAAAAAAAAR8/nO0zS5J_9Wo/s64/photo.jpg",
      "userId": "09190509655785270416"
     },
     "user_tz": 180
    },
    "id": "JsHgNLFnnTLN",
    "outputId": "4c22910d-c7b2-4dff-eb32-15c2574174ff"
   },
   "outputs": [
    {
     "name": "stdout",
     "output_type": "stream",
     "text": [
      "time: 107 ms\n"
     ]
    }
   ],
   "source": [
    "# # fit the model\n",
    "# model.fit(reshape_x_train, y_train, epochs=50, batch_size=500, callbacks=callbacks_list)\n",
    "# model.summary()"
   ]
  },
  {
   "cell_type": "code",
   "execution_count": 36,
   "metadata": {
    "colab": {
     "base_uri": "https://localhost:8080/",
     "height": 34
    },
    "colab_type": "code",
    "executionInfo": {
     "elapsed": 1165,
     "status": "ok",
     "timestamp": 1589755595730,
     "user": {
      "displayName": "Melina D'Alessandro",
      "photoUrl": "https://lh4.googleusercontent.com/-AU_sxBOTu8w/AAAAAAAAAAI/AAAAAAAAAR8/nO0zS5J_9Wo/s64/photo.jpg",
      "userId": "09190509655785270416"
     },
     "user_tz": 180
    },
    "id": "mdsR4Qngv5Q1",
    "outputId": "433bbcf6-d6eb-44c1-a1bb-afee72ac0ffb"
   },
   "outputs": [
    {
     "name": "stdout",
     "output_type": "stream",
     "text": [
      "time: 123 ms\n"
     ]
    }
   ],
   "source": [
    "# # evaluate the model\n",
    "# loss, accuracy = model.evaluate(reshape_x_test, y_test, verbose=0)\n",
    "# print('Accuracy: %f' % (accuracy))"
   ]
  }
 ],
 "metadata": {
  "colab": {
   "authorship_tag": "ABX9TyNhtKTbzPEwz7PyaEe0FkIO",
   "collapsed_sections": [],
   "name": "RNN - Meli.ipynb",
   "provenance": []
  },
  "kernelspec": {
   "display_name": "Python 3",
   "language": "python",
   "name": "python3"
  },
  "language_info": {
   "codemirror_mode": {
    "name": "ipython",
    "version": 3
   },
   "file_extension": ".py",
   "mimetype": "text/x-python",
   "name": "python",
   "nbconvert_exporter": "python",
   "pygments_lexer": "ipython3",
   "version": "3.7.3"
  }
 },
 "nbformat": 4,
 "nbformat_minor": 1
}
