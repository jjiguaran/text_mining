{
  "nbformat": 4,
  "nbformat_minor": 0,
  "metadata": {
    "colab": {
      "name": "Copia de Topics_noticias_reddit_edgar.ipynb",
      "provenance": [],
      "include_colab_link": true
    },
    "kernelspec": {
      "display_name": "Python 3",
      "language": "python",
      "name": "python3"
    },
    "language_info": {
      "codemirror_mode": {
        "name": "ipython",
        "version": 3
      },
      "file_extension": ".py",
      "mimetype": "text/x-python",
      "name": "python",
      "nbconvert_exporter": "python",
      "pygments_lexer": "ipython3",
      "version": "3.7.6"
    }
  },
  "cells": [
    {
      "cell_type": "markdown",
      "metadata": {
        "id": "view-in-github",
        "colab_type": "text"
      },
      "source": [
        "<a href=\"https://colab.research.google.com/github/jjiguaran/text_mining/blob/master/SVM_Model.ipynb\" target=\"_parent\"><img src=\"https://colab.research.google.com/assets/colab-badge.svg\" alt=\"Open In Colab\"/></a>"
      ]
    },
    {
      "cell_type": "code",
      "metadata": {
        "colab_type": "code",
        "id": "g1-GFktFeJM5",
        "colab": {}
      },
      "source": [
        "# Importar librerias\n",
        "import pandas as pd\n",
        "import numpy as np\n",
        "\n",
        "from sklearn.svm import SVC\n",
        "from sklearn.metrics import roc_auc_score\n",
        "from datetime import date\n"
      ],
      "execution_count": 0,
      "outputs": []
    },
    {
      "cell_type": "code",
      "metadata": {
        "colab_type": "code",
        "id": "1UeNEB6FdahW",
        "colab": {}
      },
      "source": [
        "#Importar los datasets\n",
        "url_embeddings_average = 'https://raw.githubusercontent.com/jjiguaran/text_mining/master/Data/embeddings_average.csv'\n",
        "url_embeddings_sum = 'https://raw.githubusercontent.com/jjiguaran/text_mining/master/Data/embeddings_sum.csv'\n",
        "\n",
        "embeddings_average = pd.read_csv(url_embeddings_average)\n",
        "embeddings_sum = pd.read_csv(url_embeddings_sum)"
      ],
      "execution_count": 0,
      "outputs": []
    },
    {
      "cell_type": "code",
      "metadata": {
        "id": "q_CB18EcuLTW",
        "colab_type": "code",
        "outputId": "acf1ba08-2e50-46ac-f13c-76ac4644762a",
        "colab": {
          "base_uri": "https://localhost:8080/",
          "height": 34
        }
      },
      "source": [
        "# Selecciono la fecha para la cual hago el corte de train y test\n",
        "training_end = pd.to_datetime(\"2014-12-31\")\n",
        "num_training = len(embeddings_average[pd.to_datetime(embeddings_average[\"Date\"]) <= training_end])\n",
        "num_training"
      ],
      "execution_count": 0,
      "outputs": [
        {
          "output_type": "execute_result",
          "data": {
            "text/plain": [
              "1611"
            ]
          },
          "metadata": {
            "tags": []
          },
          "execution_count": 47
        }
      ]
    },
    {
      "cell_type": "markdown",
      "metadata": {
        "id": "wiTxjHu33sJi",
        "colab_type": "text"
      },
      "source": [
        "Usando Embeddings con promedio"
      ]
    },
    {
      "cell_type": "code",
      "metadata": {
        "id": "PGlvS_CUx1cr",
        "colab_type": "code",
        "colab": {}
      },
      "source": [
        "# Selecciono el archivo con el que se corre el modelo\n",
        "data = embeddings_average"
      ],
      "execution_count": 0,
      "outputs": []
    },
    {
      "cell_type": "code",
      "metadata": {
        "id": "XJx-YIQ52Vaz",
        "colab_type": "code",
        "colab": {}
      },
      "source": [
        "# Se separa en train y test\n",
        "X_train = data.drop(['Label', 'Date'], axis=1)[:num_training]\n",
        "X_test = data.drop(['Label', 'Date'], axis=1)[num_training:]\n",
        "y_train = data[\"Label\"].values[:num_training]\n",
        "y_test = data[\"Label\"].values[num_training:]"
      ],
      "execution_count": 0,
      "outputs": []
    },
    {
      "cell_type": "code",
      "metadata": {
        "id": "KA5kPk82v78t",
        "colab_type": "code",
        "outputId": "d119ee35-1756-476a-d2a1-915b28f6ceed",
        "colab": {
          "base_uri": "https://localhost:8080/",
          "height": 34
        }
      },
      "source": [
        "# Clasificador entrenado con train\n",
        "clf = SVC(probability=True, kernel='rbf')\n",
        "clf.fit(X_train, y_train)\n",
        "\n",
        "# Predicciones con test\n",
        "predictions = clf.predict_proba(X_test)\n",
        "print('ROC-AUC yields ' + str(roc_auc_score(y_test, predictions[:,1])))"
      ],
      "execution_count": 0,
      "outputs": [
        {
          "output_type": "stream",
          "text": [
            "ROC-AUC yields 0.529681899641577\n"
          ],
          "name": "stdout"
        }
      ]
    },
    {
      "cell_type": "markdown",
      "metadata": {
        "id": "s9Uew0KW3leE",
        "colab_type": "text"
      },
      "source": [
        "Usando Embeddings Suma"
      ]
    },
    {
      "cell_type": "code",
      "metadata": {
        "id": "LlQd0Sdg3buA",
        "colab_type": "code",
        "colab": {}
      },
      "source": [
        "# Selecciono el archivo con el que se corre el modelo\n",
        "data = embeddings_sum"
      ],
      "execution_count": 0,
      "outputs": []
    },
    {
      "cell_type": "code",
      "metadata": {
        "id": "vG7yw-pQ35L4",
        "colab_type": "code",
        "colab": {}
      },
      "source": [
        "# Se separa en train y test\n",
        "X_train = data.drop(['Label', 'Date'], axis=1)[:num_training]\n",
        "X_test = data.drop(['Label', 'Date'], axis=1)[num_training:]\n",
        "y_train = data[\"Label\"].values[:num_training]\n",
        "y_test = data[\"Label\"].values[num_training:]"
      ],
      "execution_count": 0,
      "outputs": []
    },
    {
      "cell_type": "code",
      "metadata": {
        "id": "ColUMo5B36FP",
        "colab_type": "code",
        "outputId": "284310ac-227c-44f6-9687-f43aecaf3477",
        "colab": {
          "base_uri": "https://localhost:8080/",
          "height": 34
        }
      },
      "source": [
        "# Clasificador entrenado con train\n",
        "clf = SVC(probability=True, kernel='rbf')\n",
        "clf.fit(X_train, y_train)\n",
        "\n",
        "# Predicciones con test\n",
        "predictions = clf.predict_proba(X_test)\n",
        "print('ROC-AUC yields ' + str(roc_auc_score(y_test, predictions[:,1])))"
      ],
      "execution_count": 0,
      "outputs": [
        {
          "output_type": "stream",
          "text": [
            "ROC-AUC yields 0.5480790770609318\n"
          ],
          "name": "stdout"
        }
      ]
    }
  ]
}